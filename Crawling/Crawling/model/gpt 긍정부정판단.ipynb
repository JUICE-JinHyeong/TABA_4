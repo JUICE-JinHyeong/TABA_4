{
 "cells": [
  {
   "cell_type": "code",
   "execution_count": 10,
   "id": "8f6e9661",
   "metadata": {
    "scrolled": true
   },
   "outputs": [
    {
     "name": "stderr",
     "output_type": "stream",
     "text": [
      "Setting `pad_token_id` to `eos_token_id`:50256 for open-end generation.\n"
     ]
    },
    {
     "name": "stdout",
     "output_type": "stream",
     "text": [
      "판단 불가\n"
     ]
    }
   ],
   "source": [
    "from transformers import GPT2Tokenizer, GPT2LMHeadModel\n",
    "\n",
    "# GPT 모델과 토크나이저 초기화\n",
    "model_name = \"distilgpt2\"\n",
    "tokenizer = GPT2Tokenizer.from_pretrained(model_name)\n",
    "model = GPT2LMHeadModel.from_pretrained(model_name)\n",
    "\n",
    "# 텍스트 분류 함수 정의\n",
    "def classify_sentiment(text):\n",
    "    inputs = tokenizer.encode(text, return_tensors='pt')\n",
    "    outputs = model.generate(inputs, max_length=50, num_return_sequences=1)\n",
    "    generated_text = tokenizer.decode(outputs[0], skip_special_tokens=True)\n",
    "    \n",
    "    # 예측된 텍스트로 긍정/부정 판단\n",
    "    if generated_text == \"긍정\":\n",
    "        sentiment = \"긍정문\"\n",
    "    elif generated_text == \"부정\":\n",
    "        sentiment = \"부정문\"\n",
    "    else:\n",
    "        sentiment = \"판단 불가\"\n",
    "    \n",
    "    return sentiment\n",
    "\n",
    "# 예시 문장으로 긍정/부정 판단 수행\n",
    "example_text = \"이 영화 정말 재미있었어!\"\n",
    "sentiment_result = classify_sentiment(example_text)\n",
    "print(sentiment_result)  # \"긍정문\" 출력\n"
   ]
  },
  {
   "cell_type": "code",
   "execution_count": 2,
   "id": "09ec9e19",
   "metadata": {
    "collapsed": true
   },
   "outputs": [
    {
     "name": "stdout",
     "output_type": "stream",
     "text": [
      "Collecting transformers==4.11.3\n",
      "  Downloading transformers-4.11.3-py3-none-any.whl (2.9 MB)\n",
      "     ---------------------------------------- 2.9/2.9 MB 10.8 MB/s eta 0:00:00\n",
      "Collecting tokenizers<0.11,>=0.10.1\n",
      "  Downloading tokenizers-0.10.3-cp39-cp39-win_amd64.whl (2.0 MB)\n",
      "     ---------------------------------------- 2.0/2.0 MB 10.6 MB/s eta 0:00:00\n",
      "Requirement already satisfied: requests in d:\\anaconda3\\lib\\site-packages (from transformers==4.11.3) (2.28.1)\n",
      "Requirement already satisfied: pyyaml>=5.1 in d:\\anaconda3\\lib\\site-packages (from transformers==4.11.3) (6.0)\n",
      "Requirement already satisfied: packaging>=20.0 in d:\\anaconda3\\lib\\site-packages (from transformers==4.11.3) (21.3)\n",
      "Requirement already satisfied: filelock in d:\\anaconda3\\lib\\site-packages (from transformers==4.11.3) (3.6.0)\n",
      "Requirement already satisfied: tqdm>=4.27 in d:\\anaconda3\\lib\\site-packages (from transformers==4.11.3) (4.64.1)\n",
      "Requirement already satisfied: huggingface-hub>=0.0.17 in d:\\anaconda3\\lib\\site-packages (from transformers==4.11.3) (0.14.1)\n",
      "Requirement already satisfied: regex!=2019.12.17 in d:\\anaconda3\\lib\\site-packages (from transformers==4.11.3) (2022.7.9)\n",
      "Collecting sacremoses\n",
      "  Using cached sacremoses-0.0.53.tar.gz (880 kB)\n",
      "  Preparing metadata (setup.py): started\n",
      "  Preparing metadata (setup.py): finished with status 'done'\n",
      "Requirement already satisfied: numpy>=1.17 in d:\\anaconda3\\lib\\site-packages (from transformers==4.11.3) (1.23.5)\n",
      "Requirement already satisfied: fsspec in d:\\anaconda3\\lib\\site-packages (from huggingface-hub>=0.0.17->transformers==4.11.3) (2022.7.1)\n",
      "Requirement already satisfied: typing-extensions>=3.7.4.3 in d:\\anaconda3\\lib\\site-packages (from huggingface-hub>=0.0.17->transformers==4.11.3) (4.3.0)\n",
      "Requirement already satisfied: pyparsing!=3.0.5,>=2.0.2 in d:\\anaconda3\\lib\\site-packages (from packaging>=20.0->transformers==4.11.3) (3.0.9)\n",
      "Requirement already satisfied: colorama in d:\\anaconda3\\lib\\site-packages (from tqdm>=4.27->transformers==4.11.3) (0.4.5)\n",
      "Requirement already satisfied: idna<4,>=2.5 in d:\\anaconda3\\lib\\site-packages (from requests->transformers==4.11.3) (3.4)\n",
      "Requirement already satisfied: certifi>=2017.4.17 in d:\\anaconda3\\lib\\site-packages (from requests->transformers==4.11.3) (2023.5.7)\n",
      "Requirement already satisfied: charset-normalizer<3,>=2 in d:\\anaconda3\\lib\\site-packages (from requests->transformers==4.11.3) (2.0.4)\n",
      "Requirement already satisfied: urllib3<1.27,>=1.21.1 in d:\\anaconda3\\lib\\site-packages (from requests->transformers==4.11.3) (1.26.12)\n",
      "Requirement already satisfied: six in d:\\anaconda3\\lib\\site-packages (from sacremoses->transformers==4.11.3) (1.16.0)\n",
      "Requirement already satisfied: click in d:\\anaconda3\\lib\\site-packages (from sacremoses->transformers==4.11.3) (8.0.4)\n",
      "Requirement already satisfied: joblib in d:\\anaconda3\\lib\\site-packages (from sacremoses->transformers==4.11.3) (1.1.1)\n",
      "Building wheels for collected packages: sacremoses\n",
      "  Building wheel for sacremoses (setup.py): started\n",
      "  Building wheel for sacremoses (setup.py): finished with status 'done'\n",
      "  Created wheel for sacremoses: filename=sacremoses-0.0.53-py3-none-any.whl size=895241 sha256=7955fd9c93431d23ae942b773b41a97fa25450eec7bdcdf272e135f93bf60163\n",
      "  Stored in directory: c:\\users\\pigiraffe0\\appdata\\local\\pip\\cache\\wheels\\12\\1c\\3d\\46cf06718d63a32ff798a89594b61e7f345ab6b36d909ce033\n",
      "Successfully built sacremoses\n",
      "Installing collected packages: tokenizers, sacremoses, transformers\n",
      "Successfully installed sacremoses-0.0.53 tokenizers-0.10.3 transformers-4.11.3\n",
      "Note: you may need to restart the kernel to use updated packages.\n"
     ]
    },
    {
     "name": "stderr",
     "output_type": "stream",
     "text": [
      "WARNING: Ignoring invalid distribution -5py (d:\\anaconda3\\lib\\site-packages)\n",
      "WARNING: Ignoring invalid distribution -ensorflow (d:\\anaconda3\\lib\\site-packages)\n",
      "WARNING: Ignoring invalid distribution -5py (d:\\anaconda3\\lib\\site-packages)\n",
      "WARNING: Ignoring invalid distribution -ensorflow (d:\\anaconda3\\lib\\site-packages)\n",
      "WARNING: Ignoring invalid distribution -5py (d:\\anaconda3\\lib\\site-packages)\n",
      "WARNING: Ignoring invalid distribution -ensorflow (d:\\anaconda3\\lib\\site-packages)\n",
      "WARNING: Ignoring invalid distribution -5py (d:\\anaconda3\\lib\\site-packages)\n",
      "WARNING: Ignoring invalid distribution -ensorflow (d:\\anaconda3\\lib\\site-packages)\n",
      "WARNING: Ignoring invalid distribution -5py (d:\\anaconda3\\lib\\site-packages)\n",
      "WARNING: Ignoring invalid distribution -ensorflow (d:\\anaconda3\\lib\\site-packages)\n",
      "WARNING: Ignoring invalid distribution -5py (d:\\anaconda3\\lib\\site-packages)\n",
      "WARNING: Ignoring invalid distribution -ensorflow (d:\\anaconda3\\lib\\site-packages)\n",
      "WARNING: Ignoring invalid distribution -5py (d:\\anaconda3\\lib\\site-packages)\n",
      "WARNING: Ignoring invalid distribution -ensorflow (d:\\anaconda3\\lib\\site-packages)\n",
      "WARNING: Ignoring invalid distribution -5py (d:\\anaconda3\\lib\\site-packages)\n",
      "WARNING: Ignoring invalid distribution -ensorflow (d:\\anaconda3\\lib\\site-packages)\n",
      "WARNING: Ignoring invalid distribution -5py (d:\\anaconda3\\lib\\site-packages)\n",
      "WARNING: Ignoring invalid distribution -ensorflow (d:\\anaconda3\\lib\\site-packages)\n"
     ]
    }
   ],
   "source": [
    "!pip install transformers==4.11.3"
   ]
  },
  {
   "cell_type": "code",
   "execution_count": 9,
   "id": "f170a285",
   "metadata": {},
   "outputs": [
    {
     "name": "stdout",
     "output_type": "stream",
     "text": [
      "1.7.3\n",
      "1.23.5\n"
     ]
    }
   ],
   "source": [
    "import scipy\n",
    "import numpy\n",
    "print(scipy.__version__)\n",
    "print(numpy.__version__)"
   ]
  },
  {
   "cell_type": "code",
   "execution_count": 8,
   "id": "220ba575",
   "metadata": {},
   "outputs": [
    {
     "name": "stdout",
     "output_type": "stream",
     "text": [
      "Requirement already satisfied: scipy in d:\\anaconda3\\lib\\site-packages (1.8.0)\n",
      "Collecting scipy\n",
      "  Downloading scipy-1.10.1-cp39-cp39-win_amd64.whl (42.5 MB)\n",
      "     ---------------------------------------- 42.5/42.5 MB 9.2 MB/s eta 0:00:00\n",
      "Requirement already satisfied: numpy<1.27.0,>=1.19.5 in d:\\anaconda3\\lib\\site-packages (from scipy) (1.23.5)\n",
      "Installing collected packages: scipy\n",
      "  Attempting uninstall: scipy\n",
      "    Found existing installation: scipy 1.8.0\n",
      "    Uninstalling scipy-1.8.0:\n"
     ]
    },
    {
     "name": "stderr",
     "output_type": "stream",
     "text": [
      "WARNING: Ignoring invalid distribution -5py (d:\\anaconda3\\lib\\site-packages)\n",
      "WARNING: Ignoring invalid distribution -ensorflow (d:\\anaconda3\\lib\\site-packages)\n",
      "WARNING: Ignoring invalid distribution -5py (d:\\anaconda3\\lib\\site-packages)\n",
      "WARNING: Ignoring invalid distribution -ensorflow (d:\\anaconda3\\lib\\site-packages)\n",
      "WARNING: Ignoring invalid distribution -5py (d:\\anaconda3\\lib\\site-packages)\n",
      "WARNING: Ignoring invalid distribution -ensorflow (d:\\anaconda3\\lib\\site-packages)\n",
      "    WARNING: Ignoring invalid distribution -5py (d:\\anaconda3\\lib\\site-packages)\n",
      "    WARNING: Ignoring invalid distribution -ensorflow (d:\\anaconda3\\lib\\site-packages)\n",
      "ERROR: Could not install packages due to an OSError: [WinError 5] 액세스가 거부되었습니다: 'd:\\\\anaconda3\\\\lib\\\\site-packages\\\\scipy\\\\_lib\\\\_ccallback_c.cp39-win_amd64.pyd'\n",
      "Consider using the `--user` option or check the permissions.\n",
      "\n",
      "WARNING: Ignoring invalid distribution -5py (d:\\anaconda3\\lib\\site-packages)\n",
      "WARNING: Ignoring invalid distribution -ensorflow (d:\\anaconda3\\lib\\site-packages)\n",
      "WARNING: Ignoring invalid distribution -5py (d:\\anaconda3\\lib\\site-packages)\n",
      "WARNING: Ignoring invalid distribution -ensorflow (d:\\anaconda3\\lib\\site-packages)\n",
      "WARNING: Ignoring invalid distribution -5py (d:\\anaconda3\\lib\\site-packages)\n",
      "WARNING: Ignoring invalid distribution -ensorflow (d:\\anaconda3\\lib\\site-packages)\n"
     ]
    }
   ],
   "source": [
    "!pip install --upgrade scipy"
   ]
  }
 ],
 "metadata": {
  "kernelspec": {
   "display_name": "Python 3 (ipykernel)",
   "language": "python",
   "name": "python3"
  },
  "language_info": {
   "codemirror_mode": {
    "name": "ipython",
    "version": 3
   },
   "file_extension": ".py",
   "mimetype": "text/x-python",
   "name": "python",
   "nbconvert_exporter": "python",
   "pygments_lexer": "ipython3",
   "version": "3.9.13"
  }
 },
 "nbformat": 4,
 "nbformat_minor": 5
}
