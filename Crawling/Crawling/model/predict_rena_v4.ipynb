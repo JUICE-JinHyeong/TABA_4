{
 "cells": [
  {
   "cell_type": "code",
   "execution_count": 5,
   "id": "bcc12d96-8f6b-42dd-9575-b472a19ce048",
   "metadata": {
    "tags": []
   },
   "outputs": [],
   "source": [
    "import re\n",
    "import pandas as pd\n",
    "import numpy as np \n",
    "# import matplotlib.pyplot as plt\n",
    "# import urllib.request\n",
    "from collections import Counter\n",
    "from konlpy.tag import Mecab\n",
    "from sklearn.model_selection import train_test_split\n",
    "from tensorflow.keras.preprocessing.text import Tokenizer\n",
    "from tensorflow.keras.preprocessing.sequence import pad_sequences\n",
    "from konlpy.tag import Okt\n",
    "from tensorflow.keras.models import load_model\n",
    "import json\n",
    "import pickle"
   ]
  },
  {
   "cell_type": "code",
   "execution_count": 10,
   "id": "fe81e134-8555-4435-bcf1-0a12c2285a8a",
   "metadata": {
    "tags": []
   },
   "outputs": [],
   "source": [
    "class psng_predict_all_v3:\n",
    "    def __init__(self, lst):\n",
    "        self.lst = lst\n",
    "        path = ''\n",
    "        self.loaded_model = load_model(f'{path}posneg_no_oneword_v3.h5')\n",
    "        # 저장된 tokenizer 객체 로드\n",
    "        with open(f'{path}tokenizer.pickle', 'rb') as f:\n",
    "            self.tokenizer = pickle.load(f)\n",
    "        self.max_len = 250\n",
    "\n",
    "    def preprocessing(self):\n",
    "        okt = Okt()\n",
    "        R_lst = self.lst\n",
    "        R_frm = pd.DataFrame(R_lst , columns = ['REVIEW'])\n",
    "        R_frm['REVIEW'] = R_frm['REVIEW'].str.replace(\"[^ㄱ-ㅎㅏ-ㅣ가-힣 ]\", \"\", regex=True)\n",
    "        R_frm['REVIEW'].replace('', np.nan, inplace=True)\n",
    "        R_frm['REVIEW'] = R_frm['REVIEW'].astype(str)\n",
    "        stopwords = ['도', '는', '다', '의', '가', '이', '은',\n",
    "                     '한', '에', '하', '고', '을', '를', '인', '듯',\n",
    "                     '과', '와', '네', '들', '듯', '지', '임', '게',\n",
    "                     '는', '이', '했', '슴', '음', '것', '거', '로',\n",
    "                     '들', '거', '곳', '분', '원', '더', '왜', '해',\n",
    "                     '수', '할', '그', '함', '돈', '번', '두', '개',\n",
    "                     '건', '내', '저', '만', '갈', '걸', '제', '명',\n",
    "                     '분',\n",
    "                     '인데', '이가', '했었', '해서',\n",
    "                     '습니다', '했는데', '입니다']\n",
    "\n",
    "        okt = Okt()\n",
    "        # R_frm['tokenized'] = R_frm['리뷰'].apply(okt.pos)\n",
    "        R_frm['tokenized'] = R_frm['REVIEW'].apply(lambda x: okt.pos(x, norm=True, stem=True))\n",
    "        R_frm['tokenized'] = R_frm['tokenized'].apply(\n",
    "            lambda x: [word for word, shape in x if shape in ['Verb', 'Adjective', 'Noun', 'VerbPrefix'] if word not in stopwords])\n",
    "        R_pred = R_frm['tokenized'].values\n",
    "        return R_pred\n",
    "    \n",
    "    def predict_test(self):\n",
    "        R_pred = self.preprocessing()\n",
    "        max_len = self.max_len\n",
    "        tokenizer = self.tokenizer\n",
    "        pred = tokenizer.texts_to_sequences(R_pred)\n",
    "        pred = pad_sequences(pred, maxlen=max_len)\n",
    "        # 에측 정확도(%)\n",
    "        score = self.loaded_model.predict(pred)\n",
    "        return pred\n",
    "    \n",
    "    def predict(self):\n",
    "        R_pred = self.preprocessing()\n",
    "        max_len = self.max_len\n",
    "        tokenizer = self.tokenizer\n",
    "        pred = tokenizer.texts_to_sequences(R_pred)\n",
    "        pred = pad_sequences(pred, maxlen=max_len)\n",
    "        # 에측 정확도(%)\n",
    "        score = self.loaded_model.predict(pred)\n",
    "        return score\n",
    "\n",
    "    def prediction(self):\n",
    "        result = []\n",
    "        score = self.predict()\n",
    "        for num in range(len(score)):\n",
    "            if score[num][0] > 0.9:\n",
    "                result.append('0')\n",
    "            elif score[num][0] < 0.1:\n",
    "                result.append('1')\n",
    "            else:\n",
    "                result.append('2')\n",
    "        return result\n"
   ]
  },
  {
   "cell_type": "code",
   "execution_count": 11,
   "id": "d50401ea-c72f-46c5-b296-47c8434ba841",
   "metadata": {
    "tags": []
   },
   "outputs": [],
   "source": [
    "test = psng_predict_all_v3(['정말 맛있다'])"
   ]
  },
  {
   "cell_type": "code",
   "execution_count": 13,
   "id": "247030e7-29b8-4bf0-8c9c-e42962866f28",
   "metadata": {
    "tags": []
   },
   "outputs": [
    {
     "name": "stdout",
     "output_type": "stream",
     "text": [
      "1/1 [==============================] - 0s 23ms/step\n"
     ]
    }
   ],
   "source": [
    "check = test.predict_test()"
   ]
  },
  {
   "cell_type": "code",
   "execution_count": 14,
   "id": "a6705831-712a-48ac-a18d-d962a8cb30b8",
   "metadata": {
    "tags": []
   },
   "outputs": [
    {
     "data": {
      "text/plain": [
       "(1, 250)"
      ]
     },
     "execution_count": 14,
     "metadata": {},
     "output_type": "execute_result"
    }
   ],
   "source": [
    "check.shape"
   ]
  },
  {
   "cell_type": "code",
   "execution_count": 16,
   "id": "38072a4b-b592-4fbe-af45-310be1df0415",
   "metadata": {
    "collapsed": true,
    "jupyter": {
     "outputs_hidden": true
    },
    "tags": []
   },
   "outputs": [
    {
     "data": {
      "text/plain": [
       "array([[ 0,  0,  0,  0,  0,  0,  0,  0,  0,  0,  0,  0,  0,  0,  0,  0,\n",
       "         0,  0,  0,  0,  0,  0,  0,  0,  0,  0,  0,  0,  0,  0,  0,  0,\n",
       "         0,  0,  0,  0,  0,  0,  0,  0,  0,  0,  0,  0,  0,  0,  0,  0,\n",
       "         0,  0,  0,  0,  0,  0,  0,  0,  0,  0,  0,  0,  0,  0,  0,  0,\n",
       "         0,  0,  0,  0,  0,  0,  0,  0,  0,  0,  0,  0,  0,  0,  0,  0,\n",
       "         0,  0,  0,  0,  0,  0,  0,  0,  0,  0,  0,  0,  0,  0,  0,  0,\n",
       "         0,  0,  0,  0,  0,  0,  0,  0,  0,  0,  0,  0,  0,  0,  0,  0,\n",
       "         0,  0,  0,  0,  0,  0,  0,  0,  0,  0,  0,  0,  0,  0,  0,  0,\n",
       "         0,  0,  0,  0,  0,  0,  0,  0,  0,  0,  0,  0,  0,  0,  0,  0,\n",
       "         0,  0,  0,  0,  0,  0,  0,  0,  0,  0,  0,  0,  0,  0,  0,  0,\n",
       "         0,  0,  0,  0,  0,  0,  0,  0,  0,  0,  0,  0,  0,  0,  0,  0,\n",
       "         0,  0,  0,  0,  0,  0,  0,  0,  0,  0,  0,  0,  0,  0,  0,  0,\n",
       "         0,  0,  0,  0,  0,  0,  0,  0,  0,  0,  0,  0,  0,  0,  0,  0,\n",
       "         0,  0,  0,  0,  0,  0,  0,  0,  0,  0,  0,  0,  0,  0,  0,  0,\n",
       "         0,  0,  0,  0,  0,  0,  0,  0,  0,  0,  0,  0,  0,  0,  0,  0,\n",
       "         0,  0,  0,  0,  0,  0,  0,  0, 22,  6]])"
      ]
     },
     "execution_count": 16,
     "metadata": {},
     "output_type": "execute_result"
    }
   ],
   "source": [
    "check"
   ]
  },
  {
   "cell_type": "code",
   "execution_count": 18,
   "id": "6c49575e-5215-4d64-bf94-5e25284614a0",
   "metadata": {
    "tags": []
   },
   "outputs": [
    {
     "data": {
      "text/plain": [
       "dtype('int32')"
      ]
     },
     "execution_count": 18,
     "metadata": {},
     "output_type": "execute_result"
    }
   ],
   "source": [
    "check.dtype"
   ]
  },
  {
   "cell_type": "markdown",
   "id": "b5db84fe-39b6-49c7-8f0f-775358a6517e",
   "metadata": {},
   "source": [
    "# 현재 생각한 방식\n",
    "\n",
    "1. 데이터 프레임을 가져온다\n",
    "2. 데이터 프레임의 행마다 문자열을 뽑아온다\n",
    "3. 문자열을 test_tokenizer로 2차원 배열로 구성한다\n",
    "4. 구성된 데이터를 grpc 통신으로 추론 서버에 요청을 보낸다\n",
    "5. 응답을 확인한다\n",
    "+@ 데이터를 다량으로 보낼 수 있는지 추가적으로 확인해본다.\n"
   ]
  },
  {
   "cell_type": "code",
   "execution_count": null,
   "id": "83cc198e-cf27-43f4-8b08-342dc170b68c",
   "metadata": {},
   "outputs": [],
   "source": []
  }
 ],
 "metadata": {
  "kernelspec": {
   "display_name": "Python 3 (ipykernel)",
   "language": "python",
   "name": "python3"
  },
  "language_info": {
   "codemirror_mode": {
    "name": "ipython",
    "version": 3
   },
   "file_extension": ".py",
   "mimetype": "text/x-python",
   "name": "python",
   "nbconvert_exporter": "python",
   "pygments_lexer": "ipython3",
   "version": "3.10.9"
  }
 },
 "nbformat": 4,
 "nbformat_minor": 5
}
