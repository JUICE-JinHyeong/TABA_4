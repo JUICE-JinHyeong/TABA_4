{
 "cells": [
  {
   "cell_type": "code",
   "execution_count": 1,
   "id": "af48bc1e-2338-4a34-9f71-eb3d2c851f64",
   "metadata": {
    "tags": []
   },
   "outputs": [],
   "source": [
    "from predict_rena_v2 import psng_predict_all_v2"
   ]
  },
  {
   "cell_type": "code",
   "execution_count": 2,
   "id": "acdfa194-0e0e-49c1-88eb-335aa84e9d5d",
   "metadata": {
    "tags": []
   },
   "outputs": [],
   "source": [
    "import pandas as pd"
   ]
  },
  {
   "cell_type": "code",
   "execution_count": 6,
   "id": "fad19107-e3f0-4463-9974-1811d6dd54f3",
   "metadata": {
    "tags": []
   },
   "outputs": [],
   "source": [
    "test = pd.read_excel('model_test_data.xlsx')"
   ]
  },
  {
   "cell_type": "code",
   "execution_count": 8,
   "id": "182a4b8c-9b22-4056-af85-570345e42e17",
   "metadata": {
    "tags": []
   },
   "outputs": [],
   "source": [
    "test2 = test[['리뷰']].rename(columns={'리뷰':'REVIEW'})"
   ]
  },
  {
   "cell_type": "code",
   "execution_count": 9,
   "id": "f1929904-5324-439a-9949-f957f9840cb1",
   "metadata": {
    "tags": []
   },
   "outputs": [],
   "source": [
    "a = psng_predict_all_v2(test2)"
   ]
  },
  {
   "cell_type": "code",
   "execution_count": 10,
   "id": "2a03eafe-5260-4702-a039-219c99d9790e",
   "metadata": {
    "collapsed": true,
    "jupyter": {
     "outputs_hidden": true
    },
    "tags": []
   },
   "outputs": [
    {
     "name": "stdout",
     "output_type": "stream",
     "text": [
      "4/4 [==============================] - 1s 28ms/step\n"
     ]
    },
    {
     "data": {
      "text/plain": [
       "['2',\n",
       " '2',\n",
       " '2',\n",
       " '2',\n",
       " '2',\n",
       " '1',\n",
       " '2',\n",
       " '0',\n",
       " '2',\n",
       " '2',\n",
       " '2',\n",
       " '2',\n",
       " '2',\n",
       " '2',\n",
       " '1',\n",
       " '2',\n",
       " '0',\n",
       " '0',\n",
       " '1',\n",
       " '0',\n",
       " '2',\n",
       " '2',\n",
       " '2',\n",
       " '0',\n",
       " '1',\n",
       " '2',\n",
       " '2',\n",
       " '2',\n",
       " '2',\n",
       " '2',\n",
       " '2',\n",
       " '2',\n",
       " '2',\n",
       " '1',\n",
       " '2',\n",
       " '2',\n",
       " '1',\n",
       " '2',\n",
       " '2',\n",
       " '1',\n",
       " '0',\n",
       " '2',\n",
       " '0',\n",
       " '2',\n",
       " '2',\n",
       " '2',\n",
       " '2',\n",
       " '2',\n",
       " '2',\n",
       " '2',\n",
       " '2',\n",
       " '1',\n",
       " '2',\n",
       " '2',\n",
       " '2',\n",
       " '2',\n",
       " '2',\n",
       " '1',\n",
       " '2',\n",
       " '2',\n",
       " '2',\n",
       " '2',\n",
       " '0',\n",
       " '2',\n",
       " '2',\n",
       " '1',\n",
       " '2',\n",
       " '2',\n",
       " '2',\n",
       " '2',\n",
       " '2',\n",
       " '2',\n",
       " '2',\n",
       " '2',\n",
       " '2',\n",
       " '2',\n",
       " '2',\n",
       " '2',\n",
       " '2',\n",
       " '2',\n",
       " '0',\n",
       " '0',\n",
       " '2',\n",
       " '1',\n",
       " '2',\n",
       " '2',\n",
       " '2',\n",
       " '2',\n",
       " '2',\n",
       " '1',\n",
       " '2',\n",
       " '2',\n",
       " '2',\n",
       " '1',\n",
       " '2',\n",
       " '0',\n",
       " '1',\n",
       " '2',\n",
       " '2',\n",
       " '2']"
      ]
     },
     "execution_count": 10,
     "metadata": {},
     "output_type": "execute_result"
    }
   ],
   "source": [
    "a.prediction()"
   ]
  }
 ],
 "metadata": {
  "kernelspec": {
   "display_name": "Python 3 (ipykernel)",
   "language": "python",
   "name": "python3"
  },
  "language_info": {
   "codemirror_mode": {
    "name": "ipython",
    "version": 3
   },
   "file_extension": ".py",
   "mimetype": "text/x-python",
   "name": "python",
   "nbconvert_exporter": "python",
   "pygments_lexer": "ipython3",
   "version": "3.10.9"
  }
 },
 "nbformat": 4,
 "nbformat_minor": 5
}
