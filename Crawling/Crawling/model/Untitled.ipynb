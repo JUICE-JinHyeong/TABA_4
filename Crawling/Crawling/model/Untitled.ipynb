{
 "cells": [
  {
   "cell_type": "code",
   "execution_count": 4,
   "id": "93c20c22-43ce-41e4-8d74-7b3bfa32d892",
   "metadata": {
    "tags": []
   },
   "outputs": [],
   "source": [
    "from predict_rena import psng_predict_all"
   ]
  },
  {
   "cell_type": "code",
   "execution_count": 6,
   "id": "370384a5-be08-40e8-887f-e44da1a23cde",
   "metadata": {
    "tags": []
   },
   "outputs": [],
   "source": [
    "import pandas as pd\n",
    "data = pd.read_excel('model_test_data.xlsx')\n",
    "# data"
   ]
  },
  {
   "cell_type": "code",
   "execution_count": 7,
   "id": "4416ee6e-07ce-4334-88c7-b9086acc543f",
   "metadata": {
    "tags": []
   },
   "outputs": [],
   "source": [
    "test = psng_predict_all(data)"
   ]
  },
  {
   "cell_type": "code",
   "execution_count": 8,
   "id": "20e74fa3-0db2-4808-adb0-2f7c13b99166",
   "metadata": {
    "tags": []
   },
   "outputs": [
    {
     "name": "stdout",
     "output_type": "stream",
     "text": [
      "4/4 [==============================] - 1s 28ms/step\n"
     ]
    },
    {
     "data": {
      "text/plain": [
       "['0',\n",
       " '2',\n",
       " '0',\n",
       " '2',\n",
       " '2',\n",
       " '1',\n",
       " '0',\n",
       " '0',\n",
       " '2',\n",
       " '0',\n",
       " '2',\n",
       " '1',\n",
       " '2',\n",
       " '1',\n",
       " '1',\n",
       " '2',\n",
       " '0',\n",
       " '2',\n",
       " '1',\n",
       " '0',\n",
       " '2',\n",
       " '2',\n",
       " '0',\n",
       " '0',\n",
       " '1',\n",
       " '0',\n",
       " '2',\n",
       " '0',\n",
       " '0',\n",
       " '0',\n",
       " '2',\n",
       " '0',\n",
       " '2',\n",
       " '1',\n",
       " '2',\n",
       " '2',\n",
       " '2',\n",
       " '0',\n",
       " '1',\n",
       " '2',\n",
       " '0',\n",
       " '0',\n",
       " '0',\n",
       " '0',\n",
       " '2',\n",
       " '2',\n",
       " '0',\n",
       " '2',\n",
       " '1',\n",
       " '2',\n",
       " '2',\n",
       " '1',\n",
       " '1',\n",
       " '2',\n",
       " '2',\n",
       " '0',\n",
       " '2',\n",
       " '1',\n",
       " '0',\n",
       " '2',\n",
       " '2',\n",
       " '2',\n",
       " '2',\n",
       " '2',\n",
       " '0',\n",
       " '1',\n",
       " '0',\n",
       " '1',\n",
       " '2',\n",
       " '0',\n",
       " '0',\n",
       " '0',\n",
       " '0',\n",
       " '0',\n",
       " '2',\n",
       " '0',\n",
       " '0',\n",
       " '0',\n",
       " '2',\n",
       " '2',\n",
       " '0',\n",
       " '0',\n",
       " '0',\n",
       " '2',\n",
       " '0',\n",
       " '0',\n",
       " '0',\n",
       " '0',\n",
       " '2',\n",
       " '1',\n",
       " '1',\n",
       " '2',\n",
       " '2',\n",
       " '1',\n",
       " '2',\n",
       " '0',\n",
       " '1',\n",
       " '2',\n",
       " '0',\n",
       " '0']"
      ]
     },
     "execution_count": 8,
     "metadata": {},
     "output_type": "execute_result"
    }
   ],
   "source": [
    "test.prediction()"
   ]
  },
  {
   "cell_type": "code",
   "execution_count": 3,
   "id": "708f0a84-c484-4f2d-b004-a1b99920a396",
   "metadata": {
    "tags": []
   },
   "outputs": [
    {
     "ename": "ModuleNotFoundError",
     "evalue": "No module named 'perdict_rena'",
     "output_type": "error",
     "traceback": [
      "\u001b[1;31m---------------------------------------------------------------------------\u001b[0m",
      "\u001b[1;31mModuleNotFoundError\u001b[0m                       Traceback (most recent call last)",
      "Cell \u001b[1;32mIn[3], line 1\u001b[0m\n\u001b[1;32m----> 1\u001b[0m \u001b[38;5;28;01mimport\u001b[39;00m \u001b[38;5;21;01mperdict_rena\u001b[39;00m\n",
      "\u001b[1;31mModuleNotFoundError\u001b[0m: No module named 'perdict_rena'"
     ]
    }
   ],
   "source": [
    "import perdict_rena"
   ]
  },
  {
   "cell_type": "code",
   "execution_count": null,
   "id": "29242bdc-d3a6-4fa2-bc40-16cee7c1ecf6",
   "metadata": {},
   "outputs": [],
   "source": []
  }
 ],
 "metadata": {
  "kernelspec": {
   "display_name": "Python 3 (ipykernel)",
   "language": "python",
   "name": "python3"
  },
  "language_info": {
   "codemirror_mode": {
    "name": "ipython",
    "version": 3
   },
   "file_extension": ".py",
   "mimetype": "text/x-python",
   "name": "python",
   "nbconvert_exporter": "python",
   "pygments_lexer": "ipython3",
   "version": "3.10.9"
  }
 },
 "nbformat": 4,
 "nbformat_minor": 5
}
