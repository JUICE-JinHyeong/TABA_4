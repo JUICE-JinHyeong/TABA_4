{
 "cells": [
  {
   "cell_type": "code",
   "execution_count": null,
   "id": "f0620559-800f-4d7b-bab4-2e3331ba8a38",
   "metadata": {},
   "outputs": [],
   "source": [
    "import tritonclient.http as triton_http\n",
    "\n",
    "# Triton Inference Server의 엔드포인트 정보 설정\n",
    "url = \"http://localhost:8000\"\n",
    "client = triton_http.InferenceServerClient(url=url)\n",
    "\n",
    "# 추론 요청 데이터 준비\n",
    "input_data = {\n",
    "    'input': dataframe.to_dict(orient='list')  # 데이터프레임을 딕셔너리 형태로 변환하여 전달\n",
    "}\n",
    "\n",
    "# 추론 요청 보내기\n",
    "response = client.infer(model_name='psng_predictor', inputs=input_data)\n",
    "\n",
    "# 추론 결과 확인\n",
    "output_data = response.as_numpy('output')\n",
    "print(output_data)\n"
   ]
  }
 ],
 "metadata": {
  "kernelspec": {
   "display_name": "Python 3 (ipykernel)",
   "language": "python",
   "name": "python3"
  },
  "language_info": {
   "codemirror_mode": {
    "name": "ipython",
    "version": 3
   },
   "file_extension": ".py",
   "mimetype": "text/x-python",
   "name": "python",
   "nbconvert_exporter": "python",
   "pygments_lexer": "ipython3",
   "version": "3.10.9"
  }
 },
 "nbformat": 4,
 "nbformat_minor": 5
}
