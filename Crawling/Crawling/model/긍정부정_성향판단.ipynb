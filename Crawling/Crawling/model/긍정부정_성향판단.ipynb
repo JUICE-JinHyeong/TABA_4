{
 "cells": [
  {
   "cell_type": "code",
   "execution_count": null,
   "metadata": {
    "id": "yb5VrXNPUYFc",
    "outputId": "74c97312-9c05-44d8-9b46-f6049f301df1"
   },
   "outputs": [
    {
     "name": "stdout",
     "output_type": "stream",
     "text": [
      "C:\\Users\\PiGiraffe0\\Documents\\TABA_4\\Crawling\\참고자료\\Mecab-ko-for-Google-Colab\n"
     ]
    },
    {
     "name": "stderr",
     "output_type": "stream",
     "text": [
      "Cloning into 'Mecab-ko-for-Google-Colab'...\n"
     ]
    },
    {
     "name": "stdout",
     "output_type": "stream",
     "text": [
      "Linux? Windows ?? ???? ??? ???? ?? ????.\n",
      "\n",
      "??? Microsoft Store?? ??? ??? ? ????.\n",
      "\n",
      "https://aka.ms/wslstore\n",
      "\n"
     ]
    }
   ],
   "source": [
    "# # 데이터 로드하기\n",
    "\n",
    "# !git clone https://github.com/SOMJANG/Mecab-ko-for-Google-Colab.git\n",
    "# %cd Mecab-ko-for-Google-Colab\n",
    "# !bash install_mecab-ko_on_colab190912.sh"
   ]
  },
  {
   "cell_type": "code",
   "execution_count": 1,
   "metadata": {
    "colab": {
     "base_uri": "https://localhost:8080/"
    },
    "id": "7QMFvguzcFTQ",
    "outputId": "ce9a520d-10e0-4c7c-ad50-858739eb717a"
   },
   "outputs": [
    {
     "name": "stdout",
     "output_type": "stream",
     "text": [
      "Mounted at /content/drive\n"
     ]
    }
   ],
   "source": [
    "import os, sys\n",
    "from google.colab import drive\n",
    "drive.mount('/content/drive')\n",
    "my_path = '/content/notebooks'"
   ]
  },
  {
   "cell_type": "code",
   "execution_count": 2,
   "metadata": {
    "id": "MxED-8zccMl6"
   },
   "outputs": [],
   "source": [
    "import pandas as pd\n",
    "\n",
    "# TSV 파일 경로\n",
    "tsv_file = r'/content/drive/MyDrive/data_review/archive/kr3.tsv'\n",
    "\n",
    "# TSV 파일 불러오기\n",
    "df = pd.read_csv(tsv_file, delimiter='\\t')\n",
    "\n",
    "# 데이터 활용\n",
    "# ...\n"
   ]
  },
  {
   "cell_type": "code",
   "execution_count": 3,
   "metadata": {
    "colab": {
     "base_uri": "https://localhost:8080/"
    },
    "id": "facziVn6cXUU",
    "outputId": "d01d7692-dd6f-4efe-dfa7-074848f5ca5f"
   },
   "outputs": [
    {
     "name": "stdout",
     "output_type": "stream",
     "text": [
      "Looking in indexes: https://pypi.org/simple, https://us-python.pkg.dev/colab-wheels/public/simple/\n",
      "Collecting konlpy\n",
      "  Downloading konlpy-0.6.0-py2.py3-none-any.whl (19.4 MB)\n",
      "\u001b[2K     \u001b[90m━━━━━━━━━━━━━━━━━━━━━━━━━━━━━━━━━━━━━━━━\u001b[0m \u001b[32m19.4/19.4 MB\u001b[0m \u001b[31m81.7 MB/s\u001b[0m eta \u001b[36m0:00:00\u001b[0m\n",
      "\u001b[?25hCollecting JPype1>=0.7.0 (from konlpy)\n",
      "  Downloading JPype1-1.4.1-cp310-cp310-manylinux_2_12_x86_64.manylinux2010_x86_64.whl (465 kB)\n",
      "\u001b[2K     \u001b[90m━━━━━━━━━━━━━━━━━━━━━━━━━━━━━━━━━━━━━━\u001b[0m \u001b[32m465.3/465.3 kB\u001b[0m \u001b[31m50.4 MB/s\u001b[0m eta \u001b[36m0:00:00\u001b[0m\n",
      "\u001b[?25hRequirement already satisfied: lxml>=4.1.0 in /usr/local/lib/python3.10/dist-packages (from konlpy) (4.9.2)\n",
      "Requirement already satisfied: numpy>=1.6 in /usr/local/lib/python3.10/dist-packages (from konlpy) (1.22.4)\n",
      "Requirement already satisfied: packaging in /usr/local/lib/python3.10/dist-packages (from JPype1>=0.7.0->konlpy) (23.1)\n",
      "Installing collected packages: JPype1, konlpy\n",
      "Successfully installed JPype1-1.4.1 konlpy-0.6.0\n"
     ]
    }
   ],
   "source": [
    "!pip install konlpy"
   ]
  },
  {
   "cell_type": "code",
   "execution_count": 4,
   "metadata": {
    "id": "Jss4fzkLUZTe"
   },
   "outputs": [],
   "source": [
    "import re\n",
    "import pandas as pd\n",
    "import numpy as np \n",
    "import matplotlib.pyplot as plt\n",
    "import urllib.request\n",
    "from collections import Counter\n",
    "from konlpy.tag import Mecab\n",
    "from sklearn.model_selection import train_test_split\n",
    "from tensorflow.keras.preprocessing.text import Tokenizer\n",
    "from tensorflow.keras.preprocessing.sequence import pad_sequences"
   ]
  },
  {
   "cell_type": "code",
   "execution_count": null,
   "metadata": {
    "colab": {
     "base_uri": "https://localhost:8080/"
    },
    "id": "cmqwNd7xUj0-",
    "outputId": "1bbade60-5c6a-4ef5-efec-3f6bedf9a44e"
   },
   "outputs": [
    {
     "data": {
      "text/plain": [
       "('ratings_total.txt', <http.client.HTTPMessage at 0x2132cc3d250>)"
      ]
     },
     "execution_count": 3,
     "metadata": {},
     "output_type": "execute_result"
    }
   ],
   "source": [
    "# urllib.request.urlretrieve(\"https://raw.githubusercontent.com/bab2min/corpus/master/sentiment/naver_shopping.txt\", filename=\"ratings_total.txt\")"
   ]
  },
  {
   "cell_type": "code",
   "execution_count": 5,
   "metadata": {
    "colab": {
     "base_uri": "https://localhost:8080/"
    },
    "id": "3yEpnqXWVIw2",
    "outputId": "3199c5b8-335d-44ab-b88c-6cc80bcf6b5a"
   },
   "outputs": [
    {
     "name": "stdout",
     "output_type": "stream",
     "text": [
      "전체 리뷰 개수 :  641762\n"
     ]
    }
   ],
   "source": [
    "# total_data = pd.read_table('ratings_total.txt', names=['ratings', 'reviews'])\n",
    "# print('전체 리뷰 개수 :',len(total_data)) # 전체 리뷰 개수 출력\n",
    "\n",
    "total_data = df\n",
    "print('전체 리뷰 개수 : ' , len(df))"
   ]
  },
  {
   "cell_type": "code",
   "execution_count": 6,
   "metadata": {
    "colab": {
     "base_uri": "https://localhost:8080/",
     "height": 206
    },
    "id": "l0cWtg4-VLyd",
    "outputId": "36ade4a1-1dd8-4bf9-8d5a-292896d6e98e"
   },
   "outputs": [
    {
     "data": {
      "text/html": [
       "\n",
       "  <div id=\"df-9223b0aa-b09a-46b7-a9ad-6848eb615e07\">\n",
       "    <div class=\"colab-df-container\">\n",
       "      <div>\n",
       "<style scoped>\n",
       "    .dataframe tbody tr th:only-of-type {\n",
       "        vertical-align: middle;\n",
       "    }\n",
       "\n",
       "    .dataframe tbody tr th {\n",
       "        vertical-align: top;\n",
       "    }\n",
       "\n",
       "    .dataframe thead th {\n",
       "        text-align: right;\n",
       "    }\n",
       "</style>\n",
       "<table border=\"1\" class=\"dataframe\">\n",
       "  <thead>\n",
       "    <tr style=\"text-align: right;\">\n",
       "      <th></th>\n",
       "      <th>Rating</th>\n",
       "      <th>Review</th>\n",
       "    </tr>\n",
       "  </thead>\n",
       "  <tbody>\n",
       "    <tr>\n",
       "      <th>0</th>\n",
       "      <td>1</td>\n",
       "      <td>숙성 돼지고기 전문점입니다. 건물 모양 때문에 매장 모양도 좀 특이하지만 쾌적한 편...</td>\n",
       "    </tr>\n",
       "    <tr>\n",
       "      <th>1</th>\n",
       "      <td>1</td>\n",
       "      <td>고기가 정말 맛있었어요! 육즙이 가득 있어서 너무 좋았아요 일하시는 분들 너무 친절...</td>\n",
       "    </tr>\n",
       "    <tr>\n",
       "      <th>2</th>\n",
       "      <td>1</td>\n",
       "      <td>잡내 없고 깔끔, 담백한 맛의 순댓국이 순댓국을 안 좋아하는 사람들에게도 술술 넘어...</td>\n",
       "    </tr>\n",
       "    <tr>\n",
       "      <th>3</th>\n",
       "      <td>1</td>\n",
       "      <td>고기 양이 푸짐해서 특 순대국밥을 시킨 기분이 듭니다 맛도 좋습니다 다만 양념장이 ...</td>\n",
       "    </tr>\n",
       "    <tr>\n",
       "      <th>4</th>\n",
       "      <td>1</td>\n",
       "      <td>순댓국 자체는 제가 먹어본 순대국밥집 중에서 Top5 안에는 들어요. 그러나 밥 양...</td>\n",
       "    </tr>\n",
       "  </tbody>\n",
       "</table>\n",
       "</div>\n",
       "      <button class=\"colab-df-convert\" onclick=\"convertToInteractive('df-9223b0aa-b09a-46b7-a9ad-6848eb615e07')\"\n",
       "              title=\"Convert this dataframe to an interactive table.\"\n",
       "              style=\"display:none;\">\n",
       "        \n",
       "  <svg xmlns=\"http://www.w3.org/2000/svg\" height=\"24px\"viewBox=\"0 0 24 24\"\n",
       "       width=\"24px\">\n",
       "    <path d=\"M0 0h24v24H0V0z\" fill=\"none\"/>\n",
       "    <path d=\"M18.56 5.44l.94 2.06.94-2.06 2.06-.94-2.06-.94-.94-2.06-.94 2.06-2.06.94zm-11 1L8.5 8.5l.94-2.06 2.06-.94-2.06-.94L8.5 2.5l-.94 2.06-2.06.94zm10 10l.94 2.06.94-2.06 2.06-.94-2.06-.94-.94-2.06-.94 2.06-2.06.94z\"/><path d=\"M17.41 7.96l-1.37-1.37c-.4-.4-.92-.59-1.43-.59-.52 0-1.04.2-1.43.59L10.3 9.45l-7.72 7.72c-.78.78-.78 2.05 0 2.83L4 21.41c.39.39.9.59 1.41.59.51 0 1.02-.2 1.41-.59l7.78-7.78 2.81-2.81c.8-.78.8-2.07 0-2.86zM5.41 20L4 18.59l7.72-7.72 1.47 1.35L5.41 20z\"/>\n",
       "  </svg>\n",
       "      </button>\n",
       "      \n",
       "  <style>\n",
       "    .colab-df-container {\n",
       "      display:flex;\n",
       "      flex-wrap:wrap;\n",
       "      gap: 12px;\n",
       "    }\n",
       "\n",
       "    .colab-df-convert {\n",
       "      background-color: #E8F0FE;\n",
       "      border: none;\n",
       "      border-radius: 50%;\n",
       "      cursor: pointer;\n",
       "      display: none;\n",
       "      fill: #1967D2;\n",
       "      height: 32px;\n",
       "      padding: 0 0 0 0;\n",
       "      width: 32px;\n",
       "    }\n",
       "\n",
       "    .colab-df-convert:hover {\n",
       "      background-color: #E2EBFA;\n",
       "      box-shadow: 0px 1px 2px rgba(60, 64, 67, 0.3), 0px 1px 3px 1px rgba(60, 64, 67, 0.15);\n",
       "      fill: #174EA6;\n",
       "    }\n",
       "\n",
       "    [theme=dark] .colab-df-convert {\n",
       "      background-color: #3B4455;\n",
       "      fill: #D2E3FC;\n",
       "    }\n",
       "\n",
       "    [theme=dark] .colab-df-convert:hover {\n",
       "      background-color: #434B5C;\n",
       "      box-shadow: 0px 1px 3px 1px rgba(0, 0, 0, 0.15);\n",
       "      filter: drop-shadow(0px 1px 2px rgba(0, 0, 0, 0.3));\n",
       "      fill: #FFFFFF;\n",
       "    }\n",
       "  </style>\n",
       "\n",
       "      <script>\n",
       "        const buttonEl =\n",
       "          document.querySelector('#df-9223b0aa-b09a-46b7-a9ad-6848eb615e07 button.colab-df-convert');\n",
       "        buttonEl.style.display =\n",
       "          google.colab.kernel.accessAllowed ? 'block' : 'none';\n",
       "\n",
       "        async function convertToInteractive(key) {\n",
       "          const element = document.querySelector('#df-9223b0aa-b09a-46b7-a9ad-6848eb615e07');\n",
       "          const dataTable =\n",
       "            await google.colab.kernel.invokeFunction('convertToInteractive',\n",
       "                                                     [key], {});\n",
       "          if (!dataTable) return;\n",
       "\n",
       "          const docLinkHtml = 'Like what you see? Visit the ' +\n",
       "            '<a target=\"_blank\" href=https://colab.research.google.com/notebooks/data_table.ipynb>data table notebook</a>'\n",
       "            + ' to learn more about interactive tables.';\n",
       "          element.innerHTML = '';\n",
       "          dataTable['output_type'] = 'display_data';\n",
       "          await google.colab.output.renderOutput(dataTable, element);\n",
       "          const docLink = document.createElement('div');\n",
       "          docLink.innerHTML = docLinkHtml;\n",
       "          element.appendChild(docLink);\n",
       "        }\n",
       "      </script>\n",
       "    </div>\n",
       "  </div>\n",
       "  "
      ],
      "text/plain": [
       "   Rating                                             Review\n",
       "0       1  숙성 돼지고기 전문점입니다. 건물 모양 때문에 매장 모양도 좀 특이하지만 쾌적한 편...\n",
       "1       1  고기가 정말 맛있었어요! 육즙이 가득 있어서 너무 좋았아요 일하시는 분들 너무 친절...\n",
       "2       1  잡내 없고 깔끔, 담백한 맛의 순댓국이 순댓국을 안 좋아하는 사람들에게도 술술 넘어...\n",
       "3       1  고기 양이 푸짐해서 특 순대국밥을 시킨 기분이 듭니다 맛도 좋습니다 다만 양념장이 ...\n",
       "4       1  순댓국 자체는 제가 먹어본 순대국밥집 중에서 Top5 안에는 들어요. 그러나 밥 양..."
      ]
     },
     "execution_count": 6,
     "metadata": {},
     "output_type": "execute_result"
    }
   ],
   "source": [
    "total_data[:5]"
   ]
  },
  {
   "cell_type": "code",
   "execution_count": 7,
   "metadata": {
    "colab": {
     "base_uri": "https://localhost:8080/",
     "height": 424
    },
    "id": "CXaB5ugnVOOF",
    "outputId": "cef5b95a-abd4-4fe4-c761-1cc608b465d9"
   },
   "outputs": [
    {
     "data": {
      "text/html": [
       "\n",
       "  <div id=\"df-133f15ce-b6aa-4c02-ba40-6843005ff807\">\n",
       "    <div class=\"colab-df-container\">\n",
       "      <div>\n",
       "<style scoped>\n",
       "    .dataframe tbody tr th:only-of-type {\n",
       "        vertical-align: middle;\n",
       "    }\n",
       "\n",
       "    .dataframe tbody tr th {\n",
       "        vertical-align: top;\n",
       "    }\n",
       "\n",
       "    .dataframe thead th {\n",
       "        text-align: right;\n",
       "    }\n",
       "</style>\n",
       "<table border=\"1\" class=\"dataframe\">\n",
       "  <thead>\n",
       "    <tr style=\"text-align: right;\">\n",
       "      <th></th>\n",
       "      <th>label</th>\n",
       "      <th>reviews</th>\n",
       "    </tr>\n",
       "  </thead>\n",
       "  <tbody>\n",
       "    <tr>\n",
       "      <th>0</th>\n",
       "      <td>1</td>\n",
       "      <td>숙성 돼지고기 전문점입니다. 건물 모양 때문에 매장 모양도 좀 특이하지만 쾌적한 편...</td>\n",
       "    </tr>\n",
       "    <tr>\n",
       "      <th>1</th>\n",
       "      <td>1</td>\n",
       "      <td>고기가 정말 맛있었어요! 육즙이 가득 있어서 너무 좋았아요 일하시는 분들 너무 친절...</td>\n",
       "    </tr>\n",
       "    <tr>\n",
       "      <th>2</th>\n",
       "      <td>1</td>\n",
       "      <td>잡내 없고 깔끔, 담백한 맛의 순댓국이 순댓국을 안 좋아하는 사람들에게도 술술 넘어...</td>\n",
       "    </tr>\n",
       "    <tr>\n",
       "      <th>3</th>\n",
       "      <td>1</td>\n",
       "      <td>고기 양이 푸짐해서 특 순대국밥을 시킨 기분이 듭니다 맛도 좋습니다 다만 양념장이 ...</td>\n",
       "    </tr>\n",
       "    <tr>\n",
       "      <th>4</th>\n",
       "      <td>1</td>\n",
       "      <td>순댓국 자체는 제가 먹어본 순대국밥집 중에서 Top5 안에는 들어요. 그러나 밥 양...</td>\n",
       "    </tr>\n",
       "    <tr>\n",
       "      <th>...</th>\n",
       "      <td>...</td>\n",
       "      <td>...</td>\n",
       "    </tr>\n",
       "    <tr>\n",
       "      <th>99995</th>\n",
       "      <td>1</td>\n",
       "      <td>밑반찬도 정갈하게 나오고 돼지불백도 듬뿍 주십니다. 집 밥 생각날 때 맛있게 먹을 ...</td>\n",
       "    </tr>\n",
       "    <tr>\n",
       "      <th>99996</th>\n",
       "      <td>1</td>\n",
       "      <td>양도 많이 주시고 친절하세요  제 최애 메뉴는 돼지불백</td>\n",
       "    </tr>\n",
       "    <tr>\n",
       "      <th>99997</th>\n",
       "      <td>1</td>\n",
       "      <td>양도 많고 맛있습니다!</td>\n",
       "    </tr>\n",
       "    <tr>\n",
       "      <th>99998</th>\n",
       "      <td>1</td>\n",
       "      <td>돼지불백 먹었는데 깔끔하니 맛있네요. 8500원입니다</td>\n",
       "    </tr>\n",
       "    <tr>\n",
       "      <th>99999</th>\n",
       "      <td>0</td>\n",
       "      <td>폭리도 이런 폭리가 없음. 무조건 3인분이라..</td>\n",
       "    </tr>\n",
       "  </tbody>\n",
       "</table>\n",
       "<p>100000 rows × 2 columns</p>\n",
       "</div>\n",
       "      <button class=\"colab-df-convert\" onclick=\"convertToInteractive('df-133f15ce-b6aa-4c02-ba40-6843005ff807')\"\n",
       "              title=\"Convert this dataframe to an interactive table.\"\n",
       "              style=\"display:none;\">\n",
       "        \n",
       "  <svg xmlns=\"http://www.w3.org/2000/svg\" height=\"24px\"viewBox=\"0 0 24 24\"\n",
       "       width=\"24px\">\n",
       "    <path d=\"M0 0h24v24H0V0z\" fill=\"none\"/>\n",
       "    <path d=\"M18.56 5.44l.94 2.06.94-2.06 2.06-.94-2.06-.94-.94-2.06-.94 2.06-2.06.94zm-11 1L8.5 8.5l.94-2.06 2.06-.94-2.06-.94L8.5 2.5l-.94 2.06-2.06.94zm10 10l.94 2.06.94-2.06 2.06-.94-2.06-.94-.94-2.06-.94 2.06-2.06.94z\"/><path d=\"M17.41 7.96l-1.37-1.37c-.4-.4-.92-.59-1.43-.59-.52 0-1.04.2-1.43.59L10.3 9.45l-7.72 7.72c-.78.78-.78 2.05 0 2.83L4 21.41c.39.39.9.59 1.41.59.51 0 1.02-.2 1.41-.59l7.78-7.78 2.81-2.81c.8-.78.8-2.07 0-2.86zM5.41 20L4 18.59l7.72-7.72 1.47 1.35L5.41 20z\"/>\n",
       "  </svg>\n",
       "      </button>\n",
       "      \n",
       "  <style>\n",
       "    .colab-df-container {\n",
       "      display:flex;\n",
       "      flex-wrap:wrap;\n",
       "      gap: 12px;\n",
       "    }\n",
       "\n",
       "    .colab-df-convert {\n",
       "      background-color: #E8F0FE;\n",
       "      border: none;\n",
       "      border-radius: 50%;\n",
       "      cursor: pointer;\n",
       "      display: none;\n",
       "      fill: #1967D2;\n",
       "      height: 32px;\n",
       "      padding: 0 0 0 0;\n",
       "      width: 32px;\n",
       "    }\n",
       "\n",
       "    .colab-df-convert:hover {\n",
       "      background-color: #E2EBFA;\n",
       "      box-shadow: 0px 1px 2px rgba(60, 64, 67, 0.3), 0px 1px 3px 1px rgba(60, 64, 67, 0.15);\n",
       "      fill: #174EA6;\n",
       "    }\n",
       "\n",
       "    [theme=dark] .colab-df-convert {\n",
       "      background-color: #3B4455;\n",
       "      fill: #D2E3FC;\n",
       "    }\n",
       "\n",
       "    [theme=dark] .colab-df-convert:hover {\n",
       "      background-color: #434B5C;\n",
       "      box-shadow: 0px 1px 3px 1px rgba(0, 0, 0, 0.15);\n",
       "      filter: drop-shadow(0px 1px 2px rgba(0, 0, 0, 0.3));\n",
       "      fill: #FFFFFF;\n",
       "    }\n",
       "  </style>\n",
       "\n",
       "      <script>\n",
       "        const buttonEl =\n",
       "          document.querySelector('#df-133f15ce-b6aa-4c02-ba40-6843005ff807 button.colab-df-convert');\n",
       "        buttonEl.style.display =\n",
       "          google.colab.kernel.accessAllowed ? 'block' : 'none';\n",
       "\n",
       "        async function convertToInteractive(key) {\n",
       "          const element = document.querySelector('#df-133f15ce-b6aa-4c02-ba40-6843005ff807');\n",
       "          const dataTable =\n",
       "            await google.colab.kernel.invokeFunction('convertToInteractive',\n",
       "                                                     [key], {});\n",
       "          if (!dataTable) return;\n",
       "\n",
       "          const docLinkHtml = 'Like what you see? Visit the ' +\n",
       "            '<a target=\"_blank\" href=https://colab.research.google.com/notebooks/data_table.ipynb>data table notebook</a>'\n",
       "            + ' to learn more about interactive tables.';\n",
       "          element.innerHTML = '';\n",
       "          dataTable['output_type'] = 'display_data';\n",
       "          await google.colab.output.renderOutput(dataTable, element);\n",
       "          const docLink = document.createElement('div');\n",
       "          docLink.innerHTML = docLinkHtml;\n",
       "          element.appendChild(docLink);\n",
       "        }\n",
       "      </script>\n",
       "    </div>\n",
       "  </div>\n",
       "  "
      ],
      "text/plain": [
       "       label                                            reviews\n",
       "0          1  숙성 돼지고기 전문점입니다. 건물 모양 때문에 매장 모양도 좀 특이하지만 쾌적한 편...\n",
       "1          1  고기가 정말 맛있었어요! 육즙이 가득 있어서 너무 좋았아요 일하시는 분들 너무 친절...\n",
       "2          1  잡내 없고 깔끔, 담백한 맛의 순댓국이 순댓국을 안 좋아하는 사람들에게도 술술 넘어...\n",
       "3          1  고기 양이 푸짐해서 특 순대국밥을 시킨 기분이 듭니다 맛도 좋습니다 다만 양념장이 ...\n",
       "4          1  순댓국 자체는 제가 먹어본 순대국밥집 중에서 Top5 안에는 들어요. 그러나 밥 양...\n",
       "...      ...                                                ...\n",
       "99995      1  밑반찬도 정갈하게 나오고 돼지불백도 듬뿍 주십니다. 집 밥 생각날 때 맛있게 먹을 ...\n",
       "99996      1                     양도 많이 주시고 친절하세요  제 최애 메뉴는 돼지불백\n",
       "99997      1                                       양도 많고 맛있습니다!\n",
       "99998      1                    돼지불백 먹었는데 깔끔하니 맛있네요. 8500원입니다  \n",
       "99999      0                         폭리도 이런 폭리가 없음. 무조건 3인분이라..\n",
       "\n",
       "[100000 rows x 2 columns]"
      ]
     },
     "execution_count": 7,
     "metadata": {},
     "output_type": "execute_result"
    }
   ],
   "source": [
    "# # 2 훈련데이터와 테스트 데이터 분리하기\n",
    "\n",
    "# # 현재 갖고 있는 데이터는 레이블을 별도로 갖고있지 않습니다. \n",
    "# # 평점이 4, 5인 리뷰에는 레이블 1을, 평점이 1, 2인 리뷰에는 레이블 0을 부여합니다. \n",
    "# # 부여된 레이블은 새로 생성한 label이라는 열에 저장합니다.\n",
    "\n",
    "# total_data['label'] = np.select([total_data.ratings > 3], [1], default=0)\n",
    "# total_data[:5]\n",
    "\n",
    "total_data = total_data.query('Rating != 2').reset_index(drop=True)[:100000]\n",
    "total_data\n",
    "total_data.rename(columns={'Rating': 'label' , 'Review' : 'reviews'}, inplace=True)\n",
    "total_data\n"
   ]
  },
  {
   "cell_type": "markdown",
   "metadata": {
    "id": "n8uL5HXTV4XN"
   },
   "source": [
    "- conList = [arr>200, arr>100, arr>0]\n",
    "- choiceList=['A','B','C']\n",
    "- np.select(conList,choiceList)\n",
    "### arr>200이면 'A', 그 외 arr>100이면 'B',그 외 arr>0이면 'C' 출력"
   ]
  },
  {
   "cell_type": "code",
   "execution_count": 8,
   "metadata": {
    "colab": {
     "base_uri": "https://localhost:8080/"
    },
    "id": "ZpKXM-yQV5iN",
    "outputId": "5d9e1dab-9a9c-4970-92de-6ea3bc89f3d4"
   },
   "outputs": [
    {
     "data": {
      "text/plain": [
       "(99972, 2)"
      ]
     },
     "execution_count": 8,
     "metadata": {},
     "output_type": "execute_result"
    }
   ],
   "source": [
    "# 각 열에 대해서 중복을 제외한 샘플의 수를 카운트합니다.\n",
    "\n",
    "total_data['reviews'].nunique(), total_data['label'].nunique()"
   ]
  },
  {
   "cell_type": "code",
   "execution_count": 9,
   "metadata": {
    "colab": {
     "base_uri": "https://localhost:8080/"
    },
    "id": "FuVlQe3gYMWm",
    "outputId": "cb0d3087-bee5-4bdc-a7ff-339e46643f8c"
   },
   "outputs": [
    {
     "name": "stdout",
     "output_type": "stream",
     "text": [
      "총 샘플의 수 : 99972\n"
     ]
    }
   ],
   "source": [
    "# ratings열의 경우 1, 2, 4, 5라는 네 가지 값을 가지고 있습니다. \n",
    "# reviews열에서 중복을 제외한 경우 199,908개입니다. \n",
    "# 현재 20만개의 리뷰가 존재하므로 이는 현재 갖고 있는 데이터에 중복인 샘플들이 있다는 의미입니다. 중복인 샘플들을 제거해줍니다.\n",
    "\n",
    "total_data.drop_duplicates(subset=['reviews'], inplace=True) # reviews 열에서 중복인 내용이 있다면 중복 제거\n",
    "print('총 샘플의 수 :',len(total_data))"
   ]
  },
  {
   "cell_type": "code",
   "execution_count": 10,
   "metadata": {
    "colab": {
     "base_uri": "https://localhost:8080/"
    },
    "id": "PGVPk3W3N-9_",
    "outputId": "5bbb5992-8957-46cb-9cbb-ebf0b1a86601"
   },
   "outputs": [
    {
     "name": "stdout",
     "output_type": "stream",
     "text": [
      "False\n"
     ]
    }
   ],
   "source": [
    "# NULL 값 유무를 확인합니다.\n",
    "print(total_data.isnull().values.any())"
   ]
  },
  {
   "cell_type": "code",
   "execution_count": 11,
   "metadata": {
    "colab": {
     "base_uri": "https://localhost:8080/"
    },
    "id": "2S6koen3OByH",
    "outputId": "2b9b0091-bc1e-4cea-86a3-50de5713ed31"
   },
   "outputs": [
    {
     "name": "stdout",
     "output_type": "stream",
     "text": [
      "훈련용 리뷰의 개수 : 74979\n",
      "테스트용 리뷰의 개수 : 24993\n"
     ]
    }
   ],
   "source": [
    "# 훈련 데이터와 테스트 데이터를 3:1 비율로 분리합니다.\n",
    "\n",
    "train_data, test_data = train_test_split(total_data, test_size = 0.25, random_state = 42)\n",
    "print('훈련용 리뷰의 개수 :', len(train_data))\n",
    "print('테스트용 리뷰의 개수 :', len(test_data))"
   ]
  },
  {
   "cell_type": "code",
   "execution_count": 12,
   "metadata": {
    "colab": {
     "base_uri": "https://localhost:8080/",
     "height": 480
    },
    "id": "pUBSGl0OOsT4",
    "outputId": "3b40b00d-f84b-4216-e366-048fcaf04fec"
   },
   "outputs": [
    {
     "name": "stdout",
     "output_type": "stream",
     "text": [
      "   label  count\n",
      "0      0   6622\n",
      "1      1  68357\n"
     ]
    },
    {
     "data": {
      "image/png": "[encoded data removed]",
      "text/plain": [
       "<Figure size 640x480 with 1 Axes>"
      ]
     },
     "metadata": {},
     "output_type": "display_data"
    }
   ],
   "source": [
    "# 3 레이블의 분포 확인\n",
    "train_data['label'].value_counts().plot(kind = 'bar')\n",
    "print(train_data.groupby('label').size().reset_index(name = 'count'))"
   ]
  },
  {
   "cell_type": "code",
   "execution_count": 13,
   "metadata": {
    "colab": {
     "base_uri": "https://localhost:8080/"
    },
    "id": "clXEYYxPOtrY",
    "outputId": "6ce5936a-d56b-42a8-a278-f8675ab7155e"
   },
   "outputs": [
    {
     "name": "stdout",
     "output_type": "stream",
     "text": [
      "label      0\n",
      "reviews    9\n",
      "dtype: int64\n"
     ]
    },
    {
     "name": "stderr",
     "output_type": "stream",
     "text": [
      "<ipython-input-13-edc324ac1773>:5: FutureWarning: The default value of regex will change from True to False in a future version.\n",
      "  train_data['reviews'] = train_data['reviews'].str.replace(\"[^ㄱ-ㅎㅏ-ㅣ가-힣 ]\",\"\")\n"
     ]
    }
   ],
   "source": [
    "# 4 데이터 정제하기\n",
    "# 정규 표현식을 사용하여 한글을 제외하고 모두 제거해줍니다. 또한 혹시 이 과정에서 빈 샘플이 생기지는 않는지 확인합니다.\n",
    "\n",
    "# 한글과 공백을 제외하고 모두 제거\n",
    "train_data['reviews'] = train_data['reviews'].str.replace(\"[^ㄱ-ㅎㅏ-ㅣ가-힣 ]\",\"\")\n",
    "train_data['reviews'].replace('', np.nan, inplace=True)\n",
    "print(train_data.isnull().sum())"
   ]
  },
  {
   "cell_type": "code",
   "execution_count": 14,
   "metadata": {
    "colab": {
     "base_uri": "https://localhost:8080/"
    },
    "id": "p7S5PTW9Ott4",
    "outputId": "37ff70b3-7b04-4f1a-bdcf-88294d662244"
   },
   "outputs": [
    {
     "name": "stdout",
     "output_type": "stream",
     "text": [
      "전처리 후 테스트용 샘플의 개수 : 24987\n"
     ]
    },
    {
     "name": "stderr",
     "output_type": "stream",
     "text": [
      "<ipython-input-14-fa074bf086fe>:4: FutureWarning: The default value of regex will change from True to False in a future version.\n",
      "  test_data['reviews'] = test_data['reviews'].str.replace(\"[^ㄱ-ㅎㅏ-ㅣ가-힣 ]\",\"\") # 정규 표현식 수행\n"
     ]
    }
   ],
   "source": [
    "\n",
    "# 테스트 데이터에도 같은 과정\n",
    "\n",
    "test_data.drop_duplicates(subset = ['reviews'], inplace=True) # 중복 제거\n",
    "test_data['reviews'] = test_data['reviews'].str.replace(\"[^ㄱ-ㅎㅏ-ㅣ가-힣 ]\",\"\") # 정규 표현식 수행\n",
    "test_data['reviews'].replace('', np.nan, inplace=True) # 공백은 Null 값으로 변경\n",
    "test_data = test_data.dropna(how='any') # Null 값 제거\n",
    "print('전처리 후 테스트용 샘플의 개수 :',len(test_data))"
   ]
  },
  {
   "cell_type": "code",
   "execution_count": 15,
   "metadata": {
    "id": "vkPOHYNmgbWK"
   },
   "outputs": [],
   "source": [
    "from konlpy.tag import Okt\n",
    "okt = Okt()"
   ]
  },
  {
   "cell_type": "code",
   "execution_count": 16,
   "metadata": {
    "colab": {
     "base_uri": "https://localhost:8080/"
    },
    "id": "3dZ1-yeogo0x",
    "outputId": "eb70d47d-e30c-4712-83f3-126117c4a372"
   },
   "outputs": [
    {
     "data": {
      "text/plain": [
       "[('닭', 'Noun'),\n",
       " ('가슴', 'Noun'),\n",
       " ('살', 'Noun'),\n",
       " ('라임', 'Noun'),\n",
       " ('맛', 'Noun'),\n",
       " ('좋다', 'Adjective'),\n",
       " ('라임', 'Noun'),\n",
       " ('향', 'Noun'),\n",
       " ('힘', 'Noun'),\n",
       " ('세고', 'Noun'),\n",
       " ('제로', 'Noun'),\n",
       " ('슈거', 'Noun'),\n",
       " ('힘들다', 'Adjective'),\n",
       " ('배송', 'Noun'),\n",
       " ('상태', 'Noun'),\n",
       " ('특유', 'Noun'),\n",
       " ('콜라', 'Noun'),\n",
       " ('향', 'Noun'),\n",
       " ('탄산음료', 'Noun'),\n",
       " ('제로', 'Noun'),\n",
       " ('칼로리', 'Noun'),\n",
       " ('음료', 'Noun')]"
      ]
     },
     "execution_count": 16,
     "metadata": {},
     "output_type": "execute_result"
    }
   ],
   "source": [
    "# okt \n",
    "\n",
    "# morphs() : 텍스트를 형태소 단위로 나눈다.\n",
    "# 옵션 : norm, stem. norm은 normalize의 약자로 문장의 정규화 여부를 정하는 옵션이다. \n",
    "# stem은 각 단어에서 어간을 추출할지 정하는 옵션이다. 기본값은 둘 다 False.\n",
    "# nouns() : 텍스트에서 명사만 추출한다.\n",
    "# phrases() : 텍스트에서 어절을 추출한다.\n",
    "# pos() : 텍스트를 형태소 단위로 나눈 뒤, 형태소와 품사 정보를 리스트화한 결과를 반환한다.\n",
    "# pos() 함수도 norm, stem 옵션이 있다.\n",
    "\n",
    "# okt 연습 실행\n",
    "# 패키지를 못찾을 경우 경로 설정을 다시해보자\n",
    "# %cd /content/drive/MyDrive/Colab Notebooks/my_env\n",
    "\n",
    "# norm = True\n",
    "# norm은 정규화 여부 확인이다. -> 오타를 검증해줌\n",
    "\n",
    "\n",
    "okt = Okt()\n",
    "okt.pos('닭가슴살 라임맛 좋고 라임향 힘쌔고 제로슈거 힘듬 배송상태 특유 콜라향 탄산음료 제로칼로리음료' \n",
    "        , norm = True , stem = True)"
   ]
  },
  {
   "cell_type": "code",
   "execution_count": 17,
   "metadata": {
    "colab": {
     "base_uri": "https://localhost:8080/"
    },
    "id": "OnW9UU0zgvjk",
    "outputId": "e43b3df2-7e09-44be-da48-5f7610411700"
   },
   "outputs": [
    {
     "data": {
      "text/plain": [
       "['닭',\n",
       " '가슴',\n",
       " '살',\n",
       " '라임',\n",
       " '맛',\n",
       " '좋고',\n",
       " '라임',\n",
       " '향',\n",
       " '힘쌔',\n",
       " '고',\n",
       " '제로',\n",
       " '슈거',\n",
       " '힘듬',\n",
       " '배송',\n",
       " '상태',\n",
       " '특유',\n",
       " '콜라',\n",
       " '향',\n",
       " '탄산음료',\n",
       " '제로',\n",
       " '칼로리',\n",
       " '음료']"
      ]
     },
     "execution_count": 17,
     "metadata": {},
     "output_type": "execute_result"
    }
   ],
   "source": [
    "okt.morphs('닭가슴살 라임맛 좋고 라임향 힘쌔고 제로슈거 힘듬 배송상태 특유 콜라향 탄산음료 제로칼로리음료')"
   ]
  },
  {
   "cell_type": "code",
   "execution_count": 18,
   "metadata": {
    "id": "rc2D1P8IOtwY"
   },
   "outputs": [],
   "source": [
    "# 5 토큰화\n",
    "# 형태소 분석기 Mecab을 사용하여 토큰화 작업을 수행합니다. 다음은 임의의 문장에 대해서 테스트한 토큰화 결과입니다.\n",
    "\n",
    "# mecab = Mecab()\n",
    "# print(mecab.morphs('와 이런 것도 상품이라고 차라리 내가 만드는 게 나을 뻔'))"
   ]
  },
  {
   "cell_type": "code",
   "execution_count": 19,
   "metadata": {
    "id": "gGBbYzmOOtyg"
   },
   "outputs": [],
   "source": [
    "# 불용어를 지정하여 필요없는 토큰들은 제거하도록 합니다.\n",
    "\n",
    "stopwords = ['도', '는', '다', '의', '가', '이', '은', \n",
    "             '한', '에', '하', '고', '을', '를', '인', '듯', \n",
    "             '과', '와', '네', '들', '듯', '지', '임', '게']"
   ]
  },
  {
   "cell_type": "code",
   "execution_count": 24,
   "metadata": {
    "colab": {
     "base_uri": "https://localhost:8080/"
    },
    "id": "gZwz9O4_hKPB",
    "outputId": "cf40fae8-5b70-41a2-f4c7-83e0ed080cfe"
   },
   "outputs": [
    {
     "name": "stdout",
     "output_type": "stream",
     "text": [
      "<class 'pandas.core.frame.DataFrame'>\n",
      "Int64Index: 74970 entries, 69465 to 15795\n",
      "Data columns (total 3 columns):\n",
      " #   Column     Non-Null Count  Dtype \n",
      "---  ------     --------------  ----- \n",
      " 0   label      74970 non-null  int64 \n",
      " 1   reviews    74970 non-null  object\n",
      " 2   tokenized  74970 non-null  object\n",
      "dtypes: int64(1), object(2)\n",
      "memory usage: 2.3+ MB\n"
     ]
    }
   ],
   "source": [
    "train_data = train_data.dropna(subset=['reviews'])\n",
    "train_data.info()"
   ]
  },
  {
   "cell_type": "code",
   "execution_count": 21,
   "metadata": {
    "id": "xP6XHp67Ot0o"
   },
   "outputs": [],
   "source": [
    "# 훈련 데이터와 테스트 데이터에 대해서 동일한 과정을 거칩니다.\n",
    "\n",
    "train_data['tokenized'] = train_data['reviews'].apply(okt.morphs)"
   ]
  },
  {
   "cell_type": "code",
   "execution_count": 22,
   "metadata": {
    "id": "7yV7wCrYwPdC"
   },
   "outputs": [],
   "source": [
    "train_data['tokenized'] = train_data['tokenized'].apply(lambda x: [item for item in x if item not in stopwords])"
   ]
  },
  {
   "cell_type": "code",
   "execution_count": 23,
   "metadata": {
    "id": "YiD3IFN5zSn1"
   },
   "outputs": [],
   "source": [
    "test_data['tokenized'] = test_data['reviews'].apply(okt.morphs)"
   ]
  },
  {
   "cell_type": "code",
   "execution_count": 25,
   "metadata": {
    "id": "MifXHv86zUWS"
   },
   "outputs": [],
   "source": [
    "test_data['tokenized'] = test_data['tokenized'].apply(lambda x: [item for item in x if item not in stopwords])"
   ]
  },
  {
   "cell_type": "code",
   "execution_count": null,
   "metadata": {
    "id": "QgSUCZb4Ot25"
   },
   "outputs": [],
   "source": [
    "# 6 단어와 길이 분포 확인"
   ]
  },
  {
   "cell_type": "code",
   "execution_count": 26,
   "metadata": {
    "id": "CtwXCTmpPrY4"
   },
   "outputs": [],
   "source": [
    "# 긍정 리뷰에는 주로 어떤 단어들이 많이 등장하고, 부정 리뷰에는 주로 어떤 단어들이 등장하는지 \n",
    "# 두 가지 경우에 대해서 각 단어의 빈도수를 계산해보겠습니다. \n",
    "# 각 레이블에 따라서 별도로 단어들의 리스트를 저장해줍니다.\n",
    "\n",
    "negative_words = np.hstack(train_data[train_data.label == 0]['tokenized'].values)\n",
    "positive_words = np.hstack(train_data[train_data.label == 1]['tokenized'].values)"
   ]
  },
  {
   "cell_type": "code",
   "execution_count": 27,
   "metadata": {
    "colab": {
     "base_uri": "https://localhost:8080/"
    },
    "id": "8u-lCz8LPrbX",
    "outputId": "062fde8f-ab04-478d-f59c-0cb1029e29a8"
   },
   "outputs": [
    {
     "name": "stdout",
     "output_type": "stream",
     "text": [
      "[('맛', 4685), ('안', 2642), ('너무', 1882), ('것', 1574), ('으로', 1561), ('가격', 1370), ('집', 1345), ('만', 1344), ('음식', 1325), ('로', 1311), ('그냥', 1309), ('거', 1243), ('에서', 1242), ('하고', 1212), ('분', 1128), ('별로', 1072), ('곳', 1064), ('사람', 902), ('하는', 894), ('적', 852)]\n"
     ]
    }
   ],
   "source": [
    "# Counter()를 사용하여 각 단어에 대한 빈도수를 카운트합니다. 우선 부정 리뷰에 대해서 빈도수가 높은 상위 20개 단어들을 출력합니다.\n",
    "\n",
    "negative_word_count = Counter(negative_words)\n",
    "print(negative_word_count.most_common(20))"
   ]
  },
  {
   "cell_type": "code",
   "execution_count": 28,
   "metadata": {
    "colab": {
     "base_uri": "https://localhost:8080/"
    },
    "id": "thDwiyUqPrdo",
    "outputId": "1b07925f-0519-4811-bea0-a048a94627f7"
   },
   "outputs": [
    {
     "name": "stdout",
     "output_type": "stream",
     "text": [
      "[('맛', 36853), ('집', 14606), ('으로', 14203), ('너무', 13555), ('곳', 13062), ('수', 12427), ('것', 12018), ('로', 11990), ('가격', 11830), ('입니다', 10273), ('맛있어요', 9600), ('에서', 9456), ('적', 8949), ('하고', 8323), ('정말', 8312), ('방문', 7750), ('있는', 7726), ('잘', 7660), ('안', 7642), ('만', 7508)]\n"
     ]
    }
   ],
   "source": [
    "# '네요', '는데', '안', '않', '너무', '없' 등과 같은 단어들이 부정 리뷰에서 주로 등장합니다. 긍정 리뷰에 대해서도 출력해봅시다.\n",
    "\n",
    "positive_word_count = Counter(positive_words)\n",
    "print(positive_word_count.most_common(20))"
   ]
  },
  {
   "cell_type": "code",
   "execution_count": 29,
   "metadata": {
    "colab": {
     "base_uri": "https://localhost:8080/",
     "height": 552
    },
    "id": "X50kywhNPrf_",
    "outputId": "1f54b947-7326-462e-c4e9-d509b9756301"
   },
   "outputs": [
    {
     "name": "stdout",
     "output_type": "stream",
     "text": [
      "긍정 리뷰의 평균 길이 : 29.83510856206473\n",
      "부정 리뷰의 평균 길이 : 37.38598610691634\n"
     ]
    },
    {
     "data": {
      "image/png": "[encoded data removed]",
      "text/plain": [
       "<Figure size 1000x500 with 2 Axes>"
      ]
     },
     "metadata": {},
     "output_type": "display_data"
    }
   ],
   "source": [
    "# '좋', '아요', '네요', '잘', '너무', '만족' 등과 같은 단어들이 주로 많이 등장합니다. 두 가지 경우에 대해서 각각 길이 분포를 확인해봅시다.\n",
    "\n",
    "fig,(ax1,ax2) = plt.subplots(1,2,figsize=(10,5))\n",
    "text_len = train_data[train_data['label']==1]['tokenized'].map(lambda x: len(x))\n",
    "ax1.hist(text_len, color='red')\n",
    "ax1.set_title('Positive Reviews')\n",
    "ax1.set_xlabel('length of samples')\n",
    "ax1.set_ylabel('number of samples')\n",
    "print('긍정 리뷰의 평균 길이 :', np.mean(text_len))\n",
    "\n",
    "text_len = train_data[train_data['label']==0]['tokenized'].map(lambda x: len(x))\n",
    "ax2.hist(text_len, color='blue')\n",
    "ax2.set_title('Negative Reviews')\n",
    "fig.suptitle('Words in texts')\n",
    "ax2.set_xlabel('length of samples')\n",
    "ax2.set_ylabel('number of samples')\n",
    "print('부정 리뷰의 평균 길이 :', np.mean(text_len))\n",
    "plt.show()"
   ]
  },
  {
   "cell_type": "code",
   "execution_count": 30,
   "metadata": {
    "id": "u8G4dRnuPriW"
   },
   "outputs": [],
   "source": [
    "# 긍정 리뷰보다는 부정 리뷰가 좀 더 길게 작성된 경향이 있는 것 같습니다.\n",
    "\n",
    "X_train = train_data['tokenized'].values\n",
    "y_train = train_data['label'].values\n",
    "X_test= test_data['tokenized'].values\n",
    "y_test = test_data['label'].values"
   ]
  },
  {
   "cell_type": "code",
   "execution_count": 31,
   "metadata": {
    "id": "Cb7y3pt2PrkY"
   },
   "outputs": [],
   "source": [
    "# 7 정수 인코딩\n",
    "\n",
    "# 기계가 텍스트를 숫자로 처리할 수 있도록 훈련 데이터와 테스트 데이터에 정수 인코딩을 수행해야 합니다. \n",
    "# 훈련 데이터에 대해서 단어 집합(vocaburary)을 만들어봅시다.\n",
    "\n",
    "tokenizer = Tokenizer()\n",
    "tokenizer.fit_on_texts(X_train)\n"
   ]
  },
  {
   "cell_type": "code",
   "execution_count": 32,
   "metadata": {
    "colab": {
     "base_uri": "https://localhost:8080/"
    },
    "id": "c0zJshqaPrmh",
    "outputId": "009cadc3-1cf0-4c5b-83fa-325a90bc0dc2"
   },
   "outputs": [
    {
     "name": "stdout",
     "output_type": "stream",
     "text": [
      "단어 집합(vocabulary)의 크기 : 64152\n",
      "등장 빈도가 1번 이하인 희귀 단어의 수: 29480\n",
      "단어 집합에서 희귀 단어의 비율: 45.953360768175585\n",
      "전체 등장 빈도에서 희귀 단어 등장 빈도 비율: 1.289171484296422\n"
     ]
    }
   ],
   "source": [
    "# 단어 집합이 생성되는 동시에 각 단어에 고유한 정수가 부여되었습니다. \n",
    "# 이는 tokenizer.word_index를 출력하여 확인 가능합니다. \n",
    "# 등장 횟수가 1회인 단어들은 자연어 처리에서 배제하고자 합니다. \n",
    "# 이 단어들이 이 데이터에서 얼만큼의 비중을 차지하는지 확인해봅시다.\n",
    "\n",
    "threshold = 2\n",
    "total_cnt = len(tokenizer.word_index) # 단어의 수\n",
    "rare_cnt = 0 # 등장 빈도수가 threshold보다 작은 단어의 개수를 카운트\n",
    "total_freq = 0 # 훈련 데이터의 전체 단어 빈도수 총 합\n",
    "rare_freq = 0 # 등장 빈도수가 threshold보다 작은 단어의 등장 빈도수의 총 합\n",
    "\n",
    "# 단어와 빈도수의 쌍(pair)을 key와 value로 받는다.\n",
    "for key, value in tokenizer.word_counts.items():\n",
    "    total_freq = total_freq + value\n",
    "\n",
    "    # 단어의 등장 빈도수가 threshold보다 작으면\n",
    "    if(value < threshold):\n",
    "        rare_cnt = rare_cnt + 1\n",
    "        rare_freq = rare_freq + value\n",
    "\n",
    "print('단어 집합(vocabulary)의 크기 :',total_cnt)\n",
    "print('등장 빈도가 %s번 이하인 희귀 단어의 수: %s'%(threshold - 1, rare_cnt))\n",
    "print(\"단어 집합에서 희귀 단어의 비율:\", (rare_cnt / total_cnt)*100)\n",
    "print(\"전체 등장 빈도에서 희귀 단어 등장 빈도 비율:\", (rare_freq / total_freq)*100)"
   ]
  },
  {
   "cell_type": "code",
   "execution_count": 33,
   "metadata": {
    "colab": {
     "base_uri": "https://localhost:8080/"
    },
    "id": "Q4ti5asXOt43",
    "outputId": "0013c349-39e4-4755-afb6-f09d6f27e9a9"
   },
   "outputs": [
    {
     "name": "stdout",
     "output_type": "stream",
     "text": [
      "단어 집합의 크기 : 34674\n"
     ]
    }
   ],
   "source": [
    "# 단어가 약 40,000개가 존재합니다. 등장 빈도가 threshold 값인 2회 미만. \n",
    "# 즉, 1회인 단어들은 단어 집합에서 약 45%를 차지합니다. \n",
    "# 하지만, 실제로 훈련 데이터에서 등장 빈도로 차지하는 비중은 매우 적은 수치인 약 0.8%밖에 되지 않습니다. \n",
    "# 아무래도 등장 빈도가 1회인 단어들은 자연어 처리에서 중요하지 않을 것으로 저자는 판단했습니다. \n",
    "# 이 단어들은 정수 인코딩 과정에서 배제시키겠습니다. \n",
    "# 등장 빈도수가 1인 단어들의 수를 제외한 단어의 개수를 단어 집합의 최대 크기로 제한합니다.\n",
    "\n",
    "# 전체 단어 개수 중 빈도수 2이하인 단어 개수는 제거.\n",
    "# 0번 패딩 토큰과 1번 OOV 토큰을 고려하여 +2\n",
    "vocab_size = total_cnt - rare_cnt + 2\n",
    "print('단어 집합의 크기 :',vocab_size)"
   ]
  },
  {
   "cell_type": "code",
   "execution_count": 34,
   "metadata": {
    "id": "sSkP0MErSf6X"
   },
   "outputs": [],
   "source": [
    "# 단어 집합의 크기는 21,787개입니다. \n",
    "# 이를 토크나이저의 인자로 넘겨주고, 텍스트 시퀀스를 정수 시퀀스로 변환합니다. \n",
    "# 정수 인코딩 과정에서 이보다 큰 숫자가 부여된 단어들은 OOV로 변환하겠습니다.\n",
    "\n",
    "tokenizer = Tokenizer(vocab_size, oov_token = 'OOV') \n",
    "tokenizer.fit_on_texts(X_train)\n",
    "X_train = tokenizer.texts_to_sequences(X_train)\n",
    "X_test = tokenizer.texts_to_sequences(X_test)"
   ]
  },
  {
   "cell_type": "code",
   "execution_count": 35,
   "metadata": {
    "colab": {
     "base_uri": "https://localhost:8080/"
    },
    "id": "YIceyYZlSlMI",
    "outputId": "bdc73aa4-7dd6-4b15-fb6a-672d65c8a7af"
   },
   "outputs": [
    {
     "name": "stdout",
     "output_type": "stream",
     "text": [
      "[[5931, 811, 98, 5931, 1071, 368, 2301, 351, 22, 2433], [12387, 170, 46, 73, 164, 847, 124, 4343, 79, 1451, 3468, 1761, 286, 16, 823, 13, 1885, 170, 38, 10, 113, 207, 294, 307, 2737, 10097, 140, 5818, 41, 5355], [8928, 139, 272, 87, 273, 3431, 41, 59]]\n"
     ]
    }
   ],
   "source": [
    "# X_train과 X_test에 대해서 상위 3개의 샘플만 출력합니다.\n",
    "print(X_train[:3])"
   ]
  },
  {
   "cell_type": "code",
   "execution_count": 36,
   "metadata": {
    "colab": {
     "base_uri": "https://localhost:8080/"
    },
    "id": "rfXyusrjSprJ",
    "outputId": "8144a5e9-ac84-48f5-eb91-37d751c3898c"
   },
   "outputs": [
    {
     "name": "stdout",
     "output_type": "stream",
     "text": [
      "[[8698, 124, 4983, 5607, 2692, 1, 86, 22, 132, 19, 2, 97, 100, 39, 1485, 1145, 9, 697, 2784, 2142, 301, 54, 7943, 52], [2999, 140, 1305, 98, 453, 3, 464, 1059, 9639, 48, 7777, 98, 453, 3, 267, 2666, 76, 6225, 73, 228, 453, 3, 88, 59, 4250, 264, 3547, 18451, 2311, 767, 435, 10228, 46, 1817, 230, 149, 46, 13, 3706], [139, 32, 802, 128, 1261, 269, 507, 11, 151, 881, 2, 528, 15763, 140, 2254, 1797, 2, 3, 70, 25, 1134, 2837, 602, 8, 36, 483]]\n"
     ]
    }
   ],
   "source": [
    "print(X_test[:3])"
   ]
  },
  {
   "cell_type": "code",
   "execution_count": 37,
   "metadata": {
    "colab": {
     "base_uri": "https://localhost:8080/",
     "height": 486
    },
    "id": "ZNeyuJ1vSqAQ",
    "outputId": "465f4ce7-b943-480b-e145-bf580e544e94"
   },
   "outputs": [
    {
     "name": "stdout",
     "output_type": "stream",
     "text": [
      "리뷰의 최대 길이 : 341\n",
      "리뷰의 평균 길이 : 30.502067493664132\n"
     ]
    },
    {
     "data": {
      "image/png": "[encoded data removed]",
      "text/plain": [
       "<Figure size 640x480 with 1 Axes>"
      ]
     },
     "metadata": {},
     "output_type": "display_data"
    }
   ],
   "source": [
    "# 8 패딩\n",
    "# 서로 다른 길이의 샘플들의 길이를 동일하게 맞춰주는 패딩 작업을 진행해보겠습니다. \n",
    "# 전체 데이터에서 가장 길이가 긴 리뷰와 전체 데이터의 길이 분포를 알아보겠습니다.\n",
    "\n",
    "print('리뷰의 최대 길이 :',max(len(review) for review in X_train))\n",
    "print('리뷰의 평균 길이 :',sum(map(len, X_train))/len(X_train))\n",
    "plt.hist([len(review) for review in X_train], bins=50)\n",
    "plt.xlabel('length of samples')\n",
    "plt.ylabel('number of samples')\n",
    "plt.show()"
   ]
  },
  {
   "cell_type": "code",
   "execution_count": 38,
   "metadata": {
    "id": "KxiSFOheSqCo"
   },
   "outputs": [],
   "source": [
    "# 리뷰의 최대 길이는 85, 평균 길이는 약 15입니다. 그래프로 봤을 때, 전체적으로는 60이하의 길이를 가지는 것으로 보입니다.\n",
    "# 341 , 30 , 100\n",
    "def below_threshold_len(max_len, nested_list):\n",
    "  count = 0\n",
    "  for sentence in nested_list:\n",
    "    if(len(sentence) <= max_len):\n",
    "        count = count + 1\n",
    "  print('전체 샘플 중 길이가 %s 이하인 샘플의 비율: %s'%(max_len, (count / len(nested_list))*100))"
   ]
  },
  {
   "cell_type": "code",
   "execution_count": 41,
   "metadata": {
    "colab": {
     "base_uri": "https://localhost:8080/"
    },
    "id": "Txu8Vi_8SqFB",
    "outputId": "a06bb065-2c0a-4f98-a056-999a909292ca"
   },
   "outputs": [
    {
     "name": "stdout",
     "output_type": "stream",
     "text": [
      "전체 샘플 중 길이가 330 이하인 샘플의 비율: 99.99866613311991\n"
     ]
    }
   ],
   "source": [
    "# 최대 길이가 85이므로 만약 80으로 패딩할 경우, 몇 개의 샘플들을 온전히 보전할 수 있는지 확인해봅시다.\n",
    "# 330 padding\n",
    "\n",
    "max_len = 330\n",
    "below_threshold_len(max_len, X_train)"
   ]
  },
  {
   "cell_type": "code",
   "execution_count": 42,
   "metadata": {
    "id": "L2F-xoLwSqHZ"
   },
   "outputs": [],
   "source": [
    "# 훈련용 리뷰의 99.99%가 80이하의 길이를 가집니다. 훈련용 리뷰를 길이 80으로 패딩하겠습니다.\n",
    "# 330\n",
    "X_train = pad_sequences(X_train, maxlen=max_len)\n",
    "X_test = pad_sequences(X_test, maxlen=max_len)\n"
   ]
  },
  {
   "cell_type": "code",
   "execution_count": null,
   "metadata": {
    "id": "MRi1BqZrSqJp"
   },
   "outputs": [],
   "source": []
  },
  {
   "cell_type": "markdown",
   "metadata": {
    "id": "GB7sW-QQTGgb"
   },
   "source": [
    "# 쇼핑 리뷰 감정 분류\n",
    "\n",
    "하이퍼파라미터인 임베딩 벡터의 차원은 100, 은닉 상태의 크기는 128입니다. 모델은 다 대 일 구조의 LSTM를 사용합니다. 해당 모델은 마지막 시점에서 두 개의 선택지 중 하나를 예측하는 이진 분류 문제를 수행하는 모델입니다. 이진 분류 문제의 경우, 출력층에 로지스틱 회귀를 사용해야 하므로 활성화 함수로는 시그모이드 함수를 사용하고, 손실 함수로 크로스 엔트로피 함수를 사용합니다. 하이퍼파라미터인 배치 크기는 64이며, 15 에포크를 수행합니다.\n",
    "\n",
    "EarlyStopping(monitor='val_loss', mode='min', verbose=1, patience=4)는 검증 데이터 손실(val_loss)이 증가하면, 과적합 징후므로 검증 데이터 손실이 4회 증가하면 정해진 에포크가 도달하지 못하였더라도 학습을 조기 종료(Early Stopping)한다는 의미입니다. ModelCheckpoint를 사용하여 검증 데이터의 정확도(val_acc)가 이전보다 좋아질 경우에만 모델을 저장합니다. validation_split=0.2을 사용하여 훈련 데이터의 20%를 검증 데이터로 분리해서 사용하고, 검증 데이터를 통해서 훈련이 적절히 되고 있는지 확인합니다. 검증 데이터는 기계가 훈련 데이터에 과적합되고 있지는 않은지 확인하기 위한 용도로 사용됩니다."
   ]
  },
  {
   "cell_type": "code",
   "execution_count": 1,
   "metadata": {
    "colab": {
     "base_uri": "https://localhost:8080/"
    },
    "id": "-JgIRR6oSqMB",
    "outputId": "b5b78c56-c65d-436e-ee63-0f958f6eb9f0"
   },
   "outputs": [
    {
     "ename": "NameError",
     "evalue": "name 'vocab_size' is not defined",
     "output_type": "error",
     "traceback": [
      "\u001b[1;31m---------------------------------------------------------------------------\u001b[0m",
      "\u001b[1;31mNameError\u001b[0m                                 Traceback (most recent call last)",
      "Input \u001b[1;32mIn [1]\u001b[0m, in \u001b[0;36m<cell line: 12>\u001b[1;34m()\u001b[0m\n\u001b[0;32m      9\u001b[0m hidden_units \u001b[38;5;241m=\u001b[39m \u001b[38;5;241m128\u001b[39m\n\u001b[0;32m     11\u001b[0m model \u001b[38;5;241m=\u001b[39m Sequential()\n\u001b[1;32m---> 12\u001b[0m model\u001b[38;5;241m.\u001b[39madd(Embedding(\u001b[43mvocab_size\u001b[49m, embedding_dim))\n\u001b[0;32m     13\u001b[0m model\u001b[38;5;241m.\u001b[39madd(GRU(hidden_units))\n\u001b[0;32m     14\u001b[0m model\u001b[38;5;241m.\u001b[39madd(Dense(\u001b[38;5;241m1\u001b[39m, activation\u001b[38;5;241m=\u001b[39m\u001b[38;5;124m'\u001b[39m\u001b[38;5;124msigmoid\u001b[39m\u001b[38;5;124m'\u001b[39m))\n",
      "\u001b[1;31mNameError\u001b[0m: name 'vocab_size' is not defined"
     ]
    }
   ],
   "source": [
    "from tensorflow.keras.layers import Embedding, Dense, GRU\n",
    "from tensorflow.keras.models import Sequential\n",
    "from tensorflow.keras.models import load_model\n",
    "from tensorflow.keras.callbacks import EarlyStopping, ModelCheckpoint\n",
    "from konlpy.tag import Okt\n",
    "\n",
    "okt = Okt()\n",
    "embedding_dim = 100\n",
    "hidden_units = 128\n",
    "\n",
    "model = Sequential()\n",
    "model.add(Embedding(vocab_size, embedding_dim))\n",
    "model.add(GRU(hidden_units))\n",
    "model.add(Dense(1, activation='sigmoid'))\n",
    "\n",
    "es = EarlyStopping(monitor='val_loss', mode='min', verbose=1, patience=4)\n",
    "mc = ModelCheckpoint('best_model.h5', monitor='val_acc', mode='max', verbose=1, save_best_only=True)\n",
    "\n",
    "model.compile(optimizer='rmsprop', loss='binary_crossentropy', metrics=['acc'])\n",
    "history = model.fit(X_train, y_train, epochs=1, callbacks=[es, mc], batch_size=64, validation_split=0.2)"
   ]
  },
  {
   "cell_type": "code",
   "execution_count": 17,
   "metadata": {},
   "outputs": [
    {
     "name": "stdout",
     "output_type": "stream",
     "text": [
      "Requirement already satisfied: h5py in d:\\anaconda3\\lib\\site-packages (3.1.0)\n",
      "Requirement already satisfied: numpy>=1.19.3 in d:\\anaconda3\\lib\\site-packages (from h5py) (1.21.5)\n"
     ]
    }
   ],
   "source": [
    "!pip install h5py\n",
    "# conda install -c conda-forge h5py\n"
   ]
  },
  {
   "cell_type": "code",
   "execution_count": 18,
   "metadata": {},
   "outputs": [
    {
     "ename": "ImportError",
     "evalue": "Filepath looks like a hdf5 file but h5py is not available. filepath=best_model.h5",
     "output_type": "error",
     "traceback": [
      "\u001b[1;31m---------------------------------------------------------------------------\u001b[0m",
      "\u001b[1;31mImportError\u001b[0m                               Traceback (most recent call last)",
      "Input \u001b[1;32mIn [18]\u001b[0m, in \u001b[0;36m<cell line: 3>\u001b[1;34m()\u001b[0m\n\u001b[0;32m      1\u001b[0m \u001b[38;5;28;01mfrom\u001b[39;00m \u001b[38;5;21;01mtensorflow\u001b[39;00m\u001b[38;5;21;01m.\u001b[39;00m\u001b[38;5;21;01mkeras\u001b[39;00m\u001b[38;5;21;01m.\u001b[39;00m\u001b[38;5;21;01mmodels\u001b[39;00m \u001b[38;5;28;01mimport\u001b[39;00m load_model\n\u001b[1;32m----> 3\u001b[0m loaded_model \u001b[38;5;241m=\u001b[39m \u001b[43mload_model\u001b[49m\u001b[43m(\u001b[49m\u001b[38;5;124;43m'\u001b[39;49m\u001b[38;5;124;43mbest_model.h5\u001b[39;49m\u001b[38;5;124;43m'\u001b[39;49m\u001b[43m,\u001b[49m\u001b[43m \u001b[49m\u001b[38;5;28;43mcompile\u001b[39;49m\u001b[38;5;241;43m=\u001b[39;49m\u001b[38;5;28;43;01mFalse\u001b[39;49;00m\u001b[43m)\u001b[49m\n\u001b[0;32m      4\u001b[0m \u001b[38;5;28mprint\u001b[39m(\u001b[38;5;124m\"\u001b[39m\u001b[38;5;130;01m\\n\u001b[39;00m\u001b[38;5;124m 테스트 정확도: \u001b[39m\u001b[38;5;132;01m%.4f\u001b[39;00m\u001b[38;5;124m\"\u001b[39m \u001b[38;5;241m%\u001b[39m (loaded_model\u001b[38;5;241m.\u001b[39mevaluate(X_test, y_test)[\u001b[38;5;241m1\u001b[39m]))\n",
      "File \u001b[1;32mD:\\anaconda3\\lib\\site-packages\\keras\\utils\\traceback_utils.py:67\u001b[0m, in \u001b[0;36mfilter_traceback.<locals>.error_handler\u001b[1;34m(*args, **kwargs)\u001b[0m\n\u001b[0;32m     65\u001b[0m \u001b[38;5;28;01mexcept\u001b[39;00m \u001b[38;5;167;01mException\u001b[39;00m \u001b[38;5;28;01mas\u001b[39;00m e:  \u001b[38;5;66;03m# pylint: disable=broad-except\u001b[39;00m\n\u001b[0;32m     66\u001b[0m   filtered_tb \u001b[38;5;241m=\u001b[39m _process_traceback_frames(e\u001b[38;5;241m.\u001b[39m__traceback__)\n\u001b[1;32m---> 67\u001b[0m   \u001b[38;5;28;01mraise\u001b[39;00m e\u001b[38;5;241m.\u001b[39mwith_traceback(filtered_tb) \u001b[38;5;28;01mfrom\u001b[39;00m \u001b[38;5;28mNone\u001b[39m\n\u001b[0;32m     68\u001b[0m \u001b[38;5;28;01mfinally\u001b[39;00m:\n\u001b[0;32m     69\u001b[0m   \u001b[38;5;28;01mdel\u001b[39;00m filtered_tb\n",
      "File \u001b[1;32mD:\\anaconda3\\lib\\site-packages\\keras\\saving\\save.py:212\u001b[0m, in \u001b[0;36mload_model\u001b[1;34m(filepath, custom_objects, compile, options)\u001b[0m\n\u001b[0;32m    210\u001b[0m   \u001b[38;5;28;01melse\u001b[39;00m:\n\u001b[0;32m    211\u001b[0m     \u001b[38;5;28;01mif\u001b[39;00m h5py \u001b[38;5;129;01mis\u001b[39;00m \u001b[38;5;28;01mNone\u001b[39;00m:\n\u001b[1;32m--> 212\u001b[0m       \u001b[38;5;28;01mraise\u001b[39;00m \u001b[38;5;167;01mImportError\u001b[39;00m(\n\u001b[0;32m    213\u001b[0m           \u001b[38;5;124m'\u001b[39m\u001b[38;5;124mFilepath looks like a hdf5 file but h5py is not available.\u001b[39m\u001b[38;5;124m'\u001b[39m\n\u001b[0;32m    214\u001b[0m           \u001b[38;5;124mf\u001b[39m\u001b[38;5;124m'\u001b[39m\u001b[38;5;124m filepath=\u001b[39m\u001b[38;5;132;01m{\u001b[39;00mfilepath_str\u001b[38;5;132;01m}\u001b[39;00m\u001b[38;5;124m'\u001b[39m)\n\u001b[0;32m    215\u001b[0m     \u001b[38;5;28;01mreturn\u001b[39;00m hdf5_format\u001b[38;5;241m.\u001b[39mload_model_from_hdf5(\n\u001b[0;32m    216\u001b[0m         tf\u001b[38;5;241m.\u001b[39mio\u001b[38;5;241m.\u001b[39mgfile\u001b[38;5;241m.\u001b[39mGFile(filepath_str, mode\u001b[38;5;241m=\u001b[39m\u001b[38;5;124m'\u001b[39m\u001b[38;5;124mrb\u001b[39m\u001b[38;5;124m'\u001b[39m), custom_objects,\n\u001b[0;32m    217\u001b[0m         \u001b[38;5;28mcompile\u001b[39m)\n\u001b[0;32m    218\u001b[0m \u001b[38;5;28;01melif\u001b[39;00m h5py \u001b[38;5;129;01mis\u001b[39;00m \u001b[38;5;129;01mnot\u001b[39;00m \u001b[38;5;28;01mNone\u001b[39;00m \u001b[38;5;129;01mand\u001b[39;00m \u001b[38;5;28misinstance\u001b[39m(filepath, h5py\u001b[38;5;241m.\u001b[39mFile):\n",
      "\u001b[1;31mImportError\u001b[0m: Filepath looks like a hdf5 file but h5py is not available. filepath=best_model.h5"
     ]
    }
   ],
   "source": [
    "from tensorflow.keras.models import load_model\n",
    "\n",
    "loaded_model = load_model('best_model.h5', compile=False)\n",
    "print(\"\\n 테스트 정확도: %.4f\" % (loaded_model.evaluate(X_test, y_test)[1]))\n"
   ]
  },
  {
   "cell_type": "code",
   "execution_count": 19,
   "metadata": {
    "colab": {
     "base_uri": "https://localhost:8080/"
    },
    "id": "99aDzIohSqOJ",
    "outputId": "524e048c-385e-4993-b6e9-a6e2d5a64a70"
   },
   "outputs": [
    {
     "ename": "ImportError",
     "evalue": "Filepath looks like a hdf5 file but h5py is not available. filepath=best_model.h5",
     "output_type": "error",
     "traceback": [
      "\u001b[1;31m---------------------------------------------------------------------------\u001b[0m",
      "\u001b[1;31mImportError\u001b[0m                               Traceback (most recent call last)",
      "Input \u001b[1;32mIn [19]\u001b[0m, in \u001b[0;36m<cell line: 1>\u001b[1;34m()\u001b[0m\n\u001b[1;32m----> 1\u001b[0m loaded_model \u001b[38;5;241m=\u001b[39m \u001b[43mload_model\u001b[49m\u001b[43m(\u001b[49m\u001b[38;5;124;43m'\u001b[39;49m\u001b[38;5;124;43mbest_model.h5\u001b[39;49m\u001b[38;5;124;43m'\u001b[39;49m\u001b[43m)\u001b[49m\n\u001b[0;32m      2\u001b[0m \u001b[38;5;28mprint\u001b[39m(\u001b[38;5;124m\"\u001b[39m\u001b[38;5;130;01m\\n\u001b[39;00m\u001b[38;5;124m 테스트 정확도: \u001b[39m\u001b[38;5;132;01m%.4f\u001b[39;00m\u001b[38;5;124m\"\u001b[39m \u001b[38;5;241m%\u001b[39m (loaded_model\u001b[38;5;241m.\u001b[39mevaluate(X_test, y_test)[\u001b[38;5;241m1\u001b[39m]))\n",
      "File \u001b[1;32mD:\\anaconda3\\lib\\site-packages\\keras\\utils\\traceback_utils.py:67\u001b[0m, in \u001b[0;36mfilter_traceback.<locals>.error_handler\u001b[1;34m(*args, **kwargs)\u001b[0m\n\u001b[0;32m     65\u001b[0m \u001b[38;5;28;01mexcept\u001b[39;00m \u001b[38;5;167;01mException\u001b[39;00m \u001b[38;5;28;01mas\u001b[39;00m e:  \u001b[38;5;66;03m# pylint: disable=broad-except\u001b[39;00m\n\u001b[0;32m     66\u001b[0m   filtered_tb \u001b[38;5;241m=\u001b[39m _process_traceback_frames(e\u001b[38;5;241m.\u001b[39m__traceback__)\n\u001b[1;32m---> 67\u001b[0m   \u001b[38;5;28;01mraise\u001b[39;00m e\u001b[38;5;241m.\u001b[39mwith_traceback(filtered_tb) \u001b[38;5;28;01mfrom\u001b[39;00m \u001b[38;5;28mNone\u001b[39m\n\u001b[0;32m     68\u001b[0m \u001b[38;5;28;01mfinally\u001b[39;00m:\n\u001b[0;32m     69\u001b[0m   \u001b[38;5;28;01mdel\u001b[39;00m filtered_tb\n",
      "File \u001b[1;32mD:\\anaconda3\\lib\\site-packages\\keras\\saving\\save.py:212\u001b[0m, in \u001b[0;36mload_model\u001b[1;34m(filepath, custom_objects, compile, options)\u001b[0m\n\u001b[0;32m    210\u001b[0m   \u001b[38;5;28;01melse\u001b[39;00m:\n\u001b[0;32m    211\u001b[0m     \u001b[38;5;28;01mif\u001b[39;00m h5py \u001b[38;5;129;01mis\u001b[39;00m \u001b[38;5;28;01mNone\u001b[39;00m:\n\u001b[1;32m--> 212\u001b[0m       \u001b[38;5;28;01mraise\u001b[39;00m \u001b[38;5;167;01mImportError\u001b[39;00m(\n\u001b[0;32m    213\u001b[0m           \u001b[38;5;124m'\u001b[39m\u001b[38;5;124mFilepath looks like a hdf5 file but h5py is not available.\u001b[39m\u001b[38;5;124m'\u001b[39m\n\u001b[0;32m    214\u001b[0m           \u001b[38;5;124mf\u001b[39m\u001b[38;5;124m'\u001b[39m\u001b[38;5;124m filepath=\u001b[39m\u001b[38;5;132;01m{\u001b[39;00mfilepath_str\u001b[38;5;132;01m}\u001b[39;00m\u001b[38;5;124m'\u001b[39m)\n\u001b[0;32m    215\u001b[0m     \u001b[38;5;28;01mreturn\u001b[39;00m hdf5_format\u001b[38;5;241m.\u001b[39mload_model_from_hdf5(\n\u001b[0;32m    216\u001b[0m         tf\u001b[38;5;241m.\u001b[39mio\u001b[38;5;241m.\u001b[39mgfile\u001b[38;5;241m.\u001b[39mGFile(filepath_str, mode\u001b[38;5;241m=\u001b[39m\u001b[38;5;124m'\u001b[39m\u001b[38;5;124mrb\u001b[39m\u001b[38;5;124m'\u001b[39m), custom_objects,\n\u001b[0;32m    217\u001b[0m         \u001b[38;5;28mcompile\u001b[39m)\n\u001b[0;32m    218\u001b[0m \u001b[38;5;28;01melif\u001b[39;00m h5py \u001b[38;5;129;01mis\u001b[39;00m \u001b[38;5;129;01mnot\u001b[39;00m \u001b[38;5;28;01mNone\u001b[39;00m \u001b[38;5;129;01mand\u001b[39;00m \u001b[38;5;28misinstance\u001b[39m(filepath, h5py\u001b[38;5;241m.\u001b[39mFile):\n",
      "\u001b[1;31mImportError\u001b[0m: Filepath looks like a hdf5 file but h5py is not available. filepath=best_model.h5"
     ]
    }
   ],
   "source": [
    "loaded_model = load_model('best_model.h5')\n",
    "print(\"\\n 테스트 정확도: %.4f\" % (loaded_model.evaluate(X_test, y_test)[1]))\n"
   ]
  },
  {
   "cell_type": "markdown",
   "metadata": {
    "id": "wWIklvUuTkIg"
   },
   "source": [
    "# 리뷰 예측해보기\n",
    "\n",
    "임의의 문장에 대한 예측을 위해서는 학습하기 전 전처리를 동일하게 적용해줍니다. 전처리의 순서는 정규 표현식을 통한 한국어 외 문자 제거, 토큰화, 불용어 제거, 정수 인코딩, 패딩 순입니다.\n"
   ]
  },
  {
   "cell_type": "code",
   "execution_count": 2,
   "metadata": {},
   "outputs": [
    {
     "ename": "NameError",
     "evalue": "name 'X_train' is not defined",
     "output_type": "error",
     "traceback": [
      "\u001b[1;31m---------------------------------------------------------------------------\u001b[0m",
      "\u001b[1;31mNameError\u001b[0m                                 Traceback (most recent call last)",
      "Input \u001b[1;32mIn [2]\u001b[0m, in \u001b[0;36m<cell line: 1>\u001b[1;34m()\u001b[0m\n\u001b[1;32m----> 1\u001b[0m history \u001b[38;5;241m=\u001b[39m model\u001b[38;5;241m.\u001b[39mfit(\u001b[43mX_train\u001b[49m, y_train, epochs\u001b[38;5;241m=\u001b[39m\u001b[38;5;241m1\u001b[39m, callbacks\u001b[38;5;241m=\u001b[39m[es, mc], batch_size\u001b[38;5;241m=\u001b[39m\u001b[38;5;241m64\u001b[39m, validation_split\u001b[38;5;241m=\u001b[39m\u001b[38;5;241m0.2\u001b[39m)\n",
      "\u001b[1;31mNameError\u001b[0m: name 'X_train' is not defined"
     ]
    }
   ],
   "source": [
    "history = model.fit(X_train, y_train, epochs=1, callbacks=[es, mc], batch_size=64, validation_split=0.2)"
   ]
  },
  {
   "cell_type": "code",
   "execution_count": 54,
   "metadata": {
    "id": "0z-G48x9SqQS"
   },
   "outputs": [],
   "source": [
    "def sentiment_predict(new_sentence):\n",
    "    new_sentence = re.sub(r'[^ㄱ-ㅎㅏ-ㅣ가-힣 ]','', new_sentence)\n",
    "    new_sentence = okt.morphs(new_sentence)\n",
    "    new_sentence = [word for word in new_sentence if not word in stopwords]\n",
    "    encoded = tokenizer.texts_to_sequences([new_sentence])\n",
    "    pad_new = pad_sequences(encoded, maxlen = max_len)\n",
    "\n",
    "    score = float(loaded_model.predict(pad_new))\n",
    "    if (score > 0.5):\n",
    "      print(\"{:.2f}% 확률로 긍정 리뷰입니다.\".format(score * 100))\n",
    "    else :\n",
    "      print(\"{:.2f}% 확률로 부정 리뷰입니다.\".format((1 - score) * 100))\n"
   ]
  },
  {
   "cell_type": "code",
   "execution_count": 49,
   "metadata": {
    "id": "mYxamNaqBFcj"
   },
   "outputs": [],
   "source": [
    "test_re = pd.read_csv('/content/drive/MyDrive/(주)시더스초밥제주연동점_review.csv' , encoding = 'euc-kr')"
   ]
  },
  {
   "cell_type": "code",
   "execution_count": 63,
   "metadata": {
    "colab": {
     "base_uri": "https://localhost:8080/"
    },
    "id": "S9Rf_dyhBiQC",
    "outputId": "9667fed9-c5da-424c-e87a-d8cd731d9809"
   },
   "outputs": [
    {
     "name": "stdout",
     "output_type": "stream",
     "text": [
      "<class 'pandas.core.frame.DataFrame'>\n",
      "RangeIndex: 77 entries, 0 to 76\n",
      "Data columns (total 1 columns):\n",
      " #   Column  Non-Null Count  Dtype \n",
      "---  ------  --------------  ----- \n",
      " 0   리뷰      75 non-null     object\n",
      "dtypes: object(1)\n",
      "memory usage: 744.0+ bytes\n"
     ]
    }
   ],
   "source": [
    "test_re.info()"
   ]
  },
  {
   "cell_type": "code",
   "execution_count": 67,
   "metadata": {
    "colab": {
     "base_uri": "https://localhost:8080/"
    },
    "id": "XQU0lc5QCq9I",
    "outputId": "c4554dce-36ee-4bd1-baab-cd162595c0a3"
   },
   "outputs": [
    {
     "data": {
      "text/plain": [
       "nan"
      ]
     },
     "execution_count": 67,
     "metadata": {},
     "output_type": "execute_result"
    }
   ],
   "source": [
    "test_re.loc[23].리뷰"
   ]
  },
  {
   "cell_type": "code",
   "execution_count": 71,
   "metadata": {
    "id": "odGtCKoPCxxO"
   },
   "outputs": [],
   "source": [
    "test_re = test_re.dropna().reset_index(drop=True)"
   ]
  },
  {
   "cell_type": "code",
   "execution_count": 72,
   "metadata": {
    "colab": {
     "base_uri": "https://localhost:8080/"
    },
    "id": "ShiIHqC_Bk_J",
    "outputId": "5ebb4aa9-fd1f-4f84-9a2b-f61f6358c926"
   },
   "outputs": [
    {
     "name": "stdout",
     "output_type": "stream",
     "text": [
      "0\n",
      "1/1 [==============================] - 0s 36ms/step\n",
      "75.20% 확률로 긍정 리뷰입니다.\n",
      "None\n",
      "\n",
      "1\n",
      "1/1 [==============================] - 0s 38ms/step\n",
      "94.89% 확률로 긍정 리뷰입니다.\n",
      "None\n",
      "\n",
      "2\n",
      "1/1 [==============================] - 0s 40ms/step\n",
      "86.07% 확률로 긍정 리뷰입니다.\n",
      "None\n",
      "\n",
      "3\n",
      "1/1 [==============================] - 0s 48ms/step\n",
      "96.36% 확률로 긍정 리뷰입니다.\n",
      "None\n",
      "\n",
      "4\n",
      "1/1 [==============================] - 0s 43ms/step\n",
      "81.03% 확률로 긍정 리뷰입니다.\n",
      "None\n",
      "\n",
      "5\n",
      "1/1 [==============================] - 0s 41ms/step\n",
      "77.43% 확률로 긍정 리뷰입니다.\n",
      "None\n",
      "\n",
      "6\n",
      "1/1 [==============================] - 0s 42ms/step\n",
      "90.93% 확률로 긍정 리뷰입니다.\n",
      "None\n",
      "\n",
      "7\n",
      "1/1 [==============================] - 0s 34ms/step\n",
      "84.27% 확률로 긍정 리뷰입니다.\n",
      "None\n",
      "\n",
      "8\n",
      "1/1 [==============================] - 0s 33ms/step\n",
      "93.76% 확률로 긍정 리뷰입니다.\n",
      "None\n",
      "\n",
      "9\n",
      "1/1 [==============================] - 0s 34ms/step\n",
      "99.52% 확률로 긍정 리뷰입니다.\n",
      "None\n",
      "\n",
      "10\n",
      "1/1 [==============================] - 0s 34ms/step\n",
      "96.97% 확률로 긍정 리뷰입니다.\n",
      "None\n",
      "\n",
      "11\n",
      "1/1 [==============================] - 0s 48ms/step\n",
      "99.54% 확률로 긍정 리뷰입니다.\n",
      "None\n",
      "\n",
      "12\n",
      "1/1 [==============================] - 0s 52ms/step\n",
      "98.54% 확률로 긍정 리뷰입니다.\n",
      "None\n",
      "\n",
      "13\n",
      "1/1 [==============================] - 0s 33ms/step\n",
      "94.22% 확률로 긍정 리뷰입니다.\n",
      "None\n",
      "\n",
      "14\n",
      "1/1 [==============================] - 0s 37ms/step\n",
      "79.02% 확률로 긍정 리뷰입니다.\n",
      "None\n",
      "\n",
      "15\n",
      "1/1 [==============================] - 0s 41ms/step\n",
      "90.31% 확률로 긍정 리뷰입니다.\n",
      "None\n",
      "\n",
      "16\n",
      "1/1 [==============================] - 0s 44ms/step\n",
      "98.26% 확률로 부정 리뷰입니다.\n",
      "None\n",
      "\n",
      "17\n",
      "1/1 [==============================] - 0s 42ms/step\n",
      "96.01% 확률로 긍정 리뷰입니다.\n",
      "None\n",
      "\n",
      "18\n",
      "1/1 [==============================] - 0s 35ms/step\n",
      "64.56% 확률로 긍정 리뷰입니다.\n",
      "None\n",
      "\n",
      "19\n",
      "1/1 [==============================] - 0s 35ms/step\n",
      "99.74% 확률로 긍정 리뷰입니다.\n",
      "None\n",
      "\n",
      "20\n",
      "1/1 [==============================] - 0s 24ms/step\n",
      "90.30% 확률로 긍정 리뷰입니다.\n",
      "None\n",
      "\n",
      "21\n",
      "1/1 [==============================] - 0s 23ms/step\n",
      "57.52% 확률로 긍정 리뷰입니다.\n",
      "None\n",
      "\n",
      "22\n",
      "1/1 [==============================] - 0s 27ms/step\n",
      "91.19% 확률로 부정 리뷰입니다.\n",
      "None\n",
      "\n",
      "23\n",
      "1/1 [==============================] - 0s 23ms/step\n",
      "89.77% 확률로 긍정 리뷰입니다.\n",
      "None\n",
      "\n",
      "24\n",
      "1/1 [==============================] - 0s 25ms/step\n",
      "68.96% 확률로 긍정 리뷰입니다.\n",
      "None\n",
      "\n",
      "25\n",
      "1/1 [==============================] - 0s 24ms/step\n",
      "72.44% 확률로 부정 리뷰입니다.\n",
      "None\n",
      "\n",
      "26\n",
      "1/1 [==============================] - 0s 25ms/step\n",
      "95.39% 확률로 부정 리뷰입니다.\n",
      "None\n",
      "\n",
      "27\n",
      "1/1 [==============================] - 0s 26ms/step\n",
      "93.24% 확률로 긍정 리뷰입니다.\n",
      "None\n",
      "\n",
      "28\n",
      "1/1 [==============================] - 0s 29ms/step\n",
      "88.04% 확률로 부정 리뷰입니다.\n",
      "None\n",
      "\n",
      "29\n",
      "1/1 [==============================] - 0s 26ms/step\n",
      "66.49% 확률로 부정 리뷰입니다.\n",
      "None\n",
      "\n",
      "30\n",
      "1/1 [==============================] - 0s 24ms/step\n",
      "99.63% 확률로 긍정 리뷰입니다.\n",
      "None\n",
      "\n",
      "31\n",
      "1/1 [==============================] - 0s 28ms/step\n",
      "99.15% 확률로 긍정 리뷰입니다.\n",
      "None\n",
      "\n",
      "32\n",
      "1/1 [==============================] - 0s 25ms/step\n",
      "89.01% 확률로 긍정 리뷰입니다.\n",
      "None\n",
      "\n",
      "33\n",
      "1/1 [==============================] - 0s 27ms/step\n",
      "92.28% 확률로 긍정 리뷰입니다.\n",
      "None\n",
      "\n",
      "34\n",
      "1/1 [==============================] - 0s 22ms/step\n",
      "80.93% 확률로 긍정 리뷰입니다.\n",
      "None\n",
      "\n",
      "35\n",
      "1/1 [==============================] - 0s 26ms/step\n",
      "62.47% 확률로 긍정 리뷰입니다.\n",
      "None\n",
      "\n",
      "36\n",
      "1/1 [==============================] - 0s 26ms/step\n",
      "59.54% 확률로 긍정 리뷰입니다.\n",
      "None\n",
      "\n",
      "37\n",
      "1/1 [==============================] - 0s 27ms/step\n",
      "63.36% 확률로 부정 리뷰입니다.\n",
      "None\n",
      "\n",
      "38\n",
      "1/1 [==============================] - 0s 29ms/step\n",
      "76.47% 확률로 긍정 리뷰입니다.\n",
      "None\n",
      "\n",
      "39\n",
      "1/1 [==============================] - 0s 31ms/step\n",
      "51.35% 확률로 부정 리뷰입니다.\n",
      "None\n",
      "\n",
      "40\n",
      "1/1 [==============================] - 0s 22ms/step\n",
      "99.26% 확률로 긍정 리뷰입니다.\n",
      "None\n",
      "\n",
      "41\n",
      "1/1 [==============================] - 0s 25ms/step\n",
      "90.31% 확률로 긍정 리뷰입니다.\n",
      "None\n",
      "\n",
      "42\n",
      "1/1 [==============================] - 0s 29ms/step\n",
      "96.62% 확률로 긍정 리뷰입니다.\n",
      "None\n",
      "\n",
      "43\n",
      "1/1 [==============================] - 0s 31ms/step\n",
      "51.35% 확률로 긍정 리뷰입니다.\n",
      "None\n",
      "\n",
      "44\n",
      "1/1 [==============================] - 0s 26ms/step\n",
      "97.99% 확률로 긍정 리뷰입니다.\n",
      "None\n",
      "\n",
      "45\n",
      "1/1 [==============================] - 0s 31ms/step\n",
      "92.85% 확률로 긍정 리뷰입니다.\n",
      "None\n",
      "\n",
      "46\n",
      "1/1 [==============================] - 0s 22ms/step\n",
      "93.82% 확률로 긍정 리뷰입니다.\n",
      "None\n",
      "\n",
      "47\n",
      "1/1 [==============================] - 0s 26ms/step\n",
      "51.35% 확률로 긍정 리뷰입니다.\n",
      "None\n",
      "\n",
      "48\n",
      "1/1 [==============================] - 0s 28ms/step\n",
      "90.31% 확률로 긍정 리뷰입니다.\n",
      "None\n",
      "\n",
      "49\n",
      "1/1 [==============================] - 0s 27ms/step\n",
      "64.48% 확률로 긍정 리뷰입니다.\n",
      "None\n",
      "\n",
      "50\n",
      "1/1 [==============================] - 0s 29ms/step\n",
      "93.33% 확률로 긍정 리뷰입니다.\n",
      "None\n",
      "\n",
      "51\n",
      "1/1 [==============================] - 0s 24ms/step\n",
      "92.08% 확률로 긍정 리뷰입니다.\n",
      "None\n",
      "\n",
      "52\n",
      "1/1 [==============================] - 0s 42ms/step\n",
      "51.35% 확률로 긍정 리뷰입니다.\n",
      "None\n",
      "\n",
      "53\n",
      "1/1 [==============================] - 0s 26ms/step\n",
      "99.10% 확률로 긍정 리뷰입니다.\n",
      "None\n",
      "\n",
      "54\n",
      "1/1 [==============================] - 0s 25ms/step\n",
      "90.31% 확률로 긍정 리뷰입니다.\n",
      "None\n",
      "\n",
      "55\n",
      "1/1 [==============================] - 0s 26ms/step\n",
      "66.59% 확률로 긍정 리뷰입니다.\n",
      "None\n",
      "\n",
      "56\n",
      "1/1 [==============================] - 0s 24ms/step\n",
      "99.11% 확률로 긍정 리뷰입니다.\n",
      "None\n",
      "\n",
      "57\n",
      "1/1 [==============================] - 0s 35ms/step\n",
      "99.89% 확률로 긍정 리뷰입니다.\n",
      "None\n",
      "\n",
      "58\n",
      "1/1 [==============================] - 0s 24ms/step\n",
      "96.01% 확률로 긍정 리뷰입니다.\n",
      "None\n",
      "\n",
      "59\n",
      "1/1 [==============================] - 0s 30ms/step\n",
      "84.14% 확률로 긍정 리뷰입니다.\n",
      "None\n",
      "\n",
      "60\n",
      "1/1 [==============================] - 0s 30ms/step\n",
      "95.95% 확률로 긍정 리뷰입니다.\n",
      "None\n",
      "\n",
      "61\n",
      "1/1 [==============================] - 0s 28ms/step\n",
      "99.48% 확률로 긍정 리뷰입니다.\n",
      "None\n",
      "\n",
      "62\n",
      "1/1 [==============================] - 0s 23ms/step\n",
      "86.49% 확률로 긍정 리뷰입니다.\n",
      "None\n",
      "\n",
      "63\n",
      "1/1 [==============================] - 0s 30ms/step\n",
      "80.06% 확률로 긍정 리뷰입니다.\n",
      "None\n",
      "\n",
      "64\n",
      "1/1 [==============================] - 0s 26ms/step\n",
      "97.67% 확률로 긍정 리뷰입니다.\n",
      "None\n",
      "\n",
      "65\n",
      "1/1 [==============================] - 0s 27ms/step\n",
      "72.39% 확률로 긍정 리뷰입니다.\n",
      "None\n",
      "\n",
      "66\n",
      "1/1 [==============================] - 0s 32ms/step\n",
      "60.39% 확률로 긍정 리뷰입니다.\n",
      "None\n",
      "\n",
      "67\n",
      "1/1 [==============================] - 0s 24ms/step\n",
      "79.26% 확률로 부정 리뷰입니다.\n",
      "None\n",
      "\n",
      "68\n",
      "1/1 [==============================] - 0s 23ms/step\n",
      "99.57% 확률로 긍정 리뷰입니다.\n",
      "None\n",
      "\n",
      "69\n",
      "1/1 [==============================] - 0s 22ms/step\n",
      "96.83% 확률로 긍정 리뷰입니다.\n",
      "None\n",
      "\n",
      "70\n",
      "1/1 [==============================] - 0s 26ms/step\n",
      "90.31% 확률로 긍정 리뷰입니다.\n",
      "None\n",
      "\n",
      "71\n",
      "1/1 [==============================] - 0s 26ms/step\n",
      "96.01% 확률로 긍정 리뷰입니다.\n",
      "None\n",
      "\n",
      "72\n",
      "1/1 [==============================] - 0s 30ms/step\n",
      "75.72% 확률로 긍정 리뷰입니다.\n",
      "None\n",
      "\n",
      "73\n",
      "1/1 [==============================] - 0s 28ms/step\n",
      "99.64% 확률로 긍정 리뷰입니다.\n",
      "None\n",
      "\n",
      "74\n",
      "1/1 [==============================] - 0s 24ms/step\n",
      "77.67% 확률로 긍정 리뷰입니다.\n",
      "None\n",
      "\n"
     ]
    }
   ],
   "source": [
    "for num , i in enumerate(test_re.리뷰.tolist()) :\n",
    "  print(num)\n",
    "  print(sentiment_predict(i))\n",
    "  print()\n"
   ]
  },
  {
   "cell_type": "code",
   "execution_count": null,
   "metadata": {
    "colab": {
     "base_uri": "https://localhost:8080/"
    },
    "id": "VGsqYNWYTshI",
    "outputId": "8081f5a4-e580-4c48-a431-1706282ed045"
   },
   "outputs": [
    {
     "name": "stdout",
     "output_type": "stream",
     "text": [
      "1/1 [==============================] - 0s 421ms/step\n",
      "96.21% 확률로 긍정 리뷰입니다.\n"
     ]
    }
   ],
   "source": [
    "sentiment_predict('이 상품 진짜 좋아요... 저는 강추합니다. 대박')"
   ]
  },
  {
   "cell_type": "code",
   "execution_count": null,
   "metadata": {
    "colab": {
     "base_uri": "https://localhost:8080/"
    },
    "id": "XUT7EnUXTs6g",
    "outputId": "edc67361-224f-4df9-b869-3bed22e81efe"
   },
   "outputs": [
    {
     "name": "stdout",
     "output_type": "stream",
     "text": [
      "1/1 [==============================] - 0s 38ms/step\n",
      "98.76% 확률로 부정 리뷰입니다.\n"
     ]
    }
   ],
   "source": [
    "sentiment_predict('진짜 배송도 늦고 개짜증나네요. 뭐 이런 걸 상품이라고 만듬?')"
   ]
  },
  {
   "cell_type": "code",
   "execution_count": null,
   "metadata": {
    "colab": {
     "base_uri": "https://localhost:8080/"
    },
    "id": "urh9D8t_TuBw",
    "outputId": "bf113e54-b76e-4d49-b871-a9fd12ad95b9"
   },
   "outputs": [
    {
     "name": "stdout",
     "output_type": "stream",
     "text": [
      "1/1 [==============================] - 0s 29ms/step\n",
      "96.37% 확률로 긍정 리뷰입니다.\n"
     ]
    }
   ],
   "source": [
    "sentiment_predict('판매자님... 너무 짱이에요.. 대박나삼')"
   ]
  },
  {
   "cell_type": "code",
   "execution_count": null,
   "metadata": {
    "colab": {
     "base_uri": "https://localhost:8080/"
    },
    "id": "5L1qlxuqTvIp",
    "outputId": "b65caba2-b378-498a-a9c4-a37d9fba7912"
   },
   "outputs": [
    {
     "name": "stdout",
     "output_type": "stream",
     "text": [
      "1/1 [==============================] - 0s 44ms/step\n",
      "98.46% 확률로 긍정 리뷰입니다.\n"
     ]
    }
   ],
   "source": [
    "sentiment_predict('완전 최고에요 짱짱')"
   ]
  },
  {
   "cell_type": "code",
   "execution_count": null,
   "metadata": {
    "colab": {
     "base_uri": "https://localhost:8080/"
    },
    "id": "g7b2KvsHje_T",
    "outputId": "1701a134-d745-43c0-da75-14041c80a636"
   },
   "outputs": [
    {
     "name": "stdout",
     "output_type": "stream",
     "text": [
      "1/1 [==============================] - 0s 22ms/step\n",
      "99.55% 확률로 부정 리뷰입니다.\n"
     ]
    }
   ],
   "source": [
    "sentiment_predict('정말 별로입니다.')"
   ]
  },
  {
   "cell_type": "code",
   "execution_count": null,
   "metadata": {
    "colab": {
     "base_uri": "https://localhost:8080/"
    },
    "id": "Ty9-u0XSjiUK",
    "outputId": "3eef8daf-f87d-4a13-deb8-7357e33e48c3"
   },
   "outputs": [
    {
     "name": "stdout",
     "output_type": "stream",
     "text": [
      "1/1 [==============================] - 0s 21ms/step\n",
      "95.60% 확률로 긍정 리뷰입니다.\n"
     ]
    }
   ],
   "source": [
    "sentiment_predict('참 정말 좋은 제품이네요 ㅎㅎ')"
   ]
  },
  {
   "cell_type": "code",
   "execution_count": null,
   "metadata": {
    "colab": {
     "base_uri": "https://localhost:8080/"
    },
    "id": "vH1KpTHBjvwT",
    "outputId": "6774318a-b3ba-4b6d-b353-9e9139c51211"
   },
   "outputs": [
    {
     "name": "stdout",
     "output_type": "stream",
     "text": [
      "1/1 [==============================] - 0s 20ms/step\n",
      "57.67% 확률로 부정 리뷰입니다.\n"
     ]
    }
   ],
   "source": [
    "sentiment_predict('진짜 사람 미치게 만듭니다 ㅋㅋ')"
   ]
  },
  {
   "cell_type": "code",
   "execution_count": null,
   "metadata": {
    "colab": {
     "base_uri": "https://localhost:8080/"
    },
    "id": "83kM64MGj-2T",
    "outputId": "8f4b519c-2ba1-40a8-8d5e-2674ed71faa7"
   },
   "outputs": [
    {
     "name": "stdout",
     "output_type": "stream",
     "text": [
      "1/1 [==============================] - 0s 25ms/step\n",
      "97.37% 확률로 긍정 리뷰입니다.\n"
     ]
    }
   ],
   "source": [
    "sentiment_predict('정말 최고군요? ㅎㅎ')"
   ]
  },
  {
   "cell_type": "code",
   "execution_count": null,
   "metadata": {
    "colab": {
     "base_uri": "https://localhost:8080/"
    },
    "id": "qsoMBYI5kJ0L",
    "outputId": "d6559ddc-fe6f-4dd5-8b76-c51ba462659d"
   },
   "outputs": [
    {
     "name": "stdout",
     "output_type": "stream",
     "text": [
      "1/1 [==============================] - 0s 20ms/step\n",
      "88.99% 확률로 부정 리뷰입니다.\n"
     ]
    }
   ],
   "source": [
    "sentiment_predict('너 참 대단하다')"
   ]
  },
  {
   "cell_type": "code",
   "execution_count": null,
   "metadata": {
    "colab": {
     "base_uri": "https://localhost:8080/"
    },
    "id": "BswBqxWrkTsD",
    "outputId": "f0c5bb83-cc5d-4fbe-9f34-d38b471b9dc5"
   },
   "outputs": [
    {
     "name": "stdout",
     "output_type": "stream",
     "text": [
      "1/1 [==============================] - 0s 20ms/step\n",
      "77.49% 확률로 부정 리뷰입니다.\n"
     ]
    }
   ],
   "source": [
    "sentiment_predict('너 정말 얌샘이구나?')"
   ]
  },
  {
   "cell_type": "code",
   "execution_count": null,
   "metadata": {
    "colab": {
     "base_uri": "https://localhost:8080/"
    },
    "id": "iTi7Z8QokYaD",
    "outputId": "5d15aa72-1877-4d64-dd4b-ac1205570d2a"
   },
   "outputs": [
    {
     "name": "stdout",
     "output_type": "stream",
     "text": [
      "1/1 [==============================] - 0s 59ms/step\n",
      "50.18% 확률로 긍정 리뷰입니다.\n"
     ]
    }
   ],
   "source": [
    "sentiment_predict('너 진짜 똑똑하다.')"
   ]
  }
 ],
 "metadata": {
  "accelerator": "GPU",
  "colab": {
   "gpuType": "T4",
   "provenance": []
  },
  "gpuClass": "standard",
  "kernelspec": {
   "display_name": "Python 3 (ipykernel)",
   "language": "python",
   "name": "python3"
  },
  "language_info": {
   "codemirror_mode": {
    "name": "ipython",
    "version": 3
   },
   "file_extension": ".py",
   "mimetype": "text/x-python",
   "name": "python",
   "nbconvert_exporter": "python",
   "pygments_lexer": "ipython3",
   "version": "3.9.13"
  }
 },
 "nbformat": 4,
 "nbformat_minor": 1
}
