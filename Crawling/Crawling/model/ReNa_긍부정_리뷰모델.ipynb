{
 "cells": [
  {
   "cell_type": "code",
   "execution_count": 2,
   "metadata": {
    "id": "JfWy7bK3m2wV"
   },
   "outputs": [],
   "source": [
    "# import os, sys\n",
    "# from google.colab import drive\n",
    "# drive.mount('/content/drive')\n",
    "# my_path = '/content/notebooks'"
   ]
  },
  {
   "cell_type": "code",
   "execution_count": 5,
   "metadata": {
    "id": "e-CzlEqVpJKF"
   },
   "outputs": [],
   "source": [
    "from tensorflow.keras.layers import Embedding, Dense, GRU\n",
    "from tensorflow.keras.models import Sequential\n",
    "from tensorflow.keras.models import load_model\n",
    "from tensorflow.keras.callbacks import EarlyStopping, ModelCheckpoint\n",
    "from konlpy.tag import Okt\n",
    "import re\n",
    "import pandas as pd\n",
    "import numpy as np \n",
    "import matplotlib.pyplot as plt\n",
    "import urllib.request\n",
    "from collections import Counter\n",
    "#from sklearn.model_selection import train_test_split\n",
    "from tensorflow.keras.preprocessing.text import Tokenizer\n",
    "from tensorflow.keras.preprocessing.sequence import pad_sequences\n",
    "\n",
    "okt = Okt()"
   ]
  },
  {
   "cell_type": "code",
   "execution_count": 6,
   "metadata": {},
   "outputs": [],
   "source": [
    "test_data = pd.read_csv('test_data.csv' , encoding = 'euc-kr')\n",
    "train_data = pd.read_csv('train_data.csv' , encoding = 'euc-kr')"
   ]
  },
  {
   "cell_type": "code",
   "execution_count": 7,
   "metadata": {},
   "outputs": [
    {
     "name": "stdout",
     "output_type": "stream",
     "text": [
      "2.12.0\n",
      "2.12.0\n",
      "0.6.0\n",
      "1.4.4\n",
      "1.23.5\n"
     ]
    }
   ],
   "source": [
    "import tensorflow as tf\n",
    "print(tf.__version__)\n",
    "import keras\n",
    "print(keras.__version__)\n",
    "import konlpy\n",
    "print(konlpy.__version__)\n",
    "print(pd.__version__)\n",
    "print(np.__version__)"
   ]
  },
  {
   "cell_type": "code",
   "execution_count": 8,
   "metadata": {
    "id": "EBWwRLGJtjsH",
    "scrolled": true
   },
   "outputs": [],
   "source": [
    "# loaded_model = load_model('/content/drive/MyDrive/data_review/best_model.h5')\n",
    "# print(\"\\n 테스트 정확도: %.4f\" % (loaded_model.evaluate(X_test, y_test)[1]))\n",
    "\n",
    "# 버전 확인\n",
    "# pip install --upgrade tensorflow==2.12.0\n",
    "# pip install --upgrade keras==2.12.0\n",
    "\n",
    "loaded_model = load_model('best_model2.h5')"
   ]
  },
  {
   "cell_type": "code",
   "execution_count": 9,
   "metadata": {
    "id": "2dJ8zAVjpJMP"
   },
   "outputs": [],
   "source": [
    "# 불용어를 지정하여 필요없는 토큰들은 제거하도록 합니다.\n",
    "\n",
    "stopwords = ['도', '는', '다', '의', '가', '이', '은', \n",
    "             '한', '에', '하', '고', '을', '를', '인', '듯', \n",
    "             '과', '와', '네', '들', '듯', '지', '임', '게']"
   ]
  },
  {
   "cell_type": "code",
   "execution_count": 10,
   "metadata": {
    "id": "xR-TI5mopNTV"
   },
   "outputs": [],
   "source": [
    "# 단어 집합(vocabulary)의 크기 : 64152\n",
    "# 등장 빈도가 1번 이하인 희귀 단어의 수: 29480\n",
    "# 단어 집합에서 희귀 단어의 비율: 45.953360768175585\n",
    "# 전체 등장 빈도에서 희귀 단어 등장 빈도 비율: 1.289171484296422"
   ]
  },
  {
   "cell_type": "code",
   "execution_count": 11,
   "metadata": {
    "id": "O9owopf3ra9-"
   },
   "outputs": [],
   "source": [
    "# total_cnt = 64152\n",
    "# rare_cnt = 29480\n",
    "# vocab_size = total_cnt - rare_cnt + 2\n",
    "# tokenizer = Tokenizer(vocab_size, oov_token = 'OOV') "
   ]
  },
  {
   "cell_type": "code",
   "execution_count": 12,
   "metadata": {
    "id": "rOb_sTGkpNVt"
   },
   "outputs": [],
   "source": [
    "# 긍정 리뷰보다는 부정 리뷰가 좀 더 길게 작성된 경향이 있는 것 같습니다.\n",
    "\n",
    "X_train = train_data['tokenized'].values\n",
    "y_train = train_data['label'].values\n",
    "X_test= test_data['tokenized'].values\n",
    "y_test = test_data['label'].values"
   ]
  },
  {
   "cell_type": "code",
   "execution_count": 13,
   "metadata": {
    "id": "omkolY5NqzNi"
   },
   "outputs": [],
   "source": [
    "# 정수 인코딩\n",
    "\n",
    "# 기계가 텍스트를 숫자로 처리할 수 있도록 훈련 데이터와 테스트 데이터에 정수 인코딩을 수행해야 합니다. \n",
    "# 훈련 데이터에 대해서 단어 집합(vocaburary)을 만들어봅시다.\n",
    "\n",
    "tokenizer = Tokenizer()\n",
    "tokenizer.fit_on_texts(X_train)\n"
   ]
  },
  {
   "cell_type": "code",
   "execution_count": 14,
   "metadata": {
    "id": "6qzv4BkTpNX7"
   },
   "outputs": [],
   "source": [
    "total_cnt = 64152\n",
    "rare_cnt = 29480\n",
    "vocab_size = total_cnt - rare_cnt + 2"
   ]
  },
  {
   "cell_type": "code",
   "execution_count": 15,
   "metadata": {
    "id": "zX-NbvE6p3_P"
   },
   "outputs": [],
   "source": [
    "# 단어 집합의 크기는 34674개입니다. \n",
    "# 이를 토크나이저의 인자로 넘겨주고, 텍스트 시퀀스를 정수 시퀀스로 변환합니다. \n",
    "# 정수 인코딩 과정에서 이보다 큰 숫자가 부여된 단어들은 OOV로 변환하겠습니다.\n",
    "\n",
    "tokenizer = Tokenizer(vocab_size, oov_token = 'OOV') \n",
    "tokenizer.fit_on_texts(X_train)\n",
    "X_train = tokenizer.texts_to_sequences(X_train)\n",
    "X_test = tokenizer.texts_to_sequences(X_test)"
   ]
  },
  {
   "cell_type": "code",
   "execution_count": 16,
   "metadata": {
    "id": "r9m7_66Jp4Bo"
   },
   "outputs": [],
   "source": [
    "max_len = 330"
   ]
  },
  {
   "cell_type": "code",
   "execution_count": 17,
   "metadata": {
    "id": "v8LhKlZLqIl_"
   },
   "outputs": [],
   "source": [
    "# 훈련용 리뷰의 99.99%가 330 이하의 길이를 가집니다. 훈련용 리뷰를 길이 330으로 패딩하겠습니다.\n",
    "\n",
    "X_train = pad_sequences(X_train, maxlen=max_len)\n",
    "X_test = pad_sequences(X_test, maxlen=max_len)\n"
   ]
  },
  {
   "cell_type": "code",
   "execution_count": 18,
   "metadata": {
    "id": "FvIwGYVmpJOY"
   },
   "outputs": [],
   "source": [
    "# # test파일 업로드\n",
    "\n",
    "# from google.colab import files\n",
    "\n",
    "# # 파일 선택 대화상자 표시\n",
    "# uploaded = files.upload()\n",
    "\n",
    "# # 업로드한 파일 확인\n",
    "# for filename in uploaded.keys():\n",
    "#     print(f'Uploaded file: {filename}')\n"
   ]
  },
  {
   "cell_type": "code",
   "execution_count": 22,
   "metadata": {
    "id": "UzfRofBpshuu"
   },
   "outputs": [],
   "source": [
    "# test 파일 업로드 2\n",
    "#uploaded\n",
    "# test_re = pd.read_csv('/content/drive/MyDrive/(주)시더스초밥제주연동점_review.csv' , encoding = 'euc-kr')\n",
    "test_re = pd.read_csv('(주)시더스초밥제주연동점_review.csv' , encoding = 'euc-kr')\n",
    "test_re = pd.read_excel('(주)서촌제 스시100_review.xlsx')\n",
    "test_re = pd.read_csv('캐글학습용데이터kr3.tsv', delimiter='\\t')"
   ]
  },
  {
   "cell_type": "code",
   "execution_count": 23,
   "metadata": {},
   "outputs": [
    {
     "data": {
      "text/html": [
       "<div>\n",
       "<style scoped>\n",
       "    .dataframe tbody tr th:only-of-type {\n",
       "        vertical-align: middle;\n",
       "    }\n",
       "\n",
       "    .dataframe tbody tr th {\n",
       "        vertical-align: top;\n",
       "    }\n",
       "\n",
       "    .dataframe thead th {\n",
       "        text-align: right;\n",
       "    }\n",
       "</style>\n",
       "<table border=\"1\" class=\"dataframe\">\n",
       "  <thead>\n",
       "    <tr style=\"text-align: right;\">\n",
       "      <th></th>\n",
       "      <th>Rating</th>\n",
       "      <th>Review</th>\n",
       "    </tr>\n",
       "  </thead>\n",
       "  <tbody>\n",
       "    <tr>\n",
       "      <th>0</th>\n",
       "      <td>1</td>\n",
       "      <td>숙성 돼지고기 전문점입니다. 건물 모양 때문에 매장 모양도 좀 특이하지만 쾌적한 편...</td>\n",
       "    </tr>\n",
       "    <tr>\n",
       "      <th>1</th>\n",
       "      <td>1</td>\n",
       "      <td>고기가 정말 맛있었어요! 육즙이 가득 있어서 너무 좋았아요 일하시는 분들 너무 친절...</td>\n",
       "    </tr>\n",
       "    <tr>\n",
       "      <th>2</th>\n",
       "      <td>1</td>\n",
       "      <td>잡내 없고 깔끔, 담백한 맛의 순댓국이 순댓국을 안 좋아하는 사람들에게도 술술 넘어...</td>\n",
       "    </tr>\n",
       "    <tr>\n",
       "      <th>3</th>\n",
       "      <td>1</td>\n",
       "      <td>고기 양이 푸짐해서 특 순대국밥을 시킨 기분이 듭니다 맛도 좋습니다 다만 양념장이 ...</td>\n",
       "    </tr>\n",
       "    <tr>\n",
       "      <th>4</th>\n",
       "      <td>1</td>\n",
       "      <td>순댓국 자체는 제가 먹어본 순대국밥집 중에서 Top5 안에는 들어요. 그러나 밥 양...</td>\n",
       "    </tr>\n",
       "    <tr>\n",
       "      <th>...</th>\n",
       "      <td>...</td>\n",
       "      <td>...</td>\n",
       "    </tr>\n",
       "    <tr>\n",
       "      <th>641757</th>\n",
       "      <td>2</td>\n",
       "      <td>요즘, 핫하게,,, 떠오르고 있는 중국집. , 맥주의 여 파루 속이 안 좋지만 와봄...</td>\n",
       "    </tr>\n",
       "    <tr>\n",
       "      <th>641758</th>\n",
       "      <td>0</td>\n",
       "      <td>원래 글 안 쓰는데 이거는 정말 다른 분들 위해서 써야 할 것 같네요 방금 포장 주...</td>\n",
       "    </tr>\n",
       "    <tr>\n",
       "      <th>641759</th>\n",
       "      <td>1</td>\n",
       "      <td>우리 팀 단골집, 술 먹고 다음 날 가면 푸짐하게 배불리 해장할 수 있는 곳, 주말...</td>\n",
       "    </tr>\n",
       "    <tr>\n",
       "      <th>641760</th>\n",
       "      <td>2</td>\n",
       "      <td>원래는 평택에 있었는데, 연남동에도 최근에 생겨서 방문했는데.. 진짜 줄이 어마어마...</td>\n",
       "    </tr>\n",
       "    <tr>\n",
       "      <th>641761</th>\n",
       "      <td>2</td>\n",
       "      <td>친구들의 추천으로 가보게 된 곳. 안성과 평택 몇 군데 위주로 체인점이 있는 소규모...</td>\n",
       "    </tr>\n",
       "  </tbody>\n",
       "</table>\n",
       "<p>641762 rows × 2 columns</p>\n",
       "</div>"
      ],
      "text/plain": [
       "        Rating                                             Review\n",
       "0            1  숙성 돼지고기 전문점입니다. 건물 모양 때문에 매장 모양도 좀 특이하지만 쾌적한 편...\n",
       "1            1  고기가 정말 맛있었어요! 육즙이 가득 있어서 너무 좋았아요 일하시는 분들 너무 친절...\n",
       "2            1  잡내 없고 깔끔, 담백한 맛의 순댓국이 순댓국을 안 좋아하는 사람들에게도 술술 넘어...\n",
       "3            1  고기 양이 푸짐해서 특 순대국밥을 시킨 기분이 듭니다 맛도 좋습니다 다만 양념장이 ...\n",
       "4            1  순댓국 자체는 제가 먹어본 순대국밥집 중에서 Top5 안에는 들어요. 그러나 밥 양...\n",
       "...        ...                                                ...\n",
       "641757       2  요즘, 핫하게,,, 떠오르고 있는 중국집. , 맥주의 여 파루 속이 안 좋지만 와봄...\n",
       "641758       0  원래 글 안 쓰는데 이거는 정말 다른 분들 위해서 써야 할 것 같네요 방금 포장 주...\n",
       "641759       1  우리 팀 단골집, 술 먹고 다음 날 가면 푸짐하게 배불리 해장할 수 있는 곳, 주말...\n",
       "641760       2  원래는 평택에 있었는데, 연남동에도 최근에 생겨서 방문했는데.. 진짜 줄이 어마어마...\n",
       "641761       2  친구들의 추천으로 가보게 된 곳. 안성과 평택 몇 군데 위주로 체인점이 있는 소규모...\n",
       "\n",
       "[641762 rows x 2 columns]"
      ]
     },
     "execution_count": 23,
     "metadata": {},
     "output_type": "execute_result"
    }
   ],
   "source": [
    "test_re"
   ]
  },
  {
   "cell_type": "code",
   "execution_count": 24,
   "metadata": {
    "id": "VtcLqWBQsmBU"
   },
   "outputs": [],
   "source": [
    "# 결측치 처리\n",
    "test_re = test_re.dropna().reset_index(drop=True)"
   ]
  },
  {
   "cell_type": "code",
   "execution_count": 25,
   "metadata": {
    "id": "uTJGQ3XMpJQh"
   },
   "outputs": [],
   "source": [
    "def sentiment_predict(new_sentence):\n",
    "    new_sentence = re.sub(r'[^ㄱ-ㅎㅏ-ㅣ가-힣 ]','', new_sentence)\n",
    "    new_sentence = okt.morphs(new_sentence)\n",
    "    new_sentence = [word for word in new_sentence if not word in stopwords]\n",
    "    encoded = tokenizer.texts_to_sequences([new_sentence])\n",
    "    pad_new = pad_sequences(encoded, maxlen = max_len)\n",
    "\n",
    "    score = float(loaded_model.predict(pad_new))\n",
    "    if (score > 0.5):\n",
    "        print(\"{:.2f}% 확률로 긍정 리뷰입니다.\".format(score * 100))\n",
    "    else :\n",
    "        print(\"{:.2f}% 확률로 부정 리뷰입니다.\".format((1 - score) * 100))\n"
   ]
  },
  {
   "cell_type": "code",
   "execution_count": 26,
   "metadata": {
    "id": "eR3Gie1isplT"
   },
   "outputs": [
    {
     "name": "stdout",
     "output_type": "stream",
     "text": [
      "0\n",
      "숙성 돼지고기 전문점입니다. 건물 모양 때문에 매장 모양도 좀 특이하지만 쾌적한 편이고 살짝 레트로 감성으로 분위기 잡아놨습니다. 모든 직원분들께서 전부 가능하다고 멘트 쳐주시며, 고기는 초반 커팅까지는 구워주십니다. 가격 저렴한 편 아니지만 맛은 준수합니다. 등심덧살이 인상 깊었는데 구이로 별로일 줄 알았는데 육향 짙고 얇게 저며 뻑뻑하지 않았습니다. 하이라이트는 된장찌개. 진짜 굿입니다. 버터 간장밥, 골뱅이 국수 등 나중에 더 맛봐야 할 것들은 남겨뒀습니다.\n",
      "WARNING:tensorflow:AutoGraph could not transform <function Model.make_predict_function.<locals>.predict_function at 0x000002A89227B8B0> and will run it as-is.\n",
      "Please report this to the TensorFlow team. When filing the bug, set the verbosity to 10 (on Linux, `export AUTOGRAPH_VERBOSITY=10`) and attach the full output.\n",
      "Cause: closure mismatch, requested ('self', 'step_function'), but source function had ()\n",
      "To silence this warning, decorate the function with @tf.autograph.experimental.do_not_convert\n",
      "WARNING: AutoGraph could not transform <function Model.make_predict_function.<locals>.predict_function at 0x000002A89227B8B0> and will run it as-is.\n",
      "Please report this to the TensorFlow team. When filing the bug, set the verbosity to 10 (on Linux, `export AUTOGRAPH_VERBOSITY=10`) and attach the full output.\n",
      "Cause: closure mismatch, requested ('self', 'step_function'), but source function had ()\n",
      "To silence this warning, decorate the function with @tf.autograph.experimental.do_not_convert\n",
      "1/1 [==============================] - 0s 481ms/step\n",
      "92.29% 확률로 부정 리뷰입니다.\n",
      "None\n",
      "\n",
      "1\n",
      "고기가 정말 맛있었어요! 육즙이 가득 있어서 너무 좋았아요 일하시는 분들 너무 친절하고 좋습니다 가격이 조금 있기는 하지만 그만한 맛이라고 생각!\n",
      "1/1 [==============================] - 0s 26ms/step\n",
      "52.25% 확률로 부정 리뷰입니다.\n",
      "None\n",
      "\n",
      "2\n",
      "잡내 없고 깔끔, 담백한 맛의 순댓국이 순댓국을 안 좋아하는 사람들에게도 술술 넘어갈 듯합니다. 정식 메뉴를 시키면 구성비 좋게 찹쌀순대와 수육이 나오는데 아주 푸짐해요. 해장하러 갔는데 국물이 고소해서 소주를 더 시키게 되는... 여하튼 순댓국이 일품입니다. 송파에선 알아주는 터줏대감인듯해요\n",
      "1/1 [==============================] - 0s 24ms/step\n",
      "91.06% 확률로 부정 리뷰입니다.\n",
      "None\n",
      "\n",
      "3\n",
      "고기 양이 푸짐해서 특 순대국밥을 시킨 기분이 듭니다 맛도 좋습니다 다만 양념장이 득뿍 있어서 간이 약간 짤 수도 있으니 참고하세요 기본적으로 웨이팅 있습니다\n",
      "1/1 [==============================] - 0s 25ms/step\n",
      "75.69% 확률로 부정 리뷰입니다.\n",
      "None\n",
      "\n",
      "4\n",
      "순댓국 자체는 제가 먹어본 순대국밥집 중에서 Top5 안에는 들어요. 그러나 밥 양이 적은 점, 공깃밥 자체가 맛나지만은 않았던 점, 식당 주위에 흡연자분들로 인해 일부 담배 냄새가 유입되는 점은 단점이라고 할만합니다.\n",
      "1/1 [==============================] - 0s 27ms/step\n",
      "87.53% 확률로 부정 리뷰입니다.\n",
      "None\n",
      "\n",
      "5\n",
      "괜찮아요. 가격 대비 양 많고... 무난한 식당이었네요. 순댓국은 푸짐한 느낌이고 개인적으로는 순댓국보다 찹쌀순대가 맛나요.\n",
      "1/1 [==============================] - 0s 25ms/step\n",
      "67.20% 확률로 부정 리뷰입니다.\n",
      "None\n",
      "\n",
      "6\n",
      "순대를 시키면 국물이 서비스로 나옴. 순대국밥에서 돼지 누린내가 나지 않고 깔끔하고 얼큰함.\n",
      "1/1 [==============================] - 0s 25ms/step\n",
      "67.96% 확률로 긍정 리뷰입니다.\n",
      "None\n",
      "\n",
      "7\n",
      "진한 국물에 건더기도 많음. 김치도 맛있고 직원분들도 친절했음.\n",
      "1/1 [==============================] - 0s 25ms/step\n",
      "83.27% 확률로 긍정 리뷰입니다.\n",
      "None\n",
      "\n",
      "8\n",
      "가락동에 있는 유명한 순대국밥집이에요. 양도 많고 친절해서 일부러 찾아가요\n",
      "1/1 [==============================] - 0s 30ms/step\n",
      "78.32% 확률로 긍정 리뷰입니다.\n",
      "None\n",
      "\n",
      "9\n",
      "늦은 밤 찾아간 곳. 사람들로 북적북적. 맛있습니다. \n",
      "1/1 [==============================] - 0s 29ms/step\n",
      "83.27% 확률로 긍정 리뷰입니다.\n",
      "None\n",
      "\n",
      "10\n",
      "주차된 차도 많고 줄 서서 먹음. 순대는 맛있으나 순댓국에 들어간 고기에서 잡내가 남. 맛은 평탄. 극찬할 맛 집이 아닌데 줄 서서 먹는 것이 이해가 잘 가지 않음.\n",
      "1/1 [==============================] - 0s 25ms/step\n",
      "77.34% 확률로 부정 리뷰입니다.\n",
      "None\n",
      "\n",
      "11\n",
      "맛있어요 항상 가는 단골이에요. 냄새도 안 나고 구수해요.\n",
      "1/1 [==============================] - 0s 25ms/step\n",
      "83.27% 확률로 긍정 리뷰입니다.\n",
      "None\n",
      "\n",
      "12\n",
      "자리가 많아 웨이팅이 별로 없고, 회전율이 빠른 편입니다. 개인적으로 순대보단 수육이 더 맛있었습니다. 수육의 식감은 매우 부드러운 편이고, 순대도 상당히 부드러운 식감이지만, 함경도식 스타일은 저에게 안 맞는 것 같습니다. 순댓국은 무난하게 맛있는 편이며, 다진 양념 안에 들어가 있습니다. 국밥이 상당히 무거운 편이라 한 그릇으로도 든든하실 수 있을 것 같습니다.\n",
      "1/1 [==============================] - 0s 24ms/step\n",
      "91.75% 확률로 부정 리뷰입니다.\n",
      "None\n",
      "\n",
      "13\n",
      "구수하고 깔끔한 잡내가 없는 순대국밥은 항상 기대를 저버리지 않는다. 정식 주문 시 작은 접시에 각종 부위의 고기와 찰진 순대는 단연 강추다.\n",
      "1/1 [==============================] - 0s 25ms/step\n",
      "61.76% 확률로 부정 리뷰입니다.\n",
      "None\n",
      "\n",
      "14\n",
      "송파구 터줏대감 같은 순댓국집이죠! 순댓국도 맛있고 오후에만 주문 가능한 순대곱창볶음도 뒤지지 않아요\n",
      "1/1 [==============================] - 0s 26ms/step\n",
      "55.56% 확률로 부정 리뷰입니다.\n",
      "None\n",
      "\n",
      "15\n",
      "유명세에 비해 순대 맛은 그저 그런 순대 속이 그냥 당면이다\n",
      "1/1 [==============================] - 0s 25ms/step\n",
      "78.32% 확률로 긍정 리뷰입니다.\n",
      "None\n",
      "\n",
      "16\n",
      "식사 술안주 모두 적합 친절하고 맛있어서 만족합니다 주차도 용이하고 편리합니다\n",
      "1/1 [==============================] - 0s 25ms/step\n",
      "81.90% 확률로 긍정 리뷰입니다.\n",
      "None\n",
      "\n",
      "17\n",
      "주차가 편리하여 좋고, 고기가 부드럽고 맛이 있습니다.\n",
      "1/1 [==============================] - 0s 25ms/step\n",
      "85.13% 확률로 긍정 리뷰입니다.\n",
      "None\n",
      "\n",
      "18\n",
      "송파에서 특히 가락시장 인근 유명한 집이라 저녁식사시간에 대기인원이 많았다. 주차는 발레를 1,000원에 자율적 비용으로 서비스해준 것이 가장 좋았고 음식은.. 특히 순대 국밥은 개인적으로는 좀 느끼했음 국물이. 그렇지만 모둠 수육은 아주 예쁘게 플레이팅되어 나온다. 맛도 좋음. 개인적인 취향이지만 순대국밥은 왠지 느끼함. 대부분 막걸리와 모둠 수육 순대국밥을 세트로 시키는 듯. 재미있는 집\n",
      "1/1 [==============================] - 0s 25ms/step\n",
      "92.10% 확률로 부정 리뷰입니다.\n",
      "None\n",
      "\n",
      "19\n",
      "맑은 돼지 국물. 사실 국물은 밍밍하지만 다진 양념을 풀어먹으면 약간의 조미료 냄새와 시원 텁텁한 맛이 난다. 머리고기가 푸짐하다. 순댓국은 평범하지만 찹쌀순대는 역대 먹어본 순대 중 제일. 피가 들어가지 않은 하얀 순대에서 나는 후추 냄새가 아주 좋다. 경상도식으로 쌈장 청양고추 순대 조합해 먹어도 맛있다. 진득한 찹쌀과 탱탱한 당면이 만들어내는 식감이 일품. 함경도 가고 싶다.\n",
      "1/1 [==============================] - 0s 25ms/step\n",
      "91.87% 확률로 부정 리뷰입니다.\n",
      "None\n",
      "\n",
      "20\n",
      "오래되고 유명하다고 해서 가봤는데, 순댓국 맛은 보통이었어요. 직원분들이 많고 친절하셨고, 위생관리가 잘 되는 듯했어요 발레 주차가 되는 점도 편리하고. 그래도 내 입에는 유명세에 비해 맛이 너무 보통이었어서 별 세 개만. 다른 메뉴는 어떨지 몰라도, 순댓국 먹으러 또 가고 싶은 생각은 크게 안 드네요.\n",
      "1/1 [==============================] - 0s 25ms/step\n",
      "90.92% 확률로 부정 리뷰입니다.\n",
      "None\n",
      "\n",
      "21\n",
      "찹쌀순대 좋아해서 가는 곳, 동네에선 예전부터 유명했던 곳이다. 사실 맛이 특별하게 맛있지는 않다 맛없지도 않고 먹을만한 곳. 지금이야 여러 순댓국 체인이 생겨서 순댓국 맛이 보편화되어 있기 때문에 더욱 이곳이 특별한 이유를 찾기 힘들어졌다\n",
      "1/1 [==============================] - 0s 26ms/step\n",
      "87.53% 확률로 부정 리뷰입니다.\n",
      "None\n",
      "\n",
      "22\n",
      "진득한 국물을 쭉 들이켜면 입술이 쩍 들러붙는 기름진 맛. 이 맛에 먹죠. 고기 건더기가 푸짐해서 배 두드리며 먹을 수 있는 최애 맛집  한국순대의 깔끔한 스타일도 좋지만 내 입맛에는 이게 더 맞음\n",
      "1/1 [==============================] - 0s 25ms/step\n",
      "80.18% 확률로 부정 리뷰입니다.\n",
      "None\n",
      "\n",
      "23\n",
      "그냥 좀 후회되었어요 자리 앉아서 주문하려는데 몇 번을 불러도 안 오시고 주문했는데 바쁘지 않았는데 10분 걸렸나요 혼자 가서 그러셨나 싶을 정도 무심함 맛은 평범\n",
      "1/1 [==============================] - 0s 23ms/step\n",
      "64.58% 확률로 부정 리뷰입니다.\n",
      "None\n",
      "\n",
      "24\n",
      "소문에 비해 음식 맛 별로임, 김치, 부추, 풋고추 등 안 주고 들깨가루 고추 양념 미리 넣어 취향대로 못 먹음. 더욱이 국물은 한약재를 우려낸 맛!!\n",
      "1/1 [==============================] - 0s 24ms/step\n",
      "69.62% 확률로 부정 리뷰입니다.\n",
      "None\n",
      "\n",
      "25\n",
      "충분히 맛있는 순대국밥을 먹을 수 있고 혼자 혹은 소수의 인원으로도 정식을 골라 머리고기 등을 맛있게 즐길 수 있다.\n",
      "1/1 [==============================] - 0s 25ms/step\n",
      "52.25% 확률로 부정 리뷰입니다.\n",
      "None\n",
      "\n",
      "26\n",
      "초등학교 때부터 가기 시작해서 지금까지 10년 넘게 가고 있는 집입니다. 로컬들은 다 알고 있는 맛집\n",
      "1/1 [==============================] - 0s 27ms/step\n",
      "61.51% 확률로 긍정 리뷰입니다.\n",
      "None\n",
      "\n",
      "27\n",
      "거의 늘 정식 먹음 구성비 꽤 괜찮은 편 맛도 괜찮고 집 근처라서 퇴근하고 종종 감\n",
      "1/1 [==============================] - 0s 24ms/step\n",
      "61.51% 확률로 긍정 리뷰입니다.\n",
      "None\n",
      "\n",
      "28\n",
      "자주 가는 순댓국집인데 고기가 많고 김치가 만 있어서 더욱 맛있어요.\n",
      "1/1 [==============================] - 0s 28ms/step\n",
      "76.11% 확률로 긍정 리뷰입니다.\n",
      "None\n",
      "\n",
      "29\n",
      "맛있습니다 순댓국 맛집 많지만 제 입맛에는 여기가 제일!!\n",
      "1/1 [==============================] - 0s 27ms/step\n",
      "80.25% 확률로 긍정 리뷰입니다.\n",
      "None\n",
      "\n"
     ]
    }
   ],
   "source": [
    "# test\n",
    "for num , i in enumerate(test_re.Review[:30].tolist()) :\n",
    "    print(num)\n",
    "    print(i)\n",
    "    print(sentiment_predict(i))\n",
    "    print()"
   ]
  },
  {
   "cell_type": "code",
   "execution_count": null,
   "metadata": {},
   "outputs": [],
   "source": []
  }
 ],
 "metadata": {
  "accelerator": "GPU",
  "colab": {
   "gpuType": "T4",
   "provenance": []
  },
  "gpuClass": "standard",
  "kernelspec": {
   "display_name": "Python 3 (ipykernel)",
   "language": "python",
   "name": "python3"
  },
  "language_info": {
   "codemirror_mode": {
    "name": "ipython",
    "version": 3
   },
   "file_extension": ".py",
   "mimetype": "text/x-python",
   "name": "python",
   "nbconvert_exporter": "python",
   "pygments_lexer": "ipython3",
   "version": "3.9.13"
  }
 },
 "nbformat": 4,
 "nbformat_minor": 1
}
