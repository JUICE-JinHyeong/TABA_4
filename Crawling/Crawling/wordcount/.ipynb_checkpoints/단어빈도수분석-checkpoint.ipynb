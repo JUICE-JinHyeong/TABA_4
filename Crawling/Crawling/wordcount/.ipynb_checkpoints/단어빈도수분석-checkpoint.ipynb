{
 "cells": [
  {
   "cell_type": "code",
   "execution_count": 9,
   "id": "fcde3ebb-f5fe-46ed-9711-e4190eca7f31",
   "metadata": {
    "tags": []
   },
   "outputs": [],
   "source": [
    "# youngho/nare\n",
    "\n",
    "import pyodbc\n",
    "\n",
    "DSNNAME = \"Tibero6\"\n",
    "DBUSER = \"youngho\"\n",
    "DBPWD = \"nare\"\n",
    "\n",
    "cnxn = pyodbc.connect('DSN='+DSNNAME+';UID='+DBUSER+';PWD='+DBPWD)\n",
    "cursor = cnxn.cursor()\n",
    "cursor.execute(\"SELECT REST_ID , REVIEW , LABEL_TF from REVIEW_COLLECT;\")\n",
    "\n",
    "# 1개 row만 가져오기\n",
    "# row = cursor.fetchone()\n",
    "# 모든 row 가져오기\n",
    "row = cursor.fetchall()\n",
    "# while row :\n",
    "#     print(row[0])\n",
    "#     row = cursor.fetchone()\n",
    "#     # row = cursor.fetchall()\n",
    "# print(row)\n",
    "\n",
    "cnxn.commit()\n",
    "cnxn.close()"
   ]
  },
  {
   "cell_type": "code",
   "execution_count": 12,
   "id": "d6c967f5-fea3-4020-8ec0-fea37138415a",
   "metadata": {
    "tags": []
   },
   "outputs": [
    {
     "data": {
      "text/plain": [
       "60000"
      ]
     },
     "execution_count": 12,
     "metadata": {},
     "output_type": "execute_result"
    }
   ],
   "source": [
    "len(row)"
   ]
  },
  {
   "cell_type": "code",
   "execution_count": 144,
   "id": "3d099142-fbb3-422f-b692-751c85563d18",
   "metadata": {
    "tags": []
   },
   "outputs": [
    {
     "data": {
      "text/html": [
       "<div>\n",
       "<style scoped>\n",
       "    .dataframe tbody tr th:only-of-type {\n",
       "        vertical-align: middle;\n",
       "    }\n",
       "\n",
       "    .dataframe tbody tr th {\n",
       "        vertical-align: top;\n",
       "    }\n",
       "\n",
       "    .dataframe thead th {\n",
       "        text-align: right;\n",
       "    }\n",
       "</style>\n",
       "<table border=\"1\" class=\"dataframe\">\n",
       "  <thead>\n",
       "    <tr style=\"text-align: right;\">\n",
       "      <th></th>\n",
       "      <th>리뷰</th>\n",
       "      <th>리뷰이미지url</th>\n",
       "      <th>작성자프로필</th>\n",
       "      <th>My플레이스</th>\n",
       "      <th>작성자이름</th>\n",
       "      <th>리뷰작성수</th>\n",
       "      <th>리뷰작성일</th>\n",
       "      <th>식당방문수</th>\n",
       "      <th>리뷰인증방식</th>\n",
       "      <th>식당id</th>\n",
       "      <th>사업장명</th>\n",
       "      <th>label</th>\n",
       "    </tr>\n",
       "  </thead>\n",
       "  <tbody>\n",
       "    <tr>\n",
       "      <th>0</th>\n",
       "      <td>좋아요</td>\n",
       "      <td>NaN</td>\n",
       "      <td>https://g-place.pstatic.net/assets/shared/imag...</td>\n",
       "      <td>https://m.place.naver.com/my/5e02c9a88f87a842b...</td>\n",
       "      <td>hoby3981</td>\n",
       "      <td>['리뷰 853', '사진 98', '팔로워 4']</td>\n",
       "      <td>2023년 5월 5일 금요일</td>\n",
       "      <td>1번째 방문</td>\n",
       "      <td>영수증</td>\n",
       "      <td>1715382361</td>\n",
       "      <td>로미파스타</td>\n",
       "      <td>2</td>\n",
       "    </tr>\n",
       "    <tr>\n",
       "      <th>1</th>\n",
       "      <td>피낫버터랑 쿠키앤크림 맛있어요~</td>\n",
       "      <td>NaN</td>\n",
       "      <td>https://g-place.pstatic.net/assets/shared/imag...</td>\n",
       "      <td>https://m.place.naver.com/my/5b86e1cd5db412cab...</td>\n",
       "      <td>한슐랭의 맛있는길</td>\n",
       "      <td>['리뷰 70', '사진 19', '팔로워 2']</td>\n",
       "      <td>2023년 5월 4일 목요일</td>\n",
       "      <td>1번째 방문</td>\n",
       "      <td>영수증</td>\n",
       "      <td>1715382361</td>\n",
       "      <td>로미파스타</td>\n",
       "      <td>2</td>\n",
       "    </tr>\n",
       "    <tr>\n",
       "      <th>2</th>\n",
       "      <td>좋아요</td>\n",
       "      <td>NaN</td>\n",
       "      <td>https://g-place.pstatic.net/assets/shared/imag...</td>\n",
       "      <td>https://m.place.naver.com/my/5ee1c1c58f87a842b...</td>\n",
       "      <td>tuddktkfkd663</td>\n",
       "      <td>['리뷰 76', '사진 1']</td>\n",
       "      <td>2023년 4월 29일 토요일</td>\n",
       "      <td>1번째 방문</td>\n",
       "      <td>영수증</td>\n",
       "      <td>1715382361</td>\n",
       "      <td>로미파스타</td>\n",
       "      <td>2</td>\n",
       "    </tr>\n",
       "    <tr>\n",
       "      <th>3</th>\n",
       "      <td>굿</td>\n",
       "      <td>NaN</td>\n",
       "      <td>https://g-place.pstatic.net/assets/shared/imag...</td>\n",
       "      <td>https://m.place.naver.com/my/5e44d4818f87a842b...</td>\n",
       "      <td>힐링031</td>\n",
       "      <td>['리뷰 236', '사진 62', '팔로워 2']</td>\n",
       "      <td>2023년 4월 22일 토요일</td>\n",
       "      <td>1번째 방문</td>\n",
       "      <td>영수증</td>\n",
       "      <td>1715382361</td>\n",
       "      <td>로미파스타</td>\n",
       "      <td>2</td>\n",
       "    </tr>\n",
       "    <tr>\n",
       "      <th>4</th>\n",
       "      <td>굿</td>\n",
       "      <td>NaN</td>\n",
       "      <td>https://g-place.pstatic.net/assets/shared/imag...</td>\n",
       "      <td>https://m.place.naver.com/my/5d4e0f7906aeb50e2...</td>\n",
       "      <td>에이스656</td>\n",
       "      <td>['리뷰 262', '사진 16']</td>\n",
       "      <td>2023년 4월 16일 일요일</td>\n",
       "      <td>1번째 방문</td>\n",
       "      <td>영수증</td>\n",
       "      <td>1715382361</td>\n",
       "      <td>로미파스타</td>\n",
       "      <td>2</td>\n",
       "    </tr>\n",
       "  </tbody>\n",
       "</table>\n",
       "</div>"
      ],
      "text/plain": [
       "                  리뷰 리뷰이미지url  \\\n",
       "0                좋아요      NaN   \n",
       "1  피낫버터랑 쿠키앤크림 맛있어요~      NaN   \n",
       "2                좋아요      NaN   \n",
       "3                  굿      NaN   \n",
       "4                  굿      NaN   \n",
       "\n",
       "                                              작성자프로필  \\\n",
       "0  https://g-place.pstatic.net/assets/shared/imag...   \n",
       "1  https://g-place.pstatic.net/assets/shared/imag...   \n",
       "2  https://g-place.pstatic.net/assets/shared/imag...   \n",
       "3  https://g-place.pstatic.net/assets/shared/imag...   \n",
       "4  https://g-place.pstatic.net/assets/shared/imag...   \n",
       "\n",
       "                                              My플레이스          작성자이름  \\\n",
       "0  https://m.place.naver.com/my/5e02c9a88f87a842b...       hoby3981   \n",
       "1  https://m.place.naver.com/my/5b86e1cd5db412cab...      한슐랭의 맛있는길   \n",
       "2  https://m.place.naver.com/my/5ee1c1c58f87a842b...  tuddktkfkd663   \n",
       "3  https://m.place.naver.com/my/5e44d4818f87a842b...          힐링031   \n",
       "4  https://m.place.naver.com/my/5d4e0f7906aeb50e2...         에이스656   \n",
       "\n",
       "                          리뷰작성수             리뷰작성일   식당방문수 리뷰인증방식        식당id  \\\n",
       "0  ['리뷰 853', '사진 98', '팔로워 4']   2023년 5월 5일 금요일  1번째 방문    영수증  1715382361   \n",
       "1   ['리뷰 70', '사진 19', '팔로워 2']   2023년 5월 4일 목요일  1번째 방문    영수증  1715382361   \n",
       "2             ['리뷰 76', '사진 1']  2023년 4월 29일 토요일  1번째 방문    영수증  1715382361   \n",
       "3  ['리뷰 236', '사진 62', '팔로워 2']  2023년 4월 22일 토요일  1번째 방문    영수증  1715382361   \n",
       "4           ['리뷰 262', '사진 16']  2023년 4월 16일 일요일  1번째 방문    영수증  1715382361   \n",
       "\n",
       "    사업장명  label  \n",
       "0  로미파스타      2  \n",
       "1  로미파스타      2  \n",
       "2  로미파스타      2  \n",
       "3  로미파스타      2  \n",
       "4  로미파스타      2  "
      ]
     },
     "execution_count": 144,
     "metadata": {},
     "output_type": "execute_result"
    }
   ],
   "source": [
    "# 데이터 정리하기 to tibero\n",
    "import pandas as pd\n",
    "import numpy as np \n",
    "data4 = pd.read_excel('제주특별자치도_제주시_연동_긍부정판단_04.xlsx')\n",
    "data4.head()"
   ]
  },
  {
   "cell_type": "code",
   "execution_count": 132,
   "id": "244b5565-9431-47d2-b039-b8270cf8feba",
   "metadata": {
    "tags": []
   },
   "outputs": [
    {
     "data": {
      "text/plain": [
       "Index(['리뷰', '리뷰이미지url', '작성자프로필', 'My플레이스', '작성자이름', '리뷰작성수', '리뷰작성일',\n",
       "       '식당방문수', '리뷰인증방식', '식당id', '사업장명', 'label'],\n",
       "      dtype='object')"
      ]
     },
     "execution_count": 132,
     "metadata": {},
     "output_type": "execute_result"
    }
   ],
   "source": [
    "data4.columns"
   ]
  },
  {
   "cell_type": "code",
   "execution_count": 146,
   "id": "bcbd2458-3dcc-4bdc-9fa9-c4e7a38a376e",
   "metadata": {
    "tags": []
   },
   "outputs": [
    {
     "name": "stdout",
     "output_type": "stream",
     "text": [
      "<class 'pandas.core.frame.DataFrame'>\n",
      "RangeIndex: 17509 entries, 0 to 17508\n",
      "Data columns (total 13 columns):\n",
      " #   Column    Non-Null Count  Dtype \n",
      "---  ------    --------------  ----- \n",
      " 0   리뷰        17509 non-null  object\n",
      " 1   리뷰이미지url  6386 non-null   object\n",
      " 2   작성자프로필    17509 non-null  object\n",
      " 3   My플레이스    17509 non-null  object\n",
      " 4   작성자이름     17509 non-null  object\n",
      " 5   리뷰작성수     17509 non-null  object\n",
      " 6   리뷰작성일     17509 non-null  object\n",
      " 7   식당방문수     17509 non-null  object\n",
      " 8   리뷰인증방식    17509 non-null  object\n",
      " 9   식당id      17509 non-null  int64 \n",
      " 10  사업장명      17509 non-null  object\n",
      " 11  label     17509 non-null  int64 \n",
      " 12  tf        17509 non-null  object\n",
      "dtypes: int64(2), object(11)\n",
      "memory usage: 1.7+ MB\n"
     ]
    }
   ],
   "source": [
    "data4.info()"
   ]
  },
  {
   "cell_type": "code",
   "execution_count": 145,
   "id": "26ddc2cd-8c18-4905-97b9-5485e38dbcdf",
   "metadata": {
    "tags": []
   },
   "outputs": [],
   "source": [
    "def tf(label) :\n",
    "    if label == 0:\n",
    "        return 'T'\n",
    "    else :\n",
    "        return 'F'\n",
    "    \n",
    "data4['tf'] = data4['label'].apply(tf)"
   ]
  },
  {
   "cell_type": "code",
   "execution_count": 43,
   "id": "bdbd01eb-4bc0-4c5f-a42d-d99ed85f96c2",
   "metadata": {
    "tags": []
   },
   "outputs": [
    {
     "data": {
      "text/plain": [
       "17509"
      ]
     },
     "execution_count": 43,
     "metadata": {},
     "output_type": "execute_result"
    }
   ],
   "source": [
    "len(data4)"
   ]
  },
  {
   "cell_type": "code",
   "execution_count": 42,
   "id": "5e554655-6323-4b36-8e8e-54ce8ffc6134",
   "metadata": {
    "tags": []
   },
   "outputs": [
    {
     "data": {
      "text/plain": [
       "13"
      ]
     },
     "execution_count": 42,
     "metadata": {},
     "output_type": "execute_result"
    }
   ],
   "source": [
    "columns = data4.columns.tolist()\n",
    "len(columns)"
   ]
  },
  {
   "cell_type": "code",
   "execution_count": 143,
   "id": "2dd36b88-dc89-4560-b92e-b615a1735044",
   "metadata": {
    "tags": []
   },
   "outputs": [],
   "source": [
    "# create table\n",
    "\n",
    "import pyodbc\n",
    "\n",
    "DSNNAME = \"Tibero6\"\n",
    "DBUSER = \"JH\"\n",
    "DBPWD = \"nare\"\n",
    "\n",
    "cnxn = pyodbc.connect('DSN='+DSNNAME+';UID='+DBUSER+';PWD='+DBPWD)\n",
    "cursor = cnxn.cursor()\n",
    "# cursor.execute(\"\\\n",
    "# CREATE TABLE REVIEW_COLLECT (\\\n",
    "#     REVIEW VARCHAR(5000),\\\n",
    "#     RE_IM_URL VARCHAR(9000),\\\n",
    "#     PROFILE VARCHAR(600),\\\n",
    "#     MY_PLACE VARCHAR(100),\\\n",
    "#     WRITER VARCHAR(30),\\\n",
    "#     WRITE_COUNT VARCHAR(40),\\\n",
    "#     WRITE_DAY VARCHAR(20),\\\n",
    "#     VISIT_COUNT VARCHAR(10),\\\n",
    "#     PAY_METHOD VARCHAR(5),\\\n",
    "#     REST_ID NUMBER,\\\n",
    "#     REST_NAME VARCHAR(50),\\\n",
    "#     LABEL NUMBER,\\\n",
    "#     LABEL_TF VARCHAR(2)\\\n",
    "# ) TABLESPACE USR PCTFREE 10 INITRANS 2 STORAGE (MAXEXTENTS UNLIMITED) LOGGING NOPARALLEL;\")\n",
    "\n",
    "\n",
    "# print(row)\n",
    "\n",
    "cnxn.commit()\n",
    "cnxn.close()"
   ]
  },
  {
   "cell_type": "code",
   "execution_count": 66,
   "id": "74f73f6a-6be0-436d-8b8a-00bedc1b8ecb",
   "metadata": {
    "tags": []
   },
   "outputs": [],
   "source": [
    "# 칼럼 이름들 가져오기\n",
    "\n",
    "import pyodbc\n",
    "\n",
    "DSNNAME = \"Tibero6\"\n",
    "DBUSER = \"JH\"\n",
    "DBPWD = \"nare\"\n",
    "\n",
    "cnxn = pyodbc.connect('DSN='+DSNNAME+';UID='+DBUSER+';PWD='+DBPWD)\n",
    "cursor = cnxn.cursor()\n",
    "\n",
    "# # 테이블 전체 조회\n",
    "# query = \"SELECT * FROM ALL_TAB_COMMENTS;\"\n",
    "# cursor.execute(query)\n",
    "# table_all = cursor.fetchall()\n",
    "\n",
    "table_name = 'REVIEW_COLLECT'  # 테이블 이름\n",
    "\n",
    "# 테이블의 칼럼 목록 가져오기\n",
    "query = f\"SELECT * FROM ALL_COL_COMMENTS WHERE TABLE_NAME = '{table_name}';\"\n",
    "cursor.execute(query)\n",
    "table_columns = cursor.fetchall()\n",
    "\n",
    "# 테이블 상세 정보\n",
    "query2 = f\"SELECT * FROM ALL_TAB_COLUMNS WHERE TABLE_NAME = '{table_name}'\"; \n",
    "cursor.execute(query2)\n",
    "table_info = cursor.fetchall()\n",
    "\n",
    "\n",
    "\n",
    "cnxn.commit()\n",
    "cnxn.close()"
   ]
  },
  {
   "cell_type": "code",
   "execution_count": 68,
   "id": "a3fb84e6-6819-4f3c-bd71-2b18c2bd9b13",
   "metadata": {
    "collapsed": true,
    "jupyter": {
     "outputs_hidden": true
    },
    "tags": []
   },
   "outputs": [
    {
     "data": {
      "text/plain": [
       "[('HYEMIN', 'REVIEW_COLLECT', 'MY_PLACE', None),\n",
       " ('HYEMIN', 'REVIEW_COLLECT', 'PAY_METHOD', None),\n",
       " ('HYEMIN', 'REVIEW_COLLECT', 'PROFILE', None),\n",
       " ('HYEMIN', 'REVIEW_COLLECT', 'REST_ID', None),\n",
       " ('HYEMIN', 'REVIEW_COLLECT', 'REST_NAME', None),\n",
       " ('HYEMIN', 'REVIEW_COLLECT', 'REVIEW', None),\n",
       " ('HYEMIN', 'REVIEW_COLLECT', 'RE_IM_URL', None),\n",
       " ('HYEMIN', 'REVIEW_COLLECT', 'VISIT_COUNT', None),\n",
       " ('HYEMIN', 'REVIEW_COLLECT', 'WRITER', None),\n",
       " ('HYEMIN', 'REVIEW_COLLECT', 'WRITE_COUNT', None),\n",
       " ('HYEMIN', 'REVIEW_COLLECT', 'WRITE_DAY', None),\n",
       " ('JH', 'REVIEW_COLLECT', 'LABEL', None),\n",
       " ('JH', 'REVIEW_COLLECT', 'LABEL_TF', None),\n",
       " ('JH', 'REVIEW_COLLECT', 'MY_PLACE', None),\n",
       " ('JH', 'REVIEW_COLLECT', 'PAY_METHOD', None),\n",
       " ('JH', 'REVIEW_COLLECT', 'PROFILE', None),\n",
       " ('JH', 'REVIEW_COLLECT', 'REST_ID', None),\n",
       " ('JH', 'REVIEW_COLLECT', 'REST_NAME', None),\n",
       " ('JH', 'REVIEW_COLLECT', 'REVIEW', None),\n",
       " ('JH', 'REVIEW_COLLECT', 'RE_IM_URL', None),\n",
       " ('JH', 'REVIEW_COLLECT', 'VISIT_COUNT', None),\n",
       " ('JH', 'REVIEW_COLLECT', 'WRITER', None),\n",
       " ('JH', 'REVIEW_COLLECT', 'WRITE_COUNT', None),\n",
       " ('JH', 'REVIEW_COLLECT', 'WRITE_DAY', None),\n",
       " ('YOUNGHO', 'REVIEW_COLLECT', 'LABEL', None),\n",
       " ('YOUNGHO', 'REVIEW_COLLECT', 'LABEL_TF', None),\n",
       " ('YOUNGHO', 'REVIEW_COLLECT', 'MY_PLACE', None),\n",
       " ('YOUNGHO', 'REVIEW_COLLECT', 'PAY_METHOD', None),\n",
       " ('YOUNGHO', 'REVIEW_COLLECT', 'PROFILE', None),\n",
       " ('YOUNGHO', 'REVIEW_COLLECT', 'REST_ID', None),\n",
       " ('YOUNGHO', 'REVIEW_COLLECT', 'REST_NAME', None),\n",
       " ('YOUNGHO', 'REVIEW_COLLECT', 'REVIEW', None),\n",
       " ('YOUNGHO', 'REVIEW_COLLECT', 'RE_IM_URL', None),\n",
       " ('YOUNGHO', 'REVIEW_COLLECT', 'VISIT_COUNT', None),\n",
       " ('YOUNGHO', 'REVIEW_COLLECT', 'WRITER', None),\n",
       " ('YOUNGHO', 'REVIEW_COLLECT', 'WRITE_COUNT', None),\n",
       " ('YOUNGHO', 'REVIEW_COLLECT', 'WRITE_DAY', None)]"
      ]
     },
     "execution_count": 68,
     "metadata": {},
     "output_type": "execute_result"
    }
   ],
   "source": [
    "table_columns"
   ]
  },
  {
   "cell_type": "code",
   "execution_count": 84,
   "id": "99fd7887-9828-4a8f-ad52-800e5a38965c",
   "metadata": {
    "tags": []
   },
   "outputs": [
    {
     "data": {
      "text/plain": [
       "'MY_PLACE'"
      ]
     },
     "execution_count": 84,
     "metadata": {},
     "output_type": "execute_result"
    }
   ],
   "source": [
    "iloc[2]"
   ]
  },
  {
   "cell_type": "code",
   "execution_count": 86,
   "id": "d1f1eaf4-3435-488f-ba5d-ea556a438822",
   "metadata": {
    "tags": []
   },
   "outputs": [],
   "source": [
    "# 컬럼만 추출하기\n",
    "\n",
    "tcolumn_lst = []\n",
    "for iloc in table_columns :\n",
    "    tcolumn_lst.append(iloc[2])"
   ]
  },
  {
   "cell_type": "code",
   "execution_count": 94,
   "id": "610419a2-4c8a-4b63-88be-b84dd7fce35d",
   "metadata": {
    "tags": []
   },
   "outputs": [
    {
     "data": {
      "text/plain": [
       "['LABEL_TF',\n",
       " 'REST_ID',\n",
       " 'REVIEW',\n",
       " 'WRITE_COUNT',\n",
       " 'MY_PLACE',\n",
       " 'WRITER',\n",
       " 'RE_IM_URL',\n",
       " 'REST_NAME',\n",
       " 'WRITE_DAY',\n",
       " 'LABEL',\n",
       " 'PROFILE',\n",
       " 'PAY_METHOD',\n",
       " 'VISIT_COUNT']"
      ]
     },
     "execution_count": 94,
     "metadata": {},
     "output_type": "execute_result"
    }
   ],
   "source": [
    "tcolumn_lst = list(set(tcolumn_lst))\n",
    "tcolumn_lst"
   ]
  },
  {
   "cell_type": "code",
   "execution_count": 69,
   "id": "11dcad57-4ca0-4c50-ac25-77bca850b4e3",
   "metadata": {
    "collapsed": true,
    "jupyter": {
     "outputs_hidden": true
    },
    "tags": []
   },
   "outputs": [
    {
     "data": {
      "text/plain": [
       "[('YOUNGHO', 'REVIEW_COLLECT', 'REVIEW', 'VARCHAR', None, 5000.0, 0.0, 0.0, 'Y', 0.0, None, None, 5000.0, 5000.0, 'C', 'N', 2733.0),\n",
       " ('YOUNGHO', 'REVIEW_COLLECT', 'RE_IM_URL', 'VARCHAR', None, 9000.0, 0.0, 0.0, 'Y', 1.0, None, None, 9000.0, 9000.0, 'C', 'N', 2733.0),\n",
       " ('YOUNGHO', 'REVIEW_COLLECT', 'PROFILE', 'VARCHAR', None, 600.0, 0.0, 0.0, 'Y', 2.0, None, None, 600.0, 600.0, 'C', 'N', 2733.0),\n",
       " ('YOUNGHO', 'REVIEW_COLLECT', 'MY_PLACE', 'VARCHAR', None, 300.0, 0.0, 0.0, 'Y', 3.0, None, None, 300.0, 300.0, 'C', 'N', 2733.0),\n",
       " ('YOUNGHO', 'REVIEW_COLLECT', 'WRITER', 'VARCHAR', None, 300.0, 0.0, 0.0, 'Y', 4.0, None, None, 300.0, 300.0, 'C', 'N', 2733.0),\n",
       " ('YOUNGHO', 'REVIEW_COLLECT', 'WRITE_COUNT', 'VARCHAR', None, 40.0, 0.0, 0.0, 'Y', 5.0, None, None, 40.0, 40.0, 'C', 'N', 2733.0),\n",
       " ('YOUNGHO', 'REVIEW_COLLECT', 'WRITE_DAY', 'VARCHAR', None, 300.0, 0.0, 0.0, 'Y', 6.0, None, None, 300.0, 300.0, 'C', 'N', 2733.0),\n",
       " ('YOUNGHO', 'REVIEW_COLLECT', 'VISIT_COUNT', 'VARCHAR', None, 10.0, 0.0, 0.0, 'Y', 7.0, None, None, 10.0, 10.0, 'C', 'N', 2733.0),\n",
       " ('YOUNGHO', 'REVIEW_COLLECT', 'PAY_METHOD', 'VARCHAR', None, 5.0, 0.0, 0.0, 'Y', 8.0, None, None, 5.0, 5.0, 'C', 'N', 2733.0),\n",
       " ('YOUNGHO', 'REVIEW_COLLECT', 'REST_ID', 'NUMBER', None, 22.0, None, None, 'Y', 9.0, None, None, 22.0, 0.0, None, 'N', 2733.0),\n",
       " ('YOUNGHO', 'REVIEW_COLLECT', 'REST_NAME', 'VARCHAR', None, 300.0, 0.0, 0.0, 'Y', 10.0, None, None, 300.0, 300.0, 'C', 'N', 2733.0),\n",
       " ('YOUNGHO', 'REVIEW_COLLECT', 'LABEL', 'NUMBER', None, 22.0, None, None, 'Y', 11.0, None, None, 22.0, 0.0, None, 'N', 2733.0),\n",
       " ('YOUNGHO', 'REVIEW_COLLECT', 'LABEL_TF', 'VARCHAR', None, 2.0, 0.0, 0.0, 'Y', 12.0, None, None, 2.0, 2.0, 'C', 'N', 2733.0),\n",
       " ('HYEMIN', 'REVIEW_COLLECT', 'REVIEW', 'VARCHAR', None, 15000.0, 0.0, 0.0, 'Y', 0.0, None, None, 15000.0, 15000.0, 'C', 'N', 2728.0),\n",
       " ('HYEMIN', 'REVIEW_COLLECT', 'RE_IM_URL', 'VARCHAR', None, 9000.0, 0.0, 0.0, 'Y', 1.0, None, None, 9000.0, 9000.0, 'C', 'N', 2728.0),\n",
       " ('HYEMIN', 'REVIEW_COLLECT', 'PROFILE', 'VARCHAR', None, 600.0, 0.0, 0.0, 'Y', 2.0, None, None, 600.0, 600.0, 'C', 'N', 2728.0),\n",
       " ('HYEMIN', 'REVIEW_COLLECT', 'MY_PLACE', 'VARCHAR', None, 300.0, 0.0, 0.0, 'Y', 3.0, None, None, 300.0, 300.0, 'C', 'N', 2728.0),\n",
       " ('HYEMIN', 'REVIEW_COLLECT', 'WRITER', 'VARCHAR', None, 300.0, 0.0, 0.0, 'Y', 4.0, None, None, 300.0, 300.0, 'C', 'N', 2728.0),\n",
       " ('HYEMIN', 'REVIEW_COLLECT', 'WRITE_COUNT', 'VARCHAR', None, 300.0, 0.0, 0.0, 'Y', 5.0, None, None, 300.0, 300.0, 'C', 'N', 2728.0),\n",
       " ('HYEMIN', 'REVIEW_COLLECT', 'WRITE_DAY', 'VARCHAR', None, 300.0, 0.0, 0.0, 'Y', 6.0, None, None, 300.0, 300.0, 'C', 'N', 2728.0),\n",
       " ('HYEMIN', 'REVIEW_COLLECT', 'VISIT_COUNT', 'VARCHAR', None, 10.0, 0.0, 0.0, 'Y', 7.0, None, None, 10.0, 10.0, 'C', 'N', 2728.0),\n",
       " ('HYEMIN', 'REVIEW_COLLECT', 'PAY_METHOD', 'VARCHAR', None, 15.0, 0.0, 0.0, 'Y', 8.0, None, None, 15.0, 15.0, 'C', 'N', 2728.0),\n",
       " ('HYEMIN', 'REVIEW_COLLECT', 'REST_ID', 'NUMBER', None, 22.0, None, None, 'Y', 9.0, None, None, 22.0, 0.0, None, 'N', 2728.0),\n",
       " ('HYEMIN', 'REVIEW_COLLECT', 'REST_NAME', 'VARCHAR', None, 300.0, 0.0, 0.0, 'Y', 10.0, None, None, 300.0, 300.0, 'C', 'N', 2728.0),\n",
       " ('JH', 'REVIEW_COLLECT', 'REVIEW', 'VARCHAR', None, 5000.0, 0.0, 0.0, 'Y', 0.0, None, None, 5000.0, 5000.0, 'B', 'N', 2773.0),\n",
       " ('JH', 'REVIEW_COLLECT', 'RE_IM_URL', 'VARCHAR', None, 9000.0, 0.0, 0.0, 'Y', 1.0, None, None, 9000.0, 9000.0, 'B', 'N', 2773.0),\n",
       " ('JH', 'REVIEW_COLLECT', 'PROFILE', 'VARCHAR', None, 600.0, 0.0, 0.0, 'Y', 2.0, None, None, 600.0, 600.0, 'B', 'N', 2773.0),\n",
       " ('JH', 'REVIEW_COLLECT', 'MY_PLACE', 'VARCHAR', None, 100.0, 0.0, 0.0, 'Y', 3.0, None, None, 100.0, 100.0, 'B', 'N', 2773.0),\n",
       " ('JH', 'REVIEW_COLLECT', 'WRITER', 'VARCHAR', None, 30.0, 0.0, 0.0, 'Y', 4.0, None, None, 30.0, 30.0, 'B', 'N', 2773.0),\n",
       " ('JH', 'REVIEW_COLLECT', 'WRITE_COUNT', 'VARCHAR', None, 40.0, 0.0, 0.0, 'Y', 5.0, None, None, 40.0, 40.0, 'B', 'N', 2773.0),\n",
       " ('JH', 'REVIEW_COLLECT', 'WRITE_DAY', 'VARCHAR', None, 20.0, 0.0, 0.0, 'Y', 6.0, None, None, 20.0, 20.0, 'B', 'N', 2773.0),\n",
       " ('JH', 'REVIEW_COLLECT', 'VISIT_COUNT', 'VARCHAR', None, 10.0, 0.0, 0.0, 'Y', 7.0, None, None, 10.0, 10.0, 'B', 'N', 2773.0),\n",
       " ('JH', 'REVIEW_COLLECT', 'PAY_METHOD', 'VARCHAR', None, 5.0, 0.0, 0.0, 'Y', 8.0, None, None, 5.0, 5.0, 'B', 'N', 2773.0),\n",
       " ('JH', 'REVIEW_COLLECT', 'REST_ID', 'NUMBER', None, 22.0, None, None, 'Y', 9.0, None, None, 22.0, 0.0, None, 'N', 2773.0),\n",
       " ('JH', 'REVIEW_COLLECT', 'REST_NAME', 'VARCHAR', None, 50.0, 0.0, 0.0, 'Y', 10.0, None, None, 50.0, 50.0, 'B', 'N', 2773.0),\n",
       " ('JH', 'REVIEW_COLLECT', 'LABEL', 'NUMBER', None, 22.0, None, None, 'Y', 11.0, None, None, 22.0, 0.0, None, 'N', 2773.0),\n",
       " ('JH', 'REVIEW_COLLECT', 'LABEL_TF', 'VARCHAR', None, 2.0, 0.0, 0.0, 'Y', 12.0, None, None, 2.0, 2.0, 'B', 'N', 2773.0)]"
      ]
     },
     "execution_count": 69,
     "metadata": {},
     "output_type": "execute_result"
    }
   ],
   "source": [
    "table_info"
   ]
  },
  {
   "cell_type": "code",
   "execution_count": null,
   "id": "6607ac93-a841-40f1-8549-24b31d10adf4",
   "metadata": {},
   "outputs": [],
   "source": [
    "sql = f\"INSERT INTO your_table_name (column1, column2, ...) VALUES ({row['column1']}, {row['column2']}, ...)\""
   ]
  },
  {
   "cell_type": "code",
   "execution_count": 49,
   "id": "56967b92-389d-4c82-8705-11257f285601",
   "metadata": {
    "tags": []
   },
   "outputs": [
    {
     "data": {
      "text/plain": [
       "'리뷰, 리뷰이미지url, 작성자프로필, My플레이스, 작성자이름, 리뷰작성수, 리뷰작성일, 식당방문수, 리뷰인증방식, 식당id, 사업장명, label, tf'"
      ]
     },
     "execution_count": 49,
     "metadata": {},
     "output_type": "execute_result"
    }
   ],
   "source": [
    "columns_str = ', '.join(columns)\n",
    "columns_str"
   ]
  },
  {
   "cell_type": "code",
   "execution_count": 135,
   "id": "a3deb33c-b575-451c-b8bf-0e61885a6606",
   "metadata": {
    "tags": []
   },
   "outputs": [],
   "source": [
    "data4.식당id = data4.식당id.astype(str)"
   ]
  },
  {
   "cell_type": "code",
   "execution_count": 137,
   "id": "9c80a432-9f9b-404b-9733-c0dfe3850404",
   "metadata": {
    "tags": []
   },
   "outputs": [],
   "source": [
    "data4.label = data4.label.astype(str)"
   ]
  },
  {
   "cell_type": "code",
   "execution_count": 166,
   "id": "d3ebc01e-0151-4f1a-95f8-fee821cae876",
   "metadata": {
    "tags": []
   },
   "outputs": [
    {
     "name": "stdout",
     "output_type": "stream",
     "text": [
      "<class 'pandas.core.frame.DataFrame'>\n",
      "RangeIndex: 17509 entries, 0 to 17508\n",
      "Data columns (total 13 columns):\n",
      " #   Column    Non-Null Count  Dtype \n",
      "---  ------    --------------  ----- \n",
      " 0   리뷰        17509 non-null  object\n",
      " 1   리뷰이미지url  6386 non-null   object\n",
      " 2   작성자프로필    17509 non-null  object\n",
      " 3   My플레이스    17509 non-null  object\n",
      " 4   작성자이름     17509 non-null  object\n",
      " 5   리뷰작성수     17509 non-null  object\n",
      " 6   리뷰작성일     17509 non-null  object\n",
      " 7   식당방문수     17509 non-null  object\n",
      " 8   리뷰인증방식    17509 non-null  object\n",
      " 9   식당id      17509 non-null  int64 \n",
      " 10  사업장명      17509 non-null  object\n",
      " 11  label     17509 non-null  int64 \n",
      " 12  tf        17509 non-null  object\n",
      "dtypes: int64(2), object(11)\n",
      "memory usage: 1.7+ MB\n"
     ]
    }
   ],
   "source": [
    "data4.info()"
   ]
  },
  {
   "cell_type": "code",
   "execution_count": 96,
   "id": "1f88c435-6a0a-48b4-885c-82efdc4052b1",
   "metadata": {
    "tags": []
   },
   "outputs": [
    {
     "name": "stdout",
     "output_type": "stream",
     "text": [
      "13\n",
      "13\n"
     ]
    }
   ],
   "source": [
    "print(len(columns))\n",
    "print(len(tcolumn_lst))"
   ]
  },
  {
   "cell_type": "code",
   "execution_count": 158,
   "id": "cb3e8729-67fb-4e8c-9b9b-53ee7c0a4e54",
   "metadata": {
    "tags": []
   },
   "outputs": [
    {
     "name": "stdout",
     "output_type": "stream",
     "text": [
      "\n",
      "['리뷰 853', '사진 98', '팔로워 4']\n",
      "좋아요,nan,https://g-place.pstatic.net/assets/shared/images/icon_default_profile.png,https://m.place.naver.com/my/5e02c9a88f87a842bc9a2cc9/review?v=2,hoby3981,['리뷰 853', '사진 98', '팔로워 4'],2023년 5월 5일 금요일,1번째 방문,영수증,1715382361,로미파스타,2,F\n"
     ]
    }
   ],
   "source": [
    "for row in data4[:1].itertuples(index=False):\n",
    "    # print(len(row))\n",
    "    # print(type(row))\n",
    "    # print(tuple(row))\n",
    "    # print(*row)\n",
    "    print()\n",
    "    print(row[5])\n",
    "    print(f'{row[0]},{row[1]},{row[2]},{row[3]},{row[4]},{row[5]},{row[6]},{row[7]},{row[8]},{row[9]},{row[10]},{row[11]},{row[12]}')"
   ]
  },
  {
   "cell_type": "code",
   "execution_count": null,
   "id": "046a46be-47d6-47ca-8a7f-d496bfb72faa",
   "metadata": {
    "tags": []
   },
   "outputs": [],
   "source": []
  },
  {
   "cell_type": "code",
   "execution_count": 112,
   "id": "3b439c3b-3198-41ed-93e4-be7f17db9c41",
   "metadata": {
    "tags": []
   },
   "outputs": [
    {
     "data": {
      "text/plain": [
       "'리뷰, 리뷰이미지url, 작성자프로필, My플레이스, 작성자이름, 리뷰작성수, 리뷰작성일, 식당방문수, 리뷰인증방식, 식당id, 사업장명, label, tf'"
      ]
     },
     "execution_count": 112,
     "metadata": {},
     "output_type": "execute_result"
    }
   ],
   "source": [
    "str_columns = ', '.join(columns)\n",
    "str_columns"
   ]
  },
  {
   "cell_type": "code",
   "execution_count": 113,
   "id": "843dd71b-17eb-4440-a1dc-d34cf0ea885f",
   "metadata": {
    "tags": []
   },
   "outputs": [
    {
     "data": {
      "text/plain": [
       "'LABEL_TF, REST_ID, REVIEW, WRITE_COUNT, MY_PLACE, WRITER, RE_IM_URL, REST_NAME, WRITE_DAY, LABEL, PROFILE, PAY_METHOD, VISIT_COUNT'"
      ]
     },
     "execution_count": 113,
     "metadata": {},
     "output_type": "execute_result"
    }
   ],
   "source": [
    "str_tcolumns = ', '.join(tcolumn_lst)el, tf'\n",
    "str_tcolumns"
   ]
  },
  {
   "cell_type": "code",
   "execution_count": 156,
   "id": "591ae407-386c-4f29-8c2b-a79efd0474ee",
   "metadata": {
    "tags": []
   },
   "outputs": [
    {
     "data": {
      "text/plain": [
       "13"
      ]
     },
     "execution_count": 156,
     "metadata": {},
     "output_type": "execute_result"
    }
   ],
   "source": [
    "len(row)"
   ]
  },
  {
   "cell_type": "code",
   "execution_count": null,
   "id": "102aca1c-a41c-4865-a1f0-e63083b79f0e",
   "metadata": {
    "collapsed": true,
    "jupyter": {
     "outputs_hidden": true
    },
    "tags": []
   },
   "outputs": [],
   "source": [
    "'리뷰, 리뷰이미지url, 작성자프로필, My플레이스, 작성자이름, 리뷰작성수, 리뷰작성일, 식당방문수, 리뷰인증방식, 식당id, 사업장명, label, tf'"
   ]
  },
  {
   "cell_type": "code",
   "execution_count": 182,
   "id": "3b06f925-d8c4-432b-821a-690b31b21662",
   "metadata": {
    "tags": []
   },
   "outputs": [],
   "source": [
    "# DSNNAME = \"Tibero6\"\n",
    "# DBUSER = \"JH\"\n",
    "# DBPWD = \"nare\"\n",
    "\n",
    "# cnxn = pyodbc.connect('DSN='+DSNNAME+';UID='+DBUSER+';PWD='+DBPWD)\n",
    "# cursor = cnxn.cursor()\n",
    "\n",
    "# # 테이블에 데이터프레임 삽입\n",
    "# # itertuples 데이터프레임을 한 줄 씩!\n",
    "# for row in data4.itertuples(index=False):\n",
    "#     query = f\"INSERT INTO REVIEW_COLLECT (REVIEW, RE_IM_URL, PROFILE, MY_PLACE, WRITER, WRITE_COUNT, WRITE_DAY, VISIT_COUNT, PAY_METHOD, REST_ID, REST_NAME, LABEL, LABEL_TF) \" \\\n",
    "#             f\"VALUES ({str(row[0])},{str(row[1])},{str(row[2])},{str(row[3])},{str(row[4])},{str(row[5])},{str(row[6])},{str(row[7])},{str(row[8])},{int(row[9])},{str(row[10])},{int(row[11])},{str(row[12])})\"\n",
    "#     cursor.execute(query)\n",
    "\n",
    "# # # 테이블에 데이터프레임 삽입\n",
    "# # for row in data4.itertuples(index=False):\n",
    "# #     query = \"INSERT INTO REVIEW_COLLECT (REVIEW, RE_IM_URL, PROFILE, MY_PLACE, WRITER, WRITE_COUNT, WRITE_DAY, VISIT_COUNT, PAY_METHOD, REST_ID, REST_NAME, LABEL, LABEL_TF) \" \\\n",
    "# #             \"VALUES (?, ?, ?, ?, ?, ?, ?, ?, ?, ?, ?, ?, ?)\"\n",
    "# #     print(type(row[1]))\n",
    "# #     cursor.execute(query, *row)\n",
    "\n",
    "# # 테이블에 데이터프레임 삽입\n",
    "# # for row in data4.itertuples(index=False):\n",
    "# #     query = \"INSERT INTO REVIEW_COLLECT (REVIEW, RE_IM_URL, PROFILE, MY_PLACE, WRITER, WRITE_COUNT, WRITE_DAY, VISIT_COUNT, PAY_METHOD, REST_ID, REST_NAME, LABEL, LABEL_TF) \" \\\n",
    "# #             \"VALUES (?, ?, ?, ?, ?, ?, ?, ?, ?, ?, ?, ?, ?)\"\n",
    "# #     cursor.execute(query, row.리뷰, row.리뷰이미지url, row.작성자프로필, row.My플레이스, row.작성자이름, row.리뷰작성수, row.리뷰작성일, row.식당방문수, row.리뷰인증방식, row.식당id, row.사업장명, row.label, row.tf)\n",
    "\n",
    "\n",
    "# cnxn.commit()\n",
    "# cnxn.close()"
   ]
  },
  {
   "cell_type": "code",
   "execution_count": 183,
   "id": "0163513e-1de5-4d60-a02b-4a20f61bed05",
   "metadata": {
    "tags": []
   },
   "outputs": [],
   "source": [
    "# 빈도 분석\n",
    "\n",
    "# youngho/nare\n",
    "\n",
    "import pyodbc\n",
    "\n",
    "DSNNAME = \"Tibero6\"\n",
    "DBUSER = \"youngho\"\n",
    "DBPWD = \"nare\"\n",
    "\n",
    "cnxn = pyodbc.connect('DSN='+DSNNAME+';UID='+DBUSER+';PWD='+DBPWD)\n",
    "cursor = cnxn.cursor()\n",
    "cursor.execute(\"SELECT REST_ID , REVIEW , LABEL_TF from REVIEW_COLLECT;\")\n",
    "\n",
    "# 1개 row만 가져오기\n",
    "# row = cursor.fetchone()\n",
    "# 모든 row 가져오기\n",
    "row = cursor.fetchall()\n",
    "# while row :\n",
    "#     print(row[0])\n",
    "#     row = cursor.fetchone()\n",
    "#     # row = cursor.fetchall()\n",
    "# print(row)\n",
    "\n",
    "cnxn.commit()\n",
    "cnxn.close()"
   ]
  },
  {
   "cell_type": "code",
   "execution_count": 185,
   "id": "17e61495-b790-4363-9ff6-6a836fe8fa2b",
   "metadata": {
    "tags": []
   },
   "outputs": [
    {
     "data": {
      "text/plain": [
       "60000"
      ]
     },
     "execution_count": 185,
     "metadata": {},
     "output_type": "execute_result"
    }
   ],
   "source": [
    "len(row)"
   ]
  },
  {
   "cell_type": "code",
   "execution_count": 224,
   "id": "a5d15cbc-64f5-4e51-9d42-454fd5ccb8e4",
   "metadata": {
    "tags": []
   },
   "outputs": [],
   "source": [
    "row_4 = data4[['식당id' , '리뷰' , 'tf']]\n",
    "row_4= row_4.rename(columns={'식당id' : 'REST_ID' , '리뷰' : 'REVIEW' , 'tf' : 'LABEL_TF'})"
   ]
  },
  {
   "cell_type": "code",
   "execution_count": 225,
   "id": "be39677a-e821-4736-82d6-489c4c5b6f3f",
   "metadata": {
    "tags": []
   },
   "outputs": [
    {
     "data": {
      "text/html": [
       "<div>\n",
       "<style scoped>\n",
       "    .dataframe tbody tr th:only-of-type {\n",
       "        vertical-align: middle;\n",
       "    }\n",
       "\n",
       "    .dataframe tbody tr th {\n",
       "        vertical-align: top;\n",
       "    }\n",
       "\n",
       "    .dataframe thead th {\n",
       "        text-align: right;\n",
       "    }\n",
       "</style>\n",
       "<table border=\"1\" class=\"dataframe\">\n",
       "  <thead>\n",
       "    <tr style=\"text-align: right;\">\n",
       "      <th></th>\n",
       "      <th>REST_ID</th>\n",
       "      <th>REVIEW</th>\n",
       "      <th>LABEL_TF</th>\n",
       "    </tr>\n",
       "  </thead>\n",
       "  <tbody>\n",
       "    <tr>\n",
       "      <th>0</th>\n",
       "      <td>1715382361</td>\n",
       "      <td>좋아요</td>\n",
       "      <td>F</td>\n",
       "    </tr>\n",
       "    <tr>\n",
       "      <th>1</th>\n",
       "      <td>1715382361</td>\n",
       "      <td>피낫버터랑 쿠키앤크림 맛있어요~</td>\n",
       "      <td>F</td>\n",
       "    </tr>\n",
       "    <tr>\n",
       "      <th>2</th>\n",
       "      <td>1715382361</td>\n",
       "      <td>좋아요</td>\n",
       "      <td>F</td>\n",
       "    </tr>\n",
       "    <tr>\n",
       "      <th>3</th>\n",
       "      <td>1715382361</td>\n",
       "      <td>굿</td>\n",
       "      <td>F</td>\n",
       "    </tr>\n",
       "    <tr>\n",
       "      <th>4</th>\n",
       "      <td>1715382361</td>\n",
       "      <td>굿</td>\n",
       "      <td>F</td>\n",
       "    </tr>\n",
       "    <tr>\n",
       "      <th>...</th>\n",
       "      <td>...</td>\n",
       "      <td>...</td>\n",
       "      <td>...</td>\n",
       "    </tr>\n",
       "    <tr>\n",
       "      <th>17504</th>\n",
       "      <td>1971746359</td>\n",
       "      <td>친절해요</td>\n",
       "      <td>F</td>\n",
       "    </tr>\n",
       "    <tr>\n",
       "      <th>17505</th>\n",
       "      <td>1971746359</td>\n",
       "      <td>친절해요</td>\n",
       "      <td>F</td>\n",
       "    </tr>\n",
       "    <tr>\n",
       "      <th>17506</th>\n",
       "      <td>1971746359</td>\n",
       "      <td>굿</td>\n",
       "      <td>F</td>\n",
       "    </tr>\n",
       "    <tr>\n",
       "      <th>17507</th>\n",
       "      <td>1971746359</td>\n",
       "      <td>대화하기 좋아요</td>\n",
       "      <td>F</td>\n",
       "    </tr>\n",
       "    <tr>\n",
       "      <th>17508</th>\n",
       "      <td>1971746359</td>\n",
       "      <td>굿</td>\n",
       "      <td>F</td>\n",
       "    </tr>\n",
       "  </tbody>\n",
       "</table>\n",
       "<p>17509 rows × 3 columns</p>\n",
       "</div>"
      ],
      "text/plain": [
       "          REST_ID             REVIEW LABEL_TF\n",
       "0      1715382361                좋아요        F\n",
       "1      1715382361  피낫버터랑 쿠키앤크림 맛있어요~        F\n",
       "2      1715382361                좋아요        F\n",
       "3      1715382361                  굿        F\n",
       "4      1715382361                  굿        F\n",
       "...           ...                ...      ...\n",
       "17504  1971746359               친절해요        F\n",
       "17505  1971746359               친절해요        F\n",
       "17506  1971746359                  굿        F\n",
       "17507  1971746359           대화하기 좋아요        F\n",
       "17508  1971746359                  굿        F\n",
       "\n",
       "[17509 rows x 3 columns]"
      ]
     },
     "execution_count": 225,
     "metadata": {},
     "output_type": "execute_result"
    }
   ],
   "source": [
    "########### INSERT!\n",
    "\n",
    "row_4"
   ]
  },
  {
   "cell_type": "code",
   "execution_count": null,
   "id": "82845933-f632-4e82-bbca-af0e27ad4f91",
   "metadata": {},
   "outputs": [],
   "source": [
    "'리뷰, 리뷰이미지url, 작성자프로필, My플레이스, 작성자이름, 리뷰작성수, 리뷰작성일, 식당방문수, 리뷰인증방식, 식당id, 사업장명, label, tf'"
   ]
  },
  {
   "cell_type": "code",
   "execution_count": 188,
   "id": "3ca57c79-39cc-44d9-a51a-7eb7e0702b91",
   "metadata": {
    "tags": []
   },
   "outputs": [],
   "source": [
    "lst_row_01 = []\n",
    "lst_row_02 = []\n",
    "lst_row_03 = []\n",
    "for i in row :\n",
    "    lst_row_01.append(i[0])\n",
    "    lst_row_02.append(i[1])\n",
    "    lst_row_03.append(i[2])"
   ]
  },
  {
   "cell_type": "code",
   "execution_count": 189,
   "id": "50fd4f10-21bd-4517-9593-f99891120ff3",
   "metadata": {
    "tags": []
   },
   "outputs": [],
   "source": [
    "row_frm = pd.DataFrame({'REST_ID' : lst_row_01 , 'REVIEW' : lst_row_02 , 'LABEL_TF' : lst_row_03})"
   ]
  },
  {
   "cell_type": "code",
   "execution_count": 226,
   "id": "cc557c2c-da0b-4dc2-a4a1-a3e541ea0641",
   "metadata": {
    "collapsed": true,
    "jupyter": {
     "outputs_hidden": true
    },
    "tags": []
   },
   "outputs": [
    {
     "data": {
      "text/html": [
       "<div>\n",
       "<style scoped>\n",
       "    .dataframe tbody tr th:only-of-type {\n",
       "        vertical-align: middle;\n",
       "    }\n",
       "\n",
       "    .dataframe tbody tr th {\n",
       "        vertical-align: top;\n",
       "    }\n",
       "\n",
       "    .dataframe thead th {\n",
       "        text-align: right;\n",
       "    }\n",
       "</style>\n",
       "<table border=\"1\" class=\"dataframe\">\n",
       "  <thead>\n",
       "    <tr style=\"text-align: right;\">\n",
       "      <th></th>\n",
       "      <th>REST_ID</th>\n",
       "      <th>REVIEW</th>\n",
       "      <th>LABEL_TF</th>\n",
       "    </tr>\n",
       "  </thead>\n",
       "  <tbody>\n",
       "    <tr>\n",
       "      <th>0</th>\n",
       "      <td>1.713848e+09</td>\n",
       "      <td>음식도 맛있고 와인도 맛있고 무엇보다 와인 추천 부탁드리면 친절하게 잘 설명해주시고...</td>\n",
       "      <td>T</td>\n",
       "    </tr>\n",
       "    <tr>\n",
       "      <th>1</th>\n",
       "      <td>1.713848e+09</td>\n",
       "      <td>제주에 가면 항상 들리는 최고 애정하는곳입니다\\n봉골레파스타와 양갈비스테이크 최고에요</td>\n",
       "      <td>T</td>\n",
       "    </tr>\n",
       "    <tr>\n",
       "      <th>2</th>\n",
       "      <td>1.713848e+09</td>\n",
       "      <td>매우 만족합니다. 음식의 간이 좋았고, 상황에 맞는 서비스가 좋았어요. 좋은 느낌을...</td>\n",
       "      <td>T</td>\n",
       "    </tr>\n",
       "    <tr>\n",
       "      <th>3</th>\n",
       "      <td>1.713848e+09</td>\n",
       "      <td>분위기도 좋았고 음식도 깔끔하게 잘 나와서 좋았어요!! 직원분께서도 친절하게 설명도...</td>\n",
       "      <td>T</td>\n",
       "    </tr>\n",
       "    <tr>\n",
       "      <th>4</th>\n",
       "      <td>1.713848e+09</td>\n",
       "      <td>저는 서울살고 제주는 정말 관광으로\\n일년에 1,2번인데 그렇게 갈때마다\\n봉플라봉...</td>\n",
       "      <td>F</td>\n",
       "    </tr>\n",
       "    <tr>\n",
       "      <th>...</th>\n",
       "      <td>...</td>\n",
       "      <td>...</td>\n",
       "      <td>...</td>\n",
       "    </tr>\n",
       "    <tr>\n",
       "      <th>17504</th>\n",
       "      <td>1.971746e+09</td>\n",
       "      <td>친절해요</td>\n",
       "      <td>F</td>\n",
       "    </tr>\n",
       "    <tr>\n",
       "      <th>17505</th>\n",
       "      <td>1.971746e+09</td>\n",
       "      <td>친절해요</td>\n",
       "      <td>F</td>\n",
       "    </tr>\n",
       "    <tr>\n",
       "      <th>17506</th>\n",
       "      <td>1.971746e+09</td>\n",
       "      <td>굿</td>\n",
       "      <td>F</td>\n",
       "    </tr>\n",
       "    <tr>\n",
       "      <th>17507</th>\n",
       "      <td>1.971746e+09</td>\n",
       "      <td>대화하기 좋아요</td>\n",
       "      <td>F</td>\n",
       "    </tr>\n",
       "    <tr>\n",
       "      <th>17508</th>\n",
       "      <td>1.971746e+09</td>\n",
       "      <td>굿</td>\n",
       "      <td>F</td>\n",
       "    </tr>\n",
       "  </tbody>\n",
       "</table>\n",
       "<p>77509 rows × 3 columns</p>\n",
       "</div>"
      ],
      "text/plain": [
       "            REST_ID                                             REVIEW  \\\n",
       "0      1.713848e+09  음식도 맛있고 와인도 맛있고 무엇보다 와인 추천 부탁드리면 친절하게 잘 설명해주시고...   \n",
       "1      1.713848e+09    제주에 가면 항상 들리는 최고 애정하는곳입니다\\n봉골레파스타와 양갈비스테이크 최고에요   \n",
       "2      1.713848e+09  매우 만족합니다. 음식의 간이 좋았고, 상황에 맞는 서비스가 좋았어요. 좋은 느낌을...   \n",
       "3      1.713848e+09  분위기도 좋았고 음식도 깔끔하게 잘 나와서 좋았어요!! 직원분께서도 친절하게 설명도...   \n",
       "4      1.713848e+09  저는 서울살고 제주는 정말 관광으로\\n일년에 1,2번인데 그렇게 갈때마다\\n봉플라봉...   \n",
       "...             ...                                                ...   \n",
       "17504  1.971746e+09                                               친절해요   \n",
       "17505  1.971746e+09                                               친절해요   \n",
       "17506  1.971746e+09                                                  굿   \n",
       "17507  1.971746e+09                                           대화하기 좋아요   \n",
       "17508  1.971746e+09                                                  굿   \n",
       "\n",
       "      LABEL_TF  \n",
       "0            T  \n",
       "1            T  \n",
       "2            T  \n",
       "3            T  \n",
       "4            F  \n",
       "...        ...  \n",
       "17504        F  \n",
       "17505        F  \n",
       "17506        F  \n",
       "17507        F  \n",
       "17508        F  \n",
       "\n",
       "[77509 rows x 3 columns]"
      ]
     },
     "execution_count": 226,
     "metadata": {},
     "output_type": "execute_result"
    }
   ],
   "source": [
    "row_frm = pd.concat([row_frm,row_4],axis=0)\n",
    "row_frm"
   ]
  },
  {
   "cell_type": "code",
   "execution_count": 228,
   "id": "cb1d4454-d27b-4012-8d81-6ba857039a77",
   "metadata": {
    "tags": []
   },
   "outputs": [],
   "source": [
    "row_frm = row_frm.reset_index(drop=True)"
   ]
  },
  {
   "cell_type": "code",
   "execution_count": 287,
   "id": "e7f9cb83-bcb5-4b87-be72-d248da4697ca",
   "metadata": {
    "tags": []
   },
   "outputs": [
    {
     "name": "stdout",
     "output_type": "stream",
     "text": [
      "<class 'pandas.core.frame.DataFrame'>\n",
      "RangeIndex: 77509 entries, 0 to 77508\n",
      "Data columns (total 3 columns):\n",
      " #   Column    Non-Null Count  Dtype  \n",
      "---  ------    --------------  -----  \n",
      " 0   REST_ID   77509 non-null  float64\n",
      " 1   REVIEW    77509 non-null  object \n",
      " 2   LABEL_TF  77509 non-null  object \n",
      "dtypes: float64(1), object(2)\n",
      "memory usage: 1.8+ MB\n"
     ]
    }
   ],
   "source": [
    "row_frm.info()"
   ]
  },
  {
   "cell_type": "code",
   "execution_count": 230,
   "id": "73277f4d-df27-428b-9321-f91d46d1f122",
   "metadata": {
    "tags": []
   },
   "outputs": [],
   "source": [
    "row_group = row_frm.groupby('REST_ID')"
   ]
  },
  {
   "cell_type": "code",
   "execution_count": 232,
   "id": "5ab43ab0-609a-4ba7-a235-d66ca8dd5896",
   "metadata": {
    "tags": []
   },
   "outputs": [
    {
     "data": {
      "text/plain": [
       "881"
      ]
     },
     "execution_count": 232,
     "metadata": {},
     "output_type": "execute_result"
    }
   ],
   "source": [
    "group_id = list(set(row_frm.REST_ID.tolist()))\n",
    "len(group_id)"
   ]
  },
  {
   "cell_type": "code",
   "execution_count": 234,
   "id": "86d6fe27-a047-4b7d-9e1f-2e1f8d7d3e86",
   "metadata": {
    "tags": []
   },
   "outputs": [],
   "source": [
    "group_list = []\n",
    "for gp in group_id :\n",
    "    gp = int(gp)\n",
    "    # print(f'group_{gp}')\n",
    "    globals()[f'group_{gp}'] = row_group.get_group(gp)\n",
    "    group_list.append(globals()[f'group_{gp}'])"
   ]
  },
  {
   "cell_type": "code",
   "execution_count": 236,
   "id": "8a48a585-0e82-4531-a042-cdd57e897e52",
   "metadata": {
    "tags": []
   },
   "outputs": [
    {
     "data": {
      "text/plain": [
       "881"
      ]
     },
     "execution_count": 236,
     "metadata": {},
     "output_type": "execute_result"
    }
   ],
   "source": [
    "len(group_list)"
   ]
  },
  {
   "cell_type": "code",
   "execution_count": 299,
   "id": "62d2082e-ad21-4704-af32-70b935c19ba2",
   "metadata": {
    "tags": []
   },
   "outputs": [
    {
     "data": {
      "text/plain": [
       "array([1.81037261e+09, 1.81037261e+09, 1.81037261e+09, 1.81037261e+09,\n",
       "       1.81037261e+09, 1.81037261e+09, 1.81037261e+09, 1.81037261e+09,\n",
       "       1.81037261e+09, 1.81037261e+09, 1.81037261e+09, 1.81037261e+09])"
      ]
     },
     "execution_count": 299,
     "metadata": {},
     "output_type": "execute_result"
    }
   ],
   "source": [
    "group_list[0].REST_ID.values"
   ]
  },
  {
   "cell_type": "code",
   "execution_count": 286,
   "id": "ba8fb177-b2a4-4027-b02d-ff1e13b93eb7",
   "metadata": {
    "tags": []
   },
   "outputs": [
    {
     "data": {
      "text/plain": [
       "[]"
      ]
     },
     "execution_count": 286,
     "metadata": {},
     "output_type": "execute_result"
    }
   ],
   "source": [
    "lst = []\n",
    "lst[:50]"
   ]
  },
  {
   "cell_type": "code",
   "execution_count": 365,
   "id": "548c0ad1-8fac-49b4-aa3e-2e59643d67ff",
   "metadata": {
    "tags": []
   },
   "outputs": [
    {
     "data": {
      "text/html": [
       "<div>\n",
       "<style scoped>\n",
       "    .dataframe tbody tr th:only-of-type {\n",
       "        vertical-align: middle;\n",
       "    }\n",
       "\n",
       "    .dataframe tbody tr th {\n",
       "        vertical-align: top;\n",
       "    }\n",
       "\n",
       "    .dataframe thead th {\n",
       "        text-align: right;\n",
       "    }\n",
       "</style>\n",
       "<table border=\"1\" class=\"dataframe\">\n",
       "  <thead>\n",
       "    <tr style=\"text-align: right;\">\n",
       "      <th></th>\n",
       "      <th>REST_ID</th>\n",
       "      <th>REVIEW</th>\n",
       "      <th>LABEL_TF</th>\n",
       "    </tr>\n",
       "  </thead>\n",
       "  <tbody>\n",
       "    <tr>\n",
       "      <th>11884</th>\n",
       "      <td>1.810373e+09</td>\n",
       "      <td>모카라떼 맛있네요~ 분위기 및 인테리어도 좋아요~~</td>\n",
       "      <td>T</td>\n",
       "    </tr>\n",
       "    <tr>\n",
       "      <th>11886</th>\n",
       "      <td>1.810373e+09</td>\n",
       "      <td>제원에 커피 맛집 발견!!! \\n편안한 분위기와 건강한 디저트 까지 \\n쑥 머핀 내...</td>\n",
       "      <td>T</td>\n",
       "    </tr>\n",
       "    <tr>\n",
       "      <th>11887</th>\n",
       "      <td>1.810373e+09</td>\n",
       "      <td>사장님이 친절해여</td>\n",
       "      <td>F</td>\n",
       "    </tr>\n",
       "    <tr>\n",
       "      <th>11888</th>\n",
       "      <td>1.810373e+09</td>\n",
       "      <td>책모임 하려고 커피숍 검색하다가\\n아주 좋은 곳을 발견했어요.\\n기분좋게 모임하고 ...</td>\n",
       "      <td>T</td>\n",
       "    </tr>\n",
       "    <tr>\n",
       "      <th>11889</th>\n",
       "      <td>1.810373e+09</td>\n",
       "      <td>진짜 매장 차분하고 , 공부하기 너무 좋을 만큼 분위기있는 카페로 인정.. \\n정말...</td>\n",
       "      <td>F</td>\n",
       "    </tr>\n",
       "    <tr>\n",
       "      <th>11890</th>\n",
       "      <td>1.810373e+09</td>\n",
       "      <td>깔끔하고 친구들이랑 수다떨기 좋이요</td>\n",
       "      <td>F</td>\n",
       "    </tr>\n",
       "    <tr>\n",
       "      <th>11891</th>\n",
       "      <td>1.810373e+09</td>\n",
       "      <td>쑥떡와플을 첨 접했는데 너무 맛있었어요 초코치노는 작은 사이즈에 핫초코인데 작아서 ...</td>\n",
       "      <td>T</td>\n",
       "    </tr>\n",
       "    <tr>\n",
       "      <th>11892</th>\n",
       "      <td>1.810373e+09</td>\n",
       "      <td>근처에 맛있는 커피집이 없었는데 생겨서 너무 좋아요.\\n브런치메뉴 포장도 되구 구운...</td>\n",
       "      <td>T</td>\n",
       "    </tr>\n",
       "    <tr>\n",
       "      <th>11918</th>\n",
       "      <td>1.810373e+09</td>\n",
       "      <td>아포가또에 초코시럽까지 넘 맛있어요.\\n커피른 잘 안 마시는 나에겐 딱\\nㅠ\\n별 ...</td>\n",
       "      <td>F</td>\n",
       "    </tr>\n",
       "    <tr>\n",
       "      <th>11919</th>\n",
       "      <td>1.810373e+09</td>\n",
       "      <td>다양한 디저트와 함께 아메리카노 좋아요!</td>\n",
       "      <td>T</td>\n",
       "    </tr>\n",
       "    <tr>\n",
       "      <th>11920</th>\n",
       "      <td>1.810373e+09</td>\n",
       "      <td>간만에 만난 친구와 이야기 하러 들른 카페인데, 커피도 맛있고 디저트도 맛있고 이야...</td>\n",
       "      <td>T</td>\n",
       "    </tr>\n",
       "    <tr>\n",
       "      <th>11921</th>\n",
       "      <td>1.810373e+09</td>\n",
       "      <td>조용한카페</td>\n",
       "      <td>F</td>\n",
       "    </tr>\n",
       "  </tbody>\n",
       "</table>\n",
       "</div>"
      ],
      "text/plain": [
       "            REST_ID                                             REVIEW  \\\n",
       "11884  1.810373e+09                       모카라떼 맛있네요~ 분위기 및 인테리어도 좋아요~~   \n",
       "11886  1.810373e+09  제원에 커피 맛집 발견!!! \\n편안한 분위기와 건강한 디저트 까지 \\n쑥 머핀 내...   \n",
       "11887  1.810373e+09                                          사장님이 친절해여   \n",
       "11888  1.810373e+09  책모임 하려고 커피숍 검색하다가\\n아주 좋은 곳을 발견했어요.\\n기분좋게 모임하고 ...   \n",
       "11889  1.810373e+09  진짜 매장 차분하고 , 공부하기 너무 좋을 만큼 분위기있는 카페로 인정.. \\n정말...   \n",
       "11890  1.810373e+09                                깔끔하고 친구들이랑 수다떨기 좋이요   \n",
       "11891  1.810373e+09  쑥떡와플을 첨 접했는데 너무 맛있었어요 초코치노는 작은 사이즈에 핫초코인데 작아서 ...   \n",
       "11892  1.810373e+09  근처에 맛있는 커피집이 없었는데 생겨서 너무 좋아요.\\n브런치메뉴 포장도 되구 구운...   \n",
       "11918  1.810373e+09  아포가또에 초코시럽까지 넘 맛있어요.\\n커피른 잘 안 마시는 나에겐 딱\\nㅠ\\n별 ...   \n",
       "11919  1.810373e+09                             다양한 디저트와 함께 아메리카노 좋아요!   \n",
       "11920  1.810373e+09  간만에 만난 친구와 이야기 하러 들른 카페인데, 커피도 맛있고 디저트도 맛있고 이야...   \n",
       "11921  1.810373e+09                                              조용한카페   \n",
       "\n",
       "      LABEL_TF  \n",
       "11884        T  \n",
       "11886        T  \n",
       "11887        F  \n",
       "11888        T  \n",
       "11889        F  \n",
       "11890        F  \n",
       "11891        T  \n",
       "11892        T  \n",
       "11918        F  \n",
       "11919        T  \n",
       "11920        T  \n",
       "11921        F  "
      ]
     },
     "execution_count": 365,
     "metadata": {},
     "output_type": "execute_result"
    }
   ],
   "source": [
    "group_list"
   ]
  },
  {
   "cell_type": "code",
   "execution_count": 373,
   "id": "719c592c-7bb8-404d-95d0-8e6cd3efbbb9",
   "metadata": {
    "tags": []
   },
   "outputs": [],
   "source": [
    "tttt = group_list"
   ]
  },
  {
   "cell_type": "code",
   "execution_count": 374,
   "id": "26aa0438-a70b-403c-a9a1-8a08d0db7679",
   "metadata": {
    "tags": []
   },
   "outputs": [],
   "source": [
    "tttt=pd.concat(tttt,axis=0)"
   ]
  },
  {
   "cell_type": "code",
   "execution_count": 377,
   "id": "cb090294-a30d-46b9-8073-701c4b830891",
   "metadata": {
    "tags": []
   },
   "outputs": [
    {
     "data": {
      "text/plain": [
       "11884    1810372609\n",
       "11886    1810372609\n",
       "11887    1810372609\n",
       "11888    1810372609\n",
       "11889    1810372609\n",
       "            ...    \n",
       "1304     1405700095\n",
       "1305     1405700095\n",
       "1306     1405700095\n",
       "1307     1405700095\n",
       "1337     1405700095\n",
       "Name: REST_ID, Length: 77509, dtype: int32"
      ]
     },
     "execution_count": 377,
     "metadata": {},
     "output_type": "execute_result"
    }
   ],
   "source": [
    "tttt.REST_ID = tttt.REST_ID.astype(int)\n",
    "tttt.REST_ID"
   ]
  },
  {
   "cell_type": "code",
   "execution_count": 380,
   "id": "b7ea60bd-28d4-4516-8f94-5de1cc6c4ea4",
   "metadata": {
    "tags": []
   },
   "outputs": [
    {
     "name": "stdout",
     "output_type": "stream",
     "text": [
      "        REST_ID                                             REVIEW LABEL_TF\n",
      "40691  30834972                              돈떵이는 백돼지가 진리에요. 맛있습니다        T\n",
      "40692  30834972                                             맛있어요~~        T\n",
      "40696  30834972  친절하시고 초벌 다 해주셔서 좋아요 여행첫날 그냥 돌아다니다가 들어갓는데 맛있게\\n...        T\n",
      "40697  30834972       너무 맛나게 잘먹었습니다.\\n그냥지나가다 들렀는데 맛집!!!!\\n득템한기분입니다        F\n",
      "40700  30834972  찐 아재감성 친근한분위기☆\\n제 원픽 근고기집이 닫아서 친구집 근처 근고기 집에 왔...        T\n",
      "...         ...                                                ...      ...\n",
      "40818  30834972                          존맛...김치찌개도 맛있고 고기도 진짜 맛있음        T\n",
      "40819  30834972                                다구워주는 도민만 가는 맛집 인정?        F\n",
      "40820  30834972                                               맛있어요        T\n",
      "40821  30834972                              진짜 맛있어요 ㅎㅎㅎ 고기가 부드러워요        T\n",
      "42932  30834972  굳! 고기 짱맛! 9시넘어 갔더니 사람도 적어서 맘편이 먹었습니당~ 김치찌개는......        T\n",
      "\n",
      "[107 rows x 3 columns]\n"
     ]
    }
   ],
   "source": [
    "print(tttt.query('REST_ID==30834972'))"
   ]
  },
  {
   "cell_type": "code",
   "execution_count": 382,
   "id": "12085132-a299-4ff9-b5d2-b0614e2b9c76",
   "metadata": {
    "tags": []
   },
   "outputs": [],
   "source": [
    "tttt=tttt.query('REST_ID==30834972')"
   ]
  },
  {
   "cell_type": "code",
   "execution_count": 383,
   "id": "66b46dbf-9e58-4fa2-aabb-dfc83de3c441",
   "metadata": {
    "tags": []
   },
   "outputs": [],
   "source": [
    "ttttlst = [tttt]"
   ]
  },
  {
   "cell_type": "code",
   "execution_count": 385,
   "id": "bdad557f-5133-451b-b2f8-02da1348b665",
   "metadata": {
    "tags": []
   },
   "outputs": [
    {
     "name": "stderr",
     "output_type": "stream",
     "text": [
      "100%|████████████████████████████████████████████████████████████████████████████████████| 1/1 [00:01<00:00,  1.37s/it]\n"
     ]
    }
   ],
   "source": [
    "import re\n",
    "from tqdm import tqdm\n",
    "from collections import Counter\n",
    "\n",
    "wordcloud_list = []\n",
    "# pbar = tqdm(group_list[:1])\n",
    "pbar = tqdm(ttttlst)\n",
    "# 차원 분할, 어절 추출\n",
    "def pos(copy_review) :\n",
    "    split_review = copy_review.REVIEW.tolist()\n",
    "    # 3차원 구조, 2차원으로 변환\n",
    "    chage_space = [item for sublist in split_review for item in sublist ]\n",
    "    \n",
    "    # 명사와 형용사만 추출\n",
    "    encoded = [word for word,shape in chage_space if shape in ['Adjective' , 'Noun'] if word not in stopwords]\n",
    "    # 개수 세기\n",
    "    word_counts = Counter(encoded)\n",
    "    #df = pd.DataFrame.from_dict(word_counts, orient='index', columns=['COUNT'])\n",
    "    df = pd.DataFrame.from_records(list(word_counts.items()), columns=['WORD', 'COUNT'])\n",
    "    df = df.sort_values('COUNT' , ascending=False).reset_index(drop=True)\n",
    "    return df[:10]\n",
    "                          \n",
    "for group_once in pbar :\n",
    "    \n",
    "    stopwords = [ '도', '는', '다', '의', '가', '이', '은', \n",
    "                  '한', '에', '하', '고', '을', '를', '인', '듯', \n",
    "                  '과', '와', '네', '들', '듯', '지', '임', '게', \n",
    "                  '는', '이', '했', '슴', '음', '것', '거', '로',\n",
    "                  '들', '거', '곳', '분', '원', '더', '왜', '해',\n",
    "                  '수', '할', '그', '함', '돈', '번', '두', '개',\n",
    "                  '건', '내', '저', '만', '갈', '걸', '제', '명', \n",
    "                  '분', '또', '및', '안', '른', '때', '접', '나',\n",
    "                  '인데', '이가', '했었','해서', '있다', '이다', \n",
    "                  '습니다', '했는데', '입니다' ]\n",
    "    \n",
    "    # 정규 표현식 수행\n",
    "    copy_review = group_once.copy()\n",
    "    copy_review.REVIEW = copy_review.REVIEW.str.replace(r'[^ㄱ-ㅎㅏ-ㅣ가-힣 ]','' , regex=True)\n",
    "    copy_review.dropna(subset=['REVIEW'], inplace=True)\n",
    "    \n",
    "    if len(copy_review) == 0 :\n",
    "        no_wordcloud = pd.DataFrame({'WORD':None , 'COUNT':None ,'LABEL_ATF':None , 'REST_ID':int(copy_review.REST_ID.iloc[0])})\n",
    "        wordcloud_list.append(no_wordcloud)\n",
    "    else : \n",
    "        # okt pos 어절 분할\n",
    "        copy_review.REVIEW = copy_review.REVIEW.apply(lambda x: okt.pos(x, norm=True, stem=True))\n",
    "        copy_review.dropna(subset=['REVIEW'], inplace=True)\n",
    "    \n",
    "        if len(copy_review) == 0 :\n",
    "            no_wordcloud = pd.DataFrame({'WORD':None , 'COUNT':None ,'LABEL_ATF':None , 'REST_ID':int(copy_review.REST_ID.iloc[0])})\n",
    "            wordcloud_list.append(no_wordcloud)\n",
    "        else :\n",
    "            T_copy_review = copy_review.query('LABEL_TF == \"T\"')\n",
    "            F_copy_review = copy_review.query('LABEL_TF == \"F\"')\n",
    "\n",
    "            word_counts = pos(copy_review) # all\n",
    "            word_counts['LABEL_ATF'] = 'A'\n",
    "            T_word_counts = pos(T_copy_review) # T\n",
    "            T_word_counts['LABEL_ATF'] = 'T'\n",
    "            F_word_counts = pos(F_copy_review) # F\n",
    "            F_word_counts['LABEL_ATF'] = 'F'\n",
    "\n",
    "    #         print(word_counts)\n",
    "    #         print(T_word_counts)\n",
    "    #         print(F_word_counts)\n",
    "\n",
    "            once_wordcloud = pd.concat([word_counts , T_word_counts , F_word_counts] , axis = 0).reset_index(drop=True)\n",
    "            once_wordcloud['REST_ID'] = int(copy_review.REST_ID.iloc[0])\n",
    "            wordcloud_list.append(once_wordcloud)\n",
    "            # print(once_wordcloud)\n",
    "    #print('------------------------------------one group end------------------------------------')\n",
    "pbar.close()\n",
    "wordcloud_frm = pd.concat(wordcloud_list , axis=0)"
   ]
  },
  {
   "cell_type": "code",
   "execution_count": 386,
   "id": "893150b5-9886-4205-b39d-bf4cd710912a",
   "metadata": {
    "tags": []
   },
   "outputs": [
    {
     "data": {
      "text/html": [
       "<div>\n",
       "<style scoped>\n",
       "    .dataframe tbody tr th:only-of-type {\n",
       "        vertical-align: middle;\n",
       "    }\n",
       "\n",
       "    .dataframe tbody tr th {\n",
       "        vertical-align: top;\n",
       "    }\n",
       "\n",
       "    .dataframe thead th {\n",
       "        text-align: right;\n",
       "    }\n",
       "</style>\n",
       "<table border=\"1\" class=\"dataframe\">\n",
       "  <thead>\n",
       "    <tr style=\"text-align: right;\">\n",
       "      <th></th>\n",
       "      <th>WORD</th>\n",
       "      <th>COUNT</th>\n",
       "      <th>LABEL_ATF</th>\n",
       "      <th>REST_ID</th>\n",
       "    </tr>\n",
       "  </thead>\n",
       "  <tbody>\n",
       "    <tr>\n",
       "      <th>0</th>\n",
       "      <td>맛있다</td>\n",
       "      <td>68</td>\n",
       "      <td>A</td>\n",
       "      <td>30834972</td>\n",
       "    </tr>\n",
       "    <tr>\n",
       "      <th>1</th>\n",
       "      <td>고기</td>\n",
       "      <td>39</td>\n",
       "      <td>A</td>\n",
       "      <td>30834972</td>\n",
       "    </tr>\n",
       "    <tr>\n",
       "      <th>2</th>\n",
       "      <td>좋다</td>\n",
       "      <td>24</td>\n",
       "      <td>A</td>\n",
       "      <td>30834972</td>\n",
       "    </tr>\n",
       "    <tr>\n",
       "      <th>3</th>\n",
       "      <td>친절하다</td>\n",
       "      <td>22</td>\n",
       "      <td>A</td>\n",
       "      <td>30834972</td>\n",
       "    </tr>\n",
       "    <tr>\n",
       "      <th>4</th>\n",
       "      <td>맛</td>\n",
       "      <td>18</td>\n",
       "      <td>A</td>\n",
       "      <td>30834972</td>\n",
       "    </tr>\n",
       "    <tr>\n",
       "      <th>5</th>\n",
       "      <td>맛집</td>\n",
       "      <td>17</td>\n",
       "      <td>A</td>\n",
       "      <td>30834972</td>\n",
       "    </tr>\n",
       "    <tr>\n",
       "      <th>6</th>\n",
       "      <td>진짜</td>\n",
       "      <td>14</td>\n",
       "      <td>A</td>\n",
       "      <td>30834972</td>\n",
       "    </tr>\n",
       "    <tr>\n",
       "      <th>7</th>\n",
       "      <td>김치찌개</td>\n",
       "      <td>13</td>\n",
       "      <td>A</td>\n",
       "      <td>30834972</td>\n",
       "    </tr>\n",
       "    <tr>\n",
       "      <th>8</th>\n",
       "      <td>사장</td>\n",
       "      <td>11</td>\n",
       "      <td>A</td>\n",
       "      <td>30834972</td>\n",
       "    </tr>\n",
       "    <tr>\n",
       "      <th>9</th>\n",
       "      <td>굿</td>\n",
       "      <td>10</td>\n",
       "      <td>A</td>\n",
       "      <td>30834972</td>\n",
       "    </tr>\n",
       "    <tr>\n",
       "      <th>10</th>\n",
       "      <td>맛있다</td>\n",
       "      <td>55</td>\n",
       "      <td>T</td>\n",
       "      <td>30834972</td>\n",
       "    </tr>\n",
       "    <tr>\n",
       "      <th>11</th>\n",
       "      <td>고기</td>\n",
       "      <td>26</td>\n",
       "      <td>T</td>\n",
       "      <td>30834972</td>\n",
       "    </tr>\n",
       "    <tr>\n",
       "      <th>12</th>\n",
       "      <td>친절하다</td>\n",
       "      <td>13</td>\n",
       "      <td>T</td>\n",
       "      <td>30834972</td>\n",
       "    </tr>\n",
       "    <tr>\n",
       "      <th>13</th>\n",
       "      <td>김치찌개</td>\n",
       "      <td>12</td>\n",
       "      <td>T</td>\n",
       "      <td>30834972</td>\n",
       "    </tr>\n",
       "    <tr>\n",
       "      <th>14</th>\n",
       "      <td>맛집</td>\n",
       "      <td>11</td>\n",
       "      <td>T</td>\n",
       "      <td>30834972</td>\n",
       "    </tr>\n",
       "    <tr>\n",
       "      <th>15</th>\n",
       "      <td>진짜</td>\n",
       "      <td>8</td>\n",
       "      <td>T</td>\n",
       "      <td>30834972</td>\n",
       "    </tr>\n",
       "    <tr>\n",
       "      <th>16</th>\n",
       "      <td>좋다</td>\n",
       "      <td>8</td>\n",
       "      <td>T</td>\n",
       "      <td>30834972</td>\n",
       "    </tr>\n",
       "    <tr>\n",
       "      <th>17</th>\n",
       "      <td>최고</td>\n",
       "      <td>7</td>\n",
       "      <td>T</td>\n",
       "      <td>30834972</td>\n",
       "    </tr>\n",
       "    <tr>\n",
       "      <th>18</th>\n",
       "      <td>정말</td>\n",
       "      <td>7</td>\n",
       "      <td>T</td>\n",
       "      <td>30834972</td>\n",
       "    </tr>\n",
       "    <tr>\n",
       "      <th>19</th>\n",
       "      <td>맛</td>\n",
       "      <td>7</td>\n",
       "      <td>T</td>\n",
       "      <td>30834972</td>\n",
       "    </tr>\n",
       "    <tr>\n",
       "      <th>20</th>\n",
       "      <td>좋다</td>\n",
       "      <td>16</td>\n",
       "      <td>F</td>\n",
       "      <td>30834972</td>\n",
       "    </tr>\n",
       "    <tr>\n",
       "      <th>21</th>\n",
       "      <td>맛있다</td>\n",
       "      <td>13</td>\n",
       "      <td>F</td>\n",
       "      <td>30834972</td>\n",
       "    </tr>\n",
       "    <tr>\n",
       "      <th>22</th>\n",
       "      <td>고기</td>\n",
       "      <td>13</td>\n",
       "      <td>F</td>\n",
       "      <td>30834972</td>\n",
       "    </tr>\n",
       "    <tr>\n",
       "      <th>23</th>\n",
       "      <td>맛</td>\n",
       "      <td>11</td>\n",
       "      <td>F</td>\n",
       "      <td>30834972</td>\n",
       "    </tr>\n",
       "    <tr>\n",
       "      <th>24</th>\n",
       "      <td>굿</td>\n",
       "      <td>10</td>\n",
       "      <td>F</td>\n",
       "      <td>30834972</td>\n",
       "    </tr>\n",
       "    <tr>\n",
       "      <th>25</th>\n",
       "      <td>친절하다</td>\n",
       "      <td>9</td>\n",
       "      <td>F</td>\n",
       "      <td>30834972</td>\n",
       "    </tr>\n",
       "    <tr>\n",
       "      <th>26</th>\n",
       "      <td>진짜</td>\n",
       "      <td>6</td>\n",
       "      <td>F</td>\n",
       "      <td>30834972</td>\n",
       "    </tr>\n",
       "    <tr>\n",
       "      <th>27</th>\n",
       "      <td>맛집</td>\n",
       "      <td>6</td>\n",
       "      <td>F</td>\n",
       "      <td>30834972</td>\n",
       "    </tr>\n",
       "    <tr>\n",
       "      <th>28</th>\n",
       "      <td>직원</td>\n",
       "      <td>4</td>\n",
       "      <td>F</td>\n",
       "      <td>30834972</td>\n",
       "    </tr>\n",
       "    <tr>\n",
       "      <th>29</th>\n",
       "      <td>사장</td>\n",
       "      <td>4</td>\n",
       "      <td>F</td>\n",
       "      <td>30834972</td>\n",
       "    </tr>\n",
       "  </tbody>\n",
       "</table>\n",
       "</div>"
      ],
      "text/plain": [
       "    WORD  COUNT LABEL_ATF   REST_ID\n",
       "0    맛있다     68         A  30834972\n",
       "1     고기     39         A  30834972\n",
       "2     좋다     24         A  30834972\n",
       "3   친절하다     22         A  30834972\n",
       "4      맛     18         A  30834972\n",
       "5     맛집     17         A  30834972\n",
       "6     진짜     14         A  30834972\n",
       "7   김치찌개     13         A  30834972\n",
       "8     사장     11         A  30834972\n",
       "9      굿     10         A  30834972\n",
       "10   맛있다     55         T  30834972\n",
       "11    고기     26         T  30834972\n",
       "12  친절하다     13         T  30834972\n",
       "13  김치찌개     12         T  30834972\n",
       "14    맛집     11         T  30834972\n",
       "15    진짜      8         T  30834972\n",
       "16    좋다      8         T  30834972\n",
       "17    최고      7         T  30834972\n",
       "18    정말      7         T  30834972\n",
       "19     맛      7         T  30834972\n",
       "20    좋다     16         F  30834972\n",
       "21   맛있다     13         F  30834972\n",
       "22    고기     13         F  30834972\n",
       "23     맛     11         F  30834972\n",
       "24     굿     10         F  30834972\n",
       "25  친절하다      9         F  30834972\n",
       "26    진짜      6         F  30834972\n",
       "27    맛집      6         F  30834972\n",
       "28    직원      4         F  30834972\n",
       "29    사장      4         F  30834972"
      ]
     },
     "execution_count": 386,
     "metadata": {},
     "output_type": "execute_result"
    }
   ],
   "source": [
    "wordcloud_frm"
   ]
  },
  {
   "cell_type": "code",
   "execution_count": 306,
   "id": "17294073-9837-40c7-8ca3-f2a134caf463",
   "metadata": {
    "tags": []
   },
   "outputs": [],
   "source": [
    "testconcat = pd.concat(wordcloud_list , axis=0)"
   ]
  },
  {
   "cell_type": "code",
   "execution_count": 317,
   "id": "1009192b-f038-4889-8e8d-c76e35dbd134",
   "metadata": {
    "tags": []
   },
   "outputs": [
    {
     "data": {
      "text/html": [
       "<div>\n",
       "<style scoped>\n",
       "    .dataframe tbody tr th:only-of-type {\n",
       "        vertical-align: middle;\n",
       "    }\n",
       "\n",
       "    .dataframe tbody tr th {\n",
       "        vertical-align: top;\n",
       "    }\n",
       "\n",
       "    .dataframe thead th {\n",
       "        text-align: right;\n",
       "    }\n",
       "</style>\n",
       "<table border=\"1\" class=\"dataframe\">\n",
       "  <thead>\n",
       "    <tr style=\"text-align: right;\">\n",
       "      <th></th>\n",
       "      <th>WORD</th>\n",
       "      <th>COUNT</th>\n",
       "      <th>LABEL_ATF</th>\n",
       "      <th>REST_ID</th>\n",
       "    </tr>\n",
       "  </thead>\n",
       "  <tbody>\n",
       "    <tr>\n",
       "      <th>0</th>\n",
       "      <td>좋다</td>\n",
       "      <td>11</td>\n",
       "      <td>A</td>\n",
       "      <td>1810372609</td>\n",
       "    </tr>\n",
       "    <tr>\n",
       "      <th>1</th>\n",
       "      <td>맛있다</td>\n",
       "      <td>8</td>\n",
       "      <td>A</td>\n",
       "      <td>1810372609</td>\n",
       "    </tr>\n",
       "    <tr>\n",
       "      <th>2</th>\n",
       "      <td>커피</td>\n",
       "      <td>4</td>\n",
       "      <td>A</td>\n",
       "      <td>1810372609</td>\n",
       "    </tr>\n",
       "    <tr>\n",
       "      <th>3</th>\n",
       "      <td>카페</td>\n",
       "      <td>3</td>\n",
       "      <td>A</td>\n",
       "      <td>1810372609</td>\n",
       "    </tr>\n",
       "    <tr>\n",
       "      <th>4</th>\n",
       "      <td>초코</td>\n",
       "      <td>3</td>\n",
       "      <td>A</td>\n",
       "      <td>1810372609</td>\n",
       "    </tr>\n",
       "    <tr>\n",
       "      <th>...</th>\n",
       "      <td>...</td>\n",
       "      <td>...</td>\n",
       "      <td>...</td>\n",
       "      <td>...</td>\n",
       "    </tr>\n",
       "    <tr>\n",
       "      <th>25</th>\n",
       "      <td>베이커리</td>\n",
       "      <td>2</td>\n",
       "      <td>F</td>\n",
       "      <td>1887309829</td>\n",
       "    </tr>\n",
       "    <tr>\n",
       "      <th>26</th>\n",
       "      <td>점</td>\n",
       "      <td>2</td>\n",
       "      <td>F</td>\n",
       "      <td>1887309829</td>\n",
       "    </tr>\n",
       "    <tr>\n",
       "      <th>27</th>\n",
       "      <td>맛있다</td>\n",
       "      <td>2</td>\n",
       "      <td>F</td>\n",
       "      <td>1887309829</td>\n",
       "    </tr>\n",
       "    <tr>\n",
       "      <th>28</th>\n",
       "      <td>친절하다</td>\n",
       "      <td>2</td>\n",
       "      <td>F</td>\n",
       "      <td>1887309829</td>\n",
       "    </tr>\n",
       "    <tr>\n",
       "      <th>29</th>\n",
       "      <td>사장</td>\n",
       "      <td>2</td>\n",
       "      <td>F</td>\n",
       "      <td>1887309829</td>\n",
       "    </tr>\n",
       "  </tbody>\n",
       "</table>\n",
       "<p>90 rows × 4 columns</p>\n",
       "</div>"
      ],
      "text/plain": [
       "    WORD  COUNT LABEL_ATF     REST_ID\n",
       "0     좋다     11         A  1810372609\n",
       "1    맛있다      8         A  1810372609\n",
       "2     커피      4         A  1810372609\n",
       "3     카페      3         A  1810372609\n",
       "4     초코      3         A  1810372609\n",
       "..   ...    ...       ...         ...\n",
       "25  베이커리      2         F  1887309829\n",
       "26     점      2         F  1887309829\n",
       "27   맛있다      2         F  1887309829\n",
       "28  친절하다      2         F  1887309829\n",
       "29    사장      2         F  1887309829\n",
       "\n",
       "[90 rows x 4 columns]"
      ]
     },
     "execution_count": 317,
     "metadata": {},
     "output_type": "execute_result"
    }
   ],
   "source": [
    "testconcat"
   ]
  },
  {
   "cell_type": "code",
   "execution_count": 261,
   "id": "dedeea80-789f-46ca-9e1f-02dcf9131a2c",
   "metadata": {
    "tags": []
   },
   "outputs": [
    {
     "data": {
      "text/plain": [
       "[('a', 'b'), ('c', 'd')]"
      ]
     },
     "execution_count": 261,
     "metadata": {},
     "output_type": "execute_result"
    }
   ],
   "source": [
    "data = [[('a','b'), ('c','d')]]\n",
    "result = [item for sublist in data for item in sublist]\n",
    "result"
   ]
  },
  {
   "cell_type": "code",
   "execution_count": 1,
   "id": "d5f77e6c-be18-46ee-983c-a44a6ef70486",
   "metadata": {
    "tags": []
   },
   "outputs": [],
   "source": [
    "from konlpy.tag import Okt"
   ]
  },
  {
   "cell_type": "code",
   "execution_count": 2,
   "id": "a3a26a07-f8b8-4bd1-9c67-49e3e5721bce",
   "metadata": {
    "tags": []
   },
   "outputs": [],
   "source": [
    "okt = Okt()"
   ]
  },
  {
   "cell_type": "code",
   "execution_count": null,
   "id": "52947259-1e8f-40dc-9cba-d76fd8e3d4d2",
   "metadata": {},
   "outputs": [],
   "source": [
    "# 명사와 형용사만 추출\n",
    "\n",
    "NN_words = []\n",
    "for word , pos in tok_lst_02 :\n",
    "    if 'Noun' in pos :\n",
    "        NN_words.append(word)\n",
    "    elif 'Adjective' in pos :\n",
    "        NN_words.append(word)\n",
    "    else :\n",
    "        pass\n",
    "\n",
    "    "
   ]
  },
  {
   "cell_type": "code",
   "execution_count": null,
   "id": "ad3cb28e-a356-455b-b4dd-14c3986fa4d7",
   "metadata": {},
   "outputs": [],
   "source": [
    "# DataFrame으로 변환\n",
    "\n",
    "import pandas as pd\n",
    "from collections import Counter\n",
    "\n",
    "word_counts = Counter(NN_words)\n",
    "\n",
    "df = pd.DataFrame.from_dict(word_counts, orient='index', columns=['count'])\n",
    "df.index.name = 'word'\n"
   ]
  },
  {
   "cell_type": "code",
   "execution_count": 322,
   "id": "f65be886-d250-46fb-a6b2-9467243b803d",
   "metadata": {
    "tags": []
   },
   "outputs": [],
   "source": [
    "row_4.to_excel('posneg_4.xlsx',index=False)"
   ]
  },
  {
   "cell_type": "code",
   "execution_count": 323,
   "id": "8d400ebe-4140-41a8-aeab-03d2cfb1fd8f",
   "metadata": {
    "tags": []
   },
   "outputs": [],
   "source": [
    "wordcloud_frm.to_excel('wordcloud_jejusi_yeondong.xlsx',index=False)"
   ]
  },
  {
   "cell_type": "code",
   "execution_count": 360,
   "id": "805444ee-234e-4c3e-ab37-0c22b7ad989d",
   "metadata": {
    "tags": []
   },
   "outputs": [
    {
     "data": {
      "text/plain": [
       "17509"
      ]
     },
     "execution_count": 360,
     "metadata": {},
     "output_type": "execute_result"
    }
   ],
   "source": [
    "len(row_4)"
   ]
  },
  {
   "cell_type": "code",
   "execution_count": 361,
   "id": "f4feb67c-9207-4f21-b04a-ae626375e09b",
   "metadata": {
    "tags": []
   },
   "outputs": [
    {
     "data": {
      "text/plain": [
       "24155"
      ]
     },
     "execution_count": 361,
     "metadata": {},
     "output_type": "execute_result"
    }
   ],
   "source": [
    "len(wordcloud_frm)"
   ]
  },
  {
   "cell_type": "code",
   "execution_count": 319,
   "id": "d98bf36f-f251-43c2-bd01-670e2088a642",
   "metadata": {
    "tags": []
   },
   "outputs": [],
   "source": [
    "# row4 table \n",
    "\n",
    "\n",
    "# create table\n",
    "\n",
    "import pyodbc\n",
    "\n",
    "DSNNAME = \"Tibero6\"\n",
    "DBUSER = \"JH\"\n",
    "DBPWD = \"nare\"\n",
    "\n",
    "cnxn = pyodbc.connect('DSN='+DSNNAME+';UID='+DBUSER+';PWD='+DBPWD)\n",
    "cursor = cnxn.cursor()\n",
    "cursor.execute(\"\\\n",
    "CREATE TABLE POSNEG_4 (\\\n",
    "    REVIEW VARCHAR(5000),\\\n",
    "    REST_ID NUMBER,\\\n",
    "    LABEL_TF VARCHAR(2)\\\n",
    ") TABLESPACE USR PCTFREE 10 INITRANS 2 STORAGE (MAXEXTENTS UNLIMITED) LOGGING NOPARALLEL;\")\n",
    "\n",
    "# REST_ID\tREVIEW\tLABEL_TF\n",
    "\n",
    "# print(row)\n",
    "\n",
    "cnxn.commit()\n",
    "cnxn.close()"
   ]
  },
  {
   "cell_type": "code",
   "execution_count": 346,
   "id": "122da49f-5183-4b22-86a0-565a6763981c",
   "metadata": {
    "tags": []
   },
   "outputs": [
    {
     "data": {
      "text/plain": [
       "['좋아요', '피낫버터랑 쿠키앤크림 맛있어요~']"
      ]
     },
     "execution_count": 346,
     "metadata": {},
     "output_type": "execute_result"
    }
   ],
   "source": [
    "row_4.REVIEW[:2].tolist()"
   ]
  },
  {
   "cell_type": "code",
   "execution_count": 347,
   "id": "c677de08-5d96-48ff-9162-fa3e5e0d85f2",
   "metadata": {
    "tags": []
   },
   "outputs": [
    {
     "data": {
      "text/plain": [
       "17509"
      ]
     },
     "execution_count": 347,
     "metadata": {},
     "output_type": "execute_result"
    }
   ],
   "source": [
    "len(row_4)"
   ]
  },
  {
   "cell_type": "code",
   "execution_count": 353,
   "id": "97c7f549-18e6-4be3-adbe-ef3b6e2da95d",
   "metadata": {
    "collapsed": true,
    "jupyter": {
     "outputs_hidden": true
    },
    "tags": []
   },
   "outputs": [
    {
     "name": "stderr",
     "output_type": "stream",
     "text": [
      "575it [02:04,  4.57it/s]"
     ]
    },
    {
     "name": "stdout",
     "output_type": "stream",
     "text": [
      "error\n",
      "재시도 중 :  0\n",
      "error\n",
      "재시도 중 :  1\n",
      "error\n",
      "재시도 중 :  2\n"
     ]
    },
    {
     "name": "stderr",
     "output_type": "stream",
     "text": [
      "1716it [06:28,  4.59it/s]"
     ]
    },
    {
     "name": "stdout",
     "output_type": "stream",
     "text": [
      "error\n",
      "재시도 중 :  0\n",
      "error\n",
      "재시도 중 :  1\n",
      "error\n",
      "재시도 중 :  2\n"
     ]
    },
    {
     "name": "stderr",
     "output_type": "stream",
     "text": [
      "3165it [11:58,  4.58it/s]"
     ]
    },
    {
     "name": "stdout",
     "output_type": "stream",
     "text": [
      "error\n",
      "재시도 중 :  0\n",
      "error\n",
      "재시도 중 :  1\n",
      "error\n",
      "재시도 중 :  2\n"
     ]
    },
    {
     "name": "stderr",
     "output_type": "stream",
     "text": [
      "3296it [12:42,  4.66it/s]"
     ]
    },
    {
     "name": "stdout",
     "output_type": "stream",
     "text": [
      "error\n",
      "재시도 중 :  0\n",
      "error\n",
      "재시도 중 :  1\n",
      "error\n",
      "재시도 중 :  2\n"
     ]
    },
    {
     "name": "stderr",
     "output_type": "stream",
     "text": [
      "4155it [16:04,  4.59it/s]"
     ]
    },
    {
     "name": "stdout",
     "output_type": "stream",
     "text": [
      "error\n",
      "재시도 중 :  0\n",
      "error\n",
      "재시도 중 :  1\n",
      "error\n",
      "재시도 중 :  2\n"
     ]
    },
    {
     "name": "stderr",
     "output_type": "stream",
     "text": [
      "4217it [16:32,  4.62it/s]"
     ]
    },
    {
     "name": "stdout",
     "output_type": "stream",
     "text": [
      "error\n",
      "재시도 중 :  0\n",
      "error\n",
      "재시도 중 :  1\n",
      "error\n",
      "재시도 중 :  2\n"
     ]
    },
    {
     "name": "stderr",
     "output_type": "stream",
     "text": [
      "4499it [17:49,  4.58it/s]"
     ]
    },
    {
     "name": "stdout",
     "output_type": "stream",
     "text": [
      "error\n",
      "재시도 중 :  0\n",
      "error\n",
      "재시도 중 :  1\n",
      "error\n",
      "재시도 중 :  2\n"
     ]
    },
    {
     "name": "stderr",
     "output_type": "stream",
     "text": [
      "5386it [21:17,  4.55it/s]"
     ]
    },
    {
     "name": "stdout",
     "output_type": "stream",
     "text": [
      "error\n",
      "재시도 중 :  0\n",
      "error\n",
      "재시도 중 :  1\n",
      "error\n",
      "재시도 중 :  2\n"
     ]
    },
    {
     "name": "stderr",
     "output_type": "stream",
     "text": [
      "6112it [24:10,  4.55it/s]"
     ]
    },
    {
     "name": "stdout",
     "output_type": "stream",
     "text": [
      "error\n",
      "재시도 중 :  0\n",
      "error\n",
      "재시도 중 :  1\n",
      "error\n",
      "재시도 중 :  2\n"
     ]
    },
    {
     "name": "stderr",
     "output_type": "stream",
     "text": [
      "6258it [24:57,  4.63it/s]"
     ]
    },
    {
     "name": "stdout",
     "output_type": "stream",
     "text": [
      "error\n",
      "재시도 중 :  0\n",
      "error\n",
      "재시도 중 :  1\n",
      "error\n",
      "재시도 중 :  2\n"
     ]
    },
    {
     "name": "stderr",
     "output_type": "stream",
     "text": [
      "6692it [26:47,  4.59it/s]"
     ]
    },
    {
     "name": "stdout",
     "output_type": "stream",
     "text": [
      "error\n",
      "재시도 중 :  0\n",
      "error\n",
      "재시도 중 :  1\n",
      "error\n",
      "재시도 중 :  2\n"
     ]
    },
    {
     "name": "stderr",
     "output_type": "stream",
     "text": [
      "6760it [27:17,  4.57it/s]"
     ]
    },
    {
     "name": "stdout",
     "output_type": "stream",
     "text": [
      "error\n",
      "재시도 중 :  0\n",
      "error\n",
      "재시도 중 :  1\n",
      "error\n",
      "재시도 중 :  2\n"
     ]
    },
    {
     "name": "stderr",
     "output_type": "stream",
     "text": [
      "6935it [28:10,  4.62it/s]"
     ]
    },
    {
     "name": "stdout",
     "output_type": "stream",
     "text": [
      "error\n",
      "재시도 중 :  0\n",
      "error\n",
      "재시도 중 :  1\n",
      "error\n",
      "재시도 중 :  2\n"
     ]
    },
    {
     "name": "stderr",
     "output_type": "stream",
     "text": [
      "8339it [33:30,  4.58it/s]"
     ]
    },
    {
     "name": "stdout",
     "output_type": "stream",
     "text": [
      "error\n",
      "재시도 중 :  0\n",
      "error\n",
      "재시도 중 :  1\n",
      "error\n",
      "재시도 중 :  2\n"
     ]
    },
    {
     "name": "stderr",
     "output_type": "stream",
     "text": [
      "9516it [38:01,  4.67it/s]"
     ]
    },
    {
     "name": "stdout",
     "output_type": "stream",
     "text": [
      "error\n",
      "재시도 중 :  0\n",
      "error\n",
      "재시도 중 :  1\n",
      "error\n",
      "재시도 중 :  2\n"
     ]
    },
    {
     "name": "stderr",
     "output_type": "stream",
     "text": [
      "10213it [40:47,  4.63it/s]"
     ]
    },
    {
     "name": "stdout",
     "output_type": "stream",
     "text": [
      "error\n",
      "재시도 중 :  0\n",
      "error\n",
      "재시도 중 :  1\n",
      "error\n",
      "재시도 중 :  2\n"
     ]
    },
    {
     "name": "stderr",
     "output_type": "stream",
     "text": [
      "11275it [44:54,  4.59it/s]"
     ]
    },
    {
     "name": "stdout",
     "output_type": "stream",
     "text": [
      "error\n",
      "재시도 중 :  0\n",
      "error\n",
      "재시도 중 :  1\n",
      "error\n",
      "재시도 중 :  2\n"
     ]
    },
    {
     "name": "stderr",
     "output_type": "stream",
     "text": [
      "11276it [45:09,  4.73s/it]"
     ]
    },
    {
     "name": "stdout",
     "output_type": "stream",
     "text": [
      "error\n",
      "재시도 중 :  0\n",
      "error\n",
      "재시도 중 :  1\n",
      "error\n",
      "재시도 중 :  2\n"
     ]
    },
    {
     "name": "stderr",
     "output_type": "stream",
     "text": [
      "11279it [45:25,  3.98s/it]"
     ]
    },
    {
     "name": "stdout",
     "output_type": "stream",
     "text": [
      "error\n",
      "재시도 중 :  0\n",
      "error\n",
      "재시도 중 :  1\n",
      "error\n",
      "재시도 중 :  2\n"
     ]
    },
    {
     "name": "stderr",
     "output_type": "stream",
     "text": [
      "11280it [45:40,  7.35s/it]"
     ]
    },
    {
     "name": "stdout",
     "output_type": "stream",
     "text": [
      "error\n",
      "재시도 중 :  0\n",
      "error\n",
      "재시도 중 :  1\n",
      "error\n",
      "재시도 중 :  2\n"
     ]
    },
    {
     "name": "stderr",
     "output_type": "stream",
     "text": [
      "12120it [48:58,  4.59it/s]"
     ]
    },
    {
     "name": "stdout",
     "output_type": "stream",
     "text": [
      "error\n",
      "재시도 중 :  0\n",
      "error\n",
      "재시도 중 :  1\n",
      "error\n",
      "재시도 중 :  2\n"
     ]
    },
    {
     "name": "stderr",
     "output_type": "stream",
     "text": [
      "13052it [52:36,  4.57it/s]"
     ]
    },
    {
     "name": "stdout",
     "output_type": "stream",
     "text": [
      "error\n",
      "재시도 중 :  0\n",
      "error\n",
      "재시도 중 :  1\n",
      "error\n",
      "재시도 중 :  2\n"
     ]
    },
    {
     "name": "stderr",
     "output_type": "stream",
     "text": [
      "13996it [56:18,  4.54it/s]"
     ]
    },
    {
     "name": "stdout",
     "output_type": "stream",
     "text": [
      "error\n",
      "재시도 중 :  0\n",
      "error\n",
      "재시도 중 :  1\n",
      "error\n",
      "재시도 중 :  2\n"
     ]
    },
    {
     "name": "stderr",
     "output_type": "stream",
     "text": [
      "14442it [58:10,  4.55it/s]"
     ]
    },
    {
     "name": "stdout",
     "output_type": "stream",
     "text": [
      "error\n",
      "재시도 중 :  0\n",
      "error\n",
      "재시도 중 :  1\n",
      "error\n",
      "재시도 중 :  2\n"
     ]
    },
    {
     "name": "stderr",
     "output_type": "stream",
     "text": [
      "15078it [1:00:44,  4.54it/s]"
     ]
    },
    {
     "name": "stdout",
     "output_type": "stream",
     "text": [
      "error\n",
      "재시도 중 :  0\n",
      "error\n",
      "재시도 중 :  1\n",
      "error\n",
      "재시도 중 :  2\n"
     ]
    },
    {
     "name": "stderr",
     "output_type": "stream",
     "text": [
      "17509it [1:09:49,  4.18it/s]\n"
     ]
    }
   ],
   "source": [
    "# row4 table \n",
    "\n",
    "\n",
    "# create table\n",
    "\n",
    "import pyodbc\n",
    "import time\n",
    "\n",
    "def send_data_to_tibero(cursor , rev , rid , lab) :\n",
    "    try : \n",
    "        cursor.execute(f\"INSERT INTO POSNEG_4 VALUES('{rev}', {rid},'{lab}');\")\n",
    "        # 데이터 전송 확인\n",
    "        affected_row = cursor.rowcount\n",
    "        if affected_row > 0 :\n",
    "            return True\n",
    "        else :\n",
    "            return False\n",
    "    except :\n",
    "        print('error')\n",
    "        \n",
    "        \n",
    "DSNNAME = \"Tibero6\"\n",
    "DBUSER = \"JH\"\n",
    "DBPWD = \"nare\"\n",
    "\n",
    "cnxn = pyodbc.connect('DSN='+DSNNAME+';UID='+DBUSER+';PWD='+DBPWD)\n",
    "cursor = cnxn.cursor()\n",
    "\n",
    "max_retries = 3\n",
    "retry_delay = 5  # 재시도 딜레이 (초)\n",
    "tq = tqdm(zip(row_4.REST_ID.tolist() , row_4.REVIEW.tolist() , row_4.LABEL_TF.tolist()))\n",
    "for rid, rev, lab in tq :\n",
    "    rid = int(rid)\n",
    "    \n",
    "    # 데이터 전송 시도 횟수\n",
    "    retry_count = 0\n",
    "    while retry_count < max_retries:\n",
    "        if send_data_to_tibero(cursor , rev , rid , lab) :\n",
    "            break \n",
    "        else :\n",
    "            print('재시도 중 : ', retry_count)\n",
    "            time.sleep(retry_delay)\n",
    "            retry_count += 1\n",
    "            \n",
    "    time.sleep(0.2)    \n",
    "\n",
    "# print(row)\n",
    "\n",
    "cnxn.commit()\n",
    "cnxn.close()\n",
    "tq.close()"
   ]
  },
  {
   "cell_type": "code",
   "execution_count": 356,
   "id": "badbefea-40d3-465f-be87-1e4d060a6314",
   "metadata": {
    "tags": []
   },
   "outputs": [],
   "source": [
    "\n",
    "import pyodbc\n",
    "\n",
    "DSNNAME = \"Tibero6\"\n",
    "DBUSER = \"JH\"\n",
    "DBPWD = \"nare\"\n",
    "\n",
    "cnxn = pyodbc.connect('DSN='+DSNNAME+';UID='+DBUSER+';PWD='+DBPWD)\n",
    "cursor = cnxn.cursor()\n",
    "cursor.execute(\"\\\n",
    "CREATE TABLE WORDCLOUD_JEJUSI_YEONDONG (\\\n",
    "    WORD VARCHAR(50),\\\n",
    "    COUNT NUMBER,\\\n",
    "    LABEL_ATF VARCHAR(2),\\\n",
    "    REST_ID NUMBER\\\n",
    ") TABLESPACE USR PCTFREE 10 INITRANS 2 STORAGE (MAXEXTENTS UNLIMITED) LOGGING NOPARALLEL;\")\n",
    "\n",
    "# WORD\tCOUNT\tLABEL_ATF\tREST_ID\n",
    "\n",
    "# print(row)\n",
    "\n",
    "cnxn.commit()\n",
    "cnxn.close()"
   ]
  },
  {
   "cell_type": "code",
   "execution_count": 357,
   "id": "ca682f0b-e8c7-48ea-8155-d59f1c01513b",
   "metadata": {
    "tags": []
   },
   "outputs": [
    {
     "name": "stderr",
     "output_type": "stream",
     "text": [
      "24155it [1:28:08,  4.57it/s]\n"
     ]
    }
   ],
   "source": [
    "def send_data_to_tibero(cursor , rev , rid , lab) :\n",
    "    try : \n",
    "        cursor.execute(f\"INSERT INTO WORDCLOUD_JEJUSI_YEONDONG(WORD , COUNT , LABEL_ATF , REST_ID) VALUES('{word}',{count},'{atf}',{rid})\")\n",
    "        # 데이터 전송 확인\n",
    "        affected_row = cursor.rowcount\n",
    "        if affected_row > 0 :\n",
    "            return True\n",
    "        else :\n",
    "            return False\n",
    "    except :\n",
    "        print('error')\n",
    "\n",
    "\n",
    "\n",
    "import pyodbc\n",
    "\n",
    "DSNNAME = \"Tibero6\"\n",
    "DBUSER = \"JH\"\n",
    "DBPWD = \"nare\"\n",
    "\n",
    "cnxn = pyodbc.connect('DSN='+DSNNAME+';UID='+DBUSER+';PWD='+DBPWD)\n",
    "cursor = cnxn.cursor()\n",
    "\n",
    "max_retries = 5\n",
    "retry_delay = 5  # 재시도 딜레이 (초)\n",
    "tq = tqdm(zip(wordcloud_frm.WORD.tolist() , wordcloud_frm.COUNT.tolist() , wordcloud_frm.LABEL_ATF.tolist() , wordcloud_frm.REST_ID.tolist()))\n",
    "    \n",
    "# wordcloud_frm\n",
    "for word, count, atf , rid in tq :\n",
    "    rid = int(rid)\n",
    "    \n",
    "    # 데이터 전송 시도 횟수\n",
    "    retry_count = 0\n",
    "    while retry_count < max_retries:\n",
    "        if send_data_to_tibero(cursor , rev , rid , lab) :\n",
    "            break \n",
    "        else :\n",
    "            print('재시도 중 : ', retry_count)\n",
    "            time.sleep(retry_delay)\n",
    "            retry_count += 1\n",
    "\n",
    "    time.sleep(0.2)\n",
    "\n",
    "\n",
    "cnxn.commit()\n",
    "cnxn.close()\n",
    "tq.close()"
   ]
  },
  {
   "cell_type": "code",
   "execution_count": null,
   "id": "6eb05728-3026-4f13-8221-3ca490bbeb23",
   "metadata": {},
   "outputs": [],
   "source": []
  }
 ],
 "metadata": {
  "kernelspec": {
   "display_name": "Python 3 (ipykernel)",
   "language": "python",
   "name": "python3"
  },
  "language_info": {
   "codemirror_mode": {
    "name": "ipython",
    "version": 3
   },
   "file_extension": ".py",
   "mimetype": "text/x-python",
   "name": "python",
   "nbconvert_exporter": "python",
   "pygments_lexer": "ipython3",
   "version": "3.10.9"
  }
 },
 "nbformat": 4,
 "nbformat_minor": 5
}
