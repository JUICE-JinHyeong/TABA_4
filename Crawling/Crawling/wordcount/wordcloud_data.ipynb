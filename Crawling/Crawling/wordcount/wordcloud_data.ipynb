{
 "cells": [
  {
   "cell_type": "code",
   "execution_count": null,
   "id": "1fbb03c6-8be9-40ca-a254-ffb5b8c0176e",
   "metadata": {},
   "outputs": [],
   "source": [
    "import pyodbc\n",
    "import pandas as pd\n",
    "import numpy as np\n",
    "from konlpy.tag import Okt\n",
    "import re\n",
    "from tqdm import tqdm\n",
    "from collections import Counter"
   ]
  },
  {
   "cell_type": "code",
   "execution_count": null,
   "id": "785bc733-4616-4771-bc62-0addeb1790df",
   "metadata": {},
   "outputs": [],
   "source": [
    "# 빈도 분석\n",
    "\n",
    "\n",
    "\n",
    "DSNNAME = \"Tibero6\"\n",
    "DBUSER = \"youngho\"\n",
    "DBPWD = \"nare\"\n",
    "\n",
    "cnxn = pyodbc.connect('DSN='+DSNNAME+';UID='+DBUSER+';PWD='+DBPWD)\n",
    "cursor = cnxn.cursor()\n",
    "cursor.execute(\"SELECT REST_ID , REVIEW , LABEL_TF from REVIEW_COLLECT;\")\n",
    "\n",
    "row = cursor.fetchall()\n",
    "\n",
    "cnxn.commit()\n",
    "cnxn.close()"
   ]
  },
  {
   "cell_type": "code",
   "execution_count": null,
   "id": "97d3f7d2-72b5-4fb1-8de6-04f67c7e0987",
   "metadata": {},
   "outputs": [],
   "source": [
    "row_frm = pd.DataFrame(row, columns=['REST_ID' , 'LABEL_TF' ,'REVIEW_COLLECT']"
   ]
  },
  {
   "cell_type": "code",
   "execution_count": null,
   "id": "27baeafb-7494-4779-819a-3f3a7836b441",
   "metadata": {},
   "outputs": [],
   "source": [
    "row_group = row_frm.groupby('REST_ID')\n",
    "group_id = list(set(row_frm.REST_ID.tolist()))"
   ]
  },
  {
   "cell_type": "code",
   "execution_count": null,
   "id": "be4b6751-fa76-4ffd-8e8d-38fa0a65452b",
   "metadata": {},
   "outputs": [],
   "source": [
    "group_list = []\n",
    "for gp in group_id :\n",
    "    gp = int(gp)\n",
    "    # print(f'group_{gp}')\n",
    "    globals()[f'group_{gp}'] = row_group.get_group(gp)\n",
    "    group_list.append(globals()[f'group_{gp}'])"
   ]
  },
  {
   "cell_type": "code",
   "execution_count": null,
   "id": "c68f6165-ada5-47d5-8387-3721a64003af",
   "metadata": {},
   "outputs": [],
   "source": [
    "wordcloud_list = []\n",
    "# pbar = tqdm(group_list[:1])\n",
    "pbar = tqdm(ttttlst)\n",
    "# 차원 분할, 어절 추출\n",
    "def pos(copy_review) :\n",
    "    split_review = copy_review.REVIEW.tolist()\n",
    "    # 3차원 구조, 2차원으로 변환\n",
    "    chage_space = [item for sublist in split_review for item in sublist ]\n",
    "    \n",
    "    # 명사와 형용사만 추출\n",
    "    encoded = [word for word,shape in chage_space if shape in ['Adjective' , 'Noun'] if word not in stopwords]\n",
    "    # 개수 세기\n",
    "    word_counts = Counter(encoded)\n",
    "    #df = pd.DataFrame.from_dict(word_counts, orient='index', columns=['COUNT'])\n",
    "    df = pd.DataFrame.from_records(list(word_counts.items()), columns=['WORD', 'COUNT'])\n",
    "    df = df.sort_values('COUNT' , ascending=False).reset_index(drop=True)\n",
    "    return df[:10]\n",
    "                          \n",
    "for group_once in pbar :\n",
    "    \n",
    "    stopwords = [ '도', '는', '다', '의', '가', '이', '은', \n",
    "                  '한', '에', '하', '고', '을', '를', '인', '듯', \n",
    "                  '과', '와', '네', '들', '듯', '지', '임', '게', \n",
    "                  '는', '이', '했', '슴', '음', '것', '거', '로',\n",
    "                  '들', '거', '곳', '분', '원', '더', '왜', '해',\n",
    "                  '수', '할', '그', '함', '돈', '번', '두', '개',\n",
    "                  '건', '내', '저', '만', '갈', '걸', '제', '명', \n",
    "                  '분', '또', '및', '안', '른', '때', '접', '나',\n",
    "                  '인데', '이가', '했었','해서', '있다', '이다', \n",
    "                  '습니다', '했는데', '입니다' ]\n",
    "    \n",
    "    # 정규 표현식 수행\n",
    "    copy_review = group_once.copy()\n",
    "    copy_review.REVIEW = copy_review.REVIEW.str.replace(r'[^ㄱ-ㅎㅏ-ㅣ가-힣 ]','' , regex=True)\n",
    "    copy_review.dropna(subset=['REVIEW'], inplace=True)\n",
    "    \n",
    "    if len(copy_review) == 0 :\n",
    "        no_wordcloud = pd.DataFrame({'WORD':None , 'COUNT':None ,'LABEL_ATF':None , 'REST_ID':int(copy_review.REST_ID.iloc[0])})\n",
    "        wordcloud_list.append(no_wordcloud)\n",
    "    else : \n",
    "        # okt pos 어절 분할\n",
    "        copy_review.REVIEW = copy_review.REVIEW.apply(lambda x: okt.pos(x, norm=True, stem=True))\n",
    "        copy_review.dropna(subset=['REVIEW'], inplace=True)\n",
    "    \n",
    "        if len(copy_review) == 0 :\n",
    "            no_wordcloud = pd.DataFrame({'WORD':None , 'COUNT':None ,'LABEL_ATF':None , 'REST_ID':int(copy_review.REST_ID.iloc[0])})\n",
    "            wordcloud_list.append(no_wordcloud)\n",
    "        else :\n",
    "            T_copy_review = copy_review.query('LABEL_TF == \"T\"')\n",
    "            F_copy_review = copy_review.query('LABEL_TF == \"F\"')\n",
    "\n",
    "            word_counts = pos(copy_review) # all\n",
    "            word_counts['LABEL_ATF'] = 'A'\n",
    "            T_word_counts = pos(T_copy_review) # T\n",
    "            T_word_counts['LABEL_ATF'] = 'T'\n",
    "            F_word_counts = pos(F_copy_review) # F\n",
    "            F_word_counts['LABEL_ATF'] = 'F'\n",
    "\n",
    "    #         print(word_counts)\n",
    "    #         print(T_word_counts)\n",
    "    #         print(F_word_counts)\n",
    "\n",
    "            once_wordcloud = pd.concat([word_counts , T_word_counts , F_word_counts] , axis = 0).reset_index(drop=True)\n",
    "            once_wordcloud['REST_ID'] = int(copy_review.REST_ID.iloc[0])\n",
    "            wordcloud_list.append(once_wordcloud)\n",
    "            # print(once_wordcloud)\n",
    "    #print('------------------------------------one group end------------------------------------')\n",
    "pbar.close()\n",
    "wordcloud_frm = pd.concat(wordcloud_list , axis=0)"
   ]
  }
 ],
 "metadata": {
  "kernelspec": {
   "display_name": "Python 3 (ipykernel)",
   "language": "python",
   "name": "python3"
  },
  "language_info": {
   "codemirror_mode": {
    "name": "ipython",
    "version": 3
   },
   "file_extension": ".py",
   "mimetype": "text/x-python",
   "name": "python",
   "nbconvert_exporter": "python",
   "pygments_lexer": "ipython3",
   "version": "3.10.9"
  }
 },
 "nbformat": 4,
 "nbformat_minor": 5
}
