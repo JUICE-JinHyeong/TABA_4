{
 "cells": [
  {
   "cell_type": "code",
   "execution_count": 2,
   "id": "fa99babe",
   "metadata": {},
   "outputs": [],
   "source": [
    "from selenium.webdriver.chrome.service import Service\n",
    "from webdriver_manager.chrome import ChromeDriverManager\n",
    "from selenium import webdriver\n",
    "from selenium.webdriver.chrome.options import Options\n",
    "import subprocess\n",
    "import shutil\n",
    "from selenium.webdriver.common.by import By\n",
    "import pandas as pd\n",
    "import time\n",
    "\n",
    "from selenium.webdriver.support.ui import WebDriverWait\n",
    "from selenium.webdriver.support import expected_conditions as EC\n",
    "\n",
    "# 셀레니움 신버전 크롬 드라이버 패키지\n",
    "\n",
    "from selenium.webdriver.chrome.service import Service\n",
    "from webdriver_manager.chrome import ChromeDriverManager\n",
    "\n",
    "from selenium.webdriver.common.keys import Keys\n",
    "# 진행률\n",
    "from tqdm.notebook import tqdm\n",
    "import re\n",
    "import os"
   ]
  },
  {
   "cell_type": "code",
   "execution_count": 3,
   "id": "1ca832b9",
   "metadata": {},
   "outputs": [],
   "source": [
    "연동_data_df=pd.read_csv('제주도식당/제주시/연동/id/연동_id_name.csv' , encoding= 'euc-kr')"
   ]
  },
  {
   "cell_type": "code",
   "execution_count": 4,
   "id": "8a35b5eb",
   "metadata": {},
   "outputs": [
    {
     "data": {
      "text/html": [
       "<div>\n",
       "<style scoped>\n",
       "    .dataframe tbody tr th:only-of-type {\n",
       "        vertical-align: middle;\n",
       "    }\n",
       "\n",
       "    .dataframe tbody tr th {\n",
       "        vertical-align: top;\n",
       "    }\n",
       "\n",
       "    .dataframe thead th {\n",
       "        text-align: right;\n",
       "    }\n",
       "</style>\n",
       "<table border=\"1\" class=\"dataframe\">\n",
       "  <thead>\n",
       "    <tr style=\"text-align: right;\">\n",
       "      <th></th>\n",
       "      <th>사업장명</th>\n",
       "      <th>id</th>\n",
       "    </tr>\n",
       "  </thead>\n",
       "  <tbody>\n",
       "    <tr>\n",
       "      <th>0</th>\n",
       "      <td>봉플라봉뱅</td>\n",
       "      <td>1713847517</td>\n",
       "    </tr>\n",
       "    <tr>\n",
       "      <th>1</th>\n",
       "      <td>스톤아일랜드탭하우스</td>\n",
       "      <td>1244422132</td>\n",
       "    </tr>\n",
       "    <tr>\n",
       "      <th>2</th>\n",
       "      <td>연화양꼬치</td>\n",
       "      <td>1482063535</td>\n",
       "    </tr>\n",
       "    <tr>\n",
       "      <th>3</th>\n",
       "      <td>24시누름돌김치찌개</td>\n",
       "      <td>1028483996</td>\n",
       "    </tr>\n",
       "    <tr>\n",
       "      <th>4</th>\n",
       "      <td>영화루</td>\n",
       "      <td>1109507832</td>\n",
       "    </tr>\n",
       "    <tr>\n",
       "      <th>...</th>\n",
       "      <td>...</td>\n",
       "      <td>...</td>\n",
       "    </tr>\n",
       "    <tr>\n",
       "      <th>1014</th>\n",
       "      <td>토라네코제주본점</td>\n",
       "      <td>1778945379</td>\n",
       "    </tr>\n",
       "    <tr>\n",
       "      <th>1015</th>\n",
       "      <td>지에스25연동가락점</td>\n",
       "      <td>1326118478</td>\n",
       "    </tr>\n",
       "    <tr>\n",
       "      <th>1016</th>\n",
       "      <td>귀아랑2길베이커리카페</td>\n",
       "      <td>1887309829</td>\n",
       "    </tr>\n",
       "    <tr>\n",
       "      <th>1017</th>\n",
       "      <td>세븐일레븐제주연동노연점</td>\n",
       "      <td>1255085555</td>\n",
       "    </tr>\n",
       "    <tr>\n",
       "      <th>1018</th>\n",
       "      <td>카페노연로117</td>\n",
       "      <td>1971746359</td>\n",
       "    </tr>\n",
       "  </tbody>\n",
       "</table>\n",
       "<p>1019 rows × 2 columns</p>\n",
       "</div>"
      ],
      "text/plain": [
       "              사업장명          id\n",
       "0            봉플라봉뱅  1713847517\n",
       "1       스톤아일랜드탭하우스  1244422132\n",
       "2            연화양꼬치  1482063535\n",
       "3       24시누름돌김치찌개  1028483996\n",
       "4              영화루  1109507832\n",
       "...            ...         ...\n",
       "1014      토라네코제주본점  1778945379\n",
       "1015    지에스25연동가락점  1326118478\n",
       "1016   귀아랑2길베이커리카페  1887309829\n",
       "1017  세븐일레븐제주연동노연점  1255085555\n",
       "1018      카페노연로117  1971746359\n",
       "\n",
       "[1019 rows x 2 columns]"
      ]
     },
     "execution_count": 4,
     "metadata": {},
     "output_type": "execute_result"
    }
   ],
   "source": [
    "연동_data_df"
   ]
  },
  {
   "cell_type": "code",
   "execution_count": null,
   "id": "efa1d018",
   "metadata": {},
   "outputs": [],
   "source": [
    "# 식당 정보에서의 이미지\n",
    "\n",
    " # 이미지 url 가져오기\n",
    "try :\n",
    "    print('이미지 url 가져오는중')\n",
    "    wait.until(EC.presence_of_element_located((By.CLASS_NAME, \"fNygA\")))\n",
    "    time.sleep(0.3)\n",
    "\n",
    "    rest_img = driver.find_elements(by = By.CLASS_NAME , value ='fNygA > a > div')\n",
    "    rest_img_urls = []\n",
    "    for stylejs in rest_img :\n",
    "\n",
    "        url_test_data = stylejs.get_attribute('style')\n",
    "        url_find_num = url_test_data.find('url(\"')\n",
    "        if 'jpg' in url_test_data :\n",
    "            url_find_num_end = url_test_data.find('jpg')\n",
    "        else :\n",
    "            url_find_num_end = url_test_data.find('.\")')\n",
    "        rest_img_url = url_test_data[url_find_num + 5 : url_find_num_end+3]\n",
    "        if rest_img_url != '' :\n",
    "            rest_img_urls.append(rest_img_url)\n",
    "    append_df['이미지url'] = [rest_img_urls]\n",
    "    # image_url = rest_img_urls\n",
    "except : \n",
    "    # 추가 식당 정보 이미지가 한 개일 경우 위 코드 복붙\n",
    "    try :\n",
    "        wait.until(EC.presence_of_element_located((By.CLASS_NAME, \"K0PDV\")))\n",
    "        time.sleep(0.3)\n",
    "\n",
    "        rest_img = driver.find_elements(by = By.CLASS_NAME , value ='K0PDV')\n",
    "        rest_img_urls = []\n",
    "        for stylejs in rest_img :\n",
    "\n",
    "            url_test_data = stylejs.get_attribute('style')\n",
    "            url_find_num = url_test_data.find('url(\"')\n",
    "            if 'jpg' in url_test_data :\n",
    "                url_find_num_end = url_test_data.find('jpg')\n",
    "            else :\n",
    "                url_find_num_end = url_test_data.find('.\")')\n",
    "            rest_img_url = url_test_data[url_find_num + 5 : url_find_num_end+3]\n",
    "            if rest_img_url != '' :\n",
    "                rest_img_urls.append(rest_img_url)\n",
    "        append_df['이미지url'] = [rest_img_urls]\n",
    "        # image_url = rest_img_urls\n",
    "    except : \n",
    "        print('No restaurant image')\n",
    "        append_df['이미지url'] = ''\n",
    "        # image_url=''\n",
    "        pass\n"
   ]
  },
  {
   "cell_type": "code",
   "execution_count": null,
   "id": "368254e9",
   "metadata": {},
   "outputs": [],
   "source": [
    "# 문장 분할 X\n",
    "def naver_rest_review(rest_name , rest_id) :    \n",
    "    \n",
    "    name = rest_name\n",
    "    id_num = rest_id\n",
    "    \n",
    "    # Chrome headless 설정\n",
    "    options = Options()\n",
    "    # options.add_argument('--headless')\n",
    "\n",
    "    # 드라이버 생성\n",
    "    driver = webdriver.Chrome(service=Service(ChromeDriverManager().install()), options=options)\n",
    "\n",
    "    # name = '고기다 성산흑돼지'\n",
    "    # 리뷰 페이지 열기\n",
    "    print(f'현재 크롤링이 진행중인 검색어 : {name}')\n",
    "\n",
    "    url = f\"https://map.naver.com/v5/search/{name}/place/{id_num}\"\n",
    "\n",
    "    driver.get(url)\n",
    "    wait = WebDriverWait(driver, 5)\n",
    "    iframe = wait.until(EC.presence_of_element_located((By.ID, \"entryIframe\")))\n",
    "    driver.switch_to.frame(iframe)\n",
    "\n",
    "    # 리뷰 클릭\n",
    "    # veBoZ class tag에 해당하는 요소가 존재하는지 확인\n",
    "    try :\n",
    "        wait.until(EC.presence_of_element_located((By.CLASS_NAME, \"veBoZ\")))\n",
    "        category = driver.find_elements(by = By.CLASS_NAME , value = 'veBoZ')\n",
    "        tlst = [c.text for c in category]\n",
    "        if '리뷰' not in tlst :\n",
    "            telst = ['no_review']\n",
    "            df = pd.DataFrame(telst , columns = ['리뷰'])\n",
    "            df.to_csv(f'제주도식당/제주시/연동/리뷰/{name}_review.csv' , index = False , encoding='euc-kr')\n",
    "\n",
    "            return telst\n",
    "        else :\n",
    "            for num , tag in enumerate(category) :\n",
    "                # print(tag.text)\n",
    "                if tag.text == '리뷰' :\n",
    "                    driver.find_elements(by = By.CLASS_NAME\n",
    "                                        , value = 'veBoZ')[num].click()\n",
    "    except :\n",
    "        pass\n",
    "\n",
    "    # 최신순 클릭\n",
    "    # mSdTM class tag가 선택 가능한지 확인\n",
    "    \n",
    "    try :\n",
    "        time.sleep(1.5)\n",
    "        wait.until(EC.presence_of_element_located((By.CLASS_NAME, \"mSdTM\")))\n",
    "        # wait.until(EC.element_to_be_clickable((By.CLASS_NAME , \"mSdTM\")))\n",
    "        driver.find_elements(by = By.CLASS_NAME , value = \"mSdTM\")[1].click()\n",
    "    except :\n",
    "        pass\n",
    "    \n",
    "\n",
    "    # 리뷰 전체 펼치기\n",
    "    try :\n",
    "        wait.until(EC.presence_of_all_elements_located((By.CLASS_NAME , \"fvwqf\")))\n",
    "        click = driver.find_element(by = By.CLASS_NAME , value = 'fvwqf')\n",
    "\n",
    "        while click is not None:\n",
    "            try :\n",
    "                click.click()  \n",
    "            except :\n",
    "                break\n",
    "    except :\n",
    "        print('펼칠 리뷰가 없다.')\n",
    "        pass\n",
    "\n",
    "    # driver 객체를 사용하여 body 태그를 찾고, Keys.HOME을 사용하여 스크롤을 맨 위로 이동합니다.\n",
    "    # fvwqf class tag가 보이지 않으면 진행합니다.\n",
    "    try :\n",
    "        wait.until(EC.invisibility_of_element_located((By.CLASS_NAME , \"fvwqf\")))\n",
    "    except :\n",
    "        pass\n",
    "    body = driver.find_element(by = By.TAG_NAME , value = 'body')\n",
    "    body.send_keys(Keys.HOME)\n",
    "    time.sleep(0.4)\n",
    "    review_click = driver.find_elements(by = By.CLASS_NAME , value = 'rvCSr')\n",
    "    if len(review_click) != 0 :\n",
    "        for address in tqdm(review_click) :\n",
    "            address.click()\n",
    "            time.sleep(0.2)\n",
    "    else :\n",
    "        pass\n",
    "\n",
    "    # 리뷰 가져오기\n",
    "    # 현재는 리뷰만 가져오지만 가져올 데이터를 어떤 것을 정하느냐에 따라 더 많은 정보를 가져올 수도 있다.\n",
    "\n",
    "    review_lst = []\n",
    "\n",
    "    review = driver.find_elements(by = By.CLASS_NAME , value = 'zPfVt')\n",
    "\n",
    "    for rev in tqdm(review) :\n",
    "        review_lst.append(rev.text)\n",
    "\n",
    "    telst = []\n",
    "    for review in tqdm(review_lst) :\n",
    "        split_result = [review_s.split('. ') for review_s in review.split('\\n')]\n",
    "        for text_1 in split_result :\n",
    "            for text_2 in text_1 :\n",
    "                # 특수문자 알파벳 단일 자음,모음 제거\n",
    "                pattern = r\"[^가-힣\\s]+\"\n",
    "                result = re.sub(pattern, \"\", text_2)\n",
    "                # 추가로 2칸 이상 공백 1칸으로 통일\n",
    "                result = re.sub(r\"[\\s{2,}]\", \" \", result)\n",
    "                telst.append(result)        \n",
    "    # df = pd.DataFrame(telst , columns = ['리뷰'])\n",
    "    df = pd.DataFrame(review_lst , columns = ['리뷰'])\n",
    "    \n",
    "    df.to_excel(f'제주도식당/제주시/연동/리뷰2/{name}_review.xlsx' , index = False)\n",
    "    driver.quit()\n",
    "    \n",
    "    return telst"
   ]
  },
  {
   "cell_type": "code",
   "execution_count": null,
   "id": "271c7638",
   "metadata": {},
   "outputs": [],
   "source": []
  },
  {
   "cell_type": "code",
   "execution_count": null,
   "id": "f3bcf75e",
   "metadata": {},
   "outputs": [],
   "source": []
  },
  {
   "cell_type": "code",
   "execution_count": null,
   "id": "166aa5f1",
   "metadata": {},
   "outputs": [],
   "source": []
  },
  {
   "cell_type": "code",
   "execution_count": 155,
   "id": "c197df7c",
   "metadata": {},
   "outputs": [
    {
     "name": "stdout",
     "output_type": "stream",
     "text": [
      "현재 크롤링이 진행중인 검색어 : 봉플라봉뱅\n"
     ]
    }
   ],
   "source": [
    "def iframe_finder(iframe_id) :\n",
    "    wait = WebDriverWait(driver, 10)\n",
    "    driver.switch_to.default_content()\n",
    "    # self.iframe\n",
    "    iframe = wait.until(EC.presence_of_element_located((By.ID, iframe_id)))\n",
    "    driver.switch_to.frame(iframe)\n",
    "def is_action_successful(driver):\n",
    "    try:\n",
    "        wait = WebDriverWait(driver, 3)\n",
    "        wait.until(EC.visibility_of_element_located((By.CLASS_NAME, \"N_KDL\")))\n",
    "        return True\n",
    "    except:\n",
    "        return False\n",
    "# 1. 식당이름 입력\n",
    "# 2. iframe searchIframe 변경\n",
    "# 3. 페이지에 식당이 있는지 확인\n",
    "# 4. 내가 찾으려는 식당 주소와 검색해서 나온 식당 주소 비교 \n",
    "# 5. 찾았다면 클릭\n",
    "\n",
    "# Chrome headless 설정\n",
    "options = Options()\n",
    "# options.add_argument('--headless')\n",
    "\n",
    "# 드라이버 생성\n",
    "driver = webdriver.Chrome(service=Service(ChromeDriverManager().install()), options=options)\n",
    "\n",
    "# name = '연화양꼬치'\n",
    "# name = '맛깔참죽신제주점'\n",
    "# name = '커피마마제주연동점'\n",
    "# name = '삼성혈해물탕'\n",
    "# name = '순창갈비'\n",
    "# name = '스톤아일랜드탭하우스'\n",
    "# name = '진낙지앤'\n",
    "# name = '토크쇼코스모스점'\n",
    "name = '봉플라봉뱅'\n",
    "# 리뷰 페이지 열기\n",
    "print(f'현재 크롤링이 진행중인 검색어 : {name}')\n",
    "\n",
    "url = f\"https://map.naver.com/v5/search/{name}\"\n",
    "\n",
    "driver.get(url)\n",
    "\n",
    "wait = WebDriverWait(driver, 10)\n",
    "\n",
    "# iframe_finder('searchIframe')\n",
    "iframe_finder('entryIframe')"
   ]
  },
  {
   "cell_type": "code",
   "execution_count": 9,
   "id": "363891f6",
   "metadata": {},
   "outputs": [],
   "source": [
    "리뷰덩어리 = driver.find_elements(by=By.CLASS_NAME , value = 'YeINN')"
   ]
  },
  {
   "cell_type": "code",
   "execution_count": 14,
   "id": "962eff3f",
   "metadata": {},
   "outputs": [],
   "source": [
    "for once in 리뷰덩어리 :\n",
    "    once"
   ]
  },
  {
   "cell_type": "code",
   "execution_count": 15,
   "id": "ab85f326",
   "metadata": {},
   "outputs": [
    {
     "data": {
      "text/plain": [
       "<selenium.webdriver.remote.webelement.WebElement (session=\"c02c205ae9cfa4e6cbffe706fe0ed6af\", element=\"964DAB24341746F44CDFFA6C8793C85F_element_437\")>"
      ]
     },
     "execution_count": 15,
     "metadata": {},
     "output_type": "execute_result"
    }
   ],
   "source": [
    "once"
   ]
  },
  {
   "cell_type": "code",
   "execution_count": 28,
   "id": "721a5a29",
   "metadata": {},
   "outputs": [],
   "source": [
    "a = []  # ODa1I 클래스에서 추출한 값들을 저장할 리스트\n",
    "b = []  # ZZ4OK.IwhtZ 클래스에 담긴 텍스트를 저장할 리스트\n",
    "iframe_finder('entryIframe')\n",
    "elements = driver.find_elements(by=By.CLASS_NAME, value='YeINN')\n",
    "\n",
    "for element in elements:\n",
    "    oda1i_elements = element.find_elements(by=By.CLASS_NAME, value='ODalI')\n",
    "\n",
    "    if oda1i_elements:\n",
    "        for oda1i_element in oda1i_elements:\n",
    "            a.append(oda1i_element)\n",
    "        b.append(element.find_element(by=By.CLASS_NAME, value='zPfVt').text)\n",
    "    else:\n",
    "        a.append('결측치')\n",
    "        b.append(element.find_element(by=By.CLASS_NAME, value='zPfVt').text)\n"
   ]
  },
  {
   "cell_type": "code",
   "execution_count": 41,
   "id": "b6f02178",
   "metadata": {},
   "outputs": [
    {
     "data": {
      "text/plain": [
       "<selenium.webdriver.remote.webelement.WebElement (session=\"c02c205ae9cfa4e6cbffe706fe0ed6af\", element=\"964DAB24341746F44CDFFA6C8793C85F_element_428\")>"
      ]
     },
     "execution_count": 41,
     "metadata": {},
     "output_type": "execute_result"
    }
   ],
   "source": [
    "driver.find_elements(by=By.CLASS_NAME, value='YeINN')[0]"
   ]
  },
  {
   "cell_type": "code",
   "execution_count": 67,
   "id": "beddd772",
   "metadata": {},
   "outputs": [
    {
     "data": {
      "text/plain": [
       "[<selenium.webdriver.remote.webelement.WebElement (session=\"c02c205ae9cfa4e6cbffe706fe0ed6af\", element=\"964DAB24341746F44CDFFA6C8793C85F_element_448\")>,\n",
       " <selenium.webdriver.remote.webelement.WebElement (session=\"c02c205ae9cfa4e6cbffe706fe0ed6af\", element=\"964DAB24341746F44CDFFA6C8793C85F_element_449\")>,\n",
       " <selenium.webdriver.remote.webelement.WebElement (session=\"c02c205ae9cfa4e6cbffe706fe0ed6af\", element=\"964DAB24341746F44CDFFA6C8793C85F_element_450\")>]"
      ]
     },
     "execution_count": 67,
     "metadata": {},
     "output_type": "execute_result"
    }
   ],
   "source": [
    "ele = driver.find_elements(by=By.CLASS_NAME, value='YeINN')[0]\n",
    "ele.find_elements(by=By.CLASS_NAME , \n",
    "                  value = 'Mmpzx > .ngGKH > .flicking-viewport > .flicking-camera > .ODalI')"
   ]
  },
  {
   "cell_type": "code",
   "execution_count": 68,
   "id": "b50efdc8",
   "metadata": {},
   "outputs": [
    {
     "data": {
      "text/plain": [
       "'음식은 괜찮아요 맛있게 잘먹었지만 글라스 와인은 맛이 별로였어요 ㅠㅠ 아쉽 주차도 편하고 사람이 없어서 조용하게 즐기고 왔어요!'"
      ]
     },
     "execution_count": 68,
     "metadata": {},
     "output_type": "execute_result"
    }
   ],
   "source": [
    "ele.find_element(by=By.CLASS_NAME , value = 'ZZ4OK.IwhtZ > a > .zPfVt').text"
   ]
  },
  {
   "cell_type": "code",
   "execution_count": 71,
   "id": "9297bbfa",
   "metadata": {},
   "outputs": [
    {
     "data": {
      "text/plain": [
       "<selenium.webdriver.remote.webelement.WebElement (session=\"c02c205ae9cfa4e6cbffe706fe0ed6af\", element=\"964DAB24341746F44CDFFA6C8793C85F_element_428\")>"
      ]
     },
     "execution_count": 71,
     "metadata": {},
     "output_type": "execute_result"
    }
   ],
   "source": [
    "review_all[1]"
   ]
  },
  {
   "cell_type": "code",
   "execution_count": 73,
   "id": "f99ce33b",
   "metadata": {
    "collapsed": true
   },
   "outputs": [
    {
     "ename": "NoSuchElementException",
     "evalue": "Message: no such element: Unable to locate element: {\"method\":\"css selector\",\"selector\":\".ZZ4OK.IwhtZ > a > .zPfVt\"}\n  (Session info: chrome=113.0.5672.127)\nStacktrace:\nBacktrace:\n\tGetHandleVerifier [0x00BC8893+48451]\n\t(No symbol) [0x00B5B8A1]\n\t(No symbol) [0x00A65058]\n\t(No symbol) [0x00A90467]\n\t(No symbol) [0x00A9069B]\n\t(No symbol) [0x00A89631]\n\t(No symbol) [0x00AAA304]\n\t(No symbol) [0x00A89586]\n\t(No symbol) [0x00AAA614]\n\t(No symbol) [0x00ABC482]\n\t(No symbol) [0x00AAA0B6]\n\t(No symbol) [0x00A87E08]\n\t(No symbol) [0x00A88F2D]\n\tGetHandleVerifier [0x00E28E3A+2540266]\n\tGetHandleVerifier [0x00E68959+2801161]\n\tGetHandleVerifier [0x00E6295C+2776588]\n\tGetHandleVerifier [0x00C52280+612144]\n\t(No symbol) [0x00B64F6C]\n\t(No symbol) [0x00B611D8]\n\t(No symbol) [0x00B612BB]\n\t(No symbol) [0x00B54857]\n\tBaseThreadInitThunk [0x768000C9+25]\n\tRtlGetAppContainerNamedObjectPath [0x77527B4E+286]\n\tRtlGetAppContainerNamedObjectPath [0x77527B1E+238]\n",
     "output_type": "error",
     "traceback": [
      "\u001b[1;31m---------------------------------------------------------------------------\u001b[0m",
      "\u001b[1;31mNoSuchElementException\u001b[0m                    Traceback (most recent call last)",
      "Input \u001b[1;32mIn [73]\u001b[0m, in \u001b[0;36m<cell line: 1>\u001b[1;34m()\u001b[0m\n\u001b[1;32m----> 1\u001b[0m \u001b[43mreview_all\u001b[49m\u001b[43m[\u001b[49m\u001b[38;5;241;43m1\u001b[39;49m\u001b[43m]\u001b[49m\u001b[38;5;241;43m.\u001b[39;49m\u001b[43mfind_element\u001b[49m\u001b[43m(\u001b[49m\u001b[43mby\u001b[49m\u001b[38;5;241;43m=\u001b[39;49m\u001b[43mBy\u001b[49m\u001b[38;5;241;43m.\u001b[39;49m\u001b[43mCLASS_NAME\u001b[49m\u001b[43m \u001b[49m\u001b[43m,\u001b[49m\u001b[43m \u001b[49m\u001b[43mvalue\u001b[49m\u001b[43m \u001b[49m\u001b[38;5;241;43m=\u001b[39;49m\u001b[43m \u001b[49m\u001b[38;5;124;43m'\u001b[39;49m\u001b[38;5;124;43mZZ4OK.IwhtZ > a > .zPfVt\u001b[39;49m\u001b[38;5;124;43m'\u001b[39;49m\u001b[43m)\u001b[49m\u001b[38;5;241m.\u001b[39mtext\n",
      "File \u001b[1;32mD:\\anaconda3\\lib\\site-packages\\selenium\\webdriver\\remote\\webelement.py:433\u001b[0m, in \u001b[0;36mWebElement.find_element\u001b[1;34m(self, by, value)\u001b[0m\n\u001b[0;32m    430\u001b[0m     by \u001b[38;5;241m=\u001b[39m By\u001b[38;5;241m.\u001b[39mCSS_SELECTOR\n\u001b[0;32m    431\u001b[0m     value \u001b[38;5;241m=\u001b[39m \u001b[38;5;124m'\u001b[39m\u001b[38;5;124m[name=\u001b[39m\u001b[38;5;124m\"\u001b[39m\u001b[38;5;132;01m%s\u001b[39;00m\u001b[38;5;124m\"\u001b[39m\u001b[38;5;124m]\u001b[39m\u001b[38;5;124m'\u001b[39m \u001b[38;5;241m%\u001b[39m value\n\u001b[1;32m--> 433\u001b[0m \u001b[38;5;28;01mreturn\u001b[39;00m \u001b[38;5;28;43mself\u001b[39;49m\u001b[38;5;241;43m.\u001b[39;49m\u001b[43m_execute\u001b[49m\u001b[43m(\u001b[49m\u001b[43mCommand\u001b[49m\u001b[38;5;241;43m.\u001b[39;49m\u001b[43mFIND_CHILD_ELEMENT\u001b[49m\u001b[43m,\u001b[49m\u001b[43m \u001b[49m\u001b[43m{\u001b[49m\u001b[38;5;124;43m\"\u001b[39;49m\u001b[38;5;124;43musing\u001b[39;49m\u001b[38;5;124;43m\"\u001b[39;49m\u001b[43m:\u001b[49m\u001b[43m \u001b[49m\u001b[43mby\u001b[49m\u001b[43m,\u001b[49m\u001b[43m \u001b[49m\u001b[38;5;124;43m\"\u001b[39;49m\u001b[38;5;124;43mvalue\u001b[39;49m\u001b[38;5;124;43m\"\u001b[39;49m\u001b[43m:\u001b[49m\u001b[43m \u001b[49m\u001b[43mvalue\u001b[49m\u001b[43m}\u001b[49m\u001b[43m)\u001b[49m[\u001b[38;5;124m\"\u001b[39m\u001b[38;5;124mvalue\u001b[39m\u001b[38;5;124m\"\u001b[39m]\n",
      "File \u001b[1;32mD:\\anaconda3\\lib\\site-packages\\selenium\\webdriver\\remote\\webelement.py:410\u001b[0m, in \u001b[0;36mWebElement._execute\u001b[1;34m(self, command, params)\u001b[0m\n\u001b[0;32m    408\u001b[0m     params \u001b[38;5;241m=\u001b[39m {}\n\u001b[0;32m    409\u001b[0m params[\u001b[38;5;124m\"\u001b[39m\u001b[38;5;124mid\u001b[39m\u001b[38;5;124m\"\u001b[39m] \u001b[38;5;241m=\u001b[39m \u001b[38;5;28mself\u001b[39m\u001b[38;5;241m.\u001b[39m_id\n\u001b[1;32m--> 410\u001b[0m \u001b[38;5;28;01mreturn\u001b[39;00m \u001b[38;5;28;43mself\u001b[39;49m\u001b[38;5;241;43m.\u001b[39;49m\u001b[43m_parent\u001b[49m\u001b[38;5;241;43m.\u001b[39;49m\u001b[43mexecute\u001b[49m\u001b[43m(\u001b[49m\u001b[43mcommand\u001b[49m\u001b[43m,\u001b[49m\u001b[43m \u001b[49m\u001b[43mparams\u001b[49m\u001b[43m)\u001b[49m\n",
      "File \u001b[1;32mD:\\anaconda3\\lib\\site-packages\\selenium\\webdriver\\remote\\webdriver.py:444\u001b[0m, in \u001b[0;36mWebDriver.execute\u001b[1;34m(self, driver_command, params)\u001b[0m\n\u001b[0;32m    442\u001b[0m response \u001b[38;5;241m=\u001b[39m \u001b[38;5;28mself\u001b[39m\u001b[38;5;241m.\u001b[39mcommand_executor\u001b[38;5;241m.\u001b[39mexecute(driver_command, params)\n\u001b[0;32m    443\u001b[0m \u001b[38;5;28;01mif\u001b[39;00m response:\n\u001b[1;32m--> 444\u001b[0m     \u001b[38;5;28;43mself\u001b[39;49m\u001b[38;5;241;43m.\u001b[39;49m\u001b[43merror_handler\u001b[49m\u001b[38;5;241;43m.\u001b[39;49m\u001b[43mcheck_response\u001b[49m\u001b[43m(\u001b[49m\u001b[43mresponse\u001b[49m\u001b[43m)\u001b[49m\n\u001b[0;32m    445\u001b[0m     response[\u001b[38;5;124m\"\u001b[39m\u001b[38;5;124mvalue\u001b[39m\u001b[38;5;124m\"\u001b[39m] \u001b[38;5;241m=\u001b[39m \u001b[38;5;28mself\u001b[39m\u001b[38;5;241m.\u001b[39m_unwrap_value(response\u001b[38;5;241m.\u001b[39mget(\u001b[38;5;124m\"\u001b[39m\u001b[38;5;124mvalue\u001b[39m\u001b[38;5;124m\"\u001b[39m, \u001b[38;5;28;01mNone\u001b[39;00m))\n\u001b[0;32m    446\u001b[0m     \u001b[38;5;28;01mreturn\u001b[39;00m response\n",
      "File \u001b[1;32mD:\\anaconda3\\lib\\site-packages\\selenium\\webdriver\\remote\\errorhandler.py:249\u001b[0m, in \u001b[0;36mErrorHandler.check_response\u001b[1;34m(self, response)\u001b[0m\n\u001b[0;32m    247\u001b[0m         alert_text \u001b[38;5;241m=\u001b[39m value[\u001b[38;5;124m\"\u001b[39m\u001b[38;5;124malert\u001b[39m\u001b[38;5;124m\"\u001b[39m]\u001b[38;5;241m.\u001b[39mget(\u001b[38;5;124m\"\u001b[39m\u001b[38;5;124mtext\u001b[39m\u001b[38;5;124m\"\u001b[39m)\n\u001b[0;32m    248\u001b[0m     \u001b[38;5;28;01mraise\u001b[39;00m exception_class(message, screen, stacktrace, alert_text)  \u001b[38;5;66;03m# type: ignore[call-arg]  # mypy is not smart enough here\u001b[39;00m\n\u001b[1;32m--> 249\u001b[0m \u001b[38;5;28;01mraise\u001b[39;00m exception_class(message, screen, stacktrace)\n",
      "\u001b[1;31mNoSuchElementException\u001b[0m: Message: no such element: Unable to locate element: {\"method\":\"css selector\",\"selector\":\".ZZ4OK.IwhtZ > a > .zPfVt\"}\n  (Session info: chrome=113.0.5672.127)\nStacktrace:\nBacktrace:\n\tGetHandleVerifier [0x00BC8893+48451]\n\t(No symbol) [0x00B5B8A1]\n\t(No symbol) [0x00A65058]\n\t(No symbol) [0x00A90467]\n\t(No symbol) [0x00A9069B]\n\t(No symbol) [0x00A89631]\n\t(No symbol) [0x00AAA304]\n\t(No symbol) [0x00A89586]\n\t(No symbol) [0x00AAA614]\n\t(No symbol) [0x00ABC482]\n\t(No symbol) [0x00AAA0B6]\n\t(No symbol) [0x00A87E08]\n\t(No symbol) [0x00A88F2D]\n\tGetHandleVerifier [0x00E28E3A+2540266]\n\tGetHandleVerifier [0x00E68959+2801161]\n\tGetHandleVerifier [0x00E6295C+2776588]\n\tGetHandleVerifier [0x00C52280+612144]\n\t(No symbol) [0x00B64F6C]\n\t(No symbol) [0x00B611D8]\n\t(No symbol) [0x00B612BB]\n\t(No symbol) [0x00B54857]\n\tBaseThreadInitThunk [0x768000C9+25]\n\tRtlGetAppContainerNamedObjectPath [0x77527B4E+286]\n\tRtlGetAppContainerNamedObjectPath [0x77527B1E+238]\n"
     ]
    }
   ],
   "source": [
    "review_all[1].find_element(by=By.CLASS_NAME , value = 'ZZ4OK.IwhtZ > a > .zPfVt').text"
   ]
  },
  {
   "cell_type": "code",
   "execution_count": 70,
   "id": "928676c8",
   "metadata": {
    "collapsed": true
   },
   "outputs": [
    {
     "name": "stdout",
     "output_type": "stream",
     "text": [
      "<selenium.webdriver.remote.webelement.WebElement (session=\"c02c205ae9cfa4e6cbffe706fe0ed6af\", element=\"964DAB24341746F44CDFFA6C8793C85F_element_428\")>\n",
      "<selenium.webdriver.remote.webelement.WebElement (session=\"c02c205ae9cfa4e6cbffe706fe0ed6af\", element=\"964DAB24341746F44CDFFA6C8793C85F_element_429\")>\n",
      "<selenium.webdriver.remote.webelement.WebElement (session=\"c02c205ae9cfa4e6cbffe706fe0ed6af\", element=\"964DAB24341746F44CDFFA6C8793C85F_element_430\")>\n",
      "<selenium.webdriver.remote.webelement.WebElement (session=\"c02c205ae9cfa4e6cbffe706fe0ed6af\", element=\"964DAB24341746F44CDFFA6C8793C85F_element_431\")>\n",
      "<selenium.webdriver.remote.webelement.WebElement (session=\"c02c205ae9cfa4e6cbffe706fe0ed6af\", element=\"964DAB24341746F44CDFFA6C8793C85F_element_432\")>\n",
      "<selenium.webdriver.remote.webelement.WebElement (session=\"c02c205ae9cfa4e6cbffe706fe0ed6af\", element=\"964DAB24341746F44CDFFA6C8793C85F_element_433\")>\n",
      "<selenium.webdriver.remote.webelement.WebElement (session=\"c02c205ae9cfa4e6cbffe706fe0ed6af\", element=\"964DAB24341746F44CDFFA6C8793C85F_element_434\")>\n",
      "<selenium.webdriver.remote.webelement.WebElement (session=\"c02c205ae9cfa4e6cbffe706fe0ed6af\", element=\"964DAB24341746F44CDFFA6C8793C85F_element_435\")>\n",
      "<selenium.webdriver.remote.webelement.WebElement (session=\"c02c205ae9cfa4e6cbffe706fe0ed6af\", element=\"964DAB24341746F44CDFFA6C8793C85F_element_436\")>\n",
      "<selenium.webdriver.remote.webelement.WebElement (session=\"c02c205ae9cfa4e6cbffe706fe0ed6af\", element=\"964DAB24341746F44CDFFA6C8793C85F_element_437\")>\n"
     ]
    }
   ],
   "source": [
    "for review_once in review_all :\n",
    "    print(review_once)"
   ]
  },
  {
   "cell_type": "code",
   "execution_count": null,
   "id": "64286c0f",
   "metadata": {},
   "outputs": [],
   "source": []
  },
  {
   "cell_type": "code",
   "execution_count": 245,
   "id": "7f8b16c0",
   "metadata": {},
   "outputs": [],
   "source": [
    "from selenium.webdriver.chrome.service import Service\n",
    "from webdriver_manager.chrome import ChromeDriverManager\n",
    "from selenium import webdriver\n",
    "from selenium.webdriver.chrome.options import Options\n",
    "import subprocess\n",
    "import shutil\n",
    "from selenium.webdriver.common.by import By\n",
    "import pandas as pd\n",
    "import time\n",
    "\n",
    "from selenium.webdriver.support.ui import WebDriverWait\n",
    "from selenium.webdriver.support import expected_conditions as EC\n",
    "\n",
    "# 셀레니움 신버전 크롬 드라이버 패키지\n",
    "\n",
    "from selenium.webdriver.chrome.service import Service\n",
    "from webdriver_manager.chrome import ChromeDriverManager\n",
    "\n",
    "from selenium.webdriver.common.keys import Keys\n",
    "# 진행률\n",
    "from tqdm.notebook import tqdm\n",
    "import re\n",
    "import os"
   ]
  },
  {
   "cell_type": "code",
   "execution_count": 250,
   "id": "1b880c0a",
   "metadata": {},
   "outputs": [],
   "source": [
    "class Crawling_review() :\n",
    "    def __init__(self , dataframe) :\n",
    "        self.id_df = dataframe\n",
    "        columns = ['리뷰' , '리뷰이미지url' , '작성자프로필' , 'My플레이스' , '작성자이름' , '리뷰작성수'\n",
    "                  , '리뷰작성일' , '식당방문수' , '리뷰인증방식' , '식당id' , '사업장명']\n",
    "        self.rest_review_df = pd.DataFrame(columns=columns)\n",
    "        \n",
    "        \n",
    "    def find_img_url(self , rest_img) :\n",
    "        rest_img_urls = []\n",
    "        for stylejs_parent in rest_img :\n",
    "            stylejs = stylejs_parent.find_element(by = By.CSS_SELECTOR , value = 'a > .K0PDV._img.fKa0W')\n",
    "            #print('stylejs = ' , stylejs)\n",
    "            url_test_data = stylejs.get_attribute('style')\n",
    "            #print('data = ' , url_test_data)\n",
    "            url_find_num = url_test_data.find('url(\"')\n",
    "\n",
    "            if 'jpg' in url_test_data :\n",
    "                url_find_num_end = url_test_data.find('jpg')\n",
    "            elif 'jpe' in url_test_data :\n",
    "                url_find_num_end = url_test_data.find('peg')\n",
    "            else :\n",
    "                url_find_num_end = url_test_data.find('.\")')\n",
    "\n",
    "            rest_img_url = url_test_data[url_find_num + 5 : url_find_num_end+3]\n",
    "\n",
    "            if rest_img_url != '' :\n",
    "                rest_img_urls.append(rest_img_url)\n",
    "\n",
    "        return rest_img_urls\n",
    "    \n",
    "    def naver_rest_review(self , rest_name , rest_id) :    \n",
    "\n",
    "        name = rest_name\n",
    "        id_num = rest_id\n",
    "\n",
    "        # Chrome headless 설정\n",
    "        options = Options()\n",
    "        # options.add_argument('--headless')\n",
    "\n",
    "        # 드라이버 생성\n",
    "        driver = webdriver.Chrome(service=Service(ChromeDriverManager().install()), options=options)\n",
    "\n",
    "        # name = '고기다 성산흑돼지'\n",
    "        # 리뷰 페이지 열기\n",
    "        print(f'현재 크롤링이 진행중인 검색어 : {name}')\n",
    "\n",
    "        url = f\"https://map.naver.com/v5/search/{name}/place/{id_num}\"\n",
    "\n",
    "        driver.get(url)\n",
    "        wait = WebDriverWait(driver, 5)\n",
    "        iframe = wait.until(EC.presence_of_element_located((By.ID, \"entryIframe\")))\n",
    "        driver.switch_to.frame(iframe)\n",
    "\n",
    "        # 리뷰 클릭\n",
    "        # veBoZ class tag에 해당하는 요소가 존재하는지 확인\n",
    "        try :\n",
    "            wait.until(EC.presence_of_element_located((By.CLASS_NAME, \"veBoZ\")))\n",
    "            category = driver.find_elements(by = By.CLASS_NAME , value = 'veBoZ')\n",
    "            tlst = [c.text for c in category]\n",
    "            if '리뷰' not in tlst :\n",
    "                telst = ['no_review']\n",
    "                df = pd.DataFrame(telst , columns = ['리뷰'])\n",
    "                df.to_csv(f'제주도식당/제주시/연동/리뷰/{name}_review.csv' , index = False , encoding='euc-kr')\n",
    "\n",
    "                return telst\n",
    "            else :\n",
    "                for num , tag in enumerate(category) :\n",
    "                    # print(tag.text)\n",
    "                    if tag.text == '리뷰' :\n",
    "                        driver.find_elements(by = By.CLASS_NAME\n",
    "                                            , value = 'veBoZ')[num].click()\n",
    "        except :\n",
    "            pass\n",
    "\n",
    "        # 최신순 클릭\n",
    "        # mSdTM class tag가 선택 가능한지 확인\n",
    "\n",
    "        try :\n",
    "            time.sleep(1.5)\n",
    "            wait.until(EC.presence_of_element_located((By.CLASS_NAME, \"mSdTM\")))\n",
    "            # wait.until(EC.element_to_be_clickable((By.CLASS_NAME , \"mSdTM\")))\n",
    "            driver.find_elements(by = By.CLASS_NAME , value = \"mSdTM\")[1].click()\n",
    "        except :\n",
    "            pass\n",
    "\n",
    "\n",
    "        # 리뷰 전체 펼치기\n",
    "        try :\n",
    "            wait.until(EC.presence_of_all_elements_located((By.CLASS_NAME , \"fvwqf\")))\n",
    "            click = driver.find_element(by = By.CLASS_NAME , value = 'fvwqf')\n",
    "\n",
    "            while click is not None:\n",
    "                try :\n",
    "                    click.click()  \n",
    "                except :\n",
    "                    break\n",
    "        except :\n",
    "            print('펼칠 리뷰가 없다.')\n",
    "            pass\n",
    "\n",
    "        # driver 객체를 사용하여 body 태그를 찾고, Keys.HOME을 사용하여 스크롤을 맨 위로 이동합니다.\n",
    "        # fvwqf class tag가 보이지 않으면 진행합니다.\n",
    "        try :\n",
    "            wait.until(EC.invisibility_of_element_located((By.CLASS_NAME , \"fvwqf\")))\n",
    "        except :\n",
    "            pass\n",
    "        body = driver.find_element(by = By.TAG_NAME , value = 'body')\n",
    "        body.send_keys(Keys.HOME)\n",
    "        time.sleep(0.4)\n",
    "        review_click = driver.find_elements(by = By.CLASS_NAME , value = 'rvCSr')\n",
    "        if len(review_click) != 0 :\n",
    "            for address in tqdm(review_click) :\n",
    "                address.click()\n",
    "                time.sleep(0.2)\n",
    "        else :\n",
    "            pass\n",
    "\n",
    "        # 리뷰 가져오기\n",
    "        # 현재는 리뷰만 가져오지만 가져올 데이터를 어떤 것을 정하느냐에 따라 더 많은 정보를 가져올 수도 있다.\n",
    "\n",
    "        # 리뷰의 여러 정보들을 담을 변수 선언\n",
    "        \n",
    "        review_text = []\n",
    "        review_image = []\n",
    "        review_profile = []\n",
    "        review_myplace = []\n",
    "        review_nickname = []\n",
    "        review_information = []\n",
    "        review_date = []\n",
    "        review_visit_count = []\n",
    "        review_check = []\n",
    "\n",
    "        review_all = driver.find_elements(by=By.CLASS_NAME , value = 'YeINN')\n",
    "        \n",
    "        # 리뷰가 1개 보다 많을 때만 수집\n",
    "        # 데어프레임 생성시 스칼라로 생성되어 귀찮기 떄문\n",
    "        \n",
    "        if len(review_all) > 1 :\n",
    "            for review_once in tqdm(review_all , '리뷰수집중') :\n",
    "                \n",
    "                # 리뷰 텍스트 \n",
    "                        \n",
    "                rest_txt_case01 = review_once.find_elements(by=By.CLASS_NAME , value = 'ZZ4OK.IwhtZ > a > .zPfVt')\n",
    "                rest_txt_case02 = review_once.find_elements(by=By.CLASS_NAME , value = 'ZZ4OK > a > .zPfVt')\n",
    "                               \n",
    "                \n",
    "                if len(rest_txt_case01) != 0 :\n",
    "                    review_text.append(rest_txt_case01[0].text)\n",
    "                elif len(rest_txt_case02) != 0 :\n",
    "                    review_text.append(rest_txt_case02[0].text)\n",
    "                else :\n",
    "                    review_text.append('')\n",
    "                    pass\n",
    "                \n",
    "                # 작성자 첨부 이미지\n",
    "                \n",
    "                rest_img_case01 = review_once.find_elements(by=By.CLASS_NAME , \n",
    "                              value = 'Mmpzx > .ngGKH > .flicking-viewport > .flicking-camera > .ODalI')\n",
    "                rest_img_case02 = review_once.find_elements(by=By.CLASS_NAME , \n",
    "                              value = 'Mmpzx.jQTnr > .ngGKH > .flicking-viewport > .flicking-camera > .ODalI')\n",
    "                \n",
    "                \n",
    "                if len(rest_img_case01) != 0 :\n",
    "                    RIU = self.find_img_url(rest_img_case01)\n",
    "                    review_image.append(RIU)\n",
    "                elif len(rest_img_case02) != 0 :\n",
    "                    RIU = self.find_img_url(rest_img_case02)\n",
    "                    review_image.append(RIU)\n",
    "                else :\n",
    "                    review_image.append('') \n",
    "                \n",
    "                \n",
    "                # 작성자 프로필 사진\n",
    "                profile = review_once.find_element(by=By.CLASS_NAME , value ='DqSJm > .place_thumb > img')\n",
    "                review_profile.append(profile.get_attribute('src'))\n",
    "\n",
    "                # 작성자 MY플레이스\n",
    "                my_place = review_once.find_element(by=By.CLASS_NAME , value ='Hazns')\n",
    "                review_myplace.append(my_place.get_attribute('href'))\n",
    "\n",
    "                # 작성자 닉네임\n",
    "                nickname = review_once.find_element(by=By.CLASS_NAME , value ='Hazns > .sBWyy')\n",
    "                review_nickname.append(nickname.text)\n",
    "\n",
    "                # 작성자 리뷰 사진 팔로워 수\n",
    "                reviewer_info = review_once.find_elements(by=By.CLASS_NAME , value ='Hazns > .Qde7Q > .P1zUJ')\n",
    "                reviewer_info_text_lst = []\n",
    "\n",
    "                if len(reviewer_info) != 0 :\n",
    "                    for reviewer_info_text in reviewer_info :\n",
    "                            #print(reviewer_info_text.text)\n",
    "                            reviewer_info_text_lst.append(reviewer_info_text.text)\n",
    "                else : \n",
    "                    pass\n",
    "                \n",
    "                review_information.append(reviewer_info_text_lst)\n",
    "                \n",
    "                \n",
    "                \n",
    "                # 오래된 리뷰에는 별점이 달려있어 구분해주어야한다.\n",
    "                sb8UA_tag = review_once.find_elements(by=By.CLASS_NAME , value='sb8UA')\n",
    "                \n",
    "                if len(sb8UA_tag) == 3 :\n",
    "\n",
    "                    # 작성일자\n",
    "                    date = review_once.find_elements(by=By.CLASS_NAME , value ='sb8UA > .P1zUJ > .place_blind')\n",
    "                    review_date.append(date[1].text)\n",
    "\n",
    "                    # 방문 횟수\n",
    "                    visit_count = review_once.find_elements(by=By.CLASS_NAME , value ='sb8UA > .P1zUJ')\n",
    "                    review_visit_count.append(visit_count[1].text)\n",
    "\n",
    "                    # 리뷰 확인 방식\n",
    "                    check = review_once.find_elements(by=By.CLASS_NAME , value = 'sb8UA > .P1zUJ')\n",
    "                    review_check.append(check[2].text)\n",
    "                \n",
    "                else :\n",
    "                    \n",
    "                    # 작성일자\n",
    "                    date = review_once.find_elements(by=By.CLASS_NAME , value ='sb8UA > .P1zUJ > .place_blind')\n",
    "                    review_date.append(date[2].text)\n",
    "\n",
    "                    # 방문 횟수\n",
    "                    visit_count = review_once.find_elements(by=By.CLASS_NAME , value ='sb8UA > .P1zUJ')\n",
    "                    review_visit_count.append(visit_count[2].text)\n",
    "\n",
    "                    # 리뷰 확인 방식\n",
    "                    check = review_once.find_elements(by=By.CLASS_NAME , value = 'sb8UA')\n",
    "                    review_check.append(check[3].text)\n",
    "                \n",
    "            \n",
    "            df = pd.DataFrame(\n",
    "                {'리뷰' : review_text \n",
    "                 , '리뷰이미지url' : review_image \n",
    "                 , '작성자프로필' : review_profile\n",
    "                 , 'My플레이스' : review_myplace\n",
    "                 , '작성자이름' : review_nickname \n",
    "                 , '리뷰작성수' : review_information\n",
    "                 , '리뷰작성일' : review_date\n",
    "                 , '식당방문수' : review_visit_count\n",
    "                 , '리뷰인증방식' : review_check\n",
    "                })\n",
    "            df['식당id'] = rest_id\n",
    "            df['사업장명'] = rest_name\n",
    "            \n",
    "        else :\n",
    "            df = pd.DataFrame(\n",
    "                {'리뷰' : None \n",
    "                 , '리뷰이미지url' : None  \n",
    "                 , '작성자프로필' : None \n",
    "                 , 'My플레이스' : None \n",
    "                 , '작성자이름' : None  \n",
    "                 , '리뷰작성수' : None \n",
    "                 , '리뷰작성일' : None \n",
    "                 , '식당방문수' : None \n",
    "                 , '리뷰인증방식' : None \n",
    "                } , index=[0])\n",
    "            df['식당id'] = rest_id\n",
    "            df['사업장명'] = rest_name\n",
    "        \n",
    "        driver.quit()\n",
    "        \n",
    "        self.rest_review_df = df\n",
    "        return df\n",
    "        \n",
    "        \n",
    "    def crawling_review_loop(self) :\n",
    "        count = 1\n",
    "        main_frm = self.id_df\n",
    "        concat_frm = self.rest_review_df\n",
    "        rest_name_lst = main_frm.사업장명.tolist()\n",
    "        rest_id_lst = main_frm.식당id.tolist()\n",
    "\n",
    "        region_01 = self.id_df.시도.loc[0]\n",
    "        region_02 = self.id_df.시군구.loc[0]\n",
    "        region_03 = self.id_df.읍면동.loc[0]\n",
    "\n",
    "        if not os.path.exists(f'{region_01}') :\n",
    "            os.makedirs(f'{region_01}') \n",
    "        else :\n",
    "            pass\n",
    "        if not os.path.exists(f'{region_01}/{region_02}') :\n",
    "            os.makedirs(f'{region_01}/{region_02}') \n",
    "        else :\n",
    "            pass\n",
    "        if not os.path.exists(f'{region_01}/{region_02}/{region_03}') :\n",
    "            os.makedirs(f'{region_01}/{region_02}/{region_03}') \n",
    "        else :\n",
    "            pass\n",
    "\n",
    "        print('시작')\n",
    "        print('-'*60)\n",
    "        for rest_name , rest_id in zip(rest_name_lst , rest_id_lst) :\n",
    "            print(count)\n",
    "            print('현재 : ' , rest_name)\n",
    "\n",
    "            rest_df = self.naver_rest_review(rest_name , rest_id)\n",
    "            rest_df.to_excel(f'{region_01}/{region_02}/{region_03}/{rest_name}_review.xlsx' \n",
    "                             , index=False)\n",
    "\n",
    "            concat_frm = pd.concat([concat_frm , rest_df] , axis = 0)\n",
    "\n",
    "            count+=1\n",
    "            print()\n",
    "        print('-'*60)\n",
    "        print('종료')\n",
    "\n",
    "        return concat_frm"
   ]
  },
  {
   "cell_type": "code",
   "execution_count": 251,
   "id": "987c51fd",
   "metadata": {},
   "outputs": [],
   "source": [
    "data = pd.read_csv('제주특별자치도/제주시/식당정보/제주특별자치도_제주시_연동_식당id.csv' , encoding='euc-kr')"
   ]
  },
  {
   "cell_type": "code",
   "execution_count": 252,
   "id": "4d6cb6f3",
   "metadata": {},
   "outputs": [],
   "source": [
    "test = Crawling_review(data[:5])"
   ]
  },
  {
   "cell_type": "code",
   "execution_count": 253,
   "id": "3f349ee8",
   "metadata": {
    "scrolled": true
   },
   "outputs": [
    {
     "name": "stdout",
     "output_type": "stream",
     "text": [
      "시작\n",
      "------------------------------------------------------------\n",
      "1\n",
      "현재 :  봉플라봉뱅\n",
      "현재 크롤링이 진행중인 검색어 : 봉플라봉뱅\n"
     ]
    },
    {
     "data": {
      "application/vnd.jupyter.widget-view+json": {
       "model_id": "e933c97ca43d4344ae83da18e52db62d",
       "version_major": 2,
       "version_minor": 0
      },
      "text/plain": [
       "  0%|          | 0/79 [00:00<?, ?it/s]"
      ]
     },
     "metadata": {},
     "output_type": "display_data"
    },
    {
     "data": {
      "application/vnd.jupyter.widget-view+json": {
       "model_id": "c92f4543928745c38ea8eeecc8752c66",
       "version_major": 2,
       "version_minor": 0
      },
      "text/plain": [
       "리뷰수집중:   0%|          | 0/262 [00:00<?, ?it/s]"
      ]
     },
     "metadata": {},
     "output_type": "display_data"
    },
    {
     "name": "stdout",
     "output_type": "stream",
     "text": [
      "\n",
      "2\n",
      "현재 :  스톤아일랜드탭하우스\n",
      "현재 크롤링이 진행중인 검색어 : 스톤아일랜드탭하우스\n"
     ]
    },
    {
     "data": {
      "application/vnd.jupyter.widget-view+json": {
       "model_id": "f2cda87c23b5452a9491a9536ef9138b",
       "version_major": 2,
       "version_minor": 0
      },
      "text/plain": [
       "  0%|          | 0/21 [00:00<?, ?it/s]"
      ]
     },
     "metadata": {},
     "output_type": "display_data"
    },
    {
     "data": {
      "application/vnd.jupyter.widget-view+json": {
       "model_id": "f0bc6d762d2947c7aba72270a3229c5b",
       "version_major": 2,
       "version_minor": 0
      },
      "text/plain": [
       "리뷰수집중:   0%|          | 0/122 [00:00<?, ?it/s]"
      ]
     },
     "metadata": {},
     "output_type": "display_data"
    },
    {
     "name": "stdout",
     "output_type": "stream",
     "text": [
      "\n",
      "3\n",
      "현재 :  연화양꼬치\n",
      "현재 크롤링이 진행중인 검색어 : 연화양꼬치\n"
     ]
    },
    {
     "data": {
      "application/vnd.jupyter.widget-view+json": {
       "model_id": "740efc4a08694d37915f3aa9da4d6658",
       "version_major": 2,
       "version_minor": 0
      },
      "text/plain": [
       "  0%|          | 0/5 [00:00<?, ?it/s]"
      ]
     },
     "metadata": {},
     "output_type": "display_data"
    },
    {
     "data": {
      "application/vnd.jupyter.widget-view+json": {
       "model_id": "546199b94202462e9a496bdb06e93638",
       "version_major": 2,
       "version_minor": 0
      },
      "text/plain": [
       "리뷰수집중:   0%|          | 0/36 [00:00<?, ?it/s]"
      ]
     },
     "metadata": {},
     "output_type": "display_data"
    },
    {
     "name": "stdout",
     "output_type": "stream",
     "text": [
      "\n",
      "4\n",
      "현재 :  24시누름돌김치찌개\n",
      "현재 크롤링이 진행중인 검색어 : 24시누름돌김치찌개\n"
     ]
    },
    {
     "data": {
      "application/vnd.jupyter.widget-view+json": {
       "model_id": "7be70f91cc794e32a9b609620fa07ea6",
       "version_major": 2,
       "version_minor": 0
      },
      "text/plain": [
       "  0%|          | 0/22 [00:00<?, ?it/s]"
      ]
     },
     "metadata": {},
     "output_type": "display_data"
    },
    {
     "data": {
      "application/vnd.jupyter.widget-view+json": {
       "model_id": "a0edb5cd4f65455982b839ad5b6cb0fb",
       "version_major": 2,
       "version_minor": 0
      },
      "text/plain": [
       "리뷰수집중:   0%|          | 0/238 [00:00<?, ?it/s]"
      ]
     },
     "metadata": {},
     "output_type": "display_data"
    },
    {
     "name": "stdout",
     "output_type": "stream",
     "text": [
      "\n",
      "5\n",
      "현재 :  영화루\n",
      "현재 크롤링이 진행중인 검색어 : 영화루\n"
     ]
    },
    {
     "data": {
      "application/vnd.jupyter.widget-view+json": {
       "model_id": "5ad5f17c52784fc69eea71d759a21f34",
       "version_major": 2,
       "version_minor": 0
      },
      "text/plain": [
       "  0%|          | 0/9 [00:00<?, ?it/s]"
      ]
     },
     "metadata": {},
     "output_type": "display_data"
    },
    {
     "data": {
      "application/vnd.jupyter.widget-view+json": {
       "model_id": "577cc4ad9dc74d19848c3fcdcbbc3814",
       "version_major": 2,
       "version_minor": 0
      },
      "text/plain": [
       "리뷰수집중:   0%|          | 0/84 [00:00<?, ?it/s]"
      ]
     },
     "metadata": {},
     "output_type": "display_data"
    },
    {
     "name": "stdout",
     "output_type": "stream",
     "text": [
      "\n",
      "------------------------------------------------------------\n",
      "종료\n"
     ]
    }
   ],
   "source": [
    "test_01 = test.crawling_review_loop()"
   ]
  },
  {
   "cell_type": "code",
   "execution_count": 255,
   "id": "03ce23ed",
   "metadata": {},
   "outputs": [
    {
     "name": "stdout",
     "output_type": "stream",
     "text": [
      "<class 'pandas.core.frame.DataFrame'>\n",
      "Int64Index: 742 entries, 0 to 83\n",
      "Data columns (total 11 columns):\n",
      " #   Column    Non-Null Count  Dtype \n",
      "---  ------    --------------  ----- \n",
      " 0   리뷰        742 non-null    object\n",
      " 1   리뷰이미지url  742 non-null    object\n",
      " 2   작성자프로필    742 non-null    object\n",
      " 3   My플레이스    742 non-null    object\n",
      " 4   작성자이름     742 non-null    object\n",
      " 5   리뷰작성수     742 non-null    object\n",
      " 6   리뷰작성일     742 non-null    object\n",
      " 7   식당방문수     742 non-null    object\n",
      " 8   리뷰인증방식    742 non-null    object\n",
      " 9   식당id      742 non-null    object\n",
      " 10  사업장명      742 non-null    object\n",
      "dtypes: object(11)\n",
      "memory usage: 69.6+ KB\n"
     ]
    }
   ],
   "source": [
    "test_01.info()"
   ]
  },
  {
   "cell_type": "code",
   "execution_count": null,
   "id": "1e1f2560",
   "metadata": {},
   "outputs": [],
   "source": []
  },
  {
   "cell_type": "code",
   "execution_count": null,
   "id": "7181063c",
   "metadata": {},
   "outputs": [],
   "source": []
  },
  {
   "cell_type": "code",
   "execution_count": null,
   "id": "1eaf0513",
   "metadata": {},
   "outputs": [],
   "source": []
  },
  {
   "cell_type": "code",
   "execution_count": null,
   "id": "fa8c770b",
   "metadata": {},
   "outputs": [],
   "source": []
  },
  {
   "cell_type": "code",
   "execution_count": null,
   "id": "d788ddf8",
   "metadata": {},
   "outputs": [],
   "source": []
  },
  {
   "cell_type": "code",
   "execution_count": null,
   "id": "2f84d765",
   "metadata": {},
   "outputs": [],
   "source": []
  },
  {
   "cell_type": "code",
   "execution_count": 228,
   "id": "9bdaa42c",
   "metadata": {},
   "outputs": [
    {
     "data": {
      "text/html": [
       "<div>\n",
       "<style scoped>\n",
       "    .dataframe tbody tr th:only-of-type {\n",
       "        vertical-align: middle;\n",
       "    }\n",
       "\n",
       "    .dataframe tbody tr th {\n",
       "        vertical-align: top;\n",
       "    }\n",
       "\n",
       "    .dataframe thead th {\n",
       "        text-align: right;\n",
       "    }\n",
       "</style>\n",
       "<table border=\"1\" class=\"dataframe\">\n",
       "  <thead>\n",
       "    <tr style=\"text-align: right;\">\n",
       "      <th></th>\n",
       "      <th>리뷰</th>\n",
       "      <th>리뷰이미지url</th>\n",
       "      <th>작성자프로필</th>\n",
       "      <th>My플레이스</th>\n",
       "      <th>작성자이름</th>\n",
       "      <th>리뷰작성수</th>\n",
       "      <th>리뷰작성일</th>\n",
       "      <th>식당방문수</th>\n",
       "      <th>리뷰인증방식</th>\n",
       "    </tr>\n",
       "  </thead>\n",
       "  <tbody>\n",
       "    <tr>\n",
       "      <th>0</th>\n",
       "      <td>None</td>\n",
       "      <td>None</td>\n",
       "      <td>None</td>\n",
       "      <td>None</td>\n",
       "      <td>None</td>\n",
       "      <td>None</td>\n",
       "      <td>None</td>\n",
       "      <td>None</td>\n",
       "      <td>None</td>\n",
       "    </tr>\n",
       "    <tr>\n",
       "      <th>1</th>\n",
       "      <td>None</td>\n",
       "      <td>None</td>\n",
       "      <td>None</td>\n",
       "      <td>None</td>\n",
       "      <td>None</td>\n",
       "      <td>None</td>\n",
       "      <td>None</td>\n",
       "      <td>None</td>\n",
       "      <td>None</td>\n",
       "    </tr>\n",
       "    <tr>\n",
       "      <th>2</th>\n",
       "      <td>None</td>\n",
       "      <td>None</td>\n",
       "      <td>None</td>\n",
       "      <td>None</td>\n",
       "      <td>None</td>\n",
       "      <td>None</td>\n",
       "      <td>None</td>\n",
       "      <td>None</td>\n",
       "      <td>None</td>\n",
       "    </tr>\n",
       "  </tbody>\n",
       "</table>\n",
       "</div>"
      ],
      "text/plain": [
       "     리뷰 리뷰이미지url 작성자프로필 My플레이스 작성자이름 리뷰작성수 리뷰작성일 식당방문수 리뷰인증방식\n",
       "0  None     None   None   None  None  None  None  None   None\n",
       "1  None     None   None   None  None  None  None  None   None\n",
       "2  None     None   None   None  None  None  None  None   None"
      ]
     },
     "execution_count": 228,
     "metadata": {},
     "output_type": "execute_result"
    }
   ],
   "source": [
    "testdf"
   ]
  },
  {
   "cell_type": "code",
   "execution_count": 152,
   "id": "4ba21e3c",
   "metadata": {},
   "outputs": [
    {
     "data": {
      "text/html": [
       "<div>\n",
       "<style scoped>\n",
       "    .dataframe tbody tr th:only-of-type {\n",
       "        vertical-align: middle;\n",
       "    }\n",
       "\n",
       "    .dataframe tbody tr th {\n",
       "        vertical-align: top;\n",
       "    }\n",
       "\n",
       "    .dataframe thead th {\n",
       "        text-align: right;\n",
       "    }\n",
       "</style>\n",
       "<table border=\"1\" class=\"dataframe\">\n",
       "  <thead>\n",
       "    <tr style=\"text-align: right;\">\n",
       "      <th></th>\n",
       "      <th>a</th>\n",
       "      <th>b</th>\n",
       "      <th>c</th>\n",
       "    </tr>\n",
       "  </thead>\n",
       "  <tbody>\n",
       "    <tr>\n",
       "      <th>0</th>\n",
       "      <td>1</td>\n",
       "      <td>a</td>\n",
       "      <td>1</td>\n",
       "    </tr>\n",
       "    <tr>\n",
       "      <th>1</th>\n",
       "      <td>2</td>\n",
       "      <td>b</td>\n",
       "      <td>1</td>\n",
       "    </tr>\n",
       "    <tr>\n",
       "      <th>2</th>\n",
       "      <td>3</td>\n",
       "      <td>c</td>\n",
       "      <td>1</td>\n",
       "    </tr>\n",
       "    <tr>\n",
       "      <th>3</th>\n",
       "      <td>4</td>\n",
       "      <td>c</td>\n",
       "      <td>1</td>\n",
       "    </tr>\n",
       "    <tr>\n",
       "      <th>4</th>\n",
       "      <td>5</td>\n",
       "      <td>d</td>\n",
       "      <td>1</td>\n",
       "    </tr>\n",
       "  </tbody>\n",
       "</table>\n",
       "</div>"
      ],
      "text/plain": [
       "   a  b  c\n",
       "0  1  a  1\n",
       "1  2  b  1\n",
       "2  3  c  1\n",
       "3  4  c  1\n",
       "4  5  d  1"
      ]
     },
     "execution_count": 152,
     "metadata": {},
     "output_type": "execute_result"
    }
   ],
   "source": [
    "import pandas as pd\n",
    "\n",
    "a = [1,2,3,4,5]\n",
    "b = ['a','b','c','c','d']\n",
    "\n",
    "ab = pd.DataFrame({'a':a , 'b' : b})\n",
    "ab['c'] = 1\n",
    "ab"
   ]
  },
  {
   "cell_type": "code",
   "execution_count": null,
   "id": "9ee854b4",
   "metadata": {},
   "outputs": [],
   "source": []
  },
  {
   "cell_type": "code",
   "execution_count": null,
   "id": "5efa001c",
   "metadata": {},
   "outputs": [],
   "source": []
  },
  {
   "cell_type": "code",
   "execution_count": 156,
   "id": "99f9c8c9",
   "metadata": {},
   "outputs": [],
   "source": [
    "def find_img_url(rest_img) :\n",
    "    rest_img_urls = []\n",
    "    for stylejs_parent in rest_img :\n",
    "        stylejs = stylejs_parent.find_element(by = By.CSS_SELECTOR , value = 'a > .K0PDV._img.fKa0W')\n",
    "        #print('stylejs = ' , stylejs)\n",
    "        url_test_data = stylejs.get_attribute('style')\n",
    "        #print('data = ' , url_test_data)\n",
    "        url_find_num = url_test_data.find('url(\"')\n",
    "\n",
    "        if 'jpg' in url_test_data :\n",
    "            url_find_num_end = url_test_data.find('jpg')\n",
    "        elif 'jpe' in url_test_data :\n",
    "            url_find_num_end = url_test_data.find('peg')\n",
    "        else :\n",
    "            url_find_num_end = url_test_data.find('.\")')\n",
    "\n",
    "        rest_img_url = url_test_data[url_find_num + 5 : url_find_num_end+3]\n",
    "\n",
    "        if rest_img_url != '' :\n",
    "            rest_img_urls.append(rest_img_url)\n",
    "\n",
    "    return rest_img_urls\n",
    "\n",
    "\n",
    "\n",
    "\n",
    "iframe_finder('entryIframe')\n",
    "review_text = []\n",
    "review_image = []\n",
    "\n",
    "review_all = driver.find_elements(by=By.CLASS_NAME , value = 'YeINN')\n",
    "for review_once in review_all :\n",
    "    \n",
    "    rest_txt_case01 = review_once.find_elements(by=By.CLASS_NAME , value = 'ZZ4OK.IwhtZ > a > .zPfVt')\n",
    "    rest_txt_case02 = review_once.find_elements(by=By.CLASS_NAME , value = 'ZZ4OK > a > .zPfVt')\n",
    "    \n",
    "    rest_img_case01 = review_once.find_elements(by=By.CLASS_NAME , \n",
    "                  value = 'Mmpzx > .ngGKH > .flicking-viewport > .flicking-camera > .ODalI')\n",
    "    rest_img_case02 = review_once.find_elements(by=By.CLASS_NAME , \n",
    "                  value = 'Mmpzx.jQTnr > .ngGKH > .flicking-viewport > .flicking-camera > .ODalI')\n",
    "    \n",
    "    if len(rest_txt_case01) != 0 :\n",
    "        review_text.append(rest_txt_case01[0].text)\n",
    "    elif len(rest_txt_case02) != 0 :\n",
    "        review_text.append(rest_txt_case02[0].text)\n",
    "    else :\n",
    "        review_text.append('')\n",
    "        pass\n",
    "        \n",
    "    if len(rest_img_case01) != 0 :\n",
    "        RIU = find_img_url(rest_img_case01)\n",
    "        review_image.append(RIU)\n",
    "    elif len(rest_img_case02) != 0 :\n",
    "        RIU = find_img_url(rest_img_case02)\n",
    "        review_image.append(RIU)\n",
    "    else :\n",
    "        review_image.append('') "
   ]
  },
  {
   "cell_type": "code",
   "execution_count": 157,
   "id": "3a98420a",
   "metadata": {},
   "outputs": [
    {
     "data": {
      "text/plain": [
       "10"
      ]
     },
     "execution_count": 157,
     "metadata": {},
     "output_type": "execute_result"
    }
   ],
   "source": [
    "len(review_text)"
   ]
  },
  {
   "cell_type": "code",
   "execution_count": 154,
   "id": "6937c06e",
   "metadata": {},
   "outputs": [
    {
     "data": {
      "text/plain": [
       "10"
      ]
     },
     "execution_count": 154,
     "metadata": {},
     "output_type": "execute_result"
    }
   ],
   "source": [
    "len(review_image)"
   ]
  },
  {
   "cell_type": "code",
   "execution_count": null,
   "id": "6c165bb1",
   "metadata": {},
   "outputs": [],
   "source": []
  },
  {
   "cell_type": "code",
   "execution_count": null,
   "id": "7d3a3582",
   "metadata": {},
   "outputs": [],
   "source": []
  },
  {
   "cell_type": "code",
   "execution_count": 210,
   "id": "ef18f5e6",
   "metadata": {},
   "outputs": [],
   "source": [
    "# 닉네임 프로필 리뷰 수 사진 수 팔로워 수 가져오기\n",
    "# 부모 태그\n",
    "YeINN_tag = driver.find_elements(by=By.CLASS_NAME , value = 'YeINN')"
   ]
  },
  {
   "cell_type": "code",
   "execution_count": 179,
   "id": "507c39af",
   "metadata": {},
   "outputs": [
    {
     "data": {
      "text/plain": [
       "'https://g-place.pstatic.net/assets/shared/images/icon_default_profile.png'"
      ]
     },
     "execution_count": 179,
     "metadata": {},
     "output_type": "execute_result"
    }
   ],
   "source": [
    "# 작성자 프로필 사진\n",
    "profile = YeINN_tag[0].find_element(by=By.CLASS_NAME , value ='DqSJm > .place_thumb > img')\n",
    "profile.get_attribute('src')"
   ]
  },
  {
   "cell_type": "code",
   "execution_count": 209,
   "id": "b934d172",
   "metadata": {},
   "outputs": [
    {
     "data": {
      "text/plain": [
       "'https://m.place.naver.com/my/5da1f4ea8f87a842bc92ceed/review?v=2'"
      ]
     },
     "execution_count": 209,
     "metadata": {},
     "output_type": "execute_result"
    }
   ],
   "source": [
    "# 작성자 MY플레이스\n",
    "my_place = YeINN_tag[0].find_element(by=By.CLASS_NAME , value ='Hazns')\n",
    "my_place.get_attribute('href')"
   ]
  },
  {
   "cell_type": "code",
   "execution_count": 182,
   "id": "52745619",
   "metadata": {},
   "outputs": [
    {
     "data": {
      "text/plain": [
       "'쥴리지아니'"
      ]
     },
     "execution_count": 182,
     "metadata": {},
     "output_type": "execute_result"
    }
   ],
   "source": [
    "# 작성자 닉네임\n",
    "nickname = YeINN_tag[0].find_element(by=By.CLASS_NAME , value ='Hazns > .sBWyy')\n",
    "nickname.text"
   ]
  },
  {
   "cell_type": "code",
   "execution_count": 212,
   "id": "8ade13d7",
   "metadata": {},
   "outputs": [
    {
     "data": {
      "text/plain": [
       "['리뷰 419', '사진 725', '팔로워 46']"
      ]
     },
     "execution_count": 212,
     "metadata": {},
     "output_type": "execute_result"
    }
   ],
   "source": [
    "# 작성자 리뷰 사진 팔로워 수\n",
    "reviewer_info = YeINN_tag[0].find_elements(by=By.CLASS_NAME , value ='Hazns > .Qde7Q > .P1zUJ')\n",
    "reviewer_info_text_lst = []\n",
    "\n",
    "if len(reviewer_info) != 0 :\n",
    "    for reviewer_info_text in reviewer_info :\n",
    "            #print(reviewer_info_text.text)\n",
    "            reviewer_info_text_lst.append(reviewer_info_text.text)\n",
    "else : \n",
    "    pass\n",
    "reviewer_info_text_lst"
   ]
  },
  {
   "cell_type": "code",
   "execution_count": 190,
   "id": "7d496b43",
   "metadata": {},
   "outputs": [],
   "source": [
    "# 작성일자, 방문 횟수 가져오기"
   ]
  },
  {
   "cell_type": "code",
   "execution_count": 217,
   "id": "dcf45d55",
   "metadata": {},
   "outputs": [
    {
     "data": {
      "text/plain": [
       "'2023년 5월 19일 금요일'"
      ]
     },
     "execution_count": 217,
     "metadata": {},
     "output_type": "execute_result"
    }
   ],
   "source": [
    "# 작성일자\n",
    "review_date = YeINN_tag[0].find_elements(by=By.CLASS_NAME , value ='sb8UA > .P1zUJ > .place_blind')\n",
    "review_date[1].text"
   ]
  },
  {
   "cell_type": "code",
   "execution_count": 207,
   "id": "392aabd2",
   "metadata": {},
   "outputs": [
    {
     "data": {
      "text/plain": [
       "'1번째 방문'"
      ]
     },
     "execution_count": 207,
     "metadata": {},
     "output_type": "execute_result"
    }
   ],
   "source": [
    "# 방문 횟수\n",
    "review_visit_count = YeINN_tag[0].find_elements(by=By.CLASS_NAME , value ='sb8UA > .P1zUJ')\n",
    "review_visit_count[1].text"
   ]
  },
  {
   "cell_type": "code",
   "execution_count": null,
   "id": "d6fce981",
   "metadata": {},
   "outputs": [],
   "source": []
  },
  {
   "cell_type": "code",
   "execution_count": null,
   "id": "ed534573",
   "metadata": {},
   "outputs": [],
   "source": []
  },
  {
   "cell_type": "code",
   "execution_count": null,
   "id": "4c707b95",
   "metadata": {},
   "outputs": [],
   "source": []
  },
  {
   "cell_type": "code",
   "execution_count": null,
   "id": "27acf4e2",
   "metadata": {},
   "outputs": [],
   "source": []
  },
  {
   "cell_type": "code",
   "execution_count": 191,
   "id": "22309ca8",
   "metadata": {},
   "outputs": [
    {
     "data": {
      "text/plain": [
       "10"
      ]
     },
     "execution_count": 191,
     "metadata": {},
     "output_type": "execute_result"
    }
   ],
   "source": [
    "len(driver.find_elements(by=By.CLASS_NAME , value = 'sb8UA'))"
   ]
  },
  {
   "cell_type": "code",
   "execution_count": null,
   "id": "6eb24368",
   "metadata": {},
   "outputs": [],
   "source": []
  },
  {
   "cell_type": "code",
   "execution_count": null,
   "id": "45c51bc9",
   "metadata": {},
   "outputs": [],
   "source": []
  },
  {
   "cell_type": "code",
   "execution_count": null,
   "id": "b0144ace",
   "metadata": {},
   "outputs": [],
   "source": []
  },
  {
   "cell_type": "code",
   "execution_count": null,
   "id": "1a4574cb",
   "metadata": {},
   "outputs": [],
   "source": []
  },
  {
   "cell_type": "code",
   "execution_count": null,
   "id": "6ec4bfbe",
   "metadata": {},
   "outputs": [],
   "source": []
  },
  {
   "cell_type": "code",
   "execution_count": null,
   "id": "6d51b226",
   "metadata": {},
   "outputs": [],
   "source": []
  },
  {
   "cell_type": "code",
   "execution_count": null,
   "id": "feac4d10",
   "metadata": {},
   "outputs": [],
   "source": []
  },
  {
   "cell_type": "code",
   "execution_count": 148,
   "id": "c688c6c9",
   "metadata": {},
   "outputs": [
    {
     "data": {
      "text/plain": [
       "['https://search.pstatic.net/common/?autoRotate=true&quality=95&type=w750&src=https%3A%2F%2Fpup-review-phinf.pstatic.net%2FMjAyMzA1MjFfMTE4%2FMDAxNjg0NjcxODk1MDUy.pCp9l9Fl3Eyw7z7k8nUrkC3jLjAoIdI6JO98qjUKX8wg.lk7DfwFAKeqUburLDiHOi_TsvnhUaydoGuC7SDyDF4gg.JPEG%2F84B89AEE-6A97-493D-9877-6937E1A6C20B.jpeg',\n",
       " 'https://search.pstatic.net/common/?autoRotate=true&quality=95&type=w750&src=https%3A%2F%2Fpup-review-phinf.pstatic.net%2FMjAyMzA1MjFfNDAg%2FMDAxNjg0NjcxODk1MDY5.OwwxAgUN0HAHRo5sGBIg4e3Tym1_Pk0FbW8DvfetVjEg.J3pCUBW5aQlW70YiMMhvjznKsBG0WtN6fAVEkcdHdPsg.JPEG%2FB856B7C4-D91D-4E2B-B993-63865FCD7681.jpeg',\n",
       " 'https://search.pstatic.net/common/?autoRotate=true&quality=95&type=w750&src=https%3A%2F%2Fpup-review-phinf.pstatic.net%2FMjAyMzA1MjFfNTYg%2FMDAxNjg0NjcxODk1MTU0.F7OTyLk3iX-UliA_AgqYKTY-nypdnZH3i6nFmkzrBTUg.72W6VQAU8qA7Y10-TiksJTKKkc5lnzByZJUEyTsLuZYg.JPEG%2FE265D941-6DCE-4C44-B486-44563E24661B.jpeg']"
      ]
     },
     "execution_count": 148,
     "metadata": {},
     "output_type": "execute_result"
    }
   ],
   "source": [
    "review_image[0]"
   ]
  },
  {
   "cell_type": "code",
   "execution_count": null,
   "id": "9bceae65",
   "metadata": {},
   "outputs": [],
   "source": []
  },
  {
   "cell_type": "code",
   "execution_count": null,
   "id": "bd21605c",
   "metadata": {},
   "outputs": [],
   "source": []
  },
  {
   "cell_type": "code",
   "execution_count": 138,
   "id": "ddd2e4b6",
   "metadata": {},
   "outputs": [
    {
     "data": {
      "text/plain": [
       "'width: 100%; height: 100%; background-image: url(\"https://search.pstatic.net/common/?autoRotate=true&quality=95&type=w750&src=https%3A%2F%2Fpup-review-phinf.pstatic.net%2FMjAyMzA1MjFfMTE4%2FMDAxNjg0NjcxODk1MDUy.pCp9l9Fl3Eyw7z7k8nUrkC3jLjAoIdI6JO98qjUKX8wg.lk7DfwFAKeqUburLDiHOi_TsvnhUaydoGuC7SDyDF4gg.JPEG%2F84B89AEE-6A97-493D-9877-6937E1A6C20B.jpeg\");'"
      ]
     },
     "execution_count": 138,
     "metadata": {},
     "output_type": "execute_result"
    }
   ],
   "source": [
    "iframe_finder('entryIframe')\n",
    "review_all = driver.find_elements(by=By.CLASS_NAME , value = 'YeINN')\n",
    "rest_img = review_all[2].find_elements(by=By.CLASS_NAME , \n",
    "                  value = 'Mmpzx > .ngGKH > .flicking-viewport > .flicking-camera > .ODalI')\n",
    "rest_img[0].get_attribute('style')\n",
    "\n",
    "\n",
    "rest_img = review_all[0].find_elements(by=By.CLASS_NAME , \n",
    "                  value = 'Mmpzx > .ngGKH > .flicking-viewport > .flicking-camera > .ODalI')\n",
    "rest_img[0].find_element(by = By.CSS_SELECTOR , value = 'a > .K0PDV._img.fKa0W').get_attribute('style')"
   ]
  },
  {
   "cell_type": "code",
   "execution_count": null,
   "id": "e122a994",
   "metadata": {},
   "outputs": [],
   "source": []
  },
  {
   "cell_type": "code",
   "execution_count": null,
   "id": "ee2b7b36",
   "metadata": {},
   "outputs": [],
   "source": [
    "class=\"K0PDV _img fKa0W\"\n",
    "K0PDV._img.fKa0W"
   ]
  },
  {
   "cell_type": "code",
   "execution_count": 115,
   "id": "453fdd0f",
   "metadata": {},
   "outputs": [
    {
     "data": {
      "text/plain": [
       "<selenium.webdriver.remote.webelement.WebElement (session=\"c02c205ae9cfa4e6cbffe706fe0ed6af\", element=\"964DAB24341746F44CDFFA6C8793C85F_element_987\")>"
      ]
     },
     "execution_count": 115,
     "metadata": {},
     "output_type": "execute_result"
    }
   ],
   "source": [
    "rest_img[0]"
   ]
  },
  {
   "cell_type": "code",
   "execution_count": 113,
   "id": "317ac4ed",
   "metadata": {},
   "outputs": [
    {
     "data": {
      "text/plain": [
       "''"
      ]
     },
     "execution_count": 113,
     "metadata": {},
     "output_type": "execute_result"
    }
   ],
   "source": [
    "style_data = driver.execute_script(\"return window.getComputedStyle(arguments[0]).cssText;\", rest_img[0])\n",
    "style_data"
   ]
  },
  {
   "cell_type": "code",
   "execution_count": 76,
   "id": "b40a76cb",
   "metadata": {},
   "outputs": [
    {
     "data": {
      "text/plain": [
       "[[], '', [], '', '', [], [], [], '', '']"
      ]
     },
     "execution_count": 76,
     "metadata": {},
     "output_type": "execute_result"
    }
   ],
   "source": [
    "review_image"
   ]
  },
  {
   "cell_type": "code",
   "execution_count": 77,
   "id": "9e40c943",
   "metadata": {},
   "outputs": [
    {
     "data": {
      "text/plain": [
       "['음식은 괜찮아요 맛있게 잘먹었지만 글라스 와인은 맛이 별로였어요 ㅠㅠ 아쉽 주차도 편하고 사람이 없어서 조용하게 즐기고 왔어요!',\n",
       " '오랜만에 파인 다이닝을 경험 했습니다. 런치 셋 이었지만, 하나하나 정성들여 정갈하고 맛있었습니다. 재방문 꼭 하고 싶네요.',\n",
       " '웨딩촬영 뒷풀이 제대로 하고 가요!\\n라구 뇨끼 스테이크 와인까지 너무맛있어요ㅠㅠ\\n잘먹었습니다👍😍',\n",
       " '음...',\n",
       " '지인 추천으로 예약까지 하고 귀한분들 모시고 갔는 데.... 추가로 주문한 빵 4조각이 주문한 음식 4개에 비해 제일 맛있었습니다. 올리브 오일에 소금...',\n",
       " '알고리즘 따라가다가 보게되고 바로 예약후 갔는데 이게 극락인가… 너무 맛있어요 어니언슾 일인당 하 나씩 필수 뇨끼는 쫄깃꼬소 슽테이크는 보들...',\n",
       " '뇨끼랑 버섯파스타 먹었는데 느끼하지 않고 진짜 맛있었어요! 차 가져와서 와인 못먹은게 아쉬웠지만 다음에는 와인이랑 같이 먹어보려고여ㅠㅠ',\n",
       " '굿굿 ! 문어가 특히 맛있었어요',\n",
       " '굿굿',\n",
       " '너무너무 맛있게 잘먹었습니당']"
      ]
     },
     "execution_count": 77,
     "metadata": {},
     "output_type": "execute_result"
    }
   ],
   "source": [
    "review_text"
   ]
  },
  {
   "cell_type": "code",
   "execution_count": 39,
   "id": "6c206974",
   "metadata": {},
   "outputs": [],
   "source": [
    "ele = driver.find_elements(by=By.CLASS_NAME, value='YeINN')[0]\n",
    "rest_img = ele.find_elements(by=By.CLASS_NAME , value = 'ODaII')\n",
    "\n",
    "rest_img_urls = []\n",
    "for stylejs in rest_img :\n",
    "\n",
    "    url_test_data = stylejs.get_attribute('style')\n",
    "    url_find_num = url_test_data.find('url(\"')\n",
    "    if 'jpg' in url_test_data :\n",
    "        url_find_num_end = url_test_data.find('jpg')\n",
    "    else :\n",
    "        url_find_num_end = url_test_data.find('.\")')\n",
    "    rest_img_url = url_test_data[url_find_num + 5 : url_find_num_end+3]\n",
    "    if rest_img_url != '' :\n",
    "        rest_img_urls.append(rest_img_url)"
   ]
  },
  {
   "cell_type": "code",
   "execution_count": 40,
   "id": "249fb215",
   "metadata": {},
   "outputs": [
    {
     "data": {
      "text/plain": [
       "[]"
      ]
     },
     "execution_count": 40,
     "metadata": {},
     "output_type": "execute_result"
    }
   ],
   "source": [
    "rest_img_urls"
   ]
  },
  {
   "cell_type": "code",
   "execution_count": 27,
   "id": "0b41e2e5",
   "metadata": {},
   "outputs": [
    {
     "data": {
      "text/plain": [
       "[<selenium.webdriver.remote.webelement.WebElement (session=\"c02c205ae9cfa4e6cbffe706fe0ed6af\", element=\"964DAB24341746F44CDFFA6C8793C85F_element_575\")>,\n",
       " <selenium.webdriver.remote.webelement.WebElement (session=\"c02c205ae9cfa4e6cbffe706fe0ed6af\", element=\"964DAB24341746F44CDFFA6C8793C85F_element_576\")>,\n",
       " <selenium.webdriver.remote.webelement.WebElement (session=\"c02c205ae9cfa4e6cbffe706fe0ed6af\", element=\"964DAB24341746F44CDFFA6C8793C85F_element_577\")>,\n",
       " <selenium.webdriver.remote.webelement.WebElement (session=\"c02c205ae9cfa4e6cbffe706fe0ed6af\", element=\"964DAB24341746F44CDFFA6C8793C85F_element_578\")>]"
      ]
     },
     "execution_count": 27,
     "metadata": {},
     "output_type": "execute_result"
    }
   ],
   "source": [
    "element.find_elements(by=By.CLASS_NAME, value='ODalI')"
   ]
  },
  {
   "cell_type": "code",
   "execution_count": 36,
   "id": "90042497",
   "metadata": {},
   "outputs": [
    {
     "data": {
      "text/plain": [
       "[<selenium.webdriver.remote.webelement.WebElement (session=\"c02c205ae9cfa4e6cbffe706fe0ed6af\", element=\"964DAB24341746F44CDFFA6C8793C85F_element_448\")>,\n",
       " <selenium.webdriver.remote.webelement.WebElement (session=\"c02c205ae9cfa4e6cbffe706fe0ed6af\", element=\"964DAB24341746F44CDFFA6C8793C85F_element_449\")>,\n",
       " <selenium.webdriver.remote.webelement.WebElement (session=\"c02c205ae9cfa4e6cbffe706fe0ed6af\", element=\"964DAB24341746F44CDFFA6C8793C85F_element_450\")>,\n",
       " <selenium.webdriver.remote.webelement.WebElement (session=\"c02c205ae9cfa4e6cbffe706fe0ed6af\", element=\"964DAB24341746F44CDFFA6C8793C85F_element_548\")>,\n",
       " <selenium.webdriver.remote.webelement.WebElement (session=\"c02c205ae9cfa4e6cbffe706fe0ed6af\", element=\"964DAB24341746F44CDFFA6C8793C85F_element_549\")>,\n",
       " <selenium.webdriver.remote.webelement.WebElement (session=\"c02c205ae9cfa4e6cbffe706fe0ed6af\", element=\"964DAB24341746F44CDFFA6C8793C85F_element_550\")>,\n",
       " '결측치',\n",
       " <selenium.webdriver.remote.webelement.WebElement (session=\"c02c205ae9cfa4e6cbffe706fe0ed6af\", element=\"964DAB24341746F44CDFFA6C8793C85F_element_579\")>,\n",
       " '결측치',\n",
       " <selenium.webdriver.remote.webelement.WebElement (session=\"c02c205ae9cfa4e6cbffe706fe0ed6af\", element=\"964DAB24341746F44CDFFA6C8793C85F_element_580\")>,\n",
       " <selenium.webdriver.remote.webelement.WebElement (session=\"c02c205ae9cfa4e6cbffe706fe0ed6af\", element=\"964DAB24341746F44CDFFA6C8793C85F_element_581\")>,\n",
       " <selenium.webdriver.remote.webelement.WebElement (session=\"c02c205ae9cfa4e6cbffe706fe0ed6af\", element=\"964DAB24341746F44CDFFA6C8793C85F_element_582\")>,\n",
       " <selenium.webdriver.remote.webelement.WebElement (session=\"c02c205ae9cfa4e6cbffe706fe0ed6af\", element=\"964DAB24341746F44CDFFA6C8793C85F_element_583\")>,\n",
       " <selenium.webdriver.remote.webelement.WebElement (session=\"c02c205ae9cfa4e6cbffe706fe0ed6af\", element=\"964DAB24341746F44CDFFA6C8793C85F_element_584\")>,\n",
       " <selenium.webdriver.remote.webelement.WebElement (session=\"c02c205ae9cfa4e6cbffe706fe0ed6af\", element=\"964DAB24341746F44CDFFA6C8793C85F_element_585\")>,\n",
       " <selenium.webdriver.remote.webelement.WebElement (session=\"c02c205ae9cfa4e6cbffe706fe0ed6af\", element=\"964DAB24341746F44CDFFA6C8793C85F_element_586\")>,\n",
       " <selenium.webdriver.remote.webelement.WebElement (session=\"c02c205ae9cfa4e6cbffe706fe0ed6af\", element=\"964DAB24341746F44CDFFA6C8793C85F_element_587\")>,\n",
       " <selenium.webdriver.remote.webelement.WebElement (session=\"c02c205ae9cfa4e6cbffe706fe0ed6af\", element=\"964DAB24341746F44CDFFA6C8793C85F_element_588\")>,\n",
       " <selenium.webdriver.remote.webelement.WebElement (session=\"c02c205ae9cfa4e6cbffe706fe0ed6af\", element=\"964DAB24341746F44CDFFA6C8793C85F_element_589\")>,\n",
       " <selenium.webdriver.remote.webelement.WebElement (session=\"c02c205ae9cfa4e6cbffe706fe0ed6af\", element=\"964DAB24341746F44CDFFA6C8793C85F_element_590\")>,\n",
       " <selenium.webdriver.remote.webelement.WebElement (session=\"c02c205ae9cfa4e6cbffe706fe0ed6af\", element=\"964DAB24341746F44CDFFA6C8793C85F_element_591\")>,\n",
       " <selenium.webdriver.remote.webelement.WebElement (session=\"c02c205ae9cfa4e6cbffe706fe0ed6af\", element=\"964DAB24341746F44CDFFA6C8793C85F_element_592\")>,\n",
       " <selenium.webdriver.remote.webelement.WebElement (session=\"c02c205ae9cfa4e6cbffe706fe0ed6af\", element=\"964DAB24341746F44CDFFA6C8793C85F_element_575\")>,\n",
       " <selenium.webdriver.remote.webelement.WebElement (session=\"c02c205ae9cfa4e6cbffe706fe0ed6af\", element=\"964DAB24341746F44CDFFA6C8793C85F_element_576\")>,\n",
       " <selenium.webdriver.remote.webelement.WebElement (session=\"c02c205ae9cfa4e6cbffe706fe0ed6af\", element=\"964DAB24341746F44CDFFA6C8793C85F_element_577\")>,\n",
       " <selenium.webdriver.remote.webelement.WebElement (session=\"c02c205ae9cfa4e6cbffe706fe0ed6af\", element=\"964DAB24341746F44CDFFA6C8793C85F_element_578\")>]"
      ]
     },
     "execution_count": 36,
     "metadata": {},
     "output_type": "execute_result"
    }
   ],
   "source": [
    "a"
   ]
  },
  {
   "cell_type": "code",
   "execution_count": 25,
   "id": "d02e7af6",
   "metadata": {},
   "outputs": [
    {
     "data": {
      "text/plain": [
       "['음식은 괜찮아요 맛있게 잘먹었지만 글라스 와인은 맛이 별로였어요 ㅠㅠ 아쉽 주차도 편하고 사람이 없어서 조용하게 즐기고 왔어요!',\n",
       " '알고리즘 따라가다가 보게되고 바로 예약후 갔는데 이게 극락인가… 너무 맛있어요 어니언슾 일인당 하 나씩 필수 뇨끼는 쫄깃꼬소 슽테이크는 보들...',\n",
       " '오랜만에 파인 다이닝을 경험 했습니다. 런치 셋 이었지만, 하나하나 정성들여 정갈하고 맛있었습니다. 재방문 꼭 하고 싶네요.',\n",
       " '웨딩촬영 뒷풀이 제대로 하고 가요!\\n라구 뇨끼 스테이크 와인까지 너무맛있어요ㅠㅠ\\n잘먹었습니다👍😍',\n",
       " '지인 추천으로 예약까지 하고 귀한분들 모시고 갔는 데.... 추가로 주문한 빵 4조각이 주문한 음식 4개에 비해 제일 맛있었습니다. 올리브 오일에 소금...',\n",
       " '굿굿 ! 문어가 특히 맛있었어요',\n",
       " '뇨끼랑 버섯파스타 먹었는데 느끼하지 않고 진짜 맛있었어요! 차 가져와서 와인 못먹은게 아쉬웠지만 다음에는 와인이랑 같이 먹어보려고여ㅠㅠ',\n",
       " '음식도 와인도 모두 맛있었습니다! 외국여행하고 온 기분이었어요💖 덕분에 친구와 행복한 시간 보내고 왔습니다!',\n",
       " '친구 추천으로 제주여행중 가장 마음에 들었던 맛집 입니다. 아이들과 친구들이랑 여러명 가서 메뉴에 있 는 많은 음식을 먹을수 있어서 좋았고 코스요...',\n",
       " '깔끔하고 심플한 장소에서 맛있는 음식과 와인을 조용히 아름답게 즐기고 싶으시다면 적극 추천입니다.']"
      ]
     },
     "execution_count": 25,
     "metadata": {},
     "output_type": "execute_result"
    }
   ],
   "source": [
    "b"
   ]
  },
  {
   "cell_type": "code",
   "execution_count": 21,
   "id": "a1dcfafe",
   "metadata": {
    "scrolled": true
   },
   "outputs": [
    {
     "data": {
      "text/plain": [
       "'음식은 괜찮아요 맛있게 잘먹었지만 글라스 와인은 맛이 별로였어요 ㅠㅠ 아쉽 주차도 편하고 사람이 없어서 조용하게 즐기고 왔어요!'"
      ]
     },
     "execution_count": 21,
     "metadata": {},
     "output_type": "execute_result"
    }
   ],
   "source": [
    "driver.find_element(by=By.XPATH , value ='//*[@id=\"app-root\"]/div/div/div/div[7]/div[3]/div[3]/div[1]/ul/li[1]/div[3]/a').text"
   ]
  },
  {
   "cell_type": "code",
   "execution_count": null,
   "id": "9020cb1b",
   "metadata": {},
   "outputs": [],
   "source": []
  }
 ],
 "metadata": {
  "kernelspec": {
   "display_name": "Python 3 (ipykernel)",
   "language": "python",
   "name": "python3"
  },
  "language_info": {
   "codemirror_mode": {
    "name": "ipython",
    "version": 3
   },
   "file_extension": ".py",
   "mimetype": "text/x-python",
   "name": "python",
   "nbconvert_exporter": "python",
   "pygments_lexer": "ipython3",
   "version": "3.9.13"
  }
 },
 "nbformat": 4,
 "nbformat_minor": 5
}
