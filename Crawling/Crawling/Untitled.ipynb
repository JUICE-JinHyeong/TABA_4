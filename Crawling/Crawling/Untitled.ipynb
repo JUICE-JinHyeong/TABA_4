{
 "cells": [
  {
   "cell_type": "code",
   "execution_count": 1,
   "id": "56051073",
   "metadata": {},
   "outputs": [],
   "source": [
    "import pandas as pd"
   ]
  },
  {
   "cell_type": "code",
   "execution_count": 33,
   "id": "eb94bb87",
   "metadata": {},
   "outputs": [],
   "source": [
    "data = pd.read_excel('제주도식당/jeju_rest.xlsx')"
   ]
  },
  {
   "cell_type": "code",
   "execution_count": 34,
   "id": "489628ce",
   "metadata": {},
   "outputs": [],
   "source": [
    "# data[data.상세영업상태명=='영업']\n",
    "data = data.query('상세영업상태명 == \"영업\"')"
   ]
  },
  {
   "cell_type": "code",
   "execution_count": 37,
   "id": "41bf1510",
   "metadata": {},
   "outputs": [],
   "source": [
    "data = data[['사업장명','도로명전체주소']]"
   ]
  },
  {
   "cell_type": "code",
   "execution_count": null,
   "id": "a1c8aad5",
   "metadata": {},
   "outputs": [],
   "source": []
  },
  {
   "cell_type": "code",
   "execution_count": 40,
   "id": "4d0371a3",
   "metadata": {},
   "outputs": [
    {
     "data": {
      "text/html": [
       "<div>\n",
       "<style scoped>\n",
       "    .dataframe tbody tr th:only-of-type {\n",
       "        vertical-align: middle;\n",
       "    }\n",
       "\n",
       "    .dataframe tbody tr th {\n",
       "        vertical-align: top;\n",
       "    }\n",
       "\n",
       "    .dataframe thead th {\n",
       "        text-align: right;\n",
       "    }\n",
       "</style>\n",
       "<table border=\"1\" class=\"dataframe\">\n",
       "  <thead>\n",
       "    <tr style=\"text-align: right;\">\n",
       "      <th></th>\n",
       "      <th>사업장명</th>\n",
       "      <th>도로명전체주소</th>\n",
       "    </tr>\n",
       "  </thead>\n",
       "  <tbody>\n",
       "    <tr>\n",
       "      <th>0</th>\n",
       "      <td>카페송키</td>\n",
       "      <td>제주특별자치도 제주시 무근성안길 16, 1층 (삼도이동)</td>\n",
       "    </tr>\n",
       "    <tr>\n",
       "      <th>1</th>\n",
       "      <td>그림책방앤카페노란우산</td>\n",
       "      <td>제주특별자치도 제주시 애월읍 하광로 515, 104동 102호 (자연숲)</td>\n",
       "    </tr>\n",
       "    <tr>\n",
       "      <th>2</th>\n",
       "      <td>에릭스에스프레소</td>\n",
       "      <td>제주특별자치도 제주시 구좌읍 구좌로 77, 1층</td>\n",
       "    </tr>\n",
       "    <tr>\n",
       "      <th>3</th>\n",
       "      <td>일품순두부한림점</td>\n",
       "      <td>제주특별자치도 제주시 한림읍 한림상로 237, 1층</td>\n",
       "    </tr>\n",
       "    <tr>\n",
       "      <th>4</th>\n",
       "      <td>김복남맥주제주아라점</td>\n",
       "      <td>제주특별자치도 제주시 중앙로 581, 에이동 1층 (아라일동)</td>\n",
       "    </tr>\n",
       "    <tr>\n",
       "      <th>...</th>\n",
       "      <td>...</td>\n",
       "      <td>...</td>\n",
       "    </tr>\n",
       "    <tr>\n",
       "      <th>43954</th>\n",
       "      <td>차롱가게</td>\n",
       "      <td>제주특별자치도 서귀포시 산록남로 2271 (호근동)</td>\n",
       "    </tr>\n",
       "    <tr>\n",
       "      <th>43955</th>\n",
       "      <td>식전빵장</td>\n",
       "      <td>제주특별자치도 서귀포시 대정읍 중산간서로 2422-1</td>\n",
       "    </tr>\n",
       "    <tr>\n",
       "      <th>43956</th>\n",
       "      <td>에이드롭커피</td>\n",
       "      <td>제주특별자치도 서귀포시 남원읍 태위로 257</td>\n",
       "    </tr>\n",
       "    <tr>\n",
       "      <th>43957</th>\n",
       "      <td>배스킨라빈스서귀포표선점</td>\n",
       "      <td>제주특별자치도 서귀포시 표선면 표선동서로 236</td>\n",
       "    </tr>\n",
       "    <tr>\n",
       "      <th>43958</th>\n",
       "      <td>노바운더리카페</td>\n",
       "      <td>제주특별자치도 서귀포시 표선면 번영로 2610, 1.2층</td>\n",
       "    </tr>\n",
       "  </tbody>\n",
       "</table>\n",
       "<p>20022 rows × 2 columns</p>\n",
       "</div>"
      ],
      "text/plain": [
       "               사업장명                                   도로명전체주소\n",
       "0              카페송키           제주특별자치도 제주시 무근성안길 16, 1층 (삼도이동)\n",
       "1       그림책방앤카페노란우산  제주특별자치도 제주시 애월읍 하광로 515, 104동 102호 (자연숲)\n",
       "2          에릭스에스프레소                제주특별자치도 제주시 구좌읍 구좌로 77, 1층\n",
       "3          일품순두부한림점              제주특별자치도 제주시 한림읍 한림상로 237, 1층\n",
       "4        김복남맥주제주아라점        제주특별자치도 제주시 중앙로 581, 에이동 1층 (아라일동)\n",
       "...             ...                                       ...\n",
       "43954          차롱가게              제주특별자치도 서귀포시 산록남로 2271 (호근동)\n",
       "43955          식전빵장             제주특별자치도 서귀포시 대정읍 중산간서로 2422-1\n",
       "43956        에이드롭커피                  제주특별자치도 서귀포시 남원읍 태위로 257\n",
       "43957  배스킨라빈스서귀포표선점                제주특별자치도 서귀포시 표선면 표선동서로 236\n",
       "43958       노바운더리카페           제주특별자치도 서귀포시 표선면 번영로 2610, 1.2층\n",
       "\n",
       "[20022 rows x 2 columns]"
      ]
     },
     "execution_count": 40,
     "metadata": {},
     "output_type": "execute_result"
    }
   ],
   "source": [
    "data.dropna()"
   ]
  },
  {
   "cell_type": "code",
   "execution_count": 41,
   "id": "2dfc69c7",
   "metadata": {},
   "outputs": [
    {
     "data": {
      "text/html": [
       "<div>\n",
       "<style scoped>\n",
       "    .dataframe tbody tr th:only-of-type {\n",
       "        vertical-align: middle;\n",
       "    }\n",
       "\n",
       "    .dataframe tbody tr th {\n",
       "        vertical-align: top;\n",
       "    }\n",
       "\n",
       "    .dataframe thead th {\n",
       "        text-align: right;\n",
       "    }\n",
       "</style>\n",
       "<table border=\"1\" class=\"dataframe\">\n",
       "  <thead>\n",
       "    <tr style=\"text-align: right;\">\n",
       "      <th></th>\n",
       "      <th>사업장명</th>\n",
       "      <th>도로명전체주소</th>\n",
       "    </tr>\n",
       "  </thead>\n",
       "  <tbody>\n",
       "    <tr>\n",
       "      <th>5</th>\n",
       "      <td>봉플라봉뱅</td>\n",
       "      <td>제주특별자치도 제주시 문송1길 6-1, 정인하우스 1층 (연동)</td>\n",
       "    </tr>\n",
       "    <tr>\n",
       "      <th>8</th>\n",
       "      <td>스톤아일랜드탭하우스</td>\n",
       "      <td>제주특별자치도 제주시 삼무로7길 16, 1층 (연동)</td>\n",
       "    </tr>\n",
       "    <tr>\n",
       "      <th>20</th>\n",
       "      <td>연화양꼬치</td>\n",
       "      <td>제주특별자치도 제주시 연동8길 28, 1층 105,106호 (연동)</td>\n",
       "    </tr>\n",
       "    <tr>\n",
       "      <th>24</th>\n",
       "      <td>24시누름돌김치찌개</td>\n",
       "      <td>제주특별자치도 제주시 노연로 146, 1층 (연동)</td>\n",
       "    </tr>\n",
       "    <tr>\n",
       "      <th>36</th>\n",
       "      <td>미연이네집</td>\n",
       "      <td>제주특별자치도 제주시 삼무로7길 34, 삼무주택 1층 (연동)</td>\n",
       "    </tr>\n",
       "    <tr>\n",
       "      <th>...</th>\n",
       "      <td>...</td>\n",
       "      <td>...</td>\n",
       "    </tr>\n",
       "    <tr>\n",
       "      <th>37621</th>\n",
       "      <td>영영상점연동38호상점</td>\n",
       "      <td>제주특별자치도 제주시 연오로 95, 101호 (연동, 연오빌라)</td>\n",
       "    </tr>\n",
       "    <tr>\n",
       "      <th>37642</th>\n",
       "      <td>귀아랑2길베이커리카페</td>\n",
       "      <td>제주특별자치도 제주시 귀아랑2길 8, 1층 (연동)</td>\n",
       "    </tr>\n",
       "    <tr>\n",
       "      <th>37653</th>\n",
       "      <td>메가엠지씨커피제주중앙중점</td>\n",
       "      <td>제주특별자치도 제주시 선덕로 17, 1층 102호 (연동, 연동세일빌라)</td>\n",
       "    </tr>\n",
       "    <tr>\n",
       "      <th>37657</th>\n",
       "      <td>세븐일레븐제주연동노연점</td>\n",
       "      <td>제주특별자치도 제주시 노연로 101, 영창빌딩 1층 (연동)</td>\n",
       "    </tr>\n",
       "    <tr>\n",
       "      <th>37664</th>\n",
       "      <td>카페노연로117</td>\n",
       "      <td>제주특별자치도 제주시 노연로 117, 연동빌딩 1층 (연동)</td>\n",
       "    </tr>\n",
       "  </tbody>\n",
       "</table>\n",
       "<p>1621 rows × 2 columns</p>\n",
       "</div>"
      ],
      "text/plain": [
       "                사업장명                                   도로명전체주소\n",
       "5              봉플라봉뱅       제주특별자치도 제주시 문송1길 6-1, 정인하우스 1층 (연동)\n",
       "8         스톤아일랜드탭하우스             제주특별자치도 제주시 삼무로7길 16, 1층 (연동)\n",
       "20             연화양꼬치     제주특별자치도 제주시 연동8길 28, 1층 105,106호 (연동)\n",
       "24        24시누름돌김치찌개              제주특별자치도 제주시 노연로 146, 1층 (연동)\n",
       "36             미연이네집        제주특별자치도 제주시 삼무로7길 34, 삼무주택 1층 (연동)\n",
       "...              ...                                       ...\n",
       "37621    영영상점연동38호상점       제주특별자치도 제주시 연오로 95, 101호 (연동, 연오빌라)\n",
       "37642    귀아랑2길베이커리카페              제주특별자치도 제주시 귀아랑2길 8, 1층 (연동)\n",
       "37653  메가엠지씨커피제주중앙중점  제주특별자치도 제주시 선덕로 17, 1층 102호 (연동, 연동세일빌라)\n",
       "37657   세븐일레븐제주연동노연점         제주특별자치도 제주시 노연로 101, 영창빌딩 1층 (연동)\n",
       "37664       카페노연로117         제주특별자치도 제주시 노연로 117, 연동빌딩 1층 (연동)\n",
       "\n",
       "[1621 rows x 2 columns]"
      ]
     },
     "execution_count": 41,
     "metadata": {},
     "output_type": "execute_result"
    }
   ],
   "source": [
    "data[data.도로명전체주소.str.contains('연동')]"
   ]
  },
  {
   "cell_type": "code",
   "execution_count": 43,
   "id": "fcc2cca3",
   "metadata": {},
   "outputs": [],
   "source": [
    "Data = data.query(f\"도로명전체주소.str.contains('연동')\").reset_index(drop=True)"
   ]
  },
  {
   "cell_type": "code",
   "execution_count": 44,
   "id": "7efec5b6",
   "metadata": {},
   "outputs": [],
   "source": [
    "Data.to_csv('제주도식당/제주시/연동/제주시_영업중인_도로명전체주소.csv' , index=False , encoding='euc-kr')"
   ]
  },
  {
   "cell_type": "code",
   "execution_count": null,
   "id": "e27da6d8",
   "metadata": {},
   "outputs": [],
   "source": []
  }
 ],
 "metadata": {
  "kernelspec": {
   "display_name": "Python 3 (ipykernel)",
   "language": "python",
   "name": "python3"
  },
  "language_info": {
   "codemirror_mode": {
    "name": "ipython",
    "version": 3
   },
   "file_extension": ".py",
   "mimetype": "text/x-python",
   "name": "python",
   "nbconvert_exporter": "python",
   "pygments_lexer": "ipython3",
   "version": "3.9.13"
  }
 },
 "nbformat": 4,
 "nbformat_minor": 5
}
