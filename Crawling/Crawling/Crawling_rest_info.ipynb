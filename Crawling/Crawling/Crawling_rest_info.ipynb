{
 "cells": [
  {
   "cell_type": "code",
   "execution_count": 2,
   "id": "dd05c442",
   "metadata": {},
   "outputs": [],
   "source": [
    "from selenium.webdriver.chrome.service import Service\n",
    "from webdriver_manager.chrome import ChromeDriverManager\n",
    "from selenium import webdriver\n",
    "from selenium.webdriver.chrome.options import Options\n",
    "import subprocess\n",
    "import shutil\n",
    "from selenium.webdriver.common.by import By\n",
    "import pandas as pd\n",
    "import time\n",
    "\n",
    "from selenium.webdriver.support.ui import WebDriverWait\n",
    "from selenium.webdriver.support import expected_conditions as EC\n",
    "\n",
    "# 셀레니움 신버전 크롬 드라이버 패키지\n",
    "\n",
    "from selenium.webdriver.chrome.service import Service\n",
    "from webdriver_manager.chrome import ChromeDriverManager\n",
    "\n",
    "from selenium.webdriver.common.keys import Keys\n",
    "# 진행률\n",
    "from tqdm.notebook import tqdm\n",
    "import re"
   ]
  },
  {
   "cell_type": "code",
   "execution_count": 3,
   "id": "ae12e69d",
   "metadata": {},
   "outputs": [
    {
     "name": "stderr",
     "output_type": "stream",
     "text": [
      "[WDM] - Downloading: 100%|████████████████████████████████████████████████████████| 6.81M/6.81M [00:00<00:00, 19.2MB/s]\n"
     ]
    },
    {
     "name": "stdout",
     "output_type": "stream",
     "text": [
      "현재 크롤링이 진행중인 검색어 : 삼성혈해물탕\n"
     ]
    }
   ],
   "source": [
    "def iframe_finder(iframe_id) :\n",
    "    wait = WebDriverWait(driver, 10)\n",
    "    driver.switch_to.default_content()\n",
    "    # self.iframe\n",
    "    iframe = wait.until(EC.presence_of_element_located((By.ID, iframe_id)))\n",
    "    driver.switch_to.frame(iframe)\n",
    "def is_action_successful(driver):\n",
    "    try:\n",
    "        wait = WebDriverWait(driver, 3)\n",
    "        wait.until(EC.visibility_of_element_located((By.CLASS_NAME, \"N_KDL\")))\n",
    "        return True\n",
    "    except:\n",
    "        return False\n",
    "# 1. 식당이름 입력\n",
    "# 2. iframe searchIframe 변경\n",
    "# 3. 페이지에 식당이 있는지 확인\n",
    "# 4. 내가 찾으려는 식당 주소와 검색해서 나온 식당 주소 비교 \n",
    "# 5. 찾았다면 클릭\n",
    "\n",
    "# Chrome headless 설정\n",
    "options = Options()\n",
    "# options.add_argument('--headless')\n",
    "\n",
    "# 드라이버 생성\n",
    "driver = webdriver.Chrome(service=Service(ChromeDriverManager().install()), options=options)\n",
    "\n",
    "# name = '연화양꼬치'\n",
    "# name = '맛깔참죽신제주점'\n",
    "# name = '커피마마제주연동점'\n",
    "name = '삼성혈해물탕'\n",
    "# name = '순창갈비'\n",
    "# name = '스톤아일랜드탭하우스'\n",
    "# name = '진낙지앤'\n",
    "# 리뷰 페이지 열기\n",
    "print(f'현재 크롤링이 진행중인 검색어 : {name}')\n",
    "\n",
    "url = f\"https://map.naver.com/v5/search/{name}\"\n",
    "\n",
    "driver.get(url)\n",
    "\n",
    "wait = WebDriverWait(driver, 10)\n",
    "\n",
    "iframe_finder('searchIframe')\n",
    "# iframe_finder('entryIframe')"
   ]
  },
  {
   "cell_type": "code",
   "execution_count": 6,
   "id": "78f9b7ff",
   "metadata": {},
   "outputs": [],
   "source": [
    "iframe_finder('entryIframe')\n",
    "dt = driver.find_elements(by = By.CLASS_NAME , value = 'zD5Nm.f7aZ0')"
   ]
  },
  {
   "cell_type": "code",
   "execution_count": 4,
   "id": "9a23d6f5",
   "metadata": {},
   "outputs": [],
   "source": [
    "iframe_finder('entryIframe')\n",
    "show_rest_info_click = driver.find_elements(by = By.CLASS_NAME , value ='rvCSr')"
   ]
  },
  {
   "cell_type": "code",
   "execution_count": 62,
   "id": "35605622",
   "metadata": {
    "collapsed": true
   },
   "outputs": [
    {
     "ename": "KeyError",
     "evalue": "'style'",
     "output_type": "error",
     "traceback": [
      "\u001b[1;31m---------------------------------------------------------------------------\u001b[0m",
      "\u001b[1;31mKeyError\u001b[0m                                  Traceback (most recent call last)",
      "Cell \u001b[1;32mIn[62], line 2\u001b[0m\n\u001b[0;32m      1\u001b[0m \u001b[38;5;66;03m# style 속성 값 가져오기\u001b[39;00m\n\u001b[1;32m----> 2\u001b[0m style \u001b[38;5;241m=\u001b[39m \u001b[43melement\u001b[49m\u001b[43m[\u001b[49m\u001b[38;5;124;43m'\u001b[39;49m\u001b[38;5;124;43mstyle\u001b[39;49m\u001b[38;5;124;43m'\u001b[39;49m\u001b[43m]\u001b[49m\n\u001b[0;32m      4\u001b[0m \u001b[38;5;66;03m# URL 추출\u001b[39;00m\n\u001b[0;32m      5\u001b[0m url \u001b[38;5;241m=\u001b[39m style\u001b[38;5;241m.\u001b[39msplit(\u001b[38;5;124m'\u001b[39m\u001b[38;5;124msrc=\u001b[39m\u001b[38;5;124m'\u001b[39m)[\u001b[38;5;241m1\u001b[39m]\u001b[38;5;241m.\u001b[39msplit(\u001b[38;5;124m'\u001b[39m\u001b[38;5;124m&quot;\u001b[39m\u001b[38;5;124m'\u001b[39m)[\u001b[38;5;241m1\u001b[39m]\n",
      "File \u001b[1;32m~\\anaconda3\\lib\\site-packages\\bs4\\element.py:1519\u001b[0m, in \u001b[0;36mTag.__getitem__\u001b[1;34m(self, key)\u001b[0m\n\u001b[0;32m   1516\u001b[0m \u001b[38;5;28;01mdef\u001b[39;00m \u001b[38;5;21m__getitem__\u001b[39m(\u001b[38;5;28mself\u001b[39m, key):\n\u001b[0;32m   1517\u001b[0m     \u001b[38;5;124;03m\"\"\"tag[key] returns the value of the 'key' attribute for the Tag,\u001b[39;00m\n\u001b[0;32m   1518\u001b[0m \u001b[38;5;124;03m    and throws an exception if it's not there.\"\"\"\u001b[39;00m\n\u001b[1;32m-> 1519\u001b[0m     \u001b[38;5;28;01mreturn\u001b[39;00m \u001b[38;5;28;43mself\u001b[39;49m\u001b[38;5;241;43m.\u001b[39;49m\u001b[43mattrs\u001b[49m\u001b[43m[\u001b[49m\u001b[43mkey\u001b[49m\u001b[43m]\u001b[49m\n",
      "\u001b[1;31mKeyError\u001b[0m: 'style'"
     ]
    }
   ],
   "source": [
    "# style 속성 값 가져오기\n",
    "style = element['style']\n",
    "\n",
    "# URL 추출\n",
    "url = style.split('src=')[1].split('&quot;')[1]\n",
    "\n",
    "print(url)"
   ]
  },
  {
   "cell_type": "code",
   "execution_count": 47,
   "id": "53e197ab",
   "metadata": {},
   "outputs": [],
   "source": [
    "rest_img = driver.find_elements(by = By.CLASS_NAME , value ='fNygA > a > div')"
   ]
  },
  {
   "cell_type": "code",
   "execution_count": 69,
   "id": "547152d8",
   "metadata": {
    "collapsed": true
   },
   "outputs": [
    {
     "data": {
      "text/plain": [
       "[<selenium.webdriver.remote.webelement.WebElement (session=\"4c74f5d9d223613fb523a0a507f19f95\", element=\"A6E0CB258631C5BFA864426FC385B883_element_99\")>,\n",
       " <selenium.webdriver.remote.webelement.WebElement (session=\"4c74f5d9d223613fb523a0a507f19f95\", element=\"A6E0CB258631C5BFA864426FC385B883_element_98\")>,\n",
       " <selenium.webdriver.remote.webelement.WebElement (session=\"4c74f5d9d223613fb523a0a507f19f95\", element=\"A6E0CB258631C5BFA864426FC385B883_element_100\")>,\n",
       " <selenium.webdriver.remote.webelement.WebElement (session=\"4c74f5d9d223613fb523a0a507f19f95\", element=\"A6E0CB258631C5BFA864426FC385B883_element_101\")>,\n",
       " <selenium.webdriver.remote.webelement.WebElement (session=\"4c74f5d9d223613fb523a0a507f19f95\", element=\"A6E0CB258631C5BFA864426FC385B883_element_102\")>]"
      ]
     },
     "execution_count": 69,
     "metadata": {},
     "output_type": "execute_result"
    }
   ],
   "source": [
    "rest_img"
   ]
  },
  {
   "cell_type": "code",
   "execution_count": 72,
   "id": "d44dcdc1",
   "metadata": {},
   "outputs": [],
   "source": [
    " url_test_data = rest_img[0].get_attribute('style')"
   ]
  },
  {
   "cell_type": "code",
   "execution_count": 102,
   "id": "7cf16de6",
   "metadata": {},
   "outputs": [],
   "source": [
    "# 이미지 url 가져오기\n",
    "\n",
    "rest_img = driver.find_elements(by = By.CLASS_NAME , value ='fNygA > a > div')\n",
    "rest_img_urls = []\n",
    "for stylejs in rest_img :\n",
    "    \n",
    "    url_test_data = stylejs.get_attribute('style')\n",
    "    url_find_num = url_test_data.find('url(\"')\n",
    "    if 'jpg' in url_test_data :\n",
    "        url_find_num_end = url_test_data.find('jpg')\n",
    "    else :\n",
    "        url_find_num_end = url_test_data.find('.\")')\n",
    "    rest_img_url = url_test_data[url_find_num + 5 : url_find_num_end+3]\n",
    "    if rest_img_url != '' :\n",
    "        rest_img_urls.append(rest_img_url)"
   ]
  },
  {
   "cell_type": "code",
   "execution_count": 103,
   "id": "7c78f012",
   "metadata": {},
   "outputs": [
    {
     "data": {
      "text/plain": [
       "['https://search.pstatic.net/common/?autoRotate=true&type=w560_sharpen&src=https%3A%2F%2Fldb-phinf.pstatic.net%2F20230325_247%2F1679719459070BBX5q_JPEG%2F20230324_184832.jpg',\n",
       " 'https://search.pstatic.net/common/?autoRotate=true&type=w278_sharpen&src=https%3A%2F%2Fldb-phinf.pstatic.net%2F20221031_49%2F16671891933914YOfP_JPEG%2F20221031_125312%25C1%25A4%25B8%25E9%25BB%25E7%25C1%25F8.jpg',\n",
       " 'https://search.pstatic.net/common/?autoRotate=true&type=w278_sharpen&src=http%3A%2F%2Fblogfiles.naver.net%2FMjAyMzAzMTFfMTMz%2FMDAxNjc4NDY1MzkwMDA3.Lx3CirkXABoAaror2DUcqfGPyZZ-N8aS7r_VPSZN2MMg.bkWcsj4fZDFVt-YYJ8GXqp0BGMCuo2C5AAQp6IA2vVIg.JPEG.gogo89_%2FDSC00194.\")',\n",
       " 'https://search.pstatic.net/common/?autoRotate=true&type=w278_sharpen&src=http%3A%2F%2Fblogfiles.naver.net%2FMjAyMzAzMDRfMTky%2FMDAxNjc3OTA2NzM2OTA0.9bWEuxBQ_dAzCONyIABmrzng0sdgJsVFD4NTY8kCZvsg.5ST6SvAjBwC_bHRoSXsTKu9ISXHMUtOwzjo7LnLTZ_kg.JPEG.lamatem%2F10.\")',\n",
       " 'https://search.pstatic.net/common/?autoRotate=true&type=w278_sharpen&src=http%3A%2F%2Fblogfiles.naver.net%2FMjAyMzA0MzBfMjg4%2FMDAxNjgyODU4MTU0MzY4.tw7V9NFBOG7F-14U0nJ9yE1yLFizT4RXpv6QFxKZXbwg.WKUAdOJRja5ULFc6KeDGui1XXursCtyVIVhxs2I1VgQg.JPEG.loverenk%2FP20230424_115124760_6BB0CB50-DB07-4817-88F4-6AB0722DAC6D.\")']"
      ]
     },
     "execution_count": 103,
     "metadata": {},
     "output_type": "execute_result"
    }
   ],
   "source": [
    "rest_img_urls"
   ]
  },
  {
   "cell_type": "code",
   "execution_count": 113,
   "id": "ccc97045",
   "metadata": {},
   "outputs": [],
   "source": [
    "# class rest_info () :\n",
    "#     def __init__(self , rest_id) :\n",
    "#         self.rest_id = rest_id\n",
    "#         self.result_df = None\n",
    "        \n",
    "    "
   ]
  },
  {
   "cell_type": "markdown",
   "id": "27e938b0",
   "metadata": {},
   "source": [
    "# 네이버 식당 정보 크롤링"
   ]
  },
  {
   "cell_type": "code",
   "execution_count": 153,
   "id": "f2ea1c61",
   "metadata": {},
   "outputs": [],
   "source": [
    "def rest_info(rest_name , rest_id) :    \n",
    "    \n",
    "    name = rest_name\n",
    "    id_num = rest_id\n",
    "    \n",
    "    # Chrome headless 설정\n",
    "    options = Options()\n",
    "    # options.add_argument('--headless')\n",
    "\n",
    "    # 드라이버 생성\n",
    "    driver = webdriver.Chrome(service=Service(ChromeDriverManager().install()), options=options)\n",
    "\n",
    "    # name = '고기다 성산흑돼지'\n",
    "    # 리뷰 페이지 열기\n",
    "    print(f'현재 크롤링이 진행중인 검색어 : {name}')\n",
    "\n",
    "    url = f\"https://map.naver.com/v5/search/{name}/place/{id_num}\"\n",
    "\n",
    "    driver.get(url)\n",
    "    wait = WebDriverWait(driver, 5)\n",
    "    iframe = wait.until(EC.presence_of_element_located((By.ID, \"entryIframe\")))\n",
    "    driver.switch_to.frame(iframe)\n",
    "    \n",
    "    #iframe_finder('entryIframe')\n",
    "\n",
    "    try :\n",
    "        wait.until(EC.presence_of_element_located((By.CLASS_NAME, \"rvCSr\")))\n",
    "        time.sleep(0.2)\n",
    "        show_rest_info_click = driver.find_elements(by = By.CLASS_NAME , value ='rvCSr')\n",
    "        if show_rest_info_click is not None :\n",
    "            for click in show_rest_info_click :\n",
    "                click.click()\n",
    "                scarp_rest_info = driver.find_elements(by = By.CLASS_NAME , value = 'PIbes > div')\n",
    "    except :\n",
    "        print('펼칠 내용이 없습니다.')\n",
    "        pass\n",
    "\n",
    "    # result = re.sub(pattern, \"\", text_2)\n",
    "    n = 0\n",
    "    # lst = []\n",
    "    df = pd.DataFrame(columns = ['주소' , '찾아가는길', '영업시간' , '편의' , '설명' ,'전화번호' , '기타' , '이미지url'])\n",
    "\n",
    "    # 이미지 url 가져오기\n",
    "    try :\n",
    "        print('이미지 url 가져오는중')\n",
    "        wait.until(EC.presence_of_element_located((By.CLASS_NAME, \"fNygA\")))\n",
    "        time.sleep(0.3)\n",
    "\n",
    "        pattern1 = r'(접기|오늘 휴무|펼쳐보기|복사|내용 더보기|영업 중|안내\\n복사)'\n",
    "        pattern2 = r'\\n(2,)'\n",
    "        pattern3 = r'\\n\\n'\n",
    "\n",
    "        rest_img = driver.find_elements(by = By.CLASS_NAME , value ='fNygA > a > div')\n",
    "        rest_img_urls = []\n",
    "        for stylejs in rest_img :\n",
    "\n",
    "            url_test_data = stylejs.get_attribute('style')\n",
    "            url_find_num = url_test_data.find('url(\"')\n",
    "            if 'jpg' in url_test_data :\n",
    "                url_find_num_end = url_test_data.find('jpg')\n",
    "            else :\n",
    "                url_find_num_end = url_test_data.find('.\")')\n",
    "            rest_img_url = url_test_data[url_find_num + 5 : url_find_num_end+3]\n",
    "            if rest_img_url != '' :\n",
    "                rest_img_urls.append(rest_img_url)\n",
    "        df['이미지url'] = [rest_img_urls]\n",
    "    except : \n",
    "        print('No restaurant image')\n",
    "        pass\n",
    "    print('이미지 url 가져오기 종료')\n",
    "    try :\n",
    "        print('식당 정보를 가져오는 중입니다.')\n",
    "        wait.until(EC.presence_of_element_located((By.CLASS_NAME, \"PIbes\")))\n",
    "        time.sleep(0.2)\n",
    "        review_information = driver.find_elements(by = By.CLASS_NAME , value = 'PIbes > div')\n",
    "        # 식당 정보 가져오기\n",
    "        for t in review_information :\n",
    "            # print(t.text)\n",
    "            # print(n)\n",
    "            # 정규표현식으로 데이터 정리\n",
    "            text = re.sub(pattern1, \"\", t.text)\n",
    "            text = re.sub(pattern2, \"\", text)\n",
    "            text = re.sub(pattern3, \"\\n\", text)\n",
    "            text = text.rstrip('\\n')\n",
    "            # print(text)\n",
    "            # print()\n",
    "            n += 1\n",
    "            if '주소' in text :\n",
    "                text = re.sub('주소\\n', \"\", text)\n",
    "                df['주소'] = [text]\n",
    "            elif '찾아가는길' in text :\n",
    "                text = re.sub('찾아가는길\\n', \"\", text)\n",
    "                df['찾아가는길'] = [text]\n",
    "            elif '영업시간' in text :\n",
    "                text = re.sub('영업시간\\n', \"\", text)\n",
    "                df['영업시간'] = [text]\n",
    "            elif '064' in text :\n",
    "                text = re.sub('전화번호\\n', \"\", text)\n",
    "                df['전화번호'] = [text]\n",
    "            elif '050' in text :\n",
    "                text = re.sub('전화번호\\n', \"\", text)\n",
    "                df['전화번호'] = [text]\n",
    "            elif '편의' in text :\n",
    "                text = re.sub('편의\\n', \"\", text)\n",
    "                df['편의'] = [text]\n",
    "            elif '설명' in text :\n",
    "                text = re.sub('설명\\n', \"\", text)\n",
    "                df['설명'] = [text]\n",
    "            else :\n",
    "                df['기타'] = [text]\n",
    "            # lst.append(text)\n",
    "    except :\n",
    "        print('식당 정보를 가져오지 못했습니다.')\n",
    "        pass\n",
    "    print('식당 정보 가져오기 종료')\n",
    "    driver.quit()\n",
    "    print('크롤링 종료')\n",
    "    print()\n",
    "    return df"
   ]
  },
  {
   "cell_type": "code",
   "execution_count": 117,
   "id": "9ba38f63",
   "metadata": {},
   "outputs": [],
   "source": [
    "연동_data_df=pd.read_csv('제주도식당/제주시/연동/id/연동_id_name.csv' , encoding= 'euc-kr')\n",
    "# 연동_data_df.drop(연동_data_df.columns[0] , axis = 1 , inplace = True)"
   ]
  },
  {
   "cell_type": "code",
   "execution_count": 120,
   "id": "26ea2c0c",
   "metadata": {},
   "outputs": [],
   "source": [
    "test_df = 연동_data_df[:5]"
   ]
  },
  {
   "cell_type": "code",
   "execution_count": 123,
   "id": "358d4e72",
   "metadata": {},
   "outputs": [
    {
     "data": {
      "text/html": [
       "<div>\n",
       "<style scoped>\n",
       "    .dataframe tbody tr th:only-of-type {\n",
       "        vertical-align: middle;\n",
       "    }\n",
       "\n",
       "    .dataframe tbody tr th {\n",
       "        vertical-align: top;\n",
       "    }\n",
       "\n",
       "    .dataframe thead th {\n",
       "        text-align: right;\n",
       "    }\n",
       "</style>\n",
       "<table border=\"1\" class=\"dataframe\">\n",
       "  <thead>\n",
       "    <tr style=\"text-align: right;\">\n",
       "      <th></th>\n",
       "      <th>사업장명</th>\n",
       "      <th>id</th>\n",
       "    </tr>\n",
       "  </thead>\n",
       "  <tbody>\n",
       "    <tr>\n",
       "      <th>0</th>\n",
       "      <td>봉플라봉뱅</td>\n",
       "      <td>1713847517</td>\n",
       "    </tr>\n",
       "    <tr>\n",
       "      <th>1</th>\n",
       "      <td>스톤아일랜드탭하우스</td>\n",
       "      <td>1244422132</td>\n",
       "    </tr>\n",
       "    <tr>\n",
       "      <th>2</th>\n",
       "      <td>연화양꼬치</td>\n",
       "      <td>1482063535</td>\n",
       "    </tr>\n",
       "    <tr>\n",
       "      <th>3</th>\n",
       "      <td>24시누름돌김치찌개</td>\n",
       "      <td>1028483996</td>\n",
       "    </tr>\n",
       "    <tr>\n",
       "      <th>4</th>\n",
       "      <td>영화루</td>\n",
       "      <td>1109507832</td>\n",
       "    </tr>\n",
       "  </tbody>\n",
       "</table>\n",
       "</div>"
      ],
      "text/plain": [
       "         사업장명          id\n",
       "0       봉플라봉뱅  1713847517\n",
       "1  스톤아일랜드탭하우스  1244422132\n",
       "2       연화양꼬치  1482063535\n",
       "3  24시누름돌김치찌개  1028483996\n",
       "4         영화루  1109507832"
      ]
     },
     "execution_count": 123,
     "metadata": {},
     "output_type": "execute_result"
    }
   ],
   "source": [
    "test_df"
   ]
  },
  {
   "cell_type": "code",
   "execution_count": 125,
   "id": "de9b6ccc",
   "metadata": {},
   "outputs": [
    {
     "data": {
      "text/plain": [
       "['봉플라봉뱅', '스톤아일랜드탭하우스', '연화양꼬치', '24시누름돌김치찌개', '영화루']"
      ]
     },
     "execution_count": 125,
     "metadata": {},
     "output_type": "execute_result"
    }
   ],
   "source": [
    "test_df.사업장명.tolist()"
   ]
  },
  {
   "cell_type": "code",
   "execution_count": 126,
   "id": "64a2e103",
   "metadata": {},
   "outputs": [
    {
     "data": {
      "text/plain": [
       "[1713847517, 1244422132, 1482063535, 1028483996, 1109507832]"
      ]
     },
     "execution_count": 126,
     "metadata": {},
     "output_type": "execute_result"
    }
   ],
   "source": [
    "test_df.id.tolist()"
   ]
  },
  {
   "cell_type": "code",
   "execution_count": 154,
   "id": "2eecef1a",
   "metadata": {
    "collapsed": true
   },
   "outputs": [
    {
     "name": "stdout",
     "output_type": "stream",
     "text": [
      "1\n",
      "현재 크롤링이 진행중인 검색어 : 봉플라봉뱅\n",
      "이미지 url 가져오는중\n",
      "이미지 url 가져오기 종료\n",
      "식당 정보를 가져오는 중입니다.\n",
      "식당 정보 가져오기 종료\n",
      "크롤링 종료\n",
      "\n",
      "2\n",
      "현재 크롤링이 진행중인 검색어 : 스톤아일랜드탭하우스\n",
      "이미지 url 가져오는중\n",
      "이미지 url 가져오기 종료\n",
      "식당 정보를 가져오는 중입니다.\n",
      "식당 정보 가져오기 종료\n",
      "크롤링 종료\n",
      "\n",
      "3\n",
      "현재 크롤링이 진행중인 검색어 : 연화양꼬치\n",
      "펼칠 내용이 없습니다.\n",
      "이미지 url 가져오는중\n",
      "이미지 url 가져오기 종료\n",
      "식당 정보를 가져오는 중입니다.\n",
      "식당 정보 가져오기 종료\n",
      "크롤링 종료\n",
      "\n",
      "4\n",
      "현재 크롤링이 진행중인 검색어 : 24시누름돌김치찌개\n",
      "펼칠 내용이 없습니다.\n",
      "이미지 url 가져오는중\n",
      "이미지 url 가져오기 종료\n",
      "식당 정보를 가져오는 중입니다.\n",
      "식당 정보 가져오기 종료\n",
      "크롤링 종료\n",
      "\n",
      "5\n",
      "현재 크롤링이 진행중인 검색어 : 영화루\n",
      "펼칠 내용이 없습니다.\n",
      "이미지 url 가져오는중\n",
      "이미지 url 가져오기 종료\n",
      "식당 정보를 가져오는 중입니다.\n",
      "식당 정보 가져오기 종료\n",
      "크롤링 종료\n",
      "\n"
     ]
    }
   ],
   "source": [
    "test_lst = []\n",
    "count = 1\n",
    "for name , rest_id in zip(test_df.사업장명.tolist() , test_df.id.tolist()) :\n",
    "    print(count)\n",
    "    test_lst.append(rest_info(name , rest_id))\n",
    "    count += 1"
   ]
  },
  {
   "cell_type": "code",
   "execution_count": 156,
   "id": "b1bf204f",
   "metadata": {},
   "outputs": [
    {
     "data": {
      "text/html": [
       "<div>\n",
       "<style scoped>\n",
       "    .dataframe tbody tr th:only-of-type {\n",
       "        vertical-align: middle;\n",
       "    }\n",
       "\n",
       "    .dataframe tbody tr th {\n",
       "        vertical-align: top;\n",
       "    }\n",
       "\n",
       "    .dataframe thead th {\n",
       "        text-align: right;\n",
       "    }\n",
       "</style>\n",
       "<table border=\"1\" class=\"dataframe\">\n",
       "  <thead>\n",
       "    <tr style=\"text-align: right;\">\n",
       "      <th></th>\n",
       "      <th>주소</th>\n",
       "      <th>찾아가는길</th>\n",
       "      <th>영업시간</th>\n",
       "      <th>편의</th>\n",
       "      <th>설명</th>\n",
       "      <th>전화번호</th>\n",
       "      <th>기타</th>\n",
       "      <th>이미지url</th>\n",
       "    </tr>\n",
       "  </thead>\n",
       "  <tbody>\n",
       "    <tr>\n",
       "      <th>0</th>\n",
       "      <td>제주 제주시 문송1길 6-1 1층 봉플라봉뱅</td>\n",
       "      <td>제주도청 주차장 뒷골목</td>\n",
       "      <td>22:00에 라스트오더\\n22시 0분에 라스트오더</td>\n",
       "      <td>단체석, 주차, 예약, 무선 인터넷</td>\n",
       "      <td>Lunch 12:00 ~ 14:30 (목, 금, 토)\\nDinner 17:30 ~ ...</td>\n",
       "      <td>0507-1408-0417</td>\n",
       "      <td>정보 수정 제안\\n정보 수정 제안하기</td>\n",
       "      <td>[https://search.pstatic.net/common/?autoRotate...</td>\n",
       "    </tr>\n",
       "  </tbody>\n",
       "</table>\n",
       "</div>"
      ],
      "text/plain": [
       "                         주소         찾아가는길                         영업시간  \\\n",
       "0  제주 제주시 문송1길 6-1 1층 봉플라봉뱅  제주도청 주차장 뒷골목  22:00에 라스트오더\\n22시 0분에 라스트오더   \n",
       "\n",
       "                    편의                                                 설명  \\\n",
       "0  단체석, 주차, 예약, 무선 인터넷  Lunch 12:00 ~ 14:30 (목, 금, 토)\\nDinner 17:30 ~ ...   \n",
       "\n",
       "             전화번호                    기타  \\\n",
       "0  0507-1408-0417  정보 수정 제안\\n정보 수정 제안하기   \n",
       "\n",
       "                                              이미지url  \n",
       "0  [https://search.pstatic.net/common/?autoRotate...  "
      ]
     },
     "execution_count": 156,
     "metadata": {},
     "output_type": "execute_result"
    }
   ],
   "source": [
    "test_lst[0]"
   ]
  },
  {
   "cell_type": "code",
   "execution_count": 157,
   "id": "9c5873ea",
   "metadata": {},
   "outputs": [
    {
     "data": {
      "text/html": [
       "<div>\n",
       "<style scoped>\n",
       "    .dataframe tbody tr th:only-of-type {\n",
       "        vertical-align: middle;\n",
       "    }\n",
       "\n",
       "    .dataframe tbody tr th {\n",
       "        vertical-align: top;\n",
       "    }\n",
       "\n",
       "    .dataframe thead th {\n",
       "        text-align: right;\n",
       "    }\n",
       "</style>\n",
       "<table border=\"1\" class=\"dataframe\">\n",
       "  <thead>\n",
       "    <tr style=\"text-align: right;\">\n",
       "      <th></th>\n",
       "      <th>주소</th>\n",
       "      <th>찾아가는길</th>\n",
       "      <th>영업시간</th>\n",
       "      <th>편의</th>\n",
       "      <th>설명</th>\n",
       "      <th>전화번호</th>\n",
       "      <th>기타</th>\n",
       "      <th>이미지url</th>\n",
       "    </tr>\n",
       "  </thead>\n",
       "  <tbody>\n",
       "    <tr>\n",
       "      <th>0</th>\n",
       "      <td>제주 제주시 삼무로7길 16 1층 스톤아일랜드탭하우스</td>\n",
       "      <td>NaN</td>\n",
       "      <td>23:00에 라스트오더\\n23시 0분에 라스트오더</td>\n",
       "      <td>단체석, 주차, 포장, 예약, 무선 인터넷, 남/녀 화장실 구분</td>\n",
       "      <td>저희 스톤아일랜드탭하우스는 제주최초로 셀프시스템을 도입한 스마트펍으로 20가지 수제...</td>\n",
       "      <td>0507-1410-9009</td>\n",
       "      <td>홈페이지\\nhttp://instagram.com/stoneisland_taphouse</td>\n",
       "      <td>[https://search.pstatic.net/common/?autoRotate...</td>\n",
       "    </tr>\n",
       "  </tbody>\n",
       "</table>\n",
       "</div>"
      ],
      "text/plain": [
       "                              주소 찾아가는길                         영업시간  \\\n",
       "0  제주 제주시 삼무로7길 16 1층 스톤아일랜드탭하우스   NaN  23:00에 라스트오더\\n23시 0분에 라스트오더   \n",
       "\n",
       "                                    편의  \\\n",
       "0  단체석, 주차, 포장, 예약, 무선 인터넷, 남/녀 화장실 구분   \n",
       "\n",
       "                                                  설명            전화번호  \\\n",
       "0  저희 스톤아일랜드탭하우스는 제주최초로 셀프시스템을 도입한 스마트펍으로 20가지 수제...  0507-1410-9009   \n",
       "\n",
       "                                                기타  \\\n",
       "0  홈페이지\\nhttp://instagram.com/stoneisland_taphouse   \n",
       "\n",
       "                                              이미지url  \n",
       "0  [https://search.pstatic.net/common/?autoRotate...  "
      ]
     },
     "execution_count": 157,
     "metadata": {},
     "output_type": "execute_result"
    }
   ],
   "source": [
    "test_lst[1]"
   ]
  },
  {
   "cell_type": "code",
   "execution_count": 158,
   "id": "8ca37c61",
   "metadata": {},
   "outputs": [
    {
     "data": {
      "text/html": [
       "<div>\n",
       "<style scoped>\n",
       "    .dataframe tbody tr th:only-of-type {\n",
       "        vertical-align: middle;\n",
       "    }\n",
       "\n",
       "    .dataframe tbody tr th {\n",
       "        vertical-align: top;\n",
       "    }\n",
       "\n",
       "    .dataframe thead th {\n",
       "        text-align: right;\n",
       "    }\n",
       "</style>\n",
       "<table border=\"1\" class=\"dataframe\">\n",
       "  <thead>\n",
       "    <tr style=\"text-align: right;\">\n",
       "      <th></th>\n",
       "      <th>주소</th>\n",
       "      <th>찾아가는길</th>\n",
       "      <th>영업시간</th>\n",
       "      <th>편의</th>\n",
       "      <th>설명</th>\n",
       "      <th>전화번호</th>\n",
       "      <th>기타</th>\n",
       "      <th>이미지url</th>\n",
       "    </tr>\n",
       "  </thead>\n",
       "  <tbody>\n",
       "    <tr>\n",
       "      <th>0</th>\n",
       "      <td>제주 제주시 연동8길 28</td>\n",
       "      <td>NaN</td>\n",
       "      <td>영업시간 정보 수정\\n이용시간을 알려주세요.\\n추가</td>\n",
       "      <td>NaN</td>\n",
       "      <td>1년미만 부드러운 양고기를 준비하고 있습니다</td>\n",
       "      <td>064-749-1001</td>\n",
       "      <td>NaN</td>\n",
       "      <td>[https://search.pstatic.net/common/?autoRotate...</td>\n",
       "    </tr>\n",
       "  </tbody>\n",
       "</table>\n",
       "</div>"
      ],
      "text/plain": [
       "               주소 찾아가는길                          영업시간   편의  \\\n",
       "0  제주 제주시 연동8길 28   NaN  영업시간 정보 수정\\n이용시간을 알려주세요.\\n추가  NaN   \n",
       "\n",
       "                         설명          전화번호   기타  \\\n",
       "0  1년미만 부드러운 양고기를 준비하고 있습니다  064-749-1001  NaN   \n",
       "\n",
       "                                              이미지url  \n",
       "0  [https://search.pstatic.net/common/?autoRotate...  "
      ]
     },
     "execution_count": 158,
     "metadata": {},
     "output_type": "execute_result"
    }
   ],
   "source": [
    "test_lst[2]"
   ]
  },
  {
   "cell_type": "code",
   "execution_count": 159,
   "id": "699781ad",
   "metadata": {},
   "outputs": [
    {
     "data": {
      "text/html": [
       "<div>\n",
       "<style scoped>\n",
       "    .dataframe tbody tr th:only-of-type {\n",
       "        vertical-align: middle;\n",
       "    }\n",
       "\n",
       "    .dataframe tbody tr th {\n",
       "        vertical-align: top;\n",
       "    }\n",
       "\n",
       "    .dataframe thead th {\n",
       "        text-align: right;\n",
       "    }\n",
       "</style>\n",
       "<table border=\"1\" class=\"dataframe\">\n",
       "  <thead>\n",
       "    <tr style=\"text-align: right;\">\n",
       "      <th></th>\n",
       "      <th>주소</th>\n",
       "      <th>찾아가는길</th>\n",
       "      <th>영업시간</th>\n",
       "      <th>편의</th>\n",
       "      <th>설명</th>\n",
       "      <th>전화번호</th>\n",
       "      <th>기타</th>\n",
       "      <th>이미지url</th>\n",
       "    </tr>\n",
       "  </thead>\n",
       "  <tbody>\n",
       "    <tr>\n",
       "      <th>0</th>\n",
       "      <td>제주 제주시 노연로 146</td>\n",
       "      <td>NaN</td>\n",
       "      <td>24:00에 영업 종료\\n0시 0분에 영업 종료</td>\n",
       "      <td>NaN</td>\n",
       "      <td>NaN</td>\n",
       "      <td>064-742-7076</td>\n",
       "      <td>수상 및 인증\\n농림축산식품부 제공\\n안심식당\\n안심식당은 '덜어먹기 가능한 도구 ...</td>\n",
       "      <td>[https://search.pstatic.net/common/?autoRotate...</td>\n",
       "    </tr>\n",
       "  </tbody>\n",
       "</table>\n",
       "</div>"
      ],
      "text/plain": [
       "               주소 찾아가는길                        영업시간   편의   설명          전화번호  \\\n",
       "0  제주 제주시 노연로 146   NaN  24:00에 영업 종료\\n0시 0분에 영업 종료  NaN  NaN  064-742-7076   \n",
       "\n",
       "                                                  기타  \\\n",
       "0  수상 및 인증\\n농림축산식품부 제공\\n안심식당\\n안심식당은 '덜어먹기 가능한 도구 ...   \n",
       "\n",
       "                                              이미지url  \n",
       "0  [https://search.pstatic.net/common/?autoRotate...  "
      ]
     },
     "execution_count": 159,
     "metadata": {},
     "output_type": "execute_result"
    }
   ],
   "source": [
    "test_lst[3]"
   ]
  },
  {
   "cell_type": "code",
   "execution_count": 160,
   "id": "8f535239",
   "metadata": {},
   "outputs": [
    {
     "data": {
      "text/html": [
       "<div>\n",
       "<style scoped>\n",
       "    .dataframe tbody tr th:only-of-type {\n",
       "        vertical-align: middle;\n",
       "    }\n",
       "\n",
       "    .dataframe tbody tr th {\n",
       "        vertical-align: top;\n",
       "    }\n",
       "\n",
       "    .dataframe thead th {\n",
       "        text-align: right;\n",
       "    }\n",
       "</style>\n",
       "<table border=\"1\" class=\"dataframe\">\n",
       "  <thead>\n",
       "    <tr style=\"text-align: right;\">\n",
       "      <th></th>\n",
       "      <th>주소</th>\n",
       "      <th>찾아가는길</th>\n",
       "      <th>영업시간</th>\n",
       "      <th>편의</th>\n",
       "      <th>설명</th>\n",
       "      <th>전화번호</th>\n",
       "      <th>기타</th>\n",
       "      <th>이미지url</th>\n",
       "    </tr>\n",
       "  </thead>\n",
       "  <tbody>\n",
       "    <tr>\n",
       "      <th>0</th>\n",
       "      <td>제주 제주시 사장길 15-1</td>\n",
       "      <td>NaN</td>\n",
       "      <td>21:00에 영업 종료\\n21시 0분에 영업 종료</td>\n",
       "      <td>NaN</td>\n",
       "      <td>NaN</td>\n",
       "      <td>064-742-8285</td>\n",
       "      <td>NaN</td>\n",
       "      <td>[https://search.pstatic.net/common/?autoRotate...</td>\n",
       "    </tr>\n",
       "  </tbody>\n",
       "</table>\n",
       "</div>"
      ],
      "text/plain": [
       "                주소 찾아가는길                         영업시간   편의   설명          전화번호  \\\n",
       "0  제주 제주시 사장길 15-1   NaN  21:00에 영업 종료\\n21시 0분에 영업 종료  NaN  NaN  064-742-8285   \n",
       "\n",
       "    기타                                             이미지url  \n",
       "0  NaN  [https://search.pstatic.net/common/?autoRotate...  "
      ]
     },
     "execution_count": 160,
     "metadata": {},
     "output_type": "execute_result"
    }
   ],
   "source": [
    "test_lst[4]"
   ]
  },
  {
   "cell_type": "code",
   "execution_count": 155,
   "id": "d7236cd2",
   "metadata": {},
   "outputs": [
    {
     "data": {
      "text/html": [
       "<div>\n",
       "<style scoped>\n",
       "    .dataframe tbody tr th:only-of-type {\n",
       "        vertical-align: middle;\n",
       "    }\n",
       "\n",
       "    .dataframe tbody tr th {\n",
       "        vertical-align: top;\n",
       "    }\n",
       "\n",
       "    .dataframe thead th {\n",
       "        text-align: right;\n",
       "    }\n",
       "</style>\n",
       "<table border=\"1\" class=\"dataframe\">\n",
       "  <thead>\n",
       "    <tr style=\"text-align: right;\">\n",
       "      <th></th>\n",
       "      <th>주소</th>\n",
       "      <th>찾아가는길</th>\n",
       "      <th>영업시간</th>\n",
       "      <th>편의</th>\n",
       "      <th>설명</th>\n",
       "      <th>전화번호</th>\n",
       "      <th>기타</th>\n",
       "      <th>이미지url</th>\n",
       "    </tr>\n",
       "  </thead>\n",
       "  <tbody>\n",
       "    <tr>\n",
       "      <th>0</th>\n",
       "      <td>제주 제주시 연동8길 28</td>\n",
       "      <td>NaN</td>\n",
       "      <td>영업시간 정보 수정\\n이용시간을 알려주세요.\\n추가</td>\n",
       "      <td>NaN</td>\n",
       "      <td>1년미만 부드러운 양고기를 준비하고 있습니다</td>\n",
       "      <td>064-749-1001</td>\n",
       "      <td>NaN</td>\n",
       "      <td>[https://search.pstatic.net/common/?autoRotate...</td>\n",
       "    </tr>\n",
       "  </tbody>\n",
       "</table>\n",
       "</div>"
      ],
      "text/plain": [
       "               주소 찾아가는길                          영업시간   편의  \\\n",
       "0  제주 제주시 연동8길 28   NaN  영업시간 정보 수정\\n이용시간을 알려주세요.\\n추가  NaN   \n",
       "\n",
       "                         설명          전화번호   기타  \\\n",
       "0  1년미만 부드러운 양고기를 준비하고 있습니다  064-749-1001  NaN   \n",
       "\n",
       "                                              이미지url  \n",
       "0  [https://search.pstatic.net/common/?autoRotate...  "
      ]
     },
     "execution_count": 155,
     "metadata": {},
     "output_type": "execute_result"
    }
   ],
   "source": []
  },
  {
   "cell_type": "markdown",
   "id": "5d26ab60",
   "metadata": {},
   "source": [
    "# 내부 코드"
   ]
  },
  {
   "cell_type": "code",
   "execution_count": 110,
   "id": "05e37fdc",
   "metadata": {},
   "outputs": [],
   "source": [
    "#iframe_finder('entryIframe')\n",
    "\n",
    "try :\n",
    "    show_rest_info_click = driver.find_elements(by = By.CLASS_NAME , value ='rvCSr')\n",
    "    if show_rest_info_click is not None :\n",
    "        for click in show_rest_info_click :\n",
    "            click.click()\n",
    "            scarp_rest_info = driver.find_elements(by = By.CLASS_NAME , value = 'PIbes > div')\n",
    "except :\n",
    "    print('펼칠 내용이 없습니다.')\n",
    "    pass\n",
    "\n",
    "# result = re.sub(pattern, \"\", text_2)\n",
    "n = 0\n",
    "# lst = []\n",
    "df = pd.DataFrame(columns = ['주소' , '찾아가는길', '영업시간' , '편의' , '설명' ,'전화번호' , '기타' , '이미지url'])\n",
    "        \n",
    "# 이미지 url 가져오기\n",
    "\n",
    "\n",
    "try :\n",
    "\n",
    "    pattern1 = r'(접기|오늘 휴무|펼쳐보기|복사|내용 더보기|영업 중|안내\\n복사)'\n",
    "    pattern2 = r'\\n(2,)'\n",
    "    pattern3 = r'\\n\\n'\n",
    "\n",
    "    rest_img = driver.find_elements(by = By.CLASS_NAME , value ='fNygA > a > div')\n",
    "    rest_img_urls = []\n",
    "    for stylejs in rest_img :\n",
    "\n",
    "        url_test_data = stylejs.get_attribute('style')\n",
    "        url_find_num = url_test_data.find('url(\"')\n",
    "        if 'jpg' in url_test_data :\n",
    "            url_find_num_end = url_test_data.find('jpg')\n",
    "        else :\n",
    "            url_find_num_end = url_test_data.find('.\")')\n",
    "        rest_img_url = url_test_data[url_find_num + 5 : url_find_num_end+3]\n",
    "        rest_img_urls.append(rest_img_url)\n",
    "    df['이미지url'] = [rest_img_urls]\n",
    "\n",
    "    review_information = driver.find_elements(by = By.CLASS_NAME , value = 'PIbes > div')\n",
    "except : \n",
    "    print('No restaurant image')\n",
    "    pass\n",
    "\n",
    "try :\n",
    "    # 식당 정보 가져오기\n",
    "    for t in review_information :\n",
    "        # print(t.text)\n",
    "        # print(n)\n",
    "        # 정규표현식으로 데이터 정리\n",
    "        text = re.sub(pattern1, \"\", t.text)\n",
    "        text = re.sub(pattern2, \"\", text)\n",
    "        text = re.sub(pattern3, \"\\n\", text)\n",
    "        text = text.rstrip('\\n')\n",
    "        # print(text)\n",
    "        # print()\n",
    "        n += 1\n",
    "        if '주소' in text :\n",
    "            text = re.sub('주소\\n', \"\", text)\n",
    "            df['주소'] = [text]\n",
    "        elif '찾아가는길' in text :\n",
    "            text = re.sub('찾아가는길\\n', \"\", text)\n",
    "            df['찾아가는길'] = [text]\n",
    "        elif '영업시간' in text :\n",
    "            text = re.sub('영업시간\\n', \"\", text)\n",
    "            df['영업시간'] = [text]\n",
    "        elif '064' in text :\n",
    "            text = re.sub('전화번호\\n', \"\", text)\n",
    "            df['전화번호'] = [text]\n",
    "        elif '050' in text :\n",
    "            text = re.sub('전화번호\\n', \"\", text)\n",
    "            df['전화번호'] = [text]\n",
    "        elif '편의' in text :\n",
    "            text = re.sub('편의\\n', \"\", text)\n",
    "            df['편의'] = [text]\n",
    "        elif '설명' in text :\n",
    "            text = re.sub('설명\\n', \"\", text)\n",
    "            df['설명'] = [text]\n",
    "        else :\n",
    "            df['기타'] = [text]\n",
    "        # lst.append(text)\n",
    "except :\n",
    "    print('식당 정보를 가져오지 못했습니다.')\n",
    "    pass\n",
    "        "
   ]
  },
  {
   "cell_type": "code",
   "execution_count": 111,
   "id": "d8a73058",
   "metadata": {},
   "outputs": [
    {
     "data": {
      "text/html": [
       "<div>\n",
       "<style scoped>\n",
       "    .dataframe tbody tr th:only-of-type {\n",
       "        vertical-align: middle;\n",
       "    }\n",
       "\n",
       "    .dataframe tbody tr th {\n",
       "        vertical-align: top;\n",
       "    }\n",
       "\n",
       "    .dataframe thead th {\n",
       "        text-align: right;\n",
       "    }\n",
       "</style>\n",
       "<table border=\"1\" class=\"dataframe\">\n",
       "  <thead>\n",
       "    <tr style=\"text-align: right;\">\n",
       "      <th></th>\n",
       "      <th>주소</th>\n",
       "      <th>찾아가는길</th>\n",
       "      <th>영업시간</th>\n",
       "      <th>편의</th>\n",
       "      <th>설명</th>\n",
       "      <th>전화번호</th>\n",
       "      <th>기타</th>\n",
       "      <th>이미지url</th>\n",
       "    </tr>\n",
       "  </thead>\n",
       "  <tbody>\n",
       "    <tr>\n",
       "      <th>0</th>\n",
       "      <td>제주 제주시 선덕로5길 20 삼성혈 해물탕 본점</td>\n",
       "      <td>제주도청 바로 뒤편에 위치하며 주차는\\n본 업소 바로 앞 공영주차장 (30분 무료....</td>\n",
       "      <td>19:50에 라스트오더\\n19시 50분에 라스트오더</td>\n",
       "      <td>포장, 예약, 무선 인터넷, 남/녀 화장실 구분</td>\n",
       "      <td>원조 삼성혈 해물탕 본점은 약20년동안 오로지 해물탕만을 고집하는 원조맛집으로서 살...</td>\n",
       "      <td>0507-1421-3002</td>\n",
       "      <td>NaN</td>\n",
       "      <td>[https://search.pstatic.net/common/?autoRotate...</td>\n",
       "    </tr>\n",
       "  </tbody>\n",
       "</table>\n",
       "</div>"
      ],
      "text/plain": [
       "                           주소  \\\n",
       "0  제주 제주시 선덕로5길 20 삼성혈 해물탕 본점   \n",
       "\n",
       "                                               찾아가는길  \\\n",
       "0  제주도청 바로 뒤편에 위치하며 주차는\\n본 업소 바로 앞 공영주차장 (30분 무료....   \n",
       "\n",
       "                           영업시간                          편의  \\\n",
       "0  19:50에 라스트오더\\n19시 50분에 라스트오더  포장, 예약, 무선 인터넷, 남/녀 화장실 구분   \n",
       "\n",
       "                                                  설명            전화번호   기타  \\\n",
       "0  원조 삼성혈 해물탕 본점은 약20년동안 오로지 해물탕만을 고집하는 원조맛집으로서 살...  0507-1421-3002  NaN   \n",
       "\n",
       "                                              이미지url  \n",
       "0  [https://search.pstatic.net/common/?autoRotate...  "
      ]
     },
     "execution_count": 111,
     "metadata": {},
     "output_type": "execute_result"
    }
   ],
   "source": [
    "df"
   ]
  },
  {
   "cell_type": "code",
   "execution_count": null,
   "id": "1484aa5b",
   "metadata": {},
   "outputs": [],
   "source": [
    "# 추가로 이미지도 가져와보자.\n",
    "# 주의 아래에는 파일 경로를 지정해주어야한다! \n",
    "# 윈도우에서 \\로 경로를 지정하는데 \\ 사용시 컴퓨터가 경로를 못 읽으므로 / 사용을 권장한다.\n",
    "\n",
    "# url img를 내려받을 수 있는 패키지\n",
    "from urllib.request import urlopen , urlretrieve\n",
    "from urllib.error   import HTTPError\n",
    "from urllib.error   import URLError\n",
    "\n",
    "\n",
    "import os\n",
    "# 폴더 생성\n",
    "img_folder = 'C:/Users/PiGiraffe0/Downloads/test'\n",
    "\n",
    "\n",
    "# 특정 폴더를 생성합니다.\n",
    "\n",
    "if not os.path.isdir(img_folder) :\n",
    "    os.mkdir(img_folder)\n",
    "\n",
    "# 이미지 경로를 통해 이미지 파일에 이미지 저장하기.\n",
    "\n",
    "for idx, link in enumerate(img_lst) :\n",
    "    #.get_attribute('src') 은 src에 적혀있는 이미지 주소를 뽑아준다\n",
    "    print(idx , '-' , link.get_attribute('src'))\n",
    "    # urlretrieve 입력받은 이미지 url에 따라 이미지를 다운받고 특정 경로에 저장한다. \n",
    "    # f'' 형식은 포메팅이다 f'{}' {변수 : 변수 값을 반환한다.} \n",
    "    urlretrieve(link.get_attribute('src') , f'C:/Users/PiGiraffe0/Downloads/test/test_{idx}.jpg')\n"
   ]
  }
 ],
 "metadata": {
  "kernelspec": {
   "display_name": "Python 3 (ipykernel)",
   "language": "python",
   "name": "python3"
  },
  "language_info": {
   "codemirror_mode": {
    "name": "ipython",
    "version": 3
   },
   "file_extension": ".py",
   "mimetype": "text/x-python",
   "name": "python",
   "nbconvert_exporter": "python",
   "pygments_lexer": "ipython3",
   "version": "3.10.9"
  }
 },
 "nbformat": 4,
 "nbformat_minor": 5
}
