{
 "cells": [
  {
   "cell_type": "code",
   "execution_count": 1,
   "id": "dd05c442",
   "metadata": {},
   "outputs": [],
   "source": [
    "from selenium.webdriver.chrome.service import Service\n",
    "from webdriver_manager.chrome import ChromeDriverManager\n",
    "from selenium import webdriver\n",
    "from selenium.webdriver.chrome.options import Options\n",
    "import subprocess\n",
    "import shutil\n",
    "from selenium.webdriver.common.by import By\n",
    "import pandas as pd\n",
    "import time\n",
    "\n",
    "from selenium.webdriver.support.ui import WebDriverWait\n",
    "from selenium.webdriver.support import expected_conditions as EC\n",
    "\n",
    "# 셀레니움 신버전 크롬 드라이버 패키지\n",
    "\n",
    "from selenium.webdriver.chrome.service import Service\n",
    "from webdriver_manager.chrome import ChromeDriverManager\n",
    "\n",
    "from selenium.webdriver.common.keys import Keys\n",
    "# 진행률\n",
    "from tqdm.notebook import tqdm\n",
    "import re"
   ]
  },
  {
   "cell_type": "code",
   "execution_count": 3,
   "id": "ae12e69d",
   "metadata": {},
   "outputs": [
    {
     "name": "stdout",
     "output_type": "stream",
     "text": [
      "현재 크롤링이 진행중인 검색어 : 진낙지앤\n"
     ]
    }
   ],
   "source": [
    "def iframe_finder(iframe_id) :\n",
    "    wait = WebDriverWait(driver, 10)\n",
    "    driver.switch_to.default_content()\n",
    "    # self.iframe\n",
    "    iframe = wait.until(EC.presence_of_element_located((By.ID, iframe_id)))\n",
    "    driver.switch_to.frame(iframe)\n",
    "def is_action_successful(driver):\n",
    "    try:\n",
    "        wait = WebDriverWait(driver, 3)\n",
    "        wait.until(EC.visibility_of_element_located((By.CLASS_NAME, \"N_KDL\")))\n",
    "        return True\n",
    "    except:\n",
    "        return False\n",
    "# 1. 식당이름 입력\n",
    "# 2. iframe searchIframe 변경\n",
    "# 3. 페이지에 식당이 있는지 확인\n",
    "# 4. 내가 찾으려는 식당 주소와 검색해서 나온 식당 주소 비교 \n",
    "# 5. 찾았다면 클릭\n",
    "\n",
    "# Chrome headless 설정\n",
    "options = Options()\n",
    "# options.add_argument('--headless')\n",
    "\n",
    "# 드라이버 생성\n",
    "driver = webdriver.Chrome(service=Service(ChromeDriverManager().install()), options=options)\n",
    "\n",
    "# name = '연화양꼬치'\n",
    "# name = '맛깔참죽신제주점'\n",
    "# name = '커피마마제주연동점'\n",
    "# name = '삼성혈해물탕'\n",
    "# name = '순창갈비'\n",
    "# name = '스톤아일랜드탭하우스'\n",
    "name = '진낙지앤'\n",
    "# 리뷰 페이지 열기\n",
    "print(f'현재 크롤링이 진행중인 검색어 : {name}')\n",
    "\n",
    "url = f\"https://map.naver.com/v5/search/{name}\"\n",
    "\n",
    "driver.get(url)\n",
    "\n",
    "wait = WebDriverWait(driver, 10)\n",
    "\n",
    "iframe_finder('searchIframe')\n",
    "# iframe_finder('entryIframe')"
   ]
  },
  {
   "cell_type": "code",
   "execution_count": 6,
   "id": "78f9b7ff",
   "metadata": {},
   "outputs": [],
   "source": [
    "iframe_finder('entryIframe')\n",
    "dt = driver.find_elements(by = By.CLASS_NAME , value = 'zD5Nm.f7aZ0')"
   ]
  },
  {
   "cell_type": "code",
   "execution_count": 7,
   "id": "dffca7cd",
   "metadata": {},
   "outputs": [
    {
     "data": {
      "text/plain": [
       "'진낙지앤낙지요리\\n별점\\n4.5/5방문자리뷰 128블로그리뷰 14\\n농림축산식품부 제공\\n안심식당'"
      ]
     },
     "execution_count": 7,
     "metadata": {},
     "output_type": "execute_result"
    }
   ],
   "source": [
    "dt[0].text"
   ]
  },
  {
   "cell_type": "code",
   "execution_count": 15,
   "id": "1eb61136",
   "metadata": {},
   "outputs": [],
   "source": [
    "dt2 = driver.find_elements(by = By.CLASS_NAME , value = 'PIbes')"
   ]
  },
  {
   "cell_type": "code",
   "execution_count": 18,
   "id": "e268f132",
   "metadata": {},
   "outputs": [],
   "source": [
    "testd = driver.find_elements(by = By.CLASS_NAME , value = 'PIbes > div')"
   ]
  },
  {
   "cell_type": "code",
   "execution_count": null,
   "id": "3d1c7830",
   "metadata": {},
   "outputs": [],
   "source": [
    "pattern = r\"[^가-힣\\s]+\"\n",
    "result = re.sub(pattern, \"\", text_2)"
   ]
  },
  {
   "cell_type": "code",
   "execution_count": 44,
   "id": "3db4e55d",
   "metadata": {},
   "outputs": [
    {
     "name": "stdout",
     "output_type": "stream",
     "text": [
      "0\n",
      "주소\n",
      "제주 제주시 연화로2길 31 진낙지앤\n",
      "\n",
      "1\n",
      "영업시간\n",
      "\n",
      "매주 일요일 휴무\n",
      "매주 일요일 휴무\n",
      "\n",
      "\n",
      "2\n",
      "064-748-5242\n",
      "\n",
      "3\n",
      "결제수단\n",
      "제로페이\n",
      "\n",
      "4\n",
      "수상 및 인증\n",
      "농림축산식품부 제공\n",
      "안심식당\n",
      "\n",
      "안심식당은 '덜어먹기 가능한 도구 비치・제공', '위생적 수저관리' , '종사자마스크 착용'을 준수하는 곳으로 소재지 지자체의 인증을 받은 음식점 입니다.\n",
      "\n"
     ]
    }
   ],
   "source": [
    "pattern = r\"(오늘 휴무 | 복사 | 접기 | 펼쳐보기)\"\n",
    "pattern = r'(접기|오늘 휴무|펼쳐보기|복사)'\n",
    "# result = re.sub(pattern, \"\", text_2)\n",
    "n = 0\n",
    "for t in testd :\n",
    "    \n",
    "    print(n)\n",
    "    \n",
    "    print(re.sub(pattern, \"\", t.text))\n",
    "    print()\n",
    "    n += 1"
   ]
  },
  {
   "cell_type": "code",
   "execution_count": 14,
   "id": "dc817c72",
   "metadata": {},
   "outputs": [
    {
     "data": {
      "text/plain": [
       "\"주소\\n제주 제주시 연화로2길 31 진낙지앤\\n영업시간\\n오늘 휴무\\n매주 일요일 휴무\\n매주 일요일 휴무\\n펼쳐보기\\n064-748-5242복사\\n결제수단\\n제로페이\\n수상 및 인증\\n농림축산식품부 제공\\n안심식당\\n접기\\n안심식당은 '덜어먹기 가능한 도구 비치・제공', '위생적 수저관리' , '종사자마스크 착용'을 준수하는 곳으로 소재지 지자체의 인증을 받은 음식점 입니다.\""
      ]
     },
     "execution_count": 14,
     "metadata": {},
     "output_type": "execute_result"
    }
   ],
   "source": [
    "dt2[0].text"
   ]
  },
  {
   "cell_type": "code",
   "execution_count": 11,
   "id": "179a95e7",
   "metadata": {},
   "outputs": [
    {
     "data": {
      "text/plain": [
       "['주소',\n",
       " '제주 제주시 연화로2길 31 진낙지앤',\n",
       " '영업시간',\n",
       " '오늘 휴무',\n",
       " '매주 일요일 휴무',\n",
       " '매주 일요일 휴무',\n",
       " '펼쳐보기',\n",
       " '064-748-5242복사',\n",
       " '결제수단',\n",
       " '제로페이',\n",
       " '수상 및 인증',\n",
       " '농림축산식품부 제공',\n",
       " '안심식당',\n",
       " '접기',\n",
       " \"안심식당은 '덜어먹기 가능한 도구 비치・제공', '위생적 수저관리' , '종사자마스크 착용'을 준수하는 곳으로 소재지 지자체의 인증을 받은 음식점 입니다.\"]"
      ]
     },
     "execution_count": 11,
     "metadata": {},
     "output_type": "execute_result"
    }
   ],
   "source": [
    "dt2[0].text.split('\\n')"
   ]
  },
  {
   "cell_type": "code",
   "execution_count": null,
   "id": "05e37fdc",
   "metadata": {},
   "outputs": [],
   "source": []
  },
  {
   "cell_type": "code",
   "execution_count": null,
   "id": "2c99af74",
   "metadata": {},
   "outputs": [],
   "source": [
    "img_lst = driver.find_elements(by = By.CSS_SELECTOR , value = '.people_li > a > img')"
   ]
  },
  {
   "cell_type": "code",
   "execution_count": null,
   "id": "1484aa5b",
   "metadata": {},
   "outputs": [],
   "source": [
    "# 추가로 이미지도 가져와보자.\n",
    "# 주의 아래에는 파일 경로를 지정해주어야한다! \n",
    "# 윈도우에서 \\로 경로를 지정하는데 \\ 사용시 컴퓨터가 경로를 못 읽으므로 / 사용을 권장한다.\n",
    "\n",
    "# url img를 내려받을 수 있는 패키지\n",
    "from urllib.request import urlopen , urlretrieve\n",
    "from urllib.error   import HTTPError\n",
    "from urllib.error   import URLError\n",
    "\n",
    "\n",
    "import os\n",
    "# 폴더 생성\n",
    "img_folder = 'C:/Users/PiGiraffe0/Downloads/test'\n",
    "\n",
    "\n",
    "# 특정 폴더를 생성합니다.\n",
    "\n",
    "if not os.path.isdir(img_folder) :\n",
    "    os.mkdir(img_folder)\n",
    "\n",
    "# 이미지 경로를 통해 이미지 파일에 이미지 저장하기.\n",
    "\n",
    "for idx, link in enumerate(img_lst) :\n",
    "    #.get_attribute('src') 은 src에 적혀있는 이미지 주소를 뽑아준다\n",
    "    print(idx , '-' , link.get_attribute('src'))\n",
    "    # urlretrieve 입력받은 이미지 url에 따라 이미지를 다운받고 특정 경로에 저장한다. \n",
    "    # f'' 형식은 포메팅이다 f'{}' {변수 : 변수 값을 반환한다.} \n",
    "    urlretrieve(link.get_attribute('src') , f'C:/Users/PiGiraffe0/Downloads/test/test_{idx}.jpg')\n"
   ]
  }
 ],
 "metadata": {
  "kernelspec": {
   "display_name": "Python 3 (ipykernel)",
   "language": "python",
   "name": "python3"
  },
  "language_info": {
   "codemirror_mode": {
    "name": "ipython",
    "version": 3
   },
   "file_extension": ".py",
   "mimetype": "text/x-python",
   "name": "python",
   "nbconvert_exporter": "python",
   "pygments_lexer": "ipython3",
   "version": "3.9.13"
  }
 },
 "nbformat": 4,
 "nbformat_minor": 5
}
