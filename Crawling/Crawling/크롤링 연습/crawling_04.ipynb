{
 "cells": [
  {
   "cell_type": "code",
   "execution_count": 1,
   "id": "20266433",
   "metadata": {},
   "outputs": [
    {
     "name": "stdout",
     "output_type": "stream",
     "text": [
      "numpy version -  1.21.5\n",
      "pandas version -  1.4.4\n"
     ]
    }
   ],
   "source": [
    "import numpy as np\n",
    "import pandas as pd\n",
    "import seaborn as sns\n",
    "\n",
    "import matplotlib as mpl\n",
    "import matplotlib.pyplot as plt\n",
    "import json\n",
    "\n",
    "%matplotlib inline\n",
    "\n",
    "# 한글 폰트 문제 해결\n",
    "import platform\n",
    "from matplotlib import font_manager, rc\n",
    "plt.rcParams['axes.unicode_minus'] = False\n",
    "\n",
    "if platform.system() == 'Darwin':\n",
    "    rc('font', family='AppleGothic')\n",
    "elif platform.system() == 'Windows':\n",
    "    path = \"c:/Windows/Fonts/malgun.ttf\"\n",
    "    font_name = font_manager.FontProperties(fname=path).get_name()\n",
    "    rc('font', family=font_name)\n",
    "else:\n",
    "    print('Unknown system... sorry~~~~')\n",
    "\n",
    "\n",
    "# 노란색 글씨의 warining 문구 강제 생략\n",
    "import warnings\n",
    "warnings.filterwarnings(action='ignore')\n",
    "    \n",
    "\n",
    "# 차트 축 <- 음수 부호 지원\n",
    "import matplotlib\n",
    "matplotlib.rcParams['axes.unicode_minus'] = False\n",
    "\n",
    "\n",
    "print('numpy version - ' , np.__version__)\n",
    "print('pandas version - ' , pd.__version__)\n",
    "\n",
    "# 크롤링\n",
    "from bs4 import BeautifulSoup\n",
    "# url img를 내려받을 수 있는 패키지\n",
    "from urllib.request import urlopen , urlretrieve\n",
    "from urllib.error   import HTTPError\n",
    "from urllib.error   import URLError\n",
    "\n",
    "import requests\n",
    "import re\n",
    "\n",
    "from selenium import webdriver\n",
    "from selenium.webdriver.common.by import By"
   ]
  },
  {
   "cell_type": "markdown",
   "id": "60ee8e7c",
   "metadata": {},
   "source": [
    "- 정적 스크리핑 - BS\n",
    "- 동적 스크리핑 - selenium\n",
    "- 정규표현식 : https://docs.python.org/ko/3/library/re.html#regular-expression-syntax"
   ]
  },
  {
   "cell_type": "markdown",
   "id": "06fddafc",
   "metadata": {},
   "source": [
    "- 페이지 정보 확인법 \n",
    "- f12 -> network -> f5 -> content -> Request URL 확인 - > Payload 확인"
   ]
  },
  {
   "cell_type": "code",
   "execution_count": 2,
   "id": "c8077c86",
   "metadata": {},
   "outputs": [],
   "source": [
    "\n",
    "# 구글크롬 드라이버 다운 후 폴더 경로 선언\n",
    "driver_path = 'C:/Users/PiGiraffe0/Documents/SQL/diver/chromedriver.exe'\n",
    "\n",
    "# 드라이버를 제어할 수 있는 객체 생성\n",
    "chrome_driver = webdriver.Chrome(driver_path)\n",
    "\n",
    "# 해당 홈페이지를 불러온다.\n",
    "chrome_driver.get('https://python.org')"
   ]
  },
  {
   "cell_type": "markdown",
   "id": "4f3b3f3d",
   "metadata": {},
   "source": [
    "- xpath : 절대주소\n",
    "     - 절대주소를 사용하여 정형화되어있을 경우 루프를 돌려 다양한 정보를 가져올 수 있다.\n",
    "     - 사용방법 : 특정 정보 데이터에 들어가서 a href를 찾고 마우스 우클릭 - > copy -> copt xpath"
   ]
  },
  {
   "cell_type": "code",
   "execution_count": null,
   "id": "acc6f180",
   "metadata": {},
   "outputs": [],
   "source": [
    "# @는 식별자이다.\n",
    "//*[@id=\"rank_holder\"]/ul/li[1]/div/a\n",
    "//*[@id=\"rank_holder\"]/ul/li[2]/div/a"
   ]
  },
  {
   "cell_type": "code",
   "execution_count": 13,
   "id": "682dfae4",
   "metadata": {},
   "outputs": [],
   "source": [
    "driver_path = 'C:/Users/PiGiraffe0/Documents/SQL/diver/chromedriver.exe'\n",
    "driver = webdriver.Chrome(driver_path)\n",
    "driver.get('http://www.cine21.com/rank/person')"
   ]
  },
  {
   "cell_type": "code",
   "execution_count": 12,
   "id": "cb204b7d",
   "metadata": {},
   "outputs": [
    {
     "name": "stdout",
     "output_type": "stream",
     "text": [
      "case03 - selenium xpath 배우 이름 추출\n"
     ]
    }
   ],
   "source": [
    "print('case03 - selenium xpath 배우 이름 추출')"
   ]
  },
  {
   "cell_type": "code",
   "execution_count": null,
   "id": "e61dbc96",
   "metadata": {},
   "outputs": [],
   "source": [
    "//*[@id=\"rank_holder\"]/ul/li[1]\n",
    "//*[@id=\"rank_holder\"]/ul/li[2]"
   ]
  },
  {
   "cell_type": "code",
   "execution_count": 17,
   "id": "4d1d6608",
   "metadata": {},
   "outputs": [
    {
     "data": {
      "text/plain": [
       "'류준열(3편)\\n흥행지수\\n69,778\\n올빼미\\n리틀 포레스트\\n더 킹\\n1'"
      ]
     },
     "execution_count": 17,
     "metadata": {},
     "output_type": "execute_result"
    }
   ],
   "source": [
    "people_lst = driver.find_elements(By.XPATH , '//*[@id=\"rank_holder\"]/ul/li')\n",
    "people_lst[0].text"
   ]
  },
  {
   "cell_type": "code",
   "execution_count": 24,
   "id": "56ba5fb9",
   "metadata": {
    "collapsed": true
   },
   "outputs": [
    {
     "name": "stdout",
     "output_type": "stream",
     "text": [
      "류준열(3편)\n",
      "흥행지수\n",
      "69,778\n",
      "올빼미\n",
      "리틀 포레스트\n",
      "더 킹\n",
      "1\n",
      "유해진(2편)\n",
      "흥행지수\n",
      "63,623\n",
      "올빼미\n",
      "공조2: 인터내셔날\n",
      "2\n",
      "소지섭(1편)\n",
      "흥행지수\n",
      "57,190\n",
      "자백\n",
      "3\n",
      "최무성(2편)\n",
      "흥행지수\n",
      "52,474\n",
      "올빼미\n",
      "탄생\n",
      "4\n",
      "김래원(1편)\n",
      "흥행지수\n",
      "51,745\n",
      "데시벨\n",
      "5\n",
      "여진구(1편)\n",
      "흥행지수\n",
      "48,516\n",
      "동감\n",
      "6\n",
      "이종석(1편)\n",
      "흥행지수\n",
      "45,995\n",
      "데시벨\n",
      "7\n"
     ]
    }
   ],
   "source": [
    "# 이름을 가져오는 xpath\n",
    "# //*[@id=\"rank_holder\"]/ul/li[1]/div/a\n",
    "\n",
    "for people in people_lst :\n",
    "    print(people.text)"
   ]
  },
  {
   "cell_type": "code",
   "execution_count": 46,
   "id": "e06487f9",
   "metadata": {
    "collapsed": true
   },
   "outputs": [
    {
     "name": "stdout",
     "output_type": "stream",
     "text": [
      "1\n",
      "배우 이름  :  류준열(3편)\n",
      "흥행 지수 :  69,778\n",
      "순위 :  1\n",
      "영화 :  올빼미\n",
      "영화 :  리틀 포레스트\n",
      "영화 :  더 킹\n",
      "2\n",
      "배우 이름  :  유해진(2편)\n",
      "흥행 지수 :  63,623\n",
      "순위 :  2\n",
      "영화 :  올빼미\n",
      "영화 :  공조2: 인터내셔날\n",
      "3\n",
      "배우 이름  :  소지섭(1편)\n",
      "흥행 지수 :  57,190\n",
      "순위 :  3\n",
      "영화 :  자백\n",
      "4\n",
      "배우 이름  :  최무성(2편)\n",
      "흥행 지수 :  52,474\n",
      "순위 :  4\n",
      "영화 :  올빼미\n",
      "영화 :  탄생\n",
      "5\n",
      "배우 이름  :  김래원(1편)\n",
      "흥행 지수 :  51,745\n",
      "순위 :  5\n",
      "영화 :  데시벨\n",
      "6\n",
      "배우 이름  :  여진구(1편)\n",
      "흥행 지수 :  48,516\n",
      "순위 :  6\n",
      "영화 :  동감\n",
      "7\n",
      "배우 이름  :  이종석(1편)\n",
      "흥행 지수 :  45,995\n",
      "순위 :  7\n",
      "영화 :  데시벨\n"
     ]
    }
   ],
   "source": [
    "# xpaths는 절대 경로이기 때문에 경로를 살짝만 바꾸어주어도 다양한 정보를 가져올 수 있다.\n",
    "# 단 경로 방식으로만 찾아야함\n",
    "\n",
    "# //*[@id=\"rank_holder\"]/ul/li[1]/ul[1]/li/strong\n",
    "# //*[@id=\"rank_holder\"]/ul/li[2]/ul[1]/li/strong\n",
    "\n",
    "# //*[@id=\"rank_holder\"]/ul/li[1]/span\n",
    "# //*[@id=\"rank_holder\"]/ul/li[2]/span\n",
    "\n",
    "# 영화\n",
    "# //*[@id=\"rank_holder\"]/ul/li[1]/ul[2]/li[1]/a/span\n",
    "# //*[@id=\"rank_holder\"]/ul/li[1]/ul[2]/li[2]/a/span\n",
    "\n",
    "# //*[@id=\"rank_holder\"]/ul/li[2]/ul[2]/li[1]/a/span\n",
    "\n",
    "for idx in range(len(people_lst)) :\n",
    "    print(idx+1)\n",
    "    print('배우 이름  : ' \n",
    "          , driver.find_element(By.XPATH , '//*[@id=\"rank_holder\"]/ul/li[{}]/div/a'.format(idx+1)).text)\n",
    "    #print('배우 이름  : ' \n",
    "    #      , driver.find_element(By.XPATH , f'//*[@id=\"rank_holder\"]/ul/li[{idx+1}]/div/a').text)\n",
    "    \n",
    "    print('흥행 지수 : ' \n",
    "          , driver.find_element(By.XPATH , '//*[@id=\"rank_holder\"]/ul/li[{}]/ul[1]/li/strong'.format(idx+1)).text)\n",
    "    \n",
    "    print('순위 : ' \n",
    "          , driver.find_element(By.XPATH , '//*[@id=\"rank_holder\"]/ul/li[{}]/span'.format(idx+1)).text)\n",
    "    \n",
    "    for movie in driver.find_elements(By.XPATH , '//*[@id=\"rank_holder\"]/ul/li[{}]/ul[2]/li'.format(idx+1)) : \n",
    "        print('영화 : ' , movie.text)\n",
    "    \n",
    "    \n",
    "    \n",
    "# driver.find_element(By.XPATH , '//*[@id=\"rank_holder\"]/div/div/a[2]').click()\n"
   ]
  },
  {
   "cell_type": "code",
   "execution_count": null,
   "id": "4b5e824b",
   "metadata": {},
   "outputs": [],
   "source": [
    "# 배우 링크 클릭시 내부에 상세 정보들을 가져올 수 있다.\n",
    "# .click()\n",
    "# 뒤로가기 \n",
    "# driver.back()"
   ]
  },
  {
   "cell_type": "code",
   "execution_count": null,
   "id": "dd46540f",
   "metadata": {},
   "outputs": [],
   "source": [
    "print('case04 - selenium xpath 추출')\n",
    "print('상세정보를 가져오기 위한 click()')\n",
    "print('배우 이름, 흥행 지수 , 출연 영화')\n",
    "print('배우의 실명 , 직업 , 생년월일 , 성별 , 홈페이지 ,신장 및 체중 , 학교 , 취미')"
   ]
  },
  {
   "cell_type": "code",
   "execution_count": null,
   "id": "f651e2f8",
   "metadata": {},
   "outputs": [],
   "source": []
  },
  {
   "cell_type": "code",
   "execution_count": null,
   "id": "274a95d1",
   "metadata": {},
   "outputs": [],
   "source": [
    "people_lst = driver.find_elements(By.XPATH , '//*[@id=\"rank_holder\"]/ul/li')\n"
   ]
  },
  {
   "cell_type": "code",
   "execution_count": null,
   "id": "9e71770f",
   "metadata": {},
   "outputs": [],
   "source": [
    "//*[@id=\"rank_holder\"]/ul/li[1]/a\n",
    "//*[@id=\"rank_holder\"]/ul/li[1]/a/img"
   ]
  },
  {
   "cell_type": "code",
   "execution_count": 54,
   "id": "902e7b8b",
   "metadata": {},
   "outputs": [
    {
     "name": "stdout",
     "output_type": "stream",
     "text": [
      "<selenium.webdriver.remote.webelement.WebElement (session=\"894466f77df8a560069da7225e52ba9f\", element=\"76c843d2-4450-43e9-b924-ef1df7e00a53\")>\n",
      "<selenium.webdriver.remote.webelement.WebElement (session=\"894466f77df8a560069da7225e52ba9f\", element=\"12fce9f9-1c04-473a-9be3-b3e36fe7f1a8\")>\n",
      "<selenium.webdriver.remote.webelement.WebElement (session=\"894466f77df8a560069da7225e52ba9f\", element=\"afd61db6-3d83-406f-9d7b-26cae878dd0a\")>\n",
      "<selenium.webdriver.remote.webelement.WebElement (session=\"894466f77df8a560069da7225e52ba9f\", element=\"e3aeaec3-307d-4507-ac0d-86dacb0fd84d\")>\n",
      "<selenium.webdriver.remote.webelement.WebElement (session=\"894466f77df8a560069da7225e52ba9f\", element=\"041b5c88-5f61-41a6-993d-577596d48094\")>\n",
      "<selenium.webdriver.remote.webelement.WebElement (session=\"894466f77df8a560069da7225e52ba9f\", element=\"2f10b0e1-77d5-4273-a91f-e34ace11938f\")>\n",
      "<selenium.webdriver.remote.webelement.WebElement (session=\"894466f77df8a560069da7225e52ba9f\", element=\"1a1b6de9-e4bb-4504-9329-0103e2fbcf09\")>\n"
     ]
    }
   ],
   "source": [
    "for idx in range(len(people_lst)) :\n",
    "    print(driver.find_element(By.XPATH , f'//*[@id=\"rank_holder\"]/ul/li[{idx+1}]/a/img' ))"
   ]
  },
  {
   "cell_type": "code",
   "execution_count": null,
   "id": "127b0245",
   "metadata": {},
   "outputs": [],
   "source": []
  },
  {
   "cell_type": "code",
   "execution_count": 134,
   "id": "8bc0540e",
   "metadata": {
    "collapsed": true
   },
   "outputs": [
    {
     "name": "stdout",
     "output_type": "stream",
     "text": [
      "배우 이름  :  류준열\n",
      "흥행 지수 :  69,778\n",
      "순위 :  1\n",
      "영화 :   올빼미  리틀 포레스트  더 킹\n",
      "직업 : 배우\n",
      "생년월일 : 1986-09-25\n",
      "성별 : 남\n",
      "홈페이지 :  https://www.instagram.com/ryusdb/\n",
      "------------------------------------------------------------\n",
      "배우 이름  :  유해진\n",
      "흥행 지수 :  63,623\n",
      "순위 :  2\n",
      "영화 :   올빼미  공조2: 인터내셔날\n",
      "다른 이름 : YOO HAI JIN\n",
      "직업 : 배우\n",
      "생년월일 : 1970-01-04\n",
      "성별 : 남\n",
      "신장/체중 : 174cm, 65kg\n",
      "학교 : 서울예술대학 연극과\n",
      "소속사 : 심엔터테인먼트\n",
      "------------------------------------------------------------\n",
      "배우 이름  :  소지섭\n",
      "흥행 지수 :  57,190\n",
      "순위 :  3\n",
      "영화 :   자백\n",
      "직업 : 배우\n",
      "생년월일 : 1977-11-04\n",
      "성별 : 남\n",
      "홈페이지 :  http://www.sojisub.com/\n",
      "신장/체중 : 182cm, 70kg\n",
      "학교 : 청운대 방송연기학 학사\n",
      "취미 : 각종 운동, 음악 감상, 영화 감상\n",
      "특기 : 수영\n",
      "소속사 : 피프티원케이\n",
      "------------------------------------------------------------\n",
      "배우 이름  :  최무성\n",
      "흥행 지수 :  52,474\n",
      "순위 :  4\n",
      "영화 :   올빼미  탄생\n",
      "다른 이름 : CHOI Moo-sung;최명수;CHOI Myung-soo\n",
      "직업 : 배우\n",
      "생년월일 : 1968-01-12\n",
      "성별 : 남\n",
      "------------------------------------------------------------\n",
      "배우 이름  :  김래원\n",
      "흥행 지수 :  51,745\n",
      "순위 :  5\n",
      "영화 :   데시벨\n",
      "다른 이름 : Kim Rae-Won\n",
      "직업 : 배우\n",
      "생년월일 : 1981-03-19\n",
      "성별 : 남\n",
      "홈페이지 :  https://twitter.com/krw810319\n",
      "신장/체중 : 183cm, 67kg\n",
      "학교 : 중앙대 연극영화\n",
      "취미 : 낚시\n",
      "특기 : 농구, 스노우보드\n",
      "------------------------------------------------------------\n",
      "배우 이름  :  여진구\n",
      "흥행 지수 :  48,516\n",
      "순위 :  6\n",
      "영화 :   동감\n",
      "직업 : 배우\n",
      "생년월일 : 1997-08-13\n",
      "성별 : 남\n",
      "홈페이지 :  http://www.jingooyeo.com\n",
      "https://www.instagram.com/yeojin9oo/\n",
      "신장/체중 : 177cm\n",
      "학교 : 신림중,남강고등\n",
      "취미 : 수영, 승마\n",
      "소속사 : 제이너스 엔터테인먼트\n",
      "------------------------------------------------------------\n",
      "배우 이름  :  이종석\n",
      "흥행 지수 :  45,995\n",
      "순위 :  7\n",
      "영화 :   데시벨\n",
      "직업 : 배우\n",
      "생년월일 : 1989-09-14\n",
      "성별 : 남\n",
      "홈페이지 :  https://www.instagram.com/jongsuk0206/\n",
      "신장/체중 : 185cm, 65kg\n",
      "취미 : 게임, 농구\n",
      "특기 : 태권도 4단, 노래\n",
      "------------------------------------------------------------\n",
      "배우 이름  :  조성하\n",
      "흥행 지수 :  43,606\n",
      "순위 :  8\n",
      "영화 :   올빼미  거래완료\n",
      "다른 이름 : 조성권; CHO Seong-ha\n",
      "직업 : 배우\n",
      "생년월일 : 1966-08-08\n",
      "성별 : 남\n",
      "홈페이지 :  https://twitter.com/actorchoseongha\n",
      "https://www.facebook.com/people/%EC%A1%B0%EC%84%B1%ED%95%98/100001871227924\n",
      "------------------------------------------------------------\n",
      "배우 이름  :  김윤진\n",
      "흥행 지수 :  42,896\n",
      "순위 :  9\n",
      "영화 :   자백  국제시장\n",
      "다른 이름 : Kim Yun Jin; Kim Yun-Jin\n",
      "직업 : 배우\n",
      "생년월일 : 1973-11-07\n",
      "성별 : 여\n",
      "홈페이지 :  https://www.yunjinkim.co.kr:9023/profile/\n",
      "신장/체중 : 168cm, 48kg\n",
      "학교 : 보스턴대 공연예술학\n",
      "취미 : 음악감상, 여행\n",
      "특기 : 발레, 재즈무용\n",
      "소속사 : 자이온 이엔티(주)\n",
      "------------------------------------------------------------\n",
      "배우 이름  :  정상훈\n",
      "흥행 지수 :  40,246\n",
      "순위 :  10\n",
      "영화 :   데시벨\n",
      "다른 이름 : 정상\n",
      "직업 : 배우\n",
      "생년월일 : 1976-09-09\n",
      "성별 : 남\n",
      "홈페이지 :  https://twitter.com/jj3274\n",
      "https://ko-kr.facebook.com/people/%EC%A0%95%EC%83%81%ED%9B%88/100002543037617\n",
      "https://instagram.com/jjsshh0909/\n",
      "신장/체중 : 176cm, 70kg\n",
      "학교 : 서울예술대학 방송연예과\n",
      "------------------------------------------------------------\n",
      "배우 이름  :  조이현\n",
      "흥행 지수 :  38,813\n",
      "순위 :  11\n",
      "영화 :   동감\n",
      "직업 : 배우\n",
      "생년월일 : 1999-12-08\n",
      "성별 : 여\n",
      "홈페이지 :  http://www.artistcompany.co.kr/portfolio-item/cho-yi-hyun/\n",
      "소속사 : 아티스트컴퍼니\n",
      "------------------------------------------------------------\n",
      "배우 이름  :  박명훈\n",
      "흥행 지수 :  34,962\n",
      "순위 :  12\n",
      "영화 :   올빼미  리미트  기생충\n",
      "직업 : 배우\n",
      "생년월일 : 1975-05-28\n",
      "성별 : 남\n",
      "------------------------------------------------------------\n",
      "배우 이름  :  박병은\n",
      "흥행 지수 :  34,498\n",
      "순위 :  13\n",
      "영화 :   데시벨  이상한 나라의 수학자\n",
      "직업 : 배우\n",
      "생년월일 : 1977-00-00\n",
      "성별 : 남\n",
      "------------------------------------------------------------\n",
      "배우 이름  :  이성민\n",
      "흥행 지수 :  32,109\n",
      "순위 :  14\n",
      "영화 :   리멤버  기적  변호인\n",
      "직업 : 배우\n",
      "생년월일 : 1968-10-15\n",
      "성별 : 남\n",
      "신장/체중 : 178cm\n",
      "------------------------------------------------------------\n"
     ]
    }
   ],
   "source": [
    "\n",
    "# //*[@id=\"rank_holder\"]/div/div/a[1]\n",
    "# driver.find_element(By.XPATH , '//*[@id=\"rank_holder\"]/div/div/a[1]').click()\n",
    "\n",
    "pages = [1,2]\n",
    "\n",
    "for page in pages :\n",
    "    driver.find_element(By.XPATH , f'//*[@id=\"rank_holder\"]/div/div/a[{page}]').click()\n",
    "    sleep(1)\n",
    "    for idx in range(len(people_lst)) :\n",
    "        print('배우 이름  : ' \n",
    "              , re.sub('\\(\\w*\\)','',driver.find_element(By.XPATH , '//*[@id=\"rank_holder\"]/ul/li[{}]/div/a'.format(idx+1)).text))\n",
    "\n",
    "        print('흥행 지수 : ' \n",
    "              , driver.find_element(By.XPATH , '//*[@id=\"rank_holder\"]/ul/li[{}]/ul[1]/li/strong'.format(idx+1)).text)\n",
    "\n",
    "        print('순위 : ' \n",
    "              , driver.find_element(By.XPATH , '//*[@id=\"rank_holder\"]/ul/li[{}]/span'.format(idx+1)).text)\n",
    "        lst_movie = []\n",
    "        for movie in driver.find_elements(By.XPATH , '//*[@id=\"rank_holder\"]/ul/li[{}]/ul[2]/li'.format(idx+1)) : \n",
    "            lst_movie.append(movie.text)\n",
    "        print('영화 : ' , end = '')\n",
    "        for cnt in lst_movie :\n",
    "            print(' ' , cnt , end = '')\n",
    "\n",
    "        print()\n",
    "\n",
    "\n",
    "        # insert page - person\n",
    "        driver.find_element(By.XPATH , f'//*[@id=\"rank_holder\"]/ul/li[{idx+1}]/a/img' ).click()\n",
    "\n",
    "        basic_info = driver.find_elements(By.XPATH , '//*[@id=\"info_content\"]/div[1]/ul/li/span' )\n",
    "        information = driver.find_elements(By.XPATH , '//*[@id=\"info_content\"]/div[1]/ul/li' )\n",
    "\n",
    "        for basic , info in zip(basic_info , information):\n",
    "            print(basic.text , ': ' , end = '')\n",
    "            print(re.sub(f'{basic.text}' ,'',info.text))\n",
    "\n",
    "        # out page - person\n",
    "        print('-' * 60)\n",
    "        driver.back()\n",
    "    # sleep(1)\n",
    "    #driver.find_element(By.XPATH , f'//*[@id=\"rank_holder\"]/div/div/a[{page}]').click()\n",
    "    "
   ]
  },
  {
   "cell_type": "code",
   "execution_count": 94,
   "id": "34ceff63",
   "metadata": {
    "scrolled": true
   },
   "outputs": [
    {
     "name": "stdout",
     "output_type": "stream",
     "text": [
      "직업\n",
      "생년월일\n",
      "성별\n",
      "홈페이지\n"
     ]
    }
   ],
   "source": [
    "for i in driver.find_elements(By.XPATH , '//*[@id=\"info_content\"]/div[1]/ul/li/span' ) :\n",
    "    print(i.text)"
   ]
  },
  {
   "cell_type": "code",
   "execution_count": null,
   "id": "bc41043b",
   "metadata": {},
   "outputs": [],
   "source": [
    "//*[@id=\"info_content\"]/div[1]"
   ]
  },
  {
   "cell_type": "code",
   "execution_count": 108,
   "id": "e5c4e1fb",
   "metadata": {},
   "outputs": [
    {
     "name": "stdout",
     "output_type": "stream",
     "text": [
      "직업 : 배우\n",
      "생년월일 : 1986-09-25\n",
      "성별 : 남\n",
      "홈페이지 :  https://www.instagram.com/ryusdb/\n"
     ]
    }
   ],
   "source": [
    "basic_info = driver.find_elements(By.XPATH , '//*[@id=\"info_content\"]/div[1]/ul/li/span' )\n",
    "information = driver.find_elements(By.XPATH , '//*[@id=\"info_content\"]/div[1]/ul/li' )\n",
    "\n",
    "for basic , info in zip(basic_info , information):\n",
    "    print(basic.text , ': ' , end = '')\n",
    "    print(re.sub(f'{basic.text}' ,'',info.text))\n",
    "    "
   ]
  },
  {
   "cell_type": "code",
   "execution_count": 121,
   "id": "4b445583",
   "metadata": {},
   "outputs": [],
   "source": [
    "from time import sleep, time\n",
    "from random import randint \n",
    "from IPython.core.display import clear_output"
   ]
  },
  {
   "cell_type": "code",
   "execution_count": 122,
   "id": "3f1629b9",
   "metadata": {},
   "outputs": [],
   "source": [
    "for i in [1,2,3] :\n",
    "    driver.find_element(By.XPATH , f'//*[@id=\"rank_holder\"]/div/div/a[{i}]').click()\n",
    "    sleep(0.5)"
   ]
  },
  {
   "cell_type": "code",
   "execution_count": 135,
   "id": "19447016",
   "metadata": {},
   "outputs": [
    {
     "ename": "NameError",
     "evalue": "name 'name' is not defined",
     "output_type": "error",
     "traceback": [
      "\u001b[1;31m---------------------------------------------------------------------------\u001b[0m",
      "\u001b[1;31mNameError\u001b[0m                                 Traceback (most recent call last)",
      "Input \u001b[1;32mIn [135]\u001b[0m, in \u001b[0;36m<cell line: 1>\u001b[1;34m()\u001b[0m\n\u001b[1;32m----> 1\u001b[0m \u001b[38;5;28mprint\u001b[39m(re\u001b[38;5;241m.\u001b[39msub(\u001b[38;5;124m'\u001b[39m\u001b[38;5;124m\\\u001b[39m\u001b[38;5;124m(\u001b[39m\u001b[38;5;124m\\\u001b[39m\u001b[38;5;124mw*\u001b[39m\u001b[38;5;124m\\\u001b[39m\u001b[38;5;124m)\u001b[39m\u001b[38;5;124m'\u001b[39m,\u001b[38;5;124m'\u001b[39m\u001b[38;5;124m'\u001b[39m,\u001b[43mname\u001b[49m\u001b[38;5;241m.\u001b[39mtext))\n",
      "\u001b[1;31mNameError\u001b[0m: name 'name' is not defined"
     ]
    }
   ],
   "source": []
  },
  {
   "cell_type": "markdown",
   "id": "b503f507",
   "metadata": {},
   "source": [
    "## 일동제약 크롤링\n"
   ]
  },
  {
   "cell_type": "code",
   "execution_count": 137,
   "id": "75a9dd7d",
   "metadata": {},
   "outputs": [],
   "source": [
    "ildong_path = 'C:/Users/PiGiraffe0/Documents/SQL/diver/chromedriver.exe'\n",
    "ildong = webdriver.Chrome(ildong_path)\n",
    "ildong.get('https://www.ildong.com/kor/product/list.id?page=1&halt=&prdDisease=&prdCategory=&searchVal=&searchOption=0')\n"
   ]
  },
  {
   "cell_type": "code",
   "execution_count": 167,
   "id": "f859f8c2",
   "metadata": {},
   "outputs": [],
   "source": [
    "# //*[@id=\"contents\"]/div[2]/div[2]/div[2]/div[1]/ul/li[1]/a\n",
    "# //*[@id=\"contents\"]/div[2]/div[2]/div[2]/div[1]/ul/li[2]/a\n",
    "\n",
    "# insert page\n",
    "ildong.find_element(By.XPATH , '//*[@id=\"contents\"]/div[2]/div[2]/div[2]/div[1]/ul/li[3]/a').click()\n",
    "\n",
    "# out page\n",
    "ildong.back()\n",
    "\n",
    "# next page\n",
    "ildong.find_element(By.XPATH , '//*[@id=\"contents\"]/div[2]/div[2]/div[2]/div[2]/a[3]').click()"
   ]
  },
  {
   "cell_type": "code",
   "execution_count": 224,
   "id": "726f4984",
   "metadata": {
    "collapsed": true
   },
   "outputs": [
    {
     "name": "stdout",
     "output_type": "stream",
     "text": [
      "마이니 간에다밀크씨슬\n",
      "\n",
      "제품특징\n",
      "\n",
      "주소 :  https://admin.ildong.com/upload/2019-09-04/156756755331563417.jpg\n",
      "간건강에 도움을 주는 밀크씨슬\n",
      "지친 간을 위한 자연의 선물, 밀크씨슬\n",
      "※본 제품은 질병의 예방 및 치료를 위한 의약품이 아니며 인체에 유용한 기능성을 가진 원료나 성분을 사용하여 제조·가공한 건강기능식품입니다.\n",
      "------------------------------------------------------------\n",
      "\n",
      "마이니 굿모닝 100억 유산균\n",
      "\n",
      "제품특징\n",
      "\n",
      "주소 :  https://admin.ildong.com/upload/2021-08-17/162916931626823885.jpg\n",
      "1. 하루1캡슐: 하루 1캡슐로 간편하게 섭취하는 현대인의 장 건강을 위한 100억 프로바이오틱스(유산균)\n",
      "2. 4중코팅 특허기술: 유산균 명가 일동제약의 4중 코팅 특허 기술로 장까지 도달하는 프로바이오틱스(건강기능식품)\n",
      "3. 한국인 맞춤: 한국형 프로바이오틱스 (유산균) 5종함유\n",
      "------------------------------------------------------------\n",
      "\n",
      "마이니 굿모닝 구미\n",
      "\n",
      "제품특징\n",
      "\n",
      "주소 :  https://admin.ildong.com/upload/2021-08-17/162916659627025400.jpg\n",
      "1. 글루타치온 50%함유된 효모추출물 240mg사용\n",
      "2. 100%국산 미배아대두발효 추출분말 500mg사용\n",
      "3. 레몬농축액 함유로 새콤달콤 맛있고 가볍게 즐기는 구미\n",
      "4. 수용성 커큐민인 네오큐민 함유\n",
      "------------------------------------------------------------\n",
      "\n",
      "마이니 남성활력케어S\n",
      "\n",
      "제품특징\n",
      "\n",
      "주소 :  https://admin.ildong.com/upload/2019-09-04/156756818958352846.jpg\n",
      "중년 남성을 위한 6가지 기능성으로 더욱 당당하게, 더욱 상쾌하게!\n",
      "------------------------------------------------------------\n",
      "\n",
      "마이니 다이어트 구미 슬림\n",
      "\n",
      "제품특징\n",
      "\n",
      "주소 :  https://admin.ildong.com/upload/2021-08-17/162916917645355836.jpg\n",
      "1. 가르시니아 캄보지아 추출물 함유\n",
      "2. 탄수화물 위주 식습관인 한국인 체지방감소 기능성\n",
      "3. 간식처럼 맛있게 섭취하는 포도맛 구미\n",
      "4. 카카오 캐릭터 모양으로 재미있게 즐기는 구미\n",
      "5. 적절한 운동, 식이조절과 함께 마이니 셀프케어 다이어트 구미로 체지방 조절\n",
      "------------------------------------------------------------\n",
      "\n",
      "마이니 루테인지아잔틴\n",
      "\n",
      "제품특징\n",
      "\n",
      "주소 :  https://admin.ildong.com/upload/2019-09-04/156756793750190527.jpg\n",
      "눈 건강을 위한 프리미엄 레시피\n",
      "루테인지아잔틴복합추출물 20%, EPA 및 DHA 함뮤 유지, 비타민E\n",
      "※본 제품은 질병의 예방 및 치료를 위한 의약품이 아니며 인체에 유용한 기능성을 가진 원료나 성분을 사용하여 제조·가공한 건강기능식품입니다.\n",
      "------------------------------------------------------------\n",
      "\n",
      "마이니 맥효비\n",
      "\n",
      "제품특징\n",
      "\n",
      "주소 :  https://admin.ildong.com/upload/2019-09-04/156756820492178308.jpg\n",
      "자연발효가 만들어 낸 맥주효모&건조효모\n",
      "활력과 풍성한 생활의 비결\n",
      "------------------------------------------------------------\n",
      "\n",
      "마이니 메모리 지피에스\n",
      "\n",
      "제품특징\n",
      "\n",
      "주소 :  https://admin.ildong.com/upload/2019-09-04/156756816835810348.jpg\n",
      "기억력과 인지력 개선에 도움을 줄 수 있는 두뇌건강 솔루션\n",
      "포스파티딜세린, 은행잎 추출물, 비타민E\n",
      "※본 제품은 질병의 예방 및 치료를 위한 의약품이 아니며 인체에 유용한 기능성을 가진 원료나 성분을 사용하여 제조·가공한 건강기능식품입니다.\n",
      "------------------------------------------------------------\n",
      "\n",
      "마이니 면역 홍삼젤리\n",
      "\n",
      "제품특징\n",
      "\n",
      "주소 :  https://admin.ildong.com/upload/2021-08-17/162916743320864253.jpg\n",
      "1. 1일 권장섭취량 100%를 충족하는\n",
      "비타민D 10mcg, 아연 8.5mg 첨가\n",
      "2. 맛있게 즐길 수 있는 오렌지맛 홍삼젤리\n",
      "3. 스틱형으로 언제,어디서든 즐길수 있는 젤리\n",
      "4. 우리 땅에서 재배한 6년근 홍삼 사용\n",
      "5.성장기 어린이를 생각한, 면역기능 아연과\n",
      "뼈형성 비타민D 추가\n",
      "------------------------------------------------------------\n",
      "\n",
      "마이니 면역케어 비타민C 1000\n",
      "\n",
      "제품특징\n",
      "\n",
      "주소 :  https://admin.ildong.com/upload/2021-08-17/162916774739121752.jpg\n",
      "1. 자연에서 수확한 옥수수로 만든 비타민c 원료\n",
      "2. 유해산소로부터 세포보호, 항산화 비타민C 1000mg\n",
      "3. 정상적인 면역기능, 아연 100%\n",
      "4. 활력에너지, 비타민B군 100%\n",
      "------------------------------------------------------------\n",
      "\n",
      "마이니 목앤 배도라지\n",
      "\n",
      "제품특징\n",
      "\n",
      "주소 :  https://admin.ildong.com/upload/2021-08-17/162916891329540779.jpg\n",
      "1. 우리 땅에서 자란 건강한 배도라지\n",
      "2. 진하고 풍부한 맛(모과, 무, 대추, 사과, 유자, 사양벌꿀)\n",
      "3. 포스트바이오틱스, 락토바실루스 플란타럼 사균체 10억 Cells\n",
      "4. 원재료에 집중한 3無 원칙(정제수, 향료, 착색료)\n",
      "------------------------------------------------------------\n",
      "\n",
      "마이니 비오틴 5000 μg\n",
      "\n",
      "제품특징\n",
      "\n",
      "주소 :  https://admin.ildong.com/upload/2019-09-04/156756801401172995.jpg\n",
      "현대인의 풍성한 행복\n",
      "프랑스산 프리미엄 비오틴\n",
      "------------------------------------------------------------\n",
      "\n",
      "마이니 비타민C 500\n",
      "\n",
      "제품특징\n",
      "\n",
      "주소 :  https://admin.ildong.com/upload/2020-01-31/158045575212836767.jpg\n",
      "영국산 프리미엄 비타민C\n",
      "맛있는 비타민C\n",
      "※본 제품은 질병의 예방 및 치료를 위한 의약품이 아니며 인체에 유용한 기능성을 가진 원료나 성분을 사용하여 제조·가공한 건강기능식품입니다.\n",
      "------------------------------------------------------------\n",
      "\n",
      "마이니 비타민C 정\n",
      "\n",
      "제품특징\n",
      "\n",
      "주소 :  https://admin.ildong.com/upload/2019-03-19/155296199579843490.jpg\n",
      "맛있는 비타민C, 내 몸의 필수 영양성분\n",
      "※본 제품은 질병의 예방 및 치료를 위한 의약품이 아니며 인체에 유용한 기능성을 가진 원료나 성분을 사용하여 제조·가공한 건강기능식품입니다.\n",
      "------------------------------------------------------------\n",
      "\n",
      "마이니 비타민D3 1000IU (P) 30포\n",
      "\n",
      "제품특징\n",
      "\n",
      "주소 :  https://admin.ildong.com/upload/2021-08-17/162916683461671536.jpg\n",
      "1. 활성이 높은 비타민D3 사용\n",
      "2. 스위스산 프리미엄 비타민D3, \n",
      "3. 뼈의 형성과 유지, 골다공증 발생 위험 감소에 도움이 되는 비타민D\n",
      "4. 새콤달콤 맛있는 파인애플과즙(보조원료) 함유\n",
      "5. 식이섬유 2종 보조원료 함유(난소화성말토덱스트린, 치커리뿌리추출물)\n",
      "------------------------------------------------------------\n",
      "\n",
      "마이니 비타민D3 5000IU\n",
      "\n",
      "제품특징\n",
      "\n",
      "주소 :  https://admin.ildong.com/upload/2019-09-04/156757220993256716.jpg\n",
      "뼈 건강을 지키는 건강한 습관\n",
      "------------------------------------------------------------\n",
      "\n",
      "마이니 센시라민큐\n",
      "\n",
      "제품특징\n",
      "\n",
      "주소 :  https://admin.ildong.com/upload/2019-11-20/157423162036345424.jpg\n",
      "혈행가선을 위한 프리미엄 성분들의 황금배합\n",
      "유해산소로부터 세포를 보호하는 비타민C·E와 항산화 미네랄 셀레늄\n",
      "하루 1정, 8가지 기능성으로 몸을 관리하세요!\n",
      "------------------------------------------------------------\n",
      "\n",
      "마이니 스트레스 피로케어\n",
      "\n",
      "제품특징\n",
      "\n",
      "주소 :  https://admin.ildong.com/upload/2021-08-13/162883191871822994.jpg\n",
      "1. 스트레스로 인한 피로개선에 도움을 줄 수 있는 홍경천추출물 함유\n",
      "2. 에너지대사와 에너지 생성에 필수적인 비타민 B군\n",
      "3. 비타민B1,B2, 나이아신,판토텐산, B6, 엽산,B12, 비오틴 함유\n",
      "------------------------------------------------------------\n",
      "\n"
     ]
    }
   ],
   "source": [
    "pages = range(2)\n",
    "img_lst = []\n",
    "for page in pages :\n",
    "    for cnt in range(len(ildong.find_elements(By.XPATH , '//*[@id=\"contents\"]/div[2]/div[2]/div[2]/div[1]/ul/li'))) :\n",
    "        # insert page\n",
    "        ildong.find_element(By.XPATH , f'//*[@id=\"contents\"]/div[2]/div[2]/div[2]/div[1]/ul/li[{cnt+1}]/a').click()\n",
    "        print(ildong.find_element(By.XPATH , '//*[@id=\"contents\"]/div[2]/div[2]/div[1]/div[2]/div[1]/h4/strong[2]').text)\n",
    "        print()\n",
    "        print(ildong.find_element(By.XPATH , '//*[@id=\"contents\"]/div[2]/div[2]/div[3]/div[1]/div[2]/p[1]').text)\n",
    "        print()\n",
    "        print('주소 : ' , ildong.find_element(By.XPATH , '//*[@id=\"contents\"]/div[2]/div[2]/div[1]/div[1]/div[1]/ul/li/a/img').get_attribute('src'))\n",
    "        img_lst.append(ildong.find_element(By.XPATH , '//*[@id=\"contents\"]/div[2]/div[2]/div[1]/div[1]/div[1]/ul/li/a/img').get_attribute('src'))\n",
    "        print(ildong.find_element(By.XPATH , '//*[@id=\"contents\"]/div[2]/div[2]/div[3]/div[1]/div[2]/p[3]').text)\n",
    "        print('-'*60)\n",
    "        print()\n",
    "\n",
    "        sleep(0.5)\n",
    "        # out page\n",
    "        ildong.back()\n",
    "    sleep(0.5)\n",
    "    ildong.find_element(By.XPATH , '//*[@id=\"contents\"]/div[2]/div[2]/div[2]/div[2]/a[3]').click()\n",
    "    sleep(0.5)\n",
    "    "
   ]
  },
  {
   "cell_type": "code",
   "execution_count": null,
   "id": "7c1eec1b",
   "metadata": {},
   "outputs": [],
   "source": [
    "# '제품 특징' \n",
    "//*[@id=\"contents\"]/div[2]/div[2]/div[3]/div[1]/div[2]/p[1]\n",
    "# 제품 특징\n",
    "//*[@id=\"contents\"]/div[2]/div[2]/div[3]/div[1]/div[2]/p[3]\n",
    "# 제품 이름\n",
    "//*[@id=\"contents\"]/div[2]/div[2]/div[1]/div[2]/div[1]/h4/strong[2]"
   ]
  },
  {
   "cell_type": "code",
   "execution_count": 184,
   "id": "b0e2920f",
   "metadata": {},
   "outputs": [
    {
     "name": "stdout",
     "output_type": "stream",
     "text": [
      "마이니 간에다밀크씨슬\n",
      "\n",
      "제품특징\n",
      "\n",
      "간건강에 도움을 주는 밀크씨슬\n",
      "지친 간을 위한 자연의 선물, 밀크씨슬\n",
      "※본 제품은 질병의 예방 및 치료를 위한 의약품이 아니며 인체에 유용한 기능성을 가진 원료나 성분을 사용하여 제조·가공한 건강기능식품입니다.\n"
     ]
    }
   ],
   "source": [
    "print(ildong.find_element(By.XPATH , '//*[@id=\"contents\"]/div[2]/div[2]/div[1]/div[2]/div[1]/h4/strong[2]').text)\n",
    "print()\n",
    "print(ildong.find_element(By.XPATH , '//*[@id=\"contents\"]/div[2]/div[2]/div[3]/div[1]/div[2]/p[1]').text)\n",
    "print()\n",
    "print(ildong.find_element(By.XPATH , '//*[@id=\"contents\"]/div[2]/div[2]/div[3]/div[1]/div[2]/p[3]').text)"
   ]
  },
  {
   "cell_type": "code",
   "execution_count": 222,
   "id": "755fb24e",
   "metadata": {
    "scrolled": true
   },
   "outputs": [
    {
     "data": {
      "text/plain": [
       "'https://admin.ildong.com/upload/2019-09-04/156756755331563417.jpg'"
      ]
     },
     "execution_count": 222,
     "metadata": {},
     "output_type": "execute_result"
    }
   ],
   "source": [
    "ildong.find_element(By.XPATH , '//*[@id=\"contents\"]/div[2]/div[2]/div[1]/div[1]/div[1]/ul/li/a/img').get_attribute('src')\n"
   ]
  },
  {
   "cell_type": "code",
   "execution_count": 221,
   "id": "724b8315",
   "metadata": {},
   "outputs": [
    {
     "data": {
      "text/plain": [
       "'https://admin.ildong.com/upload/2019-09-04/156756755331563417.jpg'"
      ]
     },
     "execution_count": 221,
     "metadata": {},
     "output_type": "execute_result"
    }
   ],
   "source": [
    "\n",
    "ildong.find_element(By.XPATH , '//*[@id=\"contents\"]/div[2]/div[2]/div[2]/div[1]/ul/li[1]/a/span[2]/img').get_attribute('src')"
   ]
  },
  {
   "cell_type": "code",
   "execution_count": 225,
   "id": "7f25308c",
   "metadata": {},
   "outputs": [],
   "source": [
    "# 이미지 저장\n"
   ]
  },
  {
   "cell_type": "code",
   "execution_count": 226,
   "id": "d3d7dc68",
   "metadata": {},
   "outputs": [
    {
     "data": {
      "text/plain": [
       "['https://admin.ildong.com/upload/2019-09-04/156756755331563417.jpg',\n",
       " 'https://admin.ildong.com/upload/2021-08-17/162916931626823885.jpg',\n",
       " 'https://admin.ildong.com/upload/2021-08-17/162916659627025400.jpg',\n",
       " 'https://admin.ildong.com/upload/2019-09-04/156756818958352846.jpg',\n",
       " 'https://admin.ildong.com/upload/2021-08-17/162916917645355836.jpg',\n",
       " 'https://admin.ildong.com/upload/2019-09-04/156756793750190527.jpg',\n",
       " 'https://admin.ildong.com/upload/2019-09-04/156756820492178308.jpg',\n",
       " 'https://admin.ildong.com/upload/2019-09-04/156756816835810348.jpg',\n",
       " 'https://admin.ildong.com/upload/2021-08-17/162916743320864253.jpg',\n",
       " 'https://admin.ildong.com/upload/2021-08-17/162916774739121752.jpg',\n",
       " 'https://admin.ildong.com/upload/2021-08-17/162916891329540779.jpg',\n",
       " 'https://admin.ildong.com/upload/2019-09-04/156756801401172995.jpg',\n",
       " 'https://admin.ildong.com/upload/2020-01-31/158045575212836767.jpg',\n",
       " 'https://admin.ildong.com/upload/2019-03-19/155296199579843490.jpg',\n",
       " 'https://admin.ildong.com/upload/2021-08-17/162916683461671536.jpg',\n",
       " 'https://admin.ildong.com/upload/2019-09-04/156757220993256716.jpg',\n",
       " 'https://admin.ildong.com/upload/2019-11-20/157423162036345424.jpg',\n",
       " 'https://admin.ildong.com/upload/2021-08-13/162883191871822994.jpg']"
      ]
     },
     "execution_count": 226,
     "metadata": {},
     "output_type": "execute_result"
    }
   ],
   "source": [
    "img_lst"
   ]
  },
  {
   "cell_type": "code",
   "execution_count": 228,
   "id": "7b930924",
   "metadata": {},
   "outputs": [
    {
     "name": "stdout",
     "output_type": "stream",
     "text": [
      "0 - https://admin.ildong.com/upload/2019-09-04/156756755331563417.jpg\n",
      "1 - https://admin.ildong.com/upload/2021-08-17/162916931626823885.jpg\n",
      "2 - https://admin.ildong.com/upload/2021-08-17/162916659627025400.jpg\n",
      "3 - https://admin.ildong.com/upload/2019-09-04/156756818958352846.jpg\n",
      "4 - https://admin.ildong.com/upload/2021-08-17/162916917645355836.jpg\n",
      "5 - https://admin.ildong.com/upload/2019-09-04/156756793750190527.jpg\n",
      "6 - https://admin.ildong.com/upload/2019-09-04/156756820492178308.jpg\n",
      "7 - https://admin.ildong.com/upload/2019-09-04/156756816835810348.jpg\n",
      "8 - https://admin.ildong.com/upload/2021-08-17/162916743320864253.jpg\n",
      "9 - https://admin.ildong.com/upload/2021-08-17/162916774739121752.jpg\n",
      "10 - https://admin.ildong.com/upload/2021-08-17/162916891329540779.jpg\n",
      "11 - https://admin.ildong.com/upload/2019-09-04/156756801401172995.jpg\n",
      "12 - https://admin.ildong.com/upload/2020-01-31/158045575212836767.jpg\n",
      "13 - https://admin.ildong.com/upload/2019-03-19/155296199579843490.jpg\n",
      "14 - https://admin.ildong.com/upload/2021-08-17/162916683461671536.jpg\n",
      "15 - https://admin.ildong.com/upload/2019-09-04/156757220993256716.jpg\n",
      "16 - https://admin.ildong.com/upload/2019-11-20/157423162036345424.jpg\n",
      "17 - https://admin.ildong.com/upload/2021-08-13/162883191871822994.jpg\n"
     ]
    }
   ],
   "source": [
    "\n",
    "import os\n",
    "\n",
    "img_folder = 'C:/Users/PiGiraffe0/Documents/SQL/Crawling/lidong_img'\n",
    "if not os.path.isdir(img_folder) :\n",
    "    os.mkdir(img_folder)\n",
    "    \n",
    "for idx, link in enumerate(img_lst) :\n",
    "    print(idx , '-' , link)\n",
    "    urlretrieve(link , f'{img_folder}/일동_{idx}.jpg')\n"
   ]
  }
 ],
 "metadata": {
  "kernelspec": {
   "display_name": "Python 3 (ipykernel)",
   "language": "python",
   "name": "python3"
  },
  "language_info": {
   "codemirror_mode": {
    "name": "ipython",
    "version": 3
   },
   "file_extension": ".py",
   "mimetype": "text/x-python",
   "name": "python",
   "nbconvert_exporter": "python",
   "pygments_lexer": "ipython3",
   "version": "3.9.13"
  }
 },
 "nbformat": 4,
 "nbformat_minor": 5
}
