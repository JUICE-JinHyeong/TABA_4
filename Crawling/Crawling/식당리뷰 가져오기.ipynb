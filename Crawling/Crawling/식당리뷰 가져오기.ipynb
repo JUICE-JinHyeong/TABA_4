{
 "cells": [
  {
   "cell_type": "code",
   "execution_count": 245,
   "id": "0d88cdd9",
   "metadata": {},
   "outputs": [],
   "source": [
    "from selenium.webdriver.chrome.service import Service\n",
    "from webdriver_manager.chrome import ChromeDriverManager\n",
    "from selenium import webdriver\n",
    "from selenium.webdriver.chrome.options import Options\n",
    "import subprocess\n",
    "import shutil\n",
    "from selenium.webdriver.common.by import By\n",
    "import pandas as pd\n",
    "import time\n",
    "\n",
    "from selenium.webdriver.support.ui import WebDriverWait\n",
    "from selenium.webdriver.support import expected_conditions as EC\n",
    "\n",
    "# 셀레니움 신버전 크롬 드라이버 패키지\n",
    "\n",
    "from selenium.webdriver.chrome.service import Service\n",
    "from webdriver_manager.chrome import ChromeDriverManager\n",
    "\n",
    "from selenium.webdriver.common.keys import Keys\n",
    "# 진행률\n",
    "from tqdm.notebook import tqdm\n",
    "import re\n",
    "import os"
   ]
  },
  {
   "cell_type": "code",
   "execution_count": 293,
   "id": "e12fb20a",
   "metadata": {},
   "outputs": [],
   "source": [
    "class Crawling_review() :\n",
    "    def __init__(self , dataframe) :\n",
    "        self.id_df = dataframe\n",
    "        columns = ['리뷰' , '리뷰이미지url' , '작성자프로필' , 'My플레이스' , '작성자이름' , '리뷰작성수'\n",
    "                  , '리뷰작성일' , '식당방문수' , '리뷰인증방식' , '식당id' , '사업장명']\n",
    "        self.rest_review_df = pd.DataFrame(columns=columns)\n",
    "        \n",
    "        \n",
    "    def find_img_url(self , rest_img) :\n",
    "        rest_img_urls = []\n",
    "        for stylejs_parent in rest_img :\n",
    "            stylejs = stylejs_parent.find_element(by = By.CSS_SELECTOR , value = 'a > .K0PDV._img.fKa0W')\n",
    "            #print('stylejs = ' , stylejs)\n",
    "            url_test_data = stylejs.get_attribute('style')\n",
    "            #print('data = ' , url_test_data)\n",
    "            url_find_num = url_test_data.find('url(\"')\n",
    "\n",
    "            if 'jpg' in url_test_data :\n",
    "                url_find_num_end = url_test_data.find('jpg')\n",
    "            elif 'jpe' in url_test_data :\n",
    "                url_find_num_end = url_test_data.find('peg')\n",
    "            else :\n",
    "                url_find_num_end = url_test_data.find('.\")')\n",
    "\n",
    "            rest_img_url = url_test_data[url_find_num + 5 : url_find_num_end+3]\n",
    "\n",
    "            if rest_img_url != '' :\n",
    "                rest_img_urls.append(rest_img_url)\n",
    "\n",
    "        return rest_img_urls\n",
    "    \n",
    "    def naver_rest_review(self , rest_name , rest_id) :    \n",
    "\n",
    "        name = rest_name\n",
    "        id_num = rest_id\n",
    "\n",
    "        # Chrome headless 설정\n",
    "        options = Options()\n",
    "        # options.add_argument('--headless')\n",
    "\n",
    "        # 드라이버 생성\n",
    "        driver = webdriver.Chrome(service=Service(ChromeDriverManager().install()), options=options)\n",
    "\n",
    "        # name = '고기다 성산흑돼지'\n",
    "        # 리뷰 페이지 열기\n",
    "        print(f'현재 크롤링이 진행중인 검색어 : {name}')\n",
    "\n",
    "        url = f\"https://map.naver.com/v5/search/{name}/place/{id_num}\"\n",
    "\n",
    "        driver.get(url)\n",
    "        wait = WebDriverWait(driver, 5)\n",
    "        iframe = wait.until(EC.presence_of_element_located((By.ID, \"entryIframe\")))\n",
    "        driver.switch_to.frame(iframe)\n",
    "\n",
    "        # 리뷰 클릭\n",
    "        # veBoZ class tag에 해당하는 요소가 존재하는지 확인\n",
    "        try :\n",
    "            wait.until(EC.presence_of_element_located((By.CLASS_NAME, \"veBoZ\")))\n",
    "            category = driver.find_elements(by = By.CLASS_NAME , value = 'veBoZ')\n",
    "            tlst = [c.text for c in category]\n",
    "            if '리뷰' not in tlst :\n",
    "                \n",
    "                df = pd.DataFrame(\n",
    "                    {'리뷰' : None \n",
    "                     , '리뷰이미지url' : None  \n",
    "                     , '작성자프로필' : None \n",
    "                     , 'My플레이스' : None \n",
    "                     , '작성자이름' : None  \n",
    "                     , '리뷰작성수' : None \n",
    "                     , '리뷰작성일' : None \n",
    "                     , '식당방문수' : None \n",
    "                     , '리뷰인증방식' : None \n",
    "                    } , index=[0])\n",
    "                df['식당id'] = rest_id\n",
    "                df['사업장명'] = rest_name\n",
    "                \n",
    "                return df\n",
    "            else :\n",
    "                for num , tag in enumerate(category) :\n",
    "                    # print(tag.text)\n",
    "                    if tag.text == '리뷰' :\n",
    "                        driver.find_elements(by = By.CLASS_NAME\n",
    "                                            , value = 'veBoZ')[num].click()\n",
    "        except :\n",
    "            pass\n",
    "\n",
    "        # 최신순 클릭\n",
    "        # mSdTM class tag가 선택 가능한지 확인\n",
    "\n",
    "        try :\n",
    "            time.sleep(1.5)\n",
    "            wait.until(EC.presence_of_element_located((By.CLASS_NAME, \"mSdTM\")))\n",
    "            # wait.until(EC.element_to_be_clickable((By.CLASS_NAME , \"mSdTM\")))\n",
    "            driver.find_elements(by = By.CLASS_NAME , value = \"mSdTM\")[1].click()\n",
    "        except :\n",
    "            pass\n",
    "\n",
    "\n",
    "        # 리뷰 전체 펼치기\n",
    "        try :\n",
    "            wait.until(EC.presence_of_all_elements_located((By.CLASS_NAME , \"fvwqf\")))\n",
    "            click = driver.find_element(by = By.CLASS_NAME , value = 'fvwqf')\n",
    "\n",
    "            while click is not None:\n",
    "                try :\n",
    "                    click.click()  \n",
    "                except :\n",
    "                    break\n",
    "        except :\n",
    "            print('펼칠 리뷰가 없다.')\n",
    "            pass\n",
    "\n",
    "        # driver 객체를 사용하여 body 태그를 찾고, Keys.HOME을 사용하여 스크롤을 맨 위로 이동합니다.\n",
    "        # fvwqf class tag가 보이지 않으면 진행합니다.\n",
    "        try :\n",
    "            wait.until(EC.invisibility_of_element_located((By.CLASS_NAME , \"fvwqf\")))\n",
    "        except :\n",
    "            pass\n",
    "        body = driver.find_element(by = By.TAG_NAME , value = 'body')\n",
    "        body.send_keys(Keys.HOME)\n",
    "        time.sleep(0.4)\n",
    "        review_click = driver.find_elements(by = By.CLASS_NAME , value = 'rvCSr')\n",
    "        if len(review_click) != 0 :\n",
    "            for address in tqdm(review_click) :\n",
    "                address.click()\n",
    "                time.sleep(0.2)\n",
    "        else :\n",
    "            pass\n",
    "\n",
    "        # 리뷰 가져오기\n",
    "        # 현재는 리뷰만 가져오지만 가져올 데이터를 어떤 것을 정하느냐에 따라 더 많은 정보를 가져올 수도 있다.\n",
    "\n",
    "        # 리뷰의 여러 정보들을 담을 변수 선언\n",
    "        \n",
    "        review_text = []\n",
    "        review_image = []\n",
    "        review_profile = []\n",
    "        review_myplace = []\n",
    "        review_nickname = []\n",
    "        review_information = []\n",
    "        review_date = []\n",
    "        review_visit_count = []\n",
    "        review_check = []\n",
    "\n",
    "        review_all = driver.find_elements(by=By.CLASS_NAME , value = 'YeINN')\n",
    "        \n",
    "        # 리뷰가 1개 보다 많을 때만 수집\n",
    "        # 데어프레임 생성시 스칼라로 생성되어 귀찮기 떄문\n",
    "        \n",
    "        if len(review_all) > 1 :\n",
    "            for review_once in tqdm(review_all , '리뷰수집중') :\n",
    "                \n",
    "                # 리뷰 텍스트 \n",
    "                        \n",
    "                rest_txt_case01 = review_once.find_elements(by=By.CLASS_NAME , value = 'ZZ4OK.IwhtZ > a > .zPfVt')\n",
    "                rest_txt_case02 = review_once.find_elements(by=By.CLASS_NAME , value = 'ZZ4OK > a > .zPfVt')\n",
    "                               \n",
    "                \n",
    "                if len(rest_txt_case01) != 0 :\n",
    "                    review_text.append(rest_txt_case01[0].text)\n",
    "                elif len(rest_txt_case02) != 0 :\n",
    "                    review_text.append(rest_txt_case02[0].text)\n",
    "                else :\n",
    "                    review_text.append('')\n",
    "                    pass\n",
    "                \n",
    "                # 작성자 첨부 이미지\n",
    "                \n",
    "                rest_img_case01 = review_once.find_elements(by=By.CLASS_NAME , \n",
    "                              value = 'Mmpzx > .ngGKH > .flicking-viewport > .flicking-camera > .ODalI')\n",
    "                rest_img_case02 = review_once.find_elements(by=By.CLASS_NAME , \n",
    "                              value = 'Mmpzx.jQTnr > .ngGKH > .flicking-viewport > .flicking-camera > .ODalI')\n",
    "                \n",
    "                \n",
    "                if len(rest_img_case01) != 0 :\n",
    "                    RIU = self.find_img_url(rest_img_case01)\n",
    "                    review_image.append(RIU)\n",
    "                elif len(rest_img_case02) != 0 :\n",
    "                    RIU = self.find_img_url(rest_img_case02)\n",
    "                    review_image.append(RIU)\n",
    "                else :\n",
    "                    review_image.append('') \n",
    "                \n",
    "                \n",
    "                # 작성자 프로필 사진\n",
    "                try :\n",
    "                    profile = review_once.find_element(by=By.CLASS_NAME , value ='DqSJm > .place_thumb > img')\n",
    "                    review_profile.append(profile.get_attribute('src'))\n",
    "                except :\n",
    "                    review_profile.append('https://g-place.pstatic.net/assets/shared/images/icon_default_profile.png')\n",
    "\n",
    "                # 작성자 MY플레이스\n",
    "                try :\n",
    "                    my_place = review_once.find_element(by=By.CLASS_NAME , value ='Hazns')\n",
    "                    review_myplace.append(my_place.get_attribute('href'))\n",
    "                except :\n",
    "                    review_myplace.append('')\n",
    "\n",
    "                # 작성자 닉네임\n",
    "                try :\n",
    "                    nickname = review_once.find_element(by=By.CLASS_NAME , value ='Hazns > .sBWyy')\n",
    "                    review_nickname.append(nickname.text)\n",
    "                except :\n",
    "                    review_nickname.append('')\n",
    "\n",
    "                # 작성자 리뷰 사진 팔로워 수\n",
    "                reviewer_info = review_once.find_elements(by=By.CLASS_NAME , value ='Hazns > .Qde7Q > .P1zUJ')\n",
    "                reviewer_info_text_lst = []\n",
    "\n",
    "                if len(reviewer_info) != 0 :\n",
    "                    for reviewer_info_text in reviewer_info :\n",
    "                            #print(reviewer_info_text.text)\n",
    "                            reviewer_info_text_lst.append(reviewer_info_text.text)\n",
    "                else : \n",
    "                    pass\n",
    "                \n",
    "                review_information.append(reviewer_info_text_lst)\n",
    "                \n",
    "                \n",
    "                \n",
    "                # 오래된 리뷰에는 별점이 달려있어 구분해주어야한다.\n",
    "                sb8UA_tag = review_once.find_elements(by=By.CLASS_NAME , value='sb8UA > span')\n",
    "                \n",
    "                if len(sb8UA_tag) == 3 :\n",
    "\n",
    "                    # 작성일자\n",
    "                    date = review_once.find_elements(by=By.CLASS_NAME , value ='sb8UA > .P1zUJ > .place_blind')\n",
    "                    review_date.append(date[1].text)\n",
    "\n",
    "                    # 방문 횟수\n",
    "                    visit_count = review_once.find_elements(by=By.CLASS_NAME , value ='sb8UA > .P1zUJ')\n",
    "                    review_visit_count.append(visit_count[1].text)\n",
    "\n",
    "                    # 리뷰 확인 방식\n",
    "                    check = review_once.find_elements(by=By.CLASS_NAME , value = 'sb8UA > .P1zUJ')\n",
    "                    review_check.append(check[2].text)\n",
    "                \n",
    "                else :\n",
    "                    try :\n",
    "                        # 작성일자\n",
    "                        date = review_once.find_elements(by=By.CLASS_NAME , value ='sb8UA > .P1zUJ > .place_blind')\n",
    "                        review_date.append(date[2].text)\n",
    "\n",
    "                        # 방문 횟수\n",
    "                        visit_count = review_once.find_elements(by=By.CLASS_NAME , value ='sb8UA > .P1zUJ')\n",
    "                        review_visit_count.append(visit_count[2].text)\n",
    "\n",
    "                        # 리뷰 확인 방식\n",
    "                        check = review_once.find_elements(by=By.CLASS_NAME , value = 'sb8UA > span')\n",
    "                        review_check.append(check[3].text)\n",
    "                    except :\n",
    "                        review_date.append('')\n",
    "                        review_visit_count.append('')\n",
    "                        review_check.append('')\n",
    "                \n",
    "            \n",
    "            df = pd.DataFrame(\n",
    "                {'리뷰' : review_text \n",
    "                 , '리뷰이미지url' : review_image \n",
    "                 , '작성자프로필' : review_profile\n",
    "                 , 'My플레이스' : review_myplace\n",
    "                 , '작성자이름' : review_nickname \n",
    "                 , '리뷰작성수' : review_information\n",
    "                 , '리뷰작성일' : review_date\n",
    "                 , '식당방문수' : review_visit_count\n",
    "                 , '리뷰인증방식' : review_check\n",
    "                })\n",
    "            df['식당id'] = rest_id\n",
    "            df['사업장명'] = rest_name\n",
    "            \n",
    "        else :\n",
    "            df = pd.DataFrame(\n",
    "                {'리뷰' : None \n",
    "                 , '리뷰이미지url' : None  \n",
    "                 , '작성자프로필' : None \n",
    "                 , 'My플레이스' : None \n",
    "                 , '작성자이름' : None  \n",
    "                 , '리뷰작성수' : None \n",
    "                 , '리뷰작성일' : None \n",
    "                 , '식당방문수' : None \n",
    "                 , '리뷰인증방식' : None \n",
    "                } , index=[0])\n",
    "            df['식당id'] = rest_id\n",
    "            df['사업장명'] = rest_name\n",
    "        \n",
    "        driver.quit()\n",
    "        \n",
    "        self.rest_review_df = df\n",
    "        return df\n",
    "        \n",
    "        \n",
    "    def crawling_review_loop(self) :\n",
    "        count = 1\n",
    "        main_frm = self.id_df\n",
    "        concat_frm = self.rest_review_df\n",
    "        rest_name_lst = main_frm.사업장명.tolist()\n",
    "        rest_id_lst = main_frm.식당id.tolist()\n",
    "\n",
    "        region_01 = self.id_df.시도.iloc[0]\n",
    "        region_02 = self.id_df.시군구.iloc[0]\n",
    "        region_03 = self.id_df.읍면동.iloc[0]\n",
    "\n",
    "        if not os.path.exists(f'{region_01}') :\n",
    "            os.makedirs(f'{region_01}') \n",
    "        else :\n",
    "            pass\n",
    "        if not os.path.exists(f'{region_01}/{region_02}') :\n",
    "            os.makedirs(f'{region_01}/{region_02}') \n",
    "        else :\n",
    "            pass\n",
    "        if not os.path.exists(f'{region_01}/{region_02}/{region_03}') :\n",
    "            os.makedirs(f'{region_01}/{region_02}/{region_03}') \n",
    "        else :\n",
    "            pass\n",
    "        if not os.path.exists(f'{region_01}/{region_02}/식당정보') :\n",
    "            os.makedirs(f'{region_01}/{region_02}/식당정보') \n",
    "        else :\n",
    "            pass\n",
    "        \n",
    "        print('시작')\n",
    "        print('-'*60)\n",
    "        for rest_name , rest_id in zip(rest_name_lst , rest_id_lst) :\n",
    "            print(count)\n",
    "            print('현재 : ' , rest_name)\n",
    "\n",
    "            rest_df = self.naver_rest_review(rest_name , rest_id)\n",
    "            rest_df.to_excel(f'{region_01}/{region_02}/{region_03}/{rest_name}_review.xlsx' \n",
    "                             , index=False)\n",
    "\n",
    "            concat_frm = pd.concat([concat_frm , rest_df] , axis = 0)\n",
    "\n",
    "            count+=1\n",
    "            print()\n",
    "        print('-'*60)\n",
    "        print('종료')\n",
    "        \n",
    "        result_frm = concat_frm.reset_index(drop=True)\n",
    "        result_frm.to_excel(f'{region_01}/{region_02}/식당정보/{region_01}_{region_02}_{region_03}_{rest_name}_all_review.xlsx' \n",
    "                             , index=False)\n",
    "        return result_frm"
   ]
  },
  {
   "cell_type": "code",
   "execution_count": 286,
   "id": "6453ed6c",
   "metadata": {},
   "outputs": [],
   "source": [
    "data = pd.read_csv('제주특별자치도/제주시/식당정보/제주특별자치도_제주시_연동_식당id.csv' , encoding='euc-kr')"
   ]
  },
  {
   "cell_type": "code",
   "execution_count": 289,
   "id": "0dab86b1",
   "metadata": {
    "collapsed": true,
    "jupyter": {
     "outputs_hidden": true
    }
   },
   "outputs": [
    {
     "data": {
      "text/html": [
       "<div>\n",
       "<style scoped>\n",
       "    .dataframe tbody tr th:only-of-type {\n",
       "        vertical-align: middle;\n",
       "    }\n",
       "\n",
       "    .dataframe tbody tr th {\n",
       "        vertical-align: top;\n",
       "    }\n",
       "\n",
       "    .dataframe thead th {\n",
       "        text-align: right;\n",
       "    }\n",
       "</style>\n",
       "<table border=\"1\" class=\"dataframe\">\n",
       "  <thead>\n",
       "    <tr style=\"text-align: right;\">\n",
       "      <th></th>\n",
       "      <th>사업장명</th>\n",
       "      <th>식당id</th>\n",
       "      <th>업종구분소분류</th>\n",
       "      <th>상세영업상태명</th>\n",
       "      <th>소재지전체주소</th>\n",
       "      <th>도로명전체주소</th>\n",
       "      <th>도로명우편번호</th>\n",
       "      <th>시도</th>\n",
       "      <th>시도_시군구</th>\n",
       "      <th>시군구</th>\n",
       "      <th>시도_시군구_읍면동</th>\n",
       "      <th>읍면동</th>\n",
       "      <th>시도코드</th>\n",
       "      <th>시군구코드</th>\n",
       "      <th>읍면동코드</th>\n",
       "    </tr>\n",
       "  </thead>\n",
       "  <tbody>\n",
       "    <tr>\n",
       "      <th>0</th>\n",
       "      <td>봉플라봉뱅</td>\n",
       "      <td>1713847517</td>\n",
       "      <td>기타</td>\n",
       "      <td>영업</td>\n",
       "      <td>제주특별자치도 제주시 연동 312-57번지 정인하우스</td>\n",
       "      <td>제주특별자치도 제주시 문송1길 6-1, 정인하우스 1층 (연동)</td>\n",
       "      <td>63122.0</td>\n",
       "      <td>제주특별자치도</td>\n",
       "      <td>제주특별자치도 제주시</td>\n",
       "      <td>제주시</td>\n",
       "      <td>제주특별자치도 제주시 연동</td>\n",
       "      <td>연동</td>\n",
       "      <td>5000000000</td>\n",
       "      <td>5011000000</td>\n",
       "      <td>5011013700</td>\n",
       "    </tr>\n",
       "    <tr>\n",
       "      <th>1</th>\n",
       "      <td>스톤아일랜드탭하우스</td>\n",
       "      <td>1244422132</td>\n",
       "      <td>기타</td>\n",
       "      <td>영업</td>\n",
       "      <td>제주특별자치도 제주시 연동 280-37</td>\n",
       "      <td>제주특별자치도 제주시 삼무로7길 16, 1층 (연동)</td>\n",
       "      <td>63118.0</td>\n",
       "      <td>제주특별자치도</td>\n",
       "      <td>제주특별자치도 제주시</td>\n",
       "      <td>제주시</td>\n",
       "      <td>제주특별자치도 제주시 연동</td>\n",
       "      <td>연동</td>\n",
       "      <td>5000000000</td>\n",
       "      <td>5011000000</td>\n",
       "      <td>5011013700</td>\n",
       "    </tr>\n",
       "    <tr>\n",
       "      <th>2</th>\n",
       "      <td>연화양꼬치</td>\n",
       "      <td>1482063535</td>\n",
       "      <td>중국식</td>\n",
       "      <td>영업</td>\n",
       "      <td>제주특별자치도 제주시 연동 276-3</td>\n",
       "      <td>제주특별자치도 제주시 연동8길 28, 1층 105,106호 (연동)</td>\n",
       "      <td>63136.0</td>\n",
       "      <td>제주특별자치도</td>\n",
       "      <td>제주특별자치도 제주시</td>\n",
       "      <td>제주시</td>\n",
       "      <td>제주특별자치도 제주시 연동</td>\n",
       "      <td>연동</td>\n",
       "      <td>5000000000</td>\n",
       "      <td>5011000000</td>\n",
       "      <td>5011013700</td>\n",
       "    </tr>\n",
       "    <tr>\n",
       "      <th>3</th>\n",
       "      <td>24시누름돌김치찌개</td>\n",
       "      <td>1028483996</td>\n",
       "      <td>기타</td>\n",
       "      <td>영업</td>\n",
       "      <td>제주특별자치도 제주시 연동 304-3</td>\n",
       "      <td>제주특별자치도 제주시 노연로 146, 1층 (연동)</td>\n",
       "      <td>63133.0</td>\n",
       "      <td>제주특별자치도</td>\n",
       "      <td>제주특별자치도 제주시</td>\n",
       "      <td>제주시</td>\n",
       "      <td>제주특별자치도 제주시 연동</td>\n",
       "      <td>연동</td>\n",
       "      <td>5000000000</td>\n",
       "      <td>5011000000</td>\n",
       "      <td>5011013700</td>\n",
       "    </tr>\n",
       "    <tr>\n",
       "      <th>4</th>\n",
       "      <td>영화루</td>\n",
       "      <td>1109507832</td>\n",
       "      <td>중국식</td>\n",
       "      <td>영업</td>\n",
       "      <td>제주특별자치도 제주시 연동 304-37</td>\n",
       "      <td>제주특별자치도 제주시 사장길 15-1, 1층 (연동)</td>\n",
       "      <td>63133.0</td>\n",
       "      <td>제주특별자치도</td>\n",
       "      <td>제주특별자치도 제주시</td>\n",
       "      <td>제주시</td>\n",
       "      <td>제주특별자치도 제주시 연동</td>\n",
       "      <td>연동</td>\n",
       "      <td>5000000000</td>\n",
       "      <td>5011000000</td>\n",
       "      <td>5011013700</td>\n",
       "    </tr>\n",
       "    <tr>\n",
       "      <th>...</th>\n",
       "      <td>...</td>\n",
       "      <td>...</td>\n",
       "      <td>...</td>\n",
       "      <td>...</td>\n",
       "      <td>...</td>\n",
       "      <td>...</td>\n",
       "      <td>...</td>\n",
       "      <td>...</td>\n",
       "      <td>...</td>\n",
       "      <td>...</td>\n",
       "      <td>...</td>\n",
       "      <td>...</td>\n",
       "      <td>...</td>\n",
       "      <td>...</td>\n",
       "      <td>...</td>\n",
       "    </tr>\n",
       "    <tr>\n",
       "      <th>963</th>\n",
       "      <td>크라우드피씨방제주삼무점</td>\n",
       "      <td>1318887932</td>\n",
       "      <td>기타 휴게음식점</td>\n",
       "      <td>영업</td>\n",
       "      <td>제주특별자치도 제주시 연동 260-15</td>\n",
       "      <td>제주특별자치도 제주시 신광로 16, 1층 101호 (연동)</td>\n",
       "      <td>63125.0</td>\n",
       "      <td>제주특별자치도</td>\n",
       "      <td>제주특별자치도 제주시</td>\n",
       "      <td>제주시</td>\n",
       "      <td>제주특별자치도 제주시 연동</td>\n",
       "      <td>연동</td>\n",
       "      <td>5000000000</td>\n",
       "      <td>5011000000</td>\n",
       "      <td>5011013700</td>\n",
       "    </tr>\n",
       "    <tr>\n",
       "      <th>964</th>\n",
       "      <td>만가복</td>\n",
       "      <td>1880272443</td>\n",
       "      <td>일반조리판매</td>\n",
       "      <td>영업</td>\n",
       "      <td>제주특별자치도 제주시 연동 252-13</td>\n",
       "      <td>제주특별자치도 제주시 연동1길 35, 1층 (연동)</td>\n",
       "      <td>63131.0</td>\n",
       "      <td>제주특별자치도</td>\n",
       "      <td>제주특별자치도 제주시</td>\n",
       "      <td>제주시</td>\n",
       "      <td>제주특별자치도 제주시 연동</td>\n",
       "      <td>연동</td>\n",
       "      <td>5000000000</td>\n",
       "      <td>5011000000</td>\n",
       "      <td>5011013700</td>\n",
       "    </tr>\n",
       "    <tr>\n",
       "      <th>965</th>\n",
       "      <td>토라네코제주본점</td>\n",
       "      <td>1778945379</td>\n",
       "      <td>일반조리판매</td>\n",
       "      <td>영업</td>\n",
       "      <td>제주특별자치도 제주시 연동 300-3 남해오네뜨</td>\n",
       "      <td>제주특별자치도 제주시 삼무로11길 9, 1층 103호 (연동, 남해오네뜨)</td>\n",
       "      <td>63118.0</td>\n",
       "      <td>제주특별자치도</td>\n",
       "      <td>제주특별자치도 제주시</td>\n",
       "      <td>제주시</td>\n",
       "      <td>제주특별자치도 제주시 연동</td>\n",
       "      <td>연동</td>\n",
       "      <td>5000000000</td>\n",
       "      <td>5011000000</td>\n",
       "      <td>5011013700</td>\n",
       "    </tr>\n",
       "    <tr>\n",
       "      <th>966</th>\n",
       "      <td>귀아랑2길베이커리카페</td>\n",
       "      <td>1887309829</td>\n",
       "      <td>커피숍</td>\n",
       "      <td>영업</td>\n",
       "      <td>제주특별자치도 제주시 연동 311-25</td>\n",
       "      <td>제주특별자치도 제주시 귀아랑2길 8, 1층 (연동)</td>\n",
       "      <td>63119.0</td>\n",
       "      <td>제주특별자치도</td>\n",
       "      <td>제주특별자치도 제주시</td>\n",
       "      <td>제주시</td>\n",
       "      <td>제주특별자치도 제주시 연동</td>\n",
       "      <td>연동</td>\n",
       "      <td>5000000000</td>\n",
       "      <td>5011000000</td>\n",
       "      <td>5011013700</td>\n",
       "    </tr>\n",
       "    <tr>\n",
       "      <th>967</th>\n",
       "      <td>카페노연로117</td>\n",
       "      <td>1971746359</td>\n",
       "      <td>커피숍</td>\n",
       "      <td>영업</td>\n",
       "      <td>제주특별자치도 제주시 연동 283-24 연동빌딩</td>\n",
       "      <td>제주특별자치도 제주시 노연로 117, 연동빌딩 1층 (연동)</td>\n",
       "      <td>63123.0</td>\n",
       "      <td>제주특별자치도</td>\n",
       "      <td>제주특별자치도 제주시</td>\n",
       "      <td>제주시</td>\n",
       "      <td>제주특별자치도 제주시 연동</td>\n",
       "      <td>연동</td>\n",
       "      <td>5000000000</td>\n",
       "      <td>5011000000</td>\n",
       "      <td>5011013700</td>\n",
       "    </tr>\n",
       "  </tbody>\n",
       "</table>\n",
       "<p>968 rows × 15 columns</p>\n",
       "</div>"
      ],
      "text/plain": [
       "             사업장명        식당id   업종구분소분류 상세영업상태명  \\\n",
       "0           봉플라봉뱅  1713847517        기타      영업   \n",
       "1      스톤아일랜드탭하우스  1244422132        기타      영업   \n",
       "2           연화양꼬치  1482063535       중국식      영업   \n",
       "3      24시누름돌김치찌개  1028483996        기타      영업   \n",
       "4             영화루  1109507832       중국식      영업   \n",
       "..            ...         ...       ...     ...   \n",
       "963  크라우드피씨방제주삼무점  1318887932  기타 휴게음식점      영업   \n",
       "964           만가복  1880272443    일반조리판매      영업   \n",
       "965      토라네코제주본점  1778945379    일반조리판매      영업   \n",
       "966   귀아랑2길베이커리카페  1887309829       커피숍      영업   \n",
       "967      카페노연로117  1971746359       커피숍      영업   \n",
       "\n",
       "                           소재지전체주소                                    도로명전체주소  \\\n",
       "0    제주특별자치도 제주시 연동 312-57번지 정인하우스        제주특별자치도 제주시 문송1길 6-1, 정인하우스 1층 (연동)   \n",
       "1            제주특별자치도 제주시 연동 280-37              제주특별자치도 제주시 삼무로7길 16, 1층 (연동)   \n",
       "2             제주특별자치도 제주시 연동 276-3      제주특별자치도 제주시 연동8길 28, 1층 105,106호 (연동)   \n",
       "3             제주특별자치도 제주시 연동 304-3               제주특별자치도 제주시 노연로 146, 1층 (연동)   \n",
       "4            제주특별자치도 제주시 연동 304-37              제주특별자치도 제주시 사장길 15-1, 1층 (연동)   \n",
       "..                             ...                                        ...   \n",
       "963          제주특별자치도 제주시 연동 260-15           제주특별자치도 제주시 신광로 16, 1층 101호 (연동)   \n",
       "964          제주특별자치도 제주시 연동 252-13               제주특별자치도 제주시 연동1길 35, 1층 (연동)   \n",
       "965     제주특별자치도 제주시 연동 300-3 남해오네뜨  제주특별자치도 제주시 삼무로11길 9, 1층 103호 (연동, 남해오네뜨)   \n",
       "966          제주특별자치도 제주시 연동 311-25               제주특별자치도 제주시 귀아랑2길 8, 1층 (연동)   \n",
       "967     제주특별자치도 제주시 연동 283-24 연동빌딩          제주특별자치도 제주시 노연로 117, 연동빌딩 1층 (연동)   \n",
       "\n",
       "     도로명우편번호       시도       시도_시군구  시군구      시도_시군구_읍면동 읍면동        시도코드  \\\n",
       "0    63122.0  제주특별자치도  제주특별자치도 제주시  제주시  제주특별자치도 제주시 연동  연동  5000000000   \n",
       "1    63118.0  제주특별자치도  제주특별자치도 제주시  제주시  제주특별자치도 제주시 연동  연동  5000000000   \n",
       "2    63136.0  제주특별자치도  제주특별자치도 제주시  제주시  제주특별자치도 제주시 연동  연동  5000000000   \n",
       "3    63133.0  제주특별자치도  제주특별자치도 제주시  제주시  제주특별자치도 제주시 연동  연동  5000000000   \n",
       "4    63133.0  제주특별자치도  제주특별자치도 제주시  제주시  제주특별자치도 제주시 연동  연동  5000000000   \n",
       "..       ...      ...          ...  ...             ...  ..         ...   \n",
       "963  63125.0  제주특별자치도  제주특별자치도 제주시  제주시  제주특별자치도 제주시 연동  연동  5000000000   \n",
       "964  63131.0  제주특별자치도  제주특별자치도 제주시  제주시  제주특별자치도 제주시 연동  연동  5000000000   \n",
       "965  63118.0  제주특별자치도  제주특별자치도 제주시  제주시  제주특별자치도 제주시 연동  연동  5000000000   \n",
       "966  63119.0  제주특별자치도  제주특별자치도 제주시  제주시  제주특별자치도 제주시 연동  연동  5000000000   \n",
       "967  63123.0  제주특별자치도  제주특별자치도 제주시  제주시  제주특별자치도 제주시 연동  연동  5000000000   \n",
       "\n",
       "          시군구코드       읍면동코드  \n",
       "0    5011000000  5011013700  \n",
       "1    5011000000  5011013700  \n",
       "2    5011000000  5011013700  \n",
       "3    5011000000  5011013700  \n",
       "4    5011000000  5011013700  \n",
       "..          ...         ...  \n",
       "963  5011000000  5011013700  \n",
       "964  5011000000  5011013700  \n",
       "965  5011000000  5011013700  \n",
       "966  5011000000  5011013700  \n",
       "967  5011000000  5011013700  \n",
       "\n",
       "[968 rows x 15 columns]"
      ]
     },
     "execution_count": 289,
     "metadata": {},
     "output_type": "execute_result"
    }
   ],
   "source": [
    "data"
   ]
  },
  {
   "cell_type": "code",
   "execution_count": 269,
   "id": "546ef4e8",
   "metadata": {},
   "outputs": [],
   "source": [
    "test = Crawling_review(data[:5])"
   ]
  },
  {
   "cell_type": "code",
   "execution_count": 270,
   "id": "0d167753",
   "metadata": {
    "collapsed": true,
    "jupyter": {
     "outputs_hidden": true
    }
   },
   "outputs": [
    {
     "name": "stdout",
     "output_type": "stream",
     "text": [
      "시작\n",
      "------------------------------------------------------------\n",
      "1\n",
      "현재 :  봉플라봉뱅\n",
      "현재 크롤링이 진행중인 검색어 : 봉플라봉뱅\n"
     ]
    },
    {
     "data": {
      "application/vnd.jupyter.widget-view+json": {
       "model_id": "dbf8d60fa623492d89ba525b2c1426cb",
       "version_major": 2,
       "version_minor": 0
      },
      "text/plain": [
       "  0%|          | 0/79 [00:00<?, ?it/s]"
      ]
     },
     "metadata": {},
     "output_type": "display_data"
    },
    {
     "data": {
      "application/vnd.jupyter.widget-view+json": {
       "model_id": "77c3e79206a64a638daa16481ccdade1",
       "version_major": 2,
       "version_minor": 0
      },
      "text/plain": [
       "리뷰수집중:   0%|          | 0/262 [00:00<?, ?it/s]"
      ]
     },
     "metadata": {},
     "output_type": "display_data"
    },
    {
     "name": "stdout",
     "output_type": "stream",
     "text": [
      "\n",
      "2\n",
      "현재 :  스톤아일랜드탭하우스\n",
      "현재 크롤링이 진행중인 검색어 : 스톤아일랜드탭하우스\n"
     ]
    },
    {
     "data": {
      "application/vnd.jupyter.widget-view+json": {
       "model_id": "353dc389a4e1475e9c9375fb4a1201c5",
       "version_major": 2,
       "version_minor": 0
      },
      "text/plain": [
       "  0%|          | 0/21 [00:00<?, ?it/s]"
      ]
     },
     "metadata": {},
     "output_type": "display_data"
    },
    {
     "data": {
      "application/vnd.jupyter.widget-view+json": {
       "model_id": "697c959d53b24f5b83b0df0f4548eb12",
       "version_major": 2,
       "version_minor": 0
      },
      "text/plain": [
       "리뷰수집중:   0%|          | 0/122 [00:00<?, ?it/s]"
      ]
     },
     "metadata": {},
     "output_type": "display_data"
    },
    {
     "name": "stdout",
     "output_type": "stream",
     "text": [
      "\n",
      "3\n",
      "현재 :  연화양꼬치\n",
      "현재 크롤링이 진행중인 검색어 : 연화양꼬치\n"
     ]
    },
    {
     "data": {
      "application/vnd.jupyter.widget-view+json": {
       "model_id": "63aa51ec792344db9dfe014f2a65a1b8",
       "version_major": 2,
       "version_minor": 0
      },
      "text/plain": [
       "  0%|          | 0/5 [00:00<?, ?it/s]"
      ]
     },
     "metadata": {},
     "output_type": "display_data"
    },
    {
     "data": {
      "application/vnd.jupyter.widget-view+json": {
       "model_id": "4b10a712b4d744108458272c537fdbbc",
       "version_major": 2,
       "version_minor": 0
      },
      "text/plain": [
       "리뷰수집중:   0%|          | 0/36 [00:00<?, ?it/s]"
      ]
     },
     "metadata": {},
     "output_type": "display_data"
    },
    {
     "name": "stdout",
     "output_type": "stream",
     "text": [
      "\n",
      "4\n",
      "현재 :  24시누름돌김치찌개\n",
      "현재 크롤링이 진행중인 검색어 : 24시누름돌김치찌개\n"
     ]
    },
    {
     "data": {
      "application/vnd.jupyter.widget-view+json": {
       "model_id": "bd7b9ce452e04fdfb2e503bc12beef53",
       "version_major": 2,
       "version_minor": 0
      },
      "text/plain": [
       "  0%|          | 0/21 [00:00<?, ?it/s]"
      ]
     },
     "metadata": {},
     "output_type": "display_data"
    },
    {
     "data": {
      "application/vnd.jupyter.widget-view+json": {
       "model_id": "38547119e6754babb03a5732d388647a",
       "version_major": 2,
       "version_minor": 0
      },
      "text/plain": [
       "리뷰수집중:   0%|          | 0/238 [00:00<?, ?it/s]"
      ]
     },
     "metadata": {},
     "output_type": "display_data"
    },
    {
     "name": "stdout",
     "output_type": "stream",
     "text": [
      "\n",
      "5\n",
      "현재 :  영화루\n",
      "현재 크롤링이 진행중인 검색어 : 영화루\n"
     ]
    },
    {
     "data": {
      "application/vnd.jupyter.widget-view+json": {
       "model_id": "a531ce10e9dd451dae6e7973b724d1f9",
       "version_major": 2,
       "version_minor": 0
      },
      "text/plain": [
       "  0%|          | 0/9 [00:00<?, ?it/s]"
      ]
     },
     "metadata": {},
     "output_type": "display_data"
    },
    {
     "data": {
      "application/vnd.jupyter.widget-view+json": {
       "model_id": "29a0a42527714fb5ab10241dea77e3e0",
       "version_major": 2,
       "version_minor": 0
      },
      "text/plain": [
       "리뷰수집중:   0%|          | 0/84 [00:00<?, ?it/s]"
      ]
     },
     "metadata": {},
     "output_type": "display_data"
    },
    {
     "name": "stdout",
     "output_type": "stream",
     "text": [
      "\n",
      "------------------------------------------------------------\n",
      "종료\n"
     ]
    }
   ],
   "source": [
    "test_01 = test.crawling_review_loop()"
   ]
  },
  {
   "cell_type": "code",
   "execution_count": 272,
   "id": "61d36bd2",
   "metadata": {
    "collapsed": true,
    "jupyter": {
     "outputs_hidden": true
    }
   },
   "outputs": [
    {
     "name": "stdout",
     "output_type": "stream",
     "text": [
      "<class 'pandas.core.frame.DataFrame'>\n",
      "Int64Index: 742 entries, 0 to 83\n",
      "Data columns (total 11 columns):\n",
      " #   Column    Non-Null Count  Dtype \n",
      "---  ------    --------------  ----- \n",
      " 0   리뷰        742 non-null    object\n",
      " 1   리뷰이미지url  742 non-null    object\n",
      " 2   작성자프로필    742 non-null    object\n",
      " 3   My플레이스    742 non-null    object\n",
      " 4   작성자이름     742 non-null    object\n",
      " 5   리뷰작성수     742 non-null    object\n",
      " 6   리뷰작성일     742 non-null    object\n",
      " 7   식당방문수     742 non-null    object\n",
      " 8   리뷰인증방식    742 non-null    object\n",
      " 9   식당id      742 non-null    object\n",
      " 10  사업장명      742 non-null    object\n",
      "dtypes: object(11)\n",
      "memory usage: 69.6+ KB\n"
     ]
    }
   ],
   "source": [
    "test_01.info()"
   ]
  },
  {
   "cell_type": "code",
   "execution_count": 291,
   "id": "d6306ac3",
   "metadata": {},
   "outputs": [],
   "source": [
    "main = Crawling_review(data[60:])"
   ]
  },
  {
   "cell_type": "code",
   "execution_count": 292,
   "id": "6d33c353",
   "metadata": {
    "collapsed": true,
    "jupyter": {
     "outputs_hidden": true
    }
   },
   "outputs": [
    {
     "name": "stdout",
     "output_type": "stream",
     "text": [
      "시작\n",
      "------------------------------------------------------------\n",
      "1\n",
      "현재 :  동이트는집신제주점\n",
      "현재 크롤링이 진행중인 검색어 : 동이트는집신제주점\n"
     ]
    },
    {
     "data": {
      "application/vnd.jupyter.widget-view+json": {
       "model_id": "0aba26c5ae70496bb9c12861e444f4b6",
       "version_major": 2,
       "version_minor": 0
      },
      "text/plain": [
       "  0%|          | 0/5 [00:00<?, ?it/s]"
      ]
     },
     "metadata": {},
     "output_type": "display_data"
    },
    {
     "data": {
      "application/vnd.jupyter.widget-view+json": {
       "model_id": "58396d9f2eea403c99d2c7256996a5af",
       "version_major": 2,
       "version_minor": 0
      },
      "text/plain": [
       "리뷰수집중:   0%|          | 0/56 [00:00<?, ?it/s]"
      ]
     },
     "metadata": {},
     "output_type": "display_data"
    },
    {
     "name": "stdout",
     "output_type": "stream",
     "text": [
      "\n",
      "2\n",
      "현재 :  중원(반점)\n",
      "현재 크롤링이 진행중인 검색어 : 중원(반점)\n"
     ]
    },
    {
     "data": {
      "application/vnd.jupyter.widget-view+json": {
       "model_id": "44c019f796504f1ab7fac50e9de2e53a",
       "version_major": 2,
       "version_minor": 0
      },
      "text/plain": [
       "  0%|          | 0/7 [00:00<?, ?it/s]"
      ]
     },
     "metadata": {},
     "output_type": "display_data"
    },
    {
     "data": {
      "application/vnd.jupyter.widget-view+json": {
       "model_id": "6083f734da9142d0848e7f63eaad2f16",
       "version_major": 2,
       "version_minor": 0
      },
      "text/plain": [
       "리뷰수집중:   0%|          | 0/93 [00:04<?, ?it/s]"
      ]
     },
     "metadata": {},
     "output_type": "display_data"
    },
    {
     "name": "stdout",
     "output_type": "stream",
     "text": [
      "\n",
      "3\n",
      "현재 :  라멘맛심\n",
      "현재 크롤링이 진행중인 검색어 : 라멘맛심\n"
     ]
    },
    {
     "data": {
      "application/vnd.jupyter.widget-view+json": {
       "model_id": "c11a1e9cb2964ba9b169bb3796111553",
       "version_major": 2,
       "version_minor": 0
      },
      "text/plain": [
       "  0%|          | 0/6 [00:00<?, ?it/s]"
      ]
     },
     "metadata": {},
     "output_type": "display_data"
    },
    {
     "data": {
      "application/vnd.jupyter.widget-view+json": {
       "model_id": "5d2fdf625087441b9530f11a96b5a471",
       "version_major": 2,
       "version_minor": 0
      },
      "text/plain": [
       "리뷰수집중:   0%|          | 0/24 [00:00<?, ?it/s]"
      ]
     },
     "metadata": {},
     "output_type": "display_data"
    },
    {
     "name": "stdout",
     "output_type": "stream",
     "text": [
      "\n",
      "4\n",
      "현재 :  향천회초밥\n",
      "현재 크롤링이 진행중인 검색어 : 향천회초밥\n"
     ]
    },
    {
     "data": {
      "application/vnd.jupyter.widget-view+json": {
       "model_id": "b912dc294a044ce0818d1991f4bfb45f",
       "version_major": 2,
       "version_minor": 0
      },
      "text/plain": [
       "  0%|          | 0/3 [00:00<?, ?it/s]"
      ]
     },
     "metadata": {},
     "output_type": "display_data"
    },
    {
     "data": {
      "application/vnd.jupyter.widget-view+json": {
       "model_id": "e331bb33882a4b969618e33b9bbf1ba8",
       "version_major": 2,
       "version_minor": 0
      },
      "text/plain": [
       "리뷰수집중:   0%|          | 0/12 [00:00<?, ?it/s]"
      ]
     },
     "metadata": {},
     "output_type": "display_data"
    },
    {
     "name": "stdout",
     "output_type": "stream",
     "text": [
      "\n",
      "5\n",
      "현재 :  서영이네해돈가\n",
      "현재 크롤링이 진행중인 검색어 : 서영이네해돈가\n"
     ]
    },
    {
     "data": {
      "application/vnd.jupyter.widget-view+json": {
       "model_id": "7538299e8aac4bc5aa1ff3acaf70083f",
       "version_major": 2,
       "version_minor": 0
      },
      "text/plain": [
       "  0%|          | 0/3 [00:00<?, ?it/s]"
      ]
     },
     "metadata": {},
     "output_type": "display_data"
    },
    {
     "data": {
      "application/vnd.jupyter.widget-view+json": {
       "model_id": "9fedab474ef64615a46ed611fc6a6f7f",
       "version_major": 2,
       "version_minor": 0
      },
      "text/plain": [
       "리뷰수집중:   0%|          | 0/15 [00:00<?, ?it/s]"
      ]
     },
     "metadata": {},
     "output_type": "display_data"
    },
    {
     "name": "stdout",
     "output_type": "stream",
     "text": [
      "\n",
      "6\n",
      "현재 :  제주섬돈\n",
      "현재 크롤링이 진행중인 검색어 : 제주섬돈\n"
     ]
    },
    {
     "data": {
      "application/vnd.jupyter.widget-view+json": {
       "model_id": "d0998d4f65c74bf89ffec2d7ba6cdd69",
       "version_major": 2,
       "version_minor": 0
      },
      "text/plain": [
       "  0%|          | 0/104 [00:00<?, ?it/s]"
      ]
     },
     "metadata": {},
     "output_type": "display_data"
    },
    {
     "data": {
      "application/vnd.jupyter.widget-view+json": {
       "model_id": "440f822d488c45c883571f43db9b9986",
       "version_major": 2,
       "version_minor": 0
      },
      "text/plain": [
       "리뷰수집중:   0%|          | 0/389 [00:00<?, ?it/s]"
      ]
     },
     "metadata": {},
     "output_type": "display_data"
    },
    {
     "name": "stdout",
     "output_type": "stream",
     "text": [
      "\n",
      "7\n",
      "현재 :  만부정\n",
      "현재 크롤링이 진행중인 검색어 : 만부정\n"
     ]
    },
    {
     "data": {
      "application/vnd.jupyter.widget-view+json": {
       "model_id": "2a62b7233f5447f49eda467cb39af07e",
       "version_major": 2,
       "version_minor": 0
      },
      "text/plain": [
       "  0%|          | 0/11 [00:00<?, ?it/s]"
      ]
     },
     "metadata": {},
     "output_type": "display_data"
    },
    {
     "data": {
      "application/vnd.jupyter.widget-view+json": {
       "model_id": "784dd5dc63d9461fbc474e5cbf66516b",
       "version_major": 2,
       "version_minor": 0
      },
      "text/plain": [
       "리뷰수집중:   0%|          | 0/70 [00:00<?, ?it/s]"
      ]
     },
     "metadata": {},
     "output_type": "display_data"
    },
    {
     "name": "stdout",
     "output_type": "stream",
     "text": [
      "\n",
      "8\n",
      "현재 :  오라버니회센타\n",
      "현재 크롤링이 진행중인 검색어 : 오라버니회센타\n"
     ]
    },
    {
     "data": {
      "application/vnd.jupyter.widget-view+json": {
       "model_id": "0e5e432dcb38450fb17607250c7dae46",
       "version_major": 2,
       "version_minor": 0
      },
      "text/plain": [
       "  0%|          | 0/2 [00:00<?, ?it/s]"
      ]
     },
     "metadata": {},
     "output_type": "display_data"
    },
    {
     "data": {
      "application/vnd.jupyter.widget-view+json": {
       "model_id": "e9bc74c771424f8e838fa35b4701b610",
       "version_major": 2,
       "version_minor": 0
      },
      "text/plain": [
       "리뷰수집중:   0%|          | 0/17 [00:00<?, ?it/s]"
      ]
     },
     "metadata": {},
     "output_type": "display_data"
    },
    {
     "name": "stdout",
     "output_type": "stream",
     "text": [
      "\n",
      "9\n",
      "현재 :  빨간맛집제원점\n",
      "현재 크롤링이 진행중인 검색어 : 빨간맛집제원점\n"
     ]
    },
    {
     "data": {
      "application/vnd.jupyter.widget-view+json": {
       "model_id": "2e45d434b543440888496b091a63b6db",
       "version_major": 2,
       "version_minor": 0
      },
      "text/plain": [
       "  0%|          | 0/31 [00:00<?, ?it/s]"
      ]
     },
     "metadata": {},
     "output_type": "display_data"
    },
    {
     "data": {
      "application/vnd.jupyter.widget-view+json": {
       "model_id": "06ab757f36b2415686b38c600faaceda",
       "version_major": 2,
       "version_minor": 0
      },
      "text/plain": [
       "리뷰수집중:   0%|          | 0/134 [00:00<?, ?it/s]"
      ]
     },
     "metadata": {},
     "output_type": "display_data"
    },
    {
     "name": "stdout",
     "output_type": "stream",
     "text": [
      "\n",
      "10\n",
      "현재 :  화통삼신제주점\n",
      "현재 크롤링이 진행중인 검색어 : 화통삼신제주점\n"
     ]
    },
    {
     "data": {
      "application/vnd.jupyter.widget-view+json": {
       "model_id": "68242a60d30f467f93e061241e6f065c",
       "version_major": 2,
       "version_minor": 0
      },
      "text/plain": [
       "  0%|          | 0/1 [00:00<?, ?it/s]"
      ]
     },
     "metadata": {},
     "output_type": "display_data"
    },
    {
     "data": {
      "application/vnd.jupyter.widget-view+json": {
       "model_id": "90e2c870a86e4fc1a37af093ff74b926",
       "version_major": 2,
       "version_minor": 0
      },
      "text/plain": [
       "리뷰수집중:   0%|          | 0/16 [00:00<?, ?it/s]"
      ]
     },
     "metadata": {},
     "output_type": "display_data"
    },
    {
     "name": "stdout",
     "output_type": "stream",
     "text": [
      "\n",
      "11\n",
      "현재 :  경성숯불양꼬치\n",
      "현재 크롤링이 진행중인 검색어 : 경성숯불양꼬치\n"
     ]
    },
    {
     "data": {
      "application/vnd.jupyter.widget-view+json": {
       "model_id": "47cc52a5fada481eba3a6296a0a7830e",
       "version_major": 2,
       "version_minor": 0
      },
      "text/plain": [
       "  0%|          | 0/4 [00:00<?, ?it/s]"
      ]
     },
     "metadata": {},
     "output_type": "display_data"
    },
    {
     "data": {
      "application/vnd.jupyter.widget-view+json": {
       "model_id": "1a87bf8759fb40cf8f00b4d67336853b",
       "version_major": 2,
       "version_minor": 0
      },
      "text/plain": [
       "리뷰수집중:   0%|          | 0/19 [00:00<?, ?it/s]"
      ]
     },
     "metadata": {},
     "output_type": "display_data"
    },
    {
     "name": "stdout",
     "output_type": "stream",
     "text": [
      "\n",
      "12\n",
      "현재 :  논짓물\n",
      "현재 크롤링이 진행중인 검색어 : 논짓물\n"
     ]
    },
    {
     "data": {
      "application/vnd.jupyter.widget-view+json": {
       "model_id": "db7387e8704b45409b21846db2b8aa2e",
       "version_major": 2,
       "version_minor": 0
      },
      "text/plain": [
       "  0%|          | 0/178 [00:00<?, ?it/s]"
      ]
     },
     "metadata": {},
     "output_type": "display_data"
    },
    {
     "data": {
      "application/vnd.jupyter.widget-view+json": {
       "model_id": "9af9c50a89344328baba31bbfa6c9034",
       "version_major": 2,
       "version_minor": 0
      },
      "text/plain": [
       "리뷰수집중:   0%|          | 0/889 [00:00<?, ?it/s]"
      ]
     },
     "metadata": {},
     "output_type": "display_data"
    },
    {
     "name": "stdout",
     "output_type": "stream",
     "text": [
      "\n",
      "13\n",
      "현재 :  이비가짬뽕연동점\n",
      "현재 크롤링이 진행중인 검색어 : 이비가짬뽕연동점\n"
     ]
    },
    {
     "data": {
      "application/vnd.jupyter.widget-view+json": {
       "model_id": "44973456645a416f83c58376e53e199b",
       "version_major": 2,
       "version_minor": 0
      },
      "text/plain": [
       "  0%|          | 0/9 [00:00<?, ?it/s]"
      ]
     },
     "metadata": {},
     "output_type": "display_data"
    },
    {
     "data": {
      "application/vnd.jupyter.widget-view+json": {
       "model_id": "c6cf0fbc334f433282257d680d7d4ddd",
       "version_major": 2,
       "version_minor": 0
      },
      "text/plain": [
       "리뷰수집중:   0%|          | 0/184 [00:00<?, ?it/s]"
      ]
     },
     "metadata": {},
     "output_type": "display_data"
    },
    {
     "name": "stdout",
     "output_type": "stream",
     "text": [
      "\n",
      "14\n",
      "현재 :  먹보횟집\n",
      "현재 크롤링이 진행중인 검색어 : 먹보횟집\n"
     ]
    },
    {
     "data": {
      "application/vnd.jupyter.widget-view+json": {
       "model_id": "c936e89d768a46b59d817a75d82d3cce",
       "version_major": 2,
       "version_minor": 0
      },
      "text/plain": [
       "  0%|          | 0/4 [00:00<?, ?it/s]"
      ]
     },
     "metadata": {},
     "output_type": "display_data"
    },
    {
     "data": {
      "application/vnd.jupyter.widget-view+json": {
       "model_id": "46506fced8ba41729d15e7196f76d5e8",
       "version_major": 2,
       "version_minor": 0
      },
      "text/plain": [
       "리뷰수집중:   0%|          | 0/25 [00:00<?, ?it/s]"
      ]
     },
     "metadata": {},
     "output_type": "display_data"
    },
    {
     "name": "stdout",
     "output_type": "stream",
     "text": [
      "\n",
      "15\n",
      "현재 :  장군닭\n",
      "현재 크롤링이 진행중인 검색어 : 장군닭\n",
      "펼칠 리뷰가 없다.\n"
     ]
    },
    {
     "data": {
      "application/vnd.jupyter.widget-view+json": {
       "model_id": "ea469dfbcf0f4a5b9e99cc9c076082a1",
       "version_major": 2,
       "version_minor": 0
      },
      "text/plain": [
       "리뷰수집중:   0%|          | 0/5 [00:00<?, ?it/s]"
      ]
     },
     "metadata": {},
     "output_type": "display_data"
    },
    {
     "name": "stdout",
     "output_type": "stream",
     "text": [
      "\n",
      "16\n",
      "현재 :  카도돈카츠\n",
      "현재 크롤링이 진행중인 검색어 : 카도돈카츠\n"
     ]
    },
    {
     "data": {
      "application/vnd.jupyter.widget-view+json": {
       "model_id": "8ff38cd3bf1a43b7988a6a64748cd413",
       "version_major": 2,
       "version_minor": 0
      },
      "text/plain": [
       "  0%|          | 0/11 [00:04<?, ?it/s]"
      ]
     },
     "metadata": {},
     "output_type": "display_data"
    },
    {
     "data": {
      "application/vnd.jupyter.widget-view+json": {
       "model_id": "6bf83303e67c4690b99dbf3a6356cf8c",
       "version_major": 2,
       "version_minor": 0
      },
      "text/plain": [
       "리뷰수집중:   0%|          | 0/70 [00:00<?, ?it/s]"
      ]
     },
     "metadata": {},
     "output_type": "display_data"
    },
    {
     "name": "stdout",
     "output_type": "stream",
     "text": [
      "\n",
      "17\n",
      "현재 :  제주오토코\n",
      "현재 크롤링이 진행중인 검색어 : 제주오토코\n"
     ]
    },
    {
     "data": {
      "application/vnd.jupyter.widget-view+json": {
       "model_id": "facc5ddaa62a46d3b4204475cbcd49cb",
       "version_major": 2,
       "version_minor": 0
      },
      "text/plain": [
       "  0%|          | 0/4 [00:00<?, ?it/s]"
      ]
     },
     "metadata": {},
     "output_type": "display_data"
    },
    {
     "data": {
      "application/vnd.jupyter.widget-view+json": {
       "model_id": "675b29d6748a46dba1fe9a70fc40b5a3",
       "version_major": 2,
       "version_minor": 0
      },
      "text/plain": [
       "리뷰수집중:   0%|          | 0/17 [00:00<?, ?it/s]"
      ]
     },
     "metadata": {},
     "output_type": "display_data"
    },
    {
     "name": "stdout",
     "output_type": "stream",
     "text": [
      "\n",
      "18\n",
      "현재 :  모임터\n",
      "현재 크롤링이 진행중인 검색어 : 모임터\n"
     ]
    },
    {
     "data": {
      "application/vnd.jupyter.widget-view+json": {
       "model_id": "21f1c8b35b4544edb339521d7cadd033",
       "version_major": 2,
       "version_minor": 0
      },
      "text/plain": [
       "  0%|          | 0/27 [00:00<?, ?it/s]"
      ]
     },
     "metadata": {},
     "output_type": "display_data"
    },
    {
     "data": {
      "application/vnd.jupyter.widget-view+json": {
       "model_id": "d140198ae9a541dc9492b49c301bf747",
       "version_major": 2,
       "version_minor": 0
      },
      "text/plain": [
       "리뷰수집중:   0%|          | 0/153 [00:00<?, ?it/s]"
      ]
     },
     "metadata": {},
     "output_type": "display_data"
    },
    {
     "name": "stdout",
     "output_type": "stream",
     "text": [
      "\n",
      "19\n",
      "현재 :  바다예찬\n",
      "현재 크롤링이 진행중인 검색어 : 바다예찬\n"
     ]
    },
    {
     "data": {
      "application/vnd.jupyter.widget-view+json": {
       "model_id": "401e78ac4c794358a903f552d09d8553",
       "version_major": 2,
       "version_minor": 0
      },
      "text/plain": [
       "  0%|          | 0/93 [00:00<?, ?it/s]"
      ]
     },
     "metadata": {},
     "output_type": "display_data"
    },
    {
     "data": {
      "application/vnd.jupyter.widget-view+json": {
       "model_id": "50114ad9999346d2a5583d0616e72022",
       "version_major": 2,
       "version_minor": 0
      },
      "text/plain": [
       "리뷰수집중:   0%|          | 0/359 [00:00<?, ?it/s]"
      ]
     },
     "metadata": {},
     "output_type": "display_data"
    },
    {
     "name": "stdout",
     "output_type": "stream",
     "text": [
      "\n",
      "20\n",
      "현재 :  달빛사랑채\n",
      "현재 크롤링이 진행중인 검색어 : 달빛사랑채\n",
      "펼칠 리뷰가 없다.\n"
     ]
    },
    {
     "data": {
      "application/vnd.jupyter.widget-view+json": {
       "model_id": "f3d53c2956ec4f7f971389ac85e6388b",
       "version_major": 2,
       "version_minor": 0
      },
      "text/plain": [
       "리뷰수집중:   0%|          | 0/4 [00:00<?, ?it/s]"
      ]
     },
     "metadata": {},
     "output_type": "display_data"
    },
    {
     "name": "stdout",
     "output_type": "stream",
     "text": [
      "\n",
      "21\n",
      "현재 :  삼다정\n",
      "현재 크롤링이 진행중인 검색어 : 삼다정\n"
     ]
    },
    {
     "data": {
      "application/vnd.jupyter.widget-view+json": {
       "model_id": "c03e5552c7e741fea6063f1e0b8c2ff2",
       "version_major": 2,
       "version_minor": 0
      },
      "text/plain": [
       "  0%|          | 0/93 [00:04<?, ?it/s]"
      ]
     },
     "metadata": {},
     "output_type": "display_data"
    },
    {
     "data": {
      "application/vnd.jupyter.widget-view+json": {
       "model_id": "b3fb08a71600452d9d8b0dcfc71ae8df",
       "version_major": 2,
       "version_minor": 0
      },
      "text/plain": [
       "리뷰수집중:   0%|          | 0/451 [00:00<?, ?it/s]"
      ]
     },
     "metadata": {},
     "output_type": "display_data"
    },
    {
     "name": "stdout",
     "output_type": "stream",
     "text": [
      "\n",
      "22\n",
      "현재 :  탐라요정신제주점\n",
      "현재 크롤링이 진행중인 검색어 : 탐라요정신제주점\n"
     ]
    },
    {
     "data": {
      "application/vnd.jupyter.widget-view+json": {
       "model_id": "2efe6091f549424e8a1c53835db16cfe",
       "version_major": 2,
       "version_minor": 0
      },
      "text/plain": [
       "  0%|          | 0/5 [00:00<?, ?it/s]"
      ]
     },
     "metadata": {},
     "output_type": "display_data"
    },
    {
     "data": {
      "application/vnd.jupyter.widget-view+json": {
       "model_id": "c98c08fd68424230a269e577a1908276",
       "version_major": 2,
       "version_minor": 0
      },
      "text/plain": [
       "리뷰수집중:   0%|          | 0/60 [00:00<?, ?it/s]"
      ]
     },
     "metadata": {},
     "output_type": "display_data"
    },
    {
     "name": "stdout",
     "output_type": "stream",
     "text": [
      "\n",
      "23\n",
      "현재 :  세안아구찜\n",
      "현재 크롤링이 진행중인 검색어 : 세안아구찜\n"
     ]
    },
    {
     "data": {
      "application/vnd.jupyter.widget-view+json": {
       "model_id": "3ffbc0a782504feb82839a79eceac9bf",
       "version_major": 2,
       "version_minor": 0
      },
      "text/plain": [
       "  0%|          | 0/4 [00:00<?, ?it/s]"
      ]
     },
     "metadata": {},
     "output_type": "display_data"
    },
    {
     "data": {
      "application/vnd.jupyter.widget-view+json": {
       "model_id": "6230d48d36b64be7abf01f7cbc6268d6",
       "version_major": 2,
       "version_minor": 0
      },
      "text/plain": [
       "리뷰수집중:   0%|          | 0/48 [00:00<?, ?it/s]"
      ]
     },
     "metadata": {},
     "output_type": "display_data"
    },
    {
     "name": "stdout",
     "output_type": "stream",
     "text": [
      "\n",
      "24\n",
      "현재 :  시골길\n",
      "현재 크롤링이 진행중인 검색어 : 시골길\n"
     ]
    },
    {
     "data": {
      "application/vnd.jupyter.widget-view+json": {
       "model_id": "f0d3712a9fab449684b22869caf1097d",
       "version_major": 2,
       "version_minor": 0
      },
      "text/plain": [
       "  0%|          | 0/89 [00:00<?, ?it/s]"
      ]
     },
     "metadata": {},
     "output_type": "display_data"
    },
    {
     "data": {
      "application/vnd.jupyter.widget-view+json": {
       "model_id": "100c8d5ee91a47cb9a49257221f1d047",
       "version_major": 2,
       "version_minor": 0
      },
      "text/plain": [
       "리뷰수집중:   0%|          | 0/471 [00:00<?, ?it/s]"
      ]
     },
     "metadata": {},
     "output_type": "display_data"
    },
    {
     "name": "stdout",
     "output_type": "stream",
     "text": [
      "\n",
      "25\n",
      "현재 :  사나포차연동점\n",
      "현재 크롤링이 진행중인 검색어 : 사나포차연동점\n"
     ]
    },
    {
     "data": {
      "application/vnd.jupyter.widget-view+json": {
       "model_id": "e9de177eff4b4e439b91bed5a8a84454",
       "version_major": 2,
       "version_minor": 0
      },
      "text/plain": [
       "  0%|          | 0/2 [00:00<?, ?it/s]"
      ]
     },
     "metadata": {},
     "output_type": "display_data"
    },
    {
     "data": {
      "application/vnd.jupyter.widget-view+json": {
       "model_id": "e1a58bd744454f25ab6de54e9e51b970",
       "version_major": 2,
       "version_minor": 0
      },
      "text/plain": [
       "리뷰수집중:   0%|          | 0/30 [00:00<?, ?it/s]"
      ]
     },
     "metadata": {},
     "output_type": "display_data"
    },
    {
     "name": "stdout",
     "output_type": "stream",
     "text": [
      "\n",
      "26\n",
      "현재 :  강명선샤브샤브\n",
      "현재 크롤링이 진행중인 검색어 : 강명선샤브샤브\n"
     ]
    },
    {
     "data": {
      "application/vnd.jupyter.widget-view+json": {
       "model_id": "8a8e771016694e5b87febc3bb377f236",
       "version_major": 2,
       "version_minor": 0
      },
      "text/plain": [
       "  0%|          | 0/93 [00:00<?, ?it/s]"
      ]
     },
     "metadata": {},
     "output_type": "display_data"
    },
    {
     "data": {
      "application/vnd.jupyter.widget-view+json": {
       "model_id": "202b558ace244e1eb48260dd7770a34c",
       "version_major": 2,
       "version_minor": 0
      },
      "text/plain": [
       "리뷰수집중:   0%|          | 0/254 [00:00<?, ?it/s]"
      ]
     },
     "metadata": {},
     "output_type": "display_data"
    },
    {
     "name": "stdout",
     "output_type": "stream",
     "text": [
      "\n",
      "27\n",
      "현재 :  토석민속주점\n",
      "현재 크롤링이 진행중인 검색어 : 토석민속주점\n",
      "펼칠 리뷰가 없다.\n",
      "\n",
      "28\n",
      "현재 :  송탄부대찌개집\n",
      "현재 크롤링이 진행중인 검색어 : 송탄부대찌개집\n"
     ]
    },
    {
     "data": {
      "application/vnd.jupyter.widget-view+json": {
       "model_id": "3312d99ddc444d13b69736839df6e8bc",
       "version_major": 2,
       "version_minor": 0
      },
      "text/plain": [
       "  0%|          | 0/15 [00:00<?, ?it/s]"
      ]
     },
     "metadata": {},
     "output_type": "display_data"
    },
    {
     "data": {
      "application/vnd.jupyter.widget-view+json": {
       "model_id": "11346ebd607f4aecb29053e30a3a61be",
       "version_major": 2,
       "version_minor": 0
      },
      "text/plain": [
       "리뷰수집중:   0%|          | 0/101 [00:00<?, ?it/s]"
      ]
     },
     "metadata": {},
     "output_type": "display_data"
    },
    {
     "name": "stdout",
     "output_type": "stream",
     "text": [
      "\n",
      "29\n",
      "현재 :  참맛나흑돼지\n",
      "현재 크롤링이 진행중인 검색어 : 참맛나흑돼지\n"
     ]
    },
    {
     "data": {
      "application/vnd.jupyter.widget-view+json": {
       "model_id": "9a34fc26d2b947518533b03590ef9061",
       "version_major": 2,
       "version_minor": 0
      },
      "text/plain": [
       "  0%|          | 0/8 [00:00<?, ?it/s]"
      ]
     },
     "metadata": {},
     "output_type": "display_data"
    },
    {
     "data": {
      "application/vnd.jupyter.widget-view+json": {
       "model_id": "d24ac42afa6648d780a02cf9da7af19a",
       "version_major": 2,
       "version_minor": 0
      },
      "text/plain": [
       "리뷰수집중:   0%|          | 0/56 [00:00<?, ?it/s]"
      ]
     },
     "metadata": {},
     "output_type": "display_data"
    },
    {
     "name": "stdout",
     "output_type": "stream",
     "text": [
      "\n",
      "30\n",
      "현재 :  신화파전\n",
      "현재 크롤링이 진행중인 검색어 : 신화파전\n"
     ]
    },
    {
     "data": {
      "application/vnd.jupyter.widget-view+json": {
       "model_id": "d872b91df28d4084babc4adbc251317c",
       "version_major": 2,
       "version_minor": 0
      },
      "text/plain": [
       "  0%|          | 0/2 [00:00<?, ?it/s]"
      ]
     },
     "metadata": {},
     "output_type": "display_data"
    },
    {
     "data": {
      "application/vnd.jupyter.widget-view+json": {
       "model_id": "515e2ed9a6e1478e918f2b5cbd7cf0b3",
       "version_major": 2,
       "version_minor": 0
      },
      "text/plain": [
       "리뷰수집중:   0%|          | 0/15 [00:00<?, ?it/s]"
      ]
     },
     "metadata": {},
     "output_type": "display_data"
    },
    {
     "name": "stdout",
     "output_type": "stream",
     "text": [
      "\n",
      "31\n",
      "현재 :  족발신선생제주점\n",
      "현재 크롤링이 진행중인 검색어 : 족발신선생제주점\n"
     ]
    },
    {
     "data": {
      "application/vnd.jupyter.widget-view+json": {
       "model_id": "976f9cad5e5043caa91c16b960dcc919",
       "version_major": 2,
       "version_minor": 0
      },
      "text/plain": [
       "  0%|          | 0/20 [00:00<?, ?it/s]"
      ]
     },
     "metadata": {},
     "output_type": "display_data"
    },
    {
     "data": {
      "application/vnd.jupyter.widget-view+json": {
       "model_id": "bbb93feb06c6402c90e6a964e9cf7f93",
       "version_major": 2,
       "version_minor": 0
      },
      "text/plain": [
       "리뷰수집중:   0%|          | 0/70 [00:00<?, ?it/s]"
      ]
     },
     "metadata": {},
     "output_type": "display_data"
    },
    {
     "name": "stdout",
     "output_type": "stream",
     "text": [
      "\n",
      "32\n",
      "현재 :  인생과삶\n",
      "현재 크롤링이 진행중인 검색어 : 인생과삶\n",
      "\n",
      "33\n",
      "현재 :  노형섬마을\n",
      "현재 크롤링이 진행중인 검색어 : 노형섬마을\n"
     ]
    },
    {
     "data": {
      "application/vnd.jupyter.widget-view+json": {
       "model_id": "e511bb9231b24717ae23fbf91d27d514",
       "version_major": 2,
       "version_minor": 0
      },
      "text/plain": [
       "  0%|          | 0/11 [00:00<?, ?it/s]"
      ]
     },
     "metadata": {},
     "output_type": "display_data"
    },
    {
     "data": {
      "application/vnd.jupyter.widget-view+json": {
       "model_id": "857b9f907b8e4002a9cee1f97d00b1e6",
       "version_major": 2,
       "version_minor": 0
      },
      "text/plain": [
       "리뷰수집중:   0%|          | 0/34 [00:00<?, ?it/s]"
      ]
     },
     "metadata": {},
     "output_type": "display_data"
    },
    {
     "name": "stdout",
     "output_type": "stream",
     "text": [
      "\n",
      "34\n",
      "현재 :  닭가대표연동점\n",
      "현재 크롤링이 진행중인 검색어 : 닭가대표연동점\n",
      "펼칠 리뷰가 없다.\n"
     ]
    },
    {
     "data": {
      "application/vnd.jupyter.widget-view+json": {
       "model_id": "d2427d07896c4244874e1d0e7feea955",
       "version_major": 2,
       "version_minor": 0
      },
      "text/plain": [
       "  0%|          | 0/2 [00:00<?, ?it/s]"
      ]
     },
     "metadata": {},
     "output_type": "display_data"
    },
    {
     "data": {
      "application/vnd.jupyter.widget-view+json": {
       "model_id": "7bbca5f3928847148c67c9d8ebfa84dc",
       "version_major": 2,
       "version_minor": 0
      },
      "text/plain": [
       "리뷰수집중:   0%|          | 0/5 [00:00<?, ?it/s]"
      ]
     },
     "metadata": {},
     "output_type": "display_data"
    },
    {
     "name": "stdout",
     "output_type": "stream",
     "text": [
      "\n",
      "35\n",
      "현재 :  화룡양꼬치\n",
      "현재 크롤링이 진행중인 검색어 : 화룡양꼬치\n"
     ]
    },
    {
     "data": {
      "application/vnd.jupyter.widget-view+json": {
       "model_id": "550b5a292b9a4c6286da1e0c03b933f7",
       "version_major": 2,
       "version_minor": 0
      },
      "text/plain": [
       "  0%|          | 0/7 [00:00<?, ?it/s]"
      ]
     },
     "metadata": {},
     "output_type": "display_data"
    },
    {
     "data": {
      "application/vnd.jupyter.widget-view+json": {
       "model_id": "80dc677e60974d429e2d6ec0c15435e2",
       "version_major": 2,
       "version_minor": 0
      },
      "text/plain": [
       "리뷰수집중:   0%|          | 0/52 [00:00<?, ?it/s]"
      ]
     },
     "metadata": {},
     "output_type": "display_data"
    },
    {
     "name": "stdout",
     "output_type": "stream",
     "text": [
      "\n",
      "36\n",
      "현재 :  오월수산장어집\n",
      "현재 크롤링이 진행중인 검색어 : 오월수산장어집\n"
     ]
    },
    {
     "data": {
      "application/vnd.jupyter.widget-view+json": {
       "model_id": "deca5fb1ff534c0a85089101067f6d8a",
       "version_major": 2,
       "version_minor": 0
      },
      "text/plain": [
       "  0%|          | 0/3 [00:00<?, ?it/s]"
      ]
     },
     "metadata": {},
     "output_type": "display_data"
    },
    {
     "data": {
      "application/vnd.jupyter.widget-view+json": {
       "model_id": "0425b0b2e34b42e8b057254dd5c425b3",
       "version_major": 2,
       "version_minor": 0
      },
      "text/plain": [
       "리뷰수집중:   0%|          | 0/43 [00:00<?, ?it/s]"
      ]
     },
     "metadata": {},
     "output_type": "display_data"
    },
    {
     "name": "stdout",
     "output_type": "stream",
     "text": [
      "\n",
      "37\n",
      "현재 :  독도는우리땅\n",
      "현재 크롤링이 진행중인 검색어 : 독도는우리땅\n"
     ]
    },
    {
     "data": {
      "application/vnd.jupyter.widget-view+json": {
       "model_id": "843d1c78380a4d0db97dc7fd2ecc13a6",
       "version_major": 2,
       "version_minor": 0
      },
      "text/plain": [
       "리뷰수집중:   0%|          | 0/15 [00:00<?, ?it/s]"
      ]
     },
     "metadata": {},
     "output_type": "display_data"
    },
    {
     "name": "stdout",
     "output_type": "stream",
     "text": [
      "\n",
      "38\n",
      "현재 :  나니와\n",
      "현재 크롤링이 진행중인 검색어 : 나니와\n"
     ]
    },
    {
     "data": {
      "application/vnd.jupyter.widget-view+json": {
       "model_id": "8b4bccc4c0084ea7bda87c80fc2ecf84",
       "version_major": 2,
       "version_minor": 0
      },
      "text/plain": [
       "  0%|          | 0/37 [00:04<?, ?it/s]"
      ]
     },
     "metadata": {},
     "output_type": "display_data"
    },
    {
     "data": {
      "application/vnd.jupyter.widget-view+json": {
       "model_id": "d353efe5f8b94c9abac37cb75a3aa9ee",
       "version_major": 2,
       "version_minor": 0
      },
      "text/plain": [
       "리뷰수집중:   0%|          | 0/251 [00:00<?, ?it/s]"
      ]
     },
     "metadata": {},
     "output_type": "display_data"
    },
    {
     "name": "stdout",
     "output_type": "stream",
     "text": [
      "\n",
      "39\n",
      "현재 :  돈앤삼겹\n",
      "현재 크롤링이 진행중인 검색어 : 돈앤삼겹\n"
     ]
    },
    {
     "data": {
      "application/vnd.jupyter.widget-view+json": {
       "model_id": "9f40de0703474f3d9da8b6b6920863b8",
       "version_major": 2,
       "version_minor": 0
      },
      "text/plain": [
       "  0%|          | 0/1 [00:00<?, ?it/s]"
      ]
     },
     "metadata": {},
     "output_type": "display_data"
    },
    {
     "data": {
      "application/vnd.jupyter.widget-view+json": {
       "model_id": "39a9999d08fd4c12a175bd02cf1b036d",
       "version_major": 2,
       "version_minor": 0
      },
      "text/plain": [
       "리뷰수집중:   0%|          | 0/48 [00:00<?, ?it/s]"
      ]
     },
     "metadata": {},
     "output_type": "display_data"
    },
    {
     "name": "stdout",
     "output_type": "stream",
     "text": [
      "\n",
      "40\n",
      "현재 :  삼무삼계탕\n",
      "현재 크롤링이 진행중인 검색어 : 삼무삼계탕\n",
      "펼칠 리뷰가 없다.\n"
     ]
    },
    {
     "data": {
      "application/vnd.jupyter.widget-view+json": {
       "model_id": "7f4aea04593f48e6bd5e844543d77cbc",
       "version_major": 2,
       "version_minor": 0
      },
      "text/plain": [
       "리뷰수집중:   0%|          | 0/7 [00:00<?, ?it/s]"
      ]
     },
     "metadata": {},
     "output_type": "display_data"
    },
    {
     "name": "stdout",
     "output_type": "stream",
     "text": [
      "\n",
      "41\n",
      "현재 :  청호정\n",
      "현재 크롤링이 진행중인 검색어 : 청호정\n"
     ]
    },
    {
     "data": {
      "application/vnd.jupyter.widget-view+json": {
       "model_id": "5ddcc6019d114c64a197485ccd69f2ba",
       "version_major": 2,
       "version_minor": 0
      },
      "text/plain": [
       "  0%|          | 0/17 [00:04<?, ?it/s]"
      ]
     },
     "metadata": {},
     "output_type": "display_data"
    },
    {
     "data": {
      "application/vnd.jupyter.widget-view+json": {
       "model_id": "426c1145dfe0440eaf6f9cdce253ed69",
       "version_major": 2,
       "version_minor": 0
      },
      "text/plain": [
       "리뷰수집중:   0%|          | 0/56 [00:00<?, ?it/s]"
      ]
     },
     "metadata": {},
     "output_type": "display_data"
    },
    {
     "name": "stdout",
     "output_type": "stream",
     "text": [
      "\n",
      "42\n",
      "현재 :  로당연동점\n",
      "현재 크롤링이 진행중인 검색어 : 로당연동점\n"
     ]
    },
    {
     "data": {
      "application/vnd.jupyter.widget-view+json": {
       "model_id": "c67753f549be44db8523eb994bee39ae",
       "version_major": 2,
       "version_minor": 0
      },
      "text/plain": [
       "  0%|          | 0/4 [00:00<?, ?it/s]"
      ]
     },
     "metadata": {},
     "output_type": "display_data"
    },
    {
     "data": {
      "application/vnd.jupyter.widget-view+json": {
       "model_id": "75b9042ae3d04a61864bf3d7f6debb8b",
       "version_major": 2,
       "version_minor": 0
      },
      "text/plain": [
       "리뷰수집중:   0%|          | 0/51 [00:00<?, ?it/s]"
      ]
     },
     "metadata": {},
     "output_type": "display_data"
    },
    {
     "name": "stdout",
     "output_type": "stream",
     "text": [
      "\n",
      "43\n",
      "현재 :  비비큐신제주연동점\n",
      "현재 크롤링이 진행중인 검색어 : 비비큐신제주연동점\n"
     ]
    },
    {
     "data": {
      "application/vnd.jupyter.widget-view+json": {
       "model_id": "85ca0698172941c1a6f8157417919207",
       "version_major": 2,
       "version_minor": 0
      },
      "text/plain": [
       "  0%|          | 0/1 [00:00<?, ?it/s]"
      ]
     },
     "metadata": {},
     "output_type": "display_data"
    },
    {
     "data": {
      "application/vnd.jupyter.widget-view+json": {
       "model_id": "d9142781487b4af4b5477aa63afbb829",
       "version_major": 2,
       "version_minor": 0
      },
      "text/plain": [
       "리뷰수집중:   0%|          | 0/33 [00:00<?, ?it/s]"
      ]
     },
     "metadata": {},
     "output_type": "display_data"
    },
    {
     "name": "stdout",
     "output_type": "stream",
     "text": [
      "\n",
      "44\n",
      "현재 :  미선이네포차\n",
      "현재 크롤링이 진행중인 검색어 : 미선이네포차\n",
      "펼칠 리뷰가 없다.\n"
     ]
    },
    {
     "data": {
      "application/vnd.jupyter.widget-view+json": {
       "model_id": "58aaf1bef2584c02896881b83b803e9a",
       "version_major": 2,
       "version_minor": 0
      },
      "text/plain": [
       "리뷰수집중:   0%|          | 0/2 [00:00<?, ?it/s]"
      ]
     },
     "metadata": {},
     "output_type": "display_data"
    },
    {
     "name": "stdout",
     "output_type": "stream",
     "text": [
      "\n",
      "45\n",
      "현재 :  웬두루치기\n",
      "현재 크롤링이 진행중인 검색어 : 웬두루치기\n",
      "펼칠 리뷰가 없다.\n"
     ]
    },
    {
     "data": {
      "application/vnd.jupyter.widget-view+json": {
       "model_id": "d886db11534b46a5988deec5f4ce1427",
       "version_major": 2,
       "version_minor": 0
      },
      "text/plain": [
       "리뷰수집중:   0%|          | 0/5 [00:04<?, ?it/s]"
      ]
     },
     "metadata": {},
     "output_type": "display_data"
    },
    {
     "name": "stdout",
     "output_type": "stream",
     "text": [
      "\n",
      "46\n",
      "현재 :  금화정육식당\n",
      "현재 크롤링이 진행중인 검색어 : 금화정육식당\n"
     ]
    },
    {
     "data": {
      "application/vnd.jupyter.widget-view+json": {
       "model_id": "ebe7cb06f7a44be0b4251df2409cb542",
       "version_major": 2,
       "version_minor": 0
      },
      "text/plain": [
       "  0%|          | 0/9 [00:00<?, ?it/s]"
      ]
     },
     "metadata": {},
     "output_type": "display_data"
    },
    {
     "data": {
      "application/vnd.jupyter.widget-view+json": {
       "model_id": "d86a78408cfa48cba8612c21dce22f12",
       "version_major": 2,
       "version_minor": 0
      },
      "text/plain": [
       "리뷰수집중:   0%|          | 0/73 [00:00<?, ?it/s]"
      ]
     },
     "metadata": {},
     "output_type": "display_data"
    },
    {
     "name": "stdout",
     "output_type": "stream",
     "text": [
      "\n",
      "47\n",
      "현재 :  앞뱅디\n",
      "현재 크롤링이 진행중인 검색어 : 앞뱅디\n"
     ]
    },
    {
     "data": {
      "application/vnd.jupyter.widget-view+json": {
       "model_id": "253acf0a3e2342f4ad920504ba3fceb9",
       "version_major": 2,
       "version_minor": 0
      },
      "text/plain": [
       "  0%|          | 0/42 [00:00<?, ?it/s]"
      ]
     },
     "metadata": {},
     "output_type": "display_data"
    },
    {
     "data": {
      "application/vnd.jupyter.widget-view+json": {
       "model_id": "7f8bbb51d6ff40efb2b0193a4899244b",
       "version_major": 2,
       "version_minor": 0
      },
      "text/plain": [
       "리뷰수집중:   0%|          | 0/341 [00:00<?, ?it/s]"
      ]
     },
     "metadata": {},
     "output_type": "display_data"
    },
    {
     "name": "stdout",
     "output_type": "stream",
     "text": [
      "\n",
      "48\n",
      "현재 :  또장군\n",
      "현재 크롤링이 진행중인 검색어 : 또장군\n"
     ]
    },
    {
     "data": {
      "application/vnd.jupyter.widget-view+json": {
       "model_id": "ca7e92e2c121407f8289ba7bbbdf87a6",
       "version_major": 2,
       "version_minor": 0
      },
      "text/plain": [
       "  0%|          | 0/4 [00:00<?, ?it/s]"
      ]
     },
     "metadata": {},
     "output_type": "display_data"
    },
    {
     "data": {
      "application/vnd.jupyter.widget-view+json": {
       "model_id": "49a0944118d24ce6a13cba62f020bdcc",
       "version_major": 2,
       "version_minor": 0
      },
      "text/plain": [
       "리뷰수집중:   0%|          | 0/36 [00:00<?, ?it/s]"
      ]
     },
     "metadata": {},
     "output_type": "display_data"
    },
    {
     "name": "stdout",
     "output_type": "stream",
     "text": [
      "\n",
      "49\n",
      "현재 :  곰돌\n",
      "현재 크롤링이 진행중인 검색어 : 곰돌\n"
     ]
    },
    {
     "data": {
      "application/vnd.jupyter.widget-view+json": {
       "model_id": "acb1a88508334926b82043c991fa47fb",
       "version_major": 2,
       "version_minor": 0
      },
      "text/plain": [
       "  0%|          | 0/2 [00:00<?, ?it/s]"
      ]
     },
     "metadata": {},
     "output_type": "display_data"
    },
    {
     "data": {
      "application/vnd.jupyter.widget-view+json": {
       "model_id": "a5728e69b19c45748dde10684da46e0f",
       "version_major": 2,
       "version_minor": 0
      },
      "text/plain": [
       "리뷰수집중:   0%|          | 0/11 [00:00<?, ?it/s]"
      ]
     },
     "metadata": {},
     "output_type": "display_data"
    },
    {
     "name": "stdout",
     "output_type": "stream",
     "text": [
      "\n",
      "50\n",
      "현재 :  해장길\n",
      "현재 크롤링이 진행중인 검색어 : 해장길\n"
     ]
    },
    {
     "data": {
      "application/vnd.jupyter.widget-view+json": {
       "model_id": "c433136a9fee4b74b258daae23fa7f28",
       "version_major": 2,
       "version_minor": 0
      },
      "text/plain": [
       "  0%|          | 0/17 [00:00<?, ?it/s]"
      ]
     },
     "metadata": {},
     "output_type": "display_data"
    },
    {
     "data": {
      "application/vnd.jupyter.widget-view+json": {
       "model_id": "905f45bda6d644d695bc3704ed27bf6b",
       "version_major": 2,
       "version_minor": 0
      },
      "text/plain": [
       "리뷰수집중:   0%|          | 0/85 [00:00<?, ?it/s]"
      ]
     },
     "metadata": {},
     "output_type": "display_data"
    },
    {
     "name": "stdout",
     "output_type": "stream",
     "text": [
      "\n",
      "51\n",
      "현재 :  미송식탁\n",
      "현재 크롤링이 진행중인 검색어 : 미송식탁\n"
     ]
    },
    {
     "data": {
      "application/vnd.jupyter.widget-view+json": {
       "model_id": "15a9e80e73c849e59f91b93867deffa3",
       "version_major": 2,
       "version_minor": 0
      },
      "text/plain": [
       "  0%|          | 0/33 [00:00<?, ?it/s]"
      ]
     },
     "metadata": {},
     "output_type": "display_data"
    },
    {
     "data": {
      "application/vnd.jupyter.widget-view+json": {
       "model_id": "c4bda3ea4f9847a1923ce691f7578d9f",
       "version_major": 2,
       "version_minor": 0
      },
      "text/plain": [
       "리뷰수집중:   0%|          | 0/121 [00:00<?, ?it/s]"
      ]
     },
     "metadata": {},
     "output_type": "display_data"
    },
    {
     "name": "stdout",
     "output_type": "stream",
     "text": [
      "\n",
      "52\n",
      "현재 :  풍전양곱창\n",
      "현재 크롤링이 진행중인 검색어 : 풍전양곱창\n"
     ]
    },
    {
     "data": {
      "application/vnd.jupyter.widget-view+json": {
       "model_id": "679dcb00c3db4c02a01fd52a82d2adf2",
       "version_major": 2,
       "version_minor": 0
      },
      "text/plain": [
       "리뷰수집중:   0%|          | 0/48 [00:00<?, ?it/s]"
      ]
     },
     "metadata": {},
     "output_type": "display_data"
    },
    {
     "name": "stdout",
     "output_type": "stream",
     "text": [
      "\n",
      "53\n",
      "현재 :  투다리신제주점\n",
      "현재 크롤링이 진행중인 검색어 : 투다리신제주점\n"
     ]
    },
    {
     "data": {
      "application/vnd.jupyter.widget-view+json": {
       "model_id": "107578b25d234809bf8888cbf997cfcc",
       "version_major": 2,
       "version_minor": 0
      },
      "text/plain": [
       "  0%|          | 0/2 [00:00<?, ?it/s]"
      ]
     },
     "metadata": {},
     "output_type": "display_data"
    },
    {
     "data": {
      "application/vnd.jupyter.widget-view+json": {
       "model_id": "dab42de0036547a6af9c475722967846",
       "version_major": 2,
       "version_minor": 0
      },
      "text/plain": [
       "리뷰수집중:   0%|          | 0/42 [00:00<?, ?it/s]"
      ]
     },
     "metadata": {},
     "output_type": "display_data"
    },
    {
     "name": "stdout",
     "output_type": "stream",
     "text": [
      "\n",
      "54\n",
      "현재 :  피아노맨\n",
      "현재 크롤링이 진행중인 검색어 : 피아노맨\n",
      "펼칠 리뷰가 없다.\n"
     ]
    },
    {
     "data": {
      "application/vnd.jupyter.widget-view+json": {
       "model_id": "7df96a0abcf740a5b07a47680d3fe1d2",
       "version_major": 2,
       "version_minor": 0
      },
      "text/plain": [
       "리뷰수집중:   0%|          | 0/4 [00:00<?, ?it/s]"
      ]
     },
     "metadata": {},
     "output_type": "display_data"
    },
    {
     "name": "stdout",
     "output_type": "stream",
     "text": [
      "\n",
      "55\n",
      "현재 :  달빛무리\n",
      "현재 크롤링이 진행중인 검색어 : 달빛무리\n"
     ]
    },
    {
     "data": {
      "application/vnd.jupyter.widget-view+json": {
       "model_id": "9608a477fbf744a7b1a75ff2c5d7c842",
       "version_major": 2,
       "version_minor": 0
      },
      "text/plain": [
       "리뷰수집중:   0%|          | 0/51 [00:04<?, ?it/s]"
      ]
     },
     "metadata": {},
     "output_type": "display_data"
    },
    {
     "name": "stdout",
     "output_type": "stream",
     "text": [
      "\n",
      "56\n",
      "현재 :  차돌집\n",
      "현재 크롤링이 진행중인 검색어 : 차돌집\n"
     ]
    },
    {
     "data": {
      "application/vnd.jupyter.widget-view+json": {
       "model_id": "546bd2b621cc4e4891336a63fcb2b634",
       "version_major": 2,
       "version_minor": 0
      },
      "text/plain": [
       "  0%|          | 0/27 [00:00<?, ?it/s]"
      ]
     },
     "metadata": {},
     "output_type": "display_data"
    },
    {
     "data": {
      "application/vnd.jupyter.widget-view+json": {
       "model_id": "edc8869fe31f45ac833aef2732ffad8c",
       "version_major": 2,
       "version_minor": 0
      },
      "text/plain": [
       "리뷰수집중:   0%|          | 0/173 [00:00<?, ?it/s]"
      ]
     },
     "metadata": {},
     "output_type": "display_data"
    },
    {
     "name": "stdout",
     "output_type": "stream",
     "text": [
      "\n",
      "57\n",
      "현재 :  베이스노트\n",
      "현재 크롤링이 진행중인 검색어 : 베이스노트\n"
     ]
    },
    {
     "data": {
      "application/vnd.jupyter.widget-view+json": {
       "model_id": "ead59fdfea7b4bba8db58ce54623071c",
       "version_major": 2,
       "version_minor": 0
      },
      "text/plain": [
       "  0%|          | 0/2 [00:00<?, ?it/s]"
      ]
     },
     "metadata": {},
     "output_type": "display_data"
    },
    {
     "data": {
      "application/vnd.jupyter.widget-view+json": {
       "model_id": "b29501e5359349a2acc4bf618b8e3e5a",
       "version_major": 2,
       "version_minor": 0
      },
      "text/plain": [
       "리뷰수집중:   0%|          | 0/52 [00:00<?, ?it/s]"
      ]
     },
     "metadata": {},
     "output_type": "display_data"
    },
    {
     "name": "stdout",
     "output_type": "stream",
     "text": [
      "\n",
      "58\n",
      "현재 :  포동정식도청점\n",
      "현재 크롤링이 진행중인 검색어 : 포동정식도청점\n"
     ]
    },
    {
     "data": {
      "application/vnd.jupyter.widget-view+json": {
       "model_id": "b86a1dd45ace412782d5bca5fb610702",
       "version_major": 2,
       "version_minor": 0
      },
      "text/plain": [
       "  0%|          | 0/12 [00:00<?, ?it/s]"
      ]
     },
     "metadata": {},
     "output_type": "display_data"
    },
    {
     "data": {
      "application/vnd.jupyter.widget-view+json": {
       "model_id": "c50adc4f17804accaba35d05d16cdd8e",
       "version_major": 2,
       "version_minor": 0
      },
      "text/plain": [
       "리뷰수집중:   0%|          | 0/91 [00:00<?, ?it/s]"
      ]
     },
     "metadata": {},
     "output_type": "display_data"
    },
    {
     "name": "stdout",
     "output_type": "stream",
     "text": [
      "\n",
      "59\n",
      "현재 :  이쯔모\n",
      "현재 크롤링이 진행중인 검색어 : 이쯔모\n",
      "펼칠 리뷰가 없다.\n"
     ]
    },
    {
     "data": {
      "application/vnd.jupyter.widget-view+json": {
       "model_id": "02bb9fea40de42b59b158b7c5caa61fc",
       "version_major": 2,
       "version_minor": 0
      },
      "text/plain": [
       "  0%|          | 0/1 [00:00<?, ?it/s]"
      ]
     },
     "metadata": {},
     "output_type": "display_data"
    },
    {
     "data": {
      "application/vnd.jupyter.widget-view+json": {
       "model_id": "accc1de5b8d6458e8ad8057f84b8c61e",
       "version_major": 2,
       "version_minor": 0
      },
      "text/plain": [
       "리뷰수집중:   0%|          | 0/6 [00:00<?, ?it/s]"
      ]
     },
     "metadata": {},
     "output_type": "display_data"
    },
    {
     "name": "stdout",
     "output_type": "stream",
     "text": [
      "\n",
      "60\n",
      "현재 :  슈퍼보틀\n",
      "현재 크롤링이 진행중인 검색어 : 슈퍼보틀\n"
     ]
    },
    {
     "data": {
      "application/vnd.jupyter.widget-view+json": {
       "model_id": "4a4e991d591241689e22b3c762ed7c4e",
       "version_major": 2,
       "version_minor": 0
      },
      "text/plain": [
       "  0%|          | 0/39 [00:00<?, ?it/s]"
      ]
     },
     "metadata": {},
     "output_type": "display_data"
    },
    {
     "data": {
      "application/vnd.jupyter.widget-view+json": {
       "model_id": "f3587e1e4ec1432d89ceeb71aa0920f7",
       "version_major": 2,
       "version_minor": 0
      },
      "text/plain": [
       "리뷰수집중:   0%|          | 0/149 [00:00<?, ?it/s]"
      ]
     },
     "metadata": {},
     "output_type": "display_data"
    },
    {
     "name": "stdout",
     "output_type": "stream",
     "text": [
      "\n",
      "61\n",
      "현재 :  크라운호프연동점\n",
      "현재 크롤링이 진행중인 검색어 : 크라운호프연동점\n"
     ]
    },
    {
     "data": {
      "application/vnd.jupyter.widget-view+json": {
       "model_id": "9b2d42b167e94eacba49fe813fd6e6ec",
       "version_major": 2,
       "version_minor": 0
      },
      "text/plain": [
       "  0%|          | 0/3 [00:00<?, ?it/s]"
      ]
     },
     "metadata": {},
     "output_type": "display_data"
    },
    {
     "data": {
      "application/vnd.jupyter.widget-view+json": {
       "model_id": "c68d0ce808a141a3874feeda1843a804",
       "version_major": 2,
       "version_minor": 0
      },
      "text/plain": [
       "리뷰수집중:   0%|          | 0/33 [00:12<?, ?it/s]"
      ]
     },
     "metadata": {},
     "output_type": "display_data"
    },
    {
     "name": "stdout",
     "output_type": "stream",
     "text": [
      "\n",
      "62\n",
      "현재 :  내가좋아하는것들\n",
      "현재 크롤링이 진행중인 검색어 : 내가좋아하는것들\n"
     ]
    },
    {
     "data": {
      "application/vnd.jupyter.widget-view+json": {
       "model_id": "6e61b77e30e54e23a6999d983071bbd2",
       "version_major": 2,
       "version_minor": 0
      },
      "text/plain": [
       "  0%|          | 0/5 [00:00<?, ?it/s]"
      ]
     },
     "metadata": {},
     "output_type": "display_data"
    },
    {
     "data": {
      "application/vnd.jupyter.widget-view+json": {
       "model_id": "c241b62831ea43278c2d173604768e3c",
       "version_major": 2,
       "version_minor": 0
      },
      "text/plain": [
       "리뷰수집중:   0%|          | 0/12 [00:00<?, ?it/s]"
      ]
     },
     "metadata": {},
     "output_type": "display_data"
    },
    {
     "name": "stdout",
     "output_type": "stream",
     "text": [
      "\n",
      "63\n",
      "현재 :  화정연화\n",
      "현재 크롤링이 진행중인 검색어 : 화정연화\n"
     ]
    },
    {
     "data": {
      "application/vnd.jupyter.widget-view+json": {
       "model_id": "2ff1783b4467447d9809a34b882e5304",
       "version_major": 2,
       "version_minor": 0
      },
      "text/plain": [
       "  0%|          | 0/14 [00:00<?, ?it/s]"
      ]
     },
     "metadata": {},
     "output_type": "display_data"
    },
    {
     "data": {
      "application/vnd.jupyter.widget-view+json": {
       "model_id": "1e943e62322244e583310e3f80061e2e",
       "version_major": 2,
       "version_minor": 0
      },
      "text/plain": [
       "리뷰수집중:   0%|          | 0/60 [00:00<?, ?it/s]"
      ]
     },
     "metadata": {},
     "output_type": "display_data"
    },
    {
     "name": "stdout",
     "output_type": "stream",
     "text": [
      "\n",
      "64\n",
      "현재 :  낭푼밥상\n",
      "현재 크롤링이 진행중인 검색어 : 낭푼밥상\n"
     ]
    },
    {
     "data": {
      "application/vnd.jupyter.widget-view+json": {
       "model_id": "1b2d9d8a7e5246bbbb4ee78ee27a4715",
       "version_major": 2,
       "version_minor": 0
      },
      "text/plain": [
       "  0%|          | 0/46 [00:00<?, ?it/s]"
      ]
     },
     "metadata": {},
     "output_type": "display_data"
    },
    {
     "data": {
      "application/vnd.jupyter.widget-view+json": {
       "model_id": "655013d3d0fb448ba51e294101c2e0ad",
       "version_major": 2,
       "version_minor": 0
      },
      "text/plain": [
       "리뷰수집중:   0%|          | 0/171 [00:00<?, ?it/s]"
      ]
     },
     "metadata": {},
     "output_type": "display_data"
    },
    {
     "name": "stdout",
     "output_type": "stream",
     "text": [
      "\n",
      "65\n",
      "현재 :  거북이\n",
      "현재 크롤링이 진행중인 검색어 : 거북이\n",
      "펼칠 리뷰가 없다.\n"
     ]
    },
    {
     "data": {
      "application/vnd.jupyter.widget-view+json": {
       "model_id": "5de8078f31dc4a34a2bf4fad85b36bce",
       "version_major": 2,
       "version_minor": 0
      },
      "text/plain": [
       "리뷰수집중:   0%|          | 0/3 [00:00<?, ?it/s]"
      ]
     },
     "metadata": {},
     "output_type": "display_data"
    },
    {
     "name": "stdout",
     "output_type": "stream",
     "text": [
      "\n",
      "66\n",
      "현재 :  갓포아키제주도점\n",
      "현재 크롤링이 진행중인 검색어 : 갓포아키제주도점\n"
     ]
    },
    {
     "data": {
      "application/vnd.jupyter.widget-view+json": {
       "model_id": "3a9e1e307adf4914a5670f2113e92ff1",
       "version_major": 2,
       "version_minor": 0
      },
      "text/plain": [
       "  0%|          | 0/37 [00:04<?, ?it/s]"
      ]
     },
     "metadata": {},
     "output_type": "display_data"
    },
    {
     "data": {
      "application/vnd.jupyter.widget-view+json": {
       "model_id": "db774efb270644a598abf000946f02e3",
       "version_major": 2,
       "version_minor": 0
      },
      "text/plain": [
       "리뷰수집중:   0%|          | 0/129 [00:00<?, ?it/s]"
      ]
     },
     "metadata": {},
     "output_type": "display_data"
    },
    {
     "name": "stdout",
     "output_type": "stream",
     "text": [
      "\n",
      "67\n",
      "현재 :  철수네숯불갈비\n",
      "현재 크롤링이 진행중인 검색어 : 철수네숯불갈비\n"
     ]
    },
    {
     "data": {
      "application/vnd.jupyter.widget-view+json": {
       "model_id": "7e044a9b9b2141798eaf240192d83acd",
       "version_major": 2,
       "version_minor": 0
      },
      "text/plain": [
       "  0%|          | 0/19 [00:00<?, ?it/s]"
      ]
     },
     "metadata": {},
     "output_type": "display_data"
    },
    {
     "data": {
      "application/vnd.jupyter.widget-view+json": {
       "model_id": "81480fa31b894d9ea6de42b228860211",
       "version_major": 2,
       "version_minor": 0
      },
      "text/plain": [
       "리뷰수집중:   0%|          | 0/81 [00:00<?, ?it/s]"
      ]
     },
     "metadata": {},
     "output_type": "display_data"
    },
    {
     "name": "stdout",
     "output_type": "stream",
     "text": [
      "\n",
      "68\n",
      "현재 :  원조부안집연동점\n",
      "현재 크롤링이 진행중인 검색어 : 원조부안집연동점\n"
     ]
    },
    {
     "data": {
      "application/vnd.jupyter.widget-view+json": {
       "model_id": "3c7bc19d972b428ba626eca4cc4412f1",
       "version_major": 2,
       "version_minor": 0
      },
      "text/plain": [
       "  0%|          | 0/17 [00:00<?, ?it/s]"
      ]
     },
     "metadata": {},
     "output_type": "display_data"
    },
    {
     "data": {
      "application/vnd.jupyter.widget-view+json": {
       "model_id": "dc74a412651c4a4c88ac5667501ecb82",
       "version_major": 2,
       "version_minor": 0
      },
      "text/plain": [
       "리뷰수집중:   0%|          | 0/83 [00:00<?, ?it/s]"
      ]
     },
     "metadata": {},
     "output_type": "display_data"
    },
    {
     "name": "stdout",
     "output_type": "stream",
     "text": [
      "\n",
      "69\n",
      "현재 :  정직한초밥\n",
      "현재 크롤링이 진행중인 검색어 : 정직한초밥\n"
     ]
    },
    {
     "data": {
      "application/vnd.jupyter.widget-view+json": {
       "model_id": "9b11145bfcc5466383951e6da65487de",
       "version_major": 2,
       "version_minor": 0
      },
      "text/plain": [
       "  0%|          | 0/57 [00:00<?, ?it/s]"
      ]
     },
     "metadata": {},
     "output_type": "display_data"
    },
    {
     "data": {
      "application/vnd.jupyter.widget-view+json": {
       "model_id": "58fb7f32465a4cb58e834a5765d99d74",
       "version_major": 2,
       "version_minor": 0
      },
      "text/plain": [
       "리뷰수집중:   0%|          | 0/139 [00:00<?, ?it/s]"
      ]
     },
     "metadata": {},
     "output_type": "display_data"
    },
    {
     "name": "stdout",
     "output_type": "stream",
     "text": [
      "\n",
      "70\n",
      "현재 :  보름달\n",
      "현재 크롤링이 진행중인 검색어 : 보름달\n"
     ]
    },
    {
     "data": {
      "application/vnd.jupyter.widget-view+json": {
       "model_id": "8b609802256c4485bf7fecf15df70586",
       "version_major": 2,
       "version_minor": 0
      },
      "text/plain": [
       "리뷰수집중:   0%|          | 0/14 [00:00<?, ?it/s]"
      ]
     },
     "metadata": {},
     "output_type": "display_data"
    },
    {
     "name": "stdout",
     "output_type": "stream",
     "text": [
      "\n",
      "71\n",
      "현재 :  삼무흑돼지\n",
      "현재 크롤링이 진행중인 검색어 : 삼무흑돼지\n"
     ]
    },
    {
     "data": {
      "application/vnd.jupyter.widget-view+json": {
       "model_id": "3e8e51a4e0e54ce291be6e5b4c08346f",
       "version_major": 2,
       "version_minor": 0
      },
      "text/plain": [
       "  0%|          | 0/39 [00:04<?, ?it/s]"
      ]
     },
     "metadata": {},
     "output_type": "display_data"
    },
    {
     "data": {
      "application/vnd.jupyter.widget-view+json": {
       "model_id": "e117f400938d4a1aa9020bb67dd4ff0f",
       "version_major": 2,
       "version_minor": 0
      },
      "text/plain": [
       "리뷰수집중:   0%|          | 0/100 [00:00<?, ?it/s]"
      ]
     },
     "metadata": {},
     "output_type": "display_data"
    },
    {
     "name": "stdout",
     "output_type": "stream",
     "text": [
      "\n",
      "72\n",
      "현재 :  화목원\n",
      "현재 크롤링이 진행중인 검색어 : 화목원\n"
     ]
    },
    {
     "data": {
      "application/vnd.jupyter.widget-view+json": {
       "model_id": "5dd6ced3532947bcbad2ac38f5f933e1",
       "version_major": 2,
       "version_minor": 0
      },
      "text/plain": [
       "  0%|          | 0/43 [00:00<?, ?it/s]"
      ]
     },
     "metadata": {},
     "output_type": "display_data"
    },
    {
     "data": {
      "application/vnd.jupyter.widget-view+json": {
       "model_id": "23d492bbd896478881963b82751d574d",
       "version_major": 2,
       "version_minor": 0
      },
      "text/plain": [
       "리뷰수집중:   0%|          | 0/295 [00:00<?, ?it/s]"
      ]
     },
     "metadata": {},
     "output_type": "display_data"
    },
    {
     "name": "stdout",
     "output_type": "stream",
     "text": [
      "\n",
      "73\n",
      "현재 :  화목원\n",
      "현재 크롤링이 진행중인 검색어 : 화목원\n"
     ]
    },
    {
     "data": {
      "application/vnd.jupyter.widget-view+json": {
       "model_id": "1cdefda9bf3a418398796239be8b85ca",
       "version_major": 2,
       "version_minor": 0
      },
      "text/plain": [
       "  0%|          | 0/41 [00:00<?, ?it/s]"
      ]
     },
     "metadata": {},
     "output_type": "display_data"
    },
    {
     "data": {
      "application/vnd.jupyter.widget-view+json": {
       "model_id": "472a1625b968459484e61e4176edec54",
       "version_major": 2,
       "version_minor": 0
      },
      "text/plain": [
       "리뷰수집중:   0%|          | 0/295 [00:00<?, ?it/s]"
      ]
     },
     "metadata": {},
     "output_type": "display_data"
    },
    {
     "name": "stdout",
     "output_type": "stream",
     "text": [
      "\n",
      "74\n",
      "현재 :  화목원\n",
      "현재 크롤링이 진행중인 검색어 : 화목원\n"
     ]
    },
    {
     "data": {
      "application/vnd.jupyter.widget-view+json": {
       "model_id": "a945eb5fc4c04bceb8a3ccc615f2b0bf",
       "version_major": 2,
       "version_minor": 0
      },
      "text/plain": [
       "  0%|          | 0/43 [00:00<?, ?it/s]"
      ]
     },
     "metadata": {},
     "output_type": "display_data"
    },
    {
     "data": {
      "application/vnd.jupyter.widget-view+json": {
       "model_id": "4492b6f3201540d5b66c02c991e67806",
       "version_major": 2,
       "version_minor": 0
      },
      "text/plain": [
       "리뷰수집중:   0%|          | 0/295 [00:00<?, ?it/s]"
      ]
     },
     "metadata": {},
     "output_type": "display_data"
    },
    {
     "name": "stdout",
     "output_type": "stream",
     "text": [
      "\n",
      "75\n",
      "현재 :  화목원\n",
      "현재 크롤링이 진행중인 검색어 : 화목원\n"
     ]
    },
    {
     "data": {
      "application/vnd.jupyter.widget-view+json": {
       "model_id": "518911a41dfd4d4188eb5e4c32413376",
       "version_major": 2,
       "version_minor": 0
      },
      "text/plain": [
       "  0%|          | 0/44 [00:00<?, ?it/s]"
      ]
     },
     "metadata": {},
     "output_type": "display_data"
    },
    {
     "data": {
      "application/vnd.jupyter.widget-view+json": {
       "model_id": "29bd42089d7c4bf59cd06147d271b00a",
       "version_major": 2,
       "version_minor": 0
      },
      "text/plain": [
       "리뷰수집중:   0%|          | 0/295 [00:00<?, ?it/s]"
      ]
     },
     "metadata": {},
     "output_type": "display_data"
    },
    {
     "name": "stdout",
     "output_type": "stream",
     "text": [
      "\n",
      "76\n",
      "현재 :  신이가네\n",
      "현재 크롤링이 진행중인 검색어 : 신이가네\n"
     ]
    },
    {
     "data": {
      "application/vnd.jupyter.widget-view+json": {
       "model_id": "38737d6a059349519511e76f72d0f98c",
       "version_major": 2,
       "version_minor": 0
      },
      "text/plain": [
       "  0%|          | 0/1 [00:00<?, ?it/s]"
      ]
     },
     "metadata": {},
     "output_type": "display_data"
    },
    {
     "data": {
      "application/vnd.jupyter.widget-view+json": {
       "model_id": "8612b18fa3a5418cb6e8d1d0e4506d4f",
       "version_major": 2,
       "version_minor": 0
      },
      "text/plain": [
       "리뷰수집중:   0%|          | 0/87 [00:00<?, ?it/s]"
      ]
     },
     "metadata": {},
     "output_type": "display_data"
    },
    {
     "name": "stdout",
     "output_type": "stream",
     "text": [
      "\n",
      "77\n",
      "현재 :  제주포램\n",
      "현재 크롤링이 진행중인 검색어 : 제주포램\n"
     ]
    },
    {
     "data": {
      "application/vnd.jupyter.widget-view+json": {
       "model_id": "bdb6145788a74e37bcb55533d621cd20",
       "version_major": 2,
       "version_minor": 0
      },
      "text/plain": [
       "  0%|          | 0/3 [00:00<?, ?it/s]"
      ]
     },
     "metadata": {},
     "output_type": "display_data"
    },
    {
     "data": {
      "application/vnd.jupyter.widget-view+json": {
       "model_id": "ddecb4f6d8bb421186c1cd6ad1712dc0",
       "version_major": 2,
       "version_minor": 0
      },
      "text/plain": [
       "리뷰수집중:   0%|          | 0/32 [00:00<?, ?it/s]"
      ]
     },
     "metadata": {},
     "output_type": "display_data"
    },
    {
     "name": "stdout",
     "output_type": "stream",
     "text": [
      "\n",
      "78\n",
      "현재 :  죠스떡볶이제주제원점\n",
      "현재 크롤링이 진행중인 검색어 : 죠스떡볶이제주제원점\n"
     ]
    },
    {
     "data": {
      "application/vnd.jupyter.widget-view+json": {
       "model_id": "85979b60a565454cad2ea1eee6598178",
       "version_major": 2,
       "version_minor": 0
      },
      "text/plain": [
       "  0%|          | 0/7 [00:00<?, ?it/s]"
      ]
     },
     "metadata": {},
     "output_type": "display_data"
    },
    {
     "data": {
      "application/vnd.jupyter.widget-view+json": {
       "model_id": "51a80e3fc6ef4951b955571367d60531",
       "version_major": 2,
       "version_minor": 0
      },
      "text/plain": [
       "리뷰수집중:   0%|          | 0/57 [00:00<?, ?it/s]"
      ]
     },
     "metadata": {},
     "output_type": "display_data"
    },
    {
     "name": "stdout",
     "output_type": "stream",
     "text": [
      "\n",
      "79\n",
      "현재 :  난타5000연동신광점\n",
      "현재 크롤링이 진행중인 검색어 : 난타5000연동신광점\n"
     ]
    },
    {
     "data": {
      "application/vnd.jupyter.widget-view+json": {
       "model_id": "071948c929cd4672b99557fa57f88a5b",
       "version_major": 2,
       "version_minor": 0
      },
      "text/plain": [
       "리뷰수집중:   0%|          | 0/11 [00:00<?, ?it/s]"
      ]
     },
     "metadata": {},
     "output_type": "display_data"
    },
    {
     "name": "stdout",
     "output_type": "stream",
     "text": [
      "\n",
      "80\n",
      "현재 :  지지지\n",
      "현재 크롤링이 진행중인 검색어 : 지지지\n"
     ]
    },
    {
     "data": {
      "application/vnd.jupyter.widget-view+json": {
       "model_id": "9ce4ce40a1c048c7bba03b6ab704587b",
       "version_major": 2,
       "version_minor": 0
      },
      "text/plain": [
       "  0%|          | 0/373 [00:00<?, ?it/s]"
      ]
     },
     "metadata": {},
     "output_type": "display_data"
    },
    {
     "data": {
      "application/vnd.jupyter.widget-view+json": {
       "model_id": "1f64590f85e44e4dacf5f68a700487bc",
       "version_major": 2,
       "version_minor": 0
      },
      "text/plain": [
       "리뷰수집중:   0%|          | 0/2162 [00:00<?, ?it/s]"
      ]
     },
     "metadata": {},
     "output_type": "display_data"
    },
    {
     "name": "stdout",
     "output_type": "stream",
     "text": [
      "\n",
      "81\n",
      "현재 :  차포차\n",
      "현재 크롤링이 진행중인 검색어 : 차포차\n",
      "펼칠 리뷰가 없다.\n"
     ]
    },
    {
     "data": {
      "application/vnd.jupyter.widget-view+json": {
       "model_id": "ce0105cad5934caca349ec98c9279503",
       "version_major": 2,
       "version_minor": 0
      },
      "text/plain": [
       "  0%|          | 0/1 [00:00<?, ?it/s]"
      ]
     },
     "metadata": {},
     "output_type": "display_data"
    },
    {
     "data": {
      "application/vnd.jupyter.widget-view+json": {
       "model_id": "b9ba9fb7d77e412797a208568fae36f5",
       "version_major": 2,
       "version_minor": 0
      },
      "text/plain": [
       "리뷰수집중:   0%|          | 0/9 [00:00<?, ?it/s]"
      ]
     },
     "metadata": {},
     "output_type": "display_data"
    },
    {
     "name": "stdout",
     "output_type": "stream",
     "text": [
      "\n",
      "82\n",
      "현재 :  은희네해장국2호점\n",
      "현재 크롤링이 진행중인 검색어 : 은희네해장국2호점\n"
     ]
    },
    {
     "data": {
      "application/vnd.jupyter.widget-view+json": {
       "model_id": "fabb781c02ac419fa6390fb43fa611b8",
       "version_major": 2,
       "version_minor": 0
      },
      "text/plain": [
       "  0%|          | 0/36 [00:00<?, ?it/s]"
      ]
     },
     "metadata": {},
     "output_type": "display_data"
    },
    {
     "data": {
      "application/vnd.jupyter.widget-view+json": {
       "model_id": "36b85daf3a7f43c4a3e9570cd741d3a9",
       "version_major": 2,
       "version_minor": 0
      },
      "text/plain": [
       "리뷰수집중:   0%|          | 0/479 [00:00<?, ?it/s]"
      ]
     },
     "metadata": {},
     "output_type": "display_data"
    },
    {
     "name": "stdout",
     "output_type": "stream",
     "text": [
      "\n",
      "83\n",
      "현재 :  마라신화마라탕신라점\n",
      "현재 크롤링이 진행중인 검색어 : 마라신화마라탕신라점\n"
     ]
    },
    {
     "data": {
      "application/vnd.jupyter.widget-view+json": {
       "model_id": "611dbcf2d094482c8cc3123f08016633",
       "version_major": 2,
       "version_minor": 0
      },
      "text/plain": [
       "  0%|          | 0/10 [00:00<?, ?it/s]"
      ]
     },
     "metadata": {},
     "output_type": "display_data"
    },
    {
     "data": {
      "application/vnd.jupyter.widget-view+json": {
       "model_id": "2b2e0afdadfb498e88d34acf6f81d05f",
       "version_major": 2,
       "version_minor": 0
      },
      "text/plain": [
       "리뷰수집중:   0%|          | 0/74 [00:00<?, ?it/s]"
      ]
     },
     "metadata": {},
     "output_type": "display_data"
    },
    {
     "name": "stdout",
     "output_type": "stream",
     "text": [
      "\n",
      "84\n",
      "현재 :  처갓집양념치킨호프연동점\n",
      "현재 크롤링이 진행중인 검색어 : 처갓집양념치킨호프연동점\n"
     ]
    },
    {
     "data": {
      "application/vnd.jupyter.widget-view+json": {
       "model_id": "15808f2480b84ee3ad23e9e57954f332",
       "version_major": 2,
       "version_minor": 0
      },
      "text/plain": [
       "  0%|          | 0/1 [00:00<?, ?it/s]"
      ]
     },
     "metadata": {},
     "output_type": "display_data"
    },
    {
     "data": {
      "application/vnd.jupyter.widget-view+json": {
       "model_id": "4c3c62b4a6de4316b2caa681646bec84",
       "version_major": 2,
       "version_minor": 0
      },
      "text/plain": [
       "리뷰수집중:   0%|          | 0/27 [00:04<?, ?it/s]"
      ]
     },
     "metadata": {},
     "output_type": "display_data"
    },
    {
     "name": "stdout",
     "output_type": "stream",
     "text": [
      "\n",
      "85\n",
      "현재 :  희랑김밥\n",
      "현재 크롤링이 진행중인 검색어 : 희랑김밥\n"
     ]
    },
    {
     "data": {
      "application/vnd.jupyter.widget-view+json": {
       "model_id": "5103c9e016a0448b9f28e30703860e0d",
       "version_major": 2,
       "version_minor": 0
      },
      "text/plain": [
       "  0%|          | 0/3 [00:00<?, ?it/s]"
      ]
     },
     "metadata": {},
     "output_type": "display_data"
    },
    {
     "data": {
      "application/vnd.jupyter.widget-view+json": {
       "model_id": "aac258bc6c234a029175f9d0f7294fec",
       "version_major": 2,
       "version_minor": 0
      },
      "text/plain": [
       "리뷰수집중:   0%|          | 0/38 [00:00<?, ?it/s]"
      ]
     },
     "metadata": {},
     "output_type": "display_data"
    },
    {
     "name": "stdout",
     "output_type": "stream",
     "text": [
      "\n",
      "86\n",
      "현재 :  제주돈가스\n",
      "현재 크롤링이 진행중인 검색어 : 제주돈가스\n"
     ]
    },
    {
     "data": {
      "application/vnd.jupyter.widget-view+json": {
       "model_id": "edc5cbd531014c1396554b500fa2741c",
       "version_major": 2,
       "version_minor": 0
      },
      "text/plain": [
       "  0%|          | 0/34 [00:00<?, ?it/s]"
      ]
     },
     "metadata": {},
     "output_type": "display_data"
    },
    {
     "data": {
      "application/vnd.jupyter.widget-view+json": {
       "model_id": "8909c88e0e3d4c99b023c1ebf7065d94",
       "version_major": 2,
       "version_minor": 0
      },
      "text/plain": [
       "리뷰수집중:   0%|          | 0/247 [00:00<?, ?it/s]"
      ]
     },
     "metadata": {},
     "output_type": "display_data"
    },
    {
     "name": "stdout",
     "output_type": "stream",
     "text": [
      "\n",
      "87\n",
      "현재 :  초원오리\n",
      "현재 크롤링이 진행중인 검색어 : 초원오리\n",
      "펼칠 리뷰가 없다.\n"
     ]
    },
    {
     "data": {
      "application/vnd.jupyter.widget-view+json": {
       "model_id": "a8909599592942248267694da4e3004b",
       "version_major": 2,
       "version_minor": 0
      },
      "text/plain": [
       "리뷰수집중:   0%|          | 0/5 [00:00<?, ?it/s]"
      ]
     },
     "metadata": {},
     "output_type": "display_data"
    },
    {
     "name": "stdout",
     "output_type": "stream",
     "text": [
      "\n",
      "88\n",
      "현재 :  은남두루치기\n",
      "현재 크롤링이 진행중인 검색어 : 은남두루치기\n",
      "펼칠 리뷰가 없다.\n"
     ]
    },
    {
     "data": {
      "application/vnd.jupyter.widget-view+json": {
       "model_id": "a547711a9e53437c894eebf350a66f56",
       "version_major": 2,
       "version_minor": 0
      },
      "text/plain": [
       "리뷰수집중:   0%|          | 0/2 [00:04<?, ?it/s]"
      ]
     },
     "metadata": {},
     "output_type": "display_data"
    },
    {
     "name": "stdout",
     "output_type": "stream",
     "text": [
      "\n",
      "89\n",
      "현재 :  퐁낭그늘\n",
      "현재 크롤링이 진행중인 검색어 : 퐁낭그늘\n"
     ]
    },
    {
     "data": {
      "application/vnd.jupyter.widget-view+json": {
       "model_id": "ea697a76ad1c448e8a36d329871af923",
       "version_major": 2,
       "version_minor": 0
      },
      "text/plain": [
       "  0%|          | 0/16 [00:00<?, ?it/s]"
      ]
     },
     "metadata": {},
     "output_type": "display_data"
    },
    {
     "data": {
      "application/vnd.jupyter.widget-view+json": {
       "model_id": "657c021ba0d244c0ba2a1f01f64f4996",
       "version_major": 2,
       "version_minor": 0
      },
      "text/plain": [
       "리뷰수집중:   0%|          | 0/61 [00:12<?, ?it/s]"
      ]
     },
     "metadata": {},
     "output_type": "display_data"
    },
    {
     "name": "stdout",
     "output_type": "stream",
     "text": [
      "\n",
      "90\n",
      "현재 :  양양밥집\n",
      "현재 크롤링이 진행중인 검색어 : 양양밥집\n"
     ]
    },
    {
     "data": {
      "application/vnd.jupyter.widget-view+json": {
       "model_id": "2460047cfc1e4d748be2d661444bc0e5",
       "version_major": 2,
       "version_minor": 0
      },
      "text/plain": [
       "리뷰수집중:   0%|          | 0/12 [00:00<?, ?it/s]"
      ]
     },
     "metadata": {},
     "output_type": "display_data"
    },
    {
     "name": "stdout",
     "output_type": "stream",
     "text": [
      "\n",
      "91\n",
      "현재 :  달떡볶이신제주점\n",
      "현재 크롤링이 진행중인 검색어 : 달떡볶이신제주점\n"
     ]
    },
    {
     "data": {
      "application/vnd.jupyter.widget-view+json": {
       "model_id": "e21996d7eba545619ec401a2213d6b72",
       "version_major": 2,
       "version_minor": 0
      },
      "text/plain": [
       "  0%|          | 0/33 [00:04<?, ?it/s]"
      ]
     },
     "metadata": {},
     "output_type": "display_data"
    },
    {
     "data": {
      "application/vnd.jupyter.widget-view+json": {
       "model_id": "3f9562609d5d4d6fb27c264b99731158",
       "version_major": 2,
       "version_minor": 0
      },
      "text/plain": [
       "리뷰수집중:   0%|          | 0/257 [00:00<?, ?it/s]"
      ]
     },
     "metadata": {},
     "output_type": "display_data"
    },
    {
     "name": "stdout",
     "output_type": "stream",
     "text": [
      "\n",
      "92\n",
      "현재 :  최고밥상\n",
      "현재 크롤링이 진행중인 검색어 : 최고밥상\n",
      "펼칠 리뷰가 없다.\n"
     ]
    },
    {
     "data": {
      "application/vnd.jupyter.widget-view+json": {
       "model_id": "1216dcad5aa34490b44aee6944f2d816",
       "version_major": 2,
       "version_minor": 0
      },
      "text/plain": [
       "  0%|          | 0/1 [00:00<?, ?it/s]"
      ]
     },
     "metadata": {},
     "output_type": "display_data"
    },
    {
     "data": {
      "application/vnd.jupyter.widget-view+json": {
       "model_id": "fae9e00e96aa4f9babfab59cbb7ec2ef",
       "version_major": 2,
       "version_minor": 0
      },
      "text/plain": [
       "리뷰수집중:   0%|          | 0/9 [00:00<?, ?it/s]"
      ]
     },
     "metadata": {},
     "output_type": "display_data"
    },
    {
     "name": "stdout",
     "output_type": "stream",
     "text": [
      "\n",
      "93\n",
      "현재 :  절친포차\n",
      "현재 크롤링이 진행중인 검색어 : 절친포차\n",
      "펼칠 리뷰가 없다.\n"
     ]
    },
    {
     "data": {
      "application/vnd.jupyter.widget-view+json": {
       "model_id": "e54e3a7fa1794455a1a56e0211aa9f1f",
       "version_major": 2,
       "version_minor": 0
      },
      "text/plain": [
       "리뷰수집중:   0%|          | 0/4 [00:00<?, ?it/s]"
      ]
     },
     "metadata": {},
     "output_type": "display_data"
    },
    {
     "name": "stdout",
     "output_type": "stream",
     "text": [
      "\n",
      "94\n",
      "현재 :  이모밥상\n",
      "현재 크롤링이 진행중인 검색어 : 이모밥상\n"
     ]
    },
    {
     "data": {
      "application/vnd.jupyter.widget-view+json": {
       "model_id": "6a42da0b13b24e65a1c5263c19ada38e",
       "version_major": 2,
       "version_minor": 0
      },
      "text/plain": [
       "  0%|          | 0/102 [00:00<?, ?it/s]"
      ]
     },
     "metadata": {},
     "output_type": "display_data"
    },
    {
     "data": {
      "application/vnd.jupyter.widget-view+json": {
       "model_id": "7a450a7c29c547909e78a23aaabb57be",
       "version_major": 2,
       "version_minor": 0
      },
      "text/plain": [
       "리뷰수집중:   0%|          | 0/467 [00:00<?, ?it/s]"
      ]
     },
     "metadata": {},
     "output_type": "display_data"
    },
    {
     "name": "stdout",
     "output_type": "stream",
     "text": [
      "\n",
      "95\n",
      "현재 :  만선바다\n",
      "현재 크롤링이 진행중인 검색어 : 만선바다\n"
     ]
    },
    {
     "data": {
      "application/vnd.jupyter.widget-view+json": {
       "model_id": "1aec393457fd47f0aa8090ca5730e7b5",
       "version_major": 2,
       "version_minor": 0
      },
      "text/plain": [
       "  0%|          | 0/18 [00:00<?, ?it/s]"
      ]
     },
     "metadata": {},
     "output_type": "display_data"
    },
    {
     "data": {
      "application/vnd.jupyter.widget-view+json": {
       "model_id": "5f6dd01302ad4e0cbfe9e96ae6c5293a",
       "version_major": 2,
       "version_minor": 0
      },
      "text/plain": [
       "리뷰수집중:   0%|          | 0/120 [00:00<?, ?it/s]"
      ]
     },
     "metadata": {},
     "output_type": "display_data"
    },
    {
     "name": "stdout",
     "output_type": "stream",
     "text": [
      "\n",
      "96\n",
      "현재 :  달료포차\n",
      "현재 크롤링이 진행중인 검색어 : 달료포차\n",
      "펼칠 리뷰가 없다.\n"
     ]
    },
    {
     "data": {
      "application/vnd.jupyter.widget-view+json": {
       "model_id": "6f4155fe1c1a4f329d0b253ed274dfc6",
       "version_major": 2,
       "version_minor": 0
      },
      "text/plain": [
       "리뷰수집중:   0%|          | 0/4 [00:00<?, ?it/s]"
      ]
     },
     "metadata": {},
     "output_type": "display_data"
    },
    {
     "name": "stdout",
     "output_type": "stream",
     "text": [
      "\n",
      "97\n",
      "현재 :  치타\n",
      "현재 크롤링이 진행중인 검색어 : 치타\n"
     ]
    },
    {
     "data": {
      "application/vnd.jupyter.widget-view+json": {
       "model_id": "28704651ef8247149fc8abf1fde3e131",
       "version_major": 2,
       "version_minor": 0
      },
      "text/plain": [
       "  0%|          | 0/23 [00:04<?, ?it/s]"
      ]
     },
     "metadata": {},
     "output_type": "display_data"
    },
    {
     "data": {
      "application/vnd.jupyter.widget-view+json": {
       "model_id": "cfcf7a1e93bc4710a6e0e565062cf7b4",
       "version_major": 2,
       "version_minor": 0
      },
      "text/plain": [
       "리뷰수집중:   0%|          | 0/78 [00:00<?, ?it/s]"
      ]
     },
     "metadata": {},
     "output_type": "display_data"
    },
    {
     "name": "stdout",
     "output_type": "stream",
     "text": [
      "\n",
      "98\n",
      "현재 :  릴리펏제주점\n",
      "현재 크롤링이 진행중인 검색어 : 릴리펏제주점\n"
     ]
    },
    {
     "data": {
      "application/vnd.jupyter.widget-view+json": {
       "model_id": "8cf21d972666439ca26a17bbe8aeddfd",
       "version_major": 2,
       "version_minor": 0
      },
      "text/plain": [
       "  0%|          | 0/1 [00:00<?, ?it/s]"
      ]
     },
     "metadata": {},
     "output_type": "display_data"
    },
    {
     "data": {
      "application/vnd.jupyter.widget-view+json": {
       "model_id": "635d94450d6c439f80a093ee98ef4570",
       "version_major": 2,
       "version_minor": 0
      },
      "text/plain": [
       "리뷰수집중:   0%|          | 0/11 [00:00<?, ?it/s]"
      ]
     },
     "metadata": {},
     "output_type": "display_data"
    },
    {
     "name": "stdout",
     "output_type": "stream",
     "text": [
      "\n",
      "99\n",
      "현재 :  푸라닭제주연동점\n",
      "현재 크롤링이 진행중인 검색어 : 푸라닭제주연동점\n"
     ]
    },
    {
     "data": {
      "application/vnd.jupyter.widget-view+json": {
       "model_id": "354ab7a246864602b03f3a2c38267164",
       "version_major": 2,
       "version_minor": 0
      },
      "text/plain": [
       "  0%|          | 0/2 [00:00<?, ?it/s]"
      ]
     },
     "metadata": {},
     "output_type": "display_data"
    },
    {
     "data": {
      "application/vnd.jupyter.widget-view+json": {
       "model_id": "9f35c3259f6d441bb6d60224a00a731f",
       "version_major": 2,
       "version_minor": 0
      },
      "text/plain": [
       "리뷰수집중:   0%|          | 0/52 [00:00<?, ?it/s]"
      ]
     },
     "metadata": {},
     "output_type": "display_data"
    },
    {
     "name": "stdout",
     "output_type": "stream",
     "text": [
      "\n",
      "100\n",
      "현재 :  신이내린닭신제주신이점\n",
      "현재 크롤링이 진행중인 검색어 : 신이내린닭신제주신이점\n"
     ]
    },
    {
     "data": {
      "application/vnd.jupyter.widget-view+json": {
       "model_id": "15c1d42e147c4e908e4af5b443478bfe",
       "version_major": 2,
       "version_minor": 0
      },
      "text/plain": [
       "  0%|          | 0/14 [00:00<?, ?it/s]"
      ]
     },
     "metadata": {},
     "output_type": "display_data"
    },
    {
     "data": {
      "application/vnd.jupyter.widget-view+json": {
       "model_id": "f51a9addfbb24394958ccec522cefdd0",
       "version_major": 2,
       "version_minor": 0
      },
      "text/plain": [
       "리뷰수집중:   0%|          | 0/61 [00:00<?, ?it/s]"
      ]
     },
     "metadata": {},
     "output_type": "display_data"
    },
    {
     "name": "stdout",
     "output_type": "stream",
     "text": [
      "\n",
      "101\n",
      "현재 :  봉하깡통구이\n",
      "현재 크롤링이 진행중인 검색어 : 봉하깡통구이\n"
     ]
    },
    {
     "data": {
      "application/vnd.jupyter.widget-view+json": {
       "model_id": "3d33ae1303d84b83a08b30567d7d5d0e",
       "version_major": 2,
       "version_minor": 0
      },
      "text/plain": [
       "  0%|          | 0/11 [00:00<?, ?it/s]"
      ]
     },
     "metadata": {},
     "output_type": "display_data"
    },
    {
     "data": {
      "application/vnd.jupyter.widget-view+json": {
       "model_id": "81ee1a806e294aaa98c5f9fe82c25a49",
       "version_major": 2,
       "version_minor": 0
      },
      "text/plain": [
       "리뷰수집중:   0%|          | 0/53 [00:00<?, ?it/s]"
      ]
     },
     "metadata": {},
     "output_type": "display_data"
    },
    {
     "name": "stdout",
     "output_type": "stream",
     "text": [
      "\n",
      "102\n",
      "현재 :  대아갈비\n",
      "현재 크롤링이 진행중인 검색어 : 대아갈비\n",
      "펼칠 리뷰가 없다.\n"
     ]
    },
    {
     "data": {
      "application/vnd.jupyter.widget-view+json": {
       "model_id": "5141b78aeb0744d99cd5cc6a1013d454",
       "version_major": 2,
       "version_minor": 0
      },
      "text/plain": [
       "리뷰수집중:   0%|          | 0/6 [00:00<?, ?it/s]"
      ]
     },
     "metadata": {},
     "output_type": "display_data"
    },
    {
     "name": "stdout",
     "output_type": "stream",
     "text": [
      "\n",
      "103\n",
      "현재 :  봄촌\n",
      "현재 크롤링이 진행중인 검색어 : 봄촌\n"
     ]
    },
    {
     "data": {
      "application/vnd.jupyter.widget-view+json": {
       "model_id": "f7f4be679ac042b29446b5d6e3e3f4e1",
       "version_major": 2,
       "version_minor": 0
      },
      "text/plain": [
       "  0%|          | 0/3 [00:04<?, ?it/s]"
      ]
     },
     "metadata": {},
     "output_type": "display_data"
    },
    {
     "data": {
      "application/vnd.jupyter.widget-view+json": {
       "model_id": "d4edb977fffd4bfda063a4299159560d",
       "version_major": 2,
       "version_minor": 0
      },
      "text/plain": [
       "리뷰수집중:   0%|          | 0/37 [00:00<?, ?it/s]"
      ]
     },
     "metadata": {},
     "output_type": "display_data"
    },
    {
     "name": "stdout",
     "output_type": "stream",
     "text": [
      "\n",
      "104\n",
      "현재 :  연동대게회타운\n",
      "현재 크롤링이 진행중인 검색어 : 연동대게회타운\n"
     ]
    },
    {
     "data": {
      "application/vnd.jupyter.widget-view+json": {
       "model_id": "657a938836ea4c55b6eb0bbdacce03b8",
       "version_major": 2,
       "version_minor": 0
      },
      "text/plain": [
       "  0%|          | 0/58 [00:00<?, ?it/s]"
      ]
     },
     "metadata": {},
     "output_type": "display_data"
    },
    {
     "data": {
      "application/vnd.jupyter.widget-view+json": {
       "model_id": "5b1f4701787c4b449fad966af1b74906",
       "version_major": 2,
       "version_minor": 0
      },
      "text/plain": [
       "리뷰수집중:   0%|          | 0/369 [00:00<?, ?it/s]"
      ]
     },
     "metadata": {},
     "output_type": "display_data"
    },
    {
     "name": "stdout",
     "output_type": "stream",
     "text": [
      "\n",
      "105\n",
      "현재 :  어촌마당\n",
      "현재 크롤링이 진행중인 검색어 : 어촌마당\n",
      "펼칠 리뷰가 없다.\n"
     ]
    },
    {
     "data": {
      "application/vnd.jupyter.widget-view+json": {
       "model_id": "bb5643e8bc324752af97e87536a87bcc",
       "version_major": 2,
       "version_minor": 0
      },
      "text/plain": [
       "리뷰수집중:   0%|          | 0/2 [00:00<?, ?it/s]"
      ]
     },
     "metadata": {},
     "output_type": "display_data"
    },
    {
     "name": "stdout",
     "output_type": "stream",
     "text": [
      "\n",
      "106\n",
      "현재 :  더헤이븐\n",
      "현재 크롤링이 진행중인 검색어 : 더헤이븐\n"
     ]
    },
    {
     "data": {
      "application/vnd.jupyter.widget-view+json": {
       "model_id": "a992f1f4ebea4be98874599ec0e5a58d",
       "version_major": 2,
       "version_minor": 0
      },
      "text/plain": [
       "  0%|          | 0/13 [00:04<?, ?it/s]"
      ]
     },
     "metadata": {},
     "output_type": "display_data"
    },
    {
     "data": {
      "application/vnd.jupyter.widget-view+json": {
       "model_id": "cef5e7f696af4e4789e2b31ab48b6aec",
       "version_major": 2,
       "version_minor": 0
      },
      "text/plain": [
       "리뷰수집중:   0%|          | 0/53 [00:00<?, ?it/s]"
      ]
     },
     "metadata": {},
     "output_type": "display_data"
    },
    {
     "name": "stdout",
     "output_type": "stream",
     "text": [
      "\n",
      "107\n",
      "현재 :  당근포차\n",
      "현재 크롤링이 진행중인 검색어 : 당근포차\n",
      "펼칠 리뷰가 없다.\n"
     ]
    },
    {
     "data": {
      "application/vnd.jupyter.widget-view+json": {
       "model_id": "501502ec3e144300950231aa96725bbd",
       "version_major": 2,
       "version_minor": 0
      },
      "text/plain": [
       "리뷰수집중:   0%|          | 0/4 [00:00<?, ?it/s]"
      ]
     },
     "metadata": {},
     "output_type": "display_data"
    },
    {
     "name": "stdout",
     "output_type": "stream",
     "text": [
      "\n",
      "108\n",
      "현재 :  대어호\n",
      "현재 크롤링이 진행중인 검색어 : 대어호\n"
     ]
    },
    {
     "data": {
      "application/vnd.jupyter.widget-view+json": {
       "model_id": "d09cb2c99dff438e966c9c0007f18899",
       "version_major": 2,
       "version_minor": 0
      },
      "text/plain": [
       "  0%|          | 0/4 [00:04<?, ?it/s]"
      ]
     },
     "metadata": {},
     "output_type": "display_data"
    },
    {
     "data": {
      "application/vnd.jupyter.widget-view+json": {
       "model_id": "47813239450347d1b7a065c0a18195a0",
       "version_major": 2,
       "version_minor": 0
      },
      "text/plain": [
       "리뷰수집중:   0%|          | 0/25 [00:00<?, ?it/s]"
      ]
     },
     "metadata": {},
     "output_type": "display_data"
    },
    {
     "name": "stdout",
     "output_type": "stream",
     "text": [
      "\n",
      "109\n",
      "현재 :  누룩대통령\n",
      "현재 크롤링이 진행중인 검색어 : 누룩대통령\n",
      "펼칠 리뷰가 없다.\n"
     ]
    },
    {
     "data": {
      "application/vnd.jupyter.widget-view+json": {
       "model_id": "35c31e97f30e43d7b85e818e5cec6aab",
       "version_major": 2,
       "version_minor": 0
      },
      "text/plain": [
       "리뷰수집중:   0%|          | 0/10 [00:00<?, ?it/s]"
      ]
     },
     "metadata": {},
     "output_type": "display_data"
    },
    {
     "name": "stdout",
     "output_type": "stream",
     "text": [
      "\n",
      "110\n",
      "현재 :  삼다칼국수\n",
      "현재 크롤링이 진행중인 검색어 : 삼다칼국수\n"
     ]
    },
    {
     "data": {
      "application/vnd.jupyter.widget-view+json": {
       "model_id": "c75f455f1cba41b7b6ac773e9ef8b9fd",
       "version_major": 2,
       "version_minor": 0
      },
      "text/plain": [
       "  0%|          | 0/4 [00:04<?, ?it/s]"
      ]
     },
     "metadata": {},
     "output_type": "display_data"
    },
    {
     "data": {
      "application/vnd.jupyter.widget-view+json": {
       "model_id": "5211cd7c8e5649b4b72c21b62aa9b2e7",
       "version_major": 2,
       "version_minor": 0
      },
      "text/plain": [
       "리뷰수집중:   0%|          | 0/32 [00:00<?, ?it/s]"
      ]
     },
     "metadata": {},
     "output_type": "display_data"
    },
    {
     "name": "stdout",
     "output_type": "stream",
     "text": [
      "\n",
      "111\n",
      "현재 :  돈오름숯불갈비제원점\n",
      "현재 크롤링이 진행중인 검색어 : 돈오름숯불갈비제원점\n"
     ]
    },
    {
     "data": {
      "application/vnd.jupyter.widget-view+json": {
       "model_id": "5a5bdfb3752444fe87d803b939cc2423",
       "version_major": 2,
       "version_minor": 0
      },
      "text/plain": [
       "  0%|          | 0/23 [00:00<?, ?it/s]"
      ]
     },
     "metadata": {},
     "output_type": "display_data"
    },
    {
     "data": {
      "application/vnd.jupyter.widget-view+json": {
       "model_id": "d4139d934868414bbad29ce093769706",
       "version_major": 2,
       "version_minor": 0
      },
      "text/plain": [
       "리뷰수집중:   0%|          | 0/75 [00:00<?, ?it/s]"
      ]
     },
     "metadata": {},
     "output_type": "display_data"
    },
    {
     "name": "stdout",
     "output_type": "stream",
     "text": [
      "\n",
      "112\n",
      "현재 :  부가네얼큰이신시가지점\n",
      "현재 크롤링이 진행중인 검색어 : 부가네얼큰이신시가지점\n"
     ]
    },
    {
     "data": {
      "application/vnd.jupyter.widget-view+json": {
       "model_id": "5a7270182e944f85a5fcd5d1c5e0f7e4",
       "version_major": 2,
       "version_minor": 0
      },
      "text/plain": [
       "  0%|          | 0/2 [00:00<?, ?it/s]"
      ]
     },
     "metadata": {},
     "output_type": "display_data"
    },
    {
     "data": {
      "application/vnd.jupyter.widget-view+json": {
       "model_id": "5955f46afab345779f4139a0b84cadb0",
       "version_major": 2,
       "version_minor": 0
      },
      "text/plain": [
       "리뷰수집중:   0%|          | 0/19 [00:00<?, ?it/s]"
      ]
     },
     "metadata": {},
     "output_type": "display_data"
    },
    {
     "name": "stdout",
     "output_type": "stream",
     "text": [
      "\n",
      "113\n",
      "현재 :  24시뼈다귀탕신제주점\n",
      "현재 크롤링이 진행중인 검색어 : 24시뼈다귀탕신제주점\n"
     ]
    },
    {
     "data": {
      "application/vnd.jupyter.widget-view+json": {
       "model_id": "3159dec2bfe742a8b9ae960571638228",
       "version_major": 2,
       "version_minor": 0
      },
      "text/plain": [
       "  0%|          | 0/11 [00:00<?, ?it/s]"
      ]
     },
     "metadata": {},
     "output_type": "display_data"
    },
    {
     "data": {
      "application/vnd.jupyter.widget-view+json": {
       "model_id": "ece8cf16543041ae85309a7e7ee1b384",
       "version_major": 2,
       "version_minor": 0
      },
      "text/plain": [
       "리뷰수집중:   0%|          | 0/112 [00:00<?, ?it/s]"
      ]
     },
     "metadata": {},
     "output_type": "display_data"
    },
    {
     "name": "stdout",
     "output_type": "stream",
     "text": [
      "\n",
      "114\n",
      "현재 :  굽네치킨연동점\n",
      "현재 크롤링이 진행중인 검색어 : 굽네치킨연동점\n"
     ]
    },
    {
     "data": {
      "application/vnd.jupyter.widget-view+json": {
       "model_id": "99126e6d6b434871a91a03bc7ef53ab5",
       "version_major": 2,
       "version_minor": 0
      },
      "text/plain": [
       "  0%|          | 0/1 [00:00<?, ?it/s]"
      ]
     },
     "metadata": {},
     "output_type": "display_data"
    },
    {
     "data": {
      "application/vnd.jupyter.widget-view+json": {
       "model_id": "943f96871b6243b39604df02bee09b96",
       "version_major": 2,
       "version_minor": 0
      },
      "text/plain": [
       "리뷰수집중:   0%|          | 0/50 [00:00<?, ?it/s]"
      ]
     },
     "metadata": {},
     "output_type": "display_data"
    },
    {
     "name": "stdout",
     "output_type": "stream",
     "text": [
      "\n",
      "115\n",
      "현재 :  황구촌\n",
      "현재 크롤링이 진행중인 검색어 : 황구촌\n"
     ]
    },
    {
     "data": {
      "application/vnd.jupyter.widget-view+json": {
       "model_id": "da44504a9c534783bc450d1b0ba604e9",
       "version_major": 2,
       "version_minor": 0
      },
      "text/plain": [
       "리뷰수집중:   0%|          | 0/19 [00:00<?, ?it/s]"
      ]
     },
     "metadata": {},
     "output_type": "display_data"
    },
    {
     "name": "stdout",
     "output_type": "stream",
     "text": [
      "\n",
      "116\n",
      "현재 :  비비큐신연동점\n",
      "현재 크롤링이 진행중인 검색어 : 비비큐신연동점\n"
     ]
    },
    {
     "data": {
      "application/vnd.jupyter.widget-view+json": {
       "model_id": "e0f9f31caca2434f97a712d259779082",
       "version_major": 2,
       "version_minor": 0
      },
      "text/plain": [
       "리뷰수집중:   0%|          | 0/38 [00:00<?, ?it/s]"
      ]
     },
     "metadata": {},
     "output_type": "display_data"
    },
    {
     "name": "stdout",
     "output_type": "stream",
     "text": [
      "\n",
      "117\n",
      "현재 :  전주토속청국장\n",
      "현재 크롤링이 진행중인 검색어 : 전주토속청국장\n"
     ]
    },
    {
     "data": {
      "application/vnd.jupyter.widget-view+json": {
       "model_id": "d0b670a11ac9460c83a2e8d3e6b2da36",
       "version_major": 2,
       "version_minor": 0
      },
      "text/plain": [
       "  0%|          | 0/4 [00:00<?, ?it/s]"
      ]
     },
     "metadata": {},
     "output_type": "display_data"
    },
    {
     "data": {
      "application/vnd.jupyter.widget-view+json": {
       "model_id": "ec6a3b3ca0ff40cda6771613a9a4870c",
       "version_major": 2,
       "version_minor": 0
      },
      "text/plain": [
       "리뷰수집중:   0%|          | 0/43 [00:00<?, ?it/s]"
      ]
     },
     "metadata": {},
     "output_type": "display_data"
    },
    {
     "name": "stdout",
     "output_type": "stream",
     "text": [
      "\n",
      "118\n",
      "현재 :  빨간집연동점\n",
      "현재 크롤링이 진행중인 검색어 : 빨간집연동점\n"
     ]
    },
    {
     "data": {
      "application/vnd.jupyter.widget-view+json": {
       "model_id": "c725c03ac15940ad9520c4acdfa8567e",
       "version_major": 2,
       "version_minor": 0
      },
      "text/plain": [
       "  0%|          | 0/4 [00:00<?, ?it/s]"
      ]
     },
     "metadata": {},
     "output_type": "display_data"
    },
    {
     "data": {
      "application/vnd.jupyter.widget-view+json": {
       "model_id": "fff63142a62c4cc38b6edbfc002c889c",
       "version_major": 2,
       "version_minor": 0
      },
      "text/plain": [
       "리뷰수집중:   0%|          | 0/28 [00:00<?, ?it/s]"
      ]
     },
     "metadata": {},
     "output_type": "display_data"
    },
    {
     "name": "stdout",
     "output_type": "stream",
     "text": [
      "\n",
      "119\n",
      "현재 :  두남자이야기\n",
      "현재 크롤링이 진행중인 검색어 : 두남자이야기\n"
     ]
    },
    {
     "data": {
      "application/vnd.jupyter.widget-view+json": {
       "model_id": "2087cec6a3f44811acabab1ad8647fad",
       "version_major": 2,
       "version_minor": 0
      },
      "text/plain": [
       "  0%|          | 0/3 [00:00<?, ?it/s]"
      ]
     },
     "metadata": {},
     "output_type": "display_data"
    },
    {
     "data": {
      "application/vnd.jupyter.widget-view+json": {
       "model_id": "4b5c04a3b2d24f848f2b0232397e356c",
       "version_major": 2,
       "version_minor": 0
      },
      "text/plain": [
       "리뷰수집중:   0%|          | 0/17 [00:00<?, ?it/s]"
      ]
     },
     "metadata": {},
     "output_type": "display_data"
    },
    {
     "name": "stdout",
     "output_type": "stream",
     "text": [
      "\n",
      "120\n",
      "현재 :  풍천만가\n",
      "현재 크롤링이 진행중인 검색어 : 풍천만가\n"
     ]
    },
    {
     "data": {
      "application/vnd.jupyter.widget-view+json": {
       "model_id": "d7c8679feae24ba5b81e5e82a449d615",
       "version_major": 2,
       "version_minor": 0
      },
      "text/plain": [
       "  0%|          | 0/20 [00:00<?, ?it/s]"
      ]
     },
     "metadata": {},
     "output_type": "display_data"
    },
    {
     "data": {
      "application/vnd.jupyter.widget-view+json": {
       "model_id": "801bfa1fe446467594b65a45a27296fd",
       "version_major": 2,
       "version_minor": 0
      },
      "text/plain": [
       "리뷰수집중:   0%|          | 0/115 [00:00<?, ?it/s]"
      ]
     },
     "metadata": {},
     "output_type": "display_data"
    },
    {
     "name": "stdout",
     "output_type": "stream",
     "text": [
      "\n",
      "121\n",
      "현재 :  소주방아지트\n",
      "현재 크롤링이 진행중인 검색어 : 소주방아지트\n",
      "\n",
      "122\n",
      "현재 :  모니카옛날통닭\n",
      "현재 크롤링이 진행중인 검색어 : 모니카옛날통닭\n"
     ]
    },
    {
     "data": {
      "application/vnd.jupyter.widget-view+json": {
       "model_id": "054010db880d4d9e8e5013d47ac37575",
       "version_major": 2,
       "version_minor": 0
      },
      "text/plain": [
       "  0%|          | 0/48 [00:00<?, ?it/s]"
      ]
     },
     "metadata": {},
     "output_type": "display_data"
    },
    {
     "data": {
      "application/vnd.jupyter.widget-view+json": {
       "model_id": "1986e38e46bf4363ae323f6a2dccf471",
       "version_major": 2,
       "version_minor": 0
      },
      "text/plain": [
       "리뷰수집중:   0%|          | 0/341 [00:00<?, ?it/s]"
      ]
     },
     "metadata": {},
     "output_type": "display_data"
    },
    {
     "name": "stdout",
     "output_type": "stream",
     "text": [
      "\n",
      "123\n",
      "현재 :  맛장터\n",
      "현재 크롤링이 진행중인 검색어 : 맛장터\n"
     ]
    },
    {
     "data": {
      "application/vnd.jupyter.widget-view+json": {
       "model_id": "91c7524b72894a06840e7d34b0200ec7",
       "version_major": 2,
       "version_minor": 0
      },
      "text/plain": [
       "  0%|          | 0/85 [00:00<?, ?it/s]"
      ]
     },
     "metadata": {},
     "output_type": "display_data"
    },
    {
     "data": {
      "application/vnd.jupyter.widget-view+json": {
       "model_id": "0dad70f1c8e2434aa3a054278f176129",
       "version_major": 2,
       "version_minor": 0
      },
      "text/plain": [
       "리뷰수집중:   0%|          | 0/449 [00:00<?, ?it/s]"
      ]
     },
     "metadata": {},
     "output_type": "display_data"
    },
    {
     "name": "stdout",
     "output_type": "stream",
     "text": [
      "\n",
      "124\n",
      "현재 :  두루와\n",
      "현재 크롤링이 진행중인 검색어 : 두루와\n",
      "펼칠 리뷰가 없다.\n",
      "\n",
      "125\n",
      "현재 :  난타오천연동점\n",
      "현재 크롤링이 진행중인 검색어 : 난타오천연동점\n"
     ]
    },
    {
     "data": {
      "application/vnd.jupyter.widget-view+json": {
       "model_id": "ae121603f87848bbaba4125a093f7269",
       "version_major": 2,
       "version_minor": 0
      },
      "text/plain": [
       "리뷰수집중:   0%|          | 0/58 [00:00<?, ?it/s]"
      ]
     },
     "metadata": {},
     "output_type": "display_data"
    },
    {
     "name": "stdout",
     "output_type": "stream",
     "text": [
      "\n",
      "126\n",
      "현재 :  지지고부치고\n",
      "현재 크롤링이 진행중인 검색어 : 지지고부치고\n"
     ]
    },
    {
     "data": {
      "application/vnd.jupyter.widget-view+json": {
       "model_id": "9fcc6c73330a4b86914dec7e7746d9c1",
       "version_major": 2,
       "version_minor": 0
      },
      "text/plain": [
       "리뷰수집중:   0%|          | 0/16 [00:00<?, ?it/s]"
      ]
     },
     "metadata": {},
     "output_type": "display_data"
    },
    {
     "name": "stdout",
     "output_type": "stream",
     "text": [
      "\n",
      "127\n",
      "현재 :  화연\n",
      "현재 크롤링이 진행중인 검색어 : 화연\n"
     ]
    },
    {
     "data": {
      "application/vnd.jupyter.widget-view+json": {
       "model_id": "bae1e1351a8047a0ab110d817c991f93",
       "version_major": 2,
       "version_minor": 0
      },
      "text/plain": [
       "  0%|          | 0/11 [00:04<?, ?it/s]"
      ]
     },
     "metadata": {},
     "output_type": "display_data"
    },
    {
     "data": {
      "application/vnd.jupyter.widget-view+json": {
       "model_id": "a931b744bac4407180eb00a777a7d5fb",
       "version_major": 2,
       "version_minor": 0
      },
      "text/plain": [
       "리뷰수집중:   0%|          | 0/27 [00:00<?, ?it/s]"
      ]
     },
     "metadata": {},
     "output_type": "display_data"
    },
    {
     "name": "stdout",
     "output_type": "stream",
     "text": [
      "\n",
      "128\n",
      "현재 :  신번지\n",
      "현재 크롤링이 진행중인 검색어 : 신번지\n"
     ]
    },
    {
     "data": {
      "application/vnd.jupyter.widget-view+json": {
       "model_id": "02b8110f56ed4c8ea11185a8d1d01d98",
       "version_major": 2,
       "version_minor": 0
      },
      "text/plain": [
       "  0%|          | 0/1 [00:00<?, ?it/s]"
      ]
     },
     "metadata": {},
     "output_type": "display_data"
    },
    {
     "data": {
      "application/vnd.jupyter.widget-view+json": {
       "model_id": "b5f31bfd52ee447a844200637d53a908",
       "version_major": 2,
       "version_minor": 0
      },
      "text/plain": [
       "리뷰수집중:   0%|          | 0/13 [00:00<?, ?it/s]"
      ]
     },
     "metadata": {},
     "output_type": "display_data"
    },
    {
     "name": "stdout",
     "output_type": "stream",
     "text": [
      "\n",
      "129\n",
      "현재 :  서진향해장국신제주점\n",
      "현재 크롤링이 진행중인 검색어 : 서진향해장국신제주점\n"
     ]
    },
    {
     "data": {
      "application/vnd.jupyter.widget-view+json": {
       "model_id": "746020fe50f74d3a88e732d9aebc981d",
       "version_major": 2,
       "version_minor": 0
      },
      "text/plain": [
       "  0%|          | 0/6 [00:00<?, ?it/s]"
      ]
     },
     "metadata": {},
     "output_type": "display_data"
    },
    {
     "data": {
      "application/vnd.jupyter.widget-view+json": {
       "model_id": "d385fbfd3c524beeb7235790ae0ebc4a",
       "version_major": 2,
       "version_minor": 0
      },
      "text/plain": [
       "리뷰수집중:   0%|          | 0/20 [00:00<?, ?it/s]"
      ]
     },
     "metadata": {},
     "output_type": "display_data"
    },
    {
     "name": "stdout",
     "output_type": "stream",
     "text": [
      "\n",
      "130\n",
      "현재 :  동협한라회초밥\n",
      "현재 크롤링이 진행중인 검색어 : 동협한라회초밥\n",
      "\n",
      "131\n",
      "현재 :  부가부가부가네얼큰이제원점\n",
      "현재 크롤링이 진행중인 검색어 : 부가부가부가네얼큰이제원점\n"
     ]
    },
    {
     "data": {
      "application/vnd.jupyter.widget-view+json": {
       "model_id": "03fef85857ac4ab984e35f48f9701a0a",
       "version_major": 2,
       "version_minor": 0
      },
      "text/plain": [
       "  0%|          | 0/2 [00:00<?, ?it/s]"
      ]
     },
     "metadata": {},
     "output_type": "display_data"
    },
    {
     "data": {
      "application/vnd.jupyter.widget-view+json": {
       "model_id": "0b8b9c100025483aad80e423a6909758",
       "version_major": 2,
       "version_minor": 0
      },
      "text/plain": [
       "리뷰수집중:   0%|          | 0/20 [00:00<?, ?it/s]"
      ]
     },
     "metadata": {},
     "output_type": "display_data"
    },
    {
     "name": "stdout",
     "output_type": "stream",
     "text": [
      "\n",
      "132\n",
      "현재 :  진낙지앤\n",
      "현재 크롤링이 진행중인 검색어 : 진낙지앤\n"
     ]
    },
    {
     "data": {
      "application/vnd.jupyter.widget-view+json": {
       "model_id": "82eb6eeb653a401eafc37b4733eacf84",
       "version_major": 2,
       "version_minor": 0
      },
      "text/plain": [
       "  0%|          | 0/3 [00:00<?, ?it/s]"
      ]
     },
     "metadata": {},
     "output_type": "display_data"
    },
    {
     "data": {
      "application/vnd.jupyter.widget-view+json": {
       "model_id": "f4dfd73e896a4b1fb0ebf1d3b85b9904",
       "version_major": 2,
       "version_minor": 0
      },
      "text/plain": [
       "리뷰수집중:   0%|          | 0/68 [00:00<?, ?it/s]"
      ]
     },
     "metadata": {},
     "output_type": "display_data"
    },
    {
     "name": "stdout",
     "output_type": "stream",
     "text": [
      "\n",
      "133\n",
      "현재 :  돈잇수다\n",
      "현재 크롤링이 진행중인 검색어 : 돈잇수다\n"
     ]
    },
    {
     "data": {
      "application/vnd.jupyter.widget-view+json": {
       "model_id": "c93fd19552ca4307850e6c529b5abcc6",
       "version_major": 2,
       "version_minor": 0
      },
      "text/plain": [
       "  0%|          | 0/25 [00:00<?, ?it/s]"
      ]
     },
     "metadata": {},
     "output_type": "display_data"
    },
    {
     "data": {
      "application/vnd.jupyter.widget-view+json": {
       "model_id": "f43d9b8de3a442b492f4c930eb4feec3",
       "version_major": 2,
       "version_minor": 0
      },
      "text/plain": [
       "리뷰수집중:   0%|          | 0/58 [00:00<?, ?it/s]"
      ]
     },
     "metadata": {},
     "output_type": "display_data"
    },
    {
     "name": "stdout",
     "output_type": "stream",
     "text": [
      "\n",
      "134\n",
      "현재 :  호텔시리우스\n",
      "현재 크롤링이 진행중인 검색어 : 호텔시리우스\n"
     ]
    },
    {
     "data": {
      "application/vnd.jupyter.widget-view+json": {
       "model_id": "d2ec5236e825453685383c5cd0fbba47",
       "version_major": 2,
       "version_minor": 0
      },
      "text/plain": [
       "  0%|          | 0/56 [00:00<?, ?it/s]"
      ]
     },
     "metadata": {},
     "output_type": "display_data"
    },
    {
     "data": {
      "application/vnd.jupyter.widget-view+json": {
       "model_id": "9284abf735cd4fd9ab9045ed9a6ce6c2",
       "version_major": 2,
       "version_minor": 0
      },
      "text/plain": [
       "리뷰수집중:   0%|          | 0/383 [00:00<?, ?it/s]"
      ]
     },
     "metadata": {},
     "output_type": "display_data"
    },
    {
     "name": "stdout",
     "output_type": "stream",
     "text": [
      "\n",
      "135\n",
      "현재 :  스크류쿨제원점\n",
      "현재 크롤링이 진행중인 검색어 : 스크류쿨제원점\n",
      "펼칠 리뷰가 없다.\n"
     ]
    },
    {
     "data": {
      "application/vnd.jupyter.widget-view+json": {
       "model_id": "0c5feb8e162b4e9fa25cdbd4e110ff64",
       "version_major": 2,
       "version_minor": 0
      },
      "text/plain": [
       "리뷰수집중:   0%|          | 0/2 [00:00<?, ?it/s]"
      ]
     },
     "metadata": {},
     "output_type": "display_data"
    },
    {
     "name": "stdout",
     "output_type": "stream",
     "text": [
      "\n",
      "136\n",
      "현재 :  미스칠\n",
      "현재 크롤링이 진행중인 검색어 : 미스칠\n"
     ]
    },
    {
     "data": {
      "application/vnd.jupyter.widget-view+json": {
       "model_id": "512c6181c6cb415397b494e19832a6b5",
       "version_major": 2,
       "version_minor": 0
      },
      "text/plain": [
       "  0%|          | 0/46 [00:04<?, ?it/s]"
      ]
     },
     "metadata": {},
     "output_type": "display_data"
    },
    {
     "data": {
      "application/vnd.jupyter.widget-view+json": {
       "model_id": "ca937568efa24d41aeb99fcf07a55b70",
       "version_major": 2,
       "version_minor": 0
      },
      "text/plain": [
       "리뷰수집중:   0%|          | 0/435 [00:00<?, ?it/s]"
      ]
     },
     "metadata": {},
     "output_type": "display_data"
    },
    {
     "name": "stdout",
     "output_type": "stream",
     "text": [
      "\n",
      "137\n",
      "현재 :  제주분식\n",
      "현재 크롤링이 진행중인 검색어 : 제주분식\n"
     ]
    },
    {
     "data": {
      "application/vnd.jupyter.widget-view+json": {
       "model_id": "fe2143c0b4f8413dbdbf27c57793984a",
       "version_major": 2,
       "version_minor": 0
      },
      "text/plain": [
       "  0%|          | 0/74 [00:00<?, ?it/s]"
      ]
     },
     "metadata": {},
     "output_type": "display_data"
    },
    {
     "data": {
      "application/vnd.jupyter.widget-view+json": {
       "model_id": "b3aee77977504c51968b4a96c26df165",
       "version_major": 2,
       "version_minor": 0
      },
      "text/plain": [
       "리뷰수집중:   0%|          | 0/322 [00:00<?, ?it/s]"
      ]
     },
     "metadata": {},
     "output_type": "display_data"
    },
    {
     "name": "stdout",
     "output_type": "stream",
     "text": [
      "\n",
      "138\n",
      "현재 :  멘부리제주\n",
      "현재 크롤링이 진행중인 검색어 : 멘부리제주\n",
      "펼칠 리뷰가 없다.\n"
     ]
    },
    {
     "data": {
      "application/vnd.jupyter.widget-view+json": {
       "model_id": "62f15595fa8d4edd82f52a4c7e0359c6",
       "version_major": 2,
       "version_minor": 0
      },
      "text/plain": [
       "리뷰수집중:   0%|          | 0/2 [00:00<?, ?it/s]"
      ]
     },
     "metadata": {},
     "output_type": "display_data"
    },
    {
     "name": "stdout",
     "output_type": "stream",
     "text": [
      "\n",
      "139\n",
      "현재 :  제주닭한마리\n",
      "현재 크롤링이 진행중인 검색어 : 제주닭한마리\n"
     ]
    },
    {
     "data": {
      "application/vnd.jupyter.widget-view+json": {
       "model_id": "749b46f90c464cfba5f00ea28ffffd13",
       "version_major": 2,
       "version_minor": 0
      },
      "text/plain": [
       "  0%|          | 0/8 [00:08<?, ?it/s]"
      ]
     },
     "metadata": {},
     "output_type": "display_data"
    },
    {
     "data": {
      "application/vnd.jupyter.widget-view+json": {
       "model_id": "b165136fbf834229aa6df98e21977b09",
       "version_major": 2,
       "version_minor": 0
      },
      "text/plain": [
       "리뷰수집중:   0%|          | 0/37 [00:00<?, ?it/s]"
      ]
     },
     "metadata": {},
     "output_type": "display_data"
    },
    {
     "name": "stdout",
     "output_type": "stream",
     "text": [
      "\n",
      "140\n",
      "현재 :  보기플레이\n",
      "현재 크롤링이 진행중인 검색어 : 보기플레이\n",
      "펼칠 리뷰가 없다.\n",
      "\n",
      "141\n",
      "현재 :  백두산갈비앤냉면\n",
      "현재 크롤링이 진행중인 검색어 : 백두산갈비앤냉면\n"
     ]
    },
    {
     "data": {
      "application/vnd.jupyter.widget-view+json": {
       "model_id": "01fcbb7f175c4f96b6a9b54a8921af82",
       "version_major": 2,
       "version_minor": 0
      },
      "text/plain": [
       "리뷰수집중:   0%|          | 0/13 [00:00<?, ?it/s]"
      ]
     },
     "metadata": {},
     "output_type": "display_data"
    },
    {
     "name": "stdout",
     "output_type": "stream",
     "text": [
      "\n",
      "142\n",
      "현재 :  올래파이\n",
      "현재 크롤링이 진행중인 검색어 : 올래파이\n"
     ]
    },
    {
     "data": {
      "application/vnd.jupyter.widget-view+json": {
       "model_id": "694476353439442ebee8245266c05b93",
       "version_major": 2,
       "version_minor": 0
      },
      "text/plain": [
       "  0%|          | 0/7 [00:04<?, ?it/s]"
      ]
     },
     "metadata": {},
     "output_type": "display_data"
    },
    {
     "data": {
      "application/vnd.jupyter.widget-view+json": {
       "model_id": "0f19528a3f4f4cefb44979cc30d8ebbe",
       "version_major": 2,
       "version_minor": 0
      },
      "text/plain": [
       "리뷰수집중:   0%|          | 0/61 [00:00<?, ?it/s]"
      ]
     },
     "metadata": {},
     "output_type": "display_data"
    },
    {
     "name": "stdout",
     "output_type": "stream",
     "text": [
      "\n",
      "143\n",
      "현재 :  통큰장어신제주점\n",
      "현재 크롤링이 진행중인 검색어 : 통큰장어신제주점\n"
     ]
    },
    {
     "data": {
      "application/vnd.jupyter.widget-view+json": {
       "model_id": "800a1f320fa342ad8c94f7e8f2b2a10f",
       "version_major": 2,
       "version_minor": 0
      },
      "text/plain": [
       "  0%|          | 0/7 [00:00<?, ?it/s]"
      ]
     },
     "metadata": {},
     "output_type": "display_data"
    },
    {
     "data": {
      "application/vnd.jupyter.widget-view+json": {
       "model_id": "cf1522e6d92747c88b09caa1cd0929ce",
       "version_major": 2,
       "version_minor": 0
      },
      "text/plain": [
       "리뷰수집중:   0%|          | 0/33 [00:00<?, ?it/s]"
      ]
     },
     "metadata": {},
     "output_type": "display_data"
    },
    {
     "name": "stdout",
     "output_type": "stream",
     "text": [
      "\n",
      "144\n",
      "현재 :  대박왕갈비연동점\n",
      "현재 크롤링이 진행중인 검색어 : 대박왕갈비연동점\n"
     ]
    },
    {
     "data": {
      "application/vnd.jupyter.widget-view+json": {
       "model_id": "12fdb7d76fdd4ea68848aeddd481aa10",
       "version_major": 2,
       "version_minor": 0
      },
      "text/plain": [
       "  0%|          | 0/1 [00:00<?, ?it/s]"
      ]
     },
     "metadata": {},
     "output_type": "display_data"
    },
    {
     "data": {
      "application/vnd.jupyter.widget-view+json": {
       "model_id": "7bfb6e8fc56e4f0fb6f92b0d0d17188c",
       "version_major": 2,
       "version_minor": 0
      },
      "text/plain": [
       "리뷰수집중:   0%|          | 0/16 [00:00<?, ?it/s]"
      ]
     },
     "metadata": {},
     "output_type": "display_data"
    },
    {
     "name": "stdout",
     "output_type": "stream",
     "text": [
      "\n",
      "145\n",
      "현재 :  만운성\n",
      "현재 크롤링이 진행중인 검색어 : 만운성\n",
      "펼칠 리뷰가 없다.\n"
     ]
    },
    {
     "data": {
      "application/vnd.jupyter.widget-view+json": {
       "model_id": "f3e1bcb5e113430884ce70022d25ae22",
       "version_major": 2,
       "version_minor": 0
      },
      "text/plain": [
       "  0%|          | 0/2 [00:00<?, ?it/s]"
      ]
     },
     "metadata": {},
     "output_type": "display_data"
    },
    {
     "data": {
      "application/vnd.jupyter.widget-view+json": {
       "model_id": "850259ec12544158a6ef64717213c771",
       "version_major": 2,
       "version_minor": 0
      },
      "text/plain": [
       "리뷰수집중:   0%|          | 0/5 [00:00<?, ?it/s]"
      ]
     },
     "metadata": {},
     "output_type": "display_data"
    },
    {
     "name": "stdout",
     "output_type": "stream",
     "text": [
      "\n",
      "146\n",
      "현재 :  웰빙밥도둑\n",
      "현재 크롤링이 진행중인 검색어 : 웰빙밥도둑\n"
     ]
    },
    {
     "data": {
      "application/vnd.jupyter.widget-view+json": {
       "model_id": "4e8dc90e4d9f4d2d92e83034d835da5f",
       "version_major": 2,
       "version_minor": 0
      },
      "text/plain": [
       "  0%|          | 0/1 [00:00<?, ?it/s]"
      ]
     },
     "metadata": {},
     "output_type": "display_data"
    },
    {
     "data": {
      "application/vnd.jupyter.widget-view+json": {
       "model_id": "615846adca8642d8b5397eeef9954399",
       "version_major": 2,
       "version_minor": 0
      },
      "text/plain": [
       "리뷰수집중:   0%|          | 0/13 [00:00<?, ?it/s]"
      ]
     },
     "metadata": {},
     "output_type": "display_data"
    },
    {
     "name": "stdout",
     "output_type": "stream",
     "text": [
      "\n",
      "147\n",
      "현재 :  주민상회신광점\n",
      "현재 크롤링이 진행중인 검색어 : 주민상회신광점\n",
      "펼칠 리뷰가 없다.\n"
     ]
    },
    {
     "data": {
      "application/vnd.jupyter.widget-view+json": {
       "model_id": "de0a37ca32c14236802dd2fcc9b882cf",
       "version_major": 2,
       "version_minor": 0
      },
      "text/plain": [
       "리뷰수집중:   0%|          | 0/10 [00:00<?, ?it/s]"
      ]
     },
     "metadata": {},
     "output_type": "display_data"
    },
    {
     "name": "stdout",
     "output_type": "stream",
     "text": [
      "\n",
      "148\n",
      "현재 :  신제주삼보\n",
      "현재 크롤링이 진행중인 검색어 : 신제주삼보\n"
     ]
    },
    {
     "data": {
      "application/vnd.jupyter.widget-view+json": {
       "model_id": "191b43d800064c81b41ee4bfc2f6527e",
       "version_major": 2,
       "version_minor": 0
      },
      "text/plain": [
       "  0%|          | 0/5 [00:04<?, ?it/s]"
      ]
     },
     "metadata": {},
     "output_type": "display_data"
    },
    {
     "data": {
      "application/vnd.jupyter.widget-view+json": {
       "model_id": "30fdc86499e24155b5bd5d6f3e1c3e3d",
       "version_major": 2,
       "version_minor": 0
      },
      "text/plain": [
       "리뷰수집중:   0%|          | 0/51 [00:00<?, ?it/s]"
      ]
     },
     "metadata": {},
     "output_type": "display_data"
    },
    {
     "name": "stdout",
     "output_type": "stream",
     "text": [
      "\n",
      "149\n",
      "현재 :  문성반점\n",
      "현재 크롤링이 진행중인 검색어 : 문성반점\n",
      "펼칠 리뷰가 없다.\n"
     ]
    },
    {
     "data": {
      "application/vnd.jupyter.widget-view+json": {
       "model_id": "0c3503d3e506429ab8519c0ebfa69f31",
       "version_major": 2,
       "version_minor": 0
      },
      "text/plain": [
       "리뷰수집중:   0%|          | 0/8 [00:00<?, ?it/s]"
      ]
     },
     "metadata": {},
     "output_type": "display_data"
    },
    {
     "name": "stdout",
     "output_type": "stream",
     "text": [
      "\n",
      "150\n",
      "현재 :  번개포차본점\n",
      "현재 크롤링이 진행중인 검색어 : 번개포차본점\n",
      "펼칠 리뷰가 없다.\n"
     ]
    },
    {
     "data": {
      "application/vnd.jupyter.widget-view+json": {
       "model_id": "f10f92d80da54167b5e6152dc3d70472",
       "version_major": 2,
       "version_minor": 0
      },
      "text/plain": [
       "리뷰수집중:   0%|          | 0/3 [00:04<?, ?it/s]"
      ]
     },
     "metadata": {},
     "output_type": "display_data"
    },
    {
     "name": "stdout",
     "output_type": "stream",
     "text": [
      "\n",
      "151\n",
      "현재 :  산전수전인생역전\n",
      "현재 크롤링이 진행중인 검색어 : 산전수전인생역전\n"
     ]
    },
    {
     "data": {
      "application/vnd.jupyter.widget-view+json": {
       "model_id": "5f517f99ab974173a0c66d327eabf110",
       "version_major": 2,
       "version_minor": 0
      },
      "text/plain": [
       "  0%|          | 0/15 [00:00<?, ?it/s]"
      ]
     },
     "metadata": {},
     "output_type": "display_data"
    },
    {
     "data": {
      "application/vnd.jupyter.widget-view+json": {
       "model_id": "7f0dccb5d3744312bb932fdd36c923fa",
       "version_major": 2,
       "version_minor": 0
      },
      "text/plain": [
       "리뷰수집중:   0%|          | 0/32 [00:28<?, ?it/s]"
      ]
     },
     "metadata": {},
     "output_type": "display_data"
    },
    {
     "name": "stdout",
     "output_type": "stream",
     "text": [
      "\n",
      "152\n",
      "현재 :  꼬방\n",
      "현재 크롤링이 진행중인 검색어 : 꼬방\n"
     ]
    },
    {
     "data": {
      "application/vnd.jupyter.widget-view+json": {
       "model_id": "69a2834853844d2aa7f6e82425936555",
       "version_major": 2,
       "version_minor": 0
      },
      "text/plain": [
       "  0%|          | 0/31 [00:00<?, ?it/s]"
      ]
     },
     "metadata": {},
     "output_type": "display_data"
    },
    {
     "data": {
      "application/vnd.jupyter.widget-view+json": {
       "model_id": "bc384ff0dbdc4df7a9666782e22c001e",
       "version_major": 2,
       "version_minor": 0
      },
      "text/plain": [
       "리뷰수집중:   0%|          | 0/121 [00:00<?, ?it/s]"
      ]
     },
     "metadata": {},
     "output_type": "display_data"
    },
    {
     "name": "stdout",
     "output_type": "stream",
     "text": [
      "\n",
      "153\n",
      "현재 :  금정무오리목점\n",
      "현재 크롤링이 진행중인 검색어 : 금정무오리목점\n",
      "펼칠 리뷰가 없다.\n"
     ]
    },
    {
     "data": {
      "application/vnd.jupyter.widget-view+json": {
       "model_id": "07c865d441f34a3aac1279cc1eb4468e",
       "version_major": 2,
       "version_minor": 0
      },
      "text/plain": [
       "리뷰수집중:   0%|          | 0/8 [00:00<?, ?it/s]"
      ]
     },
     "metadata": {},
     "output_type": "display_data"
    },
    {
     "name": "stdout",
     "output_type": "stream",
     "text": [
      "\n",
      "154\n",
      "현재 :  황금돈가\n",
      "현재 크롤링이 진행중인 검색어 : 황금돈가\n"
     ]
    },
    {
     "data": {
      "application/vnd.jupyter.widget-view+json": {
       "model_id": "a368f23e0f254957a09ac9ee18c6289e",
       "version_major": 2,
       "version_minor": 0
      },
      "text/plain": [
       "  0%|          | 0/39 [00:04<?, ?it/s]"
      ]
     },
     "metadata": {},
     "output_type": "display_data"
    },
    {
     "data": {
      "application/vnd.jupyter.widget-view+json": {
       "model_id": "62d3070214c54c2bb5fe67ab0fb6eb9c",
       "version_major": 2,
       "version_minor": 0
      },
      "text/plain": [
       "리뷰수집중:   0%|          | 0/277 [00:00<?, ?it/s]"
      ]
     },
     "metadata": {},
     "output_type": "display_data"
    },
    {
     "name": "stdout",
     "output_type": "stream",
     "text": [
      "\n",
      "155\n",
      "현재 :  해녀바당\n",
      "현재 크롤링이 진행중인 검색어 : 해녀바당\n",
      "펼칠 리뷰가 없다.\n"
     ]
    },
    {
     "data": {
      "application/vnd.jupyter.widget-view+json": {
       "model_id": "1bf473bcfa42416c9a8ab3fafa500c25",
       "version_major": 2,
       "version_minor": 0
      },
      "text/plain": [
       "  0%|          | 0/2 [00:00<?, ?it/s]"
      ]
     },
     "metadata": {},
     "output_type": "display_data"
    },
    {
     "data": {
      "application/vnd.jupyter.widget-view+json": {
       "model_id": "8a75af0f5e8a4ab7b8a35dab224cfa86",
       "version_major": 2,
       "version_minor": 0
      },
      "text/plain": [
       "리뷰수집중:   0%|          | 0/9 [00:00<?, ?it/s]"
      ]
     },
     "metadata": {},
     "output_type": "display_data"
    },
    {
     "name": "stdout",
     "output_type": "stream",
     "text": [
      "\n",
      "156\n",
      "현재 :  족발슈퍼연동점\n",
      "현재 크롤링이 진행중인 검색어 : 족발슈퍼연동점\n"
     ]
    },
    {
     "data": {
      "application/vnd.jupyter.widget-view+json": {
       "model_id": "9dd73d4d96454d25a6128d177d5a1bf6",
       "version_major": 2,
       "version_minor": 0
      },
      "text/plain": [
       "  0%|          | 0/8 [00:00<?, ?it/s]"
      ]
     },
     "metadata": {},
     "output_type": "display_data"
    },
    {
     "data": {
      "application/vnd.jupyter.widget-view+json": {
       "model_id": "c765a4f0a693465590fb63c2018dd243",
       "version_major": 2,
       "version_minor": 0
      },
      "text/plain": [
       "리뷰수집중:   0%|          | 0/22 [00:00<?, ?it/s]"
      ]
     },
     "metadata": {},
     "output_type": "display_data"
    },
    {
     "name": "stdout",
     "output_type": "stream",
     "text": [
      "\n",
      "157\n",
      "현재 :  탐라도새기천국\n",
      "현재 크롤링이 진행중인 검색어 : 탐라도새기천국\n",
      "펼칠 리뷰가 없다.\n"
     ]
    },
    {
     "data": {
      "application/vnd.jupyter.widget-view+json": {
       "model_id": "fac99309a47848f1b5594e613c92337e",
       "version_major": 2,
       "version_minor": 0
      },
      "text/plain": [
       "리뷰수집중:   0%|          | 0/3 [00:00<?, ?it/s]"
      ]
     },
     "metadata": {},
     "output_type": "display_data"
    },
    {
     "name": "stdout",
     "output_type": "stream",
     "text": [
      "\n",
      "158\n",
      "현재 :  뜨르르\n",
      "현재 크롤링이 진행중인 검색어 : 뜨르르\n"
     ]
    },
    {
     "data": {
      "application/vnd.jupyter.widget-view+json": {
       "model_id": "74d22bf98d9e436c9c33eb4b1484d9be",
       "version_major": 2,
       "version_minor": 0
      },
      "text/plain": [
       "  0%|          | 0/2 [00:00<?, ?it/s]"
      ]
     },
     "metadata": {},
     "output_type": "display_data"
    },
    {
     "data": {
      "application/vnd.jupyter.widget-view+json": {
       "model_id": "808a102b976e413abfb193c8341de1b4",
       "version_major": 2,
       "version_minor": 0
      },
      "text/plain": [
       "리뷰수집중:   0%|          | 0/17 [00:00<?, ?it/s]"
      ]
     },
     "metadata": {},
     "output_type": "display_data"
    },
    {
     "name": "stdout",
     "output_type": "stream",
     "text": [
      "\n",
      "159\n",
      "현재 :  베네토\n",
      "현재 크롤링이 진행중인 검색어 : 베네토\n"
     ]
    },
    {
     "data": {
      "application/vnd.jupyter.widget-view+json": {
       "model_id": "2f859b40c0a64258995ca012bf7d7080",
       "version_major": 2,
       "version_minor": 0
      },
      "text/plain": [
       "리뷰수집중:   0%|          | 0/13 [00:00<?, ?it/s]"
      ]
     },
     "metadata": {},
     "output_type": "display_data"
    },
    {
     "name": "stdout",
     "output_type": "stream",
     "text": [
      "\n",
      "160\n",
      "현재 :  (주)서촌제 스시100\n",
      "현재 크롤링이 진행중인 검색어 : (주)서촌제 스시100\n"
     ]
    },
    {
     "data": {
      "application/vnd.jupyter.widget-view+json": {
       "model_id": "a5a9784783294a60b2cfc81f94728de3",
       "version_major": 2,
       "version_minor": 0
      },
      "text/plain": [
       "  0%|          | 0/97 [00:00<?, ?it/s]"
      ]
     },
     "metadata": {},
     "output_type": "display_data"
    },
    {
     "data": {
      "application/vnd.jupyter.widget-view+json": {
       "model_id": "07980d3c961e49b1a55aae423889774a",
       "version_major": 2,
       "version_minor": 0
      },
      "text/plain": [
       "리뷰수집중:   0%|          | 0/445 [00:00<?, ?it/s]"
      ]
     },
     "metadata": {},
     "output_type": "display_data"
    },
    {
     "name": "stdout",
     "output_type": "stream",
     "text": [
      "\n",
      "161\n",
      "현재 :  마라양꼬치\n",
      "현재 크롤링이 진행중인 검색어 : 마라양꼬치\n"
     ]
    },
    {
     "data": {
      "application/vnd.jupyter.widget-view+json": {
       "model_id": "dbdb03f8c717444c852b8ffb091daa0e",
       "version_major": 2,
       "version_minor": 0
      },
      "text/plain": [
       "  0%|          | 0/31 [00:00<?, ?it/s]"
      ]
     },
     "metadata": {},
     "output_type": "display_data"
    },
    {
     "data": {
      "application/vnd.jupyter.widget-view+json": {
       "model_id": "39c0d3582aca4196b2a854a3b19fb4a3",
       "version_major": 2,
       "version_minor": 0
      },
      "text/plain": [
       "리뷰수집중:   0%|          | 0/142 [00:00<?, ?it/s]"
      ]
     },
     "metadata": {},
     "output_type": "display_data"
    },
    {
     "name": "stdout",
     "output_type": "stream",
     "text": [
      "\n",
      "162\n",
      "현재 :  구제포\n",
      "현재 크롤링이 진행중인 검색어 : 구제포\n"
     ]
    },
    {
     "data": {
      "application/vnd.jupyter.widget-view+json": {
       "model_id": "71600152323443f0b8de6a3923adc4b6",
       "version_major": 2,
       "version_minor": 0
      },
      "text/plain": [
       "  0%|          | 0/23 [00:00<?, ?it/s]"
      ]
     },
     "metadata": {},
     "output_type": "display_data"
    },
    {
     "data": {
      "application/vnd.jupyter.widget-view+json": {
       "model_id": "a079dd32bce4467dbf3ccc9ea95cf274",
       "version_major": 2,
       "version_minor": 0
      },
      "text/plain": [
       "리뷰수집중:   0%|          | 0/44 [00:00<?, ?it/s]"
      ]
     },
     "metadata": {},
     "output_type": "display_data"
    },
    {
     "name": "stdout",
     "output_type": "stream",
     "text": [
      "\n",
      "163\n",
      "현재 :  신미조리\n",
      "현재 크롤링이 진행중인 검색어 : 신미조리\n",
      "펼칠 리뷰가 없다.\n"
     ]
    },
    {
     "data": {
      "application/vnd.jupyter.widget-view+json": {
       "model_id": "f2442b1f3cda45fbb69803f5de1c3ce4",
       "version_major": 2,
       "version_minor": 0
      },
      "text/plain": [
       "리뷰수집중:   0%|          | 0/8 [00:00<?, ?it/s]"
      ]
     },
     "metadata": {},
     "output_type": "display_data"
    },
    {
     "name": "stdout",
     "output_type": "stream",
     "text": [
      "\n",
      "164\n",
      "현재 :  주다방제원점\n",
      "현재 크롤링이 진행중인 검색어 : 주다방제원점\n",
      "펼칠 리뷰가 없다.\n"
     ]
    },
    {
     "data": {
      "application/vnd.jupyter.widget-view+json": {
       "model_id": "1faf4a140cd8408a9a82b47c812d888a",
       "version_major": 2,
       "version_minor": 0
      },
      "text/plain": [
       "리뷰수집중:   0%|          | 0/6 [00:04<?, ?it/s]"
      ]
     },
     "metadata": {},
     "output_type": "display_data"
    },
    {
     "name": "stdout",
     "output_type": "stream",
     "text": [
      "\n",
      "165\n",
      "현재 :  제주국담\n",
      "현재 크롤링이 진행중인 검색어 : 제주국담\n"
     ]
    },
    {
     "data": {
      "application/vnd.jupyter.widget-view+json": {
       "model_id": "bc461082c5e544fab067fd2d3879aca2",
       "version_major": 2,
       "version_minor": 0
      },
      "text/plain": [
       "  0%|          | 0/64 [00:00<?, ?it/s]"
      ]
     },
     "metadata": {},
     "output_type": "display_data"
    },
    {
     "data": {
      "application/vnd.jupyter.widget-view+json": {
       "model_id": "7932ca3208d342de821609c6e0b59425",
       "version_major": 2,
       "version_minor": 0
      },
      "text/plain": [
       "리뷰수집중:   0%|          | 0/280 [00:00<?, ?it/s]"
      ]
     },
     "metadata": {},
     "output_type": "display_data"
    },
    {
     "name": "stdout",
     "output_type": "stream",
     "text": [
      "\n",
      "166\n",
      "현재 :  훈이숯불갈비\n",
      "현재 크롤링이 진행중인 검색어 : 훈이숯불갈비\n"
     ]
    },
    {
     "data": {
      "application/vnd.jupyter.widget-view+json": {
       "model_id": "b8ee387059084940877bfcdc5ba84bb4",
       "version_major": 2,
       "version_minor": 0
      },
      "text/plain": [
       "  0%|          | 0/3 [00:00<?, ?it/s]"
      ]
     },
     "metadata": {},
     "output_type": "display_data"
    },
    {
     "data": {
      "application/vnd.jupyter.widget-view+json": {
       "model_id": "bd885b685384404289d4de34c0b09269",
       "version_major": 2,
       "version_minor": 0
      },
      "text/plain": [
       "리뷰수집중:   0%|          | 0/11 [00:00<?, ?it/s]"
      ]
     },
     "metadata": {},
     "output_type": "display_data"
    },
    {
     "name": "stdout",
     "output_type": "stream",
     "text": [
      "\n",
      "167\n",
      "현재 :  삼오칠회센타\n",
      "현재 크롤링이 진행중인 검색어 : 삼오칠회센타\n"
     ]
    },
    {
     "data": {
      "application/vnd.jupyter.widget-view+json": {
       "model_id": "b231bcf4f8bb4e48a445a3b7337a9225",
       "version_major": 2,
       "version_minor": 0
      },
      "text/plain": [
       "  0%|          | 0/19 [00:00<?, ?it/s]"
      ]
     },
     "metadata": {},
     "output_type": "display_data"
    },
    {
     "data": {
      "application/vnd.jupyter.widget-view+json": {
       "model_id": "5a706f4b3159429aa0dd5ae3ce1e06a7",
       "version_major": 2,
       "version_minor": 0
      },
      "text/plain": [
       "리뷰수집중:   0%|          | 0/76 [00:00<?, ?it/s]"
      ]
     },
     "metadata": {},
     "output_type": "display_data"
    },
    {
     "name": "stdout",
     "output_type": "stream",
     "text": [
      "\n",
      "168\n",
      "현재 :  엄블랑호다\n",
      "현재 크롤링이 진행중인 검색어 : 엄블랑호다\n"
     ]
    },
    {
     "data": {
      "application/vnd.jupyter.widget-view+json": {
       "model_id": "cdabd8a15bd84c0ab6ae648e655a4b69",
       "version_major": 2,
       "version_minor": 0
      },
      "text/plain": [
       "  0%|          | 0/2 [00:00<?, ?it/s]"
      ]
     },
     "metadata": {},
     "output_type": "display_data"
    },
    {
     "data": {
      "application/vnd.jupyter.widget-view+json": {
       "model_id": "c989663c9fa349ae96ec359ecb0d6e93",
       "version_major": 2,
       "version_minor": 0
      },
      "text/plain": [
       "리뷰수집중:   0%|          | 0/42 [00:00<?, ?it/s]"
      ]
     },
     "metadata": {},
     "output_type": "display_data"
    },
    {
     "name": "stdout",
     "output_type": "stream",
     "text": [
      "\n",
      "169\n",
      "현재 :  미스터와규\n",
      "현재 크롤링이 진행중인 검색어 : 미스터와규\n",
      "펼칠 리뷰가 없다.\n"
     ]
    },
    {
     "data": {
      "application/vnd.jupyter.widget-view+json": {
       "model_id": "b7ff7cc73a9341fdbf54ff4ef6e00967",
       "version_major": 2,
       "version_minor": 0
      },
      "text/plain": [
       "  0%|          | 0/4 [00:00<?, ?it/s]"
      ]
     },
     "metadata": {},
     "output_type": "display_data"
    },
    {
     "data": {
      "application/vnd.jupyter.widget-view+json": {
       "model_id": "b16b8c5396dd4d11a9c9c4390e4293a5",
       "version_major": 2,
       "version_minor": 0
      },
      "text/plain": [
       "리뷰수집중:   0%|          | 0/8 [00:00<?, ?it/s]"
      ]
     },
     "metadata": {},
     "output_type": "display_data"
    },
    {
     "name": "stdout",
     "output_type": "stream",
     "text": [
      "\n",
      "170\n",
      "현재 :  신사본가송탄부대찌개\n",
      "현재 크롤링이 진행중인 검색어 : 신사본가송탄부대찌개\n"
     ]
    },
    {
     "data": {
      "application/vnd.jupyter.widget-view+json": {
       "model_id": "58fac0e4416446b1ae506298290f6455",
       "version_major": 2,
       "version_minor": 0
      },
      "text/plain": [
       "리뷰수집중:   0%|          | 0/38 [00:00<?, ?it/s]"
      ]
     },
     "metadata": {},
     "output_type": "display_data"
    },
    {
     "name": "stdout",
     "output_type": "stream",
     "text": [
      "\n",
      "171\n",
      "현재 :  오라방라운지\n",
      "현재 크롤링이 진행중인 검색어 : 오라방라운지\n"
     ]
    },
    {
     "data": {
      "application/vnd.jupyter.widget-view+json": {
       "model_id": "27be280ff67c4d90b19e79622c9682bb",
       "version_major": 2,
       "version_minor": 0
      },
      "text/plain": [
       "  0%|          | 0/4 [00:00<?, ?it/s]"
      ]
     },
     "metadata": {},
     "output_type": "display_data"
    },
    {
     "data": {
      "application/vnd.jupyter.widget-view+json": {
       "model_id": "c339feab8f9649c6a146770daa15f6d3",
       "version_major": 2,
       "version_minor": 0
      },
      "text/plain": [
       "리뷰수집중:   0%|          | 0/74 [00:00<?, ?it/s]"
      ]
     },
     "metadata": {},
     "output_type": "display_data"
    },
    {
     "name": "stdout",
     "output_type": "stream",
     "text": [
      "\n",
      "172\n",
      "현재 :  또순이모부페\n",
      "현재 크롤링이 진행중인 검색어 : 또순이모부페\n",
      "펼칠 리뷰가 없다.\n"
     ]
    },
    {
     "data": {
      "application/vnd.jupyter.widget-view+json": {
       "model_id": "695b796a6b294e979ef419aef53fe9e0",
       "version_major": 2,
       "version_minor": 0
      },
      "text/plain": [
       "리뷰수집중:   0%|          | 0/9 [00:00<?, ?it/s]"
      ]
     },
     "metadata": {},
     "output_type": "display_data"
    },
    {
     "name": "stdout",
     "output_type": "stream",
     "text": [
      "\n",
      "173\n",
      "현재 :  램스키친\n",
      "현재 크롤링이 진행중인 검색어 : 램스키친\n"
     ]
    },
    {
     "data": {
      "application/vnd.jupyter.widget-view+json": {
       "model_id": "210bc92750324185bab406b7d213614a",
       "version_major": 2,
       "version_minor": 0
      },
      "text/plain": [
       "  0%|          | 0/70 [00:04<?, ?it/s]"
      ]
     },
     "metadata": {},
     "output_type": "display_data"
    },
    {
     "data": {
      "application/vnd.jupyter.widget-view+json": {
       "model_id": "e15970c406b140ee95a9d45eb90ab28f",
       "version_major": 2,
       "version_minor": 0
      },
      "text/plain": [
       "리뷰수집중:   0%|          | 0/246 [00:00<?, ?it/s]"
      ]
     },
     "metadata": {},
     "output_type": "display_data"
    },
    {
     "name": "stdout",
     "output_type": "stream",
     "text": [
      "\n",
      "174\n",
      "현재 :  마라샹궈전문점매운향솥\n",
      "현재 크롤링이 진행중인 검색어 : 마라샹궈전문점매운향솥\n"
     ]
    },
    {
     "data": {
      "application/vnd.jupyter.widget-view+json": {
       "model_id": "b976073eb3e74f13a204f7f9739459c6",
       "version_major": 2,
       "version_minor": 0
      },
      "text/plain": [
       "  0%|          | 0/124 [00:00<?, ?it/s]"
      ]
     },
     "metadata": {},
     "output_type": "display_data"
    },
    {
     "data": {
      "application/vnd.jupyter.widget-view+json": {
       "model_id": "2c22c68d486b4a45879ffce938fa6e01",
       "version_major": 2,
       "version_minor": 0
      },
      "text/plain": [
       "리뷰수집중:   0%|          | 0/1024 [00:00<?, ?it/s]"
      ]
     },
     "metadata": {},
     "output_type": "display_data"
    },
    {
     "name": "stdout",
     "output_type": "stream",
     "text": [
      "\n",
      "175\n",
      "현재 :  모퉁이에머릿돌\n",
      "현재 크롤링이 진행중인 검색어 : 모퉁이에머릿돌\n",
      "펼칠 리뷰가 없다.\n"
     ]
    },
    {
     "data": {
      "application/vnd.jupyter.widget-view+json": {
       "model_id": "16a7828191bb43d8a4c020929c52f243",
       "version_major": 2,
       "version_minor": 0
      },
      "text/plain": [
       "리뷰수집중:   0%|          | 0/8 [00:00<?, ?it/s]"
      ]
     },
     "metadata": {},
     "output_type": "display_data"
    },
    {
     "name": "stdout",
     "output_type": "stream",
     "text": [
      "\n",
      "176\n",
      "현재 :  이게밥도둑\n",
      "현재 크롤링이 진행중인 검색어 : 이게밥도둑\n"
     ]
    },
    {
     "data": {
      "application/vnd.jupyter.widget-view+json": {
       "model_id": "bad23c202f8d4aa5bfccd8703da02f5f",
       "version_major": 2,
       "version_minor": 0
      },
      "text/plain": [
       "  0%|          | 0/13 [00:04<?, ?it/s]"
      ]
     },
     "metadata": {},
     "output_type": "display_data"
    },
    {
     "data": {
      "application/vnd.jupyter.widget-view+json": {
       "model_id": "324acaac919f43478f891c59d0d3f5be",
       "version_major": 2,
       "version_minor": 0
      },
      "text/plain": [
       "리뷰수집중:   0%|          | 0/45 [00:00<?, ?it/s]"
      ]
     },
     "metadata": {},
     "output_type": "display_data"
    },
    {
     "name": "stdout",
     "output_type": "stream",
     "text": [
      "\n",
      "177\n",
      "현재 :  예향정신제주점\n",
      "현재 크롤링이 진행중인 검색어 : 예향정신제주점\n"
     ]
    },
    {
     "data": {
      "application/vnd.jupyter.widget-view+json": {
       "model_id": "85dc954be20d45b5b1e4ceaeea4e4f70",
       "version_major": 2,
       "version_minor": 0
      },
      "text/plain": [
       "  0%|          | 0/33 [00:00<?, ?it/s]"
      ]
     },
     "metadata": {},
     "output_type": "display_data"
    },
    {
     "data": {
      "application/vnd.jupyter.widget-view+json": {
       "model_id": "e6fd2eea844e48b4b5d9049c14513563",
       "version_major": 2,
       "version_minor": 0
      },
      "text/plain": [
       "리뷰수집중:   0%|          | 0/109 [00:00<?, ?it/s]"
      ]
     },
     "metadata": {},
     "output_type": "display_data"
    },
    {
     "name": "stdout",
     "output_type": "stream",
     "text": [
      "\n",
      "178\n",
      "현재 :  좀녀마을\n",
      "현재 크롤링이 진행중인 검색어 : 좀녀마을\n"
     ]
    },
    {
     "data": {
      "application/vnd.jupyter.widget-view+json": {
       "model_id": "eae61b8a8d7e4e3789effc643c576878",
       "version_major": 2,
       "version_minor": 0
      },
      "text/plain": [
       "  0%|          | 0/11 [00:00<?, ?it/s]"
      ]
     },
     "metadata": {},
     "output_type": "display_data"
    },
    {
     "data": {
      "application/vnd.jupyter.widget-view+json": {
       "model_id": "d2de0a1f7b6f40c58ff3eca45bdbe5a6",
       "version_major": 2,
       "version_minor": 0
      },
      "text/plain": [
       "리뷰수집중:   0%|          | 0/130 [00:00<?, ?it/s]"
      ]
     },
     "metadata": {},
     "output_type": "display_data"
    },
    {
     "name": "stdout",
     "output_type": "stream",
     "text": [
      "\n",
      "179\n",
      "현재 :  에이라운지\n",
      "현재 크롤링이 진행중인 검색어 : 에이라운지\n",
      "펼칠 리뷰가 없다.\n",
      "\n",
      "180\n",
      "현재 :  일미고을\n",
      "현재 크롤링이 진행중인 검색어 : 일미고을\n",
      "펼칠 리뷰가 없다.\n"
     ]
    },
    {
     "data": {
      "application/vnd.jupyter.widget-view+json": {
       "model_id": "6e95606d351b4312bca1780a7ce4e03c",
       "version_major": 2,
       "version_minor": 0
      },
      "text/plain": [
       "리뷰수집중:   0%|          | 0/5 [00:00<?, ?it/s]"
      ]
     },
     "metadata": {},
     "output_type": "display_data"
    },
    {
     "name": "stdout",
     "output_type": "stream",
     "text": [
      "\n",
      "181\n",
      "현재 :  까투리행운점\n",
      "현재 크롤링이 진행중인 검색어 : 까투리행운점\n",
      "펼칠 리뷰가 없다.\n"
     ]
    },
    {
     "data": {
      "application/vnd.jupyter.widget-view+json": {
       "model_id": "cd6cc5233a5642418012847f11cce64f",
       "version_major": 2,
       "version_minor": 0
      },
      "text/plain": [
       "리뷰수집중:   0%|          | 0/2 [00:04<?, ?it/s]"
      ]
     },
     "metadata": {},
     "output_type": "display_data"
    },
    {
     "name": "stdout",
     "output_type": "stream",
     "text": [
      "\n",
      "182\n",
      "현재 :  각시탈\n",
      "현재 크롤링이 진행중인 검색어 : 각시탈\n",
      "펼칠 리뷰가 없다.\n",
      "\n",
      "183\n",
      "현재 :  골목회수산\n",
      "현재 크롤링이 진행중인 검색어 : 골목회수산\n"
     ]
    },
    {
     "data": {
      "application/vnd.jupyter.widget-view+json": {
       "model_id": "48ebc4b112224028a87f15aadb30a804",
       "version_major": 2,
       "version_minor": 0
      },
      "text/plain": [
       "  0%|          | 0/3 [00:00<?, ?it/s]"
      ]
     },
     "metadata": {},
     "output_type": "display_data"
    },
    {
     "data": {
      "application/vnd.jupyter.widget-view+json": {
       "model_id": "7b6f177b102c44d1a3f881466e2eb926",
       "version_major": 2,
       "version_minor": 0
      },
      "text/plain": [
       "리뷰수집중:   0%|          | 0/11 [00:00<?, ?it/s]"
      ]
     },
     "metadata": {},
     "output_type": "display_data"
    },
    {
     "name": "stdout",
     "output_type": "stream",
     "text": [
      "\n",
      "184\n",
      "현재 :  킴스딜리버리\n",
      "현재 크롤링이 진행중인 검색어 : 킴스딜리버리\n",
      "펼칠 리뷰가 없다.\n"
     ]
    },
    {
     "data": {
      "application/vnd.jupyter.widget-view+json": {
       "model_id": "73f934ebc7ea471ba722b8a357a0b706",
       "version_major": 2,
       "version_minor": 0
      },
      "text/plain": [
       "리뷰수집중:   0%|          | 0/8 [00:00<?, ?it/s]"
      ]
     },
     "metadata": {},
     "output_type": "display_data"
    },
    {
     "name": "stdout",
     "output_type": "stream",
     "text": [
      "\n",
      "185\n",
      "현재 :  대굴대굴\n",
      "현재 크롤링이 진행중인 검색어 : 대굴대굴\n"
     ]
    },
    {
     "data": {
      "application/vnd.jupyter.widget-view+json": {
       "model_id": "925ad7c7862f4f7bb29a9084a30ab4ef",
       "version_major": 2,
       "version_minor": 0
      },
      "text/plain": [
       "  0%|          | 0/12 [00:04<?, ?it/s]"
      ]
     },
     "metadata": {},
     "output_type": "display_data"
    },
    {
     "data": {
      "application/vnd.jupyter.widget-view+json": {
       "model_id": "7f3faee2aa9f4fabba9cd99e16996e51",
       "version_major": 2,
       "version_minor": 0
      },
      "text/plain": [
       "리뷰수집중:   0%|          | 0/61 [00:00<?, ?it/s]"
      ]
     },
     "metadata": {},
     "output_type": "display_data"
    },
    {
     "name": "stdout",
     "output_type": "stream",
     "text": [
      "\n",
      "186\n",
      "현재 :  김밥상회\n",
      "현재 크롤링이 진행중인 검색어 : 김밥상회\n"
     ]
    },
    {
     "data": {
      "application/vnd.jupyter.widget-view+json": {
       "model_id": "ecabb49ac7bd4953ba2a53461c29a6f0",
       "version_major": 2,
       "version_minor": 0
      },
      "text/plain": [
       "  0%|          | 0/6 [00:00<?, ?it/s]"
      ]
     },
     "metadata": {},
     "output_type": "display_data"
    },
    {
     "data": {
      "application/vnd.jupyter.widget-view+json": {
       "model_id": "6cb7030515c54048abaddab870b0eb05",
       "version_major": 2,
       "version_minor": 0
      },
      "text/plain": [
       "리뷰수집중:   0%|          | 0/48 [00:00<?, ?it/s]"
      ]
     },
     "metadata": {},
     "output_type": "display_data"
    },
    {
     "name": "stdout",
     "output_type": "stream",
     "text": [
      "\n",
      "187\n",
      "현재 :  짱짱소주방\n",
      "현재 크롤링이 진행중인 검색어 : 짱짱소주방\n",
      "펼칠 리뷰가 없다.\n"
     ]
    },
    {
     "data": {
      "application/vnd.jupyter.widget-view+json": {
       "model_id": "d91a84e635174e299378001261e7df7e",
       "version_major": 2,
       "version_minor": 0
      },
      "text/plain": [
       "리뷰수집중:   0%|          | 0/3 [00:00<?, ?it/s]"
      ]
     },
     "metadata": {},
     "output_type": "display_data"
    },
    {
     "name": "stdout",
     "output_type": "stream",
     "text": [
      "\n",
      "188\n",
      "현재 :  프로젝트064\n",
      "현재 크롤링이 진행중인 검색어 : 프로젝트064\n",
      "펼칠 리뷰가 없다.\n",
      "\n",
      "189\n",
      "현재 :  담백한그집\n",
      "현재 크롤링이 진행중인 검색어 : 담백한그집\n"
     ]
    },
    {
     "data": {
      "application/vnd.jupyter.widget-view+json": {
       "model_id": "7f8e1addd79249d9b8936af1c57412e1",
       "version_major": 2,
       "version_minor": 0
      },
      "text/plain": [
       "  0%|          | 0/1 [00:00<?, ?it/s]"
      ]
     },
     "metadata": {},
     "output_type": "display_data"
    },
    {
     "data": {
      "application/vnd.jupyter.widget-view+json": {
       "model_id": "1d40c99df380480684c1dd72c15379ad",
       "version_major": 2,
       "version_minor": 0
      },
      "text/plain": [
       "리뷰수집중:   0%|          | 0/14 [00:00<?, ?it/s]"
      ]
     },
     "metadata": {},
     "output_type": "display_data"
    },
    {
     "name": "stdout",
     "output_type": "stream",
     "text": [
      "\n",
      "190\n",
      "현재 :  매옹이\n",
      "현재 크롤링이 진행중인 검색어 : 매옹이\n",
      "펼칠 리뷰가 없다.\n"
     ]
    },
    {
     "data": {
      "application/vnd.jupyter.widget-view+json": {
       "model_id": "1520b1a97e834a5aa27d298f8029b70c",
       "version_major": 2,
       "version_minor": 0
      },
      "text/plain": [
       "  0%|          | 0/1 [00:00<?, ?it/s]"
      ]
     },
     "metadata": {},
     "output_type": "display_data"
    },
    {
     "data": {
      "application/vnd.jupyter.widget-view+json": {
       "model_id": "18c1e6c6c3024340adc9ce42ef85e5b0",
       "version_major": 2,
       "version_minor": 0
      },
      "text/plain": [
       "리뷰수집중:   0%|          | 0/3 [00:04<?, ?it/s]"
      ]
     },
     "metadata": {},
     "output_type": "display_data"
    },
    {
     "name": "stdout",
     "output_type": "stream",
     "text": [
      "\n",
      "191\n",
      "현재 :  보통김밥\n",
      "현재 크롤링이 진행중인 검색어 : 보통김밥\n"
     ]
    },
    {
     "data": {
      "application/vnd.jupyter.widget-view+json": {
       "model_id": "5bdb0f47b6de47ffadd65cf2dd57c806",
       "version_major": 2,
       "version_minor": 0
      },
      "text/plain": [
       "  0%|          | 0/2 [00:00<?, ?it/s]"
      ]
     },
     "metadata": {},
     "output_type": "display_data"
    },
    {
     "data": {
      "application/vnd.jupyter.widget-view+json": {
       "model_id": "63048fdd10cd4ff188837af533340c86",
       "version_major": 2,
       "version_minor": 0
      },
      "text/plain": [
       "리뷰수집중:   0%|          | 0/24 [00:00<?, ?it/s]"
      ]
     },
     "metadata": {},
     "output_type": "display_data"
    },
    {
     "name": "stdout",
     "output_type": "stream",
     "text": [
      "\n",
      "192\n",
      "현재 :  리보스코화덕피자\n",
      "현재 크롤링이 진행중인 검색어 : 리보스코화덕피자\n"
     ]
    },
    {
     "data": {
      "application/vnd.jupyter.widget-view+json": {
       "model_id": "ff3e2f924cf142af9c43db540c99f812",
       "version_major": 2,
       "version_minor": 0
      },
      "text/plain": [
       "  0%|          | 0/753 [00:00<?, ?it/s]"
      ]
     },
     "metadata": {},
     "output_type": "display_data"
    },
    {
     "data": {
      "application/vnd.jupyter.widget-view+json": {
       "model_id": "c82c143e7bf043d9a96489bc46768075",
       "version_major": 2,
       "version_minor": 0
      },
      "text/plain": [
       "리뷰수집중:   0%|          | 0/2261 [00:00<?, ?it/s]"
      ]
     },
     "metadata": {},
     "output_type": "display_data"
    },
    {
     "name": "stdout",
     "output_type": "stream",
     "text": [
      "\n",
      "193\n",
      "현재 :  둘리네국수\n",
      "현재 크롤링이 진행중인 검색어 : 둘리네국수\n"
     ]
    },
    {
     "data": {
      "application/vnd.jupyter.widget-view+json": {
       "model_id": "7ac84572ce124f81a5a8722570f5299f",
       "version_major": 2,
       "version_minor": 0
      },
      "text/plain": [
       "  0%|          | 0/5 [00:00<?, ?it/s]"
      ]
     },
     "metadata": {},
     "output_type": "display_data"
    },
    {
     "data": {
      "application/vnd.jupyter.widget-view+json": {
       "model_id": "8e864a77f62247cc9937c765e4251343",
       "version_major": 2,
       "version_minor": 0
      },
      "text/plain": [
       "리뷰수집중:   0%|          | 0/60 [00:00<?, ?it/s]"
      ]
     },
     "metadata": {},
     "output_type": "display_data"
    },
    {
     "name": "stdout",
     "output_type": "stream",
     "text": [
      "\n",
      "194\n",
      "현재 :  창작일식요리엔\n",
      "현재 크롤링이 진행중인 검색어 : 창작일식요리엔\n"
     ]
    },
    {
     "data": {
      "application/vnd.jupyter.widget-view+json": {
       "model_id": "bffa360069f04007bcf72cf3e81bbd31",
       "version_major": 2,
       "version_minor": 0
      },
      "text/plain": [
       "  0%|          | 0/2 [00:00<?, ?it/s]"
      ]
     },
     "metadata": {},
     "output_type": "display_data"
    },
    {
     "data": {
      "application/vnd.jupyter.widget-view+json": {
       "model_id": "c8014441afe34561b80e9627d52b0408",
       "version_major": 2,
       "version_minor": 0
      },
      "text/plain": [
       "리뷰수집중:   0%|          | 0/17 [00:00<?, ?it/s]"
      ]
     },
     "metadata": {},
     "output_type": "display_data"
    },
    {
     "name": "stdout",
     "output_type": "stream",
     "text": [
      "\n",
      "195\n",
      "현재 :  우수미회센타\n",
      "현재 크롤링이 진행중인 검색어 : 우수미회센타\n"
     ]
    },
    {
     "data": {
      "application/vnd.jupyter.widget-view+json": {
       "model_id": "5237dbf0b2d5474a8e154d645bcf4cd7",
       "version_major": 2,
       "version_minor": 0
      },
      "text/plain": [
       "  0%|          | 0/7 [00:00<?, ?it/s]"
      ]
     },
     "metadata": {},
     "output_type": "display_data"
    },
    {
     "data": {
      "application/vnd.jupyter.widget-view+json": {
       "model_id": "de39a8c1c4f442bb806a350d27f8b6ee",
       "version_major": 2,
       "version_minor": 0
      },
      "text/plain": [
       "리뷰수집중:   0%|          | 0/75 [00:00<?, ?it/s]"
      ]
     },
     "metadata": {},
     "output_type": "display_data"
    },
    {
     "name": "stdout",
     "output_type": "stream",
     "text": [
      "\n",
      "196\n",
      "현재 :  페리카나연동점\n",
      "현재 크롤링이 진행중인 검색어 : 페리카나연동점\n"
     ]
    },
    {
     "data": {
      "application/vnd.jupyter.widget-view+json": {
       "model_id": "89a84b9e780642f0ba89e82a98ec13f1",
       "version_major": 2,
       "version_minor": 0
      },
      "text/plain": [
       "  0%|          | 0/1 [00:00<?, ?it/s]"
      ]
     },
     "metadata": {},
     "output_type": "display_data"
    },
    {
     "data": {
      "application/vnd.jupyter.widget-view+json": {
       "model_id": "ec254c44ea5d454aa172e0d274ea6744",
       "version_major": 2,
       "version_minor": 0
      },
      "text/plain": [
       "리뷰수집중:   0%|          | 0/13 [00:00<?, ?it/s]"
      ]
     },
     "metadata": {},
     "output_type": "display_data"
    },
    {
     "name": "stdout",
     "output_type": "stream",
     "text": [
      "\n",
      "197\n",
      "현재 :  천하육회\n",
      "현재 크롤링이 진행중인 검색어 : 천하육회\n"
     ]
    },
    {
     "data": {
      "application/vnd.jupyter.widget-view+json": {
       "model_id": "24ff1835a716430e9d23ac3621d5e9ca",
       "version_major": 2,
       "version_minor": 0
      },
      "text/plain": [
       "  0%|          | 0/3 [00:00<?, ?it/s]"
      ]
     },
     "metadata": {},
     "output_type": "display_data"
    },
    {
     "data": {
      "application/vnd.jupyter.widget-view+json": {
       "model_id": "3ef02c836e494506a6e7ee49594882f9",
       "version_major": 2,
       "version_minor": 0
      },
      "text/plain": [
       "리뷰수집중:   0%|          | 0/39 [00:00<?, ?it/s]"
      ]
     },
     "metadata": {},
     "output_type": "display_data"
    },
    {
     "name": "stdout",
     "output_type": "stream",
     "text": [
      "\n",
      "198\n",
      "현재 :  와플칸제주직영점\n",
      "현재 크롤링이 진행중인 검색어 : 와플칸제주직영점\n"
     ]
    },
    {
     "data": {
      "application/vnd.jupyter.widget-view+json": {
       "model_id": "342281e05e3f45c0a4efc8314d683426",
       "version_major": 2,
       "version_minor": 0
      },
      "text/plain": [
       "  0%|          | 0/8 [00:00<?, ?it/s]"
      ]
     },
     "metadata": {},
     "output_type": "display_data"
    },
    {
     "data": {
      "application/vnd.jupyter.widget-view+json": {
       "model_id": "06c9ac630de04b888baec172d07cbddb",
       "version_major": 2,
       "version_minor": 0
      },
      "text/plain": [
       "리뷰수집중:   0%|          | 0/107 [00:00<?, ?it/s]"
      ]
     },
     "metadata": {},
     "output_type": "display_data"
    },
    {
     "name": "stdout",
     "output_type": "stream",
     "text": [
      "\n",
      "199\n",
      "현재 :  화덕앤그릴\n",
      "현재 크롤링이 진행중인 검색어 : 화덕앤그릴\n"
     ]
    },
    {
     "data": {
      "application/vnd.jupyter.widget-view+json": {
       "model_id": "f8bec73b7684401f85151c0c2b977e86",
       "version_major": 2,
       "version_minor": 0
      },
      "text/plain": [
       "  0%|          | 0/6 [00:00<?, ?it/s]"
      ]
     },
     "metadata": {},
     "output_type": "display_data"
    },
    {
     "data": {
      "application/vnd.jupyter.widget-view+json": {
       "model_id": "8cc76338a9394ffc86c8e338d750a615",
       "version_major": 2,
       "version_minor": 0
      },
      "text/plain": [
       "리뷰수집중:   0%|          | 0/38 [00:00<?, ?it/s]"
      ]
     },
     "metadata": {},
     "output_type": "display_data"
    },
    {
     "name": "stdout",
     "output_type": "stream",
     "text": [
      "\n",
      "200\n",
      "현재 :  성게애빠져\n",
      "현재 크롤링이 진행중인 검색어 : 성게애빠져\n"
     ]
    },
    {
     "data": {
      "application/vnd.jupyter.widget-view+json": {
       "model_id": "7e454693a8314b73a19e1a3cd0a4904a",
       "version_major": 2,
       "version_minor": 0
      },
      "text/plain": [
       "  0%|          | 0/3 [00:00<?, ?it/s]"
      ]
     },
     "metadata": {},
     "output_type": "display_data"
    },
    {
     "data": {
      "application/vnd.jupyter.widget-view+json": {
       "model_id": "859dad9702ca4c909cc40dd24efb8fe2",
       "version_major": 2,
       "version_minor": 0
      },
      "text/plain": [
       "리뷰수집중:   0%|          | 0/19 [00:00<?, ?it/s]"
      ]
     },
     "metadata": {},
     "output_type": "display_data"
    },
    {
     "name": "stdout",
     "output_type": "stream",
     "text": [
      "\n",
      "201\n",
      "현재 :  한솥도시락제주한라병원점\n",
      "현재 크롤링이 진행중인 검색어 : 한솥도시락제주한라병원점\n"
     ]
    },
    {
     "data": {
      "application/vnd.jupyter.widget-view+json": {
       "model_id": "6ec28984838f4fa898fb73f674d8542e",
       "version_major": 2,
       "version_minor": 0
      },
      "text/plain": [
       "  0%|          | 0/4 [00:00<?, ?it/s]"
      ]
     },
     "metadata": {},
     "output_type": "display_data"
    },
    {
     "data": {
      "application/vnd.jupyter.widget-view+json": {
       "model_id": "65f71394662048a99b3b8d9a5d763542",
       "version_major": 2,
       "version_minor": 0
      },
      "text/plain": [
       "리뷰수집중:   0%|          | 0/99 [00:00<?, ?it/s]"
      ]
     },
     "metadata": {},
     "output_type": "display_data"
    },
    {
     "name": "stdout",
     "output_type": "stream",
     "text": [
      "\n",
      "202\n",
      "현재 :  무정해장국\n",
      "현재 크롤링이 진행중인 검색어 : 무정해장국\n"
     ]
    },
    {
     "data": {
      "application/vnd.jupyter.widget-view+json": {
       "model_id": "53bfa81b80dc400b93dc0a1bbce7a0f7",
       "version_major": 2,
       "version_minor": 0
      },
      "text/plain": [
       "  0%|          | 0/3 [00:00<?, ?it/s]"
      ]
     },
     "metadata": {},
     "output_type": "display_data"
    },
    {
     "data": {
      "application/vnd.jupyter.widget-view+json": {
       "model_id": "a99275289f184971acae9ddbf9ba167e",
       "version_major": 2,
       "version_minor": 0
      },
      "text/plain": [
       "리뷰수집중:   0%|          | 0/49 [00:00<?, ?it/s]"
      ]
     },
     "metadata": {},
     "output_type": "display_data"
    },
    {
     "name": "stdout",
     "output_type": "stream",
     "text": [
      "\n",
      "203\n",
      "현재 :  연동박가네\n",
      "현재 크롤링이 진행중인 검색어 : 연동박가네\n"
     ]
    },
    {
     "data": {
      "application/vnd.jupyter.widget-view+json": {
       "model_id": "ce3abc00a98a49d8b200a1f5a729cea4",
       "version_major": 2,
       "version_minor": 0
      },
      "text/plain": [
       "  0%|          | 0/7 [00:00<?, ?it/s]"
      ]
     },
     "metadata": {},
     "output_type": "display_data"
    },
    {
     "data": {
      "application/vnd.jupyter.widget-view+json": {
       "model_id": "2a973b917fdc4b2cb344ddef2e4ac894",
       "version_major": 2,
       "version_minor": 0
      },
      "text/plain": [
       "리뷰수집중:   0%|          | 0/38 [00:00<?, ?it/s]"
      ]
     },
     "metadata": {},
     "output_type": "display_data"
    },
    {
     "name": "stdout",
     "output_type": "stream",
     "text": [
      "\n",
      "204\n",
      "현재 :  원님네포장마차\n",
      "현재 크롤링이 진행중인 검색어 : 원님네포장마차\n"
     ]
    },
    {
     "data": {
      "application/vnd.jupyter.widget-view+json": {
       "model_id": "8dde9770b33849e298a2c14b7b4c565d",
       "version_major": 2,
       "version_minor": 0
      },
      "text/plain": [
       "  0%|          | 0/16 [00:00<?, ?it/s]"
      ]
     },
     "metadata": {},
     "output_type": "display_data"
    },
    {
     "data": {
      "application/vnd.jupyter.widget-view+json": {
       "model_id": "45a91166367e4f399063ff685f2527a2",
       "version_major": 2,
       "version_minor": 0
      },
      "text/plain": [
       "리뷰수집중:   0%|          | 0/44 [00:20<?, ?it/s]"
      ]
     },
     "metadata": {},
     "output_type": "display_data"
    },
    {
     "name": "stdout",
     "output_type": "stream",
     "text": [
      "\n",
      "205\n",
      "현재 :  카인드펍\n",
      "현재 크롤링이 진행중인 검색어 : 카인드펍\n",
      "펼칠 리뷰가 없다.\n",
      "\n",
      "206\n",
      "현재 :  궁한스샤브샤브신제주점\n",
      "현재 크롤링이 진행중인 검색어 : 궁한스샤브샤브신제주점\n"
     ]
    },
    {
     "data": {
      "application/vnd.jupyter.widget-view+json": {
       "model_id": "508bae17fe7c4ef38a8c07c98953f8b3",
       "version_major": 2,
       "version_minor": 0
      },
      "text/plain": [
       "  0%|          | 0/9 [00:00<?, ?it/s]"
      ]
     },
     "metadata": {},
     "output_type": "display_data"
    },
    {
     "data": {
      "application/vnd.jupyter.widget-view+json": {
       "model_id": "d2d399158b034882918ada6e31d95673",
       "version_major": 2,
       "version_minor": 0
      },
      "text/plain": [
       "리뷰수집중:   0%|          | 0/62 [00:00<?, ?it/s]"
      ]
     },
     "metadata": {},
     "output_type": "display_data"
    },
    {
     "name": "stdout",
     "output_type": "stream",
     "text": [
      "\n",
      "207\n",
      "현재 :  짝태노가리제주1호점\n",
      "현재 크롤링이 진행중인 검색어 : 짝태노가리제주1호점\n"
     ]
    },
    {
     "data": {
      "application/vnd.jupyter.widget-view+json": {
       "model_id": "b944872b33e349abbcb8ff9e85a06e2a",
       "version_major": 2,
       "version_minor": 0
      },
      "text/plain": [
       "리뷰수집중:   0%|          | 0/22 [00:00<?, ?it/s]"
      ]
     },
     "metadata": {},
     "output_type": "display_data"
    },
    {
     "name": "stdout",
     "output_type": "stream",
     "text": [
      "\n",
      "208\n",
      "현재 :  육남매\n",
      "현재 크롤링이 진행중인 검색어 : 육남매\n"
     ]
    },
    {
     "data": {
      "application/vnd.jupyter.widget-view+json": {
       "model_id": "ee7bba83310945edbd1258f00a2edb73",
       "version_major": 2,
       "version_minor": 0
      },
      "text/plain": [
       "  0%|          | 0/1 [00:00<?, ?it/s]"
      ]
     },
     "metadata": {},
     "output_type": "display_data"
    },
    {
     "data": {
      "application/vnd.jupyter.widget-view+json": {
       "model_id": "1111acac9bee4fe399a1d20e48aebd05",
       "version_major": 2,
       "version_minor": 0
      },
      "text/plain": [
       "리뷰수집중:   0%|          | 0/12 [00:00<?, ?it/s]"
      ]
     },
     "metadata": {},
     "output_type": "display_data"
    },
    {
     "name": "stdout",
     "output_type": "stream",
     "text": [
      "\n",
      "209\n",
      "현재 :  아구에반하다\n",
      "현재 크롤링이 진행중인 검색어 : 아구에반하다\n"
     ]
    },
    {
     "data": {
      "application/vnd.jupyter.widget-view+json": {
       "model_id": "ec2686860247451d99e6636659b051f6",
       "version_major": 2,
       "version_minor": 0
      },
      "text/plain": [
       "  0%|          | 0/6 [00:00<?, ?it/s]"
      ]
     },
     "metadata": {},
     "output_type": "display_data"
    },
    {
     "data": {
      "application/vnd.jupyter.widget-view+json": {
       "model_id": "c38f1af680b04fa08e897efaada16298",
       "version_major": 2,
       "version_minor": 0
      },
      "text/plain": [
       "리뷰수집중:   0%|          | 0/16 [00:00<?, ?it/s]"
      ]
     },
     "metadata": {},
     "output_type": "display_data"
    },
    {
     "name": "stdout",
     "output_type": "stream",
     "text": [
      "\n",
      "210\n",
      "현재 :  새몽실식당\n",
      "현재 크롤링이 진행중인 검색어 : 새몽실식당\n"
     ]
    },
    {
     "data": {
      "application/vnd.jupyter.widget-view+json": {
       "model_id": "79b30ab5f51f468088a6d6fb462f52e8",
       "version_major": 2,
       "version_minor": 0
      },
      "text/plain": [
       "리뷰수집중:   0%|          | 0/21 [00:00<?, ?it/s]"
      ]
     },
     "metadata": {},
     "output_type": "display_data"
    },
    {
     "name": "stdout",
     "output_type": "stream",
     "text": [
      "\n",
      "211\n",
      "현재 :  종로3가감자탕\n",
      "현재 크롤링이 진행중인 검색어 : 종로3가감자탕\n"
     ]
    },
    {
     "data": {
      "application/vnd.jupyter.widget-view+json": {
       "model_id": "3a8b74a3b8cf4c0c986e1b4c234bd8f8",
       "version_major": 2,
       "version_minor": 0
      },
      "text/plain": [
       "  0%|          | 0/8 [00:00<?, ?it/s]"
      ]
     },
     "metadata": {},
     "output_type": "display_data"
    },
    {
     "data": {
      "application/vnd.jupyter.widget-view+json": {
       "model_id": "f9f06abdaef6425390a68ae2eabf3a9b",
       "version_major": 2,
       "version_minor": 0
      },
      "text/plain": [
       "리뷰수집중:   0%|          | 0/49 [00:00<?, ?it/s]"
      ]
     },
     "metadata": {},
     "output_type": "display_data"
    },
    {
     "name": "stdout",
     "output_type": "stream",
     "text": [
      "\n",
      "212\n",
      "현재 :  세광양대창제주연동점\n",
      "현재 크롤링이 진행중인 검색어 : 세광양대창제주연동점\n"
     ]
    },
    {
     "data": {
      "application/vnd.jupyter.widget-view+json": {
       "model_id": "000934633d954339ac0d27343529c71b",
       "version_major": 2,
       "version_minor": 0
      },
      "text/plain": [
       "  0%|          | 0/41 [00:00<?, ?it/s]"
      ]
     },
     "metadata": {},
     "output_type": "display_data"
    },
    {
     "data": {
      "application/vnd.jupyter.widget-view+json": {
       "model_id": "1cbc7056d9f14cf590d2412c10885ba4",
       "version_major": 2,
       "version_minor": 0
      },
      "text/plain": [
       "리뷰수집중:   0%|          | 0/133 [00:00<?, ?it/s]"
      ]
     },
     "metadata": {},
     "output_type": "display_data"
    },
    {
     "name": "stdout",
     "output_type": "stream",
     "text": [
      "\n",
      "213\n",
      "현재 :  모심청국장\n",
      "현재 크롤링이 진행중인 검색어 : 모심청국장\n"
     ]
    },
    {
     "data": {
      "application/vnd.jupyter.widget-view+json": {
       "model_id": "9d006d3c53cf4196b84e47277a4f68de",
       "version_major": 2,
       "version_minor": 0
      },
      "text/plain": [
       "  0%|          | 0/7 [00:00<?, ?it/s]"
      ]
     },
     "metadata": {},
     "output_type": "display_data"
    },
    {
     "data": {
      "application/vnd.jupyter.widget-view+json": {
       "model_id": "1b037ef5824d43b78d8e5635c280877c",
       "version_major": 2,
       "version_minor": 0
      },
      "text/plain": [
       "리뷰수집중:   0%|          | 0/81 [00:00<?, ?it/s]"
      ]
     },
     "metadata": {},
     "output_type": "display_data"
    },
    {
     "name": "stdout",
     "output_type": "stream",
     "text": [
      "\n",
      "214\n",
      "현재 :  주연이네\n",
      "현재 크롤링이 진행중인 검색어 : 주연이네\n",
      "펼칠 리뷰가 없다.\n"
     ]
    },
    {
     "data": {
      "application/vnd.jupyter.widget-view+json": {
       "model_id": "1cfd3563ac044d7c9605296544c2b2ba",
       "version_major": 2,
       "version_minor": 0
      },
      "text/plain": [
       "리뷰수집중:   0%|          | 0/7 [00:00<?, ?it/s]"
      ]
     },
     "metadata": {},
     "output_type": "display_data"
    },
    {
     "name": "stdout",
     "output_type": "stream",
     "text": [
      "\n",
      "215\n",
      "현재 :  힘찬장어\n",
      "현재 크롤링이 진행중인 검색어 : 힘찬장어\n"
     ]
    },
    {
     "data": {
      "application/vnd.jupyter.widget-view+json": {
       "model_id": "505d9ad2c36d496593493fbf80ea5931",
       "version_major": 2,
       "version_minor": 0
      },
      "text/plain": [
       "  0%|          | 0/3 [00:04<?, ?it/s]"
      ]
     },
     "metadata": {},
     "output_type": "display_data"
    },
    {
     "data": {
      "application/vnd.jupyter.widget-view+json": {
       "model_id": "5b996131ef16440ba0f0707060a9d657",
       "version_major": 2,
       "version_minor": 0
      },
      "text/plain": [
       "리뷰수집중:   0%|          | 0/20 [00:00<?, ?it/s]"
      ]
     },
     "metadata": {},
     "output_type": "display_data"
    },
    {
     "name": "stdout",
     "output_type": "stream",
     "text": [
      "\n",
      "216\n",
      "현재 :  카페뮤로\n",
      "현재 크롤링이 진행중인 검색어 : 카페뮤로\n"
     ]
    },
    {
     "data": {
      "application/vnd.jupyter.widget-view+json": {
       "model_id": "206f775c16694b07bdfca9be7647a0f0",
       "version_major": 2,
       "version_minor": 0
      },
      "text/plain": [
       "  0%|          | 0/26 [00:00<?, ?it/s]"
      ]
     },
     "metadata": {},
     "output_type": "display_data"
    },
    {
     "data": {
      "application/vnd.jupyter.widget-view+json": {
       "model_id": "a8ab1749259e4b8fb60f1901eab1fc79",
       "version_major": 2,
       "version_minor": 0
      },
      "text/plain": [
       "리뷰수집중:   0%|          | 0/149 [00:00<?, ?it/s]"
      ]
     },
     "metadata": {},
     "output_type": "display_data"
    },
    {
     "name": "stdout",
     "output_type": "stream",
     "text": [
      "\n",
      "217\n",
      "현재 :  가리본가본점\n",
      "현재 크롤링이 진행중인 검색어 : 가리본가본점\n"
     ]
    },
    {
     "data": {
      "application/vnd.jupyter.widget-view+json": {
       "model_id": "aea4c1b8810b493ebbfcc49f678248e4",
       "version_major": 2,
       "version_minor": 0
      },
      "text/plain": [
       "  0%|          | 0/20 [00:00<?, ?it/s]"
      ]
     },
     "metadata": {},
     "output_type": "display_data"
    },
    {
     "data": {
      "application/vnd.jupyter.widget-view+json": {
       "model_id": "a1264f4c2907438aa3142ac01c5fde17",
       "version_major": 2,
       "version_minor": 0
      },
      "text/plain": [
       "리뷰수집중:   0%|          | 0/173 [00:00<?, ?it/s]"
      ]
     },
     "metadata": {},
     "output_type": "display_data"
    },
    {
     "name": "stdout",
     "output_type": "stream",
     "text": [
      "\n",
      "218\n",
      "현재 :  제주한우곱창\n",
      "현재 크롤링이 진행중인 검색어 : 제주한우곱창\n"
     ]
    },
    {
     "data": {
      "application/vnd.jupyter.widget-view+json": {
       "model_id": "f36486d7cbea4ef19338d44d453bcd20",
       "version_major": 2,
       "version_minor": 0
      },
      "text/plain": [
       "  0%|          | 0/10 [00:00<?, ?it/s]"
      ]
     },
     "metadata": {},
     "output_type": "display_data"
    },
    {
     "data": {
      "application/vnd.jupyter.widget-view+json": {
       "model_id": "388af6a2105d4dc7924953b515ed83fa",
       "version_major": 2,
       "version_minor": 0
      },
      "text/plain": [
       "리뷰수집중:   0%|          | 0/35 [00:00<?, ?it/s]"
      ]
     },
     "metadata": {},
     "output_type": "display_data"
    },
    {
     "name": "stdout",
     "output_type": "stream",
     "text": [
      "\n",
      "219\n",
      "현재 :  가시버시정육구이\n",
      "현재 크롤링이 진행중인 검색어 : 가시버시정육구이\n"
     ]
    },
    {
     "data": {
      "application/vnd.jupyter.widget-view+json": {
       "model_id": "2c8a5770fe054f7d9bdbac0125604920",
       "version_major": 2,
       "version_minor": 0
      },
      "text/plain": [
       "  0%|          | 0/7 [00:00<?, ?it/s]"
      ]
     },
     "metadata": {},
     "output_type": "display_data"
    },
    {
     "data": {
      "application/vnd.jupyter.widget-view+json": {
       "model_id": "9d746e13d1c140a69cb73edf0d13d222",
       "version_major": 2,
       "version_minor": 0
      },
      "text/plain": [
       "리뷰수집중:   0%|          | 0/28 [00:00<?, ?it/s]"
      ]
     },
     "metadata": {},
     "output_type": "display_data"
    },
    {
     "name": "stdout",
     "output_type": "stream",
     "text": [
      "\n",
      "220\n",
      "현재 :  만배수산\n",
      "현재 크롤링이 진행중인 검색어 : 만배수산\n",
      "펼칠 리뷰가 없다.\n"
     ]
    },
    {
     "data": {
      "application/vnd.jupyter.widget-view+json": {
       "model_id": "6003b934633f4469a6213555da8f4ca4",
       "version_major": 2,
       "version_minor": 0
      },
      "text/plain": [
       "리뷰수집중:   0%|          | 0/6 [00:00<?, ?it/s]"
      ]
     },
     "metadata": {},
     "output_type": "display_data"
    },
    {
     "name": "stdout",
     "output_type": "stream",
     "text": [
      "\n",
      "221\n",
      "현재 :  스페샬삼무점\n",
      "현재 크롤링이 진행중인 검색어 : 스페샬삼무점\n",
      "펼칠 리뷰가 없다.\n"
     ]
    },
    {
     "data": {
      "application/vnd.jupyter.widget-view+json": {
       "model_id": "20d66efe336d44c2999def5df673edcb",
       "version_major": 2,
       "version_minor": 0
      },
      "text/plain": [
       "리뷰수집중:   0%|          | 0/9 [00:04<?, ?it/s]"
      ]
     },
     "metadata": {},
     "output_type": "display_data"
    },
    {
     "name": "stdout",
     "output_type": "stream",
     "text": [
      "\n",
      "222\n",
      "현재 :  식객의주방\n",
      "현재 크롤링이 진행중인 검색어 : 식객의주방\n"
     ]
    },
    {
     "data": {
      "application/vnd.jupyter.widget-view+json": {
       "model_id": "2e535730d50a4356bc635dab54431142",
       "version_major": 2,
       "version_minor": 0
      },
      "text/plain": [
       "  0%|          | 0/9 [00:00<?, ?it/s]"
      ]
     },
     "metadata": {},
     "output_type": "display_data"
    },
    {
     "data": {
      "application/vnd.jupyter.widget-view+json": {
       "model_id": "723137acb3ff4c62b2c24b5aa9ecc0ea",
       "version_major": 2,
       "version_minor": 0
      },
      "text/plain": [
       "리뷰수집중:   0%|          | 0/19 [00:00<?, ?it/s]"
      ]
     },
     "metadata": {},
     "output_type": "display_data"
    },
    {
     "name": "stdout",
     "output_type": "stream",
     "text": [
      "\n",
      "223\n",
      "현재 :  컴포즈커피제주제원점\n",
      "현재 크롤링이 진행중인 검색어 : 컴포즈커피제주제원점\n"
     ]
    },
    {
     "data": {
      "application/vnd.jupyter.widget-view+json": {
       "model_id": "7a93bb0b6cec411ab48e4e81562d2895",
       "version_major": 2,
       "version_minor": 0
      },
      "text/plain": [
       "  0%|          | 0/1 [00:00<?, ?it/s]"
      ]
     },
     "metadata": {},
     "output_type": "display_data"
    },
    {
     "data": {
      "application/vnd.jupyter.widget-view+json": {
       "model_id": "acf12ef1619046a4b49cdba5c6217588",
       "version_major": 2,
       "version_minor": 0
      },
      "text/plain": [
       "리뷰수집중:   0%|          | 0/55 [00:00<?, ?it/s]"
      ]
     },
     "metadata": {},
     "output_type": "display_data"
    },
    {
     "name": "stdout",
     "output_type": "stream",
     "text": [
      "\n",
      "224\n",
      "현재 :  한양춘향연화점\n",
      "현재 크롤링이 진행중인 검색어 : 한양춘향연화점\n",
      "펼칠 리뷰가 없다.\n"
     ]
    },
    {
     "data": {
      "application/vnd.jupyter.widget-view+json": {
       "model_id": "61397050efa2458eacf84b9e8136e3cb",
       "version_major": 2,
       "version_minor": 0
      },
      "text/plain": [
       "리뷰수집중:   0%|          | 0/4 [00:00<?, ?it/s]"
      ]
     },
     "metadata": {},
     "output_type": "display_data"
    },
    {
     "name": "stdout",
     "output_type": "stream",
     "text": [
      "\n",
      "225\n",
      "현재 :  낙지로\n",
      "현재 크롤링이 진행중인 검색어 : 낙지로\n"
     ]
    },
    {
     "data": {
      "application/vnd.jupyter.widget-view+json": {
       "model_id": "0ce0001b3e51468a876fe8014b420b83",
       "version_major": 2,
       "version_minor": 0
      },
      "text/plain": [
       "  0%|          | 0/24 [00:04<?, ?it/s]"
      ]
     },
     "metadata": {},
     "output_type": "display_data"
    },
    {
     "data": {
      "application/vnd.jupyter.widget-view+json": {
       "model_id": "b9358d67a36a4959a7861ff15c9b3459",
       "version_major": 2,
       "version_minor": 0
      },
      "text/plain": [
       "리뷰수집중:   0%|          | 0/198 [00:20<?, ?it/s]"
      ]
     },
     "metadata": {},
     "output_type": "display_data"
    },
    {
     "name": "stdout",
     "output_type": "stream",
     "text": [
      "\n",
      "226\n",
      "현재 :  복덕이네\n",
      "현재 크롤링이 진행중인 검색어 : 복덕이네\n",
      "펼칠 리뷰가 없다.\n"
     ]
    },
    {
     "data": {
      "application/vnd.jupyter.widget-view+json": {
       "model_id": "cf4ea5c0f29a4ddb9e88c121af947700",
       "version_major": 2,
       "version_minor": 0
      },
      "text/plain": [
       "리뷰수집중:   0%|          | 0/4 [00:00<?, ?it/s]"
      ]
     },
     "metadata": {},
     "output_type": "display_data"
    },
    {
     "name": "stdout",
     "output_type": "stream",
     "text": [
      "\n",
      "227\n",
      "현재 :  버닝썬\n",
      "현재 크롤링이 진행중인 검색어 : 버닝썬\n"
     ]
    },
    {
     "data": {
      "application/vnd.jupyter.widget-view+json": {
       "model_id": "3c9dc65559414ead8e1edda87815c2c0",
       "version_major": 2,
       "version_minor": 0
      },
      "text/plain": [
       "  0%|          | 0/7 [00:04<?, ?it/s]"
      ]
     },
     "metadata": {},
     "output_type": "display_data"
    },
    {
     "data": {
      "application/vnd.jupyter.widget-view+json": {
       "model_id": "04c5bbc24970402880ab2adfb2afd585",
       "version_major": 2,
       "version_minor": 0
      },
      "text/plain": [
       "리뷰수집중:   0%|          | 0/87 [00:00<?, ?it/s]"
      ]
     },
     "metadata": {},
     "output_type": "display_data"
    },
    {
     "name": "stdout",
     "output_type": "stream",
     "text": [
      "\n",
      "228\n",
      "현재 :  호식이두마리치킨연동신시가지점\n",
      "현재 크롤링이 진행중인 검색어 : 호식이두마리치킨연동신시가지점\n",
      "펼칠 리뷰가 없다.\n"
     ]
    },
    {
     "data": {
      "application/vnd.jupyter.widget-view+json": {
       "model_id": "9a37e59124364417814b2cdc7351b2d7",
       "version_major": 2,
       "version_minor": 0
      },
      "text/plain": [
       "리뷰수집중:   0%|          | 0/9 [00:00<?, ?it/s]"
      ]
     },
     "metadata": {},
     "output_type": "display_data"
    },
    {
     "name": "stdout",
     "output_type": "stream",
     "text": [
      "\n",
      "229\n",
      "현재 :  흥부네정식\n",
      "현재 크롤링이 진행중인 검색어 : 흥부네정식\n"
     ]
    },
    {
     "data": {
      "application/vnd.jupyter.widget-view+json": {
       "model_id": "9628977c50214949951e42ad25207f61",
       "version_major": 2,
       "version_minor": 0
      },
      "text/plain": [
       "  0%|          | 0/4 [00:04<?, ?it/s]"
      ]
     },
     "metadata": {},
     "output_type": "display_data"
    },
    {
     "data": {
      "application/vnd.jupyter.widget-view+json": {
       "model_id": "19426b923cff4d04b1210dc9587d54cb",
       "version_major": 2,
       "version_minor": 0
      },
      "text/plain": [
       "리뷰수집중:   0%|          | 0/19 [00:00<?, ?it/s]"
      ]
     },
     "metadata": {},
     "output_type": "display_data"
    },
    {
     "name": "stdout",
     "output_type": "stream",
     "text": [
      "\n",
      "230\n",
      "현재 :  달맞이\n",
      "현재 크롤링이 진행중인 검색어 : 달맞이\n"
     ]
    },
    {
     "data": {
      "application/vnd.jupyter.widget-view+json": {
       "model_id": "ecc494adeb634a9c9b8623cca4c9e86a",
       "version_major": 2,
       "version_minor": 0
      },
      "text/plain": [
       "  0%|          | 0/12 [00:00<?, ?it/s]"
      ]
     },
     "metadata": {},
     "output_type": "display_data"
    },
    {
     "data": {
      "application/vnd.jupyter.widget-view+json": {
       "model_id": "ac6f00699d3f4e379b5a4d333c27ff7b",
       "version_major": 2,
       "version_minor": 0
      },
      "text/plain": [
       "리뷰수집중:   0%|          | 0/128 [00:00<?, ?it/s]"
      ]
     },
     "metadata": {},
     "output_type": "display_data"
    },
    {
     "name": "stdout",
     "output_type": "stream",
     "text": [
      "\n",
      "231\n",
      "현재 :  연동돈우가\n",
      "현재 크롤링이 진행중인 검색어 : 연동돈우가\n",
      "펼칠 리뷰가 없다.\n"
     ]
    },
    {
     "data": {
      "application/vnd.jupyter.widget-view+json": {
       "model_id": "e7786bb6e50d437e8462daef20b88ee0",
       "version_major": 2,
       "version_minor": 0
      },
      "text/plain": [
       "  0%|          | 0/1 [00:00<?, ?it/s]"
      ]
     },
     "metadata": {},
     "output_type": "display_data"
    },
    {
     "data": {
      "application/vnd.jupyter.widget-view+json": {
       "model_id": "22d7899c8028461fa5c4906bfe2985aa",
       "version_major": 2,
       "version_minor": 0
      },
      "text/plain": [
       "리뷰수집중:   0%|          | 0/8 [00:00<?, ?it/s]"
      ]
     },
     "metadata": {},
     "output_type": "display_data"
    },
    {
     "name": "stdout",
     "output_type": "stream",
     "text": [
      "\n",
      "232\n",
      "현재 :  부가네얼큰이연동점\n",
      "현재 크롤링이 진행중인 검색어 : 부가네얼큰이연동점\n"
     ]
    },
    {
     "data": {
      "application/vnd.jupyter.widget-view+json": {
       "model_id": "54558d66fcb44e3db8e0b8c1552477d3",
       "version_major": 2,
       "version_minor": 0
      },
      "text/plain": [
       "리뷰수집중:   0%|          | 0/17 [00:00<?, ?it/s]"
      ]
     },
     "metadata": {},
     "output_type": "display_data"
    },
    {
     "name": "stdout",
     "output_type": "stream",
     "text": [
      "\n",
      "233\n",
      "현재 :  막쇠\n",
      "현재 크롤링이 진행중인 검색어 : 막쇠\n"
     ]
    },
    {
     "data": {
      "application/vnd.jupyter.widget-view+json": {
       "model_id": "2895070a211d4d498dbd393a6095abd2",
       "version_major": 2,
       "version_minor": 0
      },
      "text/plain": [
       "  0%|          | 0/27 [00:00<?, ?it/s]"
      ]
     },
     "metadata": {},
     "output_type": "display_data"
    },
    {
     "data": {
      "application/vnd.jupyter.widget-view+json": {
       "model_id": "38cfee16ff474605b9a18076ce2a3d7f",
       "version_major": 2,
       "version_minor": 0
      },
      "text/plain": [
       "리뷰수집중:   0%|          | 0/190 [00:00<?, ?it/s]"
      ]
     },
     "metadata": {},
     "output_type": "display_data"
    },
    {
     "name": "stdout",
     "output_type": "stream",
     "text": [
      "\n",
      "234\n",
      "현재 :  오막한우막창\n",
      "현재 크롤링이 진행중인 검색어 : 오막한우막창\n"
     ]
    },
    {
     "data": {
      "application/vnd.jupyter.widget-view+json": {
       "model_id": "3e22ccea619f4bd394af572544627ecc",
       "version_major": 2,
       "version_minor": 0
      },
      "text/plain": [
       "  0%|          | 0/3 [00:00<?, ?it/s]"
      ]
     },
     "metadata": {},
     "output_type": "display_data"
    },
    {
     "data": {
      "application/vnd.jupyter.widget-view+json": {
       "model_id": "d45197ef673e40e58fd569eef878f682",
       "version_major": 2,
       "version_minor": 0
      },
      "text/plain": [
       "리뷰수집중:   0%|          | 0/12 [00:00<?, ?it/s]"
      ]
     },
     "metadata": {},
     "output_type": "display_data"
    },
    {
     "name": "stdout",
     "output_type": "stream",
     "text": [
      "\n",
      "235\n",
      "현재 :  제삼굽\n",
      "현재 크롤링이 진행중인 검색어 : 제삼굽\n"
     ]
    },
    {
     "data": {
      "application/vnd.jupyter.widget-view+json": {
       "model_id": "4586acf589ee4c6b8ca4e7c16c49eb26",
       "version_major": 2,
       "version_minor": 0
      },
      "text/plain": [
       "  0%|          | 0/28 [00:00<?, ?it/s]"
      ]
     },
     "metadata": {},
     "output_type": "display_data"
    },
    {
     "data": {
      "application/vnd.jupyter.widget-view+json": {
       "model_id": "e8b4faad52a04ef1ac804af9eae8c0f0",
       "version_major": 2,
       "version_minor": 0
      },
      "text/plain": [
       "리뷰수집중:   0%|          | 0/48 [00:12<?, ?it/s]"
      ]
     },
     "metadata": {},
     "output_type": "display_data"
    },
    {
     "name": "stdout",
     "output_type": "stream",
     "text": [
      "\n",
      "236\n",
      "현재 :  명태골연동점\n",
      "현재 크롤링이 진행중인 검색어 : 명태골연동점\n"
     ]
    },
    {
     "data": {
      "application/vnd.jupyter.widget-view+json": {
       "model_id": "ce7c38e815f44f4aa9747bc564b25ab2",
       "version_major": 2,
       "version_minor": 0
      },
      "text/plain": [
       "  0%|          | 0/2 [00:00<?, ?it/s]"
      ]
     },
     "metadata": {},
     "output_type": "display_data"
    },
    {
     "data": {
      "application/vnd.jupyter.widget-view+json": {
       "model_id": "9e8817b4285d4da194949533e53f2619",
       "version_major": 2,
       "version_minor": 0
      },
      "text/plain": [
       "리뷰수집중:   0%|          | 0/38 [00:00<?, ?it/s]"
      ]
     },
     "metadata": {},
     "output_type": "display_data"
    },
    {
     "name": "stdout",
     "output_type": "stream",
     "text": [
      "\n",
      "237\n",
      "현재 :  안트래\n",
      "현재 크롤링이 진행중인 검색어 : 안트래\n",
      "펼칠 리뷰가 없다.\n"
     ]
    },
    {
     "data": {
      "application/vnd.jupyter.widget-view+json": {
       "model_id": "06797c0f187b4ac2a3365ec12abf11eb",
       "version_major": 2,
       "version_minor": 0
      },
      "text/plain": [
       "리뷰수집중:   0%|          | 0/5 [00:00<?, ?it/s]"
      ]
     },
     "metadata": {},
     "output_type": "display_data"
    },
    {
     "name": "stdout",
     "output_type": "stream",
     "text": [
      "\n",
      "238\n",
      "현재 :  도랑도랑\n",
      "현재 크롤링이 진행중인 검색어 : 도랑도랑\n",
      "펼칠 리뷰가 없다.\n"
     ]
    },
    {
     "data": {
      "application/vnd.jupyter.widget-view+json": {
       "model_id": "735c003d1bd84d81a86bf4c8ea1b4b77",
       "version_major": 2,
       "version_minor": 0
      },
      "text/plain": [
       "  0%|          | 0/3 [00:04<?, ?it/s]"
      ]
     },
     "metadata": {},
     "output_type": "display_data"
    },
    {
     "data": {
      "application/vnd.jupyter.widget-view+json": {
       "model_id": "964ed4f8aa554f56875aea5e74a4178f",
       "version_major": 2,
       "version_minor": 0
      },
      "text/plain": [
       "리뷰수집중:   0%|          | 0/7 [00:00<?, ?it/s]"
      ]
     },
     "metadata": {},
     "output_type": "display_data"
    },
    {
     "name": "stdout",
     "output_type": "stream",
     "text": [
      "\n",
      "239\n",
      "현재 :  개염지영말축\n",
      "현재 크롤링이 진행중인 검색어 : 개염지영말축\n"
     ]
    },
    {
     "data": {
      "application/vnd.jupyter.widget-view+json": {
       "model_id": "9f4775f95a784c76a83c6ee2a5f076b7",
       "version_major": 2,
       "version_minor": 0
      },
      "text/plain": [
       "  0%|          | 0/18 [00:00<?, ?it/s]"
      ]
     },
     "metadata": {},
     "output_type": "display_data"
    },
    {
     "data": {
      "application/vnd.jupyter.widget-view+json": {
       "model_id": "faf0b5d40347414a94b6a0f9cab51393",
       "version_major": 2,
       "version_minor": 0
      },
      "text/plain": [
       "리뷰수집중:   0%|          | 0/88 [00:00<?, ?it/s]"
      ]
     },
     "metadata": {},
     "output_type": "display_data"
    },
    {
     "name": "stdout",
     "output_type": "stream",
     "text": [
      "\n",
      "240\n",
      "현재 :  딱한잔포차\n",
      "현재 크롤링이 진행중인 검색어 : 딱한잔포차\n",
      "펼칠 리뷰가 없다.\n"
     ]
    },
    {
     "data": {
      "application/vnd.jupyter.widget-view+json": {
       "model_id": "c02697ab91f34432967b56c392e115a4",
       "version_major": 2,
       "version_minor": 0
      },
      "text/plain": [
       "리뷰수집중:   0%|          | 0/2 [00:00<?, ?it/s]"
      ]
     },
     "metadata": {},
     "output_type": "display_data"
    },
    {
     "name": "stdout",
     "output_type": "stream",
     "text": [
      "\n",
      "241\n",
      "현재 :  탕궁훠궈\n",
      "현재 크롤링이 진행중인 검색어 : 탕궁훠궈\n"
     ]
    },
    {
     "data": {
      "application/vnd.jupyter.widget-view+json": {
       "model_id": "b5620fd3ce694b1a95bda10a5f6a63d2",
       "version_major": 2,
       "version_minor": 0
      },
      "text/plain": [
       "  0%|          | 0/6 [00:04<?, ?it/s]"
      ]
     },
     "metadata": {},
     "output_type": "display_data"
    },
    {
     "data": {
      "application/vnd.jupyter.widget-view+json": {
       "model_id": "6cbb9663ddc34dbbaee587fccf6112a9",
       "version_major": 2,
       "version_minor": 0
      },
      "text/plain": [
       "리뷰수집중:   0%|          | 0/33 [00:00<?, ?it/s]"
      ]
     },
     "metadata": {},
     "output_type": "display_data"
    },
    {
     "name": "stdout",
     "output_type": "stream",
     "text": [
      "\n",
      "242\n",
      "현재 :  냉동고\n",
      "현재 크롤링이 진행중인 검색어 : 냉동고\n"
     ]
    },
    {
     "data": {
      "application/vnd.jupyter.widget-view+json": {
       "model_id": "69c81e2639674494a9d221d08e0c3057",
       "version_major": 2,
       "version_minor": 0
      },
      "text/plain": [
       "  0%|          | 0/12 [00:00<?, ?it/s]"
      ]
     },
     "metadata": {},
     "output_type": "display_data"
    },
    {
     "data": {
      "application/vnd.jupyter.widget-view+json": {
       "model_id": "8276c76292ea4bf9932a64497fc63d87",
       "version_major": 2,
       "version_minor": 0
      },
      "text/plain": [
       "리뷰수집중:   0%|          | 0/63 [00:00<?, ?it/s]"
      ]
     },
     "metadata": {},
     "output_type": "display_data"
    },
    {
     "name": "stdout",
     "output_type": "stream",
     "text": [
      "\n",
      "243\n",
      "현재 :  모살물2호점\n",
      "현재 크롤링이 진행중인 검색어 : 모살물2호점\n"
     ]
    },
    {
     "data": {
      "application/vnd.jupyter.widget-view+json": {
       "model_id": "75ccbefe618f445a920ec9b0345fb735",
       "version_major": 2,
       "version_minor": 0
      },
      "text/plain": [
       "  0%|          | 0/77 [00:00<?, ?it/s]"
      ]
     },
     "metadata": {},
     "output_type": "display_data"
    },
    {
     "data": {
      "application/vnd.jupyter.widget-view+json": {
       "model_id": "6e8dc6377f314281a944266bec705142",
       "version_major": 2,
       "version_minor": 0
      },
      "text/plain": [
       "리뷰수집중:   0%|          | 0/381 [00:00<?, ?it/s]"
      ]
     },
     "metadata": {},
     "output_type": "display_data"
    },
    {
     "name": "stdout",
     "output_type": "stream",
     "text": [
      "\n",
      "244\n",
      "현재 :  까투리꼬치구이태양점\n",
      "현재 크롤링이 진행중인 검색어 : 까투리꼬치구이태양점\n"
     ]
    },
    {
     "data": {
      "application/vnd.jupyter.widget-view+json": {
       "model_id": "8a837f1744bd4e2b85889b8182ef2fe2",
       "version_major": 2,
       "version_minor": 0
      },
      "text/plain": [
       "  0%|          | 0/1 [00:00<?, ?it/s]"
      ]
     },
     "metadata": {},
     "output_type": "display_data"
    },
    {
     "data": {
      "application/vnd.jupyter.widget-view+json": {
       "model_id": "f4583c5a3cb342609279b10673d74af2",
       "version_major": 2,
       "version_minor": 0
      },
      "text/plain": [
       "리뷰수집중:   0%|          | 0/18 [00:00<?, ?it/s]"
      ]
     },
     "metadata": {},
     "output_type": "display_data"
    },
    {
     "name": "stdout",
     "output_type": "stream",
     "text": [
      "\n",
      "245\n",
      "현재 :  고씨회관\n",
      "현재 크롤링이 진행중인 검색어 : 고씨회관\n"
     ]
    },
    {
     "data": {
      "application/vnd.jupyter.widget-view+json": {
       "model_id": "23bec75b00194b1a82a9482b2bdcfe3e",
       "version_major": 2,
       "version_minor": 0
      },
      "text/plain": [
       "  0%|          | 0/2 [00:00<?, ?it/s]"
      ]
     },
     "metadata": {},
     "output_type": "display_data"
    },
    {
     "data": {
      "application/vnd.jupyter.widget-view+json": {
       "model_id": "0212379819784ef9aee4439b2d981be6",
       "version_major": 2,
       "version_minor": 0
      },
      "text/plain": [
       "리뷰수집중:   0%|          | 0/11 [00:00<?, ?it/s]"
      ]
     },
     "metadata": {},
     "output_type": "display_data"
    },
    {
     "name": "stdout",
     "output_type": "stream",
     "text": [
      "\n",
      "246\n",
      "현재 :  칠십리\n",
      "현재 크롤링이 진행중인 검색어 : 칠십리\n"
     ]
    },
    {
     "data": {
      "application/vnd.jupyter.widget-view+json": {
       "model_id": "4b5f0be8947648e1b6242967942dedee",
       "version_major": 2,
       "version_minor": 0
      },
      "text/plain": [
       "리뷰수집중:   0%|          | 0/48 [00:00<?, ?it/s]"
      ]
     },
     "metadata": {},
     "output_type": "display_data"
    },
    {
     "name": "stdout",
     "output_type": "stream",
     "text": [
      "\n",
      "247\n",
      "현재 :  시골못난이투\n",
      "현재 크롤링이 진행중인 검색어 : 시골못난이투\n"
     ]
    },
    {
     "data": {
      "application/vnd.jupyter.widget-view+json": {
       "model_id": "51ba9ffbadc04577a94324377e9bf0b3",
       "version_major": 2,
       "version_minor": 0
      },
      "text/plain": [
       "  0%|          | 0/8 [00:00<?, ?it/s]"
      ]
     },
     "metadata": {},
     "output_type": "display_data"
    },
    {
     "data": {
      "application/vnd.jupyter.widget-view+json": {
       "model_id": "ea74658681ab4fd9a26d1fcfdd81f335",
       "version_major": 2,
       "version_minor": 0
      },
      "text/plain": [
       "리뷰수집중:   0%|          | 0/41 [00:00<?, ?it/s]"
      ]
     },
     "metadata": {},
     "output_type": "display_data"
    },
    {
     "name": "stdout",
     "output_type": "stream",
     "text": [
      "\n",
      "248\n",
      "현재 :  차곡\n",
      "현재 크롤링이 진행중인 검색어 : 차곡\n",
      "펼칠 리뷰가 없다.\n"
     ]
    },
    {
     "data": {
      "application/vnd.jupyter.widget-view+json": {
       "model_id": "efc7236835dd4a10ad3ee7bef5abdc34",
       "version_major": 2,
       "version_minor": 0
      },
      "text/plain": [
       "  0%|          | 0/1 [00:00<?, ?it/s]"
      ]
     },
     "metadata": {},
     "output_type": "display_data"
    },
    {
     "data": {
      "application/vnd.jupyter.widget-view+json": {
       "model_id": "abd11044489546d38ccdb973b6664ec8",
       "version_major": 2,
       "version_minor": 0
      },
      "text/plain": [
       "리뷰수집중:   0%|          | 0/8 [00:00<?, ?it/s]"
      ]
     },
     "metadata": {},
     "output_type": "display_data"
    },
    {
     "name": "stdout",
     "output_type": "stream",
     "text": [
      "\n",
      "249\n",
      "현재 :  돈나무\n",
      "현재 크롤링이 진행중인 검색어 : 돈나무\n"
     ]
    },
    {
     "data": {
      "application/vnd.jupyter.widget-view+json": {
       "model_id": "d8b7149e514444c582f033a013309622",
       "version_major": 2,
       "version_minor": 0
      },
      "text/plain": [
       "  0%|          | 0/171 [00:00<?, ?it/s]"
      ]
     },
     "metadata": {},
     "output_type": "display_data"
    },
    {
     "data": {
      "application/vnd.jupyter.widget-view+json": {
       "model_id": "97a4390210354e0ca848d09cbf408f7f",
       "version_major": 2,
       "version_minor": 0
      },
      "text/plain": [
       "리뷰수집중:   0%|          | 0/1002 [00:00<?, ?it/s]"
      ]
     },
     "metadata": {},
     "output_type": "display_data"
    },
    {
     "name": "stdout",
     "output_type": "stream",
     "text": [
      "\n",
      "250\n",
      "현재 :  비비큐치킨앤비어삼무공원점\n",
      "현재 크롤링이 진행중인 검색어 : 비비큐치킨앤비어삼무공원점\n"
     ]
    },
    {
     "data": {
      "application/vnd.jupyter.widget-view+json": {
       "model_id": "ba138670b3cf4da7829d240677588e03",
       "version_major": 2,
       "version_minor": 0
      },
      "text/plain": [
       "  0%|          | 0/1 [00:00<?, ?it/s]"
      ]
     },
     "metadata": {},
     "output_type": "display_data"
    },
    {
     "data": {
      "application/vnd.jupyter.widget-view+json": {
       "model_id": "2a8225fa95bd41428d91499406ca9686",
       "version_major": 2,
       "version_minor": 0
      },
      "text/plain": [
       "리뷰수집중:   0%|          | 0/45 [00:00<?, ?it/s]"
      ]
     },
     "metadata": {},
     "output_type": "display_data"
    },
    {
     "name": "stdout",
     "output_type": "stream",
     "text": [
      "\n",
      "251\n",
      "현재 :  털보산해\n",
      "현재 크롤링이 진행중인 검색어 : 털보산해\n"
     ]
    },
    {
     "data": {
      "application/vnd.jupyter.widget-view+json": {
       "model_id": "2356a0189f7b40618af323acc1b13c42",
       "version_major": 2,
       "version_minor": 0
      },
      "text/plain": [
       "  0%|          | 0/5 [00:00<?, ?it/s]"
      ]
     },
     "metadata": {},
     "output_type": "display_data"
    },
    {
     "data": {
      "application/vnd.jupyter.widget-view+json": {
       "model_id": "a4bec8cd127a4fd9866056cbf06a922e",
       "version_major": 2,
       "version_minor": 0
      },
      "text/plain": [
       "리뷰수집중:   0%|          | 0/13 [00:00<?, ?it/s]"
      ]
     },
     "metadata": {},
     "output_type": "display_data"
    },
    {
     "name": "stdout",
     "output_type": "stream",
     "text": [
      "\n",
      "252\n",
      "현재 :  백세장수설렁탕\n",
      "현재 크롤링이 진행중인 검색어 : 백세장수설렁탕\n"
     ]
    },
    {
     "data": {
      "application/vnd.jupyter.widget-view+json": {
       "model_id": "f2daff23e2ff4f82af2507faef993c37",
       "version_major": 2,
       "version_minor": 0
      },
      "text/plain": [
       "  0%|          | 0/15 [00:00<?, ?it/s]"
      ]
     },
     "metadata": {},
     "output_type": "display_data"
    },
    {
     "data": {
      "application/vnd.jupyter.widget-view+json": {
       "model_id": "1817477bb316434d89828f7b0db7d389",
       "version_major": 2,
       "version_minor": 0
      },
      "text/plain": [
       "리뷰수집중:   0%|          | 0/79 [00:00<?, ?it/s]"
      ]
     },
     "metadata": {},
     "output_type": "display_data"
    },
    {
     "name": "stdout",
     "output_type": "stream",
     "text": [
      "\n",
      "253\n",
      "현재 :  바오펑\n",
      "현재 크롤링이 진행중인 검색어 : 바오펑\n"
     ]
    },
    {
     "data": {
      "application/vnd.jupyter.widget-view+json": {
       "model_id": "fb1235c158a8464f93e326b927a1cdab",
       "version_major": 2,
       "version_minor": 0
      },
      "text/plain": [
       "리뷰수집중:   0%|          | 0/33 [00:00<?, ?it/s]"
      ]
     },
     "metadata": {},
     "output_type": "display_data"
    },
    {
     "name": "stdout",
     "output_type": "stream",
     "text": [
      "\n",
      "254\n",
      "현재 :  춘천명동닭갈비연동점\n",
      "현재 크롤링이 진행중인 검색어 : 춘천명동닭갈비연동점\n"
     ]
    },
    {
     "data": {
      "application/vnd.jupyter.widget-view+json": {
       "model_id": "fb92dae6cc9a484896baa8640463c545",
       "version_major": 2,
       "version_minor": 0
      },
      "text/plain": [
       "  0%|          | 0/4 [00:00<?, ?it/s]"
      ]
     },
     "metadata": {},
     "output_type": "display_data"
    },
    {
     "data": {
      "application/vnd.jupyter.widget-view+json": {
       "model_id": "7ccbf5e97cf04fd393d6646cb7231875",
       "version_major": 2,
       "version_minor": 0
      },
      "text/plain": [
       "리뷰수집중:   0%|          | 0/55 [00:00<?, ?it/s]"
      ]
     },
     "metadata": {},
     "output_type": "display_data"
    },
    {
     "name": "stdout",
     "output_type": "stream",
     "text": [
      "\n",
      "255\n",
      "현재 :  알라운지\n",
      "현재 크롤링이 진행중인 검색어 : 알라운지\n"
     ]
    },
    {
     "data": {
      "application/vnd.jupyter.widget-view+json": {
       "model_id": "2a4283c000184b9cb3b2acd0f6470b66",
       "version_major": 2,
       "version_minor": 0
      },
      "text/plain": [
       "  0%|          | 0/20 [00:00<?, ?it/s]"
      ]
     },
     "metadata": {},
     "output_type": "display_data"
    },
    {
     "data": {
      "application/vnd.jupyter.widget-view+json": {
       "model_id": "007127cd90044a7c9eabc77a790dad32",
       "version_major": 2,
       "version_minor": 0
      },
      "text/plain": [
       "리뷰수집중:   0%|          | 0/130 [00:00<?, ?it/s]"
      ]
     },
     "metadata": {},
     "output_type": "display_data"
    },
    {
     "name": "stdout",
     "output_type": "stream",
     "text": [
      "\n",
      "256\n",
      "현재 :  쉐프의스시이야기\n",
      "현재 크롤링이 진행중인 검색어 : 쉐프의스시이야기\n"
     ]
    },
    {
     "data": {
      "application/vnd.jupyter.widget-view+json": {
       "model_id": "fd6e8d1183ec4b8db36318ca331be5a7",
       "version_major": 2,
       "version_minor": 0
      },
      "text/plain": [
       "  0%|          | 0/40 [00:00<?, ?it/s]"
      ]
     },
     "metadata": {},
     "output_type": "display_data"
    },
    {
     "data": {
      "application/vnd.jupyter.widget-view+json": {
       "model_id": "0b7cf0b5ea1d4dd6b5c888ae204fa5ec",
       "version_major": 2,
       "version_minor": 0
      },
      "text/plain": [
       "리뷰수집중:   0%|          | 0/358 [00:00<?, ?it/s]"
      ]
     },
     "metadata": {},
     "output_type": "display_data"
    },
    {
     "name": "stdout",
     "output_type": "stream",
     "text": [
      "\n",
      "257\n",
      "현재 :  신제주보말칼국수제주본점\n",
      "현재 크롤링이 진행중인 검색어 : 신제주보말칼국수제주본점\n"
     ]
    },
    {
     "data": {
      "application/vnd.jupyter.widget-view+json": {
       "model_id": "dc6d15fdd0a241cc9d56f070f8ac32c3",
       "version_major": 2,
       "version_minor": 0
      },
      "text/plain": [
       "  0%|          | 0/144 [00:00<?, ?it/s]"
      ]
     },
     "metadata": {},
     "output_type": "display_data"
    },
    {
     "data": {
      "application/vnd.jupyter.widget-view+json": {
       "model_id": "ffb47f5744054cb185943e53f85c9752",
       "version_major": 2,
       "version_minor": 0
      },
      "text/plain": [
       "리뷰수집중:   0%|          | 0/519 [00:00<?, ?it/s]"
      ]
     },
     "metadata": {},
     "output_type": "display_data"
    },
    {
     "name": "stdout",
     "output_type": "stream",
     "text": [
      "\n",
      "258\n",
      "현재 :  한라생돈\n",
      "현재 크롤링이 진행중인 검색어 : 한라생돈\n"
     ]
    },
    {
     "data": {
      "application/vnd.jupyter.widget-view+json": {
       "model_id": "0874c9bf1cce4211a8b84ec6efbcb581",
       "version_major": 2,
       "version_minor": 0
      },
      "text/plain": [
       "  0%|          | 0/9 [00:00<?, ?it/s]"
      ]
     },
     "metadata": {},
     "output_type": "display_data"
    },
    {
     "data": {
      "application/vnd.jupyter.widget-view+json": {
       "model_id": "e04f792d9381445abd9318b7d9eceed7",
       "version_major": 2,
       "version_minor": 0
      },
      "text/plain": [
       "리뷰수집중:   0%|          | 0/55 [00:00<?, ?it/s]"
      ]
     },
     "metadata": {},
     "output_type": "display_data"
    },
    {
     "name": "stdout",
     "output_type": "stream",
     "text": [
      "\n",
      "259\n",
      "현재 :  쉐프이야기\n",
      "현재 크롤링이 진행중인 검색어 : 쉐프이야기\n"
     ]
    },
    {
     "data": {
      "application/vnd.jupyter.widget-view+json": {
       "model_id": "0ad98ff6dc8f4aba86808370899ab0a7",
       "version_major": 2,
       "version_minor": 0
      },
      "text/plain": [
       "  0%|          | 0/3 [00:00<?, ?it/s]"
      ]
     },
     "metadata": {},
     "output_type": "display_data"
    },
    {
     "data": {
      "application/vnd.jupyter.widget-view+json": {
       "model_id": "33534acd187742c19e8750ef40657fc5",
       "version_major": 2,
       "version_minor": 0
      },
      "text/plain": [
       "리뷰수집중:   0%|          | 0/15 [00:00<?, ?it/s]"
      ]
     },
     "metadata": {},
     "output_type": "display_data"
    },
    {
     "name": "stdout",
     "output_type": "stream",
     "text": [
      "\n",
      "260\n",
      "현재 :  둘이두리\n",
      "현재 크롤링이 진행중인 검색어 : 둘이두리\n"
     ]
    },
    {
     "data": {
      "application/vnd.jupyter.widget-view+json": {
       "model_id": "105fcdd065e44e3fa8e2964aaa07bbc2",
       "version_major": 2,
       "version_minor": 0
      },
      "text/plain": [
       "  0%|          | 0/2 [00:00<?, ?it/s]"
      ]
     },
     "metadata": {},
     "output_type": "display_data"
    },
    {
     "data": {
      "application/vnd.jupyter.widget-view+json": {
       "model_id": "d8c02edeba6447a6b6e9717145bd3c35",
       "version_major": 2,
       "version_minor": 0
      },
      "text/plain": [
       "리뷰수집중:   0%|          | 0/41 [00:00<?, ?it/s]"
      ]
     },
     "metadata": {},
     "output_type": "display_data"
    },
    {
     "name": "stdout",
     "output_type": "stream",
     "text": [
      "\n",
      "261\n",
      "현재 :  간또\n",
      "현재 크롤링이 진행중인 검색어 : 간또\n"
     ]
    },
    {
     "data": {
      "application/vnd.jupyter.widget-view+json": {
       "model_id": "10123c52b9ee4dd492fff5b09b4ff78b",
       "version_major": 2,
       "version_minor": 0
      },
      "text/plain": [
       "  0%|          | 0/3 [00:00<?, ?it/s]"
      ]
     },
     "metadata": {},
     "output_type": "display_data"
    },
    {
     "data": {
      "application/vnd.jupyter.widget-view+json": {
       "model_id": "67be019570dc466ca2330800c9b0c5b2",
       "version_major": 2,
       "version_minor": 0
      },
      "text/plain": [
       "리뷰수집중:   0%|          | 0/11 [00:00<?, ?it/s]"
      ]
     },
     "metadata": {},
     "output_type": "display_data"
    },
    {
     "name": "stdout",
     "output_type": "stream",
     "text": [
      "\n",
      "262\n",
      "현재 :  연한돈\n",
      "현재 크롤링이 진행중인 검색어 : 연한돈\n"
     ]
    },
    {
     "data": {
      "application/vnd.jupyter.widget-view+json": {
       "model_id": "571118cacf8a45fa8f9332e29ee89ab7",
       "version_major": 2,
       "version_minor": 0
      },
      "text/plain": [
       "  0%|          | 0/47 [00:00<?, ?it/s]"
      ]
     },
     "metadata": {},
     "output_type": "display_data"
    },
    {
     "data": {
      "application/vnd.jupyter.widget-view+json": {
       "model_id": "e960fada24dd407fa00c9df7fd93e861",
       "version_major": 2,
       "version_minor": 0
      },
      "text/plain": [
       "리뷰수집중:   0%|          | 0/130 [00:00<?, ?it/s]"
      ]
     },
     "metadata": {},
     "output_type": "display_data"
    },
    {
     "name": "stdout",
     "output_type": "stream",
     "text": [
      "\n",
      "263\n",
      "현재 :  다도푸드\n",
      "현재 크롤링이 진행중인 검색어 : 다도푸드\n",
      "펼칠 리뷰가 없다.\n"
     ]
    },
    {
     "data": {
      "application/vnd.jupyter.widget-view+json": {
       "model_id": "70b8c8538cd04242ba69b5257fa010d3",
       "version_major": 2,
       "version_minor": 0
      },
      "text/plain": [
       "리뷰수집중:   0%|          | 0/4 [00:00<?, ?it/s]"
      ]
     },
     "metadata": {},
     "output_type": "display_data"
    },
    {
     "name": "stdout",
     "output_type": "stream",
     "text": [
      "\n",
      "264\n",
      "현재 :  제주흑돼지참숯구이\n",
      "현재 크롤링이 진행중인 검색어 : 제주흑돼지참숯구이\n"
     ]
    },
    {
     "data": {
      "application/vnd.jupyter.widget-view+json": {
       "model_id": "785d83537c704af9b6d6b1be6b419c16",
       "version_major": 2,
       "version_minor": 0
      },
      "text/plain": [
       "  0%|          | 0/32 [00:04<?, ?it/s]"
      ]
     },
     "metadata": {},
     "output_type": "display_data"
    },
    {
     "data": {
      "application/vnd.jupyter.widget-view+json": {
       "model_id": "14abd66b057245c68787180d71a30f2e",
       "version_major": 2,
       "version_minor": 0
      },
      "text/plain": [
       "리뷰수집중:   0%|          | 0/78 [00:00<?, ?it/s]"
      ]
     },
     "metadata": {},
     "output_type": "display_data"
    },
    {
     "name": "stdout",
     "output_type": "stream",
     "text": [
      "\n",
      "265\n",
      "현재 :  신제주그랜드\n",
      "현재 크롤링이 진행중인 검색어 : 신제주그랜드\n"
     ]
    },
    {
     "data": {
      "application/vnd.jupyter.widget-view+json": {
       "model_id": "8d24e2236b9444b48f8245040e7ec3af",
       "version_major": 2,
       "version_minor": 0
      },
      "text/plain": [
       "리뷰수집중:   0%|          | 0/19 [00:00<?, ?it/s]"
      ]
     },
     "metadata": {},
     "output_type": "display_data"
    },
    {
     "name": "stdout",
     "output_type": "stream",
     "text": [
      "\n",
      "266\n",
      "현재 :  옥화네포차\n",
      "현재 크롤링이 진행중인 검색어 : 옥화네포차\n",
      "펼칠 리뷰가 없다.\n"
     ]
    },
    {
     "data": {
      "application/vnd.jupyter.widget-view+json": {
       "model_id": "b443095d6d1f4eb0a56377cadc591810",
       "version_major": 2,
       "version_minor": 0
      },
      "text/plain": [
       "리뷰수집중:   0%|          | 0/4 [00:00<?, ?it/s]"
      ]
     },
     "metadata": {},
     "output_type": "display_data"
    },
    {
     "name": "stdout",
     "output_type": "stream",
     "text": [
      "\n",
      "267\n",
      "현재 :  물동이\n",
      "현재 크롤링이 진행중인 검색어 : 물동이\n",
      "펼칠 리뷰가 없다.\n"
     ]
    },
    {
     "data": {
      "application/vnd.jupyter.widget-view+json": {
       "model_id": "61b41353d48a4b328d258d17dced8777",
       "version_major": 2,
       "version_minor": 0
      },
      "text/plain": [
       "리뷰수집중:   0%|          | 0/3 [00:00<?, ?it/s]"
      ]
     },
     "metadata": {},
     "output_type": "display_data"
    },
    {
     "name": "stdout",
     "output_type": "stream",
     "text": [
      "\n",
      "268\n",
      "현재 :  한신포차제주연동점\n",
      "현재 크롤링이 진행중인 검색어 : 한신포차제주연동점\n"
     ]
    },
    {
     "data": {
      "application/vnd.jupyter.widget-view+json": {
       "model_id": "d01e7d6fa5d64596911be862a35d369d",
       "version_major": 2,
       "version_minor": 0
      },
      "text/plain": [
       "  0%|          | 0/4 [00:00<?, ?it/s]"
      ]
     },
     "metadata": {},
     "output_type": "display_data"
    },
    {
     "data": {
      "application/vnd.jupyter.widget-view+json": {
       "model_id": "f3e804b29301420ba8f66576b38ad7af",
       "version_major": 2,
       "version_minor": 0
      },
      "text/plain": [
       "리뷰수집중:   0%|          | 0/50 [00:00<?, ?it/s]"
      ]
     },
     "metadata": {},
     "output_type": "display_data"
    },
    {
     "name": "stdout",
     "output_type": "stream",
     "text": [
      "\n",
      "269\n",
      "현재 :  만객\n",
      "현재 크롤링이 진행중인 검색어 : 만객\n"
     ]
    },
    {
     "data": {
      "application/vnd.jupyter.widget-view+json": {
       "model_id": "97911feb0ed944cb83f9c08e617f9e90",
       "version_major": 2,
       "version_minor": 0
      },
      "text/plain": [
       "  0%|          | 0/5 [00:00<?, ?it/s]"
      ]
     },
     "metadata": {},
     "output_type": "display_data"
    },
    {
     "data": {
      "application/vnd.jupyter.widget-view+json": {
       "model_id": "bf93d0af409c44c3bad6c723cd2a12fb",
       "version_major": 2,
       "version_minor": 0
      },
      "text/plain": [
       "리뷰수집중:   0%|          | 0/14 [00:00<?, ?it/s]"
      ]
     },
     "metadata": {},
     "output_type": "display_data"
    },
    {
     "name": "stdout",
     "output_type": "stream",
     "text": [
      "\n",
      "270\n",
      "현재 :  정한토속삼계탕원조설렁탕\n",
      "현재 크롤링이 진행중인 검색어 : 정한토속삼계탕원조설렁탕\n"
     ]
    },
    {
     "data": {
      "application/vnd.jupyter.widget-view+json": {
       "model_id": "6b3e5d4b350e421ab00c033bdeeeb4c2",
       "version_major": 2,
       "version_minor": 0
      },
      "text/plain": [
       "  0%|          | 0/22 [00:00<?, ?it/s]"
      ]
     },
     "metadata": {},
     "output_type": "display_data"
    },
    {
     "data": {
      "application/vnd.jupyter.widget-view+json": {
       "model_id": "882847feff704586ab2d2178005128db",
       "version_major": 2,
       "version_minor": 0
      },
      "text/plain": [
       "리뷰수집중:   0%|          | 0/70 [00:00<?, ?it/s]"
      ]
     },
     "metadata": {},
     "output_type": "display_data"
    },
    {
     "name": "stdout",
     "output_type": "stream",
     "text": [
      "\n",
      "271\n",
      "현재 :  비밀의정원\n",
      "현재 크롤링이 진행중인 검색어 : 비밀의정원\n",
      "펼칠 리뷰가 없다.\n",
      "\n",
      "272\n",
      "현재 :  미미한식탁제주\n",
      "현재 크롤링이 진행중인 검색어 : 미미한식탁제주\n"
     ]
    },
    {
     "data": {
      "application/vnd.jupyter.widget-view+json": {
       "model_id": "e2eae032b40843e7a573cb4201693953",
       "version_major": 2,
       "version_minor": 0
      },
      "text/plain": [
       "  0%|          | 0/60 [00:00<?, ?it/s]"
      ]
     },
     "metadata": {},
     "output_type": "display_data"
    },
    {
     "data": {
      "application/vnd.jupyter.widget-view+json": {
       "model_id": "49dd7781fa1942bebe14c185207fb574",
       "version_major": 2,
       "version_minor": 0
      },
      "text/plain": [
       "리뷰수집중:   0%|          | 0/235 [00:00<?, ?it/s]"
      ]
     },
     "metadata": {},
     "output_type": "display_data"
    },
    {
     "name": "stdout",
     "output_type": "stream",
     "text": [
      "\n",
      "273\n",
      "현재 :  토방속의장독대\n",
      "현재 크롤링이 진행중인 검색어 : 토방속의장독대\n"
     ]
    },
    {
     "data": {
      "application/vnd.jupyter.widget-view+json": {
       "model_id": "b5f1f97ea37b437e87e0045e389d3963",
       "version_major": 2,
       "version_minor": 0
      },
      "text/plain": [
       "  0%|          | 0/3 [00:00<?, ?it/s]"
      ]
     },
     "metadata": {},
     "output_type": "display_data"
    },
    {
     "data": {
      "application/vnd.jupyter.widget-view+json": {
       "model_id": "752af9b934b8456fb7d42a0e2eba33d2",
       "version_major": 2,
       "version_minor": 0
      },
      "text/plain": [
       "리뷰수집중:   0%|          | 0/22 [00:00<?, ?it/s]"
      ]
     },
     "metadata": {},
     "output_type": "display_data"
    },
    {
     "name": "stdout",
     "output_type": "stream",
     "text": [
      "\n",
      "274\n",
      "현재 :  회사가는날\n",
      "현재 크롤링이 진행중인 검색어 : 회사가는날\n",
      "펼칠 리뷰가 없다.\n"
     ]
    },
    {
     "data": {
      "application/vnd.jupyter.widget-view+json": {
       "model_id": "9676f122386d4ea387e0615366fa9c44",
       "version_major": 2,
       "version_minor": 0
      },
      "text/plain": [
       "  0%|          | 0/1 [00:00<?, ?it/s]"
      ]
     },
     "metadata": {},
     "output_type": "display_data"
    },
    {
     "data": {
      "application/vnd.jupyter.widget-view+json": {
       "model_id": "3ad3ad7e95904e9e92ad41ac659ca751",
       "version_major": 2,
       "version_minor": 0
      },
      "text/plain": [
       "리뷰수집중:   0%|          | 0/8 [00:00<?, ?it/s]"
      ]
     },
     "metadata": {},
     "output_type": "display_data"
    },
    {
     "name": "stdout",
     "output_type": "stream",
     "text": [
      "\n",
      "275\n",
      "현재 :  계림\n",
      "현재 크롤링이 진행중인 검색어 : 계림\n"
     ]
    },
    {
     "data": {
      "application/vnd.jupyter.widget-view+json": {
       "model_id": "01afd15299ac4a48a91c742d91369595",
       "version_major": 2,
       "version_minor": 0
      },
      "text/plain": [
       "  0%|          | 0/22 [00:00<?, ?it/s]"
      ]
     },
     "metadata": {},
     "output_type": "display_data"
    },
    {
     "data": {
      "application/vnd.jupyter.widget-view+json": {
       "model_id": "a6c4aa6d38be4d0f8482cd0cd5497adf",
       "version_major": 2,
       "version_minor": 0
      },
      "text/plain": [
       "리뷰수집중:   0%|          | 0/54 [00:00<?, ?it/s]"
      ]
     },
     "metadata": {},
     "output_type": "display_data"
    },
    {
     "name": "stdout",
     "output_type": "stream",
     "text": [
      "\n",
      "276\n",
      "현재 :  네네치킨연동점\n",
      "현재 크롤링이 진행중인 검색어 : 네네치킨연동점\n"
     ]
    },
    {
     "data": {
      "application/vnd.jupyter.widget-view+json": {
       "model_id": "f7ebdbd1b488452badf7a65cdb62a7c7",
       "version_major": 2,
       "version_minor": 0
      },
      "text/plain": [
       "  0%|          | 0/1 [00:00<?, ?it/s]"
      ]
     },
     "metadata": {},
     "output_type": "display_data"
    },
    {
     "data": {
      "application/vnd.jupyter.widget-view+json": {
       "model_id": "8089d91710e44828bfe17fc64e626852",
       "version_major": 2,
       "version_minor": 0
      },
      "text/plain": [
       "리뷰수집중:   0%|          | 0/103 [00:00<?, ?it/s]"
      ]
     },
     "metadata": {},
     "output_type": "display_data"
    },
    {
     "name": "stdout",
     "output_type": "stream",
     "text": [
      "\n",
      "277\n",
      "현재 :  제주다금바리회초밥\n",
      "현재 크롤링이 진행중인 검색어 : 제주다금바리회초밥\n"
     ]
    },
    {
     "data": {
      "application/vnd.jupyter.widget-view+json": {
       "model_id": "a670f1b4f90b40b59b171884e8117efc",
       "version_major": 2,
       "version_minor": 0
      },
      "text/plain": [
       "  0%|          | 0/3 [00:00<?, ?it/s]"
      ]
     },
     "metadata": {},
     "output_type": "display_data"
    },
    {
     "data": {
      "application/vnd.jupyter.widget-view+json": {
       "model_id": "8d4b206ac41244b2b7a9728371a161c0",
       "version_major": 2,
       "version_minor": 0
      },
      "text/plain": [
       "리뷰수집중:   0%|          | 0/12 [00:00<?, ?it/s]"
      ]
     },
     "metadata": {},
     "output_type": "display_data"
    },
    {
     "name": "stdout",
     "output_type": "stream",
     "text": [
      "\n",
      "278\n",
      "현재 :  투다리남서울점\n",
      "현재 크롤링이 진행중인 검색어 : 투다리남서울점\n"
     ]
    },
    {
     "data": {
      "application/vnd.jupyter.widget-view+json": {
       "model_id": "0330c47d26b44e199025d0ea2ac92cde",
       "version_major": 2,
       "version_minor": 0
      },
      "text/plain": [
       "리뷰수집중:   0%|          | 0/18 [00:00<?, ?it/s]"
      ]
     },
     "metadata": {},
     "output_type": "display_data"
    },
    {
     "name": "stdout",
     "output_type": "stream",
     "text": [
      "\n",
      "279\n",
      "현재 :  어신\n",
      "현재 크롤링이 진행중인 검색어 : 어신\n"
     ]
    },
    {
     "data": {
      "application/vnd.jupyter.widget-view+json": {
       "model_id": "8076155bcbd64f0e93ba3c73400ea3c0",
       "version_major": 2,
       "version_minor": 0
      },
      "text/plain": [
       "  0%|          | 0/28 [00:00<?, ?it/s]"
      ]
     },
     "metadata": {},
     "output_type": "display_data"
    },
    {
     "data": {
      "application/vnd.jupyter.widget-view+json": {
       "model_id": "40c27ba95472410db7fc3c275398b4ea",
       "version_major": 2,
       "version_minor": 0
      },
      "text/plain": [
       "리뷰수집중:   0%|          | 0/72 [00:00<?, ?it/s]"
      ]
     },
     "metadata": {},
     "output_type": "display_data"
    },
    {
     "name": "stdout",
     "output_type": "stream",
     "text": [
      "\n",
      "280\n",
      "현재 :  정글북바이앨리스\n",
      "현재 크롤링이 진행중인 검색어 : 정글북바이앨리스\n"
     ]
    },
    {
     "data": {
      "application/vnd.jupyter.widget-view+json": {
       "model_id": "751fd2b5498b48eead4d7e33b857e552",
       "version_major": 2,
       "version_minor": 0
      },
      "text/plain": [
       "  0%|          | 0/8 [00:00<?, ?it/s]"
      ]
     },
     "metadata": {},
     "output_type": "display_data"
    },
    {
     "data": {
      "application/vnd.jupyter.widget-view+json": {
       "model_id": "86d3cd73d0c7439f9d385ac366e082c2",
       "version_major": 2,
       "version_minor": 0
      },
      "text/plain": [
       "리뷰수집중:   0%|          | 0/48 [00:00<?, ?it/s]"
      ]
     },
     "metadata": {},
     "output_type": "display_data"
    },
    {
     "name": "stdout",
     "output_type": "stream",
     "text": [
      "\n",
      "281\n",
      "현재 :  마이도\n",
      "현재 크롤링이 진행중인 검색어 : 마이도\n"
     ]
    },
    {
     "data": {
      "application/vnd.jupyter.widget-view+json": {
       "model_id": "e093013f37614caa896c3744c27540bd",
       "version_major": 2,
       "version_minor": 0
      },
      "text/plain": [
       "  0%|          | 0/32 [00:00<?, ?it/s]"
      ]
     },
     "metadata": {},
     "output_type": "display_data"
    },
    {
     "data": {
      "application/vnd.jupyter.widget-view+json": {
       "model_id": "02d5d1cd13934f14be5824af35ff7477",
       "version_major": 2,
       "version_minor": 0
      },
      "text/plain": [
       "리뷰수집중:   0%|          | 0/136 [00:00<?, ?it/s]"
      ]
     },
     "metadata": {},
     "output_type": "display_data"
    },
    {
     "name": "stdout",
     "output_type": "stream",
     "text": [
      "\n",
      "282\n",
      "현재 :  남다른대구막창연동점\n",
      "현재 크롤링이 진행중인 검색어 : 남다른대구막창연동점\n"
     ]
    },
    {
     "data": {
      "application/vnd.jupyter.widget-view+json": {
       "model_id": "47d35c2b2eb548e493ee317e7a7c030a",
       "version_major": 2,
       "version_minor": 0
      },
      "text/plain": [
       "  0%|          | 0/2 [00:00<?, ?it/s]"
      ]
     },
     "metadata": {},
     "output_type": "display_data"
    },
    {
     "data": {
      "application/vnd.jupyter.widget-view+json": {
       "model_id": "b163409271dd4afeb26a34eb7bae5d7f",
       "version_major": 2,
       "version_minor": 0
      },
      "text/plain": [
       "리뷰수집중:   0%|          | 0/31 [00:00<?, ?it/s]"
      ]
     },
     "metadata": {},
     "output_type": "display_data"
    },
    {
     "name": "stdout",
     "output_type": "stream",
     "text": [
      "\n",
      "283\n",
      "현재 :  산방산\n",
      "현재 크롤링이 진행중인 검색어 : 산방산\n"
     ]
    },
    {
     "data": {
      "application/vnd.jupyter.widget-view+json": {
       "model_id": "8e302bb96cf0494aba5e816598af6e17",
       "version_major": 2,
       "version_minor": 0
      },
      "text/plain": [
       "  0%|          | 0/2 [00:00<?, ?it/s]"
      ]
     },
     "metadata": {},
     "output_type": "display_data"
    },
    {
     "data": {
      "application/vnd.jupyter.widget-view+json": {
       "model_id": "124e64e0f5ef4af0ba6aed0880e9702c",
       "version_major": 2,
       "version_minor": 0
      },
      "text/plain": [
       "리뷰수집중:   0%|          | 0/15 [00:00<?, ?it/s]"
      ]
     },
     "metadata": {},
     "output_type": "display_data"
    },
    {
     "name": "stdout",
     "output_type": "stream",
     "text": [
      "\n",
      "284\n",
      "현재 :  소렉\n",
      "현재 크롤링이 진행중인 검색어 : 소렉\n"
     ]
    },
    {
     "data": {
      "application/vnd.jupyter.widget-view+json": {
       "model_id": "855944a455bc4375a38246d23db02721",
       "version_major": 2,
       "version_minor": 0
      },
      "text/plain": [
       "  0%|          | 0/55 [00:00<?, ?it/s]"
      ]
     },
     "metadata": {},
     "output_type": "display_data"
    },
    {
     "data": {
      "application/vnd.jupyter.widget-view+json": {
       "model_id": "9397fbcfff7944d4ba2efb9360b418b5",
       "version_major": 2,
       "version_minor": 0
      },
      "text/plain": [
       "리뷰수집중:   0%|          | 0/167 [00:00<?, ?it/s]"
      ]
     },
     "metadata": {},
     "output_type": "display_data"
    },
    {
     "name": "stdout",
     "output_type": "stream",
     "text": [
      "\n",
      "285\n",
      "현재 :  검은쇠몰고오는\n",
      "현재 크롤링이 진행중인 검색어 : 검은쇠몰고오는\n"
     ]
    },
    {
     "data": {
      "application/vnd.jupyter.widget-view+json": {
       "model_id": "38cbe9d675744eae8e33b38c646cf93b",
       "version_major": 2,
       "version_minor": 0
      },
      "text/plain": [
       "  0%|          | 0/80 [00:00<?, ?it/s]"
      ]
     },
     "metadata": {},
     "output_type": "display_data"
    },
    {
     "data": {
      "application/vnd.jupyter.widget-view+json": {
       "model_id": "9613b5f97e114b7d9c70f457c9e81925",
       "version_major": 2,
       "version_minor": 0
      },
      "text/plain": [
       "리뷰수집중:   0%|          | 0/263 [00:00<?, ?it/s]"
      ]
     },
     "metadata": {},
     "output_type": "display_data"
    },
    {
     "ename": "NoSuchElementException",
     "evalue": "Message: no such element: Unable to locate element: {\"method\":\"css selector\",\"selector\":\".DqSJm > .place_thumb > img\"}\n  (Session info: chrome=113.0.5672.127)\nStacktrace:\nBacktrace:\n\tGetHandleVerifier [0x00BC8893+48451]\n\t(No symbol) [0x00B5B8A1]\n\t(No symbol) [0x00A65058]\n\t(No symbol) [0x00A90467]\n\t(No symbol) [0x00A9069B]\n\t(No symbol) [0x00A89631]\n\t(No symbol) [0x00AAA304]\n\t(No symbol) [0x00A89586]\n\t(No symbol) [0x00AAA614]\n\t(No symbol) [0x00ABC482]\n\t(No symbol) [0x00AAA0B6]\n\t(No symbol) [0x00A87E08]\n\t(No symbol) [0x00A88F2D]\n\tGetHandleVerifier [0x00E28E3A+2540266]\n\tGetHandleVerifier [0x00E68959+2801161]\n\tGetHandleVerifier [0x00E6295C+2776588]\n\tGetHandleVerifier [0x00C52280+612144]\n\t(No symbol) [0x00B64F6C]\n\t(No symbol) [0x00B611D8]\n\t(No symbol) [0x00B612BB]\n\t(No symbol) [0x00B54857]\n\tBaseThreadInitThunk [0x768000C9+25]\n\tRtlGetAppContainerNamedObjectPath [0x77527B4E+286]\n\tRtlGetAppContainerNamedObjectPath [0x77527B1E+238]\n",
     "output_type": "error",
     "traceback": [
      "\u001b[1;31m---------------------------------------------------------------------------\u001b[0m",
      "\u001b[1;31mNoSuchElementException\u001b[0m                    Traceback (most recent call last)",
      "Input \u001b[1;32mIn [292]\u001b[0m, in \u001b[0;36m<cell line: 1>\u001b[1;34m()\u001b[0m\n\u001b[1;32m----> 1\u001b[0m main_frm \u001b[38;5;241m=\u001b[39m \u001b[43mmain\u001b[49m\u001b[38;5;241;43m.\u001b[39;49m\u001b[43mcrawling_review_loop\u001b[49m\u001b[43m(\u001b[49m\u001b[43m)\u001b[49m\n",
      "Input \u001b[1;32mIn [290]\u001b[0m, in \u001b[0;36mCrawling_review.crawling_review_loop\u001b[1;34m(self)\u001b[0m\n\u001b[0;32m    310\u001b[0m \u001b[38;5;28mprint\u001b[39m(count)\n\u001b[0;32m    311\u001b[0m \u001b[38;5;28mprint\u001b[39m(\u001b[38;5;124m'\u001b[39m\u001b[38;5;124m현재 : \u001b[39m\u001b[38;5;124m'\u001b[39m , rest_name)\n\u001b[1;32m--> 313\u001b[0m rest_df \u001b[38;5;241m=\u001b[39m \u001b[38;5;28;43mself\u001b[39;49m\u001b[38;5;241;43m.\u001b[39;49m\u001b[43mnaver_rest_review\u001b[49m\u001b[43m(\u001b[49m\u001b[43mrest_name\u001b[49m\u001b[43m \u001b[49m\u001b[43m,\u001b[49m\u001b[43m \u001b[49m\u001b[43mrest_id\u001b[49m\u001b[43m)\u001b[49m\n\u001b[0;32m    314\u001b[0m rest_df\u001b[38;5;241m.\u001b[39mto_excel(\u001b[38;5;124mf\u001b[39m\u001b[38;5;124m'\u001b[39m\u001b[38;5;132;01m{\u001b[39;00mregion_01\u001b[38;5;132;01m}\u001b[39;00m\u001b[38;5;124m/\u001b[39m\u001b[38;5;132;01m{\u001b[39;00mregion_02\u001b[38;5;132;01m}\u001b[39;00m\u001b[38;5;124m/\u001b[39m\u001b[38;5;132;01m{\u001b[39;00mregion_03\u001b[38;5;132;01m}\u001b[39;00m\u001b[38;5;124m/\u001b[39m\u001b[38;5;132;01m{\u001b[39;00mrest_name\u001b[38;5;132;01m}\u001b[39;00m\u001b[38;5;124m_review.xlsx\u001b[39m\u001b[38;5;124m'\u001b[39m \n\u001b[0;32m    315\u001b[0m                  , index\u001b[38;5;241m=\u001b[39m\u001b[38;5;28;01mFalse\u001b[39;00m)\n\u001b[0;32m    317\u001b[0m concat_frm \u001b[38;5;241m=\u001b[39m pd\u001b[38;5;241m.\u001b[39mconcat([concat_frm , rest_df] , axis \u001b[38;5;241m=\u001b[39m \u001b[38;5;241m0\u001b[39m)\n",
      "Input \u001b[1;32mIn [290]\u001b[0m, in \u001b[0;36mCrawling_review.naver_rest_review\u001b[1;34m(self, rest_name, rest_id)\u001b[0m\n\u001b[0;32m    182\u001b[0m     review_image\u001b[38;5;241m.\u001b[39mappend(\u001b[38;5;124m'\u001b[39m\u001b[38;5;124m'\u001b[39m) \n\u001b[0;32m    185\u001b[0m \u001b[38;5;66;03m# 작성자 프로필 사진\u001b[39;00m\n\u001b[1;32m--> 186\u001b[0m profile \u001b[38;5;241m=\u001b[39m \u001b[43mreview_once\u001b[49m\u001b[38;5;241;43m.\u001b[39;49m\u001b[43mfind_element\u001b[49m\u001b[43m(\u001b[49m\u001b[43mby\u001b[49m\u001b[38;5;241;43m=\u001b[39;49m\u001b[43mBy\u001b[49m\u001b[38;5;241;43m.\u001b[39;49m\u001b[43mCLASS_NAME\u001b[49m\u001b[43m \u001b[49m\u001b[43m,\u001b[49m\u001b[43m \u001b[49m\u001b[43mvalue\u001b[49m\u001b[43m \u001b[49m\u001b[38;5;241;43m=\u001b[39;49m\u001b[38;5;124;43m'\u001b[39;49m\u001b[38;5;124;43mDqSJm > .place_thumb > img\u001b[39;49m\u001b[38;5;124;43m'\u001b[39;49m\u001b[43m)\u001b[49m\n\u001b[0;32m    187\u001b[0m review_profile\u001b[38;5;241m.\u001b[39mappend(profile\u001b[38;5;241m.\u001b[39mget_attribute(\u001b[38;5;124m'\u001b[39m\u001b[38;5;124msrc\u001b[39m\u001b[38;5;124m'\u001b[39m))\n\u001b[0;32m    189\u001b[0m \u001b[38;5;66;03m# 작성자 MY플레이스\u001b[39;00m\n",
      "File \u001b[1;32mD:\\anaconda3\\lib\\site-packages\\selenium\\webdriver\\remote\\webelement.py:433\u001b[0m, in \u001b[0;36mWebElement.find_element\u001b[1;34m(self, by, value)\u001b[0m\n\u001b[0;32m    430\u001b[0m     by \u001b[38;5;241m=\u001b[39m By\u001b[38;5;241m.\u001b[39mCSS_SELECTOR\n\u001b[0;32m    431\u001b[0m     value \u001b[38;5;241m=\u001b[39m \u001b[38;5;124m'\u001b[39m\u001b[38;5;124m[name=\u001b[39m\u001b[38;5;124m\"\u001b[39m\u001b[38;5;132;01m%s\u001b[39;00m\u001b[38;5;124m\"\u001b[39m\u001b[38;5;124m]\u001b[39m\u001b[38;5;124m'\u001b[39m \u001b[38;5;241m%\u001b[39m value\n\u001b[1;32m--> 433\u001b[0m \u001b[38;5;28;01mreturn\u001b[39;00m \u001b[38;5;28;43mself\u001b[39;49m\u001b[38;5;241;43m.\u001b[39;49m\u001b[43m_execute\u001b[49m\u001b[43m(\u001b[49m\u001b[43mCommand\u001b[49m\u001b[38;5;241;43m.\u001b[39;49m\u001b[43mFIND_CHILD_ELEMENT\u001b[49m\u001b[43m,\u001b[49m\u001b[43m \u001b[49m\u001b[43m{\u001b[49m\u001b[38;5;124;43m\"\u001b[39;49m\u001b[38;5;124;43musing\u001b[39;49m\u001b[38;5;124;43m\"\u001b[39;49m\u001b[43m:\u001b[49m\u001b[43m \u001b[49m\u001b[43mby\u001b[49m\u001b[43m,\u001b[49m\u001b[43m \u001b[49m\u001b[38;5;124;43m\"\u001b[39;49m\u001b[38;5;124;43mvalue\u001b[39;49m\u001b[38;5;124;43m\"\u001b[39;49m\u001b[43m:\u001b[49m\u001b[43m \u001b[49m\u001b[43mvalue\u001b[49m\u001b[43m}\u001b[49m\u001b[43m)\u001b[49m[\u001b[38;5;124m\"\u001b[39m\u001b[38;5;124mvalue\u001b[39m\u001b[38;5;124m\"\u001b[39m]\n",
      "File \u001b[1;32mD:\\anaconda3\\lib\\site-packages\\selenium\\webdriver\\remote\\webelement.py:410\u001b[0m, in \u001b[0;36mWebElement._execute\u001b[1;34m(self, command, params)\u001b[0m\n\u001b[0;32m    408\u001b[0m     params \u001b[38;5;241m=\u001b[39m {}\n\u001b[0;32m    409\u001b[0m params[\u001b[38;5;124m\"\u001b[39m\u001b[38;5;124mid\u001b[39m\u001b[38;5;124m\"\u001b[39m] \u001b[38;5;241m=\u001b[39m \u001b[38;5;28mself\u001b[39m\u001b[38;5;241m.\u001b[39m_id\n\u001b[1;32m--> 410\u001b[0m \u001b[38;5;28;01mreturn\u001b[39;00m \u001b[38;5;28;43mself\u001b[39;49m\u001b[38;5;241;43m.\u001b[39;49m\u001b[43m_parent\u001b[49m\u001b[38;5;241;43m.\u001b[39;49m\u001b[43mexecute\u001b[49m\u001b[43m(\u001b[49m\u001b[43mcommand\u001b[49m\u001b[43m,\u001b[49m\u001b[43m \u001b[49m\u001b[43mparams\u001b[49m\u001b[43m)\u001b[49m\n",
      "File \u001b[1;32mD:\\anaconda3\\lib\\site-packages\\selenium\\webdriver\\remote\\webdriver.py:444\u001b[0m, in \u001b[0;36mWebDriver.execute\u001b[1;34m(self, driver_command, params)\u001b[0m\n\u001b[0;32m    442\u001b[0m response \u001b[38;5;241m=\u001b[39m \u001b[38;5;28mself\u001b[39m\u001b[38;5;241m.\u001b[39mcommand_executor\u001b[38;5;241m.\u001b[39mexecute(driver_command, params)\n\u001b[0;32m    443\u001b[0m \u001b[38;5;28;01mif\u001b[39;00m response:\n\u001b[1;32m--> 444\u001b[0m     \u001b[38;5;28;43mself\u001b[39;49m\u001b[38;5;241;43m.\u001b[39;49m\u001b[43merror_handler\u001b[49m\u001b[38;5;241;43m.\u001b[39;49m\u001b[43mcheck_response\u001b[49m\u001b[43m(\u001b[49m\u001b[43mresponse\u001b[49m\u001b[43m)\u001b[49m\n\u001b[0;32m    445\u001b[0m     response[\u001b[38;5;124m\"\u001b[39m\u001b[38;5;124mvalue\u001b[39m\u001b[38;5;124m\"\u001b[39m] \u001b[38;5;241m=\u001b[39m \u001b[38;5;28mself\u001b[39m\u001b[38;5;241m.\u001b[39m_unwrap_value(response\u001b[38;5;241m.\u001b[39mget(\u001b[38;5;124m\"\u001b[39m\u001b[38;5;124mvalue\u001b[39m\u001b[38;5;124m\"\u001b[39m, \u001b[38;5;28;01mNone\u001b[39;00m))\n\u001b[0;32m    446\u001b[0m     \u001b[38;5;28;01mreturn\u001b[39;00m response\n",
      "File \u001b[1;32mD:\\anaconda3\\lib\\site-packages\\selenium\\webdriver\\remote\\errorhandler.py:249\u001b[0m, in \u001b[0;36mErrorHandler.check_response\u001b[1;34m(self, response)\u001b[0m\n\u001b[0;32m    247\u001b[0m         alert_text \u001b[38;5;241m=\u001b[39m value[\u001b[38;5;124m\"\u001b[39m\u001b[38;5;124malert\u001b[39m\u001b[38;5;124m\"\u001b[39m]\u001b[38;5;241m.\u001b[39mget(\u001b[38;5;124m\"\u001b[39m\u001b[38;5;124mtext\u001b[39m\u001b[38;5;124m\"\u001b[39m)\n\u001b[0;32m    248\u001b[0m     \u001b[38;5;28;01mraise\u001b[39;00m exception_class(message, screen, stacktrace, alert_text)  \u001b[38;5;66;03m# type: ignore[call-arg]  # mypy is not smart enough here\u001b[39;00m\n\u001b[1;32m--> 249\u001b[0m \u001b[38;5;28;01mraise\u001b[39;00m exception_class(message, screen, stacktrace)\n",
      "\u001b[1;31mNoSuchElementException\u001b[0m: Message: no such element: Unable to locate element: {\"method\":\"css selector\",\"selector\":\".DqSJm > .place_thumb > img\"}\n  (Session info: chrome=113.0.5672.127)\nStacktrace:\nBacktrace:\n\tGetHandleVerifier [0x00BC8893+48451]\n\t(No symbol) [0x00B5B8A1]\n\t(No symbol) [0x00A65058]\n\t(No symbol) [0x00A90467]\n\t(No symbol) [0x00A9069B]\n\t(No symbol) [0x00A89631]\n\t(No symbol) [0x00AAA304]\n\t(No symbol) [0x00A89586]\n\t(No symbol) [0x00AAA614]\n\t(No symbol) [0x00ABC482]\n\t(No symbol) [0x00AAA0B6]\n\t(No symbol) [0x00A87E08]\n\t(No symbol) [0x00A88F2D]\n\tGetHandleVerifier [0x00E28E3A+2540266]\n\tGetHandleVerifier [0x00E68959+2801161]\n\tGetHandleVerifier [0x00E6295C+2776588]\n\tGetHandleVerifier [0x00C52280+612144]\n\t(No symbol) [0x00B64F6C]\n\t(No symbol) [0x00B611D8]\n\t(No symbol) [0x00B612BB]\n\t(No symbol) [0x00B54857]\n\tBaseThreadInitThunk [0x768000C9+25]\n\tRtlGetAppContainerNamedObjectPath [0x77527B4E+286]\n\tRtlGetAppContainerNamedObjectPath [0x77527B1E+238]\n"
     ]
    }
   ],
   "source": [
    "main_frm = main.crawling_review_loop()"
   ]
  },
  {
   "cell_type": "code",
   "execution_count": 297,
   "id": "ab5eb194",
   "metadata": {},
   "outputs": [],
   "source": [
    "# 344~\n",
    "main_2 = Crawling_review(data[344:])"
   ]
  },
  {
   "cell_type": "code",
   "execution_count": 298,
   "id": "48b33557",
   "metadata": {
    "scrolled": true
   },
   "outputs": [
    {
     "name": "stdout",
     "output_type": "stream",
     "text": [
      "시작\n",
      "------------------------------------------------------------\n",
      "1\n",
      "현재 :  검은쇠몰고오는\n",
      "현재 크롤링이 진행중인 검색어 : 검은쇠몰고오는\n"
     ]
    },
    {
     "data": {
      "application/vnd.jupyter.widget-view+json": {
       "model_id": "6c766f3e12bd45eea137299b4aad5383",
       "version_major": 2,
       "version_minor": 0
      },
      "text/plain": [
       "  0%|          | 0/81 [00:00<?, ?it/s]"
      ]
     },
     "metadata": {},
     "output_type": "display_data"
    },
    {
     "data": {
      "application/vnd.jupyter.widget-view+json": {
       "model_id": "e7426880ed864e319df9ccc4e66b1a7e",
       "version_major": 2,
       "version_minor": 0
      },
      "text/plain": [
       "리뷰수집중:   0%|          | 0/263 [00:00<?, ?it/s]"
      ]
     },
     "metadata": {},
     "output_type": "display_data"
    },
    {
     "name": "stdout",
     "output_type": "stream",
     "text": [
      "\n",
      "2\n",
      "현재 :  피자쿠치나신제주점\n",
      "현재 크롤링이 진행중인 검색어 : 피자쿠치나신제주점\n"
     ]
    },
    {
     "data": {
      "application/vnd.jupyter.widget-view+json": {
       "model_id": "9fbaf18ec9104373b6ca886e1f6c23d4",
       "version_major": 2,
       "version_minor": 0
      },
      "text/plain": [
       "  0%|          | 0/1 [00:00<?, ?it/s]"
      ]
     },
     "metadata": {},
     "output_type": "display_data"
    },
    {
     "data": {
      "application/vnd.jupyter.widget-view+json": {
       "model_id": "4b65b83896ef4f0d9883a03e588713e9",
       "version_major": 2,
       "version_minor": 0
      },
      "text/plain": [
       "리뷰수집중:   0%|          | 0/13 [00:00<?, ?it/s]"
      ]
     },
     "metadata": {},
     "output_type": "display_data"
    },
    {
     "name": "stdout",
     "output_type": "stream",
     "text": [
      "\n",
      "3\n",
      "현재 :  돈보따리생생갈비\n",
      "현재 크롤링이 진행중인 검색어 : 돈보따리생생갈비\n"
     ]
    },
    {
     "data": {
      "application/vnd.jupyter.widget-view+json": {
       "model_id": "0bf694447ef848a1a9904b2dbb15a681",
       "version_major": 2,
       "version_minor": 0
      },
      "text/plain": [
       "  0%|          | 0/5 [00:00<?, ?it/s]"
      ]
     },
     "metadata": {},
     "output_type": "display_data"
    },
    {
     "data": {
      "application/vnd.jupyter.widget-view+json": {
       "model_id": "4b4ec9693ed3480b9ef4bba2b86508aa",
       "version_major": 2,
       "version_minor": 0
      },
      "text/plain": [
       "리뷰수집중:   0%|          | 0/32 [00:00<?, ?it/s]"
      ]
     },
     "metadata": {},
     "output_type": "display_data"
    },
    {
     "name": "stdout",
     "output_type": "stream",
     "text": [
      "\n",
      "4\n",
      "현재 :  호박이네\n",
      "현재 크롤링이 진행중인 검색어 : 호박이네\n"
     ]
    },
    {
     "data": {
      "application/vnd.jupyter.widget-view+json": {
       "model_id": "94beeb8c103b4f1cb5843e87fff73d30",
       "version_major": 2,
       "version_minor": 0
      },
      "text/plain": [
       "  0%|          | 0/4 [00:00<?, ?it/s]"
      ]
     },
     "metadata": {},
     "output_type": "display_data"
    },
    {
     "data": {
      "application/vnd.jupyter.widget-view+json": {
       "model_id": "7780663c4f614ea08c9b853a57be8a11",
       "version_major": 2,
       "version_minor": 0
      },
      "text/plain": [
       "리뷰수집중:   0%|          | 0/48 [00:00<?, ?it/s]"
      ]
     },
     "metadata": {},
     "output_type": "display_data"
    },
    {
     "name": "stdout",
     "output_type": "stream",
     "text": [
      "\n",
      "5\n",
      "현재 :  돈게도라\n",
      "현재 크롤링이 진행중인 검색어 : 돈게도라\n"
     ]
    },
    {
     "data": {
      "application/vnd.jupyter.widget-view+json": {
       "model_id": "38fbb63970b2408d84f26cc2995fa3e0",
       "version_major": 2,
       "version_minor": 0
      },
      "text/plain": [
       "  0%|          | 0/19 [00:00<?, ?it/s]"
      ]
     },
     "metadata": {},
     "output_type": "display_data"
    },
    {
     "data": {
      "application/vnd.jupyter.widget-view+json": {
       "model_id": "afaea471e7bb4a3aba5dff843bbd3720",
       "version_major": 2,
       "version_minor": 0
      },
      "text/plain": [
       "리뷰수집중:   0%|          | 0/63 [00:00<?, ?it/s]"
      ]
     },
     "metadata": {},
     "output_type": "display_data"
    },
    {
     "name": "stdout",
     "output_type": "stream",
     "text": [
      "\n",
      "6\n",
      "현재 :  제주창스닥\n",
      "현재 크롤링이 진행중인 검색어 : 제주창스닥\n"
     ]
    },
    {
     "data": {
      "application/vnd.jupyter.widget-view+json": {
       "model_id": "0f4c7867564d49cab47df57defbf688f",
       "version_major": 2,
       "version_minor": 0
      },
      "text/plain": [
       "  0%|          | 0/6 [00:00<?, ?it/s]"
      ]
     },
     "metadata": {},
     "output_type": "display_data"
    },
    {
     "data": {
      "application/vnd.jupyter.widget-view+json": {
       "model_id": "942b5a5a515841509ca0d0df1e83ab41",
       "version_major": 2,
       "version_minor": 0
      },
      "text/plain": [
       "리뷰수집중:   0%|          | 0/30 [00:16<?, ?it/s]"
      ]
     },
     "metadata": {},
     "output_type": "display_data"
    },
    {
     "name": "stdout",
     "output_type": "stream",
     "text": [
      "\n",
      "7\n",
      "현재 :  페리카나신제주점\n",
      "현재 크롤링이 진행중인 검색어 : 페리카나신제주점\n",
      "펼칠 리뷰가 없다.\n"
     ]
    },
    {
     "data": {
      "application/vnd.jupyter.widget-view+json": {
       "model_id": "a132bf0b3f364e4e91321c21d4283e2d",
       "version_major": 2,
       "version_minor": 0
      },
      "text/plain": [
       "  0%|          | 0/1 [00:00<?, ?it/s]"
      ]
     },
     "metadata": {},
     "output_type": "display_data"
    },
    {
     "data": {
      "application/vnd.jupyter.widget-view+json": {
       "model_id": "3bebae90d50341eebf7e6d07636da4a2",
       "version_major": 2,
       "version_minor": 0
      },
      "text/plain": [
       "리뷰수집중:   0%|          | 0/7 [00:00<?, ?it/s]"
      ]
     },
     "metadata": {},
     "output_type": "display_data"
    },
    {
     "name": "stdout",
     "output_type": "stream",
     "text": [
      "\n",
      "8\n",
      "현재 :  꿀꿀이식당\n",
      "현재 크롤링이 진행중인 검색어 : 꿀꿀이식당\n"
     ]
    },
    {
     "data": {
      "application/vnd.jupyter.widget-view+json": {
       "model_id": "a373d8383f1a4addab8241de269c8aad",
       "version_major": 2,
       "version_minor": 0
      },
      "text/plain": [
       "  0%|          | 0/3 [00:00<?, ?it/s]"
      ]
     },
     "metadata": {},
     "output_type": "display_data"
    },
    {
     "data": {
      "application/vnd.jupyter.widget-view+json": {
       "model_id": "321d6ec8f56f4b90b03066fc287e45de",
       "version_major": 2,
       "version_minor": 0
      },
      "text/plain": [
       "리뷰수집중:   0%|          | 0/17 [00:00<?, ?it/s]"
      ]
     },
     "metadata": {},
     "output_type": "display_data"
    },
    {
     "name": "stdout",
     "output_type": "stream",
     "text": [
      "\n",
      "9\n",
      "현재 :  맛스타\n",
      "현재 크롤링이 진행중인 검색어 : 맛스타\n"
     ]
    },
    {
     "data": {
      "application/vnd.jupyter.widget-view+json": {
       "model_id": "873a33bed1b04ec98ecc7e8a5216a87f",
       "version_major": 2,
       "version_minor": 0
      },
      "text/plain": [
       "  0%|          | 0/2 [00:00<?, ?it/s]"
      ]
     },
     "metadata": {},
     "output_type": "display_data"
    },
    {
     "data": {
      "application/vnd.jupyter.widget-view+json": {
       "model_id": "63ad40aa126d402bbbbf5f1e152db5eb",
       "version_major": 2,
       "version_minor": 0
      },
      "text/plain": [
       "리뷰수집중:   0%|          | 0/11 [00:00<?, ?it/s]"
      ]
     },
     "metadata": {},
     "output_type": "display_data"
    },
    {
     "name": "stdout",
     "output_type": "stream",
     "text": [
      "\n",
      "10\n",
      "현재 :  노가리앤비어연동점\n",
      "현재 크롤링이 진행중인 검색어 : 노가리앤비어연동점\n"
     ]
    },
    {
     "data": {
      "application/vnd.jupyter.widget-view+json": {
       "model_id": "94085feab79940b78233f806876693ed",
       "version_major": 2,
       "version_minor": 0
      },
      "text/plain": [
       "리뷰수집중:   0%|          | 0/24 [00:00<?, ?it/s]"
      ]
     },
     "metadata": {},
     "output_type": "display_data"
    },
    {
     "name": "stdout",
     "output_type": "stream",
     "text": [
      "\n",
      "11\n",
      "현재 :  디디치킨연동점\n",
      "현재 크롤링이 진행중인 검색어 : 디디치킨연동점\n"
     ]
    },
    {
     "data": {
      "application/vnd.jupyter.widget-view+json": {
       "model_id": "24932809647c4dab860555b704ce4ff5",
       "version_major": 2,
       "version_minor": 0
      },
      "text/plain": [
       "  0%|          | 0/2 [00:00<?, ?it/s]"
      ]
     },
     "metadata": {},
     "output_type": "display_data"
    },
    {
     "data": {
      "application/vnd.jupyter.widget-view+json": {
       "model_id": "79f9454b5a5f4fe7af5db683f5f6af83",
       "version_major": 2,
       "version_minor": 0
      },
      "text/plain": [
       "리뷰수집중:   0%|          | 0/21 [00:00<?, ?it/s]"
      ]
     },
     "metadata": {},
     "output_type": "display_data"
    },
    {
     "name": "stdout",
     "output_type": "stream",
     "text": [
      "\n",
      "12\n",
      "현재 :  신주양꼬치제주점\n",
      "현재 크롤링이 진행중인 검색어 : 신주양꼬치제주점\n"
     ]
    },
    {
     "data": {
      "application/vnd.jupyter.widget-view+json": {
       "model_id": "3bf5e83d7ad2415abd149066afa30bf8",
       "version_major": 2,
       "version_minor": 0
      },
      "text/plain": [
       "  0%|          | 0/6 [00:00<?, ?it/s]"
      ]
     },
     "metadata": {},
     "output_type": "display_data"
    },
    {
     "data": {
      "application/vnd.jupyter.widget-view+json": {
       "model_id": "1d37a74617c9401d96dda78ea89f99e4",
       "version_major": 2,
       "version_minor": 0
      },
      "text/plain": [
       "리뷰수집중:   0%|          | 0/69 [00:00<?, ?it/s]"
      ]
     },
     "metadata": {},
     "output_type": "display_data"
    },
    {
     "name": "stdout",
     "output_type": "stream",
     "text": [
      "\n",
      "13\n",
      "현재 :  뼈감만족\n",
      "현재 크롤링이 진행중인 검색어 : 뼈감만족\n",
      "펼칠 리뷰가 없다.\n"
     ]
    },
    {
     "data": {
      "application/vnd.jupyter.widget-view+json": {
       "model_id": "8e0adb3308ea4a289747fac1762b555f",
       "version_major": 2,
       "version_minor": 0
      },
      "text/plain": [
       "  0%|          | 0/1 [00:00<?, ?it/s]"
      ]
     },
     "metadata": {},
     "output_type": "display_data"
    },
    {
     "data": {
      "application/vnd.jupyter.widget-view+json": {
       "model_id": "3e5679b0036c47c6b1130ab4d05b5362",
       "version_major": 2,
       "version_minor": 0
      },
      "text/plain": [
       "리뷰수집중:   0%|          | 0/2 [00:00<?, ?it/s]"
      ]
     },
     "metadata": {},
     "output_type": "display_data"
    },
    {
     "name": "stdout",
     "output_type": "stream",
     "text": [
      "\n",
      "14\n",
      "현재 :  낙지골목\n",
      "현재 크롤링이 진행중인 검색어 : 낙지골목\n",
      "펼칠 리뷰가 없다.\n"
     ]
    },
    {
     "data": {
      "application/vnd.jupyter.widget-view+json": {
       "model_id": "425858c264a1413ba7ab78b11d26173d",
       "version_major": 2,
       "version_minor": 0
      },
      "text/plain": [
       "리뷰수집중:   0%|          | 0/7 [00:00<?, ?it/s]"
      ]
     },
     "metadata": {},
     "output_type": "display_data"
    },
    {
     "name": "stdout",
     "output_type": "stream",
     "text": [
      "\n",
      "15\n",
      "현재 :  정우말가든\n",
      "현재 크롤링이 진행중인 검색어 : 정우말가든\n"
     ]
    },
    {
     "data": {
      "application/vnd.jupyter.widget-view+json": {
       "model_id": "a3609746f8af4adf8ecfc2315e2b75b3",
       "version_major": 2,
       "version_minor": 0
      },
      "text/plain": [
       "  0%|          | 0/37 [00:04<?, ?it/s]"
      ]
     },
     "metadata": {},
     "output_type": "display_data"
    },
    {
     "data": {
      "application/vnd.jupyter.widget-view+json": {
       "model_id": "a796f7f598af427bad909b48f4d77b89",
       "version_major": 2,
       "version_minor": 0
      },
      "text/plain": [
       "리뷰수집중:   0%|          | 0/386 [00:00<?, ?it/s]"
      ]
     },
     "metadata": {},
     "output_type": "display_data"
    },
    {
     "name": "stdout",
     "output_type": "stream",
     "text": [
      "\n",
      "16\n",
      "현재 :  히아담\n",
      "현재 크롤링이 진행중인 검색어 : 히아담\n"
     ]
    },
    {
     "data": {
      "application/vnd.jupyter.widget-view+json": {
       "model_id": "21caff706b714561a298bc9edea27e4c",
       "version_major": 2,
       "version_minor": 0
      },
      "text/plain": [
       "  0%|          | 0/10 [00:00<?, ?it/s]"
      ]
     },
     "metadata": {},
     "output_type": "display_data"
    },
    {
     "data": {
      "application/vnd.jupyter.widget-view+json": {
       "model_id": "2e8966f0db8549b99d613a048da602fe",
       "version_major": 2,
       "version_minor": 0
      },
      "text/plain": [
       "리뷰수집중:   0%|          | 0/77 [00:00<?, ?it/s]"
      ]
     },
     "metadata": {},
     "output_type": "display_data"
    },
    {
     "name": "stdout",
     "output_type": "stream",
     "text": [
      "\n",
      "17\n",
      "현재 :  레드제플린\n",
      "현재 크롤링이 진행중인 검색어 : 레드제플린\n",
      "펼칠 리뷰가 없다.\n"
     ]
    },
    {
     "data": {
      "application/vnd.jupyter.widget-view+json": {
       "model_id": "42694a1a0edf4079895acf1d0a97b716",
       "version_major": 2,
       "version_minor": 0
      },
      "text/plain": [
       "리뷰수집중:   0%|          | 0/7 [00:00<?, ?it/s]"
      ]
     },
     "metadata": {},
     "output_type": "display_data"
    },
    {
     "name": "stdout",
     "output_type": "stream",
     "text": [
      "\n",
      "18\n",
      "현재 :  큰동네국수\n",
      "현재 크롤링이 진행중인 검색어 : 큰동네국수\n"
     ]
    },
    {
     "data": {
      "application/vnd.jupyter.widget-view+json": {
       "model_id": "1e1a1b29c1f94659b1b67747e3fbd01b",
       "version_major": 2,
       "version_minor": 0
      },
      "text/plain": [
       "리뷰수집중:   0%|          | 0/15 [00:04<?, ?it/s]"
      ]
     },
     "metadata": {},
     "output_type": "display_data"
    },
    {
     "name": "stdout",
     "output_type": "stream",
     "text": [
      "\n",
      "19\n",
      "현재 :  제노티카\n",
      "현재 크롤링이 진행중인 검색어 : 제노티카\n"
     ]
    },
    {
     "data": {
      "application/vnd.jupyter.widget-view+json": {
       "model_id": "24de0abf085e416ab693779c3fc8701e",
       "version_major": 2,
       "version_minor": 0
      },
      "text/plain": [
       "  0%|          | 0/39 [00:00<?, ?it/s]"
      ]
     },
     "metadata": {},
     "output_type": "display_data"
    },
    {
     "data": {
      "application/vnd.jupyter.widget-view+json": {
       "model_id": "00d0da6e68ba4fb5af8143eb3544b34c",
       "version_major": 2,
       "version_minor": 0
      },
      "text/plain": [
       "리뷰수집중:   0%|          | 0/88 [00:00<?, ?it/s]"
      ]
     },
     "metadata": {},
     "output_type": "display_data"
    },
    {
     "name": "stdout",
     "output_type": "stream",
     "text": [
      "\n",
      "20\n",
      "현재 :  짝치즈등갈비\n",
      "현재 크롤링이 진행중인 검색어 : 짝치즈등갈비\n",
      "펼칠 리뷰가 없다.\n"
     ]
    },
    {
     "data": {
      "application/vnd.jupyter.widget-view+json": {
       "model_id": "2f2e891304964a858920b847db61e5fa",
       "version_major": 2,
       "version_minor": 0
      },
      "text/plain": [
       "  0%|          | 0/1 [00:00<?, ?it/s]"
      ]
     },
     "metadata": {},
     "output_type": "display_data"
    },
    {
     "name": "stdout",
     "output_type": "stream",
     "text": [
      "\n",
      "21\n",
      "현재 :  갈비아빠\n",
      "현재 크롤링이 진행중인 검색어 : 갈비아빠\n"
     ]
    },
    {
     "data": {
      "application/vnd.jupyter.widget-view+json": {
       "model_id": "1586edce208640759c12ae7894f0ac8e",
       "version_major": 2,
       "version_minor": 0
      },
      "text/plain": [
       "  0%|          | 0/46 [00:04<?, ?it/s]"
      ]
     },
     "metadata": {},
     "output_type": "display_data"
    },
    {
     "data": {
      "application/vnd.jupyter.widget-view+json": {
       "model_id": "71e545dfb9c04c50bfb81bc4e3a03175",
       "version_major": 2,
       "version_minor": 0
      },
      "text/plain": [
       "리뷰수집중:   0%|          | 0/125 [00:00<?, ?it/s]"
      ]
     },
     "metadata": {},
     "output_type": "display_data"
    },
    {
     "name": "stdout",
     "output_type": "stream",
     "text": [
      "\n",
      "22\n",
      "현재 :  맵수다\n",
      "현재 크롤링이 진행중인 검색어 : 맵수다\n"
     ]
    },
    {
     "data": {
      "application/vnd.jupyter.widget-view+json": {
       "model_id": "9a16c0cc6386424a9d6c1484a65c926a",
       "version_major": 2,
       "version_minor": 0
      },
      "text/plain": [
       "  0%|          | 0/2 [00:00<?, ?it/s]"
      ]
     },
     "metadata": {},
     "output_type": "display_data"
    },
    {
     "data": {
      "application/vnd.jupyter.widget-view+json": {
       "model_id": "84a0dfbf279948c489f10223ac514e31",
       "version_major": 2,
       "version_minor": 0
      },
      "text/plain": [
       "리뷰수집중:   0%|          | 0/28 [00:00<?, ?it/s]"
      ]
     },
     "metadata": {},
     "output_type": "display_data"
    },
    {
     "name": "stdout",
     "output_type": "stream",
     "text": [
      "\n",
      "23\n",
      "현재 :  제주살사마르\n",
      "현재 크롤링이 진행중인 검색어 : 제주살사마르\n",
      "\n",
      "24\n",
      "현재 :  고기중독\n",
      "현재 크롤링이 진행중인 검색어 : 고기중독\n"
     ]
    },
    {
     "data": {
      "application/vnd.jupyter.widget-view+json": {
       "model_id": "5af34ffb30404ff69e0288287eebd058",
       "version_major": 2,
       "version_minor": 0
      },
      "text/plain": [
       "  0%|          | 0/5 [00:00<?, ?it/s]"
      ]
     },
     "metadata": {},
     "output_type": "display_data"
    },
    {
     "data": {
      "application/vnd.jupyter.widget-view+json": {
       "model_id": "0d59896aefb347a5a7b13bab6da02f96",
       "version_major": 2,
       "version_minor": 0
      },
      "text/plain": [
       "리뷰수집중:   0%|          | 0/28 [00:00<?, ?it/s]"
      ]
     },
     "metadata": {},
     "output_type": "display_data"
    },
    {
     "name": "stdout",
     "output_type": "stream",
     "text": [
      "\n",
      "25\n",
      "현재 :  설맥연동점\n",
      "현재 크롤링이 진행중인 검색어 : 설맥연동점\n",
      "펼칠 리뷰가 없다.\n"
     ]
    },
    {
     "data": {
      "application/vnd.jupyter.widget-view+json": {
       "model_id": "75342deaaec441e9864cdde182320f52",
       "version_major": 2,
       "version_minor": 0
      },
      "text/plain": [
       "  0%|          | 0/2 [00:00<?, ?it/s]"
      ]
     },
     "metadata": {},
     "output_type": "display_data"
    },
    {
     "data": {
      "application/vnd.jupyter.widget-view+json": {
       "model_id": "52012b9667174d6aaf7fa708e5c68103",
       "version_major": 2,
       "version_minor": 0
      },
      "text/plain": [
       "리뷰수집중:   0%|          | 0/6 [00:00<?, ?it/s]"
      ]
     },
     "metadata": {},
     "output_type": "display_data"
    },
    {
     "name": "stdout",
     "output_type": "stream",
     "text": [
      "\n",
      "26\n",
      "현재 :  조은이웃구이집\n",
      "현재 크롤링이 진행중인 검색어 : 조은이웃구이집\n",
      "펼칠 리뷰가 없다.\n"
     ]
    },
    {
     "data": {
      "application/vnd.jupyter.widget-view+json": {
       "model_id": "192d914c0b174c28beb668aa6cc8c582",
       "version_major": 2,
       "version_minor": 0
      },
      "text/plain": [
       "  0%|          | 0/2 [00:00<?, ?it/s]"
      ]
     },
     "metadata": {},
     "output_type": "display_data"
    },
    {
     "data": {
      "application/vnd.jupyter.widget-view+json": {
       "model_id": "4956c4398ace4f069ed6fafc0939a934",
       "version_major": 2,
       "version_minor": 0
      },
      "text/plain": [
       "리뷰수집중:   0%|          | 0/9 [00:00<?, ?it/s]"
      ]
     },
     "metadata": {},
     "output_type": "display_data"
    },
    {
     "name": "stdout",
     "output_type": "stream",
     "text": [
      "\n",
      "27\n",
      "현재 :  라지마할\n",
      "현재 크롤링이 진행중인 검색어 : 라지마할\n"
     ]
    },
    {
     "data": {
      "application/vnd.jupyter.widget-view+json": {
       "model_id": "2caff73b4de3482fbf974782760ca165",
       "version_major": 2,
       "version_minor": 0
      },
      "text/plain": [
       "  0%|          | 0/12 [00:00<?, ?it/s]"
      ]
     },
     "metadata": {},
     "output_type": "display_data"
    },
    {
     "data": {
      "application/vnd.jupyter.widget-view+json": {
       "model_id": "3178369a352b407ea51f5e3fa47191e8",
       "version_major": 2,
       "version_minor": 0
      },
      "text/plain": [
       "리뷰수집중:   0%|          | 0/67 [00:00<?, ?it/s]"
      ]
     },
     "metadata": {},
     "output_type": "display_data"
    },
    {
     "name": "stdout",
     "output_type": "stream",
     "text": [
      "\n",
      "28\n",
      "현재 :  삼다가\n",
      "현재 크롤링이 진행중인 검색어 : 삼다가\n"
     ]
    },
    {
     "data": {
      "application/vnd.jupyter.widget-view+json": {
       "model_id": "93d37a159efb4a7b87cea0b6257a67fb",
       "version_major": 2,
       "version_minor": 0
      },
      "text/plain": [
       "리뷰수집중:   0%|          | 0/13 [00:00<?, ?it/s]"
      ]
     },
     "metadata": {},
     "output_type": "display_data"
    },
    {
     "name": "stdout",
     "output_type": "stream",
     "text": [
      "\n",
      "29\n",
      "현재 :  진돼지\n",
      "현재 크롤링이 진행중인 검색어 : 진돼지\n"
     ]
    },
    {
     "data": {
      "application/vnd.jupyter.widget-view+json": {
       "model_id": "1ef8936b1bf247ec802a474353eda627",
       "version_major": 2,
       "version_minor": 0
      },
      "text/plain": [
       "  0%|          | 0/26 [00:04<?, ?it/s]"
      ]
     },
     "metadata": {},
     "output_type": "display_data"
    },
    {
     "data": {
      "application/vnd.jupyter.widget-view+json": {
       "model_id": "a580f255875847de8c0c3465f605548b",
       "version_major": 2,
       "version_minor": 0
      },
      "text/plain": [
       "리뷰수집중:   0%|          | 0/174 [00:00<?, ?it/s]"
      ]
     },
     "metadata": {},
     "output_type": "display_data"
    },
    {
     "name": "stdout",
     "output_type": "stream",
     "text": [
      "\n",
      "30\n",
      "현재 :  포35\n",
      "현재 크롤링이 진행중인 검색어 : 포35\n"
     ]
    },
    {
     "data": {
      "application/vnd.jupyter.widget-view+json": {
       "model_id": "e53d1fd53ca348a7a651aed83b6c859f",
       "version_major": 2,
       "version_minor": 0
      },
      "text/plain": [
       "  0%|          | 0/8 [00:00<?, ?it/s]"
      ]
     },
     "metadata": {},
     "output_type": "display_data"
    },
    {
     "data": {
      "application/vnd.jupyter.widget-view+json": {
       "model_id": "9c781a6b1c59463391a127f1ab10da66",
       "version_major": 2,
       "version_minor": 0
      },
      "text/plain": [
       "리뷰수집중:   0%|          | 0/29 [00:00<?, ?it/s]"
      ]
     },
     "metadata": {},
     "output_type": "display_data"
    },
    {
     "name": "stdout",
     "output_type": "stream",
     "text": [
      "\n",
      "31\n",
      "현재 :  헤이국밥\n",
      "현재 크롤링이 진행중인 검색어 : 헤이국밥\n",
      "\n",
      "32\n",
      "현재 :  델리시우\n",
      "현재 크롤링이 진행중인 검색어 : 델리시우\n",
      "펼칠 리뷰가 없다.\n"
     ]
    },
    {
     "data": {
      "application/vnd.jupyter.widget-view+json": {
       "model_id": "e4b8b55b165c456ca4c9c473e0662e23",
       "version_major": 2,
       "version_minor": 0
      },
      "text/plain": [
       "리뷰수집중:   0%|          | 0/3 [00:00<?, ?it/s]"
      ]
     },
     "metadata": {},
     "output_type": "display_data"
    },
    {
     "name": "stdout",
     "output_type": "stream",
     "text": [
      "\n",
      "33\n",
      "현재 :  일용이네\n",
      "현재 크롤링이 진행중인 검색어 : 일용이네\n",
      "펼칠 리뷰가 없다.\n"
     ]
    },
    {
     "data": {
      "application/vnd.jupyter.widget-view+json": {
       "model_id": "1695f1467d0c4950925cb430bbfa7597",
       "version_major": 2,
       "version_minor": 0
      },
      "text/plain": [
       "리뷰수집중:   0%|          | 0/6 [00:04<?, ?it/s]"
      ]
     },
     "metadata": {},
     "output_type": "display_data"
    },
    {
     "name": "stdout",
     "output_type": "stream",
     "text": [
      "\n",
      "34\n",
      "현재 :  등불\n",
      "현재 크롤링이 진행중인 검색어 : 등불\n",
      "펼칠 리뷰가 없다.\n"
     ]
    },
    {
     "data": {
      "application/vnd.jupyter.widget-view+json": {
       "model_id": "91fc17a4d6b94647a1dda5dfc9704627",
       "version_major": 2,
       "version_minor": 0
      },
      "text/plain": [
       "리뷰수집중:   0%|          | 0/6 [00:00<?, ?it/s]"
      ]
     },
     "metadata": {},
     "output_type": "display_data"
    },
    {
     "name": "stdout",
     "output_type": "stream",
     "text": [
      "\n",
      "35\n",
      "현재 :  한솥도시락제주연동대림점\n",
      "현재 크롤링이 진행중인 검색어 : 한솥도시락제주연동대림점\n"
     ]
    },
    {
     "data": {
      "application/vnd.jupyter.widget-view+json": {
       "model_id": "bf7da26f625b4ee68d2fdfe2a116f0a8",
       "version_major": 2,
       "version_minor": 0
      },
      "text/plain": [
       "  0%|          | 0/5 [00:00<?, ?it/s]"
      ]
     },
     "metadata": {},
     "output_type": "display_data"
    },
    {
     "data": {
      "application/vnd.jupyter.widget-view+json": {
       "model_id": "b22895ecd4dd447a938fa190636c0ad2",
       "version_major": 2,
       "version_minor": 0
      },
      "text/plain": [
       "리뷰수집중:   0%|          | 0/89 [00:00<?, ?it/s]"
      ]
     },
     "metadata": {},
     "output_type": "display_data"
    },
    {
     "name": "stdout",
     "output_type": "stream",
     "text": [
      "\n",
      "36\n",
      "현재 :  천하일품\n",
      "현재 크롤링이 진행중인 검색어 : 천하일품\n"
     ]
    },
    {
     "data": {
      "application/vnd.jupyter.widget-view+json": {
       "model_id": "ddde4f6ec41441d8a2e08affb6c30871",
       "version_major": 2,
       "version_minor": 0
      },
      "text/plain": [
       "  0%|          | 0/18 [00:00<?, ?it/s]"
      ]
     },
     "metadata": {},
     "output_type": "display_data"
    },
    {
     "data": {
      "application/vnd.jupyter.widget-view+json": {
       "model_id": "9e5532d375bd4b4a8dc045ee3879c6e3",
       "version_major": 2,
       "version_minor": 0
      },
      "text/plain": [
       "리뷰수집중:   0%|          | 0/89 [00:00<?, ?it/s]"
      ]
     },
     "metadata": {},
     "output_type": "display_data"
    },
    {
     "name": "stdout",
     "output_type": "stream",
     "text": [
      "\n",
      "37\n",
      "현재 :  달리자서울포차연동점\n",
      "현재 크롤링이 진행중인 검색어 : 달리자서울포차연동점\n"
     ]
    },
    {
     "data": {
      "application/vnd.jupyter.widget-view+json": {
       "model_id": "2ab824455d8745c39ad63cc4f2af5165",
       "version_major": 2,
       "version_minor": 0
      },
      "text/plain": [
       "  0%|          | 0/4 [00:00<?, ?it/s]"
      ]
     },
     "metadata": {},
     "output_type": "display_data"
    },
    {
     "data": {
      "application/vnd.jupyter.widget-view+json": {
       "model_id": "c55d540a35d7440e97154081c22f521e",
       "version_major": 2,
       "version_minor": 0
      },
      "text/plain": [
       "리뷰수집중:   0%|          | 0/20 [00:00<?, ?it/s]"
      ]
     },
     "metadata": {},
     "output_type": "display_data"
    },
    {
     "name": "stdout",
     "output_type": "stream",
     "text": [
      "\n",
      "38\n",
      "현재 :  돈후명가\n",
      "현재 크롤링이 진행중인 검색어 : 돈후명가\n"
     ]
    },
    {
     "data": {
      "application/vnd.jupyter.widget-view+json": {
       "model_id": "fa6c75ec97594e25a53aac4f16d0a2c9",
       "version_major": 2,
       "version_minor": 0
      },
      "text/plain": [
       "  0%|          | 0/8 [00:00<?, ?it/s]"
      ]
     },
     "metadata": {},
     "output_type": "display_data"
    },
    {
     "data": {
      "application/vnd.jupyter.widget-view+json": {
       "model_id": "a4ab94e9802c44d8b05c743a307fce61",
       "version_major": 2,
       "version_minor": 0
      },
      "text/plain": [
       "리뷰수집중:   0%|          | 0/61 [00:00<?, ?it/s]"
      ]
     },
     "metadata": {},
     "output_type": "display_data"
    },
    {
     "name": "stdout",
     "output_type": "stream",
     "text": [
      "\n",
      "39\n",
      "현재 :  혼고\n",
      "현재 크롤링이 진행중인 검색어 : 혼고\n"
     ]
    },
    {
     "data": {
      "application/vnd.jupyter.widget-view+json": {
       "model_id": "6ecb08d524684e8a8db999b9cdb31758",
       "version_major": 2,
       "version_minor": 0
      },
      "text/plain": [
       "  0%|          | 0/80 [00:00<?, ?it/s]"
      ]
     },
     "metadata": {},
     "output_type": "display_data"
    },
    {
     "data": {
      "application/vnd.jupyter.widget-view+json": {
       "model_id": "40b45b0e2c84454289a02141376d205c",
       "version_major": 2,
       "version_minor": 0
      },
      "text/plain": [
       "리뷰수집중:   0%|          | 0/273 [00:00<?, ?it/s]"
      ]
     },
     "metadata": {},
     "output_type": "display_data"
    },
    {
     "name": "stdout",
     "output_type": "stream",
     "text": [
      "\n",
      "40\n",
      "현재 :  예쁜술자리\n",
      "현재 크롤링이 진행중인 검색어 : 예쁜술자리\n"
     ]
    },
    {
     "data": {
      "application/vnd.jupyter.widget-view+json": {
       "model_id": "7a4aca333fc64ef19e354a8d476a95af",
       "version_major": 2,
       "version_minor": 0
      },
      "text/plain": [
       "  0%|          | 0/1 [00:00<?, ?it/s]"
      ]
     },
     "metadata": {},
     "output_type": "display_data"
    },
    {
     "data": {
      "application/vnd.jupyter.widget-view+json": {
       "model_id": "74f732b41d124626bc41ab9d62a2eb9c",
       "version_major": 2,
       "version_minor": 0
      },
      "text/plain": [
       "리뷰수집중:   0%|          | 0/33 [00:00<?, ?it/s]"
      ]
     },
     "metadata": {},
     "output_type": "display_data"
    },
    {
     "name": "stdout",
     "output_type": "stream",
     "text": [
      "\n",
      "41\n",
      "현재 :  스바루\n",
      "현재 크롤링이 진행중인 검색어 : 스바루\n",
      "펼칠 리뷰가 없다.\n"
     ]
    },
    {
     "data": {
      "application/vnd.jupyter.widget-view+json": {
       "model_id": "7a04013d26cd4343bcd7b33bf4961853",
       "version_major": 2,
       "version_minor": 0
      },
      "text/plain": [
       "리뷰수집중:   0%|          | 0/4 [00:00<?, ?it/s]"
      ]
     },
     "metadata": {},
     "output_type": "display_data"
    },
    {
     "name": "stdout",
     "output_type": "stream",
     "text": [
      "\n",
      "42\n",
      "현재 :  카사베라\n",
      "현재 크롤링이 진행중인 검색어 : 카사베라\n",
      "펼칠 리뷰가 없다.\n"
     ]
    },
    {
     "data": {
      "application/vnd.jupyter.widget-view+json": {
       "model_id": "cfb95b2078a74d4fad302a8da695a879",
       "version_major": 2,
       "version_minor": 0
      },
      "text/plain": [
       "리뷰수집중:   0%|          | 0/4 [00:04<?, ?it/s]"
      ]
     },
     "metadata": {},
     "output_type": "display_data"
    },
    {
     "name": "stdout",
     "output_type": "stream",
     "text": [
      "\n",
      "43\n",
      "현재 :  최가네옛날손두부집\n",
      "현재 크롤링이 진행중인 검색어 : 최가네옛날손두부집\n"
     ]
    },
    {
     "data": {
      "application/vnd.jupyter.widget-view+json": {
       "model_id": "3524ef98246b4eb99f53209106f5a05e",
       "version_major": 2,
       "version_minor": 0
      },
      "text/plain": [
       "  0%|          | 0/4 [00:00<?, ?it/s]"
      ]
     },
     "metadata": {},
     "output_type": "display_data"
    },
    {
     "data": {
      "application/vnd.jupyter.widget-view+json": {
       "model_id": "2b732253b4cf4bf184d92add1b9e687c",
       "version_major": 2,
       "version_minor": 0
      },
      "text/plain": [
       "리뷰수집중:   0%|          | 0/22 [00:00<?, ?it/s]"
      ]
     },
     "metadata": {},
     "output_type": "display_data"
    },
    {
     "name": "stdout",
     "output_type": "stream",
     "text": [
      "\n",
      "44\n",
      "현재 :  민성이네식당\n",
      "현재 크롤링이 진행중인 검색어 : 민성이네식당\n"
     ]
    },
    {
     "data": {
      "application/vnd.jupyter.widget-view+json": {
       "model_id": "9d228014d12b4df88d5b1e8364b33b12",
       "version_major": 2,
       "version_minor": 0
      },
      "text/plain": [
       "  0%|          | 0/3 [00:00<?, ?it/s]"
      ]
     },
     "metadata": {},
     "output_type": "display_data"
    },
    {
     "data": {
      "application/vnd.jupyter.widget-view+json": {
       "model_id": "9794eb234d7246b7a9cfffbaf57b570a",
       "version_major": 2,
       "version_minor": 0
      },
      "text/plain": [
       "리뷰수집중:   0%|          | 0/16 [00:00<?, ?it/s]"
      ]
     },
     "metadata": {},
     "output_type": "display_data"
    },
    {
     "name": "stdout",
     "output_type": "stream",
     "text": [
      "\n",
      "45\n",
      "현재 :  레드팬더\n",
      "현재 크롤링이 진행중인 검색어 : 레드팬더\n"
     ]
    },
    {
     "data": {
      "application/vnd.jupyter.widget-view+json": {
       "model_id": "94985678fd2d418383f6684c890fec94",
       "version_major": 2,
       "version_minor": 0
      },
      "text/plain": [
       "  0%|          | 0/1 [00:00<?, ?it/s]"
      ]
     },
     "metadata": {},
     "output_type": "display_data"
    },
    {
     "data": {
      "application/vnd.jupyter.widget-view+json": {
       "model_id": "3f998b773a184379af57734239267e71",
       "version_major": 2,
       "version_minor": 0
      },
      "text/plain": [
       "리뷰수집중:   0%|          | 0/19 [00:00<?, ?it/s]"
      ]
     },
     "metadata": {},
     "output_type": "display_data"
    },
    {
     "name": "stdout",
     "output_type": "stream",
     "text": [
      "\n",
      "46\n",
      "현재 :  신라스테이제주카페(CAFE)\n",
      "현재 크롤링이 진행중인 검색어 : 신라스테이제주카페(CAFE)\n"
     ]
    },
    {
     "data": {
      "application/vnd.jupyter.widget-view+json": {
       "model_id": "87541faf3ca9475fb23550f447c69f15",
       "version_major": 2,
       "version_minor": 0
      },
      "text/plain": [
       "  0%|          | 0/6 [00:00<?, ?it/s]"
      ]
     },
     "metadata": {},
     "output_type": "display_data"
    },
    {
     "data": {
      "application/vnd.jupyter.widget-view+json": {
       "model_id": "4caa474eb8d24229b71607b9565cf005",
       "version_major": 2,
       "version_minor": 0
      },
      "text/plain": [
       "리뷰수집중:   0%|          | 0/29 [00:00<?, ?it/s]"
      ]
     },
     "metadata": {},
     "output_type": "display_data"
    },
    {
     "name": "stdout",
     "output_type": "stream",
     "text": [
      "\n",
      "47\n",
      "현재 :  팔팔돼지\n",
      "현재 크롤링이 진행중인 검색어 : 팔팔돼지\n"
     ]
    },
    {
     "data": {
      "application/vnd.jupyter.widget-view+json": {
       "model_id": "4a50416c7e014d11b8c8a7acb227b74b",
       "version_major": 2,
       "version_minor": 0
      },
      "text/plain": [
       "  0%|          | 0/42 [00:00<?, ?it/s]"
      ]
     },
     "metadata": {},
     "output_type": "display_data"
    },
    {
     "data": {
      "application/vnd.jupyter.widget-view+json": {
       "model_id": "578168ed381b45d9b471ca0f4657e922",
       "version_major": 2,
       "version_minor": 0
      },
      "text/plain": [
       "리뷰수집중:   0%|          | 0/252 [00:00<?, ?it/s]"
      ]
     },
     "metadata": {},
     "output_type": "display_data"
    },
    {
     "name": "stdout",
     "output_type": "stream",
     "text": [
      "\n",
      "48\n",
      "현재 :  제주공항본점공항뚝배기\n",
      "현재 크롤링이 진행중인 검색어 : 제주공항본점공항뚝배기\n"
     ]
    },
    {
     "data": {
      "application/vnd.jupyter.widget-view+json": {
       "model_id": "d0ce6a430ff6430585a240ebfd5c70d2",
       "version_major": 2,
       "version_minor": 0
      },
      "text/plain": [
       "  0%|          | 0/161 [00:00<?, ?it/s]"
      ]
     },
     "metadata": {},
     "output_type": "display_data"
    },
    {
     "data": {
      "application/vnd.jupyter.widget-view+json": {
       "model_id": "ddfcebd327d347dd8d82404d86b29f93",
       "version_major": 2,
       "version_minor": 0
      },
      "text/plain": [
       "리뷰수집중:   0%|          | 0/848 [00:00<?, ?it/s]"
      ]
     },
     "metadata": {},
     "output_type": "display_data"
    },
    {
     "name": "stdout",
     "output_type": "stream",
     "text": [
      "\n",
      "49\n",
      "현재 :  민우네국수\n",
      "현재 크롤링이 진행중인 검색어 : 민우네국수\n",
      "\n",
      "50\n",
      "현재 :  미라클라이브카페\n",
      "현재 크롤링이 진행중인 검색어 : 미라클라이브카페\n",
      "펼칠 리뷰가 없다.\n"
     ]
    },
    {
     "data": {
      "application/vnd.jupyter.widget-view+json": {
       "model_id": "2e9c3af36cfc4b178c1f1c692082289e",
       "version_major": 2,
       "version_minor": 0
      },
      "text/plain": [
       "리뷰수집중:   0%|          | 0/3 [00:00<?, ?it/s]"
      ]
     },
     "metadata": {},
     "output_type": "display_data"
    },
    {
     "name": "stdout",
     "output_type": "stream",
     "text": [
      "\n",
      "51\n",
      "현재 :  전주이모네\n",
      "현재 크롤링이 진행중인 검색어 : 전주이모네\n"
     ]
    },
    {
     "data": {
      "application/vnd.jupyter.widget-view+json": {
       "model_id": "c1c439cb43ef4896886aab92f101a2d8",
       "version_major": 2,
       "version_minor": 0
      },
      "text/plain": [
       "  0%|          | 0/2 [00:00<?, ?it/s]"
      ]
     },
     "metadata": {},
     "output_type": "display_data"
    },
    {
     "data": {
      "application/vnd.jupyter.widget-view+json": {
       "model_id": "7fa6526b001a40b7926fe898cf8074ba",
       "version_major": 2,
       "version_minor": 0
      },
      "text/plain": [
       "리뷰수집중:   0%|          | 0/50 [00:00<?, ?it/s]"
      ]
     },
     "metadata": {},
     "output_type": "display_data"
    },
    {
     "name": "stdout",
     "output_type": "stream",
     "text": [
      "\n",
      "52\n",
      "현재 :  설빙신제주직영점\n",
      "현재 크롤링이 진행중인 검색어 : 설빙신제주직영점\n"
     ]
    },
    {
     "data": {
      "application/vnd.jupyter.widget-view+json": {
       "model_id": "eb03a9546817434db06e6a987b9fe1d3",
       "version_major": 2,
       "version_minor": 0
      },
      "text/plain": [
       "  0%|          | 0/13 [00:00<?, ?it/s]"
      ]
     },
     "metadata": {},
     "output_type": "display_data"
    },
    {
     "data": {
      "application/vnd.jupyter.widget-view+json": {
       "model_id": "bee3ba8df9c24afcb3e8cb9f701e1f5f",
       "version_major": 2,
       "version_minor": 0
      },
      "text/plain": [
       "리뷰수집중:   0%|          | 0/127 [00:00<?, ?it/s]"
      ]
     },
     "metadata": {},
     "output_type": "display_data"
    },
    {
     "name": "stdout",
     "output_type": "stream",
     "text": [
      "\n",
      "53\n",
      "현재 :  가완\n",
      "현재 크롤링이 진행중인 검색어 : 가완\n",
      "펼칠 리뷰가 없다.\n",
      "\n",
      "54\n",
      "현재 :  쭈꾸쭈꾸쭈꾸미\n",
      "현재 크롤링이 진행중인 검색어 : 쭈꾸쭈꾸쭈꾸미\n"
     ]
    },
    {
     "data": {
      "application/vnd.jupyter.widget-view+json": {
       "model_id": "fb5eeb3e6dde4db08ee97d2188d6cdfd",
       "version_major": 2,
       "version_minor": 0
      },
      "text/plain": [
       "  0%|          | 0/14 [00:00<?, ?it/s]"
      ]
     },
     "metadata": {},
     "output_type": "display_data"
    },
    {
     "data": {
      "application/vnd.jupyter.widget-view+json": {
       "model_id": "e7c3976270fe4e21a3153f9fd823fcfc",
       "version_major": 2,
       "version_minor": 0
      },
      "text/plain": [
       "리뷰수집중:   0%|          | 0/146 [00:00<?, ?it/s]"
      ]
     },
     "metadata": {},
     "output_type": "display_data"
    },
    {
     "name": "stdout",
     "output_type": "stream",
     "text": [
      "\n",
      "55\n",
      "현재 :  짬뽕에취한날\n",
      "현재 크롤링이 진행중인 검색어 : 짬뽕에취한날\n"
     ]
    },
    {
     "data": {
      "application/vnd.jupyter.widget-view+json": {
       "model_id": "ca604ae3712e4dda9051c316662f9fb2",
       "version_major": 2,
       "version_minor": 0
      },
      "text/plain": [
       "  0%|          | 0/52 [00:00<?, ?it/s]"
      ]
     },
     "metadata": {},
     "output_type": "display_data"
    },
    {
     "data": {
      "application/vnd.jupyter.widget-view+json": {
       "model_id": "f9e13393c2aa4f30acd7925a8c163353",
       "version_major": 2,
       "version_minor": 0
      },
      "text/plain": [
       "리뷰수집중:   0%|          | 0/367 [00:00<?, ?it/s]"
      ]
     },
     "metadata": {},
     "output_type": "display_data"
    },
    {
     "name": "stdout",
     "output_type": "stream",
     "text": [
      "\n",
      "56\n",
      "현재 :  흑마가든\n",
      "현재 크롤링이 진행중인 검색어 : 흑마가든\n"
     ]
    },
    {
     "data": {
      "application/vnd.jupyter.widget-view+json": {
       "model_id": "601204d3a762492ea81ea28f2abbb67f",
       "version_major": 2,
       "version_minor": 0
      },
      "text/plain": [
       "  0%|          | 0/8 [00:00<?, ?it/s]"
      ]
     },
     "metadata": {},
     "output_type": "display_data"
    },
    {
     "data": {
      "application/vnd.jupyter.widget-view+json": {
       "model_id": "a90a07ee155c477980e1f89436233302",
       "version_major": 2,
       "version_minor": 0
      },
      "text/plain": [
       "리뷰수집중:   0%|          | 0/45 [00:00<?, ?it/s]"
      ]
     },
     "metadata": {},
     "output_type": "display_data"
    },
    {
     "name": "stdout",
     "output_type": "stream",
     "text": [
      "\n",
      "57\n",
      "현재 :  연동한라국시\n",
      "현재 크롤링이 진행중인 검색어 : 연동한라국시\n",
      "펼칠 리뷰가 없다.\n"
     ]
    },
    {
     "data": {
      "application/vnd.jupyter.widget-view+json": {
       "model_id": "8730499003474bfd9655929ca139ebd4",
       "version_major": 2,
       "version_minor": 0
      },
      "text/plain": [
       "  0%|          | 0/1 [00:00<?, ?it/s]"
      ]
     },
     "metadata": {},
     "output_type": "display_data"
    },
    {
     "data": {
      "application/vnd.jupyter.widget-view+json": {
       "model_id": "e3d29a9af9c74180bd14ecfa6db7911f",
       "version_major": 2,
       "version_minor": 0
      },
      "text/plain": [
       "리뷰수집중:   0%|          | 0/6 [00:00<?, ?it/s]"
      ]
     },
     "metadata": {},
     "output_type": "display_data"
    },
    {
     "name": "stdout",
     "output_type": "stream",
     "text": [
      "\n",
      "58\n",
      "현재 :  우리아시가게글라\n",
      "현재 크롤링이 진행중인 검색어 : 우리아시가게글라\n",
      "펼칠 리뷰가 없다.\n"
     ]
    },
    {
     "data": {
      "application/vnd.jupyter.widget-view+json": {
       "model_id": "812b20ede9e24249abf8c3fa408d40f6",
       "version_major": 2,
       "version_minor": 0
      },
      "text/plain": [
       "리뷰수집중:   0%|          | 0/4 [00:00<?, ?it/s]"
      ]
     },
     "metadata": {},
     "output_type": "display_data"
    },
    {
     "name": "stdout",
     "output_type": "stream",
     "text": [
      "\n",
      "59\n",
      "현재 :  청해회센타\n",
      "현재 크롤링이 진행중인 검색어 : 청해회센타\n"
     ]
    },
    {
     "data": {
      "application/vnd.jupyter.widget-view+json": {
       "model_id": "febfc8ccc84941bc80be5cf55dec0bf5",
       "version_major": 2,
       "version_minor": 0
      },
      "text/plain": [
       "  0%|          | 0/6 [00:00<?, ?it/s]"
      ]
     },
     "metadata": {},
     "output_type": "display_data"
    },
    {
     "data": {
      "application/vnd.jupyter.widget-view+json": {
       "model_id": "76d14e2ec2c74dc388c13b363b3c4214",
       "version_major": 2,
       "version_minor": 0
      },
      "text/plain": [
       "리뷰수집중:   0%|          | 0/38 [00:00<?, ?it/s]"
      ]
     },
     "metadata": {},
     "output_type": "display_data"
    },
    {
     "name": "stdout",
     "output_type": "stream",
     "text": [
      "\n",
      "60\n",
      "현재 :  제주밥상\n",
      "현재 크롤링이 진행중인 검색어 : 제주밥상\n"
     ]
    },
    {
     "data": {
      "application/vnd.jupyter.widget-view+json": {
       "model_id": "53fe28bbf9534d18ab6ca4196fd06b12",
       "version_major": 2,
       "version_minor": 0
      },
      "text/plain": [
       "  0%|          | 0/9 [00:00<?, ?it/s]"
      ]
     },
     "metadata": {},
     "output_type": "display_data"
    },
    {
     "data": {
      "application/vnd.jupyter.widget-view+json": {
       "model_id": "f7b9a213814243cdb55d45bf03d3f6cd",
       "version_major": 2,
       "version_minor": 0
      },
      "text/plain": [
       "리뷰수집중:   0%|          | 0/43 [00:00<?, ?it/s]"
      ]
     },
     "metadata": {},
     "output_type": "display_data"
    },
    {
     "name": "stdout",
     "output_type": "stream",
     "text": [
      "\n",
      "61\n",
      "현재 :  오르방\n",
      "현재 크롤링이 진행중인 검색어 : 오르방\n"
     ]
    },
    {
     "data": {
      "application/vnd.jupyter.widget-view+json": {
       "model_id": "726a4ee7e314477ca235e170a97a2cdc",
       "version_major": 2,
       "version_minor": 0
      },
      "text/plain": [
       "  0%|          | 0/11 [00:00<?, ?it/s]"
      ]
     },
     "metadata": {},
     "output_type": "display_data"
    },
    {
     "data": {
      "application/vnd.jupyter.widget-view+json": {
       "model_id": "fcfa3d073f5747329c1afb9c0441a26d",
       "version_major": 2,
       "version_minor": 0
      },
      "text/plain": [
       "리뷰수집중:   0%|          | 0/297 [00:00<?, ?it/s]"
      ]
     },
     "metadata": {},
     "output_type": "display_data"
    },
    {
     "name": "stdout",
     "output_type": "stream",
     "text": [
      "\n",
      "62\n",
      "현재 :  조가네회세꼬시\n",
      "현재 크롤링이 진행중인 검색어 : 조가네회세꼬시\n",
      "펼칠 리뷰가 없다.\n"
     ]
    },
    {
     "data": {
      "application/vnd.jupyter.widget-view+json": {
       "model_id": "1dc20de8da894a3c8a2762c90d5d380e",
       "version_major": 2,
       "version_minor": 0
      },
      "text/plain": [
       "리뷰수집중:   0%|          | 0/8 [00:00<?, ?it/s]"
      ]
     },
     "metadata": {},
     "output_type": "display_data"
    },
    {
     "name": "stdout",
     "output_type": "stream",
     "text": [
      "\n",
      "63\n",
      "현재 :  바삭돈가스\n",
      "현재 크롤링이 진행중인 검색어 : 바삭돈가스\n"
     ]
    },
    {
     "data": {
      "application/vnd.jupyter.widget-view+json": {
       "model_id": "fa84ee68904f4b3b9296822295e818db",
       "version_major": 2,
       "version_minor": 0
      },
      "text/plain": [
       "  0%|          | 0/31 [00:04<?, ?it/s]"
      ]
     },
     "metadata": {},
     "output_type": "display_data"
    },
    {
     "data": {
      "application/vnd.jupyter.widget-view+json": {
       "model_id": "b34e0bf376444141b892f47de4d974b5",
       "version_major": 2,
       "version_minor": 0
      },
      "text/plain": [
       "리뷰수집중:   0%|          | 0/247 [00:00<?, ?it/s]"
      ]
     },
     "metadata": {},
     "output_type": "display_data"
    },
    {
     "name": "stdout",
     "output_type": "stream",
     "text": [
      "\n",
      "64\n",
      "현재 :  큰언니네이층집\n",
      "현재 크롤링이 진행중인 검색어 : 큰언니네이층집\n",
      "펼칠 리뷰가 없다.\n"
     ]
    },
    {
     "data": {
      "application/vnd.jupyter.widget-view+json": {
       "model_id": "aff8d88cec7d4acfa0cf3d5db01b7996",
       "version_major": 2,
       "version_minor": 0
      },
      "text/plain": [
       "리뷰수집중:   0%|          | 0/12 [00:00<?, ?it/s]"
      ]
     },
     "metadata": {},
     "output_type": "display_data"
    },
    {
     "name": "stdout",
     "output_type": "stream",
     "text": [
      "\n",
      "65\n",
      "현재 :  김밥천국신연동점\n",
      "현재 크롤링이 진행중인 검색어 : 김밥천국신연동점\n"
     ]
    },
    {
     "data": {
      "application/vnd.jupyter.widget-view+json": {
       "model_id": "3ee6222f75514abaaae033174a0a509e",
       "version_major": 2,
       "version_minor": 0
      },
      "text/plain": [
       "  0%|          | 0/15 [00:08<?, ?it/s]"
      ]
     },
     "metadata": {},
     "output_type": "display_data"
    },
    {
     "data": {
      "application/vnd.jupyter.widget-view+json": {
       "model_id": "5e8ef31d0a2a4bb2a377006ff180bf71",
       "version_major": 2,
       "version_minor": 0
      },
      "text/plain": [
       "리뷰수집중:   0%|          | 0/251 [00:00<?, ?it/s]"
      ]
     },
     "metadata": {},
     "output_type": "display_data"
    },
    {
     "name": "stdout",
     "output_type": "stream",
     "text": [
      "\n",
      "66\n",
      "현재 :  산우정\n",
      "현재 크롤링이 진행중인 검색어 : 산우정\n"
     ]
    },
    {
     "data": {
      "application/vnd.jupyter.widget-view+json": {
       "model_id": "430de1b30ee4447db10c7bbca56359f7",
       "version_major": 2,
       "version_minor": 0
      },
      "text/plain": [
       "  0%|          | 0/23 [00:00<?, ?it/s]"
      ]
     },
     "metadata": {},
     "output_type": "display_data"
    },
    {
     "data": {
      "application/vnd.jupyter.widget-view+json": {
       "model_id": "067d80a34e5f48978bd6092eea94eb2e",
       "version_major": 2,
       "version_minor": 0
      },
      "text/plain": [
       "리뷰수집중:   0%|          | 0/54 [00:00<?, ?it/s]"
      ]
     },
     "metadata": {},
     "output_type": "display_data"
    },
    {
     "name": "stdout",
     "output_type": "stream",
     "text": [
      "\n",
      "67\n",
      "현재 :  한라산해장국\n",
      "현재 크롤링이 진행중인 검색어 : 한라산해장국\n"
     ]
    },
    {
     "data": {
      "application/vnd.jupyter.widget-view+json": {
       "model_id": "2e279e66fe5f4b25a265d345c7e080e1",
       "version_major": 2,
       "version_minor": 0
      },
      "text/plain": [
       "  0%|          | 0/22 [00:00<?, ?it/s]"
      ]
     },
     "metadata": {},
     "output_type": "display_data"
    },
    {
     "data": {
      "application/vnd.jupyter.widget-view+json": {
       "model_id": "5e66fe9ccfa04c279d223ed5bf7dcc72",
       "version_major": 2,
       "version_minor": 0
      },
      "text/plain": [
       "리뷰수집중:   0%|          | 0/76 [00:00<?, ?it/s]"
      ]
     },
     "metadata": {},
     "output_type": "display_data"
    },
    {
     "name": "stdout",
     "output_type": "stream",
     "text": [
      "\n",
      "68\n",
      "현재 :  노가리앤비어연동3호점\n",
      "현재 크롤링이 진행중인 검색어 : 노가리앤비어연동3호점\n"
     ]
    },
    {
     "data": {
      "application/vnd.jupyter.widget-view+json": {
       "model_id": "f333cc31f9f14777a998f83012390a03",
       "version_major": 2,
       "version_minor": 0
      },
      "text/plain": [
       "  0%|          | 0/1 [00:00<?, ?it/s]"
      ]
     },
     "metadata": {},
     "output_type": "display_data"
    },
    {
     "data": {
      "application/vnd.jupyter.widget-view+json": {
       "model_id": "58231021a6b040518ad617b76e5f26ad",
       "version_major": 2,
       "version_minor": 0
      },
      "text/plain": [
       "리뷰수집중:   0%|          | 0/12 [00:00<?, ?it/s]"
      ]
     },
     "metadata": {},
     "output_type": "display_data"
    },
    {
     "name": "stdout",
     "output_type": "stream",
     "text": [
      "\n",
      "69\n",
      "현재 :  오동통\n",
      "현재 크롤링이 진행중인 검색어 : 오동통\n",
      "\n",
      "70\n",
      "현재 :  제주어멍국수본점\n",
      "현재 크롤링이 진행중인 검색어 : 제주어멍국수본점\n"
     ]
    },
    {
     "data": {
      "application/vnd.jupyter.widget-view+json": {
       "model_id": "a6d668bad9174cffa46163789284e782",
       "version_major": 2,
       "version_minor": 0
      },
      "text/plain": [
       "  0%|          | 0/10 [00:00<?, ?it/s]"
      ]
     },
     "metadata": {},
     "output_type": "display_data"
    },
    {
     "data": {
      "application/vnd.jupyter.widget-view+json": {
       "model_id": "f292983f405e4899b4051b42fb797395",
       "version_major": 2,
       "version_minor": 0
      },
      "text/plain": [
       "리뷰수집중:   0%|          | 0/91 [00:00<?, ?it/s]"
      ]
     },
     "metadata": {},
     "output_type": "display_data"
    },
    {
     "name": "stdout",
     "output_type": "stream",
     "text": [
      "\n",
      "71\n",
      "현재 :  경애관\n",
      "현재 크롤링이 진행중인 검색어 : 경애관\n"
     ]
    },
    {
     "data": {
      "application/vnd.jupyter.widget-view+json": {
       "model_id": "a87f61d2614847598556ccb92efa33e1",
       "version_major": 2,
       "version_minor": 0
      },
      "text/plain": [
       "  0%|          | 0/1 [00:00<?, ?it/s]"
      ]
     },
     "metadata": {},
     "output_type": "display_data"
    },
    {
     "data": {
      "application/vnd.jupyter.widget-view+json": {
       "model_id": "02da9f12657b4ef2aeaae4cc445603ed",
       "version_major": 2,
       "version_minor": 0
      },
      "text/plain": [
       "리뷰수집중:   0%|          | 0/17 [00:00<?, ?it/s]"
      ]
     },
     "metadata": {},
     "output_type": "display_data"
    },
    {
     "name": "stdout",
     "output_type": "stream",
     "text": [
      "\n",
      "72\n",
      "현재 :  명자네분식\n",
      "현재 크롤링이 진행중인 검색어 : 명자네분식\n",
      "펼칠 리뷰가 없다.\n"
     ]
    },
    {
     "data": {
      "application/vnd.jupyter.widget-view+json": {
       "model_id": "c04a525b05574b6bab09b717db79a05a",
       "version_major": 2,
       "version_minor": 0
      },
      "text/plain": [
       "  0%|          | 0/2 [00:00<?, ?it/s]"
      ]
     },
     "metadata": {},
     "output_type": "display_data"
    },
    {
     "data": {
      "application/vnd.jupyter.widget-view+json": {
       "model_id": "872eb18374724e4496b7479ac7131b85",
       "version_major": 2,
       "version_minor": 0
      },
      "text/plain": [
       "리뷰수집중:   0%|          | 0/9 [00:00<?, ?it/s]"
      ]
     },
     "metadata": {},
     "output_type": "display_data"
    },
    {
     "name": "stdout",
     "output_type": "stream",
     "text": [
      "\n",
      "73\n",
      "현재 :  쨍하고회뜰날\n",
      "현재 크롤링이 진행중인 검색어 : 쨍하고회뜰날\n"
     ]
    },
    {
     "data": {
      "application/vnd.jupyter.widget-view+json": {
       "model_id": "1990ef29d58046b798e676ff81a99ba0",
       "version_major": 2,
       "version_minor": 0
      },
      "text/plain": [
       "  0%|          | 0/5 [00:00<?, ?it/s]"
      ]
     },
     "metadata": {},
     "output_type": "display_data"
    },
    {
     "data": {
      "application/vnd.jupyter.widget-view+json": {
       "model_id": "68bca1a177424358abcae27d01d4e757",
       "version_major": 2,
       "version_minor": 0
      },
      "text/plain": [
       "리뷰수집중:   0%|          | 0/32 [00:00<?, ?it/s]"
      ]
     },
     "metadata": {},
     "output_type": "display_data"
    },
    {
     "name": "stdout",
     "output_type": "stream",
     "text": [
      "\n",
      "74\n",
      "현재 :  갈래길국수\n",
      "현재 크롤링이 진행중인 검색어 : 갈래길국수\n"
     ]
    },
    {
     "data": {
      "application/vnd.jupyter.widget-view+json": {
       "model_id": "e1a5041dd7d049a28657574bfc557c01",
       "version_major": 2,
       "version_minor": 0
      },
      "text/plain": [
       "  0%|          | 0/1 [00:00<?, ?it/s]"
      ]
     },
     "metadata": {},
     "output_type": "display_data"
    },
    {
     "data": {
      "application/vnd.jupyter.widget-view+json": {
       "model_id": "88488100d35e450aaaf143bdaa841f93",
       "version_major": 2,
       "version_minor": 0
      },
      "text/plain": [
       "리뷰수집중:   0%|          | 0/19 [00:00<?, ?it/s]"
      ]
     },
     "metadata": {},
     "output_type": "display_data"
    },
    {
     "name": "stdout",
     "output_type": "stream",
     "text": [
      "\n",
      "75\n",
      "현재 :  대한식당신시가지점\n",
      "현재 크롤링이 진행중인 검색어 : 대한식당신시가지점\n"
     ]
    },
    {
     "data": {
      "application/vnd.jupyter.widget-view+json": {
       "model_id": "32ef752cde474c509d2d5a1f8f985b06",
       "version_major": 2,
       "version_minor": 0
      },
      "text/plain": [
       "  0%|          | 0/8 [00:00<?, ?it/s]"
      ]
     },
     "metadata": {},
     "output_type": "display_data"
    },
    {
     "data": {
      "application/vnd.jupyter.widget-view+json": {
       "model_id": "69b994c5bc3344318cbec3ff91ddecb3",
       "version_major": 2,
       "version_minor": 0
      },
      "text/plain": [
       "리뷰수집중:   0%|          | 0/53 [00:00<?, ?it/s]"
      ]
     },
     "metadata": {},
     "output_type": "display_data"
    },
    {
     "name": "stdout",
     "output_type": "stream",
     "text": [
      "\n",
      "76\n",
      "현재 :  정겨운수제비\n",
      "현재 크롤링이 진행중인 검색어 : 정겨운수제비\n"
     ]
    },
    {
     "data": {
      "application/vnd.jupyter.widget-view+json": {
       "model_id": "ca3eba3f6737422fa92d4fc4ee0b1d5b",
       "version_major": 2,
       "version_minor": 0
      },
      "text/plain": [
       "  0%|          | 0/4 [00:00<?, ?it/s]"
      ]
     },
     "metadata": {},
     "output_type": "display_data"
    },
    {
     "data": {
      "application/vnd.jupyter.widget-view+json": {
       "model_id": "20fb79addca4463f965fc1b1622bb16d",
       "version_major": 2,
       "version_minor": 0
      },
      "text/plain": [
       "리뷰수집중:   0%|          | 0/34 [00:00<?, ?it/s]"
      ]
     },
     "metadata": {},
     "output_type": "display_data"
    },
    {
     "name": "stdout",
     "output_type": "stream",
     "text": [
      "\n",
      "77\n",
      "현재 :  제주대통\n",
      "현재 크롤링이 진행중인 검색어 : 제주대통\n"
     ]
    },
    {
     "data": {
      "application/vnd.jupyter.widget-view+json": {
       "model_id": "dd8a0db832a149348b499fd3ecafdda6",
       "version_major": 2,
       "version_minor": 0
      },
      "text/plain": [
       "  0%|          | 0/8 [00:00<?, ?it/s]"
      ]
     },
     "metadata": {},
     "output_type": "display_data"
    },
    {
     "data": {
      "application/vnd.jupyter.widget-view+json": {
       "model_id": "4292e07e0b544faaabaa11c91f8e98aa",
       "version_major": 2,
       "version_minor": 0
      },
      "text/plain": [
       "리뷰수집중:   0%|          | 0/62 [00:00<?, ?it/s]"
      ]
     },
     "metadata": {},
     "output_type": "display_data"
    },
    {
     "name": "stdout",
     "output_type": "stream",
     "text": [
      "\n",
      "78\n",
      "현재 :  갤러리호텔비앤비\n",
      "현재 크롤링이 진행중인 검색어 : 갤러리호텔비앤비\n"
     ]
    },
    {
     "data": {
      "application/vnd.jupyter.widget-view+json": {
       "model_id": "1c9b7b31f1f94c13b989b82ca1c997b7",
       "version_major": 2,
       "version_minor": 0
      },
      "text/plain": [
       "  0%|          | 0/5 [00:00<?, ?it/s]"
      ]
     },
     "metadata": {},
     "output_type": "display_data"
    },
    {
     "data": {
      "application/vnd.jupyter.widget-view+json": {
       "model_id": "629a847b58a644dcaa56f94022afd842",
       "version_major": 2,
       "version_minor": 0
      },
      "text/plain": [
       "리뷰수집중:   0%|          | 0/45 [00:00<?, ?it/s]"
      ]
     },
     "metadata": {},
     "output_type": "display_data"
    },
    {
     "name": "stdout",
     "output_type": "stream",
     "text": [
      "\n",
      "79\n",
      "현재 :  문워크\n",
      "현재 크롤링이 진행중인 검색어 : 문워크\n"
     ]
    },
    {
     "data": {
      "application/vnd.jupyter.widget-view+json": {
       "model_id": "165a90497b4d458eb32d4d2b59d1f1dd",
       "version_major": 2,
       "version_minor": 0
      },
      "text/plain": [
       "  0%|          | 0/8 [00:00<?, ?it/s]"
      ]
     },
     "metadata": {},
     "output_type": "display_data"
    },
    {
     "data": {
      "application/vnd.jupyter.widget-view+json": {
       "model_id": "314ad69706084cffa37ee417a7e0671c",
       "version_major": 2,
       "version_minor": 0
      },
      "text/plain": [
       "리뷰수집중:   0%|          | 0/17 [00:00<?, ?it/s]"
      ]
     },
     "metadata": {},
     "output_type": "display_data"
    },
    {
     "name": "stdout",
     "output_type": "stream",
     "text": [
      "\n",
      "80\n",
      "현재 :  딜라익스프레스신제주점\n",
      "현재 크롤링이 진행중인 검색어 : 딜라익스프레스신제주점\n",
      "\n",
      "81\n",
      "현재 :  우리양\n",
      "현재 크롤링이 진행중인 검색어 : 우리양\n"
     ]
    },
    {
     "data": {
      "application/vnd.jupyter.widget-view+json": {
       "model_id": "e115d353602d4876974fe7af9b61fb46",
       "version_major": 2,
       "version_minor": 0
      },
      "text/plain": [
       "  0%|          | 0/16 [00:00<?, ?it/s]"
      ]
     },
     "metadata": {},
     "output_type": "display_data"
    },
    {
     "data": {
      "application/vnd.jupyter.widget-view+json": {
       "model_id": "67e8dbd9f80045c58c6024d8b29778a4",
       "version_major": 2,
       "version_minor": 0
      },
      "text/plain": [
       "리뷰수집중:   0%|          | 0/59 [00:00<?, ?it/s]"
      ]
     },
     "metadata": {},
     "output_type": "display_data"
    },
    {
     "name": "stdout",
     "output_type": "stream",
     "text": [
      "\n",
      "82\n",
      "현재 :  톡순\n",
      "현재 크롤링이 진행중인 검색어 : 톡순\n",
      "펼칠 리뷰가 없다.\n"
     ]
    },
    {
     "data": {
      "application/vnd.jupyter.widget-view+json": {
       "model_id": "6669707b86ab4ead9d5a81058886eb95",
       "version_major": 2,
       "version_minor": 0
      },
      "text/plain": [
       "리뷰수집중:   0%|          | 0/6 [00:00<?, ?it/s]"
      ]
     },
     "metadata": {},
     "output_type": "display_data"
    },
    {
     "name": "stdout",
     "output_type": "stream",
     "text": [
      "\n",
      "83\n",
      "현재 :  천하장사뷔페\n",
      "현재 크롤링이 진행중인 검색어 : 천하장사뷔페\n"
     ]
    },
    {
     "data": {
      "application/vnd.jupyter.widget-view+json": {
       "model_id": "cae3b672f0cb4b73ba33ac335d8498d7",
       "version_major": 2,
       "version_minor": 0
      },
      "text/plain": [
       "  0%|          | 0/11 [00:04<?, ?it/s]"
      ]
     },
     "metadata": {},
     "output_type": "display_data"
    },
    {
     "data": {
      "application/vnd.jupyter.widget-view+json": {
       "model_id": "f09848176a764b409562b13b3351f26a",
       "version_major": 2,
       "version_minor": 0
      },
      "text/plain": [
       "리뷰수집중:   0%|          | 0/81 [00:00<?, ?it/s]"
      ]
     },
     "metadata": {},
     "output_type": "display_data"
    },
    {
     "name": "stdout",
     "output_type": "stream",
     "text": [
      "\n",
      "84\n",
      "현재 :  바나나껍데기\n",
      "현재 크롤링이 진행중인 검색어 : 바나나껍데기\n",
      "펼칠 리뷰가 없다.\n"
     ]
    },
    {
     "data": {
      "application/vnd.jupyter.widget-view+json": {
       "model_id": "fe7768c7caed48e8bd90b8f457dc319d",
       "version_major": 2,
       "version_minor": 0
      },
      "text/plain": [
       "  0%|          | 0/3 [00:00<?, ?it/s]"
      ]
     },
     "metadata": {},
     "output_type": "display_data"
    },
    {
     "data": {
      "application/vnd.jupyter.widget-view+json": {
       "model_id": "84070c9cd507423a825af2f56c3419f6",
       "version_major": 2,
       "version_minor": 0
      },
      "text/plain": [
       "리뷰수집중:   0%|          | 0/10 [00:00<?, ?it/s]"
      ]
     },
     "metadata": {},
     "output_type": "display_data"
    },
    {
     "name": "stdout",
     "output_type": "stream",
     "text": [
      "\n",
      "85\n",
      "현재 :  연포낙지\n",
      "현재 크롤링이 진행중인 검색어 : 연포낙지\n",
      "펼칠 리뷰가 없다.\n"
     ]
    },
    {
     "data": {
      "application/vnd.jupyter.widget-view+json": {
       "model_id": "92d4bf2f70d149d6966a349571710c89",
       "version_major": 2,
       "version_minor": 0
      },
      "text/plain": [
       "  0%|          | 0/1 [00:00<?, ?it/s]"
      ]
     },
     "metadata": {},
     "output_type": "display_data"
    },
    {
     "data": {
      "application/vnd.jupyter.widget-view+json": {
       "model_id": "3d307228da6d4a779e2da7661d24f6c2",
       "version_major": 2,
       "version_minor": 0
      },
      "text/plain": [
       "리뷰수집중:   0%|          | 0/5 [00:00<?, ?it/s]"
      ]
     },
     "metadata": {},
     "output_type": "display_data"
    },
    {
     "name": "stdout",
     "output_type": "stream",
     "text": [
      "\n",
      "86\n",
      "현재 :  우도스토리\n",
      "현재 크롤링이 진행중인 검색어 : 우도스토리\n",
      "펼칠 리뷰가 없다.\n"
     ]
    },
    {
     "data": {
      "application/vnd.jupyter.widget-view+json": {
       "model_id": "00ac20a5974544c7aebf87747b2ab1ad",
       "version_major": 2,
       "version_minor": 0
      },
      "text/plain": [
       "리뷰수집중:   0%|          | 0/5 [00:00<?, ?it/s]"
      ]
     },
     "metadata": {},
     "output_type": "display_data"
    },
    {
     "name": "stdout",
     "output_type": "stream",
     "text": [
      "\n",
      "87\n",
      "현재 :  바코드나인\n",
      "현재 크롤링이 진행중인 검색어 : 바코드나인\n",
      "펼칠 리뷰가 없다.\n",
      "\n",
      "88\n",
      "현재 :  쿠야\n",
      "현재 크롤링이 진행중인 검색어 : 쿠야\n"
     ]
    },
    {
     "data": {
      "application/vnd.jupyter.widget-view+json": {
       "model_id": "64d0d97792d042c7a68f4db41e238862",
       "version_major": 2,
       "version_minor": 0
      },
      "text/plain": [
       "리뷰수집중:   0%|          | 0/11 [00:04<?, ?it/s]"
      ]
     },
     "metadata": {},
     "output_type": "display_data"
    },
    {
     "name": "stdout",
     "output_type": "stream",
     "text": [
      "\n",
      "89\n",
      "현재 :  서촌제한라수목원점\n",
      "현재 크롤링이 진행중인 검색어 : 서촌제한라수목원점\n"
     ]
    },
    {
     "data": {
      "application/vnd.jupyter.widget-view+json": {
       "model_id": "d0a3a88d0a00468e8c186ed84f8f89f7",
       "version_major": 2,
       "version_minor": 0
      },
      "text/plain": [
       "  0%|          | 0/92 [00:00<?, ?it/s]"
      ]
     },
     "metadata": {},
     "output_type": "display_data"
    },
    {
     "data": {
      "application/vnd.jupyter.widget-view+json": {
       "model_id": "b62cd3f3d8a04fdfb650ec99c157c9b4",
       "version_major": 2,
       "version_minor": 0
      },
      "text/plain": [
       "리뷰수집중:   0%|          | 0/445 [00:00<?, ?it/s]"
      ]
     },
     "metadata": {},
     "output_type": "display_data"
    },
    {
     "name": "stdout",
     "output_type": "stream",
     "text": [
      "\n",
      "90\n",
      "현재 :  부산할매아구찜신제주점\n",
      "현재 크롤링이 진행중인 검색어 : 부산할매아구찜신제주점\n"
     ]
    },
    {
     "data": {
      "application/vnd.jupyter.widget-view+json": {
       "model_id": "a26f4792c59e4b259665e3db21cff5db",
       "version_major": 2,
       "version_minor": 0
      },
      "text/plain": [
       "  0%|          | 0/6 [00:00<?, ?it/s]"
      ]
     },
     "metadata": {},
     "output_type": "display_data"
    },
    {
     "data": {
      "application/vnd.jupyter.widget-view+json": {
       "model_id": "4b0fe80cd9614998bae8edb0d19f050e",
       "version_major": 2,
       "version_minor": 0
      },
      "text/plain": [
       "리뷰수집중:   0%|          | 0/47 [00:00<?, ?it/s]"
      ]
     },
     "metadata": {},
     "output_type": "display_data"
    },
    {
     "name": "stdout",
     "output_type": "stream",
     "text": [
      "\n",
      "91\n",
      "현재 :  짱갈비04\n",
      "현재 크롤링이 진행중인 검색어 : 짱갈비04\n"
     ]
    },
    {
     "data": {
      "application/vnd.jupyter.widget-view+json": {
       "model_id": "2c4f5b4cd4f54bdfbb119a39d50b9bdb",
       "version_major": 2,
       "version_minor": 0
      },
      "text/plain": [
       "  0%|          | 0/14 [00:00<?, ?it/s]"
      ]
     },
     "metadata": {},
     "output_type": "display_data"
    },
    {
     "data": {
      "application/vnd.jupyter.widget-view+json": {
       "model_id": "d879901b91d24e99a809df1a7fc6a33d",
       "version_major": 2,
       "version_minor": 0
      },
      "text/plain": [
       "리뷰수집중:   0%|          | 0/88 [00:00<?, ?it/s]"
      ]
     },
     "metadata": {},
     "output_type": "display_data"
    },
    {
     "name": "stdout",
     "output_type": "stream",
     "text": [
      "\n",
      "92\n",
      "현재 :  양푼속닭한마리\n",
      "현재 크롤링이 진행중인 검색어 : 양푼속닭한마리\n"
     ]
    },
    {
     "data": {
      "application/vnd.jupyter.widget-view+json": {
       "model_id": "0a4c38463cbc4c858d3c162f5024221c",
       "version_major": 2,
       "version_minor": 0
      },
      "text/plain": [
       "  0%|          | 0/6 [00:00<?, ?it/s]"
      ]
     },
     "metadata": {},
     "output_type": "display_data"
    },
    {
     "data": {
      "application/vnd.jupyter.widget-view+json": {
       "model_id": "46a8f4f180ee4a24858a33891b3a28d8",
       "version_major": 2,
       "version_minor": 0
      },
      "text/plain": [
       "리뷰수집중:   0%|          | 0/35 [00:00<?, ?it/s]"
      ]
     },
     "metadata": {},
     "output_type": "display_data"
    },
    {
     "name": "stdout",
     "output_type": "stream",
     "text": [
      "\n",
      "93\n",
      "현재 :  형제갈비신제주점\n",
      "현재 크롤링이 진행중인 검색어 : 형제갈비신제주점\n"
     ]
    },
    {
     "data": {
      "application/vnd.jupyter.widget-view+json": {
       "model_id": "5980b4b8c4c446a380e3350378d6cf6a",
       "version_major": 2,
       "version_minor": 0
      },
      "text/plain": [
       "  0%|          | 0/3 [00:00<?, ?it/s]"
      ]
     },
     "metadata": {},
     "output_type": "display_data"
    },
    {
     "data": {
      "application/vnd.jupyter.widget-view+json": {
       "model_id": "efd125bdc57c4f20abe5c30232b69e52",
       "version_major": 2,
       "version_minor": 0
      },
      "text/plain": [
       "리뷰수집중:   0%|          | 0/15 [00:00<?, ?it/s]"
      ]
     },
     "metadata": {},
     "output_type": "display_data"
    },
    {
     "name": "stdout",
     "output_type": "stream",
     "text": [
      "\n",
      "94\n",
      "현재 :  나눔마당\n",
      "현재 크롤링이 진행중인 검색어 : 나눔마당\n",
      "펼칠 리뷰가 없다.\n"
     ]
    },
    {
     "data": {
      "application/vnd.jupyter.widget-view+json": {
       "model_id": "033015059e1e412d96063a285743f107",
       "version_major": 2,
       "version_minor": 0
      },
      "text/plain": [
       "리뷰수집중:   0%|          | 0/3 [00:00<?, ?it/s]"
      ]
     },
     "metadata": {},
     "output_type": "display_data"
    },
    {
     "name": "stdout",
     "output_type": "stream",
     "text": [
      "\n",
      "95\n",
      "현재 :  곰솔과맹개\n",
      "현재 크롤링이 진행중인 검색어 : 곰솔과맹개\n",
      "펼칠 리뷰가 없다.\n"
     ]
    },
    {
     "data": {
      "application/vnd.jupyter.widget-view+json": {
       "model_id": "945126dcea364fe7bfb400661333e6f6",
       "version_major": 2,
       "version_minor": 0
      },
      "text/plain": [
       "리뷰수집중:   0%|          | 0/5 [00:04<?, ?it/s]"
      ]
     },
     "metadata": {},
     "output_type": "display_data"
    },
    {
     "name": "stdout",
     "output_type": "stream",
     "text": [
      "\n",
      "96\n",
      "현재 :  깡부대찌개\n",
      "현재 크롤링이 진행중인 검색어 : 깡부대찌개\n"
     ]
    },
    {
     "data": {
      "application/vnd.jupyter.widget-view+json": {
       "model_id": "9e7a0894264d4a149d473e792dc89eea",
       "version_major": 2,
       "version_minor": 0
      },
      "text/plain": [
       "  0%|          | 0/9 [00:00<?, ?it/s]"
      ]
     },
     "metadata": {},
     "output_type": "display_data"
    },
    {
     "data": {
      "application/vnd.jupyter.widget-view+json": {
       "model_id": "2b5d494e99434d4993650b0a4bbf1c58",
       "version_major": 2,
       "version_minor": 0
      },
      "text/plain": [
       "리뷰수집중:   0%|          | 0/17 [00:00<?, ?it/s]"
      ]
     },
     "metadata": {},
     "output_type": "display_data"
    },
    {
     "name": "stdout",
     "output_type": "stream",
     "text": [
      "\n",
      "97\n",
      "현재 :  헬로우프렌드\n",
      "현재 크롤링이 진행중인 검색어 : 헬로우프렌드\n"
     ]
    },
    {
     "data": {
      "application/vnd.jupyter.widget-view+json": {
       "model_id": "3eb68f3194f147b3a311f043e883ba11",
       "version_major": 2,
       "version_minor": 0
      },
      "text/plain": [
       "  0%|          | 0/3 [00:00<?, ?it/s]"
      ]
     },
     "metadata": {},
     "output_type": "display_data"
    },
    {
     "data": {
      "application/vnd.jupyter.widget-view+json": {
       "model_id": "36b5bb9baa6e42a9bd5dd755b4a9e4ae",
       "version_major": 2,
       "version_minor": 0
      },
      "text/plain": [
       "리뷰수집중:   0%|          | 0/27 [00:00<?, ?it/s]"
      ]
     },
     "metadata": {},
     "output_type": "display_data"
    },
    {
     "name": "stdout",
     "output_type": "stream",
     "text": [
      "\n",
      "98\n",
      "현재 :  코지오베르쥬\n",
      "현재 크롤링이 진행중인 검색어 : 코지오베르쥬\n"
     ]
    },
    {
     "data": {
      "application/vnd.jupyter.widget-view+json": {
       "model_id": "620634aeea284866b0fe821c90404167",
       "version_major": 2,
       "version_minor": 0
      },
      "text/plain": [
       "  0%|          | 0/2 [00:00<?, ?it/s]"
      ]
     },
     "metadata": {},
     "output_type": "display_data"
    },
    {
     "data": {
      "application/vnd.jupyter.widget-view+json": {
       "model_id": "b24e0295e9b54b679aa56984b666d535",
       "version_major": 2,
       "version_minor": 0
      },
      "text/plain": [
       "리뷰수집중:   0%|          | 0/30 [00:00<?, ?it/s]"
      ]
     },
     "metadata": {},
     "output_type": "display_data"
    },
    {
     "name": "stdout",
     "output_type": "stream",
     "text": [
      "\n",
      "99\n",
      "현재 :  신신낙지\n",
      "현재 크롤링이 진행중인 검색어 : 신신낙지\n"
     ]
    },
    {
     "data": {
      "application/vnd.jupyter.widget-view+json": {
       "model_id": "9272bbbd611345d2b6f54a3173c213ac",
       "version_major": 2,
       "version_minor": 0
      },
      "text/plain": [
       "  0%|          | 0/3 [00:00<?, ?it/s]"
      ]
     },
     "metadata": {},
     "output_type": "display_data"
    },
    {
     "data": {
      "application/vnd.jupyter.widget-view+json": {
       "model_id": "491cf71d77ab4d32b1f1266036046b48",
       "version_major": 2,
       "version_minor": 0
      },
      "text/plain": [
       "리뷰수집중:   0%|          | 0/20 [00:00<?, ?it/s]"
      ]
     },
     "metadata": {},
     "output_type": "display_data"
    },
    {
     "name": "stdout",
     "output_type": "stream",
     "text": [
      "\n",
      "100\n",
      "현재 :  심야식당낭만혼술\n",
      "현재 크롤링이 진행중인 검색어 : 심야식당낭만혼술\n"
     ]
    },
    {
     "data": {
      "application/vnd.jupyter.widget-view+json": {
       "model_id": "22dc454ef2f54c08804ad49ab915a16f",
       "version_major": 2,
       "version_minor": 0
      },
      "text/plain": [
       "  0%|          | 0/7 [00:00<?, ?it/s]"
      ]
     },
     "metadata": {},
     "output_type": "display_data"
    },
    {
     "data": {
      "application/vnd.jupyter.widget-view+json": {
       "model_id": "a072ab631fbc4aa79ed304cba1571af2",
       "version_major": 2,
       "version_minor": 0
      },
      "text/plain": [
       "리뷰수집중:   0%|          | 0/30 [00:00<?, ?it/s]"
      ]
     },
     "metadata": {},
     "output_type": "display_data"
    },
    {
     "name": "stdout",
     "output_type": "stream",
     "text": [
      "\n",
      "101\n",
      "현재 :  30년일소추어탕\n",
      "현재 크롤링이 진행중인 검색어 : 30년일소추어탕\n"
     ]
    },
    {
     "data": {
      "application/vnd.jupyter.widget-view+json": {
       "model_id": "3478792e6db9454bb7b65f332f6309c8",
       "version_major": 2,
       "version_minor": 0
      },
      "text/plain": [
       "  0%|          | 0/4 [00:00<?, ?it/s]"
      ]
     },
     "metadata": {},
     "output_type": "display_data"
    },
    {
     "data": {
      "application/vnd.jupyter.widget-view+json": {
       "model_id": "6ecf987b26534c0d90d8a28e9ddbde76",
       "version_major": 2,
       "version_minor": 0
      },
      "text/plain": [
       "리뷰수집중:   0%|          | 0/18 [00:00<?, ?it/s]"
      ]
     },
     "metadata": {},
     "output_type": "display_data"
    },
    {
     "name": "stdout",
     "output_type": "stream",
     "text": [
      "\n",
      "102\n",
      "현재 :  제주섬신룽푸마라탕\n",
      "현재 크롤링이 진행중인 검색어 : 제주섬신룽푸마라탕\n"
     ]
    },
    {
     "data": {
      "application/vnd.jupyter.widget-view+json": {
       "model_id": "590e4a97034a40cbb84d8c465fa18f19",
       "version_major": 2,
       "version_minor": 0
      },
      "text/plain": [
       "  0%|          | 0/19 [00:00<?, ?it/s]"
      ]
     },
     "metadata": {},
     "output_type": "display_data"
    },
    {
     "data": {
      "application/vnd.jupyter.widget-view+json": {
       "model_id": "fc86edeed4f743988e06da6f3dc8eac0",
       "version_major": 2,
       "version_minor": 0
      },
      "text/plain": [
       "리뷰수집중:   0%|          | 0/159 [00:00<?, ?it/s]"
      ]
     },
     "metadata": {},
     "output_type": "display_data"
    },
    {
     "name": "stdout",
     "output_type": "stream",
     "text": [
      "\n",
      "103\n",
      "현재 :  야식돼지\n",
      "현재 크롤링이 진행중인 검색어 : 야식돼지\n",
      "펼칠 리뷰가 없다.\n",
      "\n",
      "104\n",
      "현재 :  청송도시락식당\n",
      "현재 크롤링이 진행중인 검색어 : 청송도시락식당\n",
      "펼칠 리뷰가 없다.\n",
      "\n",
      "105\n",
      "현재 :  위아굿프렌즈\n",
      "현재 크롤링이 진행중인 검색어 : 위아굿프렌즈\n",
      "펼칠 리뷰가 없다.\n",
      "\n",
      "106\n",
      "현재 :  아주좋아\n",
      "현재 크롤링이 진행중인 검색어 : 아주좋아\n"
     ]
    },
    {
     "data": {
      "application/vnd.jupyter.widget-view+json": {
       "model_id": "0579d658568a490d83d40d70cf973ea0",
       "version_major": 2,
       "version_minor": 0
      },
      "text/plain": [
       "  0%|          | 0/14 [00:00<?, ?it/s]"
      ]
     },
     "metadata": {},
     "output_type": "display_data"
    },
    {
     "data": {
      "application/vnd.jupyter.widget-view+json": {
       "model_id": "ca2a68b8938347d88a656a8819817a0b",
       "version_major": 2,
       "version_minor": 0
      },
      "text/plain": [
       "리뷰수집중:   0%|          | 0/87 [00:00<?, ?it/s]"
      ]
     },
     "metadata": {},
     "output_type": "display_data"
    },
    {
     "name": "stdout",
     "output_type": "stream",
     "text": [
      "\n",
      "107\n",
      "현재 :  죽이야기제주연동점\n",
      "현재 크롤링이 진행중인 검색어 : 죽이야기제주연동점\n"
     ]
    },
    {
     "data": {
      "application/vnd.jupyter.widget-view+json": {
       "model_id": "f97d39e0b2bd43cd97caef259c54c2d0",
       "version_major": 2,
       "version_minor": 0
      },
      "text/plain": [
       "  0%|          | 0/1 [00:00<?, ?it/s]"
      ]
     },
     "metadata": {},
     "output_type": "display_data"
    },
    {
     "data": {
      "application/vnd.jupyter.widget-view+json": {
       "model_id": "36e11b5f39b24645bffb094221de591a",
       "version_major": 2,
       "version_minor": 0
      },
      "text/plain": [
       "리뷰수집중:   0%|          | 0/39 [00:00<?, ?it/s]"
      ]
     },
     "metadata": {},
     "output_type": "display_data"
    },
    {
     "name": "stdout",
     "output_type": "stream",
     "text": [
      "\n",
      "108\n",
      "현재 :  규방\n",
      "현재 크롤링이 진행중인 검색어 : 규방\n",
      "펼칠 리뷰가 없다.\n"
     ]
    },
    {
     "data": {
      "application/vnd.jupyter.widget-view+json": {
       "model_id": "2bd089b42efc440cb3d914daf851c840",
       "version_major": 2,
       "version_minor": 0
      },
      "text/plain": [
       "  0%|          | 0/1 [00:00<?, ?it/s]"
      ]
     },
     "metadata": {},
     "output_type": "display_data"
    },
    {
     "data": {
      "application/vnd.jupyter.widget-view+json": {
       "model_id": "f0485956c0e24c2da40eaa74f9a853b9",
       "version_major": 2,
       "version_minor": 0
      },
      "text/plain": [
       "리뷰수집중:   0%|          | 0/4 [00:00<?, ?it/s]"
      ]
     },
     "metadata": {},
     "output_type": "display_data"
    },
    {
     "name": "stdout",
     "output_type": "stream",
     "text": [
      "\n",
      "109\n",
      "현재 :  달소금\n",
      "현재 크롤링이 진행중인 검색어 : 달소금\n",
      "펼칠 리뷰가 없다.\n"
     ]
    },
    {
     "data": {
      "application/vnd.jupyter.widget-view+json": {
       "model_id": "a5b878251be34277b0c52d29ecd50cf5",
       "version_major": 2,
       "version_minor": 0
      },
      "text/plain": [
       "리뷰수집중:   0%|          | 0/8 [00:00<?, ?it/s]"
      ]
     },
     "metadata": {},
     "output_type": "display_data"
    },
    {
     "name": "stdout",
     "output_type": "stream",
     "text": [
      "\n",
      "110\n",
      "현재 :  쁠리\n",
      "현재 크롤링이 진행중인 검색어 : 쁠리\n",
      "펼칠 리뷰가 없다.\n",
      "\n",
      "111\n",
      "현재 :  이화닭발1979\n",
      "현재 크롤링이 진행중인 검색어 : 이화닭발1979\n"
     ]
    },
    {
     "data": {
      "application/vnd.jupyter.widget-view+json": {
       "model_id": "cff03dff522142a9b22bb5df50275108",
       "version_major": 2,
       "version_minor": 0
      },
      "text/plain": [
       "  0%|          | 0/9 [00:04<?, ?it/s]"
      ]
     },
     "metadata": {},
     "output_type": "display_data"
    },
    {
     "data": {
      "application/vnd.jupyter.widget-view+json": {
       "model_id": "10517f980cc046359245149efc3e97e3",
       "version_major": 2,
       "version_minor": 0
      },
      "text/plain": [
       "리뷰수집중:   0%|          | 0/41 [00:00<?, ?it/s]"
      ]
     },
     "metadata": {},
     "output_type": "display_data"
    },
    {
     "name": "stdout",
     "output_type": "stream",
     "text": [
      "\n",
      "112\n",
      "현재 :  옥이네복돼지\n",
      "현재 크롤링이 진행중인 검색어 : 옥이네복돼지\n"
     ]
    },
    {
     "data": {
      "application/vnd.jupyter.widget-view+json": {
       "model_id": "bf64ed590ea7445abe7eedb142e54b3e",
       "version_major": 2,
       "version_minor": 0
      },
      "text/plain": [
       "  0%|          | 0/9 [00:00<?, ?it/s]"
      ]
     },
     "metadata": {},
     "output_type": "display_data"
    },
    {
     "data": {
      "application/vnd.jupyter.widget-view+json": {
       "model_id": "217fc0f98c8649bcafc974dedf672b49",
       "version_major": 2,
       "version_minor": 0
      },
      "text/plain": [
       "리뷰수집중:   0%|          | 0/30 [00:00<?, ?it/s]"
      ]
     },
     "metadata": {},
     "output_type": "display_data"
    },
    {
     "name": "stdout",
     "output_type": "stream",
     "text": [
      "\n",
      "113\n",
      "현재 :  호맥\n",
      "현재 크롤링이 진행중인 검색어 : 호맥\n"
     ]
    },
    {
     "data": {
      "application/vnd.jupyter.widget-view+json": {
       "model_id": "78962fe9e67b44c687ac17e54105cc01",
       "version_major": 2,
       "version_minor": 0
      },
      "text/plain": [
       "  0%|          | 0/5 [00:00<?, ?it/s]"
      ]
     },
     "metadata": {},
     "output_type": "display_data"
    },
    {
     "data": {
      "application/vnd.jupyter.widget-view+json": {
       "model_id": "ed08bd3497434bac89517c0739c4b5dd",
       "version_major": 2,
       "version_minor": 0
      },
      "text/plain": [
       "리뷰수집중:   0%|          | 0/35 [00:00<?, ?it/s]"
      ]
     },
     "metadata": {},
     "output_type": "display_data"
    },
    {
     "name": "stdout",
     "output_type": "stream",
     "text": [
      "\n",
      "114\n",
      "현재 :  서울뚝배기\n",
      "현재 크롤링이 진행중인 검색어 : 서울뚝배기\n"
     ]
    },
    {
     "data": {
      "application/vnd.jupyter.widget-view+json": {
       "model_id": "883cfa62fd1c42d1b3b2337e9435e637",
       "version_major": 2,
       "version_minor": 0
      },
      "text/plain": [
       "  0%|          | 0/9 [00:00<?, ?it/s]"
      ]
     },
     "metadata": {},
     "output_type": "display_data"
    },
    {
     "data": {
      "application/vnd.jupyter.widget-view+json": {
       "model_id": "ea57608dc3ed49cba4f2bcc91e002da2",
       "version_major": 2,
       "version_minor": 0
      },
      "text/plain": [
       "리뷰수집중:   0%|          | 0/68 [00:00<?, ?it/s]"
      ]
     },
     "metadata": {},
     "output_type": "display_data"
    },
    {
     "name": "stdout",
     "output_type": "stream",
     "text": [
      "\n",
      "115\n",
      "현재 :  추억의쉘부르\n",
      "현재 크롤링이 진행중인 검색어 : 추억의쉘부르\n",
      "펼칠 리뷰가 없다.\n"
     ]
    },
    {
     "data": {
      "application/vnd.jupyter.widget-view+json": {
       "model_id": "60366b1f677343d5b90ca1beeea46581",
       "version_major": 2,
       "version_minor": 0
      },
      "text/plain": [
       "리뷰수집중:   0%|          | 0/10 [00:00<?, ?it/s]"
      ]
     },
     "metadata": {},
     "output_type": "display_data"
    },
    {
     "name": "stdout",
     "output_type": "stream",
     "text": [
      "\n",
      "116\n",
      "현재 :  옥희연동점\n",
      "현재 크롤링이 진행중인 검색어 : 옥희연동점\n",
      "펼칠 리뷰가 없다.\n"
     ]
    },
    {
     "data": {
      "application/vnd.jupyter.widget-view+json": {
       "model_id": "23cea309c50b49fe8244857498419f3d",
       "version_major": 2,
       "version_minor": 0
      },
      "text/plain": [
       "리뷰수집중:   0%|          | 0/4 [00:04<?, ?it/s]"
      ]
     },
     "metadata": {},
     "output_type": "display_data"
    },
    {
     "name": "stdout",
     "output_type": "stream",
     "text": [
      "\n",
      "117\n",
      "현재 :  신제주연동\n",
      "현재 크롤링이 진행중인 검색어 : 신제주연동\n"
     ]
    },
    {
     "data": {
      "application/vnd.jupyter.widget-view+json": {
       "model_id": "3f873e8073f64193aee27b9621992218",
       "version_major": 2,
       "version_minor": 0
      },
      "text/plain": [
       "  0%|          | 0/3 [00:00<?, ?it/s]"
      ]
     },
     "metadata": {},
     "output_type": "display_data"
    },
    {
     "data": {
      "application/vnd.jupyter.widget-view+json": {
       "model_id": "eb00bbaa67094f1d9215f64183c55e4d",
       "version_major": 2,
       "version_minor": 0
      },
      "text/plain": [
       "리뷰수집중:   0%|          | 0/118 [00:28<?, ?it/s]"
      ]
     },
     "metadata": {},
     "output_type": "display_data"
    },
    {
     "name": "stdout",
     "output_type": "stream",
     "text": [
      "\n",
      "118\n",
      "현재 :  황가네뚝배기\n",
      "현재 크롤링이 진행중인 검색어 : 황가네뚝배기\n"
     ]
    },
    {
     "data": {
      "application/vnd.jupyter.widget-view+json": {
       "model_id": "939b173e34734da1b137999080793220",
       "version_major": 2,
       "version_minor": 0
      },
      "text/plain": [
       "  0%|          | 0/26 [00:00<?, ?it/s]"
      ]
     },
     "metadata": {},
     "output_type": "display_data"
    },
    {
     "data": {
      "application/vnd.jupyter.widget-view+json": {
       "model_id": "fb1490bcdfe541faaf4ae97d1fb597e0",
       "version_major": 2,
       "version_minor": 0
      },
      "text/plain": [
       "리뷰수집중:   0%|          | 0/122 [00:00<?, ?it/s]"
      ]
     },
     "metadata": {},
     "output_type": "display_data"
    },
    {
     "name": "stdout",
     "output_type": "stream",
     "text": [
      "\n",
      "119\n",
      "현재 :  정박사본점\n",
      "현재 크롤링이 진행중인 검색어 : 정박사본점\n",
      "펼칠 리뷰가 없다.\n"
     ]
    },
    {
     "data": {
      "application/vnd.jupyter.widget-view+json": {
       "model_id": "ec5b87f028364aacb4ce02015f94d161",
       "version_major": 2,
       "version_minor": 0
      },
      "text/plain": [
       "리뷰수집중:   0%|          | 0/5 [00:00<?, ?it/s]"
      ]
     },
     "metadata": {},
     "output_type": "display_data"
    },
    {
     "name": "stdout",
     "output_type": "stream",
     "text": [
      "\n",
      "120\n",
      "현재 :  키로\n",
      "현재 크롤링이 진행중인 검색어 : 키로\n"
     ]
    },
    {
     "data": {
      "application/vnd.jupyter.widget-view+json": {
       "model_id": "2939c098e0dc4c50ab4f242a12930482",
       "version_major": 2,
       "version_minor": 0
      },
      "text/plain": [
       "  0%|          | 0/17 [00:04<?, ?it/s]"
      ]
     },
     "metadata": {},
     "output_type": "display_data"
    },
    {
     "data": {
      "application/vnd.jupyter.widget-view+json": {
       "model_id": "94a3944a0c80416eaeb505adc789d47f",
       "version_major": 2,
       "version_minor": 0
      },
      "text/plain": [
       "리뷰수집중:   0%|          | 0/35 [00:00<?, ?it/s]"
      ]
     },
     "metadata": {},
     "output_type": "display_data"
    },
    {
     "name": "stdout",
     "output_type": "stream",
     "text": [
      "\n",
      "121\n",
      "현재 :  일공공샤브제주연동점\n",
      "현재 크롤링이 진행중인 검색어 : 일공공샤브제주연동점\n"
     ]
    },
    {
     "data": {
      "application/vnd.jupyter.widget-view+json": {
       "model_id": "8b6f642481af40d3943b442022293bad",
       "version_major": 2,
       "version_minor": 0
      },
      "text/plain": [
       "  0%|          | 0/40 [00:00<?, ?it/s]"
      ]
     },
     "metadata": {},
     "output_type": "display_data"
    },
    {
     "data": {
      "application/vnd.jupyter.widget-view+json": {
       "model_id": "6c4257596338464d9000cdbf04ef7c40",
       "version_major": 2,
       "version_minor": 0
      },
      "text/plain": [
       "리뷰수집중:   0%|          | 0/136 [00:00<?, ?it/s]"
      ]
     },
     "metadata": {},
     "output_type": "display_data"
    },
    {
     "name": "stdout",
     "output_type": "stream",
     "text": [
      "\n",
      "122\n",
      "현재 :  그린기사\n",
      "현재 크롤링이 진행중인 검색어 : 그린기사\n"
     ]
    },
    {
     "data": {
      "application/vnd.jupyter.widget-view+json": {
       "model_id": "ac0528e0244f47b0bf8742ad16ec9e47",
       "version_major": 2,
       "version_minor": 0
      },
      "text/plain": [
       "  0%|          | 0/8 [00:00<?, ?it/s]"
      ]
     },
     "metadata": {},
     "output_type": "display_data"
    },
    {
     "data": {
      "application/vnd.jupyter.widget-view+json": {
       "model_id": "36193b3c2549402abfea39557fe349e5",
       "version_major": 2,
       "version_minor": 0
      },
      "text/plain": [
       "리뷰수집중:   0%|          | 0/71 [00:00<?, ?it/s]"
      ]
     },
     "metadata": {},
     "output_type": "display_data"
    },
    {
     "name": "stdout",
     "output_type": "stream",
     "text": [
      "\n",
      "123\n",
      "현재 :  신대로12길\n",
      "현재 크롤링이 진행중인 검색어 : 신대로12길\n"
     ]
    },
    {
     "data": {
      "application/vnd.jupyter.widget-view+json": {
       "model_id": "574df06af1104edfacd2dfebb915311e",
       "version_major": 2,
       "version_minor": 0
      },
      "text/plain": [
       "  0%|          | 0/2 [00:00<?, ?it/s]"
      ]
     },
     "metadata": {},
     "output_type": "display_data"
    },
    {
     "data": {
      "application/vnd.jupyter.widget-view+json": {
       "model_id": "f105234516de46b28552831255da0f8a",
       "version_major": 2,
       "version_minor": 0
      },
      "text/plain": [
       "리뷰수집중:   0%|          | 0/21 [00:00<?, ?it/s]"
      ]
     },
     "metadata": {},
     "output_type": "display_data"
    },
    {
     "name": "stdout",
     "output_type": "stream",
     "text": [
      "\n",
      "124\n",
      "현재 :  술한상\n",
      "현재 크롤링이 진행중인 검색어 : 술한상\n"
     ]
    },
    {
     "data": {
      "application/vnd.jupyter.widget-view+json": {
       "model_id": "c43b86a3e57a485886462a213ba23819",
       "version_major": 2,
       "version_minor": 0
      },
      "text/plain": [
       "  0%|          | 0/6 [00:00<?, ?it/s]"
      ]
     },
     "metadata": {},
     "output_type": "display_data"
    },
    {
     "data": {
      "application/vnd.jupyter.widget-view+json": {
       "model_id": "bfecb860e657456b83e010493ba64247",
       "version_major": 2,
       "version_minor": 0
      },
      "text/plain": [
       "리뷰수집중:   0%|          | 0/20 [00:00<?, ?it/s]"
      ]
     },
     "metadata": {},
     "output_type": "display_data"
    },
    {
     "name": "stdout",
     "output_type": "stream",
     "text": [
      "\n",
      "125\n",
      "현재 :  킹흑돼지\n",
      "현재 크롤링이 진행중인 검색어 : 킹흑돼지\n",
      "펼칠 리뷰가 없다.\n"
     ]
    },
    {
     "data": {
      "application/vnd.jupyter.widget-view+json": {
       "model_id": "b8dff076eb1a462d8b167d42c7aa1f49",
       "version_major": 2,
       "version_minor": 0
      },
      "text/plain": [
       "리뷰수집중:   0%|          | 0/5 [00:00<?, ?it/s]"
      ]
     },
     "metadata": {},
     "output_type": "display_data"
    },
    {
     "name": "stdout",
     "output_type": "stream",
     "text": [
      "\n",
      "126\n",
      "현재 :  창석이네\n",
      "현재 크롤링이 진행중인 검색어 : 창석이네\n",
      "펼칠 리뷰가 없다.\n"
     ]
    },
    {
     "data": {
      "application/vnd.jupyter.widget-view+json": {
       "model_id": "b8ea2eb5fb9d4eafae85980e5d3f61af",
       "version_major": 2,
       "version_minor": 0
      },
      "text/plain": [
       "리뷰수집중:   0%|          | 0/4 [00:04<?, ?it/s]"
      ]
     },
     "metadata": {},
     "output_type": "display_data"
    },
    {
     "name": "stdout",
     "output_type": "stream",
     "text": [
      "\n",
      "127\n",
      "현재 :  귀아낭\n",
      "현재 크롤링이 진행중인 검색어 : 귀아낭\n",
      "펼칠 리뷰가 없다.\n",
      "\n",
      "128\n",
      "현재 :  로우허판\n",
      "현재 크롤링이 진행중인 검색어 : 로우허판\n"
     ]
    },
    {
     "data": {
      "application/vnd.jupyter.widget-view+json": {
       "model_id": "44fe99a8468745ec85be29f1823770f0",
       "version_major": 2,
       "version_minor": 0
      },
      "text/plain": [
       "  0%|          | 0/3 [00:00<?, ?it/s]"
      ]
     },
     "metadata": {},
     "output_type": "display_data"
    },
    {
     "data": {
      "application/vnd.jupyter.widget-view+json": {
       "model_id": "9534b2efc539415facd91e3712c28743",
       "version_major": 2,
       "version_minor": 0
      },
      "text/plain": [
       "리뷰수집중:   0%|          | 0/28 [00:00<?, ?it/s]"
      ]
     },
     "metadata": {},
     "output_type": "display_data"
    },
    {
     "name": "stdout",
     "output_type": "stream",
     "text": [
      "\n",
      "129\n",
      "현재 :  금자매포차\n",
      "현재 크롤링이 진행중인 검색어 : 금자매포차\n",
      "펼칠 리뷰가 없다.\n",
      "\n",
      "130\n",
      "현재 :  라운딩\n",
      "현재 크롤링이 진행중인 검색어 : 라운딩\n",
      "펼칠 리뷰가 없다.\n",
      "\n",
      "131\n",
      "현재 :  투다리노형점\n",
      "현재 크롤링이 진행중인 검색어 : 투다리노형점\n"
     ]
    },
    {
     "data": {
      "application/vnd.jupyter.widget-view+json": {
       "model_id": "d693a8a0daa4404d96361d5f57d8e0fb",
       "version_major": 2,
       "version_minor": 0
      },
      "text/plain": [
       "  0%|          | 0/2 [00:00<?, ?it/s]"
      ]
     },
     "metadata": {},
     "output_type": "display_data"
    },
    {
     "data": {
      "application/vnd.jupyter.widget-view+json": {
       "model_id": "e3470de9bcb24a7a887fbdf3d9475d48",
       "version_major": 2,
       "version_minor": 0
      },
      "text/plain": [
       "리뷰수집중:   0%|          | 0/18 [00:00<?, ?it/s]"
      ]
     },
     "metadata": {},
     "output_type": "display_data"
    },
    {
     "name": "stdout",
     "output_type": "stream",
     "text": [
      "\n",
      "132\n",
      "현재 :  엉아크랩쭈이빵\n",
      "현재 크롤링이 진행중인 검색어 : 엉아크랩쭈이빵\n"
     ]
    },
    {
     "data": {
      "application/vnd.jupyter.widget-view+json": {
       "model_id": "0cb2016eee0a4dc3b7a699e7c66b78fe",
       "version_major": 2,
       "version_minor": 0
      },
      "text/plain": [
       "  0%|          | 0/27 [00:00<?, ?it/s]"
      ]
     },
     "metadata": {},
     "output_type": "display_data"
    },
    {
     "data": {
      "application/vnd.jupyter.widget-view+json": {
       "model_id": "d1f8016ee8114797afbea536b608d776",
       "version_major": 2,
       "version_minor": 0
      },
      "text/plain": [
       "리뷰수집중:   0%|          | 0/75 [00:00<?, ?it/s]"
      ]
     },
     "metadata": {},
     "output_type": "display_data"
    },
    {
     "name": "stdout",
     "output_type": "stream",
     "text": [
      "\n",
      "133\n",
      "현재 :  줌마식당\n",
      "현재 크롤링이 진행중인 검색어 : 줌마식당\n"
     ]
    },
    {
     "data": {
      "application/vnd.jupyter.widget-view+json": {
       "model_id": "3205fde43a1c403da0146266fbb564dd",
       "version_major": 2,
       "version_minor": 0
      },
      "text/plain": [
       "  0%|          | 0/2 [00:00<?, ?it/s]"
      ]
     },
     "metadata": {},
     "output_type": "display_data"
    },
    {
     "data": {
      "application/vnd.jupyter.widget-view+json": {
       "model_id": "9a2b40d75d6d463b95331dacf14b3203",
       "version_major": 2,
       "version_minor": 0
      },
      "text/plain": [
       "리뷰수집중:   0%|          | 0/33 [00:00<?, ?it/s]"
      ]
     },
     "metadata": {},
     "output_type": "display_data"
    },
    {
     "name": "stdout",
     "output_type": "stream",
     "text": [
      "\n",
      "134\n",
      "현재 :  정직한통닭코스모스점\n",
      "현재 크롤링이 진행중인 검색어 : 정직한통닭코스모스점\n"
     ]
    },
    {
     "data": {
      "application/vnd.jupyter.widget-view+json": {
       "model_id": "193ad7b98b4d408598d77b1a3b295b20",
       "version_major": 2,
       "version_minor": 0
      },
      "text/plain": [
       "  0%|          | 0/2 [00:00<?, ?it/s]"
      ]
     },
     "metadata": {},
     "output_type": "display_data"
    },
    {
     "data": {
      "application/vnd.jupyter.widget-view+json": {
       "model_id": "cdf58783298b4750adac5ae9ccb3ddf3",
       "version_major": 2,
       "version_minor": 0
      },
      "text/plain": [
       "리뷰수집중:   0%|          | 0/14 [00:00<?, ?it/s]"
      ]
     },
     "metadata": {},
     "output_type": "display_data"
    },
    {
     "name": "stdout",
     "output_type": "stream",
     "text": [
      "\n",
      "135\n",
      "현재 :  소문난먹거리\n",
      "현재 크롤링이 진행중인 검색어 : 소문난먹거리\n",
      "펼칠 리뷰가 없다.\n"
     ]
    },
    {
     "data": {
      "application/vnd.jupyter.widget-view+json": {
       "model_id": "18c1837fb97744738e872dcf6dfe3b38",
       "version_major": 2,
       "version_minor": 0
      },
      "text/plain": [
       "  0%|          | 0/1 [00:00<?, ?it/s]"
      ]
     },
     "metadata": {},
     "output_type": "display_data"
    },
    {
     "data": {
      "application/vnd.jupyter.widget-view+json": {
       "model_id": "5d678bfe1e014cd5bd8168dbd044e3a7",
       "version_major": 2,
       "version_minor": 0
      },
      "text/plain": [
       "리뷰수집중:   0%|          | 0/9 [00:00<?, ?it/s]"
      ]
     },
     "metadata": {},
     "output_type": "display_data"
    },
    {
     "name": "stdout",
     "output_type": "stream",
     "text": [
      "\n",
      "136\n",
      "현재 :  연동누룽지\n",
      "현재 크롤링이 진행중인 검색어 : 연동누룽지\n"
     ]
    },
    {
     "data": {
      "application/vnd.jupyter.widget-view+json": {
       "model_id": "eec90a0645cf4639bffddb64ede1bfef",
       "version_major": 2,
       "version_minor": 0
      },
      "text/plain": [
       "  0%|          | 0/6 [00:00<?, ?it/s]"
      ]
     },
     "metadata": {},
     "output_type": "display_data"
    },
    {
     "data": {
      "application/vnd.jupyter.widget-view+json": {
       "model_id": "79f9d2238200403794533cad20421551",
       "version_major": 2,
       "version_minor": 0
      },
      "text/plain": [
       "리뷰수집중:   0%|          | 0/62 [00:00<?, ?it/s]"
      ]
     },
     "metadata": {},
     "output_type": "display_data"
    },
    {
     "name": "stdout",
     "output_type": "stream",
     "text": [
      "\n",
      "137\n",
      "현재 :  배두리광장\n",
      "현재 크롤링이 진행중인 검색어 : 배두리광장\n"
     ]
    },
    {
     "data": {
      "application/vnd.jupyter.widget-view+json": {
       "model_id": "eb387540604d43dbafac88531a3abab8",
       "version_major": 2,
       "version_minor": 0
      },
      "text/plain": [
       "  0%|          | 0/15 [00:00<?, ?it/s]"
      ]
     },
     "metadata": {},
     "output_type": "display_data"
    },
    {
     "data": {
      "application/vnd.jupyter.widget-view+json": {
       "model_id": "c81c3fbd6263480686ea8f2788f452c7",
       "version_major": 2,
       "version_minor": 0
      },
      "text/plain": [
       "리뷰수집중:   0%|          | 0/101 [00:00<?, ?it/s]"
      ]
     },
     "metadata": {},
     "output_type": "display_data"
    },
    {
     "name": "stdout",
     "output_type": "stream",
     "text": [
      "\n",
      "138\n",
      "현재 :  아삼육\n",
      "현재 크롤링이 진행중인 검색어 : 아삼육\n"
     ]
    },
    {
     "data": {
      "application/vnd.jupyter.widget-view+json": {
       "model_id": "cdf8ff59352a48bebe4e3b08dfe61639",
       "version_major": 2,
       "version_minor": 0
      },
      "text/plain": [
       "  0%|          | 0/3 [00:00<?, ?it/s]"
      ]
     },
     "metadata": {},
     "output_type": "display_data"
    },
    {
     "data": {
      "application/vnd.jupyter.widget-view+json": {
       "model_id": "6334ad9c75d14cb28e74aecfb92d848d",
       "version_major": 2,
       "version_minor": 0
      },
      "text/plain": [
       "리뷰수집중:   0%|          | 0/21 [00:00<?, ?it/s]"
      ]
     },
     "metadata": {},
     "output_type": "display_data"
    },
    {
     "name": "stdout",
     "output_type": "stream",
     "text": [
      "\n",
      "139\n",
      "현재 :  한라생얼큰이연동점\n",
      "현재 크롤링이 진행중인 검색어 : 한라생얼큰이연동점\n"
     ]
    },
    {
     "data": {
      "application/vnd.jupyter.widget-view+json": {
       "model_id": "700830eb8800459ab7a0d27cb8a4190e",
       "version_major": 2,
       "version_minor": 0
      },
      "text/plain": [
       "  0%|          | 0/6 [00:00<?, ?it/s]"
      ]
     },
     "metadata": {},
     "output_type": "display_data"
    },
    {
     "data": {
      "application/vnd.jupyter.widget-view+json": {
       "model_id": "01272368ec024566807f34a06a13845e",
       "version_major": 2,
       "version_minor": 0
      },
      "text/plain": [
       "리뷰수집중:   0%|          | 0/16 [00:00<?, ?it/s]"
      ]
     },
     "metadata": {},
     "output_type": "display_data"
    },
    {
     "name": "stdout",
     "output_type": "stream",
     "text": [
      "\n",
      "140\n",
      "현재 :  전주콩나루콩나물국밥신제주점\n",
      "현재 크롤링이 진행중인 검색어 : 전주콩나루콩나물국밥신제주점\n"
     ]
    },
    {
     "data": {
      "application/vnd.jupyter.widget-view+json": {
       "model_id": "f3c4d9b9e032473992e18f287e6762cd",
       "version_major": 2,
       "version_minor": 0
      },
      "text/plain": [
       "  0%|          | 0/4 [00:00<?, ?it/s]"
      ]
     },
     "metadata": {},
     "output_type": "display_data"
    },
    {
     "data": {
      "application/vnd.jupyter.widget-view+json": {
       "model_id": "75a19bc407a3462ebe35a596dbe488ba",
       "version_major": 2,
       "version_minor": 0
      },
      "text/plain": [
       "리뷰수집중:   0%|          | 0/61 [00:00<?, ?it/s]"
      ]
     },
     "metadata": {},
     "output_type": "display_data"
    },
    {
     "name": "stdout",
     "output_type": "stream",
     "text": [
      "\n",
      "141\n",
      "현재 :  다미순대\n",
      "현재 크롤링이 진행중인 검색어 : 다미순대\n"
     ]
    },
    {
     "data": {
      "application/vnd.jupyter.widget-view+json": {
       "model_id": "21ca59f14d97484b9516bbad3f1536ab",
       "version_major": 2,
       "version_minor": 0
      },
      "text/plain": [
       "  0%|          | 0/2 [00:00<?, ?it/s]"
      ]
     },
     "metadata": {},
     "output_type": "display_data"
    },
    {
     "data": {
      "application/vnd.jupyter.widget-view+json": {
       "model_id": "bf5bf90b97d946fca8a4a2bfb06a16ad",
       "version_major": 2,
       "version_minor": 0
      },
      "text/plain": [
       "리뷰수집중:   0%|          | 0/12 [00:00<?, ?it/s]"
      ]
     },
     "metadata": {},
     "output_type": "display_data"
    },
    {
     "name": "stdout",
     "output_type": "stream",
     "text": [
      "\n",
      "142\n",
      "현재 :  미복\n",
      "현재 크롤링이 진행중인 검색어 : 미복\n"
     ]
    },
    {
     "data": {
      "application/vnd.jupyter.widget-view+json": {
       "model_id": "7136788059d94b36b7767a2e62c3ad03",
       "version_major": 2,
       "version_minor": 0
      },
      "text/plain": [
       "  0%|          | 0/6 [00:00<?, ?it/s]"
      ]
     },
     "metadata": {},
     "output_type": "display_data"
    },
    {
     "data": {
      "application/vnd.jupyter.widget-view+json": {
       "model_id": "6c721bcefad64815954f3372c6bd9578",
       "version_major": 2,
       "version_minor": 0
      },
      "text/plain": [
       "리뷰수집중:   0%|          | 0/18 [00:00<?, ?it/s]"
      ]
     },
     "metadata": {},
     "output_type": "display_data"
    },
    {
     "name": "stdout",
     "output_type": "stream",
     "text": [
      "\n",
      "143\n",
      "현재 :  김명자굴국밥\n",
      "현재 크롤링이 진행중인 검색어 : 김명자굴국밥\n"
     ]
    },
    {
     "data": {
      "application/vnd.jupyter.widget-view+json": {
       "model_id": "4ef63ac171c943c2b7c460e94b25e50d",
       "version_major": 2,
       "version_minor": 0
      },
      "text/plain": [
       "  0%|          | 0/20 [00:00<?, ?it/s]"
      ]
     },
     "metadata": {},
     "output_type": "display_data"
    },
    {
     "data": {
      "application/vnd.jupyter.widget-view+json": {
       "model_id": "a008ebca5c6945e1af277853b69cd3db",
       "version_major": 2,
       "version_minor": 0
      },
      "text/plain": [
       "리뷰수집중:   0%|          | 0/171 [00:00<?, ?it/s]"
      ]
     },
     "metadata": {},
     "output_type": "display_data"
    },
    {
     "name": "stdout",
     "output_type": "stream",
     "text": [
      "\n",
      "144\n",
      "현재 :  신농\n",
      "현재 크롤링이 진행중인 검색어 : 신농\n"
     ]
    },
    {
     "data": {
      "application/vnd.jupyter.widget-view+json": {
       "model_id": "c8d4972342cb434f93315d91d19511ea",
       "version_major": 2,
       "version_minor": 0
      },
      "text/plain": [
       "  0%|          | 0/1 [00:00<?, ?it/s]"
      ]
     },
     "metadata": {},
     "output_type": "display_data"
    },
    {
     "data": {
      "application/vnd.jupyter.widget-view+json": {
       "model_id": "36b404812e604660a0a5847acd38db17",
       "version_major": 2,
       "version_minor": 0
      },
      "text/plain": [
       "리뷰수집중:   0%|          | 0/11 [00:00<?, ?it/s]"
      ]
     },
     "metadata": {},
     "output_type": "display_data"
    },
    {
     "name": "stdout",
     "output_type": "stream",
     "text": [
      "\n",
      "145\n",
      "현재 :  국수만찬\n",
      "현재 크롤링이 진행중인 검색어 : 국수만찬\n"
     ]
    },
    {
     "data": {
      "application/vnd.jupyter.widget-view+json": {
       "model_id": "3c9926b86b0b4de59d7225399bc1d9b2",
       "version_major": 2,
       "version_minor": 0
      },
      "text/plain": [
       "  0%|          | 0/171 [00:00<?, ?it/s]"
      ]
     },
     "metadata": {},
     "output_type": "display_data"
    },
    {
     "data": {
      "application/vnd.jupyter.widget-view+json": {
       "model_id": "b6aac6331d014b788f22be9a83503055",
       "version_major": 2,
       "version_minor": 0
      },
      "text/plain": [
       "리뷰수집중:   0%|          | 0/728 [00:00<?, ?it/s]"
      ]
     },
     "metadata": {},
     "output_type": "display_data"
    },
    {
     "name": "stdout",
     "output_type": "stream",
     "text": [
      "\n",
      "146\n",
      "현재 :  토크쇼연동2호점\n",
      "현재 크롤링이 진행중인 검색어 : 토크쇼연동2호점\n",
      "펼칠 리뷰가 없다.\n"
     ]
    },
    {
     "data": {
      "application/vnd.jupyter.widget-view+json": {
       "model_id": "e58566de727c46b1aca140fd6203daf6",
       "version_major": 2,
       "version_minor": 0
      },
      "text/plain": [
       "리뷰수집중:   0%|          | 0/13 [00:00<?, ?it/s]"
      ]
     },
     "metadata": {},
     "output_type": "display_data"
    },
    {
     "name": "stdout",
     "output_type": "stream",
     "text": [
      "\n",
      "147\n",
      "현재 :  참좋다\n",
      "현재 크롤링이 진행중인 검색어 : 참좋다\n",
      "펼칠 리뷰가 없다.\n"
     ]
    },
    {
     "data": {
      "application/vnd.jupyter.widget-view+json": {
       "model_id": "ec920fa1fbe74e1c8b240d225d1cb263",
       "version_major": 2,
       "version_minor": 0
      },
      "text/plain": [
       "  0%|          | 0/1 [00:04<?, ?it/s]"
      ]
     },
     "metadata": {},
     "output_type": "display_data"
    },
    {
     "data": {
      "application/vnd.jupyter.widget-view+json": {
       "model_id": "0571173d13644312afb4cb34782eb7e0",
       "version_major": 2,
       "version_minor": 0
      },
      "text/plain": [
       "리뷰수집중:   0%|          | 0/8 [00:00<?, ?it/s]"
      ]
     },
     "metadata": {},
     "output_type": "display_data"
    },
    {
     "name": "stdout",
     "output_type": "stream",
     "text": [
      "\n",
      "148\n",
      "현재 :  연동계수나무집\n",
      "현재 크롤링이 진행중인 검색어 : 연동계수나무집\n"
     ]
    },
    {
     "data": {
      "application/vnd.jupyter.widget-view+json": {
       "model_id": "b7b62189572b4ba398c44b75a064bc29",
       "version_major": 2,
       "version_minor": 0
      },
      "text/plain": [
       "  0%|          | 0/3 [00:00<?, ?it/s]"
      ]
     },
     "metadata": {},
     "output_type": "display_data"
    },
    {
     "data": {
      "application/vnd.jupyter.widget-view+json": {
       "model_id": "d8111330f20343208426a7dde8754492",
       "version_major": 2,
       "version_minor": 0
      },
      "text/plain": [
       "리뷰수집중:   0%|          | 0/13 [00:04<?, ?it/s]"
      ]
     },
     "metadata": {},
     "output_type": "display_data"
    },
    {
     "name": "stdout",
     "output_type": "stream",
     "text": [
      "\n",
      "149\n",
      "현재 :  제주청정원한우마당\n",
      "현재 크롤링이 진행중인 검색어 : 제주청정원한우마당\n",
      "펼칠 리뷰가 없다.\n"
     ]
    },
    {
     "data": {
      "application/vnd.jupyter.widget-view+json": {
       "model_id": "068ad83378b9421cba2f67eefd79f87a",
       "version_major": 2,
       "version_minor": 0
      },
      "text/plain": [
       "  0%|          | 0/2 [00:00<?, ?it/s]"
      ]
     },
     "metadata": {},
     "output_type": "display_data"
    },
    {
     "data": {
      "application/vnd.jupyter.widget-view+json": {
       "model_id": "56a186821964430db18784394444cbbd",
       "version_major": 2,
       "version_minor": 0
      },
      "text/plain": [
       "리뷰수집중:   0%|          | 0/8 [00:00<?, ?it/s]"
      ]
     },
     "metadata": {},
     "output_type": "display_data"
    },
    {
     "name": "stdout",
     "output_type": "stream",
     "text": [
      "\n",
      "150\n",
      "현재 :  소리원\n",
      "현재 크롤링이 진행중인 검색어 : 소리원\n"
     ]
    },
    {
     "data": {
      "application/vnd.jupyter.widget-view+json": {
       "model_id": "2ba0e3697d1f4b08b302362c03367378",
       "version_major": 2,
       "version_minor": 0
      },
      "text/plain": [
       "  0%|          | 0/77 [00:00<?, ?it/s]"
      ]
     },
     "metadata": {},
     "output_type": "display_data"
    },
    {
     "data": {
      "application/vnd.jupyter.widget-view+json": {
       "model_id": "484ab3c53275494c87ca1af7fb8ecc8e",
       "version_major": 2,
       "version_minor": 0
      },
      "text/plain": [
       "리뷰수집중:   0%|          | 0/417 [00:00<?, ?it/s]"
      ]
     },
     "metadata": {},
     "output_type": "display_data"
    },
    {
     "name": "stdout",
     "output_type": "stream",
     "text": [
      "\n",
      "151\n",
      "현재 :  엠츄로\n",
      "현재 크롤링이 진행중인 검색어 : 엠츄로\n"
     ]
    },
    {
     "data": {
      "application/vnd.jupyter.widget-view+json": {
       "model_id": "f9e0dc33261d4a86b79d525b26e82a75",
       "version_major": 2,
       "version_minor": 0
      },
      "text/plain": [
       "  0%|          | 0/2 [00:00<?, ?it/s]"
      ]
     },
     "metadata": {},
     "output_type": "display_data"
    },
    {
     "data": {
      "application/vnd.jupyter.widget-view+json": {
       "model_id": "41f10a51a16a4ddc8d0de78f637c01a8",
       "version_major": 2,
       "version_minor": 0
      },
      "text/plain": [
       "리뷰수집중:   0%|          | 0/23 [00:00<?, ?it/s]"
      ]
     },
     "metadata": {},
     "output_type": "display_data"
    },
    {
     "name": "stdout",
     "output_type": "stream",
     "text": [
      "\n",
      "152\n",
      "현재 :  재현이네갈비\n",
      "현재 크롤링이 진행중인 검색어 : 재현이네갈비\n"
     ]
    },
    {
     "data": {
      "application/vnd.jupyter.widget-view+json": {
       "model_id": "d8a036857b3d4c9783351ed88b92973c",
       "version_major": 2,
       "version_minor": 0
      },
      "text/plain": [
       "  0%|          | 0/3 [00:00<?, ?it/s]"
      ]
     },
     "metadata": {},
     "output_type": "display_data"
    },
    {
     "data": {
      "application/vnd.jupyter.widget-view+json": {
       "model_id": "b15cc291df074c50a3762e659ab4837e",
       "version_major": 2,
       "version_minor": 0
      },
      "text/plain": [
       "리뷰수집중:   0%|          | 0/27 [00:00<?, ?it/s]"
      ]
     },
     "metadata": {},
     "output_type": "display_data"
    },
    {
     "name": "stdout",
     "output_type": "stream",
     "text": [
      "\n",
      "153\n",
      "현재 :  글램바\n",
      "현재 크롤링이 진행중인 검색어 : 글램바\n",
      "펼칠 리뷰가 없다.\n",
      "\n",
      "154\n",
      "현재 :  일드뱅\n",
      "현재 크롤링이 진행중인 검색어 : 일드뱅\n"
     ]
    },
    {
     "data": {
      "application/vnd.jupyter.widget-view+json": {
       "model_id": "26969a2457e04a6ba1104e77bc623f3d",
       "version_major": 2,
       "version_minor": 0
      },
      "text/plain": [
       "  0%|          | 0/27 [00:00<?, ?it/s]"
      ]
     },
     "metadata": {},
     "output_type": "display_data"
    },
    {
     "data": {
      "application/vnd.jupyter.widget-view+json": {
       "model_id": "75be79ec439c48e09a9f30b47e6823a3",
       "version_major": 2,
       "version_minor": 0
      },
      "text/plain": [
       "리뷰수집중:   0%|          | 0/87 [00:00<?, ?it/s]"
      ]
     },
     "metadata": {},
     "output_type": "display_data"
    },
    {
     "name": "stdout",
     "output_type": "stream",
     "text": [
      "\n",
      "155\n",
      "현재 :  송쿠쉐\n",
      "현재 크롤링이 진행중인 검색어 : 송쿠쉐\n"
     ]
    },
    {
     "data": {
      "application/vnd.jupyter.widget-view+json": {
       "model_id": "182b4142d5334294aba9255047d29465",
       "version_major": 2,
       "version_minor": 0
      },
      "text/plain": [
       "  0%|          | 0/84 [00:00<?, ?it/s]"
      ]
     },
     "metadata": {},
     "output_type": "display_data"
    },
    {
     "data": {
      "application/vnd.jupyter.widget-view+json": {
       "model_id": "19c2504dea7d41cc873dc4845a635eee",
       "version_major": 2,
       "version_minor": 0
      },
      "text/plain": [
       "리뷰수집중:   0%|          | 0/288 [00:00<?, ?it/s]"
      ]
     },
     "metadata": {},
     "output_type": "display_data"
    },
    {
     "name": "stdout",
     "output_type": "stream",
     "text": [
      "\n",
      "156\n",
      "현재 :  칭따오객잔\n",
      "현재 크롤링이 진행중인 검색어 : 칭따오객잔\n"
     ]
    },
    {
     "data": {
      "application/vnd.jupyter.widget-view+json": {
       "model_id": "9cba4cf5c1ae47d181459ea06af8d142",
       "version_major": 2,
       "version_minor": 0
      },
      "text/plain": [
       "  0%|          | 0/3 [00:00<?, ?it/s]"
      ]
     },
     "metadata": {},
     "output_type": "display_data"
    },
    {
     "data": {
      "application/vnd.jupyter.widget-view+json": {
       "model_id": "47c5a210104847eab21a4443347feb00",
       "version_major": 2,
       "version_minor": 0
      },
      "text/plain": [
       "리뷰수집중:   0%|          | 0/32 [00:00<?, ?it/s]"
      ]
     },
     "metadata": {},
     "output_type": "display_data"
    },
    {
     "name": "stdout",
     "output_type": "stream",
     "text": [
      "\n",
      "157\n",
      "현재 :  흠염요리\n",
      "현재 크롤링이 진행중인 검색어 : 흠염요리\n",
      "\n",
      "158\n",
      "현재 :  비에이치씨연동점\n",
      "현재 크롤링이 진행중인 검색어 : 비에이치씨연동점\n"
     ]
    },
    {
     "data": {
      "application/vnd.jupyter.widget-view+json": {
       "model_id": "7f2ea6ce3f3e44a4ace707b83a6a0ac5",
       "version_major": 2,
       "version_minor": 0
      },
      "text/plain": [
       "  0%|          | 0/16 [00:00<?, ?it/s]"
      ]
     },
     "metadata": {},
     "output_type": "display_data"
    },
    {
     "data": {
      "application/vnd.jupyter.widget-view+json": {
       "model_id": "65ec60d7998d4fee9f20ca77301f1716",
       "version_major": 2,
       "version_minor": 0
      },
      "text/plain": [
       "리뷰수집중:   0%|          | 0/139 [00:00<?, ?it/s]"
      ]
     },
     "metadata": {},
     "output_type": "display_data"
    },
    {
     "name": "stdout",
     "output_type": "stream",
     "text": [
      "\n",
      "159\n",
      "현재 :  비어제이\n",
      "현재 크롤링이 진행중인 검색어 : 비어제이\n"
     ]
    },
    {
     "data": {
      "application/vnd.jupyter.widget-view+json": {
       "model_id": "38d8b0f5ca95457e8e4ea6dfbcc3b792",
       "version_major": 2,
       "version_minor": 0
      },
      "text/plain": [
       "리뷰수집중:   0%|          | 0/14 [00:00<?, ?it/s]"
      ]
     },
     "metadata": {},
     "output_type": "display_data"
    },
    {
     "name": "stdout",
     "output_type": "stream",
     "text": [
      "\n",
      "160\n",
      "현재 :  풍촌\n",
      "현재 크롤링이 진행중인 검색어 : 풍촌\n"
     ]
    },
    {
     "data": {
      "application/vnd.jupyter.widget-view+json": {
       "model_id": "75a378c53f664e9eaaafe48d4dcce481",
       "version_major": 2,
       "version_minor": 0
      },
      "text/plain": [
       "  0%|          | 0/3 [00:04<?, ?it/s]"
      ]
     },
     "metadata": {},
     "output_type": "display_data"
    },
    {
     "data": {
      "application/vnd.jupyter.widget-view+json": {
       "model_id": "8e105c882dd4420ba7525e24860e3346",
       "version_major": 2,
       "version_minor": 0
      },
      "text/plain": [
       "리뷰수집중:   0%|          | 0/20 [00:00<?, ?it/s]"
      ]
     },
     "metadata": {},
     "output_type": "display_data"
    },
    {
     "name": "stdout",
     "output_type": "stream",
     "text": [
      "\n",
      "161\n",
      "현재 :  노연동국밥2호점\n",
      "현재 크롤링이 진행중인 검색어 : 노연동국밥2호점\n"
     ]
    },
    {
     "data": {
      "application/vnd.jupyter.widget-view+json": {
       "model_id": "43df4dfe88b744b783bc0e7738fec61a",
       "version_major": 2,
       "version_minor": 0
      },
      "text/plain": [
       "  0%|          | 0/3 [00:00<?, ?it/s]"
      ]
     },
     "metadata": {},
     "output_type": "display_data"
    },
    {
     "data": {
      "application/vnd.jupyter.widget-view+json": {
       "model_id": "c10c471885ae4d4e9263b672eea279e2",
       "version_major": 2,
       "version_minor": 0
      },
      "text/plain": [
       "리뷰수집중:   0%|          | 0/13 [00:00<?, ?it/s]"
      ]
     },
     "metadata": {},
     "output_type": "display_data"
    },
    {
     "name": "stdout",
     "output_type": "stream",
     "text": [
      "\n",
      "162\n",
      "현재 :  민재네황태전문점\n",
      "현재 크롤링이 진행중인 검색어 : 민재네황태전문점\n"
     ]
    },
    {
     "data": {
      "application/vnd.jupyter.widget-view+json": {
       "model_id": "6b0a77b45c7e4ba68d4885575b10fe15",
       "version_major": 2,
       "version_minor": 0
      },
      "text/plain": [
       "  0%|          | 0/17 [00:00<?, ?it/s]"
      ]
     },
     "metadata": {},
     "output_type": "display_data"
    },
    {
     "data": {
      "application/vnd.jupyter.widget-view+json": {
       "model_id": "ec93c6338ef94caf8b9cb5ce2d25cc2c",
       "version_major": 2,
       "version_minor": 0
      },
      "text/plain": [
       "리뷰수집중:   0%|          | 0/49 [00:00<?, ?it/s]"
      ]
     },
     "metadata": {},
     "output_type": "display_data"
    },
    {
     "name": "stdout",
     "output_type": "stream",
     "text": [
      "\n",
      "163\n",
      "현재 :  스크루지펍2\n",
      "현재 크롤링이 진행중인 검색어 : 스크루지펍2\n"
     ]
    },
    {
     "data": {
      "application/vnd.jupyter.widget-view+json": {
       "model_id": "768206915c1d43a299837ce94c288ccc",
       "version_major": 2,
       "version_minor": 0
      },
      "text/plain": [
       "  0%|          | 0/4 [00:00<?, ?it/s]"
      ]
     },
     "metadata": {},
     "output_type": "display_data"
    },
    {
     "data": {
      "application/vnd.jupyter.widget-view+json": {
       "model_id": "95b147a8f5134f619fc6a86dc6c4e532",
       "version_major": 2,
       "version_minor": 0
      },
      "text/plain": [
       "리뷰수집중:   0%|          | 0/19 [00:00<?, ?it/s]"
      ]
     },
     "metadata": {},
     "output_type": "display_data"
    },
    {
     "name": "stdout",
     "output_type": "stream",
     "text": [
      "\n",
      "164\n",
      "현재 :  경상도아지매\n",
      "현재 크롤링이 진행중인 검색어 : 경상도아지매\n",
      "펼칠 리뷰가 없다.\n",
      "\n",
      "165\n",
      "현재 :  러브도채비\n",
      "현재 크롤링이 진행중인 검색어 : 러브도채비\n",
      "펼칠 리뷰가 없다.\n"
     ]
    },
    {
     "data": {
      "application/vnd.jupyter.widget-view+json": {
       "model_id": "c422714a611048bebb17edbc863a5790",
       "version_major": 2,
       "version_minor": 0
      },
      "text/plain": [
       "리뷰수집중:   0%|          | 0/4 [00:00<?, ?it/s]"
      ]
     },
     "metadata": {},
     "output_type": "display_data"
    },
    {
     "name": "stdout",
     "output_type": "stream",
     "text": [
      "\n",
      "166\n",
      "현재 :  연화밥상\n",
      "현재 크롤링이 진행중인 검색어 : 연화밥상\n"
     ]
    },
    {
     "data": {
      "application/vnd.jupyter.widget-view+json": {
       "model_id": "7a3edf57dfd7465780c1196e51b14c58",
       "version_major": 2,
       "version_minor": 0
      },
      "text/plain": [
       "리뷰수집중:   0%|          | 0/11 [00:04<?, ?it/s]"
      ]
     },
     "metadata": {},
     "output_type": "display_data"
    },
    {
     "name": "stdout",
     "output_type": "stream",
     "text": [
      "\n",
      "167\n",
      "현재 :  제주맛동산칼국수\n",
      "현재 크롤링이 진행중인 검색어 : 제주맛동산칼국수\n"
     ]
    },
    {
     "data": {
      "application/vnd.jupyter.widget-view+json": {
       "model_id": "888c6969fdb444db8d132c636bc20a1c",
       "version_major": 2,
       "version_minor": 0
      },
      "text/plain": [
       "  0%|          | 0/7 [00:00<?, ?it/s]"
      ]
     },
     "metadata": {},
     "output_type": "display_data"
    },
    {
     "data": {
      "application/vnd.jupyter.widget-view+json": {
       "model_id": "ea08853435f04fa7a3a5c0fc7bab7298",
       "version_major": 2,
       "version_minor": 0
      },
      "text/plain": [
       "리뷰수집중:   0%|          | 0/35 [00:00<?, ?it/s]"
      ]
     },
     "metadata": {},
     "output_type": "display_data"
    },
    {
     "name": "stdout",
     "output_type": "stream",
     "text": [
      "\n",
      "168\n",
      "현재 :  빌라누스\n",
      "현재 크롤링이 진행중인 검색어 : 빌라누스\n"
     ]
    },
    {
     "data": {
      "application/vnd.jupyter.widget-view+json": {
       "model_id": "ee25fe5d28b34bb1bd1a6c599388f662",
       "version_major": 2,
       "version_minor": 0
      },
      "text/plain": [
       "  0%|          | 0/7 [00:00<?, ?it/s]"
      ]
     },
     "metadata": {},
     "output_type": "display_data"
    },
    {
     "data": {
      "application/vnd.jupyter.widget-view+json": {
       "model_id": "173a6098b5bf4a2993768e4909841ecc",
       "version_major": 2,
       "version_minor": 0
      },
      "text/plain": [
       "리뷰수집중:   0%|          | 0/16 [00:00<?, ?it/s]"
      ]
     },
     "metadata": {},
     "output_type": "display_data"
    },
    {
     "name": "stdout",
     "output_type": "stream",
     "text": [
      "\n",
      "169\n",
      "현재 :  아취\n",
      "현재 크롤링이 진행중인 검색어 : 아취\n",
      "펼칠 리뷰가 없다.\n"
     ]
    },
    {
     "data": {
      "application/vnd.jupyter.widget-view+json": {
       "model_id": "5be6198e98814f458eb0f24e9a7c5e19",
       "version_major": 2,
       "version_minor": 0
      },
      "text/plain": [
       "리뷰수집중:   0%|          | 0/4 [00:00<?, ?it/s]"
      ]
     },
     "metadata": {},
     "output_type": "display_data"
    },
    {
     "name": "stdout",
     "output_type": "stream",
     "text": [
      "\n",
      "170\n",
      "현재 :  더팔당제주\n",
      "현재 크롤링이 진행중인 검색어 : 더팔당제주\n"
     ]
    },
    {
     "data": {
      "application/vnd.jupyter.widget-view+json": {
       "model_id": "889dc9a5256243109e7185a848dd8e02",
       "version_major": 2,
       "version_minor": 0
      },
      "text/plain": [
       "  0%|          | 0/7 [00:04<?, ?it/s]"
      ]
     },
     "metadata": {},
     "output_type": "display_data"
    },
    {
     "data": {
      "application/vnd.jupyter.widget-view+json": {
       "model_id": "6051264d946b49a79bc5fbb7c2550d2f",
       "version_major": 2,
       "version_minor": 0
      },
      "text/plain": [
       "리뷰수집중:   0%|          | 0/104 [00:00<?, ?it/s]"
      ]
     },
     "metadata": {},
     "output_type": "display_data"
    },
    {
     "name": "stdout",
     "output_type": "stream",
     "text": [
      "\n",
      "171\n",
      "현재 :  인쌩맥주제주연동점\n",
      "현재 크롤링이 진행중인 검색어 : 인쌩맥주제주연동점\n"
     ]
    },
    {
     "data": {
      "application/vnd.jupyter.widget-view+json": {
       "model_id": "7e50b79b1a244e7fa7ca8b70b21eaeb4",
       "version_major": 2,
       "version_minor": 0
      },
      "text/plain": [
       "  0%|          | 0/11 [00:00<?, ?it/s]"
      ]
     },
     "metadata": {},
     "output_type": "display_data"
    },
    {
     "data": {
      "application/vnd.jupyter.widget-view+json": {
       "model_id": "a7b594af5cdc48208aa0a6ec7edc2ab5",
       "version_major": 2,
       "version_minor": 0
      },
      "text/plain": [
       "리뷰수집중:   0%|          | 0/76 [00:28<?, ?it/s]"
      ]
     },
     "metadata": {},
     "output_type": "display_data"
    },
    {
     "name": "stdout",
     "output_type": "stream",
     "text": [
      "\n",
      "172\n",
      "현재 :  제원칼집\n",
      "현재 크롤링이 진행중인 검색어 : 제원칼집\n"
     ]
    },
    {
     "data": {
      "application/vnd.jupyter.widget-view+json": {
       "model_id": "2fe4e115677f4dc39202d2991479c491",
       "version_major": 2,
       "version_minor": 0
      },
      "text/plain": [
       "  0%|          | 0/43 [00:00<?, ?it/s]"
      ]
     },
     "metadata": {},
     "output_type": "display_data"
    },
    {
     "data": {
      "application/vnd.jupyter.widget-view+json": {
       "model_id": "c117c7c9f3fd466a92a18a82e940f4cd",
       "version_major": 2,
       "version_minor": 0
      },
      "text/plain": [
       "리뷰수집중:   0%|          | 0/254 [00:00<?, ?it/s]"
      ]
     },
     "metadata": {},
     "output_type": "display_data"
    },
    {
     "name": "stdout",
     "output_type": "stream",
     "text": [
      "\n",
      "173\n",
      "현재 :  서귀포모녀식당\n",
      "현재 크롤링이 진행중인 검색어 : 서귀포모녀식당\n"
     ]
    },
    {
     "data": {
      "application/vnd.jupyter.widget-view+json": {
       "model_id": "8308c2bf69ed4942a4e7dc8e3e468140",
       "version_major": 2,
       "version_minor": 0
      },
      "text/plain": [
       "  0%|          | 0/16 [00:00<?, ?it/s]"
      ]
     },
     "metadata": {},
     "output_type": "display_data"
    },
    {
     "data": {
      "application/vnd.jupyter.widget-view+json": {
       "model_id": "ea408d16cece4c10b58f0685e21c3272",
       "version_major": 2,
       "version_minor": 0
      },
      "text/plain": [
       "리뷰수집중:   0%|          | 0/42 [00:00<?, ?it/s]"
      ]
     },
     "metadata": {},
     "output_type": "display_data"
    },
    {
     "name": "stdout",
     "output_type": "stream",
     "text": [
      "\n",
      "174\n",
      "현재 :  제3공간\n",
      "현재 크롤링이 진행중인 검색어 : 제3공간\n"
     ]
    },
    {
     "data": {
      "application/vnd.jupyter.widget-view+json": {
       "model_id": "7f841b219cc941bf8124cc9c72cb56e6",
       "version_major": 2,
       "version_minor": 0
      },
      "text/plain": [
       "  0%|          | 0/10 [00:00<?, ?it/s]"
      ]
     },
     "metadata": {},
     "output_type": "display_data"
    },
    {
     "data": {
      "application/vnd.jupyter.widget-view+json": {
       "model_id": "22e62c9e28c04515acaa5361139c5111",
       "version_major": 2,
       "version_minor": 0
      },
      "text/plain": [
       "리뷰수집중:   0%|          | 0/44 [00:00<?, ?it/s]"
      ]
     },
     "metadata": {},
     "output_type": "display_data"
    },
    {
     "name": "stdout",
     "output_type": "stream",
     "text": [
      "\n",
      "175\n",
      "현재 :  망고홀릭제주본점\n",
      "현재 크롤링이 진행중인 검색어 : 망고홀릭제주본점\n"
     ]
    },
    {
     "data": {
      "application/vnd.jupyter.widget-view+json": {
       "model_id": "fbed273a696846cbbc7e624e76baf5cd",
       "version_major": 2,
       "version_minor": 0
      },
      "text/plain": [
       "  0%|          | 0/21 [00:00<?, ?it/s]"
      ]
     },
     "metadata": {},
     "output_type": "display_data"
    },
    {
     "data": {
      "application/vnd.jupyter.widget-view+json": {
       "model_id": "63ce16e183ed484ca364b31e811c3189",
       "version_major": 2,
       "version_minor": 0
      },
      "text/plain": [
       "리뷰수집중:   0%|          | 0/271 [00:00<?, ?it/s]"
      ]
     },
     "metadata": {},
     "output_type": "display_data"
    },
    {
     "name": "stdout",
     "output_type": "stream",
     "text": [
      "\n",
      "176\n",
      "현재 :  제주곱\n"
     ]
    },
    {
     "name": "stderr",
     "output_type": "stream",
     "text": [
      "[WDM] - Downloading: 100%|████████████████████████████████████████████████████████| 6.81M/6.81M [00:00<00:00, 11.1MB/s]\n"
     ]
    },
    {
     "name": "stdout",
     "output_type": "stream",
     "text": [
      "현재 크롤링이 진행중인 검색어 : 제주곱\n"
     ]
    },
    {
     "data": {
      "application/vnd.jupyter.widget-view+json": {
       "model_id": "2a6ab7d73e3f43b6a030d90547bc1e1b",
       "version_major": 2,
       "version_minor": 0
      },
      "text/plain": [
       "  0%|          | 0/61 [00:00<?, ?it/s]"
      ]
     },
     "metadata": {},
     "output_type": "display_data"
    },
    {
     "data": {
      "application/vnd.jupyter.widget-view+json": {
       "model_id": "4174783642124efca530ed4fcd58519d",
       "version_major": 2,
       "version_minor": 0
      },
      "text/plain": [
       "리뷰수집중:   0%|          | 0/244 [00:00<?, ?it/s]"
      ]
     },
     "metadata": {},
     "output_type": "display_data"
    },
    {
     "name": "stdout",
     "output_type": "stream",
     "text": [
      "\n",
      "177\n",
      "현재 :  33떡볶이신연동점\n",
      "현재 크롤링이 진행중인 검색어 : 33떡볶이신연동점\n"
     ]
    },
    {
     "data": {
      "application/vnd.jupyter.widget-view+json": {
       "model_id": "1c768a50142f4eb897aea06720520ebf",
       "version_major": 2,
       "version_minor": 0
      },
      "text/plain": [
       "  0%|          | 0/5 [00:00<?, ?it/s]"
      ]
     },
     "metadata": {},
     "output_type": "display_data"
    },
    {
     "data": {
      "application/vnd.jupyter.widget-view+json": {
       "model_id": "1cd3927b659b4320ae2dec4d96e855b3",
       "version_major": 2,
       "version_minor": 0
      },
      "text/plain": [
       "리뷰수집중:   0%|          | 0/51 [00:00<?, ?it/s]"
      ]
     },
     "metadata": {},
     "output_type": "display_data"
    },
    {
     "name": "stdout",
     "output_type": "stream",
     "text": [
      "\n",
      "178\n",
      "현재 :  투다리연동점\n",
      "현재 크롤링이 진행중인 검색어 : 투다리연동점\n"
     ]
    },
    {
     "data": {
      "application/vnd.jupyter.widget-view+json": {
       "model_id": "38c8a5dd014e49c8aab3d9260fa268a4",
       "version_major": 2,
       "version_minor": 0
      },
      "text/plain": [
       "리뷰수집중:   0%|          | 0/11 [00:00<?, ?it/s]"
      ]
     },
     "metadata": {},
     "output_type": "display_data"
    },
    {
     "name": "stdout",
     "output_type": "stream",
     "text": [
      "\n",
      "179\n",
      "현재 :  핫쿵푸마라탕연동점\n",
      "현재 크롤링이 진행중인 검색어 : 핫쿵푸마라탕연동점\n"
     ]
    },
    {
     "data": {
      "application/vnd.jupyter.widget-view+json": {
       "model_id": "cc87e54f92174d93850b7016d5bba97a",
       "version_major": 2,
       "version_minor": 0
      },
      "text/plain": [
       "  0%|          | 0/4 [00:04<?, ?it/s]"
      ]
     },
     "metadata": {},
     "output_type": "display_data"
    },
    {
     "data": {
      "application/vnd.jupyter.widget-view+json": {
       "model_id": "589061ebf6934e84824b5f452a0de534",
       "version_major": 2,
       "version_minor": 0
      },
      "text/plain": [
       "리뷰수집중:   0%|          | 0/35 [00:00<?, ?it/s]"
      ]
     },
     "metadata": {},
     "output_type": "display_data"
    },
    {
     "name": "stdout",
     "output_type": "stream",
     "text": [
      "\n",
      "180\n",
      "현재 :  달콤한닭강정연동점\n",
      "현재 크롤링이 진행중인 검색어 : 달콤한닭강정연동점\n"
     ]
    },
    {
     "data": {
      "application/vnd.jupyter.widget-view+json": {
       "model_id": "e8851ca0328e4c24a478b6437d35c296",
       "version_major": 2,
       "version_minor": 0
      },
      "text/plain": [
       "리뷰수집중:   0%|          | 0/36 [00:00<?, ?it/s]"
      ]
     },
     "metadata": {},
     "output_type": "display_data"
    },
    {
     "name": "stdout",
     "output_type": "stream",
     "text": [
      "\n",
      "181\n",
      "현재 :  돈킹스\n",
      "현재 크롤링이 진행중인 검색어 : 돈킹스\n",
      "펼칠 리뷰가 없다.\n"
     ]
    },
    {
     "data": {
      "application/vnd.jupyter.widget-view+json": {
       "model_id": "1a5fc14d579147ec96d583e356e8d2b0",
       "version_major": 2,
       "version_minor": 0
      },
      "text/plain": [
       "  0%|          | 0/1 [00:00<?, ?it/s]"
      ]
     },
     "metadata": {},
     "output_type": "display_data"
    },
    {
     "data": {
      "application/vnd.jupyter.widget-view+json": {
       "model_id": "2c70d7039f0b4bb6897c706f7c5fe36d",
       "version_major": 2,
       "version_minor": 0
      },
      "text/plain": [
       "리뷰수집중:   0%|          | 0/9 [00:00<?, ?it/s]"
      ]
     },
     "metadata": {},
     "output_type": "display_data"
    },
    {
     "name": "stdout",
     "output_type": "stream",
     "text": [
      "\n",
      "182\n",
      "현재 :  본죽앤비빔밥까페제주연동점\n",
      "현재 크롤링이 진행중인 검색어 : 본죽앤비빔밥까페제주연동점\n"
     ]
    },
    {
     "data": {
      "application/vnd.jupyter.widget-view+json": {
       "model_id": "8d362361a6fd43e3a11d33e21d9ab797",
       "version_major": 2,
       "version_minor": 0
      },
      "text/plain": [
       "  0%|          | 0/3 [00:00<?, ?it/s]"
      ]
     },
     "metadata": {},
     "output_type": "display_data"
    },
    {
     "data": {
      "application/vnd.jupyter.widget-view+json": {
       "model_id": "ffd70a82ee8e4323b4bbb35b55cee4ad",
       "version_major": 2,
       "version_minor": 0
      },
      "text/plain": [
       "리뷰수집중:   0%|          | 0/93 [00:00<?, ?it/s]"
      ]
     },
     "metadata": {},
     "output_type": "display_data"
    },
    {
     "name": "stdout",
     "output_type": "stream",
     "text": [
      "\n",
      "183\n",
      "현재 :  범맥주제주연동점\n",
      "현재 크롤링이 진행중인 검색어 : 범맥주제주연동점\n"
     ]
    },
    {
     "data": {
      "application/vnd.jupyter.widget-view+json": {
       "model_id": "add3735b28764de59b2a23a9bd305b8a",
       "version_major": 2,
       "version_minor": 0
      },
      "text/plain": [
       "  0%|          | 0/5 [00:00<?, ?it/s]"
      ]
     },
     "metadata": {},
     "output_type": "display_data"
    },
    {
     "data": {
      "application/vnd.jupyter.widget-view+json": {
       "model_id": "7542a7b73a3242dca751b589665c0f17",
       "version_major": 2,
       "version_minor": 0
      },
      "text/plain": [
       "리뷰수집중:   0%|          | 0/31 [00:00<?, ?it/s]"
      ]
     },
     "metadata": {},
     "output_type": "display_data"
    },
    {
     "name": "stdout",
     "output_type": "stream",
     "text": [
      "\n",
      "184\n",
      "현재 :  하몽돼지\n",
      "현재 크롤링이 진행중인 검색어 : 하몽돼지\n"
     ]
    },
    {
     "data": {
      "application/vnd.jupyter.widget-view+json": {
       "model_id": "868610fb7d6b49acbc3cb24ffa271e59",
       "version_major": 2,
       "version_minor": 0
      },
      "text/plain": [
       "  0%|          | 0/8 [00:00<?, ?it/s]"
      ]
     },
     "metadata": {},
     "output_type": "display_data"
    },
    {
     "data": {
      "application/vnd.jupyter.widget-view+json": {
       "model_id": "cbab1d2aa0eb43088a5bc5f2e62bb63e",
       "version_major": 2,
       "version_minor": 0
      },
      "text/plain": [
       "리뷰수집중:   0%|          | 0/38 [00:00<?, ?it/s]"
      ]
     },
     "metadata": {},
     "output_type": "display_data"
    },
    {
     "name": "stdout",
     "output_type": "stream",
     "text": [
      "\n",
      "185\n",
      "현재 :  돈떵이\n",
      "현재 크롤링이 진행중인 검색어 : 돈떵이\n"
     ]
    },
    {
     "data": {
      "application/vnd.jupyter.widget-view+json": {
       "model_id": "4f3be6bfefb9410693660eeb294dedef",
       "version_major": 2,
       "version_minor": 0
      },
      "text/plain": [
       "  0%|          | 0/14 [00:00<?, ?it/s]"
      ]
     },
     "metadata": {},
     "output_type": "display_data"
    },
    {
     "data": {
      "application/vnd.jupyter.widget-view+json": {
       "model_id": "c2c30a8e898a4225a053589e8b51e643",
       "version_major": 2,
       "version_minor": 0
      },
      "text/plain": [
       "리뷰수집중:   0%|          | 0/113 [00:00<?, ?it/s]"
      ]
     },
     "metadata": {},
     "output_type": "display_data"
    },
    {
     "name": "stdout",
     "output_type": "stream",
     "text": [
      "\n",
      "186\n",
      "현재 :  미풍해장국연동점\n",
      "현재 크롤링이 진행중인 검색어 : 미풍해장국연동점\n"
     ]
    },
    {
     "data": {
      "application/vnd.jupyter.widget-view+json": {
       "model_id": "78ba14204f154974a945bf29c7bc0427",
       "version_major": 2,
       "version_minor": 0
      },
      "text/plain": [
       "  0%|          | 0/25 [00:00<?, ?it/s]"
      ]
     },
     "metadata": {},
     "output_type": "display_data"
    },
    {
     "data": {
      "application/vnd.jupyter.widget-view+json": {
       "model_id": "e3ecfc4e616c4626976b3efdb5eee9d4",
       "version_major": 2,
       "version_minor": 0
      },
      "text/plain": [
       "리뷰수집중:   0%|          | 0/167 [00:00<?, ?it/s]"
      ]
     },
     "metadata": {},
     "output_type": "display_data"
    },
    {
     "name": "stdout",
     "output_type": "stream",
     "text": [
      "\n",
      "187\n",
      "현재 :  서서방숯불닭갈비\n",
      "현재 크롤링이 진행중인 검색어 : 서서방숯불닭갈비\n"
     ]
    },
    {
     "data": {
      "application/vnd.jupyter.widget-view+json": {
       "model_id": "02f04447640c4a2e8c18db6e8315c58f",
       "version_major": 2,
       "version_minor": 0
      },
      "text/plain": [
       "  0%|          | 0/166 [00:00<?, ?it/s]"
      ]
     },
     "metadata": {},
     "output_type": "display_data"
    },
    {
     "data": {
      "application/vnd.jupyter.widget-view+json": {
       "model_id": "3c919cd72a90424c9a1be54c4490bdd0",
       "version_major": 2,
       "version_minor": 0
      },
      "text/plain": [
       "리뷰수집중:   0%|          | 0/801 [00:00<?, ?it/s]"
      ]
     },
     "metadata": {},
     "output_type": "display_data"
    },
    {
     "name": "stdout",
     "output_type": "stream",
     "text": [
      "\n",
      "188\n",
      "현재 :  혼밥대왕신제주점\n",
      "현재 크롤링이 진행중인 검색어 : 혼밥대왕신제주점\n"
     ]
    },
    {
     "data": {
      "application/vnd.jupyter.widget-view+json": {
       "model_id": "40c541fdc90f433c934156866e4a26d9",
       "version_major": 2,
       "version_minor": 0
      },
      "text/plain": [
       "리뷰수집중:   0%|          | 0/14 [00:00<?, ?it/s]"
      ]
     },
     "metadata": {},
     "output_type": "display_data"
    },
    {
     "name": "stdout",
     "output_type": "stream",
     "text": [
      "\n",
      "189\n",
      "현재 :  치킨신드롬신제주점\n",
      "현재 크롤링이 진행중인 검색어 : 치킨신드롬신제주점\n"
     ]
    },
    {
     "data": {
      "application/vnd.jupyter.widget-view+json": {
       "model_id": "a750d285d8844e9dae301e9d924bd0e7",
       "version_major": 2,
       "version_minor": 0
      },
      "text/plain": [
       "  0%|          | 0/3 [00:04<?, ?it/s]"
      ]
     },
     "metadata": {},
     "output_type": "display_data"
    },
    {
     "data": {
      "application/vnd.jupyter.widget-view+json": {
       "model_id": "a8e9b72eb98e4e4ca87f4f3ccca45d49",
       "version_major": 2,
       "version_minor": 0
      },
      "text/plain": [
       "리뷰수집중:   0%|          | 0/33 [00:00<?, ?it/s]"
      ]
     },
     "metadata": {},
     "output_type": "display_data"
    },
    {
     "name": "stdout",
     "output_type": "stream",
     "text": [
      "\n",
      "190\n",
      "현재 :  낚시꾼\n",
      "현재 크롤링이 진행중인 검색어 : 낚시꾼\n"
     ]
    },
    {
     "data": {
      "application/vnd.jupyter.widget-view+json": {
       "model_id": "ab401e8a817b4a998f36ae7d80dc2d2e",
       "version_major": 2,
       "version_minor": 0
      },
      "text/plain": [
       "  0%|          | 0/9 [00:00<?, ?it/s]"
      ]
     },
     "metadata": {},
     "output_type": "display_data"
    },
    {
     "data": {
      "application/vnd.jupyter.widget-view+json": {
       "model_id": "9e398398ba5d436e8370591625e9b673",
       "version_major": 2,
       "version_minor": 0
      },
      "text/plain": [
       "리뷰수집중:   0%|          | 0/16 [00:00<?, ?it/s]"
      ]
     },
     "metadata": {},
     "output_type": "display_data"
    },
    {
     "name": "stdout",
     "output_type": "stream",
     "text": [
      "\n",
      "191\n",
      "현재 :  참닭갈비신제주점\n",
      "현재 크롤링이 진행중인 검색어 : 참닭갈비신제주점\n"
     ]
    },
    {
     "data": {
      "application/vnd.jupyter.widget-view+json": {
       "model_id": "0b6903ad227c4d418e1460d3f667a0c7",
       "version_major": 2,
       "version_minor": 0
      },
      "text/plain": [
       "  0%|          | 0/2 [00:00<?, ?it/s]"
      ]
     },
     "metadata": {},
     "output_type": "display_data"
    },
    {
     "data": {
      "application/vnd.jupyter.widget-view+json": {
       "model_id": "bfc6e5609d13481bb713a6b26257ec72",
       "version_major": 2,
       "version_minor": 0
      },
      "text/plain": [
       "리뷰수집중:   0%|          | 0/43 [00:08<?, ?it/s]"
      ]
     },
     "metadata": {},
     "output_type": "display_data"
    },
    {
     "name": "stdout",
     "output_type": "stream",
     "text": [
      "\n",
      "192\n",
      "현재 :  산지물신제주점\n",
      "현재 크롤링이 진행중인 검색어 : 산지물신제주점\n"
     ]
    },
    {
     "data": {
      "application/vnd.jupyter.widget-view+json": {
       "model_id": "17c373e68e9c4ff1a1d45c27d5709fc2",
       "version_major": 2,
       "version_minor": 0
      },
      "text/plain": [
       "  0%|          | 0/30 [00:00<?, ?it/s]"
      ]
     },
     "metadata": {},
     "output_type": "display_data"
    },
    {
     "data": {
      "application/vnd.jupyter.widget-view+json": {
       "model_id": "0699c418f1f54986a4edbe746d1373d5",
       "version_major": 2,
       "version_minor": 0
      },
      "text/plain": [
       "리뷰수집중:   0%|          | 0/203 [00:00<?, ?it/s]"
      ]
     },
     "metadata": {},
     "output_type": "display_data"
    },
    {
     "name": "stdout",
     "output_type": "stream",
     "text": [
      "\n",
      "193\n",
      "현재 :  도르라갈비\n",
      "현재 크롤링이 진행중인 검색어 : 도르라갈비\n",
      "펼칠 리뷰가 없다.\n"
     ]
    },
    {
     "data": {
      "application/vnd.jupyter.widget-view+json": {
       "model_id": "01718ca400a643a1b553c4d9b154c887",
       "version_major": 2,
       "version_minor": 0
      },
      "text/plain": [
       "리뷰수집중:   0%|          | 0/4 [00:00<?, ?it/s]"
      ]
     },
     "metadata": {},
     "output_type": "display_data"
    },
    {
     "name": "stdout",
     "output_type": "stream",
     "text": [
      "\n",
      "194\n",
      "현재 :  이국향\n",
      "현재 크롤링이 진행중인 검색어 : 이국향\n",
      "펼칠 리뷰가 없다.\n"
     ]
    },
    {
     "data": {
      "application/vnd.jupyter.widget-view+json": {
       "model_id": "c02078453f3c4773856efb34512c2847",
       "version_major": 2,
       "version_minor": 0
      },
      "text/plain": [
       "리뷰수집중:   0%|          | 0/5 [00:04<?, ?it/s]"
      ]
     },
     "metadata": {},
     "output_type": "display_data"
    },
    {
     "name": "stdout",
     "output_type": "stream",
     "text": [
      "\n",
      "195\n",
      "현재 :  연동마라도\n",
      "현재 크롤링이 진행중인 검색어 : 연동마라도\n"
     ]
    },
    {
     "data": {
      "application/vnd.jupyter.widget-view+json": {
       "model_id": "020bd1983bf24117b58144b5cc40b371",
       "version_major": 2,
       "version_minor": 0
      },
      "text/plain": [
       "  0%|          | 0/13 [00:00<?, ?it/s]"
      ]
     },
     "metadata": {},
     "output_type": "display_data"
    },
    {
     "data": {
      "application/vnd.jupyter.widget-view+json": {
       "model_id": "fb779a187e94442988a5dd61a92b6485",
       "version_major": 2,
       "version_minor": 0
      },
      "text/plain": [
       "리뷰수집중:   0%|          | 0/43 [00:00<?, ?it/s]"
      ]
     },
     "metadata": {},
     "output_type": "display_data"
    },
    {
     "name": "stdout",
     "output_type": "stream",
     "text": [
      "\n",
      "196\n",
      "현재 :  이가촌\n",
      "현재 크롤링이 진행중인 검색어 : 이가촌\n"
     ]
    },
    {
     "data": {
      "application/vnd.jupyter.widget-view+json": {
       "model_id": "995958288c534012982c7f1699d0ea56",
       "version_major": 2,
       "version_minor": 0
      },
      "text/plain": [
       "  0%|          | 0/9 [00:00<?, ?it/s]"
      ]
     },
     "metadata": {},
     "output_type": "display_data"
    },
    {
     "data": {
      "application/vnd.jupyter.widget-view+json": {
       "model_id": "85aa6b6bf0b84bd59c1e449c50ba4e05",
       "version_major": 2,
       "version_minor": 0
      },
      "text/plain": [
       "리뷰수집중:   0%|          | 0/66 [00:12<?, ?it/s]"
      ]
     },
     "metadata": {},
     "output_type": "display_data"
    },
    {
     "name": "stdout",
     "output_type": "stream",
     "text": [
      "\n",
      "197\n",
      "현재 :  삼대국수회관신제주점\n",
      "현재 크롤링이 진행중인 검색어 : 삼대국수회관신제주점\n"
     ]
    },
    {
     "data": {
      "application/vnd.jupyter.widget-view+json": {
       "model_id": "5ee6422ccd7448819d291b15e8b11786",
       "version_major": 2,
       "version_minor": 0
      },
      "text/plain": [
       "  0%|          | 0/30 [00:00<?, ?it/s]"
      ]
     },
     "metadata": {},
     "output_type": "display_data"
    },
    {
     "data": {
      "application/vnd.jupyter.widget-view+json": {
       "model_id": "3cb4187652a74130baad45c88765cb3b",
       "version_major": 2,
       "version_minor": 0
      },
      "text/plain": [
       "리뷰수집중:   0%|          | 0/274 [00:00<?, ?it/s]"
      ]
     },
     "metadata": {},
     "output_type": "display_data"
    },
    {
     "name": "stdout",
     "output_type": "stream",
     "text": [
      "\n",
      "198\n",
      "현재 :  자연뜨락\n",
      "현재 크롤링이 진행중인 검색어 : 자연뜨락\n"
     ]
    },
    {
     "data": {
      "application/vnd.jupyter.widget-view+json": {
       "model_id": "65ad2b41b5964940bab8231bc8895d96",
       "version_major": 2,
       "version_minor": 0
      },
      "text/plain": [
       "  0%|          | 0/9 [00:00<?, ?it/s]"
      ]
     },
     "metadata": {},
     "output_type": "display_data"
    },
    {
     "data": {
      "application/vnd.jupyter.widget-view+json": {
       "model_id": "e65cef087c7f451d9da4f603cbca2c85",
       "version_major": 2,
       "version_minor": 0
      },
      "text/plain": [
       "리뷰수집중:   0%|          | 0/103 [00:00<?, ?it/s]"
      ]
     },
     "metadata": {},
     "output_type": "display_data"
    },
    {
     "name": "stdout",
     "output_type": "stream",
     "text": [
      "\n",
      "199\n",
      "현재 :  옥희연동\n",
      "현재 크롤링이 진행중인 검색어 : 옥희연동\n",
      "펼칠 리뷰가 없다.\n"
     ]
    },
    {
     "data": {
      "application/vnd.jupyter.widget-view+json": {
       "model_id": "4bf7120128034ca3bf11bc4df75053b6",
       "version_major": 2,
       "version_minor": 0
      },
      "text/plain": [
       "리뷰수집중:   0%|          | 0/4 [00:00<?, ?it/s]"
      ]
     },
     "metadata": {},
     "output_type": "display_data"
    },
    {
     "name": "stdout",
     "output_type": "stream",
     "text": [
      "\n",
      "200\n",
      "현재 :  교촌치킨제주1호\n",
      "현재 크롤링이 진행중인 검색어 : 교촌치킨제주1호\n"
     ]
    },
    {
     "data": {
      "application/vnd.jupyter.widget-view+json": {
       "model_id": "6248d0ad93b244e480317f89b36a431a",
       "version_major": 2,
       "version_minor": 0
      },
      "text/plain": [
       "  0%|          | 0/6 [00:04<?, ?it/s]"
      ]
     },
     "metadata": {},
     "output_type": "display_data"
    },
    {
     "data": {
      "application/vnd.jupyter.widget-view+json": {
       "model_id": "da1be37bc3214f2890a5ff587a86ccb5",
       "version_major": 2,
       "version_minor": 0
      },
      "text/plain": [
       "리뷰수집중:   0%|          | 0/137 [00:00<?, ?it/s]"
      ]
     },
     "metadata": {},
     "output_type": "display_data"
    },
    {
     "name": "stdout",
     "output_type": "stream",
     "text": [
      "\n",
      "201\n",
      "현재 :  부산서면양곱창분점\n",
      "현재 크롤링이 진행중인 검색어 : 부산서면양곱창분점\n",
      "펼칠 리뷰가 없다.\n",
      "\n",
      "202\n",
      "현재 :  진홍식당\n",
      "현재 크롤링이 진행중인 검색어 : 진홍식당\n",
      "펼칠 리뷰가 없다.\n"
     ]
    },
    {
     "data": {
      "application/vnd.jupyter.widget-view+json": {
       "model_id": "bc32230ba12e47f59e90229b142a9fb6",
       "version_major": 2,
       "version_minor": 0
      },
      "text/plain": [
       "리뷰수집중:   0%|          | 0/4 [00:00<?, ?it/s]"
      ]
     },
     "metadata": {},
     "output_type": "display_data"
    },
    {
     "name": "stdout",
     "output_type": "stream",
     "text": [
      "\n",
      "203\n",
      "현재 :  희양양연동점\n",
      "현재 크롤링이 진행중인 검색어 : 희양양연동점\n"
     ]
    },
    {
     "data": {
      "application/vnd.jupyter.widget-view+json": {
       "model_id": "47a5c48d99db493e9d267cd234736bea",
       "version_major": 2,
       "version_minor": 0
      },
      "text/plain": [
       "  0%|          | 0/4 [00:04<?, ?it/s]"
      ]
     },
     "metadata": {},
     "output_type": "display_data"
    },
    {
     "data": {
      "application/vnd.jupyter.widget-view+json": {
       "model_id": "7473b7f5c93244cd8570b215a1de84c3",
       "version_major": 2,
       "version_minor": 0
      },
      "text/plain": [
       "리뷰수집중:   0%|          | 0/20 [00:00<?, ?it/s]"
      ]
     },
     "metadata": {},
     "output_type": "display_data"
    },
    {
     "name": "stdout",
     "output_type": "stream",
     "text": [
      "\n",
      "204\n",
      "현재 :  티바두마리치킨연동점\n",
      "현재 크롤링이 진행중인 검색어 : 티바두마리치킨연동점\n",
      "펼칠 리뷰가 없다.\n"
     ]
    },
    {
     "data": {
      "application/vnd.jupyter.widget-view+json": {
       "model_id": "cada13e472504f84b4604e81714457ea",
       "version_major": 2,
       "version_minor": 0
      },
      "text/plain": [
       "리뷰수집중:   0%|          | 0/7 [00:00<?, ?it/s]"
      ]
     },
     "metadata": {},
     "output_type": "display_data"
    },
    {
     "name": "stdout",
     "output_type": "stream",
     "text": [
      "\n",
      "205\n",
      "현재 :  무허가집\n",
      "현재 크롤링이 진행중인 검색어 : 무허가집\n",
      "펼칠 리뷰가 없다.\n"
     ]
    },
    {
     "data": {
      "application/vnd.jupyter.widget-view+json": {
       "model_id": "a0080031b8ca4abf83ead38ff7c211fd",
       "version_major": 2,
       "version_minor": 0
      },
      "text/plain": [
       "리뷰수집중:   0%|          | 0/4 [00:04<?, ?it/s]"
      ]
     },
     "metadata": {},
     "output_type": "display_data"
    },
    {
     "name": "stdout",
     "output_type": "stream",
     "text": [
      "\n",
      "206\n",
      "현재 :  신성할망\n",
      "현재 크롤링이 진행중인 검색어 : 신성할망\n"
     ]
    },
    {
     "data": {
      "application/vnd.jupyter.widget-view+json": {
       "model_id": "6da6dbd6b557472fad6d311af0464376",
       "version_major": 2,
       "version_minor": 0
      },
      "text/plain": [
       "  0%|          | 0/116 [00:00<?, ?it/s]"
      ]
     },
     "metadata": {},
     "output_type": "display_data"
    },
    {
     "data": {
      "application/vnd.jupyter.widget-view+json": {
       "model_id": "44fdb387171f46978d05e39374b00ea2",
       "version_major": 2,
       "version_minor": 0
      },
      "text/plain": [
       "리뷰수집중:   0%|          | 0/687 [00:00<?, ?it/s]"
      ]
     },
     "metadata": {},
     "output_type": "display_data"
    },
    {
     "name": "stdout",
     "output_type": "stream",
     "text": [
      "\n",
      "207\n",
      "현재 :  괸당집신제주점\n",
      "현재 크롤링이 진행중인 검색어 : 괸당집신제주점\n"
     ]
    },
    {
     "data": {
      "application/vnd.jupyter.widget-view+json": {
       "model_id": "b007580542d949a28375c94367360d6f",
       "version_major": 2,
       "version_minor": 0
      },
      "text/plain": [
       "  0%|          | 0/12 [00:00<?, ?it/s]"
      ]
     },
     "metadata": {},
     "output_type": "display_data"
    },
    {
     "data": {
      "application/vnd.jupyter.widget-view+json": {
       "model_id": "cba52233e1ab48bba6ac40fe198cd80b",
       "version_major": 2,
       "version_minor": 0
      },
      "text/plain": [
       "리뷰수집중:   0%|          | 0/77 [00:00<?, ?it/s]"
      ]
     },
     "metadata": {},
     "output_type": "display_data"
    },
    {
     "name": "stdout",
     "output_type": "stream",
     "text": [
      "\n",
      "208\n",
      "현재 :  깜돈흑돼지\n",
      "현재 크롤링이 진행중인 검색어 : 깜돈흑돼지\n"
     ]
    },
    {
     "data": {
      "application/vnd.jupyter.widget-view+json": {
       "model_id": "09b3d3bc9d5d448c88cc3e3ccd68fe08",
       "version_major": 2,
       "version_minor": 0
      },
      "text/plain": [
       "  0%|          | 0/7 [00:00<?, ?it/s]"
      ]
     },
     "metadata": {},
     "output_type": "display_data"
    },
    {
     "data": {
      "application/vnd.jupyter.widget-view+json": {
       "model_id": "d046edbfac8a4292af5c13e23b2ccefe",
       "version_major": 2,
       "version_minor": 0
      },
      "text/plain": [
       "리뷰수집중:   0%|          | 0/40 [00:04<?, ?it/s]"
      ]
     },
     "metadata": {},
     "output_type": "display_data"
    },
    {
     "name": "stdout",
     "output_type": "stream",
     "text": [
      "\n",
      "209\n",
      "현재 :  수구레해장국2호점\n",
      "현재 크롤링이 진행중인 검색어 : 수구레해장국2호점\n"
     ]
    },
    {
     "data": {
      "application/vnd.jupyter.widget-view+json": {
       "model_id": "f0cd210976bf44828d8e37434c5506f2",
       "version_major": 2,
       "version_minor": 0
      },
      "text/plain": [
       "리뷰수집중:   0%|          | 0/13 [00:00<?, ?it/s]"
      ]
     },
     "metadata": {},
     "output_type": "display_data"
    },
    {
     "name": "stdout",
     "output_type": "stream",
     "text": [
      "\n",
      "210\n",
      "현재 :  이금돈지\n",
      "현재 크롤링이 진행중인 검색어 : 이금돈지\n"
     ]
    },
    {
     "data": {
      "application/vnd.jupyter.widget-view+json": {
       "model_id": "dadc32d9743e4b948ba38182dcb1bf67",
       "version_major": 2,
       "version_minor": 0
      },
      "text/plain": [
       "  0%|          | 0/86 [00:04<?, ?it/s]"
      ]
     },
     "metadata": {},
     "output_type": "display_data"
    },
    {
     "data": {
      "application/vnd.jupyter.widget-view+json": {
       "model_id": "1a99f86cab8a4e4cba526d867155ecb8",
       "version_major": 2,
       "version_minor": 0
      },
      "text/plain": [
       "리뷰수집중:   0%|          | 0/499 [00:00<?, ?it/s]"
      ]
     },
     "metadata": {},
     "output_type": "display_data"
    },
    {
     "name": "stdout",
     "output_type": "stream",
     "text": [
      "\n",
      "211\n",
      "현재 :  꽃보다소제주연동점\n",
      "현재 크롤링이 진행중인 검색어 : 꽃보다소제주연동점\n"
     ]
    },
    {
     "data": {
      "application/vnd.jupyter.widget-view+json": {
       "model_id": "11434ad435814567888e6c901ca1158c",
       "version_major": 2,
       "version_minor": 0
      },
      "text/plain": [
       "  0%|          | 0/1 [00:00<?, ?it/s]"
      ]
     },
     "metadata": {},
     "output_type": "display_data"
    },
    {
     "data": {
      "application/vnd.jupyter.widget-view+json": {
       "model_id": "e73440a987df4a5caeb95c4ab600b80d",
       "version_major": 2,
       "version_minor": 0
      },
      "text/plain": [
       "리뷰수집중:   0%|          | 0/17 [00:00<?, ?it/s]"
      ]
     },
     "metadata": {},
     "output_type": "display_data"
    },
    {
     "name": "stdout",
     "output_type": "stream",
     "text": [
      "\n",
      "212\n",
      "현재 :  어장군\n",
      "현재 크롤링이 진행중인 검색어 : 어장군\n"
     ]
    },
    {
     "data": {
      "application/vnd.jupyter.widget-view+json": {
       "model_id": "e32b3a35231941a98a75ba802d54da77",
       "version_major": 2,
       "version_minor": 0
      },
      "text/plain": [
       "  0%|          | 0/16 [00:00<?, ?it/s]"
      ]
     },
     "metadata": {},
     "output_type": "display_data"
    },
    {
     "data": {
      "application/vnd.jupyter.widget-view+json": {
       "model_id": "0c508975cc0043b9937b89cc93f4136b",
       "version_major": 2,
       "version_minor": 0
      },
      "text/plain": [
       "리뷰수집중:   0%|          | 0/168 [00:00<?, ?it/s]"
      ]
     },
     "metadata": {},
     "output_type": "display_data"
    },
    {
     "name": "stdout",
     "output_type": "stream",
     "text": [
      "\n",
      "213\n",
      "현재 :  삼무국수\n",
      "현재 크롤링이 진행중인 검색어 : 삼무국수\n"
     ]
    },
    {
     "data": {
      "application/vnd.jupyter.widget-view+json": {
       "model_id": "e408b3f300964750928749fc4b3bb44d",
       "version_major": 2,
       "version_minor": 0
      },
      "text/plain": [
       "  0%|          | 0/259 [00:00<?, ?it/s]"
      ]
     },
     "metadata": {},
     "output_type": "display_data"
    },
    {
     "data": {
      "application/vnd.jupyter.widget-view+json": {
       "model_id": "fd3351f4cd9a4a5ab37b1db9616b9314",
       "version_major": 2,
       "version_minor": 0
      },
      "text/plain": [
       "리뷰수집중:   0%|          | 0/1559 [00:00<?, ?it/s]"
      ]
     },
     "metadata": {},
     "output_type": "display_data"
    },
    {
     "ename": "ValueError",
     "evalue": "All arrays must be of the same length",
     "output_type": "error",
     "traceback": [
      "\u001b[1;31m---------------------------------------------------------------------------\u001b[0m",
      "\u001b[1;31mValueError\u001b[0m                                Traceback (most recent call last)",
      "Input \u001b[1;32mIn [298]\u001b[0m, in \u001b[0;36m<cell line: 1>\u001b[1;34m()\u001b[0m\n\u001b[1;32m----> 1\u001b[0m main_frm2 \u001b[38;5;241m=\u001b[39m \u001b[43mmain_2\u001b[49m\u001b[38;5;241;43m.\u001b[39;49m\u001b[43mcrawling_review_loop\u001b[49m\u001b[43m(\u001b[49m\u001b[43m)\u001b[49m\n",
      "Input \u001b[1;32mIn [293]\u001b[0m, in \u001b[0;36mCrawling_review.crawling_review_loop\u001b[1;34m(self)\u001b[0m\n\u001b[0;32m    323\u001b[0m \u001b[38;5;28mprint\u001b[39m(count)\n\u001b[0;32m    324\u001b[0m \u001b[38;5;28mprint\u001b[39m(\u001b[38;5;124m'\u001b[39m\u001b[38;5;124m현재 : \u001b[39m\u001b[38;5;124m'\u001b[39m , rest_name)\n\u001b[1;32m--> 326\u001b[0m rest_df \u001b[38;5;241m=\u001b[39m \u001b[38;5;28;43mself\u001b[39;49m\u001b[38;5;241;43m.\u001b[39;49m\u001b[43mnaver_rest_review\u001b[49m\u001b[43m(\u001b[49m\u001b[43mrest_name\u001b[49m\u001b[43m \u001b[49m\u001b[43m,\u001b[49m\u001b[43m \u001b[49m\u001b[43mrest_id\u001b[49m\u001b[43m)\u001b[49m\n\u001b[0;32m    327\u001b[0m rest_df\u001b[38;5;241m.\u001b[39mto_excel(\u001b[38;5;124mf\u001b[39m\u001b[38;5;124m'\u001b[39m\u001b[38;5;132;01m{\u001b[39;00mregion_01\u001b[38;5;132;01m}\u001b[39;00m\u001b[38;5;124m/\u001b[39m\u001b[38;5;132;01m{\u001b[39;00mregion_02\u001b[38;5;132;01m}\u001b[39;00m\u001b[38;5;124m/\u001b[39m\u001b[38;5;132;01m{\u001b[39;00mregion_03\u001b[38;5;132;01m}\u001b[39;00m\u001b[38;5;124m/\u001b[39m\u001b[38;5;132;01m{\u001b[39;00mrest_name\u001b[38;5;132;01m}\u001b[39;00m\u001b[38;5;124m_review.xlsx\u001b[39m\u001b[38;5;124m'\u001b[39m \n\u001b[0;32m    328\u001b[0m                  , index\u001b[38;5;241m=\u001b[39m\u001b[38;5;28;01mFalse\u001b[39;00m)\n\u001b[0;32m    330\u001b[0m concat_frm \u001b[38;5;241m=\u001b[39m pd\u001b[38;5;241m.\u001b[39mconcat([concat_frm , rest_df] , axis \u001b[38;5;241m=\u001b[39m \u001b[38;5;241m0\u001b[39m)\n",
      "Input \u001b[1;32mIn [293]\u001b[0m, in \u001b[0;36mCrawling_review.naver_rest_review\u001b[1;34m(self, rest_name, rest_id)\u001b[0m\n\u001b[0;32m    253\u001b[0m             review_visit_count\u001b[38;5;241m.\u001b[39mappend(\u001b[38;5;124m'\u001b[39m\u001b[38;5;124m'\u001b[39m)\n\u001b[0;32m    254\u001b[0m             review_check\u001b[38;5;241m.\u001b[39mappend(\u001b[38;5;124m'\u001b[39m\u001b[38;5;124m'\u001b[39m)\n\u001b[1;32m--> 257\u001b[0m df \u001b[38;5;241m=\u001b[39m \u001b[43mpd\u001b[49m\u001b[38;5;241;43m.\u001b[39;49m\u001b[43mDataFrame\u001b[49m\u001b[43m(\u001b[49m\n\u001b[0;32m    258\u001b[0m \u001b[43m    \u001b[49m\u001b[43m{\u001b[49m\u001b[38;5;124;43m'\u001b[39;49m\u001b[38;5;124;43m리뷰\u001b[39;49m\u001b[38;5;124;43m'\u001b[39;49m\u001b[43m \u001b[49m\u001b[43m:\u001b[49m\u001b[43m \u001b[49m\u001b[43mreview_text\u001b[49m\u001b[43m \u001b[49m\n\u001b[0;32m    259\u001b[0m \u001b[43m     \u001b[49m\u001b[43m,\u001b[49m\u001b[43m \u001b[49m\u001b[38;5;124;43m'\u001b[39;49m\u001b[38;5;124;43m리뷰이미지url\u001b[39;49m\u001b[38;5;124;43m'\u001b[39;49m\u001b[43m \u001b[49m\u001b[43m:\u001b[49m\u001b[43m \u001b[49m\u001b[43mreview_image\u001b[49m\u001b[43m \u001b[49m\n\u001b[0;32m    260\u001b[0m \u001b[43m     \u001b[49m\u001b[43m,\u001b[49m\u001b[43m \u001b[49m\u001b[38;5;124;43m'\u001b[39;49m\u001b[38;5;124;43m작성자프로필\u001b[39;49m\u001b[38;5;124;43m'\u001b[39;49m\u001b[43m \u001b[49m\u001b[43m:\u001b[49m\u001b[43m \u001b[49m\u001b[43mreview_profile\u001b[49m\n\u001b[0;32m    261\u001b[0m \u001b[43m     \u001b[49m\u001b[43m,\u001b[49m\u001b[43m \u001b[49m\u001b[38;5;124;43m'\u001b[39;49m\u001b[38;5;124;43mMy플레이스\u001b[39;49m\u001b[38;5;124;43m'\u001b[39;49m\u001b[43m \u001b[49m\u001b[43m:\u001b[49m\u001b[43m \u001b[49m\u001b[43mreview_myplace\u001b[49m\n\u001b[0;32m    262\u001b[0m \u001b[43m     \u001b[49m\u001b[43m,\u001b[49m\u001b[43m \u001b[49m\u001b[38;5;124;43m'\u001b[39;49m\u001b[38;5;124;43m작성자이름\u001b[39;49m\u001b[38;5;124;43m'\u001b[39;49m\u001b[43m \u001b[49m\u001b[43m:\u001b[49m\u001b[43m \u001b[49m\u001b[43mreview_nickname\u001b[49m\u001b[43m \u001b[49m\n\u001b[0;32m    263\u001b[0m \u001b[43m     \u001b[49m\u001b[43m,\u001b[49m\u001b[43m \u001b[49m\u001b[38;5;124;43m'\u001b[39;49m\u001b[38;5;124;43m리뷰작성수\u001b[39;49m\u001b[38;5;124;43m'\u001b[39;49m\u001b[43m \u001b[49m\u001b[43m:\u001b[49m\u001b[43m \u001b[49m\u001b[43mreview_information\u001b[49m\n\u001b[0;32m    264\u001b[0m \u001b[43m     \u001b[49m\u001b[43m,\u001b[49m\u001b[43m \u001b[49m\u001b[38;5;124;43m'\u001b[39;49m\u001b[38;5;124;43m리뷰작성일\u001b[39;49m\u001b[38;5;124;43m'\u001b[39;49m\u001b[43m \u001b[49m\u001b[43m:\u001b[49m\u001b[43m \u001b[49m\u001b[43mreview_date\u001b[49m\n\u001b[0;32m    265\u001b[0m \u001b[43m     \u001b[49m\u001b[43m,\u001b[49m\u001b[43m \u001b[49m\u001b[38;5;124;43m'\u001b[39;49m\u001b[38;5;124;43m식당방문수\u001b[39;49m\u001b[38;5;124;43m'\u001b[39;49m\u001b[43m \u001b[49m\u001b[43m:\u001b[49m\u001b[43m \u001b[49m\u001b[43mreview_visit_count\u001b[49m\n\u001b[0;32m    266\u001b[0m \u001b[43m     \u001b[49m\u001b[43m,\u001b[49m\u001b[43m \u001b[49m\u001b[38;5;124;43m'\u001b[39;49m\u001b[38;5;124;43m리뷰인증방식\u001b[39;49m\u001b[38;5;124;43m'\u001b[39;49m\u001b[43m \u001b[49m\u001b[43m:\u001b[49m\u001b[43m \u001b[49m\u001b[43mreview_check\u001b[49m\n\u001b[0;32m    267\u001b[0m \u001b[43m    \u001b[49m\u001b[43m}\u001b[49m\u001b[43m)\u001b[49m\n\u001b[0;32m    268\u001b[0m df[\u001b[38;5;124m'\u001b[39m\u001b[38;5;124m식당id\u001b[39m\u001b[38;5;124m'\u001b[39m] \u001b[38;5;241m=\u001b[39m rest_id\n\u001b[0;32m    269\u001b[0m df[\u001b[38;5;124m'\u001b[39m\u001b[38;5;124m사업장명\u001b[39m\u001b[38;5;124m'\u001b[39m] \u001b[38;5;241m=\u001b[39m rest_name\n",
      "File \u001b[1;32mD:\\anaconda3\\lib\\site-packages\\pandas\\core\\frame.py:636\u001b[0m, in \u001b[0;36mDataFrame.__init__\u001b[1;34m(self, data, index, columns, dtype, copy)\u001b[0m\n\u001b[0;32m    630\u001b[0m     mgr \u001b[38;5;241m=\u001b[39m \u001b[38;5;28mself\u001b[39m\u001b[38;5;241m.\u001b[39m_init_mgr(\n\u001b[0;32m    631\u001b[0m         data, axes\u001b[38;5;241m=\u001b[39m{\u001b[38;5;124m\"\u001b[39m\u001b[38;5;124mindex\u001b[39m\u001b[38;5;124m\"\u001b[39m: index, \u001b[38;5;124m\"\u001b[39m\u001b[38;5;124mcolumns\u001b[39m\u001b[38;5;124m\"\u001b[39m: columns}, dtype\u001b[38;5;241m=\u001b[39mdtype, copy\u001b[38;5;241m=\u001b[39mcopy\n\u001b[0;32m    632\u001b[0m     )\n\u001b[0;32m    634\u001b[0m \u001b[38;5;28;01melif\u001b[39;00m \u001b[38;5;28misinstance\u001b[39m(data, \u001b[38;5;28mdict\u001b[39m):\n\u001b[0;32m    635\u001b[0m     \u001b[38;5;66;03m# GH#38939 de facto copy defaults to False only in non-dict cases\u001b[39;00m\n\u001b[1;32m--> 636\u001b[0m     mgr \u001b[38;5;241m=\u001b[39m \u001b[43mdict_to_mgr\u001b[49m\u001b[43m(\u001b[49m\u001b[43mdata\u001b[49m\u001b[43m,\u001b[49m\u001b[43m \u001b[49m\u001b[43mindex\u001b[49m\u001b[43m,\u001b[49m\u001b[43m \u001b[49m\u001b[43mcolumns\u001b[49m\u001b[43m,\u001b[49m\u001b[43m \u001b[49m\u001b[43mdtype\u001b[49m\u001b[38;5;241;43m=\u001b[39;49m\u001b[43mdtype\u001b[49m\u001b[43m,\u001b[49m\u001b[43m \u001b[49m\u001b[43mcopy\u001b[49m\u001b[38;5;241;43m=\u001b[39;49m\u001b[43mcopy\u001b[49m\u001b[43m,\u001b[49m\u001b[43m \u001b[49m\u001b[43mtyp\u001b[49m\u001b[38;5;241;43m=\u001b[39;49m\u001b[43mmanager\u001b[49m\u001b[43m)\u001b[49m\n\u001b[0;32m    637\u001b[0m \u001b[38;5;28;01melif\u001b[39;00m \u001b[38;5;28misinstance\u001b[39m(data, ma\u001b[38;5;241m.\u001b[39mMaskedArray):\n\u001b[0;32m    638\u001b[0m     \u001b[38;5;28;01mimport\u001b[39;00m \u001b[38;5;21;01mnumpy\u001b[39;00m\u001b[38;5;21;01m.\u001b[39;00m\u001b[38;5;21;01mma\u001b[39;00m\u001b[38;5;21;01m.\u001b[39;00m\u001b[38;5;21;01mmrecords\u001b[39;00m \u001b[38;5;28;01mas\u001b[39;00m \u001b[38;5;21;01mmrecords\u001b[39;00m\n",
      "File \u001b[1;32mD:\\anaconda3\\lib\\site-packages\\pandas\\core\\internals\\construction.py:502\u001b[0m, in \u001b[0;36mdict_to_mgr\u001b[1;34m(data, index, columns, dtype, typ, copy)\u001b[0m\n\u001b[0;32m    494\u001b[0m     arrays \u001b[38;5;241m=\u001b[39m [\n\u001b[0;32m    495\u001b[0m         x\n\u001b[0;32m    496\u001b[0m         \u001b[38;5;28;01mif\u001b[39;00m \u001b[38;5;129;01mnot\u001b[39;00m \u001b[38;5;28mhasattr\u001b[39m(x, \u001b[38;5;124m\"\u001b[39m\u001b[38;5;124mdtype\u001b[39m\u001b[38;5;124m\"\u001b[39m) \u001b[38;5;129;01mor\u001b[39;00m \u001b[38;5;129;01mnot\u001b[39;00m \u001b[38;5;28misinstance\u001b[39m(x\u001b[38;5;241m.\u001b[39mdtype, ExtensionDtype)\n\u001b[0;32m    497\u001b[0m         \u001b[38;5;28;01melse\u001b[39;00m x\u001b[38;5;241m.\u001b[39mcopy()\n\u001b[0;32m    498\u001b[0m         \u001b[38;5;28;01mfor\u001b[39;00m x \u001b[38;5;129;01min\u001b[39;00m arrays\n\u001b[0;32m    499\u001b[0m     ]\n\u001b[0;32m    500\u001b[0m     \u001b[38;5;66;03m# TODO: can we get rid of the dt64tz special case above?\u001b[39;00m\n\u001b[1;32m--> 502\u001b[0m \u001b[38;5;28;01mreturn\u001b[39;00m \u001b[43marrays_to_mgr\u001b[49m\u001b[43m(\u001b[49m\u001b[43marrays\u001b[49m\u001b[43m,\u001b[49m\u001b[43m \u001b[49m\u001b[43mcolumns\u001b[49m\u001b[43m,\u001b[49m\u001b[43m \u001b[49m\u001b[43mindex\u001b[49m\u001b[43m,\u001b[49m\u001b[43m \u001b[49m\u001b[43mdtype\u001b[49m\u001b[38;5;241;43m=\u001b[39;49m\u001b[43mdtype\u001b[49m\u001b[43m,\u001b[49m\u001b[43m \u001b[49m\u001b[43mtyp\u001b[49m\u001b[38;5;241;43m=\u001b[39;49m\u001b[43mtyp\u001b[49m\u001b[43m,\u001b[49m\u001b[43m \u001b[49m\u001b[43mconsolidate\u001b[49m\u001b[38;5;241;43m=\u001b[39;49m\u001b[43mcopy\u001b[49m\u001b[43m)\u001b[49m\n",
      "File \u001b[1;32mD:\\anaconda3\\lib\\site-packages\\pandas\\core\\internals\\construction.py:120\u001b[0m, in \u001b[0;36marrays_to_mgr\u001b[1;34m(arrays, columns, index, dtype, verify_integrity, typ, consolidate)\u001b[0m\n\u001b[0;32m    117\u001b[0m \u001b[38;5;28;01mif\u001b[39;00m verify_integrity:\n\u001b[0;32m    118\u001b[0m     \u001b[38;5;66;03m# figure out the index, if necessary\u001b[39;00m\n\u001b[0;32m    119\u001b[0m     \u001b[38;5;28;01mif\u001b[39;00m index \u001b[38;5;129;01mis\u001b[39;00m \u001b[38;5;28;01mNone\u001b[39;00m:\n\u001b[1;32m--> 120\u001b[0m         index \u001b[38;5;241m=\u001b[39m \u001b[43m_extract_index\u001b[49m\u001b[43m(\u001b[49m\u001b[43marrays\u001b[49m\u001b[43m)\u001b[49m\n\u001b[0;32m    121\u001b[0m     \u001b[38;5;28;01melse\u001b[39;00m:\n\u001b[0;32m    122\u001b[0m         index \u001b[38;5;241m=\u001b[39m ensure_index(index)\n",
      "File \u001b[1;32mD:\\anaconda3\\lib\\site-packages\\pandas\\core\\internals\\construction.py:674\u001b[0m, in \u001b[0;36m_extract_index\u001b[1;34m(data)\u001b[0m\n\u001b[0;32m    672\u001b[0m lengths \u001b[38;5;241m=\u001b[39m \u001b[38;5;28mlist\u001b[39m(\u001b[38;5;28mset\u001b[39m(raw_lengths))\n\u001b[0;32m    673\u001b[0m \u001b[38;5;28;01mif\u001b[39;00m \u001b[38;5;28mlen\u001b[39m(lengths) \u001b[38;5;241m>\u001b[39m \u001b[38;5;241m1\u001b[39m:\n\u001b[1;32m--> 674\u001b[0m     \u001b[38;5;28;01mraise\u001b[39;00m \u001b[38;5;167;01mValueError\u001b[39;00m(\u001b[38;5;124m\"\u001b[39m\u001b[38;5;124mAll arrays must be of the same length\u001b[39m\u001b[38;5;124m\"\u001b[39m)\n\u001b[0;32m    676\u001b[0m \u001b[38;5;28;01mif\u001b[39;00m have_dicts:\n\u001b[0;32m    677\u001b[0m     \u001b[38;5;28;01mraise\u001b[39;00m \u001b[38;5;167;01mValueError\u001b[39;00m(\n\u001b[0;32m    678\u001b[0m         \u001b[38;5;124m\"\u001b[39m\u001b[38;5;124mMixing dicts with non-Series may lead to ambiguous ordering.\u001b[39m\u001b[38;5;124m\"\u001b[39m\n\u001b[0;32m    679\u001b[0m     )\n",
      "\u001b[1;31mValueError\u001b[0m: All arrays must be of the same length"
     ]
    }
   ],
   "source": [
    "main_frm2 = main_2.crawling_review_loop()"
   ]
  },
  {
   "cell_type": "code",
   "execution_count": 301,
   "id": "f9de426c",
   "metadata": {},
   "outputs": [],
   "source": [
    "#556~\n",
    "main_3 = Crawling_review(data[556:])"
   ]
  },
  {
   "cell_type": "code",
   "execution_count": 302,
   "id": "243b20f6",
   "metadata": {},
   "outputs": [
    {
     "name": "stdout",
     "output_type": "stream",
     "text": [
      "시작\n",
      "------------------------------------------------------------\n",
      "1\n",
      "현재 :  삼무국수\n",
      "현재 크롤링이 진행중인 검색어 : 삼무국수\n"
     ]
    },
    {
     "data": {
      "application/vnd.jupyter.widget-view+json": {
       "model_id": "8862f643563d4459a4d450ce76a39142",
       "version_major": 2,
       "version_minor": 0
      },
      "text/plain": [
       "  0%|          | 0/259 [00:00<?, ?it/s]"
      ]
     },
     "metadata": {},
     "output_type": "display_data"
    },
    {
     "data": {
      "application/vnd.jupyter.widget-view+json": {
       "model_id": "1bdbc7a0c248491e87d9e8e7f8f6fb19",
       "version_major": 2,
       "version_minor": 0
      },
      "text/plain": [
       "리뷰수집중:   0%|          | 0/1559 [00:00<?, ?it/s]"
      ]
     },
     "metadata": {},
     "output_type": "display_data"
    },
    {
     "name": "stdout",
     "output_type": "stream",
     "text": [
      "\n",
      "2\n",
      "현재 :  피자마을앤파닭\n",
      "현재 크롤링이 진행중인 검색어 : 피자마을앤파닭\n",
      "\n",
      "3\n",
      "현재 :  연동길\n",
      "현재 크롤링이 진행중인 검색어 : 연동길\n"
     ]
    },
    {
     "data": {
      "application/vnd.jupyter.widget-view+json": {
       "model_id": "62fd903c41514da780a5607c1449bf0b",
       "version_major": 2,
       "version_minor": 0
      },
      "text/plain": [
       "  0%|          | 0/32 [00:00<?, ?it/s]"
      ]
     },
     "metadata": {},
     "output_type": "display_data"
    },
    {
     "data": {
      "application/vnd.jupyter.widget-view+json": {
       "model_id": "dfe5c127d121447db99c07048502eb20",
       "version_major": 2,
       "version_minor": 0
      },
      "text/plain": [
       "리뷰수집중:   0%|          | 0/239 [00:00<?, ?it/s]"
      ]
     },
     "metadata": {},
     "output_type": "display_data"
    },
    {
     "name": "stdout",
     "output_type": "stream",
     "text": [
      "\n",
      "4\n",
      "현재 :  명품대구막창\n",
      "현재 크롤링이 진행중인 검색어 : 명품대구막창\n",
      "펼칠 리뷰가 없다.\n"
     ]
    },
    {
     "data": {
      "application/vnd.jupyter.widget-view+json": {
       "model_id": "4c75dd2ae1a0490e95b8e1885f7fbf10",
       "version_major": 2,
       "version_minor": 0
      },
      "text/plain": [
       "리뷰수집중:   0%|          | 0/5 [00:00<?, ?it/s]"
      ]
     },
     "metadata": {},
     "output_type": "display_data"
    },
    {
     "name": "stdout",
     "output_type": "stream",
     "text": [
      "\n",
      "5\n",
      "현재 :  부가네얼큰이삼무점\n",
      "현재 크롤링이 진행중인 검색어 : 부가네얼큰이삼무점\n"
     ]
    },
    {
     "data": {
      "application/vnd.jupyter.widget-view+json": {
       "model_id": "fe0d17ca7abf4225b8c1624cabe608e4",
       "version_major": 2,
       "version_minor": 0
      },
      "text/plain": [
       "  0%|          | 0/5 [00:00<?, ?it/s]"
      ]
     },
     "metadata": {},
     "output_type": "display_data"
    },
    {
     "data": {
      "application/vnd.jupyter.widget-view+json": {
       "model_id": "d4c39b7119784e0dba53c7396a9eba19",
       "version_major": 2,
       "version_minor": 0
      },
      "text/plain": [
       "리뷰수집중:   0%|          | 0/17 [00:00<?, ?it/s]"
      ]
     },
     "metadata": {},
     "output_type": "display_data"
    },
    {
     "name": "stdout",
     "output_type": "stream",
     "text": [
      "\n",
      "6\n",
      "현재 :  올리브와뽀빠이\n",
      "현재 크롤링이 진행중인 검색어 : 올리브와뽀빠이\n"
     ]
    },
    {
     "data": {
      "application/vnd.jupyter.widget-view+json": {
       "model_id": "93834d6fa0d040abbc8f59dd4b11977b",
       "version_major": 2,
       "version_minor": 0
      },
      "text/plain": [
       "  0%|          | 0/3 [00:00<?, ?it/s]"
      ]
     },
     "metadata": {},
     "output_type": "display_data"
    },
    {
     "data": {
      "application/vnd.jupyter.widget-view+json": {
       "model_id": "dfc06fc4c6824341a752958401b630d9",
       "version_major": 2,
       "version_minor": 0
      },
      "text/plain": [
       "리뷰수집중:   0%|          | 0/20 [00:00<?, ?it/s]"
      ]
     },
     "metadata": {},
     "output_type": "display_data"
    },
    {
     "name": "stdout",
     "output_type": "stream",
     "text": [
      "\n",
      "7\n",
      "현재 :  오름해산물\n",
      "현재 크롤링이 진행중인 검색어 : 오름해산물\n"
     ]
    },
    {
     "data": {
      "application/vnd.jupyter.widget-view+json": {
       "model_id": "6ea39ccfad604cbda2ce829aa88d64b9",
       "version_major": 2,
       "version_minor": 0
      },
      "text/plain": [
       "  0%|          | 0/7 [00:00<?, ?it/s]"
      ]
     },
     "metadata": {},
     "output_type": "display_data"
    },
    {
     "data": {
      "application/vnd.jupyter.widget-view+json": {
       "model_id": "99212f74644f49bf977cc60b94a363ad",
       "version_major": 2,
       "version_minor": 0
      },
      "text/plain": [
       "리뷰수집중:   0%|          | 0/27 [00:00<?, ?it/s]"
      ]
     },
     "metadata": {},
     "output_type": "display_data"
    },
    {
     "name": "stdout",
     "output_type": "stream",
     "text": [
      "\n",
      "8\n",
      "현재 :  국수몰고랑\n",
      "현재 크롤링이 진행중인 검색어 : 국수몰고랑\n"
     ]
    },
    {
     "data": {
      "application/vnd.jupyter.widget-view+json": {
       "model_id": "b1f7e5a8e1ff45d39b45afd97d0d0353",
       "version_major": 2,
       "version_minor": 0
      },
      "text/plain": [
       "  0%|          | 0/4 [00:00<?, ?it/s]"
      ]
     },
     "metadata": {},
     "output_type": "display_data"
    },
    {
     "data": {
      "application/vnd.jupyter.widget-view+json": {
       "model_id": "914c55f3ea0e403aa00b17976743d788",
       "version_major": 2,
       "version_minor": 0
      },
      "text/plain": [
       "리뷰수집중:   0%|          | 0/46 [00:00<?, ?it/s]"
      ]
     },
     "metadata": {},
     "output_type": "display_data"
    },
    {
     "name": "stdout",
     "output_type": "stream",
     "text": [
      "\n",
      "9\n",
      "현재 :  삼대전통고기국수\n",
      "현재 크롤링이 진행중인 검색어 : 삼대전통고기국수\n"
     ]
    },
    {
     "data": {
      "application/vnd.jupyter.widget-view+json": {
       "model_id": "0ec763fc07564760a4c388adadb3acdb",
       "version_major": 2,
       "version_minor": 0
      },
      "text/plain": [
       "  0%|          | 0/12 [00:00<?, ?it/s]"
      ]
     },
     "metadata": {},
     "output_type": "display_data"
    },
    {
     "data": {
      "application/vnd.jupyter.widget-view+json": {
       "model_id": "35c1b108ea31465a83fae3a0b5a5f489",
       "version_major": 2,
       "version_minor": 0
      },
      "text/plain": [
       "리뷰수집중:   0%|          | 0/78 [00:16<?, ?it/s]"
      ]
     },
     "metadata": {},
     "output_type": "display_data"
    },
    {
     "name": "stdout",
     "output_type": "stream",
     "text": [
      "\n",
      "10\n",
      "현재 :  돌하르방신제주점\n",
      "현재 크롤링이 진행중인 검색어 : 돌하르방신제주점\n"
     ]
    },
    {
     "data": {
      "application/vnd.jupyter.widget-view+json": {
       "model_id": "3f374942e6b1435d90f6783740a8dfd1",
       "version_major": 2,
       "version_minor": 0
      },
      "text/plain": [
       "  0%|          | 0/2 [00:00<?, ?it/s]"
      ]
     },
     "metadata": {},
     "output_type": "display_data"
    },
    {
     "data": {
      "application/vnd.jupyter.widget-view+json": {
       "model_id": "80464fb5c713433a9385daa81771649d",
       "version_major": 2,
       "version_minor": 0
      },
      "text/plain": [
       "리뷰수집중:   0%|          | 0/16 [00:00<?, ?it/s]"
      ]
     },
     "metadata": {},
     "output_type": "display_data"
    },
    {
     "name": "stdout",
     "output_type": "stream",
     "text": [
      "\n",
      "11\n",
      "현재 :  일품연황찜닭\n",
      "현재 크롤링이 진행중인 검색어 : 일품연황찜닭\n",
      "펼칠 리뷰가 없다.\n"
     ]
    },
    {
     "data": {
      "application/vnd.jupyter.widget-view+json": {
       "model_id": "cc3a25f6add94268898496d1cf4b25ff",
       "version_major": 2,
       "version_minor": 0
      },
      "text/plain": [
       "리뷰수집중:   0%|          | 0/8 [00:00<?, ?it/s]"
      ]
     },
     "metadata": {},
     "output_type": "display_data"
    },
    {
     "name": "stdout",
     "output_type": "stream",
     "text": [
      "\n",
      "12\n",
      "현재 :  조개마당\n",
      "현재 크롤링이 진행중인 검색어 : 조개마당\n"
     ]
    },
    {
     "data": {
      "application/vnd.jupyter.widget-view+json": {
       "model_id": "9ba8f69d880a4d419a29578ca91392c2",
       "version_major": 2,
       "version_minor": 0
      },
      "text/plain": [
       "  0%|          | 0/23 [00:04<?, ?it/s]"
      ]
     },
     "metadata": {},
     "output_type": "display_data"
    },
    {
     "data": {
      "application/vnd.jupyter.widget-view+json": {
       "model_id": "9e4da65fe38e43cb919307acba0ab712",
       "version_major": 2,
       "version_minor": 0
      },
      "text/plain": [
       "리뷰수집중:   0%|          | 0/85 [00:00<?, ?it/s]"
      ]
     },
     "metadata": {},
     "output_type": "display_data"
    },
    {
     "name": "stdout",
     "output_type": "stream",
     "text": [
      "\n",
      "13\n",
      "현재 :  도진식당\n",
      "현재 크롤링이 진행중인 검색어 : 도진식당\n"
     ]
    },
    {
     "data": {
      "application/vnd.jupyter.widget-view+json": {
       "model_id": "6fe295de43e3475c945839d8bd94e329",
       "version_major": 2,
       "version_minor": 0
      },
      "text/plain": [
       "  0%|          | 0/2 [00:00<?, ?it/s]"
      ]
     },
     "metadata": {},
     "output_type": "display_data"
    },
    {
     "data": {
      "application/vnd.jupyter.widget-view+json": {
       "model_id": "f23f883a658c42b69777ab0b19b8029a",
       "version_major": 2,
       "version_minor": 0
      },
      "text/plain": [
       "리뷰수집중:   0%|          | 0/21 [00:00<?, ?it/s]"
      ]
     },
     "metadata": {},
     "output_type": "display_data"
    },
    {
     "name": "stdout",
     "output_type": "stream",
     "text": [
      "\n",
      "14\n",
      "현재 :  사랑담은해물\n",
      "현재 크롤링이 진행중인 검색어 : 사랑담은해물\n"
     ]
    },
    {
     "data": {
      "application/vnd.jupyter.widget-view+json": {
       "model_id": "466d56677eff4b1dbe3bb299595a10d5",
       "version_major": 2,
       "version_minor": 0
      },
      "text/plain": [
       "  0%|          | 0/12 [00:00<?, ?it/s]"
      ]
     },
     "metadata": {},
     "output_type": "display_data"
    },
    {
     "data": {
      "application/vnd.jupyter.widget-view+json": {
       "model_id": "31ca743f5ab542ba8d715fde93ca275d",
       "version_major": 2,
       "version_minor": 0
      },
      "text/plain": [
       "리뷰수집중:   0%|          | 0/45 [00:00<?, ?it/s]"
      ]
     },
     "metadata": {},
     "output_type": "display_data"
    },
    {
     "name": "stdout",
     "output_type": "stream",
     "text": [
      "\n",
      "15\n",
      "현재 :  이노우에스시\n",
      "현재 크롤링이 진행중인 검색어 : 이노우에스시\n"
     ]
    },
    {
     "data": {
      "application/vnd.jupyter.widget-view+json": {
       "model_id": "2eea5d548cc34b3b91aaf275b4c19e27",
       "version_major": 2,
       "version_minor": 0
      },
      "text/plain": [
       "  0%|          | 0/13 [00:00<?, ?it/s]"
      ]
     },
     "metadata": {},
     "output_type": "display_data"
    },
    {
     "data": {
      "application/vnd.jupyter.widget-view+json": {
       "model_id": "7744006ab44f4f85adc1e4a12a01a1ab",
       "version_major": 2,
       "version_minor": 0
      },
      "text/plain": [
       "리뷰수집중:   0%|          | 0/39 [00:00<?, ?it/s]"
      ]
     },
     "metadata": {},
     "output_type": "display_data"
    },
    {
     "name": "stdout",
     "output_type": "stream",
     "text": [
      "\n",
      "16\n",
      "현재 :  바라바라\n",
      "현재 크롤링이 진행중인 검색어 : 바라바라\n",
      "펼칠 리뷰가 없다.\n"
     ]
    },
    {
     "data": {
      "application/vnd.jupyter.widget-view+json": {
       "model_id": "f6982023b08c4d8cb1cac3db488c2828",
       "version_major": 2,
       "version_minor": 0
      },
      "text/plain": [
       "리뷰수집중:   0%|          | 0/3 [00:00<?, ?it/s]"
      ]
     },
     "metadata": {},
     "output_type": "display_data"
    },
    {
     "name": "stdout",
     "output_type": "stream",
     "text": [
      "\n",
      "17\n",
      "현재 :  삼무곱창\n",
      "현재 크롤링이 진행중인 검색어 : 삼무곱창\n"
     ]
    },
    {
     "data": {
      "application/vnd.jupyter.widget-view+json": {
       "model_id": "048b9f6e9df846ebaa4afe68bc19cf60",
       "version_major": 2,
       "version_minor": 0
      },
      "text/plain": [
       "  0%|          | 0/19 [00:04<?, ?it/s]"
      ]
     },
     "metadata": {},
     "output_type": "display_data"
    },
    {
     "data": {
      "application/vnd.jupyter.widget-view+json": {
       "model_id": "d0109453f10b4769b55bfedfd3dcf8f9",
       "version_major": 2,
       "version_minor": 0
      },
      "text/plain": [
       "리뷰수집중:   0%|          | 0/50 [00:00<?, ?it/s]"
      ]
     },
     "metadata": {},
     "output_type": "display_data"
    },
    {
     "name": "stdout",
     "output_type": "stream",
     "text": [
      "\n",
      "18\n",
      "현재 :  김씨며느리\n",
      "현재 크롤링이 진행중인 검색어 : 김씨며느리\n"
     ]
    },
    {
     "data": {
      "application/vnd.jupyter.widget-view+json": {
       "model_id": "6c56ecb2c78e47219f8e3abb95a11f30",
       "version_major": 2,
       "version_minor": 0
      },
      "text/plain": [
       "  0%|          | 0/1 [00:00<?, ?it/s]"
      ]
     },
     "metadata": {},
     "output_type": "display_data"
    },
    {
     "data": {
      "application/vnd.jupyter.widget-view+json": {
       "model_id": "c5a4b7edcc7c4610a5bd7fe7cb22223a",
       "version_major": 2,
       "version_minor": 0
      },
      "text/plain": [
       "리뷰수집중:   0%|          | 0/30 [00:00<?, ?it/s]"
      ]
     },
     "metadata": {},
     "output_type": "display_data"
    },
    {
     "name": "stdout",
     "output_type": "stream",
     "text": [
      "\n",
      "19\n",
      "현재 :  쿠루미\n",
      "현재 크롤링이 진행중인 검색어 : 쿠루미\n",
      "펼칠 리뷰가 없다.\n"
     ]
    },
    {
     "data": {
      "application/vnd.jupyter.widget-view+json": {
       "model_id": "4b5438500f734fc8bf63df48e9e35b5a",
       "version_major": 2,
       "version_minor": 0
      },
      "text/plain": [
       "리뷰수집중:   0%|          | 0/9 [00:00<?, ?it/s]"
      ]
     },
     "metadata": {},
     "output_type": "display_data"
    },
    {
     "name": "stdout",
     "output_type": "stream",
     "text": [
      "\n",
      "20\n",
      "현재 :  반주\n",
      "현재 크롤링이 진행중인 검색어 : 반주\n"
     ]
    },
    {
     "data": {
      "application/vnd.jupyter.widget-view+json": {
       "model_id": "99b3920953834b3293926685dba9f17e",
       "version_major": 2,
       "version_minor": 0
      },
      "text/plain": [
       "  0%|          | 0/4 [00:04<?, ?it/s]"
      ]
     },
     "metadata": {},
     "output_type": "display_data"
    },
    {
     "data": {
      "application/vnd.jupyter.widget-view+json": {
       "model_id": "95b8405e8b0041b0bb6bcfa9667003fc",
       "version_major": 2,
       "version_minor": 0
      },
      "text/plain": [
       "리뷰수집중:   0%|          | 0/18 [00:00<?, ?it/s]"
      ]
     },
     "metadata": {},
     "output_type": "display_data"
    },
    {
     "name": "stdout",
     "output_type": "stream",
     "text": [
      "\n",
      "21\n",
      "현재 :  김박사커피밀\n",
      "현재 크롤링이 진행중인 검색어 : 김박사커피밀\n"
     ]
    },
    {
     "data": {
      "application/vnd.jupyter.widget-view+json": {
       "model_id": "f8f5bf93820e4314b9ee75e6124a37de",
       "version_major": 2,
       "version_minor": 0
      },
      "text/plain": [
       "  0%|          | 0/9 [00:00<?, ?it/s]"
      ]
     },
     "metadata": {},
     "output_type": "display_data"
    },
    {
     "data": {
      "application/vnd.jupyter.widget-view+json": {
       "model_id": "5c79a845329142859c8f5acb31028af4",
       "version_major": 2,
       "version_minor": 0
      },
      "text/plain": [
       "리뷰수집중:   0%|          | 0/20 [00:00<?, ?it/s]"
      ]
     },
     "metadata": {},
     "output_type": "display_data"
    },
    {
     "name": "stdout",
     "output_type": "stream",
     "text": [
      "\n",
      "22\n",
      "현재 :  도도푸드\n",
      "현재 크롤링이 진행중인 검색어 : 도도푸드\n",
      "펼칠 리뷰가 없다.\n",
      "\n",
      "23\n",
      "현재 :  비아이푸드\n",
      "현재 크롤링이 진행중인 검색어 : 비아이푸드\n",
      "펼칠 리뷰가 없다.\n",
      "\n",
      "24\n",
      "현재 :  숙희네흑돼지\n",
      "현재 크롤링이 진행중인 검색어 : 숙희네흑돼지\n"
     ]
    },
    {
     "data": {
      "application/vnd.jupyter.widget-view+json": {
       "model_id": "6af18a7035484ff9933968499dab2e1d",
       "version_major": 2,
       "version_minor": 0
      },
      "text/plain": [
       "  0%|          | 0/6 [00:00<?, ?it/s]"
      ]
     },
     "metadata": {},
     "output_type": "display_data"
    },
    {
     "data": {
      "application/vnd.jupyter.widget-view+json": {
       "model_id": "79bb304c5d2f46c58f61ca17dc8e52c2",
       "version_major": 2,
       "version_minor": 0
      },
      "text/plain": [
       "리뷰수집중:   0%|          | 0/30 [00:00<?, ?it/s]"
      ]
     },
     "metadata": {},
     "output_type": "display_data"
    },
    {
     "name": "stdout",
     "output_type": "stream",
     "text": [
      "\n",
      "25\n",
      "현재 :  제주족발보쌈\n",
      "현재 크롤링이 진행중인 검색어 : 제주족발보쌈\n",
      "펼칠 리뷰가 없다.\n"
     ]
    },
    {
     "data": {
      "application/vnd.jupyter.widget-view+json": {
       "model_id": "825fe3877441471daaa498ad33a67116",
       "version_major": 2,
       "version_minor": 0
      },
      "text/plain": [
       "  0%|          | 0/1 [00:00<?, ?it/s]"
      ]
     },
     "metadata": {},
     "output_type": "display_data"
    },
    {
     "data": {
      "application/vnd.jupyter.widget-view+json": {
       "model_id": "40d4e6a7d013471c959e9280a45978c8",
       "version_major": 2,
       "version_minor": 0
      },
      "text/plain": [
       "리뷰수집중:   0%|          | 0/8 [00:00<?, ?it/s]"
      ]
     },
     "metadata": {},
     "output_type": "display_data"
    },
    {
     "name": "stdout",
     "output_type": "stream",
     "text": [
      "\n",
      "26\n",
      "현재 :  공항근처국밥고기국수\n",
      "현재 크롤링이 진행중인 검색어 : 공항근처국밥고기국수\n"
     ]
    },
    {
     "data": {
      "application/vnd.jupyter.widget-view+json": {
       "model_id": "7d5fa570d52e40939aff2395c5410d16",
       "version_major": 2,
       "version_minor": 0
      },
      "text/plain": [
       "  0%|          | 0/11 [00:00<?, ?it/s]"
      ]
     },
     "metadata": {},
     "output_type": "display_data"
    },
    {
     "data": {
      "application/vnd.jupyter.widget-view+json": {
       "model_id": "2888b5de8e8f46c2a85895730023bd44",
       "version_major": 2,
       "version_minor": 0
      },
      "text/plain": [
       "리뷰수집중:   0%|          | 0/47 [00:00<?, ?it/s]"
      ]
     },
     "metadata": {},
     "output_type": "display_data"
    },
    {
     "name": "stdout",
     "output_type": "stream",
     "text": [
      "\n",
      "27\n",
      "현재 :  제주세호해장국연동점\n",
      "현재 크롤링이 진행중인 검색어 : 제주세호해장국연동점\n"
     ]
    },
    {
     "data": {
      "application/vnd.jupyter.widget-view+json": {
       "model_id": "755fd37b7c004a02ac9a33c870fd2a34",
       "version_major": 2,
       "version_minor": 0
      },
      "text/plain": [
       "  0%|          | 0/17 [00:00<?, ?it/s]"
      ]
     },
     "metadata": {},
     "output_type": "display_data"
    },
    {
     "data": {
      "application/vnd.jupyter.widget-view+json": {
       "model_id": "460debbbedde47f18721c9056d3938c0",
       "version_major": 2,
       "version_minor": 0
      },
      "text/plain": [
       "리뷰수집중:   0%|          | 0/83 [00:00<?, ?it/s]"
      ]
     },
     "metadata": {},
     "output_type": "display_data"
    },
    {
     "name": "stdout",
     "output_type": "stream",
     "text": [
      "\n",
      "28\n",
      "현재 :  다정이네곱창집\n",
      "현재 크롤링이 진행중인 검색어 : 다정이네곱창집\n"
     ]
    },
    {
     "data": {
      "application/vnd.jupyter.widget-view+json": {
       "model_id": "9de7ab1a922448c38d431e68d0a640fe",
       "version_major": 2,
       "version_minor": 0
      },
      "text/plain": [
       "  0%|          | 0/7 [00:00<?, ?it/s]"
      ]
     },
     "metadata": {},
     "output_type": "display_data"
    },
    {
     "data": {
      "application/vnd.jupyter.widget-view+json": {
       "model_id": "e94cbf44a3ca46c5820a5b38d191ebac",
       "version_major": 2,
       "version_minor": 0
      },
      "text/plain": [
       "리뷰수집중:   0%|          | 0/38 [00:00<?, ?it/s]"
      ]
     },
     "metadata": {},
     "output_type": "display_data"
    },
    {
     "name": "stdout",
     "output_type": "stream",
     "text": [
      "\n",
      "29\n",
      "현재 :  돈플라이\n",
      "현재 크롤링이 진행중인 검색어 : 돈플라이\n"
     ]
    },
    {
     "data": {
      "application/vnd.jupyter.widget-view+json": {
       "model_id": "33ec8d874cd940b4a774cf879bc31afd",
       "version_major": 2,
       "version_minor": 0
      },
      "text/plain": [
       "  0%|          | 0/2 [00:00<?, ?it/s]"
      ]
     },
     "metadata": {},
     "output_type": "display_data"
    },
    {
     "data": {
      "application/vnd.jupyter.widget-view+json": {
       "model_id": "674df060d88f4187bad3fa4333e2952b",
       "version_major": 2,
       "version_minor": 0
      },
      "text/plain": [
       "리뷰수집중:   0%|          | 0/12 [00:00<?, ?it/s]"
      ]
     },
     "metadata": {},
     "output_type": "display_data"
    },
    {
     "name": "stdout",
     "output_type": "stream",
     "text": [
      "\n",
      "30\n",
      "현재 :  비상식탁\n",
      "현재 크롤링이 진행중인 검색어 : 비상식탁\n",
      "펼칠 리뷰가 없다.\n"
     ]
    },
    {
     "data": {
      "application/vnd.jupyter.widget-view+json": {
       "model_id": "75ae473a0e9546bb8f9d06e748ef086f",
       "version_major": 2,
       "version_minor": 0
      },
      "text/plain": [
       "  0%|          | 0/3 [00:00<?, ?it/s]"
      ]
     },
     "metadata": {},
     "output_type": "display_data"
    },
    {
     "data": {
      "application/vnd.jupyter.widget-view+json": {
       "model_id": "d8e1e43142114db7818a03803dc53d02",
       "version_major": 2,
       "version_minor": 0
      },
      "text/plain": [
       "리뷰수집중:   0%|          | 0/4 [00:00<?, ?it/s]"
      ]
     },
     "metadata": {},
     "output_type": "display_data"
    },
    {
     "name": "stdout",
     "output_type": "stream",
     "text": [
      "\n",
      "31\n",
      "현재 :  시쟈덕\n",
      "현재 크롤링이 진행중인 검색어 : 시쟈덕\n"
     ]
    },
    {
     "data": {
      "application/vnd.jupyter.widget-view+json": {
       "model_id": "dbea652c37594478865bb0e6c336f793",
       "version_major": 2,
       "version_minor": 0
      },
      "text/plain": [
       "  0%|          | 0/7 [00:00<?, ?it/s]"
      ]
     },
     "metadata": {},
     "output_type": "display_data"
    },
    {
     "data": {
      "application/vnd.jupyter.widget-view+json": {
       "model_id": "c7777f9d14634f6b91437b574cfb0d3c",
       "version_major": 2,
       "version_minor": 0
      },
      "text/plain": [
       "리뷰수집중:   0%|          | 0/36 [00:00<?, ?it/s]"
      ]
     },
     "metadata": {},
     "output_type": "display_data"
    },
    {
     "name": "stdout",
     "output_type": "stream",
     "text": [
      "\n",
      "32\n",
      "현재 :  24시제주해장국\n",
      "현재 크롤링이 진행중인 검색어 : 24시제주해장국\n"
     ]
    },
    {
     "data": {
      "application/vnd.jupyter.widget-view+json": {
       "model_id": "f5f1ab53118b40108a65455b22928fa4",
       "version_major": 2,
       "version_minor": 0
      },
      "text/plain": [
       "  0%|          | 0/30 [00:00<?, ?it/s]"
      ]
     },
     "metadata": {},
     "output_type": "display_data"
    },
    {
     "data": {
      "application/vnd.jupyter.widget-view+json": {
       "model_id": "eb2536a114d34a18bdbc7a2a4e46ee8d",
       "version_major": 2,
       "version_minor": 0
      },
      "text/plain": [
       "리뷰수집중:   0%|          | 0/124 [00:00<?, ?it/s]"
      ]
     },
     "metadata": {},
     "output_type": "display_data"
    },
    {
     "name": "stdout",
     "output_type": "stream",
     "text": [
      "\n",
      "33\n",
      "현재 :  제주의온도\n",
      "현재 크롤링이 진행중인 검색어 : 제주의온도\n",
      "펼칠 리뷰가 없다.\n",
      "\n",
      "34\n",
      "현재 :  자가제빵선명희피자신제주점\n",
      "현재 크롤링이 진행중인 검색어 : 자가제빵선명희피자신제주점\n"
     ]
    },
    {
     "data": {
      "application/vnd.jupyter.widget-view+json": {
       "model_id": "a2f158cd37154255989262864055e2ae",
       "version_major": 2,
       "version_minor": 0
      },
      "text/plain": [
       "  0%|          | 0/4 [00:00<?, ?it/s]"
      ]
     },
     "metadata": {},
     "output_type": "display_data"
    },
    {
     "data": {
      "application/vnd.jupyter.widget-view+json": {
       "model_id": "55ae86c16eda4c44bef2b554dbad7b16",
       "version_major": 2,
       "version_minor": 0
      },
      "text/plain": [
       "리뷰수집중:   0%|          | 0/31 [00:16<?, ?it/s]"
      ]
     },
     "metadata": {},
     "output_type": "display_data"
    },
    {
     "name": "stdout",
     "output_type": "stream",
     "text": [
      "\n",
      "35\n",
      "현재 :  산촌오리탕\n",
      "현재 크롤링이 진행중인 검색어 : 산촌오리탕\n",
      "펼칠 리뷰가 없다.\n"
     ]
    },
    {
     "data": {
      "application/vnd.jupyter.widget-view+json": {
       "model_id": "c9290fbff63c44dc8e7753e6ba59a87a",
       "version_major": 2,
       "version_minor": 0
      },
      "text/plain": [
       "  0%|          | 0/1 [00:00<?, ?it/s]"
      ]
     },
     "metadata": {},
     "output_type": "display_data"
    },
    {
     "data": {
      "application/vnd.jupyter.widget-view+json": {
       "model_id": "a6eff7caf2c84624b0407f144318ba7f",
       "version_major": 2,
       "version_minor": 0
      },
      "text/plain": [
       "리뷰수집중:   0%|          | 0/6 [00:00<?, ?it/s]"
      ]
     },
     "metadata": {},
     "output_type": "display_data"
    },
    {
     "name": "stdout",
     "output_type": "stream",
     "text": [
      "\n",
      "36\n",
      "현재 :  녹색집\n",
      "현재 크롤링이 진행중인 검색어 : 녹색집\n"
     ]
    },
    {
     "data": {
      "application/vnd.jupyter.widget-view+json": {
       "model_id": "173c51f2cf5c4ab985a16141bc02474e",
       "version_major": 2,
       "version_minor": 0
      },
      "text/plain": [
       "  0%|          | 0/11 [00:00<?, ?it/s]"
      ]
     },
     "metadata": {},
     "output_type": "display_data"
    },
    {
     "data": {
      "application/vnd.jupyter.widget-view+json": {
       "model_id": "bd9e7b55cf7b48fc825838323606470e",
       "version_major": 2,
       "version_minor": 0
      },
      "text/plain": [
       "리뷰수집중:   0%|          | 0/42 [00:00<?, ?it/s]"
      ]
     },
     "metadata": {},
     "output_type": "display_data"
    },
    {
     "name": "stdout",
     "output_type": "stream",
     "text": [
      "\n",
      "37\n",
      "현재 :  (주)시더스초밥제주연동점\n",
      "현재 크롤링이 진행중인 검색어 : (주)시더스초밥제주연동점\n"
     ]
    },
    {
     "data": {
      "application/vnd.jupyter.widget-view+json": {
       "model_id": "cdc26f70c6b746b590d3698bf052e85d",
       "version_major": 2,
       "version_minor": 0
      },
      "text/plain": [
       "  0%|          | 0/7 [00:00<?, ?it/s]"
      ]
     },
     "metadata": {},
     "output_type": "display_data"
    },
    {
     "data": {
      "application/vnd.jupyter.widget-view+json": {
       "model_id": "e9172d05105e49f39888f23de6947b3e",
       "version_major": 2,
       "version_minor": 0
      },
      "text/plain": [
       "리뷰수집중:   0%|          | 0/47 [00:00<?, ?it/s]"
      ]
     },
     "metadata": {},
     "output_type": "display_data"
    },
    {
     "name": "stdout",
     "output_type": "stream",
     "text": [
      "\n",
      "38\n",
      "현재 :  칼맞은삼겹살제원점\n",
      "현재 크롤링이 진행중인 검색어 : 칼맞은삼겹살제원점\n"
     ]
    },
    {
     "data": {
      "application/vnd.jupyter.widget-view+json": {
       "model_id": "e782d518e0614c639deb4bad729ccfab",
       "version_major": 2,
       "version_minor": 0
      },
      "text/plain": [
       "  0%|          | 0/8 [00:00<?, ?it/s]"
      ]
     },
     "metadata": {},
     "output_type": "display_data"
    },
    {
     "data": {
      "application/vnd.jupyter.widget-view+json": {
       "model_id": "12fb104e99c149c69556fd5d4ef27956",
       "version_major": 2,
       "version_minor": 0
      },
      "text/plain": [
       "리뷰수집중:   0%|          | 0/18 [00:00<?, ?it/s]"
      ]
     },
     "metadata": {},
     "output_type": "display_data"
    },
    {
     "name": "stdout",
     "output_type": "stream",
     "text": [
      "\n",
      "39\n",
      "현재 :  굽담\n",
      "현재 크롤링이 진행중인 검색어 : 굽담\n"
     ]
    },
    {
     "data": {
      "application/vnd.jupyter.widget-view+json": {
       "model_id": "df7bb837e83c49a786af811cf988c097",
       "version_major": 2,
       "version_minor": 0
      },
      "text/plain": [
       "  0%|          | 0/9 [00:00<?, ?it/s]"
      ]
     },
     "metadata": {},
     "output_type": "display_data"
    },
    {
     "data": {
      "application/vnd.jupyter.widget-view+json": {
       "model_id": "b15affc99b3d483eb1399510253c8f66",
       "version_major": 2,
       "version_minor": 0
      },
      "text/plain": [
       "리뷰수집중:   0%|          | 0/19 [00:00<?, ?it/s]"
      ]
     },
     "metadata": {},
     "output_type": "display_data"
    },
    {
     "name": "stdout",
     "output_type": "stream",
     "text": [
      "\n",
      "40\n",
      "현재 :  토박이장터\n",
      "현재 크롤링이 진행중인 검색어 : 토박이장터\n",
      "펼칠 리뷰가 없다.\n"
     ]
    },
    {
     "data": {
      "application/vnd.jupyter.widget-view+json": {
       "model_id": "55b22b3bde4a4ed2a4de75e4fcf40251",
       "version_major": 2,
       "version_minor": 0
      },
      "text/plain": [
       "  0%|          | 0/1 [00:00<?, ?it/s]"
      ]
     },
     "metadata": {},
     "output_type": "display_data"
    },
    {
     "data": {
      "application/vnd.jupyter.widget-view+json": {
       "model_id": "7594f39e066c45718a13ca8a8b210868",
       "version_major": 2,
       "version_minor": 0
      },
      "text/plain": [
       "리뷰수집중:   0%|          | 0/10 [00:00<?, ?it/s]"
      ]
     },
     "metadata": {},
     "output_type": "display_data"
    },
    {
     "name": "stdout",
     "output_type": "stream",
     "text": [
      "\n",
      "41\n",
      "현재 :  제주옹기설렁탕\n",
      "현재 크롤링이 진행중인 검색어 : 제주옹기설렁탕\n"
     ]
    },
    {
     "data": {
      "application/vnd.jupyter.widget-view+json": {
       "model_id": "67323c1cdf2447309bba0cffb245a037",
       "version_major": 2,
       "version_minor": 0
      },
      "text/plain": [
       "  0%|          | 0/1 [00:00<?, ?it/s]"
      ]
     },
     "metadata": {},
     "output_type": "display_data"
    },
    {
     "data": {
      "application/vnd.jupyter.widget-view+json": {
       "model_id": "e05517f434bc4e91b0e2b74a53582385",
       "version_major": 2,
       "version_minor": 0
      },
      "text/plain": [
       "리뷰수집중:   0%|          | 0/69 [00:00<?, ?it/s]"
      ]
     },
     "metadata": {},
     "output_type": "display_data"
    },
    {
     "name": "stdout",
     "output_type": "stream",
     "text": [
      "\n",
      "42\n",
      "현재 :  타코닷\n",
      "현재 크롤링이 진행중인 검색어 : 타코닷\n"
     ]
    },
    {
     "data": {
      "application/vnd.jupyter.widget-view+json": {
       "model_id": "9c9ca510f3c543d5bbbd201dd5e342ce",
       "version_major": 2,
       "version_minor": 0
      },
      "text/plain": [
       "  0%|          | 0/5 [00:00<?, ?it/s]"
      ]
     },
     "metadata": {},
     "output_type": "display_data"
    },
    {
     "data": {
      "application/vnd.jupyter.widget-view+json": {
       "model_id": "6c89aaeff9f84d7ebcea2928ce725e29",
       "version_major": 2,
       "version_minor": 0
      },
      "text/plain": [
       "리뷰수집중:   0%|          | 0/52 [00:00<?, ?it/s]"
      ]
     },
     "metadata": {},
     "output_type": "display_data"
    },
    {
     "name": "stdout",
     "output_type": "stream",
     "text": [
      "\n",
      "43\n",
      "현재 :  추자본섬연동점\n",
      "현재 크롤링이 진행중인 검색어 : 추자본섬연동점\n"
     ]
    },
    {
     "data": {
      "application/vnd.jupyter.widget-view+json": {
       "model_id": "8ce4087720da471bbd05399dbacdf635",
       "version_major": 2,
       "version_minor": 0
      },
      "text/plain": [
       "  0%|          | 0/21 [00:00<?, ?it/s]"
      ]
     },
     "metadata": {},
     "output_type": "display_data"
    },
    {
     "data": {
      "application/vnd.jupyter.widget-view+json": {
       "model_id": "6853c74e497b46fca7d8cc03157bad1f",
       "version_major": 2,
       "version_minor": 0
      },
      "text/plain": [
       "리뷰수집중:   0%|          | 0/92 [00:00<?, ?it/s]"
      ]
     },
     "metadata": {},
     "output_type": "display_data"
    },
    {
     "name": "stdout",
     "output_type": "stream",
     "text": [
      "\n",
      "44\n",
      "현재 :  아싸회\n",
      "현재 크롤링이 진행중인 검색어 : 아싸회\n"
     ]
    },
    {
     "data": {
      "application/vnd.jupyter.widget-view+json": {
       "model_id": "50d49ceb17254c77b6c3e5a9976aa8c8",
       "version_major": 2,
       "version_minor": 0
      },
      "text/plain": [
       "  0%|          | 0/4 [00:00<?, ?it/s]"
      ]
     },
     "metadata": {},
     "output_type": "display_data"
    },
    {
     "data": {
      "application/vnd.jupyter.widget-view+json": {
       "model_id": "cc60e0ae388e44fb8cf03cfda44b5541",
       "version_major": 2,
       "version_minor": 0
      },
      "text/plain": [
       "리뷰수집중:   0%|          | 0/61 [00:00<?, ?it/s]"
      ]
     },
     "metadata": {},
     "output_type": "display_data"
    },
    {
     "name": "stdout",
     "output_type": "stream",
     "text": [
      "\n",
      "45\n",
      "현재 :  연동기사식당\n",
      "현재 크롤링이 진행중인 검색어 : 연동기사식당\n"
     ]
    },
    {
     "data": {
      "application/vnd.jupyter.widget-view+json": {
       "model_id": "9eb76358234f467292dd9a1260460713",
       "version_major": 2,
       "version_minor": 0
      },
      "text/plain": [
       "  0%|          | 0/4 [00:00<?, ?it/s]"
      ]
     },
     "metadata": {},
     "output_type": "display_data"
    },
    {
     "data": {
      "application/vnd.jupyter.widget-view+json": {
       "model_id": "d4c2c82fb1c14604af65eaefbd74eb56",
       "version_major": 2,
       "version_minor": 0
      },
      "text/plain": [
       "리뷰수집중:   0%|          | 0/33 [00:00<?, ?it/s]"
      ]
     },
     "metadata": {},
     "output_type": "display_data"
    },
    {
     "name": "stdout",
     "output_type": "stream",
     "text": [
      "\n",
      "46\n",
      "현재 :  낭랑\n",
      "현재 크롤링이 진행중인 검색어 : 낭랑\n",
      "펼칠 리뷰가 없다.\n"
     ]
    },
    {
     "data": {
      "application/vnd.jupyter.widget-view+json": {
       "model_id": "d4f97e32f14644e19d4dea9b765efd6e",
       "version_major": 2,
       "version_minor": 0
      },
      "text/plain": [
       "리뷰수집중:   0%|          | 0/5 [00:00<?, ?it/s]"
      ]
     },
     "metadata": {},
     "output_type": "display_data"
    },
    {
     "name": "stdout",
     "output_type": "stream",
     "text": [
      "\n",
      "47\n",
      "현재 :  영구스피자제주점\n",
      "현재 크롤링이 진행중인 검색어 : 영구스피자제주점\n"
     ]
    },
    {
     "data": {
      "application/vnd.jupyter.widget-view+json": {
       "model_id": "9371c2274d2740039e4621b8143e6649",
       "version_major": 2,
       "version_minor": 0
      },
      "text/plain": [
       "  0%|          | 0/1 [00:04<?, ?it/s]"
      ]
     },
     "metadata": {},
     "output_type": "display_data"
    },
    {
     "data": {
      "application/vnd.jupyter.widget-view+json": {
       "model_id": "4754c60e68694c08b51eb59696d26e96",
       "version_major": 2,
       "version_minor": 0
      },
      "text/plain": [
       "리뷰수집중:   0%|          | 0/12 [00:00<?, ?it/s]"
      ]
     },
     "metadata": {},
     "output_type": "display_data"
    },
    {
     "name": "stdout",
     "output_type": "stream",
     "text": [
      "\n",
      "48\n",
      "현재 :  돼지삼춘생구이\n",
      "현재 크롤링이 진행중인 검색어 : 돼지삼춘생구이\n"
     ]
    },
    {
     "data": {
      "application/vnd.jupyter.widget-view+json": {
       "model_id": "0c9d70a70ac34ba4879da2d6d3c53c0c",
       "version_major": 2,
       "version_minor": 0
      },
      "text/plain": [
       "리뷰수집중:   0%|          | 0/31 [00:00<?, ?it/s]"
      ]
     },
     "metadata": {},
     "output_type": "display_data"
    },
    {
     "name": "stdout",
     "output_type": "stream",
     "text": [
      "\n",
      "49\n",
      "현재 :  아구찜의정석\n",
      "현재 크롤링이 진행중인 검색어 : 아구찜의정석\n"
     ]
    },
    {
     "data": {
      "application/vnd.jupyter.widget-view+json": {
       "model_id": "3320196b4aa44df0b87a124641a09bd0",
       "version_major": 2,
       "version_minor": 0
      },
      "text/plain": [
       "  0%|          | 0/2 [00:00<?, ?it/s]"
      ]
     },
     "metadata": {},
     "output_type": "display_data"
    },
    {
     "data": {
      "application/vnd.jupyter.widget-view+json": {
       "model_id": "a8062cbb20674d1a9a6d35c768e3bd78",
       "version_major": 2,
       "version_minor": 0
      },
      "text/plain": [
       "리뷰수집중:   0%|          | 0/14 [00:00<?, ?it/s]"
      ]
     },
     "metadata": {},
     "output_type": "display_data"
    },
    {
     "name": "stdout",
     "output_type": "stream",
     "text": [
      "\n",
      "50\n",
      "현재 :  돈모아\n",
      "현재 크롤링이 진행중인 검색어 : 돈모아\n",
      "\n",
      "51\n",
      "현재 :  일등아들\n",
      "현재 크롤링이 진행중인 검색어 : 일등아들\n",
      "펼칠 리뷰가 없다.\n"
     ]
    },
    {
     "data": {
      "application/vnd.jupyter.widget-view+json": {
       "model_id": "588e06a8788c425c899d2b26370801e9",
       "version_major": 2,
       "version_minor": 0
      },
      "text/plain": [
       "리뷰수집중:   0%|          | 0/7 [00:00<?, ?it/s]"
      ]
     },
     "metadata": {},
     "output_type": "display_data"
    },
    {
     "name": "stdout",
     "output_type": "stream",
     "text": [
      "\n",
      "52\n",
      "현재 :  꼼닭\n",
      "현재 크롤링이 진행중인 검색어 : 꼼닭\n",
      "펼칠 리뷰가 없다.\n"
     ]
    },
    {
     "data": {
      "application/vnd.jupyter.widget-view+json": {
       "model_id": "36062b1b337946d9b41bffb819e808e2",
       "version_major": 2,
       "version_minor": 0
      },
      "text/plain": [
       "  0%|          | 0/4 [00:00<?, ?it/s]"
      ]
     },
     "metadata": {},
     "output_type": "display_data"
    },
    {
     "data": {
      "application/vnd.jupyter.widget-view+json": {
       "model_id": "fb72e12b6a0744f98a7a3a19b6f5698e",
       "version_major": 2,
       "version_minor": 0
      },
      "text/plain": [
       "리뷰수집중:   0%|          | 0/10 [00:00<?, ?it/s]"
      ]
     },
     "metadata": {},
     "output_type": "display_data"
    },
    {
     "name": "stdout",
     "output_type": "stream",
     "text": [
      "\n",
      "53\n",
      "현재 :  신제주빠빠라기\n",
      "현재 크롤링이 진행중인 검색어 : 신제주빠빠라기\n"
     ]
    },
    {
     "data": {
      "application/vnd.jupyter.widget-view+json": {
       "model_id": "eb8f09e9d100457696a293420b39ad9f",
       "version_major": 2,
       "version_minor": 0
      },
      "text/plain": [
       "  0%|          | 0/32 [00:00<?, ?it/s]"
      ]
     },
     "metadata": {},
     "output_type": "display_data"
    },
    {
     "data": {
      "application/vnd.jupyter.widget-view+json": {
       "model_id": "819f48e0129541fdab6b751d1979fe17",
       "version_major": 2,
       "version_minor": 0
      },
      "text/plain": [
       "리뷰수집중:   0%|          | 0/281 [00:00<?, ?it/s]"
      ]
     },
     "metadata": {},
     "output_type": "display_data"
    },
    {
     "name": "stdout",
     "output_type": "stream",
     "text": [
      "\n",
      "54\n",
      "현재 :  우리네보쌈\n",
      "현재 크롤링이 진행중인 검색어 : 우리네보쌈\n",
      "펼칠 리뷰가 없다.\n"
     ]
    },
    {
     "data": {
      "application/vnd.jupyter.widget-view+json": {
       "model_id": "009db64d517d42b09d9f84b670472c99",
       "version_major": 2,
       "version_minor": 0
      },
      "text/plain": [
       "  0%|          | 0/1 [00:00<?, ?it/s]"
      ]
     },
     "metadata": {},
     "output_type": "display_data"
    },
    {
     "data": {
      "application/vnd.jupyter.widget-view+json": {
       "model_id": "b793ae87c42142e4aee7beedc035fd0c",
       "version_major": 2,
       "version_minor": 0
      },
      "text/plain": [
       "리뷰수집중:   0%|          | 0/10 [00:00<?, ?it/s]"
      ]
     },
     "metadata": {},
     "output_type": "display_data"
    },
    {
     "name": "stdout",
     "output_type": "stream",
     "text": [
      "\n",
      "55\n",
      "현재 :  몽마르지\n",
      "현재 크롤링이 진행중인 검색어 : 몽마르지\n",
      "\n",
      "56\n",
      "현재 :  꼴통집본점\n",
      "현재 크롤링이 진행중인 검색어 : 꼴통집본점\n"
     ]
    },
    {
     "data": {
      "application/vnd.jupyter.widget-view+json": {
       "model_id": "ecbd22af89ea45d498b645a7f69d3cf8",
       "version_major": 2,
       "version_minor": 0
      },
      "text/plain": [
       "  0%|          | 0/5 [00:00<?, ?it/s]"
      ]
     },
     "metadata": {},
     "output_type": "display_data"
    },
    {
     "data": {
      "application/vnd.jupyter.widget-view+json": {
       "model_id": "21fe99c5002e4a49abc19497e6b53680",
       "version_major": 2,
       "version_minor": 0
      },
      "text/plain": [
       "리뷰수집중:   0%|          | 0/15 [00:00<?, ?it/s]"
      ]
     },
     "metadata": {},
     "output_type": "display_data"
    },
    {
     "name": "stdout",
     "output_type": "stream",
     "text": [
      "\n",
      "57\n",
      "현재 :  함지신신불닭발본점\n",
      "현재 크롤링이 진행중인 검색어 : 함지신신불닭발본점\n"
     ]
    },
    {
     "data": {
      "application/vnd.jupyter.widget-view+json": {
       "model_id": "dc6f563a4b9742269ae1974ba81cf186",
       "version_major": 2,
       "version_minor": 0
      },
      "text/plain": [
       "  0%|          | 0/2 [00:00<?, ?it/s]"
      ]
     },
     "metadata": {},
     "output_type": "display_data"
    },
    {
     "data": {
      "application/vnd.jupyter.widget-view+json": {
       "model_id": "5fba11fc2cac49ba9130add5223ec12f",
       "version_major": 2,
       "version_minor": 0
      },
      "text/plain": [
       "리뷰수집중:   0%|          | 0/39 [00:00<?, ?it/s]"
      ]
     },
     "metadata": {},
     "output_type": "display_data"
    },
    {
     "name": "stdout",
     "output_type": "stream",
     "text": [
      "\n",
      "58\n",
      "현재 :  투다리월드점\n",
      "현재 크롤링이 진행중인 검색어 : 투다리월드점\n",
      "펼칠 리뷰가 없다.\n"
     ]
    },
    {
     "data": {
      "application/vnd.jupyter.widget-view+json": {
       "model_id": "4f00319c2c794952baf992a5cc15e0e9",
       "version_major": 2,
       "version_minor": 0
      },
      "text/plain": [
       "리뷰수집중:   0%|          | 0/8 [00:00<?, ?it/s]"
      ]
     },
     "metadata": {},
     "output_type": "display_data"
    },
    {
     "name": "stdout",
     "output_type": "stream",
     "text": [
      "\n",
      "59\n",
      "현재 :  아싸살아있네\n",
      "현재 크롤링이 진행중인 검색어 : 아싸살아있네\n"
     ]
    },
    {
     "data": {
      "application/vnd.jupyter.widget-view+json": {
       "model_id": "300cf75231544d2281fb6e7b8b9a8405",
       "version_major": 2,
       "version_minor": 0
      },
      "text/plain": [
       "  0%|          | 0/10 [00:04<?, ?it/s]"
      ]
     },
     "metadata": {},
     "output_type": "display_data"
    },
    {
     "data": {
      "application/vnd.jupyter.widget-view+json": {
       "model_id": "826764367d86447388a1b698d302297b",
       "version_major": 2,
       "version_minor": 0
      },
      "text/plain": [
       "리뷰수집중:   0%|          | 0/81 [00:00<?, ?it/s]"
      ]
     },
     "metadata": {},
     "output_type": "display_data"
    },
    {
     "name": "stdout",
     "output_type": "stream",
     "text": [
      "\n",
      "60\n",
      "현재 :  모살물\n",
      "현재 크롤링이 진행중인 검색어 : 모살물\n"
     ]
    },
    {
     "data": {
      "application/vnd.jupyter.widget-view+json": {
       "model_id": "4a88b87aeb5f4d319441b01dc7bb61a1",
       "version_major": 2,
       "version_minor": 0
      },
      "text/plain": [
       "  0%|          | 0/56 [00:00<?, ?it/s]"
      ]
     },
     "metadata": {},
     "output_type": "display_data"
    },
    {
     "data": {
      "application/vnd.jupyter.widget-view+json": {
       "model_id": "f1a8bf9effff47848a0454ad0693e423",
       "version_major": 2,
       "version_minor": 0
      },
      "text/plain": [
       "리뷰수집중:   0%|          | 0/305 [00:00<?, ?it/s]"
      ]
     },
     "metadata": {},
     "output_type": "display_data"
    },
    {
     "name": "stdout",
     "output_type": "stream",
     "text": [
      "\n",
      "61\n",
      "현재 :  막끌리나\n",
      "현재 크롤링이 진행중인 검색어 : 막끌리나\n",
      "펼칠 리뷰가 없다.\n"
     ]
    },
    {
     "data": {
      "application/vnd.jupyter.widget-view+json": {
       "model_id": "f6cff6256e0946dba955cf19ab60d885",
       "version_major": 2,
       "version_minor": 0
      },
      "text/plain": [
       "리뷰수집중:   0%|          | 0/7 [00:00<?, ?it/s]"
      ]
     },
     "metadata": {},
     "output_type": "display_data"
    },
    {
     "name": "stdout",
     "output_type": "stream",
     "text": [
      "\n",
      "62\n",
      "현재 :  전복나라\n",
      "현재 크롤링이 진행중인 검색어 : 전복나라\n"
     ]
    },
    {
     "data": {
      "application/vnd.jupyter.widget-view+json": {
       "model_id": "c35be4d6e0a043e88d05225e39c4ec53",
       "version_major": 2,
       "version_minor": 0
      },
      "text/plain": [
       "  0%|          | 0/5 [00:00<?, ?it/s]"
      ]
     },
     "metadata": {},
     "output_type": "display_data"
    },
    {
     "data": {
      "application/vnd.jupyter.widget-view+json": {
       "model_id": "95d88ab225ca4689b8abe506dc034011",
       "version_major": 2,
       "version_minor": 0
      },
      "text/plain": [
       "리뷰수집중:   0%|          | 0/26 [00:00<?, ?it/s]"
      ]
     },
     "metadata": {},
     "output_type": "display_data"
    },
    {
     "name": "stdout",
     "output_type": "stream",
     "text": [
      "\n",
      "63\n",
      "현재 :  대박국수\n",
      "현재 크롤링이 진행중인 검색어 : 대박국수\n"
     ]
    },
    {
     "data": {
      "application/vnd.jupyter.widget-view+json": {
       "model_id": "ad58387e4e054548a54e458a5c622643",
       "version_major": 2,
       "version_minor": 0
      },
      "text/plain": [
       "  0%|          | 0/18 [00:00<?, ?it/s]"
      ]
     },
     "metadata": {},
     "output_type": "display_data"
    },
    {
     "data": {
      "application/vnd.jupyter.widget-view+json": {
       "model_id": "48702d2f990747e1bcfc5274801b4c47",
       "version_major": 2,
       "version_minor": 0
      },
      "text/plain": [
       "리뷰수집중:   0%|          | 0/96 [00:00<?, ?it/s]"
      ]
     },
     "metadata": {},
     "output_type": "display_data"
    },
    {
     "name": "stdout",
     "output_type": "stream",
     "text": [
      "\n",
      "64\n",
      "현재 :  채담\n",
      "현재 크롤링이 진행중인 검색어 : 채담\n"
     ]
    },
    {
     "data": {
      "application/vnd.jupyter.widget-view+json": {
       "model_id": "021fbc167310413089a2fe6ee7febebf",
       "version_major": 2,
       "version_minor": 0
      },
      "text/plain": [
       "  0%|          | 0/6 [00:00<?, ?it/s]"
      ]
     },
     "metadata": {},
     "output_type": "display_data"
    },
    {
     "data": {
      "application/vnd.jupyter.widget-view+json": {
       "model_id": "a24f7286cdcd45c59157b2fa3bfb71a5",
       "version_major": 2,
       "version_minor": 0
      },
      "text/plain": [
       "리뷰수집중:   0%|          | 0/35 [00:00<?, ?it/s]"
      ]
     },
     "metadata": {},
     "output_type": "display_data"
    },
    {
     "name": "stdout",
     "output_type": "stream",
     "text": [
      "\n",
      "65\n",
      "현재 :  신마포갈매기신제주점\n",
      "현재 크롤링이 진행중인 검색어 : 신마포갈매기신제주점\n"
     ]
    },
    {
     "data": {
      "application/vnd.jupyter.widget-view+json": {
       "model_id": "f544d9bc592d4263afecb5da33ccf602",
       "version_major": 2,
       "version_minor": 0
      },
      "text/plain": [
       "  0%|          | 0/46 [00:00<?, ?it/s]"
      ]
     },
     "metadata": {},
     "output_type": "display_data"
    },
    {
     "data": {
      "application/vnd.jupyter.widget-view+json": {
       "model_id": "d6bd7e2d15bd4ff691935c827457cc82",
       "version_major": 2,
       "version_minor": 0
      },
      "text/plain": [
       "리뷰수집중:   0%|          | 0/130 [00:00<?, ?it/s]"
      ]
     },
     "metadata": {},
     "output_type": "display_data"
    },
    {
     "name": "stdout",
     "output_type": "stream",
     "text": [
      "\n",
      "66\n",
      "현재 :  공푸마라탕\n",
      "현재 크롤링이 진행중인 검색어 : 공푸마라탕\n"
     ]
    },
    {
     "data": {
      "application/vnd.jupyter.widget-view+json": {
       "model_id": "dbf0428bced8401daaaa1c561888b2dd",
       "version_major": 2,
       "version_minor": 0
      },
      "text/plain": [
       "  0%|          | 0/2 [00:00<?, ?it/s]"
      ]
     },
     "metadata": {},
     "output_type": "display_data"
    },
    {
     "data": {
      "application/vnd.jupyter.widget-view+json": {
       "model_id": "87268f234acf4564b705a1801b1bddcf",
       "version_major": 2,
       "version_minor": 0
      },
      "text/plain": [
       "리뷰수집중:   0%|          | 0/28 [00:00<?, ?it/s]"
      ]
     },
     "metadata": {},
     "output_type": "display_data"
    },
    {
     "name": "stdout",
     "output_type": "stream",
     "text": [
      "\n",
      "67\n",
      "현재 :  해녀고기\n",
      "현재 크롤링이 진행중인 검색어 : 해녀고기\n"
     ]
    },
    {
     "data": {
      "application/vnd.jupyter.widget-view+json": {
       "model_id": "5c4ae4d46b0d4e968ab9dcb8fc1476d1",
       "version_major": 2,
       "version_minor": 0
      },
      "text/plain": [
       "  0%|          | 0/939 [00:00<?, ?it/s]"
      ]
     },
     "metadata": {},
     "output_type": "display_data"
    },
    {
     "data": {
      "application/vnd.jupyter.widget-view+json": {
       "model_id": "3801bc5d43c44c66b63e7daf942242a3",
       "version_major": 2,
       "version_minor": 0
      },
      "text/plain": [
       "리뷰수집중:   0%|          | 0/1900 [00:00<?, ?it/s]"
      ]
     },
     "metadata": {},
     "output_type": "display_data"
    },
    {
     "name": "stdout",
     "output_type": "stream",
     "text": [
      "\n",
      "68\n",
      "현재 :  풍요로움\n",
      "현재 크롤링이 진행중인 검색어 : 풍요로움\n",
      "펼칠 리뷰가 없다.\n"
     ]
    },
    {
     "data": {
      "application/vnd.jupyter.widget-view+json": {
       "model_id": "e7ea82764e6a46e99e2d533ac66fdb86",
       "version_major": 2,
       "version_minor": 0
      },
      "text/plain": [
       "  0%|          | 0/1 [00:00<?, ?it/s]"
      ]
     },
     "metadata": {},
     "output_type": "display_data"
    },
    {
     "data": {
      "application/vnd.jupyter.widget-view+json": {
       "model_id": "8b7c180b53dc45b3bc1ec24fc7698864",
       "version_major": 2,
       "version_minor": 0
      },
      "text/plain": [
       "리뷰수집중:   0%|          | 0/5 [00:00<?, ?it/s]"
      ]
     },
     "metadata": {},
     "output_type": "display_data"
    },
    {
     "name": "stdout",
     "output_type": "stream",
     "text": [
      "\n",
      "69\n",
      "현재 :  곤지암할매소머리국밥신제주점\n",
      "현재 크롤링이 진행중인 검색어 : 곤지암할매소머리국밥신제주점\n"
     ]
    },
    {
     "data": {
      "application/vnd.jupyter.widget-view+json": {
       "model_id": "9d73c60cdcde47c7b1f577eafb1e0133",
       "version_major": 2,
       "version_minor": 0
      },
      "text/plain": [
       "  0%|          | 0/13 [00:00<?, ?it/s]"
      ]
     },
     "metadata": {},
     "output_type": "display_data"
    },
    {
     "data": {
      "application/vnd.jupyter.widget-view+json": {
       "model_id": "58b5c69554d540fd99c231780ac8681c",
       "version_major": 2,
       "version_minor": 0
      },
      "text/plain": [
       "리뷰수집중:   0%|          | 0/106 [00:00<?, ?it/s]"
      ]
     },
     "metadata": {},
     "output_type": "display_data"
    },
    {
     "name": "stdout",
     "output_type": "stream",
     "text": [
      "\n",
      "70\n",
      "현재 :  울고넘는박달재\n",
      "현재 크롤링이 진행중인 검색어 : 울고넘는박달재\n",
      "\n",
      "71\n",
      "현재 :  민준이네\n",
      "현재 크롤링이 진행중인 검색어 : 민준이네\n"
     ]
    },
    {
     "data": {
      "application/vnd.jupyter.widget-view+json": {
       "model_id": "a27dfc871f5249029798ed397b4518a8",
       "version_major": 2,
       "version_minor": 0
      },
      "text/plain": [
       "  0%|          | 0/3 [00:00<?, ?it/s]"
      ]
     },
     "metadata": {},
     "output_type": "display_data"
    },
    {
     "data": {
      "application/vnd.jupyter.widget-view+json": {
       "model_id": "d2285817e4994beab245dc7722a44244",
       "version_major": 2,
       "version_minor": 0
      },
      "text/plain": [
       "리뷰수집중:   0%|          | 0/59 [00:00<?, ?it/s]"
      ]
     },
     "metadata": {},
     "output_type": "display_data"
    },
    {
     "name": "stdout",
     "output_type": "stream",
     "text": [
      "\n",
      "72\n",
      "현재 :  낙지친구\n",
      "현재 크롤링이 진행중인 검색어 : 낙지친구\n"
     ]
    },
    {
     "data": {
      "application/vnd.jupyter.widget-view+json": {
       "model_id": "ab4b246c96494210a17867ae689ac1f2",
       "version_major": 2,
       "version_minor": 0
      },
      "text/plain": [
       "  0%|          | 0/26 [00:00<?, ?it/s]"
      ]
     },
     "metadata": {},
     "output_type": "display_data"
    },
    {
     "data": {
      "application/vnd.jupyter.widget-view+json": {
       "model_id": "a57197f046cc4c9391527597dd39acb7",
       "version_major": 2,
       "version_minor": 0
      },
      "text/plain": [
       "리뷰수집중:   0%|          | 0/108 [00:00<?, ?it/s]"
      ]
     },
     "metadata": {},
     "output_type": "display_data"
    },
    {
     "name": "stdout",
     "output_type": "stream",
     "text": [
      "\n",
      "73\n",
      "현재 :  참숯불닭발\n",
      "현재 크롤링이 진행중인 검색어 : 참숯불닭발\n",
      "펼칠 리뷰가 없다.\n"
     ]
    },
    {
     "data": {
      "application/vnd.jupyter.widget-view+json": {
       "model_id": "d82f2c5167294f5c852fe866b7da6a86",
       "version_major": 2,
       "version_minor": 0
      },
      "text/plain": [
       "  0%|          | 0/1 [00:00<?, ?it/s]"
      ]
     },
     "metadata": {},
     "output_type": "display_data"
    },
    {
     "data": {
      "application/vnd.jupyter.widget-view+json": {
       "model_id": "20032873d5014fc58e3a5246fa4eda7e",
       "version_major": 2,
       "version_minor": 0
      },
      "text/plain": [
       "리뷰수집중:   0%|          | 0/7 [00:00<?, ?it/s]"
      ]
     },
     "metadata": {},
     "output_type": "display_data"
    },
    {
     "name": "stdout",
     "output_type": "stream",
     "text": [
      "\n",
      "74\n",
      "현재 :  어매흑돼지\n",
      "현재 크롤링이 진행중인 검색어 : 어매흑돼지\n"
     ]
    },
    {
     "data": {
      "application/vnd.jupyter.widget-view+json": {
       "model_id": "0e9ece1817e746aa927782a74790431a",
       "version_major": 2,
       "version_minor": 0
      },
      "text/plain": [
       "  0%|          | 0/16 [00:00<?, ?it/s]"
      ]
     },
     "metadata": {},
     "output_type": "display_data"
    },
    {
     "data": {
      "application/vnd.jupyter.widget-view+json": {
       "model_id": "a84265457ca2428b89d4482eb24f9df4",
       "version_major": 2,
       "version_minor": 0
      },
      "text/plain": [
       "리뷰수집중:   0%|          | 0/88 [00:00<?, ?it/s]"
      ]
     },
     "metadata": {},
     "output_type": "display_data"
    },
    {
     "name": "stdout",
     "output_type": "stream",
     "text": [
      "\n",
      "75\n",
      "현재 :  돼지목장\n",
      "현재 크롤링이 진행중인 검색어 : 돼지목장\n"
     ]
    },
    {
     "data": {
      "application/vnd.jupyter.widget-view+json": {
       "model_id": "ddbc888a95074f4cbc77551149b48e6d",
       "version_major": 2,
       "version_minor": 0
      },
      "text/plain": [
       "  0%|          | 0/1 [00:00<?, ?it/s]"
      ]
     },
     "metadata": {},
     "output_type": "display_data"
    },
    {
     "data": {
      "application/vnd.jupyter.widget-view+json": {
       "model_id": "873f8244aba044eebfc091689e2d358b",
       "version_major": 2,
       "version_minor": 0
      },
      "text/plain": [
       "리뷰수집중:   0%|          | 0/20 [00:00<?, ?it/s]"
      ]
     },
     "metadata": {},
     "output_type": "display_data"
    },
    {
     "name": "stdout",
     "output_type": "stream",
     "text": [
      "\n",
      "76\n",
      "현재 :  남문숯불바베큐앤치킨신제주점\n",
      "현재 크롤링이 진행중인 검색어 : 남문숯불바베큐앤치킨신제주점\n"
     ]
    },
    {
     "data": {
      "application/vnd.jupyter.widget-view+json": {
       "model_id": "b88d378a4ca144f7a720efc1c327e44c",
       "version_major": 2,
       "version_minor": 0
      },
      "text/plain": [
       "  0%|          | 0/1 [00:00<?, ?it/s]"
      ]
     },
     "metadata": {},
     "output_type": "display_data"
    },
    {
     "data": {
      "application/vnd.jupyter.widget-view+json": {
       "model_id": "71997a126c3f4dda8b1111b3a72ef84f",
       "version_major": 2,
       "version_minor": 0
      },
      "text/plain": [
       "리뷰수집중:   0%|          | 0/43 [00:00<?, ?it/s]"
      ]
     },
     "metadata": {},
     "output_type": "display_data"
    },
    {
     "name": "stdout",
     "output_type": "stream",
     "text": [
      "\n",
      "77\n",
      "현재 :  제주다방\n",
      "현재 크롤링이 진행중인 검색어 : 제주다방\n",
      "펼칠 리뷰가 없다.\n"
     ]
    },
    {
     "data": {
      "application/vnd.jupyter.widget-view+json": {
       "model_id": "2f0c2a4e6d7943f789b8d31b598b22eb",
       "version_major": 2,
       "version_minor": 0
      },
      "text/plain": [
       "리뷰수집중:   0%|          | 0/7 [00:00<?, ?it/s]"
      ]
     },
     "metadata": {},
     "output_type": "display_data"
    },
    {
     "name": "stdout",
     "output_type": "stream",
     "text": [
      "\n",
      "78\n",
      "현재 :  마시모\n",
      "현재 크롤링이 진행중인 검색어 : 마시모\n"
     ]
    },
    {
     "data": {
      "application/vnd.jupyter.widget-view+json": {
       "model_id": "7dbc07e3f41445de8bc2467706c21160",
       "version_major": 2,
       "version_minor": 0
      },
      "text/plain": [
       "리뷰수집중:   0%|          | 0/17 [00:04<?, ?it/s]"
      ]
     },
     "metadata": {},
     "output_type": "display_data"
    },
    {
     "name": "stdout",
     "output_type": "stream",
     "text": [
      "\n",
      "79\n",
      "현재 :  커피순\n",
      "현재 크롤링이 진행중인 검색어 : 커피순\n"
     ]
    },
    {
     "data": {
      "application/vnd.jupyter.widget-view+json": {
       "model_id": "84c1f9faea084cf39bec2d1eb12a078b",
       "version_major": 2,
       "version_minor": 0
      },
      "text/plain": [
       "  0%|          | 0/14 [00:00<?, ?it/s]"
      ]
     },
     "metadata": {},
     "output_type": "display_data"
    },
    {
     "data": {
      "application/vnd.jupyter.widget-view+json": {
       "model_id": "7cccdd0483b24c1cacb46cc2f3ca54be",
       "version_major": 2,
       "version_minor": 0
      },
      "text/plain": [
       "리뷰수집중:   0%|          | 0/119 [00:00<?, ?it/s]"
      ]
     },
     "metadata": {},
     "output_type": "display_data"
    },
    {
     "name": "stdout",
     "output_type": "stream",
     "text": [
      "\n",
      "80\n",
      "현재 :  유진이네회초밥\n",
      "현재 크롤링이 진행중인 검색어 : 유진이네회초밥\n",
      "펼칠 리뷰가 없다.\n"
     ]
    },
    {
     "data": {
      "application/vnd.jupyter.widget-view+json": {
       "model_id": "27bbfe26d2574a37a3b1e105c045a9f1",
       "version_major": 2,
       "version_minor": 0
      },
      "text/plain": [
       "  0%|          | 0/3 [00:00<?, ?it/s]"
      ]
     },
     "metadata": {},
     "output_type": "display_data"
    },
    {
     "data": {
      "application/vnd.jupyter.widget-view+json": {
       "model_id": "982fb40e27214bda923f5b273124afc0",
       "version_major": 2,
       "version_minor": 0
      },
      "text/plain": [
       "리뷰수집중:   0%|          | 0/7 [00:00<?, ?it/s]"
      ]
     },
     "metadata": {},
     "output_type": "display_data"
    },
    {
     "name": "stdout",
     "output_type": "stream",
     "text": [
      "\n",
      "81\n",
      "현재 :  수복강녕\n",
      "현재 크롤링이 진행중인 검색어 : 수복강녕\n"
     ]
    },
    {
     "data": {
      "application/vnd.jupyter.widget-view+json": {
       "model_id": "75ea68795f70492ba46f4bcc21d9b9c0",
       "version_major": 2,
       "version_minor": 0
      },
      "text/plain": [
       "  0%|          | 0/68 [00:00<?, ?it/s]"
      ]
     },
     "metadata": {},
     "output_type": "display_data"
    },
    {
     "data": {
      "application/vnd.jupyter.widget-view+json": {
       "model_id": "c3e2f918b70e40e9a48048ef72209820",
       "version_major": 2,
       "version_minor": 0
      },
      "text/plain": [
       "리뷰수집중:   0%|          | 0/273 [00:00<?, ?it/s]"
      ]
     },
     "metadata": {},
     "output_type": "display_data"
    },
    {
     "name": "stdout",
     "output_type": "stream",
     "text": [
      "\n",
      "82\n",
      "현재 :  돼지구이연구소본점\n",
      "현재 크롤링이 진행중인 검색어 : 돼지구이연구소본점\n"
     ]
    },
    {
     "data": {
      "application/vnd.jupyter.widget-view+json": {
       "model_id": "f6c33fdf210140c4822b231878c91402",
       "version_major": 2,
       "version_minor": 0
      },
      "text/plain": [
       "  0%|          | 0/6 [00:00<?, ?it/s]"
      ]
     },
     "metadata": {},
     "output_type": "display_data"
    },
    {
     "data": {
      "application/vnd.jupyter.widget-view+json": {
       "model_id": "d3b0f2b7ed2d43709dc54cddd8718378",
       "version_major": 2,
       "version_minor": 0
      },
      "text/plain": [
       "리뷰수집중:   0%|          | 0/86 [00:00<?, ?it/s]"
      ]
     },
     "metadata": {},
     "output_type": "display_data"
    },
    {
     "name": "stdout",
     "output_type": "stream",
     "text": [
      "\n",
      "83\n",
      "현재 :  연곱\n",
      "현재 크롤링이 진행중인 검색어 : 연곱\n"
     ]
    },
    {
     "data": {
      "application/vnd.jupyter.widget-view+json": {
       "model_id": "5b6ca4b991cb443780c4f97d8e003b9c",
       "version_major": 2,
       "version_minor": 0
      },
      "text/plain": [
       "  0%|          | 0/8 [00:00<?, ?it/s]"
      ]
     },
     "metadata": {},
     "output_type": "display_data"
    },
    {
     "data": {
      "application/vnd.jupyter.widget-view+json": {
       "model_id": "e84f327755cf41dfba9621016e4cfef7",
       "version_major": 2,
       "version_minor": 0
      },
      "text/plain": [
       "리뷰수집중:   0%|          | 0/14 [00:00<?, ?it/s]"
      ]
     },
     "metadata": {},
     "output_type": "display_data"
    },
    {
     "name": "stdout",
     "output_type": "stream",
     "text": [
      "\n",
      "84\n",
      "현재 :  와인도시\n",
      "현재 크롤링이 진행중인 검색어 : 와인도시\n"
     ]
    },
    {
     "data": {
      "application/vnd.jupyter.widget-view+json": {
       "model_id": "de077dfb43cf492487c3be16a665e9e2",
       "version_major": 2,
       "version_minor": 0
      },
      "text/plain": [
       "  0%|          | 0/17 [00:00<?, ?it/s]"
      ]
     },
     "metadata": {},
     "output_type": "display_data"
    },
    {
     "data": {
      "application/vnd.jupyter.widget-view+json": {
       "model_id": "984aa60c7f0d42bfa120ce5c81bba11a",
       "version_major": 2,
       "version_minor": 0
      },
      "text/plain": [
       "리뷰수집중:   0%|          | 0/40 [00:00<?, ?it/s]"
      ]
     },
     "metadata": {},
     "output_type": "display_data"
    },
    {
     "name": "stdout",
     "output_type": "stream",
     "text": [
      "\n",
      "85\n",
      "현재 :  제주육대표\n",
      "현재 크롤링이 진행중인 검색어 : 제주육대표\n"
     ]
    },
    {
     "data": {
      "application/vnd.jupyter.widget-view+json": {
       "model_id": "0d9c59eb2b40499fa3d899560cf4d79c",
       "version_major": 2,
       "version_minor": 0
      },
      "text/plain": [
       "  0%|          | 0/142 [00:00<?, ?it/s]"
      ]
     },
     "metadata": {},
     "output_type": "display_data"
    },
    {
     "data": {
      "application/vnd.jupyter.widget-view+json": {
       "model_id": "116f9fd53924471c83c7cd57b25a2ae9",
       "version_major": 2,
       "version_minor": 0
      },
      "text/plain": [
       "리뷰수집중:   0%|          | 0/552 [00:00<?, ?it/s]"
      ]
     },
     "metadata": {},
     "output_type": "display_data"
    },
    {
     "name": "stdout",
     "output_type": "stream",
     "text": [
      "\n",
      "86\n",
      "현재 :  쪽갈비와친구들연동점\n",
      "현재 크롤링이 진행중인 검색어 : 쪽갈비와친구들연동점\n"
     ]
    },
    {
     "data": {
      "application/vnd.jupyter.widget-view+json": {
       "model_id": "23a2b0c75dda427faeea2ae11b236135",
       "version_major": 2,
       "version_minor": 0
      },
      "text/plain": [
       "리뷰수집중:   0%|          | 0/14 [00:00<?, ?it/s]"
      ]
     },
     "metadata": {},
     "output_type": "display_data"
    },
    {
     "name": "stdout",
     "output_type": "stream",
     "text": [
      "\n",
      "87\n",
      "현재 :  일공일\n",
      "현재 크롤링이 진행중인 검색어 : 일공일\n"
     ]
    },
    {
     "data": {
      "application/vnd.jupyter.widget-view+json": {
       "model_id": "01b4ff375c8647778aee13e71059ec42",
       "version_major": 2,
       "version_minor": 0
      },
      "text/plain": [
       "  0%|          | 0/7 [00:04<?, ?it/s]"
      ]
     },
     "metadata": {},
     "output_type": "display_data"
    },
    {
     "data": {
      "application/vnd.jupyter.widget-view+json": {
       "model_id": "4091bad9ab084d5ebeb2cda3570d3621",
       "version_major": 2,
       "version_minor": 0
      },
      "text/plain": [
       "리뷰수집중:   0%|          | 0/13 [00:00<?, ?it/s]"
      ]
     },
     "metadata": {},
     "output_type": "display_data"
    },
    {
     "name": "stdout",
     "output_type": "stream",
     "text": [
      "\n",
      "88\n",
      "현재 :  빙고스토리지\n",
      "현재 크롤링이 진행중인 검색어 : 빙고스토리지\n",
      "펼칠 리뷰가 없다.\n"
     ]
    },
    {
     "data": {
      "application/vnd.jupyter.widget-view+json": {
       "model_id": "0f3edd36ec6e410687000118b55a9dcc",
       "version_major": 2,
       "version_minor": 0
      },
      "text/plain": [
       "리뷰수집중:   0%|          | 0/7 [00:00<?, ?it/s]"
      ]
     },
     "metadata": {},
     "output_type": "display_data"
    },
    {
     "name": "stdout",
     "output_type": "stream",
     "text": [
      "\n",
      "89\n",
      "현재 :  퍼틴제주\n",
      "현재 크롤링이 진행중인 검색어 : 퍼틴제주\n"
     ]
    },
    {
     "data": {
      "application/vnd.jupyter.widget-view+json": {
       "model_id": "9c3c0577dabd4481963eba28f65022d0",
       "version_major": 2,
       "version_minor": 0
      },
      "text/plain": [
       "  0%|          | 0/29 [00:00<?, ?it/s]"
      ]
     },
     "metadata": {},
     "output_type": "display_data"
    },
    {
     "data": {
      "application/vnd.jupyter.widget-view+json": {
       "model_id": "ffad4ccf7ab646ea9cc6b738b072013e",
       "version_major": 2,
       "version_minor": 0
      },
      "text/plain": [
       "리뷰수집중:   0%|          | 0/81 [00:00<?, ?it/s]"
      ]
     },
     "metadata": {},
     "output_type": "display_data"
    },
    {
     "name": "stdout",
     "output_type": "stream",
     "text": [
      "\n",
      "90\n",
      "현재 :  마라도해녀촌연동점\n",
      "현재 크롤링이 진행중인 검색어 : 마라도해녀촌연동점\n"
     ]
    },
    {
     "data": {
      "application/vnd.jupyter.widget-view+json": {
       "model_id": "fc02422bee88429abe60d81c6e29eaab",
       "version_major": 2,
       "version_minor": 0
      },
      "text/plain": [
       "  0%|          | 0/13 [00:00<?, ?it/s]"
      ]
     },
     "metadata": {},
     "output_type": "display_data"
    },
    {
     "data": {
      "application/vnd.jupyter.widget-view+json": {
       "model_id": "1dbc59b9850a41a1813ecbe0e3a5d528",
       "version_major": 2,
       "version_minor": 0
      },
      "text/plain": [
       "리뷰수집중:   0%|          | 0/43 [00:12<?, ?it/s]"
      ]
     },
     "metadata": {},
     "output_type": "display_data"
    },
    {
     "name": "stdout",
     "output_type": "stream",
     "text": [
      "\n",
      "91\n",
      "현재 :  빵위에치즈신제주점\n",
      "현재 크롤링이 진행중인 검색어 : 빵위에치즈신제주점\n",
      "\n",
      "92\n",
      "현재 :  나고야일식\n",
      "현재 크롤링이 진행중인 검색어 : 나고야일식\n",
      "펼칠 리뷰가 없다.\n"
     ]
    },
    {
     "data": {
      "application/vnd.jupyter.widget-view+json": {
       "model_id": "27011e92e37941848687ab85ea0b3b53",
       "version_major": 2,
       "version_minor": 0
      },
      "text/plain": [
       "  0%|          | 0/1 [00:00<?, ?it/s]"
      ]
     },
     "metadata": {},
     "output_type": "display_data"
    },
    {
     "data": {
      "application/vnd.jupyter.widget-view+json": {
       "model_id": "78c752e6c52644aaa7bb51b9a78d18db",
       "version_major": 2,
       "version_minor": 0
      },
      "text/plain": [
       "리뷰수집중:   0%|          | 0/9 [00:00<?, ?it/s]"
      ]
     },
     "metadata": {},
     "output_type": "display_data"
    },
    {
     "name": "stdout",
     "output_type": "stream",
     "text": [
      "\n",
      "93\n",
      "현재 :  샹웨이\n",
      "현재 크롤링이 진행중인 검색어 : 샹웨이\n"
     ]
    },
    {
     "data": {
      "application/vnd.jupyter.widget-view+json": {
       "model_id": "5502ce1eeee9456094adfb57293c25eb",
       "version_major": 2,
       "version_minor": 0
      },
      "text/plain": [
       "  0%|          | 0/23 [00:00<?, ?it/s]"
      ]
     },
     "metadata": {},
     "output_type": "display_data"
    },
    {
     "data": {
      "application/vnd.jupyter.widget-view+json": {
       "model_id": "42fef9013b104ad889c08b41d6b6ee6e",
       "version_major": 2,
       "version_minor": 0
      },
      "text/plain": [
       "리뷰수집중:   0%|          | 0/292 [00:00<?, ?it/s]"
      ]
     },
     "metadata": {},
     "output_type": "display_data"
    },
    {
     "name": "stdout",
     "output_type": "stream",
     "text": [
      "\n",
      "94\n",
      "현재 :  칠돈가제주공항직영점\n",
      "현재 크롤링이 진행중인 검색어 : 칠돈가제주공항직영점\n"
     ]
    },
    {
     "data": {
      "application/vnd.jupyter.widget-view+json": {
       "model_id": "8550db26aa4740b3b9988cfe5d8a585a",
       "version_major": 2,
       "version_minor": 0
      },
      "text/plain": [
       "  0%|          | 0/104 [00:00<?, ?it/s]"
      ]
     },
     "metadata": {},
     "output_type": "display_data"
    },
    {
     "data": {
      "application/vnd.jupyter.widget-view+json": {
       "model_id": "e924d97f4a6e4ff2bbfe2052a5c5ee58",
       "version_major": 2,
       "version_minor": 0
      },
      "text/plain": [
       "리뷰수집중:   0%|          | 0/402 [00:00<?, ?it/s]"
      ]
     },
     "metadata": {},
     "output_type": "display_data"
    },
    {
     "name": "stdout",
     "output_type": "stream",
     "text": [
      "\n",
      "95\n",
      "현재 :  제주대패\n",
      "현재 크롤링이 진행중인 검색어 : 제주대패\n"
     ]
    },
    {
     "data": {
      "application/vnd.jupyter.widget-view+json": {
       "model_id": "a211d128537a4359814ab52e9846c7be",
       "version_major": 2,
       "version_minor": 0
      },
      "text/plain": [
       "리뷰수집중:   0%|          | 0/18 [00:00<?, ?it/s]"
      ]
     },
     "metadata": {},
     "output_type": "display_data"
    },
    {
     "name": "stdout",
     "output_type": "stream",
     "text": [
      "\n",
      "96\n",
      "현재 :  007포차\n",
      "현재 크롤링이 진행중인 검색어 : 007포차\n",
      "펼칠 리뷰가 없다.\n"
     ]
    },
    {
     "data": {
      "application/vnd.jupyter.widget-view+json": {
       "model_id": "4d1d1d7a106e450d888eb8cbb391faf6",
       "version_major": 2,
       "version_minor": 0
      },
      "text/plain": [
       "리뷰수집중:   0%|          | 0/4 [00:00<?, ?it/s]"
      ]
     },
     "metadata": {},
     "output_type": "display_data"
    },
    {
     "name": "stdout",
     "output_type": "stream",
     "text": [
      "\n",
      "97\n",
      "현재 :  바신주쿠\n",
      "현재 크롤링이 진행중인 검색어 : 바신주쿠\n",
      "펼칠 리뷰가 없다.\n",
      "\n",
      "98\n",
      "현재 :  소림마라 신제주점\n",
      "현재 크롤링이 진행중인 검색어 : 소림마라 신제주점\n"
     ]
    },
    {
     "data": {
      "application/vnd.jupyter.widget-view+json": {
       "model_id": "3363ec0805b64be7beb500eb1a8380ef",
       "version_major": 2,
       "version_minor": 0
      },
      "text/plain": [
       "  0%|          | 0/7 [00:00<?, ?it/s]"
      ]
     },
     "metadata": {},
     "output_type": "display_data"
    },
    {
     "data": {
      "application/vnd.jupyter.widget-view+json": {
       "model_id": "97634566836547d9ac910a9ca1d40aec",
       "version_major": 2,
       "version_minor": 0
      },
      "text/plain": [
       "리뷰수집중:   0%|          | 0/43 [00:00<?, ?it/s]"
      ]
     },
     "metadata": {},
     "output_type": "display_data"
    },
    {
     "name": "stdout",
     "output_type": "stream",
     "text": [
      "\n",
      "99\n",
      "현재 :  원조오막집국수\n",
      "현재 크롤링이 진행중인 검색어 : 원조오막집국수\n"
     ]
    },
    {
     "data": {
      "application/vnd.jupyter.widget-view+json": {
       "model_id": "ed3700071653401b85e2042f192fda49",
       "version_major": 2,
       "version_minor": 0
      },
      "text/plain": [
       "  0%|          | 0/56 [00:00<?, ?it/s]"
      ]
     },
     "metadata": {},
     "output_type": "display_data"
    },
    {
     "data": {
      "application/vnd.jupyter.widget-view+json": {
       "model_id": "fc0d2ff2f2924c388a258bb2553e2d75",
       "version_major": 2,
       "version_minor": 0
      },
      "text/plain": [
       "리뷰수집중:   0%|          | 0/232 [00:00<?, ?it/s]"
      ]
     },
     "metadata": {},
     "output_type": "display_data"
    },
    {
     "name": "stdout",
     "output_type": "stream",
     "text": [
      "\n",
      "100\n",
      "현재 :  맵지\n",
      "현재 크롤링이 진행중인 검색어 : 맵지\n",
      "펼칠 리뷰가 없다.\n"
     ]
    },
    {
     "data": {
      "application/vnd.jupyter.widget-view+json": {
       "model_id": "a7023980998a4340b0be07c0d078c2e8",
       "version_major": 2,
       "version_minor": 0
      },
      "text/plain": [
       "리뷰수집중:   0%|          | 0/2 [00:00<?, ?it/s]"
      ]
     },
     "metadata": {},
     "output_type": "display_data"
    },
    {
     "name": "stdout",
     "output_type": "stream",
     "text": [
      "\n",
      "101\n",
      "현재 :  은강\n",
      "현재 크롤링이 진행중인 검색어 : 은강\n"
     ]
    },
    {
     "data": {
      "application/vnd.jupyter.widget-view+json": {
       "model_id": "2944c35e9e274c57a7782210748b502a",
       "version_major": 2,
       "version_minor": 0
      },
      "text/plain": [
       "  0%|          | 0/63 [00:16<?, ?it/s]"
      ]
     },
     "metadata": {},
     "output_type": "display_data"
    },
    {
     "data": {
      "application/vnd.jupyter.widget-view+json": {
       "model_id": "67dc44d80b58418ca30e10a68279cc01",
       "version_major": 2,
       "version_minor": 0
      },
      "text/plain": [
       "리뷰수집중:   0%|          | 0/308 [00:00<?, ?it/s]"
      ]
     },
     "metadata": {},
     "output_type": "display_data"
    },
    {
     "name": "stdout",
     "output_type": "stream",
     "text": [
      "\n",
      "102\n",
      "현재 :  밥정\n",
      "현재 크롤링이 진행중인 검색어 : 밥정\n"
     ]
    },
    {
     "data": {
      "application/vnd.jupyter.widget-view+json": {
       "model_id": "b80d45a7add44cd39ca6e18be860482a",
       "version_major": 2,
       "version_minor": 0
      },
      "text/plain": [
       "  0%|          | 0/17 [00:00<?, ?it/s]"
      ]
     },
     "metadata": {},
     "output_type": "display_data"
    },
    {
     "data": {
      "application/vnd.jupyter.widget-view+json": {
       "model_id": "d27db7a61ddd45ba9f6c2d381b21a7f5",
       "version_major": 2,
       "version_minor": 0
      },
      "text/plain": [
       "리뷰수집중:   0%|          | 0/62 [00:00<?, ?it/s]"
      ]
     },
     "metadata": {},
     "output_type": "display_data"
    },
    {
     "name": "stdout",
     "output_type": "stream",
     "text": [
      "\n",
      "103\n",
      "현재 :  뒤뜰에한우\n",
      "현재 크롤링이 진행중인 검색어 : 뒤뜰에한우\n"
     ]
    },
    {
     "data": {
      "application/vnd.jupyter.widget-view+json": {
       "model_id": "38adeceb81c64cf2847ec47b45269c12",
       "version_major": 2,
       "version_minor": 0
      },
      "text/plain": [
       "  0%|          | 0/90 [00:00<?, ?it/s]"
      ]
     },
     "metadata": {},
     "output_type": "display_data"
    },
    {
     "data": {
      "application/vnd.jupyter.widget-view+json": {
       "model_id": "47a1bc9b9a7747d6b85b544eccd283b7",
       "version_major": 2,
       "version_minor": 0
      },
      "text/plain": [
       "리뷰수집중:   0%|          | 0/209 [00:00<?, ?it/s]"
      ]
     },
     "metadata": {},
     "output_type": "display_data"
    },
    {
     "name": "stdout",
     "output_type": "stream",
     "text": [
      "\n",
      "104\n",
      "현재 :  골프존파크타이틀연북로점\n",
      "현재 크롤링이 진행중인 검색어 : 골프존파크타이틀연북로점\n",
      "펼칠 리뷰가 없다.\n"
     ]
    },
    {
     "data": {
      "application/vnd.jupyter.widget-view+json": {
       "model_id": "ead75be61a054e888a75d6989221c34f",
       "version_major": 2,
       "version_minor": 0
      },
      "text/plain": [
       "리뷰수집중:   0%|          | 0/6 [00:00<?, ?it/s]"
      ]
     },
     "metadata": {},
     "output_type": "display_data"
    },
    {
     "name": "stdout",
     "output_type": "stream",
     "text": [
      "\n",
      "105\n",
      "현재 :  원조우향해장국\n",
      "현재 크롤링이 진행중인 검색어 : 원조우향해장국\n"
     ]
    },
    {
     "data": {
      "application/vnd.jupyter.widget-view+json": {
       "model_id": "93062d6dd11a4304ae63633598483c74",
       "version_major": 2,
       "version_minor": 0
      },
      "text/plain": [
       "  0%|          | 0/11 [00:04<?, ?it/s]"
      ]
     },
     "metadata": {},
     "output_type": "display_data"
    },
    {
     "data": {
      "application/vnd.jupyter.widget-view+json": {
       "model_id": "9c700734059f46588791a1c5858a6f1a",
       "version_major": 2,
       "version_minor": 0
      },
      "text/plain": [
       "리뷰수집중:   0%|          | 0/77 [00:00<?, ?it/s]"
      ]
     },
     "metadata": {},
     "output_type": "display_data"
    },
    {
     "name": "stdout",
     "output_type": "stream",
     "text": [
      "\n",
      "106\n",
      "현재 :  도향\n",
      "현재 크롤링이 진행중인 검색어 : 도향\n"
     ]
    },
    {
     "data": {
      "application/vnd.jupyter.widget-view+json": {
       "model_id": "4317aff95d064766a41f2f26fcebccfa",
       "version_major": 2,
       "version_minor": 0
      },
      "text/plain": [
       "  0%|          | 0/2 [00:00<?, ?it/s]"
      ]
     },
     "metadata": {},
     "output_type": "display_data"
    },
    {
     "data": {
      "application/vnd.jupyter.widget-view+json": {
       "model_id": "0fb6b4c6a10f4fc291ac609738187485",
       "version_major": 2,
       "version_minor": 0
      },
      "text/plain": [
       "리뷰수집중:   0%|          | 0/20 [00:00<?, ?it/s]"
      ]
     },
     "metadata": {},
     "output_type": "display_data"
    },
    {
     "name": "stdout",
     "output_type": "stream",
     "text": [
      "\n",
      "107\n",
      "현재 :  보편적인노래\n",
      "현재 크롤링이 진행중인 검색어 : 보편적인노래\n",
      "펼칠 리뷰가 없다.\n"
     ]
    },
    {
     "data": {
      "application/vnd.jupyter.widget-view+json": {
       "model_id": "4566365951f4438894c551dbda00a0f1",
       "version_major": 2,
       "version_minor": 0
      },
      "text/plain": [
       "  0%|          | 0/2 [00:00<?, ?it/s]"
      ]
     },
     "metadata": {},
     "output_type": "display_data"
    },
    {
     "data": {
      "application/vnd.jupyter.widget-view+json": {
       "model_id": "5f674bccbd2d498380237afc477fbe83",
       "version_major": 2,
       "version_minor": 0
      },
      "text/plain": [
       "리뷰수집중:   0%|          | 0/4 [00:00<?, ?it/s]"
      ]
     },
     "metadata": {},
     "output_type": "display_data"
    },
    {
     "name": "stdout",
     "output_type": "stream",
     "text": [
      "\n",
      "108\n",
      "현재 :  샐러드바스켓연동점\n",
      "현재 크롤링이 진행중인 검색어 : 샐러드바스켓연동점\n"
     ]
    },
    {
     "data": {
      "application/vnd.jupyter.widget-view+json": {
       "model_id": "0e7822e0add54db99773f53edc99d9c2",
       "version_major": 2,
       "version_minor": 0
      },
      "text/plain": [
       "  0%|          | 0/8 [00:00<?, ?it/s]"
      ]
     },
     "metadata": {},
     "output_type": "display_data"
    },
    {
     "data": {
      "application/vnd.jupyter.widget-view+json": {
       "model_id": "8e0fcfb77f46481ea93a8de7be797947",
       "version_major": 2,
       "version_minor": 0
      },
      "text/plain": [
       "리뷰수집중:   0%|          | 0/60 [00:00<?, ?it/s]"
      ]
     },
     "metadata": {},
     "output_type": "display_data"
    },
    {
     "name": "stdout",
     "output_type": "stream",
     "text": [
      "\n",
      "109\n",
      "현재 :  폴레\n",
      "현재 크롤링이 진행중인 검색어 : 폴레\n"
     ]
    },
    {
     "data": {
      "application/vnd.jupyter.widget-view+json": {
       "model_id": "dffe117a9ef640c5b80ec5e782240142",
       "version_major": 2,
       "version_minor": 0
      },
      "text/plain": [
       "  0%|          | 0/73 [00:00<?, ?it/s]"
      ]
     },
     "metadata": {},
     "output_type": "display_data"
    },
    {
     "data": {
      "application/vnd.jupyter.widget-view+json": {
       "model_id": "8735cc0aa37242a6b7a3bdf83597d4c9",
       "version_major": 2,
       "version_minor": 0
      },
      "text/plain": [
       "리뷰수집중:   0%|          | 0/133 [00:00<?, ?it/s]"
      ]
     },
     "metadata": {},
     "output_type": "display_data"
    },
    {
     "name": "stdout",
     "output_type": "stream",
     "text": [
      "\n",
      "110\n",
      "현재 :  도도름\n",
      "현재 크롤링이 진행중인 검색어 : 도도름\n"
     ]
    },
    {
     "data": {
      "application/vnd.jupyter.widget-view+json": {
       "model_id": "640329381c7740388a76f078d8d63823",
       "version_major": 2,
       "version_minor": 0
      },
      "text/plain": [
       "  0%|          | 0/19 [00:00<?, ?it/s]"
      ]
     },
     "metadata": {},
     "output_type": "display_data"
    },
    {
     "data": {
      "application/vnd.jupyter.widget-view+json": {
       "model_id": "2deb371c2e3e411ea5abe50e9d738592",
       "version_major": 2,
       "version_minor": 0
      },
      "text/plain": [
       "리뷰수집중:   0%|          | 0/281 [00:00<?, ?it/s]"
      ]
     },
     "metadata": {},
     "output_type": "display_data"
    },
    {
     "name": "stdout",
     "output_type": "stream",
     "text": [
      "\n",
      "111\n",
      "현재 :  와우소문난감자탕\n",
      "현재 크롤링이 진행중인 검색어 : 와우소문난감자탕\n",
      "펼칠 리뷰가 없다.\n"
     ]
    },
    {
     "data": {
      "application/vnd.jupyter.widget-view+json": {
       "model_id": "ec38a21de24449249126182acb7f28f8",
       "version_major": 2,
       "version_minor": 0
      },
      "text/plain": [
       "  0%|          | 0/1 [00:00<?, ?it/s]"
      ]
     },
     "metadata": {},
     "output_type": "display_data"
    },
    {
     "data": {
      "application/vnd.jupyter.widget-view+json": {
       "model_id": "d95831117cdd43a2b9560586f0049817",
       "version_major": 2,
       "version_minor": 0
      },
      "text/plain": [
       "리뷰수집중:   0%|          | 0/8 [00:00<?, ?it/s]"
      ]
     },
     "metadata": {},
     "output_type": "display_data"
    },
    {
     "name": "stdout",
     "output_type": "stream",
     "text": [
      "\n",
      "112\n",
      "현재 :  크로방\n",
      "현재 크롤링이 진행중인 검색어 : 크로방\n",
      "펼칠 리뷰가 없다.\n",
      "\n",
      "113\n",
      "현재 :  청춘다방\n",
      "현재 크롤링이 진행중인 검색어 : 청춘다방\n"
     ]
    },
    {
     "data": {
      "application/vnd.jupyter.widget-view+json": {
       "model_id": "610bcf2264e4478a8687b89601399ec3",
       "version_major": 2,
       "version_minor": 0
      },
      "text/plain": [
       "  0%|          | 0/4 [00:00<?, ?it/s]"
      ]
     },
     "metadata": {},
     "output_type": "display_data"
    },
    {
     "data": {
      "application/vnd.jupyter.widget-view+json": {
       "model_id": "3fa89890f3c04cd3957dc9e4247c4c80",
       "version_major": 2,
       "version_minor": 0
      },
      "text/plain": [
       "리뷰수집중:   0%|          | 0/41 [00:00<?, ?it/s]"
      ]
     },
     "metadata": {},
     "output_type": "display_data"
    },
    {
     "name": "stdout",
     "output_type": "stream",
     "text": [
      "\n",
      "114\n",
      "현재 :  뉴욕버거제주연동점\n",
      "현재 크롤링이 진행중인 검색어 : 뉴욕버거제주연동점\n"
     ]
    },
    {
     "data": {
      "application/vnd.jupyter.widget-view+json": {
       "model_id": "60906bf43db941e8ab8f5062d14ee5f9",
       "version_major": 2,
       "version_minor": 0
      },
      "text/plain": [
       "  0%|          | 0/4 [00:00<?, ?it/s]"
      ]
     },
     "metadata": {},
     "output_type": "display_data"
    },
    {
     "data": {
      "application/vnd.jupyter.widget-view+json": {
       "model_id": "c68e428f3c7a4aa8b87158592ced79ed",
       "version_major": 2,
       "version_minor": 0
      },
      "text/plain": [
       "리뷰수집중:   0%|          | 0/58 [00:00<?, ?it/s]"
      ]
     },
     "metadata": {},
     "output_type": "display_data"
    },
    {
     "name": "stdout",
     "output_type": "stream",
     "text": [
      "\n",
      "115\n",
      "현재 :  다담찌개\n",
      "현재 크롤링이 진행중인 검색어 : 다담찌개\n"
     ]
    },
    {
     "data": {
      "application/vnd.jupyter.widget-view+json": {
       "model_id": "94bc428b90b04a87ba6f16f8b3ddbfb7",
       "version_major": 2,
       "version_minor": 0
      },
      "text/plain": [
       "  0%|          | 0/4 [00:00<?, ?it/s]"
      ]
     },
     "metadata": {},
     "output_type": "display_data"
    },
    {
     "data": {
      "application/vnd.jupyter.widget-view+json": {
       "model_id": "e8bef022c59c4804b1772e1c304ea3fd",
       "version_major": 2,
       "version_minor": 0
      },
      "text/plain": [
       "리뷰수집중:   0%|          | 0/12 [00:00<?, ?it/s]"
      ]
     },
     "metadata": {},
     "output_type": "display_data"
    },
    {
     "name": "stdout",
     "output_type": "stream",
     "text": [
      "\n",
      "116\n",
      "현재 :  랜돌프비어제주연동점\n",
      "현재 크롤링이 진행중인 검색어 : 랜돌프비어제주연동점\n"
     ]
    },
    {
     "data": {
      "application/vnd.jupyter.widget-view+json": {
       "model_id": "0cf788cc6b22429fa6589f6e9894eac1",
       "version_major": 2,
       "version_minor": 0
      },
      "text/plain": [
       "  0%|          | 0/29 [00:00<?, ?it/s]"
      ]
     },
     "metadata": {},
     "output_type": "display_data"
    },
    {
     "data": {
      "application/vnd.jupyter.widget-view+json": {
       "model_id": "5972f8d4f12c4e079d8f2b2374c6c641",
       "version_major": 2,
       "version_minor": 0
      },
      "text/plain": [
       "리뷰수집중:   0%|          | 0/122 [00:00<?, ?it/s]"
      ]
     },
     "metadata": {},
     "output_type": "display_data"
    },
    {
     "name": "stdout",
     "output_type": "stream",
     "text": [
      "\n",
      "117\n",
      "현재 :  고기역\n",
      "현재 크롤링이 진행중인 검색어 : 고기역\n"
     ]
    },
    {
     "data": {
      "application/vnd.jupyter.widget-view+json": {
       "model_id": "b5cbe3bc103949a2b1feed6974f1e94c",
       "version_major": 2,
       "version_minor": 0
      },
      "text/plain": [
       "  0%|          | 0/181 [00:00<?, ?it/s]"
      ]
     },
     "metadata": {},
     "output_type": "display_data"
    },
    {
     "data": {
      "application/vnd.jupyter.widget-view+json": {
       "model_id": "c76479501df84dbbbf27c320fbca6352",
       "version_major": 2,
       "version_minor": 0
      },
      "text/plain": [
       "리뷰수집중:   0%|          | 0/612 [00:00<?, ?it/s]"
      ]
     },
     "metadata": {},
     "output_type": "display_data"
    },
    {
     "name": "stdout",
     "output_type": "stream",
     "text": [
      "\n",
      "118\n",
      "현재 :  굽네치킨한라초점\n",
      "현재 크롤링이 진행중인 검색어 : 굽네치킨한라초점\n",
      "펼칠 리뷰가 없다.\n"
     ]
    },
    {
     "data": {
      "application/vnd.jupyter.widget-view+json": {
       "model_id": "27b67e14f1ed492595a34db1fb18c90e",
       "version_major": 2,
       "version_minor": 0
      },
      "text/plain": [
       "리뷰수집중:   0%|          | 0/4 [00:00<?, ?it/s]"
      ]
     },
     "metadata": {},
     "output_type": "display_data"
    },
    {
     "name": "stdout",
     "output_type": "stream",
     "text": [
      "\n",
      "119\n",
      "현재 :  첀씬마라탕\n",
      "현재 크롤링이 진행중인 검색어 : 첀씬마라탕\n"
     ]
    },
    {
     "data": {
      "application/vnd.jupyter.widget-view+json": {
       "model_id": "86112485f06f4a8b999f22d2aecd7ef8",
       "version_major": 2,
       "version_minor": 0
      },
      "text/plain": [
       "  0%|          | 0/2 [00:04<?, ?it/s]"
      ]
     },
     "metadata": {},
     "output_type": "display_data"
    },
    {
     "data": {
      "application/vnd.jupyter.widget-view+json": {
       "model_id": "bd9bf1919dca472f80f30a13a111dcd3",
       "version_major": 2,
       "version_minor": 0
      },
      "text/plain": [
       "리뷰수집중:   0%|          | 0/32 [00:00<?, ?it/s]"
      ]
     },
     "metadata": {},
     "output_type": "display_data"
    },
    {
     "name": "stdout",
     "output_type": "stream",
     "text": [
      "\n",
      "120\n",
      "현재 :  카페이음새\n",
      "현재 크롤링이 진행중인 검색어 : 카페이음새\n",
      "펼칠 리뷰가 없다.\n"
     ]
    },
    {
     "data": {
      "application/vnd.jupyter.widget-view+json": {
       "model_id": "b4a85691bf2c433d978f25238939c51f",
       "version_major": 2,
       "version_minor": 0
      },
      "text/plain": [
       "  0%|          | 0/4 [00:00<?, ?it/s]"
      ]
     },
     "metadata": {},
     "output_type": "display_data"
    },
    {
     "data": {
      "application/vnd.jupyter.widget-view+json": {
       "model_id": "1b41ac7991d1409ba22352935488d2fd",
       "version_major": 2,
       "version_minor": 0
      },
      "text/plain": [
       "리뷰수집중:   0%|          | 0/10 [00:00<?, ?it/s]"
      ]
     },
     "metadata": {},
     "output_type": "display_data"
    },
    {
     "name": "stdout",
     "output_type": "stream",
     "text": [
      "\n",
      "121\n",
      "현재 :  도도름한우와흑돈\n",
      "현재 크롤링이 진행중인 검색어 : 도도름한우와흑돈\n"
     ]
    },
    {
     "data": {
      "application/vnd.jupyter.widget-view+json": {
       "model_id": "78b81694985744c2811e8925611951e2",
       "version_major": 2,
       "version_minor": 0
      },
      "text/plain": [
       "  0%|          | 0/11 [00:00<?, ?it/s]"
      ]
     },
     "metadata": {},
     "output_type": "display_data"
    },
    {
     "data": {
      "application/vnd.jupyter.widget-view+json": {
       "model_id": "95e0b8c789ce4760a1a8c60772fe87c2",
       "version_major": 2,
       "version_minor": 0
      },
      "text/plain": [
       "리뷰수집중:   0%|          | 0/73 [00:00<?, ?it/s]"
      ]
     },
     "metadata": {},
     "output_type": "display_data"
    },
    {
     "name": "stdout",
     "output_type": "stream",
     "text": [
      "\n",
      "122\n",
      "현재 :  소못\n",
      "현재 크롤링이 진행중인 검색어 : 소못\n"
     ]
    },
    {
     "data": {
      "application/vnd.jupyter.widget-view+json": {
       "model_id": "07ebbba46b794da386a3b0347a2e4243",
       "version_major": 2,
       "version_minor": 0
      },
      "text/plain": [
       "  0%|          | 0/53 [00:00<?, ?it/s]"
      ]
     },
     "metadata": {},
     "output_type": "display_data"
    },
    {
     "data": {
      "application/vnd.jupyter.widget-view+json": {
       "model_id": "62dcec5f1234449baa2b9f12e06cb559",
       "version_major": 2,
       "version_minor": 0
      },
      "text/plain": [
       "리뷰수집중:   0%|          | 0/108 [00:00<?, ?it/s]"
      ]
     },
     "metadata": {},
     "output_type": "display_data"
    },
    {
     "name": "stdout",
     "output_type": "stream",
     "text": [
      "\n",
      "123\n",
      "현재 :  깅코\n",
      "현재 크롤링이 진행중인 검색어 : 깅코\n"
     ]
    },
    {
     "data": {
      "application/vnd.jupyter.widget-view+json": {
       "model_id": "f6f106dde3e54ef780a4a0cfdcfd29d8",
       "version_major": 2,
       "version_minor": 0
      },
      "text/plain": [
       "  0%|          | 0/36 [00:00<?, ?it/s]"
      ]
     },
     "metadata": {},
     "output_type": "display_data"
    },
    {
     "data": {
      "application/vnd.jupyter.widget-view+json": {
       "model_id": "8f441a29275b45f0950fadaf1271a597",
       "version_major": 2,
       "version_minor": 0
      },
      "text/plain": [
       "리뷰수집중:   0%|          | 0/120 [00:00<?, ?it/s]"
      ]
     },
     "metadata": {},
     "output_type": "display_data"
    },
    {
     "name": "stdout",
     "output_type": "stream",
     "text": [
      "\n",
      "124\n",
      "현재 :  오늘김밥\n",
      "현재 크롤링이 진행중인 검색어 : 오늘김밥\n"
     ]
    },
    {
     "data": {
      "application/vnd.jupyter.widget-view+json": {
       "model_id": "1694763bb6314422b81d9903281e19d7",
       "version_major": 2,
       "version_minor": 0
      },
      "text/plain": [
       "  0%|          | 0/6 [00:00<?, ?it/s]"
      ]
     },
     "metadata": {},
     "output_type": "display_data"
    },
    {
     "data": {
      "application/vnd.jupyter.widget-view+json": {
       "model_id": "70a588b3ee464221830fcadb9019010d",
       "version_major": 2,
       "version_minor": 0
      },
      "text/plain": [
       "리뷰수집중:   0%|          | 0/87 [00:00<?, ?it/s]"
      ]
     },
     "metadata": {},
     "output_type": "display_data"
    },
    {
     "name": "stdout",
     "output_type": "stream",
     "text": [
      "\n",
      "125\n",
      "현재 :  다올레횟집\n",
      "현재 크롤링이 진행중인 검색어 : 다올레횟집\n"
     ]
    },
    {
     "data": {
      "application/vnd.jupyter.widget-view+json": {
       "model_id": "90d013385f4f4fc3ab58c182945e9d13",
       "version_major": 2,
       "version_minor": 0
      },
      "text/plain": [
       "  0%|          | 0/20 [00:00<?, ?it/s]"
      ]
     },
     "metadata": {},
     "output_type": "display_data"
    },
    {
     "data": {
      "application/vnd.jupyter.widget-view+json": {
       "model_id": "e407ad43e7b544c097d7490eb795d9c9",
       "version_major": 2,
       "version_minor": 0
      },
      "text/plain": [
       "리뷰수집중:   0%|          | 0/92 [00:00<?, ?it/s]"
      ]
     },
     "metadata": {},
     "output_type": "display_data"
    },
    {
     "name": "stdout",
     "output_type": "stream",
     "text": [
      "\n",
      "126\n",
      "현재 :  영갈분식\n",
      "현재 크롤링이 진행중인 검색어 : 영갈분식\n",
      "펼칠 리뷰가 없다.\n"
     ]
    },
    {
     "data": {
      "application/vnd.jupyter.widget-view+json": {
       "model_id": "3dbc72a7455a43d787d4213834605153",
       "version_major": 2,
       "version_minor": 0
      },
      "text/plain": [
       "  0%|          | 0/1 [00:00<?, ?it/s]"
      ]
     },
     "metadata": {},
     "output_type": "display_data"
    },
    {
     "data": {
      "application/vnd.jupyter.widget-view+json": {
       "model_id": "d83379d62d624919bf7fb51f6ba91017",
       "version_major": 2,
       "version_minor": 0
      },
      "text/plain": [
       "리뷰수집중:   0%|          | 0/2 [00:00<?, ?it/s]"
      ]
     },
     "metadata": {},
     "output_type": "display_data"
    },
    {
     "name": "stdout",
     "output_type": "stream",
     "text": [
      "\n",
      "127\n",
      "현재 :  조선화로집제주연북로점\n",
      "현재 크롤링이 진행중인 검색어 : 조선화로집제주연북로점\n"
     ]
    },
    {
     "data": {
      "application/vnd.jupyter.widget-view+json": {
       "model_id": "1ab546f14242417090f836e5c28980d0",
       "version_major": 2,
       "version_minor": 0
      },
      "text/plain": [
       "  0%|          | 0/9 [00:00<?, ?it/s]"
      ]
     },
     "metadata": {},
     "output_type": "display_data"
    },
    {
     "data": {
      "application/vnd.jupyter.widget-view+json": {
       "model_id": "ef6fa59de8d94642926fc541288a10ce",
       "version_major": 2,
       "version_minor": 0
      },
      "text/plain": [
       "리뷰수집중:   0%|          | 0/107 [00:00<?, ?it/s]"
      ]
     },
     "metadata": {},
     "output_type": "display_data"
    },
    {
     "name": "stdout",
     "output_type": "stream",
     "text": [
      "\n",
      "128\n",
      "현재 :  민들레소반\n",
      "현재 크롤링이 진행중인 검색어 : 민들레소반\n",
      "펼칠 리뷰가 없다.\n"
     ]
    },
    {
     "data": {
      "application/vnd.jupyter.widget-view+json": {
       "model_id": "ac6fd66d36544906a648b3f8205082f4",
       "version_major": 2,
       "version_minor": 0
      },
      "text/plain": [
       "  0%|          | 0/1 [00:00<?, ?it/s]"
      ]
     },
     "metadata": {},
     "output_type": "display_data"
    },
    {
     "data": {
      "application/vnd.jupyter.widget-view+json": {
       "model_id": "1bdfcb16b57c4054b4def01e0fe06852",
       "version_major": 2,
       "version_minor": 0
      },
      "text/plain": [
       "리뷰수집중:   0%|          | 0/8 [00:00<?, ?it/s]"
      ]
     },
     "metadata": {},
     "output_type": "display_data"
    },
    {
     "name": "stdout",
     "output_type": "stream",
     "text": [
      "\n",
      "129\n",
      "현재 :  순수한둠비연동점\n",
      "현재 크롤링이 진행중인 검색어 : 순수한둠비연동점\n"
     ]
    },
    {
     "data": {
      "application/vnd.jupyter.widget-view+json": {
       "model_id": "fbb174f42a5b4ea2a55562db6baf8c9d",
       "version_major": 2,
       "version_minor": 0
      },
      "text/plain": [
       "  0%|          | 0/15 [00:00<?, ?it/s]"
      ]
     },
     "metadata": {},
     "output_type": "display_data"
    },
    {
     "data": {
      "application/vnd.jupyter.widget-view+json": {
       "model_id": "1f4731ca132a418783c023558d357124",
       "version_major": 2,
       "version_minor": 0
      },
      "text/plain": [
       "리뷰수집중:   0%|          | 0/102 [00:00<?, ?it/s]"
      ]
     },
     "metadata": {},
     "output_type": "display_data"
    },
    {
     "name": "stdout",
     "output_type": "stream",
     "text": [
      "\n",
      "130\n",
      "현재 :  모네의화원\n",
      "현재 크롤링이 진행중인 검색어 : 모네의화원\n"
     ]
    },
    {
     "data": {
      "application/vnd.jupyter.widget-view+json": {
       "model_id": "55f03f8725cc4ffcbd8d1b9b30cf98db",
       "version_major": 2,
       "version_minor": 0
      },
      "text/plain": [
       "  0%|          | 0/2 [00:00<?, ?it/s]"
      ]
     },
     "metadata": {},
     "output_type": "display_data"
    },
    {
     "data": {
      "application/vnd.jupyter.widget-view+json": {
       "model_id": "cc562724e1164456ae2ac21618d613c5",
       "version_major": 2,
       "version_minor": 0
      },
      "text/plain": [
       "리뷰수집중:   0%|          | 0/28 [00:00<?, ?it/s]"
      ]
     },
     "metadata": {},
     "output_type": "display_data"
    },
    {
     "name": "stdout",
     "output_type": "stream",
     "text": [
      "\n",
      "131\n",
      "현재 :  온도70\n",
      "현재 크롤링이 진행중인 검색어 : 온도70\n",
      "펼칠 리뷰가 없다.\n"
     ]
    },
    {
     "data": {
      "application/vnd.jupyter.widget-view+json": {
       "model_id": "64c3ae7b9b5448ea99a697639731babf",
       "version_major": 2,
       "version_minor": 0
      },
      "text/plain": [
       "  0%|          | 0/2 [00:00<?, ?it/s]"
      ]
     },
     "metadata": {},
     "output_type": "display_data"
    },
    {
     "data": {
      "application/vnd.jupyter.widget-view+json": {
       "model_id": "5d6f60d53e834bfb8dd7ed2e25c693c6",
       "version_major": 2,
       "version_minor": 0
      },
      "text/plain": [
       "리뷰수집중:   0%|          | 0/9 [00:00<?, ?it/s]"
      ]
     },
     "metadata": {},
     "output_type": "display_data"
    },
    {
     "name": "stdout",
     "output_type": "stream",
     "text": [
      "\n",
      "132\n",
      "현재 :  소소한밤\n",
      "현재 크롤링이 진행중인 검색어 : 소소한밤\n",
      "펼칠 리뷰가 없다.\n"
     ]
    },
    {
     "data": {
      "application/vnd.jupyter.widget-view+json": {
       "model_id": "ff553e4be1e64e68ba2fd6aeaf77522d",
       "version_major": 2,
       "version_minor": 0
      },
      "text/plain": [
       "리뷰수집중:   0%|          | 0/4 [00:00<?, ?it/s]"
      ]
     },
     "metadata": {},
     "output_type": "display_data"
    },
    {
     "name": "stdout",
     "output_type": "stream",
     "text": [
      "\n",
      "133\n",
      "현재 :  1943제주연동점\n",
      "현재 크롤링이 진행중인 검색어 : 1943제주연동점\n"
     ]
    },
    {
     "data": {
      "application/vnd.jupyter.widget-view+json": {
       "model_id": "1fe7e97dc19f4fbc9c5a65c57ce5a06f",
       "version_major": 2,
       "version_minor": 0
      },
      "text/plain": [
       "  0%|          | 0/4 [00:04<?, ?it/s]"
      ]
     },
     "metadata": {},
     "output_type": "display_data"
    },
    {
     "data": {
      "application/vnd.jupyter.widget-view+json": {
       "model_id": "587e0713091343ad83a980266d1bfb7a",
       "version_major": 2,
       "version_minor": 0
      },
      "text/plain": [
       "리뷰수집중:   0%|          | 0/47 [00:00<?, ?it/s]"
      ]
     },
     "metadata": {},
     "output_type": "display_data"
    },
    {
     "name": "stdout",
     "output_type": "stream",
     "text": [
      "\n",
      "134\n",
      "현재 :  화월랑\n",
      "현재 크롤링이 진행중인 검색어 : 화월랑\n"
     ]
    },
    {
     "data": {
      "application/vnd.jupyter.widget-view+json": {
       "model_id": "6f595e689f6b434cbae59a0da0733f5a",
       "version_major": 2,
       "version_minor": 0
      },
      "text/plain": [
       "  0%|          | 0/13 [00:00<?, ?it/s]"
      ]
     },
     "metadata": {},
     "output_type": "display_data"
    },
    {
     "data": {
      "application/vnd.jupyter.widget-view+json": {
       "model_id": "4902a4fc8316406483ae49a44f6a2e1b",
       "version_major": 2,
       "version_minor": 0
      },
      "text/plain": [
       "리뷰수집중:   0%|          | 0/35 [00:00<?, ?it/s]"
      ]
     },
     "metadata": {},
     "output_type": "display_data"
    },
    {
     "name": "stdout",
     "output_type": "stream",
     "text": [
      "\n",
      "135\n",
      "현재 :  썬더치킨제원점\n",
      "현재 크롤링이 진행중인 검색어 : 썬더치킨제원점\n",
      "펼칠 리뷰가 없다.\n"
     ]
    },
    {
     "data": {
      "application/vnd.jupyter.widget-view+json": {
       "model_id": "40bfa84a9b48438288db7739371abc58",
       "version_major": 2,
       "version_minor": 0
      },
      "text/plain": [
       "  0%|          | 0/1 [00:00<?, ?it/s]"
      ]
     },
     "metadata": {},
     "output_type": "display_data"
    },
    {
     "data": {
      "application/vnd.jupyter.widget-view+json": {
       "model_id": "1e9dd445befe415ea6dc9353fdf6f8a3",
       "version_major": 2,
       "version_minor": 0
      },
      "text/plain": [
       "리뷰수집중:   0%|          | 0/9 [00:00<?, ?it/s]"
      ]
     },
     "metadata": {},
     "output_type": "display_data"
    },
    {
     "name": "stdout",
     "output_type": "stream",
     "text": [
      "\n",
      "136\n",
      "현재 :  골드킹\n",
      "현재 크롤링이 진행중인 검색어 : 골드킹\n",
      "\n",
      "137\n",
      "현재 :  생활맥주제주연동점\n",
      "현재 크롤링이 진행중인 검색어 : 생활맥주제주연동점\n"
     ]
    },
    {
     "data": {
      "application/vnd.jupyter.widget-view+json": {
       "model_id": "f4f6bca307084473a155cbbf6d4d4210",
       "version_major": 2,
       "version_minor": 0
      },
      "text/plain": [
       "  0%|          | 0/5 [00:00<?, ?it/s]"
      ]
     },
     "metadata": {},
     "output_type": "display_data"
    },
    {
     "data": {
      "application/vnd.jupyter.widget-view+json": {
       "model_id": "8b795a346d2b402dbcb94acd756512f4",
       "version_major": 2,
       "version_minor": 0
      },
      "text/plain": [
       "리뷰수집중:   0%|          | 0/59 [00:00<?, ?it/s]"
      ]
     },
     "metadata": {},
     "output_type": "display_data"
    },
    {
     "name": "stdout",
     "output_type": "stream",
     "text": [
      "\n",
      "138\n",
      "현재 :  에이바우트연동신시가지점\n",
      "현재 크롤링이 진행중인 검색어 : 에이바우트연동신시가지점\n"
     ]
    },
    {
     "data": {
      "application/vnd.jupyter.widget-view+json": {
       "model_id": "b6494a3b58cf4e56ad74b39eabd2aabb",
       "version_major": 2,
       "version_minor": 0
      },
      "text/plain": [
       "  0%|          | 0/4 [00:00<?, ?it/s]"
      ]
     },
     "metadata": {},
     "output_type": "display_data"
    },
    {
     "data": {
      "application/vnd.jupyter.widget-view+json": {
       "model_id": "1a2ee46975ed4ea6a292a6f0f8a64bf7",
       "version_major": 2,
       "version_minor": 0
      },
      "text/plain": [
       "리뷰수집중:   0%|          | 0/101 [00:00<?, ?it/s]"
      ]
     },
     "metadata": {},
     "output_type": "display_data"
    },
    {
     "name": "stdout",
     "output_type": "stream",
     "text": [
      "\n",
      "139\n",
      "현재 :  도쿄술집제주연동점\n",
      "현재 크롤링이 진행중인 검색어 : 도쿄술집제주연동점\n"
     ]
    },
    {
     "data": {
      "application/vnd.jupyter.widget-view+json": {
       "model_id": "12f14b1791a84b3e92d4b9ecf8e9bbc1",
       "version_major": 2,
       "version_minor": 0
      },
      "text/plain": [
       "  0%|          | 0/19 [00:00<?, ?it/s]"
      ]
     },
     "metadata": {},
     "output_type": "display_data"
    },
    {
     "data": {
      "application/vnd.jupyter.widget-view+json": {
       "model_id": "03e31d05946d430482e745b00b340034",
       "version_major": 2,
       "version_minor": 0
      },
      "text/plain": [
       "리뷰수집중:   0%|          | 0/55 [00:00<?, ?it/s]"
      ]
     },
     "metadata": {},
     "output_type": "display_data"
    },
    {
     "name": "stdout",
     "output_type": "stream",
     "text": [
      "\n",
      "140\n",
      "현재 :  삼다참치\n",
      "현재 크롤링이 진행중인 검색어 : 삼다참치\n"
     ]
    },
    {
     "data": {
      "application/vnd.jupyter.widget-view+json": {
       "model_id": "a478d9f432394fe4b4e453d41ae4de31",
       "version_major": 2,
       "version_minor": 0
      },
      "text/plain": [
       "  0%|          | 0/26 [00:00<?, ?it/s]"
      ]
     },
     "metadata": {},
     "output_type": "display_data"
    },
    {
     "data": {
      "application/vnd.jupyter.widget-view+json": {
       "model_id": "9bf0d9f514eb4a3eb2d03b17df18f13b",
       "version_major": 2,
       "version_minor": 0
      },
      "text/plain": [
       "리뷰수집중:   0%|          | 0/70 [00:00<?, ?it/s]"
      ]
     },
     "metadata": {},
     "output_type": "display_data"
    },
    {
     "name": "stdout",
     "output_type": "stream",
     "text": [
      "\n",
      "141\n",
      "현재 :  집밥연구소\n",
      "현재 크롤링이 진행중인 검색어 : 집밥연구소\n",
      "펼칠 리뷰가 없다.\n"
     ]
    },
    {
     "data": {
      "application/vnd.jupyter.widget-view+json": {
       "model_id": "784c4b77767d40989e3ea23b12870b6a",
       "version_major": 2,
       "version_minor": 0
      },
      "text/plain": [
       "리뷰수집중:   0%|          | 0/5 [00:00<?, ?it/s]"
      ]
     },
     "metadata": {},
     "output_type": "display_data"
    },
    {
     "name": "stdout",
     "output_type": "stream",
     "text": [
      "\n",
      "142\n",
      "현재 :  트룰리하우스\n",
      "현재 크롤링이 진행중인 검색어 : 트룰리하우스\n"
     ]
    },
    {
     "data": {
      "application/vnd.jupyter.widget-view+json": {
       "model_id": "32e0baf5d33747628dec93aa1c9d267d",
       "version_major": 2,
       "version_minor": 0
      },
      "text/plain": [
       "  0%|          | 0/55 [00:04<?, ?it/s]"
      ]
     },
     "metadata": {},
     "output_type": "display_data"
    },
    {
     "data": {
      "application/vnd.jupyter.widget-view+json": {
       "model_id": "c0b55791446643c3ae6e44614545d7df",
       "version_major": 2,
       "version_minor": 0
      },
      "text/plain": [
       "리뷰수집중:   0%|          | 0/134 [00:00<?, ?it/s]"
      ]
     },
     "metadata": {},
     "output_type": "display_data"
    },
    {
     "name": "stdout",
     "output_type": "stream",
     "text": [
      "\n",
      "143\n",
      "현재 :  맛있당돈까스제주본점\n",
      "현재 크롤링이 진행중인 검색어 : 맛있당돈까스제주본점\n"
     ]
    },
    {
     "data": {
      "application/vnd.jupyter.widget-view+json": {
       "model_id": "59be3441169443918975101c651a475e",
       "version_major": 2,
       "version_minor": 0
      },
      "text/plain": [
       "  0%|          | 0/25 [00:00<?, ?it/s]"
      ]
     },
     "metadata": {},
     "output_type": "display_data"
    },
    {
     "data": {
      "application/vnd.jupyter.widget-view+json": {
       "model_id": "9782ba6a7f964702bf483bbe4922b6a3",
       "version_major": 2,
       "version_minor": 0
      },
      "text/plain": [
       "리뷰수집중:   0%|          | 0/100 [00:00<?, ?it/s]"
      ]
     },
     "metadata": {},
     "output_type": "display_data"
    },
    {
     "name": "stdout",
     "output_type": "stream",
     "text": [
      "\n",
      "144\n",
      "현재 :  돼갈통\n",
      "현재 크롤링이 진행중인 검색어 : 돼갈통\n"
     ]
    },
    {
     "data": {
      "application/vnd.jupyter.widget-view+json": {
       "model_id": "42a6f41df3cb4d539fabbea3d0e40c54",
       "version_major": 2,
       "version_minor": 0
      },
      "text/plain": [
       "  0%|          | 0/24 [00:00<?, ?it/s]"
      ]
     },
     "metadata": {},
     "output_type": "display_data"
    },
    {
     "data": {
      "application/vnd.jupyter.widget-view+json": {
       "model_id": "7fba3f2b08d4465da73bdfdb2fdf5108",
       "version_major": 2,
       "version_minor": 0
      },
      "text/plain": [
       "리뷰수집중:   0%|          | 0/70 [00:00<?, ?it/s]"
      ]
     },
     "metadata": {},
     "output_type": "display_data"
    },
    {
     "name": "stdout",
     "output_type": "stream",
     "text": [
      "\n",
      "145\n",
      "현재 :  머믈\n",
      "현재 크롤링이 진행중인 검색어 : 머믈\n"
     ]
    },
    {
     "data": {
      "application/vnd.jupyter.widget-view+json": {
       "model_id": "aecbc0d948594d0a8ef97abde5e1b55c",
       "version_major": 2,
       "version_minor": 0
      },
      "text/plain": [
       "  0%|          | 0/15 [00:00<?, ?it/s]"
      ]
     },
     "metadata": {},
     "output_type": "display_data"
    },
    {
     "data": {
      "application/vnd.jupyter.widget-view+json": {
       "model_id": "4d77e210be674679b7588a42ccd6cf7a",
       "version_major": 2,
       "version_minor": 0
      },
      "text/plain": [
       "리뷰수집중:   0%|          | 0/48 [00:00<?, ?it/s]"
      ]
     },
     "metadata": {},
     "output_type": "display_data"
    },
    {
     "name": "stdout",
     "output_type": "stream",
     "text": [
      "\n",
      "146\n",
      "현재 :  해방\n",
      "현재 크롤링이 진행중인 검색어 : 해방\n"
     ]
    },
    {
     "data": {
      "application/vnd.jupyter.widget-view+json": {
       "model_id": "edef5dac3b264ffbb74f4efebff7e3fd",
       "version_major": 2,
       "version_minor": 0
      },
      "text/plain": [
       "  0%|          | 0/17 [00:00<?, ?it/s]"
      ]
     },
     "metadata": {},
     "output_type": "display_data"
    },
    {
     "data": {
      "application/vnd.jupyter.widget-view+json": {
       "model_id": "c0a0876178f04166b14c205b61485d7b",
       "version_major": 2,
       "version_minor": 0
      },
      "text/plain": [
       "리뷰수집중:   0%|          | 0/41 [00:00<?, ?it/s]"
      ]
     },
     "metadata": {},
     "output_type": "display_data"
    },
    {
     "name": "stdout",
     "output_type": "stream",
     "text": [
      "\n",
      "147\n",
      "현재 :  치킨매니아연동노형점\n",
      "현재 크롤링이 진행중인 검색어 : 치킨매니아연동노형점\n"
     ]
    },
    {
     "data": {
      "application/vnd.jupyter.widget-view+json": {
       "model_id": "1d86db4ab66c4749b4f7f636df9e39fe",
       "version_major": 2,
       "version_minor": 0
      },
      "text/plain": [
       "  0%|          | 0/2 [00:00<?, ?it/s]"
      ]
     },
     "metadata": {},
     "output_type": "display_data"
    },
    {
     "data": {
      "application/vnd.jupyter.widget-view+json": {
       "model_id": "a5ad49a65f75478fbd9ce9f62e7300f1",
       "version_major": 2,
       "version_minor": 0
      },
      "text/plain": [
       "리뷰수집중:   0%|          | 0/13 [00:00<?, ?it/s]"
      ]
     },
     "metadata": {},
     "output_type": "display_data"
    },
    {
     "name": "stdout",
     "output_type": "stream",
     "text": [
      "\n",
      "148\n",
      "현재 :  탐나는밥상\n",
      "현재 크롤링이 진행중인 검색어 : 탐나는밥상\n",
      "펼칠 리뷰가 없다.\n"
     ]
    },
    {
     "data": {
      "application/vnd.jupyter.widget-view+json": {
       "model_id": "c5ebb5e2884141c7948db1220410b324",
       "version_major": 2,
       "version_minor": 0
      },
      "text/plain": [
       "리뷰수집중:   0%|          | 0/10 [00:00<?, ?it/s]"
      ]
     },
     "metadata": {},
     "output_type": "display_data"
    },
    {
     "name": "stdout",
     "output_type": "stream",
     "text": [
      "\n",
      "149\n",
      "현재 :  케무리\n",
      "현재 크롤링이 진행중인 검색어 : 케무리\n"
     ]
    },
    {
     "data": {
      "application/vnd.jupyter.widget-view+json": {
       "model_id": "ea9bb33fb8ed4c8a87747562ace8d01b",
       "version_major": 2,
       "version_minor": 0
      },
      "text/plain": [
       "  0%|          | 0/17 [00:04<?, ?it/s]"
      ]
     },
     "metadata": {},
     "output_type": "display_data"
    },
    {
     "data": {
      "application/vnd.jupyter.widget-view+json": {
       "model_id": "ff5f796dcebd4eac925619f4bd5462bd",
       "version_major": 2,
       "version_minor": 0
      },
      "text/plain": [
       "리뷰수집중:   0%|          | 0/59 [00:00<?, ?it/s]"
      ]
     },
     "metadata": {},
     "output_type": "display_data"
    },
    {
     "name": "stdout",
     "output_type": "stream",
     "text": [
      "\n",
      "150\n",
      "현재 :  수목원길\n",
      "현재 크롤링이 진행중인 검색어 : 수목원길\n"
     ]
    },
    {
     "data": {
      "application/vnd.jupyter.widget-view+json": {
       "model_id": "f6a642e997134d51889f9aa1aab047bc",
       "version_major": 2,
       "version_minor": 0
      },
      "text/plain": [
       "  0%|          | 0/4 [00:00<?, ?it/s]"
      ]
     },
     "metadata": {},
     "output_type": "display_data"
    },
    {
     "data": {
      "application/vnd.jupyter.widget-view+json": {
       "model_id": "d73af20c3f0b49bbbc70840e6254fefc",
       "version_major": 2,
       "version_minor": 0
      },
      "text/plain": [
       "리뷰수집중:   0%|          | 0/54 [00:00<?, ?it/s]"
      ]
     },
     "metadata": {},
     "output_type": "display_data"
    },
    {
     "name": "stdout",
     "output_type": "stream",
     "text": [
      "\n",
      "151\n",
      "현재 :  배떡연동점\n",
      "현재 크롤링이 진행중인 검색어 : 배떡연동점\n",
      "펼칠 리뷰가 없다.\n"
     ]
    },
    {
     "data": {
      "application/vnd.jupyter.widget-view+json": {
       "model_id": "e0363f6c21334745bc9b8431819e0ffd",
       "version_major": 2,
       "version_minor": 0
      },
      "text/plain": [
       "  0%|          | 0/2 [00:00<?, ?it/s]"
      ]
     },
     "metadata": {},
     "output_type": "display_data"
    },
    {
     "data": {
      "application/vnd.jupyter.widget-view+json": {
       "model_id": "bae08912271a4b01ad433f902b48755a",
       "version_major": 2,
       "version_minor": 0
      },
      "text/plain": [
       "리뷰수집중:   0%|          | 0/7 [00:00<?, ?it/s]"
      ]
     },
     "metadata": {},
     "output_type": "display_data"
    },
    {
     "name": "stdout",
     "output_type": "stream",
     "text": [
      "\n",
      "152\n",
      "현재 :  제주닭꼬집\n",
      "현재 크롤링이 진행중인 검색어 : 제주닭꼬집\n"
     ]
    },
    {
     "data": {
      "application/vnd.jupyter.widget-view+json": {
       "model_id": "76bf0948e71f4e7f8b97cb8262e5a86a",
       "version_major": 2,
       "version_minor": 0
      },
      "text/plain": [
       "  0%|          | 0/6 [00:00<?, ?it/s]"
      ]
     },
     "metadata": {},
     "output_type": "display_data"
    },
    {
     "data": {
      "application/vnd.jupyter.widget-view+json": {
       "model_id": "4d03bedd8cac461db6d2a52cc6f9592b",
       "version_major": 2,
       "version_minor": 0
      },
      "text/plain": [
       "리뷰수집중:   0%|          | 0/16 [00:00<?, ?it/s]"
      ]
     },
     "metadata": {},
     "output_type": "display_data"
    },
    {
     "name": "stdout",
     "output_type": "stream",
     "text": [
      "\n",
      "153\n",
      "현재 :  집으로배달삼겹\n",
      "현재 크롤링이 진행중인 검색어 : 집으로배달삼겹\n",
      "\n",
      "154\n",
      "현재 :  한남1990\n",
      "현재 크롤링이 진행중인 검색어 : 한남1990\n"
     ]
    },
    {
     "data": {
      "application/vnd.jupyter.widget-view+json": {
       "model_id": "fac9e753d7fb4b6d8aeac5e554630c09",
       "version_major": 2,
       "version_minor": 0
      },
      "text/plain": [
       "  0%|          | 0/6 [00:00<?, ?it/s]"
      ]
     },
     "metadata": {},
     "output_type": "display_data"
    },
    {
     "data": {
      "application/vnd.jupyter.widget-view+json": {
       "model_id": "8867540f8c1e4a7e8ecc5462010cdce1",
       "version_major": 2,
       "version_minor": 0
      },
      "text/plain": [
       "리뷰수집중:   0%|          | 0/24 [00:00<?, ?it/s]"
      ]
     },
     "metadata": {},
     "output_type": "display_data"
    },
    {
     "name": "stdout",
     "output_type": "stream",
     "text": [
      "\n",
      "155\n",
      "현재 :  만남포차\n",
      "현재 크롤링이 진행중인 검색어 : 만남포차\n",
      "펼칠 리뷰가 없다.\n",
      "\n",
      "156\n",
      "현재 :  종승호\n",
      "현재 크롤링이 진행중인 검색어 : 종승호\n"
     ]
    },
    {
     "data": {
      "application/vnd.jupyter.widget-view+json": {
       "model_id": "0689d439bebe46c4bc682148d751659f",
       "version_major": 2,
       "version_minor": 0
      },
      "text/plain": [
       "  0%|          | 0/14 [00:00<?, ?it/s]"
      ]
     },
     "metadata": {},
     "output_type": "display_data"
    },
    {
     "data": {
      "application/vnd.jupyter.widget-view+json": {
       "model_id": "70c69bcb971f4bcebc5e75d153c93e71",
       "version_major": 2,
       "version_minor": 0
      },
      "text/plain": [
       "리뷰수집중:   0%|          | 0/31 [00:00<?, ?it/s]"
      ]
     },
     "metadata": {},
     "output_type": "display_data"
    },
    {
     "name": "stdout",
     "output_type": "stream",
     "text": [
      "\n",
      "157\n",
      "현재 :  루프탑레오\n",
      "현재 크롤링이 진행중인 검색어 : 루프탑레오\n"
     ]
    },
    {
     "data": {
      "application/vnd.jupyter.widget-view+json": {
       "model_id": "1e32b488cf474b15abe2acf51624f8b8",
       "version_major": 2,
       "version_minor": 0
      },
      "text/plain": [
       "  0%|          | 0/23 [00:00<?, ?it/s]"
      ]
     },
     "metadata": {},
     "output_type": "display_data"
    },
    {
     "data": {
      "application/vnd.jupyter.widget-view+json": {
       "model_id": "5bf6311fa71e4a18a9af909749652ea1",
       "version_major": 2,
       "version_minor": 0
      },
      "text/plain": [
       "리뷰수집중:   0%|          | 0/79 [00:00<?, ?it/s]"
      ]
     },
     "metadata": {},
     "output_type": "display_data"
    },
    {
     "name": "stdout",
     "output_type": "stream",
     "text": [
      "\n",
      "158\n",
      "현재 :  엄마순대국\n",
      "현재 크롤링이 진행중인 검색어 : 엄마순대국\n"
     ]
    },
    {
     "data": {
      "application/vnd.jupyter.widget-view+json": {
       "model_id": "c8536f281eb54d75b9cc037d32f72711",
       "version_major": 2,
       "version_minor": 0
      },
      "text/plain": [
       "  0%|          | 0/18 [00:00<?, ?it/s]"
      ]
     },
     "metadata": {},
     "output_type": "display_data"
    },
    {
     "data": {
      "application/vnd.jupyter.widget-view+json": {
       "model_id": "f8f0c3330281479eb8139cea36ebb924",
       "version_major": 2,
       "version_minor": 0
      },
      "text/plain": [
       "리뷰수집중:   0%|          | 0/366 [00:00<?, ?it/s]"
      ]
     },
     "metadata": {},
     "output_type": "display_data"
    },
    {
     "name": "stdout",
     "output_type": "stream",
     "text": [
      "\n",
      "159\n",
      "현재 :  연동회관\n",
      "현재 크롤링이 진행중인 검색어 : 연동회관\n"
     ]
    },
    {
     "data": {
      "application/vnd.jupyter.widget-view+json": {
       "model_id": "9abd2c3680ae44908358f759dc1f8ee3",
       "version_major": 2,
       "version_minor": 0
      },
      "text/plain": [
       "  0%|          | 0/34 [00:00<?, ?it/s]"
      ]
     },
     "metadata": {},
     "output_type": "display_data"
    },
    {
     "data": {
      "application/vnd.jupyter.widget-view+json": {
       "model_id": "475eb00837ed452ba040f4eb1a5c7b3c",
       "version_major": 2,
       "version_minor": 0
      },
      "text/plain": [
       "리뷰수집중:   0%|          | 0/94 [00:00<?, ?it/s]"
      ]
     },
     "metadata": {},
     "output_type": "display_data"
    },
    {
     "name": "stdout",
     "output_type": "stream",
     "text": [
      "\n",
      "160\n",
      "현재 :  광양이조연동점\n",
      "현재 크롤링이 진행중인 검색어 : 광양이조연동점\n"
     ]
    },
    {
     "data": {
      "application/vnd.jupyter.widget-view+json": {
       "model_id": "b903bf16c3c742dfb4cd734281c24f44",
       "version_major": 2,
       "version_minor": 0
      },
      "text/plain": [
       "  0%|          | 0/4 [00:00<?, ?it/s]"
      ]
     },
     "metadata": {},
     "output_type": "display_data"
    },
    {
     "data": {
      "application/vnd.jupyter.widget-view+json": {
       "model_id": "48319c9cf33f4e92aeda1d78c70d6dcd",
       "version_major": 2,
       "version_minor": 0
      },
      "text/plain": [
       "리뷰수집중:   0%|          | 0/12 [00:00<?, ?it/s]"
      ]
     },
     "metadata": {},
     "output_type": "display_data"
    },
    {
     "name": "stdout",
     "output_type": "stream",
     "text": [
      "\n",
      "161\n",
      "현재 :  해봉이네동태마당\n",
      "현재 크롤링이 진행중인 검색어 : 해봉이네동태마당\n"
     ]
    },
    {
     "data": {
      "application/vnd.jupyter.widget-view+json": {
       "model_id": "97b402301da34f899f07f98e53d2d543",
       "version_major": 2,
       "version_minor": 0
      },
      "text/plain": [
       "  0%|          | 0/11 [00:00<?, ?it/s]"
      ]
     },
     "metadata": {},
     "output_type": "display_data"
    },
    {
     "data": {
      "application/vnd.jupyter.widget-view+json": {
       "model_id": "d4d358224c2248e6ba666de34cd39676",
       "version_major": 2,
       "version_minor": 0
      },
      "text/plain": [
       "리뷰수집중:   0%|          | 0/59 [00:00<?, ?it/s]"
      ]
     },
     "metadata": {},
     "output_type": "display_data"
    },
    {
     "name": "stdout",
     "output_type": "stream",
     "text": [
      "\n",
      "162\n",
      "현재 :  한라산산더미불고기\n",
      "현재 크롤링이 진행중인 검색어 : 한라산산더미불고기\n",
      "펼칠 리뷰가 없다.\n"
     ]
    },
    {
     "data": {
      "application/vnd.jupyter.widget-view+json": {
       "model_id": "b77c4bd816604e2c8ffe6cfe21689ca0",
       "version_major": 2,
       "version_minor": 0
      },
      "text/plain": [
       "리뷰수집중:   0%|          | 0/4 [00:00<?, ?it/s]"
      ]
     },
     "metadata": {},
     "output_type": "display_data"
    },
    {
     "name": "stdout",
     "output_type": "stream",
     "text": [
      "\n",
      "163\n",
      "현재 :  티톡\n",
      "현재 크롤링이 진행중인 검색어 : 티톡\n",
      "펼칠 리뷰가 없다.\n"
     ]
    },
    {
     "data": {
      "application/vnd.jupyter.widget-view+json": {
       "model_id": "1e0be05c456d497dba55cd734e94a4f0",
       "version_major": 2,
       "version_minor": 0
      },
      "text/plain": [
       "리뷰수집중:   0%|          | 0/4 [00:04<?, ?it/s]"
      ]
     },
     "metadata": {},
     "output_type": "display_data"
    },
    {
     "name": "stdout",
     "output_type": "stream",
     "text": [
      "\n",
      "164\n",
      "현재 :  조마루뼈다귀연동점\n",
      "현재 크롤링이 진행중인 검색어 : 조마루뼈다귀연동점\n"
     ]
    },
    {
     "data": {
      "application/vnd.jupyter.widget-view+json": {
       "model_id": "3e4ef584cb944fc48e33871067a65e91",
       "version_major": 2,
       "version_minor": 0
      },
      "text/plain": [
       "  0%|          | 0/4 [00:00<?, ?it/s]"
      ]
     },
     "metadata": {},
     "output_type": "display_data"
    },
    {
     "data": {
      "application/vnd.jupyter.widget-view+json": {
       "model_id": "cd0b01b6f1cd41b5a3391e7676f81c6c",
       "version_major": 2,
       "version_minor": 0
      },
      "text/plain": [
       "리뷰수집중:   0%|          | 0/69 [00:00<?, ?it/s]"
      ]
     },
     "metadata": {},
     "output_type": "display_data"
    },
    {
     "name": "stdout",
     "output_type": "stream",
     "text": [
      "\n",
      "165\n",
      "현재 :  담이자카야\n",
      "현재 크롤링이 진행중인 검색어 : 담이자카야\n"
     ]
    },
    {
     "data": {
      "application/vnd.jupyter.widget-view+json": {
       "model_id": "091097a36dd640fe9a393d65d261bdbb",
       "version_major": 2,
       "version_minor": 0
      },
      "text/plain": [
       "  0%|          | 0/13 [00:00<?, ?it/s]"
      ]
     },
     "metadata": {},
     "output_type": "display_data"
    },
    {
     "data": {
      "application/vnd.jupyter.widget-view+json": {
       "model_id": "574df3a4b0ef463db1721cc18c8c0fac",
       "version_major": 2,
       "version_minor": 0
      },
      "text/plain": [
       "리뷰수집중:   0%|          | 0/75 [00:00<?, ?it/s]"
      ]
     },
     "metadata": {},
     "output_type": "display_data"
    },
    {
     "name": "stdout",
     "output_type": "stream",
     "text": [
      "\n",
      "166\n",
      "현재 :  별연동삼계탕\n",
      "현재 크롤링이 진행중인 검색어 : 별연동삼계탕\n",
      "펼칠 리뷰가 없다.\n"
     ]
    },
    {
     "data": {
      "application/vnd.jupyter.widget-view+json": {
       "model_id": "89646ed67fb047419e935e1e4d4ce30b",
       "version_major": 2,
       "version_minor": 0
      },
      "text/plain": [
       "  0%|          | 0/1 [00:00<?, ?it/s]"
      ]
     },
     "metadata": {},
     "output_type": "display_data"
    },
    {
     "data": {
      "application/vnd.jupyter.widget-view+json": {
       "model_id": "c887c7fa020f4439a60b3ea999cb5928",
       "version_major": 2,
       "version_minor": 0
      },
      "text/plain": [
       "리뷰수집중:   0%|          | 0/8 [00:00<?, ?it/s]"
      ]
     },
     "metadata": {},
     "output_type": "display_data"
    },
    {
     "name": "stdout",
     "output_type": "stream",
     "text": [
      "\n",
      "167\n",
      "현재 :  땅땅치킨연동점\n",
      "현재 크롤링이 진행중인 검색어 : 땅땅치킨연동점\n"
     ]
    },
    {
     "data": {
      "application/vnd.jupyter.widget-view+json": {
       "model_id": "5a3a2f44826c4fca891c97df6aab724c",
       "version_major": 2,
       "version_minor": 0
      },
      "text/plain": [
       "  0%|          | 0/2 [00:00<?, ?it/s]"
      ]
     },
     "metadata": {},
     "output_type": "display_data"
    },
    {
     "data": {
      "application/vnd.jupyter.widget-view+json": {
       "model_id": "870bee1ef0d141c4b2880ef35810a941",
       "version_major": 2,
       "version_minor": 0
      },
      "text/plain": [
       "리뷰수집중:   0%|          | 0/55 [00:00<?, ?it/s]"
      ]
     },
     "metadata": {},
     "output_type": "display_data"
    },
    {
     "name": "stdout",
     "output_type": "stream",
     "text": [
      "\n",
      "168\n",
      "현재 :  오래옥\n",
      "현재 크롤링이 진행중인 검색어 : 오래옥\n"
     ]
    },
    {
     "data": {
      "application/vnd.jupyter.widget-view+json": {
       "model_id": "ea18197f57034b65aff0d0adfa53a8b2",
       "version_major": 2,
       "version_minor": 0
      },
      "text/plain": [
       "  0%|          | 0/6 [00:00<?, ?it/s]"
      ]
     },
     "metadata": {},
     "output_type": "display_data"
    },
    {
     "data": {
      "application/vnd.jupyter.widget-view+json": {
       "model_id": "34fad7e3b7b14c13b1d3adfec256c59a",
       "version_major": 2,
       "version_minor": 0
      },
      "text/plain": [
       "리뷰수집중:   0%|          | 0/102 [00:00<?, ?it/s]"
      ]
     },
     "metadata": {},
     "output_type": "display_data"
    },
    {
     "name": "stdout",
     "output_type": "stream",
     "text": [
      "\n",
      "169\n",
      "현재 :  브로콜리\n",
      "현재 크롤링이 진행중인 검색어 : 브로콜리\n"
     ]
    },
    {
     "data": {
      "application/vnd.jupyter.widget-view+json": {
       "model_id": "528b70e1828c4b55a8a68fab516254ac",
       "version_major": 2,
       "version_minor": 0
      },
      "text/plain": [
       "  0%|          | 0/2 [00:00<?, ?it/s]"
      ]
     },
     "metadata": {},
     "output_type": "display_data"
    },
    {
     "data": {
      "application/vnd.jupyter.widget-view+json": {
       "model_id": "136b0a91eb9e4af585ec9803b52c14be",
       "version_major": 2,
       "version_minor": 0
      },
      "text/plain": [
       "리뷰수집중:   0%|          | 0/22 [00:00<?, ?it/s]"
      ]
     },
     "metadata": {},
     "output_type": "display_data"
    },
    {
     "name": "stdout",
     "output_type": "stream",
     "text": [
      "\n",
      "170\n",
      "현재 :  말한마리가든\n",
      "현재 크롤링이 진행중인 검색어 : 말한마리가든\n"
     ]
    },
    {
     "data": {
      "application/vnd.jupyter.widget-view+json": {
       "model_id": "393ed04d2dfb4b30a0c3abf91767729b",
       "version_major": 2,
       "version_minor": 0
      },
      "text/plain": [
       "  0%|          | 0/15 [00:00<?, ?it/s]"
      ]
     },
     "metadata": {},
     "output_type": "display_data"
    },
    {
     "data": {
      "application/vnd.jupyter.widget-view+json": {
       "model_id": "123e1d57bb3d4928b019f6714d9f0919",
       "version_major": 2,
       "version_minor": 0
      },
      "text/plain": [
       "리뷰수집중:   0%|          | 0/38 [00:00<?, ?it/s]"
      ]
     },
     "metadata": {},
     "output_type": "display_data"
    },
    {
     "name": "stdout",
     "output_type": "stream",
     "text": [
      "\n",
      "171\n",
      "현재 :  서은이네생고기\n",
      "현재 크롤링이 진행중인 검색어 : 서은이네생고기\n"
     ]
    },
    {
     "data": {
      "application/vnd.jupyter.widget-view+json": {
       "model_id": "3857eea9672d411ca68bfb9fdabd9fab",
       "version_major": 2,
       "version_minor": 0
      },
      "text/plain": [
       "  0%|          | 0/9 [00:00<?, ?it/s]"
      ]
     },
     "metadata": {},
     "output_type": "display_data"
    },
    {
     "data": {
      "application/vnd.jupyter.widget-view+json": {
       "model_id": "855a69ca7b014deca0ac2649a11777c8",
       "version_major": 2,
       "version_minor": 0
      },
      "text/plain": [
       "리뷰수집중:   0%|          | 0/63 [00:00<?, ?it/s]"
      ]
     },
     "metadata": {},
     "output_type": "display_data"
    },
    {
     "name": "stdout",
     "output_type": "stream",
     "text": [
      "\n",
      "172\n",
      "현재 :  수목원집밥\n",
      "현재 크롤링이 진행중인 검색어 : 수목원집밥\n"
     ]
    },
    {
     "data": {
      "application/vnd.jupyter.widget-view+json": {
       "model_id": "7aaef981ec0549138fd1773c7cfa940f",
       "version_major": 2,
       "version_minor": 0
      },
      "text/plain": [
       "  0%|          | 0/29 [00:00<?, ?it/s]"
      ]
     },
     "metadata": {},
     "output_type": "display_data"
    },
    {
     "data": {
      "application/vnd.jupyter.widget-view+json": {
       "model_id": "7ec65ead67a04487ac5a15bec2e4ccc2",
       "version_major": 2,
       "version_minor": 0
      },
      "text/plain": [
       "리뷰수집중:   0%|          | 0/78 [00:24<?, ?it/s]"
      ]
     },
     "metadata": {},
     "output_type": "display_data"
    },
    {
     "name": "stdout",
     "output_type": "stream",
     "text": [
      "\n",
      "173\n",
      "현재 :  대관원\n",
      "현재 크롤링이 진행중인 검색어 : 대관원\n"
     ]
    },
    {
     "data": {
      "application/vnd.jupyter.widget-view+json": {
       "model_id": "42ebb77a1c984ae59ae1190d5d12297a",
       "version_major": 2,
       "version_minor": 0
      },
      "text/plain": [
       "  0%|          | 0/5 [00:00<?, ?it/s]"
      ]
     },
     "metadata": {},
     "output_type": "display_data"
    },
    {
     "data": {
      "application/vnd.jupyter.widget-view+json": {
       "model_id": "a31298f7f46f4204a78922adbbc340df",
       "version_major": 2,
       "version_minor": 0
      },
      "text/plain": [
       "리뷰수집중:   0%|          | 0/80 [00:00<?, ?it/s]"
      ]
     },
     "metadata": {},
     "output_type": "display_data"
    },
    {
     "name": "stdout",
     "output_type": "stream",
     "text": [
      "\n",
      "174\n",
      "현재 :  영덕대게마을\n",
      "현재 크롤링이 진행중인 검색어 : 영덕대게마을\n"
     ]
    },
    {
     "data": {
      "application/vnd.jupyter.widget-view+json": {
       "model_id": "74f050311ebc4911bbcbcc492512140f",
       "version_major": 2,
       "version_minor": 0
      },
      "text/plain": [
       "  0%|          | 0/15 [00:00<?, ?it/s]"
      ]
     },
     "metadata": {},
     "output_type": "display_data"
    },
    {
     "data": {
      "application/vnd.jupyter.widget-view+json": {
       "model_id": "ce0fba7d7472453f8b3cdd2754893281",
       "version_major": 2,
       "version_minor": 0
      },
      "text/plain": [
       "리뷰수집중:   0%|          | 0/125 [00:00<?, ?it/s]"
      ]
     },
     "metadata": {},
     "output_type": "display_data"
    },
    {
     "name": "stdout",
     "output_type": "stream",
     "text": [
      "\n",
      "175\n",
      "현재 :  삼무공원흑돼지\n",
      "현재 크롤링이 진행중인 검색어 : 삼무공원흑돼지\n"
     ]
    },
    {
     "data": {
      "application/vnd.jupyter.widget-view+json": {
       "model_id": "a34a8b790d8845909069a334a51fa091",
       "version_major": 2,
       "version_minor": 0
      },
      "text/plain": [
       "  0%|          | 0/43 [00:00<?, ?it/s]"
      ]
     },
     "metadata": {},
     "output_type": "display_data"
    },
    {
     "data": {
      "application/vnd.jupyter.widget-view+json": {
       "model_id": "cbd20ef472a8461ab986f6569bbe1be5",
       "version_major": 2,
       "version_minor": 0
      },
      "text/plain": [
       "리뷰수집중:   0%|          | 0/100 [00:00<?, ?it/s]"
      ]
     },
     "metadata": {},
     "output_type": "display_data"
    },
    {
     "name": "stdout",
     "output_type": "stream",
     "text": [
      "\n",
      "176\n",
      "현재 :  수미일관\n",
      "현재 크롤링이 진행중인 검색어 : 수미일관\n"
     ]
    },
    {
     "data": {
      "application/vnd.jupyter.widget-view+json": {
       "model_id": "65657c0aa61f465495559e40e5d669dd",
       "version_major": 2,
       "version_minor": 0
      },
      "text/plain": [
       "  0%|          | 0/53 [00:00<?, ?it/s]"
      ]
     },
     "metadata": {},
     "output_type": "display_data"
    },
    {
     "data": {
      "application/vnd.jupyter.widget-view+json": {
       "model_id": "26b21305e3174744b3afec56b84e6111",
       "version_major": 2,
       "version_minor": 0
      },
      "text/plain": [
       "리뷰수집중:   0%|          | 0/124 [00:00<?, ?it/s]"
      ]
     },
     "metadata": {},
     "output_type": "display_data"
    },
    {
     "name": "stdout",
     "output_type": "stream",
     "text": [
      "\n",
      "177\n",
      "현재 :  야미포차\n",
      "현재 크롤링이 진행중인 검색어 : 야미포차\n",
      "펼칠 리뷰가 없다.\n"
     ]
    },
    {
     "data": {
      "application/vnd.jupyter.widget-view+json": {
       "model_id": "904ce4b63aca43dfa2fdf0f4b66e2562",
       "version_major": 2,
       "version_minor": 0
      },
      "text/plain": [
       "리뷰수집중:   0%|          | 0/5 [00:00<?, ?it/s]"
      ]
     },
     "metadata": {},
     "output_type": "display_data"
    },
    {
     "name": "stdout",
     "output_type": "stream",
     "text": [
      "\n",
      "178\n",
      "현재 :  보잉747\n",
      "현재 크롤링이 진행중인 검색어 : 보잉747\n",
      "\n",
      "179\n",
      "현재 :  옛날깡통\n",
      "현재 크롤링이 진행중인 검색어 : 옛날깡통\n"
     ]
    },
    {
     "data": {
      "application/vnd.jupyter.widget-view+json": {
       "model_id": "141b1393b2b54e1b8cb5d720c76fd7b6",
       "version_major": 2,
       "version_minor": 0
      },
      "text/plain": [
       "  0%|          | 0/34 [00:04<?, ?it/s]"
      ]
     },
     "metadata": {},
     "output_type": "display_data"
    },
    {
     "data": {
      "application/vnd.jupyter.widget-view+json": {
       "model_id": "1f104394da4d4941af2517529c6c96aa",
       "version_major": 2,
       "version_minor": 0
      },
      "text/plain": [
       "리뷰수집중:   0%|          | 0/78 [00:00<?, ?it/s]"
      ]
     },
     "metadata": {},
     "output_type": "display_data"
    },
    {
     "name": "stdout",
     "output_type": "stream",
     "text": [
      "\n",
      "180\n",
      "현재 :  청춘열차\n",
      "현재 크롤링이 진행중인 검색어 : 청춘열차\n",
      "펼칠 리뷰가 없다.\n"
     ]
    },
    {
     "data": {
      "application/vnd.jupyter.widget-view+json": {
       "model_id": "2e6b444d90c54f43b4ffbc16983583cc",
       "version_major": 2,
       "version_minor": 0
      },
      "text/plain": [
       "리뷰수집중:   0%|          | 0/7 [00:00<?, ?it/s]"
      ]
     },
     "metadata": {},
     "output_type": "display_data"
    },
    {
     "name": "stdout",
     "output_type": "stream",
     "text": [
      "\n",
      "181\n",
      "현재 :  아르보\n",
      "현재 크롤링이 진행중인 검색어 : 아르보\n"
     ]
    },
    {
     "data": {
      "application/vnd.jupyter.widget-view+json": {
       "model_id": "1fde59acec2f4fe18981f62553ff3354",
       "version_major": 2,
       "version_minor": 0
      },
      "text/plain": [
       "  0%|          | 0/32 [00:04<?, ?it/s]"
      ]
     },
     "metadata": {},
     "output_type": "display_data"
    },
    {
     "data": {
      "application/vnd.jupyter.widget-view+json": {
       "model_id": "ec8cbe33b4564494a1a60fcb61109443",
       "version_major": 2,
       "version_minor": 0
      },
      "text/plain": [
       "리뷰수집중:   0%|          | 0/117 [00:00<?, ?it/s]"
      ]
     },
     "metadata": {},
     "output_type": "display_data"
    },
    {
     "name": "stdout",
     "output_type": "stream",
     "text": [
      "\n",
      "182\n",
      "현재 :  선미정\n",
      "현재 크롤링이 진행중인 검색어 : 선미정\n",
      "펼칠 리뷰가 없다.\n",
      "\n",
      "183\n",
      "현재 :  정현이모\n",
      "현재 크롤링이 진행중인 검색어 : 정현이모\n",
      "펼칠 리뷰가 없다.\n",
      "\n",
      "184\n",
      "현재 :  피치랑신제주점\n",
      "현재 크롤링이 진행중인 검색어 : 피치랑신제주점\n"
     ]
    },
    {
     "data": {
      "application/vnd.jupyter.widget-view+json": {
       "model_id": "bb32d2a86db94d149764d40d283676f1",
       "version_major": 2,
       "version_minor": 0
      },
      "text/plain": [
       "  0%|          | 0/1 [00:00<?, ?it/s]"
      ]
     },
     "metadata": {},
     "output_type": "display_data"
    },
    {
     "data": {
      "application/vnd.jupyter.widget-view+json": {
       "model_id": "d94d5c2addbb4b3ebd3a76d560736dde",
       "version_major": 2,
       "version_minor": 0
      },
      "text/plain": [
       "리뷰수집중:   0%|          | 0/24 [00:00<?, ?it/s]"
      ]
     },
     "metadata": {},
     "output_type": "display_data"
    },
    {
     "name": "stdout",
     "output_type": "stream",
     "text": [
      "\n",
      "185\n",
      "현재 :  문송식당\n",
      "현재 크롤링이 진행중인 검색어 : 문송식당\n",
      "펼칠 리뷰가 없다.\n",
      "\n",
      "186\n",
      "현재 :  예일갈비\n",
      "현재 크롤링이 진행중인 검색어 : 예일갈비\n"
     ]
    },
    {
     "data": {
      "application/vnd.jupyter.widget-view+json": {
       "model_id": "d0c707ba682c4e438fcc56eed00f33f8",
       "version_major": 2,
       "version_minor": 0
      },
      "text/plain": [
       "  0%|          | 0/1 [00:00<?, ?it/s]"
      ]
     },
     "metadata": {},
     "output_type": "display_data"
    },
    {
     "data": {
      "application/vnd.jupyter.widget-view+json": {
       "model_id": "23e05ef33df94e19baa1d399c3bb7395",
       "version_major": 2,
       "version_minor": 0
      },
      "text/plain": [
       "리뷰수집중:   0%|          | 0/22 [00:00<?, ?it/s]"
      ]
     },
     "metadata": {},
     "output_type": "display_data"
    },
    {
     "name": "stdout",
     "output_type": "stream",
     "text": [
      "\n",
      "187\n",
      "현재 :  자매숯불\n",
      "현재 크롤링이 진행중인 검색어 : 자매숯불\n",
      "펼칠 리뷰가 없다.\n"
     ]
    },
    {
     "data": {
      "application/vnd.jupyter.widget-view+json": {
       "model_id": "242c7cf240524c70b810c1f5ea8e3021",
       "version_major": 2,
       "version_minor": 0
      },
      "text/plain": [
       "  0%|          | 0/1 [00:00<?, ?it/s]"
      ]
     },
     "metadata": {},
     "output_type": "display_data"
    },
    {
     "data": {
      "application/vnd.jupyter.widget-view+json": {
       "model_id": "0255f04803a54110b94339fbe86ecfa9",
       "version_major": 2,
       "version_minor": 0
      },
      "text/plain": [
       "리뷰수집중:   0%|          | 0/11 [00:00<?, ?it/s]"
      ]
     },
     "metadata": {},
     "output_type": "display_data"
    },
    {
     "name": "stdout",
     "output_type": "stream",
     "text": [
      "\n",
      "188\n",
      "현재 :  망사리카페\n",
      "현재 크롤링이 진행중인 검색어 : 망사리카페\n"
     ]
    },
    {
     "data": {
      "application/vnd.jupyter.widget-view+json": {
       "model_id": "2623fbd16323483584ad783a0a366c99",
       "version_major": 2,
       "version_minor": 0
      },
      "text/plain": [
       "  0%|          | 0/18 [00:00<?, ?it/s]"
      ]
     },
     "metadata": {},
     "output_type": "display_data"
    },
    {
     "data": {
      "application/vnd.jupyter.widget-view+json": {
       "model_id": "42b47fa938714b8da2d34f058c2fbb9b",
       "version_major": 2,
       "version_minor": 0
      },
      "text/plain": [
       "리뷰수집중:   0%|          | 0/59 [00:00<?, ?it/s]"
      ]
     },
     "metadata": {},
     "output_type": "display_data"
    },
    {
     "name": "stdout",
     "output_type": "stream",
     "text": [
      "\n",
      "189\n",
      "현재 :  미보삿뽀로참치\n",
      "현재 크롤링이 진행중인 검색어 : 미보삿뽀로참치\n"
     ]
    },
    {
     "data": {
      "application/vnd.jupyter.widget-view+json": {
       "model_id": "9537d2d44e824b6c844ce8875a25b5e8",
       "version_major": 2,
       "version_minor": 0
      },
      "text/plain": [
       "  0%|          | 0/22 [00:00<?, ?it/s]"
      ]
     },
     "metadata": {},
     "output_type": "display_data"
    },
    {
     "data": {
      "application/vnd.jupyter.widget-view+json": {
       "model_id": "39861695c6b14fa7adaa99d7096325af",
       "version_major": 2,
       "version_minor": 0
      },
      "text/plain": [
       "리뷰수집중:   0%|          | 0/80 [00:00<?, ?it/s]"
      ]
     },
     "metadata": {},
     "output_type": "display_data"
    },
    {
     "name": "stdout",
     "output_type": "stream",
     "text": [
      "\n",
      "190\n",
      "현재 :  소랑분식\n",
      "현재 크롤링이 진행중인 검색어 : 소랑분식\n"
     ]
    },
    {
     "data": {
      "application/vnd.jupyter.widget-view+json": {
       "model_id": "05514164e4da4d51a6dc38b799de0ff3",
       "version_major": 2,
       "version_minor": 0
      },
      "text/plain": [
       "  0%|          | 0/9 [00:00<?, ?it/s]"
      ]
     },
     "metadata": {},
     "output_type": "display_data"
    },
    {
     "data": {
      "application/vnd.jupyter.widget-view+json": {
       "model_id": "ac564fd1fbdc47888de380a3959f6bce",
       "version_major": 2,
       "version_minor": 0
      },
      "text/plain": [
       "리뷰수집중:   0%|          | 0/61 [00:00<?, ?it/s]"
      ]
     },
     "metadata": {},
     "output_type": "display_data"
    },
    {
     "name": "stdout",
     "output_type": "stream",
     "text": [
      "\n",
      "191\n",
      "현재 :  로미파스타\n",
      "현재 크롤링이 진행중인 검색어 : 로미파스타\n"
     ]
    },
    {
     "data": {
      "application/vnd.jupyter.widget-view+json": {
       "model_id": "5792d5f809934d68883b190372a52ee9",
       "version_major": 2,
       "version_minor": 0
      },
      "text/plain": [
       "  0%|          | 0/5 [00:00<?, ?it/s]"
      ]
     },
     "metadata": {},
     "output_type": "display_data"
    },
    {
     "data": {
      "application/vnd.jupyter.widget-view+json": {
       "model_id": "209ee27f090842db8d765affb30275e0",
       "version_major": 2,
       "version_minor": 0
      },
      "text/plain": [
       "리뷰수집중:   0%|          | 0/221 [00:00<?, ?it/s]"
      ]
     },
     "metadata": {},
     "output_type": "display_data"
    },
    {
     "name": "stdout",
     "output_type": "stream",
     "text": [
      "\n",
      "192\n",
      "현재 :  대영한밥상\n",
      "현재 크롤링이 진행중인 검색어 : 대영한밥상\n"
     ]
    },
    {
     "data": {
      "application/vnd.jupyter.widget-view+json": {
       "model_id": "b060fc65b6174af2a956f1c8bfebd5a5",
       "version_major": 2,
       "version_minor": 0
      },
      "text/plain": [
       "  0%|          | 0/11 [00:00<?, ?it/s]"
      ]
     },
     "metadata": {},
     "output_type": "display_data"
    },
    {
     "data": {
      "application/vnd.jupyter.widget-view+json": {
       "model_id": "57003b58789441d6927489b3390d3402",
       "version_major": 2,
       "version_minor": 0
      },
      "text/plain": [
       "리뷰수집중:   0%|          | 0/54 [00:00<?, ?it/s]"
      ]
     },
     "metadata": {},
     "output_type": "display_data"
    },
    {
     "name": "stdout",
     "output_type": "stream",
     "text": [
      "\n",
      "193\n",
      "현재 :  킹콩홀덤펍\n",
      "현재 크롤링이 진행중인 검색어 : 킹콩홀덤펍\n",
      "\n",
      "194\n",
      "현재 :  용우동신제주점\n",
      "현재 크롤링이 진행중인 검색어 : 용우동신제주점\n"
     ]
    },
    {
     "data": {
      "application/vnd.jupyter.widget-view+json": {
       "model_id": "155a05ad90dc4667a1f52fc9164a8047",
       "version_major": 2,
       "version_minor": 0
      },
      "text/plain": [
       "  0%|          | 0/1 [00:00<?, ?it/s]"
      ]
     },
     "metadata": {},
     "output_type": "display_data"
    },
    {
     "data": {
      "application/vnd.jupyter.widget-view+json": {
       "model_id": "b1b5366fbefe4921832e656a2714e811",
       "version_major": 2,
       "version_minor": 0
      },
      "text/plain": [
       "리뷰수집중:   0%|          | 0/60 [00:00<?, ?it/s]"
      ]
     },
     "metadata": {},
     "output_type": "display_data"
    },
    {
     "name": "stdout",
     "output_type": "stream",
     "text": [
      "\n",
      "195\n",
      "현재 :  연동포차\n",
      "현재 크롤링이 진행중인 검색어 : 연동포차\n"
     ]
    },
    {
     "data": {
      "application/vnd.jupyter.widget-view+json": {
       "model_id": "111aef8587f844a3bd8da8cd4a408682",
       "version_major": 2,
       "version_minor": 0
      },
      "text/plain": [
       "  0%|          | 0/5 [00:00<?, ?it/s]"
      ]
     },
     "metadata": {},
     "output_type": "display_data"
    },
    {
     "data": {
      "application/vnd.jupyter.widget-view+json": {
       "model_id": "01b89e59c35e48e5b735cc159f5798b1",
       "version_major": 2,
       "version_minor": 0
      },
      "text/plain": [
       "리뷰수집중:   0%|          | 0/60 [00:00<?, ?it/s]"
      ]
     },
     "metadata": {},
     "output_type": "display_data"
    },
    {
     "name": "stdout",
     "output_type": "stream",
     "text": [
      "\n",
      "196\n",
      "현재 :  베이스캠프제원점\n",
      "현재 크롤링이 진행중인 검색어 : 베이스캠프제원점\n"
     ]
    },
    {
     "data": {
      "application/vnd.jupyter.widget-view+json": {
       "model_id": "2106808cba414a8393e8667bff2f404c",
       "version_major": 2,
       "version_minor": 0
      },
      "text/plain": [
       "  0%|          | 0/6 [00:00<?, ?it/s]"
      ]
     },
     "metadata": {},
     "output_type": "display_data"
    },
    {
     "data": {
      "application/vnd.jupyter.widget-view+json": {
       "model_id": "6350669ebc374947bb88fe41b0e0f9b3",
       "version_major": 2,
       "version_minor": 0
      },
      "text/plain": [
       "리뷰수집중:   0%|          | 0/17 [00:00<?, ?it/s]"
      ]
     },
     "metadata": {},
     "output_type": "display_data"
    },
    {
     "name": "stdout",
     "output_type": "stream",
     "text": [
      "\n",
      "197\n",
      "현재 :  한식의품격신제주점\n",
      "현재 크롤링이 진행중인 검색어 : 한식의품격신제주점\n",
      "펼칠 리뷰가 없다.\n"
     ]
    },
    {
     "data": {
      "application/vnd.jupyter.widget-view+json": {
       "model_id": "0e29d0abb2b040c0baafb65bc14bbb8f",
       "version_major": 2,
       "version_minor": 0
      },
      "text/plain": [
       "  0%|          | 0/1 [00:00<?, ?it/s]"
      ]
     },
     "metadata": {},
     "output_type": "display_data"
    },
    {
     "data": {
      "application/vnd.jupyter.widget-view+json": {
       "model_id": "b58e695377264b70987bd1cfb2753b9e",
       "version_major": 2,
       "version_minor": 0
      },
      "text/plain": [
       "리뷰수집중:   0%|          | 0/6 [00:00<?, ?it/s]"
      ]
     },
     "metadata": {},
     "output_type": "display_data"
    },
    {
     "name": "stdout",
     "output_type": "stream",
     "text": [
      "\n",
      "198\n",
      "현재 :  차달임\n",
      "현재 크롤링이 진행중인 검색어 : 차달임\n"
     ]
    },
    {
     "data": {
      "application/vnd.jupyter.widget-view+json": {
       "model_id": "e61492133966484f9d1293aff1ddce30",
       "version_major": 2,
       "version_minor": 0
      },
      "text/plain": [
       "  0%|          | 0/47 [00:00<?, ?it/s]"
      ]
     },
     "metadata": {},
     "output_type": "display_data"
    },
    {
     "data": {
      "application/vnd.jupyter.widget-view+json": {
       "model_id": "cf173f3256eb451399e6e9b9e4a104e3",
       "version_major": 2,
       "version_minor": 0
      },
      "text/plain": [
       "리뷰수집중:   0%|          | 0/108 [00:00<?, ?it/s]"
      ]
     },
     "metadata": {},
     "output_type": "display_data"
    },
    {
     "name": "stdout",
     "output_type": "stream",
     "text": [
      "\n",
      "199\n",
      "현재 :  우리솥해장국\n",
      "현재 크롤링이 진행중인 검색어 : 우리솥해장국\n"
     ]
    },
    {
     "data": {
      "application/vnd.jupyter.widget-view+json": {
       "model_id": "4543869ed3bb4155ac02f0834aa2110f",
       "version_major": 2,
       "version_minor": 0
      },
      "text/plain": [
       "  0%|          | 0/3 [00:00<?, ?it/s]"
      ]
     },
     "metadata": {},
     "output_type": "display_data"
    },
    {
     "data": {
      "application/vnd.jupyter.widget-view+json": {
       "model_id": "55ec1350fab94a8cb2182bbd4ec34e21",
       "version_major": 2,
       "version_minor": 0
      },
      "text/plain": [
       "리뷰수집중:   0%|          | 0/30 [00:00<?, ?it/s]"
      ]
     },
     "metadata": {},
     "output_type": "display_data"
    },
    {
     "name": "stdout",
     "output_type": "stream",
     "text": [
      "\n",
      "200\n",
      "현재 :  제원칼집별관\n",
      "현재 크롤링이 진행중인 검색어 : 제원칼집별관\n"
     ]
    },
    {
     "data": {
      "application/vnd.jupyter.widget-view+json": {
       "model_id": "9128974ec51342279147a3efe54ece81",
       "version_major": 2,
       "version_minor": 0
      },
      "text/plain": [
       "  0%|          | 0/42 [00:00<?, ?it/s]"
      ]
     },
     "metadata": {},
     "output_type": "display_data"
    },
    {
     "data": {
      "application/vnd.jupyter.widget-view+json": {
       "model_id": "8acc74d54f06495f9e249c2a0ef79d50",
       "version_major": 2,
       "version_minor": 0
      },
      "text/plain": [
       "리뷰수집중:   0%|          | 0/254 [00:00<?, ?it/s]"
      ]
     },
     "metadata": {},
     "output_type": "display_data"
    },
    {
     "name": "stdout",
     "output_type": "stream",
     "text": [
      "\n",
      "201\n",
      "현재 :  엠박스제주\n",
      "현재 크롤링이 진행중인 검색어 : 엠박스제주\n",
      "펼칠 리뷰가 없다.\n"
     ]
    },
    {
     "data": {
      "application/vnd.jupyter.widget-view+json": {
       "model_id": "22c7a008c15c40c88ff13ae70c9722aa",
       "version_major": 2,
       "version_minor": 0
      },
      "text/plain": [
       "리뷰수집중:   0%|          | 0/9 [00:00<?, ?it/s]"
      ]
     },
     "metadata": {},
     "output_type": "display_data"
    },
    {
     "name": "stdout",
     "output_type": "stream",
     "text": [
      "\n",
      "202\n",
      "현재 :  카페시도\n",
      "현재 크롤링이 진행중인 검색어 : 카페시도\n"
     ]
    },
    {
     "data": {
      "application/vnd.jupyter.widget-view+json": {
       "model_id": "6da33582b82b46f89dd273a1f4fd5d2b",
       "version_major": 2,
       "version_minor": 0
      },
      "text/plain": [
       "  0%|          | 0/10 [00:04<?, ?it/s]"
      ]
     },
     "metadata": {},
     "output_type": "display_data"
    },
    {
     "data": {
      "application/vnd.jupyter.widget-view+json": {
       "model_id": "a9ebde3faa9f4cdcbb9e7a304f13f5c5",
       "version_major": 2,
       "version_minor": 0
      },
      "text/plain": [
       "리뷰수집중:   0%|          | 0/53 [00:00<?, ?it/s]"
      ]
     },
     "metadata": {},
     "output_type": "display_data"
    },
    {
     "name": "stdout",
     "output_type": "stream",
     "text": [
      "\n",
      "203\n",
      "현재 :  제주연탄길\n",
      "현재 크롤링이 진행중인 검색어 : 제주연탄길\n"
     ]
    },
    {
     "data": {
      "application/vnd.jupyter.widget-view+json": {
       "model_id": "2b5b92767e9d48a489f0f54a4f8c8bfa",
       "version_major": 2,
       "version_minor": 0
      },
      "text/plain": [
       "  0%|          | 0/59 [00:00<?, ?it/s]"
      ]
     },
     "metadata": {},
     "output_type": "display_data"
    },
    {
     "data": {
      "application/vnd.jupyter.widget-view+json": {
       "model_id": "2f2f733a4c0e436b8a96c6a53cf26b59",
       "version_major": 2,
       "version_minor": 0
      },
      "text/plain": [
       "리뷰수집중:   0%|          | 0/115 [00:00<?, ?it/s]"
      ]
     },
     "metadata": {},
     "output_type": "display_data"
    },
    {
     "name": "stdout",
     "output_type": "stream",
     "text": [
      "\n",
      "204\n",
      "현재 :  포비게러지\n",
      "현재 크롤링이 진행중인 검색어 : 포비게러지\n"
     ]
    },
    {
     "data": {
      "application/vnd.jupyter.widget-view+json": {
       "model_id": "fa87a60423e84571857a7b04f0be4d15",
       "version_major": 2,
       "version_minor": 0
      },
      "text/plain": [
       "  0%|          | 0/14 [00:00<?, ?it/s]"
      ]
     },
     "metadata": {},
     "output_type": "display_data"
    },
    {
     "data": {
      "application/vnd.jupyter.widget-view+json": {
       "model_id": "c8e75f29af3244ff9d1bb0e9c4bb93f6",
       "version_major": 2,
       "version_minor": 0
      },
      "text/plain": [
       "리뷰수집중:   0%|          | 0/30 [00:00<?, ?it/s]"
      ]
     },
     "metadata": {},
     "output_type": "display_data"
    },
    {
     "name": "stdout",
     "output_type": "stream",
     "text": [
      "\n",
      "205\n",
      "현재 :  플래닛제주\n",
      "현재 크롤링이 진행중인 검색어 : 플래닛제주\n"
     ]
    },
    {
     "data": {
      "application/vnd.jupyter.widget-view+json": {
       "model_id": "d193dd857db94dfbaa8f00b2d55a6c24",
       "version_major": 2,
       "version_minor": 0
      },
      "text/plain": [
       "  0%|          | 0/29 [00:00<?, ?it/s]"
      ]
     },
     "metadata": {},
     "output_type": "display_data"
    },
    {
     "data": {
      "application/vnd.jupyter.widget-view+json": {
       "model_id": "d6f82bdddf1d4578bd3e818adccbef97",
       "version_major": 2,
       "version_minor": 0
      },
      "text/plain": [
       "리뷰수집중:   0%|          | 0/408 [00:00<?, ?it/s]"
      ]
     },
     "metadata": {},
     "output_type": "display_data"
    },
    {
     "name": "stdout",
     "output_type": "stream",
     "text": [
      "\n",
      "206\n",
      "현재 :  헤이커피\n",
      "현재 크롤링이 진행중인 검색어 : 헤이커피\n",
      "펼칠 리뷰가 없다.\n"
     ]
    },
    {
     "data": {
      "application/vnd.jupyter.widget-view+json": {
       "model_id": "5764acc3609440309f1bd22fc42c6d8f",
       "version_major": 2,
       "version_minor": 0
      },
      "text/plain": [
       "리뷰수집중:   0%|          | 0/6 [00:00<?, ?it/s]"
      ]
     },
     "metadata": {},
     "output_type": "display_data"
    },
    {
     "name": "stdout",
     "output_type": "stream",
     "text": [
      "\n",
      "207\n",
      "현재 :  도리스\n",
      "현재 크롤링이 진행중인 검색어 : 도리스\n"
     ]
    },
    {
     "data": {
      "application/vnd.jupyter.widget-view+json": {
       "model_id": "4a676d1e518e41a1b512d6161ca09b78",
       "version_major": 2,
       "version_minor": 0
      },
      "text/plain": [
       "  0%|          | 0/28 [00:08<?, ?it/s]"
      ]
     },
     "metadata": {},
     "output_type": "display_data"
    },
    {
     "data": {
      "application/vnd.jupyter.widget-view+json": {
       "model_id": "c3641c8ae7ee475797b19bc5a3eca1b1",
       "version_major": 2,
       "version_minor": 0
      },
      "text/plain": [
       "리뷰수집중:   0%|          | 0/105 [00:00<?, ?it/s]"
      ]
     },
     "metadata": {},
     "output_type": "display_data"
    },
    {
     "name": "stdout",
     "output_type": "stream",
     "text": [
      "\n",
      "208\n",
      "현재 :  본죽앤비빔밥신제주점\n",
      "현재 크롤링이 진행중인 검색어 : 본죽앤비빔밥신제주점\n"
     ]
    },
    {
     "data": {
      "application/vnd.jupyter.widget-view+json": {
       "model_id": "0f30ed87b394485ba99b9decce007791",
       "version_major": 2,
       "version_minor": 0
      },
      "text/plain": [
       "  0%|          | 0/4 [00:00<?, ?it/s]"
      ]
     },
     "metadata": {},
     "output_type": "display_data"
    },
    {
     "data": {
      "application/vnd.jupyter.widget-view+json": {
       "model_id": "5734529efccc4d55ae372de6b16f6138",
       "version_major": 2,
       "version_minor": 0
      },
      "text/plain": [
       "리뷰수집중:   0%|          | 0/40 [00:00<?, ?it/s]"
      ]
     },
     "metadata": {},
     "output_type": "display_data"
    },
    {
     "name": "stdout",
     "output_type": "stream",
     "text": [
      "\n",
      "209\n",
      "현재 :  풍년내장탕해장국\n",
      "현재 크롤링이 진행중인 검색어 : 풍년내장탕해장국\n"
     ]
    },
    {
     "data": {
      "application/vnd.jupyter.widget-view+json": {
       "model_id": "cd627d9d94874fbcb22541a4c5868669",
       "version_major": 2,
       "version_minor": 0
      },
      "text/plain": [
       "  0%|          | 0/14 [00:00<?, ?it/s]"
      ]
     },
     "metadata": {},
     "output_type": "display_data"
    },
    {
     "data": {
      "application/vnd.jupyter.widget-view+json": {
       "model_id": "b003c37ba9ca4e38a0c7a43bb60ed7ff",
       "version_major": 2,
       "version_minor": 0
      },
      "text/plain": [
       "리뷰수집중:   0%|          | 0/66 [00:00<?, ?it/s]"
      ]
     },
     "metadata": {},
     "output_type": "display_data"
    },
    {
     "name": "stdout",
     "output_type": "stream",
     "text": [
      "\n",
      "210\n",
      "현재 :  킹콩부대찌개연동점\n",
      "현재 크롤링이 진행중인 검색어 : 킹콩부대찌개연동점\n"
     ]
    },
    {
     "data": {
      "application/vnd.jupyter.widget-view+json": {
       "model_id": "5f8645f9287945c491386689361f93a2",
       "version_major": 2,
       "version_minor": 0
      },
      "text/plain": [
       "리뷰수집중:   0%|          | 0/87 [00:00<?, ?it/s]"
      ]
     },
     "metadata": {},
     "output_type": "display_data"
    },
    {
     "name": "stdout",
     "output_type": "stream",
     "text": [
      "\n",
      "211\n",
      "현재 :  미풍해장국코스모스점\n",
      "현재 크롤링이 진행중인 검색어 : 미풍해장국코스모스점\n"
     ]
    },
    {
     "data": {
      "application/vnd.jupyter.widget-view+json": {
       "model_id": "76e518c845af4ed08aab09ccd3431464",
       "version_major": 2,
       "version_minor": 0
      },
      "text/plain": [
       "  0%|          | 0/10 [00:00<?, ?it/s]"
      ]
     },
     "metadata": {},
     "output_type": "display_data"
    },
    {
     "data": {
      "application/vnd.jupyter.widget-view+json": {
       "model_id": "532ab2de421f49d382d95ac3e2e1b007",
       "version_major": 2,
       "version_minor": 0
      },
      "text/plain": [
       "리뷰수집중:   0%|          | 0/103 [00:00<?, ?it/s]"
      ]
     },
     "metadata": {},
     "output_type": "display_data"
    },
    {
     "name": "stdout",
     "output_type": "stream",
     "text": [
      "\n",
      "212\n",
      "현재 :  배떡노형점\n",
      "현재 크롤링이 진행중인 검색어 : 배떡노형점\n"
     ]
    },
    {
     "data": {
      "application/vnd.jupyter.widget-view+json": {
       "model_id": "c066a39b787e437abbeddcc626f438fb",
       "version_major": 2,
       "version_minor": 0
      },
      "text/plain": [
       "  0%|          | 0/6 [00:00<?, ?it/s]"
      ]
     },
     "metadata": {},
     "output_type": "display_data"
    },
    {
     "data": {
      "application/vnd.jupyter.widget-view+json": {
       "model_id": "e9ae81d3d7f24977bc9d3503ec7f3617",
       "version_major": 2,
       "version_minor": 0
      },
      "text/plain": [
       "리뷰수집중:   0%|          | 0/40 [00:00<?, ?it/s]"
      ]
     },
     "metadata": {},
     "output_type": "display_data"
    },
    {
     "name": "stdout",
     "output_type": "stream",
     "text": [
      "\n",
      "213\n",
      "현재 :  볼빨간아구찜신제주점\n",
      "현재 크롤링이 진행중인 검색어 : 볼빨간아구찜신제주점\n",
      "펼칠 리뷰가 없다.\n",
      "\n",
      "214\n",
      "현재 :  다다참치\n",
      "현재 크롤링이 진행중인 검색어 : 다다참치\n",
      "펼칠 리뷰가 없다.\n"
     ]
    },
    {
     "data": {
      "application/vnd.jupyter.widget-view+json": {
       "model_id": "68fcdf8ce4544bc9b9f3c925e0ca5bc1",
       "version_major": 2,
       "version_minor": 0
      },
      "text/plain": [
       "  0%|          | 0/2 [00:00<?, ?it/s]"
      ]
     },
     "metadata": {},
     "output_type": "display_data"
    },
    {
     "data": {
      "application/vnd.jupyter.widget-view+json": {
       "model_id": "4494156b6f6c468ebedcfd89f4e18556",
       "version_major": 2,
       "version_minor": 0
      },
      "text/plain": [
       "리뷰수집중:   0%|          | 0/9 [00:00<?, ?it/s]"
      ]
     },
     "metadata": {},
     "output_type": "display_data"
    },
    {
     "name": "stdout",
     "output_type": "stream",
     "text": [
      "\n",
      "215\n",
      "현재 :  펄호텔제주\n",
      "현재 크롤링이 진행중인 검색어 : 펄호텔제주\n"
     ]
    },
    {
     "data": {
      "application/vnd.jupyter.widget-view+json": {
       "model_id": "74cd966a4c9345c19f620d8c9f3a3cd1",
       "version_major": 2,
       "version_minor": 0
      },
      "text/plain": [
       "  0%|          | 0/9 [00:00<?, ?it/s]"
      ]
     },
     "metadata": {},
     "output_type": "display_data"
    },
    {
     "data": {
      "application/vnd.jupyter.widget-view+json": {
       "model_id": "c8557c5ceea8457591a5870699745de2",
       "version_major": 2,
       "version_minor": 0
      },
      "text/plain": [
       "리뷰수집중:   0%|          | 0/59 [00:00<?, ?it/s]"
      ]
     },
     "metadata": {},
     "output_type": "display_data"
    },
    {
     "name": "stdout",
     "output_type": "stream",
     "text": [
      "\n",
      "216\n",
      "현재 :  담아래\n",
      "현재 크롤링이 진행중인 검색어 : 담아래\n"
     ]
    },
    {
     "data": {
      "application/vnd.jupyter.widget-view+json": {
       "model_id": "8f5ad4b666d84932aa4ceb1904f4bfe7",
       "version_major": 2,
       "version_minor": 0
      },
      "text/plain": [
       "  0%|          | 0/53 [00:00<?, ?it/s]"
      ]
     },
     "metadata": {},
     "output_type": "display_data"
    },
    {
     "data": {
      "application/vnd.jupyter.widget-view+json": {
       "model_id": "0803918644b24a65bf876041b2375566",
       "version_major": 2,
       "version_minor": 0
      },
      "text/plain": [
       "리뷰수집중:   0%|          | 0/324 [00:00<?, ?it/s]"
      ]
     },
     "metadata": {},
     "output_type": "display_data"
    },
    {
     "name": "stdout",
     "output_type": "stream",
     "text": [
      "\n",
      "217\n",
      "현재 :  반도소관\n",
      "현재 크롤링이 진행중인 검색어 : 반도소관\n",
      "\n",
      "218\n",
      "현재 :  라화쿵부제주점\n",
      "현재 크롤링이 진행중인 검색어 : 라화쿵부제주점\n"
     ]
    },
    {
     "data": {
      "application/vnd.jupyter.widget-view+json": {
       "model_id": "d4582f41e1424beda5104788dca4947d",
       "version_major": 2,
       "version_minor": 0
      },
      "text/plain": [
       "  0%|          | 0/22 [00:00<?, ?it/s]"
      ]
     },
     "metadata": {},
     "output_type": "display_data"
    },
    {
     "data": {
      "application/vnd.jupyter.widget-view+json": {
       "model_id": "a36ffcbf59f1453a8c2ce3779268addd",
       "version_major": 2,
       "version_minor": 0
      },
      "text/plain": [
       "리뷰수집중:   0%|          | 0/142 [00:00<?, ?it/s]"
      ]
     },
     "metadata": {},
     "output_type": "display_data"
    },
    {
     "name": "stdout",
     "output_type": "stream",
     "text": [
      "\n",
      "219\n",
      "현재 :  연동신도시식당\n",
      "현재 크롤링이 진행중인 검색어 : 연동신도시식당\n"
     ]
    },
    {
     "data": {
      "application/vnd.jupyter.widget-view+json": {
       "model_id": "e70c1cdf16b1495aba50c9584c345b71",
       "version_major": 2,
       "version_minor": 0
      },
      "text/plain": [
       "  0%|          | 0/24 [00:00<?, ?it/s]"
      ]
     },
     "metadata": {},
     "output_type": "display_data"
    },
    {
     "data": {
      "application/vnd.jupyter.widget-view+json": {
       "model_id": "f1081c007af74ce99a497c6ad261778a",
       "version_major": 2,
       "version_minor": 0
      },
      "text/plain": [
       "리뷰수집중:   0%|          | 0/153 [00:00<?, ?it/s]"
      ]
     },
     "metadata": {},
     "output_type": "display_data"
    },
    {
     "name": "stdout",
     "output_type": "stream",
     "text": [
      "\n",
      "220\n",
      "현재 :  민속감자탕\n",
      "현재 크롤링이 진행중인 검색어 : 민속감자탕\n"
     ]
    },
    {
     "data": {
      "application/vnd.jupyter.widget-view+json": {
       "model_id": "f3d56f0f50334002a76fc7cb8c44e111",
       "version_major": 2,
       "version_minor": 0
      },
      "text/plain": [
       "  0%|          | 0/5 [00:00<?, ?it/s]"
      ]
     },
     "metadata": {},
     "output_type": "display_data"
    },
    {
     "data": {
      "application/vnd.jupyter.widget-view+json": {
       "model_id": "fbfa034d107747d0bcc6e0d0e1f94870",
       "version_major": 2,
       "version_minor": 0
      },
      "text/plain": [
       "리뷰수집중:   0%|          | 0/77 [00:00<?, ?it/s]"
      ]
     },
     "metadata": {},
     "output_type": "display_data"
    },
    {
     "name": "stdout",
     "output_type": "stream",
     "text": [
      "\n",
      "221\n",
      "현재 :  이츠양\n",
      "현재 크롤링이 진행중인 검색어 : 이츠양\n"
     ]
    },
    {
     "data": {
      "application/vnd.jupyter.widget-view+json": {
       "model_id": "c3aa01c4ed844e57afd13f3313c7c973",
       "version_major": 2,
       "version_minor": 0
      },
      "text/plain": [
       "  0%|          | 0/24 [00:00<?, ?it/s]"
      ]
     },
     "metadata": {},
     "output_type": "display_data"
    },
    {
     "data": {
      "application/vnd.jupyter.widget-view+json": {
       "model_id": "4377b57b7f134c93b7d4b411b278c25e",
       "version_major": 2,
       "version_minor": 0
      },
      "text/plain": [
       "리뷰수집중:   0%|          | 0/64 [00:00<?, ?it/s]"
      ]
     },
     "metadata": {},
     "output_type": "display_data"
    },
    {
     "name": "stdout",
     "output_type": "stream",
     "text": [
      "\n",
      "222\n",
      "현재 :  화양양\n",
      "현재 크롤링이 진행중인 검색어 : 화양양\n"
     ]
    },
    {
     "data": {
      "application/vnd.jupyter.widget-view+json": {
       "model_id": "3e0e803ac41847df8c717fe5e2322103",
       "version_major": 2,
       "version_minor": 0
      },
      "text/plain": [
       "  0%|          | 0/24 [00:00<?, ?it/s]"
      ]
     },
     "metadata": {},
     "output_type": "display_data"
    },
    {
     "data": {
      "application/vnd.jupyter.widget-view+json": {
       "model_id": "10a8ae7a42324895a3f3c7c21d198758",
       "version_major": 2,
       "version_minor": 0
      },
      "text/plain": [
       "리뷰수집중:   0%|          | 0/39 [00:00<?, ?it/s]"
      ]
     },
     "metadata": {},
     "output_type": "display_data"
    },
    {
     "name": "stdout",
     "output_type": "stream",
     "text": [
      "\n",
      "223\n",
      "현재 :  정식육백화점정유통\n",
      "현재 크롤링이 진행중인 검색어 : 정식육백화점정유통\n"
     ]
    },
    {
     "data": {
      "application/vnd.jupyter.widget-view+json": {
       "model_id": "837ff4c3d11e474eaa5b82c812661520",
       "version_major": 2,
       "version_minor": 0
      },
      "text/plain": [
       "리뷰수집중:   0%|          | 0/13 [00:00<?, ?it/s]"
      ]
     },
     "metadata": {},
     "output_type": "display_data"
    },
    {
     "name": "stdout",
     "output_type": "stream",
     "text": [
      "\n",
      "224\n",
      "현재 :  탭탭\n",
      "현재 크롤링이 진행중인 검색어 : 탭탭\n"
     ]
    },
    {
     "data": {
      "application/vnd.jupyter.widget-view+json": {
       "model_id": "39a2d3b99607471192cf73d3eb20af2d",
       "version_major": 2,
       "version_minor": 0
      },
      "text/plain": [
       "  0%|          | 0/6 [00:04<?, ?it/s]"
      ]
     },
     "metadata": {},
     "output_type": "display_data"
    },
    {
     "data": {
      "application/vnd.jupyter.widget-view+json": {
       "model_id": "33e89961f5da4f6393d82f9a9f0d1cb7",
       "version_major": 2,
       "version_minor": 0
      },
      "text/plain": [
       "리뷰수집중:   0%|          | 0/19 [00:00<?, ?it/s]"
      ]
     },
     "metadata": {},
     "output_type": "display_data"
    },
    {
     "name": "stdout",
     "output_type": "stream",
     "text": [
      "\n",
      "225\n",
      "현재 :  김복남맥주제주연동점\n",
      "현재 크롤링이 진행중인 검색어 : 김복남맥주제주연동점\n"
     ]
    },
    {
     "data": {
      "application/vnd.jupyter.widget-view+json": {
       "model_id": "25a2909657b344b7b7221838d047717b",
       "version_major": 2,
       "version_minor": 0
      },
      "text/plain": [
       "  0%|          | 0/14 [00:00<?, ?it/s]"
      ]
     },
     "metadata": {},
     "output_type": "display_data"
    },
    {
     "data": {
      "application/vnd.jupyter.widget-view+json": {
       "model_id": "b9ce6d9a555e4bd3ab831b61b114ecce",
       "version_major": 2,
       "version_minor": 0
      },
      "text/plain": [
       "리뷰수집중:   0%|          | 0/134 [00:00<?, ?it/s]"
      ]
     },
     "metadata": {},
     "output_type": "display_data"
    },
    {
     "name": "stdout",
     "output_type": "stream",
     "text": [
      "\n",
      "226\n",
      "현재 :  제대로떡볶이제원점\n",
      "현재 크롤링이 진행중인 검색어 : 제대로떡볶이제원점\n"
     ]
    },
    {
     "data": {
      "application/vnd.jupyter.widget-view+json": {
       "model_id": "fea8771539534d6ab062beca181c3303",
       "version_major": 2,
       "version_minor": 0
      },
      "text/plain": [
       "  0%|          | 0/3 [00:00<?, ?it/s]"
      ]
     },
     "metadata": {},
     "output_type": "display_data"
    },
    {
     "data": {
      "application/vnd.jupyter.widget-view+json": {
       "model_id": "00ffaa2120a247efab92b23d385bc7be",
       "version_major": 2,
       "version_minor": 0
      },
      "text/plain": [
       "리뷰수집중:   0%|          | 0/18 [00:00<?, ?it/s]"
      ]
     },
     "metadata": {},
     "output_type": "display_data"
    },
    {
     "name": "stdout",
     "output_type": "stream",
     "text": [
      "\n",
      "227\n",
      "현재 :  봄날정육\n",
      "현재 크롤링이 진행중인 검색어 : 봄날정육\n"
     ]
    },
    {
     "data": {
      "application/vnd.jupyter.widget-view+json": {
       "model_id": "789d3fe8c3704258b1d62478dcc3e4f4",
       "version_major": 2,
       "version_minor": 0
      },
      "text/plain": [
       "  0%|          | 0/1 [00:00<?, ?it/s]"
      ]
     },
     "metadata": {},
     "output_type": "display_data"
    },
    {
     "data": {
      "application/vnd.jupyter.widget-view+json": {
       "model_id": "c95927b3f0014ce796ab5470dfff7f83",
       "version_major": 2,
       "version_minor": 0
      },
      "text/plain": [
       "리뷰수집중:   0%|          | 0/11 [00:00<?, ?it/s]"
      ]
     },
     "metadata": {},
     "output_type": "display_data"
    },
    {
     "name": "stdout",
     "output_type": "stream",
     "text": [
      "\n",
      "228\n",
      "현재 :  그믐달\n",
      "현재 크롤링이 진행중인 검색어 : 그믐달\n",
      "펼칠 리뷰가 없다.\n"
     ]
    },
    {
     "data": {
      "application/vnd.jupyter.widget-view+json": {
       "model_id": "c6a632d4c3ee41a0a5ec637e033af0a3",
       "version_major": 2,
       "version_minor": 0
      },
      "text/plain": [
       "  0%|          | 0/4 [00:00<?, ?it/s]"
      ]
     },
     "metadata": {},
     "output_type": "display_data"
    },
    {
     "data": {
      "application/vnd.jupyter.widget-view+json": {
       "model_id": "572f0113122d46bcbf5b6cfbccc64f18",
       "version_major": 2,
       "version_minor": 0
      },
      "text/plain": [
       "리뷰수집중:   0%|          | 0/9 [00:00<?, ?it/s]"
      ]
     },
     "metadata": {},
     "output_type": "display_data"
    },
    {
     "name": "stdout",
     "output_type": "stream",
     "text": [
      "\n",
      "229\n",
      "현재 :  퐁닭\n",
      "현재 크롤링이 진행중인 검색어 : 퐁닭\n"
     ]
    },
    {
     "data": {
      "application/vnd.jupyter.widget-view+json": {
       "model_id": "a9eb3d9828fc48178bb811c5200db2eb",
       "version_major": 2,
       "version_minor": 0
      },
      "text/plain": [
       "  0%|          | 0/5 [00:00<?, ?it/s]"
      ]
     },
     "metadata": {},
     "output_type": "display_data"
    },
    {
     "data": {
      "application/vnd.jupyter.widget-view+json": {
       "model_id": "62c63479ed15407e90b3340443014d9b",
       "version_major": 2,
       "version_minor": 0
      },
      "text/plain": [
       "리뷰수집중:   0%|          | 0/15 [00:00<?, ?it/s]"
      ]
     },
     "metadata": {},
     "output_type": "display_data"
    },
    {
     "name": "stdout",
     "output_type": "stream",
     "text": [
      "\n",
      "230\n",
      "현재 :  프랭크버거제주도청점\n",
      "현재 크롤링이 진행중인 검색어 : 프랭크버거제주도청점\n"
     ]
    },
    {
     "data": {
      "application/vnd.jupyter.widget-view+json": {
       "model_id": "816718f4767c45b8aa503277ae88f9d4",
       "version_major": 2,
       "version_minor": 0
      },
      "text/plain": [
       "  0%|          | 0/11 [00:00<?, ?it/s]"
      ]
     },
     "metadata": {},
     "output_type": "display_data"
    },
    {
     "data": {
      "application/vnd.jupyter.widget-view+json": {
       "model_id": "d753f44b24ce41f19f66cef224216b14",
       "version_major": 2,
       "version_minor": 0
      },
      "text/plain": [
       "리뷰수집중:   0%|          | 0/42 [00:00<?, ?it/s]"
      ]
     },
     "metadata": {},
     "output_type": "display_data"
    },
    {
     "name": "stdout",
     "output_type": "stream",
     "text": [
      "\n",
      "231\n",
      "현재 :  영하45\n",
      "현재 크롤링이 진행중인 검색어 : 영하45\n"
     ]
    },
    {
     "data": {
      "application/vnd.jupyter.widget-view+json": {
       "model_id": "b1042ac26f784e92a1b067fb966ced0c",
       "version_major": 2,
       "version_minor": 0
      },
      "text/plain": [
       "  0%|          | 0/2 [00:00<?, ?it/s]"
      ]
     },
     "metadata": {},
     "output_type": "display_data"
    },
    {
     "data": {
      "application/vnd.jupyter.widget-view+json": {
       "model_id": "d83580ce5d5e4255ac7ae5a7ea48d431",
       "version_major": 2,
       "version_minor": 0
      },
      "text/plain": [
       "리뷰수집중:   0%|          | 0/27 [00:00<?, ?it/s]"
      ]
     },
     "metadata": {},
     "output_type": "display_data"
    },
    {
     "name": "stdout",
     "output_type": "stream",
     "text": [
      "\n",
      "232\n",
      "현재 :  머큐리\n",
      "현재 크롤링이 진행중인 검색어 : 머큐리\n",
      "펼칠 리뷰가 없다.\n"
     ]
    },
    {
     "data": {
      "application/vnd.jupyter.widget-view+json": {
       "model_id": "53e02a34acf945ce9008ef99249b3ada",
       "version_major": 2,
       "version_minor": 0
      },
      "text/plain": [
       "리뷰수집중:   0%|          | 0/4 [00:00<?, ?it/s]"
      ]
     },
     "metadata": {},
     "output_type": "display_data"
    },
    {
     "name": "stdout",
     "output_type": "stream",
     "text": [
      "\n",
      "233\n",
      "현재 :  돈오름숯불갈비\n",
      "현재 크롤링이 진행중인 검색어 : 돈오름숯불갈비\n"
     ]
    },
    {
     "data": {
      "application/vnd.jupyter.widget-view+json": {
       "model_id": "6c3d81d9541b454cbcb5da5bc954d916",
       "version_major": 2,
       "version_minor": 0
      },
      "text/plain": [
       "  0%|          | 0/15 [00:04<?, ?it/s]"
      ]
     },
     "metadata": {},
     "output_type": "display_data"
    },
    {
     "data": {
      "application/vnd.jupyter.widget-view+json": {
       "model_id": "3f0b9402f7b64036872c94f5564b5b45",
       "version_major": 2,
       "version_minor": 0
      },
      "text/plain": [
       "리뷰수집중:   0%|          | 0/58 [00:00<?, ?it/s]"
      ]
     },
     "metadata": {},
     "output_type": "display_data"
    },
    {
     "name": "stdout",
     "output_type": "stream",
     "text": [
      "\n",
      "234\n",
      "현재 :  유끼\n",
      "현재 크롤링이 진행중인 검색어 : 유끼\n",
      "펼칠 리뷰가 없다.\n"
     ]
    },
    {
     "data": {
      "application/vnd.jupyter.widget-view+json": {
       "model_id": "959126098f3247cd8757e4c8e9fe68d9",
       "version_major": 2,
       "version_minor": 0
      },
      "text/plain": [
       "리뷰수집중:   0%|          | 0/4 [00:00<?, ?it/s]"
      ]
     },
     "metadata": {},
     "output_type": "display_data"
    },
    {
     "name": "stdout",
     "output_type": "stream",
     "text": [
      "\n",
      "235\n",
      "현재 :  버무리떡볶이연동점\n",
      "현재 크롤링이 진행중인 검색어 : 버무리떡볶이연동점\n"
     ]
    },
    {
     "data": {
      "application/vnd.jupyter.widget-view+json": {
       "model_id": "55fd186d4012468f9d9913d3c0bc1350",
       "version_major": 2,
       "version_minor": 0
      },
      "text/plain": [
       "  0%|          | 0/1 [00:00<?, ?it/s]"
      ]
     },
     "metadata": {},
     "output_type": "display_data"
    },
    {
     "data": {
      "application/vnd.jupyter.widget-view+json": {
       "model_id": "606e32df0de740e1822e487b0648bce9",
       "version_major": 2,
       "version_minor": 0
      },
      "text/plain": [
       "리뷰수집중:   0%|          | 0/39 [00:00<?, ?it/s]"
      ]
     },
     "metadata": {},
     "output_type": "display_data"
    },
    {
     "name": "stdout",
     "output_type": "stream",
     "text": [
      "\n",
      "236\n",
      "현재 :  신영돌판구이\n",
      "현재 크롤링이 진행중인 검색어 : 신영돌판구이\n"
     ]
    },
    {
     "data": {
      "application/vnd.jupyter.widget-view+json": {
       "model_id": "4a2d714318724e39a1a57cd9da648742",
       "version_major": 2,
       "version_minor": 0
      },
      "text/plain": [
       "  0%|          | 0/6 [00:00<?, ?it/s]"
      ]
     },
     "metadata": {},
     "output_type": "display_data"
    },
    {
     "data": {
      "application/vnd.jupyter.widget-view+json": {
       "model_id": "07da63df76d5437da8e168f41a9f82a2",
       "version_major": 2,
       "version_minor": 0
      },
      "text/plain": [
       "리뷰수집중:   0%|          | 0/16 [00:00<?, ?it/s]"
      ]
     },
     "metadata": {},
     "output_type": "display_data"
    },
    {
     "name": "stdout",
     "output_type": "stream",
     "text": [
      "\n",
      "237\n",
      "현재 :  청년다방연동점\n",
      "현재 크롤링이 진행중인 검색어 : 청년다방연동점\n"
     ]
    },
    {
     "data": {
      "application/vnd.jupyter.widget-view+json": {
       "model_id": "3cfd719f07a74750b5d2e63960129930",
       "version_major": 2,
       "version_minor": 0
      },
      "text/plain": [
       "  0%|          | 0/8 [00:00<?, ?it/s]"
      ]
     },
     "metadata": {},
     "output_type": "display_data"
    },
    {
     "data": {
      "application/vnd.jupyter.widget-view+json": {
       "model_id": "e64c40969e17453bb7b75b6b41df707d",
       "version_major": 2,
       "version_minor": 0
      },
      "text/plain": [
       "리뷰수집중:   0%|          | 0/84 [00:00<?, ?it/s]"
      ]
     },
     "metadata": {},
     "output_type": "display_data"
    },
    {
     "name": "stdout",
     "output_type": "stream",
     "text": [
      "\n",
      "238\n",
      "현재 :  제주정곱창\n",
      "현재 크롤링이 진행중인 검색어 : 제주정곱창\n"
     ]
    },
    {
     "data": {
      "application/vnd.jupyter.widget-view+json": {
       "model_id": "c14c6aaae44a438fb09e6841ddc28245",
       "version_major": 2,
       "version_minor": 0
      },
      "text/plain": [
       "  0%|          | 0/21 [00:00<?, ?it/s]"
      ]
     },
     "metadata": {},
     "output_type": "display_data"
    },
    {
     "data": {
      "application/vnd.jupyter.widget-view+json": {
       "model_id": "2336289915324c47b68d731f1235069c",
       "version_major": 2,
       "version_minor": 0
      },
      "text/plain": [
       "리뷰수집중:   0%|          | 0/100 [00:00<?, ?it/s]"
      ]
     },
     "metadata": {},
     "output_type": "display_data"
    },
    {
     "name": "stdout",
     "output_type": "stream",
     "text": [
      "\n",
      "239\n",
      "현재 :  임사부국밥\n",
      "현재 크롤링이 진행중인 검색어 : 임사부국밥\n"
     ]
    },
    {
     "data": {
      "application/vnd.jupyter.widget-view+json": {
       "model_id": "733fc2d711704ed7b2d51d875f1b27b8",
       "version_major": 2,
       "version_minor": 0
      },
      "text/plain": [
       "리뷰수집중:   0%|          | 0/12 [00:00<?, ?it/s]"
      ]
     },
     "metadata": {},
     "output_type": "display_data"
    },
    {
     "name": "stdout",
     "output_type": "stream",
     "text": [
      "\n",
      "240\n",
      "현재 :  콧수염양꼬치\n",
      "현재 크롤링이 진행중인 검색어 : 콧수염양꼬치\n"
     ]
    },
    {
     "data": {
      "application/vnd.jupyter.widget-view+json": {
       "model_id": "07d26b52f8264289b767703fdc235062",
       "version_major": 2,
       "version_minor": 0
      },
      "text/plain": [
       "  0%|          | 0/2 [00:04<?, ?it/s]"
      ]
     },
     "metadata": {},
     "output_type": "display_data"
    },
    {
     "data": {
      "application/vnd.jupyter.widget-view+json": {
       "model_id": "df9ffe1d17e041b0a2f99c62e62865d5",
       "version_major": 2,
       "version_minor": 0
      },
      "text/plain": [
       "리뷰수집중:   0%|          | 0/44 [00:00<?, ?it/s]"
      ]
     },
     "metadata": {},
     "output_type": "display_data"
    },
    {
     "name": "stdout",
     "output_type": "stream",
     "text": [
      "\n",
      "241\n",
      "현재 :  예산가마솥장수촌설렁탕신제주점\n",
      "현재 크롤링이 진행중인 검색어 : 예산가마솥장수촌설렁탕신제주점\n",
      "펼칠 리뷰가 없다.\n"
     ]
    },
    {
     "data": {
      "application/vnd.jupyter.widget-view+json": {
       "model_id": "2566202bbeff4987a6ef645ebb24371a",
       "version_major": 2,
       "version_minor": 0
      },
      "text/plain": [
       "  0%|          | 0/1 [00:00<?, ?it/s]"
      ]
     },
     "metadata": {},
     "output_type": "display_data"
    },
    {
     "data": {
      "application/vnd.jupyter.widget-view+json": {
       "model_id": "9db662beca7c4eb88c370104cf219066",
       "version_major": 2,
       "version_minor": 0
      },
      "text/plain": [
       "리뷰수집중:   0%|          | 0/5 [00:00<?, ?it/s]"
      ]
     },
     "metadata": {},
     "output_type": "display_data"
    },
    {
     "name": "stdout",
     "output_type": "stream",
     "text": [
      "\n",
      "242\n",
      "현재 :  팜스테이블\n",
      "현재 크롤링이 진행중인 검색어 : 팜스테이블\n"
     ]
    },
    {
     "data": {
      "application/vnd.jupyter.widget-view+json": {
       "model_id": "bf0fd711b80e4760a625517962f20738",
       "version_major": 2,
       "version_minor": 0
      },
      "text/plain": [
       "  0%|          | 0/4 [00:00<?, ?it/s]"
      ]
     },
     "metadata": {},
     "output_type": "display_data"
    },
    {
     "data": {
      "application/vnd.jupyter.widget-view+json": {
       "model_id": "52fef3de00104c34bf53786595af9209",
       "version_major": 2,
       "version_minor": 0
      },
      "text/plain": [
       "리뷰수집중:   0%|          | 0/15 [00:00<?, ?it/s]"
      ]
     },
     "metadata": {},
     "output_type": "display_data"
    },
    {
     "name": "stdout",
     "output_type": "stream",
     "text": [
      "\n",
      "243\n",
      "현재 :  돌수산\n",
      "현재 크롤링이 진행중인 검색어 : 돌수산\n",
      "펼칠 리뷰가 없다.\n"
     ]
    },
    {
     "data": {
      "application/vnd.jupyter.widget-view+json": {
       "model_id": "8acbab93944643d0a89e24df7df215d9",
       "version_major": 2,
       "version_minor": 0
      },
      "text/plain": [
       "리뷰수집중:   0%|          | 0/6 [00:00<?, ?it/s]"
      ]
     },
     "metadata": {},
     "output_type": "display_data"
    },
    {
     "name": "stdout",
     "output_type": "stream",
     "text": [
      "\n",
      "244\n",
      "현재 :  아맛나찜닭제주점\n",
      "현재 크롤링이 진행중인 검색어 : 아맛나찜닭제주점\n",
      "펼칠 리뷰가 없다.\n"
     ]
    },
    {
     "data": {
      "application/vnd.jupyter.widget-view+json": {
       "model_id": "2bea3e89a2ce47e3a05f6a7862472e58",
       "version_major": 2,
       "version_minor": 0
      },
      "text/plain": [
       "  0%|          | 0/3 [00:04<?, ?it/s]"
      ]
     },
     "metadata": {},
     "output_type": "display_data"
    },
    {
     "data": {
      "application/vnd.jupyter.widget-view+json": {
       "model_id": "2ca01beacebd43a99386320654769816",
       "version_major": 2,
       "version_minor": 0
      },
      "text/plain": [
       "리뷰수집중:   0%|          | 0/8 [00:00<?, ?it/s]"
      ]
     },
     "metadata": {},
     "output_type": "display_data"
    },
    {
     "name": "stdout",
     "output_type": "stream",
     "text": [
      "\n",
      "245\n",
      "현재 :  청담회장님댁제주점\n",
      "현재 크롤링이 진행중인 검색어 : 청담회장님댁제주점\n"
     ]
    },
    {
     "data": {
      "application/vnd.jupyter.widget-view+json": {
       "model_id": "1fdf1cad0cf6462ab5e1ecc6dcbc2274",
       "version_major": 2,
       "version_minor": 0
      },
      "text/plain": [
       "  0%|          | 0/2 [00:00<?, ?it/s]"
      ]
     },
     "metadata": {},
     "output_type": "display_data"
    },
    {
     "data": {
      "application/vnd.jupyter.widget-view+json": {
       "model_id": "dbcb4ab418b94cd48e5b3a50b6ea6ba3",
       "version_major": 2,
       "version_minor": 0
      },
      "text/plain": [
       "리뷰수집중:   0%|          | 0/19 [00:00<?, ?it/s]"
      ]
     },
     "metadata": {},
     "output_type": "display_data"
    },
    {
     "name": "stdout",
     "output_type": "stream",
     "text": [
      "\n",
      "246\n",
      "현재 :  핵밥제주연동점\n",
      "현재 크롤링이 진행중인 검색어 : 핵밥제주연동점\n"
     ]
    },
    {
     "data": {
      "application/vnd.jupyter.widget-view+json": {
       "model_id": "b9de041013634acbbcfa5d98d458762f",
       "version_major": 2,
       "version_minor": 0
      },
      "text/plain": [
       "  0%|          | 0/9 [00:00<?, ?it/s]"
      ]
     },
     "metadata": {},
     "output_type": "display_data"
    },
    {
     "data": {
      "application/vnd.jupyter.widget-view+json": {
       "model_id": "113f971ca6564e3891a7e30d17a73956",
       "version_major": 2,
       "version_minor": 0
      },
      "text/plain": [
       "리뷰수집중:   0%|          | 0/103 [00:00<?, ?it/s]"
      ]
     },
     "metadata": {},
     "output_type": "display_data"
    },
    {
     "name": "stdout",
     "output_type": "stream",
     "text": [
      "\n",
      "247\n",
      "현재 :  신광호프\n",
      "현재 크롤링이 진행중인 검색어 : 신광호프\n",
      "펼칠 리뷰가 없다.\n"
     ]
    },
    {
     "data": {
      "application/vnd.jupyter.widget-view+json": {
       "model_id": "3d79036f18a6408db5be003a91a10dbf",
       "version_major": 2,
       "version_minor": 0
      },
      "text/plain": [
       "리뷰수집중:   0%|          | 0/10 [00:00<?, ?it/s]"
      ]
     },
     "metadata": {},
     "output_type": "display_data"
    },
    {
     "name": "stdout",
     "output_type": "stream",
     "text": [
      "\n",
      "248\n",
      "현재 :  술빛정원\n",
      "현재 크롤링이 진행중인 검색어 : 술빛정원\n",
      "펼칠 리뷰가 없다.\n"
     ]
    },
    {
     "data": {
      "application/vnd.jupyter.widget-view+json": {
       "model_id": "951c4ea33a63493c8ef975d1ccf20246",
       "version_major": 2,
       "version_minor": 0
      },
      "text/plain": [
       "  0%|          | 0/2 [00:00<?, ?it/s]"
      ]
     },
     "metadata": {},
     "output_type": "display_data"
    },
    {
     "data": {
      "application/vnd.jupyter.widget-view+json": {
       "model_id": "2b427651beef4534a6799f6aad16a3cb",
       "version_major": 2,
       "version_minor": 0
      },
      "text/plain": [
       "리뷰수집중:   0%|          | 0/7 [00:00<?, ?it/s]"
      ]
     },
     "metadata": {},
     "output_type": "display_data"
    },
    {
     "name": "stdout",
     "output_type": "stream",
     "text": [
      "\n",
      "249\n",
      "현재 :  신대장군집\n",
      "현재 크롤링이 진행중인 검색어 : 신대장군집\n"
     ]
    },
    {
     "data": {
      "application/vnd.jupyter.widget-view+json": {
       "model_id": "9e8e2ca005fc476a85ac9482c06d06b0",
       "version_major": 2,
       "version_minor": 0
      },
      "text/plain": [
       "  0%|          | 0/21 [00:00<?, ?it/s]"
      ]
     },
     "metadata": {},
     "output_type": "display_data"
    },
    {
     "data": {
      "application/vnd.jupyter.widget-view+json": {
       "model_id": "9ac9b535b94d43389a3b2f289ae985e8",
       "version_major": 2,
       "version_minor": 0
      },
      "text/plain": [
       "리뷰수집중:   0%|          | 0/106 [00:00<?, ?it/s]"
      ]
     },
     "metadata": {},
     "output_type": "display_data"
    },
    {
     "name": "stdout",
     "output_type": "stream",
     "text": [
      "\n",
      "250\n",
      "현재 :  청담피자신제주점\n",
      "현재 크롤링이 진행중인 검색어 : 청담피자신제주점\n"
     ]
    },
    {
     "data": {
      "application/vnd.jupyter.widget-view+json": {
       "model_id": "fdf6a44ee07c4e2ab27cc8172f3c4eb0",
       "version_major": 2,
       "version_minor": 0
      },
      "text/plain": [
       "  0%|          | 0/5 [00:00<?, ?it/s]"
      ]
     },
     "metadata": {},
     "output_type": "display_data"
    },
    {
     "data": {
      "application/vnd.jupyter.widget-view+json": {
       "model_id": "3dc5d8c4162e491aa1416321fda92809",
       "version_major": 2,
       "version_minor": 0
      },
      "text/plain": [
       "리뷰수집중:   0%|          | 0/16 [00:00<?, ?it/s]"
      ]
     },
     "metadata": {},
     "output_type": "display_data"
    },
    {
     "name": "stdout",
     "output_type": "stream",
     "text": [
      "\n",
      "251\n",
      "현재 :  지엔디카페\n",
      "현재 크롤링이 진행중인 검색어 : 지엔디카페\n"
     ]
    },
    {
     "data": {
      "application/vnd.jupyter.widget-view+json": {
       "model_id": "76cdfe2b3df54fca80cb44d1d818fabb",
       "version_major": 2,
       "version_minor": 0
      },
      "text/plain": [
       "  0%|          | 0/28 [00:00<?, ?it/s]"
      ]
     },
     "metadata": {},
     "output_type": "display_data"
    },
    {
     "data": {
      "application/vnd.jupyter.widget-view+json": {
       "model_id": "84d3b084eb5a4d558ef4eedb94da7ac5",
       "version_major": 2,
       "version_minor": 0
      },
      "text/plain": [
       "리뷰수집중:   0%|          | 0/101 [00:00<?, ?it/s]"
      ]
     },
     "metadata": {},
     "output_type": "display_data"
    },
    {
     "name": "stdout",
     "output_type": "stream",
     "text": [
      "\n",
      "252\n",
      "현재 :  호야네꼬마김밥\n",
      "현재 크롤링이 진행중인 검색어 : 호야네꼬마김밥\n"
     ]
    },
    {
     "data": {
      "application/vnd.jupyter.widget-view+json": {
       "model_id": "32596611182d4d2081e9122b2f697361",
       "version_major": 2,
       "version_minor": 0
      },
      "text/plain": [
       "  0%|          | 0/4 [00:00<?, ?it/s]"
      ]
     },
     "metadata": {},
     "output_type": "display_data"
    },
    {
     "data": {
      "application/vnd.jupyter.widget-view+json": {
       "model_id": "3781abc065b344b98eecb4da2497990b",
       "version_major": 2,
       "version_minor": 0
      },
      "text/plain": [
       "리뷰수집중:   0%|          | 0/17 [00:00<?, ?it/s]"
      ]
     },
     "metadata": {},
     "output_type": "display_data"
    },
    {
     "name": "stdout",
     "output_type": "stream",
     "text": [
      "\n",
      "253\n",
      "현재 :  장똘뱅이\n",
      "현재 크롤링이 진행중인 검색어 : 장똘뱅이\n"
     ]
    },
    {
     "data": {
      "application/vnd.jupyter.widget-view+json": {
       "model_id": "6807f32c4a1149cea968ebb7287f259c",
       "version_major": 2,
       "version_minor": 0
      },
      "text/plain": [
       "  0%|          | 0/479 [00:00<?, ?it/s]"
      ]
     },
     "metadata": {},
     "output_type": "display_data"
    },
    {
     "data": {
      "application/vnd.jupyter.widget-view+json": {
       "model_id": "13e32a7dee504e4fb3c86387fdf48193",
       "version_major": 2,
       "version_minor": 0
      },
      "text/plain": [
       "리뷰수집중:   0%|          | 0/1607 [00:00<?, ?it/s]"
      ]
     },
     "metadata": {},
     "output_type": "display_data"
    },
    {
     "name": "stdout",
     "output_type": "stream",
     "text": [
      "\n",
      "254\n",
      "현재 :  임돈\n",
      "현재 크롤링이 진행중인 검색어 : 임돈\n"
     ]
    },
    {
     "data": {
      "application/vnd.jupyter.widget-view+json": {
       "model_id": "1fdf088feb2a4b75849352c780d49c13",
       "version_major": 2,
       "version_minor": 0
      },
      "text/plain": [
       "  0%|          | 0/12 [00:00<?, ?it/s]"
      ]
     },
     "metadata": {},
     "output_type": "display_data"
    },
    {
     "data": {
      "application/vnd.jupyter.widget-view+json": {
       "model_id": "7e4db7619ae647a7b2eb1347b8b67359",
       "version_major": 2,
       "version_minor": 0
      },
      "text/plain": [
       "리뷰수집중:   0%|          | 0/54 [00:00<?, ?it/s]"
      ]
     },
     "metadata": {},
     "output_type": "display_data"
    },
    {
     "name": "stdout",
     "output_type": "stream",
     "text": [
      "\n",
      "255\n",
      "현재 :  우정곱창연동점\n",
      "현재 크롤링이 진행중인 검색어 : 우정곱창연동점\n"
     ]
    },
    {
     "data": {
      "application/vnd.jupyter.widget-view+json": {
       "model_id": "70ff8aa99ed44128acba289b8d9dd02e",
       "version_major": 2,
       "version_minor": 0
      },
      "text/plain": [
       "  0%|          | 0/7 [00:00<?, ?it/s]"
      ]
     },
     "metadata": {},
     "output_type": "display_data"
    },
    {
     "data": {
      "application/vnd.jupyter.widget-view+json": {
       "model_id": "6cf86ac838c84b8291a91164835fdc47",
       "version_major": 2,
       "version_minor": 0
      },
      "text/plain": [
       "리뷰수집중:   0%|          | 0/47 [00:00<?, ?it/s]"
      ]
     },
     "metadata": {},
     "output_type": "display_data"
    },
    {
     "name": "stdout",
     "output_type": "stream",
     "text": [
      "\n",
      "256\n",
      "현재 :  그시절동태촌신제주점\n",
      "현재 크롤링이 진행중인 검색어 : 그시절동태촌신제주점\n"
     ]
    },
    {
     "data": {
      "application/vnd.jupyter.widget-view+json": {
       "model_id": "19fd2bc267ea4d1f9600a4bb1399abbb",
       "version_major": 2,
       "version_minor": 0
      },
      "text/plain": [
       "  0%|          | 0/4 [00:00<?, ?it/s]"
      ]
     },
     "metadata": {},
     "output_type": "display_data"
    },
    {
     "data": {
      "application/vnd.jupyter.widget-view+json": {
       "model_id": "42eec0a8d7584ef8b18b07ebfa144b77",
       "version_major": 2,
       "version_minor": 0
      },
      "text/plain": [
       "리뷰수집중:   0%|          | 0/32 [00:00<?, ?it/s]"
      ]
     },
     "metadata": {},
     "output_type": "display_data"
    },
    {
     "name": "stdout",
     "output_type": "stream",
     "text": [
      "\n",
      "257\n",
      "현재 :  연동가자스크린골프\n",
      "현재 크롤링이 진행중인 검색어 : 연동가자스크린골프\n",
      "펼칠 리뷰가 없다.\n"
     ]
    },
    {
     "data": {
      "application/vnd.jupyter.widget-view+json": {
       "model_id": "96240dc763334b53aeb2260ec8ab6100",
       "version_major": 2,
       "version_minor": 0
      },
      "text/plain": [
       "리뷰수집중:   0%|          | 0/3 [00:00<?, ?it/s]"
      ]
     },
     "metadata": {},
     "output_type": "display_data"
    },
    {
     "name": "stdout",
     "output_type": "stream",
     "text": [
      "\n",
      "258\n",
      "현재 :  김순례닭강정신제주점\n",
      "현재 크롤링이 진행중인 검색어 : 김순례닭강정신제주점\n"
     ]
    },
    {
     "data": {
      "application/vnd.jupyter.widget-view+json": {
       "model_id": "c52918d93f7949a28bf0a42b693d0613",
       "version_major": 2,
       "version_minor": 0
      },
      "text/plain": [
       "  0%|          | 0/3 [00:00<?, ?it/s]"
      ]
     },
     "metadata": {},
     "output_type": "display_data"
    },
    {
     "data": {
      "application/vnd.jupyter.widget-view+json": {
       "model_id": "79d686fbf69e4ecd96896edd11dec3fe",
       "version_major": 2,
       "version_minor": 0
      },
      "text/plain": [
       "리뷰수집중:   0%|          | 0/19 [00:00<?, ?it/s]"
      ]
     },
     "metadata": {},
     "output_type": "display_data"
    },
    {
     "name": "stdout",
     "output_type": "stream",
     "text": [
      "\n",
      "259\n",
      "현재 :  제쭈도\n",
      "현재 크롤링이 진행중인 검색어 : 제쭈도\n"
     ]
    },
    {
     "data": {
      "application/vnd.jupyter.widget-view+json": {
       "model_id": "dbada3906ecb4b15b0d088a7eca23f8f",
       "version_major": 2,
       "version_minor": 0
      },
      "text/plain": [
       "  0%|          | 0/50 [00:00<?, ?it/s]"
      ]
     },
     "metadata": {},
     "output_type": "display_data"
    },
    {
     "data": {
      "application/vnd.jupyter.widget-view+json": {
       "model_id": "804b49f26cdb4013ba3461ed33dd0a46",
       "version_major": 2,
       "version_minor": 0
      },
      "text/plain": [
       "리뷰수집중:   0%|          | 0/132 [00:00<?, ?it/s]"
      ]
     },
     "metadata": {},
     "output_type": "display_data"
    },
    {
     "name": "stdout",
     "output_type": "stream",
     "text": [
      "\n",
      "260\n",
      "현재 :  용용선생제주연동점\n",
      "현재 크롤링이 진행중인 검색어 : 용용선생제주연동점\n"
     ]
    },
    {
     "data": {
      "application/vnd.jupyter.widget-view+json": {
       "model_id": "59f1eb1d6b0b4be98b88801f65e624ee",
       "version_major": 2,
       "version_minor": 0
      },
      "text/plain": [
       "  0%|          | 0/25 [00:00<?, ?it/s]"
      ]
     },
     "metadata": {},
     "output_type": "display_data"
    },
    {
     "data": {
      "application/vnd.jupyter.widget-view+json": {
       "model_id": "ef920d130b864120a269a777212a0396",
       "version_major": 2,
       "version_minor": 0
      },
      "text/plain": [
       "리뷰수집중:   0%|          | 0/104 [00:00<?, ?it/s]"
      ]
     },
     "metadata": {},
     "output_type": "display_data"
    },
    {
     "name": "stdout",
     "output_type": "stream",
     "text": [
      "\n",
      "261\n",
      "현재 :  잭아레나\n",
      "현재 크롤링이 진행중인 검색어 : 잭아레나\n"
     ]
    },
    {
     "data": {
      "application/vnd.jupyter.widget-view+json": {
       "model_id": "6b05619e36ae446186b07a274435fa76",
       "version_major": 2,
       "version_minor": 0
      },
      "text/plain": [
       "  0%|          | 0/25 [00:00<?, ?it/s]"
      ]
     },
     "metadata": {},
     "output_type": "display_data"
    },
    {
     "data": {
      "application/vnd.jupyter.widget-view+json": {
       "model_id": "5f96b148f8ed4bdbaff47c63ba3bd5e8",
       "version_major": 2,
       "version_minor": 0
      },
      "text/plain": [
       "리뷰수집중:   0%|          | 0/45 [00:00<?, ?it/s]"
      ]
     },
     "metadata": {},
     "output_type": "display_data"
    },
    {
     "name": "stdout",
     "output_type": "stream",
     "text": [
      "\n",
      "262\n",
      "현재 :  퍼사이공제주점\n",
      "현재 크롤링이 진행중인 검색어 : 퍼사이공제주점\n",
      "펼칠 리뷰가 없다.\n"
     ]
    },
    {
     "data": {
      "application/vnd.jupyter.widget-view+json": {
       "model_id": "3d18378005154c2b8e6817e4da31f242",
       "version_major": 2,
       "version_minor": 0
      },
      "text/plain": [
       "리뷰수집중:   0%|          | 0/4 [00:00<?, ?it/s]"
      ]
     },
     "metadata": {},
     "output_type": "display_data"
    },
    {
     "name": "stdout",
     "output_type": "stream",
     "text": [
      "\n",
      "263\n",
      "현재 :  완미족발제주연동점\n",
      "현재 크롤링이 진행중인 검색어 : 완미족발제주연동점\n"
     ]
    },
    {
     "data": {
      "application/vnd.jupyter.widget-view+json": {
       "model_id": "d9400ae851cd4777be82cfe22fbce7cc",
       "version_major": 2,
       "version_minor": 0
      },
      "text/plain": [
       "  0%|          | 0/14 [00:00<?, ?it/s]"
      ]
     },
     "metadata": {},
     "output_type": "display_data"
    },
    {
     "data": {
      "application/vnd.jupyter.widget-view+json": {
       "model_id": "f351f14a577943b2bd162eb705e75b57",
       "version_major": 2,
       "version_minor": 0
      },
      "text/plain": [
       "리뷰수집중:   0%|          | 0/46 [00:00<?, ?it/s]"
      ]
     },
     "metadata": {},
     "output_type": "display_data"
    },
    {
     "name": "stdout",
     "output_type": "stream",
     "text": [
      "\n",
      "264\n",
      "현재 :  도원꼬치튀김객\n",
      "현재 크롤링이 진행중인 검색어 : 도원꼬치튀김객\n",
      "펼칠 리뷰가 없다.\n"
     ]
    },
    {
     "data": {
      "application/vnd.jupyter.widget-view+json": {
       "model_id": "ba363680b630489e8af3ff19b0702459",
       "version_major": 2,
       "version_minor": 0
      },
      "text/plain": [
       "리뷰수집중:   0%|          | 0/4 [00:00<?, ?it/s]"
      ]
     },
     "metadata": {},
     "output_type": "display_data"
    },
    {
     "name": "stdout",
     "output_type": "stream",
     "text": [
      "\n",
      "265\n",
      "현재 :  하타나카연동점\n",
      "현재 크롤링이 진행중인 검색어 : 하타나카연동점\n"
     ]
    },
    {
     "data": {
      "application/vnd.jupyter.widget-view+json": {
       "model_id": "01055f26b4d4423daf5ef5ccce824d3a",
       "version_major": 2,
       "version_minor": 0
      },
      "text/plain": [
       "  0%|          | 0/10 [00:00<?, ?it/s]"
      ]
     },
     "metadata": {},
     "output_type": "display_data"
    },
    {
     "data": {
      "application/vnd.jupyter.widget-view+json": {
       "model_id": "9e2ff82da582400499e9880b1b778f2e",
       "version_major": 2,
       "version_minor": 0
      },
      "text/plain": [
       "리뷰수집중:   0%|          | 0/38 [00:00<?, ?it/s]"
      ]
     },
     "metadata": {},
     "output_type": "display_data"
    },
    {
     "name": "stdout",
     "output_type": "stream",
     "text": [
      "\n",
      "266\n",
      "현재 :  오봉집연동점\n",
      "현재 크롤링이 진행중인 검색어 : 오봉집연동점\n"
     ]
    },
    {
     "data": {
      "application/vnd.jupyter.widget-view+json": {
       "model_id": "a90f94f9376940ee94313c3e1cd1f5c7",
       "version_major": 2,
       "version_minor": 0
      },
      "text/plain": [
       "  0%|          | 0/21 [00:00<?, ?it/s]"
      ]
     },
     "metadata": {},
     "output_type": "display_data"
    },
    {
     "data": {
      "application/vnd.jupyter.widget-view+json": {
       "model_id": "145dc80a43cf4cba899ced5fa478f25e",
       "version_major": 2,
       "version_minor": 0
      },
      "text/plain": [
       "리뷰수집중:   0%|          | 0/104 [00:00<?, ?it/s]"
      ]
     },
     "metadata": {},
     "output_type": "display_data"
    },
    {
     "name": "stdout",
     "output_type": "stream",
     "text": [
      "\n",
      "267\n",
      "현재 :  파라나\n",
      "현재 크롤링이 진행중인 검색어 : 파라나\n",
      "펼칠 리뷰가 없다.\n"
     ]
    },
    {
     "data": {
      "application/vnd.jupyter.widget-view+json": {
       "model_id": "73face90722a46179297c2fcba2d07c2",
       "version_major": 2,
       "version_minor": 0
      },
      "text/plain": [
       "  0%|          | 0/2 [00:00<?, ?it/s]"
      ]
     },
     "metadata": {},
     "output_type": "display_data"
    },
    {
     "data": {
      "application/vnd.jupyter.widget-view+json": {
       "model_id": "328a46d280674e569b53c323d69d5640",
       "version_major": 2,
       "version_minor": 0
      },
      "text/plain": [
       "리뷰수집중:   0%|          | 0/7 [00:00<?, ?it/s]"
      ]
     },
     "metadata": {},
     "output_type": "display_data"
    },
    {
     "name": "stdout",
     "output_type": "stream",
     "text": [
      "\n",
      "268\n",
      "현재 :  파사삭행목\n",
      "현재 크롤링이 진행중인 검색어 : 파사삭행목\n"
     ]
    },
    {
     "data": {
      "application/vnd.jupyter.widget-view+json": {
       "model_id": "70f95a83337b43b49d0277a620321359",
       "version_major": 2,
       "version_minor": 0
      },
      "text/plain": [
       "  0%|          | 0/69 [00:00<?, ?it/s]"
      ]
     },
     "metadata": {},
     "output_type": "display_data"
    },
    {
     "data": {
      "application/vnd.jupyter.widget-view+json": {
       "model_id": "cb0cf6dd8cff4d80bce99539446a71ca",
       "version_major": 2,
       "version_minor": 0
      },
      "text/plain": [
       "리뷰수집중:   0%|          | 0/149 [00:00<?, ?it/s]"
      ]
     },
     "metadata": {},
     "output_type": "display_data"
    },
    {
     "name": "stdout",
     "output_type": "stream",
     "text": [
      "\n",
      "269\n",
      "현재 :  커피비원\n",
      "현재 크롤링이 진행중인 검색어 : 커피비원\n",
      "펼칠 리뷰가 없다.\n",
      "\n",
      "270\n",
      "현재 :  제주에타\n",
      "현재 크롤링이 진행중인 검색어 : 제주에타\n"
     ]
    },
    {
     "data": {
      "application/vnd.jupyter.widget-view+json": {
       "model_id": "c4e90f93a8ef44a3b6d4dc0c00c1d506",
       "version_major": 2,
       "version_minor": 0
      },
      "text/plain": [
       "  0%|          | 0/53 [00:00<?, ?it/s]"
      ]
     },
     "metadata": {},
     "output_type": "display_data"
    },
    {
     "data": {
      "application/vnd.jupyter.widget-view+json": {
       "model_id": "a0efcbf8d10641bd930d37294e7f981a",
       "version_major": 2,
       "version_minor": 0
      },
      "text/plain": [
       "리뷰수집중:   0%|          | 0/209 [00:00<?, ?it/s]"
      ]
     },
     "metadata": {},
     "output_type": "display_data"
    },
    {
     "name": "stdout",
     "output_type": "stream",
     "text": [
      "\n",
      "271\n",
      "현재 :  검은고래\n",
      "현재 크롤링이 진행중인 검색어 : 검은고래\n",
      "펼칠 리뷰가 없다.\n"
     ]
    },
    {
     "data": {
      "application/vnd.jupyter.widget-view+json": {
       "model_id": "ddcb29cf77bc4aeea576962fb05058ae",
       "version_major": 2,
       "version_minor": 0
      },
      "text/plain": [
       "  0%|          | 0/1 [00:00<?, ?it/s]"
      ]
     },
     "metadata": {},
     "output_type": "display_data"
    },
    {
     "data": {
      "application/vnd.jupyter.widget-view+json": {
       "model_id": "119bc77bf78e4cfd86c2138831cf1977",
       "version_major": 2,
       "version_minor": 0
      },
      "text/plain": [
       "리뷰수집중:   0%|          | 0/4 [00:00<?, ?it/s]"
      ]
     },
     "metadata": {},
     "output_type": "display_data"
    },
    {
     "name": "stdout",
     "output_type": "stream",
     "text": [
      "\n",
      "272\n",
      "현재 :  스톤헤이븐\n",
      "현재 크롤링이 진행중인 검색어 : 스톤헤이븐\n"
     ]
    },
    {
     "data": {
      "application/vnd.jupyter.widget-view+json": {
       "model_id": "03d31c934fa94ddd8bfc6369f4b6d274",
       "version_major": 2,
       "version_minor": 0
      },
      "text/plain": [
       "  0%|          | 0/1 [00:00<?, ?it/s]"
      ]
     },
     "metadata": {},
     "output_type": "display_data"
    },
    {
     "data": {
      "application/vnd.jupyter.widget-view+json": {
       "model_id": "afabe4dc34da4f5aaa96039bf2ac4ee0",
       "version_major": 2,
       "version_minor": 0
      },
      "text/plain": [
       "리뷰수집중:   0%|          | 0/13 [00:00<?, ?it/s]"
      ]
     },
     "metadata": {},
     "output_type": "display_data"
    },
    {
     "name": "stdout",
     "output_type": "stream",
     "text": [
      "\n",
      "273\n",
      "현재 :  인베이드피씨카페\n",
      "현재 크롤링이 진행중인 검색어 : 인베이드피씨카페\n",
      "펼칠 리뷰가 없다.\n"
     ]
    },
    {
     "data": {
      "application/vnd.jupyter.widget-view+json": {
       "model_id": "967977b11d6b483db4a060eb60583787",
       "version_major": 2,
       "version_minor": 0
      },
      "text/plain": [
       "리뷰수집중:   0%|          | 0/3 [00:00<?, ?it/s]"
      ]
     },
     "metadata": {},
     "output_type": "display_data"
    },
    {
     "name": "stdout",
     "output_type": "stream",
     "text": [
      "\n",
      "274\n",
      "현재 :  지에스25연동모디움점\n",
      "현재 크롤링이 진행중인 검색어 : 지에스25연동모디움점\n"
     ]
    },
    {
     "data": {
      "application/vnd.jupyter.widget-view+json": {
       "model_id": "dadb4b0d975e4574b01f0940ea336dee",
       "version_major": 2,
       "version_minor": 0
      },
      "text/plain": [
       "  0%|          | 0/2 [00:00<?, ?it/s]"
      ]
     },
     "metadata": {},
     "output_type": "display_data"
    },
    {
     "data": {
      "application/vnd.jupyter.widget-view+json": {
       "model_id": "d961f558994d4bb79a6537531fa4c7b7",
       "version_major": 2,
       "version_minor": 0
      },
      "text/plain": [
       "리뷰수집중:   0%|          | 0/52 [00:00<?, ?it/s]"
      ]
     },
     "metadata": {},
     "output_type": "display_data"
    },
    {
     "name": "stdout",
     "output_type": "stream",
     "text": [
      "\n",
      "275\n",
      "현재 :  공차제주연동신시가지점\n",
      "현재 크롤링이 진행중인 검색어 : 공차제주연동신시가지점\n"
     ]
    },
    {
     "data": {
      "application/vnd.jupyter.widget-view+json": {
       "model_id": "32cd0a1fbd91453f8e8bcd47150b4245",
       "version_major": 2,
       "version_minor": 0
      },
      "text/plain": [
       "  0%|          | 0/2 [00:00<?, ?it/s]"
      ]
     },
     "metadata": {},
     "output_type": "display_data"
    },
    {
     "data": {
      "application/vnd.jupyter.widget-view+json": {
       "model_id": "c87f3238fabe451eb8d455ae024066a1",
       "version_major": 2,
       "version_minor": 0
      },
      "text/plain": [
       "리뷰수집중:   0%|          | 0/149 [00:00<?, ?it/s]"
      ]
     },
     "metadata": {},
     "output_type": "display_data"
    },
    {
     "name": "stdout",
     "output_type": "stream",
     "text": [
      "\n",
      "276\n",
      "현재 :  공차제주연동점\n",
      "현재 크롤링이 진행중인 검색어 : 공차제주연동점\n"
     ]
    },
    {
     "data": {
      "application/vnd.jupyter.widget-view+json": {
       "model_id": "e5c2299f1d7840f7ab989643fe2d3d7d",
       "version_major": 2,
       "version_minor": 0
      },
      "text/plain": [
       "  0%|          | 0/2 [00:00<?, ?it/s]"
      ]
     },
     "metadata": {},
     "output_type": "display_data"
    },
    {
     "data": {
      "application/vnd.jupyter.widget-view+json": {
       "model_id": "ec179ade9dc14d2cb57bd4594443ae86",
       "version_major": 2,
       "version_minor": 0
      },
      "text/plain": [
       "리뷰수집중:   0%|          | 0/213 [00:00<?, ?it/s]"
      ]
     },
     "metadata": {},
     "output_type": "display_data"
    },
    {
     "name": "stdout",
     "output_type": "stream",
     "text": [
      "\n",
      "277\n",
      "현재 :  홍요깃거리애월점\n",
      "현재 크롤링이 진행중인 검색어 : 홍요깃거리애월점\n",
      "펼칠 리뷰가 없다.\n"
     ]
    },
    {
     "data": {
      "application/vnd.jupyter.widget-view+json": {
       "model_id": "b83cf7b259934f3f867f97de4c6591ea",
       "version_major": 2,
       "version_minor": 0
      },
      "text/plain": [
       "  0%|          | 0/2 [00:00<?, ?it/s]"
      ]
     },
     "metadata": {},
     "output_type": "display_data"
    },
    {
     "data": {
      "application/vnd.jupyter.widget-view+json": {
       "model_id": "810733c796b64630b41c089ca323a55c",
       "version_major": 2,
       "version_minor": 0
      },
      "text/plain": [
       "리뷰수집중:   0%|          | 0/8 [00:00<?, ?it/s]"
      ]
     },
     "metadata": {},
     "output_type": "display_data"
    },
    {
     "name": "stdout",
     "output_type": "stream",
     "text": [
      "\n",
      "278\n",
      "현재 :  길용당\n",
      "현재 크롤링이 진행중인 검색어 : 길용당\n",
      "펼칠 리뷰가 없다.\n"
     ]
    },
    {
     "data": {
      "application/vnd.jupyter.widget-view+json": {
       "model_id": "a10d66ec1f3346c3a421536381ff5b1b",
       "version_major": 2,
       "version_minor": 0
      },
      "text/plain": [
       "  0%|          | 0/1 [00:00<?, ?it/s]"
      ]
     },
     "metadata": {},
     "output_type": "display_data"
    },
    {
     "data": {
      "application/vnd.jupyter.widget-view+json": {
       "model_id": "541cf8bafe43463c969c8150cf8bb8f4",
       "version_major": 2,
       "version_minor": 0
      },
      "text/plain": [
       "리뷰수집중:   0%|          | 0/2 [00:00<?, ?it/s]"
      ]
     },
     "metadata": {},
     "output_type": "display_data"
    },
    {
     "name": "stdout",
     "output_type": "stream",
     "text": [
      "\n",
      "279\n",
      "현재 :  에이바우트커피신라신성점\n",
      "현재 크롤링이 진행중인 검색어 : 에이바우트커피신라신성점\n"
     ]
    },
    {
     "data": {
      "application/vnd.jupyter.widget-view+json": {
       "model_id": "3e1ed100dd23479b80cb75f6ae1d0b0c",
       "version_major": 2,
       "version_minor": 0
      },
      "text/plain": [
       "  0%|          | 0/25 [00:00<?, ?it/s]"
      ]
     },
     "metadata": {},
     "output_type": "display_data"
    },
    {
     "data": {
      "application/vnd.jupyter.widget-view+json": {
       "model_id": "71efa0c17d214c369a81a8aa22092871",
       "version_major": 2,
       "version_minor": 0
      },
      "text/plain": [
       "리뷰수집중:   0%|          | 0/482 [00:00<?, ?it/s]"
      ]
     },
     "metadata": {},
     "output_type": "display_data"
    },
    {
     "name": "stdout",
     "output_type": "stream",
     "text": [
      "\n",
      "280\n",
      "현재 :  까미노\n",
      "현재 크롤링이 진행중인 검색어 : 까미노\n",
      "펼칠 리뷰가 없다.\n"
     ]
    },
    {
     "data": {
      "application/vnd.jupyter.widget-view+json": {
       "model_id": "b6c96735ec084f0e90f3a098c81bfa31",
       "version_major": 2,
       "version_minor": 0
      },
      "text/plain": [
       "리뷰수집중:   0%|          | 0/7 [00:00<?, ?it/s]"
      ]
     },
     "metadata": {},
     "output_type": "display_data"
    },
    {
     "name": "stdout",
     "output_type": "stream",
     "text": [
      "\n",
      "281\n",
      "현재 :  호타르트\n",
      "현재 크롤링이 진행중인 검색어 : 호타르트\n"
     ]
    },
    {
     "data": {
      "application/vnd.jupyter.widget-view+json": {
       "model_id": "6b9ae03e6d1847eabd8239d919d0774d",
       "version_major": 2,
       "version_minor": 0
      },
      "text/plain": [
       "  0%|          | 0/7 [00:04<?, ?it/s]"
      ]
     },
     "metadata": {},
     "output_type": "display_data"
    },
    {
     "data": {
      "application/vnd.jupyter.widget-view+json": {
       "model_id": "33d67628f5ee4698b8399802835d444a",
       "version_major": 2,
       "version_minor": 0
      },
      "text/plain": [
       "리뷰수집중:   0%|          | 0/16 [00:00<?, ?it/s]"
      ]
     },
     "metadata": {},
     "output_type": "display_data"
    },
    {
     "name": "stdout",
     "output_type": "stream",
     "text": [
      "\n",
      "282\n",
      "현재 :  호밀호두제주본점\n",
      "현재 크롤링이 진행중인 검색어 : 호밀호두제주본점\n"
     ]
    },
    {
     "data": {
      "application/vnd.jupyter.widget-view+json": {
       "model_id": "6c9e0272cd174cddadf2b6dd365319ee",
       "version_major": 2,
       "version_minor": 0
      },
      "text/plain": [
       "  0%|          | 0/8 [00:00<?, ?it/s]"
      ]
     },
     "metadata": {},
     "output_type": "display_data"
    },
    {
     "data": {
      "application/vnd.jupyter.widget-view+json": {
       "model_id": "ff88b1c986a944d297e65a8a0f25e470",
       "version_major": 2,
       "version_minor": 0
      },
      "text/plain": [
       "리뷰수집중:   0%|          | 0/46 [00:00<?, ?it/s]"
      ]
     },
     "metadata": {},
     "output_type": "display_data"
    },
    {
     "name": "stdout",
     "output_type": "stream",
     "text": [
      "\n",
      "283\n",
      "현재 :  인샵카페\n",
      "현재 크롤링이 진행중인 검색어 : 인샵카페\n",
      "펼칠 리뷰가 없다.\n",
      "\n",
      "284\n",
      "현재 :  패밀리만두\n",
      "현재 크롤링이 진행중인 검색어 : 패밀리만두\n"
     ]
    },
    {
     "data": {
      "application/vnd.jupyter.widget-view+json": {
       "model_id": "c6d5fa3771e1429ea3ee2df39dec1821",
       "version_major": 2,
       "version_minor": 0
      },
      "text/plain": [
       "  0%|          | 0/10 [00:00<?, ?it/s]"
      ]
     },
     "metadata": {},
     "output_type": "display_data"
    },
    {
     "data": {
      "application/vnd.jupyter.widget-view+json": {
       "model_id": "35f88f0a3aad4d21817b7b872a417754",
       "version_major": 2,
       "version_minor": 0
      },
      "text/plain": [
       "리뷰수집중:   0%|          | 0/158 [00:00<?, ?it/s]"
      ]
     },
     "metadata": {},
     "output_type": "display_data"
    },
    {
     "name": "stdout",
     "output_type": "stream",
     "text": [
      "\n",
      "285\n",
      "현재 :  파스쿠찌제주제원점\n",
      "현재 크롤링이 진행중인 검색어 : 파스쿠찌제주제원점\n"
     ]
    },
    {
     "data": {
      "application/vnd.jupyter.widget-view+json": {
       "model_id": "d3598b0a8cf14f36ab6a98768bb3445e",
       "version_major": 2,
       "version_minor": 0
      },
      "text/plain": [
       "  0%|          | 0/5 [00:00<?, ?it/s]"
      ]
     },
     "metadata": {},
     "output_type": "display_data"
    },
    {
     "data": {
      "application/vnd.jupyter.widget-view+json": {
       "model_id": "c3af141a41ce425e86c288ce806383a2",
       "version_major": 2,
       "version_minor": 0
      },
      "text/plain": [
       "리뷰수집중:   0%|          | 0/129 [00:00<?, ?it/s]"
      ]
     },
     "metadata": {},
     "output_type": "display_data"
    },
    {
     "name": "stdout",
     "output_type": "stream",
     "text": [
      "\n",
      "286\n",
      "현재 :  커피보그\n",
      "현재 크롤링이 진행중인 검색어 : 커피보그\n"
     ]
    },
    {
     "data": {
      "application/vnd.jupyter.widget-view+json": {
       "model_id": "998c3081df9b49f38194dc0a75528926",
       "version_major": 2,
       "version_minor": 0
      },
      "text/plain": [
       "  0%|          | 0/3 [00:00<?, ?it/s]"
      ]
     },
     "metadata": {},
     "output_type": "display_data"
    },
    {
     "data": {
      "application/vnd.jupyter.widget-view+json": {
       "model_id": "43deef89a35240abb54170153d5e098a",
       "version_major": 2,
       "version_minor": 0
      },
      "text/plain": [
       "리뷰수집중:   0%|          | 0/21 [00:00<?, ?it/s]"
      ]
     },
     "metadata": {},
     "output_type": "display_data"
    },
    {
     "name": "stdout",
     "output_type": "stream",
     "text": [
      "\n",
      "287\n",
      "현재 :  빽다방제주제원점\n",
      "현재 크롤링이 진행중인 검색어 : 빽다방제주제원점\n"
     ]
    },
    {
     "data": {
      "application/vnd.jupyter.widget-view+json": {
       "model_id": "3204127f47df49a38ce9bf61580ed584",
       "version_major": 2,
       "version_minor": 0
      },
      "text/plain": [
       "  0%|          | 0/2 [00:00<?, ?it/s]"
      ]
     },
     "metadata": {},
     "output_type": "display_data"
    },
    {
     "data": {
      "application/vnd.jupyter.widget-view+json": {
       "model_id": "8c3f8bcfeb6045f89762d95aa8dafe66",
       "version_major": 2,
       "version_minor": 0
      },
      "text/plain": [
       "리뷰수집중:   0%|          | 0/61 [00:00<?, ?it/s]"
      ]
     },
     "metadata": {},
     "output_type": "display_data"
    },
    {
     "name": "stdout",
     "output_type": "stream",
     "text": [
      "\n",
      "288\n",
      "현재 :  서희원꼬치닷컴\n",
      "현재 크롤링이 진행중인 검색어 : 서희원꼬치닷컴\n"
     ]
    },
    {
     "data": {
      "application/vnd.jupyter.widget-view+json": {
       "model_id": "d1b4f25aef374d52aa0a8d0dc6efd803",
       "version_major": 2,
       "version_minor": 0
      },
      "text/plain": [
       "  0%|          | 0/1 [00:00<?, ?it/s]"
      ]
     },
     "metadata": {},
     "output_type": "display_data"
    },
    {
     "data": {
      "application/vnd.jupyter.widget-view+json": {
       "model_id": "23cc1491c5b34c3aa40ef31272e5a782",
       "version_major": 2,
       "version_minor": 0
      },
      "text/plain": [
       "리뷰수집중:   0%|          | 0/36 [00:00<?, ?it/s]"
      ]
     },
     "metadata": {},
     "output_type": "display_data"
    },
    {
     "name": "stdout",
     "output_type": "stream",
     "text": [
      "\n",
      "289\n",
      "현재 :  볕이드는곳벧디\n",
      "현재 크롤링이 진행중인 검색어 : 볕이드는곳벧디\n"
     ]
    },
    {
     "data": {
      "application/vnd.jupyter.widget-view+json": {
       "model_id": "818b21307cd849e1a12ba9f977bfee9e",
       "version_major": 2,
       "version_minor": 0
      },
      "text/plain": [
       "  0%|          | 0/84 [00:00<?, ?it/s]"
      ]
     },
     "metadata": {},
     "output_type": "display_data"
    },
    {
     "data": {
      "application/vnd.jupyter.widget-view+json": {
       "model_id": "4207e795f17d4a8583b5f134aa302a13",
       "version_major": 2,
       "version_minor": 0
      },
      "text/plain": [
       "리뷰수집중:   0%|          | 0/579 [00:00<?, ?it/s]"
      ]
     },
     "metadata": {},
     "output_type": "display_data"
    },
    {
     "name": "stdout",
     "output_type": "stream",
     "text": [
      "\n",
      "290\n",
      "현재 :  그랜드김밥\n",
      "현재 크롤링이 진행중인 검색어 : 그랜드김밥\n",
      "펼칠 리뷰가 없다.\n",
      "\n",
      "291\n",
      "현재 :  소림김밥\n",
      "현재 크롤링이 진행중인 검색어 : 소림김밥\n"
     ]
    },
    {
     "data": {
      "application/vnd.jupyter.widget-view+json": {
       "model_id": "98baa1ff2d0d4eb487dc5bb7adede377",
       "version_major": 2,
       "version_minor": 0
      },
      "text/plain": [
       "  0%|          | 0/3 [00:00<?, ?it/s]"
      ]
     },
     "metadata": {},
     "output_type": "display_data"
    },
    {
     "data": {
      "application/vnd.jupyter.widget-view+json": {
       "model_id": "18661d94ad5f426db2df70e8c4752eec",
       "version_major": 2,
       "version_minor": 0
      },
      "text/plain": [
       "리뷰수집중:   0%|          | 0/33 [00:00<?, ?it/s]"
      ]
     },
     "metadata": {},
     "output_type": "display_data"
    },
    {
     "name": "stdout",
     "output_type": "stream",
     "text": [
      "\n",
      "292\n",
      "현재 :  투썸플레이스제주연동점\n",
      "현재 크롤링이 진행중인 검색어 : 투썸플레이스제주연동점\n"
     ]
    },
    {
     "data": {
      "application/vnd.jupyter.widget-view+json": {
       "model_id": "f01b451e10724c3fb9483d3c41582165",
       "version_major": 2,
       "version_minor": 0
      },
      "text/plain": [
       "  0%|          | 0/6 [00:00<?, ?it/s]"
      ]
     },
     "metadata": {},
     "output_type": "display_data"
    },
    {
     "data": {
      "application/vnd.jupyter.widget-view+json": {
       "model_id": "3ab1efa7d4b84241802911f2744edcea",
       "version_major": 2,
       "version_minor": 0
      },
      "text/plain": [
       "리뷰수집중:   0%|          | 0/193 [00:00<?, ?it/s]"
      ]
     },
     "metadata": {},
     "output_type": "display_data"
    },
    {
     "name": "stdout",
     "output_type": "stream",
     "text": [
      "\n",
      "293\n",
      "현재 :  온에어PC방제주본점\n",
      "현재 크롤링이 진행중인 검색어 : 온에어PC방제주본점\n"
     ]
    },
    {
     "data": {
      "application/vnd.jupyter.widget-view+json": {
       "model_id": "40293e5eb9354c21a552c962c19eb88c",
       "version_major": 2,
       "version_minor": 0
      },
      "text/plain": [
       "  0%|          | 0/1 [00:00<?, ?it/s]"
      ]
     },
     "metadata": {},
     "output_type": "display_data"
    },
    {
     "data": {
      "application/vnd.jupyter.widget-view+json": {
       "model_id": "907d69bc40c7430b8280882e13e3447b",
       "version_major": 2,
       "version_minor": 0
      },
      "text/plain": [
       "리뷰수집중:   0%|          | 0/13 [00:00<?, ?it/s]"
      ]
     },
     "metadata": {},
     "output_type": "display_data"
    },
    {
     "name": "stdout",
     "output_type": "stream",
     "text": [
      "\n",
      "294\n",
      "현재 :  디저트39연동점\n",
      "현재 크롤링이 진행중인 검색어 : 디저트39연동점\n"
     ]
    },
    {
     "data": {
      "application/vnd.jupyter.widget-view+json": {
       "model_id": "95905b9ea0c24586b489ab86f6ebe8a2",
       "version_major": 2,
       "version_minor": 0
      },
      "text/plain": [
       "  0%|          | 0/16 [00:00<?, ?it/s]"
      ]
     },
     "metadata": {},
     "output_type": "display_data"
    },
    {
     "data": {
      "application/vnd.jupyter.widget-view+json": {
       "model_id": "92c68b7dad3c4fcfad7dafd6f1c6d57a",
       "version_major": 2,
       "version_minor": 0
      },
      "text/plain": [
       "리뷰수집중:   0%|          | 0/191 [00:00<?, ?it/s]"
      ]
     },
     "metadata": {},
     "output_type": "display_data"
    },
    {
     "name": "stdout",
     "output_type": "stream",
     "text": [
      "\n",
      "295\n",
      "현재 :  커피림\n",
      "현재 크롤링이 진행중인 검색어 : 커피림\n"
     ]
    },
    {
     "data": {
      "application/vnd.jupyter.widget-view+json": {
       "model_id": "c1b9e14ce20c4ba29e631ff0ab8f47a9",
       "version_major": 2,
       "version_minor": 0
      },
      "text/plain": [
       "  0%|          | 0/20 [00:00<?, ?it/s]"
      ]
     },
     "metadata": {},
     "output_type": "display_data"
    },
    {
     "data": {
      "application/vnd.jupyter.widget-view+json": {
       "model_id": "186ce1b6801843c7bdfad3a7753a5d8e",
       "version_major": 2,
       "version_minor": 0
      },
      "text/plain": [
       "리뷰수집중:   0%|          | 0/132 [00:00<?, ?it/s]"
      ]
     },
     "metadata": {},
     "output_type": "display_data"
    },
    {
     "name": "stdout",
     "output_type": "stream",
     "text": [
      "\n",
      "296\n",
      "현재 :  신전떡볶이연동직영점\n",
      "현재 크롤링이 진행중인 검색어 : 신전떡볶이연동직영점\n"
     ]
    },
    {
     "data": {
      "application/vnd.jupyter.widget-view+json": {
       "model_id": "dc55e65857714cca8382f519d7fca5e0",
       "version_major": 2,
       "version_minor": 0
      },
      "text/plain": [
       "  0%|          | 0/1 [00:00<?, ?it/s]"
      ]
     },
     "metadata": {},
     "output_type": "display_data"
    },
    {
     "data": {
      "application/vnd.jupyter.widget-view+json": {
       "model_id": "1946121e24de4888823addaddc5f3f9e",
       "version_major": 2,
       "version_minor": 0
      },
      "text/plain": [
       "리뷰수집중:   0%|          | 0/18 [00:00<?, ?it/s]"
      ]
     },
     "metadata": {},
     "output_type": "display_data"
    },
    {
     "name": "stdout",
     "output_type": "stream",
     "text": [
      "\n",
      "297\n",
      "현재 :  나눔김밥\n",
      "현재 크롤링이 진행중인 검색어 : 나눔김밥\n"
     ]
    },
    {
     "data": {
      "application/vnd.jupyter.widget-view+json": {
       "model_id": "697d2ba1ffd448ebabdaf7e711ff5cee",
       "version_major": 2,
       "version_minor": 0
      },
      "text/plain": [
       "  0%|          | 0/13 [00:00<?, ?it/s]"
      ]
     },
     "metadata": {},
     "output_type": "display_data"
    },
    {
     "data": {
      "application/vnd.jupyter.widget-view+json": {
       "model_id": "065d0915bf2f49ea9ba75384c534e99a",
       "version_major": 2,
       "version_minor": 0
      },
      "text/plain": [
       "리뷰수집중:   0%|          | 0/203 [00:00<?, ?it/s]"
      ]
     },
     "metadata": {},
     "output_type": "display_data"
    },
    {
     "name": "stdout",
     "output_type": "stream",
     "text": [
      "\n",
      "298\n",
      "현재 :  수목원커피숍\n",
      "현재 크롤링이 진행중인 검색어 : 수목원커피숍\n"
     ]
    },
    {
     "data": {
      "application/vnd.jupyter.widget-view+json": {
       "model_id": "3341f65ba3514717a39d8d7c05dd8b55",
       "version_major": 2,
       "version_minor": 0
      },
      "text/plain": [
       "  0%|          | 0/6 [00:00<?, ?it/s]"
      ]
     },
     "metadata": {},
     "output_type": "display_data"
    },
    {
     "data": {
      "application/vnd.jupyter.widget-view+json": {
       "model_id": "583c6a516321412b991af7e748476244",
       "version_major": 2,
       "version_minor": 0
      },
      "text/plain": [
       "리뷰수집중:   0%|          | 0/110 [00:00<?, ?it/s]"
      ]
     },
     "metadata": {},
     "output_type": "display_data"
    },
    {
     "name": "stdout",
     "output_type": "stream",
     "text": [
      "\n",
      "299\n",
      "현재 :  커피비터스윗\n",
      "현재 크롤링이 진행중인 검색어 : 커피비터스윗\n"
     ]
    },
    {
     "data": {
      "application/vnd.jupyter.widget-view+json": {
       "model_id": "d30fc79fa2b04dc5bdc622729a1807ce",
       "version_major": 2,
       "version_minor": 0
      },
      "text/plain": [
       "  0%|          | 0/3 [00:00<?, ?it/s]"
      ]
     },
     "metadata": {},
     "output_type": "display_data"
    },
    {
     "data": {
      "application/vnd.jupyter.widget-view+json": {
       "model_id": "388d3920edd1472db44eb460fc4d7e73",
       "version_major": 2,
       "version_minor": 0
      },
      "text/plain": [
       "리뷰수집중:   0%|          | 0/23 [00:00<?, ?it/s]"
      ]
     },
     "metadata": {},
     "output_type": "display_data"
    },
    {
     "name": "stdout",
     "output_type": "stream",
     "text": [
      "\n",
      "300\n",
      "현재 :  놀러와플\n",
      "현재 크롤링이 진행중인 검색어 : 놀러와플\n",
      "펼칠 리뷰가 없다.\n"
     ]
    },
    {
     "data": {
      "application/vnd.jupyter.widget-view+json": {
       "model_id": "b2265577d18b42daab6969addcf8dd64",
       "version_major": 2,
       "version_minor": 0
      },
      "text/plain": [
       "리뷰수집중:   0%|          | 0/6 [00:00<?, ?it/s]"
      ]
     },
     "metadata": {},
     "output_type": "display_data"
    },
    {
     "name": "stdout",
     "output_type": "stream",
     "text": [
      "\n",
      "301\n",
      "현재 :  퓨전상회\n",
      "현재 크롤링이 진행중인 검색어 : 퓨전상회\n"
     ]
    },
    {
     "data": {
      "application/vnd.jupyter.widget-view+json": {
       "model_id": "0ed3402329a7422885b14b0c4034aa75",
       "version_major": 2,
       "version_minor": 0
      },
      "text/plain": [
       "  0%|          | 0/6 [00:04<?, ?it/s]"
      ]
     },
     "metadata": {},
     "output_type": "display_data"
    },
    {
     "data": {
      "application/vnd.jupyter.widget-view+json": {
       "model_id": "d4c5ec03a4c647688359aa37c642749d",
       "version_major": 2,
       "version_minor": 0
      },
      "text/plain": [
       "리뷰수집중:   0%|          | 0/43 [00:00<?, ?it/s]"
      ]
     },
     "metadata": {},
     "output_type": "display_data"
    },
    {
     "name": "stdout",
     "output_type": "stream",
     "text": [
      "\n",
      "302\n",
      "현재 :  다올김밥분식\n",
      "현재 크롤링이 진행중인 검색어 : 다올김밥분식\n"
     ]
    },
    {
     "data": {
      "application/vnd.jupyter.widget-view+json": {
       "model_id": "4eff0a3cb6a4492db7f183f89b2bdd0d",
       "version_major": 2,
       "version_minor": 0
      },
      "text/plain": [
       "  0%|          | 0/6 [00:00<?, ?it/s]"
      ]
     },
     "metadata": {},
     "output_type": "display_data"
    },
    {
     "data": {
      "application/vnd.jupyter.widget-view+json": {
       "model_id": "286081cb42fb4879965589bd0664eeac",
       "version_major": 2,
       "version_minor": 0
      },
      "text/plain": [
       "리뷰수집중:   0%|          | 0/91 [00:00<?, ?it/s]"
      ]
     },
     "metadata": {},
     "output_type": "display_data"
    },
    {
     "name": "stdout",
     "output_type": "stream",
     "text": [
      "\n",
      "303\n",
      "현재 :  보리빵마을\n",
      "현재 크롤링이 진행중인 검색어 : 보리빵마을\n"
     ]
    },
    {
     "data": {
      "application/vnd.jupyter.widget-view+json": {
       "model_id": "e4a97cfdd13740fd97a3b1b2c5b6b055",
       "version_major": 2,
       "version_minor": 0
      },
      "text/plain": [
       "  0%|          | 0/2 [00:00<?, ?it/s]"
      ]
     },
     "metadata": {},
     "output_type": "display_data"
    },
    {
     "data": {
      "application/vnd.jupyter.widget-view+json": {
       "model_id": "aa3cd643ffb8488abba29e1d211fba2e",
       "version_major": 2,
       "version_minor": 0
      },
      "text/plain": [
       "리뷰수집중:   0%|          | 0/84 [00:00<?, ?it/s]"
      ]
     },
     "metadata": {},
     "output_type": "display_data"
    },
    {
     "name": "stdout",
     "output_type": "stream",
     "text": [
      "\n",
      "304\n",
      "현재 :  수제홍과일모찌\n",
      "현재 크롤링이 진행중인 검색어 : 수제홍과일모찌\n"
     ]
    },
    {
     "data": {
      "application/vnd.jupyter.widget-view+json": {
       "model_id": "cf53c60b597c42f0a8b80cb7f5f59342",
       "version_major": 2,
       "version_minor": 0
      },
      "text/plain": [
       "  0%|          | 0/22 [00:00<?, ?it/s]"
      ]
     },
     "metadata": {},
     "output_type": "display_data"
    },
    {
     "data": {
      "application/vnd.jupyter.widget-view+json": {
       "model_id": "4c63d3e233854a9caf6b7ea0b7197dcc",
       "version_major": 2,
       "version_minor": 0
      },
      "text/plain": [
       "리뷰수집중:   0%|          | 0/91 [00:00<?, ?it/s]"
      ]
     },
     "metadata": {},
     "output_type": "display_data"
    },
    {
     "name": "stdout",
     "output_type": "stream",
     "text": [
      "\n",
      "305\n",
      "현재 :  진가커피\n",
      "현재 크롤링이 진행중인 검색어 : 진가커피\n"
     ]
    },
    {
     "data": {
      "application/vnd.jupyter.widget-view+json": {
       "model_id": "ae7255b1b6dd42348195230dd3e54676",
       "version_major": 2,
       "version_minor": 0
      },
      "text/plain": [
       "  0%|          | 0/2 [00:00<?, ?it/s]"
      ]
     },
     "metadata": {},
     "output_type": "display_data"
    },
    {
     "data": {
      "application/vnd.jupyter.widget-view+json": {
       "model_id": "1c4e032abf614e24b35863e9a0796e19",
       "version_major": 2,
       "version_minor": 0
      },
      "text/plain": [
       "리뷰수집중:   0%|          | 0/16 [00:00<?, ?it/s]"
      ]
     },
     "metadata": {},
     "output_type": "display_data"
    },
    {
     "name": "stdout",
     "output_type": "stream",
     "text": [
      "\n",
      "306\n",
      "현재 :  비아제주\n",
      "현재 크롤링이 진행중인 검색어 : 비아제주\n"
     ]
    },
    {
     "data": {
      "application/vnd.jupyter.widget-view+json": {
       "model_id": "d2a5ee9a0f534def9a1fbcbd79d48fed",
       "version_major": 2,
       "version_minor": 0
      },
      "text/plain": [
       "  0%|          | 0/3 [00:00<?, ?it/s]"
      ]
     },
     "metadata": {},
     "output_type": "display_data"
    },
    {
     "data": {
      "application/vnd.jupyter.widget-view+json": {
       "model_id": "f0c781b6850d42da9d4151e2609ff49d",
       "version_major": 2,
       "version_minor": 0
      },
      "text/plain": [
       "리뷰수집중:   0%|          | 0/19 [00:00<?, ?it/s]"
      ]
     },
     "metadata": {},
     "output_type": "display_data"
    },
    {
     "name": "stdout",
     "output_type": "stream",
     "text": [
      "\n",
      "307\n",
      "현재 :  델문도제주도립미술관점\n",
      "현재 크롤링이 진행중인 검색어 : 델문도제주도립미술관점\n"
     ]
    },
    {
     "data": {
      "application/vnd.jupyter.widget-view+json": {
       "model_id": "4ff245fa798e4e209e83d271ee1573d1",
       "version_major": 2,
       "version_minor": 0
      },
      "text/plain": [
       "  0%|          | 0/22 [00:00<?, ?it/s]"
      ]
     },
     "metadata": {},
     "output_type": "display_data"
    },
    {
     "data": {
      "application/vnd.jupyter.widget-view+json": {
       "model_id": "9916d669d8de43368c521c55f0c8daca",
       "version_major": 2,
       "version_minor": 0
      },
      "text/plain": [
       "리뷰수집중:   0%|          | 0/146 [00:00<?, ?it/s]"
      ]
     },
     "metadata": {},
     "output_type": "display_data"
    },
    {
     "name": "stdout",
     "output_type": "stream",
     "text": [
      "\n",
      "308\n",
      "현재 :  쏭툰\n",
      "현재 크롤링이 진행중인 검색어 : 쏭툰\n",
      "펼칠 리뷰가 없다.\n"
     ]
    },
    {
     "data": {
      "application/vnd.jupyter.widget-view+json": {
       "model_id": "e3a7d2cf947242739c29a9dd533f00a8",
       "version_major": 2,
       "version_minor": 0
      },
      "text/plain": [
       "리뷰수집중:   0%|          | 0/6 [00:00<?, ?it/s]"
      ]
     },
     "metadata": {},
     "output_type": "display_data"
    },
    {
     "name": "stdout",
     "output_type": "stream",
     "text": [
      "\n",
      "309\n",
      "현재 :  아레나엑스피시방\n",
      "현재 크롤링이 진행중인 검색어 : 아레나엑스피시방\n"
     ]
    },
    {
     "data": {
      "application/vnd.jupyter.widget-view+json": {
       "model_id": "818e5e05447f452a8f29cbfb7d68a303",
       "version_major": 2,
       "version_minor": 0
      },
      "text/plain": [
       "  0%|          | 0/4 [00:00<?, ?it/s]"
      ]
     },
     "metadata": {},
     "output_type": "display_data"
    },
    {
     "data": {
      "application/vnd.jupyter.widget-view+json": {
       "model_id": "130bab9d13bb46f592018ea3f9d4fdc9",
       "version_major": 2,
       "version_minor": 0
      },
      "text/plain": [
       "리뷰수집중:   0%|          | 0/47 [00:00<?, ?it/s]"
      ]
     },
     "metadata": {},
     "output_type": "display_data"
    },
    {
     "name": "stdout",
     "output_type": "stream",
     "text": [
      "\n",
      "310\n",
      "현재 :  파스쿠찌제주한라병원점\n",
      "현재 크롤링이 진행중인 검색어 : 파스쿠찌제주한라병원점\n"
     ]
    },
    {
     "data": {
      "application/vnd.jupyter.widget-view+json": {
       "model_id": "05b4eb3af7d6436b80573f93e57b4cee",
       "version_major": 2,
       "version_minor": 0
      },
      "text/plain": [
       "  0%|          | 0/2 [00:00<?, ?it/s]"
      ]
     },
     "metadata": {},
     "output_type": "display_data"
    },
    {
     "data": {
      "application/vnd.jupyter.widget-view+json": {
       "model_id": "3457f2946a1344e48ba043385764e3ce",
       "version_major": 2,
       "version_minor": 0
      },
      "text/plain": [
       "리뷰수집중:   0%|          | 0/52 [00:00<?, ?it/s]"
      ]
     },
     "metadata": {},
     "output_type": "display_data"
    },
    {
     "name": "stdout",
     "output_type": "stream",
     "text": [
      "\n",
      "311\n",
      "현재 :  피자굽는아저씨\n",
      "현재 크롤링이 진행중인 검색어 : 피자굽는아저씨\n",
      "펼칠 리뷰가 없다.\n"
     ]
    },
    {
     "data": {
      "application/vnd.jupyter.widget-view+json": {
       "model_id": "714d9d967c1946e3ae83be41e411c056",
       "version_major": 2,
       "version_minor": 0
      },
      "text/plain": [
       "리뷰수집중:   0%|          | 0/6 [00:00<?, ?it/s]"
      ]
     },
     "metadata": {},
     "output_type": "display_data"
    },
    {
     "name": "stdout",
     "output_type": "stream",
     "text": [
      "\n",
      "312\n",
      "현재 :  토방속에장독대\n",
      "현재 크롤링이 진행중인 검색어 : 토방속에장독대\n"
     ]
    },
    {
     "data": {
      "application/vnd.jupyter.widget-view+json": {
       "model_id": "be8ddc84e6444d23aaa38c9a344cc49d",
       "version_major": 2,
       "version_minor": 0
      },
      "text/plain": [
       "  0%|          | 0/3 [00:00<?, ?it/s]"
      ]
     },
     "metadata": {},
     "output_type": "display_data"
    },
    {
     "data": {
      "application/vnd.jupyter.widget-view+json": {
       "model_id": "82a32ddc3fb14a6cac795e915875814b",
       "version_major": 2,
       "version_minor": 0
      },
      "text/plain": [
       "리뷰수집중:   0%|          | 0/22 [00:00<?, ?it/s]"
      ]
     },
     "metadata": {},
     "output_type": "display_data"
    },
    {
     "name": "stdout",
     "output_type": "stream",
     "text": [
      "\n",
      "313\n",
      "현재 :  삐끄니끄\n",
      "현재 크롤링이 진행중인 검색어 : 삐끄니끄\n"
     ]
    },
    {
     "data": {
      "application/vnd.jupyter.widget-view+json": {
       "model_id": "ef60cf7d6018417184bed71d9cdd2a2d",
       "version_major": 2,
       "version_minor": 0
      },
      "text/plain": [
       "  0%|          | 0/15 [00:00<?, ?it/s]"
      ]
     },
     "metadata": {},
     "output_type": "display_data"
    },
    {
     "data": {
      "application/vnd.jupyter.widget-view+json": {
       "model_id": "c481949515c846cdb5531cbc5c93fc47",
       "version_major": 2,
       "version_minor": 0
      },
      "text/plain": [
       "리뷰수집중:   0%|          | 0/110 [00:00<?, ?it/s]"
      ]
     },
     "metadata": {},
     "output_type": "display_data"
    },
    {
     "name": "stdout",
     "output_type": "stream",
     "text": [
      "\n",
      "314\n",
      "현재 :  엔제리너스한라수목원점\n",
      "현재 크롤링이 진행중인 검색어 : 엔제리너스한라수목원점\n"
     ]
    },
    {
     "data": {
      "application/vnd.jupyter.widget-view+json": {
       "model_id": "596a8a6a1c6a4647875456a4e7415fd9",
       "version_major": 2,
       "version_minor": 0
      },
      "text/plain": [
       "  0%|          | 0/9 [00:00<?, ?it/s]"
      ]
     },
     "metadata": {},
     "output_type": "display_data"
    },
    {
     "data": {
      "application/vnd.jupyter.widget-view+json": {
       "model_id": "7eb47ff29feb4bd8bcbc4c26374d9352",
       "version_major": 2,
       "version_minor": 0
      },
      "text/plain": [
       "리뷰수집중:   0%|          | 0/203 [00:00<?, ?it/s]"
      ]
     },
     "metadata": {},
     "output_type": "display_data"
    },
    {
     "name": "stdout",
     "output_type": "stream",
     "text": [
      "\n",
      "315\n",
      "현재 :  요거프레소바오젠점\n",
      "현재 크롤링이 진행중인 검색어 : 요거프레소바오젠점\n",
      "펼칠 리뷰가 없다.\n"
     ]
    },
    {
     "data": {
      "application/vnd.jupyter.widget-view+json": {
       "model_id": "f269f57e56984ad1a9e17481190e554e",
       "version_major": 2,
       "version_minor": 0
      },
      "text/plain": [
       "리뷰수집중:   0%|          | 0/10 [00:00<?, ?it/s]"
      ]
     },
     "metadata": {},
     "output_type": "display_data"
    },
    {
     "name": "stdout",
     "output_type": "stream",
     "text": [
      "\n",
      "316\n",
      "현재 :  노블레스호텔\n",
      "현재 크롤링이 진행중인 검색어 : 노블레스호텔\n",
      "펼칠 리뷰가 없다.\n"
     ]
    },
    {
     "data": {
      "application/vnd.jupyter.widget-view+json": {
       "model_id": "2009baf2446445de8556e2638b25e3a8",
       "version_major": 2,
       "version_minor": 0
      },
      "text/plain": [
       "리뷰수집중:   0%|          | 0/7 [00:04<?, ?it/s]"
      ]
     },
     "metadata": {},
     "output_type": "display_data"
    },
    {
     "name": "stdout",
     "output_type": "stream",
     "text": [
      "\n",
      "317\n",
      "현재 :  리치망고신제주점\n",
      "현재 크롤링이 진행중인 검색어 : 리치망고신제주점\n"
     ]
    },
    {
     "data": {
      "application/vnd.jupyter.widget-view+json": {
       "model_id": "ad8ac6906fb745c586a77253935b8faa",
       "version_major": 2,
       "version_minor": 0
      },
      "text/plain": [
       "  0%|          | 0/3 [00:00<?, ?it/s]"
      ]
     },
     "metadata": {},
     "output_type": "display_data"
    },
    {
     "data": {
      "application/vnd.jupyter.widget-view+json": {
       "model_id": "4f119b771afe4f49989ab74f3c209376",
       "version_major": 2,
       "version_minor": 0
      },
      "text/plain": [
       "리뷰수집중:   0%|          | 0/75 [00:00<?, ?it/s]"
      ]
     },
     "metadata": {},
     "output_type": "display_data"
    },
    {
     "name": "stdout",
     "output_type": "stream",
     "text": [
      "\n",
      "318\n",
      "현재 :  아이갓에브리씽\n",
      "현재 크롤링이 진행중인 검색어 : 아이갓에브리씽\n"
     ]
    },
    {
     "data": {
      "application/vnd.jupyter.widget-view+json": {
       "model_id": "fcc46b1d4ad44e018139cead49d4d3a6",
       "version_major": 2,
       "version_minor": 0
      },
      "text/plain": [
       "  0%|          | 0/3 [00:00<?, ?it/s]"
      ]
     },
     "metadata": {},
     "output_type": "display_data"
    },
    {
     "data": {
      "application/vnd.jupyter.widget-view+json": {
       "model_id": "65deb3c9210b47c89a6ea14d5b87ea65",
       "version_major": 2,
       "version_minor": 0
      },
      "text/plain": [
       "리뷰수집중:   0%|          | 0/59 [00:00<?, ?it/s]"
      ]
     },
     "metadata": {},
     "output_type": "display_data"
    },
    {
     "name": "stdout",
     "output_type": "stream",
     "text": [
      "\n",
      "319\n",
      "현재 :  춤추는염소들\n",
      "현재 크롤링이 진행중인 검색어 : 춤추는염소들\n"
     ]
    },
    {
     "data": {
      "application/vnd.jupyter.widget-view+json": {
       "model_id": "adf727484f614948a9d09b383345407b",
       "version_major": 2,
       "version_minor": 0
      },
      "text/plain": [
       "  0%|          | 0/19 [00:00<?, ?it/s]"
      ]
     },
     "metadata": {},
     "output_type": "display_data"
    },
    {
     "data": {
      "application/vnd.jupyter.widget-view+json": {
       "model_id": "9ebad5dbae9d47d584812479ebf33673",
       "version_major": 2,
       "version_minor": 0
      },
      "text/plain": [
       "리뷰수집중:   0%|          | 0/74 [00:00<?, ?it/s]"
      ]
     },
     "metadata": {},
     "output_type": "display_data"
    },
    {
     "name": "stdout",
     "output_type": "stream",
     "text": [
      "\n",
      "320\n",
      "현재 :  마농떡볶이\n",
      "현재 크롤링이 진행중인 검색어 : 마농떡볶이\n"
     ]
    },
    {
     "data": {
      "application/vnd.jupyter.widget-view+json": {
       "model_id": "d86acaabdb1242f7b92515d66229f47e",
       "version_major": 2,
       "version_minor": 0
      },
      "text/plain": [
       "  0%|          | 0/2 [00:00<?, ?it/s]"
      ]
     },
     "metadata": {},
     "output_type": "display_data"
    },
    {
     "data": {
      "application/vnd.jupyter.widget-view+json": {
       "model_id": "6b56f21a6efc4eb3b99a1be47f0b7abb",
       "version_major": 2,
       "version_minor": 0
      },
      "text/plain": [
       "리뷰수집중:   0%|          | 0/29 [00:00<?, ?it/s]"
      ]
     },
     "metadata": {},
     "output_type": "display_data"
    },
    {
     "name": "stdout",
     "output_type": "stream",
     "text": [
      "\n",
      "321\n",
      "현재 :  하나맘김밥\n",
      "현재 크롤링이 진행중인 검색어 : 하나맘김밥\n"
     ]
    },
    {
     "data": {
      "application/vnd.jupyter.widget-view+json": {
       "model_id": "c6f36639707942f295b6544424e455a9",
       "version_major": 2,
       "version_minor": 0
      },
      "text/plain": [
       "  0%|          | 0/12 [00:00<?, ?it/s]"
      ]
     },
     "metadata": {},
     "output_type": "display_data"
    },
    {
     "data": {
      "application/vnd.jupyter.widget-view+json": {
       "model_id": "5fbf19f9941e47539cb057504283adf2",
       "version_major": 2,
       "version_minor": 0
      },
      "text/plain": [
       "리뷰수집중:   0%|          | 0/53 [00:00<?, ?it/s]"
      ]
     },
     "metadata": {},
     "output_type": "display_data"
    },
    {
     "name": "stdout",
     "output_type": "stream",
     "text": [
      "\n",
      "322\n",
      "현재 :  메가엠지씨커피제주연동점\n",
      "현재 크롤링이 진행중인 검색어 : 메가엠지씨커피제주연동점\n"
     ]
    },
    {
     "data": {
      "application/vnd.jupyter.widget-view+json": {
       "model_id": "345728eecb2f445fa778f8f14e5dbc35",
       "version_major": 2,
       "version_minor": 0
      },
      "text/plain": [
       "  0%|          | 0/3 [00:00<?, ?it/s]"
      ]
     },
     "metadata": {},
     "output_type": "display_data"
    },
    {
     "data": {
      "application/vnd.jupyter.widget-view+json": {
       "model_id": "56286e625834432fb954de330827779a",
       "version_major": 2,
       "version_minor": 0
      },
      "text/plain": [
       "리뷰수집중:   0%|          | 0/14 [00:00<?, ?it/s]"
      ]
     },
     "metadata": {},
     "output_type": "display_data"
    },
    {
     "name": "stdout",
     "output_type": "stream",
     "text": [
      "\n",
      "323\n",
      "현재 :  (주)지앤엘\n",
      "현재 크롤링이 진행중인 검색어 : (주)지앤엘\n",
      "펼칠 리뷰가 없다.\n",
      "\n",
      "324\n",
      "현재 :  탐앤탐스신제주점\n",
      "현재 크롤링이 진행중인 검색어 : 탐앤탐스신제주점\n"
     ]
    },
    {
     "data": {
      "application/vnd.jupyter.widget-view+json": {
       "model_id": "a66f0fe89b9143878ae58cdf3ddb7236",
       "version_major": 2,
       "version_minor": 0
      },
      "text/plain": [
       "  0%|          | 0/3 [00:00<?, ?it/s]"
      ]
     },
     "metadata": {},
     "output_type": "display_data"
    },
    {
     "data": {
      "application/vnd.jupyter.widget-view+json": {
       "model_id": "0f076d8a5c264233a330683414a37421",
       "version_major": 2,
       "version_minor": 0
      },
      "text/plain": [
       "리뷰수집중:   0%|          | 0/143 [00:00<?, ?it/s]"
      ]
     },
     "metadata": {},
     "output_type": "display_data"
    },
    {
     "name": "stdout",
     "output_type": "stream",
     "text": [
      "\n",
      "325\n",
      "현재 :  미스터피자신제주점\n",
      "현재 크롤링이 진행중인 검색어 : 미스터피자신제주점\n"
     ]
    },
    {
     "data": {
      "application/vnd.jupyter.widget-view+json": {
       "model_id": "1069850559754b48a3edef3c8e1d4436",
       "version_major": 2,
       "version_minor": 0
      },
      "text/plain": [
       "  0%|          | 0/5 [00:00<?, ?it/s]"
      ]
     },
     "metadata": {},
     "output_type": "display_data"
    },
    {
     "data": {
      "application/vnd.jupyter.widget-view+json": {
       "model_id": "d6771aef7b0a4f48b1e27a50a7ba6eb7",
       "version_major": 2,
       "version_minor": 0
      },
      "text/plain": [
       "리뷰수집중:   0%|          | 0/39 [00:00<?, ?it/s]"
      ]
     },
     "metadata": {},
     "output_type": "display_data"
    },
    {
     "name": "stdout",
     "output_type": "stream",
     "text": [
      "\n",
      "326\n",
      "현재 :  서희원꼬지닷컴한라점\n",
      "현재 크롤링이 진행중인 검색어 : 서희원꼬지닷컴한라점\n"
     ]
    },
    {
     "data": {
      "application/vnd.jupyter.widget-view+json": {
       "model_id": "56619f111c3741fe9a587ba1bc1b8551",
       "version_major": 2,
       "version_minor": 0
      },
      "text/plain": [
       "리뷰수집중:   0%|          | 0/30 [00:00<?, ?it/s]"
      ]
     },
     "metadata": {},
     "output_type": "display_data"
    },
    {
     "name": "stdout",
     "output_type": "stream",
     "text": [
      "\n",
      "327\n",
      "현재 :  이디야커피연동점\n",
      "현재 크롤링이 진행중인 검색어 : 이디야커피연동점\n"
     ]
    },
    {
     "data": {
      "application/vnd.jupyter.widget-view+json": {
       "model_id": "379b9a562070427aa00a2f4416470292",
       "version_major": 2,
       "version_minor": 0
      },
      "text/plain": [
       "  0%|          | 0/3 [00:00<?, ?it/s]"
      ]
     },
     "metadata": {},
     "output_type": "display_data"
    },
    {
     "data": {
      "application/vnd.jupyter.widget-view+json": {
       "model_id": "cddd15b7798f48e78515a325144ab54e",
       "version_major": 2,
       "version_minor": 0
      },
      "text/plain": [
       "리뷰수집중:   0%|          | 0/66 [00:00<?, ?it/s]"
      ]
     },
     "metadata": {},
     "output_type": "display_data"
    },
    {
     "name": "stdout",
     "output_type": "stream",
     "text": [
      "\n",
      "328\n",
      "현재 :  세븐일레븐제주연동북타운점\n",
      "현재 크롤링이 진행중인 검색어 : 세븐일레븐제주연동북타운점\n"
     ]
    },
    {
     "data": {
      "application/vnd.jupyter.widget-view+json": {
       "model_id": "177d6d1c86b140738462eff3c7a9cb7d",
       "version_major": 2,
       "version_minor": 0
      },
      "text/plain": [
       "리뷰수집중:   0%|          | 0/18 [00:00<?, ?it/s]"
      ]
     },
     "metadata": {},
     "output_type": "display_data"
    },
    {
     "name": "stdout",
     "output_type": "stream",
     "text": [
      "\n",
      "329\n",
      "현재 :  까페제주웰컴센터\n",
      "현재 크롤링이 진행중인 검색어 : 까페제주웰컴센터\n",
      "펼칠 리뷰가 없다.\n"
     ]
    },
    {
     "data": {
      "application/vnd.jupyter.widget-view+json": {
       "model_id": "2a07978c2838428ca71d3e65ad90cfdc",
       "version_major": 2,
       "version_minor": 0
      },
      "text/plain": [
       "리뷰수집중:   0%|          | 0/8 [00:04<?, ?it/s]"
      ]
     },
     "metadata": {},
     "output_type": "display_data"
    },
    {
     "name": "stdout",
     "output_type": "stream",
     "text": [
      "\n",
      "330\n",
      "현재 :  플로베롯데점\n",
      "현재 크롤링이 진행중인 검색어 : 플로베롯데점\n"
     ]
    },
    {
     "data": {
      "application/vnd.jupyter.widget-view+json": {
       "model_id": "172c263fd0a54763a805c0611f36708d",
       "version_major": 2,
       "version_minor": 0
      },
      "text/plain": [
       "리뷰수집중:   0%|          | 0/16 [00:00<?, ?it/s]"
      ]
     },
     "metadata": {},
     "output_type": "display_data"
    },
    {
     "name": "stdout",
     "output_type": "stream",
     "text": [
      "\n",
      "331\n",
      "현재 :  드롭탑누웨모루점\n",
      "현재 크롤링이 진행중인 검색어 : 드롭탑누웨모루점\n"
     ]
    },
    {
     "data": {
      "application/vnd.jupyter.widget-view+json": {
       "model_id": "bbc8c7c2fb8b424687ec78bafe95ff46",
       "version_major": 2,
       "version_minor": 0
      },
      "text/plain": [
       "  0%|          | 0/5 [00:04<?, ?it/s]"
      ]
     },
     "metadata": {},
     "output_type": "display_data"
    },
    {
     "data": {
      "application/vnd.jupyter.widget-view+json": {
       "model_id": "3f996383344a48b39cdf3a4727c0d822",
       "version_major": 2,
       "version_minor": 0
      },
      "text/plain": [
       "리뷰수집중:   0%|          | 0/56 [00:00<?, ?it/s]"
      ]
     },
     "metadata": {},
     "output_type": "display_data"
    },
    {
     "name": "stdout",
     "output_type": "stream",
     "text": [
      "\n",
      "332\n",
      "현재 :  팔공티노형점\n",
      "현재 크롤링이 진행중인 검색어 : 팔공티노형점\n"
     ]
    },
    {
     "data": {
      "application/vnd.jupyter.widget-view+json": {
       "model_id": "a0683adafffc43a8b13db19cd2958f0f",
       "version_major": 2,
       "version_minor": 0
      },
      "text/plain": [
       "  0%|          | 0/12 [00:00<?, ?it/s]"
      ]
     },
     "metadata": {},
     "output_type": "display_data"
    },
    {
     "data": {
      "application/vnd.jupyter.widget-view+json": {
       "model_id": "b58763b18a0c42839ce1c878dff5722f",
       "version_major": 2,
       "version_minor": 0
      },
      "text/plain": [
       "리뷰수집중:   0%|          | 0/215 [00:00<?, ?it/s]"
      ]
     },
     "metadata": {},
     "output_type": "display_data"
    },
    {
     "name": "stdout",
     "output_type": "stream",
     "text": [
      "\n",
      "333\n",
      "현재 :  카페무\n",
      "현재 크롤링이 진행중인 검색어 : 카페무\n"
     ]
    },
    {
     "data": {
      "application/vnd.jupyter.widget-view+json": {
       "model_id": "01d6f27b195c4c13afddfffad0cf110e",
       "version_major": 2,
       "version_minor": 0
      },
      "text/plain": [
       "  0%|          | 0/1 [00:00<?, ?it/s]"
      ]
     },
     "metadata": {},
     "output_type": "display_data"
    },
    {
     "data": {
      "application/vnd.jupyter.widget-view+json": {
       "model_id": "1d513f0afa1b4bdb89c2118dfa0e4c67",
       "version_major": 2,
       "version_minor": 0
      },
      "text/plain": [
       "리뷰수집중:   0%|          | 0/20 [00:00<?, ?it/s]"
      ]
     },
     "metadata": {},
     "output_type": "display_data"
    },
    {
     "name": "stdout",
     "output_type": "stream",
     "text": [
      "\n",
      "334\n",
      "현재 :  청자다방제주1호점\n",
      "현재 크롤링이 진행중인 검색어 : 청자다방제주1호점\n"
     ]
    },
    {
     "data": {
      "application/vnd.jupyter.widget-view+json": {
       "model_id": "ad226be2ad304a1d8a0a3420c4f1a81d",
       "version_major": 2,
       "version_minor": 0
      },
      "text/plain": [
       "  0%|          | 0/3 [00:00<?, ?it/s]"
      ]
     },
     "metadata": {},
     "output_type": "display_data"
    },
    {
     "data": {
      "application/vnd.jupyter.widget-view+json": {
       "model_id": "fd8dacea69384d0c87adcd86124ed294",
       "version_major": 2,
       "version_minor": 0
      },
      "text/plain": [
       "리뷰수집중:   0%|          | 0/33 [00:00<?, ?it/s]"
      ]
     },
     "metadata": {},
     "output_type": "display_data"
    },
    {
     "name": "stdout",
     "output_type": "stream",
     "text": [
      "\n",
      "335\n",
      "현재 :  유캔두잇신제주점\n",
      "현재 크롤링이 진행중인 검색어 : 유캔두잇신제주점\n"
     ]
    },
    {
     "data": {
      "application/vnd.jupyter.widget-view+json": {
       "model_id": "40e5c0e065344941a1cd92f25788cd1b",
       "version_major": 2,
       "version_minor": 0
      },
      "text/plain": [
       "  0%|          | 0/9 [00:00<?, ?it/s]"
      ]
     },
     "metadata": {},
     "output_type": "display_data"
    },
    {
     "data": {
      "application/vnd.jupyter.widget-view+json": {
       "model_id": "45511c54923f45bf945e9141b4596faf",
       "version_major": 2,
       "version_minor": 0
      },
      "text/plain": [
       "리뷰수집중:   0%|          | 0/33 [00:00<?, ?it/s]"
      ]
     },
     "metadata": {},
     "output_type": "display_data"
    },
    {
     "name": "stdout",
     "output_type": "stream",
     "text": [
      "\n",
      "336\n",
      "현재 :  인피넛티\n",
      "현재 크롤링이 진행중인 검색어 : 인피넛티\n"
     ]
    },
    {
     "data": {
      "application/vnd.jupyter.widget-view+json": {
       "model_id": "12ec9796257447f991f78a6531d83424",
       "version_major": 2,
       "version_minor": 0
      },
      "text/plain": [
       "  0%|          | 0/9 [00:00<?, ?it/s]"
      ]
     },
     "metadata": {},
     "output_type": "display_data"
    },
    {
     "data": {
      "application/vnd.jupyter.widget-view+json": {
       "model_id": "682a173c6ba34af6a2ce4459e7660db5",
       "version_major": 2,
       "version_minor": 0
      },
      "text/plain": [
       "리뷰수집중:   0%|          | 0/32 [00:00<?, ?it/s]"
      ]
     },
     "metadata": {},
     "output_type": "display_data"
    },
    {
     "name": "stdout",
     "output_type": "stream",
     "text": [
      "\n",
      "337\n",
      "현재 :  에이더블유더블유더블유\n",
      "현재 크롤링이 진행중인 검색어 : 에이더블유더블유더블유\n",
      "펼칠 리뷰가 없다.\n",
      "\n",
      "338\n",
      "현재 :  에그드랍신제주연동점\n",
      "현재 크롤링이 진행중인 검색어 : 에그드랍신제주연동점\n"
     ]
    },
    {
     "data": {
      "application/vnd.jupyter.widget-view+json": {
       "model_id": "7449e5055cc94f149791f7f3fe1aa9fc",
       "version_major": 2,
       "version_minor": 0
      },
      "text/plain": [
       "  0%|          | 0/4 [00:00<?, ?it/s]"
      ]
     },
     "metadata": {},
     "output_type": "display_data"
    },
    {
     "data": {
      "application/vnd.jupyter.widget-view+json": {
       "model_id": "88f705cb9415450c8c9b60a86631a2ff",
       "version_major": 2,
       "version_minor": 0
      },
      "text/plain": [
       "리뷰수집중:   0%|          | 0/95 [00:00<?, ?it/s]"
      ]
     },
     "metadata": {},
     "output_type": "display_data"
    },
    {
     "name": "stdout",
     "output_type": "stream",
     "text": [
      "\n",
      "339\n",
      "현재 :  씨유제주연동아랑점\n",
      "현재 크롤링이 진행중인 검색어 : 씨유제주연동아랑점\n"
     ]
    },
    {
     "data": {
      "application/vnd.jupyter.widget-view+json": {
       "model_id": "7263174e8190409b8c1697d44befb6d4",
       "version_major": 2,
       "version_minor": 0
      },
      "text/plain": [
       "리뷰수집중:   0%|          | 0/24 [00:00<?, ?it/s]"
      ]
     },
     "metadata": {},
     "output_type": "display_data"
    },
    {
     "name": "stdout",
     "output_type": "stream",
     "text": [
      "\n",
      "340\n",
      "현재 :  젬마초콜릿과자점\n",
      "현재 크롤링이 진행중인 검색어 : 젬마초콜릿과자점\n"
     ]
    },
    {
     "data": {
      "application/vnd.jupyter.widget-view+json": {
       "model_id": "fcf024fc6ece4ae1875e2b50507ecb6c",
       "version_major": 2,
       "version_minor": 0
      },
      "text/plain": [
       "  0%|          | 0/60 [00:00<?, ?it/s]"
      ]
     },
     "metadata": {},
     "output_type": "display_data"
    },
    {
     "data": {
      "application/vnd.jupyter.widget-view+json": {
       "model_id": "9298a156936b45cc87d1599e2e5ea333",
       "version_major": 2,
       "version_minor": 0
      },
      "text/plain": [
       "리뷰수집중:   0%|          | 0/169 [00:00<?, ?it/s]"
      ]
     },
     "metadata": {},
     "output_type": "display_data"
    },
    {
     "name": "stdout",
     "output_type": "stream",
     "text": [
      "\n",
      "341\n",
      "현재 :  더클럽하우스\n",
      "현재 크롤링이 진행중인 검색어 : 더클럽하우스\n",
      "펼칠 리뷰가 없다.\n"
     ]
    },
    {
     "data": {
      "application/vnd.jupyter.widget-view+json": {
       "model_id": "9a19bef5f2084ee2aa4f916ed1de27d4",
       "version_major": 2,
       "version_minor": 0
      },
      "text/plain": [
       "리뷰수집중:   0%|          | 0/3 [00:00<?, ?it/s]"
      ]
     },
     "metadata": {},
     "output_type": "display_data"
    },
    {
     "name": "stdout",
     "output_type": "stream",
     "text": [
      "\n",
      "342\n",
      "현재 :  오마뎅제주연동점\n",
      "현재 크롤링이 진행중인 검색어 : 오마뎅제주연동점\n"
     ]
    },
    {
     "data": {
      "application/vnd.jupyter.widget-view+json": {
       "model_id": "86c7e1bcbbb14b0db4b08b4617693bd3",
       "version_major": 2,
       "version_minor": 0
      },
      "text/plain": [
       "  0%|          | 0/2 [00:00<?, ?it/s]"
      ]
     },
     "metadata": {},
     "output_type": "display_data"
    },
    {
     "data": {
      "application/vnd.jupyter.widget-view+json": {
       "model_id": "48eecd9b07214931ad00cab09f610967",
       "version_major": 2,
       "version_minor": 0
      },
      "text/plain": [
       "리뷰수집중:   0%|          | 0/23 [00:00<?, ?it/s]"
      ]
     },
     "metadata": {},
     "output_type": "display_data"
    },
    {
     "name": "stdout",
     "output_type": "stream",
     "text": [
      "\n",
      "343\n",
      "현재 :  제라한속풀이\n",
      "현재 크롤링이 진행중인 검색어 : 제라한속풀이\n",
      "펼칠 리뷰가 없다.\n"
     ]
    },
    {
     "data": {
      "application/vnd.jupyter.widget-view+json": {
       "model_id": "f642bbc665fa45e68979b5868cf7c1a3",
       "version_major": 2,
       "version_minor": 0
      },
      "text/plain": [
       "리뷰수집중:   0%|          | 0/2 [00:00<?, ?it/s]"
      ]
     },
     "metadata": {},
     "output_type": "display_data"
    },
    {
     "name": "stdout",
     "output_type": "stream",
     "text": [
      "\n",
      "344\n",
      "현재 :  데일리커피앤디저트\n",
      "현재 크롤링이 진행중인 검색어 : 데일리커피앤디저트\n"
     ]
    },
    {
     "data": {
      "application/vnd.jupyter.widget-view+json": {
       "model_id": "52fe7f3745314a6f9a5363afc5b27cca",
       "version_major": 2,
       "version_minor": 0
      },
      "text/plain": [
       "  0%|          | 0/5 [00:00<?, ?it/s]"
      ]
     },
     "metadata": {},
     "output_type": "display_data"
    },
    {
     "data": {
      "application/vnd.jupyter.widget-view+json": {
       "model_id": "4e43155260e941de840fb9fb27c740bc",
       "version_major": 2,
       "version_minor": 0
      },
      "text/plain": [
       "리뷰수집중:   0%|          | 0/30 [00:00<?, ?it/s]"
      ]
     },
     "metadata": {},
     "output_type": "display_data"
    },
    {
     "name": "stdout",
     "output_type": "stream",
     "text": [
      "\n",
      "345\n",
      "현재 :  송유기\n",
      "현재 크롤링이 진행중인 검색어 : 송유기\n",
      "펼칠 리뷰가 없다.\n"
     ]
    },
    {
     "data": {
      "application/vnd.jupyter.widget-view+json": {
       "model_id": "2dd7ab43e5f141adb6f82462da9527f4",
       "version_major": 2,
       "version_minor": 0
      },
      "text/plain": [
       "리뷰수집중:   0%|          | 0/6 [00:00<?, ?it/s]"
      ]
     },
     "metadata": {},
     "output_type": "display_data"
    },
    {
     "name": "stdout",
     "output_type": "stream",
     "text": [
      "\n",
      "346\n",
      "현재 :  비하이브\n",
      "현재 크롤링이 진행중인 검색어 : 비하이브\n"
     ]
    },
    {
     "data": {
      "application/vnd.jupyter.widget-view+json": {
       "model_id": "9d8e4613a7be4f51ac8cc64d18cf3dd3",
       "version_major": 2,
       "version_minor": 0
      },
      "text/plain": [
       "리뷰수집중:   0%|          | 0/11 [00:04<?, ?it/s]"
      ]
     },
     "metadata": {},
     "output_type": "display_data"
    },
    {
     "name": "stdout",
     "output_type": "stream",
     "text": [
      "\n",
      "347\n",
      "현재 :  타이틀리그피씨카페\n",
      "현재 크롤링이 진행중인 검색어 : 타이틀리그피씨카페\n",
      "펼칠 리뷰가 없다.\n"
     ]
    },
    {
     "data": {
      "application/vnd.jupyter.widget-view+json": {
       "model_id": "b10b917ae2664d37a008a4bfdfe71306",
       "version_major": 2,
       "version_minor": 0
      },
      "text/plain": [
       "리뷰수집중:   0%|          | 0/7 [00:00<?, ?it/s]"
      ]
     },
     "metadata": {},
     "output_type": "display_data"
    },
    {
     "name": "stdout",
     "output_type": "stream",
     "text": [
      "\n",
      "348\n",
      "현재 :  에이바우트커피연북로점\n",
      "현재 크롤링이 진행중인 검색어 : 에이바우트커피연북로점\n"
     ]
    },
    {
     "data": {
      "application/vnd.jupyter.widget-view+json": {
       "model_id": "c526f21ff88d4f3e81ab53c17470bd00",
       "version_major": 2,
       "version_minor": 0
      },
      "text/plain": [
       "  0%|          | 0/5 [00:00<?, ?it/s]"
      ]
     },
     "metadata": {},
     "output_type": "display_data"
    },
    {
     "data": {
      "application/vnd.jupyter.widget-view+json": {
       "model_id": "00dcc9086ff64f2884e1b900beb7a810",
       "version_major": 2,
       "version_minor": 0
      },
      "text/plain": [
       "리뷰수집중:   0%|          | 0/164 [00:00<?, ?it/s]"
      ]
     },
     "metadata": {},
     "output_type": "display_data"
    },
    {
     "name": "stdout",
     "output_type": "stream",
     "text": [
      "\n",
      "349\n",
      "현재 :  제주앨리스연동점\n",
      "현재 크롤링이 진행중인 검색어 : 제주앨리스연동점\n"
     ]
    },
    {
     "data": {
      "application/vnd.jupyter.widget-view+json": {
       "model_id": "66b247e59ce74217a8be67958ee2ad20",
       "version_major": 2,
       "version_minor": 0
      },
      "text/plain": [
       "  0%|          | 0/13 [00:00<?, ?it/s]"
      ]
     },
     "metadata": {},
     "output_type": "display_data"
    },
    {
     "data": {
      "application/vnd.jupyter.widget-view+json": {
       "model_id": "143e440e5d2a4e01893ed59ec84ba7d8",
       "version_major": 2,
       "version_minor": 0
      },
      "text/plain": [
       "리뷰수집중:   0%|          | 0/59 [00:00<?, ?it/s]"
      ]
     },
     "metadata": {},
     "output_type": "display_data"
    },
    {
     "name": "stdout",
     "output_type": "stream",
     "text": [
      "\n",
      "350\n",
      "현재 :  에이바우트커피삼무공원점\n",
      "현재 크롤링이 진행중인 검색어 : 에이바우트커피삼무공원점\n"
     ]
    },
    {
     "data": {
      "application/vnd.jupyter.widget-view+json": {
       "model_id": "aad0067173bf44d18c2a0d0cb4c11600",
       "version_major": 2,
       "version_minor": 0
      },
      "text/plain": [
       "  0%|          | 0/14 [00:00<?, ?it/s]"
      ]
     },
     "metadata": {},
     "output_type": "display_data"
    },
    {
     "data": {
      "application/vnd.jupyter.widget-view+json": {
       "model_id": "4717323e37a243798f0c527ac8f36020",
       "version_major": 2,
       "version_minor": 0
      },
      "text/plain": [
       "리뷰수집중:   0%|          | 0/293 [00:00<?, ?it/s]"
      ]
     },
     "metadata": {},
     "output_type": "display_data"
    },
    {
     "name": "stdout",
     "output_type": "stream",
     "text": [
      "\n",
      "351\n",
      "현재 :  카페토스피아제주연동점\n",
      "현재 크롤링이 진행중인 검색어 : 카페토스피아제주연동점\n",
      "펼칠 리뷰가 없다.\n"
     ]
    },
    {
     "data": {
      "application/vnd.jupyter.widget-view+json": {
       "model_id": "6f584cfe6ba84b8cb2cec60e573f604f",
       "version_major": 2,
       "version_minor": 0
      },
      "text/plain": [
       "  0%|          | 0/1 [00:00<?, ?it/s]"
      ]
     },
     "metadata": {},
     "output_type": "display_data"
    },
    {
     "data": {
      "application/vnd.jupyter.widget-view+json": {
       "model_id": "baa9ca2a1e0a49eba2bdc1329ed7cf5e",
       "version_major": 2,
       "version_minor": 0
      },
      "text/plain": [
       "리뷰수집중:   0%|          | 0/9 [00:00<?, ?it/s]"
      ]
     },
     "metadata": {},
     "output_type": "display_data"
    },
    {
     "name": "stdout",
     "output_type": "stream",
     "text": [
      "\n",
      "352\n",
      "현재 :  국제꿀꽈배기\n",
      "현재 크롤링이 진행중인 검색어 : 국제꿀꽈배기\n"
     ]
    },
    {
     "data": {
      "application/vnd.jupyter.widget-view+json": {
       "model_id": "2e9e553ea5ef4a23838a4ea0feedeee1",
       "version_major": 2,
       "version_minor": 0
      },
      "text/plain": [
       "리뷰수집중:   0%|          | 0/49 [00:00<?, ?it/s]"
      ]
     },
     "metadata": {},
     "output_type": "display_data"
    },
    {
     "name": "stdout",
     "output_type": "stream",
     "text": [
      "\n",
      "353\n",
      "현재 :  씨유제주연미길점\n",
      "현재 크롤링이 진행중인 검색어 : 씨유제주연미길점\n"
     ]
    },
    {
     "data": {
      "application/vnd.jupyter.widget-view+json": {
       "model_id": "3fe7d5f9382b47a496b903a723c06cba",
       "version_major": 2,
       "version_minor": 0
      },
      "text/plain": [
       "  0%|          | 0/1 [00:00<?, ?it/s]"
      ]
     },
     "metadata": {},
     "output_type": "display_data"
    },
    {
     "data": {
      "application/vnd.jupyter.widget-view+json": {
       "model_id": "2eb88396b5d0408785a6011342f5b68a",
       "version_major": 2,
       "version_minor": 0
      },
      "text/plain": [
       "리뷰수집중:   0%|          | 0/39 [00:00<?, ?it/s]"
      ]
     },
     "metadata": {},
     "output_type": "display_data"
    },
    {
     "name": "stdout",
     "output_type": "stream",
     "text": [
      "\n",
      "354\n",
      "현재 :  트립1849\n",
      "현재 크롤링이 진행중인 검색어 : 트립1849\n"
     ]
    },
    {
     "data": {
      "application/vnd.jupyter.widget-view+json": {
       "model_id": "3d56c23cb66d4774a975771fede29e5b",
       "version_major": 2,
       "version_minor": 0
      },
      "text/plain": [
       "  0%|          | 0/27 [00:00<?, ?it/s]"
      ]
     },
     "metadata": {},
     "output_type": "display_data"
    },
    {
     "data": {
      "application/vnd.jupyter.widget-view+json": {
       "model_id": "644489e452b243afa2804bfdf3e8d94f",
       "version_major": 2,
       "version_minor": 0
      },
      "text/plain": [
       "리뷰수집중:   0%|          | 0/115 [00:00<?, ?it/s]"
      ]
     },
     "metadata": {},
     "output_type": "display_data"
    },
    {
     "name": "stdout",
     "output_type": "stream",
     "text": [
      "\n",
      "355\n",
      "현재 :  해를품은달\n",
      "현재 크롤링이 진행중인 검색어 : 해를품은달\n"
     ]
    },
    {
     "data": {
      "application/vnd.jupyter.widget-view+json": {
       "model_id": "0936732d8f8746a39c3dbee9a567eb11",
       "version_major": 2,
       "version_minor": 0
      },
      "text/plain": [
       "  0%|          | 0/2 [00:00<?, ?it/s]"
      ]
     },
     "metadata": {},
     "output_type": "display_data"
    },
    {
     "data": {
      "application/vnd.jupyter.widget-view+json": {
       "model_id": "eca0a6d7a8bc425294f7a73a3a0bbaaa",
       "version_major": 2,
       "version_minor": 0
      },
      "text/plain": [
       "리뷰수집중:   0%|          | 0/97 [00:00<?, ?it/s]"
      ]
     },
     "metadata": {},
     "output_type": "display_data"
    },
    {
     "name": "stdout",
     "output_type": "stream",
     "text": [
      "\n",
      "356\n",
      "현재 :  오빠생각타코야끼\n",
      "현재 크롤링이 진행중인 검색어 : 오빠생각타코야끼\n"
     ]
    },
    {
     "data": {
      "application/vnd.jupyter.widget-view+json": {
       "model_id": "2bd2693470144b88b4e38c003b37f612",
       "version_major": 2,
       "version_minor": 0
      },
      "text/plain": [
       "  0%|          | 0/4 [00:00<?, ?it/s]"
      ]
     },
     "metadata": {},
     "output_type": "display_data"
    },
    {
     "data": {
      "application/vnd.jupyter.widget-view+json": {
       "model_id": "6e217610f69443b2aa74aecea45995d3",
       "version_major": 2,
       "version_minor": 0
      },
      "text/plain": [
       "리뷰수집중:   0%|          | 0/31 [00:00<?, ?it/s]"
      ]
     },
     "metadata": {},
     "output_type": "display_data"
    },
    {
     "name": "stdout",
     "output_type": "stream",
     "text": [
      "\n",
      "357\n",
      "현재 :  감성커피연동점\n",
      "현재 크롤링이 진행중인 검색어 : 감성커피연동점\n"
     ]
    },
    {
     "data": {
      "application/vnd.jupyter.widget-view+json": {
       "model_id": "714ebd2f7e224d3fbb315f81efd57dab",
       "version_major": 2,
       "version_minor": 0
      },
      "text/plain": [
       "리뷰수집중:   0%|          | 0/21 [00:00<?, ?it/s]"
      ]
     },
     "metadata": {},
     "output_type": "display_data"
    },
    {
     "name": "stdout",
     "output_type": "stream",
     "text": [
      "\n",
      "358\n",
      "현재 :  지에스25연동베스트점\n",
      "현재 크롤링이 진행중인 검색어 : 지에스25연동베스트점\n"
     ]
    },
    {
     "data": {
      "application/vnd.jupyter.widget-view+json": {
       "model_id": "68b45e0e2fc6483cb485f9c768355bff",
       "version_major": 2,
       "version_minor": 0
      },
      "text/plain": [
       "  0%|          | 0/2 [00:00<?, ?it/s]"
      ]
     },
     "metadata": {},
     "output_type": "display_data"
    },
    {
     "data": {
      "application/vnd.jupyter.widget-view+json": {
       "model_id": "5dc2d3c8d4e040808c74300d866ce2c0",
       "version_major": 2,
       "version_minor": 0
      },
      "text/plain": [
       "리뷰수집중:   0%|          | 0/57 [00:00<?, ?it/s]"
      ]
     },
     "metadata": {},
     "output_type": "display_data"
    },
    {
     "name": "stdout",
     "output_type": "stream",
     "text": [
      "\n",
      "359\n",
      "현재 :  지에스25연동은수길점\n",
      "현재 크롤링이 진행중인 검색어 : 지에스25연동은수길점\n"
     ]
    },
    {
     "data": {
      "application/vnd.jupyter.widget-view+json": {
       "model_id": "a6110e490199496ea397298c16e3ed8e",
       "version_major": 2,
       "version_minor": 0
      },
      "text/plain": [
       "리뷰수집중:   0%|          | 0/137 [00:00<?, ?it/s]"
      ]
     },
     "metadata": {},
     "output_type": "display_data"
    },
    {
     "name": "stdout",
     "output_type": "stream",
     "text": [
      "\n",
      "360\n",
      "현재 :  감성커피한라병원점\n",
      "현재 크롤링이 진행중인 검색어 : 감성커피한라병원점\n"
     ]
    },
    {
     "data": {
      "application/vnd.jupyter.widget-view+json": {
       "model_id": "8a9921f645544f0295fc13af0f7c53ce",
       "version_major": 2,
       "version_minor": 0
      },
      "text/plain": [
       "  0%|          | 0/1 [00:00<?, ?it/s]"
      ]
     },
     "metadata": {},
     "output_type": "display_data"
    },
    {
     "data": {
      "application/vnd.jupyter.widget-view+json": {
       "model_id": "434dabe2a545428d8c717d5e507bd12c",
       "version_major": 2,
       "version_minor": 0
      },
      "text/plain": [
       "리뷰수집중:   0%|          | 0/111 [00:16<?, ?it/s]"
      ]
     },
     "metadata": {},
     "output_type": "display_data"
    },
    {
     "name": "stdout",
     "output_type": "stream",
     "text": [
      "\n",
      "361\n",
      "현재 :  씨유제주국기점\n",
      "현재 크롤링이 진행중인 검색어 : 씨유제주국기점\n"
     ]
    },
    {
     "data": {
      "application/vnd.jupyter.widget-view+json": {
       "model_id": "479b998189ff4ed79694fea01e6decf2",
       "version_major": 2,
       "version_minor": 0
      },
      "text/plain": [
       "리뷰수집중:   0%|          | 0/51 [00:00<?, ?it/s]"
      ]
     },
     "metadata": {},
     "output_type": "display_data"
    },
    {
     "name": "stdout",
     "output_type": "stream",
     "text": [
      "\n",
      "362\n",
      "현재 :  크로플덕오리아가씨제주점\n",
      "현재 크롤링이 진행중인 검색어 : 크로플덕오리아가씨제주점\n",
      "펼칠 리뷰가 없다.\n"
     ]
    },
    {
     "data": {
      "application/vnd.jupyter.widget-view+json": {
       "model_id": "cf583418809641499de65c5707646158",
       "version_major": 2,
       "version_minor": 0
      },
      "text/plain": [
       "리뷰수집중:   0%|          | 0/5 [00:00<?, ?it/s]"
      ]
     },
     "metadata": {},
     "output_type": "display_data"
    },
    {
     "name": "stdout",
     "output_type": "stream",
     "text": [
      "\n",
      "363\n",
      "현재 :  세븐일레븐제주에코블루점\n",
      "현재 크롤링이 진행중인 검색어 : 세븐일레븐제주에코블루점\n"
     ]
    },
    {
     "data": {
      "application/vnd.jupyter.widget-view+json": {
       "model_id": "dfd3ccbb41384ff19ee8bae9d62a17fa",
       "version_major": 2,
       "version_minor": 0
      },
      "text/plain": [
       "리뷰수집중:   0%|          | 0/16 [00:04<?, ?it/s]"
      ]
     },
     "metadata": {},
     "output_type": "display_data"
    },
    {
     "name": "stdout",
     "output_type": "stream",
     "text": [
      "\n",
      "364\n",
      "현재 :  지미네커피\n",
      "현재 크롤링이 진행중인 검색어 : 지미네커피\n"
     ]
    },
    {
     "data": {
      "application/vnd.jupyter.widget-view+json": {
       "model_id": "8a6a0b14b7594166a73c87430d11434f",
       "version_major": 2,
       "version_minor": 0
      },
      "text/plain": [
       "  0%|          | 0/3 [00:00<?, ?it/s]"
      ]
     },
     "metadata": {},
     "output_type": "display_data"
    },
    {
     "data": {
      "application/vnd.jupyter.widget-view+json": {
       "model_id": "0fb5ef0fce9149049a4d588c20889672",
       "version_major": 2,
       "version_minor": 0
      },
      "text/plain": [
       "리뷰수집중:   0%|          | 0/20 [00:00<?, ?it/s]"
      ]
     },
     "metadata": {},
     "output_type": "display_data"
    },
    {
     "name": "stdout",
     "output_type": "stream",
     "text": [
      "\n",
      "365\n",
      "현재 :  비마이볼\n",
      "현재 크롤링이 진행중인 검색어 : 비마이볼\n"
     ]
    },
    {
     "data": {
      "application/vnd.jupyter.widget-view+json": {
       "model_id": "4fd0f2faa53c444682e5d450b5162708",
       "version_major": 2,
       "version_minor": 0
      },
      "text/plain": [
       "  0%|          | 0/24 [00:00<?, ?it/s]"
      ]
     },
     "metadata": {},
     "output_type": "display_data"
    },
    {
     "data": {
      "application/vnd.jupyter.widget-view+json": {
       "model_id": "38676c8b4a874d80aa5f89e592c7ca65",
       "version_major": 2,
       "version_minor": 0
      },
      "text/plain": [
       "리뷰수집중:   0%|          | 0/64 [00:00<?, ?it/s]"
      ]
     },
     "metadata": {},
     "output_type": "display_data"
    },
    {
     "name": "stdout",
     "output_type": "stream",
     "text": [
      "\n",
      "366\n",
      "현재 :  에이바우트한라수목원점\n",
      "현재 크롤링이 진행중인 검색어 : 에이바우트한라수목원점\n"
     ]
    },
    {
     "data": {
      "application/vnd.jupyter.widget-view+json": {
       "model_id": "1d8b9f0ee85940718e7a6cf37317c196",
       "version_major": 2,
       "version_minor": 0
      },
      "text/plain": [
       "  0%|          | 0/15 [00:00<?, ?it/s]"
      ]
     },
     "metadata": {},
     "output_type": "display_data"
    },
    {
     "data": {
      "application/vnd.jupyter.widget-view+json": {
       "model_id": "1f87b6b240c14a13983ad1e57e70c3fe",
       "version_major": 2,
       "version_minor": 0
      },
      "text/plain": [
       "리뷰수집중:   0%|          | 0/218 [00:00<?, ?it/s]"
      ]
     },
     "metadata": {},
     "output_type": "display_data"
    },
    {
     "name": "stdout",
     "output_type": "stream",
     "text": [
      "\n",
      "367\n",
      "현재 :  씨유제주남해오네뜨점\n",
      "현재 크롤링이 진행중인 검색어 : 씨유제주남해오네뜨점\n"
     ]
    },
    {
     "data": {
      "application/vnd.jupyter.widget-view+json": {
       "model_id": "4aa7a8dba9c84020b2a009bbdac99432",
       "version_major": 2,
       "version_minor": 0
      },
      "text/plain": [
       "리뷰수집중:   0%|          | 0/33 [00:00<?, ?it/s]"
      ]
     },
     "metadata": {},
     "output_type": "display_data"
    },
    {
     "name": "stdout",
     "output_type": "stream",
     "text": [
      "\n",
      "368\n",
      "현재 :  디저트39제주연동대야점\n",
      "현재 크롤링이 진행중인 검색어 : 디저트39제주연동대야점\n"
     ]
    },
    {
     "data": {
      "application/vnd.jupyter.widget-view+json": {
       "model_id": "00e386f978e44831ab0d30a91f62d1e7",
       "version_major": 2,
       "version_minor": 0
      },
      "text/plain": [
       "  0%|          | 0/11 [00:00<?, ?it/s]"
      ]
     },
     "metadata": {},
     "output_type": "display_data"
    },
    {
     "data": {
      "application/vnd.jupyter.widget-view+json": {
       "model_id": "f35f47a3e4004b059694c4cfbea31640",
       "version_major": 2,
       "version_minor": 0
      },
      "text/plain": [
       "리뷰수집중:   0%|          | 0/114 [00:00<?, ?it/s]"
      ]
     },
     "metadata": {},
     "output_type": "display_data"
    },
    {
     "name": "stdout",
     "output_type": "stream",
     "text": [
      "\n",
      "369\n",
      "현재 :  제주연동긱스타빽다방\n",
      "현재 크롤링이 진행중인 검색어 : 제주연동긱스타빽다방\n"
     ]
    },
    {
     "data": {
      "application/vnd.jupyter.widget-view+json": {
       "model_id": "c72a4cde56584d74892ed3ab71be639d",
       "version_major": 2,
       "version_minor": 0
      },
      "text/plain": [
       "  0%|          | 0/3 [00:00<?, ?it/s]"
      ]
     },
     "metadata": {},
     "output_type": "display_data"
    },
    {
     "data": {
      "application/vnd.jupyter.widget-view+json": {
       "model_id": "8e0a520cc4eb49298972c482b916c87b",
       "version_major": 2,
       "version_minor": 0
      },
      "text/plain": [
       "리뷰수집중:   0%|          | 0/96 [00:00<?, ?it/s]"
      ]
     },
     "metadata": {},
     "output_type": "display_data"
    },
    {
     "name": "stdout",
     "output_type": "stream",
     "text": [
      "\n",
      "370\n",
      "현재 :  원더캣츠\n",
      "현재 크롤링이 진행중인 검색어 : 원더캣츠\n"
     ]
    },
    {
     "data": {
      "application/vnd.jupyter.widget-view+json": {
       "model_id": "41ee364b5c544d92b4c3748de0d732f2",
       "version_major": 2,
       "version_minor": 0
      },
      "text/plain": [
       "  0%|          | 0/1 [00:00<?, ?it/s]"
      ]
     },
     "metadata": {},
     "output_type": "display_data"
    },
    {
     "data": {
      "application/vnd.jupyter.widget-view+json": {
       "model_id": "4e5fa83ecd084348bfecc6509f830e45",
       "version_major": 2,
       "version_minor": 0
      },
      "text/plain": [
       "리뷰수집중:   0%|          | 0/13 [00:00<?, ?it/s]"
      ]
     },
     "metadata": {},
     "output_type": "display_data"
    },
    {
     "name": "stdout",
     "output_type": "stream",
     "text": [
      "\n",
      "371\n",
      "현재 :  빅브라더\n",
      "현재 크롤링이 진행중인 검색어 : 빅브라더\n",
      "펼칠 리뷰가 없다.\n"
     ]
    },
    {
     "data": {
      "application/vnd.jupyter.widget-view+json": {
       "model_id": "95867ec6967742979744aca066838e8d",
       "version_major": 2,
       "version_minor": 0
      },
      "text/plain": [
       "  0%|          | 0/2 [00:00<?, ?it/s]"
      ]
     },
     "metadata": {},
     "output_type": "display_data"
    },
    {
     "data": {
      "application/vnd.jupyter.widget-view+json": {
       "model_id": "a9451de5e942440cb2b94d64692ff311",
       "version_major": 2,
       "version_minor": 0
      },
      "text/plain": [
       "리뷰수집중:   0%|          | 0/10 [00:00<?, ?it/s]"
      ]
     },
     "metadata": {},
     "output_type": "display_data"
    },
    {
     "name": "stdout",
     "output_type": "stream",
     "text": [
      "\n",
      "372\n",
      "현재 :  봄봄카페오일장점\n",
      "현재 크롤링이 진행중인 검색어 : 봄봄카페오일장점\n"
     ]
    },
    {
     "data": {
      "application/vnd.jupyter.widget-view+json": {
       "model_id": "801bb1bc16f74f6ea85e420a86b07b06",
       "version_major": 2,
       "version_minor": 0
      },
      "text/plain": [
       "  0%|          | 0/3 [00:00<?, ?it/s]"
      ]
     },
     "metadata": {},
     "output_type": "display_data"
    },
    {
     "data": {
      "application/vnd.jupyter.widget-view+json": {
       "model_id": "779e1737d10449e7878590a8a3c63b45",
       "version_major": 2,
       "version_minor": 0
      },
      "text/plain": [
       "리뷰수집중:   0%|          | 0/36 [00:00<?, ?it/s]"
      ]
     },
     "metadata": {},
     "output_type": "display_data"
    },
    {
     "name": "stdout",
     "output_type": "stream",
     "text": [
      "\n",
      "373\n",
      "현재 :  빽다방제주연동사거리점\n",
      "현재 크롤링이 진행중인 검색어 : 빽다방제주연동사거리점\n"
     ]
    },
    {
     "data": {
      "application/vnd.jupyter.widget-view+json": {
       "model_id": "574e909c5fd24618853b601645bc78d5",
       "version_major": 2,
       "version_minor": 0
      },
      "text/plain": [
       "  0%|          | 0/6 [00:00<?, ?it/s]"
      ]
     },
     "metadata": {},
     "output_type": "display_data"
    },
    {
     "data": {
      "application/vnd.jupyter.widget-view+json": {
       "model_id": "17991fa4851c45e08633fa6eaaacb2b5",
       "version_major": 2,
       "version_minor": 0
      },
      "text/plain": [
       "리뷰수집중:   0%|          | 0/165 [00:00<?, ?it/s]"
      ]
     },
     "metadata": {},
     "output_type": "display_data"
    },
    {
     "name": "stdout",
     "output_type": "stream",
     "text": [
      "\n",
      "374\n",
      "현재 :  줄리브신제주점\n",
      "현재 크롤링이 진행중인 검색어 : 줄리브신제주점\n"
     ]
    },
    {
     "data": {
      "application/vnd.jupyter.widget-view+json": {
       "model_id": "2ea69a339a5846dab42bd26cde188490",
       "version_major": 2,
       "version_minor": 0
      },
      "text/plain": [
       "  0%|          | 0/27 [00:00<?, ?it/s]"
      ]
     },
     "metadata": {},
     "output_type": "display_data"
    },
    {
     "data": {
      "application/vnd.jupyter.widget-view+json": {
       "model_id": "7ca03ce3903e4c6e8537c0634600b59f",
       "version_major": 2,
       "version_minor": 0
      },
      "text/plain": [
       "리뷰수집중:   0%|          | 0/115 [00:00<?, ?it/s]"
      ]
     },
     "metadata": {},
     "output_type": "display_data"
    },
    {
     "name": "stdout",
     "output_type": "stream",
     "text": [
      "\n",
      "375\n",
      "현재 :  노기다제주특별자치도의회점\n",
      "현재 크롤링이 진행중인 검색어 : 노기다제주특별자치도의회점\n"
     ]
    },
    {
     "data": {
      "application/vnd.jupyter.widget-view+json": {
       "model_id": "1211f3fbc1c34277b2a77807057000b6",
       "version_major": 2,
       "version_minor": 0
      },
      "text/plain": [
       "리뷰수집중:   0%|          | 0/12 [00:00<?, ?it/s]"
      ]
     },
     "metadata": {},
     "output_type": "display_data"
    },
    {
     "name": "stdout",
     "output_type": "stream",
     "text": [
      "\n",
      "376\n",
      "현재 :  샌드잇츠\n",
      "현재 크롤링이 진행중인 검색어 : 샌드잇츠\n"
     ]
    },
    {
     "data": {
      "application/vnd.jupyter.widget-view+json": {
       "model_id": "f2a80b34cfbb4b199808cba65b73ac83",
       "version_major": 2,
       "version_minor": 0
      },
      "text/plain": [
       "  0%|          | 0/6 [00:04<?, ?it/s]"
      ]
     },
     "metadata": {},
     "output_type": "display_data"
    },
    {
     "data": {
      "application/vnd.jupyter.widget-view+json": {
       "model_id": "0327fbc6a2534ecfb8b0e2d3701d4982",
       "version_major": 2,
       "version_minor": 0
      },
      "text/plain": [
       "리뷰수집중:   0%|          | 0/65 [00:00<?, ?it/s]"
      ]
     },
     "metadata": {},
     "output_type": "display_data"
    },
    {
     "name": "stdout",
     "output_type": "stream",
     "text": [
      "\n",
      "377\n",
      "현재 :  앤유피시방신제주점\n",
      "현재 크롤링이 진행중인 검색어 : 앤유피시방신제주점\n",
      "펼칠 리뷰가 없다.\n"
     ]
    },
    {
     "data": {
      "application/vnd.jupyter.widget-view+json": {
       "model_id": "3cd24a0d08da4bcfbf13e5d4f46cf826",
       "version_major": 2,
       "version_minor": 0
      },
      "text/plain": [
       "리뷰수집중:   0%|          | 0/2 [00:00<?, ?it/s]"
      ]
     },
     "metadata": {},
     "output_type": "display_data"
    },
    {
     "name": "stdout",
     "output_type": "stream",
     "text": [
      "\n",
      "378\n",
      "현재 :  배스킨라빈스제주도청점\n",
      "현재 크롤링이 진행중인 검색어 : 배스킨라빈스제주도청점\n"
     ]
    },
    {
     "data": {
      "application/vnd.jupyter.widget-view+json": {
       "model_id": "e2c6bccf7a55446f82a1bcd89edaa1b1",
       "version_major": 2,
       "version_minor": 0
      },
      "text/plain": [
       "  0%|          | 0/9 [00:04<?, ?it/s]"
      ]
     },
     "metadata": {},
     "output_type": "display_data"
    },
    {
     "data": {
      "application/vnd.jupyter.widget-view+json": {
       "model_id": "eaff3538628543b5a22f919c9bf3e7aa",
       "version_major": 2,
       "version_minor": 0
      },
      "text/plain": [
       "리뷰수집중:   0%|          | 0/149 [00:00<?, ?it/s]"
      ]
     },
     "metadata": {},
     "output_type": "display_data"
    },
    {
     "name": "stdout",
     "output_type": "stream",
     "text": [
      "\n",
      "379\n",
      "현재 :  커피핌\n",
      "현재 크롤링이 진행중인 검색어 : 커피핌\n"
     ]
    },
    {
     "data": {
      "application/vnd.jupyter.widget-view+json": {
       "model_id": "0eba43b9870240df9f57d387402a5e9d",
       "version_major": 2,
       "version_minor": 0
      },
      "text/plain": [
       "  0%|          | 0/1 [00:00<?, ?it/s]"
      ]
     },
     "metadata": {},
     "output_type": "display_data"
    },
    {
     "data": {
      "application/vnd.jupyter.widget-view+json": {
       "model_id": "d440a031d3ac4ccb8474e8a729752500",
       "version_major": 2,
       "version_minor": 0
      },
      "text/plain": [
       "리뷰수집중:   0%|          | 0/12 [00:00<?, ?it/s]"
      ]
     },
     "metadata": {},
     "output_type": "display_data"
    },
    {
     "name": "stdout",
     "output_type": "stream",
     "text": [
      "\n",
      "380\n",
      "현재 :  아임누\n",
      "현재 크롤링이 진행중인 검색어 : 아임누\n"
     ]
    },
    {
     "data": {
      "application/vnd.jupyter.widget-view+json": {
       "model_id": "fd03e86133e749a4b8641b2f0b7befbb",
       "version_major": 2,
       "version_minor": 0
      },
      "text/plain": [
       "리뷰수집중:   0%|          | 0/12 [00:00<?, ?it/s]"
      ]
     },
     "metadata": {},
     "output_type": "display_data"
    },
    {
     "name": "stdout",
     "output_type": "stream",
     "text": [
      "\n",
      "381\n",
      "현재 :  디오커피랩\n",
      "현재 크롤링이 진행중인 검색어 : 디오커피랩\n"
     ]
    },
    {
     "data": {
      "application/vnd.jupyter.widget-view+json": {
       "model_id": "bc27f3b90124459a8e9dcef164da1614",
       "version_major": 2,
       "version_minor": 0
      },
      "text/plain": [
       "  0%|          | 0/20 [00:04<?, ?it/s]"
      ]
     },
     "metadata": {},
     "output_type": "display_data"
    },
    {
     "data": {
      "application/vnd.jupyter.widget-view+json": {
       "model_id": "1dbcf31e4a1a45598561390f05732513",
       "version_major": 2,
       "version_minor": 0
      },
      "text/plain": [
       "리뷰수집중:   0%|          | 0/40 [00:00<?, ?it/s]"
      ]
     },
     "metadata": {},
     "output_type": "display_data"
    },
    {
     "name": "stdout",
     "output_type": "stream",
     "text": [
      "\n",
      "382\n",
      "현재 :  봄봄신제주점\n",
      "현재 크롤링이 진행중인 검색어 : 봄봄신제주점\n"
     ]
    },
    {
     "data": {
      "application/vnd.jupyter.widget-view+json": {
       "model_id": "d427a07c59ff4db99f9e978eec1f562b",
       "version_major": 2,
       "version_minor": 0
      },
      "text/plain": [
       "  0%|          | 0/1 [00:00<?, ?it/s]"
      ]
     },
     "metadata": {},
     "output_type": "display_data"
    },
    {
     "data": {
      "application/vnd.jupyter.widget-view+json": {
       "model_id": "4351839aae1d42d3a03e41d7de810022",
       "version_major": 2,
       "version_minor": 0
      },
      "text/plain": [
       "리뷰수집중:   0%|          | 0/22 [00:00<?, ?it/s]"
      ]
     },
     "metadata": {},
     "output_type": "display_data"
    },
    {
     "name": "stdout",
     "output_type": "stream",
     "text": [
      "\n",
      "383\n",
      "현재 :  헬시바비\n",
      "현재 크롤링이 진행중인 검색어 : 헬시바비\n",
      "\n",
      "384\n",
      "현재 :  이룸갤러리카페\n",
      "현재 크롤링이 진행중인 검색어 : 이룸갤러리카페\n"
     ]
    },
    {
     "data": {
      "application/vnd.jupyter.widget-view+json": {
       "model_id": "22ec17880c1d4584a7a48f5412758a98",
       "version_major": 2,
       "version_minor": 0
      },
      "text/plain": [
       "  0%|          | 0/8 [00:00<?, ?it/s]"
      ]
     },
     "metadata": {},
     "output_type": "display_data"
    },
    {
     "data": {
      "application/vnd.jupyter.widget-view+json": {
       "model_id": "41e4109d0fb44ccdad85e5df7da83834",
       "version_major": 2,
       "version_minor": 0
      },
      "text/plain": [
       "리뷰수집중:   0%|          | 0/33 [00:00<?, ?it/s]"
      ]
     },
     "metadata": {},
     "output_type": "display_data"
    },
    {
     "name": "stdout",
     "output_type": "stream",
     "text": [
      "\n",
      "385\n",
      "현재 :  읍천리382제주연동점\n",
      "현재 크롤링이 진행중인 검색어 : 읍천리382제주연동점\n"
     ]
    },
    {
     "data": {
      "application/vnd.jupyter.widget-view+json": {
       "model_id": "5f5e25d6151b4a49b8a77cf849e50d86",
       "version_major": 2,
       "version_minor": 0
      },
      "text/plain": [
       "  0%|          | 0/3 [00:00<?, ?it/s]"
      ]
     },
     "metadata": {},
     "output_type": "display_data"
    },
    {
     "data": {
      "application/vnd.jupyter.widget-view+json": {
       "model_id": "3594dea0b67c472cb9e1c334c5f446be",
       "version_major": 2,
       "version_minor": 0
      },
      "text/plain": [
       "리뷰수집중:   0%|          | 0/20 [00:20<?, ?it/s]"
      ]
     },
     "metadata": {},
     "output_type": "display_data"
    },
    {
     "name": "stdout",
     "output_type": "stream",
     "text": [
      "\n",
      "386\n",
      "현재 :  샐러두잇\n",
      "현재 크롤링이 진행중인 검색어 : 샐러두잇\n"
     ]
    },
    {
     "data": {
      "application/vnd.jupyter.widget-view+json": {
       "model_id": "ca44b22a4ec0439faceb222c00411e99",
       "version_major": 2,
       "version_minor": 0
      },
      "text/plain": [
       "  0%|          | 0/4 [00:00<?, ?it/s]"
      ]
     },
     "metadata": {},
     "output_type": "display_data"
    },
    {
     "data": {
      "application/vnd.jupyter.widget-view+json": {
       "model_id": "7c7f02c3b8334dcdb4c9d69863226b77",
       "version_major": 2,
       "version_minor": 0
      },
      "text/plain": [
       "리뷰수집중:   0%|          | 0/19 [00:00<?, ?it/s]"
      ]
     },
     "metadata": {},
     "output_type": "display_data"
    },
    {
     "name": "stdout",
     "output_type": "stream",
     "text": [
      "\n",
      "387\n",
      "현재 :  오마이파운드\n",
      "현재 크롤링이 진행중인 검색어 : 오마이파운드\n"
     ]
    },
    {
     "data": {
      "application/vnd.jupyter.widget-view+json": {
       "model_id": "9dde39c26b6c49779619279d57952711",
       "version_major": 2,
       "version_minor": 0
      },
      "text/plain": [
       "  0%|          | 0/84 [00:00<?, ?it/s]"
      ]
     },
     "metadata": {},
     "output_type": "display_data"
    },
    {
     "data": {
      "application/vnd.jupyter.widget-view+json": {
       "model_id": "c3ae163a569549849bef51a02c3e5bf5",
       "version_major": 2,
       "version_minor": 0
      },
      "text/plain": [
       "리뷰수집중:   0%|          | 0/225 [00:00<?, ?it/s]"
      ]
     },
     "metadata": {},
     "output_type": "display_data"
    },
    {
     "name": "stdout",
     "output_type": "stream",
     "text": [
      "\n",
      "388\n",
      "현재 :  벌크커피신제주점\n",
      "현재 크롤링이 진행중인 검색어 : 벌크커피신제주점\n"
     ]
    },
    {
     "data": {
      "application/vnd.jupyter.widget-view+json": {
       "model_id": "99d4a2f428664aec8f2bb06381cfadf8",
       "version_major": 2,
       "version_minor": 0
      },
      "text/plain": [
       "  0%|          | 0/5 [00:00<?, ?it/s]"
      ]
     },
     "metadata": {},
     "output_type": "display_data"
    },
    {
     "data": {
      "application/vnd.jupyter.widget-view+json": {
       "model_id": "8fc20eaae13e4d12b926561345604d3f",
       "version_major": 2,
       "version_minor": 0
      },
      "text/plain": [
       "리뷰수집중:   0%|          | 0/87 [00:00<?, ?it/s]"
      ]
     },
     "metadata": {},
     "output_type": "display_data"
    },
    {
     "name": "stdout",
     "output_type": "stream",
     "text": [
      "\n",
      "389\n",
      "현재 :  로드33\n",
      "현재 크롤링이 진행중인 검색어 : 로드33\n"
     ]
    },
    {
     "data": {
      "application/vnd.jupyter.widget-view+json": {
       "model_id": "b6b82bb6acff400ea3da2d622addbf77",
       "version_major": 2,
       "version_minor": 0
      },
      "text/plain": [
       "  0%|          | 0/3 [00:00<?, ?it/s]"
      ]
     },
     "metadata": {},
     "output_type": "display_data"
    },
    {
     "data": {
      "application/vnd.jupyter.widget-view+json": {
       "model_id": "8bcb2d8244a34fc5a9293ebd0e03bbfb",
       "version_major": 2,
       "version_minor": 0
      },
      "text/plain": [
       "리뷰수집중:   0%|          | 0/25 [00:00<?, ?it/s]"
      ]
     },
     "metadata": {},
     "output_type": "display_data"
    },
    {
     "name": "stdout",
     "output_type": "stream",
     "text": [
      "\n",
      "390\n",
      "현재 :  제주휘낭시에\n",
      "현재 크롤링이 진행중인 검색어 : 제주휘낭시에\n"
     ]
    },
    {
     "data": {
      "application/vnd.jupyter.widget-view+json": {
       "model_id": "d9bce1d94b9541bbbdeed3cbd9b009e2",
       "version_major": 2,
       "version_minor": 0
      },
      "text/plain": [
       "  0%|          | 0/14 [00:00<?, ?it/s]"
      ]
     },
     "metadata": {},
     "output_type": "display_data"
    },
    {
     "data": {
      "application/vnd.jupyter.widget-view+json": {
       "model_id": "44366509ad89439ab65368d44bd3d2a8",
       "version_major": 2,
       "version_minor": 0
      },
      "text/plain": [
       "리뷰수집중:   0%|          | 0/128 [00:00<?, ?it/s]"
      ]
     },
     "metadata": {},
     "output_type": "display_data"
    },
    {
     "name": "stdout",
     "output_type": "stream",
     "text": [
      "\n",
      "391\n",
      "현재 :  올래국수\n",
      "현재 크롤링이 진행중인 검색어 : 올래국수\n"
     ]
    },
    {
     "data": {
      "application/vnd.jupyter.widget-view+json": {
       "model_id": "245d5d0a17474d7ebb4fb17e13c2fdba",
       "version_major": 2,
       "version_minor": 0
      },
      "text/plain": [
       "  0%|          | 0/431 [00:00<?, ?it/s]"
      ]
     },
     "metadata": {},
     "output_type": "display_data"
    },
    {
     "data": {
      "application/vnd.jupyter.widget-view+json": {
       "model_id": "51e539c5e1f64675a0bf9d8a84348e82",
       "version_major": 2,
       "version_minor": 0
      },
      "text/plain": [
       "리뷰수집중:   0%|          | 0/2859 [00:00<?, ?it/s]"
      ]
     },
     "metadata": {},
     "output_type": "display_data"
    },
    {
     "name": "stdout",
     "output_type": "stream",
     "text": [
      "\n",
      "392\n",
      "현재 :  원더샌드위치연동점\n",
      "현재 크롤링이 진행중인 검색어 : 원더샌드위치연동점\n",
      "펼칠 리뷰가 없다.\n"
     ]
    },
    {
     "data": {
      "application/vnd.jupyter.widget-view+json": {
       "model_id": "1d1ec737f9294be1bf00e7ff97d507ac",
       "version_major": 2,
       "version_minor": 0
      },
      "text/plain": [
       "리뷰수집중:   0%|          | 0/7 [00:00<?, ?it/s]"
      ]
     },
     "metadata": {},
     "output_type": "display_data"
    },
    {
     "name": "stdout",
     "output_type": "stream",
     "text": [
      "\n",
      "393\n",
      "현재 :  도그헤븐\n",
      "현재 크롤링이 진행중인 검색어 : 도그헤븐\n",
      "펼칠 리뷰가 없다.\n",
      "\n",
      "394\n",
      "현재 :  정직유부제주연동점\n",
      "현재 크롤링이 진행중인 검색어 : 정직유부제주연동점\n"
     ]
    },
    {
     "data": {
      "application/vnd.jupyter.widget-view+json": {
       "model_id": "e89d4ed7324542a2893aa6b35bd17b49",
       "version_major": 2,
       "version_minor": 0
      },
      "text/plain": [
       "  0%|          | 0/4 [00:04<?, ?it/s]"
      ]
     },
     "metadata": {},
     "output_type": "display_data"
    },
    {
     "data": {
      "application/vnd.jupyter.widget-view+json": {
       "model_id": "88f5fb50735841d482e593d76b3279b6",
       "version_major": 2,
       "version_minor": 0
      },
      "text/plain": [
       "리뷰수집중:   0%|          | 0/17 [00:00<?, ?it/s]"
      ]
     },
     "metadata": {},
     "output_type": "display_data"
    },
    {
     "name": "stdout",
     "output_type": "stream",
     "text": [
      "\n",
      "395\n",
      "현재 :  커피커넥쳐스\n",
      "현재 크롤링이 진행중인 검색어 : 커피커넥쳐스\n"
     ]
    },
    {
     "data": {
      "application/vnd.jupyter.widget-view+json": {
       "model_id": "fe7fac28a3034fb7a39bae823ac5eb32",
       "version_major": 2,
       "version_minor": 0
      },
      "text/plain": [
       "  0%|          | 0/4 [00:04<?, ?it/s]"
      ]
     },
     "metadata": {},
     "output_type": "display_data"
    },
    {
     "data": {
      "application/vnd.jupyter.widget-view+json": {
       "model_id": "4993ea662b08444b9ffe4ac4111fb7cf",
       "version_major": 2,
       "version_minor": 0
      },
      "text/plain": [
       "리뷰수집중:   0%|          | 0/25 [00:00<?, ?it/s]"
      ]
     },
     "metadata": {},
     "output_type": "display_data"
    },
    {
     "name": "stdout",
     "output_type": "stream",
     "text": [
      "\n",
      "396\n",
      "현재 :  피그뱅\n",
      "현재 크롤링이 진행중인 검색어 : 피그뱅\n"
     ]
    },
    {
     "data": {
      "application/vnd.jupyter.widget-view+json": {
       "model_id": "0cc3ba9df3af4616acc98dafcb63acc1",
       "version_major": 2,
       "version_minor": 0
      },
      "text/plain": [
       "  0%|          | 0/2 [00:00<?, ?it/s]"
      ]
     },
     "metadata": {},
     "output_type": "display_data"
    },
    {
     "data": {
      "application/vnd.jupyter.widget-view+json": {
       "model_id": "4eafced98ba3447085a6359ac1270dc4",
       "version_major": 2,
       "version_minor": 0
      },
      "text/plain": [
       "리뷰수집중:   0%|          | 0/12 [00:00<?, ?it/s]"
      ]
     },
     "metadata": {},
     "output_type": "display_data"
    },
    {
     "name": "stdout",
     "output_type": "stream",
     "text": [
      "\n",
      "397\n",
      "현재 :  디에이치푸드트럭\n",
      "현재 크롤링이 진행중인 검색어 : 디에이치푸드트럭\n"
     ]
    },
    {
     "data": {
      "application/vnd.jupyter.widget-view+json": {
       "model_id": "d53980e8427a4841be8761044df8f8b7",
       "version_major": 2,
       "version_minor": 0
      },
      "text/plain": [
       "리뷰수집중:   0%|          | 0/24 [00:00<?, ?it/s]"
      ]
     },
     "metadata": {},
     "output_type": "display_data"
    },
    {
     "name": "stdout",
     "output_type": "stream",
     "text": [
      "\n",
      "398\n",
      "현재 :  테이크아웃제주\n",
      "현재 크롤링이 진행중인 검색어 : 테이크아웃제주\n"
     ]
    },
    {
     "data": {
      "application/vnd.jupyter.widget-view+json": {
       "model_id": "87df865473154034ac443466b9828588",
       "version_major": 2,
       "version_minor": 0
      },
      "text/plain": [
       "  0%|          | 0/5 [00:00<?, ?it/s]"
      ]
     },
     "metadata": {},
     "output_type": "display_data"
    },
    {
     "data": {
      "application/vnd.jupyter.widget-view+json": {
       "model_id": "2f75e30b54d5460f886491d6c3045386",
       "version_major": 2,
       "version_minor": 0
      },
      "text/plain": [
       "리뷰수집중:   0%|          | 0/87 [00:00<?, ?it/s]"
      ]
     },
     "metadata": {},
     "output_type": "display_data"
    },
    {
     "name": "stdout",
     "output_type": "stream",
     "text": [
      "\n",
      "399\n",
      "현재 :  달코넛해적단\n",
      "현재 크롤링이 진행중인 검색어 : 달코넛해적단\n"
     ]
    },
    {
     "data": {
      "application/vnd.jupyter.widget-view+json": {
       "model_id": "7f112cc5f36b4c6f8f731b85a8122276",
       "version_major": 2,
       "version_minor": 0
      },
      "text/plain": [
       "  0%|          | 0/1 [00:00<?, ?it/s]"
      ]
     },
     "metadata": {},
     "output_type": "display_data"
    },
    {
     "data": {
      "application/vnd.jupyter.widget-view+json": {
       "model_id": "46414a79d0f14435bba276bd3a2c63bc",
       "version_major": 2,
       "version_minor": 0
      },
      "text/plain": [
       "리뷰수집중:   0%|          | 0/75 [00:00<?, ?it/s]"
      ]
     },
     "metadata": {},
     "output_type": "display_data"
    },
    {
     "name": "stdout",
     "output_type": "stream",
     "text": [
      "\n",
      "400\n",
      "현재 :  서울촌놈인제주\n",
      "현재 크롤링이 진행중인 검색어 : 서울촌놈인제주\n"
     ]
    },
    {
     "data": {
      "application/vnd.jupyter.widget-view+json": {
       "model_id": "f5a158c01f4247efb5a5b5752d820cd4",
       "version_major": 2,
       "version_minor": 0
      },
      "text/plain": [
       "  0%|          | 0/4 [00:00<?, ?it/s]"
      ]
     },
     "metadata": {},
     "output_type": "display_data"
    },
    {
     "data": {
      "application/vnd.jupyter.widget-view+json": {
       "model_id": "9fd72812c0254def98930682703dd6bd",
       "version_major": 2,
       "version_minor": 0
      },
      "text/plain": [
       "리뷰수집중:   0%|          | 0/33 [00:00<?, ?it/s]"
      ]
     },
     "metadata": {},
     "output_type": "display_data"
    },
    {
     "name": "stdout",
     "output_type": "stream",
     "text": [
      "\n",
      "401\n",
      "현재 :  몽돌보롬\n",
      "현재 크롤링이 진행중인 검색어 : 몽돌보롬\n"
     ]
    },
    {
     "data": {
      "application/vnd.jupyter.widget-view+json": {
       "model_id": "34074a19e467426da88aefb0da6c911e",
       "version_major": 2,
       "version_minor": 0
      },
      "text/plain": [
       "  0%|          | 0/1 [00:00<?, ?it/s]"
      ]
     },
     "metadata": {},
     "output_type": "display_data"
    },
    {
     "data": {
      "application/vnd.jupyter.widget-view+json": {
       "model_id": "ea3ef0e648c14ffcab84bc6f55c651a9",
       "version_major": 2,
       "version_minor": 0
      },
      "text/plain": [
       "리뷰수집중:   0%|          | 0/47 [00:00<?, ?it/s]"
      ]
     },
     "metadata": {},
     "output_type": "display_data"
    },
    {
     "name": "stdout",
     "output_type": "stream",
     "text": [
      "\n",
      "402\n",
      "현재 :  와이키키제주\n",
      "현재 크롤링이 진행중인 검색어 : 와이키키제주\n"
     ]
    },
    {
     "data": {
      "application/vnd.jupyter.widget-view+json": {
       "model_id": "de004af27cb9436891daf57aad775c91",
       "version_major": 2,
       "version_minor": 0
      },
      "text/plain": [
       "  0%|          | 0/3 [00:00<?, ?it/s]"
      ]
     },
     "metadata": {},
     "output_type": "display_data"
    },
    {
     "data": {
      "application/vnd.jupyter.widget-view+json": {
       "model_id": "1694020818494e07a0323f86e589bc82",
       "version_major": 2,
       "version_minor": 0
      },
      "text/plain": [
       "리뷰수집중:   0%|          | 0/47 [00:00<?, ?it/s]"
      ]
     },
     "metadata": {},
     "output_type": "display_data"
    },
    {
     "name": "stdout",
     "output_type": "stream",
     "text": [
      "\n",
      "403\n",
      "현재 :  공육사\n",
      "현재 크롤링이 진행중인 검색어 : 공육사\n"
     ]
    },
    {
     "data": {
      "application/vnd.jupyter.widget-view+json": {
       "model_id": "487232d42e754d6e80fee399998a9cb8",
       "version_major": 2,
       "version_minor": 0
      },
      "text/plain": [
       "  0%|          | 0/3 [00:00<?, ?it/s]"
      ]
     },
     "metadata": {},
     "output_type": "display_data"
    },
    {
     "data": {
      "application/vnd.jupyter.widget-view+json": {
       "model_id": "0fb98bd42af744289a396cd3c8c7eddd",
       "version_major": 2,
       "version_minor": 0
      },
      "text/plain": [
       "리뷰수집중:   0%|          | 0/69 [00:00<?, ?it/s]"
      ]
     },
     "metadata": {},
     "output_type": "display_data"
    },
    {
     "name": "stdout",
     "output_type": "stream",
     "text": [
      "\n",
      "404\n",
      "현재 :  씨유제주다들점\n",
      "현재 크롤링이 진행중인 검색어 : 씨유제주다들점\n"
     ]
    },
    {
     "data": {
      "application/vnd.jupyter.widget-view+json": {
       "model_id": "3ad9c67815094aee819ac3ee6d3af6d4",
       "version_major": 2,
       "version_minor": 0
      },
      "text/plain": [
       "  0%|          | 0/2 [00:00<?, ?it/s]"
      ]
     },
     "metadata": {},
     "output_type": "display_data"
    },
    {
     "data": {
      "application/vnd.jupyter.widget-view+json": {
       "model_id": "0363598c68654d2cbc5dcb452899734e",
       "version_major": 2,
       "version_minor": 0
      },
      "text/plain": [
       "리뷰수집중:   0%|          | 0/150 [00:00<?, ?it/s]"
      ]
     },
     "metadata": {},
     "output_type": "display_data"
    },
    {
     "name": "stdout",
     "output_type": "stream",
     "text": [
      "\n",
      "405\n",
      "현재 :  오늘쉐프연동점\n",
      "현재 크롤링이 진행중인 검색어 : 오늘쉐프연동점\n",
      "펼칠 리뷰가 없다.\n"
     ]
    },
    {
     "data": {
      "application/vnd.jupyter.widget-view+json": {
       "model_id": "514727c4cab140268b33bd08ee34d9c4",
       "version_major": 2,
       "version_minor": 0
      },
      "text/plain": [
       "리뷰수집중:   0%|          | 0/7 [00:00<?, ?it/s]"
      ]
     },
     "metadata": {},
     "output_type": "display_data"
    },
    {
     "name": "stdout",
     "output_type": "stream",
     "text": [
      "\n",
      "406\n",
      "현재 :  솔라니빙떡\n",
      "현재 크롤링이 진행중인 검색어 : 솔라니빙떡\n",
      "펼칠 리뷰가 없다.\n"
     ]
    },
    {
     "data": {
      "application/vnd.jupyter.widget-view+json": {
       "model_id": "44d6e5805ae1465ea0a67659a5813bfb",
       "version_major": 2,
       "version_minor": 0
      },
      "text/plain": [
       "리뷰수집중:   0%|          | 0/5 [00:04<?, ?it/s]"
      ]
     },
     "metadata": {},
     "output_type": "display_data"
    },
    {
     "name": "stdout",
     "output_type": "stream",
     "text": [
      "\n",
      "407\n",
      "현재 :  진품꽈배기\n",
      "현재 크롤링이 진행중인 검색어 : 진품꽈배기\n"
     ]
    },
    {
     "data": {
      "application/vnd.jupyter.widget-view+json": {
       "model_id": "0a1489ac4abf447bbdb2d0ad8de397ff",
       "version_major": 2,
       "version_minor": 0
      },
      "text/plain": [
       "  0%|          | 0/35 [00:00<?, ?it/s]"
      ]
     },
     "metadata": {},
     "output_type": "display_data"
    },
    {
     "data": {
      "application/vnd.jupyter.widget-view+json": {
       "model_id": "7501ea78cd744607b15e5f43028bb69e",
       "version_major": 2,
       "version_minor": 0
      },
      "text/plain": [
       "리뷰수집중:   0%|          | 0/100 [00:00<?, ?it/s]"
      ]
     },
     "metadata": {},
     "output_type": "display_data"
    },
    {
     "name": "stdout",
     "output_type": "stream",
     "text": [
      "\n",
      "408\n",
      "현재 :  크라우드피씨방제주삼무점\n",
      "현재 크롤링이 진행중인 검색어 : 크라우드피씨방제주삼무점\n",
      "펼칠 리뷰가 없다.\n"
     ]
    },
    {
     "data": {
      "application/vnd.jupyter.widget-view+json": {
       "model_id": "5c31e7f1bfb340589eff6529a171d8ba",
       "version_major": 2,
       "version_minor": 0
      },
      "text/plain": [
       "리뷰수집중:   0%|          | 0/5 [00:00<?, ?it/s]"
      ]
     },
     "metadata": {},
     "output_type": "display_data"
    },
    {
     "name": "stdout",
     "output_type": "stream",
     "text": [
      "\n",
      "409\n",
      "현재 :  만가복\n",
      "현재 크롤링이 진행중인 검색어 : 만가복\n",
      "펼칠 리뷰가 없다.\n",
      "\n",
      "410\n",
      "현재 :  토라네코제주본점\n",
      "현재 크롤링이 진행중인 검색어 : 토라네코제주본점\n"
     ]
    },
    {
     "data": {
      "application/vnd.jupyter.widget-view+json": {
       "model_id": "bcef27f6b7774a60ba893616b033d4e3",
       "version_major": 2,
       "version_minor": 0
      },
      "text/plain": [
       "  0%|          | 0/28 [00:04<?, ?it/s]"
      ]
     },
     "metadata": {},
     "output_type": "display_data"
    },
    {
     "data": {
      "application/vnd.jupyter.widget-view+json": {
       "model_id": "56f80d2eef3f47c08022ad775377f145",
       "version_major": 2,
       "version_minor": 0
      },
      "text/plain": [
       "리뷰수집중:   0%|          | 0/81 [00:00<?, ?it/s]"
      ]
     },
     "metadata": {},
     "output_type": "display_data"
    },
    {
     "name": "stdout",
     "output_type": "stream",
     "text": [
      "\n",
      "411\n",
      "현재 :  귀아랑2길베이커리카페\n",
      "현재 크롤링이 진행중인 검색어 : 귀아랑2길베이커리카페\n"
     ]
    },
    {
     "data": {
      "application/vnd.jupyter.widget-view+json": {
       "model_id": "a671fb1ef58749f49ec72358a3a9d4b3",
       "version_major": 2,
       "version_minor": 0
      },
      "text/plain": [
       "  0%|          | 0/9 [00:00<?, ?it/s]"
      ]
     },
     "metadata": {},
     "output_type": "display_data"
    },
    {
     "data": {
      "application/vnd.jupyter.widget-view+json": {
       "model_id": "b3fd765e9efd47e09b6e85bcaab8f94b",
       "version_major": 2,
       "version_minor": 0
      },
      "text/plain": [
       "리뷰수집중:   0%|          | 0/27 [00:00<?, ?it/s]"
      ]
     },
     "metadata": {},
     "output_type": "display_data"
    },
    {
     "name": "stdout",
     "output_type": "stream",
     "text": [
      "\n",
      "412\n",
      "현재 :  카페노연로117\n",
      "현재 크롤링이 진행중인 검색어 : 카페노연로117\n"
     ]
    },
    {
     "data": {
      "application/vnd.jupyter.widget-view+json": {
       "model_id": "97b089507e7a43e1bcaaf43a644b645d",
       "version_major": 2,
       "version_minor": 0
      },
      "text/plain": [
       "  0%|          | 0/8 [00:00<?, ?it/s]"
      ]
     },
     "metadata": {},
     "output_type": "display_data"
    },
    {
     "data": {
      "application/vnd.jupyter.widget-view+json": {
       "model_id": "29ed496c40184758ba097c4359ff3d54",
       "version_major": 2,
       "version_minor": 0
      },
      "text/plain": [
       "리뷰수집중:   0%|          | 0/26 [00:00<?, ?it/s]"
      ]
     },
     "metadata": {},
     "output_type": "display_data"
    },
    {
     "name": "stdout",
     "output_type": "stream",
     "text": [
      "\n",
      "------------------------------------------------------------\n",
      "종료\n"
     ]
    },
    {
     "name": "stderr",
     "output_type": "stream",
     "text": [
      "D:\\anaconda3\\lib\\site-packages\\xlsxwriter\\worksheet.py:1179: UserWarning: Ignoring URL 'https://m.place.naver.com/my/5efdf8e467c6d4320f56f8a8/review?v=2' since it exceeds Excel's limit of 65,530 URLS per worksheet.\n",
      "  warn(\"Ignoring URL '%s' since it exceeds Excel's limit of \"\n",
      "D:\\anaconda3\\lib\\site-packages\\xlsxwriter\\worksheet.py:1179: UserWarning: Ignoring URL 'https://m.place.naver.com/my/6115ffe12f088f9a2540a13f/review?v=2' since it exceeds Excel's limit of 65,530 URLS per worksheet.\n",
      "  warn(\"Ignoring URL '%s' since it exceeds Excel's limit of \"\n",
      "D:\\anaconda3\\lib\\site-packages\\xlsxwriter\\worksheet.py:1179: UserWarning: Ignoring URL 'https://m.place.naver.com/my/5fc478cd3c1d179e95d8de37/review?v=2' since it exceeds Excel's limit of 65,530 URLS per worksheet.\n",
      "  warn(\"Ignoring URL '%s' since it exceeds Excel's limit of \"\n",
      "D:\\anaconda3\\lib\\site-packages\\xlsxwriter\\worksheet.py:1179: UserWarning: Ignoring URL 'https://m.place.naver.com/my/5d952cfc8f87a842bc7a5a11/review?v=2' since it exceeds Excel's limit of 65,530 URLS per worksheet.\n",
      "  warn(\"Ignoring URL '%s' since it exceeds Excel's limit of \"\n",
      "D:\\anaconda3\\lib\\site-packages\\xlsxwriter\\worksheet.py:1179: UserWarning: Ignoring URL 'https://m.place.naver.com/my/5fd881b50f74f7afad3ef9b1/review?v=2' since it exceeds Excel's limit of 65,530 URLS per worksheet.\n",
      "  warn(\"Ignoring URL '%s' since it exceeds Excel's limit of \"\n",
      "D:\\anaconda3\\lib\\site-packages\\xlsxwriter\\worksheet.py:1179: UserWarning: Ignoring URL 'https://m.place.naver.com/my/5d940e458f87a842bcbadb48/review?v=2' since it exceeds Excel's limit of 65,530 URLS per worksheet.\n",
      "  warn(\"Ignoring URL '%s' since it exceeds Excel's limit of \"\n",
      "D:\\anaconda3\\lib\\site-packages\\xlsxwriter\\worksheet.py:1179: UserWarning: Ignoring URL 'https://m.place.naver.com/my/5c4428376221076b68221c9d/review?v=2' since it exceeds Excel's limit of 65,530 URLS per worksheet.\n",
      "  warn(\"Ignoring URL '%s' since it exceeds Excel's limit of \"\n",
      "D:\\anaconda3\\lib\\site-packages\\xlsxwriter\\worksheet.py:1179: UserWarning: Ignoring URL 'https://m.place.naver.com/my/5f3bc35fa602e98f564b7874/review?v=2' since it exceeds Excel's limit of 65,530 URLS per worksheet.\n",
      "  warn(\"Ignoring URL '%s' since it exceeds Excel's limit of \"\n",
      "D:\\anaconda3\\lib\\site-packages\\xlsxwriter\\worksheet.py:1179: UserWarning: Ignoring URL 'https://m.place.naver.com/my/5ca066707914bc0f35fa6bae/review?v=2' since it exceeds Excel's limit of 65,530 URLS per worksheet.\n",
      "  warn(\"Ignoring URL '%s' since it exceeds Excel's limit of \"\n",
      "D:\\anaconda3\\lib\\site-packages\\xlsxwriter\\worksheet.py:1179: UserWarning: Ignoring URL 'https://m.place.naver.com/my/5c2e240d659f4c5278968bf1/review?v=2' since it exceeds Excel's limit of 65,530 URLS per worksheet.\n",
      "  warn(\"Ignoring URL '%s' since it exceeds Excel's limit of \"\n",
      "D:\\anaconda3\\lib\\site-packages\\xlsxwriter\\worksheet.py:1179: UserWarning: Ignoring URL 'https://m.place.naver.com/my/5cdabef43c3fd840c0fe6480/review?v=2' since it exceeds Excel's limit of 65,530 URLS per worksheet.\n",
      "  warn(\"Ignoring URL '%s' since it exceeds Excel's limit of \"\n",
      "D:\\anaconda3\\lib\\site-packages\\xlsxwriter\\worksheet.py:1179: UserWarning: Ignoring URL 'https://m.place.naver.com/my/5cd2f7fa423f245cd1fbb933/review?v=2' since it exceeds Excel's limit of 65,530 URLS per worksheet.\n",
      "  warn(\"Ignoring URL '%s' since it exceeds Excel's limit of \"\n",
      "D:\\anaconda3\\lib\\site-packages\\xlsxwriter\\worksheet.py:1179: UserWarning: Ignoring URL 'https://m.place.naver.com/my/5e72c2938f87a842bc9d07cd/review?v=2' since it exceeds Excel's limit of 65,530 URLS per worksheet.\n",
      "  warn(\"Ignoring URL '%s' since it exceeds Excel's limit of \"\n",
      "D:\\anaconda3\\lib\\site-packages\\xlsxwriter\\worksheet.py:1179: UserWarning: Ignoring URL 'https://m.place.naver.com/my/5bff9ca752f22b60de588959/review?v=2' since it exceeds Excel's limit of 65,530 URLS per worksheet.\n",
      "  warn(\"Ignoring URL '%s' since it exceeds Excel's limit of \"\n",
      "D:\\anaconda3\\lib\\site-packages\\xlsxwriter\\worksheet.py:1179: UserWarning: Ignoring URL 'https://m.place.naver.com/my/5ddeebd09ec8258e4a239bab/review?v=2' since it exceeds Excel's limit of 65,530 URLS per worksheet.\n",
      "  warn(\"Ignoring URL '%s' since it exceeds Excel's limit of \"\n",
      "D:\\anaconda3\\lib\\site-packages\\xlsxwriter\\worksheet.py:1179: UserWarning: Ignoring URL 'https://m.place.naver.com/my/5c569fb089afa76dc50b7b96/review?v=2' since it exceeds Excel's limit of 65,530 URLS per worksheet.\n",
      "  warn(\"Ignoring URL '%s' since it exceeds Excel's limit of \"\n",
      "D:\\anaconda3\\lib\\site-packages\\xlsxwriter\\worksheet.py:1179: UserWarning: Ignoring URL 'https://m.place.naver.com/my/5bff5da06220cd3b20efda00/review?v=2' since it exceeds Excel's limit of 65,530 URLS per worksheet.\n",
      "  warn(\"Ignoring URL '%s' since it exceeds Excel's limit of \"\n",
      "D:\\anaconda3\\lib\\site-packages\\xlsxwriter\\worksheet.py:1179: UserWarning: Ignoring URL 'https://m.place.naver.com/my/5dc43aa48f87a842bc60a48b/review?v=2' since it exceeds Excel's limit of 65,530 URLS per worksheet.\n",
      "  warn(\"Ignoring URL '%s' since it exceeds Excel's limit of \"\n",
      "D:\\anaconda3\\lib\\site-packages\\xlsxwriter\\worksheet.py:1179: UserWarning: Ignoring URL 'https://m.place.naver.com/my/5eabb5c58f87a842bcf7385a/review?v=2' since it exceeds Excel's limit of 65,530 URLS per worksheet.\n",
      "  warn(\"Ignoring URL '%s' since it exceeds Excel's limit of \"\n",
      "D:\\anaconda3\\lib\\site-packages\\xlsxwriter\\worksheet.py:1179: UserWarning: Ignoring URL 'https://m.place.naver.com/my/5d9445898f87a842bc45d5d3/review?v=2' since it exceeds Excel's limit of 65,530 URLS per worksheet.\n",
      "  warn(\"Ignoring URL '%s' since it exceeds Excel's limit of \"\n",
      "D:\\anaconda3\\lib\\site-packages\\xlsxwriter\\worksheet.py:1179: UserWarning: Ignoring URL 'https://m.place.naver.com/my/5c62a4daed80ee09b76919bc/review?v=2' since it exceeds Excel's limit of 65,530 URLS per worksheet.\n",
      "  warn(\"Ignoring URL '%s' since it exceeds Excel's limit of \"\n",
      "D:\\anaconda3\\lib\\site-packages\\xlsxwriter\\worksheet.py:1179: UserWarning: Ignoring URL 'https://m.place.naver.com/my/5c5fbead40322103f2bce38a/review?v=2' since it exceeds Excel's limit of 65,530 URLS per worksheet.\n",
      "  warn(\"Ignoring URL '%s' since it exceeds Excel's limit of \"\n",
      "D:\\anaconda3\\lib\\site-packages\\xlsxwriter\\worksheet.py:1179: UserWarning: Ignoring URL 'https://m.place.naver.com/my/5efe852868401871104ebf81/review?v=2' since it exceeds Excel's limit of 65,530 URLS per worksheet.\n",
      "  warn(\"Ignoring URL '%s' since it exceeds Excel's limit of \"\n",
      "D:\\anaconda3\\lib\\site-packages\\xlsxwriter\\worksheet.py:1179: UserWarning: Ignoring URL 'https://m.place.naver.com/my/5dd37b668f87a842bc55e96f/review?v=2' since it exceeds Excel's limit of 65,530 URLS per worksheet.\n",
      "  warn(\"Ignoring URL '%s' since it exceeds Excel's limit of \"\n",
      "D:\\anaconda3\\lib\\site-packages\\xlsxwriter\\worksheet.py:1179: UserWarning: Ignoring URL 'https://m.place.naver.com/my/5d70e6bd8f87a842bcf2a711/review?v=2' since it exceeds Excel's limit of 65,530 URLS per worksheet.\n",
      "  warn(\"Ignoring URL '%s' since it exceeds Excel's limit of \"\n",
      "D:\\anaconda3\\lib\\site-packages\\xlsxwriter\\worksheet.py:1179: UserWarning: Ignoring URL 'https://m.place.naver.com/my/61fe58e804927f409110289d/review?v=2' since it exceeds Excel's limit of 65,530 URLS per worksheet.\n",
      "  warn(\"Ignoring URL '%s' since it exceeds Excel's limit of \"\n",
      "D:\\anaconda3\\lib\\site-packages\\xlsxwriter\\worksheet.py:1179: UserWarning: Ignoring URL 'https://m.place.naver.com/my/5eff6e5454eca45f153db7db/review?v=2' since it exceeds Excel's limit of 65,530 URLS per worksheet.\n",
      "  warn(\"Ignoring URL '%s' since it exceeds Excel's limit of \"\n",
      "D:\\anaconda3\\lib\\site-packages\\xlsxwriter\\worksheet.py:1179: UserWarning: Ignoring URL 'https://m.place.naver.com/my/5cede70dc727d3aaa42c7fc3/review?v=2' since it exceeds Excel's limit of 65,530 URLS per worksheet.\n",
      "  warn(\"Ignoring URL '%s' since it exceeds Excel's limit of \"\n",
      "D:\\anaconda3\\lib\\site-packages\\xlsxwriter\\worksheet.py:1179: UserWarning: Ignoring URL 'https://m.place.naver.com/my/5e6760d58f87a842bc561178/review?v=2' since it exceeds Excel's limit of 65,530 URLS per worksheet.\n",
      "  warn(\"Ignoring URL '%s' since it exceeds Excel's limit of \"\n",
      "D:\\anaconda3\\lib\\site-packages\\xlsxwriter\\worksheet.py:1179: UserWarning: Ignoring URL 'https://m.place.naver.com/my/5c2a0478df89466d07a94a0d/review?v=2' since it exceeds Excel's limit of 65,530 URLS per worksheet.\n",
      "  warn(\"Ignoring URL '%s' since it exceeds Excel's limit of \"\n",
      "D:\\anaconda3\\lib\\site-packages\\xlsxwriter\\worksheet.py:1179: UserWarning: Ignoring URL 'https://m.place.naver.com/my/5e31343b8f87a842bcaa6d57/review?v=2' since it exceeds Excel's limit of 65,530 URLS per worksheet.\n",
      "  warn(\"Ignoring URL '%s' since it exceeds Excel's limit of \"\n",
      "D:\\anaconda3\\lib\\site-packages\\xlsxwriter\\worksheet.py:1179: UserWarning: Ignoring URL 'https://m.place.naver.com/my/5d5554f8785836d874872477/review?v=2' since it exceeds Excel's limit of 65,530 URLS per worksheet.\n",
      "  warn(\"Ignoring URL '%s' since it exceeds Excel's limit of \"\n",
      "D:\\anaconda3\\lib\\site-packages\\xlsxwriter\\worksheet.py:1179: UserWarning: Ignoring URL 'https://m.place.naver.com/my/5f0f03459ec8258e4a49973b/review?v=2' since it exceeds Excel's limit of 65,530 URLS per worksheet.\n",
      "  warn(\"Ignoring URL '%s' since it exceeds Excel's limit of \"\n",
      "D:\\anaconda3\\lib\\site-packages\\xlsxwriter\\worksheet.py:1179: UserWarning: Ignoring URL 'https://m.place.naver.com/my/5c8258d10143cdfa4c42dfaf/review?v=2' since it exceeds Excel's limit of 65,530 URLS per worksheet.\n",
      "  warn(\"Ignoring URL '%s' since it exceeds Excel's limit of \"\n",
      "D:\\anaconda3\\lib\\site-packages\\xlsxwriter\\worksheet.py:1179: UserWarning: Ignoring URL 'https://m.place.naver.com/my/5db96d4e8f87a842bc5ca8b2/review?v=2' since it exceeds Excel's limit of 65,530 URLS per worksheet.\n",
      "  warn(\"Ignoring URL '%s' since it exceeds Excel's limit of \"\n",
      "D:\\anaconda3\\lib\\site-packages\\xlsxwriter\\worksheet.py:1179: UserWarning: Ignoring URL 'https://m.place.naver.com/my/601757d3746de1e2cfb8836b/review?v=2' since it exceeds Excel's limit of 65,530 URLS per worksheet.\n",
      "  warn(\"Ignoring URL '%s' since it exceeds Excel's limit of \"\n",
      "D:\\anaconda3\\lib\\site-packages\\xlsxwriter\\worksheet.py:1179: UserWarning: Ignoring URL 'https://m.place.naver.com/my/5b9c20e0d708fc299afd458b/review?v=2' since it exceeds Excel's limit of 65,530 URLS per worksheet.\n",
      "  warn(\"Ignoring URL '%s' since it exceeds Excel's limit of \"\n",
      "D:\\anaconda3\\lib\\site-packages\\xlsxwriter\\worksheet.py:1179: UserWarning: Ignoring URL 'https://m.place.naver.com/my/5f062419a33384f6f57e4a6e/review?v=2' since it exceeds Excel's limit of 65,530 URLS per worksheet.\n",
      "  warn(\"Ignoring URL '%s' since it exceeds Excel's limit of \"\n",
      "D:\\anaconda3\\lib\\site-packages\\xlsxwriter\\worksheet.py:1179: UserWarning: Ignoring URL 'https://m.place.naver.com/my/5b800a69e7c7c82c7953b648/review?v=2' since it exceeds Excel's limit of 65,530 URLS per worksheet.\n",
      "  warn(\"Ignoring URL '%s' since it exceeds Excel's limit of \"\n",
      "D:\\anaconda3\\lib\\site-packages\\xlsxwriter\\worksheet.py:1179: UserWarning: Ignoring URL 'https://m.place.naver.com/my/5d1afd6ad5da2099ff6da741/review?v=2' since it exceeds Excel's limit of 65,530 URLS per worksheet.\n",
      "  warn(\"Ignoring URL '%s' since it exceeds Excel's limit of \"\n",
      "D:\\anaconda3\\lib\\site-packages\\xlsxwriter\\worksheet.py:1179: UserWarning: Ignoring URL 'https://m.place.naver.com/my/5c2a583fa2c7825d38aadb7f/review?v=2' since it exceeds Excel's limit of 65,530 URLS per worksheet.\n",
      "  warn(\"Ignoring URL '%s' since it exceeds Excel's limit of \"\n",
      "D:\\anaconda3\\lib\\site-packages\\xlsxwriter\\worksheet.py:1179: UserWarning: Ignoring URL 'https://m.place.naver.com/my/607084a3e7f34b37177c5d65/review?v=2' since it exceeds Excel's limit of 65,530 URLS per worksheet.\n",
      "  warn(\"Ignoring URL '%s' since it exceeds Excel's limit of \"\n",
      "D:\\anaconda3\\lib\\site-packages\\xlsxwriter\\worksheet.py:1179: UserWarning: Ignoring URL 'https://m.place.naver.com/my/5dff0c898f87a842bc401cad/review?v=2' since it exceeds Excel's limit of 65,530 URLS per worksheet.\n",
      "  warn(\"Ignoring URL '%s' since it exceeds Excel's limit of \"\n",
      "D:\\anaconda3\\lib\\site-packages\\xlsxwriter\\worksheet.py:1179: UserWarning: Ignoring URL 'https://m.place.naver.com/my/5e3d31bc8f87a842bca23285/review?v=2' since it exceeds Excel's limit of 65,530 URLS per worksheet.\n",
      "  warn(\"Ignoring URL '%s' since it exceeds Excel's limit of \"\n",
      "D:\\anaconda3\\lib\\site-packages\\xlsxwriter\\worksheet.py:1179: UserWarning: Ignoring URL 'https://m.place.naver.com/my/5dcaa5058f87a842bcae7be0/review?v=2' since it exceeds Excel's limit of 65,530 URLS per worksheet.\n",
      "  warn(\"Ignoring URL '%s' since it exceeds Excel's limit of \"\n",
      "D:\\anaconda3\\lib\\site-packages\\xlsxwriter\\worksheet.py:1179: UserWarning: Ignoring URL 'https://m.place.naver.com/my/5d318e90c381d35a2a72ae07/review?v=2' since it exceeds Excel's limit of 65,530 URLS per worksheet.\n",
      "  warn(\"Ignoring URL '%s' since it exceeds Excel's limit of \"\n",
      "D:\\anaconda3\\lib\\site-packages\\xlsxwriter\\worksheet.py:1179: UserWarning: Ignoring URL 'https://m.place.naver.com/my/5bcab4c8bb5c9afa2d4e01bf/review?v=2' since it exceeds Excel's limit of 65,530 URLS per worksheet.\n",
      "  warn(\"Ignoring URL '%s' since it exceeds Excel's limit of \"\n",
      "D:\\anaconda3\\lib\\site-packages\\xlsxwriter\\worksheet.py:1179: UserWarning: Ignoring URL 'https://m.place.naver.com/my/5f0699bd9127dcb4fc6a33c4/review?v=2' since it exceeds Excel's limit of 65,530 URLS per worksheet.\n",
      "  warn(\"Ignoring URL '%s' since it exceeds Excel's limit of \"\n",
      "D:\\anaconda3\\lib\\site-packages\\xlsxwriter\\worksheet.py:1179: UserWarning: Ignoring URL 'https://m.place.naver.com/my/5c95810d6465e46724b02851/review?v=2' since it exceeds Excel's limit of 65,530 URLS per worksheet.\n",
      "  warn(\"Ignoring URL '%s' since it exceeds Excel's limit of \"\n",
      "D:\\anaconda3\\lib\\site-packages\\xlsxwriter\\worksheet.py:1179: UserWarning: Ignoring URL 'https://m.place.naver.com/my/5bff5fcf4d987f4e0a99d499/review?v=2' since it exceeds Excel's limit of 65,530 URLS per worksheet.\n",
      "  warn(\"Ignoring URL '%s' since it exceeds Excel's limit of \"\n",
      "D:\\anaconda3\\lib\\site-packages\\xlsxwriter\\worksheet.py:1179: UserWarning: Ignoring URL 'https://m.place.naver.com/my/5c8a11b88b3156374e1fdbc9/review?v=2' since it exceeds Excel's limit of 65,530 URLS per worksheet.\n",
      "  warn(\"Ignoring URL '%s' since it exceeds Excel's limit of \"\n",
      "D:\\anaconda3\\lib\\site-packages\\xlsxwriter\\worksheet.py:1179: UserWarning: Ignoring URL 'https://m.place.naver.com/my/5c00cf792db21e561982b009/review?v=2' since it exceeds Excel's limit of 65,530 URLS per worksheet.\n",
      "  warn(\"Ignoring URL '%s' since it exceeds Excel's limit of \"\n",
      "D:\\anaconda3\\lib\\site-packages\\xlsxwriter\\worksheet.py:1179: UserWarning: Ignoring URL 'https://m.place.naver.com/my/60da68ead2e557c5a7defd38/review?v=2' since it exceeds Excel's limit of 65,530 URLS per worksheet.\n",
      "  warn(\"Ignoring URL '%s' since it exceeds Excel's limit of \"\n",
      "D:\\anaconda3\\lib\\site-packages\\xlsxwriter\\worksheet.py:1179: UserWarning: Ignoring URL 'https://m.place.naver.com/my/5e1e9bd58f87a842bc5be3c3/review?v=2' since it exceeds Excel's limit of 65,530 URLS per worksheet.\n",
      "  warn(\"Ignoring URL '%s' since it exceeds Excel's limit of \"\n",
      "D:\\anaconda3\\lib\\site-packages\\xlsxwriter\\worksheet.py:1179: UserWarning: Ignoring URL 'https://m.place.naver.com/my/60ef8fe06fd01a3eeb1cac04/review?v=2' since it exceeds Excel's limit of 65,530 URLS per worksheet.\n",
      "  warn(\"Ignoring URL '%s' since it exceeds Excel's limit of \"\n",
      "D:\\anaconda3\\lib\\site-packages\\xlsxwriter\\worksheet.py:1179: UserWarning: Ignoring URL 'https://m.place.naver.com/my/5e4527b48f87a842bc9848cc/review?v=2' since it exceeds Excel's limit of 65,530 URLS per worksheet.\n",
      "  warn(\"Ignoring URL '%s' since it exceeds Excel's limit of \"\n",
      "D:\\anaconda3\\lib\\site-packages\\xlsxwriter\\worksheet.py:1179: UserWarning: Ignoring URL 'https://m.place.naver.com/my/5dd0a9098f87a842bc2249aa/review?v=2' since it exceeds Excel's limit of 65,530 URLS per worksheet.\n",
      "  warn(\"Ignoring URL '%s' since it exceeds Excel's limit of \"\n",
      "D:\\anaconda3\\lib\\site-packages\\xlsxwriter\\worksheet.py:1179: UserWarning: Ignoring URL 'https://m.place.naver.com/my/5cf8f8700fcbea68cbb8fad1/review?v=2' since it exceeds Excel's limit of 65,530 URLS per worksheet.\n",
      "  warn(\"Ignoring URL '%s' since it exceeds Excel's limit of \"\n",
      "D:\\anaconda3\\lib\\site-packages\\xlsxwriter\\worksheet.py:1179: UserWarning: Ignoring URL 'https://m.place.naver.com/my/5ec10d0f8f87a842bcb39ded/review?v=2' since it exceeds Excel's limit of 65,530 URLS per worksheet.\n",
      "  warn(\"Ignoring URL '%s' since it exceeds Excel's limit of \"\n",
      "D:\\anaconda3\\lib\\site-packages\\xlsxwriter\\worksheet.py:1179: UserWarning: Ignoring URL 'https://m.place.naver.com/my/5dea31ed9ec8258e4a55042b/review?v=2' since it exceeds Excel's limit of 65,530 URLS per worksheet.\n",
      "  warn(\"Ignoring URL '%s' since it exceeds Excel's limit of \"\n",
      "D:\\anaconda3\\lib\\site-packages\\xlsxwriter\\worksheet.py:1179: UserWarning: Ignoring URL 'https://m.place.naver.com/my/5f79081e6c3d7f733484651f/review?v=2' since it exceeds Excel's limit of 65,530 URLS per worksheet.\n",
      "  warn(\"Ignoring URL '%s' since it exceeds Excel's limit of \"\n",
      "D:\\anaconda3\\lib\\site-packages\\xlsxwriter\\worksheet.py:1179: UserWarning: Ignoring URL 'https://m.place.naver.com/my/5bdc0d938e054a42c5bb5b58/review?v=2' since it exceeds Excel's limit of 65,530 URLS per worksheet.\n",
      "  warn(\"Ignoring URL '%s' since it exceeds Excel's limit of \"\n",
      "D:\\anaconda3\\lib\\site-packages\\xlsxwriter\\worksheet.py:1179: UserWarning: Ignoring URL 'https://m.place.naver.com/my/5dda3fb49ec8258e4ac99e1c/review?v=2' since it exceeds Excel's limit of 65,530 URLS per worksheet.\n",
      "  warn(\"Ignoring URL '%s' since it exceeds Excel's limit of \"\n",
      "D:\\anaconda3\\lib\\site-packages\\xlsxwriter\\worksheet.py:1179: UserWarning: Ignoring URL 'https://m.place.naver.com/my/5eb96b578f87a842bc91cf57/review?v=2' since it exceeds Excel's limit of 65,530 URLS per worksheet.\n",
      "  warn(\"Ignoring URL '%s' since it exceeds Excel's limit of \"\n",
      "D:\\anaconda3\\lib\\site-packages\\xlsxwriter\\worksheet.py:1179: UserWarning: Ignoring URL 'https://m.place.naver.com/my/5ca3f87e03a939e2aa45d997/review?v=2' since it exceeds Excel's limit of 65,530 URLS per worksheet.\n",
      "  warn(\"Ignoring URL '%s' since it exceeds Excel's limit of \"\n",
      "D:\\anaconda3\\lib\\site-packages\\xlsxwriter\\worksheet.py:1179: UserWarning: Ignoring URL 'https://m.place.naver.com/my/5c504ed8d138d7791cc8b1b1/review?v=2' since it exceeds Excel's limit of 65,530 URLS per worksheet.\n",
      "  warn(\"Ignoring URL '%s' since it exceeds Excel's limit of \"\n",
      "D:\\anaconda3\\lib\\site-packages\\xlsxwriter\\worksheet.py:1179: UserWarning: Ignoring URL 'https://m.place.naver.com/my/5d14cc9a42f8a6f1d9969ce0/review?v=2' since it exceeds Excel's limit of 65,530 URLS per worksheet.\n",
      "  warn(\"Ignoring URL '%s' since it exceeds Excel's limit of \"\n",
      "D:\\anaconda3\\lib\\site-packages\\xlsxwriter\\worksheet.py:1179: UserWarning: Ignoring URL 'https://m.place.naver.com/my/5c3d7f882533c08f5b6538cf/review?v=2' since it exceeds Excel's limit of 65,530 URLS per worksheet.\n",
      "  warn(\"Ignoring URL '%s' since it exceeds Excel's limit of \"\n",
      "D:\\anaconda3\\lib\\site-packages\\xlsxwriter\\worksheet.py:1179: UserWarning: Ignoring URL 'https://m.place.naver.com/my/5e6847248f87a842bc2e4f6e/review?v=2' since it exceeds Excel's limit of 65,530 URLS per worksheet.\n",
      "  warn(\"Ignoring URL '%s' since it exceeds Excel's limit of \"\n",
      "D:\\anaconda3\\lib\\site-packages\\xlsxwriter\\worksheet.py:1179: UserWarning: Ignoring URL 'https://m.place.naver.com/my/5c713fde95c6cbe0cf01b4d4/review?v=2' since it exceeds Excel's limit of 65,530 URLS per worksheet.\n",
      "  warn(\"Ignoring URL '%s' since it exceeds Excel's limit of \"\n",
      "D:\\anaconda3\\lib\\site-packages\\xlsxwriter\\worksheet.py:1179: UserWarning: Ignoring URL 'https://m.place.naver.com/my/5c7128166ad0bfa11ca3506d/review?v=2' since it exceeds Excel's limit of 65,530 URLS per worksheet.\n",
      "  warn(\"Ignoring URL '%s' since it exceeds Excel's limit of \"\n",
      "D:\\anaconda3\\lib\\site-packages\\xlsxwriter\\worksheet.py:1179: UserWarning: Ignoring URL 'https://m.place.naver.com/my/5dd615b38f87a842bcd2572a/review?v=2' since it exceeds Excel's limit of 65,530 URLS per worksheet.\n",
      "  warn(\"Ignoring URL '%s' since it exceeds Excel's limit of \"\n",
      "D:\\anaconda3\\lib\\site-packages\\xlsxwriter\\worksheet.py:1179: UserWarning: Ignoring URL 'https://m.place.naver.com/my/5bb8c32e4f31965f8c77dbbc/review?v=2' since it exceeds Excel's limit of 65,530 URLS per worksheet.\n",
      "  warn(\"Ignoring URL '%s' since it exceeds Excel's limit of \"\n",
      "D:\\anaconda3\\lib\\site-packages\\xlsxwriter\\worksheet.py:1179: UserWarning: Ignoring URL 'https://m.place.naver.com/my/5d6707eb8f87a842bc05e7c4/review?v=2' since it exceeds Excel's limit of 65,530 URLS per worksheet.\n",
      "  warn(\"Ignoring URL '%s' since it exceeds Excel's limit of \"\n",
      "D:\\anaconda3\\lib\\site-packages\\xlsxwriter\\worksheet.py:1179: UserWarning: Ignoring URL 'https://m.place.naver.com/my/5ba4b2b62547966bba2d0d53/review?v=2' since it exceeds Excel's limit of 65,530 URLS per worksheet.\n",
      "  warn(\"Ignoring URL '%s' since it exceeds Excel's limit of \"\n",
      "D:\\anaconda3\\lib\\site-packages\\xlsxwriter\\worksheet.py:1179: UserWarning: Ignoring URL 'https://m.place.naver.com/my/5c20ab2a15198727037c3b95/review?v=2' since it exceeds Excel's limit of 65,530 URLS per worksheet.\n",
      "  warn(\"Ignoring URL '%s' since it exceeds Excel's limit of \"\n",
      "D:\\anaconda3\\lib\\site-packages\\xlsxwriter\\worksheet.py:1179: UserWarning: Ignoring URL 'https://m.place.naver.com/my/5bf11e29611b2968fdbfc0db/review?v=2' since it exceeds Excel's limit of 65,530 URLS per worksheet.\n",
      "  warn(\"Ignoring URL '%s' since it exceeds Excel's limit of \"\n",
      "D:\\anaconda3\\lib\\site-packages\\xlsxwriter\\worksheet.py:1179: UserWarning: Ignoring URL 'https://m.place.naver.com/my/5b7e6017ef2be4e4b0f1f907/review?v=2' since it exceeds Excel's limit of 65,530 URLS per worksheet.\n",
      "  warn(\"Ignoring URL '%s' since it exceeds Excel's limit of \"\n",
      "D:\\anaconda3\\lib\\site-packages\\xlsxwriter\\worksheet.py:1179: UserWarning: Ignoring URL 'https://m.place.naver.com/my/5ef33d5d8f87a842bc00442a/review?v=2' since it exceeds Excel's limit of 65,530 URLS per worksheet.\n",
      "  warn(\"Ignoring URL '%s' since it exceeds Excel's limit of \"\n",
      "D:\\anaconda3\\lib\\site-packages\\xlsxwriter\\worksheet.py:1179: UserWarning: Ignoring URL 'https://m.place.naver.com/my/5d495cedc6cc77dcb13a3ead/review?v=2' since it exceeds Excel's limit of 65,530 URLS per worksheet.\n",
      "  warn(\"Ignoring URL '%s' since it exceeds Excel's limit of \"\n",
      "D:\\anaconda3\\lib\\site-packages\\xlsxwriter\\worksheet.py:1179: UserWarning: Ignoring URL 'https://m.place.naver.com/my/5b780671e0c012694ac44366/review?v=2' since it exceeds Excel's limit of 65,530 URLS per worksheet.\n",
      "  warn(\"Ignoring URL '%s' since it exceeds Excel's limit of \"\n",
      "D:\\anaconda3\\lib\\site-packages\\xlsxwriter\\worksheet.py:1179: UserWarning: Ignoring URL 'https://m.place.naver.com/my/5bd17f0f3d4dd0d143589e24/review?v=2' since it exceeds Excel's limit of 65,530 URLS per worksheet.\n",
      "  warn(\"Ignoring URL '%s' since it exceeds Excel's limit of \"\n",
      "D:\\anaconda3\\lib\\site-packages\\xlsxwriter\\worksheet.py:1179: UserWarning: Ignoring URL 'https://m.place.naver.com/my/5c6e07ddbde21eb2acdb76bb/review?v=2' since it exceeds Excel's limit of 65,530 URLS per worksheet.\n",
      "  warn(\"Ignoring URL '%s' since it exceeds Excel's limit of \"\n",
      "D:\\anaconda3\\lib\\site-packages\\xlsxwriter\\worksheet.py:1179: UserWarning: Ignoring URL 'https://m.place.naver.com/my/5ee841688f87a842bc80f146/review?v=2' since it exceeds Excel's limit of 65,530 URLS per worksheet.\n",
      "  warn(\"Ignoring URL '%s' since it exceeds Excel's limit of \"\n",
      "D:\\anaconda3\\lib\\site-packages\\xlsxwriter\\worksheet.py:1179: UserWarning: Ignoring URL 'https://m.place.naver.com/my/5e100e128f87a842bc7402a9/review?v=2' since it exceeds Excel's limit of 65,530 URLS per worksheet.\n",
      "  warn(\"Ignoring URL '%s' since it exceeds Excel's limit of \"\n",
      "D:\\anaconda3\\lib\\site-packages\\xlsxwriter\\worksheet.py:1179: UserWarning: Ignoring URL 'https://m.place.naver.com/my/6278a483af48ca94e8ffdc57/review?v=2' since it exceeds Excel's limit of 65,530 URLS per worksheet.\n",
      "  warn(\"Ignoring URL '%s' since it exceeds Excel's limit of \"\n",
      "D:\\anaconda3\\lib\\site-packages\\xlsxwriter\\worksheet.py:1179: UserWarning: Ignoring URL 'https://m.place.naver.com/my/5be94e82f8abfa6fc3078a3b/review?v=2' since it exceeds Excel's limit of 65,530 URLS per worksheet.\n",
      "  warn(\"Ignoring URL '%s' since it exceeds Excel's limit of \"\n",
      "D:\\anaconda3\\lib\\site-packages\\xlsxwriter\\worksheet.py:1179: UserWarning: Ignoring URL 'https://m.place.naver.com/my/5d8dfc998f87a842bc2d8a3c/review?v=2' since it exceeds Excel's limit of 65,530 URLS per worksheet.\n",
      "  warn(\"Ignoring URL '%s' since it exceeds Excel's limit of \"\n",
      "D:\\anaconda3\\lib\\site-packages\\xlsxwriter\\worksheet.py:1179: UserWarning: Ignoring URL 'https://m.place.naver.com/my/5e216b108f87a842bc9cf89e/review?v=2' since it exceeds Excel's limit of 65,530 URLS per worksheet.\n",
      "  warn(\"Ignoring URL '%s' since it exceeds Excel's limit of \"\n",
      "D:\\anaconda3\\lib\\site-packages\\xlsxwriter\\worksheet.py:1179: UserWarning: Ignoring URL 'https://m.place.naver.com/my/5d8779d88f87a842bc85ac85/review?v=2' since it exceeds Excel's limit of 65,530 URLS per worksheet.\n",
      "  warn(\"Ignoring URL '%s' since it exceeds Excel's limit of \"\n",
      "D:\\anaconda3\\lib\\site-packages\\xlsxwriter\\worksheet.py:1179: UserWarning: Ignoring URL 'https://m.place.naver.com/my/5c223af15d8aa38584a101b6/review?v=2' since it exceeds Excel's limit of 65,530 URLS per worksheet.\n",
      "  warn(\"Ignoring URL '%s' since it exceeds Excel's limit of \"\n",
      "D:\\anaconda3\\lib\\site-packages\\xlsxwriter\\worksheet.py:1179: UserWarning: Ignoring URL 'https://m.place.naver.com/my/5c454bc8615f88ff27015d9b/review?v=2' since it exceeds Excel's limit of 65,530 URLS per worksheet.\n",
      "  warn(\"Ignoring URL '%s' since it exceeds Excel's limit of \"\n",
      "D:\\anaconda3\\lib\\site-packages\\xlsxwriter\\worksheet.py:1179: UserWarning: Ignoring URL 'https://m.place.naver.com/my/5ba5a6ccb3e19a6b88fc6434/review?v=2' since it exceeds Excel's limit of 65,530 URLS per worksheet.\n",
      "  warn(\"Ignoring URL '%s' since it exceeds Excel's limit of \"\n",
      "D:\\anaconda3\\lib\\site-packages\\xlsxwriter\\worksheet.py:1179: UserWarning: Ignoring URL 'https://m.place.naver.com/my/61d998ededc826000641813f/review?v=2' since it exceeds Excel's limit of 65,530 URLS per worksheet.\n",
      "  warn(\"Ignoring URL '%s' since it exceeds Excel's limit of \"\n",
      "D:\\anaconda3\\lib\\site-packages\\xlsxwriter\\worksheet.py:1179: UserWarning: Ignoring URL 'https://m.place.naver.com/my/5f13e6a89ec8258e4ab40874/review?v=2' since it exceeds Excel's limit of 65,530 URLS per worksheet.\n",
      "  warn(\"Ignoring URL '%s' since it exceeds Excel's limit of \"\n",
      "D:\\anaconda3\\lib\\site-packages\\xlsxwriter\\worksheet.py:1179: UserWarning: Ignoring URL 'https://m.place.naver.com/my/5f06447c9127dcb4fc65c4a1/review?v=2' since it exceeds Excel's limit of 65,530 URLS per worksheet.\n",
      "  warn(\"Ignoring URL '%s' since it exceeds Excel's limit of \"\n",
      "D:\\anaconda3\\lib\\site-packages\\xlsxwriter\\worksheet.py:1179: UserWarning: Ignoring URL 'https://m.place.naver.com/my/5e5497c58f87a842bc284d4a/review?v=2' since it exceeds Excel's limit of 65,530 URLS per worksheet.\n",
      "  warn(\"Ignoring URL '%s' since it exceeds Excel's limit of \"\n",
      "D:\\anaconda3\\lib\\site-packages\\xlsxwriter\\worksheet.py:1179: UserWarning: Ignoring URL 'https://m.place.naver.com/my/5c600ae8f022444cebc63af7/review?v=2' since it exceeds Excel's limit of 65,530 URLS per worksheet.\n",
      "  warn(\"Ignoring URL '%s' since it exceeds Excel's limit of \"\n",
      "D:\\anaconda3\\lib\\site-packages\\xlsxwriter\\worksheet.py:1179: UserWarning: Ignoring URL 'https://m.place.naver.com/my/5cc953061bd148c9ac59f6a6/review?v=2' since it exceeds Excel's limit of 65,530 URLS per worksheet.\n",
      "  warn(\"Ignoring URL '%s' since it exceeds Excel's limit of \"\n",
      "D:\\anaconda3\\lib\\site-packages\\xlsxwriter\\worksheet.py:1179: UserWarning: Ignoring URL 'https://m.place.naver.com/my/5c9f162dc5098553a5ede873/review?v=2' since it exceeds Excel's limit of 65,530 URLS per worksheet.\n",
      "  warn(\"Ignoring URL '%s' since it exceeds Excel's limit of \"\n",
      "D:\\anaconda3\\lib\\site-packages\\xlsxwriter\\worksheet.py:1179: UserWarning: Ignoring URL 'https://m.place.naver.com/my/5c2109b1b525f3359a50ed42/review?v=2' since it exceeds Excel's limit of 65,530 URLS per worksheet.\n",
      "  warn(\"Ignoring URL '%s' since it exceeds Excel's limit of \"\n",
      "D:\\anaconda3\\lib\\site-packages\\xlsxwriter\\worksheet.py:1179: UserWarning: Ignoring URL 'https://m.place.naver.com/my/5de9b07f9ec8258e4a7e4a90/review?v=2' since it exceeds Excel's limit of 65,530 URLS per worksheet.\n",
      "  warn(\"Ignoring URL '%s' since it exceeds Excel's limit of \"\n",
      "D:\\anaconda3\\lib\\site-packages\\xlsxwriter\\worksheet.py:1179: UserWarning: Ignoring URL 'https://m.place.naver.com/my/5f46e499a602e98f56e9da54/review?v=2' since it exceeds Excel's limit of 65,530 URLS per worksheet.\n",
      "  warn(\"Ignoring URL '%s' since it exceeds Excel's limit of \"\n",
      "D:\\anaconda3\\lib\\site-packages\\xlsxwriter\\worksheet.py:1179: UserWarning: Ignoring URL 'https://m.place.naver.com/my/5f80172e6c3d7f7334d301d8/review?v=2' since it exceeds Excel's limit of 65,530 URLS per worksheet.\n",
      "  warn(\"Ignoring URL '%s' since it exceeds Excel's limit of \"\n",
      "D:\\anaconda3\\lib\\site-packages\\xlsxwriter\\worksheet.py:1179: UserWarning: Ignoring URL 'https://m.place.naver.com/my/5e02d0238f87a842bcde70dc/review?v=2' since it exceeds Excel's limit of 65,530 URLS per worksheet.\n",
      "  warn(\"Ignoring URL '%s' since it exceeds Excel's limit of \"\n",
      "D:\\anaconda3\\lib\\site-packages\\xlsxwriter\\worksheet.py:1179: UserWarning: Ignoring URL 'https://m.place.naver.com/my/5df177e58f87a842bc7bca1f/review?v=2' since it exceeds Excel's limit of 65,530 URLS per worksheet.\n",
      "  warn(\"Ignoring URL '%s' since it exceeds Excel's limit of \"\n",
      "D:\\anaconda3\\lib\\site-packages\\xlsxwriter\\worksheet.py:1179: UserWarning: Ignoring URL 'https://m.place.naver.com/my/5d6dc3a28f87a842bc0d1b2e/review?v=2' since it exceeds Excel's limit of 65,530 URLS per worksheet.\n",
      "  warn(\"Ignoring URL '%s' since it exceeds Excel's limit of \"\n",
      "D:\\anaconda3\\lib\\site-packages\\xlsxwriter\\worksheet.py:1179: UserWarning: Ignoring URL 'https://m.place.naver.com/my/5c419300fd5b90b7b57e2801/review?v=2' since it exceeds Excel's limit of 65,530 URLS per worksheet.\n",
      "  warn(\"Ignoring URL '%s' since it exceeds Excel's limit of \"\n",
      "D:\\anaconda3\\lib\\site-packages\\xlsxwriter\\worksheet.py:1179: UserWarning: Ignoring URL 'https://m.place.naver.com/my/5c839078a1d37517eb3e217c/review?v=2' since it exceeds Excel's limit of 65,530 URLS per worksheet.\n",
      "  warn(\"Ignoring URL '%s' since it exceeds Excel's limit of \"\n",
      "D:\\anaconda3\\lib\\site-packages\\xlsxwriter\\worksheet.py:1179: UserWarning: Ignoring URL 'https://m.place.naver.com/my/5c3441eb70af948e0a02e93a/review?v=2' since it exceeds Excel's limit of 65,530 URLS per worksheet.\n",
      "  warn(\"Ignoring URL '%s' since it exceeds Excel's limit of \"\n",
      "D:\\anaconda3\\lib\\site-packages\\xlsxwriter\\worksheet.py:1179: UserWarning: Ignoring URL 'https://m.place.naver.com/my/5c94b5d2a3097d10912f7f9f/review?v=2' since it exceeds Excel's limit of 65,530 URLS per worksheet.\n",
      "  warn(\"Ignoring URL '%s' since it exceeds Excel's limit of \"\n",
      "D:\\anaconda3\\lib\\site-packages\\xlsxwriter\\worksheet.py:1179: UserWarning: Ignoring URL 'https://m.place.naver.com/my/5fcb6b6c5d757a0a13bf5bf0/review?v=2' since it exceeds Excel's limit of 65,530 URLS per worksheet.\n",
      "  warn(\"Ignoring URL '%s' since it exceeds Excel's limit of \"\n",
      "D:\\anaconda3\\lib\\site-packages\\xlsxwriter\\worksheet.py:1179: UserWarning: Ignoring URL 'https://m.place.naver.com/my/5e2512fa8f87a842bc92945d/review?v=2' since it exceeds Excel's limit of 65,530 URLS per worksheet.\n",
      "  warn(\"Ignoring URL '%s' since it exceeds Excel's limit of \"\n",
      "D:\\anaconda3\\lib\\site-packages\\xlsxwriter\\worksheet.py:1179: UserWarning: Ignoring URL 'https://m.place.naver.com/my/5d71b18a8f87a842bc342fbb/review?v=2' since it exceeds Excel's limit of 65,530 URLS per worksheet.\n",
      "  warn(\"Ignoring URL '%s' since it exceeds Excel's limit of \"\n",
      "D:\\anaconda3\\lib\\site-packages\\xlsxwriter\\worksheet.py:1179: UserWarning: Ignoring URL 'https://m.place.naver.com/my/5df6dbb38f87a842bc202055/review?v=2' since it exceeds Excel's limit of 65,530 URLS per worksheet.\n",
      "  warn(\"Ignoring URL '%s' since it exceeds Excel's limit of \"\n",
      "D:\\anaconda3\\lib\\site-packages\\xlsxwriter\\worksheet.py:1179: UserWarning: Ignoring URL 'https://m.place.naver.com/my/5bce8ce2f154a70dbabd7318/review?v=2' since it exceeds Excel's limit of 65,530 URLS per worksheet.\n",
      "  warn(\"Ignoring URL '%s' since it exceeds Excel's limit of \"\n",
      "D:\\anaconda3\\lib\\site-packages\\xlsxwriter\\worksheet.py:1179: UserWarning: Ignoring URL 'https://m.place.naver.com/my/5ca98596403fb6a422e72ae1/review?v=2' since it exceeds Excel's limit of 65,530 URLS per worksheet.\n",
      "  warn(\"Ignoring URL '%s' since it exceeds Excel's limit of \"\n",
      "D:\\anaconda3\\lib\\site-packages\\xlsxwriter\\worksheet.py:1179: UserWarning: Ignoring URL 'https://m.place.naver.com/my/5c55616dbf0e9fa8e56869c4/review?v=2' since it exceeds Excel's limit of 65,530 URLS per worksheet.\n",
      "  warn(\"Ignoring URL '%s' since it exceeds Excel's limit of \"\n",
      "D:\\anaconda3\\lib\\site-packages\\xlsxwriter\\worksheet.py:1179: UserWarning: Ignoring URL 'https://m.place.naver.com/my/5e4e5dd18f87a842bce62356/review?v=2' since it exceeds Excel's limit of 65,530 URLS per worksheet.\n",
      "  warn(\"Ignoring URL '%s' since it exceeds Excel's limit of \"\n",
      "D:\\anaconda3\\lib\\site-packages\\xlsxwriter\\worksheet.py:1179: UserWarning: Ignoring URL 'https://m.place.naver.com/my/5e630a308f87a842bc2a258c/review?v=2' since it exceeds Excel's limit of 65,530 URLS per worksheet.\n",
      "  warn(\"Ignoring URL '%s' since it exceeds Excel's limit of \"\n",
      "D:\\anaconda3\\lib\\site-packages\\xlsxwriter\\worksheet.py:1179: UserWarning: Ignoring URL 'https://m.place.naver.com/my/5bb3660a9b67fda22a746186/review?v=2' since it exceeds Excel's limit of 65,530 URLS per worksheet.\n",
      "  warn(\"Ignoring URL '%s' since it exceeds Excel's limit of \"\n",
      "D:\\anaconda3\\lib\\site-packages\\xlsxwriter\\worksheet.py:1179: UserWarning: Ignoring URL 'https://m.place.naver.com/my/5c21fa12078b979f5f3bf44c/review?v=2' since it exceeds Excel's limit of 65,530 URLS per worksheet.\n",
      "  warn(\"Ignoring URL '%s' since it exceeds Excel's limit of \"\n",
      "D:\\anaconda3\\lib\\site-packages\\xlsxwriter\\worksheet.py:1179: UserWarning: Ignoring URL 'https://m.place.naver.com/my/5ddfbdb69ec8258e4abeb25b/review?v=2' since it exceeds Excel's limit of 65,530 URLS per worksheet.\n",
      "  warn(\"Ignoring URL '%s' since it exceeds Excel's limit of \"\n",
      "D:\\anaconda3\\lib\\site-packages\\xlsxwriter\\worksheet.py:1179: UserWarning: Ignoring URL 'https://m.place.naver.com/my/5c22502a9db04be6524dfbb5/review?v=2' since it exceeds Excel's limit of 65,530 URLS per worksheet.\n",
      "  warn(\"Ignoring URL '%s' since it exceeds Excel's limit of \"\n",
      "D:\\anaconda3\\lib\\site-packages\\xlsxwriter\\worksheet.py:1179: UserWarning: Ignoring URL 'https://m.place.naver.com/my/5c1cece9ada03009d81351d2/review?v=2' since it exceeds Excel's limit of 65,530 URLS per worksheet.\n",
      "  warn(\"Ignoring URL '%s' since it exceeds Excel's limit of \"\n",
      "D:\\anaconda3\\lib\\site-packages\\xlsxwriter\\worksheet.py:1179: UserWarning: Ignoring URL 'https://m.place.naver.com/my/5d9418cf8f87a842bcd62245/review?v=2' since it exceeds Excel's limit of 65,530 URLS per worksheet.\n",
      "  warn(\"Ignoring URL '%s' since it exceeds Excel's limit of \"\n",
      "D:\\anaconda3\\lib\\site-packages\\xlsxwriter\\worksheet.py:1179: UserWarning: Ignoring URL 'https://m.place.naver.com/my/5cd6e6f08f87a842bc622a26/review?v=2' since it exceeds Excel's limit of 65,530 URLS per worksheet.\n",
      "  warn(\"Ignoring URL '%s' since it exceeds Excel's limit of \"\n",
      "D:\\anaconda3\\lib\\site-packages\\xlsxwriter\\worksheet.py:1179: UserWarning: Ignoring URL 'https://m.place.naver.com/my/5e392b268f87a842bc9039fd/review?v=2' since it exceeds Excel's limit of 65,530 URLS per worksheet.\n",
      "  warn(\"Ignoring URL '%s' since it exceeds Excel's limit of \"\n",
      "D:\\anaconda3\\lib\\site-packages\\xlsxwriter\\worksheet.py:1179: UserWarning: Ignoring URL 'https://m.place.naver.com/my/5ce258ad4dc34c1d5b4fd4d1/review?v=2' since it exceeds Excel's limit of 65,530 URLS per worksheet.\n",
      "  warn(\"Ignoring URL '%s' since it exceeds Excel's limit of \"\n",
      "D:\\anaconda3\\lib\\site-packages\\xlsxwriter\\worksheet.py:1179: UserWarning: Ignoring URL 'https://m.place.naver.com/my/5d42b4bd25a854e9728ddc8a/review?v=2' since it exceeds Excel's limit of 65,530 URLS per worksheet.\n",
      "  warn(\"Ignoring URL '%s' since it exceeds Excel's limit of \"\n",
      "D:\\anaconda3\\lib\\site-packages\\xlsxwriter\\worksheet.py:1179: UserWarning: Ignoring URL 'https://m.place.naver.com/my/5d1acd5210f1664d3c879dee/review?v=2' since it exceeds Excel's limit of 65,530 URLS per worksheet.\n",
      "  warn(\"Ignoring URL '%s' since it exceeds Excel's limit of \"\n",
      "D:\\anaconda3\\lib\\site-packages\\xlsxwriter\\worksheet.py:1179: UserWarning: Ignoring URL 'https://m.place.naver.com/my/5eb7ba7d8f87a842bcce3dae/review?v=2' since it exceeds Excel's limit of 65,530 URLS per worksheet.\n",
      "  warn(\"Ignoring URL '%s' since it exceeds Excel's limit of \"\n",
      "D:\\anaconda3\\lib\\site-packages\\xlsxwriter\\worksheet.py:1179: UserWarning: Ignoring URL 'https://m.place.naver.com/my/5d3bc2c87de14b30f72e99f1/review?v=2' since it exceeds Excel's limit of 65,530 URLS per worksheet.\n",
      "  warn(\"Ignoring URL '%s' since it exceeds Excel's limit of \"\n",
      "D:\\anaconda3\\lib\\site-packages\\xlsxwriter\\worksheet.py:1179: UserWarning: Ignoring URL 'https://m.place.naver.com/my/5d8eece68f87a842bcd5b66b/review?v=2' since it exceeds Excel's limit of 65,530 URLS per worksheet.\n",
      "  warn(\"Ignoring URL '%s' since it exceeds Excel's limit of \"\n",
      "D:\\anaconda3\\lib\\site-packages\\xlsxwriter\\worksheet.py:1179: UserWarning: Ignoring URL 'https://m.place.naver.com/my/5b797916cd604a6351d7fed5/review?v=2' since it exceeds Excel's limit of 65,530 URLS per worksheet.\n",
      "  warn(\"Ignoring URL '%s' since it exceeds Excel's limit of \"\n",
      "D:\\anaconda3\\lib\\site-packages\\xlsxwriter\\worksheet.py:1179: UserWarning: Ignoring URL 'https://m.place.naver.com/my/5baf1b993f4e4fe739d7a0e7/review?v=2' since it exceeds Excel's limit of 65,530 URLS per worksheet.\n",
      "  warn(\"Ignoring URL '%s' since it exceeds Excel's limit of \"\n",
      "D:\\anaconda3\\lib\\site-packages\\xlsxwriter\\worksheet.py:1179: UserWarning: Ignoring URL 'https://m.place.naver.com/my/5efdee970765f4dd1babfd8f/review?v=2' since it exceeds Excel's limit of 65,530 URLS per worksheet.\n",
      "  warn(\"Ignoring URL '%s' since it exceeds Excel's limit of \"\n",
      "D:\\anaconda3\\lib\\site-packages\\xlsxwriter\\worksheet.py:1179: UserWarning: Ignoring URL 'https://m.place.naver.com/my/5d05f1e12f13c5371604b213/review?v=2' since it exceeds Excel's limit of 65,530 URLS per worksheet.\n",
      "  warn(\"Ignoring URL '%s' since it exceeds Excel's limit of \"\n",
      "D:\\anaconda3\\lib\\site-packages\\xlsxwriter\\worksheet.py:1179: UserWarning: Ignoring URL 'https://m.place.naver.com/my/5b6d13c00263a906d105f586/review?v=2' since it exceeds Excel's limit of 65,530 URLS per worksheet.\n",
      "  warn(\"Ignoring URL '%s' since it exceeds Excel's limit of \"\n",
      "D:\\anaconda3\\lib\\site-packages\\xlsxwriter\\worksheet.py:1179: UserWarning: Ignoring URL 'https://m.place.naver.com/my/5dbc300c8f87a842bcd43e6d/review?v=2' since it exceeds Excel's limit of 65,530 URLS per worksheet.\n",
      "  warn(\"Ignoring URL '%s' since it exceeds Excel's limit of \"\n",
      "D:\\anaconda3\\lib\\site-packages\\xlsxwriter\\worksheet.py:1179: UserWarning: Ignoring URL 'https://m.place.naver.com/my/6019622d9078b0259565b21c/review?v=2' since it exceeds Excel's limit of 65,530 URLS per worksheet.\n",
      "  warn(\"Ignoring URL '%s' since it exceeds Excel's limit of \"\n",
      "D:\\anaconda3\\lib\\site-packages\\xlsxwriter\\worksheet.py:1179: UserWarning: Ignoring URL 'https://m.place.naver.com/my/5c88274e4c8e9845203b7eeb/review?v=2' since it exceeds Excel's limit of 65,530 URLS per worksheet.\n",
      "  warn(\"Ignoring URL '%s' since it exceeds Excel's limit of \"\n",
      "D:\\anaconda3\\lib\\site-packages\\xlsxwriter\\worksheet.py:1179: UserWarning: Ignoring URL 'https://m.place.naver.com/my/5daed90d8f87a842bcc6609f/review?v=2' since it exceeds Excel's limit of 65,530 URLS per worksheet.\n",
      "  warn(\"Ignoring URL '%s' since it exceeds Excel's limit of \"\n",
      "D:\\anaconda3\\lib\\site-packages\\xlsxwriter\\worksheet.py:1179: UserWarning: Ignoring URL 'https://m.place.naver.com/my/5eff874880dd0fa8cd66409c/review?v=2' since it exceeds Excel's limit of 65,530 URLS per worksheet.\n",
      "  warn(\"Ignoring URL '%s' since it exceeds Excel's limit of \"\n",
      "D:\\anaconda3\\lib\\site-packages\\xlsxwriter\\worksheet.py:1179: UserWarning: Ignoring URL 'https://m.place.naver.com/my/5d34abe32a4af3b701345251/review?v=2' since it exceeds Excel's limit of 65,530 URLS per worksheet.\n",
      "  warn(\"Ignoring URL '%s' since it exceeds Excel's limit of \"\n",
      "D:\\anaconda3\\lib\\site-packages\\xlsxwriter\\worksheet.py:1179: UserWarning: Ignoring URL 'https://m.place.naver.com/my/5ee8e2e98f87a842bcc0ffec/review?v=2' since it exceeds Excel's limit of 65,530 URLS per worksheet.\n",
      "  warn(\"Ignoring URL '%s' since it exceeds Excel's limit of \"\n",
      "D:\\anaconda3\\lib\\site-packages\\xlsxwriter\\worksheet.py:1179: UserWarning: Ignoring URL 'https://m.place.naver.com/my/5ce0400a975807db21dc8fd4/review?v=2' since it exceeds Excel's limit of 65,530 URLS per worksheet.\n",
      "  warn(\"Ignoring URL '%s' since it exceeds Excel's limit of \"\n",
      "D:\\anaconda3\\lib\\site-packages\\xlsxwriter\\worksheet.py:1179: UserWarning: Ignoring URL 'https://m.place.naver.com/my/5c3c426e03b3b78fbfd77f10/review?v=2' since it exceeds Excel's limit of 65,530 URLS per worksheet.\n",
      "  warn(\"Ignoring URL '%s' since it exceeds Excel's limit of \"\n",
      "D:\\anaconda3\\lib\\site-packages\\xlsxwriter\\worksheet.py:1179: UserWarning: Ignoring URL 'https://m.place.naver.com/my/5d4f9d12513a31eac48a69ad/review?v=2' since it exceeds Excel's limit of 65,530 URLS per worksheet.\n",
      "  warn(\"Ignoring URL '%s' since it exceeds Excel's limit of \"\n",
      "D:\\anaconda3\\lib\\site-packages\\xlsxwriter\\worksheet.py:1179: UserWarning: Ignoring URL 'https://m.place.naver.com/my/5e16d1498f87a842bc76f9c4/review?v=2' since it exceeds Excel's limit of 65,530 URLS per worksheet.\n",
      "  warn(\"Ignoring URL '%s' since it exceeds Excel's limit of \"\n",
      "D:\\anaconda3\\lib\\site-packages\\xlsxwriter\\worksheet.py:1179: UserWarning: Ignoring URL 'https://m.place.naver.com/my/5f04fdb195fe4a9e8ba9c978/review?v=2' since it exceeds Excel's limit of 65,530 URLS per worksheet.\n",
      "  warn(\"Ignoring URL '%s' since it exceeds Excel's limit of \"\n",
      "D:\\anaconda3\\lib\\site-packages\\xlsxwriter\\worksheet.py:1179: UserWarning: Ignoring URL 'https://m.place.naver.com/my/62e1f7847b4dd700066a7836/review?v=2' since it exceeds Excel's limit of 65,530 URLS per worksheet.\n",
      "  warn(\"Ignoring URL '%s' since it exceeds Excel's limit of \"\n",
      "D:\\anaconda3\\lib\\site-packages\\xlsxwriter\\worksheet.py:1179: UserWarning: Ignoring URL 'https://m.place.naver.com/my/61a7367982fc7500070d6490/review?v=2' since it exceeds Excel's limit of 65,530 URLS per worksheet.\n",
      "  warn(\"Ignoring URL '%s' since it exceeds Excel's limit of \"\n",
      "D:\\anaconda3\\lib\\site-packages\\xlsxwriter\\worksheet.py:1179: UserWarning: Ignoring URL 'https://m.place.naver.com/my/5e6de9848f87a842bcc6f000/review?v=2' since it exceeds Excel's limit of 65,530 URLS per worksheet.\n",
      "  warn(\"Ignoring URL '%s' since it exceeds Excel's limit of \"\n",
      "D:\\anaconda3\\lib\\site-packages\\xlsxwriter\\worksheet.py:1179: UserWarning: Ignoring URL 'https://m.place.naver.com/my/5d149a54686d6fe8116ca3bf/review?v=2' since it exceeds Excel's limit of 65,530 URLS per worksheet.\n",
      "  warn(\"Ignoring URL '%s' since it exceeds Excel's limit of \"\n",
      "D:\\anaconda3\\lib\\site-packages\\xlsxwriter\\worksheet.py:1179: UserWarning: Ignoring URL 'https://m.place.naver.com/my/5fb89fb95c380b241510b003/review?v=2' since it exceeds Excel's limit of 65,530 URLS per worksheet.\n",
      "  warn(\"Ignoring URL '%s' since it exceeds Excel's limit of \"\n",
      "D:\\anaconda3\\lib\\site-packages\\xlsxwriter\\worksheet.py:1179: UserWarning: Ignoring URL 'https://m.place.naver.com/my/60e2719e1dd4cf539dff9585/review?v=2' since it exceeds Excel's limit of 65,530 URLS per worksheet.\n",
      "  warn(\"Ignoring URL '%s' since it exceeds Excel's limit of \"\n",
      "D:\\anaconda3\\lib\\site-packages\\xlsxwriter\\worksheet.py:1179: UserWarning: Ignoring URL 'https://m.place.naver.com/my/5c3c5a72d7f24ed85faeade0/review?v=2' since it exceeds Excel's limit of 65,530 URLS per worksheet.\n",
      "  warn(\"Ignoring URL '%s' since it exceeds Excel's limit of \"\n",
      "D:\\anaconda3\\lib\\site-packages\\xlsxwriter\\worksheet.py:1179: UserWarning: Ignoring URL 'https://m.place.naver.com/my/5f05adc80e1ac3aceef9c713/review?v=2' since it exceeds Excel's limit of 65,530 URLS per worksheet.\n",
      "  warn(\"Ignoring URL '%s' since it exceeds Excel's limit of \"\n",
      "D:\\anaconda3\\lib\\site-packages\\xlsxwriter\\worksheet.py:1179: UserWarning: Ignoring URL 'https://m.place.naver.com/my/5ed24f9b8f87a842bc2e84e0/review?v=2' since it exceeds Excel's limit of 65,530 URLS per worksheet.\n",
      "  warn(\"Ignoring URL '%s' since it exceeds Excel's limit of \"\n",
      "D:\\anaconda3\\lib\\site-packages\\xlsxwriter\\worksheet.py:1179: UserWarning: Ignoring URL 'https://m.place.naver.com/my/5ea033aa8f87a842bc5296bd/review?v=2' since it exceeds Excel's limit of 65,530 URLS per worksheet.\n",
      "  warn(\"Ignoring URL '%s' since it exceeds Excel's limit of \"\n",
      "D:\\anaconda3\\lib\\site-packages\\xlsxwriter\\worksheet.py:1179: UserWarning: Ignoring URL 'https://m.place.naver.com/my/5d956f598f87a842bc2d4dbc/review?v=2' since it exceeds Excel's limit of 65,530 URLS per worksheet.\n",
      "  warn(\"Ignoring URL '%s' since it exceeds Excel's limit of \"\n",
      "D:\\anaconda3\\lib\\site-packages\\xlsxwriter\\worksheet.py:1179: UserWarning: Ignoring URL 'https://m.place.naver.com/my/5bed3ec974bddea2c5def681/review?v=2' since it exceeds Excel's limit of 65,530 URLS per worksheet.\n",
      "  warn(\"Ignoring URL '%s' since it exceeds Excel's limit of \"\n",
      "D:\\anaconda3\\lib\\site-packages\\xlsxwriter\\worksheet.py:1179: UserWarning: Ignoring URL 'https://m.place.naver.com/my/5f0599d0425190b39b967687/review?v=2' since it exceeds Excel's limit of 65,530 URLS per worksheet.\n",
      "  warn(\"Ignoring URL '%s' since it exceeds Excel's limit of \"\n",
      "D:\\anaconda3\\lib\\site-packages\\xlsxwriter\\worksheet.py:1179: UserWarning: Ignoring URL 'https://m.place.naver.com/my/5c2ddadce035152719164ad9/review?v=2' since it exceeds Excel's limit of 65,530 URLS per worksheet.\n",
      "  warn(\"Ignoring URL '%s' since it exceeds Excel's limit of \"\n",
      "D:\\anaconda3\\lib\\site-packages\\xlsxwriter\\worksheet.py:1179: UserWarning: Ignoring URL 'https://m.place.naver.com/my/5f062c9805022b66f9636424/review?v=2' since it exceeds Excel's limit of 65,530 URLS per worksheet.\n",
      "  warn(\"Ignoring URL '%s' since it exceeds Excel's limit of \"\n",
      "D:\\anaconda3\\lib\\site-packages\\xlsxwriter\\worksheet.py:1179: UserWarning: Ignoring URL 'https://m.place.naver.com/my/5f17c5079ec8258e4ad6777e/review?v=2' since it exceeds Excel's limit of 65,530 URLS per worksheet.\n",
      "  warn(\"Ignoring URL '%s' since it exceeds Excel's limit of \"\n",
      "D:\\anaconda3\\lib\\site-packages\\xlsxwriter\\worksheet.py:1179: UserWarning: Ignoring URL 'https://m.place.naver.com/my/5e33f4eb8f87a842bc8b04f0/review?v=2' since it exceeds Excel's limit of 65,530 URLS per worksheet.\n",
      "  warn(\"Ignoring URL '%s' since it exceeds Excel's limit of \"\n",
      "D:\\anaconda3\\lib\\site-packages\\xlsxwriter\\worksheet.py:1179: UserWarning: Ignoring URL 'https://m.place.naver.com/my/5fd3229ad28281b95cddf0e7/review?v=2' since it exceeds Excel's limit of 65,530 URLS per worksheet.\n",
      "  warn(\"Ignoring URL '%s' since it exceeds Excel's limit of \"\n",
      "D:\\anaconda3\\lib\\site-packages\\xlsxwriter\\worksheet.py:1179: UserWarning: Ignoring URL 'https://m.place.naver.com/my/5bcad519edb9ef84f4d90c93/review?v=2' since it exceeds Excel's limit of 65,530 URLS per worksheet.\n",
      "  warn(\"Ignoring URL '%s' since it exceeds Excel's limit of \"\n",
      "D:\\anaconda3\\lib\\site-packages\\xlsxwriter\\worksheet.py:1179: UserWarning: Ignoring URL 'https://m.place.naver.com/my/5befbd671f3b4d488823cbd3/review?v=2' since it exceeds Excel's limit of 65,530 URLS per worksheet.\n",
      "  warn(\"Ignoring URL '%s' since it exceeds Excel's limit of \"\n",
      "D:\\anaconda3\\lib\\site-packages\\xlsxwriter\\worksheet.py:1179: UserWarning: Ignoring URL 'https://m.place.naver.com/my/5ebf6d808f87a842bc7574a4/review?v=2' since it exceeds Excel's limit of 65,530 URLS per worksheet.\n",
      "  warn(\"Ignoring URL '%s' since it exceeds Excel's limit of \"\n",
      "D:\\anaconda3\\lib\\site-packages\\xlsxwriter\\worksheet.py:1179: UserWarning: Ignoring URL 'https://m.place.naver.com/my/5ba58b8ca7931bb98d8e3fd7/review?v=2' since it exceeds Excel's limit of 65,530 URLS per worksheet.\n",
      "  warn(\"Ignoring URL '%s' since it exceeds Excel's limit of \"\n",
      "D:\\anaconda3\\lib\\site-packages\\xlsxwriter\\worksheet.py:1179: UserWarning: Ignoring URL 'https://m.place.naver.com/my/5b73933b5885e8eb8681e15d/review?v=2' since it exceeds Excel's limit of 65,530 URLS per worksheet.\n",
      "  warn(\"Ignoring URL '%s' since it exceeds Excel's limit of \"\n",
      "D:\\anaconda3\\lib\\site-packages\\xlsxwriter\\worksheet.py:1179: UserWarning: Ignoring URL 'https://m.place.naver.com/my/5ebcbe458f87a842bc740e7b/review?v=2' since it exceeds Excel's limit of 65,530 URLS per worksheet.\n",
      "  warn(\"Ignoring URL '%s' since it exceeds Excel's limit of \"\n",
      "D:\\anaconda3\\lib\\site-packages\\xlsxwriter\\worksheet.py:1179: UserWarning: Ignoring URL 'https://m.place.naver.com/my/628c6f41a0160b675c91adc1/review?v=2' since it exceeds Excel's limit of 65,530 URLS per worksheet.\n",
      "  warn(\"Ignoring URL '%s' since it exceeds Excel's limit of \"\n",
      "D:\\anaconda3\\lib\\site-packages\\xlsxwriter\\worksheet.py:1179: UserWarning: Ignoring URL 'https://m.place.naver.com/my/5c2a4479c79a0d5cde4cf63d/review?v=2' since it exceeds Excel's limit of 65,530 URLS per worksheet.\n",
      "  warn(\"Ignoring URL '%s' since it exceeds Excel's limit of \"\n",
      "D:\\anaconda3\\lib\\site-packages\\xlsxwriter\\worksheet.py:1179: UserWarning: Ignoring URL 'https://m.place.naver.com/my/5e6c25a88f87a842bc07ee39/review?v=2' since it exceeds Excel's limit of 65,530 URLS per worksheet.\n",
      "  warn(\"Ignoring URL '%s' since it exceeds Excel's limit of \"\n",
      "D:\\anaconda3\\lib\\site-packages\\xlsxwriter\\worksheet.py:1179: UserWarning: Ignoring URL 'https://m.place.naver.com/my/5e3674d68f87a842bc4899ac/review?v=2' since it exceeds Excel's limit of 65,530 URLS per worksheet.\n",
      "  warn(\"Ignoring URL '%s' since it exceeds Excel's limit of \"\n",
      "D:\\anaconda3\\lib\\site-packages\\xlsxwriter\\worksheet.py:1179: UserWarning: Ignoring URL 'https://m.place.naver.com/my/5dafee158f87a842bc46152e/review?v=2' since it exceeds Excel's limit of 65,530 URLS per worksheet.\n",
      "  warn(\"Ignoring URL '%s' since it exceeds Excel's limit of \"\n",
      "D:\\anaconda3\\lib\\site-packages\\xlsxwriter\\worksheet.py:1179: UserWarning: Ignoring URL 'https://m.place.naver.com/my/5f8438636c3d7f73347675a7/review?v=2' since it exceeds Excel's limit of 65,530 URLS per worksheet.\n",
      "  warn(\"Ignoring URL '%s' since it exceeds Excel's limit of \"\n",
      "D:\\anaconda3\\lib\\site-packages\\xlsxwriter\\worksheet.py:1179: UserWarning: Ignoring URL 'https://m.place.naver.com/my/5e1d42088f87a842bc409307/review?v=2' since it exceeds Excel's limit of 65,530 URLS per worksheet.\n",
      "  warn(\"Ignoring URL '%s' since it exceeds Excel's limit of \"\n",
      "D:\\anaconda3\\lib\\site-packages\\xlsxwriter\\worksheet.py:1179: UserWarning: Ignoring URL 'https://m.place.naver.com/my/5db2eb448f87a842bc473ee1/review?v=2' since it exceeds Excel's limit of 65,530 URLS per worksheet.\n",
      "  warn(\"Ignoring URL '%s' since it exceeds Excel's limit of \"\n",
      "D:\\anaconda3\\lib\\site-packages\\xlsxwriter\\worksheet.py:1179: UserWarning: Ignoring URL 'https://m.place.naver.com/my/5ddf62329ec8258e4ac0e75d/review?v=2' since it exceeds Excel's limit of 65,530 URLS per worksheet.\n",
      "  warn(\"Ignoring URL '%s' since it exceeds Excel's limit of \"\n",
      "D:\\anaconda3\\lib\\site-packages\\xlsxwriter\\worksheet.py:1179: UserWarning: Ignoring URL 'https://m.place.naver.com/my/5c5eaf74893bd1de10b7abff/review?v=2' since it exceeds Excel's limit of 65,530 URLS per worksheet.\n",
      "  warn(\"Ignoring URL '%s' since it exceeds Excel's limit of \"\n",
      "D:\\anaconda3\\lib\\site-packages\\xlsxwriter\\worksheet.py:1179: UserWarning: Ignoring URL 'https://m.place.naver.com/my/5c9ca6680e10d421794cebc9/review?v=2' since it exceeds Excel's limit of 65,530 URLS per worksheet.\n",
      "  warn(\"Ignoring URL '%s' since it exceeds Excel's limit of \"\n",
      "D:\\anaconda3\\lib\\site-packages\\xlsxwriter\\worksheet.py:1179: UserWarning: Ignoring URL 'https://m.place.naver.com/my/60b81ae215d9bbe2e7d7b7ee/review?v=2' since it exceeds Excel's limit of 65,530 URLS per worksheet.\n",
      "  warn(\"Ignoring URL '%s' since it exceeds Excel's limit of \"\n",
      "D:\\anaconda3\\lib\\site-packages\\xlsxwriter\\worksheet.py:1179: UserWarning: Ignoring URL 'https://m.place.naver.com/my/5e8ff43e8f87a842bcdcc700/review?v=2' since it exceeds Excel's limit of 65,530 URLS per worksheet.\n",
      "  warn(\"Ignoring URL '%s' since it exceeds Excel's limit of \"\n",
      "D:\\anaconda3\\lib\\site-packages\\xlsxwriter\\worksheet.py:1179: UserWarning: Ignoring URL 'https://m.place.naver.com/my/5d9be8f88f87a842bc85a722/review?v=2' since it exceeds Excel's limit of 65,530 URLS per worksheet.\n",
      "  warn(\"Ignoring URL '%s' since it exceeds Excel's limit of \"\n",
      "D:\\anaconda3\\lib\\site-packages\\xlsxwriter\\worksheet.py:1179: UserWarning: Ignoring URL 'https://m.place.naver.com/my/5fb399deab63dfcf8e37338e/review?v=2' since it exceeds Excel's limit of 65,530 URLS per worksheet.\n",
      "  warn(\"Ignoring URL '%s' since it exceeds Excel's limit of \"\n",
      "D:\\anaconda3\\lib\\site-packages\\xlsxwriter\\worksheet.py:1179: UserWarning: Ignoring URL 'https://m.place.naver.com/my/630637acd8f2e20006ac4270/review?v=2' since it exceeds Excel's limit of 65,530 URLS per worksheet.\n",
      "  warn(\"Ignoring URL '%s' since it exceeds Excel's limit of \"\n",
      "D:\\anaconda3\\lib\\site-packages\\xlsxwriter\\worksheet.py:1179: UserWarning: Ignoring URL 'https://m.place.naver.com/my/5d10de6545c8a85257ec8a80/review?v=2' since it exceeds Excel's limit of 65,530 URLS per worksheet.\n",
      "  warn(\"Ignoring URL '%s' since it exceeds Excel's limit of \"\n",
      "D:\\anaconda3\\lib\\site-packages\\xlsxwriter\\worksheet.py:1179: UserWarning: Ignoring URL 'https://m.place.naver.com/my/5c15192a359b5d9f9a076481/review?v=2' since it exceeds Excel's limit of 65,530 URLS per worksheet.\n",
      "  warn(\"Ignoring URL '%s' since it exceeds Excel's limit of \"\n",
      "D:\\anaconda3\\lib\\site-packages\\xlsxwriter\\worksheet.py:1179: UserWarning: Ignoring URL 'https://m.place.naver.com/my/5ef6f0da8f87a842bc115556/review?v=2' since it exceeds Excel's limit of 65,530 URLS per worksheet.\n",
      "  warn(\"Ignoring URL '%s' since it exceeds Excel's limit of \"\n",
      "D:\\anaconda3\\lib\\site-packages\\xlsxwriter\\worksheet.py:1179: UserWarning: Ignoring URL 'https://m.place.naver.com/my/5de0e9269ec8258e4af4978e/review?v=2' since it exceeds Excel's limit of 65,530 URLS per worksheet.\n",
      "  warn(\"Ignoring URL '%s' since it exceeds Excel's limit of \"\n",
      "D:\\anaconda3\\lib\\site-packages\\xlsxwriter\\worksheet.py:1179: UserWarning: Ignoring URL 'https://m.place.naver.com/my/5da819a18f87a842bc15caa6/review?v=2' since it exceeds Excel's limit of 65,530 URLS per worksheet.\n",
      "  warn(\"Ignoring URL '%s' since it exceeds Excel's limit of \"\n",
      "D:\\anaconda3\\lib\\site-packages\\xlsxwriter\\worksheet.py:1179: UserWarning: Ignoring URL 'https://m.place.naver.com/my/5d46582157bdefb9fc66cfe1/review?v=2' since it exceeds Excel's limit of 65,530 URLS per worksheet.\n",
      "  warn(\"Ignoring URL '%s' since it exceeds Excel's limit of \"\n",
      "D:\\anaconda3\\lib\\site-packages\\xlsxwriter\\worksheet.py:1179: UserWarning: Ignoring URL 'https://m.place.naver.com/my/5c8096b0715d2a6b0ec8d9c4/review?v=2' since it exceeds Excel's limit of 65,530 URLS per worksheet.\n",
      "  warn(\"Ignoring URL '%s' since it exceeds Excel's limit of \"\n",
      "D:\\anaconda3\\lib\\site-packages\\xlsxwriter\\worksheet.py:1179: UserWarning: Ignoring URL 'https://m.place.naver.com/my/6001734a8b9aa2e96a703977/review?v=2' since it exceeds Excel's limit of 65,530 URLS per worksheet.\n",
      "  warn(\"Ignoring URL '%s' since it exceeds Excel's limit of \"\n",
      "D:\\anaconda3\\lib\\site-packages\\xlsxwriter\\worksheet.py:1179: UserWarning: Ignoring URL 'https://m.place.naver.com/my/5cc5252aad1373e7361e8d10/review?v=2' since it exceeds Excel's limit of 65,530 URLS per worksheet.\n",
      "  warn(\"Ignoring URL '%s' since it exceeds Excel's limit of \"\n",
      "D:\\anaconda3\\lib\\site-packages\\xlsxwriter\\worksheet.py:1179: UserWarning: Ignoring URL 'https://m.place.naver.com/my/5dfc96098f87a842bcd6683e/review?v=2' since it exceeds Excel's limit of 65,530 URLS per worksheet.\n",
      "  warn(\"Ignoring URL '%s' since it exceeds Excel's limit of \"\n",
      "D:\\anaconda3\\lib\\site-packages\\xlsxwriter\\worksheet.py:1179: UserWarning: Ignoring URL 'https://m.place.naver.com/my/6035d6ee11dab58f1f49e879/review?v=2' since it exceeds Excel's limit of 65,530 URLS per worksheet.\n",
      "  warn(\"Ignoring URL '%s' since it exceeds Excel's limit of \"\n",
      "D:\\anaconda3\\lib\\site-packages\\xlsxwriter\\worksheet.py:1179: UserWarning: Ignoring URL 'https://m.place.naver.com/my/62f108a34e38bb56c21dd6fb/review?v=2' since it exceeds Excel's limit of 65,530 URLS per worksheet.\n",
      "  warn(\"Ignoring URL '%s' since it exceeds Excel's limit of \"\n",
      "D:\\anaconda3\\lib\\site-packages\\xlsxwriter\\worksheet.py:1179: UserWarning: Ignoring URL 'https://m.place.naver.com/my/62c7d0210d7fd02d8769bf3c/review?v=2' since it exceeds Excel's limit of 65,530 URLS per worksheet.\n",
      "  warn(\"Ignoring URL '%s' since it exceeds Excel's limit of \"\n",
      "D:\\anaconda3\\lib\\site-packages\\xlsxwriter\\worksheet.py:1179: UserWarning: Ignoring URL 'https://m.place.naver.com/my/5b6ec70df54c5c6217ff8a45/review?v=2' since it exceeds Excel's limit of 65,530 URLS per worksheet.\n",
      "  warn(\"Ignoring URL '%s' since it exceeds Excel's limit of \"\n",
      "D:\\anaconda3\\lib\\site-packages\\xlsxwriter\\worksheet.py:1179: UserWarning: Ignoring URL 'https://m.place.naver.com/my/5ca4b6576d1fd54e1888cb4d/review?v=2' since it exceeds Excel's limit of 65,530 URLS per worksheet.\n",
      "  warn(\"Ignoring URL '%s' since it exceeds Excel's limit of \"\n",
      "D:\\anaconda3\\lib\\site-packages\\xlsxwriter\\worksheet.py:1179: UserWarning: Ignoring URL 'https://m.place.naver.com/my/5efe809fafcca6e20afd7449/review?v=2' since it exceeds Excel's limit of 65,530 URLS per worksheet.\n",
      "  warn(\"Ignoring URL '%s' since it exceeds Excel's limit of \"\n",
      "D:\\anaconda3\\lib\\site-packages\\xlsxwriter\\worksheet.py:1179: UserWarning: Ignoring URL 'https://m.place.naver.com/my/5f2124e59ec8258e4aa6740a/review?v=2' since it exceeds Excel's limit of 65,530 URLS per worksheet.\n",
      "  warn(\"Ignoring URL '%s' since it exceeds Excel's limit of \"\n",
      "D:\\anaconda3\\lib\\site-packages\\xlsxwriter\\worksheet.py:1179: UserWarning: Ignoring URL 'https://m.place.naver.com/my/5f9e1aead8b36758c3fafd46/review?v=2' since it exceeds Excel's limit of 65,530 URLS per worksheet.\n",
      "  warn(\"Ignoring URL '%s' since it exceeds Excel's limit of \"\n",
      "D:\\anaconda3\\lib\\site-packages\\xlsxwriter\\worksheet.py:1179: UserWarning: Ignoring URL 'https://m.place.naver.com/my/5dae6b4d8f87a842bc5a56fd/review?v=2' since it exceeds Excel's limit of 65,530 URLS per worksheet.\n",
      "  warn(\"Ignoring URL '%s' since it exceeds Excel's limit of \"\n",
      "D:\\anaconda3\\lib\\site-packages\\xlsxwriter\\worksheet.py:1179: UserWarning: Ignoring URL 'https://m.place.naver.com/my/5e892f9b8f87a842bc32ad6c/review?v=2' since it exceeds Excel's limit of 65,530 URLS per worksheet.\n",
      "  warn(\"Ignoring URL '%s' since it exceeds Excel's limit of \"\n",
      "D:\\anaconda3\\lib\\site-packages\\xlsxwriter\\worksheet.py:1179: UserWarning: Ignoring URL 'https://m.place.naver.com/my/5f056ab034a524e70c5bd70d/review?v=2' since it exceeds Excel's limit of 65,530 URLS per worksheet.\n",
      "  warn(\"Ignoring URL '%s' since it exceeds Excel's limit of \"\n",
      "D:\\anaconda3\\lib\\site-packages\\xlsxwriter\\worksheet.py:1179: UserWarning: Ignoring URL 'https://m.place.naver.com/my/5ede09888f87a842bc5a7d61/review?v=2' since it exceeds Excel's limit of 65,530 URLS per worksheet.\n",
      "  warn(\"Ignoring URL '%s' since it exceeds Excel's limit of \"\n",
      "D:\\anaconda3\\lib\\site-packages\\xlsxwriter\\worksheet.py:1179: UserWarning: Ignoring URL 'https://m.place.naver.com/my/5d1f69328c5e55a86013aaa6/review?v=2' since it exceeds Excel's limit of 65,530 URLS per worksheet.\n",
      "  warn(\"Ignoring URL '%s' since it exceeds Excel's limit of \"\n",
      "D:\\anaconda3\\lib\\site-packages\\xlsxwriter\\worksheet.py:1179: UserWarning: Ignoring URL 'https://m.place.naver.com/my/5d8c28a28f87a842bce630ea/review?v=2' since it exceeds Excel's limit of 65,530 URLS per worksheet.\n",
      "  warn(\"Ignoring URL '%s' since it exceeds Excel's limit of \"\n",
      "D:\\anaconda3\\lib\\site-packages\\xlsxwriter\\worksheet.py:1179: UserWarning: Ignoring URL 'https://m.place.naver.com/my/5bc1975799eee69c5f36fd42/review?v=2' since it exceeds Excel's limit of 65,530 URLS per worksheet.\n",
      "  warn(\"Ignoring URL '%s' since it exceeds Excel's limit of \"\n",
      "D:\\anaconda3\\lib\\site-packages\\xlsxwriter\\worksheet.py:1179: UserWarning: Ignoring URL 'https://m.place.naver.com/my/5efdfa8084943dca755ab08a/review?v=2' since it exceeds Excel's limit of 65,530 URLS per worksheet.\n",
      "  warn(\"Ignoring URL '%s' since it exceeds Excel's limit of \"\n",
      "D:\\anaconda3\\lib\\site-packages\\xlsxwriter\\worksheet.py:1179: UserWarning: Ignoring URL 'https://m.place.naver.com/my/5b874921204f7f2e32af0ef2/review?v=2' since it exceeds Excel's limit of 65,530 URLS per worksheet.\n",
      "  warn(\"Ignoring URL '%s' since it exceeds Excel's limit of \"\n",
      "D:\\anaconda3\\lib\\site-packages\\xlsxwriter\\worksheet.py:1179: UserWarning: Ignoring URL 'https://m.place.naver.com/my/627f26fd7f912bdcb45457a4/review?v=2' since it exceeds Excel's limit of 65,530 URLS per worksheet.\n",
      "  warn(\"Ignoring URL '%s' since it exceeds Excel's limit of \"\n",
      "D:\\anaconda3\\lib\\site-packages\\xlsxwriter\\worksheet.py:1179: UserWarning: Ignoring URL 'https://m.place.naver.com/my/5d64c8428f87a842bc29cf11/review?v=2' since it exceeds Excel's limit of 65,530 URLS per worksheet.\n",
      "  warn(\"Ignoring URL '%s' since it exceeds Excel's limit of \"\n",
      "D:\\anaconda3\\lib\\site-packages\\xlsxwriter\\worksheet.py:1179: UserWarning: Ignoring URL 'https://m.place.naver.com/my/6091d43baa724c3efb070ead/review?v=2' since it exceeds Excel's limit of 65,530 URLS per worksheet.\n",
      "  warn(\"Ignoring URL '%s' since it exceeds Excel's limit of \"\n",
      "D:\\anaconda3\\lib\\site-packages\\xlsxwriter\\worksheet.py:1179: UserWarning: Ignoring URL 'https://m.place.naver.com/my/5e53da5e8f87a842bcd27888/review?v=2' since it exceeds Excel's limit of 65,530 URLS per worksheet.\n",
      "  warn(\"Ignoring URL '%s' since it exceeds Excel's limit of \"\n",
      "D:\\anaconda3\\lib\\site-packages\\xlsxwriter\\worksheet.py:1179: UserWarning: Ignoring URL 'https://m.place.naver.com/my/5dfaec348f87a842bc06e2ab/review?v=2' since it exceeds Excel's limit of 65,530 URLS per worksheet.\n",
      "  warn(\"Ignoring URL '%s' since it exceeds Excel's limit of \"\n",
      "D:\\anaconda3\\lib\\site-packages\\xlsxwriter\\worksheet.py:1179: UserWarning: Ignoring URL 'https://m.place.naver.com/my/5e5cb9c58f87a842bc19d156/review?v=2' since it exceeds Excel's limit of 65,530 URLS per worksheet.\n",
      "  warn(\"Ignoring URL '%s' since it exceeds Excel's limit of \"\n",
      "D:\\anaconda3\\lib\\site-packages\\xlsxwriter\\worksheet.py:1179: UserWarning: Ignoring URL 'https://m.place.naver.com/my/5bfb826ba13aa91d6e70a4b5/review?v=2' since it exceeds Excel's limit of 65,530 URLS per worksheet.\n",
      "  warn(\"Ignoring URL '%s' since it exceeds Excel's limit of \"\n",
      "D:\\anaconda3\\lib\\site-packages\\xlsxwriter\\worksheet.py:1179: UserWarning: Ignoring URL 'https://m.place.naver.com/my/5efde4d7854ca9293112cce4/review?v=2' since it exceeds Excel's limit of 65,530 URLS per worksheet.\n",
      "  warn(\"Ignoring URL '%s' since it exceeds Excel's limit of \"\n",
      "D:\\anaconda3\\lib\\site-packages\\xlsxwriter\\worksheet.py:1179: UserWarning: Ignoring URL 'https://m.place.naver.com/my/5f055ffa2f90b7de35375bc1/review?v=2' since it exceeds Excel's limit of 65,530 URLS per worksheet.\n",
      "  warn(\"Ignoring URL '%s' since it exceeds Excel's limit of \"\n",
      "D:\\anaconda3\\lib\\site-packages\\xlsxwriter\\worksheet.py:1179: UserWarning: Ignoring URL 'https://m.place.naver.com/my/5e75f72b8f87a842bc7f464a/review?v=2' since it exceeds Excel's limit of 65,530 URLS per worksheet.\n",
      "  warn(\"Ignoring URL '%s' since it exceeds Excel's limit of \"\n",
      "D:\\anaconda3\\lib\\site-packages\\xlsxwriter\\worksheet.py:1179: UserWarning: Ignoring URL 'https://m.place.naver.com/my/5d197224ffdd3d772a9b6371/review?v=2' since it exceeds Excel's limit of 65,530 URLS per worksheet.\n",
      "  warn(\"Ignoring URL '%s' since it exceeds Excel's limit of \"\n",
      "D:\\anaconda3\\lib\\site-packages\\xlsxwriter\\worksheet.py:1179: UserWarning: Ignoring URL 'https://m.place.naver.com/my/5f057f422f90b7de3537c52b/review?v=2' since it exceeds Excel's limit of 65,530 URLS per worksheet.\n",
      "  warn(\"Ignoring URL '%s' since it exceeds Excel's limit of \"\n",
      "D:\\anaconda3\\lib\\site-packages\\xlsxwriter\\worksheet.py:1179: UserWarning: Ignoring URL 'https://m.place.naver.com/my/5f0937ec9ec8258e4a9a791e/review?v=2' since it exceeds Excel's limit of 65,530 URLS per worksheet.\n",
      "  warn(\"Ignoring URL '%s' since it exceeds Excel's limit of \"\n",
      "D:\\anaconda3\\lib\\site-packages\\xlsxwriter\\worksheet.py:1179: UserWarning: Ignoring URL 'https://m.place.naver.com/my/5ebabdd88f87a842bc56b0b2/review?v=2' since it exceeds Excel's limit of 65,530 URLS per worksheet.\n",
      "  warn(\"Ignoring URL '%s' since it exceeds Excel's limit of \"\n",
      "D:\\anaconda3\\lib\\site-packages\\xlsxwriter\\worksheet.py:1179: UserWarning: Ignoring URL 'https://m.place.naver.com/my/5f061451c39701d27e14d765/review?v=2' since it exceeds Excel's limit of 65,530 URLS per worksheet.\n",
      "  warn(\"Ignoring URL '%s' since it exceeds Excel's limit of \"\n",
      "D:\\anaconda3\\lib\\site-packages\\xlsxwriter\\worksheet.py:1179: UserWarning: Ignoring URL 'https://m.place.naver.com/my/5df841ef8f87a842bc6313a9/review?v=2' since it exceeds Excel's limit of 65,530 URLS per worksheet.\n",
      "  warn(\"Ignoring URL '%s' since it exceeds Excel's limit of \"\n",
      "D:\\anaconda3\\lib\\site-packages\\xlsxwriter\\worksheet.py:1179: UserWarning: Ignoring URL 'https://m.place.naver.com/my/5de0976b9ec8258e4a1d8092/review?v=2' since it exceeds Excel's limit of 65,530 URLS per worksheet.\n",
      "  warn(\"Ignoring URL '%s' since it exceeds Excel's limit of \"\n",
      "D:\\anaconda3\\lib\\site-packages\\xlsxwriter\\worksheet.py:1179: UserWarning: Ignoring URL 'https://m.place.naver.com/my/5e5ca3088f87a842bc8ebd6b/review?v=2' since it exceeds Excel's limit of 65,530 URLS per worksheet.\n",
      "  warn(\"Ignoring URL '%s' since it exceeds Excel's limit of \"\n",
      "D:\\anaconda3\\lib\\site-packages\\xlsxwriter\\worksheet.py:1179: UserWarning: Ignoring URL 'https://m.place.naver.com/my/5e771f138f87a842bc85fe79/review?v=2' since it exceeds Excel's limit of 65,530 URLS per worksheet.\n",
      "  warn(\"Ignoring URL '%s' since it exceeds Excel's limit of \"\n",
      "D:\\anaconda3\\lib\\site-packages\\xlsxwriter\\worksheet.py:1179: UserWarning: Ignoring URL 'https://m.place.naver.com/my/5f06475eee1ece9f4a6767df/review?v=2' since it exceeds Excel's limit of 65,530 URLS per worksheet.\n",
      "  warn(\"Ignoring URL '%s' since it exceeds Excel's limit of \"\n",
      "D:\\anaconda3\\lib\\site-packages\\xlsxwriter\\worksheet.py:1179: UserWarning: Ignoring URL 'https://m.place.naver.com/my/5d1f2f2ad913d7908ed2fa24/review?v=2' since it exceeds Excel's limit of 65,530 URLS per worksheet.\n",
      "  warn(\"Ignoring URL '%s' since it exceeds Excel's limit of \"\n",
      "D:\\anaconda3\\lib\\site-packages\\xlsxwriter\\worksheet.py:1179: UserWarning: Ignoring URL 'https://m.place.naver.com/my/5d568924c1faf16b8b09c46f/review?v=2' since it exceeds Excel's limit of 65,530 URLS per worksheet.\n",
      "  warn(\"Ignoring URL '%s' since it exceeds Excel's limit of \"\n",
      "D:\\anaconda3\\lib\\site-packages\\xlsxwriter\\worksheet.py:1179: UserWarning: Ignoring URL 'https://m.place.naver.com/my/6142eeffc45690000692eef8/review?v=2' since it exceeds Excel's limit of 65,530 URLS per worksheet.\n",
      "  warn(\"Ignoring URL '%s' since it exceeds Excel's limit of \"\n",
      "D:\\anaconda3\\lib\\site-packages\\xlsxwriter\\worksheet.py:1179: UserWarning: Ignoring URL 'https://m.place.naver.com/my/5c24bd3d7b32075dad866126/review?v=2' since it exceeds Excel's limit of 65,530 URLS per worksheet.\n",
      "  warn(\"Ignoring URL '%s' since it exceeds Excel's limit of \"\n",
      "D:\\anaconda3\\lib\\site-packages\\xlsxwriter\\worksheet.py:1179: UserWarning: Ignoring URL 'https://m.place.naver.com/my/5df329b58f87a842bc3403b7/review?v=2' since it exceeds Excel's limit of 65,530 URLS per worksheet.\n",
      "  warn(\"Ignoring URL '%s' since it exceeds Excel's limit of \"\n",
      "D:\\anaconda3\\lib\\site-packages\\xlsxwriter\\worksheet.py:1179: UserWarning: Ignoring URL 'https://m.place.naver.com/my/5cffdd147effc0358242b5c4/review?v=2' since it exceeds Excel's limit of 65,530 URLS per worksheet.\n",
      "  warn(\"Ignoring URL '%s' since it exceeds Excel's limit of \"\n",
      "D:\\anaconda3\\lib\\site-packages\\xlsxwriter\\worksheet.py:1179: UserWarning: Ignoring URL 'https://m.place.naver.com/my/5e6714cf8f87a842bc391812/review?v=2' since it exceeds Excel's limit of 65,530 URLS per worksheet.\n",
      "  warn(\"Ignoring URL '%s' since it exceeds Excel's limit of \"\n",
      "D:\\anaconda3\\lib\\site-packages\\xlsxwriter\\worksheet.py:1179: UserWarning: Ignoring URL 'https://m.place.naver.com/my/5eff21c77a3924f9464c6440/review?v=2' since it exceeds Excel's limit of 65,530 URLS per worksheet.\n",
      "  warn(\"Ignoring URL '%s' since it exceeds Excel's limit of \"\n",
      "D:\\anaconda3\\lib\\site-packages\\xlsxwriter\\worksheet.py:1179: UserWarning: Ignoring URL 'https://m.place.naver.com/my/5fe956c0d02a7381af0dd5a3/review?v=2' since it exceeds Excel's limit of 65,530 URLS per worksheet.\n",
      "  warn(\"Ignoring URL '%s' since it exceeds Excel's limit of \"\n",
      "D:\\anaconda3\\lib\\site-packages\\xlsxwriter\\worksheet.py:1179: UserWarning: Ignoring URL 'https://m.place.naver.com/my/5da88dc48f87a842bc894d25/review?v=2' since it exceeds Excel's limit of 65,530 URLS per worksheet.\n",
      "  warn(\"Ignoring URL '%s' since it exceeds Excel's limit of \"\n",
      "D:\\anaconda3\\lib\\site-packages\\xlsxwriter\\worksheet.py:1179: UserWarning: Ignoring URL 'https://m.place.naver.com/my/6018fa755cb53623d906361b/review?v=2' since it exceeds Excel's limit of 65,530 URLS per worksheet.\n",
      "  warn(\"Ignoring URL '%s' since it exceeds Excel's limit of \"\n",
      "D:\\anaconda3\\lib\\site-packages\\xlsxwriter\\worksheet.py:1179: UserWarning: Ignoring URL 'https://m.place.naver.com/my/5f06b1562485c5130cf28ae4/review?v=2' since it exceeds Excel's limit of 65,530 URLS per worksheet.\n",
      "  warn(\"Ignoring URL '%s' since it exceeds Excel's limit of \"\n",
      "D:\\anaconda3\\lib\\site-packages\\xlsxwriter\\worksheet.py:1179: UserWarning: Ignoring URL 'https://m.place.naver.com/my/5dc5731c8f87a842bc33464e/review?v=2' since it exceeds Excel's limit of 65,530 URLS per worksheet.\n",
      "  warn(\"Ignoring URL '%s' since it exceeds Excel's limit of \"\n",
      "D:\\anaconda3\\lib\\site-packages\\xlsxwriter\\worksheet.py:1179: UserWarning: Ignoring URL 'https://m.place.naver.com/my/5c3c73236c3b1417ca9ab807/review?v=2' since it exceeds Excel's limit of 65,530 URLS per worksheet.\n",
      "  warn(\"Ignoring URL '%s' since it exceeds Excel's limit of \"\n",
      "D:\\anaconda3\\lib\\site-packages\\xlsxwriter\\worksheet.py:1179: UserWarning: Ignoring URL 'https://m.place.naver.com/my/5cb49b72f5a013783e5e0a4c/review?v=2' since it exceeds Excel's limit of 65,530 URLS per worksheet.\n",
      "  warn(\"Ignoring URL '%s' since it exceeds Excel's limit of \"\n",
      "D:\\anaconda3\\lib\\site-packages\\xlsxwriter\\worksheet.py:1179: UserWarning: Ignoring URL 'https://m.place.naver.com/my/5ccaf5b15aeacc1d49188676/review?v=2' since it exceeds Excel's limit of 65,530 URLS per worksheet.\n",
      "  warn(\"Ignoring URL '%s' since it exceeds Excel's limit of \"\n",
      "D:\\anaconda3\\lib\\site-packages\\xlsxwriter\\worksheet.py:1179: UserWarning: Ignoring URL 'https://m.place.naver.com/my/5deaf4249ec8258e4a0ca6f1/review?v=2' since it exceeds Excel's limit of 65,530 URLS per worksheet.\n",
      "  warn(\"Ignoring URL '%s' since it exceeds Excel's limit of \"\n",
      "D:\\anaconda3\\lib\\site-packages\\xlsxwriter\\worksheet.py:1179: UserWarning: Ignoring URL 'https://m.place.naver.com/my/5ef5e2668f87a842bce0c6d3/review?v=2' since it exceeds Excel's limit of 65,530 URLS per worksheet.\n",
      "  warn(\"Ignoring URL '%s' since it exceeds Excel's limit of \"\n",
      "D:\\anaconda3\\lib\\site-packages\\xlsxwriter\\worksheet.py:1179: UserWarning: Ignoring URL 'https://m.place.naver.com/my/5d8b41d78f87a842bc7b413a/review?v=2' since it exceeds Excel's limit of 65,530 URLS per worksheet.\n",
      "  warn(\"Ignoring URL '%s' since it exceeds Excel's limit of \"\n",
      "D:\\anaconda3\\lib\\site-packages\\xlsxwriter\\worksheet.py:1179: UserWarning: Ignoring URL 'https://m.place.naver.com/my/5ca4753dd8d49c5429ec1114/review?v=2' since it exceeds Excel's limit of 65,530 URLS per worksheet.\n",
      "  warn(\"Ignoring URL '%s' since it exceeds Excel's limit of \"\n",
      "D:\\anaconda3\\lib\\site-packages\\xlsxwriter\\worksheet.py:1179: UserWarning: Ignoring URL 'https://m.place.naver.com/my/5d8d57b38f87a842bc0c6117/review?v=2' since it exceeds Excel's limit of 65,530 URLS per worksheet.\n",
      "  warn(\"Ignoring URL '%s' since it exceeds Excel's limit of \"\n",
      "D:\\anaconda3\\lib\\site-packages\\xlsxwriter\\worksheet.py:1179: UserWarning: Ignoring URL 'https://m.place.naver.com/my/5c601f5f0062d950edc2017a/review?v=2' since it exceeds Excel's limit of 65,530 URLS per worksheet.\n",
      "  warn(\"Ignoring URL '%s' since it exceeds Excel's limit of \"\n",
      "D:\\anaconda3\\lib\\site-packages\\xlsxwriter\\worksheet.py:1179: UserWarning: Ignoring URL 'https://m.place.naver.com/my/60abcf3e2104a34f588805ca/review?v=2' since it exceeds Excel's limit of 65,530 URLS per worksheet.\n",
      "  warn(\"Ignoring URL '%s' since it exceeds Excel's limit of \"\n",
      "D:\\anaconda3\\lib\\site-packages\\xlsxwriter\\worksheet.py:1179: UserWarning: Ignoring URL 'https://m.place.naver.com/my/5efe75c8670bd5c7e120d6cb/review?v=2' since it exceeds Excel's limit of 65,530 URLS per worksheet.\n",
      "  warn(\"Ignoring URL '%s' since it exceeds Excel's limit of \"\n",
      "D:\\anaconda3\\lib\\site-packages\\xlsxwriter\\worksheet.py:1179: UserWarning: Ignoring URL 'https://m.place.naver.com/my/5c17c7698c3e78fc186274d6/review?v=2' since it exceeds Excel's limit of 65,530 URLS per worksheet.\n",
      "  warn(\"Ignoring URL '%s' since it exceeds Excel's limit of \"\n",
      "D:\\anaconda3\\lib\\site-packages\\xlsxwriter\\worksheet.py:1179: UserWarning: Ignoring URL 'https://m.place.naver.com/my/5d3be4847439572e82f9a642/review?v=2' since it exceeds Excel's limit of 65,530 URLS per worksheet.\n",
      "  warn(\"Ignoring URL '%s' since it exceeds Excel's limit of \"\n",
      "D:\\anaconda3\\lib\\site-packages\\xlsxwriter\\worksheet.py:1179: UserWarning: Ignoring URL 'https://m.place.naver.com/my/5df5b2798f87a842bcbed3b8/review?v=2' since it exceeds Excel's limit of 65,530 URLS per worksheet.\n",
      "  warn(\"Ignoring URL '%s' since it exceeds Excel's limit of \"\n",
      "D:\\anaconda3\\lib\\site-packages\\xlsxwriter\\worksheet.py:1179: UserWarning: Ignoring URL 'https://m.place.naver.com/my/5e4b694a8f87a842bc9a755f/review?v=2' since it exceeds Excel's limit of 65,530 URLS per worksheet.\n",
      "  warn(\"Ignoring URL '%s' since it exceeds Excel's limit of \"\n",
      "D:\\anaconda3\\lib\\site-packages\\xlsxwriter\\worksheet.py:1179: UserWarning: Ignoring URL 'https://m.place.naver.com/my/5f064c219127dcb4fc662945/review?v=2' since it exceeds Excel's limit of 65,530 URLS per worksheet.\n",
      "  warn(\"Ignoring URL '%s' since it exceeds Excel's limit of \"\n",
      "D:\\anaconda3\\lib\\site-packages\\xlsxwriter\\worksheet.py:1179: UserWarning: Ignoring URL 'https://m.place.naver.com/my/5c8295c135f5ba7600394822/review?v=2' since it exceeds Excel's limit of 65,530 URLS per worksheet.\n",
      "  warn(\"Ignoring URL '%s' since it exceeds Excel's limit of \"\n",
      "D:\\anaconda3\\lib\\site-packages\\xlsxwriter\\worksheet.py:1179: UserWarning: Ignoring URL 'https://m.place.naver.com/my/5f8aa25ceb4c2a3941fdc45c/review?v=2' since it exceeds Excel's limit of 65,530 URLS per worksheet.\n",
      "  warn(\"Ignoring URL '%s' since it exceeds Excel's limit of \"\n",
      "D:\\anaconda3\\lib\\site-packages\\xlsxwriter\\worksheet.py:1179: UserWarning: Ignoring URL 'https://m.place.naver.com/my/5c132ca3762c46186e99e0c7/review?v=2' since it exceeds Excel's limit of 65,530 URLS per worksheet.\n",
      "  warn(\"Ignoring URL '%s' since it exceeds Excel's limit of \"\n",
      "D:\\anaconda3\\lib\\site-packages\\xlsxwriter\\worksheet.py:1179: UserWarning: Ignoring URL 'https://m.place.naver.com/my/5b9bf5bfe22961b72fa4be9f/review?v=2' since it exceeds Excel's limit of 65,530 URLS per worksheet.\n",
      "  warn(\"Ignoring URL '%s' since it exceeds Excel's limit of \"\n",
      "D:\\anaconda3\\lib\\site-packages\\xlsxwriter\\worksheet.py:1179: UserWarning: Ignoring URL 'https://m.place.naver.com/my/5f0640aeee1ece9f4a67159d/review?v=2' since it exceeds Excel's limit of 65,530 URLS per worksheet.\n",
      "  warn(\"Ignoring URL '%s' since it exceeds Excel's limit of \"\n",
      "D:\\anaconda3\\lib\\site-packages\\xlsxwriter\\worksheet.py:1179: UserWarning: Ignoring URL 'https://m.place.naver.com/my/5d10b458772af1f3e0b00900/review?v=2' since it exceeds Excel's limit of 65,530 URLS per worksheet.\n",
      "  warn(\"Ignoring URL '%s' since it exceeds Excel's limit of \"\n",
      "D:\\anaconda3\\lib\\site-packages\\xlsxwriter\\worksheet.py:1179: UserWarning: Ignoring URL 'https://m.place.naver.com/my/61c04de299f7ae38b5b0f9e2/review?v=2' since it exceeds Excel's limit of 65,530 URLS per worksheet.\n",
      "  warn(\"Ignoring URL '%s' since it exceeds Excel's limit of \"\n",
      "D:\\anaconda3\\lib\\site-packages\\xlsxwriter\\worksheet.py:1179: UserWarning: Ignoring URL 'https://m.place.naver.com/my/5c9c248e7223eee92083e5c0/review?v=2' since it exceeds Excel's limit of 65,530 URLS per worksheet.\n",
      "  warn(\"Ignoring URL '%s' since it exceeds Excel's limit of \"\n",
      "D:\\anaconda3\\lib\\site-packages\\xlsxwriter\\worksheet.py:1179: UserWarning: Ignoring URL 'https://m.place.naver.com/my/5eff0ab91c9b02e1ea3c4519/review?v=2' since it exceeds Excel's limit of 65,530 URLS per worksheet.\n",
      "  warn(\"Ignoring URL '%s' since it exceeds Excel's limit of \"\n",
      "D:\\anaconda3\\lib\\site-packages\\xlsxwriter\\worksheet.py:1179: UserWarning: Ignoring URL 'https://m.place.naver.com/my/5bdea5078d38d8592da0b130/review?v=2' since it exceeds Excel's limit of 65,530 URLS per worksheet.\n",
      "  warn(\"Ignoring URL '%s' since it exceeds Excel's limit of \"\n",
      "D:\\anaconda3\\lib\\site-packages\\xlsxwriter\\worksheet.py:1179: UserWarning: Ignoring URL 'https://m.place.naver.com/my/5b906434462835239e1286b2/review?v=2' since it exceeds Excel's limit of 65,530 URLS per worksheet.\n",
      "  warn(\"Ignoring URL '%s' since it exceeds Excel's limit of \"\n",
      "D:\\anaconda3\\lib\\site-packages\\xlsxwriter\\worksheet.py:1179: UserWarning: Ignoring URL 'https://m.place.naver.com/my/6186bee582ac4f6b13eca747/review?v=2' since it exceeds Excel's limit of 65,530 URLS per worksheet.\n",
      "  warn(\"Ignoring URL '%s' since it exceeds Excel's limit of \"\n",
      "D:\\anaconda3\\lib\\site-packages\\xlsxwriter\\worksheet.py:1179: UserWarning: Ignoring URL 'https://m.place.naver.com/my/5d9358a58f87a842bcae6355/review?v=2' since it exceeds Excel's limit of 65,530 URLS per worksheet.\n",
      "  warn(\"Ignoring URL '%s' since it exceeds Excel's limit of \"\n",
      "D:\\anaconda3\\lib\\site-packages\\xlsxwriter\\worksheet.py:1179: UserWarning: Ignoring URL 'https://m.place.naver.com/my/5f055fecd55dbc0b180871b7/review?v=2' since it exceeds Excel's limit of 65,530 URLS per worksheet.\n",
      "  warn(\"Ignoring URL '%s' since it exceeds Excel's limit of \"\n",
      "D:\\anaconda3\\lib\\site-packages\\xlsxwriter\\worksheet.py:1179: UserWarning: Ignoring URL 'https://m.place.naver.com/my/5f057fea425190b39b961052/review?v=2' since it exceeds Excel's limit of 65,530 URLS per worksheet.\n",
      "  warn(\"Ignoring URL '%s' since it exceeds Excel's limit of \"\n",
      "D:\\anaconda3\\lib\\site-packages\\xlsxwriter\\worksheet.py:1179: UserWarning: Ignoring URL 'https://m.place.naver.com/my/607d7c7db85e32c3d89a25d0/review?v=2' since it exceeds Excel's limit of 65,530 URLS per worksheet.\n",
      "  warn(\"Ignoring URL '%s' since it exceeds Excel's limit of \"\n",
      "D:\\anaconda3\\lib\\site-packages\\xlsxwriter\\worksheet.py:1179: UserWarning: Ignoring URL 'https://m.place.naver.com/my/5cd6d70b7a630264b902e860/review?v=2' since it exceeds Excel's limit of 65,530 URLS per worksheet.\n",
      "  warn(\"Ignoring URL '%s' since it exceeds Excel's limit of \"\n",
      "D:\\anaconda3\\lib\\site-packages\\xlsxwriter\\worksheet.py:1179: UserWarning: Ignoring URL 'https://m.place.naver.com/my/5bbabc633d720814ebcd695c/review?v=2' since it exceeds Excel's limit of 65,530 URLS per worksheet.\n",
      "  warn(\"Ignoring URL '%s' since it exceeds Excel's limit of \"\n",
      "D:\\anaconda3\\lib\\site-packages\\xlsxwriter\\worksheet.py:1179: UserWarning: Ignoring URL 'https://m.place.naver.com/my/606d9eb55dd5dbe3450bd824/review?v=2' since it exceeds Excel's limit of 65,530 URLS per worksheet.\n",
      "  warn(\"Ignoring URL '%s' since it exceeds Excel's limit of \"\n",
      "D:\\anaconda3\\lib\\site-packages\\xlsxwriter\\worksheet.py:1179: UserWarning: Ignoring URL 'https://m.place.naver.com/my/5e5743608f87a842bccc696d/review?v=2' since it exceeds Excel's limit of 65,530 URLS per worksheet.\n",
      "  warn(\"Ignoring URL '%s' since it exceeds Excel's limit of \"\n",
      "D:\\anaconda3\\lib\\site-packages\\xlsxwriter\\worksheet.py:1179: UserWarning: Ignoring URL 'https://m.place.naver.com/my/5e5a0c7b8f87a842bcf9a8e2/review?v=2' since it exceeds Excel's limit of 65,530 URLS per worksheet.\n",
      "  warn(\"Ignoring URL '%s' since it exceeds Excel's limit of \"\n",
      "D:\\anaconda3\\lib\\site-packages\\xlsxwriter\\worksheet.py:1179: UserWarning: Ignoring URL 'https://m.place.naver.com/my/5ca4bc9d3a87d28fca350322/review?v=2' since it exceeds Excel's limit of 65,530 URLS per worksheet.\n",
      "  warn(\"Ignoring URL '%s' since it exceeds Excel's limit of \"\n",
      "D:\\anaconda3\\lib\\site-packages\\xlsxwriter\\worksheet.py:1179: UserWarning: Ignoring URL 'https://m.place.naver.com/my/5bb647542863a79224c9bd8e/review?v=2' since it exceeds Excel's limit of 65,530 URLS per worksheet.\n",
      "  warn(\"Ignoring URL '%s' since it exceeds Excel's limit of \"\n",
      "D:\\anaconda3\\lib\\site-packages\\xlsxwriter\\worksheet.py:1179: UserWarning: Ignoring URL 'https://m.place.naver.com/my/61493c297bac1942325a1c27/review?v=2' since it exceeds Excel's limit of 65,530 URLS per worksheet.\n",
      "  warn(\"Ignoring URL '%s' since it exceeds Excel's limit of \"\n",
      "D:\\anaconda3\\lib\\site-packages\\xlsxwriter\\worksheet.py:1179: UserWarning: Ignoring URL 'https://m.place.naver.com/my/61e65486b559a206fcb356f0/review?v=2' since it exceeds Excel's limit of 65,530 URLS per worksheet.\n",
      "  warn(\"Ignoring URL '%s' since it exceeds Excel's limit of \"\n",
      "D:\\anaconda3\\lib\\site-packages\\xlsxwriter\\worksheet.py:1179: UserWarning: Ignoring URL 'https://m.place.naver.com/my/5efefcad8f87a842bcfeceb8/review?v=2' since it exceeds Excel's limit of 65,530 URLS per worksheet.\n",
      "  warn(\"Ignoring URL '%s' since it exceeds Excel's limit of \"\n",
      "D:\\anaconda3\\lib\\site-packages\\xlsxwriter\\worksheet.py:1179: UserWarning: Ignoring URL 'https://m.place.naver.com/my/5c481d75d208838818b61513/review?v=2' since it exceeds Excel's limit of 65,530 URLS per worksheet.\n",
      "  warn(\"Ignoring URL '%s' since it exceeds Excel's limit of \"\n",
      "D:\\anaconda3\\lib\\site-packages\\xlsxwriter\\worksheet.py:1179: UserWarning: Ignoring URL 'https://m.place.naver.com/my/5d5ffc488f87a842bcb72ac4/review?v=2' since it exceeds Excel's limit of 65,530 URLS per worksheet.\n",
      "  warn(\"Ignoring URL '%s' since it exceeds Excel's limit of \"\n",
      "D:\\anaconda3\\lib\\site-packages\\xlsxwriter\\worksheet.py:1179: UserWarning: Ignoring URL 'https://m.place.naver.com/my/5dbf74ae8f87a842bc998816/review?v=2' since it exceeds Excel's limit of 65,530 URLS per worksheet.\n",
      "  warn(\"Ignoring URL '%s' since it exceeds Excel's limit of \"\n",
      "D:\\anaconda3\\lib\\site-packages\\xlsxwriter\\worksheet.py:1179: UserWarning: Ignoring URL 'https://m.place.naver.com/my/5bcafdff6d73c1667e3db9b3/review?v=2' since it exceeds Excel's limit of 65,530 URLS per worksheet.\n",
      "  warn(\"Ignoring URL '%s' since it exceeds Excel's limit of \"\n",
      "D:\\anaconda3\\lib\\site-packages\\xlsxwriter\\worksheet.py:1179: UserWarning: Ignoring URL 'https://m.place.naver.com/my/5cc1a38b56a57c60d723552f/review?v=2' since it exceeds Excel's limit of 65,530 URLS per worksheet.\n",
      "  warn(\"Ignoring URL '%s' since it exceeds Excel's limit of \"\n",
      "D:\\anaconda3\\lib\\site-packages\\xlsxwriter\\worksheet.py:1179: UserWarning: Ignoring URL 'https://m.place.naver.com/my/606175ab9eb5fc32915adfdb/review?v=2' since it exceeds Excel's limit of 65,530 URLS per worksheet.\n",
      "  warn(\"Ignoring URL '%s' since it exceeds Excel's limit of \"\n",
      "D:\\anaconda3\\lib\\site-packages\\xlsxwriter\\worksheet.py:1179: UserWarning: Ignoring URL 'https://m.place.naver.com/my/5bfb4b11082a8e61c144e1e7/review?v=2' since it exceeds Excel's limit of 65,530 URLS per worksheet.\n",
      "  warn(\"Ignoring URL '%s' since it exceeds Excel's limit of \"\n",
      "D:\\anaconda3\\lib\\site-packages\\xlsxwriter\\worksheet.py:1179: UserWarning: Ignoring URL 'https://m.place.naver.com/my/5ef945588f87a842bc7080a9/review?v=2' since it exceeds Excel's limit of 65,530 URLS per worksheet.\n",
      "  warn(\"Ignoring URL '%s' since it exceeds Excel's limit of \"\n",
      "D:\\anaconda3\\lib\\site-packages\\xlsxwriter\\worksheet.py:1179: UserWarning: Ignoring URL 'https://m.place.naver.com/my/5f102f913ba33c846a98c805/review?v=2' since it exceeds Excel's limit of 65,530 URLS per worksheet.\n",
      "  warn(\"Ignoring URL '%s' since it exceeds Excel's limit of \"\n",
      "D:\\anaconda3\\lib\\site-packages\\xlsxwriter\\worksheet.py:1179: UserWarning: Ignoring URL 'https://m.place.naver.com/my/5c161c9414d5d0fbb480129f/review?v=2' since it exceeds Excel's limit of 65,530 URLS per worksheet.\n",
      "  warn(\"Ignoring URL '%s' since it exceeds Excel's limit of \"\n",
      "D:\\anaconda3\\lib\\site-packages\\xlsxwriter\\worksheet.py:1179: UserWarning: Ignoring URL 'https://m.place.naver.com/my/5efdcd8c8b790375a186abc3/review?v=2' since it exceeds Excel's limit of 65,530 URLS per worksheet.\n",
      "  warn(\"Ignoring URL '%s' since it exceeds Excel's limit of \"\n",
      "D:\\anaconda3\\lib\\site-packages\\xlsxwriter\\worksheet.py:1179: UserWarning: Ignoring URL 'https://m.place.naver.com/my/5f5df4fb6c3d7f7334eee2bc/review?v=2' since it exceeds Excel's limit of 65,530 URLS per worksheet.\n",
      "  warn(\"Ignoring URL '%s' since it exceeds Excel's limit of \"\n",
      "D:\\anaconda3\\lib\\site-packages\\xlsxwriter\\worksheet.py:1179: UserWarning: Ignoring URL 'https://m.place.naver.com/my/5b6da0bd159cf74d9d4f3141/review?v=2' since it exceeds Excel's limit of 65,530 URLS per worksheet.\n",
      "  warn(\"Ignoring URL '%s' since it exceeds Excel's limit of \"\n",
      "D:\\anaconda3\\lib\\site-packages\\xlsxwriter\\worksheet.py:1179: UserWarning: Ignoring URL 'https://m.place.naver.com/my/5f990db045b82f3f9c228183/review?v=2' since it exceeds Excel's limit of 65,530 URLS per worksheet.\n",
      "  warn(\"Ignoring URL '%s' since it exceeds Excel's limit of \"\n",
      "D:\\anaconda3\\lib\\site-packages\\xlsxwriter\\worksheet.py:1179: UserWarning: Ignoring URL 'https://m.place.naver.com/my/5cdfac36e5759f627a440fa2/review?v=2' since it exceeds Excel's limit of 65,530 URLS per worksheet.\n",
      "  warn(\"Ignoring URL '%s' since it exceeds Excel's limit of \"\n",
      "D:\\anaconda3\\lib\\site-packages\\xlsxwriter\\worksheet.py:1179: UserWarning: Ignoring URL 'https://m.place.naver.com/my/5f0933799ec8258e4afcc867/review?v=2' since it exceeds Excel's limit of 65,530 URLS per worksheet.\n",
      "  warn(\"Ignoring URL '%s' since it exceeds Excel's limit of \"\n",
      "D:\\anaconda3\\lib\\site-packages\\xlsxwriter\\worksheet.py:1179: UserWarning: Ignoring URL 'https://m.place.naver.com/my/5e5c83b88f87a842bcd6d359/review?v=2' since it exceeds Excel's limit of 65,530 URLS per worksheet.\n",
      "  warn(\"Ignoring URL '%s' since it exceeds Excel's limit of \"\n",
      "D:\\anaconda3\\lib\\site-packages\\xlsxwriter\\worksheet.py:1179: UserWarning: Ignoring URL 'https://m.place.naver.com/my/5f37f42ba602e98f56194e71/review?v=2' since it exceeds Excel's limit of 65,530 URLS per worksheet.\n",
      "  warn(\"Ignoring URL '%s' since it exceeds Excel's limit of \"\n",
      "D:\\anaconda3\\lib\\site-packages\\xlsxwriter\\worksheet.py:1179: UserWarning: Ignoring URL 'https://m.place.naver.com/my/5d2ef92fbff0e47796792a7b/review?v=2' since it exceeds Excel's limit of 65,530 URLS per worksheet.\n",
      "  warn(\"Ignoring URL '%s' since it exceeds Excel's limit of \"\n",
      "D:\\anaconda3\\lib\\site-packages\\xlsxwriter\\worksheet.py:1179: UserWarning: Ignoring URL 'https://m.place.naver.com/my/5ddddb6c9ec8258e4a2ae30c/review?v=2' since it exceeds Excel's limit of 65,530 URLS per worksheet.\n",
      "  warn(\"Ignoring URL '%s' since it exceeds Excel's limit of \"\n",
      "D:\\anaconda3\\lib\\site-packages\\xlsxwriter\\worksheet.py:1179: UserWarning: Ignoring URL 'https://m.place.naver.com/my/5bfca9d740944571b1474e32/review?v=2' since it exceeds Excel's limit of 65,530 URLS per worksheet.\n",
      "  warn(\"Ignoring URL '%s' since it exceeds Excel's limit of \"\n",
      "D:\\anaconda3\\lib\\site-packages\\xlsxwriter\\worksheet.py:1179: UserWarning: Ignoring URL 'https://m.place.naver.com/my/5ea3fcda8f87a842bc069419/review?v=2' since it exceeds Excel's limit of 65,530 URLS per worksheet.\n",
      "  warn(\"Ignoring URL '%s' since it exceeds Excel's limit of \"\n",
      "D:\\anaconda3\\lib\\site-packages\\xlsxwriter\\worksheet.py:1179: UserWarning: Ignoring URL 'https://m.place.naver.com/my/5ec3d9e08f87a842bc3887d6/review?v=2' since it exceeds Excel's limit of 65,530 URLS per worksheet.\n",
      "  warn(\"Ignoring URL '%s' since it exceeds Excel's limit of \"\n",
      "D:\\anaconda3\\lib\\site-packages\\xlsxwriter\\worksheet.py:1179: UserWarning: Ignoring URL 'https://m.place.naver.com/my/5f2d38239ec8258e4a7c3071/review?v=2' since it exceeds Excel's limit of 65,530 URLS per worksheet.\n",
      "  warn(\"Ignoring URL '%s' since it exceeds Excel's limit of \"\n",
      "D:\\anaconda3\\lib\\site-packages\\xlsxwriter\\worksheet.py:1179: UserWarning: Ignoring URL 'https://m.place.naver.com/my/5ffa894d97443a065cbff80a/review?v=2' since it exceeds Excel's limit of 65,530 URLS per worksheet.\n",
      "  warn(\"Ignoring URL '%s' since it exceeds Excel's limit of \"\n",
      "D:\\anaconda3\\lib\\site-packages\\xlsxwriter\\worksheet.py:1179: UserWarning: Ignoring URL 'https://m.place.naver.com/my/5d143267cb64675f5e877911/review?v=2' since it exceeds Excel's limit of 65,530 URLS per worksheet.\n",
      "  warn(\"Ignoring URL '%s' since it exceeds Excel's limit of \"\n",
      "D:\\anaconda3\\lib\\site-packages\\xlsxwriter\\worksheet.py:1179: UserWarning: Ignoring URL 'https://m.place.naver.com/my/5fb4bfb328b80d7561391793/review?v=2' since it exceeds Excel's limit of 65,530 URLS per worksheet.\n",
      "  warn(\"Ignoring URL '%s' since it exceeds Excel's limit of \"\n",
      "D:\\anaconda3\\lib\\site-packages\\xlsxwriter\\worksheet.py:1179: UserWarning: Ignoring URL 'https://m.place.naver.com/my/5c12a4cb64fd237420c28884/review?v=2' since it exceeds Excel's limit of 65,530 URLS per worksheet.\n",
      "  warn(\"Ignoring URL '%s' since it exceeds Excel's limit of \"\n",
      "D:\\anaconda3\\lib\\site-packages\\xlsxwriter\\worksheet.py:1179: UserWarning: Ignoring URL 'https://m.place.naver.com/my/5dc90a9b8f87a842bc07d6b2/review?v=2' since it exceeds Excel's limit of 65,530 URLS per worksheet.\n",
      "  warn(\"Ignoring URL '%s' since it exceeds Excel's limit of \"\n",
      "D:\\anaconda3\\lib\\site-packages\\xlsxwriter\\worksheet.py:1179: UserWarning: Ignoring URL 'https://m.place.naver.com/my/5c9ebe12cf89461066e7299d/review?v=2' since it exceeds Excel's limit of 65,530 URLS per worksheet.\n",
      "  warn(\"Ignoring URL '%s' since it exceeds Excel's limit of \"\n",
      "D:\\anaconda3\\lib\\site-packages\\xlsxwriter\\worksheet.py:1179: UserWarning: Ignoring URL 'https://m.place.naver.com/my/5dd76c109ec8258e4ad52796/review?v=2' since it exceeds Excel's limit of 65,530 URLS per worksheet.\n",
      "  warn(\"Ignoring URL '%s' since it exceeds Excel's limit of \"\n",
      "D:\\anaconda3\\lib\\site-packages\\xlsxwriter\\worksheet.py:1179: UserWarning: Ignoring URL 'https://m.place.naver.com/my/5f0689a9ace692ef6245fc17/review?v=2' since it exceeds Excel's limit of 65,530 URLS per worksheet.\n",
      "  warn(\"Ignoring URL '%s' since it exceeds Excel's limit of \"\n",
      "D:\\anaconda3\\lib\\site-packages\\xlsxwriter\\worksheet.py:1179: UserWarning: Ignoring URL 'https://m.place.naver.com/my/5c1cd89fe06de3090ae48dc4/review?v=2' since it exceeds Excel's limit of 65,530 URLS per worksheet.\n",
      "  warn(\"Ignoring URL '%s' since it exceeds Excel's limit of \"\n",
      "D:\\anaconda3\\lib\\site-packages\\xlsxwriter\\worksheet.py:1179: UserWarning: Ignoring URL 'https://m.place.naver.com/my/5c33799f4a712cefefa02403/review?v=2' since it exceeds Excel's limit of 65,530 URLS per worksheet.\n",
      "  warn(\"Ignoring URL '%s' since it exceeds Excel's limit of \"\n",
      "D:\\anaconda3\\lib\\site-packages\\xlsxwriter\\worksheet.py:1179: UserWarning: Ignoring URL 'https://m.place.naver.com/my/5fe1da49ee1ffe982da9e4ac/review?v=2' since it exceeds Excel's limit of 65,530 URLS per worksheet.\n",
      "  warn(\"Ignoring URL '%s' since it exceeds Excel's limit of \"\n",
      "D:\\anaconda3\\lib\\site-packages\\xlsxwriter\\worksheet.py:1179: UserWarning: Ignoring URL 'https://m.place.naver.com/my/600ac7a0974d93916df056d0/review?v=2' since it exceeds Excel's limit of 65,530 URLS per worksheet.\n",
      "  warn(\"Ignoring URL '%s' since it exceeds Excel's limit of \"\n",
      "D:\\anaconda3\\lib\\site-packages\\xlsxwriter\\worksheet.py:1179: UserWarning: Ignoring URL 'https://m.place.naver.com/my/5c1121644eeca00b58c3cd7e/review?v=2' since it exceeds Excel's limit of 65,530 URLS per worksheet.\n",
      "  warn(\"Ignoring URL '%s' since it exceeds Excel's limit of \"\n",
      "D:\\anaconda3\\lib\\site-packages\\xlsxwriter\\worksheet.py:1179: UserWarning: Ignoring URL 'https://m.place.naver.com/my/5c7665870512cb3cc369638e/review?v=2' since it exceeds Excel's limit of 65,530 URLS per worksheet.\n",
      "  warn(\"Ignoring URL '%s' since it exceeds Excel's limit of \"\n",
      "D:\\anaconda3\\lib\\site-packages\\xlsxwriter\\worksheet.py:1179: UserWarning: Ignoring URL 'https://m.place.naver.com/my/5f05c71982d9f26c95ef9d3a/review?v=2' since it exceeds Excel's limit of 65,530 URLS per worksheet.\n",
      "  warn(\"Ignoring URL '%s' since it exceeds Excel's limit of \"\n",
      "D:\\anaconda3\\lib\\site-packages\\xlsxwriter\\worksheet.py:1179: UserWarning: Ignoring URL 'https://m.place.naver.com/my/5ff80e188f306a06cf29c8ac/review?v=2' since it exceeds Excel's limit of 65,530 URLS per worksheet.\n",
      "  warn(\"Ignoring URL '%s' since it exceeds Excel's limit of \"\n",
      "D:\\anaconda3\\lib\\site-packages\\xlsxwriter\\worksheet.py:1179: UserWarning: Ignoring URL 'https://m.place.naver.com/my/5d2577c2cf7f3c6bebace1dd/review?v=2' since it exceeds Excel's limit of 65,530 URLS per worksheet.\n",
      "  warn(\"Ignoring URL '%s' since it exceeds Excel's limit of \"\n",
      "D:\\anaconda3\\lib\\site-packages\\xlsxwriter\\worksheet.py:1179: UserWarning: Ignoring URL 'https://m.place.naver.com/my/5c5b2c155690fa89fee7735c/review?v=2' since it exceeds Excel's limit of 65,530 URLS per worksheet.\n",
      "  warn(\"Ignoring URL '%s' since it exceeds Excel's limit of \"\n",
      "D:\\anaconda3\\lib\\site-packages\\xlsxwriter\\worksheet.py:1179: UserWarning: Ignoring URL 'https://m.place.naver.com/my/5ea173de8f87a842bc3b60f8/review?v=2' since it exceeds Excel's limit of 65,530 URLS per worksheet.\n",
      "  warn(\"Ignoring URL '%s' since it exceeds Excel's limit of \"\n",
      "D:\\anaconda3\\lib\\site-packages\\xlsxwriter\\worksheet.py:1179: UserWarning: Ignoring URL 'https://m.place.naver.com/my/5c92e3b8ae59321e56470f4d/review?v=2' since it exceeds Excel's limit of 65,530 URLS per worksheet.\n",
      "  warn(\"Ignoring URL '%s' since it exceeds Excel's limit of \"\n",
      "D:\\anaconda3\\lib\\site-packages\\xlsxwriter\\worksheet.py:1179: UserWarning: Ignoring URL 'https://m.place.naver.com/my/5da7e8f28f87a842bc94d5bb/review?v=2' since it exceeds Excel's limit of 65,530 URLS per worksheet.\n",
      "  warn(\"Ignoring URL '%s' since it exceeds Excel's limit of \"\n",
      "D:\\anaconda3\\lib\\site-packages\\xlsxwriter\\worksheet.py:1179: UserWarning: Ignoring URL 'https://m.place.naver.com/my/5ca051476c5c5189eefbe867/review?v=2' since it exceeds Excel's limit of 65,530 URLS per worksheet.\n",
      "  warn(\"Ignoring URL '%s' since it exceeds Excel's limit of \"\n",
      "D:\\anaconda3\\lib\\site-packages\\xlsxwriter\\worksheet.py:1179: UserWarning: Ignoring URL 'https://m.place.naver.com/my/5f536b9f6c3d7f7334e96816/review?v=2' since it exceeds Excel's limit of 65,530 URLS per worksheet.\n",
      "  warn(\"Ignoring URL '%s' since it exceeds Excel's limit of \"\n",
      "D:\\anaconda3\\lib\\site-packages\\xlsxwriter\\worksheet.py:1179: UserWarning: Ignoring URL 'https://m.place.naver.com/my/5b783b5f62ddf23a87ae9213/review?v=2' since it exceeds Excel's limit of 65,530 URLS per worksheet.\n",
      "  warn(\"Ignoring URL '%s' since it exceeds Excel's limit of \"\n",
      "D:\\anaconda3\\lib\\site-packages\\xlsxwriter\\worksheet.py:1179: UserWarning: Ignoring URL 'https://m.place.naver.com/my/5dc1288e8f87a842bc847d75/review?v=2' since it exceeds Excel's limit of 65,530 URLS per worksheet.\n",
      "  warn(\"Ignoring URL '%s' since it exceeds Excel's limit of \"\n",
      "D:\\anaconda3\\lib\\site-packages\\xlsxwriter\\worksheet.py:1179: UserWarning: Ignoring URL 'https://m.place.naver.com/my/5ec72bda8f87a842bcd1f983/review?v=2' since it exceeds Excel's limit of 65,530 URLS per worksheet.\n",
      "  warn(\"Ignoring URL '%s' since it exceeds Excel's limit of \"\n",
      "D:\\anaconda3\\lib\\site-packages\\xlsxwriter\\worksheet.py:1179: UserWarning: Ignoring URL 'https://m.place.naver.com/my/5ef707bc8f87a842bcec864b/review?v=2' since it exceeds Excel's limit of 65,530 URLS per worksheet.\n",
      "  warn(\"Ignoring URL '%s' since it exceeds Excel's limit of \"\n",
      "D:\\anaconda3\\lib\\site-packages\\xlsxwriter\\worksheet.py:1179: UserWarning: Ignoring URL 'https://m.place.naver.com/my/5ec4d9cb8f87a842bcb10a33/review?v=2' since it exceeds Excel's limit of 65,530 URLS per worksheet.\n",
      "  warn(\"Ignoring URL '%s' since it exceeds Excel's limit of \"\n",
      "D:\\anaconda3\\lib\\site-packages\\xlsxwriter\\worksheet.py:1179: UserWarning: Ignoring URL 'https://m.place.naver.com/my/5c77dc2b24eab01bd27f6158/review?v=2' since it exceeds Excel's limit of 65,530 URLS per worksheet.\n",
      "  warn(\"Ignoring URL '%s' since it exceeds Excel's limit of \"\n",
      "D:\\anaconda3\\lib\\site-packages\\xlsxwriter\\worksheet.py:1179: UserWarning: Ignoring URL 'https://m.place.naver.com/my/5b642970d497518e791d4eb8/review?v=2' since it exceeds Excel's limit of 65,530 URLS per worksheet.\n",
      "  warn(\"Ignoring URL '%s' since it exceeds Excel's limit of \"\n",
      "D:\\anaconda3\\lib\\site-packages\\xlsxwriter\\worksheet.py:1179: UserWarning: Ignoring URL 'https://m.place.naver.com/my/5cda40677722d41e4d1619d3/review?v=2' since it exceeds Excel's limit of 65,530 URLS per worksheet.\n",
      "  warn(\"Ignoring URL '%s' since it exceeds Excel's limit of \"\n",
      "D:\\anaconda3\\lib\\site-packages\\xlsxwriter\\worksheet.py:1179: UserWarning: Ignoring URL 'https://m.place.naver.com/my/609dd3c47d2381587116018a/review?v=2' since it exceeds Excel's limit of 65,530 URLS per worksheet.\n",
      "  warn(\"Ignoring URL '%s' since it exceeds Excel's limit of \"\n",
      "D:\\anaconda3\\lib\\site-packages\\xlsxwriter\\worksheet.py:1179: UserWarning: Ignoring URL 'https://m.place.naver.com/my/6098b49eb72ffc2d05cc5276/review?v=2' since it exceeds Excel's limit of 65,530 URLS per worksheet.\n",
      "  warn(\"Ignoring URL '%s' since it exceeds Excel's limit of \"\n",
      "D:\\anaconda3\\lib\\site-packages\\xlsxwriter\\worksheet.py:1179: UserWarning: Ignoring URL 'https://m.place.naver.com/my/5f3ce0f278e8a28c2ca0f4d8/review?v=2' since it exceeds Excel's limit of 65,530 URLS per worksheet.\n",
      "  warn(\"Ignoring URL '%s' since it exceeds Excel's limit of \"\n",
      "D:\\anaconda3\\lib\\site-packages\\xlsxwriter\\worksheet.py:1179: UserWarning: Ignoring URL 'https://m.place.naver.com/my/5e74384f8f87a842bce502ec/review?v=2' since it exceeds Excel's limit of 65,530 URLS per worksheet.\n",
      "  warn(\"Ignoring URL '%s' since it exceeds Excel's limit of \"\n",
      "D:\\anaconda3\\lib\\site-packages\\xlsxwriter\\worksheet.py:1179: UserWarning: Ignoring URL 'https://m.place.naver.com/my/5bc2b14882e6e22eaae6832a/review?v=2' since it exceeds Excel's limit of 65,530 URLS per worksheet.\n",
      "  warn(\"Ignoring URL '%s' since it exceeds Excel's limit of \"\n",
      "D:\\anaconda3\\lib\\site-packages\\xlsxwriter\\worksheet.py:1179: UserWarning: Ignoring URL 'https://m.place.naver.com/my/6199b0727bac197eca5e5a51/review?v=2' since it exceeds Excel's limit of 65,530 URLS per worksheet.\n",
      "  warn(\"Ignoring URL '%s' since it exceeds Excel's limit of \"\n",
      "D:\\anaconda3\\lib\\site-packages\\xlsxwriter\\worksheet.py:1179: UserWarning: Ignoring URL 'https://m.place.naver.com/my/621324f36ff80c66416f5388/review?v=2' since it exceeds Excel's limit of 65,530 URLS per worksheet.\n",
      "  warn(\"Ignoring URL '%s' since it exceeds Excel's limit of \"\n",
      "D:\\anaconda3\\lib\\site-packages\\xlsxwriter\\worksheet.py:1179: UserWarning: Ignoring URL 'https://m.place.naver.com/my/5fab3a6016e07fa9b087eb1d/review?v=2' since it exceeds Excel's limit of 65,530 URLS per worksheet.\n",
      "  warn(\"Ignoring URL '%s' since it exceeds Excel's limit of \"\n",
      "D:\\anaconda3\\lib\\site-packages\\xlsxwriter\\worksheet.py:1179: UserWarning: Ignoring URL 'https://m.place.naver.com/my/5d96d4218f87a842bca8eeb9/review?v=2' since it exceeds Excel's limit of 65,530 URLS per worksheet.\n",
      "  warn(\"Ignoring URL '%s' since it exceeds Excel's limit of \"\n",
      "D:\\anaconda3\\lib\\site-packages\\xlsxwriter\\worksheet.py:1179: UserWarning: Ignoring URL 'https://m.place.naver.com/my/5f1d13559ec8258e4aa1376d/review?v=2' since it exceeds Excel's limit of 65,530 URLS per worksheet.\n",
      "  warn(\"Ignoring URL '%s' since it exceeds Excel's limit of \"\n",
      "D:\\anaconda3\\lib\\site-packages\\xlsxwriter\\worksheet.py:1179: UserWarning: Ignoring URL 'https://m.place.naver.com/my/5c14a3bd5c7f99fc90852241/review?v=2' since it exceeds Excel's limit of 65,530 URLS per worksheet.\n",
      "  warn(\"Ignoring URL '%s' since it exceeds Excel's limit of \"\n",
      "D:\\anaconda3\\lib\\site-packages\\xlsxwriter\\worksheet.py:1179: UserWarning: Ignoring URL 'https://m.place.naver.com/my/5c34a0a9747077dcebb78f2b/review?v=2' since it exceeds Excel's limit of 65,530 URLS per worksheet.\n",
      "  warn(\"Ignoring URL '%s' since it exceeds Excel's limit of \"\n",
      "D:\\anaconda3\\lib\\site-packages\\xlsxwriter\\worksheet.py:1179: UserWarning: Ignoring URL 'https://m.place.naver.com/my/5e64ecf78f87a842bc8bb016/review?v=2' since it exceeds Excel's limit of 65,530 URLS per worksheet.\n",
      "  warn(\"Ignoring URL '%s' since it exceeds Excel's limit of \"\n",
      "D:\\anaconda3\\lib\\site-packages\\xlsxwriter\\worksheet.py:1179: UserWarning: Ignoring URL 'https://m.place.naver.com/my/5d119e50307751220ab1a9a1/review?v=2' since it exceeds Excel's limit of 65,530 URLS per worksheet.\n",
      "  warn(\"Ignoring URL '%s' since it exceeds Excel's limit of \"\n",
      "D:\\anaconda3\\lib\\site-packages\\xlsxwriter\\worksheet.py:1179: UserWarning: Ignoring URL 'https://m.place.naver.com/my/5be3afe2b62b6db51cdce6da/review?v=2' since it exceeds Excel's limit of 65,530 URLS per worksheet.\n",
      "  warn(\"Ignoring URL '%s' since it exceeds Excel's limit of \"\n",
      "D:\\anaconda3\\lib\\site-packages\\xlsxwriter\\worksheet.py:1179: UserWarning: Ignoring URL 'https://m.place.naver.com/my/6338194e235d4900071f5ecf/review?v=2' since it exceeds Excel's limit of 65,530 URLS per worksheet.\n",
      "  warn(\"Ignoring URL '%s' since it exceeds Excel's limit of \"\n",
      "D:\\anaconda3\\lib\\site-packages\\xlsxwriter\\worksheet.py:1179: UserWarning: Ignoring URL 'https://m.place.naver.com/my/5b9cbb197cd18f2395066b50/review?v=2' since it exceeds Excel's limit of 65,530 URLS per worksheet.\n",
      "  warn(\"Ignoring URL '%s' since it exceeds Excel's limit of \"\n",
      "D:\\anaconda3\\lib\\site-packages\\xlsxwriter\\worksheet.py:1179: UserWarning: Ignoring URL 'https://m.place.naver.com/my/5f0618a405022b66f9621058/review?v=2' since it exceeds Excel's limit of 65,530 URLS per worksheet.\n",
      "  warn(\"Ignoring URL '%s' since it exceeds Excel's limit of \"\n",
      "D:\\anaconda3\\lib\\site-packages\\xlsxwriter\\worksheet.py:1179: UserWarning: Ignoring URL 'https://m.place.naver.com/my/5ddd05839ec8258e4aef165a/review?v=2' since it exceeds Excel's limit of 65,530 URLS per worksheet.\n",
      "  warn(\"Ignoring URL '%s' since it exceeds Excel's limit of \"\n",
      "D:\\anaconda3\\lib\\site-packages\\xlsxwriter\\worksheet.py:1179: UserWarning: Ignoring URL 'https://m.place.naver.com/my/5dc8d39e8f87a842bc22a9c4/review?v=2' since it exceeds Excel's limit of 65,530 URLS per worksheet.\n",
      "  warn(\"Ignoring URL '%s' since it exceeds Excel's limit of \"\n",
      "D:\\anaconda3\\lib\\site-packages\\xlsxwriter\\worksheet.py:1179: UserWarning: Ignoring URL 'https://m.place.naver.com/my/616fbeff04927fa9bf0b23dc/review?v=2' since it exceeds Excel's limit of 65,530 URLS per worksheet.\n",
      "  warn(\"Ignoring URL '%s' since it exceeds Excel's limit of \"\n",
      "D:\\anaconda3\\lib\\site-packages\\xlsxwriter\\worksheet.py:1179: UserWarning: Ignoring URL 'https://m.place.naver.com/my/5d8a590e8f87a842bcf26d63/review?v=2' since it exceeds Excel's limit of 65,530 URLS per worksheet.\n",
      "  warn(\"Ignoring URL '%s' since it exceeds Excel's limit of \"\n",
      "D:\\anaconda3\\lib\\site-packages\\xlsxwriter\\worksheet.py:1179: UserWarning: Ignoring URL 'https://m.place.naver.com/my/5e48d9b18f87a842bceb10fb/review?v=2' since it exceeds Excel's limit of 65,530 URLS per worksheet.\n",
      "  warn(\"Ignoring URL '%s' since it exceeds Excel's limit of \"\n",
      "D:\\anaconda3\\lib\\site-packages\\xlsxwriter\\worksheet.py:1179: UserWarning: Ignoring URL 'https://m.place.naver.com/my/5f9594b3e22d5cd426ded84e/review?v=2' since it exceeds Excel's limit of 65,530 URLS per worksheet.\n",
      "  warn(\"Ignoring URL '%s' since it exceeds Excel's limit of \"\n",
      "D:\\anaconda3\\lib\\site-packages\\xlsxwriter\\worksheet.py:1179: UserWarning: Ignoring URL 'https://m.place.naver.com/my/5d8b82ad8f87a842bc728d8d/review?v=2' since it exceeds Excel's limit of 65,530 URLS per worksheet.\n",
      "  warn(\"Ignoring URL '%s' since it exceeds Excel's limit of \"\n",
      "D:\\anaconda3\\lib\\site-packages\\xlsxwriter\\worksheet.py:1179: UserWarning: Ignoring URL 'https://m.place.naver.com/my/5ce523ddb7da32368da6b944/review?v=2' since it exceeds Excel's limit of 65,530 URLS per worksheet.\n",
      "  warn(\"Ignoring URL '%s' since it exceeds Excel's limit of \"\n",
      "D:\\anaconda3\\lib\\site-packages\\xlsxwriter\\worksheet.py:1179: UserWarning: Ignoring URL 'https://m.place.naver.com/my/5c32f9c4e070c65c93e13d40/review?v=2' since it exceeds Excel's limit of 65,530 URLS per worksheet.\n",
      "  warn(\"Ignoring URL '%s' since it exceeds Excel's limit of \"\n",
      "D:\\anaconda3\\lib\\site-packages\\xlsxwriter\\worksheet.py:1179: UserWarning: Ignoring URL 'https://m.place.naver.com/my/5baca6e42a4bd6ca4e5fd4a7/review?v=2' since it exceeds Excel's limit of 65,530 URLS per worksheet.\n",
      "  warn(\"Ignoring URL '%s' since it exceeds Excel's limit of \"\n",
      "D:\\anaconda3\\lib\\site-packages\\xlsxwriter\\worksheet.py:1179: UserWarning: Ignoring URL 'https://m.place.naver.com/my/5b9f43d1944edfe6c9f17555/review?v=2' since it exceeds Excel's limit of 65,530 URLS per worksheet.\n",
      "  warn(\"Ignoring URL '%s' since it exceeds Excel's limit of \"\n",
      "D:\\anaconda3\\lib\\site-packages\\xlsxwriter\\worksheet.py:1179: UserWarning: Ignoring URL 'https://m.place.naver.com/my/5f0632c03f64550bfae58e19/review?v=2' since it exceeds Excel's limit of 65,530 URLS per worksheet.\n",
      "  warn(\"Ignoring URL '%s' since it exceeds Excel's limit of \"\n",
      "D:\\anaconda3\\lib\\site-packages\\xlsxwriter\\worksheet.py:1179: UserWarning: Ignoring URL 'https://m.place.naver.com/my/5d29e7a47e8b908fce252be1/review?v=2' since it exceeds Excel's limit of 65,530 URLS per worksheet.\n",
      "  warn(\"Ignoring URL '%s' since it exceeds Excel's limit of \"\n",
      "D:\\anaconda3\\lib\\site-packages\\xlsxwriter\\worksheet.py:1179: UserWarning: Ignoring URL 'https://m.place.naver.com/my/63ace9a2d8683b9f9a4e5ef3/review?v=2' since it exceeds Excel's limit of 65,530 URLS per worksheet.\n",
      "  warn(\"Ignoring URL '%s' since it exceeds Excel's limit of \"\n",
      "D:\\anaconda3\\lib\\site-packages\\xlsxwriter\\worksheet.py:1179: UserWarning: Ignoring URL 'https://m.place.naver.com/my/5e8fd3178f87a842bc9ddea5/review?v=2' since it exceeds Excel's limit of 65,530 URLS per worksheet.\n",
      "  warn(\"Ignoring URL '%s' since it exceeds Excel's limit of \"\n",
      "D:\\anaconda3\\lib\\site-packages\\xlsxwriter\\worksheet.py:1179: UserWarning: Ignoring URL 'https://m.place.naver.com/my/5be4335089ea8b80fe2e0c92/review?v=2' since it exceeds Excel's limit of 65,530 URLS per worksheet.\n",
      "  warn(\"Ignoring URL '%s' since it exceeds Excel's limit of \"\n",
      "D:\\anaconda3\\lib\\site-packages\\xlsxwriter\\worksheet.py:1179: UserWarning: Ignoring URL 'https://m.place.naver.com/my/5f3745ee78e8a28c2c9f5f58/review?v=2' since it exceeds Excel's limit of 65,530 URLS per worksheet.\n",
      "  warn(\"Ignoring URL '%s' since it exceeds Excel's limit of \"\n",
      "D:\\anaconda3\\lib\\site-packages\\xlsxwriter\\worksheet.py:1179: UserWarning: Ignoring URL 'https://m.place.naver.com/my/62a6caa5c1ed1827c31584bc/review?v=2' since it exceeds Excel's limit of 65,530 URLS per worksheet.\n",
      "  warn(\"Ignoring URL '%s' since it exceeds Excel's limit of \"\n",
      "D:\\anaconda3\\lib\\site-packages\\xlsxwriter\\worksheet.py:1179: UserWarning: Ignoring URL 'https://m.place.naver.com/my/5c30ae1a32e9445e3c607428/review?v=2' since it exceeds Excel's limit of 65,530 URLS per worksheet.\n",
      "  warn(\"Ignoring URL '%s' since it exceeds Excel's limit of \"\n",
      "D:\\anaconda3\\lib\\site-packages\\xlsxwriter\\worksheet.py:1179: UserWarning: Ignoring URL 'https://m.place.naver.com/my/5e63558b8f87a842bc980b5e/review?v=2' since it exceeds Excel's limit of 65,530 URLS per worksheet.\n",
      "  warn(\"Ignoring URL '%s' since it exceeds Excel's limit of \"\n",
      "D:\\anaconda3\\lib\\site-packages\\xlsxwriter\\worksheet.py:1179: UserWarning: Ignoring URL 'https://m.place.naver.com/my/5be40edaf613b31eed55e7dd/review?v=2' since it exceeds Excel's limit of 65,530 URLS per worksheet.\n",
      "  warn(\"Ignoring URL '%s' since it exceeds Excel's limit of \"\n",
      "D:\\anaconda3\\lib\\site-packages\\xlsxwriter\\worksheet.py:1179: UserWarning: Ignoring URL 'https://m.place.naver.com/my/5c4c210a183b812aa9d5666f/review?v=2' since it exceeds Excel's limit of 65,530 URLS per worksheet.\n",
      "  warn(\"Ignoring URL '%s' since it exceeds Excel's limit of \"\n",
      "D:\\anaconda3\\lib\\site-packages\\xlsxwriter\\worksheet.py:1179: UserWarning: Ignoring URL 'https://m.place.naver.com/my/5eacf0f68f87a842bcf6267d/review?v=2' since it exceeds Excel's limit of 65,530 URLS per worksheet.\n",
      "  warn(\"Ignoring URL '%s' since it exceeds Excel's limit of \"\n",
      "D:\\anaconda3\\lib\\site-packages\\xlsxwriter\\worksheet.py:1179: UserWarning: Ignoring URL 'https://m.place.naver.com/my/5f508a13f685b3771a4f2f10/review?v=2' since it exceeds Excel's limit of 65,530 URLS per worksheet.\n",
      "  warn(\"Ignoring URL '%s' since it exceeds Excel's limit of \"\n",
      "D:\\anaconda3\\lib\\site-packages\\xlsxwriter\\worksheet.py:1179: UserWarning: Ignoring URL 'https://m.place.naver.com/my/5f0662acace692ef6243f962/review?v=2' since it exceeds Excel's limit of 65,530 URLS per worksheet.\n",
      "  warn(\"Ignoring URL '%s' since it exceeds Excel's limit of \"\n",
      "D:\\anaconda3\\lib\\site-packages\\xlsxwriter\\worksheet.py:1179: UserWarning: Ignoring URL 'https://m.place.naver.com/my/5ddc9c869ec8258e4ad61a4f/review?v=2' since it exceeds Excel's limit of 65,530 URLS per worksheet.\n",
      "  warn(\"Ignoring URL '%s' since it exceeds Excel's limit of \"\n",
      "D:\\anaconda3\\lib\\site-packages\\xlsxwriter\\worksheet.py:1179: UserWarning: Ignoring URL 'https://m.place.naver.com/my/5cc05f0c9415052e4ff04c6d/review?v=2' since it exceeds Excel's limit of 65,530 URLS per worksheet.\n",
      "  warn(\"Ignoring URL '%s' since it exceeds Excel's limit of \"\n",
      "D:\\anaconda3\\lib\\site-packages\\xlsxwriter\\worksheet.py:1179: UserWarning: Ignoring URL 'https://m.place.naver.com/my/5bab12618721482796e04efe/review?v=2' since it exceeds Excel's limit of 65,530 URLS per worksheet.\n",
      "  warn(\"Ignoring URL '%s' since it exceeds Excel's limit of \"\n",
      "D:\\anaconda3\\lib\\site-packages\\xlsxwriter\\worksheet.py:1179: UserWarning: Ignoring URL 'https://m.place.naver.com/my/5e01a2eb8f87a842bc4653f6/review?v=2' since it exceeds Excel's limit of 65,530 URLS per worksheet.\n",
      "  warn(\"Ignoring URL '%s' since it exceeds Excel's limit of \"\n",
      "D:\\anaconda3\\lib\\site-packages\\xlsxwriter\\worksheet.py:1179: UserWarning: Ignoring URL 'https://m.place.naver.com/my/636222a01438fc3a9c74076c/review?v=2' since it exceeds Excel's limit of 65,530 URLS per worksheet.\n",
      "  warn(\"Ignoring URL '%s' since it exceeds Excel's limit of \"\n",
      "D:\\anaconda3\\lib\\site-packages\\xlsxwriter\\worksheet.py:1179: UserWarning: Ignoring URL 'https://m.place.naver.com/my/5dd101048f87a842bc3825da/review?v=2' since it exceeds Excel's limit of 65,530 URLS per worksheet.\n",
      "  warn(\"Ignoring URL '%s' since it exceeds Excel's limit of \"\n",
      "D:\\anaconda3\\lib\\site-packages\\xlsxwriter\\worksheet.py:1179: UserWarning: Ignoring URL 'https://m.place.naver.com/my/5d02d2667d5449fb4f94404c/review?v=2' since it exceeds Excel's limit of 65,530 URLS per worksheet.\n",
      "  warn(\"Ignoring URL '%s' since it exceeds Excel's limit of \"\n",
      "D:\\anaconda3\\lib\\site-packages\\xlsxwriter\\worksheet.py:1179: UserWarning: Ignoring URL 'https://m.place.naver.com/my/61c532f515e21c7cb4d30f8f/review?v=2' since it exceeds Excel's limit of 65,530 URLS per worksheet.\n",
      "  warn(\"Ignoring URL '%s' since it exceeds Excel's limit of \"\n",
      "D:\\anaconda3\\lib\\site-packages\\xlsxwriter\\worksheet.py:1179: UserWarning: Ignoring URL 'https://m.place.naver.com/my/628047ec27c8611ab5e8b2eb/review?v=2' since it exceeds Excel's limit of 65,530 URLS per worksheet.\n",
      "  warn(\"Ignoring URL '%s' since it exceeds Excel's limit of \"\n",
      "D:\\anaconda3\\lib\\site-packages\\xlsxwriter\\worksheet.py:1179: UserWarning: Ignoring URL 'https://m.place.naver.com/my/5c8262b06cd251bcfb9ae41b/review?v=2' since it exceeds Excel's limit of 65,530 URLS per worksheet.\n",
      "  warn(\"Ignoring URL '%s' since it exceeds Excel's limit of \"\n",
      "D:\\anaconda3\\lib\\site-packages\\xlsxwriter\\worksheet.py:1179: UserWarning: Ignoring URL 'https://m.place.naver.com/my/5b9c43d9855ca04de6fe1e1d/review?v=2' since it exceeds Excel's limit of 65,530 URLS per worksheet.\n",
      "  warn(\"Ignoring URL '%s' since it exceeds Excel's limit of \"\n",
      "D:\\anaconda3\\lib\\site-packages\\xlsxwriter\\worksheet.py:1179: UserWarning: Ignoring URL 'https://m.place.naver.com/my/5bc2fc80f9f0291a350db4d8/review?v=2' since it exceeds Excel's limit of 65,530 URLS per worksheet.\n",
      "  warn(\"Ignoring URL '%s' since it exceeds Excel's limit of \"\n",
      "D:\\anaconda3\\lib\\site-packages\\xlsxwriter\\worksheet.py:1179: UserWarning: Ignoring URL 'https://m.place.naver.com/my/5d514122963a757912caba86/review?v=2' since it exceeds Excel's limit of 65,530 URLS per worksheet.\n",
      "  warn(\"Ignoring URL '%s' since it exceeds Excel's limit of \"\n",
      "D:\\anaconda3\\lib\\site-packages\\xlsxwriter\\worksheet.py:1179: UserWarning: Ignoring URL 'https://m.place.naver.com/my/5b9a8df78c7fdf49a3e57fde/review?v=2' since it exceeds Excel's limit of 65,530 URLS per worksheet.\n",
      "  warn(\"Ignoring URL '%s' since it exceeds Excel's limit of \"\n",
      "D:\\anaconda3\\lib\\site-packages\\xlsxwriter\\worksheet.py:1179: UserWarning: Ignoring URL 'https://m.place.naver.com/my/5b87b7d03cc1402ccc5643e3/review?v=2' since it exceeds Excel's limit of 65,530 URLS per worksheet.\n",
      "  warn(\"Ignoring URL '%s' since it exceeds Excel's limit of \"\n",
      "D:\\anaconda3\\lib\\site-packages\\xlsxwriter\\worksheet.py:1179: UserWarning: Ignoring URL 'https://m.place.naver.com/my/600dff353107c163b753bad4/review?v=2' since it exceeds Excel's limit of 65,530 URLS per worksheet.\n",
      "  warn(\"Ignoring URL '%s' since it exceeds Excel's limit of \"\n",
      "D:\\anaconda3\\lib\\site-packages\\xlsxwriter\\worksheet.py:1179: UserWarning: Ignoring URL 'https://m.place.naver.com/my/5dde75139ec8258e4a39e67f/review?v=2' since it exceeds Excel's limit of 65,530 URLS per worksheet.\n",
      "  warn(\"Ignoring URL '%s' since it exceeds Excel's limit of \"\n",
      "D:\\anaconda3\\lib\\site-packages\\xlsxwriter\\worksheet.py:1179: UserWarning: Ignoring URL 'https://m.place.naver.com/my/5efed2ec7a3924f9464bd4fe/review?v=2' since it exceeds Excel's limit of 65,530 URLS per worksheet.\n",
      "  warn(\"Ignoring URL '%s' since it exceeds Excel's limit of \"\n",
      "D:\\anaconda3\\lib\\site-packages\\xlsxwriter\\worksheet.py:1179: UserWarning: Ignoring URL 'https://m.place.naver.com/my/5df0db308f87a842bcc635d2/review?v=2' since it exceeds Excel's limit of 65,530 URLS per worksheet.\n",
      "  warn(\"Ignoring URL '%s' since it exceeds Excel's limit of \"\n",
      "D:\\anaconda3\\lib\\site-packages\\xlsxwriter\\worksheet.py:1179: UserWarning: Ignoring URL 'https://m.place.naver.com/my/6018b5c6155ad39f07861b4f/review?v=2' since it exceeds Excel's limit of 65,530 URLS per worksheet.\n",
      "  warn(\"Ignoring URL '%s' since it exceeds Excel's limit of \"\n",
      "D:\\anaconda3\\lib\\site-packages\\xlsxwriter\\worksheet.py:1179: UserWarning: Ignoring URL 'https://m.place.naver.com/my/5dde83ec9ec8258e4a78dbae/review?v=2' since it exceeds Excel's limit of 65,530 URLS per worksheet.\n",
      "  warn(\"Ignoring URL '%s' since it exceeds Excel's limit of \"\n",
      "D:\\anaconda3\\lib\\site-packages\\xlsxwriter\\worksheet.py:1179: UserWarning: Ignoring URL 'https://m.place.naver.com/my/5f05125ec09a5c498a142bf5/review?v=2' since it exceeds Excel's limit of 65,530 URLS per worksheet.\n",
      "  warn(\"Ignoring URL '%s' since it exceeds Excel's limit of \"\n",
      "D:\\anaconda3\\lib\\site-packages\\xlsxwriter\\worksheet.py:1179: UserWarning: Ignoring URL 'https://m.place.naver.com/my/5efdc80524363d3a46aabcd8/review?v=2' since it exceeds Excel's limit of 65,530 URLS per worksheet.\n",
      "  warn(\"Ignoring URL '%s' since it exceeds Excel's limit of \"\n",
      "D:\\anaconda3\\lib\\site-packages\\xlsxwriter\\worksheet.py:1179: UserWarning: Ignoring URL 'https://m.place.naver.com/my/5c2425120c76e12a33ad75a4/review?v=2' since it exceeds Excel's limit of 65,530 URLS per worksheet.\n",
      "  warn(\"Ignoring URL '%s' since it exceeds Excel's limit of \"\n",
      "D:\\anaconda3\\lib\\site-packages\\xlsxwriter\\worksheet.py:1179: UserWarning: Ignoring URL 'https://m.place.naver.com/my/5f9b93892d9d68a584d1afb7/review?v=2' since it exceeds Excel's limit of 65,530 URLS per worksheet.\n",
      "  warn(\"Ignoring URL '%s' since it exceeds Excel's limit of \"\n",
      "D:\\anaconda3\\lib\\site-packages\\xlsxwriter\\worksheet.py:1179: UserWarning: Ignoring URL 'https://m.place.naver.com/my/5e071a4b8f87a842bc0bd8ef/review?v=2' since it exceeds Excel's limit of 65,530 URLS per worksheet.\n",
      "  warn(\"Ignoring URL '%s' since it exceeds Excel's limit of \"\n",
      "D:\\anaconda3\\lib\\site-packages\\xlsxwriter\\worksheet.py:1179: UserWarning: Ignoring URL 'https://m.place.naver.com/my/5c2ade37c6a74f5d4cfc77d4/review?v=2' since it exceeds Excel's limit of 65,530 URLS per worksheet.\n",
      "  warn(\"Ignoring URL '%s' since it exceeds Excel's limit of \"\n",
      "D:\\anaconda3\\lib\\site-packages\\xlsxwriter\\worksheet.py:1179: UserWarning: Ignoring URL 'https://m.place.naver.com/my/5e09a7fb8f87a842bc4ada42/review?v=2' since it exceeds Excel's limit of 65,530 URLS per worksheet.\n",
      "  warn(\"Ignoring URL '%s' since it exceeds Excel's limit of \"\n",
      "D:\\anaconda3\\lib\\site-packages\\xlsxwriter\\worksheet.py:1179: UserWarning: Ignoring URL 'https://m.place.naver.com/my/5c7c99944f1bf44ed42a9ef6/review?v=2' since it exceeds Excel's limit of 65,530 URLS per worksheet.\n",
      "  warn(\"Ignoring URL '%s' since it exceeds Excel's limit of \"\n",
      "D:\\anaconda3\\lib\\site-packages\\xlsxwriter\\worksheet.py:1179: UserWarning: Ignoring URL 'https://m.place.naver.com/my/5c5c0c33abe0360da58144cb/review?v=2' since it exceeds Excel's limit of 65,530 URLS per worksheet.\n",
      "  warn(\"Ignoring URL '%s' since it exceeds Excel's limit of \"\n",
      "D:\\anaconda3\\lib\\site-packages\\xlsxwriter\\worksheet.py:1179: UserWarning: Ignoring URL 'https://m.place.naver.com/my/5c03de1f7b26562751bfce0b/review?v=2' since it exceeds Excel's limit of 65,530 URLS per worksheet.\n",
      "  warn(\"Ignoring URL '%s' since it exceeds Excel's limit of \"\n",
      "D:\\anaconda3\\lib\\site-packages\\xlsxwriter\\worksheet.py:1179: UserWarning: Ignoring URL 'https://m.place.naver.com/my/5efe5e9b68401871104e8b28/review?v=2' since it exceeds Excel's limit of 65,530 URLS per worksheet.\n",
      "  warn(\"Ignoring URL '%s' since it exceeds Excel's limit of \"\n",
      "D:\\anaconda3\\lib\\site-packages\\xlsxwriter\\worksheet.py:1179: UserWarning: Ignoring URL 'https://m.place.naver.com/my/5db467818f87a842bcae2c1a/review?v=2' since it exceeds Excel's limit of 65,530 URLS per worksheet.\n",
      "  warn(\"Ignoring URL '%s' since it exceeds Excel's limit of \"\n",
      "D:\\anaconda3\\lib\\site-packages\\xlsxwriter\\worksheet.py:1179: UserWarning: Ignoring URL 'https://m.place.naver.com/my/5bdac18899155016e0a784cf/review?v=2' since it exceeds Excel's limit of 65,530 URLS per worksheet.\n",
      "  warn(\"Ignoring URL '%s' since it exceeds Excel's limit of \"\n",
      "D:\\anaconda3\\lib\\site-packages\\xlsxwriter\\worksheet.py:1179: UserWarning: Ignoring URL 'https://m.place.naver.com/my/5cccec14a483b93cbbaee74e/review?v=2' since it exceeds Excel's limit of 65,530 URLS per worksheet.\n",
      "  warn(\"Ignoring URL '%s' since it exceeds Excel's limit of \"\n",
      "D:\\anaconda3\\lib\\site-packages\\xlsxwriter\\worksheet.py:1179: UserWarning: Ignoring URL 'https://m.place.naver.com/my/5cd8616a8f87a842bc1cbbb4/review?v=2' since it exceeds Excel's limit of 65,530 URLS per worksheet.\n",
      "  warn(\"Ignoring URL '%s' since it exceeds Excel's limit of \"\n",
      "D:\\anaconda3\\lib\\site-packages\\xlsxwriter\\worksheet.py:1179: UserWarning: Ignoring URL 'https://m.place.naver.com/my/5da50e4e8f87a842bc83eab3/review?v=2' since it exceeds Excel's limit of 65,530 URLS per worksheet.\n",
      "  warn(\"Ignoring URL '%s' since it exceeds Excel's limit of \"\n",
      "D:\\anaconda3\\lib\\site-packages\\xlsxwriter\\worksheet.py:1179: UserWarning: Ignoring URL 'https://m.place.naver.com/my/5d9785948f87a842bca1031f/review?v=2' since it exceeds Excel's limit of 65,530 URLS per worksheet.\n",
      "  warn(\"Ignoring URL '%s' since it exceeds Excel's limit of \"\n",
      "D:\\anaconda3\\lib\\site-packages\\xlsxwriter\\worksheet.py:1179: UserWarning: Ignoring URL 'https://m.place.naver.com/my/5b8244086b86bb6bfa0d9228/review?v=2' since it exceeds Excel's limit of 65,530 URLS per worksheet.\n",
      "  warn(\"Ignoring URL '%s' since it exceeds Excel's limit of \"\n",
      "D:\\anaconda3\\lib\\site-packages\\xlsxwriter\\worksheet.py:1179: UserWarning: Ignoring URL 'https://m.place.naver.com/my/5f04f42192c132301ca09279/review?v=2' since it exceeds Excel's limit of 65,530 URLS per worksheet.\n",
      "  warn(\"Ignoring URL '%s' since it exceeds Excel's limit of \"\n",
      "D:\\anaconda3\\lib\\site-packages\\xlsxwriter\\worksheet.py:1179: UserWarning: Ignoring URL 'https://m.place.naver.com/my/5bf81be41169a0e231313fb3/review?v=2' since it exceeds Excel's limit of 65,530 URLS per worksheet.\n",
      "  warn(\"Ignoring URL '%s' since it exceeds Excel's limit of \"\n",
      "D:\\anaconda3\\lib\\site-packages\\xlsxwriter\\worksheet.py:1179: UserWarning: Ignoring URL 'https://m.place.naver.com/my/5d7b4ffb8f87a842bc621075/review?v=2' since it exceeds Excel's limit of 65,530 URLS per worksheet.\n",
      "  warn(\"Ignoring URL '%s' since it exceeds Excel's limit of \"\n",
      "D:\\anaconda3\\lib\\site-packages\\xlsxwriter\\worksheet.py:1179: UserWarning: Ignoring URL 'https://m.place.naver.com/my/5cb5ba4924f9d2044ea8ef3a/review?v=2' since it exceeds Excel's limit of 65,530 URLS per worksheet.\n",
      "  warn(\"Ignoring URL '%s' since it exceeds Excel's limit of \"\n",
      "D:\\anaconda3\\lib\\site-packages\\xlsxwriter\\worksheet.py:1179: UserWarning: Ignoring URL 'https://m.place.naver.com/my/5c19af8c4eebdfbc42aa6558/review?v=2' since it exceeds Excel's limit of 65,530 URLS per worksheet.\n",
      "  warn(\"Ignoring URL '%s' since it exceeds Excel's limit of \"\n",
      "D:\\anaconda3\\lib\\site-packages\\xlsxwriter\\worksheet.py:1179: UserWarning: Ignoring URL 'https://m.place.naver.com/my/5d9884658f87a842bc13941b/review?v=2' since it exceeds Excel's limit of 65,530 URLS per worksheet.\n",
      "  warn(\"Ignoring URL '%s' since it exceeds Excel's limit of \"\n",
      "D:\\anaconda3\\lib\\site-packages\\xlsxwriter\\worksheet.py:1179: UserWarning: Ignoring URL 'https://m.place.naver.com/my/6144e8a37df62000068d3d89/review?v=2' since it exceeds Excel's limit of 65,530 URLS per worksheet.\n",
      "  warn(\"Ignoring URL '%s' since it exceeds Excel's limit of \"\n",
      "D:\\anaconda3\\lib\\site-packages\\xlsxwriter\\worksheet.py:1179: UserWarning: Ignoring URL 'https://m.place.naver.com/my/5f069f10200ffc9fb662387d/review?v=2' since it exceeds Excel's limit of 65,530 URLS per worksheet.\n",
      "  warn(\"Ignoring URL '%s' since it exceeds Excel's limit of \"\n",
      "D:\\anaconda3\\lib\\site-packages\\xlsxwriter\\worksheet.py:1179: UserWarning: Ignoring URL 'https://m.place.naver.com/my/5cc2cfd65a779c38425b198f/review?v=2' since it exceeds Excel's limit of 65,530 URLS per worksheet.\n",
      "  warn(\"Ignoring URL '%s' since it exceeds Excel's limit of \"\n",
      "D:\\anaconda3\\lib\\site-packages\\xlsxwriter\\worksheet.py:1179: UserWarning: Ignoring URL 'https://m.place.naver.com/my/5c83d7c468b9323bf7ef9d51/review?v=2' since it exceeds Excel's limit of 65,530 URLS per worksheet.\n",
      "  warn(\"Ignoring URL '%s' since it exceeds Excel's limit of \"\n",
      "D:\\anaconda3\\lib\\site-packages\\xlsxwriter\\worksheet.py:1179: UserWarning: Ignoring URL 'https://m.place.naver.com/my/5de130319ec8258e4a8ac431/review?v=2' since it exceeds Excel's limit of 65,530 URLS per worksheet.\n",
      "  warn(\"Ignoring URL '%s' since it exceeds Excel's limit of \"\n",
      "D:\\anaconda3\\lib\\site-packages\\xlsxwriter\\worksheet.py:1179: UserWarning: Ignoring URL 'https://m.place.naver.com/my/60dc354e528103c78ad749f8/review?v=2' since it exceeds Excel's limit of 65,530 URLS per worksheet.\n",
      "  warn(\"Ignoring URL '%s' since it exceeds Excel's limit of \"\n",
      "D:\\anaconda3\\lib\\site-packages\\xlsxwriter\\worksheet.py:1179: UserWarning: Ignoring URL 'https://m.place.naver.com/my/5d9572268f87a842bc37d2f8/review?v=2' since it exceeds Excel's limit of 65,530 URLS per worksheet.\n",
      "  warn(\"Ignoring URL '%s' since it exceeds Excel's limit of \"\n",
      "D:\\anaconda3\\lib\\site-packages\\xlsxwriter\\worksheet.py:1179: UserWarning: Ignoring URL 'https://m.place.naver.com/my/5f061cf1c6c911a490bd61a7/review?v=2' since it exceeds Excel's limit of 65,530 URLS per worksheet.\n",
      "  warn(\"Ignoring URL '%s' since it exceeds Excel's limit of \"\n",
      "D:\\anaconda3\\lib\\site-packages\\xlsxwriter\\worksheet.py:1179: UserWarning: Ignoring URL 'https://m.place.naver.com/my/5f81ed0e6c3d7f7334ffeac2/review?v=2' since it exceeds Excel's limit of 65,530 URLS per worksheet.\n",
      "  warn(\"Ignoring URL '%s' since it exceeds Excel's limit of \"\n",
      "D:\\anaconda3\\lib\\site-packages\\xlsxwriter\\worksheet.py:1179: UserWarning: Ignoring URL 'https://m.place.naver.com/my/5d4bc367f50eb6d56e00ce54/review?v=2' since it exceeds Excel's limit of 65,530 URLS per worksheet.\n",
      "  warn(\"Ignoring URL '%s' since it exceeds Excel's limit of \"\n",
      "D:\\anaconda3\\lib\\site-packages\\xlsxwriter\\worksheet.py:1179: UserWarning: Ignoring URL 'https://m.place.naver.com/my/5be76eb6d0a6963dda45b091/review?v=2' since it exceeds Excel's limit of 65,530 URLS per worksheet.\n",
      "  warn(\"Ignoring URL '%s' since it exceeds Excel's limit of \"\n",
      "D:\\anaconda3\\lib\\site-packages\\xlsxwriter\\worksheet.py:1179: UserWarning: Ignoring URL 'https://m.place.naver.com/my/5d3040da4b52ffa49dbaa1de/review?v=2' since it exceeds Excel's limit of 65,530 URLS per worksheet.\n",
      "  warn(\"Ignoring URL '%s' since it exceeds Excel's limit of \"\n",
      "D:\\anaconda3\\lib\\site-packages\\xlsxwriter\\worksheet.py:1179: UserWarning: Ignoring URL 'https://m.place.naver.com/my/5d9ca7d28f87a842bcef5932/review?v=2' since it exceeds Excel's limit of 65,530 URLS per worksheet.\n",
      "  warn(\"Ignoring URL '%s' since it exceeds Excel's limit of \"\n",
      "D:\\anaconda3\\lib\\site-packages\\xlsxwriter\\worksheet.py:1179: UserWarning: Ignoring URL 'https://m.place.naver.com/my/5cc1b484a6eb6ff4040fe3ff/review?v=2' since it exceeds Excel's limit of 65,530 URLS per worksheet.\n",
      "  warn(\"Ignoring URL '%s' since it exceeds Excel's limit of \"\n",
      "D:\\anaconda3\\lib\\site-packages\\xlsxwriter\\worksheet.py:1179: UserWarning: Ignoring URL 'https://m.place.naver.com/my/5f2380c29ec8258e4a8483e2/review?v=2' since it exceeds Excel's limit of 65,530 URLS per worksheet.\n",
      "  warn(\"Ignoring URL '%s' since it exceeds Excel's limit of \"\n",
      "D:\\anaconda3\\lib\\site-packages\\xlsxwriter\\worksheet.py:1179: UserWarning: Ignoring URL 'https://m.place.naver.com/my/5ff47be4fb22375d708ac846/review?v=2' since it exceeds Excel's limit of 65,530 URLS per worksheet.\n",
      "  warn(\"Ignoring URL '%s' since it exceeds Excel's limit of \"\n",
      "D:\\anaconda3\\lib\\site-packages\\xlsxwriter\\worksheet.py:1179: UserWarning: Ignoring URL 'https://m.place.naver.com/my/5e5aaf678f87a842bc0a6434/review?v=2' since it exceeds Excel's limit of 65,530 URLS per worksheet.\n",
      "  warn(\"Ignoring URL '%s' since it exceeds Excel's limit of \"\n",
      "D:\\anaconda3\\lib\\site-packages\\xlsxwriter\\worksheet.py:1179: UserWarning: Ignoring URL 'https://m.place.naver.com/my/5ea56ee58f87a842bc790572/review?v=2' since it exceeds Excel's limit of 65,530 URLS per worksheet.\n",
      "  warn(\"Ignoring URL '%s' since it exceeds Excel's limit of \"\n",
      "D:\\anaconda3\\lib\\site-packages\\xlsxwriter\\worksheet.py:1179: UserWarning: Ignoring URL 'https://m.place.naver.com/my/5bd97696e52bea3188577a62/review?v=2' since it exceeds Excel's limit of 65,530 URLS per worksheet.\n",
      "  warn(\"Ignoring URL '%s' since it exceeds Excel's limit of \"\n",
      "D:\\anaconda3\\lib\\site-packages\\xlsxwriter\\worksheet.py:1179: UserWarning: Ignoring URL 'https://m.place.naver.com/my/5ef9a6248f87a842bc823f07/review?v=2' since it exceeds Excel's limit of 65,530 URLS per worksheet.\n",
      "  warn(\"Ignoring URL '%s' since it exceeds Excel's limit of \"\n",
      "D:\\anaconda3\\lib\\site-packages\\xlsxwriter\\worksheet.py:1179: UserWarning: Ignoring URL 'https://m.place.naver.com/my/5f1ab4cf9ec8258e4ac4a3f7/review?v=2' since it exceeds Excel's limit of 65,530 URLS per worksheet.\n",
      "  warn(\"Ignoring URL '%s' since it exceeds Excel's limit of \"\n",
      "D:\\anaconda3\\lib\\site-packages\\xlsxwriter\\worksheet.py:1179: UserWarning: Ignoring URL 'https://m.place.naver.com/my/5befa06f80220957fb5f01b3/review?v=2' since it exceeds Excel's limit of 65,530 URLS per worksheet.\n",
      "  warn(\"Ignoring URL '%s' since it exceeds Excel's limit of \"\n",
      "D:\\anaconda3\\lib\\site-packages\\xlsxwriter\\worksheet.py:1179: UserWarning: Ignoring URL 'https://m.place.naver.com/my/5c3f936c2ed2cb5f513d2603/review?v=2' since it exceeds Excel's limit of 65,530 URLS per worksheet.\n",
      "  warn(\"Ignoring URL '%s' since it exceeds Excel's limit of \"\n",
      "D:\\anaconda3\\lib\\site-packages\\xlsxwriter\\worksheet.py:1179: UserWarning: Ignoring URL 'https://m.place.naver.com/my/5e0536eb8f87a842bcc0a0b1/review?v=2' since it exceeds Excel's limit of 65,530 URLS per worksheet.\n",
      "  warn(\"Ignoring URL '%s' since it exceeds Excel's limit of \"\n",
      "D:\\anaconda3\\lib\\site-packages\\xlsxwriter\\worksheet.py:1179: UserWarning: Ignoring URL 'https://m.place.naver.com/my/5c463de7be613ca3fc9ed469/review?v=2' since it exceeds Excel's limit of 65,530 URLS per worksheet.\n",
      "  warn(\"Ignoring URL '%s' since it exceeds Excel's limit of \"\n",
      "D:\\anaconda3\\lib\\site-packages\\xlsxwriter\\worksheet.py:1179: UserWarning: Ignoring URL 'https://m.place.naver.com/my/5b9cc81a7c2d4eb2c0c70cee/review?v=2' since it exceeds Excel's limit of 65,530 URLS per worksheet.\n",
      "  warn(\"Ignoring URL '%s' since it exceeds Excel's limit of \"\n",
      "D:\\anaconda3\\lib\\site-packages\\xlsxwriter\\worksheet.py:1179: UserWarning: Ignoring URL 'https://m.place.naver.com/my/5bc12d40cd054178b7c17a9e/review?v=2' since it exceeds Excel's limit of 65,530 URLS per worksheet.\n",
      "  warn(\"Ignoring URL '%s' since it exceeds Excel's limit of \"\n",
      "D:\\anaconda3\\lib\\site-packages\\xlsxwriter\\worksheet.py:1179: UserWarning: Ignoring URL 'https://m.place.naver.com/my/5cd7e4c182cd7a9ff92cf29b/review?v=2' since it exceeds Excel's limit of 65,530 URLS per worksheet.\n",
      "  warn(\"Ignoring URL '%s' since it exceeds Excel's limit of \"\n",
      "D:\\anaconda3\\lib\\site-packages\\xlsxwriter\\worksheet.py:1179: UserWarning: Ignoring URL 'https://m.place.naver.com/my/5da0097a8f87a842bcb0c37e/review?v=2' since it exceeds Excel's limit of 65,530 URLS per worksheet.\n",
      "  warn(\"Ignoring URL '%s' since it exceeds Excel's limit of \"\n",
      "D:\\anaconda3\\lib\\site-packages\\xlsxwriter\\worksheet.py:1179: UserWarning: Ignoring URL 'https://m.place.naver.com/my/5de0de849ec8258e4a9e00b8/review?v=2' since it exceeds Excel's limit of 65,530 URLS per worksheet.\n",
      "  warn(\"Ignoring URL '%s' since it exceeds Excel's limit of \"\n",
      "D:\\anaconda3\\lib\\site-packages\\xlsxwriter\\worksheet.py:1179: UserWarning: Ignoring URL 'https://m.place.naver.com/my/5d2585807259246c4f255c7f/review?v=2' since it exceeds Excel's limit of 65,530 URLS per worksheet.\n",
      "  warn(\"Ignoring URL '%s' since it exceeds Excel's limit of \"\n",
      "D:\\anaconda3\\lib\\site-packages\\xlsxwriter\\worksheet.py:1179: UserWarning: Ignoring URL 'https://m.place.naver.com/my/5e9032b98f87a842bc33a696/review?v=2' since it exceeds Excel's limit of 65,530 URLS per worksheet.\n",
      "  warn(\"Ignoring URL '%s' since it exceeds Excel's limit of \"\n",
      "D:\\anaconda3\\lib\\site-packages\\xlsxwriter\\worksheet.py:1179: UserWarning: Ignoring URL 'https://m.place.naver.com/my/5b7772d93dd1e9c8327add7b/review?v=2' since it exceeds Excel's limit of 65,530 URLS per worksheet.\n",
      "  warn(\"Ignoring URL '%s' since it exceeds Excel's limit of \"\n",
      "D:\\anaconda3\\lib\\site-packages\\xlsxwriter\\worksheet.py:1179: UserWarning: Ignoring URL 'https://m.place.naver.com/my/5c1f9316ae4e34b53f2c0aef/review?v=2' since it exceeds Excel's limit of 65,530 URLS per worksheet.\n",
      "  warn(\"Ignoring URL '%s' since it exceeds Excel's limit of \"\n",
      "D:\\anaconda3\\lib\\site-packages\\xlsxwriter\\worksheet.py:1179: UserWarning: Ignoring URL 'https://m.place.naver.com/my/5df9860f8f87a842bcc2500c/review?v=2' since it exceeds Excel's limit of 65,530 URLS per worksheet.\n",
      "  warn(\"Ignoring URL '%s' since it exceeds Excel's limit of \"\n",
      "D:\\anaconda3\\lib\\site-packages\\xlsxwriter\\worksheet.py:1179: UserWarning: Ignoring URL 'https://m.place.naver.com/my/5e3eea938f87a842bccd0347/review?v=2' since it exceeds Excel's limit of 65,530 URLS per worksheet.\n",
      "  warn(\"Ignoring URL '%s' since it exceeds Excel's limit of \"\n",
      "D:\\anaconda3\\lib\\site-packages\\xlsxwriter\\worksheet.py:1179: UserWarning: Ignoring URL 'https://m.place.naver.com/my/5beadadc6c5941bce0f5e30d/review?v=2' since it exceeds Excel's limit of 65,530 URLS per worksheet.\n",
      "  warn(\"Ignoring URL '%s' since it exceeds Excel's limit of \"\n",
      "D:\\anaconda3\\lib\\site-packages\\xlsxwriter\\worksheet.py:1179: UserWarning: Ignoring URL 'https://m.place.naver.com/my/5bdf8f660cc56d7d0f9e3cb0/review?v=2' since it exceeds Excel's limit of 65,530 URLS per worksheet.\n",
      "  warn(\"Ignoring URL '%s' since it exceeds Excel's limit of \"\n",
      "D:\\anaconda3\\lib\\site-packages\\xlsxwriter\\worksheet.py:1179: UserWarning: Ignoring URL 'https://m.place.naver.com/my/5ea416b58f87a842bca6cd84/review?v=2' since it exceeds Excel's limit of 65,530 URLS per worksheet.\n",
      "  warn(\"Ignoring URL '%s' since it exceeds Excel's limit of \"\n",
      "D:\\anaconda3\\lib\\site-packages\\xlsxwriter\\worksheet.py:1179: UserWarning: Ignoring URL 'https://m.place.naver.com/my/5d68d3c38f87a842bcffe3f1/review?v=2' since it exceeds Excel's limit of 65,530 URLS per worksheet.\n",
      "  warn(\"Ignoring URL '%s' since it exceeds Excel's limit of \"\n",
      "D:\\anaconda3\\lib\\site-packages\\xlsxwriter\\worksheet.py:1179: UserWarning: Ignoring URL 'https://m.place.naver.com/my/5bd69a12b8b0616061f9b9b1/review?v=2' since it exceeds Excel's limit of 65,530 URLS per worksheet.\n",
      "  warn(\"Ignoring URL '%s' since it exceeds Excel's limit of \"\n",
      "D:\\anaconda3\\lib\\site-packages\\xlsxwriter\\worksheet.py:1179: UserWarning: Ignoring URL 'https://m.place.naver.com/my/5dd5324a8f87a842bca02ad8/review?v=2' since it exceeds Excel's limit of 65,530 URLS per worksheet.\n",
      "  warn(\"Ignoring URL '%s' since it exceeds Excel's limit of \"\n",
      "D:\\anaconda3\\lib\\site-packages\\xlsxwriter\\worksheet.py:1179: UserWarning: Ignoring URL 'https://m.place.naver.com/my/5b6520eab1c8f012c42a9aef/review?v=2' since it exceeds Excel's limit of 65,530 URLS per worksheet.\n",
      "  warn(\"Ignoring URL '%s' since it exceeds Excel's limit of \"\n",
      "D:\\anaconda3\\lib\\site-packages\\xlsxwriter\\worksheet.py:1179: UserWarning: Ignoring URL 'https://m.place.naver.com/my/5f0a53c27db22c083cd1a3ea/review?v=2' since it exceeds Excel's limit of 65,530 URLS per worksheet.\n",
      "  warn(\"Ignoring URL '%s' since it exceeds Excel's limit of \"\n",
      "D:\\anaconda3\\lib\\site-packages\\xlsxwriter\\worksheet.py:1179: UserWarning: Ignoring URL 'https://m.place.naver.com/my/5ea4545c8f87a842bc834e00/review?v=2' since it exceeds Excel's limit of 65,530 URLS per worksheet.\n",
      "  warn(\"Ignoring URL '%s' since it exceeds Excel's limit of \"\n",
      "D:\\anaconda3\\lib\\site-packages\\xlsxwriter\\worksheet.py:1179: UserWarning: Ignoring URL 'https://m.place.naver.com/my/5f93e761685f882f1cc43efc/review?v=2' since it exceeds Excel's limit of 65,530 URLS per worksheet.\n",
      "  warn(\"Ignoring URL '%s' since it exceeds Excel's limit of \"\n",
      "D:\\anaconda3\\lib\\site-packages\\xlsxwriter\\worksheet.py:1179: UserWarning: Ignoring URL 'https://m.place.naver.com/my/5ba23f661a4065e49a80aae6/review?v=2' since it exceeds Excel's limit of 65,530 URLS per worksheet.\n",
      "  warn(\"Ignoring URL '%s' since it exceeds Excel's limit of \"\n",
      "D:\\anaconda3\\lib\\site-packages\\xlsxwriter\\worksheet.py:1179: UserWarning: Ignoring URL 'https://m.place.naver.com/my/5b9647ff49f9dd2bfd53b415/review?v=2' since it exceeds Excel's limit of 65,530 URLS per worksheet.\n",
      "  warn(\"Ignoring URL '%s' since it exceeds Excel's limit of \"\n",
      "D:\\anaconda3\\lib\\site-packages\\xlsxwriter\\worksheet.py:1179: UserWarning: Ignoring URL 'https://m.place.naver.com/my/6185f82415e21c7bd3d0d916/review?v=2' since it exceeds Excel's limit of 65,530 URLS per worksheet.\n",
      "  warn(\"Ignoring URL '%s' since it exceeds Excel's limit of \"\n",
      "D:\\anaconda3\\lib\\site-packages\\xlsxwriter\\worksheet.py:1179: UserWarning: Ignoring URL 'https://m.place.naver.com/my/5b62f6deb26daef92157bec7/review?v=2' since it exceeds Excel's limit of 65,530 URLS per worksheet.\n",
      "  warn(\"Ignoring URL '%s' since it exceeds Excel's limit of \"\n",
      "D:\\anaconda3\\lib\\site-packages\\xlsxwriter\\worksheet.py:1179: UserWarning: Ignoring URL 'https://m.place.naver.com/my/5e76ddc08f87a842bce97e8b/review?v=2' since it exceeds Excel's limit of 65,530 URLS per worksheet.\n",
      "  warn(\"Ignoring URL '%s' since it exceeds Excel's limit of \"\n",
      "D:\\anaconda3\\lib\\site-packages\\xlsxwriter\\worksheet.py:1179: UserWarning: Ignoring URL 'https://m.place.naver.com/my/5ca06306ae2b43be687672fe/review?v=2' since it exceeds Excel's limit of 65,530 URLS per worksheet.\n",
      "  warn(\"Ignoring URL '%s' since it exceeds Excel's limit of \"\n",
      "D:\\anaconda3\\lib\\site-packages\\xlsxwriter\\worksheet.py:1179: UserWarning: Ignoring URL 'https://m.place.naver.com/my/5d8f88728f87a842bc70ffbb/review?v=2' since it exceeds Excel's limit of 65,530 URLS per worksheet.\n",
      "  warn(\"Ignoring URL '%s' since it exceeds Excel's limit of \"\n",
      "D:\\anaconda3\\lib\\site-packages\\xlsxwriter\\worksheet.py:1179: UserWarning: Ignoring URL 'https://m.place.naver.com/my/5f10368a9ec8258e4a5365d1/review?v=2' since it exceeds Excel's limit of 65,530 URLS per worksheet.\n",
      "  warn(\"Ignoring URL '%s' since it exceeds Excel's limit of \"\n",
      "D:\\anaconda3\\lib\\site-packages\\xlsxwriter\\worksheet.py:1179: UserWarning: Ignoring URL 'https://m.place.naver.com/my/5e5306b48f87a842bcbf7970/review?v=2' since it exceeds Excel's limit of 65,530 URLS per worksheet.\n",
      "  warn(\"Ignoring URL '%s' since it exceeds Excel's limit of \"\n",
      "D:\\anaconda3\\lib\\site-packages\\xlsxwriter\\worksheet.py:1179: UserWarning: Ignoring URL 'https://m.place.naver.com/my/5dfca9cc8f87a842bc9b74ea/review?v=2' since it exceeds Excel's limit of 65,530 URLS per worksheet.\n",
      "  warn(\"Ignoring URL '%s' since it exceeds Excel's limit of \"\n",
      "D:\\anaconda3\\lib\\site-packages\\xlsxwriter\\worksheet.py:1179: UserWarning: Ignoring URL 'https://m.place.naver.com/my/5bf462f481a9a132615fee27/review?v=2' since it exceeds Excel's limit of 65,530 URLS per worksheet.\n",
      "  warn(\"Ignoring URL '%s' since it exceeds Excel's limit of \"\n",
      "D:\\anaconda3\\lib\\site-packages\\xlsxwriter\\worksheet.py:1179: UserWarning: Ignoring URL 'https://m.place.naver.com/my/5eb10fef8f87a842bcc58071/review?v=2' since it exceeds Excel's limit of 65,530 URLS per worksheet.\n",
      "  warn(\"Ignoring URL '%s' since it exceeds Excel's limit of \"\n",
      "D:\\anaconda3\\lib\\site-packages\\xlsxwriter\\worksheet.py:1179: UserWarning: Ignoring URL 'https://m.place.naver.com/my/5f9a40e2765c3d29dbf69546/review?v=2' since it exceeds Excel's limit of 65,530 URLS per worksheet.\n",
      "  warn(\"Ignoring URL '%s' since it exceeds Excel's limit of \"\n",
      "D:\\anaconda3\\lib\\site-packages\\xlsxwriter\\worksheet.py:1179: UserWarning: Ignoring URL 'https://m.place.naver.com/my/5f2ffb889ec8258e4ad3d669/review?v=2' since it exceeds Excel's limit of 65,530 URLS per worksheet.\n",
      "  warn(\"Ignoring URL '%s' since it exceeds Excel's limit of \"\n",
      "D:\\anaconda3\\lib\\site-packages\\xlsxwriter\\worksheet.py:1179: UserWarning: Ignoring URL 'https://m.place.naver.com/my/5fd9fb44cfb5399864aad00c/review?v=2' since it exceeds Excel's limit of 65,530 URLS per worksheet.\n",
      "  warn(\"Ignoring URL '%s' since it exceeds Excel's limit of \"\n",
      "D:\\anaconda3\\lib\\site-packages\\xlsxwriter\\worksheet.py:1179: UserWarning: Ignoring URL 'https://m.place.naver.com/my/5dc73cc98f87a842bc53e042/review?v=2' since it exceeds Excel's limit of 65,530 URLS per worksheet.\n",
      "  warn(\"Ignoring URL '%s' since it exceeds Excel's limit of \"\n",
      "D:\\anaconda3\\lib\\site-packages\\xlsxwriter\\worksheet.py:1179: UserWarning: Ignoring URL 'https://m.place.naver.com/my/5e7200818f87a842bca89c64/review?v=2' since it exceeds Excel's limit of 65,530 URLS per worksheet.\n",
      "  warn(\"Ignoring URL '%s' since it exceeds Excel's limit of \"\n",
      "D:\\anaconda3\\lib\\site-packages\\xlsxwriter\\worksheet.py:1179: UserWarning: Ignoring URL 'https://m.place.naver.com/my/5ebd5d168f87a842bc9e63fa/review?v=2' since it exceeds Excel's limit of 65,530 URLS per worksheet.\n",
      "  warn(\"Ignoring URL '%s' since it exceeds Excel's limit of \"\n",
      "D:\\anaconda3\\lib\\site-packages\\xlsxwriter\\worksheet.py:1179: UserWarning: Ignoring URL 'https://m.place.naver.com/my/5eb37f2c8f87a842bcd8fb1a/review?v=2' since it exceeds Excel's limit of 65,530 URLS per worksheet.\n",
      "  warn(\"Ignoring URL '%s' since it exceeds Excel's limit of \"\n",
      "D:\\anaconda3\\lib\\site-packages\\xlsxwriter\\worksheet.py:1179: UserWarning: Ignoring URL 'https://m.place.naver.com/my/5f2f95039ec8258e4ae4334d/review?v=2' since it exceeds Excel's limit of 65,530 URLS per worksheet.\n",
      "  warn(\"Ignoring URL '%s' since it exceeds Excel's limit of \"\n",
      "D:\\anaconda3\\lib\\site-packages\\xlsxwriter\\worksheet.py:1179: UserWarning: Ignoring URL 'https://m.place.naver.com/my/5db4067a8f87a842bc3cf36d/review?v=2' since it exceeds Excel's limit of 65,530 URLS per worksheet.\n",
      "  warn(\"Ignoring URL '%s' since it exceeds Excel's limit of \"\n",
      "D:\\anaconda3\\lib\\site-packages\\xlsxwriter\\worksheet.py:1179: UserWarning: Ignoring URL 'https://m.place.naver.com/my/5efe218c97c2663e9347cf63/review?v=2' since it exceeds Excel's limit of 65,530 URLS per worksheet.\n",
      "  warn(\"Ignoring URL '%s' since it exceeds Excel's limit of \"\n",
      "D:\\anaconda3\\lib\\site-packages\\xlsxwriter\\worksheet.py:1179: UserWarning: Ignoring URL 'https://m.place.naver.com/my/5cd275938aa1e5335b31d1ac/review?v=2' since it exceeds Excel's limit of 65,530 URLS per worksheet.\n",
      "  warn(\"Ignoring URL '%s' since it exceeds Excel's limit of \"\n",
      "D:\\anaconda3\\lib\\site-packages\\xlsxwriter\\worksheet.py:1179: UserWarning: Ignoring URL 'https://m.place.naver.com/my/5eff822954eca45f153dfa76/review?v=2' since it exceeds Excel's limit of 65,530 URLS per worksheet.\n",
      "  warn(\"Ignoring URL '%s' since it exceeds Excel's limit of \"\n",
      "D:\\anaconda3\\lib\\site-packages\\xlsxwriter\\worksheet.py:1179: UserWarning: Ignoring URL 'https://m.place.naver.com/my/5c3ae241bed30da4dfb7d176/review?v=2' since it exceeds Excel's limit of 65,530 URLS per worksheet.\n",
      "  warn(\"Ignoring URL '%s' since it exceeds Excel's limit of \"\n",
      "D:\\anaconda3\\lib\\site-packages\\xlsxwriter\\worksheet.py:1179: UserWarning: Ignoring URL 'https://m.place.naver.com/my/5c05eceea7080068e12c4b32/review?v=2' since it exceeds Excel's limit of 65,530 URLS per worksheet.\n",
      "  warn(\"Ignoring URL '%s' since it exceeds Excel's limit of \"\n",
      "D:\\anaconda3\\lib\\site-packages\\xlsxwriter\\worksheet.py:1179: UserWarning: Ignoring URL 'https://m.place.naver.com/my/5da205ce8f87a842bcb442fe/review?v=2' since it exceeds Excel's limit of 65,530 URLS per worksheet.\n",
      "  warn(\"Ignoring URL '%s' since it exceeds Excel's limit of \"\n",
      "D:\\anaconda3\\lib\\site-packages\\xlsxwriter\\worksheet.py:1179: UserWarning: Ignoring URL 'https://m.place.naver.com/my/5daf39fb8f87a842bccea23e/review?v=2' since it exceeds Excel's limit of 65,530 URLS per worksheet.\n",
      "  warn(\"Ignoring URL '%s' since it exceeds Excel's limit of \"\n",
      "D:\\anaconda3\\lib\\site-packages\\xlsxwriter\\worksheet.py:1179: UserWarning: Ignoring URL 'https://m.place.naver.com/my/5e5b1aa28f87a842bc1abd68/review?v=2' since it exceeds Excel's limit of 65,530 URLS per worksheet.\n",
      "  warn(\"Ignoring URL '%s' since it exceeds Excel's limit of \"\n",
      "D:\\anaconda3\\lib\\site-packages\\xlsxwriter\\worksheet.py:1179: UserWarning: Ignoring URL 'https://m.place.naver.com/my/5f06086ec39701d27e14341e/review?v=2' since it exceeds Excel's limit of 65,530 URLS per worksheet.\n",
      "  warn(\"Ignoring URL '%s' since it exceeds Excel's limit of \"\n",
      "D:\\anaconda3\\lib\\site-packages\\xlsxwriter\\worksheet.py:1179: UserWarning: Ignoring URL 'https://m.place.naver.com/my/60a62ed61515947d8476cf30/review?v=2' since it exceeds Excel's limit of 65,530 URLS per worksheet.\n",
      "  warn(\"Ignoring URL '%s' since it exceeds Excel's limit of \"\n",
      "D:\\anaconda3\\lib\\site-packages\\xlsxwriter\\worksheet.py:1179: UserWarning: Ignoring URL 'https://m.place.naver.com/my/5c382d31a15bd2961bfdb414/review?v=2' since it exceeds Excel's limit of 65,530 URLS per worksheet.\n",
      "  warn(\"Ignoring URL '%s' since it exceeds Excel's limit of \"\n",
      "D:\\anaconda3\\lib\\site-packages\\xlsxwriter\\worksheet.py:1179: UserWarning: Ignoring URL 'https://m.place.naver.com/my/5f064b23ace692ef6242c91a/review?v=2' since it exceeds Excel's limit of 65,530 URLS per worksheet.\n",
      "  warn(\"Ignoring URL '%s' since it exceeds Excel's limit of \"\n",
      "D:\\anaconda3\\lib\\site-packages\\xlsxwriter\\worksheet.py:1179: UserWarning: Ignoring URL 'https://m.place.naver.com/my/5f0587d58f87a842bc50d19c/review?v=2' since it exceeds Excel's limit of 65,530 URLS per worksheet.\n",
      "  warn(\"Ignoring URL '%s' since it exceeds Excel's limit of \"\n",
      "D:\\anaconda3\\lib\\site-packages\\xlsxwriter\\worksheet.py:1179: UserWarning: Ignoring URL 'https://m.place.naver.com/my/5f057db4532b4ce788cda26d/review?v=2' since it exceeds Excel's limit of 65,530 URLS per worksheet.\n",
      "  warn(\"Ignoring URL '%s' since it exceeds Excel's limit of \"\n",
      "D:\\anaconda3\\lib\\site-packages\\xlsxwriter\\worksheet.py:1179: UserWarning: Ignoring URL 'https://m.place.naver.com/my/5e37ec368f87a842bc8e4de7/review?v=2' since it exceeds Excel's limit of 65,530 URLS per worksheet.\n",
      "  warn(\"Ignoring URL '%s' since it exceeds Excel's limit of \"\n",
      "D:\\anaconda3\\lib\\site-packages\\xlsxwriter\\worksheet.py:1179: UserWarning: Ignoring URL 'https://m.place.naver.com/my/5e7044ef8f87a842bc349fbe/review?v=2' since it exceeds Excel's limit of 65,530 URLS per worksheet.\n",
      "  warn(\"Ignoring URL '%s' since it exceeds Excel's limit of \"\n",
      "D:\\anaconda3\\lib\\site-packages\\xlsxwriter\\worksheet.py:1179: UserWarning: Ignoring URL 'https://m.place.naver.com/my/5effadfa598cfed34e18ddbc/review?v=2' since it exceeds Excel's limit of 65,530 URLS per worksheet.\n",
      "  warn(\"Ignoring URL '%s' since it exceeds Excel's limit of \"\n",
      "D:\\anaconda3\\lib\\site-packages\\xlsxwriter\\worksheet.py:1179: UserWarning: Ignoring URL 'https://m.place.naver.com/my/5eff829fde5d1e6a342b0e90/review?v=2' since it exceeds Excel's limit of 65,530 URLS per worksheet.\n",
      "  warn(\"Ignoring URL '%s' since it exceeds Excel's limit of \"\n",
      "D:\\anaconda3\\lib\\site-packages\\xlsxwriter\\worksheet.py:1179: UserWarning: Ignoring URL 'https://m.place.naver.com/my/5c59d46fb935c1624bebd077/review?v=2' since it exceeds Excel's limit of 65,530 URLS per worksheet.\n",
      "  warn(\"Ignoring URL '%s' since it exceeds Excel's limit of \"\n",
      "D:\\anaconda3\\lib\\site-packages\\xlsxwriter\\worksheet.py:1179: UserWarning: Ignoring URL 'https://m.place.naver.com/my/5f058069b2804547b1883419/review?v=2' since it exceeds Excel's limit of 65,530 URLS per worksheet.\n",
      "  warn(\"Ignoring URL '%s' since it exceeds Excel's limit of \"\n",
      "D:\\anaconda3\\lib\\site-packages\\xlsxwriter\\worksheet.py:1179: UserWarning: Ignoring URL 'https://m.place.naver.com/my/618aa9827bac1900555de110/review?v=2' since it exceeds Excel's limit of 65,530 URLS per worksheet.\n",
      "  warn(\"Ignoring URL '%s' since it exceeds Excel's limit of \"\n",
      "D:\\anaconda3\\lib\\site-packages\\xlsxwriter\\worksheet.py:1179: UserWarning: Ignoring URL 'https://m.place.naver.com/my/5d6f52d68f87a842bc36e29c/review?v=2' since it exceeds Excel's limit of 65,530 URLS per worksheet.\n",
      "  warn(\"Ignoring URL '%s' since it exceeds Excel's limit of \"\n",
      "D:\\anaconda3\\lib\\site-packages\\xlsxwriter\\worksheet.py:1179: UserWarning: Ignoring URL 'https://m.place.naver.com/my/5b9e440ea47a0ddf839ab22d/review?v=2' since it exceeds Excel's limit of 65,530 URLS per worksheet.\n",
      "  warn(\"Ignoring URL '%s' since it exceeds Excel's limit of \"\n",
      "D:\\anaconda3\\lib\\site-packages\\xlsxwriter\\worksheet.py:1179: UserWarning: Ignoring URL 'https://m.place.naver.com/my/5c981b7843962e70da9d27e7/review?v=2' since it exceeds Excel's limit of 65,530 URLS per worksheet.\n",
      "  warn(\"Ignoring URL '%s' since it exceeds Excel's limit of \"\n",
      "D:\\anaconda3\\lib\\site-packages\\xlsxwriter\\worksheet.py:1179: UserWarning: Ignoring URL 'https://m.place.naver.com/my/5b9f65c209a50fe08cf1aba0/review?v=2' since it exceeds Excel's limit of 65,530 URLS per worksheet.\n",
      "  warn(\"Ignoring URL '%s' since it exceeds Excel's limit of \"\n",
      "D:\\anaconda3\\lib\\site-packages\\xlsxwriter\\worksheet.py:1179: UserWarning: Ignoring URL 'https://m.place.naver.com/my/603ef2e786b4c66483113dc3/review?v=2' since it exceeds Excel's limit of 65,530 URLS per worksheet.\n",
      "  warn(\"Ignoring URL '%s' since it exceeds Excel's limit of \"\n",
      "D:\\anaconda3\\lib\\site-packages\\xlsxwriter\\worksheet.py:1179: UserWarning: Ignoring URL 'https://m.place.naver.com/my/6141dfa8b324c66caa3a60ab/review?v=2' since it exceeds Excel's limit of 65,530 URLS per worksheet.\n",
      "  warn(\"Ignoring URL '%s' since it exceeds Excel's limit of \"\n",
      "D:\\anaconda3\\lib\\site-packages\\xlsxwriter\\worksheet.py:1179: UserWarning: Ignoring URL 'https://m.place.naver.com/my/6199d65f82ac4f40abed41f1/review?v=2' since it exceeds Excel's limit of 65,530 URLS per worksheet.\n",
      "  warn(\"Ignoring URL '%s' since it exceeds Excel's limit of \"\n",
      "D:\\anaconda3\\lib\\site-packages\\xlsxwriter\\worksheet.py:1179: UserWarning: Ignoring URL 'https://m.place.naver.com/my/5c0e65ac4887e4149e8ae15c/review?v=2' since it exceeds Excel's limit of 65,530 URLS per worksheet.\n",
      "  warn(\"Ignoring URL '%s' since it exceeds Excel's limit of \"\n",
      "D:\\anaconda3\\lib\\site-packages\\xlsxwriter\\worksheet.py:1179: UserWarning: Ignoring URL 'https://m.place.naver.com/my/5e51f7478f87a842bc1313f8/review?v=2' since it exceeds Excel's limit of 65,530 URLS per worksheet.\n",
      "  warn(\"Ignoring URL '%s' since it exceeds Excel's limit of \"\n",
      "D:\\anaconda3\\lib\\site-packages\\xlsxwriter\\worksheet.py:1179: UserWarning: Ignoring URL 'https://m.place.naver.com/my/5f5c32876c3d7f7334b4cbda/review?v=2' since it exceeds Excel's limit of 65,530 URLS per worksheet.\n",
      "  warn(\"Ignoring URL '%s' since it exceeds Excel's limit of \"\n",
      "D:\\anaconda3\\lib\\site-packages\\xlsxwriter\\worksheet.py:1179: UserWarning: Ignoring URL 'https://m.place.naver.com/my/5be9ea430ea81c66c61be22e/review?v=2' since it exceeds Excel's limit of 65,530 URLS per worksheet.\n",
      "  warn(\"Ignoring URL '%s' since it exceeds Excel's limit of \"\n",
      "D:\\anaconda3\\lib\\site-packages\\xlsxwriter\\worksheet.py:1179: UserWarning: Ignoring URL 'https://m.place.naver.com/my/5da1baf28f87a842bce04564/review?v=2' since it exceeds Excel's limit of 65,530 URLS per worksheet.\n",
      "  warn(\"Ignoring URL '%s' since it exceeds Excel's limit of \"\n",
      "D:\\anaconda3\\lib\\site-packages\\xlsxwriter\\worksheet.py:1179: UserWarning: Ignoring URL 'https://m.place.naver.com/my/5f070a923396d790d688559e/review?v=2' since it exceeds Excel's limit of 65,530 URLS per worksheet.\n",
      "  warn(\"Ignoring URL '%s' since it exceeds Excel's limit of \"\n",
      "D:\\anaconda3\\lib\\site-packages\\xlsxwriter\\worksheet.py:1179: UserWarning: Ignoring URL 'https://m.place.naver.com/my/5bd2fd85c64e741a296b8b72/review?v=2' since it exceeds Excel's limit of 65,530 URLS per worksheet.\n",
      "  warn(\"Ignoring URL '%s' since it exceeds Excel's limit of \"\n",
      "D:\\anaconda3\\lib\\site-packages\\xlsxwriter\\worksheet.py:1179: UserWarning: Ignoring URL 'https://m.place.naver.com/my/603ceb34ec72bdebac3a90fa/review?v=2' since it exceeds Excel's limit of 65,530 URLS per worksheet.\n",
      "  warn(\"Ignoring URL '%s' since it exceeds Excel's limit of \"\n",
      "D:\\anaconda3\\lib\\site-packages\\xlsxwriter\\worksheet.py:1179: UserWarning: Ignoring URL 'https://m.place.naver.com/my/6089ed0d0b12505a0e0981e8/review?v=2' since it exceeds Excel's limit of 65,530 URLS per worksheet.\n",
      "  warn(\"Ignoring URL '%s' since it exceeds Excel's limit of \"\n",
      "D:\\anaconda3\\lib\\site-packages\\xlsxwriter\\worksheet.py:1179: UserWarning: Ignoring URL 'https://m.place.naver.com/my/5efe294815c4bcd43058d4f3/review?v=2' since it exceeds Excel's limit of 65,530 URLS per worksheet.\n",
      "  warn(\"Ignoring URL '%s' since it exceeds Excel's limit of \"\n",
      "D:\\anaconda3\\lib\\site-packages\\xlsxwriter\\worksheet.py:1179: UserWarning: Ignoring URL 'https://m.place.naver.com/my/5f04cfe1ad3c22327acc057a/review?v=2' since it exceeds Excel's limit of 65,530 URLS per worksheet.\n",
      "  warn(\"Ignoring URL '%s' since it exceeds Excel's limit of \"\n",
      "D:\\anaconda3\\lib\\site-packages\\xlsxwriter\\worksheet.py:1179: UserWarning: Ignoring URL 'https://m.place.naver.com/my/5bc1a9e182a6be136ff073f9/review?v=2' since it exceeds Excel's limit of 65,530 URLS per worksheet.\n",
      "  warn(\"Ignoring URL '%s' since it exceeds Excel's limit of \"\n",
      "D:\\anaconda3\\lib\\site-packages\\xlsxwriter\\worksheet.py:1179: UserWarning: Ignoring URL 'https://m.place.naver.com/my/5ddbeedf9ec8258e4a59d06f/review?v=2' since it exceeds Excel's limit of 65,530 URLS per worksheet.\n",
      "  warn(\"Ignoring URL '%s' since it exceeds Excel's limit of \"\n",
      "D:\\anaconda3\\lib\\site-packages\\xlsxwriter\\worksheet.py:1179: UserWarning: Ignoring URL 'https://m.place.naver.com/my/5daf08908f87a842bc60fe0e/review?v=2' since it exceeds Excel's limit of 65,530 URLS per worksheet.\n",
      "  warn(\"Ignoring URL '%s' since it exceeds Excel's limit of \"\n",
      "D:\\anaconda3\\lib\\site-packages\\xlsxwriter\\worksheet.py:1179: UserWarning: Ignoring URL 'https://m.place.naver.com/my/61e95bd3e799fd06c65fda5b/review?v=2' since it exceeds Excel's limit of 65,530 URLS per worksheet.\n",
      "  warn(\"Ignoring URL '%s' since it exceeds Excel's limit of \"\n",
      "D:\\anaconda3\\lib\\site-packages\\xlsxwriter\\worksheet.py:1179: UserWarning: Ignoring URL 'https://m.place.naver.com/my/5efebd6da7f1cdd89feef424/review?v=2' since it exceeds Excel's limit of 65,530 URLS per worksheet.\n",
      "  warn(\"Ignoring URL '%s' since it exceeds Excel's limit of \"\n",
      "D:\\anaconda3\\lib\\site-packages\\xlsxwriter\\worksheet.py:1179: UserWarning: Ignoring URL 'https://m.place.naver.com/my/5ef9167d8f87a842bc3ddbab/review?v=2' since it exceeds Excel's limit of 65,530 URLS per worksheet.\n",
      "  warn(\"Ignoring URL '%s' since it exceeds Excel's limit of \"\n",
      "D:\\anaconda3\\lib\\site-packages\\xlsxwriter\\worksheet.py:1179: UserWarning: Ignoring URL 'https://m.place.naver.com/my/609f5ff31955c7586ad37264/review?v=2' since it exceeds Excel's limit of 65,530 URLS per worksheet.\n",
      "  warn(\"Ignoring URL '%s' since it exceeds Excel's limit of \"\n",
      "D:\\anaconda3\\lib\\site-packages\\xlsxwriter\\worksheet.py:1179: UserWarning: Ignoring URL 'https://m.place.naver.com/my/5b7ac8e08f0e84c5d1082199/review?v=2' since it exceeds Excel's limit of 65,530 URLS per worksheet.\n",
      "  warn(\"Ignoring URL '%s' since it exceeds Excel's limit of \"\n",
      "D:\\anaconda3\\lib\\site-packages\\xlsxwriter\\worksheet.py:1179: UserWarning: Ignoring URL 'https://m.place.naver.com/my/5fc76f9a014346ab869b4a9e/review?v=2' since it exceeds Excel's limit of 65,530 URLS per worksheet.\n",
      "  warn(\"Ignoring URL '%s' since it exceeds Excel's limit of \"\n",
      "D:\\anaconda3\\lib\\site-packages\\xlsxwriter\\worksheet.py:1179: UserWarning: Ignoring URL 'https://m.place.naver.com/my/5dd25cdb8f87a842bceee93f/review?v=2' since it exceeds Excel's limit of 65,530 URLS per worksheet.\n",
      "  warn(\"Ignoring URL '%s' since it exceeds Excel's limit of \"\n",
      "D:\\anaconda3\\lib\\site-packages\\xlsxwriter\\worksheet.py:1179: UserWarning: Ignoring URL 'https://m.place.naver.com/my/5eaf93388f87a842bcff575a/review?v=2' since it exceeds Excel's limit of 65,530 URLS per worksheet.\n",
      "  warn(\"Ignoring URL '%s' since it exceeds Excel's limit of \"\n",
      "D:\\anaconda3\\lib\\site-packages\\xlsxwriter\\worksheet.py:1179: UserWarning: Ignoring URL 'https://m.place.naver.com/my/5cba48630e88cd4859b3570a/review?v=2' since it exceeds Excel's limit of 65,530 URLS per worksheet.\n",
      "  warn(\"Ignoring URL '%s' since it exceeds Excel's limit of \"\n",
      "D:\\anaconda3\\lib\\site-packages\\xlsxwriter\\worksheet.py:1179: UserWarning: Ignoring URL 'https://m.place.naver.com/my/6199847899f7ae04a0af8efd/review?v=2' since it exceeds Excel's limit of 65,530 URLS per worksheet.\n",
      "  warn(\"Ignoring URL '%s' since it exceeds Excel's limit of \"\n",
      "D:\\anaconda3\\lib\\site-packages\\xlsxwriter\\worksheet.py:1179: UserWarning: Ignoring URL 'https://m.place.naver.com/my/5f0515f5c9a73b9ae399c1c9/review?v=2' since it exceeds Excel's limit of 65,530 URLS per worksheet.\n",
      "  warn(\"Ignoring URL '%s' since it exceeds Excel's limit of \"\n",
      "D:\\anaconda3\\lib\\site-packages\\xlsxwriter\\worksheet.py:1179: UserWarning: Ignoring URL 'https://m.place.naver.com/my/60512a8d7a3ec9fc3bd59dec/review?v=2' since it exceeds Excel's limit of 65,530 URLS per worksheet.\n",
      "  warn(\"Ignoring URL '%s' since it exceeds Excel's limit of \"\n",
      "D:\\anaconda3\\lib\\site-packages\\xlsxwriter\\worksheet.py:1179: UserWarning: Ignoring URL 'https://m.place.naver.com/my/5d6f33a78f87a842bcdcfcf9/review?v=2' since it exceeds Excel's limit of 65,530 URLS per worksheet.\n",
      "  warn(\"Ignoring URL '%s' since it exceeds Excel's limit of \"\n",
      "D:\\anaconda3\\lib\\site-packages\\xlsxwriter\\worksheet.py:1179: UserWarning: Ignoring URL 'https://m.place.naver.com/my/5bacba5364de2c280e273ab9/review?v=2' since it exceeds Excel's limit of 65,530 URLS per worksheet.\n",
      "  warn(\"Ignoring URL '%s' since it exceeds Excel's limit of \"\n",
      "D:\\anaconda3\\lib\\site-packages\\xlsxwriter\\worksheet.py:1179: UserWarning: Ignoring URL 'https://m.place.naver.com/my/5ba9a3d77fdeed0579577d60/review?v=2' since it exceeds Excel's limit of 65,530 URLS per worksheet.\n",
      "  warn(\"Ignoring URL '%s' since it exceeds Excel's limit of \"\n",
      "D:\\anaconda3\\lib\\site-packages\\xlsxwriter\\worksheet.py:1179: UserWarning: Ignoring URL 'https://m.place.naver.com/my/61f8aeefbb375c1248dd0bee/review?v=2' since it exceeds Excel's limit of 65,530 URLS per worksheet.\n",
      "  warn(\"Ignoring URL '%s' since it exceeds Excel's limit of \"\n",
      "D:\\anaconda3\\lib\\site-packages\\xlsxwriter\\worksheet.py:1179: UserWarning: Ignoring URL 'https://m.place.naver.com/my/60dacc624e07bcfeac916899/review?v=2' since it exceeds Excel's limit of 65,530 URLS per worksheet.\n",
      "  warn(\"Ignoring URL '%s' since it exceeds Excel's limit of \"\n",
      "D:\\anaconda3\\lib\\site-packages\\xlsxwriter\\worksheet.py:1179: UserWarning: Ignoring URL 'https://m.place.naver.com/my/5e65c8948f87a842bcc19d67/review?v=2' since it exceeds Excel's limit of 65,530 URLS per worksheet.\n",
      "  warn(\"Ignoring URL '%s' since it exceeds Excel's limit of \"\n",
      "D:\\anaconda3\\lib\\site-packages\\xlsxwriter\\worksheet.py:1179: UserWarning: Ignoring URL 'https://m.place.naver.com/my/5ee18e458f87a842bcefce9a/review?v=2' since it exceeds Excel's limit of 65,530 URLS per worksheet.\n",
      "  warn(\"Ignoring URL '%s' since it exceeds Excel's limit of \"\n"
     ]
    }
   ],
   "source": [
    "main_frm3 = main_3.crawling_review_loop()"
   ]
  },
  {
   "cell_type": "code",
   "execution_count": null,
   "id": "511ec184",
   "metadata": {},
   "outputs": [],
   "source": []
  },
  {
   "cell_type": "code",
   "execution_count": null,
   "id": "c71a27cb",
   "metadata": {},
   "outputs": [],
   "source": []
  },
  {
   "cell_type": "code",
   "execution_count": null,
   "id": "521aac1e",
   "metadata": {},
   "outputs": [],
   "source": []
  },
  {
   "cell_type": "code",
   "execution_count": null,
   "id": "967c91d8",
   "metadata": {},
   "outputs": [],
   "source": []
  },
  {
   "cell_type": "code",
   "execution_count": null,
   "id": "7d092a62",
   "metadata": {},
   "outputs": [],
   "source": []
  },
  {
   "cell_type": "code",
   "execution_count": null,
   "id": "8a8a1454",
   "metadata": {},
   "outputs": [],
   "source": []
  },
  {
   "cell_type": "code",
   "execution_count": null,
   "id": "dfed80b6",
   "metadata": {},
   "outputs": [],
   "source": []
  },
  {
   "cell_type": "code",
   "execution_count": null,
   "id": "9bfe71d0",
   "metadata": {},
   "outputs": [],
   "source": []
  },
  {
   "cell_type": "code",
   "execution_count": null,
   "id": "d6455c98",
   "metadata": {},
   "outputs": [],
   "source": []
  },
  {
   "cell_type": "code",
   "execution_count": 260,
   "id": "c3f79900",
   "metadata": {},
   "outputs": [
    {
     "name": "stdout",
     "output_type": "stream",
     "text": [
      "현재 크롤링이 진행중인 검색어 : 봉플라봉뱅\n"
     ]
    }
   ],
   "source": [
    "def iframe_finder(iframe_id) :\n",
    "    wait = WebDriverWait(driver, 10)\n",
    "    driver.switch_to.default_content()\n",
    "    # self.iframe\n",
    "    iframe = wait.until(EC.presence_of_element_located((By.ID, iframe_id)))\n",
    "    driver.switch_to.frame(iframe)\n",
    "def is_action_successful(driver):\n",
    "    try:\n",
    "        wait = WebDriverWait(driver, 3)\n",
    "        wait.until(EC.visibility_of_element_located((By.CLASS_NAME, \"N_KDL\")))\n",
    "        return True\n",
    "    except:\n",
    "        return False\n",
    "# 1. 식당이름 입력\n",
    "# 2. iframe searchIframe 변경\n",
    "# 3. 페이지에 식당이 있는지 확인\n",
    "# 4. 내가 찾으려는 식당 주소와 검색해서 나온 식당 주소 비교 \n",
    "# 5. 찾았다면 클릭\n",
    "\n",
    "# Chrome headless 설정\n",
    "options = Options()\n",
    "# options.add_argument('--headless')\n",
    "\n",
    "# 드라이버 생성\n",
    "driver = webdriver.Chrome(service=Service(ChromeDriverManager().install()), options=options)\n",
    "\n",
    "# name = '연화양꼬치'\n",
    "# name = '맛깔참죽신제주점'\n",
    "# name = '커피마마제주연동점'\n",
    "# name = '삼성혈해물탕'\n",
    "# name = '순창갈비'\n",
    "# name = '스톤아일랜드탭하우스'\n",
    "# name = '진낙지앤'\n",
    "# name = '토크쇼코스모스점'\n",
    "name = '봉플라봉뱅'\n",
    "# 리뷰 페이지 열기\n",
    "print(f'현재 크롤링이 진행중인 검색어 : {name}')\n",
    "\n",
    "url = f\"https://map.naver.com/v5/search/{name}\"\n",
    "\n",
    "driver.get(url)\n",
    "\n",
    "wait = WebDriverWait(driver, 10)\n",
    "\n",
    "# iframe_finder('searchIframe')\n",
    "iframe_finder('entryIframe')"
   ]
  },
  {
   "cell_type": "code",
   "execution_count": 228,
   "id": "070a8848",
   "metadata": {},
   "outputs": [
    {
     "data": {
      "text/html": [
       "<div>\n",
       "<style scoped>\n",
       "    .dataframe tbody tr th:only-of-type {\n",
       "        vertical-align: middle;\n",
       "    }\n",
       "\n",
       "    .dataframe tbody tr th {\n",
       "        vertical-align: top;\n",
       "    }\n",
       "\n",
       "    .dataframe thead th {\n",
       "        text-align: right;\n",
       "    }\n",
       "</style>\n",
       "<table border=\"1\" class=\"dataframe\">\n",
       "  <thead>\n",
       "    <tr style=\"text-align: right;\">\n",
       "      <th></th>\n",
       "      <th>리뷰</th>\n",
       "      <th>리뷰이미지url</th>\n",
       "      <th>작성자프로필</th>\n",
       "      <th>My플레이스</th>\n",
       "      <th>작성자이름</th>\n",
       "      <th>리뷰작성수</th>\n",
       "      <th>리뷰작성일</th>\n",
       "      <th>식당방문수</th>\n",
       "      <th>리뷰인증방식</th>\n",
       "    </tr>\n",
       "  </thead>\n",
       "  <tbody>\n",
       "    <tr>\n",
       "      <th>0</th>\n",
       "      <td>None</td>\n",
       "      <td>None</td>\n",
       "      <td>None</td>\n",
       "      <td>None</td>\n",
       "      <td>None</td>\n",
       "      <td>None</td>\n",
       "      <td>None</td>\n",
       "      <td>None</td>\n",
       "      <td>None</td>\n",
       "    </tr>\n",
       "    <tr>\n",
       "      <th>1</th>\n",
       "      <td>None</td>\n",
       "      <td>None</td>\n",
       "      <td>None</td>\n",
       "      <td>None</td>\n",
       "      <td>None</td>\n",
       "      <td>None</td>\n",
       "      <td>None</td>\n",
       "      <td>None</td>\n",
       "      <td>None</td>\n",
       "    </tr>\n",
       "    <tr>\n",
       "      <th>2</th>\n",
       "      <td>None</td>\n",
       "      <td>None</td>\n",
       "      <td>None</td>\n",
       "      <td>None</td>\n",
       "      <td>None</td>\n",
       "      <td>None</td>\n",
       "      <td>None</td>\n",
       "      <td>None</td>\n",
       "      <td>None</td>\n",
       "    </tr>\n",
       "  </tbody>\n",
       "</table>\n",
       "</div>"
      ],
      "text/plain": [
       "     리뷰 리뷰이미지url 작성자프로필 My플레이스 작성자이름 리뷰작성수 리뷰작성일 식당방문수 리뷰인증방식\n",
       "0  None     None   None   None  None  None  None  None   None\n",
       "1  None     None   None   None  None  None  None  None   None\n",
       "2  None     None   None   None  None  None  None  None   None"
      ]
     },
     "execution_count": 228,
     "metadata": {},
     "output_type": "execute_result"
    }
   ],
   "source": [
    "testdf"
   ]
  },
  {
   "cell_type": "code",
   "execution_count": 152,
   "id": "df89304b",
   "metadata": {},
   "outputs": [
    {
     "data": {
      "text/html": [
       "<div>\n",
       "<style scoped>\n",
       "    .dataframe tbody tr th:only-of-type {\n",
       "        vertical-align: middle;\n",
       "    }\n",
       "\n",
       "    .dataframe tbody tr th {\n",
       "        vertical-align: top;\n",
       "    }\n",
       "\n",
       "    .dataframe thead th {\n",
       "        text-align: right;\n",
       "    }\n",
       "</style>\n",
       "<table border=\"1\" class=\"dataframe\">\n",
       "  <thead>\n",
       "    <tr style=\"text-align: right;\">\n",
       "      <th></th>\n",
       "      <th>a</th>\n",
       "      <th>b</th>\n",
       "      <th>c</th>\n",
       "    </tr>\n",
       "  </thead>\n",
       "  <tbody>\n",
       "    <tr>\n",
       "      <th>0</th>\n",
       "      <td>1</td>\n",
       "      <td>a</td>\n",
       "      <td>1</td>\n",
       "    </tr>\n",
       "    <tr>\n",
       "      <th>1</th>\n",
       "      <td>2</td>\n",
       "      <td>b</td>\n",
       "      <td>1</td>\n",
       "    </tr>\n",
       "    <tr>\n",
       "      <th>2</th>\n",
       "      <td>3</td>\n",
       "      <td>c</td>\n",
       "      <td>1</td>\n",
       "    </tr>\n",
       "    <tr>\n",
       "      <th>3</th>\n",
       "      <td>4</td>\n",
       "      <td>c</td>\n",
       "      <td>1</td>\n",
       "    </tr>\n",
       "    <tr>\n",
       "      <th>4</th>\n",
       "      <td>5</td>\n",
       "      <td>d</td>\n",
       "      <td>1</td>\n",
       "    </tr>\n",
       "  </tbody>\n",
       "</table>\n",
       "</div>"
      ],
      "text/plain": [
       "   a  b  c\n",
       "0  1  a  1\n",
       "1  2  b  1\n",
       "2  3  c  1\n",
       "3  4  c  1\n",
       "4  5  d  1"
      ]
     },
     "execution_count": 152,
     "metadata": {},
     "output_type": "execute_result"
    }
   ],
   "source": [
    "import pandas as pd\n",
    "\n",
    "a = [1,2,3,4,5]\n",
    "b = ['a','b','c','c','d']\n",
    "\n",
    "ab = pd.DataFrame({'a':a , 'b' : b})\n",
    "ab['c'] = 1\n",
    "ab"
   ]
  },
  {
   "cell_type": "code",
   "execution_count": null,
   "id": "21d2ba0f",
   "metadata": {},
   "outputs": [],
   "source": []
  },
  {
   "cell_type": "code",
   "execution_count": null,
   "id": "41e57de2",
   "metadata": {},
   "outputs": [],
   "source": []
  },
  {
   "cell_type": "code",
   "execution_count": 156,
   "id": "2bb26e39",
   "metadata": {},
   "outputs": [],
   "source": [
    "def find_img_url(rest_img) :\n",
    "    rest_img_urls = []\n",
    "    for stylejs_parent in rest_img :\n",
    "        stylejs = stylejs_parent.find_element(by = By.CSS_SELECTOR , value = 'a > .K0PDV._img.fKa0W')\n",
    "        #print('stylejs = ' , stylejs)\n",
    "        url_test_data = stylejs.get_attribute('style')\n",
    "        #print('data = ' , url_test_data)\n",
    "        url_find_num = url_test_data.find('url(\"')\n",
    "\n",
    "        if 'jpg' in url_test_data :\n",
    "            url_find_num_end = url_test_data.find('jpg')\n",
    "        elif 'jpe' in url_test_data :\n",
    "            url_find_num_end = url_test_data.find('peg')\n",
    "        else :\n",
    "            url_find_num_end = url_test_data.find('.\")')\n",
    "\n",
    "        rest_img_url = url_test_data[url_find_num + 5 : url_find_num_end+3]\n",
    "\n",
    "        if rest_img_url != '' :\n",
    "            rest_img_urls.append(rest_img_url)\n",
    "\n",
    "    return rest_img_urls\n",
    "\n",
    "\n",
    "\n",
    "\n",
    "iframe_finder('entryIframe')\n",
    "review_text = []\n",
    "review_image = []\n",
    "\n",
    "review_all = driver.find_elements(by=By.CLASS_NAME , value = 'YeINN')\n",
    "for review_once in review_all :\n",
    "    \n",
    "    rest_txt_case01 = review_once.find_elements(by=By.CLASS_NAME , value = 'ZZ4OK.IwhtZ > a > .zPfVt')\n",
    "    rest_txt_case02 = review_once.find_elements(by=By.CLASS_NAME , value = 'ZZ4OK > a > .zPfVt')\n",
    "    \n",
    "    rest_img_case01 = review_once.find_elements(by=By.CLASS_NAME , \n",
    "                  value = 'Mmpzx > .ngGKH > .flicking-viewport > .flicking-camera > .ODalI')\n",
    "    rest_img_case02 = review_once.find_elements(by=By.CLASS_NAME , \n",
    "                  value = 'Mmpzx.jQTnr > .ngGKH > .flicking-viewport > .flicking-camera > .ODalI')\n",
    "    \n",
    "    if len(rest_txt_case01) != 0 :\n",
    "        review_text.append(rest_txt_case01[0].text)\n",
    "    elif len(rest_txt_case02) != 0 :\n",
    "        review_text.append(rest_txt_case02[0].text)\n",
    "    else :\n",
    "        review_text.append('')\n",
    "        pass\n",
    "        \n",
    "    if len(rest_img_case01) != 0 :\n",
    "        RIU = find_img_url(rest_img_case01)\n",
    "        review_image.append(RIU)\n",
    "    elif len(rest_img_case02) != 0 :\n",
    "        RIU = find_img_url(rest_img_case02)\n",
    "        review_image.append(RIU)\n",
    "    else :\n",
    "        review_image.append('') "
   ]
  },
  {
   "cell_type": "code",
   "execution_count": 157,
   "id": "7ce94c38",
   "metadata": {},
   "outputs": [
    {
     "data": {
      "text/plain": [
       "10"
      ]
     },
     "execution_count": 157,
     "metadata": {},
     "output_type": "execute_result"
    }
   ],
   "source": [
    "len(review_text)"
   ]
  },
  {
   "cell_type": "code",
   "execution_count": 154,
   "id": "4d4563bf",
   "metadata": {},
   "outputs": [
    {
     "data": {
      "text/plain": [
       "10"
      ]
     },
     "execution_count": 154,
     "metadata": {},
     "output_type": "execute_result"
    }
   ],
   "source": [
    "len(review_image)"
   ]
  },
  {
   "cell_type": "code",
   "execution_count": null,
   "id": "f2387fd2",
   "metadata": {},
   "outputs": [],
   "source": []
  },
  {
   "cell_type": "code",
   "execution_count": 266,
   "id": "db533e0a",
   "metadata": {},
   "outputs": [
    {
     "data": {
      "text/plain": [
       "[<selenium.webdriver.remote.webelement.WebElement (session=\"dcb7d9a010164a651f2c315766af1332\", element=\"B13258A6BBD44DFFD6F51C6BC2378CF7_element_532\")>,\n",
       " <selenium.webdriver.remote.webelement.WebElement (session=\"dcb7d9a010164a651f2c315766af1332\", element=\"B13258A6BBD44DFFD6F51C6BC2378CF7_element_533\")>,\n",
       " <selenium.webdriver.remote.webelement.WebElement (session=\"dcb7d9a010164a651f2c315766af1332\", element=\"B13258A6BBD44DFFD6F51C6BC2378CF7_element_534\")>,\n",
       " <selenium.webdriver.remote.webelement.WebElement (session=\"dcb7d9a010164a651f2c315766af1332\", element=\"B13258A6BBD44DFFD6F51C6BC2378CF7_element_535\")>]"
      ]
     },
     "execution_count": 266,
     "metadata": {},
     "output_type": "execute_result"
    }
   ],
   "source": [
    "YeINN_tag[53].find_elements(by=By.CLASS_NAME , value='sb8UA > span')"
   ]
  },
  {
   "cell_type": "code",
   "execution_count": 261,
   "id": "9446ca09",
   "metadata": {},
   "outputs": [],
   "source": [
    "# 닉네임 프로필 리뷰 수 사진 수 팔로워 수 가져오기\n",
    "# 부모 태그\n",
    "YeINN_tag = driver.find_elements(by=By.CLASS_NAME , value = 'YeINN')"
   ]
  },
  {
   "cell_type": "code",
   "execution_count": 179,
   "id": "545c5d41",
   "metadata": {},
   "outputs": [
    {
     "data": {
      "text/plain": [
       "'https://g-place.pstatic.net/assets/shared/images/icon_default_profile.png'"
      ]
     },
     "execution_count": 179,
     "metadata": {},
     "output_type": "execute_result"
    }
   ],
   "source": [
    "# 작성자 프로필 사진\n",
    "profile = YeINN_tag[0].find_element(by=By.CLASS_NAME , value ='DqSJm > .place_thumb > img')\n",
    "profile.get_attribute('src')"
   ]
  },
  {
   "cell_type": "code",
   "execution_count": 209,
   "id": "625b20f4",
   "metadata": {},
   "outputs": [
    {
     "data": {
      "text/plain": [
       "'https://m.place.naver.com/my/5da1f4ea8f87a842bc92ceed/review?v=2'"
      ]
     },
     "execution_count": 209,
     "metadata": {},
     "output_type": "execute_result"
    }
   ],
   "source": [
    "# 작성자 MY플레이스\n",
    "my_place = YeINN_tag[0].find_element(by=By.CLASS_NAME , value ='Hazns')\n",
    "my_place.get_attribute('href')"
   ]
  },
  {
   "cell_type": "code",
   "execution_count": 182,
   "id": "803dd015",
   "metadata": {},
   "outputs": [
    {
     "data": {
      "text/plain": [
       "'쥴리지아니'"
      ]
     },
     "execution_count": 182,
     "metadata": {},
     "output_type": "execute_result"
    }
   ],
   "source": [
    "# 작성자 닉네임\n",
    "nickname = YeINN_tag[0].find_element(by=By.CLASS_NAME , value ='Hazns > .sBWyy')\n",
    "nickname.text"
   ]
  },
  {
   "cell_type": "code",
   "execution_count": 212,
   "id": "32415f65",
   "metadata": {},
   "outputs": [
    {
     "data": {
      "text/plain": [
       "['리뷰 419', '사진 725', '팔로워 46']"
      ]
     },
     "execution_count": 212,
     "metadata": {},
     "output_type": "execute_result"
    }
   ],
   "source": [
    "# 작성자 리뷰 사진 팔로워 수\n",
    "reviewer_info = YeINN_tag[0].find_elements(by=By.CLASS_NAME , value ='Hazns > .Qde7Q > .P1zUJ')\n",
    "reviewer_info_text_lst = []\n",
    "\n",
    "if len(reviewer_info) != 0 :\n",
    "    for reviewer_info_text in reviewer_info :\n",
    "            #print(reviewer_info_text.text)\n",
    "            reviewer_info_text_lst.append(reviewer_info_text.text)\n",
    "else : \n",
    "    pass\n",
    "reviewer_info_text_lst"
   ]
  },
  {
   "cell_type": "code",
   "execution_count": 190,
   "id": "06cb74dc",
   "metadata": {},
   "outputs": [],
   "source": [
    "# 작성일자, 방문 횟수 가져오기"
   ]
  },
  {
   "cell_type": "code",
   "execution_count": 264,
   "id": "dc143aaf",
   "metadata": {},
   "outputs": [
    {
     "data": {
      "text/plain": [
       "'2021년 4월 28일 수요일'"
      ]
     },
     "execution_count": 264,
     "metadata": {},
     "output_type": "execute_result"
    }
   ],
   "source": [
    "# 작성일자\n",
    "review_date = YeINN_tag[53].find_elements(by=By.CLASS_NAME , value ='sb8UA > .P1zUJ > .place_blind')\n",
    "review_date[2].text"
   ]
  },
  {
   "cell_type": "code",
   "execution_count": 207,
   "id": "3a8322ca",
   "metadata": {},
   "outputs": [
    {
     "data": {
      "text/plain": [
       "'1번째 방문'"
      ]
     },
     "execution_count": 207,
     "metadata": {},
     "output_type": "execute_result"
    }
   ],
   "source": [
    "# 방문 횟수\n",
    "review_visit_count = YeINN_tag[0].find_elements(by=By.CLASS_NAME , value ='sb8UA > .P1zUJ')\n",
    "review_visit_count[1].text"
   ]
  },
  {
   "cell_type": "code",
   "execution_count": null,
   "id": "893110cc",
   "metadata": {},
   "outputs": [],
   "source": []
  },
  {
   "cell_type": "code",
   "execution_count": null,
   "id": "8049af30",
   "metadata": {},
   "outputs": [],
   "source": []
  },
  {
   "cell_type": "code",
   "execution_count": null,
   "id": "4e174a1b",
   "metadata": {},
   "outputs": [],
   "source": []
  },
  {
   "cell_type": "code",
   "execution_count": null,
   "id": "956f08ba",
   "metadata": {},
   "outputs": [],
   "source": []
  },
  {
   "cell_type": "code",
   "execution_count": null,
   "id": "8b8f0c7f",
   "metadata": {},
   "outputs": [],
   "source": []
  },
  {
   "cell_type": "code",
   "execution_count": null,
   "id": "de3296a4",
   "metadata": {},
   "outputs": [],
   "source": []
  },
  {
   "cell_type": "code",
   "execution_count": null,
   "id": "407f11ef",
   "metadata": {},
   "outputs": [],
   "source": []
  },
  {
   "cell_type": "code",
   "execution_count": null,
   "id": "9285e0d9",
   "metadata": {},
   "outputs": [],
   "source": []
  },
  {
   "cell_type": "code",
   "execution_count": null,
   "id": "f4662609",
   "metadata": {},
   "outputs": [],
   "source": []
  },
  {
   "cell_type": "code",
   "execution_count": null,
   "id": "eeea65d3",
   "metadata": {},
   "outputs": [],
   "source": []
  },
  {
   "cell_type": "code",
   "execution_count": null,
   "id": "bcd6d081",
   "metadata": {},
   "outputs": [],
   "source": []
  },
  {
   "cell_type": "code",
   "execution_count": null,
   "id": "d87e3324",
   "metadata": {},
   "outputs": [],
   "source": []
  }
 ],
 "metadata": {
  "kernelspec": {
   "display_name": "Python 3 (ipykernel)",
   "language": "python",
   "name": "python3"
  },
  "language_info": {
   "codemirror_mode": {
    "name": "ipython",
    "version": 3
   },
   "file_extension": ".py",
   "mimetype": "text/x-python",
   "name": "python",
   "nbconvert_exporter": "python",
   "pygments_lexer": "ipython3",
   "version": "3.10.9"
  }
 },
 "nbformat": 4,
 "nbformat_minor": 5
}
