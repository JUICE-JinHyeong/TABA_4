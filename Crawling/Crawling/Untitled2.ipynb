{
 "cells": [
  {
   "cell_type": "code",
   "execution_count": 1,
   "id": "f946ccce",
   "metadata": {},
   "outputs": [],
   "source": [
    "from selenium.webdriver.chrome.service import Service\n",
    "from webdriver_manager.chrome import ChromeDriverManager\n",
    "from selenium import webdriver\n",
    "from selenium.webdriver.chrome.options import Options\n",
    "import subprocess\n",
    "import shutil\n",
    "from selenium.webdriver.common.by import By\n",
    "import pandas as pd\n",
    "import time\n",
    "\n",
    "from selenium.webdriver.support.ui import WebDriverWait\n",
    "from selenium.webdriver.support import expected_conditions as EC\n",
    "\n",
    "# 셀레니움 신버전 크롬 드라이버 패키지\n",
    "\n",
    "from selenium.webdriver.chrome.service import Service\n",
    "from webdriver_manager.chrome import ChromeDriverManager\n",
    "\n",
    "from selenium.webdriver.common.keys import Keys\n",
    "# 진행률\n",
    "from tqdm.notebook import tqdm\n",
    "import re\n",
    "import os"
   ]
  },
  {
   "cell_type": "code",
   "execution_count": 2,
   "id": "33f49a1d",
   "metadata": {},
   "outputs": [
    {
     "name": "stdout",
     "output_type": "stream",
     "text": [
      "현재 크롤링이 진행중인 검색어 : 삼성혈해물탕\n"
     ]
    }
   ],
   "source": [
    "def iframe_finder(iframe_id) :\n",
    "    wait = WebDriverWait(driver, 10)\n",
    "    driver.switch_to.default_content()\n",
    "    # self.iframe\n",
    "    iframe = wait.until(EC.presence_of_element_located((By.ID, iframe_id)))\n",
    "    driver.switch_to.frame(iframe)\n",
    "def is_action_successful(driver):\n",
    "    try:\n",
    "        wait = WebDriverWait(driver, 3)\n",
    "        wait.until(EC.visibility_of_element_located((By.CLASS_NAME, \"N_KDL\")))\n",
    "        return True\n",
    "    except:\n",
    "        return False\n",
    "# 1. 식당이름 입력\n",
    "# 2. iframe searchIframe 변경\n",
    "# 3. 페이지에 식당이 있는지 확인\n",
    "# 4. 내가 찾으려는 식당 주소와 검색해서 나온 식당 주소 비교 \n",
    "# 5. 찾았다면 클릭\n",
    "\n",
    "# Chrome headless 설정\n",
    "options = Options()\n",
    "# options.add_argument('--headless')\n",
    "\n",
    "# 드라이버 생성\n",
    "driver = webdriver.Chrome(service=Service(ChromeDriverManager().install()), options=options)\n",
    "\n",
    "# name = '연화양꼬치'\n",
    "# name = '맛깔참죽신제주점'\n",
    "# name = '커피마마제주연동점'\n",
    "name = '삼성혈해물탕'\n",
    "# name = '순창갈비'\n",
    "# name = '스톤아일랜드탭하우스'\n",
    "# name = '진낙지앤'\n",
    "# name = '토크쇼코스모스점'\n",
    "# 리뷰 페이지 열기\n",
    "print(f'현재 크롤링이 진행중인 검색어 : {name}')\n",
    "\n",
    "url = f\"https://map.naver.com/v5/search/{name}\"\n",
    "\n",
    "driver.get(url)\n",
    "\n",
    "wait = WebDriverWait(driver, 10)\n",
    "\n",
    "# iframe_finder('searchIframe')\n",
    "iframe_finder('entryIframe')"
   ]
  },
  {
   "cell_type": "code",
   "execution_count": 19,
   "id": "f9db42c8",
   "metadata": {},
   "outputs": [
    {
     "name": "stdout",
     "output_type": "stream",
     "text": [
      "식당 메뉴를 가져오는 중\n",
      "홈\n",
      "소식\n",
      "메뉴 목록 저장중 1\n",
      "전복물회\n",
      "문어라면\n",
      "스페셜전복해물탕\n",
      "전복뚝배기\n",
      "문어비빔면\n",
      "알탕\n",
      "전복회비빔밥\n",
      "해물순두부\n",
      "고등어구이\n",
      "뚝배기해물우동\n",
      "한치물회\n",
      "전복라면\n",
      "문어비빔밥\n",
      "꼬치어묵우동\n",
      "해물해장라면\n",
      "메뉴 목록 저장완료\n",
      "리뷰\n",
      "사진\n"
     ]
    }
   ],
   "source": [
    "iframe_finder('entryIframe')\n",
    "try :\n",
    "    menu_lst = []\n",
    "    print('식당 메뉴를 가져오는 중')\n",
    "    time.sleep(0.3)\n",
    "    wait.until(EC.presence_of_element_located((By.CLASS_NAME, \"veBoZ\")))\n",
    "    category = driver.find_elements(by = By.CLASS_NAME , value = 'veBoZ')\n",
    "    tlst = [c.text for c in category]\n",
    "    if '메뉴' not in tlst :\n",
    "        print('no_menu_01')\n",
    "        pass\n",
    "    else :\n",
    "        time.sleep(0.2)\n",
    "        for num , tag in enumerate(category) :\n",
    "            # print(tag.text)\n",
    "            if tag.text == '메뉴' :\n",
    "                driver.find_elements(by = By.CLASS_NAME\n",
    "                                    , value = 'veBoZ')[num].click()\n",
    "                try :\n",
    "                    wait.until(EC.presence_of_element_located((By.CLASS_NAME, \"lPzHi\")))\n",
    "                    menus = driver.find_elements(by=By.CLASS_NAME \n",
    "                                      , value = 'lPzHi')\n",
    "                    print('메뉴 목록 저장중 1')\n",
    "                    for menu in menus :\n",
    "                        print(menu.text)\n",
    "                        menu_lst.append(menu.text)\n",
    "                    print('메뉴 목록 저장완료')\n",
    "                except :\n",
    "                    try :\n",
    "                        wait.until(EC.presence_of_element_located((By.CLASS_NAME, \"tit\")))\n",
    "                        menus = driver.find_elements(by=By.CLASS_NAME \n",
    "                                          , value = 'tit')\n",
    "                        for menu in menus :\n",
    "                            print('메뉴 목록 저장중 2')\n",
    "                            menu_lst.append(menu.text)\n",
    "                            print('메뉴 목록 저장완료')\n",
    "                    except :\n",
    "                        print('메뉴를 찾지 못하였습니다.')\n",
    "                        pass\n",
    "\n",
    "            else :\n",
    "                print(tag.text)\n",
    "                pass\n",
    "except :\n",
    "    pass\n"
   ]
  },
  {
   "cell_type": "code",
   "execution_count": 9,
   "id": "32188fa2",
   "metadata": {},
   "outputs": [],
   "source": [
    "# lPzHi\n",
    "menus = driver.find_elements(by=By.CLASS_NAME \n",
    "                                      , value = 'lPzHi')"
   ]
  },
  {
   "cell_type": "code",
   "execution_count": 15,
   "id": "91aedc5a",
   "metadata": {
    "collapsed": true
   },
   "outputs": [
    {
     "data": {
      "text/plain": [
       "[<selenium.webdriver.remote.webelement.WebElement (session=\"e4e4b4d108ba9b1cd1a48581e9f5dbe5\", element=\"18B77E0D82A44241142DEA5A2599456B_element_914\")>,\n",
       " <selenium.webdriver.remote.webelement.WebElement (session=\"e4e4b4d108ba9b1cd1a48581e9f5dbe5\", element=\"18B77E0D82A44241142DEA5A2599456B_element_919\")>,\n",
       " <selenium.webdriver.remote.webelement.WebElement (session=\"e4e4b4d108ba9b1cd1a48581e9f5dbe5\", element=\"18B77E0D82A44241142DEA5A2599456B_element_920\")>,\n",
       " <selenium.webdriver.remote.webelement.WebElement (session=\"e4e4b4d108ba9b1cd1a48581e9f5dbe5\", element=\"18B77E0D82A44241142DEA5A2599456B_element_921\")>,\n",
       " <selenium.webdriver.remote.webelement.WebElement (session=\"e4e4b4d108ba9b1cd1a48581e9f5dbe5\", element=\"18B77E0D82A44241142DEA5A2599456B_element_922\")>,\n",
       " <selenium.webdriver.remote.webelement.WebElement (session=\"e4e4b4d108ba9b1cd1a48581e9f5dbe5\", element=\"18B77E0D82A44241142DEA5A2599456B_element_923\")>,\n",
       " <selenium.webdriver.remote.webelement.WebElement (session=\"e4e4b4d108ba9b1cd1a48581e9f5dbe5\", element=\"18B77E0D82A44241142DEA5A2599456B_element_924\")>,\n",
       " <selenium.webdriver.remote.webelement.WebElement (session=\"e4e4b4d108ba9b1cd1a48581e9f5dbe5\", element=\"18B77E0D82A44241142DEA5A2599456B_element_925\")>,\n",
       " <selenium.webdriver.remote.webelement.WebElement (session=\"e4e4b4d108ba9b1cd1a48581e9f5dbe5\", element=\"18B77E0D82A44241142DEA5A2599456B_element_926\")>,\n",
       " <selenium.webdriver.remote.webelement.WebElement (session=\"e4e4b4d108ba9b1cd1a48581e9f5dbe5\", element=\"18B77E0D82A44241142DEA5A2599456B_element_927\")>,\n",
       " <selenium.webdriver.remote.webelement.WebElement (session=\"e4e4b4d108ba9b1cd1a48581e9f5dbe5\", element=\"18B77E0D82A44241142DEA5A2599456B_element_928\")>,\n",
       " <selenium.webdriver.remote.webelement.WebElement (session=\"e4e4b4d108ba9b1cd1a48581e9f5dbe5\", element=\"18B77E0D82A44241142DEA5A2599456B_element_929\")>,\n",
       " <selenium.webdriver.remote.webelement.WebElement (session=\"e4e4b4d108ba9b1cd1a48581e9f5dbe5\", element=\"18B77E0D82A44241142DEA5A2599456B_element_930\")>,\n",
       " <selenium.webdriver.remote.webelement.WebElement (session=\"e4e4b4d108ba9b1cd1a48581e9f5dbe5\", element=\"18B77E0D82A44241142DEA5A2599456B_element_931\")>,\n",
       " <selenium.webdriver.remote.webelement.WebElement (session=\"e4e4b4d108ba9b1cd1a48581e9f5dbe5\", element=\"18B77E0D82A44241142DEA5A2599456B_element_932\")>]"
      ]
     },
     "execution_count": 15,
     "metadata": {},
     "output_type": "execute_result"
    }
   ],
   "source": [
    "menus"
   ]
  },
  {
   "cell_type": "code",
   "execution_count": 20,
   "id": "2ce82cc2",
   "metadata": {},
   "outputs": [
    {
     "name": "stdout",
     "output_type": "stream",
     "text": [
      "전복물회\n",
      "문어라면\n",
      "스페셜전복해물탕\n",
      "전복뚝배기\n",
      "문어비빔면\n",
      "알탕\n",
      "전복회비빔밥\n",
      "해물순두부\n",
      "고등어구이\n",
      "뚝배기해물우동\n",
      "한치물회\n",
      "전복라면\n",
      "문어비빔밥\n",
      "꼬치어묵우동\n",
      "해물해장라면\n"
     ]
    }
   ],
   "source": [
    "for menu in menus :\n",
    "    # print('메뉴 목록 저장중 1')\n",
    "    print(menu.text)\n",
    "    # print('메뉴 목록 저장완료')"
   ]
  },
  {
   "cell_type": "code",
   "execution_count": 37,
   "id": "7c49edc0",
   "metadata": {},
   "outputs": [
    {
     "name": "stdout",
     "output_type": "stream",
     "text": [
      "식당 정보를 가져오는 중입니다.\n",
      "주소\n",
      "서울 영등포구 여의대로 108\n",
      "5여의나루역 1번 출구에서426m\n",
      "--------------------------------------------------\n",
      "서울 영등포구 여의대로 108\n",
      "5여의나루역 1번 출구에서426m\n",
      "영업시간\n",
      "10:30에 영업 시작\n",
      "10시 30분에 영업 시작\n",
      "--------------------------------------------------\n",
      "02-3277-0766\n",
      "--------------------------------------------------\n",
      "편의\n",
      "단체석, 주차, 발렛파킹, 포장, 배달, 예약, 무선 인터넷, 남/녀 화장실 구분\n",
      "--------------------------------------------------\n",
      "설명\n",
      "제주에서 줄서서 먹는 19년 맛집입니다 서울에 서는 여의도 현대백화점에 입점하여 단골손님과 맛집을 찾는 손님들이 자주 찾아주십니다 ...\n",
      "--------------------------------------------------\n",
      "정보 수정 제안\n",
      "정보 수정 제안하기\n",
      "--------------------------------------------------\n"
     ]
    }
   ],
   "source": [
    "pattern1 = r'(접기|오늘 휴무|펼쳐보기|복사|내용 더보기|영업 중|안내\\n복사|영업 종료|이용시간을 알려주세요.)'\n",
    "pattern1_plus = r'(사장님, 플레이스를\\n무료로 직접 관리하세요!\\n권한 받기|영업시간 정보 수정\\n|\\n추가)'\n",
    "pattern2 = r'\\n(2,)'\n",
    "pattern3 = r'\\n\\n'\n",
    "append_df = pd.DataFrame(columns = ['id' , '사업장명' , '종류' , '주소' , '찾아가는길', '영업시간' \n",
    "                                     , '편의' , '설명' ,'전화번호' , '기타' , '이미지url'])\n",
    "        \n",
    "iframe_finder('entryIframe')\n",
    "n=0\n",
    "# try :\n",
    "#             iframe_finder(driver,'entryIframe')\n",
    "print('식당 정보를 가져오는 중입니다.')\n",
    "wait.until(EC.presence_of_element_located((By.CLASS_NAME, \"PIbes\")))\n",
    "time.sleep(0.2)\n",
    "review_information = driver.find_elements(by = By.CLASS_NAME , value = 'PIbes > div')\n",
    "# 식당 정보 가져오기\n",
    "for t in review_information :\n",
    "# print(t.text)\n",
    "# print(n)\n",
    "# 정규표현식으로 데이터 정리\n",
    "    text = re.sub(pattern1, \"\", t.text)\n",
    "    text = re.sub(pattern1_plus, \"\", text)\n",
    "    text = re.sub(pattern2, \"\", text)\n",
    "    text = re.sub(pattern3, \"\\n\", text)\n",
    "    text = text.rstrip('\\n')\n",
    "    print(text)\n",
    "    # print(text)\n",
    "    # print()\n",
    "    n += 1\n",
    "    print('-'*50)\n",
    "    if text != '' :\n",
    "        if '주소' in text :\n",
    "            text = re.sub('주소\\n', \"\", text)\n",
    "            print(text)\n",
    "            append_df['주소'] = [text]\n",
    "            # address = text\n",
    "        elif '찾아가는길' in text :\n",
    "            text = re.sub('찾아가는길\\n', \"\", text)\n",
    "            append_df['찾아가는길'] = [text]\n",
    "            # where = text\n",
    "        elif '영업시간' in text :\n",
    "            text = re.sub('영업시간\\n', \"\", text)\n",
    "            append_df['영업시간'] = [text]\n",
    "            # opcd = text\n",
    "        elif '064' in text :\n",
    "            text = re.sub('전화번호\\n', \"\", text)\n",
    "            append_df['전화번호'] = [text]\n",
    "            # tel = text\n",
    "        elif '050' in text :\n",
    "            text = re.sub('전화번호\\n', \"\", text)\n",
    "            append_df['전화번호'] = [text]\n",
    "            # tel = text\n",
    "        elif '편의' in text :\n",
    "            text = re.sub('편의\\n', \"\", text)\n",
    "            append_df['편의'] = [text]\n",
    "            # convi = text\n",
    "        elif '설명' in text :\n",
    "            text = re.sub('설명\\n', \"\", text)\n",
    "            append_df['설명'] = [text]\n",
    "            # explain = text\n",
    "        else :\n",
    "            append_df['기타'] = [text]\n",
    "            # other = text\n",
    "    else : \n",
    "        print('fail')\n",
    "        pass\n",
    "    # lst.append(text)\n",
    "    # except :\n",
    "    #     print('식당 정보를 가져오지 못했습니다.')\n",
    "    #     pass\n",
    "    # print('식당 정보 가져오기 종료')\n"
   ]
  },
  {
   "cell_type": "code",
   "execution_count": 38,
   "id": "6576b1f2",
   "metadata": {},
   "outputs": [
    {
     "data": {
      "text/html": [
       "<div>\n",
       "<style scoped>\n",
       "    .dataframe tbody tr th:only-of-type {\n",
       "        vertical-align: middle;\n",
       "    }\n",
       "\n",
       "    .dataframe tbody tr th {\n",
       "        vertical-align: top;\n",
       "    }\n",
       "\n",
       "    .dataframe thead th {\n",
       "        text-align: right;\n",
       "    }\n",
       "</style>\n",
       "<table border=\"1\" class=\"dataframe\">\n",
       "  <thead>\n",
       "    <tr style=\"text-align: right;\">\n",
       "      <th></th>\n",
       "      <th>id</th>\n",
       "      <th>사업장명</th>\n",
       "      <th>종류</th>\n",
       "      <th>주소</th>\n",
       "      <th>찾아가는길</th>\n",
       "      <th>영업시간</th>\n",
       "      <th>편의</th>\n",
       "      <th>설명</th>\n",
       "      <th>전화번호</th>\n",
       "      <th>기타</th>\n",
       "      <th>이미지url</th>\n",
       "    </tr>\n",
       "  </thead>\n",
       "  <tbody>\n",
       "    <tr>\n",
       "      <th>0</th>\n",
       "      <td>NaN</td>\n",
       "      <td>NaN</td>\n",
       "      <td>NaN</td>\n",
       "      <td>서울 영등포구 여의대로 108\\n5여의나루역 1번 출구에서426m</td>\n",
       "      <td>NaN</td>\n",
       "      <td>10:30에 영업 시작\\n10시 30분에 영업 시작</td>\n",
       "      <td>단체석, 주차, 발렛파킹, 포장, 배달, 예약, 무선 인터넷, 남/녀 화장실 구분</td>\n",
       "      <td>제주에서 줄서서 먹는 19년 맛집입니다 서울에 서는 여의도 현대백화점에 입점하여 단...</td>\n",
       "      <td>NaN</td>\n",
       "      <td>정보 수정 제안\\n정보 수정 제안하기</td>\n",
       "      <td>NaN</td>\n",
       "    </tr>\n",
       "  </tbody>\n",
       "</table>\n",
       "</div>"
      ],
      "text/plain": [
       "    id 사업장명   종류                                    주소 찾아가는길  \\\n",
       "0  NaN  NaN  NaN  서울 영등포구 여의대로 108\\n5여의나루역 1번 출구에서426m   NaN   \n",
       "\n",
       "                           영업시간  \\\n",
       "0  10:30에 영업 시작\\n10시 30분에 영업 시작   \n",
       "\n",
       "                                              편의  \\\n",
       "0  단체석, 주차, 발렛파킹, 포장, 배달, 예약, 무선 인터넷, 남/녀 화장실 구분   \n",
       "\n",
       "                                                  설명 전화번호  \\\n",
       "0  제주에서 줄서서 먹는 19년 맛집입니다 서울에 서는 여의도 현대백화점에 입점하여 단...  NaN   \n",
       "\n",
       "                     기타 이미지url  \n",
       "0  정보 수정 제안\\n정보 수정 제안하기    NaN  "
      ]
     },
     "execution_count": 38,
     "metadata": {},
     "output_type": "execute_result"
    }
   ],
   "source": [
    "append_df"
   ]
  },
  {
   "cell_type": "code",
   "execution_count": 30,
   "id": "ec27c8e8",
   "metadata": {},
   "outputs": [
    {
     "data": {
      "text/plain": [
       "'주소\\n서울 영등포구 여의대로 108\\n5여의나루역 1번 출구에서426m'"
      ]
     },
     "execution_count": 30,
     "metadata": {},
     "output_type": "execute_result"
    }
   ],
   "source": [
    "driver.find_elements(by = By.CLASS_NAME , value = 'PIbes > div')[0].text"
   ]
  },
  {
   "cell_type": "code",
   "execution_count": 39,
   "id": "c9fa009d",
   "metadata": {},
   "outputs": [
    {
     "data": {
      "text/plain": [
       "'매운탕,해물탕'"
      ]
     },
     "execution_count": 39,
     "metadata": {},
     "output_type": "execute_result"
    }
   ],
   "source": [
    "driver.find_element(by=By.CLASS_NAME , value = \"DJJvD\").text"
   ]
  },
  {
   "cell_type": "code",
   "execution_count": 42,
   "id": "83141baf",
   "metadata": {},
   "outputs": [
    {
     "name": "stdout",
     "output_type": "stream",
     "text": [
      "식당의 종류를 가져오는 중입니다.\n",
      "식당 종류 :  매운탕,해물탕\n",
      "식당의 종류 가져오기 종료\n"
     ]
    }
   ],
   "source": [
    "  \n",
    "print('식당의 종류를 가져오는 중입니다.')\n",
    "wait.until(EC.presence_of_element_located((By.CLASS_NAME , \"DJJvD\")))\n",
    "time.sleep(0.2)\n",
    "rest_kind = driver.find_element(by=By.CLASS_NAME , value = \"DJJvD\").text\n",
    "kind = rest_kind\n",
    "print('식당 종류 : ' , kind)\n",
    "\n",
    "\n",
    "print('식당의 종류 가져오기 종료')"
   ]
  }
 ],
 "metadata": {
  "kernelspec": {
   "display_name": "Python 3 (ipykernel)",
   "language": "python",
   "name": "python3"
  },
  "language_info": {
   "codemirror_mode": {
    "name": "ipython",
    "version": 3
   },
   "file_extension": ".py",
   "mimetype": "text/x-python",
   "name": "python",
   "nbconvert_exporter": "python",
   "pygments_lexer": "ipython3",
   "version": "3.9.13"
  }
 },
 "nbformat": 4,
 "nbformat_minor": 5
}
