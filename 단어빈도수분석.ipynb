{
 "cells": [
  {
   "cell_type": "code",
   "execution_count": null,
   "id": "fcde3ebb-f5fe-46ed-9711-e4190eca7f31",
   "metadata": {},
   "outputs": [],
   "source": [
    "# youngho/nare\n",
    "\n",
    "import pyodbc\n",
    "\n",
    "DSNNAME = \"Tibero6\"\n",
    "DBUSER = \"youngho\"\n",
    "DBPWD = \"nare\"\n",
    "\n",
    "cnxn = pyodbc.connect('DSN='+DSNNAME+';UID='+DBUSER+';PWD='+DBPWD)\n",
    "cursor = cnxn.cursor()\n",
    "cursor.execute(\"SELECT REST_NAME from REST_INFO;\")\n",
    "\n",
    "# 1개 row만 가져오기\n",
    "row = cursor.fetchone()\n",
    "# 모든 row 가져오기\n",
    "# row = cursor.fetchall()\n",
    "while row :\n",
    "    print(row[0])\n",
    "    row = cursor.fetchone()\n",
    "    # row = cursor.fetchall()\n",
    "\n",
    "cnxn.commit()\n",
    "cnxn.close()"
   ]
  }
 ],
 "metadata": {
  "kernelspec": {
   "display_name": "Python 3 (ipykernel)",
   "language": "python",
   "name": "python3"
  },
  "language_info": {
   "codemirror_mode": {
    "name": "ipython",
    "version": 3
   },
   "file_extension": ".py",
   "mimetype": "text/x-python",
   "name": "python",
   "nbconvert_exporter": "python",
   "pygments_lexer": "ipython3",
   "version": "3.10.9"
  }
 },
 "nbformat": 4,
 "nbformat_minor": 5
}
